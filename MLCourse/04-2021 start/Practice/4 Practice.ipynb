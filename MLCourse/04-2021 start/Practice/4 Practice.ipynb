{
 "cells": [
  {
   "cell_type": "code",
   "execution_count": null,
   "id": "f5a04e84",
   "metadata": {},
   "outputs": [],
   "source": [
    "* Подключение к базе данных\n",
    "* Numpy\n",
    "* Перевод массивов dataframe в Numpy\n",
    "* Работа с формой массивов\n",
    "* Работа с индексами\n",
    "* Работа матрицами\n",
    "\n"
   ]
  },
  {
   "cell_type": "code",
   "execution_count": 49,
   "id": "1901a8ad",
   "metadata": {},
   "outputs": [],
   "source": [
    "import pandas as pd"
   ]
  },
  {
   "cell_type": "code",
   "execution_count": 46,
   "id": "1a7ab6bf",
   "metadata": {},
   "outputs": [
    {
     "data": {
      "text/html": [
       "<div>\n",
       "<style scoped>\n",
       "    .dataframe tbody tr th:only-of-type {\n",
       "        vertical-align: middle;\n",
       "    }\n",
       "\n",
       "    .dataframe tbody tr th {\n",
       "        vertical-align: top;\n",
       "    }\n",
       "\n",
       "    .dataframe thead th {\n",
       "        text-align: right;\n",
       "    }\n",
       "</style>\n",
       "<table border=\"1\" class=\"dataframe\">\n",
       "  <thead>\n",
       "    <tr style=\"text-align: right;\">\n",
       "      <th></th>\n",
       "      <th>client_id</th>\n",
       "      <th>Name</th>\n",
       "      <th>Surname</th>\n",
       "    </tr>\n",
       "  </thead>\n",
       "  <tbody>\n",
       "    <tr>\n",
       "      <th>0</th>\n",
       "      <td>1</td>\n",
       "      <td>Ivan</td>\n",
       "      <td>A</td>\n",
       "    </tr>\n",
       "    <tr>\n",
       "      <th>1</th>\n",
       "      <td>2</td>\n",
       "      <td>Andrey</td>\n",
       "      <td>B</td>\n",
       "    </tr>\n",
       "    <tr>\n",
       "      <th>2</th>\n",
       "      <td>3</td>\n",
       "      <td>Mikhail</td>\n",
       "      <td>C</td>\n",
       "    </tr>\n",
       "    <tr>\n",
       "      <th>3</th>\n",
       "      <td>4</td>\n",
       "      <td>Alice</td>\n",
       "      <td>D</td>\n",
       "    </tr>\n",
       "    <tr>\n",
       "      <th>4</th>\n",
       "      <td>5</td>\n",
       "      <td>Olga</td>\n",
       "      <td>E</td>\n",
       "    </tr>\n",
       "  </tbody>\n",
       "</table>\n",
       "</div>"
      ],
      "text/plain": [
       "  client_id     Name Surname\n",
       "0         1     Ivan       A\n",
       "1         2   Andrey       B\n",
       "2         3  Mikhail       C\n",
       "3         4    Alice       D\n",
       "4         5     Olga       E"
      ]
     },
     "execution_count": 46,
     "metadata": {},
     "output_type": "execute_result"
    }
   ],
   "source": [
    "data1 = {\n",
    "        'client_id': ['1', '2', '3', '4', '5'],\n",
    "        'Name': ['Ivan', 'Andrey', 'Mikhail', 'Alice', 'Olga'], \n",
    "        'Surname': ['A', 'B', 'C', 'D', 'E']}\n",
    "df_a = pd.DataFrame(data1, columns = ['client_id', 'Name', 'Surname'])\n",
    "df_a"
   ]
  },
  {
   "cell_type": "code",
   "execution_count": 47,
   "id": "8bcf27de",
   "metadata": {},
   "outputs": [
    {
     "data": {
      "text/html": [
       "<div>\n",
       "<style scoped>\n",
       "    .dataframe tbody tr th:only-of-type {\n",
       "        vertical-align: middle;\n",
       "    }\n",
       "\n",
       "    .dataframe tbody tr th {\n",
       "        vertical-align: top;\n",
       "    }\n",
       "\n",
       "    .dataframe thead th {\n",
       "        text-align: right;\n",
       "    }\n",
       "</style>\n",
       "<table border=\"1\" class=\"dataframe\">\n",
       "  <thead>\n",
       "    <tr style=\"text-align: right;\">\n",
       "      <th></th>\n",
       "      <th>client_id</th>\n",
       "      <th>Name</th>\n",
       "      <th>Surname</th>\n",
       "    </tr>\n",
       "  </thead>\n",
       "  <tbody>\n",
       "    <tr>\n",
       "      <th>0</th>\n",
       "      <td>4</td>\n",
       "      <td>Dima</td>\n",
       "      <td>F</td>\n",
       "    </tr>\n",
       "    <tr>\n",
       "      <th>1</th>\n",
       "      <td>5</td>\n",
       "      <td>Fedor</td>\n",
       "      <td>G</td>\n",
       "    </tr>\n",
       "    <tr>\n",
       "      <th>2</th>\n",
       "      <td>6</td>\n",
       "      <td>Maxim</td>\n",
       "      <td>H</td>\n",
       "    </tr>\n",
       "    <tr>\n",
       "      <th>3</th>\n",
       "      <td>7</td>\n",
       "      <td>Sergey</td>\n",
       "      <td>I</td>\n",
       "    </tr>\n",
       "    <tr>\n",
       "      <th>4</th>\n",
       "      <td>8</td>\n",
       "      <td>Vladimir</td>\n",
       "      <td>J</td>\n",
       "    </tr>\n",
       "  </tbody>\n",
       "</table>\n",
       "</div>"
      ],
      "text/plain": [
       "  client_id      Name Surname\n",
       "0         4      Dima       F\n",
       "1         5     Fedor       G\n",
       "2         6     Maxim       H\n",
       "3         7    Sergey       I\n",
       "4         8  Vladimir       J"
      ]
     },
     "execution_count": 47,
     "metadata": {},
     "output_type": "execute_result"
    }
   ],
   "source": [
    "data2 = {\n",
    "        'client_id': ['4', '5', '6', '7', '8'],\n",
    "        'Name': ['Dima', 'Fedor', 'Maxim', 'Sergey', 'Vladimir'], \n",
    "        'Surname': ['F', 'G', 'H', 'I', 'J']}\n",
    "df_b = pd.DataFrame(data2, columns = ['client_id', 'Name', 'Surname'])\n",
    "df_b"
   ]
  },
  {
   "cell_type": "code",
   "execution_count": null,
   "id": "36c98535",
   "metadata": {},
   "outputs": [],
   "source": []
  },
  {
   "cell_type": "code",
   "execution_count": 52,
   "id": "df6fe51f",
   "metadata": {},
   "outputs": [
    {
     "data": {
      "text/html": [
       "<div>\n",
       "<style scoped>\n",
       "    .dataframe tbody tr th:only-of-type {\n",
       "        vertical-align: middle;\n",
       "    }\n",
       "\n",
       "    .dataframe tbody tr th {\n",
       "        vertical-align: top;\n",
       "    }\n",
       "\n",
       "    .dataframe thead th {\n",
       "        text-align: right;\n",
       "    }\n",
       "</style>\n",
       "<table border=\"1\" class=\"dataframe\">\n",
       "  <thead>\n",
       "    <tr style=\"text-align: right;\">\n",
       "      <th></th>\n",
       "      <th>client_id</th>\n",
       "      <th>Name</th>\n",
       "      <th>Surname</th>\n",
       "    </tr>\n",
       "  </thead>\n",
       "  <tbody>\n",
       "    <tr>\n",
       "      <th>0</th>\n",
       "      <td>1</td>\n",
       "      <td>Ivan</td>\n",
       "      <td>A</td>\n",
       "    </tr>\n",
       "    <tr>\n",
       "      <th>1</th>\n",
       "      <td>2</td>\n",
       "      <td>Andrey</td>\n",
       "      <td>B</td>\n",
       "    </tr>\n",
       "    <tr>\n",
       "      <th>2</th>\n",
       "      <td>3</td>\n",
       "      <td>Mikhail</td>\n",
       "      <td>C</td>\n",
       "    </tr>\n",
       "    <tr>\n",
       "      <th>3</th>\n",
       "      <td>4</td>\n",
       "      <td>Alice</td>\n",
       "      <td>D</td>\n",
       "    </tr>\n",
       "    <tr>\n",
       "      <th>4</th>\n",
       "      <td>5</td>\n",
       "      <td>Olga</td>\n",
       "      <td>E</td>\n",
       "    </tr>\n",
       "    <tr>\n",
       "      <th>5</th>\n",
       "      <td>4</td>\n",
       "      <td>Dima</td>\n",
       "      <td>F</td>\n",
       "    </tr>\n",
       "    <tr>\n",
       "      <th>6</th>\n",
       "      <td>5</td>\n",
       "      <td>Fedor</td>\n",
       "      <td>G</td>\n",
       "    </tr>\n",
       "    <tr>\n",
       "      <th>7</th>\n",
       "      <td>6</td>\n",
       "      <td>Maxim</td>\n",
       "      <td>H</td>\n",
       "    </tr>\n",
       "    <tr>\n",
       "      <th>8</th>\n",
       "      <td>7</td>\n",
       "      <td>Sergey</td>\n",
       "      <td>I</td>\n",
       "    </tr>\n",
       "    <tr>\n",
       "      <th>9</th>\n",
       "      <td>8</td>\n",
       "      <td>Vladimir</td>\n",
       "      <td>J</td>\n",
       "    </tr>\n",
       "  </tbody>\n",
       "</table>\n",
       "</div>"
      ],
      "text/plain": [
       "  client_id      Name Surname\n",
       "0         1      Ivan       A\n",
       "1         2    Andrey       B\n",
       "2         3   Mikhail       C\n",
       "3         4     Alice       D\n",
       "4         5      Olga       E\n",
       "5         4      Dima       F\n",
       "6         5     Fedor       G\n",
       "7         6     Maxim       H\n",
       "8         7    Sergey       I\n",
       "9         8  Vladimir       J"
      ]
     },
     "execution_count": 52,
     "metadata": {},
     "output_type": "execute_result"
    }
   ],
   "source": [
    "pd.concat([df_a, df_b], ignore_index=True)"
   ]
  },
  {
   "cell_type": "code",
   "execution_count": 53,
   "id": "2188e9cd",
   "metadata": {},
   "outputs": [
    {
     "data": {
      "text/html": [
       "<div>\n",
       "<style scoped>\n",
       "    .dataframe tbody tr th:only-of-type {\n",
       "        vertical-align: middle;\n",
       "    }\n",
       "\n",
       "    .dataframe tbody tr th {\n",
       "        vertical-align: top;\n",
       "    }\n",
       "\n",
       "    .dataframe thead th {\n",
       "        text-align: right;\n",
       "    }\n",
       "</style>\n",
       "<table border=\"1\" class=\"dataframe\">\n",
       "  <thead>\n",
       "    <tr style=\"text-align: right;\">\n",
       "      <th></th>\n",
       "      <th>client_id</th>\n",
       "      <th>Name</th>\n",
       "      <th>Surname</th>\n",
       "    </tr>\n",
       "  </thead>\n",
       "  <tbody>\n",
       "    <tr>\n",
       "      <th>0</th>\n",
       "      <td>1</td>\n",
       "      <td>Ivan</td>\n",
       "      <td>A</td>\n",
       "    </tr>\n",
       "    <tr>\n",
       "      <th>1</th>\n",
       "      <td>2</td>\n",
       "      <td>Andrey</td>\n",
       "      <td>B</td>\n",
       "    </tr>\n",
       "    <tr>\n",
       "      <th>2</th>\n",
       "      <td>3</td>\n",
       "      <td>Mikhail</td>\n",
       "      <td>C</td>\n",
       "    </tr>\n",
       "    <tr>\n",
       "      <th>3</th>\n",
       "      <td>4</td>\n",
       "      <td>Alice</td>\n",
       "      <td>D</td>\n",
       "    </tr>\n",
       "    <tr>\n",
       "      <th>4</th>\n",
       "      <td>5</td>\n",
       "      <td>Olga</td>\n",
       "      <td>E</td>\n",
       "    </tr>\n",
       "    <tr>\n",
       "      <th>5</th>\n",
       "      <td>4</td>\n",
       "      <td>Dima</td>\n",
       "      <td>F</td>\n",
       "    </tr>\n",
       "    <tr>\n",
       "      <th>6</th>\n",
       "      <td>5</td>\n",
       "      <td>Fedor</td>\n",
       "      <td>G</td>\n",
       "    </tr>\n",
       "    <tr>\n",
       "      <th>7</th>\n",
       "      <td>6</td>\n",
       "      <td>Maxim</td>\n",
       "      <td>H</td>\n",
       "    </tr>\n",
       "    <tr>\n",
       "      <th>8</th>\n",
       "      <td>7</td>\n",
       "      <td>Sergey</td>\n",
       "      <td>I</td>\n",
       "    </tr>\n",
       "    <tr>\n",
       "      <th>9</th>\n",
       "      <td>8</td>\n",
       "      <td>Vladimir</td>\n",
       "      <td>J</td>\n",
       "    </tr>\n",
       "  </tbody>\n",
       "</table>\n",
       "</div>"
      ],
      "text/plain": [
       "  client_id      Name Surname\n",
       "0         1      Ivan       A\n",
       "1         2    Andrey       B\n",
       "2         3   Mikhail       C\n",
       "3         4     Alice       D\n",
       "4         5      Olga       E\n",
       "5         4      Dima       F\n",
       "6         5     Fedor       G\n",
       "7         6     Maxim       H\n",
       "8         7    Sergey       I\n",
       "9         8  Vladimir       J"
      ]
     },
     "execution_count": 53,
     "metadata": {},
     "output_type": "execute_result"
    }
   ],
   "source": [
    "pd.concat([df_a, df_b], ignore_index=True, axis=0)"
   ]
  },
  {
   "cell_type": "code",
   "execution_count": 54,
   "id": "019c0c4c",
   "metadata": {},
   "outputs": [
    {
     "data": {
      "text/html": [
       "<div>\n",
       "<style scoped>\n",
       "    .dataframe tbody tr th:only-of-type {\n",
       "        vertical-align: middle;\n",
       "    }\n",
       "\n",
       "    .dataframe tbody tr th {\n",
       "        vertical-align: top;\n",
       "    }\n",
       "\n",
       "    .dataframe thead th {\n",
       "        text-align: right;\n",
       "    }\n",
       "</style>\n",
       "<table border=\"1\" class=\"dataframe\">\n",
       "  <thead>\n",
       "    <tr style=\"text-align: right;\">\n",
       "      <th></th>\n",
       "      <th>0</th>\n",
       "      <th>1</th>\n",
       "      <th>2</th>\n",
       "      <th>3</th>\n",
       "      <th>4</th>\n",
       "      <th>5</th>\n",
       "    </tr>\n",
       "  </thead>\n",
       "  <tbody>\n",
       "    <tr>\n",
       "      <th>0</th>\n",
       "      <td>1</td>\n",
       "      <td>Ivan</td>\n",
       "      <td>A</td>\n",
       "      <td>4</td>\n",
       "      <td>Dima</td>\n",
       "      <td>F</td>\n",
       "    </tr>\n",
       "    <tr>\n",
       "      <th>1</th>\n",
       "      <td>2</td>\n",
       "      <td>Andrey</td>\n",
       "      <td>B</td>\n",
       "      <td>5</td>\n",
       "      <td>Fedor</td>\n",
       "      <td>G</td>\n",
       "    </tr>\n",
       "    <tr>\n",
       "      <th>2</th>\n",
       "      <td>3</td>\n",
       "      <td>Mikhail</td>\n",
       "      <td>C</td>\n",
       "      <td>6</td>\n",
       "      <td>Maxim</td>\n",
       "      <td>H</td>\n",
       "    </tr>\n",
       "    <tr>\n",
       "      <th>3</th>\n",
       "      <td>4</td>\n",
       "      <td>Alice</td>\n",
       "      <td>D</td>\n",
       "      <td>7</td>\n",
       "      <td>Sergey</td>\n",
       "      <td>I</td>\n",
       "    </tr>\n",
       "    <tr>\n",
       "      <th>4</th>\n",
       "      <td>5</td>\n",
       "      <td>Olga</td>\n",
       "      <td>E</td>\n",
       "      <td>8</td>\n",
       "      <td>Vladimir</td>\n",
       "      <td>J</td>\n",
       "    </tr>\n",
       "  </tbody>\n",
       "</table>\n",
       "</div>"
      ],
      "text/plain": [
       "   0        1  2  3         4  5\n",
       "0  1     Ivan  A  4      Dima  F\n",
       "1  2   Andrey  B  5     Fedor  G\n",
       "2  3  Mikhail  C  6     Maxim  H\n",
       "3  4    Alice  D  7    Sergey  I\n",
       "4  5     Olga  E  8  Vladimir  J"
      ]
     },
     "execution_count": 54,
     "metadata": {},
     "output_type": "execute_result"
    }
   ],
   "source": [
    "pd.concat([df_a, df_b], ignore_index=True, axis=1)"
   ]
  },
  {
   "cell_type": "code",
   "execution_count": null,
   "id": "9126c2f9",
   "metadata": {},
   "outputs": [],
   "source": []
  },
  {
   "cell_type": "code",
   "execution_count": null,
   "id": "9e15c619",
   "metadata": {},
   "outputs": [],
   "source": []
  },
  {
   "cell_type": "code",
   "execution_count": null,
   "id": "fe683c6b",
   "metadata": {},
   "outputs": [],
   "source": [
    "pd.concat , index true false, axis 0, axis 1\n",
    "pd.merge , suffixes, left, right, inner, outer, left, right"
   ]
  },
  {
   "cell_type": "code",
   "execution_count": 55,
   "id": "864a2591",
   "metadata": {},
   "outputs": [
    {
     "data": {
      "text/html": [
       "<div>\n",
       "<style scoped>\n",
       "    .dataframe tbody tr th:only-of-type {\n",
       "        vertical-align: middle;\n",
       "    }\n",
       "\n",
       "    .dataframe tbody tr th {\n",
       "        vertical-align: top;\n",
       "    }\n",
       "\n",
       "    .dataframe thead th {\n",
       "        text-align: right;\n",
       "    }\n",
       "</style>\n",
       "<table border=\"1\" class=\"dataframe\">\n",
       "  <thead>\n",
       "    <tr style=\"text-align: right;\">\n",
       "      <th></th>\n",
       "      <th>client_id</th>\n",
       "      <th>product_id</th>\n",
       "    </tr>\n",
       "  </thead>\n",
       "  <tbody>\n",
       "    <tr>\n",
       "      <th>0</th>\n",
       "      <td>1</td>\n",
       "      <td>51</td>\n",
       "    </tr>\n",
       "    <tr>\n",
       "      <th>1</th>\n",
       "      <td>2</td>\n",
       "      <td>15</td>\n",
       "    </tr>\n",
       "    <tr>\n",
       "      <th>2</th>\n",
       "      <td>3</td>\n",
       "      <td>15</td>\n",
       "    </tr>\n",
       "    <tr>\n",
       "      <th>3</th>\n",
       "      <td>4</td>\n",
       "      <td>61</td>\n",
       "    </tr>\n",
       "    <tr>\n",
       "      <th>4</th>\n",
       "      <td>5</td>\n",
       "      <td>16</td>\n",
       "    </tr>\n",
       "    <tr>\n",
       "      <th>5</th>\n",
       "      <td>7</td>\n",
       "      <td>14</td>\n",
       "    </tr>\n",
       "    <tr>\n",
       "      <th>6</th>\n",
       "      <td>8</td>\n",
       "      <td>15</td>\n",
       "    </tr>\n",
       "    <tr>\n",
       "      <th>7</th>\n",
       "      <td>9</td>\n",
       "      <td>1</td>\n",
       "    </tr>\n",
       "    <tr>\n",
       "      <th>8</th>\n",
       "      <td>10</td>\n",
       "      <td>61</td>\n",
       "    </tr>\n",
       "    <tr>\n",
       "      <th>9</th>\n",
       "      <td>11</td>\n",
       "      <td>16</td>\n",
       "    </tr>\n",
       "  </tbody>\n",
       "</table>\n",
       "</div>"
      ],
      "text/plain": [
       "  client_id  product_id\n",
       "0         1          51\n",
       "1         2          15\n",
       "2         3          15\n",
       "3         4          61\n",
       "4         5          16\n",
       "5         7          14\n",
       "6         8          15\n",
       "7         9           1\n",
       "8        10          61\n",
       "9        11          16"
      ]
     },
     "execution_count": 55,
     "metadata": {},
     "output_type": "execute_result"
    }
   ],
   "source": [
    "data3 = {\n",
    "        'client_id': ['1', '2', '3', '4', '5', '7', '8', '9', '10', '11'],\n",
    "        'product_id': [51, 15, 15, 61, 16, 14, 15, 1, 61, 16]}\n",
    "df_c = pd.DataFrame(data3, columns = ['client_id','product_id'])\n",
    "df_c"
   ]
  },
  {
   "cell_type": "code",
   "execution_count": 57,
   "id": "532b8ba5",
   "metadata": {},
   "outputs": [
    {
     "data": {
      "text/html": [
       "<div>\n",
       "<style scoped>\n",
       "    .dataframe tbody tr th:only-of-type {\n",
       "        vertical-align: middle;\n",
       "    }\n",
       "\n",
       "    .dataframe tbody tr th {\n",
       "        vertical-align: top;\n",
       "    }\n",
       "\n",
       "    .dataframe thead th {\n",
       "        text-align: right;\n",
       "    }\n",
       "</style>\n",
       "<table border=\"1\" class=\"dataframe\">\n",
       "  <thead>\n",
       "    <tr style=\"text-align: right;\">\n",
       "      <th></th>\n",
       "      <th>client_id</th>\n",
       "      <th>Name</th>\n",
       "      <th>Surname</th>\n",
       "      <th>product_id</th>\n",
       "    </tr>\n",
       "  </thead>\n",
       "  <tbody>\n",
       "    <tr>\n",
       "      <th>0</th>\n",
       "      <td>1</td>\n",
       "      <td>Ivan</td>\n",
       "      <td>A</td>\n",
       "      <td>51</td>\n",
       "    </tr>\n",
       "    <tr>\n",
       "      <th>1</th>\n",
       "      <td>2</td>\n",
       "      <td>Andrey</td>\n",
       "      <td>B</td>\n",
       "      <td>15</td>\n",
       "    </tr>\n",
       "    <tr>\n",
       "      <th>2</th>\n",
       "      <td>3</td>\n",
       "      <td>Mikhail</td>\n",
       "      <td>C</td>\n",
       "      <td>15</td>\n",
       "    </tr>\n",
       "    <tr>\n",
       "      <th>3</th>\n",
       "      <td>4</td>\n",
       "      <td>Alice</td>\n",
       "      <td>D</td>\n",
       "      <td>61</td>\n",
       "    </tr>\n",
       "    <tr>\n",
       "      <th>4</th>\n",
       "      <td>5</td>\n",
       "      <td>Olga</td>\n",
       "      <td>E</td>\n",
       "      <td>16</td>\n",
       "    </tr>\n",
       "  </tbody>\n",
       "</table>\n",
       "</div>"
      ],
      "text/plain": [
       "  client_id     Name Surname  product_id\n",
       "0         1     Ivan       A          51\n",
       "1         2   Andrey       B          15\n",
       "2         3  Mikhail       C          15\n",
       "3         4    Alice       D          61\n",
       "4         5     Olga       E          16"
      ]
     },
     "execution_count": 57,
     "metadata": {},
     "output_type": "execute_result"
    }
   ],
   "source": [
    "pd.merge(df_a, df_c, on='client_id')"
   ]
  },
  {
   "cell_type": "code",
   "execution_count": 58,
   "id": "77a11733",
   "metadata": {},
   "outputs": [
    {
     "data": {
      "text/html": [
       "<div>\n",
       "<style scoped>\n",
       "    .dataframe tbody tr th:only-of-type {\n",
       "        vertical-align: middle;\n",
       "    }\n",
       "\n",
       "    .dataframe tbody tr th {\n",
       "        vertical-align: top;\n",
       "    }\n",
       "\n",
       "    .dataframe thead th {\n",
       "        text-align: right;\n",
       "    }\n",
       "</style>\n",
       "<table border=\"1\" class=\"dataframe\">\n",
       "  <thead>\n",
       "    <tr style=\"text-align: right;\">\n",
       "      <th></th>\n",
       "      <th>client_id</th>\n",
       "      <th>Name</th>\n",
       "      <th>Surname</th>\n",
       "      <th>product_id</th>\n",
       "    </tr>\n",
       "  </thead>\n",
       "  <tbody>\n",
       "    <tr>\n",
       "      <th>0</th>\n",
       "      <td>1</td>\n",
       "      <td>Ivan</td>\n",
       "      <td>A</td>\n",
       "      <td>51</td>\n",
       "    </tr>\n",
       "    <tr>\n",
       "      <th>1</th>\n",
       "      <td>2</td>\n",
       "      <td>Andrey</td>\n",
       "      <td>B</td>\n",
       "      <td>15</td>\n",
       "    </tr>\n",
       "    <tr>\n",
       "      <th>2</th>\n",
       "      <td>3</td>\n",
       "      <td>Mikhail</td>\n",
       "      <td>C</td>\n",
       "      <td>15</td>\n",
       "    </tr>\n",
       "    <tr>\n",
       "      <th>3</th>\n",
       "      <td>4</td>\n",
       "      <td>Alice</td>\n",
       "      <td>D</td>\n",
       "      <td>61</td>\n",
       "    </tr>\n",
       "    <tr>\n",
       "      <th>4</th>\n",
       "      <td>5</td>\n",
       "      <td>Olga</td>\n",
       "      <td>E</td>\n",
       "      <td>16</td>\n",
       "    </tr>\n",
       "  </tbody>\n",
       "</table>\n",
       "</div>"
      ],
      "text/plain": [
       "  client_id     Name Surname  product_id\n",
       "0         1     Ivan       A          51\n",
       "1         2   Andrey       B          15\n",
       "2         3  Mikhail       C          15\n",
       "3         4    Alice       D          61\n",
       "4         5     Olga       E          16"
      ]
     },
     "execution_count": 58,
     "metadata": {},
     "output_type": "execute_result"
    }
   ],
   "source": [
    "pd.merge(df_a, df_c, left_on='client_id', right_on='client_id')"
   ]
  },
  {
   "cell_type": "code",
   "execution_count": null,
   "id": "9f65a615",
   "metadata": {},
   "outputs": [],
   "source": [
    "left right inner outer"
   ]
  },
  {
   "cell_type": "code",
   "execution_count": 60,
   "id": "f434d7bd",
   "metadata": {},
   "outputs": [
    {
     "data": {
      "text/html": [
       "<div>\n",
       "<style scoped>\n",
       "    .dataframe tbody tr th:only-of-type {\n",
       "        vertical-align: middle;\n",
       "    }\n",
       "\n",
       "    .dataframe tbody tr th {\n",
       "        vertical-align: top;\n",
       "    }\n",
       "\n",
       "    .dataframe thead th {\n",
       "        text-align: right;\n",
       "    }\n",
       "</style>\n",
       "<table border=\"1\" class=\"dataframe\">\n",
       "  <thead>\n",
       "    <tr style=\"text-align: right;\">\n",
       "      <th></th>\n",
       "      <th>client_id</th>\n",
       "      <th>Name</th>\n",
       "      <th>Surname</th>\n",
       "      <th>product_id</th>\n",
       "    </tr>\n",
       "  </thead>\n",
       "  <tbody>\n",
       "    <tr>\n",
       "      <th>0</th>\n",
       "      <td>1</td>\n",
       "      <td>Ivan</td>\n",
       "      <td>A</td>\n",
       "      <td>51</td>\n",
       "    </tr>\n",
       "    <tr>\n",
       "      <th>1</th>\n",
       "      <td>2</td>\n",
       "      <td>Andrey</td>\n",
       "      <td>B</td>\n",
       "      <td>15</td>\n",
       "    </tr>\n",
       "    <tr>\n",
       "      <th>2</th>\n",
       "      <td>3</td>\n",
       "      <td>Mikhail</td>\n",
       "      <td>C</td>\n",
       "      <td>15</td>\n",
       "    </tr>\n",
       "    <tr>\n",
       "      <th>3</th>\n",
       "      <td>4</td>\n",
       "      <td>Alice</td>\n",
       "      <td>D</td>\n",
       "      <td>61</td>\n",
       "    </tr>\n",
       "    <tr>\n",
       "      <th>4</th>\n",
       "      <td>5</td>\n",
       "      <td>Olga</td>\n",
       "      <td>E</td>\n",
       "      <td>16</td>\n",
       "    </tr>\n",
       "  </tbody>\n",
       "</table>\n",
       "</div>"
      ],
      "text/plain": [
       "  client_id     Name Surname  product_id\n",
       "0         1     Ivan       A          51\n",
       "1         2   Andrey       B          15\n",
       "2         3  Mikhail       C          15\n",
       "3         4    Alice       D          61\n",
       "4         5     Olga       E          16"
      ]
     },
     "execution_count": 60,
     "metadata": {},
     "output_type": "execute_result"
    }
   ],
   "source": [
    "pd.merge(df_a, df_c, on ='client_id', how='left')"
   ]
  },
  {
   "cell_type": "code",
   "execution_count": 61,
   "id": "f98e8a44",
   "metadata": {},
   "outputs": [
    {
     "data": {
      "text/html": [
       "<div>\n",
       "<style scoped>\n",
       "    .dataframe tbody tr th:only-of-type {\n",
       "        vertical-align: middle;\n",
       "    }\n",
       "\n",
       "    .dataframe tbody tr th {\n",
       "        vertical-align: top;\n",
       "    }\n",
       "\n",
       "    .dataframe thead th {\n",
       "        text-align: right;\n",
       "    }\n",
       "</style>\n",
       "<table border=\"1\" class=\"dataframe\">\n",
       "  <thead>\n",
       "    <tr style=\"text-align: right;\">\n",
       "      <th></th>\n",
       "      <th>client_id</th>\n",
       "      <th>Name</th>\n",
       "      <th>Surname</th>\n",
       "      <th>product_id</th>\n",
       "    </tr>\n",
       "  </thead>\n",
       "  <tbody>\n",
       "    <tr>\n",
       "      <th>0</th>\n",
       "      <td>1</td>\n",
       "      <td>Ivan</td>\n",
       "      <td>A</td>\n",
       "      <td>51</td>\n",
       "    </tr>\n",
       "    <tr>\n",
       "      <th>1</th>\n",
       "      <td>2</td>\n",
       "      <td>Andrey</td>\n",
       "      <td>B</td>\n",
       "      <td>15</td>\n",
       "    </tr>\n",
       "    <tr>\n",
       "      <th>2</th>\n",
       "      <td>3</td>\n",
       "      <td>Mikhail</td>\n",
       "      <td>C</td>\n",
       "      <td>15</td>\n",
       "    </tr>\n",
       "    <tr>\n",
       "      <th>3</th>\n",
       "      <td>4</td>\n",
       "      <td>Alice</td>\n",
       "      <td>D</td>\n",
       "      <td>61</td>\n",
       "    </tr>\n",
       "    <tr>\n",
       "      <th>4</th>\n",
       "      <td>5</td>\n",
       "      <td>Olga</td>\n",
       "      <td>E</td>\n",
       "      <td>16</td>\n",
       "    </tr>\n",
       "    <tr>\n",
       "      <th>5</th>\n",
       "      <td>7</td>\n",
       "      <td>NaN</td>\n",
       "      <td>NaN</td>\n",
       "      <td>14</td>\n",
       "    </tr>\n",
       "    <tr>\n",
       "      <th>6</th>\n",
       "      <td>8</td>\n",
       "      <td>NaN</td>\n",
       "      <td>NaN</td>\n",
       "      <td>15</td>\n",
       "    </tr>\n",
       "    <tr>\n",
       "      <th>7</th>\n",
       "      <td>9</td>\n",
       "      <td>NaN</td>\n",
       "      <td>NaN</td>\n",
       "      <td>1</td>\n",
       "    </tr>\n",
       "    <tr>\n",
       "      <th>8</th>\n",
       "      <td>10</td>\n",
       "      <td>NaN</td>\n",
       "      <td>NaN</td>\n",
       "      <td>61</td>\n",
       "    </tr>\n",
       "    <tr>\n",
       "      <th>9</th>\n",
       "      <td>11</td>\n",
       "      <td>NaN</td>\n",
       "      <td>NaN</td>\n",
       "      <td>16</td>\n",
       "    </tr>\n",
       "  </tbody>\n",
       "</table>\n",
       "</div>"
      ],
      "text/plain": [
       "  client_id     Name Surname  product_id\n",
       "0         1     Ivan       A          51\n",
       "1         2   Andrey       B          15\n",
       "2         3  Mikhail       C          15\n",
       "3         4    Alice       D          61\n",
       "4         5     Olga       E          16\n",
       "5         7      NaN     NaN          14\n",
       "6         8      NaN     NaN          15\n",
       "7         9      NaN     NaN           1\n",
       "8        10      NaN     NaN          61\n",
       "9        11      NaN     NaN          16"
      ]
     },
     "execution_count": 61,
     "metadata": {},
     "output_type": "execute_result"
    }
   ],
   "source": [
    "pd.merge(df_a, df_c, on ='client_id', how='right')"
   ]
  },
  {
   "cell_type": "code",
   "execution_count": 62,
   "id": "5ec4d923",
   "metadata": {},
   "outputs": [
    {
     "data": {
      "text/html": [
       "<div>\n",
       "<style scoped>\n",
       "    .dataframe tbody tr th:only-of-type {\n",
       "        vertical-align: middle;\n",
       "    }\n",
       "\n",
       "    .dataframe tbody tr th {\n",
       "        vertical-align: top;\n",
       "    }\n",
       "\n",
       "    .dataframe thead th {\n",
       "        text-align: right;\n",
       "    }\n",
       "</style>\n",
       "<table border=\"1\" class=\"dataframe\">\n",
       "  <thead>\n",
       "    <tr style=\"text-align: right;\">\n",
       "      <th></th>\n",
       "      <th>client_id</th>\n",
       "      <th>Name</th>\n",
       "      <th>Surname</th>\n",
       "      <th>product_id</th>\n",
       "    </tr>\n",
       "  </thead>\n",
       "  <tbody>\n",
       "    <tr>\n",
       "      <th>0</th>\n",
       "      <td>1</td>\n",
       "      <td>Ivan</td>\n",
       "      <td>A</td>\n",
       "      <td>51</td>\n",
       "    </tr>\n",
       "    <tr>\n",
       "      <th>1</th>\n",
       "      <td>2</td>\n",
       "      <td>Andrey</td>\n",
       "      <td>B</td>\n",
       "      <td>15</td>\n",
       "    </tr>\n",
       "    <tr>\n",
       "      <th>2</th>\n",
       "      <td>3</td>\n",
       "      <td>Mikhail</td>\n",
       "      <td>C</td>\n",
       "      <td>15</td>\n",
       "    </tr>\n",
       "    <tr>\n",
       "      <th>3</th>\n",
       "      <td>4</td>\n",
       "      <td>Alice</td>\n",
       "      <td>D</td>\n",
       "      <td>61</td>\n",
       "    </tr>\n",
       "    <tr>\n",
       "      <th>4</th>\n",
       "      <td>5</td>\n",
       "      <td>Olga</td>\n",
       "      <td>E</td>\n",
       "      <td>16</td>\n",
       "    </tr>\n",
       "  </tbody>\n",
       "</table>\n",
       "</div>"
      ],
      "text/plain": [
       "  client_id     Name Surname  product_id\n",
       "0         1     Ivan       A          51\n",
       "1         2   Andrey       B          15\n",
       "2         3  Mikhail       C          15\n",
       "3         4    Alice       D          61\n",
       "4         5     Olga       E          16"
      ]
     },
     "execution_count": 62,
     "metadata": {},
     "output_type": "execute_result"
    }
   ],
   "source": [
    "pd.merge(df_a, df_c, on ='client_id', how='inner')"
   ]
  },
  {
   "cell_type": "code",
   "execution_count": 63,
   "id": "6fec68de",
   "metadata": {},
   "outputs": [
    {
     "data": {
      "text/html": [
       "<div>\n",
       "<style scoped>\n",
       "    .dataframe tbody tr th:only-of-type {\n",
       "        vertical-align: middle;\n",
       "    }\n",
       "\n",
       "    .dataframe tbody tr th {\n",
       "        vertical-align: top;\n",
       "    }\n",
       "\n",
       "    .dataframe thead th {\n",
       "        text-align: right;\n",
       "    }\n",
       "</style>\n",
       "<table border=\"1\" class=\"dataframe\">\n",
       "  <thead>\n",
       "    <tr style=\"text-align: right;\">\n",
       "      <th></th>\n",
       "      <th>client_id</th>\n",
       "      <th>Name</th>\n",
       "      <th>Surname</th>\n",
       "      <th>product_id</th>\n",
       "    </tr>\n",
       "  </thead>\n",
       "  <tbody>\n",
       "    <tr>\n",
       "      <th>0</th>\n",
       "      <td>1</td>\n",
       "      <td>Ivan</td>\n",
       "      <td>A</td>\n",
       "      <td>51</td>\n",
       "    </tr>\n",
       "    <tr>\n",
       "      <th>1</th>\n",
       "      <td>2</td>\n",
       "      <td>Andrey</td>\n",
       "      <td>B</td>\n",
       "      <td>15</td>\n",
       "    </tr>\n",
       "    <tr>\n",
       "      <th>2</th>\n",
       "      <td>3</td>\n",
       "      <td>Mikhail</td>\n",
       "      <td>C</td>\n",
       "      <td>15</td>\n",
       "    </tr>\n",
       "    <tr>\n",
       "      <th>3</th>\n",
       "      <td>4</td>\n",
       "      <td>Alice</td>\n",
       "      <td>D</td>\n",
       "      <td>61</td>\n",
       "    </tr>\n",
       "    <tr>\n",
       "      <th>4</th>\n",
       "      <td>5</td>\n",
       "      <td>Olga</td>\n",
       "      <td>E</td>\n",
       "      <td>16</td>\n",
       "    </tr>\n",
       "    <tr>\n",
       "      <th>5</th>\n",
       "      <td>7</td>\n",
       "      <td>NaN</td>\n",
       "      <td>NaN</td>\n",
       "      <td>14</td>\n",
       "    </tr>\n",
       "    <tr>\n",
       "      <th>6</th>\n",
       "      <td>8</td>\n",
       "      <td>NaN</td>\n",
       "      <td>NaN</td>\n",
       "      <td>15</td>\n",
       "    </tr>\n",
       "    <tr>\n",
       "      <th>7</th>\n",
       "      <td>9</td>\n",
       "      <td>NaN</td>\n",
       "      <td>NaN</td>\n",
       "      <td>1</td>\n",
       "    </tr>\n",
       "    <tr>\n",
       "      <th>8</th>\n",
       "      <td>10</td>\n",
       "      <td>NaN</td>\n",
       "      <td>NaN</td>\n",
       "      <td>61</td>\n",
       "    </tr>\n",
       "    <tr>\n",
       "      <th>9</th>\n",
       "      <td>11</td>\n",
       "      <td>NaN</td>\n",
       "      <td>NaN</td>\n",
       "      <td>16</td>\n",
       "    </tr>\n",
       "  </tbody>\n",
       "</table>\n",
       "</div>"
      ],
      "text/plain": [
       "  client_id     Name Surname  product_id\n",
       "0         1     Ivan       A          51\n",
       "1         2   Andrey       B          15\n",
       "2         3  Mikhail       C          15\n",
       "3         4    Alice       D          61\n",
       "4         5     Olga       E          16\n",
       "5         7      NaN     NaN          14\n",
       "6         8      NaN     NaN          15\n",
       "7         9      NaN     NaN           1\n",
       "8        10      NaN     NaN          61\n",
       "9        11      NaN     NaN          16"
      ]
     },
     "execution_count": 63,
     "metadata": {},
     "output_type": "execute_result"
    }
   ],
   "source": [
    "pd.merge(df_a, df_c, on ='client_id', how='outer')"
   ]
  },
  {
   "cell_type": "code",
   "execution_count": null,
   "id": "e6afefaa",
   "metadata": {},
   "outputs": [],
   "source": []
  },
  {
   "cell_type": "code",
   "execution_count": null,
   "id": "98245d7c",
   "metadata": {},
   "outputs": [],
   "source": [
    "# numpy"
   ]
  },
  {
   "cell_type": "code",
   "execution_count": 64,
   "id": "ec11617e",
   "metadata": {},
   "outputs": [],
   "source": [
    "import numpy as np"
   ]
  },
  {
   "cell_type": "code",
   "execution_count": 73,
   "id": "a93450c8",
   "metadata": {},
   "outputs": [],
   "source": [
    "a = np.array([1,2,3,4])"
   ]
  },
  {
   "cell_type": "code",
   "execution_count": 66,
   "id": "f2f5abf9",
   "metadata": {},
   "outputs": [
    {
     "data": {
      "text/plain": [
       "array([1, 2, 3, 4])"
      ]
     },
     "execution_count": 66,
     "metadata": {},
     "output_type": "execute_result"
    }
   ],
   "source": [
    "a"
   ]
  },
  {
   "cell_type": "code",
   "execution_count": 67,
   "id": "839f01e5",
   "metadata": {},
   "outputs": [
    {
     "data": {
      "text/plain": [
       "numpy.ndarray"
      ]
     },
     "execution_count": 67,
     "metadata": {},
     "output_type": "execute_result"
    }
   ],
   "source": [
    "type(a)"
   ]
  },
  {
   "cell_type": "code",
   "execution_count": 69,
   "id": "15528db0",
   "metadata": {},
   "outputs": [],
   "source": [
    "a = np.array(['a',2,3,4])"
   ]
  },
  {
   "cell_type": "code",
   "execution_count": 70,
   "id": "1b11ee07",
   "metadata": {},
   "outputs": [
    {
     "data": {
      "text/plain": [
       "array(['a', '2', '3', '4'], dtype='<U21')"
      ]
     },
     "execution_count": 70,
     "metadata": {},
     "output_type": "execute_result"
    }
   ],
   "source": [
    "a"
   ]
  },
  {
   "cell_type": "code",
   "execution_count": 71,
   "id": "2d58d5a2",
   "metadata": {},
   "outputs": [],
   "source": [
    "b = np.array([1,5,3,6])"
   ]
  },
  {
   "cell_type": "code",
   "execution_count": 74,
   "id": "ad4a19fb",
   "metadata": {},
   "outputs": [
    {
     "data": {
      "text/plain": [
       "array([ 2,  7,  6, 10])"
      ]
     },
     "execution_count": 74,
     "metadata": {},
     "output_type": "execute_result"
    }
   ],
   "source": [
    "a+b"
   ]
  },
  {
   "cell_type": "code",
   "execution_count": 78,
   "id": "1d2ea1e9",
   "metadata": {},
   "outputs": [
    {
     "data": {
      "text/plain": [
       "array([0. , 0.1, 0.2, 0.3, 0.4, 0.5, 0.6, 0.7, 0.8, 0.9, 1. , 1.1, 1.2,\n",
       "       1.3, 1.4, 1.5, 1.6, 1.7, 1.8, 1.9, 2. , 2.1, 2.2, 2.3, 2.4, 2.5,\n",
       "       2.6, 2.7, 2.8, 2.9, 3. , 3.1, 3.2, 3.3, 3.4, 3.5, 3.6, 3.7, 3.8,\n",
       "       3.9, 4. , 4.1, 4.2, 4.3, 4.4, 4.5, 4.6, 4.7, 4.8, 4.9, 5. , 5.1,\n",
       "       5.2, 5.3, 5.4, 5.5, 5.6, 5.7, 5.8, 5.9, 6. , 6.1, 6.2, 6.3, 6.4,\n",
       "       6.5, 6.6, 6.7, 6.8, 6.9, 7. , 7.1, 7.2, 7.3, 7.4, 7.5, 7.6, 7.7,\n",
       "       7.8, 7.9, 8. , 8.1, 8.2, 8.3, 8.4, 8.5, 8.6, 8.7, 8.8, 8.9, 9. ,\n",
       "       9.1, 9.2, 9.3, 9.4, 9.5, 9.6, 9.7, 9.8, 9.9])"
      ]
     },
     "execution_count": 78,
     "metadata": {},
     "output_type": "execute_result"
    }
   ],
   "source": [
    "np.arange(0, 10, .1)"
   ]
  },
  {
   "cell_type": "code",
   "execution_count": 82,
   "id": "7e7971ce",
   "metadata": {},
   "outputs": [
    {
     "data": {
      "text/plain": [
       "array([ 0.  ,  1.25,  2.5 ,  3.75,  5.  ,  6.25,  7.5 ,  8.75, 10.  ])"
      ]
     },
     "execution_count": 82,
     "metadata": {},
     "output_type": "execute_result"
    }
   ],
   "source": [
    "np.linspace(0,10,9)"
   ]
  },
  {
   "cell_type": "code",
   "execution_count": 85,
   "id": "6a099c48",
   "metadata": {},
   "outputs": [
    {
     "data": {
      "text/plain": [
       "10"
      ]
     },
     "execution_count": 85,
     "metadata": {},
     "output_type": "execute_result"
    }
   ],
   "source": [
    "np.int32(10)"
   ]
  },
  {
   "cell_type": "code",
   "execution_count": 87,
   "id": "189b47c2",
   "metadata": {},
   "outputs": [
    {
     "data": {
      "text/plain": [
       "numpy.int32"
      ]
     },
     "execution_count": 87,
     "metadata": {},
     "output_type": "execute_result"
    }
   ],
   "source": []
  },
  {
   "cell_type": "code",
   "execution_count": 86,
   "id": "3b715afe",
   "metadata": {},
   "outputs": [
    {
     "data": {
      "text/plain": [
       "10"
      ]
     },
     "execution_count": 86,
     "metadata": {},
     "output_type": "execute_result"
    }
   ],
   "source": [
    "np.int64(10)"
   ]
  },
  {
   "cell_type": "code",
   "execution_count": null,
   "id": "a38ad12e",
   "metadata": {},
   "outputs": [],
   "source": []
  },
  {
   "cell_type": "code",
   "execution_count": 88,
   "id": "914cf32a",
   "metadata": {},
   "outputs": [],
   "source": [
    "a = np.zeros((3,5))"
   ]
  },
  {
   "cell_type": "code",
   "execution_count": 89,
   "id": "dde0cf11",
   "metadata": {},
   "outputs": [
    {
     "data": {
      "text/plain": [
       "array([[0., 0., 0., 0., 0.],\n",
       "       [0., 0., 0., 0., 0.],\n",
       "       [0., 0., 0., 0., 0.]])"
      ]
     },
     "execution_count": 89,
     "metadata": {},
     "output_type": "execute_result"
    }
   ],
   "source": [
    "a"
   ]
  },
  {
   "cell_type": "code",
   "execution_count": 90,
   "id": "32c3641b",
   "metadata": {},
   "outputs": [
    {
     "data": {
      "text/plain": [
       "array([[1., 1., 1., 1., 1.],\n",
       "       [1., 1., 1., 1., 1.],\n",
       "       [1., 1., 1., 1., 1.]])"
      ]
     },
     "execution_count": 90,
     "metadata": {},
     "output_type": "execute_result"
    }
   ],
   "source": [
    "a = np.ones((3,5))\n",
    "a"
   ]
  },
  {
   "cell_type": "code",
   "execution_count": 91,
   "id": "17a57bfc",
   "metadata": {},
   "outputs": [
    {
     "data": {
      "text/plain": [
       "array([[-1, -1, -1, -1, -1],\n",
       "       [-1, -1, -1, -1, -1],\n",
       "       [-1, -1, -1, -1, -1]])"
      ]
     },
     "execution_count": 91,
     "metadata": {},
     "output_type": "execute_result"
    }
   ],
   "source": [
    "a = np.full((3,5),-1)\n",
    "a"
   ]
  },
  {
   "cell_type": "code",
   "execution_count": 94,
   "id": "8f7f30f7",
   "metadata": {},
   "outputs": [
    {
     "data": {
      "text/plain": [
       "array([[ 0.  ,  1.25,  2.5 ],\n",
       "       [ 3.75,  5.  ,  6.25],\n",
       "       [ 7.5 ,  8.75, 10.  ]])"
      ]
     },
     "execution_count": 94,
     "metadata": {},
     "output_type": "execute_result"
    }
   ],
   "source": [
    "a = np.empty((3,3))\n",
    "a"
   ]
  },
  {
   "cell_type": "code",
   "execution_count": null,
   "id": "5493ac23",
   "metadata": {},
   "outputs": [],
   "source": []
  },
  {
   "cell_type": "code",
   "execution_count": 103,
   "id": "fecb6d5a",
   "metadata": {},
   "outputs": [],
   "source": [
    "a=np.random.randint(0,10,size=(4,5))"
   ]
  },
  {
   "cell_type": "code",
   "execution_count": 99,
   "id": "a0e8d849",
   "metadata": {},
   "outputs": [
    {
     "data": {
      "text/plain": [
       "array([[5, 5, 9, 0, 4],\n",
       "       [6, 7, 8, 9, 4],\n",
       "       [1, 4, 4, 3, 4]])"
      ]
     },
     "execution_count": 99,
     "metadata": {},
     "output_type": "execute_result"
    }
   ],
   "source": [
    "a"
   ]
  },
  {
   "cell_type": "code",
   "execution_count": 100,
   "id": "92e86d86",
   "metadata": {},
   "outputs": [
    {
     "data": {
      "text/plain": [
       "array([5, 5, 9, 0, 4, 6, 7, 8, 9, 4, 1, 4, 4, 3, 4])"
      ]
     },
     "execution_count": 100,
     "metadata": {},
     "output_type": "execute_result"
    }
   ],
   "source": [
    "a.ravel()"
   ]
  },
  {
   "cell_type": "code",
   "execution_count": 102,
   "id": "a2be7fdb",
   "metadata": {},
   "outputs": [
    {
     "data": {
      "text/plain": [
       "array([5, 5, 9, 0, 4, 6, 7, 8, 9, 4, 1, 4, 4, 3, 4])"
      ]
     },
     "execution_count": 102,
     "metadata": {},
     "output_type": "execute_result"
    }
   ],
   "source": [
    "a.reshape(-1)"
   ]
  },
  {
   "cell_type": "code",
   "execution_count": 104,
   "id": "d14f132b",
   "metadata": {},
   "outputs": [
    {
     "data": {
      "text/plain": [
       "array([[7, 7, 9, 4, 9],\n",
       "       [5, 7, 9, 4, 7],\n",
       "       [7, 2, 6, 3, 9],\n",
       "       [8, 7, 2, 4, 2]])"
      ]
     },
     "execution_count": 104,
     "metadata": {},
     "output_type": "execute_result"
    }
   ],
   "source": [
    "a"
   ]
  },
  {
   "cell_type": "code",
   "execution_count": 105,
   "id": "1cb34bec",
   "metadata": {},
   "outputs": [
    {
     "data": {
      "text/plain": [
       "array([[7, 7, 9, 4, 9, 5, 7, 9, 4, 7],\n",
       "       [7, 2, 6, 3, 9, 8, 7, 2, 4, 2]])"
      ]
     },
     "execution_count": 105,
     "metadata": {},
     "output_type": "execute_result"
    }
   ],
   "source": [
    "a.reshape((2,10))"
   ]
  },
  {
   "cell_type": "code",
   "execution_count": null,
   "id": "009a3481",
   "metadata": {},
   "outputs": [],
   "source": []
  },
  {
   "cell_type": "code",
   "execution_count": 107,
   "id": "3d95c2b5",
   "metadata": {},
   "outputs": [],
   "source": [
    "#np.lookfor('create array') "
   ]
  },
  {
   "cell_type": "code",
   "execution_count": 108,
   "id": "052289f1",
   "metadata": {},
   "outputs": [
    {
     "data": {
      "text/plain": [
       "2"
      ]
     },
     "execution_count": 108,
     "metadata": {},
     "output_type": "execute_result"
    }
   ],
   "source": [
    "a.ndim"
   ]
  },
  {
   "cell_type": "code",
   "execution_count": null,
   "id": "aca34ec6",
   "metadata": {},
   "outputs": [],
   "source": []
  },
  {
   "cell_type": "code",
   "execution_count": 109,
   "id": "006d6e50",
   "metadata": {},
   "outputs": [
    {
     "data": {
      "text/plain": [
       "(4, 5)"
      ]
     },
     "execution_count": 109,
     "metadata": {},
     "output_type": "execute_result"
    }
   ],
   "source": [
    "a.shape"
   ]
  },
  {
   "cell_type": "code",
   "execution_count": 110,
   "id": "44e1e4ce",
   "metadata": {},
   "outputs": [
    {
     "data": {
      "text/plain": [
       "20"
      ]
     },
     "execution_count": 110,
     "metadata": {},
     "output_type": "execute_result"
    }
   ],
   "source": [
    "a.size"
   ]
  },
  {
   "cell_type": "code",
   "execution_count": 111,
   "id": "2401bc22",
   "metadata": {},
   "outputs": [
    {
     "data": {
      "text/plain": [
       "dtype('int64')"
      ]
     },
     "execution_count": 111,
     "metadata": {},
     "output_type": "execute_result"
    }
   ],
   "source": [
    "a.dtype"
   ]
  },
  {
   "cell_type": "code",
   "execution_count": 112,
   "id": "d943f988",
   "metadata": {},
   "outputs": [
    {
     "data": {
      "text/plain": [
       "8"
      ]
     },
     "execution_count": 112,
     "metadata": {},
     "output_type": "execute_result"
    }
   ],
   "source": [
    "a.itemsize"
   ]
  },
  {
   "cell_type": "code",
   "execution_count": 118,
   "id": "ea4e9a96",
   "metadata": {},
   "outputs": [],
   "source": [
    "L=range(10000000)"
   ]
  },
  {
   "cell_type": "code",
   "execution_count": 119,
   "id": "2dfd4b85",
   "metadata": {},
   "outputs": [
    {
     "name": "stdout",
     "output_type": "stream",
     "text": [
      "3.39 s ± 65.6 ms per loop (mean ± std. dev. of 7 runs, 1 loop each)\n"
     ]
    }
   ],
   "source": [
    "%timeit [i ** 2 for i in L]"
   ]
  },
  {
   "cell_type": "code",
   "execution_count": 120,
   "id": "d6b291d3",
   "metadata": {},
   "outputs": [],
   "source": [
    "a = np.arange(10000000)"
   ]
  },
  {
   "cell_type": "code",
   "execution_count": 121,
   "id": "7604afb3",
   "metadata": {},
   "outputs": [
    {
     "name": "stdout",
     "output_type": "stream",
     "text": [
      "43.5 ms ± 3.58 ms per loop (mean ± std. dev. of 7 runs, 10 loops each)\n"
     ]
    }
   ],
   "source": [
    "%timeit a**2"
   ]
  },
  {
   "cell_type": "code",
   "execution_count": null,
   "id": "76fc7672",
   "metadata": {},
   "outputs": [],
   "source": []
  },
  {
   "cell_type": "code",
   "execution_count": 123,
   "id": "bd7ba18b",
   "metadata": {},
   "outputs": [
    {
     "data": {
      "text/plain": [
       "array([ True,  True, False,  True])"
      ]
     },
     "execution_count": 123,
     "metadata": {},
     "output_type": "execute_result"
    }
   ],
   "source": [
    "np.array([1, 1, 1, 2]) == np.array([1, 1, 0, 2])"
   ]
  },
  {
   "cell_type": "code",
   "execution_count": null,
   "id": "65d743cc",
   "metadata": {},
   "outputs": [],
   "source": []
  },
  {
   "cell_type": "code",
   "execution_count": null,
   "id": "e83d24db",
   "metadata": {},
   "outputs": [],
   "source": []
  },
  {
   "cell_type": "code",
   "execution_count": 125,
   "id": "14ed89e8",
   "metadata": {},
   "outputs": [
    {
     "data": {
      "text/plain": [
       "array([[9, 6, 6, 3, 2],\n",
       "       [0, 4, 2, 8, 2],\n",
       "       [0, 4, 0, 6, 2],\n",
       "       [8, 9, 6, 1, 9]])"
      ]
     },
     "execution_count": 125,
     "metadata": {},
     "output_type": "execute_result"
    }
   ],
   "source": [
    "a=np.random.randint(0,10,size=(4,5))\n",
    "a"
   ]
  },
  {
   "cell_type": "code",
   "execution_count": 126,
   "id": "9a7dfa79",
   "metadata": {},
   "outputs": [
    {
     "data": {
      "text/plain": [
       "array([[3, 7, 5, 8],\n",
       "       [2, 4, 6, 1],\n",
       "       [9, 6, 9, 8],\n",
       "       [0, 8, 6, 4],\n",
       "       [7, 1, 9, 8]])"
      ]
     },
     "execution_count": 126,
     "metadata": {},
     "output_type": "execute_result"
    }
   ],
   "source": [
    "b=np.random.randint(0,10,size=(5,4))\n",
    "b"
   ]
  },
  {
   "cell_type": "code",
   "execution_count": 127,
   "id": "fa62ba5a",
   "metadata": {},
   "outputs": [
    {
     "data": {
      "text/plain": [
       "array([[107, 149, 171, 154],\n",
       "       [ 40,  94, 108,  68],\n",
       "       [ 22,  66,  78,  44],\n",
       "       [159, 145, 235, 197]])"
      ]
     },
     "execution_count": 127,
     "metadata": {},
     "output_type": "execute_result"
    }
   ],
   "source": [
    "a.dot(b)"
   ]
  },
  {
   "cell_type": "code",
   "execution_count": 128,
   "id": "0156ef29",
   "metadata": {},
   "outputs": [
    {
     "data": {
      "text/plain": [
       "array([[107, 149, 171, 154],\n",
       "       [ 40,  94, 108,  68],\n",
       "       [ 22,  66,  78,  44],\n",
       "       [159, 145, 235, 197]])"
      ]
     },
     "execution_count": 128,
     "metadata": {},
     "output_type": "execute_result"
    }
   ],
   "source": [
    "a@b"
   ]
  },
  {
   "cell_type": "code",
   "execution_count": null,
   "id": "392f3a8e",
   "metadata": {},
   "outputs": [],
   "source": []
  },
  {
   "cell_type": "code",
   "execution_count": 129,
   "id": "e7ebba07",
   "metadata": {},
   "outputs": [
    {
     "ename": "ValueError",
     "evalue": "operands could not be broadcast together with shapes (4,5) (5,4) ",
     "output_type": "error",
     "traceback": [
      "\u001b[0;31m---------------------------------------------------------------------------\u001b[0m",
      "\u001b[0;31mValueError\u001b[0m                                Traceback (most recent call last)",
      "\u001b[0;32m<ipython-input-129-8ce765dcfa30>\u001b[0m in \u001b[0;36m<module>\u001b[0;34m\u001b[0m\n\u001b[0;32m----> 1\u001b[0;31m \u001b[0ma\u001b[0m\u001b[0;34m*\u001b[0m\u001b[0mb\u001b[0m\u001b[0;34m\u001b[0m\u001b[0;34m\u001b[0m\u001b[0m\n\u001b[0m",
      "\u001b[0;31mValueError\u001b[0m: operands could not be broadcast together with shapes (4,5) (5,4) "
     ]
    }
   ],
   "source": [
    "a*b"
   ]
  },
  {
   "cell_type": "code",
   "execution_count": null,
   "id": "793606d0",
   "metadata": {},
   "outputs": [],
   "source": []
  },
  {
   "cell_type": "code",
   "execution_count": 130,
   "id": "8d76c1f0",
   "metadata": {},
   "outputs": [
    {
     "data": {
      "text/plain": [
       "array([[5, 4, 4, 5, 9],\n",
       "       [1, 3, 9, 2, 3],\n",
       "       [9, 2, 0, 6, 9],\n",
       "       [5, 0, 9, 9, 3]])"
      ]
     },
     "execution_count": 130,
     "metadata": {},
     "output_type": "execute_result"
    }
   ],
   "source": [
    "c=np.random.randint(0,10,size=(4,5))\n",
    "c"
   ]
  },
  {
   "cell_type": "code",
   "execution_count": 131,
   "id": "b01c8966",
   "metadata": {},
   "outputs": [
    {
     "data": {
      "text/plain": [
       "array([[45, 24, 24, 15, 18],\n",
       "       [ 0, 12, 18, 16,  6],\n",
       "       [ 0,  8,  0, 36, 18],\n",
       "       [40,  0, 54,  9, 27]])"
      ]
     },
     "execution_count": 131,
     "metadata": {},
     "output_type": "execute_result"
    }
   ],
   "source": [
    "a*c"
   ]
  },
  {
   "cell_type": "code",
   "execution_count": null,
   "id": "68e128e0",
   "metadata": {},
   "outputs": [],
   "source": []
  },
  {
   "cell_type": "code",
   "execution_count": null,
   "id": "b4b4f658",
   "metadata": {},
   "outputs": [],
   "source": []
  },
  {
   "cell_type": "code",
   "execution_count": null,
   "id": "0ce7cd0d",
   "metadata": {},
   "outputs": [],
   "source": [
    "np.put"
   ]
  },
  {
   "cell_type": "code",
   "execution_count": null,
   "id": "a5e5a7dd",
   "metadata": {},
   "outputs": [],
   "source": [
    "np.sort, np.argsort"
   ]
  },
  {
   "cell_type": "code",
   "execution_count": 132,
   "id": "bb188c51",
   "metadata": {},
   "outputs": [],
   "source": [
    "c=np.random.randint(0,10,size=(1,5))"
   ]
  },
  {
   "cell_type": "code",
   "execution_count": 133,
   "id": "8a5b5a6f",
   "metadata": {},
   "outputs": [
    {
     "data": {
      "text/plain": [
       "array([[5, 2, 4, 0, 6]])"
      ]
     },
     "execution_count": 133,
     "metadata": {},
     "output_type": "execute_result"
    }
   ],
   "source": [
    "c"
   ]
  },
  {
   "cell_type": "code",
   "execution_count": 134,
   "id": "6234509a",
   "metadata": {},
   "outputs": [
    {
     "data": {
      "text/plain": [
       "(1, 5)"
      ]
     },
     "execution_count": 134,
     "metadata": {},
     "output_type": "execute_result"
    }
   ],
   "source": [
    "c.shape"
   ]
  },
  {
   "cell_type": "code",
   "execution_count": null,
   "id": "e878e233",
   "metadata": {},
   "outputs": [],
   "source": []
  },
  {
   "cell_type": "code",
   "execution_count": 135,
   "id": "0efc1e04",
   "metadata": {},
   "outputs": [],
   "source": [
    "c=np.random.randint(0,10,size=(5))"
   ]
  },
  {
   "cell_type": "code",
   "execution_count": 137,
   "id": "c1fd4edb",
   "metadata": {},
   "outputs": [
    {
     "data": {
      "text/plain": [
       "array([0, 3, 0, 7, 3])"
      ]
     },
     "execution_count": 137,
     "metadata": {},
     "output_type": "execute_result"
    }
   ],
   "source": [
    "c"
   ]
  },
  {
   "cell_type": "code",
   "execution_count": 138,
   "id": "3f76ae69",
   "metadata": {},
   "outputs": [
    {
     "data": {
      "text/plain": [
       "(5,)"
      ]
     },
     "execution_count": 138,
     "metadata": {},
     "output_type": "execute_result"
    }
   ],
   "source": [
    "c.shape"
   ]
  },
  {
   "cell_type": "code",
   "execution_count": 139,
   "id": "023ebc24",
   "metadata": {},
   "outputs": [
    {
     "data": {
      "text/plain": [
       "array([0, 3, 0, 7, 3])"
      ]
     },
     "execution_count": 139,
     "metadata": {},
     "output_type": "execute_result"
    }
   ],
   "source": [
    "c"
   ]
  },
  {
   "cell_type": "code",
   "execution_count": 143,
   "id": "fdf9ebad",
   "metadata": {},
   "outputs": [],
   "source": [
    "c2 = c[:, np.newaxis]"
   ]
  },
  {
   "cell_type": "code",
   "execution_count": 144,
   "id": "03b56d20",
   "metadata": {},
   "outputs": [
    {
     "data": {
      "text/plain": [
       "array([[0],\n",
       "       [3],\n",
       "       [0],\n",
       "       [7],\n",
       "       [3]])"
      ]
     },
     "execution_count": 144,
     "metadata": {},
     "output_type": "execute_result"
    }
   ],
   "source": [
    "c2"
   ]
  },
  {
   "cell_type": "code",
   "execution_count": 145,
   "id": "c675beac",
   "metadata": {},
   "outputs": [
    {
     "data": {
      "text/plain": [
       "(5, 1)"
      ]
     },
     "execution_count": 145,
     "metadata": {},
     "output_type": "execute_result"
    }
   ],
   "source": [
    "c2.shape"
   ]
  },
  {
   "cell_type": "code",
   "execution_count": 147,
   "id": "702135a3",
   "metadata": {},
   "outputs": [],
   "source": [
    "c3=c[np.newaxis, :]"
   ]
  },
  {
   "cell_type": "code",
   "execution_count": 148,
   "id": "e8349eda",
   "metadata": {},
   "outputs": [
    {
     "data": {
      "text/plain": [
       "(1, 5)"
      ]
     },
     "execution_count": 148,
     "metadata": {},
     "output_type": "execute_result"
    }
   ],
   "source": [
    "c3.shape"
   ]
  },
  {
   "cell_type": "code",
   "execution_count": 149,
   "id": "850a5a86",
   "metadata": {},
   "outputs": [
    {
     "data": {
      "text/plain": [
       "array([[0, 3, 0, 7, 3]])"
      ]
     },
     "execution_count": 149,
     "metadata": {},
     "output_type": "execute_result"
    }
   ],
   "source": [
    "c3"
   ]
  },
  {
   "cell_type": "code",
   "execution_count": null,
   "id": "f38bc913",
   "metadata": {},
   "outputs": [],
   "source": []
  },
  {
   "cell_type": "code",
   "execution_count": 153,
   "id": "079e733d",
   "metadata": {},
   "outputs": [
    {
     "data": {
      "text/plain": [
       "array([0, 3, 0, 7, 3])"
      ]
     },
     "execution_count": 153,
     "metadata": {},
     "output_type": "execute_result"
    }
   ],
   "source": [
    "c"
   ]
  },
  {
   "cell_type": "code",
   "execution_count": null,
   "id": "85564f8b",
   "metadata": {},
   "outputs": [],
   "source": [
    "c[np.newaxis, :]"
   ]
  },
  {
   "cell_type": "code",
   "execution_count": 150,
   "id": "a304da96",
   "metadata": {},
   "outputs": [
    {
     "data": {
      "text/plain": [
       "array([[[0, 3, 0, 7, 3]]])"
      ]
     },
     "execution_count": 150,
     "metadata": {},
     "output_type": "execute_result"
    }
   ],
   "source": [
    "c4=c[np.newaxis, np.newaxis, :]"
   ]
  },
  {
   "cell_type": "code",
   "execution_count": null,
   "id": "be426e2e",
   "metadata": {},
   "outputs": [],
   "source": []
  },
  {
   "cell_type": "code",
   "execution_count": 154,
   "id": "a9dfa448",
   "metadata": {},
   "outputs": [
    {
     "data": {
      "text/plain": [
       "array([[[[[0, 3, 0, 7, 3]]]]])"
      ]
     },
     "execution_count": 154,
     "metadata": {},
     "output_type": "execute_result"
    }
   ],
   "source": [
    "c[np.newaxis, np.newaxis,np.newaxis,np.newaxis,np.newaxis :]"
   ]
  },
  {
   "cell_type": "code",
   "execution_count": null,
   "id": "9c1715b2",
   "metadata": {},
   "outputs": [],
   "source": []
  },
  {
   "cell_type": "code",
   "execution_count": 151,
   "id": "c54e57ac",
   "metadata": {},
   "outputs": [
    {
     "data": {
      "text/plain": [
       "numpy.ndarray"
      ]
     },
     "execution_count": 151,
     "metadata": {},
     "output_type": "execute_result"
    }
   ],
   "source": [
    "type(c)"
   ]
  },
  {
   "cell_type": "code",
   "execution_count": 152,
   "id": "0fd9e6ab",
   "metadata": {},
   "outputs": [
    {
     "data": {
      "text/plain": [
       "(5,)"
      ]
     },
     "execution_count": 152,
     "metadata": {},
     "output_type": "execute_result"
    }
   ],
   "source": [
    "c.shape"
   ]
  },
  {
   "cell_type": "code",
   "execution_count": null,
   "id": "a1fb36f8",
   "metadata": {},
   "outputs": [],
   "source": []
  },
  {
   "cell_type": "code",
   "execution_count": null,
   "id": "8ee8d676",
   "metadata": {},
   "outputs": [],
   "source": [
    "np.add(A,B,out=B)\n",
    "np.divide(A,2,out=A)\n",
    "np.negative(A,out=A)\n",
    "np.multiply(A,B,out=A)"
   ]
  },
  {
   "cell_type": "code",
   "execution_count": null,
   "id": "22edfcbb",
   "metadata": {},
   "outputs": [],
   "source": []
  },
  {
   "cell_type": "code",
   "execution_count": 155,
   "id": "5c67b261",
   "metadata": {},
   "outputs": [
    {
     "data": {
      "text/plain": [
       "array([[9, 6, 6, 3, 2],\n",
       "       [0, 4, 2, 8, 2],\n",
       "       [0, 4, 0, 6, 2],\n",
       "       [8, 9, 6, 1, 9]])"
      ]
     },
     "execution_count": 155,
     "metadata": {},
     "output_type": "execute_result"
    }
   ],
   "source": [
    "a"
   ]
  },
  {
   "cell_type": "code",
   "execution_count": 159,
   "id": "dc1696b4",
   "metadata": {},
   "outputs": [
    {
     "data": {
      "text/plain": [
       "array([[ 9,  6,  6, -3, -2],\n",
       "       [ 0, -4, -2,  8, -2],\n",
       "       [ 0, -4,  0,  6, -2],\n",
       "       [ 8,  9,  6, -1,  9]])"
      ]
     },
     "execution_count": 159,
     "metadata": {},
     "output_type": "execute_result"
    }
   ],
   "source": [
    "np.where(a>5, a, -a)"
   ]
  },
  {
   "cell_type": "code",
   "execution_count": 161,
   "id": "a6da61f7",
   "metadata": {},
   "outputs": [
    {
     "data": {
      "text/plain": [
       "array([[ True,  True,  True, False, False],\n",
       "       [False, False, False,  True, False],\n",
       "       [False, False, False,  True, False],\n",
       "       [ True,  True,  True, False,  True]])"
      ]
     },
     "execution_count": 161,
     "metadata": {},
     "output_type": "execute_result"
    }
   ],
   "source": [
    "np.where(a>5, True, False)"
   ]
  },
  {
   "cell_type": "code",
   "execution_count": null,
   "id": "b10e4282",
   "metadata": {},
   "outputs": [],
   "source": []
  },
  {
   "cell_type": "code",
   "execution_count": 164,
   "id": "c2ab4d4b",
   "metadata": {},
   "outputs": [],
   "source": [
    "a=np.random.randint(0,10,size=(4,6))"
   ]
  },
  {
   "cell_type": "code",
   "execution_count": 165,
   "id": "df81bd21",
   "metadata": {},
   "outputs": [
    {
     "data": {
      "text/plain": [
       "array([[8, 3, 8, 8, 1, 2],\n",
       "       [9, 5, 8, 0, 6, 5],\n",
       "       [0, 1, 6, 8, 9, 7],\n",
       "       [5, 2, 6, 4, 1, 4]])"
      ]
     },
     "execution_count": 165,
     "metadata": {},
     "output_type": "execute_result"
    }
   ],
   "source": [
    "a"
   ]
  },
  {
   "cell_type": "code",
   "execution_count": null,
   "id": "1c82be5f",
   "metadata": {},
   "outputs": [],
   "source": []
  },
  {
   "cell_type": "code",
   "execution_count": 166,
   "id": "ab66cfc4",
   "metadata": {},
   "outputs": [
    {
     "data": {
      "text/plain": [
       "array([[2, 7, 9, 6, 9, 1],\n",
       "       [8, 2, 3, 8, 3, 6],\n",
       "       [4, 4, 0, 8, 1, 6],\n",
       "       [1, 0, 3, 5, 6, 2]])"
      ]
     },
     "execution_count": 166,
     "metadata": {},
     "output_type": "execute_result"
    }
   ],
   "source": [
    "b=np.random.randint(0,10,size=(4,6))\n",
    "b"
   ]
  },
  {
   "cell_type": "code",
   "execution_count": 169,
   "id": "2cf44bdb",
   "metadata": {},
   "outputs": [
    {
     "data": {
      "text/plain": [
       "array([[8, 3, 8, 8, 1, 2, 2, 7, 9, 6, 9, 1],\n",
       "       [9, 5, 8, 0, 6, 5, 8, 2, 3, 8, 3, 6],\n",
       "       [0, 1, 6, 8, 9, 7, 4, 4, 0, 8, 1, 6],\n",
       "       [5, 2, 6, 4, 1, 4, 1, 0, 3, 5, 6, 2]])"
      ]
     },
     "execution_count": 169,
     "metadata": {},
     "output_type": "execute_result"
    }
   ],
   "source": [
    "np.hstack((a,b))"
   ]
  },
  {
   "cell_type": "code",
   "execution_count": 170,
   "id": "5c0f7f3b",
   "metadata": {},
   "outputs": [
    {
     "data": {
      "text/plain": [
       "array([[8, 3, 8, 8, 1, 2],\n",
       "       [9, 5, 8, 0, 6, 5],\n",
       "       [0, 1, 6, 8, 9, 7],\n",
       "       [5, 2, 6, 4, 1, 4],\n",
       "       [2, 7, 9, 6, 9, 1],\n",
       "       [8, 2, 3, 8, 3, 6],\n",
       "       [4, 4, 0, 8, 1, 6],\n",
       "       [1, 0, 3, 5, 6, 2]])"
      ]
     },
     "execution_count": 170,
     "metadata": {},
     "output_type": "execute_result"
    }
   ],
   "source": [
    "np.vstack((a,b))"
   ]
  },
  {
   "cell_type": "code",
   "execution_count": null,
   "id": "9f57b772",
   "metadata": {},
   "outputs": [],
   "source": []
  },
  {
   "cell_type": "code",
   "execution_count": 172,
   "id": "4472ff19",
   "metadata": {},
   "outputs": [],
   "source": [
    "a=a.ravel()"
   ]
  },
  {
   "cell_type": "code",
   "execution_count": 173,
   "id": "143a6753",
   "metadata": {},
   "outputs": [
    {
     "data": {
      "text/plain": [
       "array([8, 3, 8, 8, 1, 2, 9, 5, 8, 0, 6, 5, 0, 1, 6, 8, 9, 7, 5, 2, 6, 4,\n",
       "       1, 4])"
      ]
     },
     "execution_count": 173,
     "metadata": {},
     "output_type": "execute_result"
    }
   ],
   "source": [
    "a"
   ]
  },
  {
   "cell_type": "code",
   "execution_count": 174,
   "id": "a9533a96",
   "metadata": {},
   "outputs": [
    {
     "data": {
      "text/plain": [
       "6"
      ]
     },
     "execution_count": 174,
     "metadata": {},
     "output_type": "execute_result"
    }
   ],
   "source": [
    "np.argmax(a)"
   ]
  },
  {
   "cell_type": "code",
   "execution_count": null,
   "id": "906c7a8a",
   "metadata": {},
   "outputs": [],
   "source": []
  },
  {
   "cell_type": "code",
   "execution_count": 175,
   "id": "b925a50a",
   "metadata": {},
   "outputs": [
    {
     "data": {
      "text/plain": [
       "array([8, 3, 8, 8, 1, 2, 9, 5, 8, 0, 6, 5, 0, 1, 6, 8, 9, 7, 5, 2, 6, 4,\n",
       "       1, 4])"
      ]
     },
     "execution_count": 175,
     "metadata": {},
     "output_type": "execute_result"
    }
   ],
   "source": [
    "a"
   ]
  },
  {
   "cell_type": "code",
   "execution_count": null,
   "id": "afbc2840",
   "metadata": {},
   "outputs": [],
   "source": []
  },
  {
   "cell_type": "code",
   "execution_count": 176,
   "id": "ba8bb32e",
   "metadata": {},
   "outputs": [],
   "source": [
    "a=np.random.randint(0,10,size=(4,3))"
   ]
  },
  {
   "cell_type": "code",
   "execution_count": 177,
   "id": "e30626ee",
   "metadata": {},
   "outputs": [
    {
     "data": {
      "text/plain": [
       "array([[4, 0, 5],\n",
       "       [0, 8, 9],\n",
       "       [3, 0, 1],\n",
       "       [0, 4, 9]])"
      ]
     },
     "execution_count": 177,
     "metadata": {},
     "output_type": "execute_result"
    }
   ],
   "source": [
    "a"
   ]
  },
  {
   "cell_type": "code",
   "execution_count": 178,
   "id": "9a910230",
   "metadata": {},
   "outputs": [
    {
     "data": {
      "text/plain": [
       "array([[1, 6, 4],\n",
       "       [9, 4, 6],\n",
       "       [5, 1, 7],\n",
       "       [3, 6, 4]])"
      ]
     },
     "execution_count": 178,
     "metadata": {},
     "output_type": "execute_result"
    }
   ],
   "source": [
    "b=np.random.randint(0,10,size=(4,3))\n",
    "b"
   ]
  },
  {
   "cell_type": "code",
   "execution_count": 179,
   "id": "774b0a14",
   "metadata": {},
   "outputs": [
    {
     "data": {
      "text/plain": [
       "array([[ 5,  6,  9],\n",
       "       [ 9, 12, 15],\n",
       "       [ 8,  1,  8],\n",
       "       [ 3, 10, 13]])"
      ]
     },
     "execution_count": 179,
     "metadata": {},
     "output_type": "execute_result"
    }
   ],
   "source": [
    "a+b"
   ]
  },
  {
   "cell_type": "code",
   "execution_count": 181,
   "id": "2110df55",
   "metadata": {},
   "outputs": [
    {
     "data": {
      "text/plain": [
       "array([[3, 9, 3]])"
      ]
     },
     "execution_count": 181,
     "metadata": {},
     "output_type": "execute_result"
    }
   ],
   "source": [
    "c=np.random.randint(0,10,size=(1,3))\n",
    "c"
   ]
  },
  {
   "cell_type": "code",
   "execution_count": 183,
   "id": "629fadbe",
   "metadata": {},
   "outputs": [
    {
     "data": {
      "text/plain": [
       "(1, 3)"
      ]
     },
     "execution_count": 183,
     "metadata": {},
     "output_type": "execute_result"
    }
   ],
   "source": [
    "c.shape"
   ]
  },
  {
   "cell_type": "code",
   "execution_count": 184,
   "id": "5aca9146",
   "metadata": {},
   "outputs": [
    {
     "data": {
      "text/plain": [
       "array([[ 7,  9,  8],\n",
       "       [ 3, 17, 12],\n",
       "       [ 6,  9,  4],\n",
       "       [ 3, 13, 12]])"
      ]
     },
     "execution_count": 184,
     "metadata": {},
     "output_type": "execute_result"
    }
   ],
   "source": [
    "a+c"
   ]
  },
  {
   "cell_type": "code",
   "execution_count": null,
   "id": "2d0d83b9",
   "metadata": {},
   "outputs": [],
   "source": []
  },
  {
   "cell_type": "code",
   "execution_count": 185,
   "id": "989ddc19",
   "metadata": {},
   "outputs": [
    {
     "data": {
      "text/plain": [
       "array([[7],\n",
       "       [9],\n",
       "       [4],\n",
       "       [8]])"
      ]
     },
     "execution_count": 185,
     "metadata": {},
     "output_type": "execute_result"
    }
   ],
   "source": [
    "d=np.random.randint(0,10,size=(4,1))\n",
    "d"
   ]
  },
  {
   "cell_type": "code",
   "execution_count": 186,
   "id": "9f00081e",
   "metadata": {},
   "outputs": [
    {
     "data": {
      "text/plain": [
       "array([[10, 16, 10],\n",
       "       [12, 18, 12],\n",
       "       [ 7, 13,  7],\n",
       "       [11, 17, 11]])"
      ]
     },
     "execution_count": 186,
     "metadata": {},
     "output_type": "execute_result"
    }
   ],
   "source": [
    "d+c"
   ]
  },
  {
   "cell_type": "code",
   "execution_count": null,
   "id": "24128cdd",
   "metadata": {},
   "outputs": [],
   "source": [
    "\n",
    "\n",
    "\n",
    "np.where, \n",
    "hstack, vstack\n",
    "\n",
    "np.argmax(a)\n",
    "\n",
    "broadcasting\n",
    "np.tile(np.arange(0, 40, 10), (3, 1)).T + np.array([0, 1, 2])"
   ]
  },
  {
   "cell_type": "code",
   "execution_count": null,
   "id": "cc0c2faa",
   "metadata": {},
   "outputs": [],
   "source": [
    "np.arange, \n",
    "сранение скоростей\n",
    "L = range(1000)\n",
    "%timeit [i**2 for i in L]\n",
    "\n",
    "a = np.arange(1000)\n",
    "%timeit a**2\n",
    "\n",
    "\n",
    "\n",
    "np.lookfor('create array') \n",
    "\n",
    "type(np.int()), type(np.int32()), type(np.int64())\n",
    "\n",
    "a.ndim, .shape, np.astype\n",
    "\n",
    "np.random.choice\n",
    "\n",
    "a.shape, a.ndim, a.size, a.dtype, a.itemsize,\n",
    "\n",
    "сравнение\n",
    "np.array([1, 1, 0, 2]) == np.array([1, 1, 0, 2])\n",
    "\n",
    "np.linspace, np.logspace, np.ones, np.zeros, np.zero_like, np.full, np.empty,  np.random.random, .ravel(), a.reshape((3,4)), \n",
    "\n",
    "индексация, маскирование, арифметические операции, произведение dot и @, скалярное произведение, \n",
    "\n",
    "\n",
    "\n",
    "np.put, np.where, np.sort, np.argsort, np.newaxis\n",
    "\n",
    "------------------------------\n",
    "\n",
    "np.log, np.exp, np.round(x, n), a.mean(..axis=0), a.median(), np.min(), np.max()\n",
    "\n",
    "\n",
    "#многомерные массивы\n",
    "X = np.arange(24).reshape(2, 3, 4)\n",
    "\n",
    "np.clip, np.tile, np.concatenate, np.meshgrid\n",
    "\n",
    "broadcasting\n",
    "np.tile(np.arange(0, 40, 10), (3, 1)).T + np.array([0, 1, 2])\n",
    "\n",
    "hstack, vstack, mean, np.argmax(a), Multiply a 5x3 matrix by a 3x2 matrix (real matrix product)\n",
    "* Перевод массивов dataframe в Numpy\n",
    "* Работа с формой массивов * Работа с индексами * Работа матрицами, компонент linalg\n",
    "\n",
    "np.add(A,B,out=B)\n",
    "np.divide(A,2,out=A)\n",
    "np.negative(A,out=A)\n",
    "np.multiply(A,B,out=A)\n",
    "\n",
    "\n",
    "np.where, \n",
    "hstack, vstack\n",
    "\n",
    "np.argmax(a)\n",
    "\n",
    "broadcasting\n",
    "np.tile(np.arange(0, 40, 10), (3, 1)).T + np.array([0, 1, 2])"
   ]
  },
  {
   "cell_type": "code",
   "execution_count": 42,
   "id": "06548860",
   "metadata": {},
   "outputs": [
    {
     "data": {
      "text/plain": [
       "\u001b[0;31mSignature:\u001b[0m \u001b[0mnp\u001b[0m\u001b[0;34m.\u001b[0m\u001b[0mmeshgrid\u001b[0m\u001b[0;34m(\u001b[0m\u001b[0;34m*\u001b[0m\u001b[0mxi\u001b[0m\u001b[0;34m,\u001b[0m \u001b[0mcopy\u001b[0m\u001b[0;34m=\u001b[0m\u001b[0;32mTrue\u001b[0m\u001b[0;34m,\u001b[0m \u001b[0msparse\u001b[0m\u001b[0;34m=\u001b[0m\u001b[0;32mFalse\u001b[0m\u001b[0;34m,\u001b[0m \u001b[0mindexing\u001b[0m\u001b[0;34m=\u001b[0m\u001b[0;34m'xy'\u001b[0m\u001b[0;34m)\u001b[0m\u001b[0;34m\u001b[0m\u001b[0;34m\u001b[0m\u001b[0m\n",
       "\u001b[0;31mDocstring:\u001b[0m\n",
       "Return coordinate matrices from coordinate vectors.\n",
       "\n",
       "Make N-D coordinate arrays for vectorized evaluations of\n",
       "N-D scalar/vector fields over N-D grids, given\n",
       "one-dimensional coordinate arrays x1, x2,..., xn.\n",
       "\n",
       ".. versionchanged:: 1.9\n",
       "   1-D and 0-D cases are allowed.\n",
       "\n",
       "Parameters\n",
       "----------\n",
       "x1, x2,..., xn : array_like\n",
       "    1-D arrays representing the coordinates of a grid.\n",
       "indexing : {'xy', 'ij'}, optional\n",
       "    Cartesian ('xy', default) or matrix ('ij') indexing of output.\n",
       "    See Notes for more details.\n",
       "\n",
       "    .. versionadded:: 1.7.0\n",
       "sparse : bool, optional\n",
       "    If True a sparse grid is returned in order to conserve memory.\n",
       "    Default is False.\n",
       "\n",
       "    .. versionadded:: 1.7.0\n",
       "copy : bool, optional\n",
       "    If False, a view into the original arrays are returned in order to\n",
       "    conserve memory.  Default is True.  Please note that\n",
       "    ``sparse=False, copy=False`` will likely return non-contiguous\n",
       "    arrays.  Furthermore, more than one element of a broadcast array\n",
       "    may refer to a single memory location.  If you need to write to the\n",
       "    arrays, make copies first.\n",
       "\n",
       "    .. versionadded:: 1.7.0\n",
       "\n",
       "Returns\n",
       "-------\n",
       "X1, X2,..., XN : ndarray\n",
       "    For vectors `x1`, `x2`,..., 'xn' with lengths ``Ni=len(xi)`` ,\n",
       "    return ``(N1, N2, N3,...Nn)`` shaped arrays if indexing='ij'\n",
       "    or ``(N2, N1, N3,...Nn)`` shaped arrays if indexing='xy'\n",
       "    with the elements of `xi` repeated to fill the matrix along\n",
       "    the first dimension for `x1`, the second for `x2` and so on.\n",
       "\n",
       "Notes\n",
       "-----\n",
       "This function supports both indexing conventions through the indexing\n",
       "keyword argument.  Giving the string 'ij' returns a meshgrid with\n",
       "matrix indexing, while 'xy' returns a meshgrid with Cartesian indexing.\n",
       "In the 2-D case with inputs of length M and N, the outputs are of shape\n",
       "(N, M) for 'xy' indexing and (M, N) for 'ij' indexing.  In the 3-D case\n",
       "with inputs of length M, N and P, outputs are of shape (N, M, P) for\n",
       "'xy' indexing and (M, N, P) for 'ij' indexing.  The difference is\n",
       "illustrated by the following code snippet::\n",
       "\n",
       "    xv, yv = np.meshgrid(x, y, sparse=False, indexing='ij')\n",
       "    for i in range(nx):\n",
       "        for j in range(ny):\n",
       "            # treat xv[i,j], yv[i,j]\n",
       "\n",
       "    xv, yv = np.meshgrid(x, y, sparse=False, indexing='xy')\n",
       "    for i in range(nx):\n",
       "        for j in range(ny):\n",
       "            # treat xv[j,i], yv[j,i]\n",
       "\n",
       "In the 1-D and 0-D case, the indexing and sparse keywords have no effect.\n",
       "\n",
       "See Also\n",
       "--------\n",
       "mgrid : Construct a multi-dimensional \"meshgrid\" using indexing notation.\n",
       "ogrid : Construct an open multi-dimensional \"meshgrid\" using indexing \n",
       "        notation.\n",
       "\n",
       "Examples\n",
       "--------\n",
       ">>> nx, ny = (3, 2)\n",
       ">>> x = np.linspace(0, 1, nx)\n",
       ">>> y = np.linspace(0, 1, ny)\n",
       ">>> xv, yv = np.meshgrid(x, y)\n",
       ">>> xv\n",
       "array([[0. , 0.5, 1. ],\n",
       "       [0. , 0.5, 1. ]])\n",
       ">>> yv\n",
       "array([[0.,  0.,  0.],\n",
       "       [1.,  1.,  1.]])\n",
       ">>> xv, yv = np.meshgrid(x, y, sparse=True)  # make sparse output arrays\n",
       ">>> xv\n",
       "array([[0. ,  0.5,  1. ]])\n",
       ">>> yv\n",
       "array([[0.],\n",
       "       [1.]])\n",
       "\n",
       "`meshgrid` is very useful to evaluate functions on a grid.\n",
       "\n",
       ">>> import matplotlib.pyplot as plt\n",
       ">>> x = np.arange(-5, 5, 0.1)\n",
       ">>> y = np.arange(-5, 5, 0.1)\n",
       ">>> xx, yy = np.meshgrid(x, y, sparse=True)\n",
       ">>> z = np.sin(xx**2 + yy**2) / (xx**2 + yy**2)\n",
       ">>> h = plt.contourf(x,y,z)\n",
       ">>> plt.show()\n",
       "\u001b[0;31mFile:\u001b[0m      /opt/conda/lib/python3.8/site-packages/numpy/lib/function_base.py\n",
       "\u001b[0;31mType:\u001b[0m      function\n"
      ]
     },
     "metadata": {},
     "output_type": "display_data"
    }
   ],
   "source": [
    "np.meshgrid?"
   ]
  },
  {
   "cell_type": "code",
   "execution_count": 17,
   "id": "86ae7f60",
   "metadata": {},
   "outputs": [],
   "source": [
    "import numpy as np"
   ]
  },
  {
   "cell_type": "code",
   "execution_count": null,
   "id": "a0ec6fc7",
   "metadata": {},
   "outputs": [],
   "source": [
    "np.random.*?"
   ]
  },
  {
   "cell_type": "code",
   "execution_count": null,
   "id": "4bce9a75",
   "metadata": {},
   "outputs": [],
   "source": [
    "\n",
    "b = np.array([[4, 1], [2, 2]])\n",
    "print(a @ b)    # python 3 style\n",
    "print(a.dot(b)) "
   ]
  },
  {
   "cell_type": "code",
   "execution_count": 21,
   "id": "d42b9782",
   "metadata": {},
   "outputs": [],
   "source": [
    "a = np.array([[1, 2], [0, 1], [3, 4]])"
   ]
  },
  {
   "cell_type": "code",
   "execution_count": 22,
   "id": "cd8ac3a7",
   "metadata": {},
   "outputs": [
    {
     "data": {
      "text/plain": [
       "array([[1, 2],\n",
       "       [0, 1],\n",
       "       [3, 4]])"
      ]
     },
     "execution_count": 22,
     "metadata": {},
     "output_type": "execute_result"
    }
   ],
   "source": [
    "a"
   ]
  },
  {
   "cell_type": "code",
   "execution_count": 23,
   "id": "8d84710d",
   "metadata": {},
   "outputs": [],
   "source": [
    "b = np.array([[4, 1, 5], [2, 2, 6]])"
   ]
  },
  {
   "cell_type": "code",
   "execution_count": 24,
   "id": "d17304e9",
   "metadata": {},
   "outputs": [
    {
     "data": {
      "text/plain": [
       "array([[4, 1, 5],\n",
       "       [2, 2, 6]])"
      ]
     },
     "execution_count": 24,
     "metadata": {},
     "output_type": "execute_result"
    }
   ],
   "source": [
    "b"
   ]
  },
  {
   "cell_type": "code",
   "execution_count": 25,
   "id": "868fd8d3",
   "metadata": {},
   "outputs": [
    {
     "data": {
      "text/plain": [
       "array([[ 8,  5, 17],\n",
       "       [ 2,  2,  6],\n",
       "       [20, 11, 39]])"
      ]
     },
     "execution_count": 25,
     "metadata": {},
     "output_type": "execute_result"
    }
   ],
   "source": [
    "a@b"
   ]
  },
  {
   "cell_type": "code",
   "execution_count": 26,
   "id": "34cc9e09",
   "metadata": {},
   "outputs": [
    {
     "data": {
      "text/plain": [
       "array([[ 8,  5, 17],\n",
       "       [ 2,  2,  6],\n",
       "       [20, 11, 39]])"
      ]
     },
     "execution_count": 26,
     "metadata": {},
     "output_type": "execute_result"
    }
   ],
   "source": [
    "a.dot(b)"
   ]
  },
  {
   "cell_type": "code",
   "execution_count": 27,
   "id": "cdc9a28b",
   "metadata": {},
   "outputs": [
    {
     "ename": "ValueError",
     "evalue": "operands could not be broadcast together with shapes (3,2) (2,3) ",
     "output_type": "error",
     "traceback": [
      "\u001b[0;31m---------------------------------------------------------------------------\u001b[0m",
      "\u001b[0;31mValueError\u001b[0m                                Traceback (most recent call last)",
      "\u001b[0;32m<ipython-input-27-8ce765dcfa30>\u001b[0m in \u001b[0;36m<module>\u001b[0;34m\u001b[0m\n\u001b[0;32m----> 1\u001b[0;31m \u001b[0ma\u001b[0m\u001b[0;34m*\u001b[0m\u001b[0mb\u001b[0m\u001b[0;34m\u001b[0m\u001b[0;34m\u001b[0m\u001b[0m\n\u001b[0m",
      "\u001b[0;31mValueError\u001b[0m: operands could not be broadcast together with shapes (3,2) (2,3) "
     ]
    }
   ],
   "source": [
    "a*b"
   ]
  },
  {
   "cell_type": "code",
   "execution_count": 30,
   "id": "623eb001",
   "metadata": {},
   "outputs": [
    {
     "data": {
      "text/plain": [
       "array([1, 2, 0, 1, 3, 4])"
      ]
     },
     "execution_count": 30,
     "metadata": {},
     "output_type": "execute_result"
    }
   ],
   "source": [
    "a.ravel()"
   ]
  },
  {
   "cell_type": "code",
   "execution_count": 31,
   "id": "d5fbc94c",
   "metadata": {},
   "outputs": [
    {
     "data": {
      "text/plain": [
       "5"
      ]
     },
     "execution_count": 31,
     "metadata": {},
     "output_type": "execute_result"
    }
   ],
   "source": [
    "np.argmax(a.ravel())"
   ]
  },
  {
   "cell_type": "code",
   "execution_count": null,
   "id": "45f329e7",
   "metadata": {},
   "outputs": [],
   "source": [
    "\n"
   ]
  },
  {
   "cell_type": "code",
   "execution_count": null,
   "id": "9c9e63d1",
   "metadata": {},
   "outputs": [],
   "source": []
  }
 ],
 "metadata": {
  "kernelspec": {
   "display_name": "Python 3",
   "language": "python",
   "name": "python3"
  },
  "language_info": {
   "codemirror_mode": {
    "name": "ipython",
    "version": 3
   },
   "file_extension": ".py",
   "mimetype": "text/x-python",
   "name": "python",
   "nbconvert_exporter": "python",
   "pygments_lexer": "ipython3",
   "version": "3.8.8"
  }
 },
 "nbformat": 4,
 "nbformat_minor": 5
}
