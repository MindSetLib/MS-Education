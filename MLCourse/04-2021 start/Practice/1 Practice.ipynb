{
 "cells": [
  {
   "cell_type": "code",
   "execution_count": 1,
   "id": "b4272734",
   "metadata": {},
   "outputs": [],
   "source": [
    "a='Иванов Иван Иванович'"
   ]
  },
  {
   "cell_type": "code",
   "execution_count": 2,
   "id": "e04fee41",
   "metadata": {},
   "outputs": [
    {
     "data": {
      "text/plain": [
       "'И'"
      ]
     },
     "execution_count": 2,
     "metadata": {},
     "output_type": "execute_result"
    }
   ],
   "source": [
    "a[0]"
   ]
  },
  {
   "cell_type": "code",
   "execution_count": 5,
   "id": "f21e79b2",
   "metadata": {},
   "outputs": [
    {
     "data": {
      "text/plain": [
       "'чивонавИ навИ вонавИ'"
      ]
     },
     "execution_count": 5,
     "metadata": {},
     "output_type": "execute_result"
    }
   ],
   "source": [
    "a[-1::-1]"
   ]
  },
  {
   "cell_type": "code",
   "execution_count": 7,
   "id": "c1ab6246",
   "metadata": {},
   "outputs": [],
   "source": [
    "if 'Иан' in a:\n",
    "    print(1)"
   ]
  },
  {
   "cell_type": "code",
   "execution_count": 10,
   "id": "4c264711",
   "metadata": {},
   "outputs": [
    {
     "data": {
      "text/plain": [
       "['Ива', 'ов Ива', ' Ива', 'ович']"
      ]
     },
     "execution_count": 10,
     "metadata": {},
     "output_type": "execute_result"
    }
   ],
   "source": [
    "a.split('н')"
   ]
  },
  {
   "cell_type": "code",
   "execution_count": 11,
   "id": "4120abd9",
   "metadata": {},
   "outputs": [
    {
     "data": {
      "text/plain": [
       "list"
      ]
     },
     "execution_count": 11,
     "metadata": {},
     "output_type": "execute_result"
    }
   ],
   "source": [
    "type(a.split('н'))"
   ]
  },
  {
   "cell_type": "code",
   "execution_count": 12,
   "id": "482f2d88",
   "metadata": {},
   "outputs": [],
   "source": [
    "b=[]"
   ]
  },
  {
   "cell_type": "code",
   "execution_count": 13,
   "id": "868f61c5",
   "metadata": {},
   "outputs": [
    {
     "data": {
      "text/plain": [
       "[]"
      ]
     },
     "execution_count": 13,
     "metadata": {},
     "output_type": "execute_result"
    }
   ],
   "source": [
    "b"
   ]
  },
  {
   "cell_type": "code",
   "execution_count": 14,
   "id": "da501170",
   "metadata": {},
   "outputs": [
    {
     "data": {
      "text/plain": [
       "list"
      ]
     },
     "execution_count": 14,
     "metadata": {},
     "output_type": "execute_result"
    }
   ],
   "source": [
    "type(b)"
   ]
  },
  {
   "cell_type": "code",
   "execution_count": 15,
   "id": "1c6ea083",
   "metadata": {},
   "outputs": [],
   "source": [
    "b = [1,2,4,5]"
   ]
  },
  {
   "cell_type": "code",
   "execution_count": 16,
   "id": "dcd7bafb",
   "metadata": {},
   "outputs": [
    {
     "data": {
      "text/plain": [
       "[1, 2, 4, 5]"
      ]
     },
     "execution_count": 16,
     "metadata": {},
     "output_type": "execute_result"
    }
   ],
   "source": [
    "b"
   ]
  },
  {
   "cell_type": "code",
   "execution_count": 17,
   "id": "50722aaa",
   "metadata": {},
   "outputs": [],
   "source": [
    "b.append(6)"
   ]
  },
  {
   "cell_type": "code",
   "execution_count": 18,
   "id": "e1d4296c",
   "metadata": {},
   "outputs": [
    {
     "data": {
      "text/plain": [
       "[1, 2, 4, 5, 6]"
      ]
     },
     "execution_count": 18,
     "metadata": {},
     "output_type": "execute_result"
    }
   ],
   "source": [
    "b"
   ]
  },
  {
   "cell_type": "code",
   "execution_count": 19,
   "id": "5f463b6b",
   "metadata": {},
   "outputs": [],
   "source": [
    "b.append('a')"
   ]
  },
  {
   "cell_type": "code",
   "execution_count": 20,
   "id": "2a80d2d2",
   "metadata": {},
   "outputs": [
    {
     "data": {
      "text/plain": [
       "[1, 2, 4, 5, 6, 'a']"
      ]
     },
     "execution_count": 20,
     "metadata": {},
     "output_type": "execute_result"
    }
   ],
   "source": [
    "b"
   ]
  },
  {
   "cell_type": "code",
   "execution_count": 21,
   "id": "0f86a9cf",
   "metadata": {},
   "outputs": [],
   "source": [
    "b.append(['q','w'])"
   ]
  },
  {
   "cell_type": "code",
   "execution_count": 22,
   "id": "740a0db1",
   "metadata": {},
   "outputs": [
    {
     "data": {
      "text/plain": [
       "[1, 2, 4, 5, 6, 'a', ['q', 'w']]"
      ]
     },
     "execution_count": 22,
     "metadata": {},
     "output_type": "execute_result"
    }
   ],
   "source": [
    "b"
   ]
  },
  {
   "cell_type": "code",
   "execution_count": 23,
   "id": "0c5b30ce",
   "metadata": {},
   "outputs": [
    {
     "data": {
      "text/plain": [
       "['q', 'w']"
      ]
     },
     "execution_count": 23,
     "metadata": {},
     "output_type": "execute_result"
    }
   ],
   "source": [
    "b.pop()"
   ]
  },
  {
   "cell_type": "code",
   "execution_count": 24,
   "id": "5a557e77",
   "metadata": {},
   "outputs": [
    {
     "data": {
      "text/plain": [
       "[1, 2, 4, 5, 6, 'a']"
      ]
     },
     "execution_count": 24,
     "metadata": {},
     "output_type": "execute_result"
    }
   ],
   "source": [
    "b"
   ]
  },
  {
   "cell_type": "code",
   "execution_count": 25,
   "id": "52baf725",
   "metadata": {},
   "outputs": [
    {
     "data": {
      "text/plain": [
       "[2, 4]"
      ]
     },
     "execution_count": 25,
     "metadata": {},
     "output_type": "execute_result"
    }
   ],
   "source": [
    "b[1:3]"
   ]
  },
  {
   "cell_type": "code",
   "execution_count": 26,
   "id": "c42f48f6",
   "metadata": {},
   "outputs": [
    {
     "data": {
      "text/plain": [
       "True"
      ]
     },
     "execution_count": 26,
     "metadata": {},
     "output_type": "execute_result"
    }
   ],
   "source": [
    "5 in b"
   ]
  },
  {
   "cell_type": "code",
   "execution_count": 27,
   "id": "8ba84652",
   "metadata": {},
   "outputs": [
    {
     "data": {
      "text/plain": [
       "['a', 6, 5, 4, 2, 1]"
      ]
     },
     "execution_count": 27,
     "metadata": {},
     "output_type": "execute_result"
    }
   ],
   "source": [
    "b[::-1]"
   ]
  },
  {
   "cell_type": "code",
   "execution_count": 28,
   "id": "58a5791e",
   "metadata": {},
   "outputs": [],
   "source": [
    "final_list=a.split('н')"
   ]
  },
  {
   "cell_type": "code",
   "execution_count": 29,
   "id": "0bf7b858",
   "metadata": {},
   "outputs": [
    {
     "data": {
      "text/plain": [
       "['Ива', 'ов Ива', ' Ива', 'ович']"
      ]
     },
     "execution_count": 29,
     "metadata": {},
     "output_type": "execute_result"
    }
   ],
   "source": [
    "final_list"
   ]
  },
  {
   "cell_type": "code",
   "execution_count": 30,
   "id": "06abb910",
   "metadata": {},
   "outputs": [
    {
     "data": {
      "text/plain": [
       "['Ива', 'ов Ива', ' Ива', 'ович', 1, 2, 4, 5, 6, 'a']"
      ]
     },
     "execution_count": 30,
     "metadata": {},
     "output_type": "execute_result"
    }
   ],
   "source": [
    "final_list+b"
   ]
  },
  {
   "cell_type": "code",
   "execution_count": null,
   "id": "857d4fe4",
   "metadata": {},
   "outputs": [],
   "source": [
    "tuple"
   ]
  },
  {
   "cell_type": "code",
   "execution_count": 31,
   "id": "0898f4e4",
   "metadata": {},
   "outputs": [],
   "source": [
    "t = (1,2,3)"
   ]
  },
  {
   "cell_type": "code",
   "execution_count": 32,
   "id": "1f19ee8e",
   "metadata": {},
   "outputs": [
    {
     "data": {
      "text/plain": [
       "(1, 2, 3)"
      ]
     },
     "execution_count": 32,
     "metadata": {},
     "output_type": "execute_result"
    }
   ],
   "source": [
    "t"
   ]
  },
  {
   "cell_type": "code",
   "execution_count": 33,
   "id": "312bac27",
   "metadata": {},
   "outputs": [
    {
     "data": {
      "text/plain": [
       "tuple"
      ]
     },
     "execution_count": 33,
     "metadata": {},
     "output_type": "execute_result"
    }
   ],
   "source": [
    "type(t)"
   ]
  },
  {
   "cell_type": "code",
   "execution_count": 34,
   "id": "171197d1",
   "metadata": {},
   "outputs": [
    {
     "ename": "AttributeError",
     "evalue": "'tuple' object has no attribute 'append'",
     "output_type": "error",
     "traceback": [
      "\u001b[0;31m---------------------------------------------------------------------------\u001b[0m",
      "\u001b[0;31mAttributeError\u001b[0m                            Traceback (most recent call last)",
      "\u001b[0;32m<ipython-input-34-ada7ed8a579e>\u001b[0m in \u001b[0;36m<module>\u001b[0;34m\u001b[0m\n\u001b[0;32m----> 1\u001b[0;31m \u001b[0mt\u001b[0m\u001b[0;34m.\u001b[0m\u001b[0mappend\u001b[0m\u001b[0;34m(\u001b[0m\u001b[0;36m4\u001b[0m\u001b[0;34m)\u001b[0m\u001b[0;34m\u001b[0m\u001b[0;34m\u001b[0m\u001b[0m\n\u001b[0m",
      "\u001b[0;31mAttributeError\u001b[0m: 'tuple' object has no attribute 'append'"
     ]
    }
   ],
   "source": [
    "t.append(4)"
   ]
  },
  {
   "cell_type": "code",
   "execution_count": 35,
   "id": "4b464f9b",
   "metadata": {},
   "outputs": [
    {
     "data": {
      "text/plain": [
       "2"
      ]
     },
     "execution_count": 35,
     "metadata": {},
     "output_type": "execute_result"
    }
   ],
   "source": [
    "t[1]"
   ]
  },
  {
   "cell_type": "code",
   "execution_count": 36,
   "id": "228837b7",
   "metadata": {},
   "outputs": [
    {
     "data": {
      "text/plain": [
       "3"
      ]
     },
     "execution_count": 36,
     "metadata": {},
     "output_type": "execute_result"
    }
   ],
   "source": [
    "len(t)"
   ]
  },
  {
   "cell_type": "code",
   "execution_count": 37,
   "id": "f9fd59d3",
   "metadata": {},
   "outputs": [
    {
     "data": {
      "text/plain": [
       "4"
      ]
     },
     "execution_count": 37,
     "metadata": {},
     "output_type": "execute_result"
    }
   ],
   "source": [
    "len(final_list)"
   ]
  },
  {
   "cell_type": "code",
   "execution_count": 38,
   "id": "16363357",
   "metadata": {},
   "outputs": [],
   "source": [
    "models = ['glm poisson params1', 'glm poisson params2', 'glm poisson params3']"
   ]
  },
  {
   "cell_type": "code",
   "execution_count": 39,
   "id": "2fe56535",
   "metadata": {},
   "outputs": [],
   "source": [
    "models_params = [[1,2], [2,3], [3,4]]"
   ]
  },
  {
   "cell_type": "code",
   "execution_count": 40,
   "id": "26751523",
   "metadata": {},
   "outputs": [
    {
     "name": "stdout",
     "output_type": "stream",
     "text": [
      "glm poisson params1\n",
      "glm poisson params2\n",
      "glm poisson params3\n"
     ]
    }
   ],
   "source": [
    "for model in models:\n",
    "    print(model)"
   ]
  },
  {
   "cell_type": "code",
   "execution_count": 41,
   "id": "274a075e",
   "metadata": {},
   "outputs": [
    {
     "name": "stdout",
     "output_type": "stream",
     "text": [
      "[1, 2]\n",
      "[2, 3]\n",
      "[3, 4]\n"
     ]
    }
   ],
   "source": [
    "for model_params in models_params:\n",
    "    print(model_params)"
   ]
  },
  {
   "cell_type": "code",
   "execution_count": 42,
   "id": "e11d4107",
   "metadata": {},
   "outputs": [
    {
     "name": "stdout",
     "output_type": "stream",
     "text": [
      "glm poisson params1\n",
      "[1, 2]\n",
      "glm poisson params2\n",
      "[2, 3]\n",
      "glm poisson params3\n",
      "[3, 4]\n"
     ]
    }
   ],
   "source": [
    "i=0\n",
    "for model in models:\n",
    "    print(model)\n",
    "    print(models_params[i])\n",
    "    i = i + 1\n",
    "    "
   ]
  },
  {
   "cell_type": "code",
   "execution_count": 48,
   "id": "0595b263",
   "metadata": {},
   "outputs": [],
   "source": [
    "zipped_object = zip(models, models_params)"
   ]
  },
  {
   "cell_type": "code",
   "execution_count": 49,
   "id": "60859ff5",
   "metadata": {},
   "outputs": [],
   "source": [
    "zipped_list=list(zipped_object)"
   ]
  },
  {
   "cell_type": "code",
   "execution_count": 50,
   "id": "d988d433",
   "metadata": {},
   "outputs": [
    {
     "data": {
      "text/plain": [
       "('glm poisson params1', [1, 2])"
      ]
     },
     "execution_count": 50,
     "metadata": {},
     "output_type": "execute_result"
    }
   ],
   "source": [
    "zipped_list[0]"
   ]
  },
  {
   "cell_type": "code",
   "execution_count": 51,
   "id": "7d31a774",
   "metadata": {},
   "outputs": [
    {
     "data": {
      "text/plain": [
       "tuple"
      ]
     },
     "execution_count": 51,
     "metadata": {},
     "output_type": "execute_result"
    }
   ],
   "source": [
    "type(zipped_list[0])"
   ]
  },
  {
   "cell_type": "code",
   "execution_count": 52,
   "id": "ea54afbd",
   "metadata": {},
   "outputs": [
    {
     "name": "stdout",
     "output_type": "stream",
     "text": [
      "('glm poisson params1', [1, 2])\n",
      "('glm poisson params2', [2, 3])\n",
      "('glm poisson params3', [3, 4])\n"
     ]
    }
   ],
   "source": [
    "for i in zipped_list:\n",
    "    print(i)"
   ]
  },
  {
   "cell_type": "code",
   "execution_count": 54,
   "id": "13cd11ac",
   "metadata": {},
   "outputs": [
    {
     "name": "stdout",
     "output_type": "stream",
     "text": [
      "('glm poisson params1', [1, 2])\n",
      "('glm poisson params2', [2, 3])\n",
      "('glm poisson params3', [3, 4])\n"
     ]
    }
   ],
   "source": [
    "x = 0\n",
    "while x<=2:\n",
    "    print(zipped_list[x])\n",
    "    x = x + 1"
   ]
  },
  {
   "cell_type": "code",
   "execution_count": 58,
   "id": "953e8b44",
   "metadata": {},
   "outputs": [
    {
     "name": "stdout",
     "output_type": "stream",
     "text": [
      "0\n",
      "2\n",
      "4\n"
     ]
    }
   ],
   "source": [
    "for i in range(0,5,2):\n",
    "    print(i)"
   ]
  },
  {
   "cell_type": "code",
   "execution_count": 57,
   "id": "fe3dbf95",
   "metadata": {},
   "outputs": [
    {
     "data": {
      "text/plain": [
       "range(0, 5, 2)"
      ]
     },
     "execution_count": 57,
     "metadata": {},
     "output_type": "execute_result"
    }
   ],
   "source": [
    "range(0,5,2)"
   ]
  },
  {
   "cell_type": "code",
   "execution_count": 59,
   "id": "b7ff0cff",
   "metadata": {},
   "outputs": [
    {
     "data": {
      "text/plain": [
       "range(0, 5)"
      ]
     },
     "execution_count": 59,
     "metadata": {},
     "output_type": "execute_result"
    }
   ],
   "source": [
    "range(5)"
   ]
  },
  {
   "cell_type": "code",
   "execution_count": 60,
   "id": "63fb281b",
   "metadata": {},
   "outputs": [
    {
     "name": "stdout",
     "output_type": "stream",
     "text": [
      "0\n",
      "1\n",
      "2\n",
      "3\n",
      "4\n"
     ]
    }
   ],
   "source": [
    "for i in range(5):\n",
    "    print(i)"
   ]
  },
  {
   "cell_type": "code",
   "execution_count": 62,
   "id": "f9f37490",
   "metadata": {},
   "outputs": [
    {
     "data": {
      "text/plain": [
       "\u001b[0;31mInit signature:\u001b[0m \u001b[0mrange\u001b[0m\u001b[0;34m(\u001b[0m\u001b[0mself\u001b[0m\u001b[0;34m,\u001b[0m \u001b[0;34m/\u001b[0m\u001b[0;34m,\u001b[0m \u001b[0;34m*\u001b[0m\u001b[0margs\u001b[0m\u001b[0;34m,\u001b[0m \u001b[0;34m**\u001b[0m\u001b[0mkwargs\u001b[0m\u001b[0;34m)\u001b[0m\u001b[0;34m\u001b[0m\u001b[0;34m\u001b[0m\u001b[0m\n",
       "\u001b[0;31mDocstring:\u001b[0m     \n",
       "range(stop) -> range object\n",
       "range(start, stop[, step]) -> range object\n",
       "\n",
       "Return an object that produces a sequence of integers from start (inclusive)\n",
       "to stop (exclusive) by step.  range(i, j) produces i, i+1, i+2, ..., j-1.\n",
       "start defaults to 0, and stop is omitted!  range(4) produces 0, 1, 2, 3.\n",
       "These are exactly the valid indices for a list of 4 elements.\n",
       "When step is given, it specifies the increment (or decrement).\n",
       "\u001b[0;31mType:\u001b[0m           type\n",
       "\u001b[0;31mSubclasses:\u001b[0m     \n"
      ]
     },
     "metadata": {},
     "output_type": "display_data"
    }
   ],
   "source": [
    "range?"
   ]
  },
  {
   "cell_type": "code",
   "execution_count": 63,
   "id": "3162a37f",
   "metadata": {},
   "outputs": [
    {
     "data": {
      "text/plain": [
       "<enumerate at 0x7faba845ef40>"
      ]
     },
     "execution_count": 63,
     "metadata": {},
     "output_type": "execute_result"
    }
   ],
   "source": [
    "enumerate(models)"
   ]
  },
  {
   "cell_type": "code",
   "execution_count": null,
   "id": "145f466a",
   "metadata": {},
   "outputs": [],
   "source": []
  },
  {
   "cell_type": "code",
   "execution_count": 67,
   "id": "6e5a1058",
   "metadata": {},
   "outputs": [
    {
     "name": "stdout",
     "output_type": "stream",
     "text": [
      "0 glm poisson params1\n",
      "glm poisson params1\n",
      "1 glm poisson params2\n",
      "glm poisson params2\n",
      "2 glm poisson params3\n",
      "glm poisson params3\n"
     ]
    }
   ],
   "source": [
    "for index, value in enumerate(models):\n",
    "    print(index, value)\n",
    "    print(models[index])"
   ]
  },
  {
   "cell_type": "code",
   "execution_count": null,
   "id": "b913a221",
   "metadata": {},
   "outputs": [],
   "source": []
  },
  {
   "cell_type": "code",
   "execution_count": 68,
   "id": "c11412e3",
   "metadata": {},
   "outputs": [],
   "source": [
    "s = set(models)"
   ]
  },
  {
   "cell_type": "code",
   "execution_count": 69,
   "id": "20db4056",
   "metadata": {},
   "outputs": [
    {
     "data": {
      "text/plain": [
       "{'glm poisson params1', 'glm poisson params2', 'glm poisson params3'}"
      ]
     },
     "execution_count": 69,
     "metadata": {},
     "output_type": "execute_result"
    }
   ],
   "source": [
    "s"
   ]
  },
  {
   "cell_type": "code",
   "execution_count": 70,
   "id": "45ca87cf",
   "metadata": {},
   "outputs": [],
   "source": [
    "s.add('model4')"
   ]
  },
  {
   "cell_type": "code",
   "execution_count": 71,
   "id": "3352158d",
   "metadata": {},
   "outputs": [
    {
     "data": {
      "text/plain": [
       "{'glm poisson params1', 'glm poisson params2', 'glm poisson params3', 'model4'}"
      ]
     },
     "execution_count": 71,
     "metadata": {},
     "output_type": "execute_result"
    }
   ],
   "source": [
    "s"
   ]
  },
  {
   "cell_type": "code",
   "execution_count": 74,
   "id": "72987627",
   "metadata": {},
   "outputs": [
    {
     "data": {
      "text/plain": [
       "s.__and__\n",
       "s.__class__\n",
       "s.__contains__\n",
       "s.__delattr__\n",
       "s.__dir__\n",
       "s.__doc__\n",
       "s.__eq__\n",
       "s.__format__\n",
       "s.__ge__\n",
       "s.__getattribute__\n",
       "s.__gt__\n",
       "s.__hash__\n",
       "s.__iand__\n",
       "s.__init__\n",
       "s.__init_subclass__\n",
       "s.__ior__\n",
       "s.__isub__\n",
       "s.__iter__\n",
       "s.__ixor__\n",
       "s.__le__\n",
       "s.__len__\n",
       "s.__lt__\n",
       "s.__ne__\n",
       "s.__new__\n",
       "s.__or__\n",
       "s.__rand__\n",
       "s.__reduce__\n",
       "s.__reduce_ex__\n",
       "s.__repr__\n",
       "s.__ror__\n",
       "s.__rsub__\n",
       "s.__rxor__\n",
       "s.__setattr__\n",
       "s.__sizeof__\n",
       "s.__str__\n",
       "s.__sub__\n",
       "s.__subclasshook__\n",
       "s.__xor__\n",
       "s.add\n",
       "s.clear\n",
       "s.copy\n",
       "s.difference\n",
       "s.difference_update\n",
       "s.discard\n",
       "s.intersection\n",
       "s.intersection_update\n",
       "s.isdisjoint\n",
       "s.issubset\n",
       "s.issuperset\n",
       "s.pop\n",
       "s.remove\n",
       "s.symmetric_difference\n",
       "s.symmetric_difference_update\n",
       "s.union\n",
       "s.update"
      ]
     },
     "metadata": {},
     "output_type": "display_data"
    }
   ],
   "source": [
    "s.*?"
   ]
  },
  {
   "cell_type": "code",
   "execution_count": null,
   "id": "4ec02bf3",
   "metadata": {},
   "outputs": [],
   "source": []
  }
 ],
 "metadata": {
  "kernelspec": {
   "display_name": "Python 3",
   "language": "python",
   "name": "python3"
  },
  "language_info": {
   "codemirror_mode": {
    "name": "ipython",
    "version": 3
   },
   "file_extension": ".py",
   "mimetype": "text/x-python",
   "name": "python",
   "nbconvert_exporter": "python",
   "pygments_lexer": "ipython3",
   "version": "3.8.8"
  }
 },
 "nbformat": 4,
 "nbformat_minor": 5
}
