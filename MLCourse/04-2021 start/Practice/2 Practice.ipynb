{
 "cells": [
  {
   "cell_type": "code",
   "execution_count": 1,
   "id": "a8173967",
   "metadata": {},
   "outputs": [],
   "source": [
    "# * Cловари\n",
    "# * Функции и классы\n",
    "\n",
    "# * Подключение к базе данных\n",
    "# * Pandas\n",
    "# * Загрузка данных из файла\n",
    "# * Вспоминаем тип данных Series\n",
    "# * Вспоминаем тип данных Dataframe\n",
    "# * Подготовка данных для моделирования – очистка данных\n",
    "# * Работа с пропущенными значениями\n",
    "# * Разделение данных, обработка и слияние данных\n",
    "# * Базовая функциональность, описательные статистики\n",
    "# * Базовые элементы визуализации\n",
    "\n"
   ]
  },
  {
   "cell_type": "markdown",
   "id": "5a5a055e",
   "metadata": {},
   "source": [
    "# Множества"
   ]
  },
  {
   "cell_type": "code",
   "execution_count": 73,
   "id": "f7d21757",
   "metadata": {},
   "outputs": [
    {
     "data": {
      "text/plain": [
       "[1, 2, 3, 4, 4]"
      ]
     },
     "execution_count": 73,
     "metadata": {},
     "output_type": "execute_result"
    }
   ],
   "source": [
    "[1,2,3,4,4]"
   ]
  },
  {
   "cell_type": "code",
   "execution_count": 74,
   "id": "67d1779e",
   "metadata": {},
   "outputs": [],
   "source": [
    "s = set([1,2,3,4,4])"
   ]
  },
  {
   "cell_type": "code",
   "execution_count": 76,
   "id": "d25b3e58",
   "metadata": {},
   "outputs": [
    {
     "data": {
      "text/plain": [
       "set"
      ]
     },
     "execution_count": 76,
     "metadata": {},
     "output_type": "execute_result"
    }
   ],
   "source": [
    "type(s)"
   ]
  },
  {
   "cell_type": "code",
   "execution_count": 75,
   "id": "552393f8",
   "metadata": {},
   "outputs": [
    {
     "data": {
      "text/plain": [
       "{1, 2, 3, 4}"
      ]
     },
     "execution_count": 75,
     "metadata": {},
     "output_type": "execute_result"
    }
   ],
   "source": [
    "s"
   ]
  },
  {
   "cell_type": "code",
   "execution_count": 77,
   "id": "cb1f097d",
   "metadata": {},
   "outputs": [],
   "source": [
    "s1 = set(range(0,5))"
   ]
  },
  {
   "cell_type": "code",
   "execution_count": 78,
   "id": "8750db41",
   "metadata": {},
   "outputs": [
    {
     "data": {
      "text/plain": [
       "{0, 1, 2, 3, 4}"
      ]
     },
     "execution_count": 78,
     "metadata": {},
     "output_type": "execute_result"
    }
   ],
   "source": [
    "s1"
   ]
  },
  {
   "cell_type": "code",
   "execution_count": 79,
   "id": "a3b8ceb3",
   "metadata": {},
   "outputs": [],
   "source": [
    "s2 = set(range(0,10))"
   ]
  },
  {
   "cell_type": "code",
   "execution_count": 80,
   "id": "74b13bc0",
   "metadata": {},
   "outputs": [
    {
     "data": {
      "text/plain": [
       "{0, 1, 2, 3, 4, 5, 6, 7, 8, 9}"
      ]
     },
     "execution_count": 80,
     "metadata": {},
     "output_type": "execute_result"
    }
   ],
   "source": [
    "s2"
   ]
  },
  {
   "cell_type": "code",
   "execution_count": null,
   "id": "11ca44a4",
   "metadata": {},
   "outputs": [],
   "source": []
  },
  {
   "cell_type": "code",
   "execution_count": null,
   "id": "518bd71f",
   "metadata": {},
   "outputs": [],
   "source": [
    "#difference"
   ]
  },
  {
   "cell_type": "code",
   "execution_count": 83,
   "id": "ddcac332",
   "metadata": {},
   "outputs": [
    {
     "data": {
      "text/plain": [
       "{5, 6, 7, 8, 9}"
      ]
     },
     "execution_count": 83,
     "metadata": {},
     "output_type": "execute_result"
    }
   ],
   "source": [
    "s2.difference(s1)"
   ]
  },
  {
   "cell_type": "code",
   "execution_count": null,
   "id": "306173e9",
   "metadata": {},
   "outputs": [],
   "source": [
    "#intersection"
   ]
  },
  {
   "cell_type": "code",
   "execution_count": 84,
   "id": "7674a834",
   "metadata": {},
   "outputs": [
    {
     "data": {
      "text/plain": [
       "{0, 1, 2, 3, 4}"
      ]
     },
     "execution_count": 84,
     "metadata": {},
     "output_type": "execute_result"
    }
   ],
   "source": [
    "s2.intersection(s1)"
   ]
  },
  {
   "cell_type": "code",
   "execution_count": null,
   "id": "5fcd573a",
   "metadata": {},
   "outputs": [],
   "source": [
    "#discard"
   ]
  },
  {
   "cell_type": "code",
   "execution_count": 85,
   "id": "8f56290e",
   "metadata": {},
   "outputs": [],
   "source": [
    "s2.discard(1)"
   ]
  },
  {
   "cell_type": "code",
   "execution_count": 86,
   "id": "5e76a388",
   "metadata": {},
   "outputs": [
    {
     "data": {
      "text/plain": [
       "{0, 2, 3, 4, 5, 6, 7, 8, 9}"
      ]
     },
     "execution_count": 86,
     "metadata": {},
     "output_type": "execute_result"
    }
   ],
   "source": [
    "s2"
   ]
  },
  {
   "cell_type": "markdown",
   "id": "438db9b9",
   "metadata": {},
   "source": [
    "# Словари"
   ]
  },
  {
   "cell_type": "code",
   "execution_count": 87,
   "id": "9ce9c35d",
   "metadata": {},
   "outputs": [],
   "source": [
    "d={}"
   ]
  },
  {
   "cell_type": "code",
   "execution_count": null,
   "id": "243c08f1",
   "metadata": {},
   "outputs": [],
   "source": [
    "d=dict{}"
   ]
  },
  {
   "cell_type": "code",
   "execution_count": 88,
   "id": "69a71ef0",
   "metadata": {},
   "outputs": [],
   "source": [
    "d = {\n",
    "    'Name':'Ivan',\n",
    "    'Surname':'Sidorov'\n",
    "}"
   ]
  },
  {
   "cell_type": "code",
   "execution_count": 89,
   "id": "2b5e252d",
   "metadata": {},
   "outputs": [
    {
     "data": {
      "text/plain": [
       "{'Name': 'Ivan', 'Surname': 'Sidorov'}"
      ]
     },
     "execution_count": 89,
     "metadata": {},
     "output_type": "execute_result"
    }
   ],
   "source": [
    "d"
   ]
  },
  {
   "cell_type": "code",
   "execution_count": 91,
   "id": "b49a960e",
   "metadata": {},
   "outputs": [
    {
     "data": {
      "text/plain": [
       "dict_keys(['Name', 'Surname'])"
      ]
     },
     "execution_count": 91,
     "metadata": {},
     "output_type": "execute_result"
    }
   ],
   "source": [
    "d.keys()"
   ]
  },
  {
   "cell_type": "code",
   "execution_count": 92,
   "id": "a031ef6b",
   "metadata": {},
   "outputs": [
    {
     "data": {
      "text/plain": [
       "dict_values(['Ivan', 'Sidorov'])"
      ]
     },
     "execution_count": 92,
     "metadata": {},
     "output_type": "execute_result"
    }
   ],
   "source": [
    "d.values()"
   ]
  },
  {
   "cell_type": "code",
   "execution_count": 93,
   "id": "ad85bfb9",
   "metadata": {},
   "outputs": [
    {
     "data": {
      "text/plain": [
       "dict_items([('Name', 'Ivan'), ('Surname', 'Sidorov')])"
      ]
     },
     "execution_count": 93,
     "metadata": {},
     "output_type": "execute_result"
    }
   ],
   "source": [
    "d.items()"
   ]
  },
  {
   "cell_type": "code",
   "execution_count": null,
   "id": "3152afea",
   "metadata": {},
   "outputs": [],
   "source": []
  },
  {
   "cell_type": "code",
   "execution_count": 95,
   "id": "aa93b15c",
   "metadata": {},
   "outputs": [],
   "source": [
    "d2 = dict(Name='Ivan', Surname='Sidorov')"
   ]
  },
  {
   "cell_type": "code",
   "execution_count": 96,
   "id": "2ecd708d",
   "metadata": {},
   "outputs": [
    {
     "data": {
      "text/plain": [
       "{'Name': 'Ivan', 'Surname': 'Sidorov'}"
      ]
     },
     "execution_count": 96,
     "metadata": {},
     "output_type": "execute_result"
    }
   ],
   "source": [
    "d2"
   ]
  },
  {
   "cell_type": "code",
   "execution_count": 98,
   "id": "b38bd542",
   "metadata": {},
   "outputs": [],
   "source": [
    "d3 = dict([('Name', 'Ivan'), ('Surname', 'Sidorov')])"
   ]
  },
  {
   "cell_type": "code",
   "execution_count": 99,
   "id": "d42b10a1",
   "metadata": {},
   "outputs": [
    {
     "data": {
      "text/plain": [
       "{'Name': 'Ivan', 'Surname': 'Sidorov'}"
      ]
     },
     "execution_count": 99,
     "metadata": {},
     "output_type": "execute_result"
    }
   ],
   "source": [
    "d3"
   ]
  },
  {
   "cell_type": "code",
   "execution_count": null,
   "id": "bc8f7609",
   "metadata": {},
   "outputs": [],
   "source": [
    "# способы создания словарей"
   ]
  },
  {
   "cell_type": "code",
   "execution_count": null,
   "id": "b4e8e882",
   "metadata": {},
   "outputs": [],
   "source": []
  },
  {
   "cell_type": "code",
   "execution_count": null,
   "id": "9453ea6d",
   "metadata": {},
   "outputs": [],
   "source": [
    "# работа с ключом и значением"
   ]
  },
  {
   "cell_type": "code",
   "execution_count": 17,
   "id": "da19b320",
   "metadata": {},
   "outputs": [
    {
     "data": {
      "text/plain": [
       "dict_keys([0, 1, 2, 3, 4])"
      ]
     },
     "execution_count": 17,
     "metadata": {},
     "output_type": "execute_result"
    }
   ],
   "source": [
    "d.keys()"
   ]
  },
  {
   "cell_type": "code",
   "execution_count": 18,
   "id": "1a6c953e",
   "metadata": {},
   "outputs": [
    {
     "data": {
      "text/plain": [
       "dict_values([0, 3, 6, 9, 12])"
      ]
     },
     "execution_count": 18,
     "metadata": {},
     "output_type": "execute_result"
    }
   ],
   "source": [
    "d.values()"
   ]
  },
  {
   "cell_type": "code",
   "execution_count": 20,
   "id": "8bf34c82",
   "metadata": {},
   "outputs": [
    {
     "data": {
      "text/plain": [
       "dict_items([(0, 0), (1, 3), (2, 6), (3, 9), (4, 12)])"
      ]
     },
     "execution_count": 20,
     "metadata": {},
     "output_type": "execute_result"
    }
   ],
   "source": [
    "d.items()"
   ]
  },
  {
   "cell_type": "code",
   "execution_count": null,
   "id": "d584a948",
   "metadata": {},
   "outputs": [],
   "source": [
    "# list comprehension"
   ]
  },
  {
   "cell_type": "code",
   "execution_count": 8,
   "id": "fd75f129",
   "metadata": {},
   "outputs": [
    {
     "data": {
      "text/plain": [
       "[0, 1, 2, 3, 4]"
      ]
     },
     "execution_count": 8,
     "metadata": {},
     "output_type": "execute_result"
    }
   ],
   "source": [
    "[i for i in range (0,5)]"
   ]
  },
  {
   "cell_type": "code",
   "execution_count": null,
   "id": "9fe908a1",
   "metadata": {},
   "outputs": [],
   "source": []
  },
  {
   "cell_type": "code",
   "execution_count": 101,
   "id": "d6d45acf",
   "metadata": {},
   "outputs": [
    {
     "data": {
      "text/plain": [
       "[10, 11, 12, 13, 14]"
      ]
     },
     "execution_count": 101,
     "metadata": {},
     "output_type": "execute_result"
    }
   ],
   "source": [
    "[j for j in range(10,15)]"
   ]
  },
  {
   "cell_type": "code",
   "execution_count": null,
   "id": "6de1406b",
   "metadata": {},
   "outputs": [],
   "source": []
  },
  {
   "cell_type": "code",
   "execution_count": null,
   "id": "7c5a87c0",
   "metadata": {},
   "outputs": [],
   "source": [
    "# dict comprehension"
   ]
  },
  {
   "cell_type": "code",
   "execution_count": 13,
   "id": "a58c6790",
   "metadata": {},
   "outputs": [],
   "source": [
    "d = {i: i*3 for i in range (0,5) }"
   ]
  },
  {
   "cell_type": "code",
   "execution_count": 14,
   "id": "507c7e5c",
   "metadata": {},
   "outputs": [
    {
     "data": {
      "text/plain": [
       "{0: 0, 1: 3, 2: 6, 3: 9, 4: 12}"
      ]
     },
     "execution_count": 14,
     "metadata": {},
     "output_type": "execute_result"
    }
   ],
   "source": [
    "d"
   ]
  },
  {
   "cell_type": "code",
   "execution_count": null,
   "id": "90e0220d",
   "metadata": {},
   "outputs": [],
   "source": []
  },
  {
   "cell_type": "code",
   "execution_count": null,
   "id": "7ee4bec2",
   "metadata": {},
   "outputs": [],
   "source": []
  },
  {
   "cell_type": "code",
   "execution_count": 104,
   "id": "80752b89",
   "metadata": {},
   "outputs": [
    {
     "data": {
      "text/plain": [
       "{10: 100, 11: 121, 12: 144, 13: 169, 14: 196}"
      ]
     },
     "execution_count": 104,
     "metadata": {},
     "output_type": "execute_result"
    }
   ],
   "source": [
    "{j: j**2 for j in range(10,15)}"
   ]
  },
  {
   "cell_type": "code",
   "execution_count": null,
   "id": "f660c565",
   "metadata": {},
   "outputs": [],
   "source": []
  },
  {
   "cell_type": "markdown",
   "id": "0f55e657",
   "metadata": {},
   "source": [
    "# Модули"
   ]
  },
  {
   "cell_type": "code",
   "execution_count": 105,
   "id": "2f71bfd4",
   "metadata": {},
   "outputs": [],
   "source": [
    "import MyModule"
   ]
  },
  {
   "cell_type": "code",
   "execution_count": 107,
   "id": "90228102",
   "metadata": {},
   "outputs": [],
   "source": [
    "from MyModule import myfunction"
   ]
  },
  {
   "cell_type": "code",
   "execution_count": 108,
   "id": "30aeb165",
   "metadata": {},
   "outputs": [
    {
     "name": "stdout",
     "output_type": "stream",
     "text": [
      "output from my function\n"
     ]
    }
   ],
   "source": [
    "myfunction()"
   ]
  },
  {
   "cell_type": "code",
   "execution_count": 21,
   "id": "25b449b2",
   "metadata": {},
   "outputs": [],
   "source": [
    "import collections"
   ]
  },
  {
   "cell_type": "code",
   "execution_count": 22,
   "id": "8a609a25",
   "metadata": {},
   "outputs": [],
   "source": [
    "import collections as cs"
   ]
  },
  {
   "cell_type": "code",
   "execution_count": 24,
   "id": "ec63ae4e",
   "metadata": {},
   "outputs": [],
   "source": [
    "from collections import Counter"
   ]
  },
  {
   "cell_type": "code",
   "execution_count": 59,
   "id": "81b6e2ef",
   "metadata": {},
   "outputs": [],
   "source": [
    "# https://docs.python.org/3/library/collections.html"
   ]
  },
  {
   "cell_type": "code",
   "execution_count": 112,
   "id": "05fc671c",
   "metadata": {},
   "outputs": [],
   "source": [
    "cnt=cs.Counter()"
   ]
  },
  {
   "cell_type": "code",
   "execution_count": 113,
   "id": "dc1a1dc3",
   "metadata": {},
   "outputs": [],
   "source": [
    "colors = ['красный','синий','красный','зеленый','красный','синий','красный', 'синий','зеленый']"
   ]
  },
  {
   "cell_type": "code",
   "execution_count": 114,
   "id": "b8e4760d",
   "metadata": {},
   "outputs": [],
   "source": [
    "for word in colors:\n",
    "    cnt[word] += 1"
   ]
  },
  {
   "cell_type": "code",
   "execution_count": 115,
   "id": "f471d431",
   "metadata": {},
   "outputs": [
    {
     "data": {
      "text/plain": [
       "Counter({'красный': 4, 'синий': 3, 'зеленый': 2})"
      ]
     },
     "execution_count": 115,
     "metadata": {},
     "output_type": "execute_result"
    }
   ],
   "source": [
    "cnt"
   ]
  },
  {
   "cell_type": "code",
   "execution_count": 116,
   "id": "16a6f666",
   "metadata": {},
   "outputs": [
    {
     "data": {
      "text/plain": [
       "[('красный', 4), ('синий', 3)]"
      ]
     },
     "execution_count": 116,
     "metadata": {},
     "output_type": "execute_result"
    }
   ],
   "source": [
    "cnt.most_common(2)"
   ]
  },
  {
   "cell_type": "code",
   "execution_count": 117,
   "id": "8c45f857",
   "metadata": {},
   "outputs": [
    {
     "data": {
      "text/plain": [
       "cnt.__add__\n",
       "cnt.__and__\n",
       "cnt.__class__\n",
       "cnt.__contains__\n",
       "cnt.__delattr__\n",
       "cnt.__delitem__\n",
       "cnt.__dict__\n",
       "cnt.__dir__\n",
       "cnt.__doc__\n",
       "cnt.__eq__\n",
       "cnt.__format__\n",
       "cnt.__ge__\n",
       "cnt.__getattribute__\n",
       "cnt.__getitem__\n",
       "cnt.__gt__\n",
       "cnt.__hash__\n",
       "cnt.__iadd__\n",
       "cnt.__iand__\n",
       "cnt.__init__\n",
       "cnt.__init_subclass__\n",
       "cnt.__ior__\n",
       "cnt.__isub__\n",
       "cnt.__iter__\n",
       "cnt.__le__\n",
       "cnt.__len__\n",
       "cnt.__lt__\n",
       "cnt.__missing__\n",
       "cnt.__module__\n",
       "cnt.__ne__\n",
       "cnt.__neg__\n",
       "cnt.__new__\n",
       "cnt.__or__\n",
       "cnt.__pos__\n",
       "cnt.__reduce__\n",
       "cnt.__reduce_ex__\n",
       "cnt.__repr__\n",
       "cnt.__reversed__\n",
       "cnt.__setattr__\n",
       "cnt.__setitem__\n",
       "cnt.__sizeof__\n",
       "cnt.__str__\n",
       "cnt.__sub__\n",
       "cnt.__subclasshook__\n",
       "cnt.__weakref__\n",
       "cnt.clear\n",
       "cnt.copy\n",
       "cnt.elements\n",
       "cnt.fromkeys\n",
       "cnt.get\n",
       "cnt.items\n",
       "cnt.keys\n",
       "cnt.most_common\n",
       "cnt.pop\n",
       "cnt.popitem\n",
       "cnt.setdefault\n",
       "cnt.subtract\n",
       "cnt.update\n",
       "cnt.values"
      ]
     },
     "metadata": {},
     "output_type": "display_data"
    }
   ],
   "source": [
    "cnt.*?"
   ]
  },
  {
   "cell_type": "markdown",
   "id": "c932b6b3",
   "metadata": {},
   "source": [
    "# Функции"
   ]
  },
  {
   "cell_type": "code",
   "execution_count": 118,
   "id": "7229b4a1",
   "metadata": {},
   "outputs": [],
   "source": [
    "def myfunc1():\n",
    "    print('123')\n",
    "    return 1234"
   ]
  },
  {
   "cell_type": "code",
   "execution_count": 120,
   "id": "d9bcb975",
   "metadata": {},
   "outputs": [
    {
     "name": "stdout",
     "output_type": "stream",
     "text": [
      "123\n"
     ]
    },
    {
     "data": {
      "text/plain": [
       "1234"
      ]
     },
     "execution_count": 120,
     "metadata": {},
     "output_type": "execute_result"
    }
   ],
   "source": [
    "myfunc1()"
   ]
  },
  {
   "cell_type": "code",
   "execution_count": null,
   "id": "1d112c42",
   "metadata": {},
   "outputs": [],
   "source": [
    "# функция с параметрами (позионные, неименованные, именованные)"
   ]
  },
  {
   "cell_type": "code",
   "execution_count": 124,
   "id": "1ccad073",
   "metadata": {},
   "outputs": [],
   "source": [
    "def myfunc1(x,y):\n",
    "    return x+y"
   ]
  },
  {
   "cell_type": "code",
   "execution_count": 126,
   "id": "707ee443",
   "metadata": {},
   "outputs": [
    {
     "ename": "TypeError",
     "evalue": "myfunc1() missing 2 required positional arguments: 'x' and 'y'",
     "output_type": "error",
     "traceback": [
      "\u001b[0;31m---------------------------------------------------------------------------\u001b[0m",
      "\u001b[0;31mTypeError\u001b[0m                                 Traceback (most recent call last)",
      "\u001b[0;32m<ipython-input-126-d4dcd16ff68c>\u001b[0m in \u001b[0;36m<module>\u001b[0;34m\u001b[0m\n\u001b[0;32m----> 1\u001b[0;31m \u001b[0mmyfunc1\u001b[0m\u001b[0;34m(\u001b[0m\u001b[0;34m)\u001b[0m\u001b[0;34m\u001b[0m\u001b[0;34m\u001b[0m\u001b[0m\n\u001b[0m",
      "\u001b[0;31mTypeError\u001b[0m: myfunc1() missing 2 required positional arguments: 'x' and 'y'"
     ]
    }
   ],
   "source": [
    "myfunc1()"
   ]
  },
  {
   "cell_type": "code",
   "execution_count": 122,
   "id": "54e27160",
   "metadata": {},
   "outputs": [],
   "source": [
    "def myfunc1(x=1,y=2):\n",
    "    return x+y"
   ]
  },
  {
   "cell_type": "code",
   "execution_count": 123,
   "id": "9fb9e176",
   "metadata": {},
   "outputs": [
    {
     "data": {
      "text/plain": [
       "3"
      ]
     },
     "execution_count": 123,
     "metadata": {},
     "output_type": "execute_result"
    }
   ],
   "source": [
    "myfunc1()"
   ]
  },
  {
   "cell_type": "code",
   "execution_count": 128,
   "id": "67d293ca",
   "metadata": {},
   "outputs": [],
   "source": [
    "def myfunc1(x,y,*,z):\n",
    "    return x+y+z"
   ]
  },
  {
   "cell_type": "code",
   "execution_count": 130,
   "id": "75a8a766",
   "metadata": {},
   "outputs": [
    {
     "data": {
      "text/plain": [
       "6"
      ]
     },
     "execution_count": 130,
     "metadata": {},
     "output_type": "execute_result"
    }
   ],
   "source": [
    "myfunc1(1,2,z=3)"
   ]
  },
  {
   "cell_type": "code",
   "execution_count": 132,
   "id": "32ec9cb3",
   "metadata": {},
   "outputs": [],
   "source": [
    "params=[1,2,3]"
   ]
  },
  {
   "cell_type": "code",
   "execution_count": 131,
   "id": "e5b4748d",
   "metadata": {},
   "outputs": [],
   "source": [
    "def myfunc1(x,y,z):\n",
    "    return x+y+z"
   ]
  },
  {
   "cell_type": "code",
   "execution_count": 133,
   "id": "e2eb4db7",
   "metadata": {},
   "outputs": [
    {
     "data": {
      "text/plain": [
       "6"
      ]
     },
     "execution_count": 133,
     "metadata": {},
     "output_type": "execute_result"
    }
   ],
   "source": [
    "myfunc1(*params)"
   ]
  },
  {
   "cell_type": "code",
   "execution_count": 134,
   "id": "3014cddd",
   "metadata": {},
   "outputs": [],
   "source": [
    "params_dict={'x':2, 'y':3, 'z':4}"
   ]
  },
  {
   "cell_type": "code",
   "execution_count": 135,
   "id": "770409f8",
   "metadata": {},
   "outputs": [
    {
     "data": {
      "text/plain": [
       "9"
      ]
     },
     "execution_count": 135,
     "metadata": {},
     "output_type": "execute_result"
    }
   ],
   "source": [
    "myfunc1(**params_dict)"
   ]
  },
  {
   "cell_type": "code",
   "execution_count": 138,
   "id": "82c0f833",
   "metadata": {},
   "outputs": [],
   "source": [
    "def myfunc1(*args, **kwargs):\n",
    "    for i, arg in enumerate(args):\n",
    "        print(i,arg)\n",
    "    \n",
    "    for key, value in kwargs.items():\n",
    "        print(key, value)"
   ]
  },
  {
   "cell_type": "code",
   "execution_count": 139,
   "id": "5318c5f2",
   "metadata": {},
   "outputs": [
    {
     "name": "stdout",
     "output_type": "stream",
     "text": [
      "0 1\n",
      "1 2\n",
      "2 3\n",
      "x 2\n",
      "y 3\n",
      "z 4\n"
     ]
    }
   ],
   "source": [
    "myfunc1(*[1,2,3], **{'x':2, 'y':3, 'z':4})"
   ]
  },
  {
   "cell_type": "code",
   "execution_count": null,
   "id": "c3cf7a03",
   "metadata": {},
   "outputs": [],
   "source": []
  },
  {
   "cell_type": "code",
   "execution_count": null,
   "id": "19714875",
   "metadata": {},
   "outputs": [],
   "source": [
    "# требование явного указания параметров *"
   ]
  },
  {
   "cell_type": "code",
   "execution_count": null,
   "id": "f68f12a1",
   "metadata": {},
   "outputs": [],
   "source": []
  },
  {
   "cell_type": "code",
   "execution_count": null,
   "id": "7cb45a68",
   "metadata": {},
   "outputs": [],
   "source": [
    "# распаковка позиционных параметров через список"
   ]
  },
  {
   "cell_type": "code",
   "execution_count": null,
   "id": "2e1a4d95",
   "metadata": {},
   "outputs": [],
   "source": []
  },
  {
   "cell_type": "code",
   "execution_count": null,
   "id": "4d5dbea8",
   "metadata": {},
   "outputs": [],
   "source": [
    "# распаковка именованных параметров через словарь"
   ]
  },
  {
   "cell_type": "code",
   "execution_count": null,
   "id": "987c4fc6",
   "metadata": {},
   "outputs": [],
   "source": []
  },
  {
   "cell_type": "code",
   "execution_count": null,
   "id": "11cb73e8",
   "metadata": {},
   "outputs": [],
   "source": [
    "# комбинация распаковки параметров"
   ]
  },
  {
   "cell_type": "code",
   "execution_count": null,
   "id": "67d9a26b",
   "metadata": {},
   "outputs": [],
   "source": [
    "def myfunc1(a, b=5, *args, **kwargs):\n",
    "    for i, arg in enumerate(args):\n",
    "        print(i,arg)\n",
    "    \n",
    "    for key, value in kwargs.items():\n",
    "        print(key, value)"
   ]
  },
  {
   "cell_type": "markdown",
   "id": "bc51e6f3",
   "metadata": {},
   "source": [
    "# Lambda-выражения"
   ]
  },
  {
   "cell_type": "code",
   "execution_count": 140,
   "id": "24723a70",
   "metadata": {},
   "outputs": [
    {
     "data": {
      "text/plain": [
       "<function __main__.<lambda>(x)>"
      ]
     },
     "execution_count": 140,
     "metadata": {},
     "output_type": "execute_result"
    }
   ],
   "source": [
    "lambda x: x + 1"
   ]
  },
  {
   "cell_type": "code",
   "execution_count": 141,
   "id": "2b5d8f47",
   "metadata": {},
   "outputs": [],
   "source": [
    "def add_one(x):\n",
    "    return x+1"
   ]
  },
  {
   "cell_type": "code",
   "execution_count": 63,
   "id": "f0d1b87e",
   "metadata": {},
   "outputs": [],
   "source": [
    "f = lambda x: x + 1 # но так лучше не делать"
   ]
  },
  {
   "cell_type": "code",
   "execution_count": 64,
   "id": "823e217b",
   "metadata": {},
   "outputs": [
    {
     "data": {
      "text/plain": [
       "2"
      ]
     },
     "execution_count": 64,
     "metadata": {},
     "output_type": "execute_result"
    }
   ],
   "source": [
    "f(1)"
   ]
  },
  {
   "cell_type": "code",
   "execution_count": 142,
   "id": "7952fff0",
   "metadata": {},
   "outputs": [],
   "source": [
    "L = [1,2,3]"
   ]
  },
  {
   "cell_type": "code",
   "execution_count": 145,
   "id": "c76b5ece",
   "metadata": {},
   "outputs": [],
   "source": [
    "def sq(x):\n",
    "    return x*x"
   ]
  },
  {
   "cell_type": "code",
   "execution_count": 148,
   "id": "d346afb7",
   "metadata": {},
   "outputs": [
    {
     "data": {
      "text/plain": [
       "[1, 4, 9]"
      ]
     },
     "execution_count": 148,
     "metadata": {},
     "output_type": "execute_result"
    }
   ],
   "source": [
    "list(map(sq, L))"
   ]
  },
  {
   "cell_type": "code",
   "execution_count": 149,
   "id": "aa5f01ef",
   "metadata": {},
   "outputs": [
    {
     "data": {
      "text/plain": [
       "[1, 4, 9]"
      ]
     },
     "execution_count": 149,
     "metadata": {},
     "output_type": "execute_result"
    }
   ],
   "source": [
    "list(map(lambda x: x*x, L))"
   ]
  },
  {
   "cell_type": "code",
   "execution_count": null,
   "id": "22bc99e7",
   "metadata": {},
   "outputs": [],
   "source": []
  },
  {
   "cell_type": "code",
   "execution_count": null,
   "id": "825a0c42",
   "metadata": {},
   "outputs": [],
   "source": [
    "# изменение итерируемых объектов"
   ]
  },
  {
   "cell_type": "markdown",
   "id": "f5a54bd4",
   "metadata": {},
   "source": [
    "# Основы ООП"
   ]
  },
  {
   "cell_type": "markdown",
   "id": "ecc8ceaf",
   "metadata": {},
   "source": [
    "### Создание классов"
   ]
  },
  {
   "cell_type": "code",
   "execution_count": 150,
   "id": "8a071efe",
   "metadata": {},
   "outputs": [],
   "source": [
    "class SomeClass:\n",
    "    _"
   ]
  },
  {
   "cell_type": "code",
   "execution_count": 151,
   "id": "7ec78681",
   "metadata": {},
   "outputs": [],
   "source": [
    "class SomeClass:\n",
    "    attr1 = 1\n",
    "    attr2 = 2"
   ]
  },
  {
   "cell_type": "code",
   "execution_count": 153,
   "id": "a52f4af0",
   "metadata": {},
   "outputs": [],
   "source": [
    "class SomeClass:\n",
    "    attr1 = 1\n",
    "    attr2 = 2\n",
    "    \n",
    "    def method_add(self, x,y):\n",
    "        return x+y"
   ]
  },
  {
   "cell_type": "code",
   "execution_count": 154,
   "id": "a51464bf",
   "metadata": {},
   "outputs": [],
   "source": [
    "sample_object = SomeClass()"
   ]
  },
  {
   "cell_type": "code",
   "execution_count": 157,
   "id": "c71a3184",
   "metadata": {},
   "outputs": [
    {
     "data": {
      "text/plain": [
       "30"
      ]
     },
     "execution_count": 157,
     "metadata": {},
     "output_type": "execute_result"
    }
   ],
   "source": [
    "sample_object.method_add(10,20)"
   ]
  },
  {
   "cell_type": "code",
   "execution_count": 164,
   "id": "86850f89",
   "metadata": {},
   "outputs": [],
   "source": [
    "class SomeClass:\n",
    "    attr1 = 1\n",
    "    attr2 = 2\n",
    "    \n",
    "    def __init__(self, x,y,z):\n",
    "        self.x=x\n",
    "        self.y=y\n",
    "        self.z=z\n",
    "        \n",
    "    \n",
    "    def method_add(self):\n",
    "        return self.x+self.y+self.z"
   ]
  },
  {
   "cell_type": "code",
   "execution_count": 165,
   "id": "c0ac4bb5",
   "metadata": {},
   "outputs": [],
   "source": [
    "sample_object = SomeClass(1,2,3)"
   ]
  },
  {
   "cell_type": "code",
   "execution_count": 166,
   "id": "c9866f74",
   "metadata": {},
   "outputs": [
    {
     "data": {
      "text/plain": [
       "6"
      ]
     },
     "execution_count": 166,
     "metadata": {},
     "output_type": "execute_result"
    }
   ],
   "source": [
    "sample_object.method_add()"
   ]
  },
  {
   "cell_type": "code",
   "execution_count": null,
   "id": "12e548b0",
   "metadata": {},
   "outputs": [],
   "source": []
  },
  {
   "cell_type": "code",
   "execution_count": 167,
   "id": "9c0127e9",
   "metadata": {},
   "outputs": [],
   "source": [
    "class Model:\n",
    "    \n",
    "    def __init__(self, x,y,z):\n",
    "        self.x=x\n",
    "        self.y=y\n",
    "        self.z=z\n",
    "        \n",
    "    \n",
    "    def fit(self):\n",
    "        return self.x+self.y+self.z"
   ]
  },
  {
   "cell_type": "code",
   "execution_count": 168,
   "id": "f75b3674",
   "metadata": {},
   "outputs": [],
   "source": [
    "sample_model = Model(1,2,3)"
   ]
  },
  {
   "cell_type": "code",
   "execution_count": 169,
   "id": "aad6062b",
   "metadata": {},
   "outputs": [
    {
     "data": {
      "text/plain": [
       "6"
      ]
     },
     "execution_count": 169,
     "metadata": {},
     "output_type": "execute_result"
    }
   ],
   "source": [
    "sample_model.fit()"
   ]
  },
  {
   "cell_type": "markdown",
   "id": "f7a04257",
   "metadata": {},
   "source": [
    "## Экземпляры классов"
   ]
  },
  {
   "cell_type": "code",
   "execution_count": 175,
   "id": "57d4400b",
   "metadata": {},
   "outputs": [],
   "source": [
    "class Model:\n",
    "    \n",
    "    def __init__(self, x,y,z):\n",
    "        self.x=x\n",
    "        self.y=y\n",
    "        self.z=z\n",
    "        \n",
    "    @staticmethod\n",
    "    def print_model_class_info():\n",
    "        print('this is model class')\n",
    "        \n",
    "    @classmethod\n",
    "    def print_model_class_info_class_method(cls):\n",
    "        print('this is model class', cls.__name__)\n",
    "        \n",
    "    \n",
    "    def fit(self):\n",
    "        return self.x+self.y+self.z"
   ]
  },
  {
   "cell_type": "code",
   "execution_count": 174,
   "id": "82fdb818",
   "metadata": {},
   "outputs": [
    {
     "name": "stdout",
     "output_type": "stream",
     "text": [
      "this is model class\n"
     ]
    }
   ],
   "source": [
    "Model.print_model_class_info()"
   ]
  },
  {
   "cell_type": "code",
   "execution_count": 176,
   "id": "a79bd59e",
   "metadata": {},
   "outputs": [
    {
     "name": "stdout",
     "output_type": "stream",
     "text": [
      "this is model class Model\n"
     ]
    }
   ],
   "source": [
    "Model.print_model_class_info_class_method()"
   ]
  },
  {
   "cell_type": "code",
   "execution_count": 70,
   "id": "8c65b9e5",
   "metadata": {},
   "outputs": [],
   "source": [
    "### Статические методы"
   ]
  },
  {
   "cell_type": "code",
   "execution_count": null,
   "id": "d41ffa56",
   "metadata": {},
   "outputs": [],
   "source": []
  },
  {
   "cell_type": "code",
   "execution_count": null,
   "id": "0063f7aa",
   "metadata": {},
   "outputs": [],
   "source": []
  },
  {
   "cell_type": "code",
   "execution_count": 71,
   "id": "5c854a21",
   "metadata": {},
   "outputs": [],
   "source": [
    "### Методы класса"
   ]
  },
  {
   "cell_type": "code",
   "execution_count": null,
   "id": "5e21d80e",
   "metadata": {},
   "outputs": [],
   "source": []
  },
  {
   "cell_type": "code",
   "execution_count": null,
   "id": "a928cf35",
   "metadata": {},
   "outputs": [],
   "source": []
  },
  {
   "cell_type": "code",
   "execution_count": null,
   "id": "020e39de",
   "metadata": {},
   "outputs": [],
   "source": [
    "__init__"
   ]
  },
  {
   "cell_type": "code",
   "execution_count": null,
   "id": "f37f3ad0",
   "metadata": {},
   "outputs": [],
   "source": [
    "__del__"
   ]
  },
  {
   "cell_type": "code",
   "execution_count": null,
   "id": "fa052e9a",
   "metadata": {},
   "outputs": [],
   "source": []
  },
  {
   "cell_type": "code",
   "execution_count": null,
   "id": "4b6da31c",
   "metadata": {},
   "outputs": [],
   "source": []
  },
  {
   "cell_type": "code",
   "execution_count": 72,
   "id": "7c01d411",
   "metadata": {},
   "outputs": [],
   "source": [
    "# Перегрузка операций"
   ]
  },
  {
   "cell_type": "code",
   "execution_count": null,
   "id": "6e0269cc",
   "metadata": {},
   "outputs": [],
   "source": []
  },
  {
   "cell_type": "code",
   "execution_count": null,
   "id": "c161db2f",
   "metadata": {},
   "outputs": [],
   "source": []
  },
  {
   "cell_type": "code",
   "execution_count": null,
   "id": "b47924b1",
   "metadata": {},
   "outputs": [],
   "source": [
    "__call__"
   ]
  },
  {
   "cell_type": "code",
   "execution_count": null,
   "id": "61490e94",
   "metadata": {},
   "outputs": [],
   "source": []
  },
  {
   "cell_type": "code",
   "execution_count": null,
   "id": "4ba7a536",
   "metadata": {},
   "outputs": [],
   "source": []
  },
  {
   "cell_type": "code",
   "execution_count": null,
   "id": "f3c9a11b",
   "metadata": {},
   "outputs": [],
   "source": []
  },
  {
   "cell_type": "code",
   "execution_count": 188,
   "id": "d74ced51",
   "metadata": {},
   "outputs": [],
   "source": [
    "class SomeClass:\n",
    "    \n",
    "    def __init__(self):\n",
    "        self.__param=10\n",
    "    \n",
    "    def _private(self):\n",
    "        print('_')\n",
    "    \n",
    "    def private(self):\n",
    "        print(self.__param)\n",
    "\n",
    "        \n",
    "    \n",
    "        "
   ]
  },
  {
   "cell_type": "code",
   "execution_count": 189,
   "id": "eb8a23c7",
   "metadata": {},
   "outputs": [],
   "source": [
    "obj = SomeClass()"
   ]
  },
  {
   "cell_type": "code",
   "execution_count": 182,
   "id": "6cb0d809",
   "metadata": {},
   "outputs": [
    {
     "name": "stdout",
     "output_type": "stream",
     "text": [
      "_\n"
     ]
    }
   ],
   "source": [
    "obj._private()"
   ]
  },
  {
   "cell_type": "code",
   "execution_count": 190,
   "id": "1a092580",
   "metadata": {},
   "outputs": [
    {
     "name": "stdout",
     "output_type": "stream",
     "text": [
      "10\n"
     ]
    }
   ],
   "source": [
    "obj.private()"
   ]
  },
  {
   "cell_type": "code",
   "execution_count": 187,
   "id": "355b9410",
   "metadata": {},
   "outputs": [
    {
     "ename": "AttributeError",
     "evalue": "'SomeClass' object has no attribute '__param'",
     "output_type": "error",
     "traceback": [
      "\u001b[0;31m---------------------------------------------------------------------------\u001b[0m",
      "\u001b[0;31mAttributeError\u001b[0m                            Traceback (most recent call last)",
      "\u001b[0;32m<ipython-input-187-057cd2273406>\u001b[0m in \u001b[0;36m<module>\u001b[0;34m\u001b[0m\n\u001b[0;32m----> 1\u001b[0;31m \u001b[0mobj\u001b[0m\u001b[0;34m.\u001b[0m\u001b[0m__param\u001b[0m\u001b[0;34m\u001b[0m\u001b[0;34m\u001b[0m\u001b[0m\n\u001b[0m",
      "\u001b[0;31mAttributeError\u001b[0m: 'SomeClass' object has no attribute '__param'"
     ]
    }
   ],
   "source": [
    "obj.__param"
   ]
  },
  {
   "cell_type": "code",
   "execution_count": null,
   "id": "d6e530b6",
   "metadata": {},
   "outputs": [],
   "source": []
  },
  {
   "cell_type": "code",
   "execution_count": null,
   "id": "6816c1b8",
   "metadata": {},
   "outputs": [],
   "source": []
  },
  {
   "cell_type": "code",
   "execution_count": null,
   "id": "75de0cb4",
   "metadata": {},
   "outputs": [],
   "source": []
  },
  {
   "cell_type": "code",
   "execution_count": 191,
   "id": "5e2e56f7",
   "metadata": {},
   "outputs": [],
   "source": [
    "class Mammal:\n",
    "    className = 'Mammal'\n",
    "    \n",
    "    "
   ]
  },
  {
   "cell_type": "code",
   "execution_count": 192,
   "id": "41ee6544",
   "metadata": {},
   "outputs": [],
   "source": [
    "class Human(Mammal):\n",
    "    description='Human'"
   ]
  },
  {
   "cell_type": "code",
   "execution_count": 193,
   "id": "98ecafe4",
   "metadata": {},
   "outputs": [],
   "source": [
    "obj = Human()"
   ]
  },
  {
   "cell_type": "code",
   "execution_count": 194,
   "id": "33237805",
   "metadata": {},
   "outputs": [
    {
     "data": {
      "text/plain": [
       "'Mammal'"
      ]
     },
     "execution_count": 194,
     "metadata": {},
     "output_type": "execute_result"
    }
   ],
   "source": [
    "obj.className"
   ]
  },
  {
   "cell_type": "code",
   "execution_count": 195,
   "id": "00d0f185",
   "metadata": {},
   "outputs": [
    {
     "data": {
      "text/plain": [
       "'Human'"
      ]
     },
     "execution_count": 195,
     "metadata": {},
     "output_type": "execute_result"
    }
   ],
   "source": [
    "obj.description"
   ]
  },
  {
   "cell_type": "code",
   "execution_count": null,
   "id": "ffed3a01",
   "metadata": {},
   "outputs": [],
   "source": []
  },
  {
   "cell_type": "code",
   "execution_count": null,
   "id": "6b194bec",
   "metadata": {},
   "outputs": [],
   "source": []
  },
  {
   "cell_type": "code",
   "execution_count": 196,
   "id": "7810484f",
   "metadata": {},
   "outputs": [],
   "source": [
    "class Mammal:\n",
    "    className = 'Mammal'\n",
    "    \n",
    "    def move(self):\n",
    "        print('Перемещается')"
   ]
  },
  {
   "cell_type": "code",
   "execution_count": 197,
   "id": "e88ea6de",
   "metadata": {},
   "outputs": [],
   "source": [
    "class Human(Mammal):\n",
    "    description='Human'\n",
    "    \n",
    "    def move(self):\n",
    "        print('Ходит')"
   ]
  },
  {
   "cell_type": "code",
   "execution_count": 198,
   "id": "8f20f16d",
   "metadata": {},
   "outputs": [],
   "source": [
    "obj = Mammal()"
   ]
  },
  {
   "cell_type": "code",
   "execution_count": 199,
   "id": "0355bef0",
   "metadata": {},
   "outputs": [
    {
     "name": "stdout",
     "output_type": "stream",
     "text": [
      "Перемещается\n"
     ]
    }
   ],
   "source": [
    "obj.move()"
   ]
  },
  {
   "cell_type": "code",
   "execution_count": 200,
   "id": "61982d7f",
   "metadata": {},
   "outputs": [],
   "source": [
    "obj_human = Human()"
   ]
  },
  {
   "cell_type": "code",
   "execution_count": 201,
   "id": "d2f76f21",
   "metadata": {},
   "outputs": [
    {
     "name": "stdout",
     "output_type": "stream",
     "text": [
      "Ходит\n"
     ]
    }
   ],
   "source": [
    "obj_human.move()"
   ]
  },
  {
   "cell_type": "code",
   "execution_count": null,
   "id": "c4fed364",
   "metadata": {},
   "outputs": [],
   "source": []
  },
  {
   "cell_type": "code",
   "execution_count": null,
   "id": "3d61ef4f",
   "metadata": {},
   "outputs": [],
   "source": []
  },
  {
   "cell_type": "code",
   "execution_count": null,
   "id": "fcce05fa",
   "metadata": {},
   "outputs": [],
   "source": [
    "SOLID"
   ]
  },
  {
   "cell_type": "code",
   "execution_count": null,
   "id": "5e11da49",
   "metadata": {},
   "outputs": [],
   "source": []
  },
  {
   "cell_type": "code",
   "execution_count": null,
   "id": "53ccdca1",
   "metadata": {},
   "outputs": [],
   "source": []
  }
 ],
 "metadata": {
  "kernelspec": {
   "display_name": "Python 3",
   "language": "python",
   "name": "python3"
  },
  "language_info": {
   "codemirror_mode": {
    "name": "ipython",
    "version": 3
   },
   "file_extension": ".py",
   "mimetype": "text/x-python",
   "name": "python",
   "nbconvert_exporter": "python",
   "pygments_lexer": "ipython3",
   "version": "3.8.8"
  }
 },
 "nbformat": 4,
 "nbformat_minor": 5
}
