{
 "cells": [
  {
   "cell_type": "code",
   "execution_count": 1,
   "id": "6c6155ea",
   "metadata": {},
   "outputs": [],
   "source": [
    "# * Cловари\n",
    "# * Функции и классы\n",
    "# * Подключение к базе данных\n",
    "# * Pandas\n",
    "# * Загрузка данных из файла\n",
    "# * Вспоминаем тип данных Series\n",
    "# * Вспоминаем тип данных Dataframe\n",
    "# * Подготовка данных для моделирования – очистка данных\n",
    "# * Работа с пропущенными значениями\n",
    "# * Разделение данных, обработка и слияние данных\n",
    "# * Базовая функциональность, описательные статистики\n",
    "# * Базовые элементы визуализации"
   ]
  },
  {
   "cell_type": "code",
   "execution_count": null,
   "id": "3ff39db5",
   "metadata": {},
   "outputs": [],
   "source": []
  }
 ],
 "metadata": {
  "kernelspec": {
   "display_name": "Python 3",
   "language": "python",
   "name": "python3"
  },
  "language_info": {
   "codemirror_mode": {
    "name": "ipython",
    "version": 3
   },
   "file_extension": ".py",
   "mimetype": "text/x-python",
   "name": "python",
   "nbconvert_exporter": "python",
   "pygments_lexer": "ipython3",
   "version": "3.8.8"
  }
 },
 "nbformat": 4,
 "nbformat_minor": 5
}
