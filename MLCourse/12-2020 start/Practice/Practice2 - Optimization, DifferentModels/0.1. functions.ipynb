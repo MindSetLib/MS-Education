{
 "cells": [
  {
   "cell_type": "code",
   "execution_count": 1,
   "metadata": {},
   "outputs": [
    {
     "name": "stdout",
     "output_type": "stream",
     "text": [
      "global: 3\n"
     ]
    }
   ],
   "source": [
    "# Пространство имен (namespace) - место где живут переменные\n",
    "\n",
    "# Глобальное пространство имен\n",
    "a, b = 1, 2\n",
    "print('global:', a+b)\n",
    "\n",
    "\n",
    "def simple():\n",
    "    print('simple:', a + b)"
   ]
  },
  {
   "cell_type": "code",
   "execution_count": 2,
   "metadata": {},
   "outputs": [
    {
     "name": "stdout",
     "output_type": "stream",
     "text": [
      "simple: 3\n"
     ]
    }
   ],
   "source": [
    "simple()"
   ]
  },
  {
   "cell_type": "code",
   "execution_count": 6,
   "metadata": {},
   "outputs": [
    {
     "data": {
      "text/plain": [
       "(1, 2)"
      ]
     },
     "execution_count": 6,
     "metadata": {},
     "output_type": "execute_result"
    }
   ],
   "source": [
    "a,b"
   ]
  },
  {
   "cell_type": "code",
   "execution_count": 3,
   "metadata": {},
   "outputs": [],
   "source": [
    "def simple():\n",
    "    # Локальное пространство имен  имен появляется в момент вызова функции\n",
    "    c, d = 3, 4\n",
    "    print('simple:', c + d)"
   ]
  },
  {
   "cell_type": "code",
   "execution_count": 4,
   "metadata": {},
   "outputs": [
    {
     "name": "stdout",
     "output_type": "stream",
     "text": [
      "simple: 7\n"
     ]
    }
   ],
   "source": [
    "simple()"
   ]
  },
  {
   "cell_type": "code",
   "execution_count": 5,
   "metadata": {},
   "outputs": [
    {
     "ename": "NameError",
     "evalue": "name 'c' is not defined",
     "output_type": "error",
     "traceback": [
      "\u001b[0;31m---------------------------------------------------------------------------\u001b[0m",
      "\u001b[0;31mNameError\u001b[0m                                 Traceback (most recent call last)",
      "\u001b[0;32m<ipython-input-5-2b66fd261ee5>\u001b[0m in \u001b[0;36m<module>\u001b[0;34m\u001b[0m\n\u001b[0;32m----> 1\u001b[0;31m \u001b[0mc\u001b[0m\u001b[0;34m\u001b[0m\u001b[0;34m\u001b[0m\u001b[0m\n\u001b[0m",
      "\u001b[0;31mNameError\u001b[0m: name 'c' is not defined"
     ]
    }
   ],
   "source": [
    "c"
   ]
  },
  {
   "cell_type": "code",
   "execution_count": 7,
   "metadata": {},
   "outputs": [],
   "source": [
    "def vector_module(x, y, z):\n",
    "    return (x ** 2 + y ** 2 + z ** 2) ** .5"
   ]
  },
  {
   "cell_type": "code",
   "execution_count": 8,
   "metadata": {},
   "outputs": [
    {
     "name": "stdout",
     "output_type": "stream",
     "text": [
      "5.385164807134504\n"
     ]
    }
   ],
   "source": [
    "# позиционные параметры\n",
    "res = vector_module(2, 3, 4)\n",
    "print(res)"
   ]
  },
  {
   "cell_type": "code",
   "execution_count": 9,
   "metadata": {},
   "outputs": [
    {
     "name": "stdout",
     "output_type": "stream",
     "text": [
      "5.385164807134504\n",
      "5.385164807134504\n",
      "5.385164807134504\n"
     ]
    }
   ],
   "source": [
    "# именованные параметры\n",
    "res = vector_module(x=2, y=3, z=4)\n",
    "print(res)\n",
    "\n",
    "# если параметры именованные, то порядок неважен\n",
    "res = vector_module(z=4, x=2, y=3)\n",
    "print(res)\n",
    "\n",
    "# можно совмещать\n",
    "res = vector_module(2, 3, z=4)\n",
    "print(res)"
   ]
  },
  {
   "cell_type": "code",
   "execution_count": 12,
   "metadata": {},
   "outputs": [],
   "source": [
    "# можно потребовать, что бы при вызове некоторые параметры указывались явно\n",
    "# это будут все параметры, которые идут после *\n",
    "def vector_module(x, y, *, z):\n",
    "    return (x ** 2 + y ** 2 + z ** 2) ** .5\n",
    "\n",
    "\n",
    "# не пройдёт\n",
    "#res = vector_module(2, 3, 4)\n",
    "# все нормально\n",
    "res = vector_module(2, 3, z=4)\n",
    "res = vector_module(z=4, x=2, y=3)\n",
    "\n",
    "\n",
    "# можно потребовать указание всех параметров явно\n",
    "def vector_module(*, x, y, z):\n",
    "    return (x ** 2 + y ** 2 + z ** 2) ** .5"
   ]
  },
  {
   "cell_type": "code",
   "execution_count": 13,
   "metadata": {},
   "outputs": [
    {
     "name": "stdout",
     "output_type": "stream",
     "text": [
      "5.385164807134504\n"
     ]
    }
   ],
   "source": [
    "# распаковка параметров (аргументов)\n",
    "def vector_module(x, y, z):\n",
    "    return (x ** 2 + y ** 2 + z ** 2) ** .5\n",
    "\n",
    "\n",
    "# распаковка позиционных параметров\n",
    "some_list = [2, 3, 4]\n",
    "res = vector_module(*some_list)\n",
    "# x, y, z = some_list\n",
    "# vector_module(2, 3, 4)\n",
    "print(res)"
   ]
  },
  {
   "cell_type": "code",
   "execution_count": 14,
   "metadata": {},
   "outputs": [
    {
     "name": "stdout",
     "output_type": "stream",
     "text": [
      "5.385164807134504\n",
      "5.385164807134504\n",
      "5.385164807134504\n"
     ]
    }
   ],
   "source": [
    "# распаковка именованных параметров\n",
    "some_dict = {'x': 2, 'y': 3, 'z': 4}\n",
    "res = vector_module(**some_dict)\n",
    "# vector_module(x=2, y=3, z=4)\n",
    "print(res)\n",
    "\n",
    "# можно совмещать\n",
    "some_list = [2, 3]\n",
    "some_dict = dict(z=4)\n",
    "res = vector_module(*some_list, **some_dict)\n",
    "# vector_module(2, 3, z=4)\n",
    "some_list = [3, 4]\n",
    "res = vector_module(2, *some_list)\n",
    "print(res)\n",
    "\n",
    "# самый лучший и устойчивый вызов - именованными параметрами\n",
    "res = vector_module(x=2, y=3, z=4)\n",
    "print(res)"
   ]
  },
  {
   "cell_type": "code",
   "execution_count": 15,
   "metadata": {},
   "outputs": [],
   "source": [
    "# параметры по умолчанию\n",
    "def process(subject, action='мыла', object='раму'):\n",
    "    print(\"Кто - \", subject)\n",
    "    print(\"Делал(а) - \", action)\n",
    "    print(\"Над чем - \", object)\n",
    "    print(\"Получается :\", subject, action, object)\n"
   ]
  },
  {
   "cell_type": "code",
   "execution_count": null,
   "metadata": {},
   "outputs": [],
   "source": [
    "# Число параметров"
   ]
  },
  {
   "cell_type": "code",
   "execution_count": 16,
   "metadata": {},
   "outputs": [
    {
     "name": "stdout",
     "output_type": "stream",
     "text": [
      "print_them_all_v1\n",
      "тип args: <class 'tuple'>\n",
      "(2, 'привет', 5.6)\n",
      "позиционный параметр: 0 2\n",
      "позиционный параметр: 1 привет\n",
      "позиционный параметр: 2 5.6\n"
     ]
    }
   ],
   "source": [
    "# Произвольное число позиционных параметров\n",
    "def print_them_all_v1(*args):\n",
    "    print('print_them_all_v1')\n",
    "    print('тип args:', type(args))\n",
    "    print(args)\n",
    "    for i, arg in enumerate(args):\n",
    "        print('позиционный параметр:', i, arg)\n",
    "\n",
    "\n",
    "print_them_all_v1(2, 'привет', 5.6)"
   ]
  },
  {
   "cell_type": "code",
   "execution_count": 18,
   "metadata": {},
   "outputs": [
    {
     "name": "stdout",
     "output_type": "stream",
     "text": [
      "print_them_all_v1\n",
      "тип args: <class 'tuple'>\n",
      "(['lion', 'elephant', 'monkey', 'cat', 'horse'],)\n",
      "позиционный параметр: 0 ['lion', 'elephant', 'monkey', 'cat', 'horse']\n"
     ]
    }
   ],
   "source": [
    "my_favorite_pets = ['lion', 'elephant', 'monkey', 'cat', 'horse']\n",
    "print_them_all_v1(my_favorite_pets)"
   ]
  },
  {
   "cell_type": "code",
   "execution_count": 19,
   "metadata": {},
   "outputs": [
    {
     "name": "stdout",
     "output_type": "stream",
     "text": [
      "print_them_all_v1\n",
      "тип args: <class 'tuple'>\n",
      "('lion', 'elephant', 'monkey', 'cat', 'horse')\n",
      "позиционный параметр: 0 lion\n",
      "позиционный параметр: 1 elephant\n",
      "позиционный параметр: 2 monkey\n",
      "позиционный параметр: 3 cat\n",
      "позиционный параметр: 4 horse\n"
     ]
    }
   ],
   "source": [
    "print_them_all_v1(*my_favorite_pets)"
   ]
  },
  {
   "cell_type": "code",
   "execution_count": 20,
   "metadata": {},
   "outputs": [],
   "source": [
    "# Произвольное число именованных параметров\n",
    "def print_them_all_v2(**kwargs):\n",
    "    print('print_them_all_v2')\n",
    "    print('тип kwargs:', type(kwargs))\n",
    "    print(kwargs)\n",
    "    for key, value in kwargs.items():\n",
    "        print('именованный аргумент:', key, '=', value)"
   ]
  },
  {
   "cell_type": "code",
   "execution_count": 21,
   "metadata": {},
   "outputs": [
    {
     "name": "stdout",
     "output_type": "stream",
     "text": [
      "print_them_all_v2\n",
      "тип kwargs: <class 'dict'>\n",
      "{'name': 'Вася', 'address': 'Moscow', 'age': 25}\n",
      "именованный аргумент: name = Вася\n",
      "именованный аргумент: address = Moscow\n",
      "именованный аргумент: age = 25\n"
     ]
    }
   ],
   "source": [
    "# распаковка\n",
    "my_friend = {'name': 'Вася', 'address': 'Moscow', 'age': 25}\n",
    "print_them_all_v2(**my_friend)"
   ]
  },
  {
   "cell_type": "code",
   "execution_count": 22,
   "metadata": {},
   "outputs": [],
   "source": [
    "# Комбинация\n",
    "def print_them_all_v3(*args, **kwargs):\n",
    "    print('print_them_all_v3')\n",
    "    print('тип args:', type(args))\n",
    "    print(args)\n",
    "    for i, arg in enumerate(args):\n",
    "        print('позиционный параметр:', i, arg)\n",
    "    print('тип kwargs:', type(kwargs))\n",
    "    print(kwargs)\n",
    "    for key, value in kwargs.items():\n",
    "        print('именованный аргумент:', key, '=', value)# Комбинация"
   ]
  },
  {
   "cell_type": "code",
   "execution_count": 23,
   "metadata": {},
   "outputs": [
    {
     "name": "stdout",
     "output_type": "stream",
     "text": [
      "print_them_all_v3\n",
      "тип args: <class 'tuple'>\n",
      "('Вася', 'Moscow', 25)\n",
      "позиционный параметр: 0 Вася\n",
      "позиционный параметр: 1 Moscow\n",
      "позиционный параметр: 2 25\n",
      "тип kwargs: <class 'dict'>\n",
      "{}\n"
     ]
    }
   ],
   "source": [
    "print_them_all_v3('Вася', 'Moscow', 25)"
   ]
  },
  {
   "cell_type": "code",
   "execution_count": 24,
   "metadata": {},
   "outputs": [
    {
     "name": "stdout",
     "output_type": "stream",
     "text": [
      "print_them_all_v3\n",
      "тип args: <class 'tuple'>\n",
      "(1000, 'рублей')\n",
      "позиционный параметр: 0 1000\n",
      "позиционный параметр: 1 рублей\n",
      "тип kwargs: <class 'dict'>\n",
      "{'name': 'Вася', 'address': 'Moscow'}\n",
      "именованный аргумент: name = Вася\n",
      "именованный аргумент: address = Moscow\n"
     ]
    }
   ],
   "source": [
    "print_them_all_v3(1000, 'рублей', name='Вася', address='Moscow')"
   ]
  },
  {
   "cell_type": "code",
   "execution_count": 26,
   "metadata": {},
   "outputs": [
    {
     "name": "stdout",
     "output_type": "stream",
     "text": [
      "print_them_all_v3\n",
      "тип args: <class 'tuple'>\n",
      "(1000, 'рублей')\n",
      "позиционный параметр: 0 1000\n",
      "позиционный параметр: 1 рублей\n",
      "тип kwargs: <class 'dict'>\n",
      "{'name': 'Вася', 'address': 'Moscow'}\n",
      "именованный аргумент: name = Вася\n",
      "именованный аргумент: address = Moscow\n"
     ]
    }
   ],
   "source": [
    "my_friend = {'name': 'Вася', 'address': 'Moscow'}\n",
    "print_them_all_v3(1000, 'рублей', **my_friend)"
   ]
  },
  {
   "cell_type": "code",
   "execution_count": 27,
   "metadata": {},
   "outputs": [
    {
     "ename": "NameError",
     "evalue": "name 'print_them_all_v4' is not defined",
     "output_type": "error",
     "traceback": [
      "\u001b[0;31m---------------------------------------------------------------------------\u001b[0m",
      "\u001b[0;31mNameError\u001b[0m                                 Traceback (most recent call last)",
      "\u001b[0;32m<ipython-input-27-fe445eae05df>\u001b[0m in \u001b[0;36m<module>\u001b[0;34m\u001b[0m\n\u001b[0;32m----> 1\u001b[0;31m \u001b[0mprint_them_all_v4\u001b[0m\u001b[0;34m(\u001b[0m\u001b[0;36m5\u001b[0m\u001b[0;34m,\u001b[0m \u001b[0;36m6\u001b[0m\u001b[0;34m,\u001b[0m \u001b[0;36m7\u001b[0m\u001b[0;34m,\u001b[0m \u001b[0;36m8\u001b[0m\u001b[0;34m,\u001b[0m \u001b[0mcat\u001b[0m\u001b[0;34m=\u001b[0m\u001b[0;34m'мяу!'\u001b[0m\u001b[0;34m)\u001b[0m\u001b[0;34m\u001b[0m\u001b[0;34m\u001b[0m\u001b[0m\n\u001b[0m",
      "\u001b[0;31mNameError\u001b[0m: name 'print_them_all_v4' is not defined"
     ]
    }
   ],
   "source": [
    "print_them_all_v4(5, 6, 7, 8, cat='мяу!')"
   ]
  },
  {
   "cell_type": "code",
   "execution_count": 29,
   "metadata": {},
   "outputs": [
    {
     "name": "stdout",
     "output_type": "stream",
     "text": [
      "print_them_all_v4\n",
      "a и b: 5 6\n",
      "тип args: <class 'tuple'>\n",
      "(7, 8)\n",
      "позиционный параметр: 0 7\n",
      "позиционный параметр: 1 8\n",
      "тип kwargs: <class 'dict'>\n",
      "{'cat': 'мяу!'}\n",
      "именованный аргумент: cat = мяу!\n"
     ]
    }
   ],
   "source": [
    "# При создании функции можно указывать как обычные параметры, так и произвольные параметры\n",
    "def print_them_all_v4(a, b=5, *args, **kwargs):\n",
    "    print('print_them_all_v4')\n",
    "    print('a и b:', a, b)\n",
    "    print('тип args:', type(args))\n",
    "    print(args)\n",
    "    for i, arg in enumerate(args):\n",
    "        print('позиционный параметр:', i, arg)\n",
    "    print('тип kwargs:', type(kwargs))\n",
    "    print(kwargs)\n",
    "    for key, value in kwargs.items():\n",
    "        print('именованный аргумент:', key, '=', value)\n",
    "\n",
    "\n",
    "print_them_all_v4(5, 6, 7, 8, cat='мяу!')"
   ]
  },
  {
   "cell_type": "code",
   "execution_count": 30,
   "metadata": {},
   "outputs": [
    {
     "name": "stdout",
     "output_type": "stream",
     "text": [
      "print_them_all_v4\n",
      "a и b: 5 8\n",
      "тип args: <class 'tuple'>\n",
      "()\n",
      "тип kwargs: <class 'dict'>\n",
      "{'cat': 'мяу!'}\n",
      "именованный аргумент: cat = мяу!\n"
     ]
    }
   ],
   "source": [
    "print_them_all_v4(5, b=8, cat='мяу!')"
   ]
  },
  {
   "cell_type": "code",
   "execution_count": 31,
   "metadata": {},
   "outputs": [
    {
     "name": "stdout",
     "output_type": "stream",
     "text": [
      "print_them_all_v4\n",
      "a и b: 5 5\n",
      "тип args: <class 'tuple'>\n",
      "()\n",
      "тип kwargs: <class 'dict'>\n",
      "{'cat': 'мяу!', 'address': 'Moscow'}\n",
      "именованный аргумент: cat = мяу!\n",
      "именованный аргумент: address = Moscow\n"
     ]
    }
   ],
   "source": [
    "print_them_all_v4(5, cat='мяу!', address='Moscow')"
   ]
  },
  {
   "cell_type": "code",
   "execution_count": null,
   "metadata": {},
   "outputs": [],
   "source": []
  }
 ],
 "metadata": {
  "kernelspec": {
   "display_name": "Python 3",
   "language": "python",
   "name": "python3"
  },
  "language_info": {
   "codemirror_mode": {
    "name": "ipython",
    "version": 3
   },
   "file_extension": ".py",
   "mimetype": "text/x-python",
   "name": "python",
   "nbconvert_exporter": "python",
   "pygments_lexer": "ipython3",
   "version": "3.8.5"
  }
 },
 "nbformat": 4,
 "nbformat_minor": 4
}
