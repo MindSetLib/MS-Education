{
 "cells": [
  {
   "cell_type": "markdown",
   "metadata": {},
   "source": [
    "# Объектно-ориентированное программирование (ООП)\n",
    "\n",
    "Основная идея ООП - повышение уровня абстракции за счёт объединения процедур и данных в \"объект\".\n",
    "\n",
    "Объектно-ориентированное программирование - это особый способ организации кода. Часто говорят, что классы используют тогда, когда нужно отобразить реальные предметы на программный код. Отчасти это так, но в общем случае классы служат для объединения функционала, связанного общей идеей и смыслом, в одну сущность, у которой может быть свое внутреннее состояние, а также методы, которые позволяют модифицировать это состояние. Реальный пример класса: обертка над соединением к базе данных (состояние - постоянное TCP-соединение с базой, методы класса предоставляют интерфейс доступа к соединению). Тем самым TCP соединение инкапсулируется внутри класса, а пользователю класса предоставляем удобный интерфейс доступа к данным."
   ]
  },
  {
   "cell_type": "markdown",
   "metadata": {},
   "source": [
    "#### **Классы**\n",
    "Служат фабриками экземпляров. Атрибуты классов обеспечивают поведение (данные и функции), которое наследуется всеми экземплярами, сгенерированными из них.\n",
    "\n",
    "#### **Экземпляры**\n",
    "Представляют конкретные элементы в предметной области программы. Атрибуты экземпляров хранят данные, которые варьируются для каждого отдельного объекта."
   ]
  },
  {
   "cell_type": "markdown",
   "metadata": {},
   "source": [
    "### Создание классов"
   ]
  },
  {
   "cell_type": "code",
   "execution_count": 3,
   "metadata": {},
   "outputs": [],
   "source": [
    "class SomeClass:\n",
    "    _\n",
    "  # поля и методы класса SomeClass"
   ]
  },
  {
   "cell_type": "code",
   "execution_count": null,
   "metadata": {},
   "outputs": [],
   "source": [
    "class SomeClass(ParentClass1, ParentClass2, …):\n",
    "    _\n",
    "  # поля и методы класса SomeClass"
   ]
  },
  {
   "cell_type": "code",
   "execution_count": null,
   "metadata": {},
   "outputs": [],
   "source": [
    "В терминологии Python члены класса называются атрибутами, функции класса — методами, а поля класса — свойствами (или просто атрибутами)."
   ]
  },
  {
   "cell_type": "markdown",
   "metadata": {},
   "source": [
    "#### Свойства классов устанавливаются с помощью простого присваивания:"
   ]
  },
  {
   "cell_type": "code",
   "execution_count": 6,
   "metadata": {},
   "outputs": [],
   "source": [
    "class SomeClass:\n",
    "    attr1 = 42\n",
    "    attr2 = \"Hello, World\""
   ]
  },
  {
   "cell_type": "markdown",
   "metadata": {},
   "source": [
    "#### Методы объявляются как простые функции (`self` – общепринятое имя для ссылки на объект, в контексте которого вызывается метод):"
   ]
  },
  {
   "cell_type": "code",
   "execution_count": 8,
   "metadata": {},
   "outputs": [],
   "source": [
    "class SomeClass:\n",
    "    def method1(self, x):\n",
    "        _\n",
    "        # код метода"
   ]
  },
  {
   "cell_type": "markdown",
   "metadata": {},
   "source": [
    "## Экземпляры классов"
   ]
  },
  {
   "cell_type": "code",
   "execution_count": 9,
   "metadata": {},
   "outputs": [],
   "source": [
    "class SomeClass:\n",
    "    attr1 = 42\n",
    "\n",
    "    def method1(self, x):\n",
    "        return 2*x"
   ]
  },
  {
   "cell_type": "code",
   "execution_count": 10,
   "metadata": {},
   "outputs": [
    {
     "data": {
      "text/plain": [
       "12"
      ]
     },
     "execution_count": 10,
     "metadata": {},
     "output_type": "execute_result"
    }
   ],
   "source": [
    "obj = SomeClass()\n",
    "obj.method1(6)"
   ]
  },
  {
   "cell_type": "code",
   "execution_count": 11,
   "metadata": {},
   "outputs": [
    {
     "data": {
      "text/plain": [
       "42"
      ]
     },
     "execution_count": 11,
     "metadata": {},
     "output_type": "execute_result"
    }
   ],
   "source": [
    "obj.attr1"
   ]
  },
  {
   "cell_type": "markdown",
   "metadata": {},
   "source": [
    "Можно создавать разные инстансы одного класса с заранее заданными параметрами с помощью инициализатора (специальный метод `__init__`)."
   ]
  },
  {
   "cell_type": "code",
   "execution_count": 12,
   "metadata": {},
   "outputs": [],
   "source": [
    "class Point:\n",
    "    def __init__(self, x, y, z):\n",
    "        self.coord = (x, y, z)"
   ]
  },
  {
   "cell_type": "code",
   "execution_count": 13,
   "metadata": {},
   "outputs": [
    {
     "data": {
      "text/plain": [
       "(13, 14, 15)"
      ]
     },
     "execution_count": 13,
     "metadata": {},
     "output_type": "execute_result"
    }
   ],
   "source": [
    "p = Point(13, 14, 15)\n",
    "p.coord"
   ]
  },
  {
   "cell_type": "markdown",
   "metadata": {},
   "source": [
    "## Динамическое изменение\n",
    "Можно обойтись даже без определения атрибутов и методов:"
   ]
  },
  {
   "cell_type": "code",
   "execution_count": 18,
   "metadata": {},
   "outputs": [],
   "source": [
    "class SomeClass:\n",
    "    pass"
   ]
  },
  {
   "cell_type": "code",
   "execution_count": 19,
   "metadata": {},
   "outputs": [
    {
     "data": {
      "text/plain": [
       "25"
      ]
     },
     "execution_count": 19,
     "metadata": {},
     "output_type": "execute_result"
    }
   ],
   "source": [
    "def squareMethod(self, x):\n",
    "    return x*x\n",
    "\n",
    "SomeClass.square = squareMethod\n",
    "obj = SomeClass()\n",
    "obj.square(5)"
   ]
  },
  {
   "cell_type": "markdown",
   "metadata": {},
   "source": [
    "### Статические методы\n",
    "\n",
    "Статические методы в Python – по-сути обычные функции, помещенные в класс для удобства и находящиеся в пространстве имен этого класса. Это может быть какой-то вспомогательный код. Вообще, если в теле метода не используется self, то есть ссылка на конкретный объект, следует задуматься, чтобы сделать метод статическим. Если такой метод необходим только для обеспечения внутренних механизмов работы класса, то возможно его не только надо объявить статическим, но и скрыть от доступа из вне."
   ]
  },
  {
   "cell_type": "code",
   "execution_count": 73,
   "metadata": {},
   "outputs": [
    {
     "name": "stdout",
     "output_type": "stream",
     "text": [
      "Hello, world\n",
      "Hello, world\n"
     ]
    }
   ],
   "source": [
    "class SomeClass:\n",
    "    @staticmethod\n",
    "    def hello():\n",
    "        print(\"Hello, world\")\n",
    "\n",
    "SomeClass.hello() # Hello, world\n",
    "obj = SomeClass()\n",
    "obj.hello() # Hello, world"
   ]
  },
  {
   "cell_type": "markdown",
   "metadata": {},
   "source": [
    "### Методы класса\n",
    "аналогичны методам экземпляров, но выполняются не в контексте объекта, а в контексте самого класса\n",
    "\n",
    "Методы класса привязаны к самому классу, а не его экземпляру. Они могут менять состояние класса, что отразится на всех объектах этого класса, но не могут менять конкретный объект.\n",
    "\n",
    "Такие методы создаются с помощью декоратора `@classmethod` и требуют обязательную ссылку на класс (`cls`)."
   ]
  },
  {
   "cell_type": "code",
   "execution_count": 74,
   "metadata": {},
   "outputs": [
    {
     "name": "stdout",
     "output_type": "stream",
     "text": [
      "Hello, класс SomeClass\n"
     ]
    }
   ],
   "source": [
    "class SomeClass:\n",
    "    @classmethod\n",
    "    def hello(cls):\n",
    "        print('Hello, класс {}'.format(cls.__name__))\n",
    "\n",
    "SomeClass.hello() # Hello, класс SomeClass"
   ]
  },
  {
   "cell_type": "markdown",
   "metadata": {},
   "source": [
    "## Вычисляемые свойства класса (property)."
   ]
  },
  {
   "cell_type": "code",
   "execution_count": 61,
   "metadata": {},
   "outputs": [],
   "source": [
    "class Robot:\n",
    "    def __init__(self, power):\n",
    "        self.power = power"
   ]
  },
  {
   "cell_type": "code",
   "execution_count": 62,
   "metadata": {},
   "outputs": [
    {
     "name": "stdout",
     "output_type": "stream",
     "text": [
      "200\n"
     ]
    }
   ],
   "source": [
    "wall_e = Robot(100)\n",
    "wall_e.power = 200\n",
    "print(wall_e.power)"
   ]
  },
  {
   "cell_type": "code",
   "execution_count": 64,
   "metadata": {},
   "outputs": [
    {
     "name": "stdout",
     "output_type": "stream",
     "text": [
      "-20\n"
     ]
    }
   ],
   "source": [
    "wall_e.power = -20\n",
    "print(wall_e.power)"
   ]
  },
  {
   "cell_type": "markdown",
   "metadata": {},
   "source": [
    "Вам хотелось бы, чтобы в таком случае мощность на самом деле ставилась бы в ноль."
   ]
  },
  {
   "cell_type": "code",
   "execution_count": 65,
   "metadata": {},
   "outputs": [
    {
     "name": "stdout",
     "output_type": "stream",
     "text": [
      "0\n"
     ]
    }
   ],
   "source": [
    "class Robot:\n",
    "    def __init__(self, power):\n",
    "        self.power = power\n",
    "    def set_power(self, power):\n",
    "        if power < 0:\n",
    "            self.power = 0\n",
    "        else:\n",
    "            self.power = power\n",
    "            \n",
    "            \n",
    "wall_e = Robot(100)\n",
    "wall_e.set_power(-20)\n",
    "print(wall_e.power)"
   ]
  },
  {
   "cell_type": "markdown",
   "metadata": {},
   "source": [
    "Но в таком случае не только вам, но и всем программистам, использующим ваш класс, придётся менять код. Есть способ проще - сделать power объектом `property()`. Далее\n",
    "объявим три метода и обернём их декораторами: `power.setter` (будет выполняться при изменении атрибута power) `power.getter` (выполнится при чтении атрибута power) и `power.deleter` (будет выполняться при удалении атрибута):"
   ]
  },
  {
   "cell_type": "code",
   "execution_count": 86,
   "metadata": {},
   "outputs": [],
   "source": [
    "class Robot:\n",
    "    def __init__(self, power):\n",
    "        self._power = power\n",
    "        \n",
    "    power = property()\n",
    "    \n",
    "    @power.setter\n",
    "    def power(self, value):\n",
    "    # повторяет функционал старого метода set_power\n",
    "        if value < 0:\n",
    "            self._power = 0\n",
    "        else:\n",
    "            self._power = value\n",
    "            \n",
    "    @power.getter\n",
    "    def power(self):\n",
    "        return self._power\n",
    "    \n",
    "    @power.deleter\n",
    "    def power(self):\n",
    "        print(\"make robot useless\")\n",
    "        del self._power"
   ]
  },
  {
   "cell_type": "code",
   "execution_count": 89,
   "metadata": {},
   "outputs": [
    {
     "name": "stdout",
     "output_type": "stream",
     "text": [
      "100\n",
      "0\n"
     ]
    }
   ],
   "source": [
    "wall_e = Robot(100)\n",
    "print(wall_e.power)\n",
    "wall_e.power = -20\n",
    "print(wall_e.power)"
   ]
  },
  {
   "cell_type": "code",
   "execution_count": 68,
   "metadata": {},
   "outputs": [
    {
     "name": "stdout",
     "output_type": "stream",
     "text": [
      "make robot useless\n"
     ]
    }
   ],
   "source": [
    "del wall_e.power"
   ]
  },
  {
   "cell_type": "markdown",
   "metadata": {},
   "source": [
    "Иногда единственное, что вам требуется - это модифицировать чтение атрибута. Вам не нужно менять поведение при изменении значения атрибута/его удалении. В таком случае есть более короткая запись. Тогда можно обернуть метод декоратором `@property` и обращаться к нему просто с помощью `.power`:"
   ]
  },
  {
   "cell_type": "code",
   "execution_count": 70,
   "metadata": {},
   "outputs": [
    {
     "data": {
      "text/plain": [
       "200"
      ]
     },
     "execution_count": 70,
     "metadata": {},
     "output_type": "execute_result"
    }
   ],
   "source": [
    "class Robot:\n",
    "    def __init__(self, power):\n",
    "        self._power = power\n",
    "        \n",
    "    @property\n",
    "    def power(self):\n",
    "    # здесь могут быть любые полезные вычисления\n",
    "        return self._power\n",
    "    \n",
    "wall_e = Robot(200)\n",
    "wall_e.power"
   ]
  },
  {
   "cell_type": "markdown",
   "metadata": {},
   "source": [
    "## Жизненный цикл объекта\n",
    "С инициализатором объектов`__init__` вы уже знакомы. Кроме него есть еще и метод `__new__`, который непосредственно создает новый экземпляр класса. Первым параметром он принимает ссылку на сам класс:"
   ]
  },
  {
   "cell_type": "code",
   "execution_count": 90,
   "metadata": {},
   "outputs": [
    {
     "name": "stdout",
     "output_type": "stream",
     "text": [
      "new\n",
      "init\n"
     ]
    }
   ],
   "source": [
    "class SomeClass:\n",
    "    def __new__(cls):\n",
    "        print(\"new\")\n",
    "        return super(SomeClass, cls).__new__(cls)\n",
    "\n",
    "    def __init__(self):\n",
    "        print(\"init\")\n",
    "\n",
    "obj = SomeClass();"
   ]
  },
  {
   "cell_type": "markdown",
   "metadata": {},
   "source": [
    "Метод `__new__` может быть очень полезен для решения ряда задач, например, создания иммутабельных объектов или реализации паттерна Синглтон:"
   ]
  },
  {
   "cell_type": "code",
   "execution_count": 91,
   "metadata": {},
   "outputs": [],
   "source": [
    "class Singleton:\n",
    "    obj = None # единственный экземпляр класса\n",
    "\n",
    "    def __new__(cls, *args, **kwargs):\n",
    "        if cls.obj is None:\n",
    "            cls.obj = object.__new__(cls, *args, **kwargs)\n",
    "        return cls.obj\n",
    "\n",
    "single = Singleton()\n",
    "single.attr = 42"
   ]
  },
  {
   "cell_type": "code",
   "execution_count": 92,
   "metadata": {},
   "outputs": [
    {
     "data": {
      "text/plain": [
       "True"
      ]
     },
     "execution_count": 92,
     "metadata": {},
     "output_type": "execute_result"
    }
   ],
   "source": [
    "newSingle = Singleton()\n",
    "newSingle.attr # 42\n",
    "newSingle is single # true"
   ]
  },
  {
   "cell_type": "code",
   "execution_count": 93,
   "metadata": {},
   "outputs": [
    {
     "data": {
      "text/plain": [
       "139791658879104"
      ]
     },
     "execution_count": 93,
     "metadata": {},
     "output_type": "execute_result"
    }
   ],
   "source": [
    "id(newSingle)"
   ]
  },
  {
   "cell_type": "code",
   "execution_count": 94,
   "metadata": {},
   "outputs": [
    {
     "data": {
      "text/plain": [
       "139791658879104"
      ]
     },
     "execution_count": 94,
     "metadata": {},
     "output_type": "execute_result"
    }
   ],
   "source": [
    "id(single)"
   ]
  },
  {
   "cell_type": "code",
   "execution_count": 97,
   "metadata": {},
   "outputs": [
    {
     "data": {
      "text/plain": [
       "139791658975920"
      ]
     },
     "execution_count": 97,
     "metadata": {},
     "output_type": "execute_result"
    }
   ],
   "source": [
    "id(2161561615641654)"
   ]
  },
  {
   "cell_type": "code",
   "execution_count": 98,
   "metadata": {},
   "outputs": [
    {
     "data": {
      "text/plain": [
       "139791658975408"
      ]
     },
     "execution_count": 98,
     "metadata": {},
     "output_type": "execute_result"
    }
   ],
   "source": [
    "id(2161561615641654)"
   ]
  },
  {
   "cell_type": "markdown",
   "metadata": {},
   "source": [
    "В Python вы можете поучаствовать не только в создании объекта, но и в его удалении. Специально для этого предназначен метод-деструктор `__del__`."
   ]
  },
  {
   "cell_type": "code",
   "execution_count": 99,
   "metadata": {},
   "outputs": [
    {
     "name": "stdout",
     "output_type": "stream",
     "text": [
      "удаляется объект John класса SomeClass\n"
     ]
    }
   ],
   "source": [
    "class SomeClass:\n",
    "    def __init__(self, name):\n",
    "        self.name = name\n",
    "\n",
    "    def __del__(self):\n",
    "        print('удаляется объект {} класса SomeClass'.format(self.name))\n",
    "\n",
    "obj = SomeClass(\"John\");\n",
    "del obj # удаляется объект John класса SomeClass"
   ]
  },
  {
   "cell_type": "markdown",
   "metadata": {},
   "source": [
    "# Перегрузка операций\n",
    "За счет предоставления специальных методов протокола классы могут опреде? лять объекты, реагирующие на всевозможные операции, которые мы видели в работе со встроенными типами."
   ]
  },
  {
   "cell_type": "markdown",
   "metadata": {},
   "source": [
    "### Имитация контейнеров"
   ]
  },
  {
   "cell_type": "code",
   "execution_count": 100,
   "metadata": {},
   "outputs": [
    {
     "ename": "TypeError",
     "evalue": "object of type 'Collection' has no len()",
     "output_type": "error",
     "traceback": [
      "\u001b[0;31m---------------------------------------------------------------------------\u001b[0m",
      "\u001b[0;31mTypeError\u001b[0m                                 Traceback (most recent call last)",
      "\u001b[0;32m<ipython-input-100-683b3d1439e6>\u001b[0m in \u001b[0;36m<module>\u001b[0;34m\u001b[0m\n\u001b[1;32m      4\u001b[0m \u001b[0;34m\u001b[0m\u001b[0m\n\u001b[1;32m      5\u001b[0m \u001b[0mcollection\u001b[0m \u001b[0;34m=\u001b[0m \u001b[0mCollection\u001b[0m\u001b[0;34m(\u001b[0m\u001b[0mlist\u001b[0m\u001b[0;34m)\u001b[0m\u001b[0;34m\u001b[0m\u001b[0;34m\u001b[0m\u001b[0m\n\u001b[0;32m----> 6\u001b[0;31m \u001b[0mlen\u001b[0m\u001b[0;34m(\u001b[0m\u001b[0mcollection\u001b[0m\u001b[0;34m)\u001b[0m\u001b[0;34m\u001b[0m\u001b[0;34m\u001b[0m\u001b[0m\n\u001b[0m",
      "\u001b[0;31mTypeError\u001b[0m: object of type 'Collection' has no len()"
     ]
    }
   ],
   "source": [
    "class Collection:\n",
    "    def __init__(self, list):\n",
    "        self.list = list\n",
    "\n",
    "collection = Collection(list)\n",
    "len(collection)"
   ]
  },
  {
   "cell_type": "markdown",
   "metadata": {},
   "source": [
    "Решить эту проблему поможет специальный метод `__len__`:"
   ]
  },
  {
   "cell_type": "code",
   "execution_count": 101,
   "metadata": {},
   "outputs": [
    {
     "data": {
      "text/plain": [
       "3"
      ]
     },
     "execution_count": 101,
     "metadata": {},
     "output_type": "execute_result"
    }
   ],
   "source": [
    "class Collection:\n",
    "    def __init__(self, list):\n",
    "        self.list = list\n",
    "\n",
    "    def __len__(self):\n",
    "        return len(self.list)\n",
    "\n",
    "collection = Collection([1, 2, 3])\n",
    "len(collection)"
   ]
  },
  {
   "cell_type": "markdown",
   "metadata": {},
   "source": [
    "### Объект как функция\n",
    "Объект класса может имитировать стандартную функцию, то есть при желании его можно \"вызвать\" с параметрами. За эту возможность отвечает специальный метод `__call__`:"
   ]
  },
  {
   "cell_type": "code",
   "execution_count": 32,
   "metadata": {},
   "outputs": [
    {
     "data": {
      "text/plain": [
       "361"
      ]
     },
     "execution_count": 32,
     "metadata": {},
     "output_type": "execute_result"
    }
   ],
   "source": [
    "class Multiplier:\n",
    "    def __call__(self, x, y):\n",
    "        return x*y\n",
    "\n",
    "multiply = Multiplier()\n",
    "multiply(19, 19) # 361"
   ]
  },
  {
   "cell_type": "code",
   "execution_count": 33,
   "metadata": {},
   "outputs": [
    {
     "data": {
      "text/plain": [
       "361"
      ]
     },
     "execution_count": 33,
     "metadata": {},
     "output_type": "execute_result"
    }
   ],
   "source": [
    "# то же самое\n",
    "multiply.__call__(19, 19) # 361"
   ]
  },
  {
   "cell_type": "markdown",
   "metadata": {},
   "source": [
    "# Принципы ООП на Python"
   ]
  },
  {
   "cell_type": "markdown",
   "metadata": {},
   "source": [
    "## Инкапсуляция\n",
    "\n",
    "Инкапсуляция является одним из ключевых понятий ООП. Все значения в Python являются объектами, инкапсулирующими код (методы) и данные и предоставляющими пользователям общедоступный интерфейс. Методы и данные объекта доступны через его атрибуты.\n",
    "\n",
    "Сокрытие информации о внутреннем устройстве объекта выполняется в Python на уровне соглашения между программистами о том, какие атрибуты относятся к общедоступному интерфейсу класса, а какие — к его внутренней реализации. Одиночное подчеркивание в начале имени атрибута говорит о том, что атрибут не предназначен для использования вне методов класса (или вне функций и классов модуля), однако, атрибут все-таки доступен по этому имени. Два подчеркивания в начале имени дают несколько большую защиту: атрибут перестает быть доступен по этому имени."
   ]
  },
  {
   "cell_type": "code",
   "execution_count": 102,
   "metadata": {},
   "outputs": [
    {
     "name": "stdout",
     "output_type": "stream",
     "text": [
      "Это внутренний метод объекта\n"
     ]
    }
   ],
   "source": [
    "class SomeClass:\n",
    "    def _private(self):\n",
    "        print(\"Это внутренний метод объекта\")\n",
    "\n",
    "obj = SomeClass()\n",
    "obj._private() # это внутренний метод объекта"
   ]
  },
  {
   "cell_type": "markdown",
   "metadata": {},
   "source": [
    "Если поставить перед именем атрибута два подчеркивания, к нему нельзя будет обратиться напрямую. Но все равно остается обходной путь:"
   ]
  },
  {
   "cell_type": "code",
   "execution_count": 103,
   "metadata": {},
   "outputs": [
    {
     "ename": "AttributeError",
     "evalue": "'SomeClass' object has no attribute '__param'",
     "output_type": "error",
     "traceback": [
      "\u001b[0;31m---------------------------------------------------------------------------\u001b[0m",
      "\u001b[0;31mAttributeError\u001b[0m                            Traceback (most recent call last)",
      "\u001b[0;32m<ipython-input-103-d2fa89cd14ee>\u001b[0m in \u001b[0;36m<module>\u001b[0;34m\u001b[0m\n\u001b[1;32m      4\u001b[0m \u001b[0;34m\u001b[0m\u001b[0m\n\u001b[1;32m      5\u001b[0m \u001b[0mobj\u001b[0m \u001b[0;34m=\u001b[0m \u001b[0mSomeClass\u001b[0m\u001b[0;34m(\u001b[0m\u001b[0;34m)\u001b[0m\u001b[0;34m\u001b[0m\u001b[0;34m\u001b[0m\u001b[0m\n\u001b[0;32m----> 6\u001b[0;31m \u001b[0mobj\u001b[0m\u001b[0;34m.\u001b[0m\u001b[0m__param\u001b[0m \u001b[0;31m# AttributeError: 'SomeClass' object has no attribute '__param'\u001b[0m\u001b[0;34m\u001b[0m\u001b[0;34m\u001b[0m\u001b[0m\n\u001b[0m",
      "\u001b[0;31mAttributeError\u001b[0m: 'SomeClass' object has no attribute '__param'"
     ]
    }
   ],
   "source": [
    "class SomeClass:\n",
    "    def __init__(self):\n",
    "        self.__param = 42 # защищенный атрибут\n",
    "\n",
    "obj = SomeClass()\n",
    "obj.__param # AttributeError: 'SomeClass' object has no attribute '__param'"
   ]
  },
  {
   "cell_type": "code",
   "execution_count": 104,
   "metadata": {},
   "outputs": [
    {
     "data": {
      "text/plain": [
       "42"
      ]
     },
     "execution_count": 104,
     "metadata": {},
     "output_type": "execute_result"
    }
   ],
   "source": [
    "obj._SomeClass__param # 42"
   ]
  },
  {
   "cell_type": "markdown",
   "metadata": {},
   "source": [
    "## Наследование\n",
    "\n",
    "Наследование позволяет создавать сложные системы классов. Основные понятия в наследовании это класс-родитель и класс-потомок, наследующий все публичные методы и переменные класса-родителя. Это позволяет строить иерархии классов. На этом принципе построены многие паттерны проектирования.\n",
    "\n",
    "\n",
    "Язык программирования Python реализует как стандартное одиночное наследование:"
   ]
  },
  {
   "cell_type": "code",
   "execution_count": 81,
   "metadata": {},
   "outputs": [
    {
     "data": {
      "text/plain": [
       "'Mammal'"
      ]
     },
     "execution_count": 81,
     "metadata": {},
     "output_type": "execute_result"
    }
   ],
   "source": [
    "class Mammal:\n",
    "    className = 'Mammal'\n",
    "\n",
    "class Dog(Mammal):\n",
    "    species = 'Canis lupus'\n",
    "\n",
    "dog = Dog()\n",
    "dog.className # Mammal"
   ]
  },
  {
   "cell_type": "markdown",
   "metadata": {},
   "source": [
    "так и множественное:"
   ]
  },
  {
   "cell_type": "code",
   "execution_count": 108,
   "metadata": {},
   "outputs": [],
   "source": [
    "class Horse:\n",
    "    isHorse = True\n",
    "\n",
    "class Donkey:\n",
    "    isDonkey = True\n",
    "    isHorse = False\n",
    "\n",
    "class Mule(Donkey, Horse):\n",
    "    pass\n",
    "\n",
    "mule = Mule()"
   ]
  },
  {
   "cell_type": "code",
   "execution_count": 109,
   "metadata": {},
   "outputs": [
    {
     "data": {
      "text/plain": [
       "False"
      ]
     },
     "execution_count": 109,
     "metadata": {},
     "output_type": "execute_result"
    }
   ],
   "source": [
    "mule.isHorse # True"
   ]
  },
  {
   "cell_type": "code",
   "execution_count": 110,
   "metadata": {},
   "outputs": [
    {
     "data": {
      "text/plain": [
       "True"
      ]
     },
     "execution_count": 110,
     "metadata": {},
     "output_type": "execute_result"
    }
   ],
   "source": [
    "mule.isDonkey # True"
   ]
  },
  {
   "cell_type": "markdown",
   "metadata": {},
   "source": [
    "Используя множественное наследования можно создавать классы-миксины (примеси), представляющие собой определенную особенность поведения. Такой микси можно \"примешать\" к любому классу"
   ]
  },
  {
   "cell_type": "markdown",
   "metadata": {},
   "source": [
    "## Полиморфизм\n",
    "\n",
    "Полиморфизм тесно связан с наследованием, интерфейсом и реализацией. Этот принцип позволяет использовать один и тот же код для работы с различными объектами, имеющими одинаковый интерфейс, но обладающими различной его реализацией.\n",
    "\n",
    "### **полиморфизм означает, что смысл операции зависит от объекта, с которым она работает**"
   ]
  },
  {
   "cell_type": "code",
   "execution_count": 111,
   "metadata": {},
   "outputs": [],
   "source": [
    "class Mammal:\n",
    "    def move(self):\n",
    "        print('Двигается')\n",
    "\n",
    "class Hare(Mammal):\n",
    "    def move(self):\n",
    "        print('Прыгает')"
   ]
  },
  {
   "cell_type": "code",
   "execution_count": 112,
   "metadata": {},
   "outputs": [
    {
     "name": "stdout",
     "output_type": "stream",
     "text": [
      "Двигается\n"
     ]
    }
   ],
   "source": [
    "animal = Mammal()\n",
    "animal.move() # Двигается"
   ]
  },
  {
   "cell_type": "code",
   "execution_count": 113,
   "metadata": {},
   "outputs": [
    {
     "name": "stdout",
     "output_type": "stream",
     "text": [
      "Прыгает\n"
     ]
    }
   ],
   "source": [
    "hare = Hare()\n",
    "hare.move() # Прыгает"
   ]
  },
  {
   "cell_type": "code",
   "execution_count": 114,
   "metadata": {},
   "outputs": [
    {
     "data": {
      "text/plain": [
       "2"
      ]
     },
     "execution_count": 114,
     "metadata": {},
     "output_type": "execute_result"
    }
   ],
   "source": [
    "1 + 1"
   ]
  },
  {
   "cell_type": "code",
   "execution_count": 115,
   "metadata": {},
   "outputs": [
    {
     "data": {
      "text/plain": [
       "'11'"
      ]
     },
     "execution_count": 115,
     "metadata": {},
     "output_type": "execute_result"
    }
   ],
   "source": [
    "'1' + '1'"
   ]
  },
  {
   "cell_type": "markdown",
   "metadata": {},
   "source": [
    "### Пять принципов создания качественных систем — SOLID:\n",
    "- **S**ingle responsibility — у каждого объекта доолжна быть только одна ответственность и всё его поведение должно быть направлено на обеспечение только этой ответственности;\n",
    "-  **O**pen/closed — классы должны быть открыты для расширения (новыми сущностями), но закрыты для изменения;\n",
    "- **L**iskov substitution (принцип Барбары Лисков) — функции, которые используют базовый тип должны иметь возможность использовать его подтипы не зная об этом;\n",
    "- **I**nterface segregation (принцип разделения интерфейсов) — клиенты не должны зависеть от методов, которые они не используют;\n",
    "- **D**ependency inversion (принцип инверсии зависимостей) — модули верхних уровней не должны зависеть от модулей нижних уровней. Оба типа модулей должны зависеть от абстракции. Абстракции не должны зависеть от деталей. Детали должны зависеть от абстракций."
   ]
  },
  {
   "cell_type": "markdown",
   "metadata": {},
   "source": [
    "### Next... Паттерны проектирования"
   ]
  },
  {
   "cell_type": "code",
   "execution_count": null,
   "metadata": {},
   "outputs": [],
   "source": []
  }
 ],
 "metadata": {
  "kernelspec": {
   "display_name": "Python 3",
   "language": "python",
   "name": "python3"
  },
  "language_info": {
   "codemirror_mode": {
    "name": "ipython",
    "version": 3
   },
   "file_extension": ".py",
   "mimetype": "text/x-python",
   "name": "python",
   "nbconvert_exporter": "python",
   "pygments_lexer": "ipython3",
   "version": "3.8.5"
  }
 },
 "nbformat": 4,
 "nbformat_minor": 4
}
