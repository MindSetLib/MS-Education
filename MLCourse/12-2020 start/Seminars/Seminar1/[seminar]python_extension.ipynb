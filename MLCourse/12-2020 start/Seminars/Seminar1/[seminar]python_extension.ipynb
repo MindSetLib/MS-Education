{
 "cells": [
  {
   "cell_type": "markdown",
   "metadata": {
    "colab_type": "text",
    "id": "eOivSghfGwy-",
    "papermill": {
     "duration": 0.197139,
     "end_time": "2020-12-07T07:36:25.187961",
     "exception": false,
     "start_time": "2020-12-07T07:36:24.990822",
     "status": "completed"
    },
    "tags": []
   },
   "source": [
    "<h2 style=\"text-align: center;\"><b>Python. Занятие 1: Основы</b></h2>"
   ]
  },
  {
   "cell_type": "markdown",
   "metadata": {
    "colab_type": "text",
    "id": "_kqD6lQ7GwzA",
    "papermill": {
     "duration": 0.191862,
     "end_time": "2020-12-07T07:36:25.571577",
     "exception": false,
     "start_time": "2020-12-07T07:36:25.379715",
     "status": "completed"
    },
    "tags": []
   },
   "source": [
    "<img align=left src=\"https://cdn.fedoramagazine.org/wp-content/uploads/2015/11/Python_logo.png\" style=\"height:160px;\" />\n",
    "\n",
    "<img align=center src=\"https://1.bp.blogspot.com/-16utHnlB3Ao/V4tpG8NBX0I/AAAAAAAAA7M/vDQ1p40JpE8M34eCr-UdriSV04Dn8au7QCLcB/s1600/jupyter-logo.png\" style=\"height:90px;\" />"
   ]
  },
  {
   "cell_type": "markdown",
   "metadata": {
    "colab_type": "text",
    "id": "wBxC0NK1GwzB",
    "papermill": {
     "duration": 0.194278,
     "end_time": "2020-12-07T07:36:25.957899",
     "exception": false,
     "start_time": "2020-12-07T07:36:25.763621",
     "status": "completed"
    },
    "tags": []
   },
   "source": [
    "---"
   ]
  },
  {
   "cell_type": "markdown",
   "metadata": {
    "colab_type": "text",
    "id": "iKkG2y23GwzC",
    "papermill": {
     "duration": 0.192504,
     "end_time": "2020-12-07T07:36:26.343727",
     "exception": false,
     "start_time": "2020-12-07T07:36:26.151223",
     "status": "completed"
    },
    "tags": []
   },
   "source": [
    "\n",
    "Перед тем как начать складывать уровни нейросеточек как блинчики или предсказывать кредитоспособность клиентов, нужно быть хорошо знакомым с нужными библиотеками и языком, на котором они написаны. \n",
    "В нашем курсе мы будем использовать язык **Python**, так как он является оптимальным сочетанием простоты, силы и количества полезных библиотек, написанных для него. "
   ]
  },
  {
   "cell_type": "markdown",
   "metadata": {
    "colab_type": "text",
    "id": "LYwDm-Y7GwzD",
    "papermill": {
     "duration": 0.200008,
     "end_time": "2020-12-07T07:36:26.737283",
     "exception": false,
     "start_time": "2020-12-07T07:36:26.537275",
     "status": "completed"
    },
    "tags": []
   },
   "source": [
    "На этом занятии мы научимся писать программы на Python, изучив его основы.  "
   ]
  },
  {
   "cell_type": "markdown",
   "metadata": {
    "colab_type": "text",
    "id": "qoHHrmtJGwzG",
    "papermill": {
     "duration": 0.195083,
     "end_time": "2020-12-07T07:36:27.131689",
     "exception": false,
     "start_time": "2020-12-07T07:36:26.936606",
     "status": "completed"
    },
    "tags": []
   },
   "source": [
    "## Основы Python"
   ]
  },
  {
   "cell_type": "markdown",
   "metadata": {
    "colab_type": "text",
    "id": "EpMCDIheGwzH",
    "papermill": {
     "duration": 0.194742,
     "end_time": "2020-12-07T07:36:27.519984",
     "exception": false,
     "start_time": "2020-12-07T07:36:27.325242",
     "status": "completed"
    },
    "tags": []
   },
   "source": [
    "Сейчас существуют две часто используемые версии Питона — **Python 2** и **Python 3**. Эти версии довольно похожи, но есть отличия, из-за которых они **не являются совместимыми** - программы, написанные на одной версии языка, могут не работать в другой.  \n",
    "\n",
    "В нашем курсе мы будем писать на **Python 3**. Точная версия не принципиальна, но она должна быть >= 3.5  \n",
    "\n",
    "Если Вы пользуетесь каким-либо из дистрибутивов Linux, то Python скорее всего уже установлен.\n",
    "Попробуйте в терминале следующие команды для запуска интерактивного режима работы:\n",
    "\n",
    "`python` или `python3` или `python2`\n",
    "\n",
    "Выход: `Ctrl+D`\n",
    "\n",
    "Режим работы, в котором выполнится код из файла main.py\n",
    "\n",
    "`python main.py`\n",
    "\n",
    "Помощь: **`help(X)`**, где `X` — то, по чему нужна помощь.  \n",
    "Выход из помощи: `q`."
   ]
  },
  {
   "cell_type": "markdown",
   "metadata": {
    "colab_type": "text",
    "id": "8N0y9NugGwzI",
    "papermill": {
     "duration": 0.194549,
     "end_time": "2020-12-07T07:36:27.911034",
     "exception": false,
     "start_time": "2020-12-07T07:36:27.716485",
     "status": "completed"
    },
    "tags": []
   },
   "source": [
    "## Общая информация о языке\n",
    "\n",
    "**Название** - **«Питон» или «Пайтон»** (в честь комедийных серий BBC «Летающий цирк Монти-Пайтона»)  \n",
    "**Создатель** - **голландец Гвидо ван Россум (Guido van Rossum)** (в 1991 году)  \n",
    "\n",
    "**Особенности**:  \n",
    "- интерпретируемый\n",
    "- объектно-ориентированный\n",
    "- высокоуровневый язык\n",
    "- встроенные высокоуровневые структуры данных\n",
    "- динамическая типизация\n",
    "- синтаксис прост в изучении\n",
    "- поддержка модулей и пакетов (большинство библиотек\n",
    "бесплатны)\n",
    "- универсальный\n",
    "- интеграция с другими языками (C (Cython), C++, Java (JPython))  \n",
    "\n",
    "**Стиль оформления кода** - **PEP8** (если Вы хороший человек).  \n",
    "\n",
    "*Самое главное из PEP8:*  \n",
    "- отступ – 4 пробела\n",
    "- длина строки < 80 символов\n",
    "- переменные: var_recommended\n",
    "- константы: CONST_RECOMMENDED"
   ]
  },
  {
   "cell_type": "markdown",
   "metadata": {
    "colab_type": "text",
    "id": "scLkWzB7Gw5s",
    "papermill": {
     "duration": 0.195231,
     "end_time": "2020-12-07T07:36:28.312445",
     "exception": false,
     "start_time": "2020-12-07T07:36:28.117214",
     "status": "completed"
    },
    "tags": []
   },
   "source": [
    "## Список материалов для самостоятельного изучения\n",
    "\n",
    "Данный ноутбук не претендует на полный охват всех тем и нюансов языка, поэтому ниже для удобства предоставлены ссылки на внешние ресурсы, которые могут помочь лучше изучить язык:\n",
    "\n",
    "* *Сайт языка Python* - https://www.python.org/\n",
    "\n",
    "\n",
    "* *Базовый курс синтаксиса Python с практикой* - https://www.codecademy.com/learn/learn-python\n",
    "\n",
    "\n",
    "* *Курс Python с нуля, можно выполнять задания в интерактивном режиме* - http://pythontutor.ru/\n",
    "\n",
    "\n",
    "* *Очень много задач на практику из разных областей, сделано по типу соцсети* - https://codesignal.com\n",
    "\n",
    "\n",
    "* *Новый онлайн-курс по Питону на Coursera от Mail.Ru Group* - https://www.coursera.org/learn/programming-in-python\n",
    "\n",
    "\n",
    "* *Самоучитель Python* - https://pythonworld.ru/samouchitel-python\n",
    "\n",
    "\n",
    "* *Статья про коварности Python* - https://habrahabr.ru/company/mailru/blog/337364/\n",
    "\n",
    "\n",
    "* *Очень полезные трюки в Jupyter Notebook*: https://www.dataquest.io/blog/jupyter-notebook-tips-tricks-shortcuts/"
   ]
  },
  {
   "cell_type": "markdown",
   "metadata": {
    "colab_type": "text",
    "id": "YfhDEhg_GwzM",
    "papermill": {
     "duration": 0.204883,
     "end_time": "2020-12-07T07:36:28.714062",
     "exception": false,
     "start_time": "2020-12-07T07:36:28.509179",
     "status": "completed"
    },
    "tags": []
   },
   "source": [
    "### Типы"
   ]
  },
  {
   "cell_type": "markdown",
   "metadata": {
    "colab_type": "text",
    "id": "PJA-KLzvGwzN",
    "papermill": {
     "duration": 0.201041,
     "end_time": "2020-12-07T07:36:29.114481",
     "exception": false,
     "start_time": "2020-12-07T07:36:28.913440",
     "status": "completed"
    },
    "tags": []
   },
   "source": [
    "**Все типы данных** в Python относятся к одной из **2-х категорий**: **изменяемые (mutable)** и **неизменяемые (immutable)**.   \n",
    "\n",
    "*Неизменяемые объекты*:  \n",
    "* числовые данные (int, float), \n",
    "* bool,\n",
    "* None,\n",
    "* символьные строки (class 'str'), \n",
    "* кортежи (tuple).  \n",
    "\n",
    "*Изменяемые объекты*:  \n",
    "* списки (list), \n",
    "* множества (set), \n",
    "* словари (dict).  \n",
    "\n",
    "Вновь определяемые пользователем типы (классы) могут быть определены как неизменяемые или изменяемые. Изменяемость объектов определённого типа является принципиально важной характеристикой, определяющей, может ли объект такого типа **выступать в качестве ключа для словарей (dict)** или нет."
   ]
  },
  {
   "cell_type": "markdown",
   "metadata": {
    "colab_type": "text",
    "id": "YbuXsGcgzM6P",
    "papermill": {
     "duration": 0.202266,
     "end_time": "2020-12-07T07:36:29.516903",
     "exception": false,
     "start_time": "2020-12-07T07:36:29.314637",
     "status": "completed"
    },
    "tags": []
   },
   "source": [
    "----------"
   ]
  },
  {
   "cell_type": "markdown",
   "metadata": {
    "colab_type": "text",
    "id": "6MGS0RGPzM6Q",
    "papermill": {
     "duration": 0.204286,
     "end_time": "2020-12-07T07:36:29.923478",
     "exception": false,
     "start_time": "2020-12-07T07:36:29.719192",
     "status": "completed"
    },
    "tags": []
   },
   "source": [
    "Начнем наше знакомство с языком с примитивных типов переменных:"
   ]
  },
  {
   "cell_type": "markdown",
   "metadata": {
    "colab_type": "text",
    "id": "-tXSqvRRGwzN",
    "papermill": {
     "duration": 0.212908,
     "end_time": "2020-12-07T07:36:30.337380",
     "exception": false,
     "start_time": "2020-12-07T07:36:30.124472",
     "status": "completed"
    },
    "tags": []
   },
   "source": [
    "### int"
   ]
  },
  {
   "cell_type": "markdown",
   "metadata": {
    "colab_type": "text",
    "id": "9SQmEOL6zM6T",
    "papermill": {
     "duration": 0.200775,
     "end_time": "2020-12-07T07:36:30.752129",
     "exception": false,
     "start_time": "2020-12-07T07:36:30.551354",
     "status": "completed"
    },
    "tags": []
   },
   "source": [
    "**Целочисленный тип переменной в питоне**\n",
    "\n",
    "Чтобы задать переменную, не нужно указывать ее тип -- достаточно присвоить ей значение. При этом тип определится автоматически.\n",
    "\n",
    "Давайте попробуем завести переменную, присвоить ей значение -- целое число, и вывести на экран ее значение и тип (type):"
   ]
  },
  {
   "cell_type": "code",
   "execution_count": 91,
   "metadata": {
    "colab": {},
    "colab_type": "code",
    "id": "MN-lZNJ4GwzO",
    "papermill": {
     "duration": 0.213314,
     "end_time": "2020-12-07T07:36:31.163901",
     "exception": false,
     "start_time": "2020-12-07T07:36:30.950587",
     "status": "completed"
    },
    "tags": []
   },
   "outputs": [
    {
     "name": "stdout",
     "output_type": "stream",
     "text": [
      "5 | <class 'int'>\n"
     ]
    }
   ],
   "source": [
    "x = 5\n",
    "\n",
    "print(x, '|', type(x))"
   ]
  },
  {
   "cell_type": "markdown",
   "metadata": {
    "colab_type": "text",
    "id": "SxxwaqB-zM6a",
    "papermill": {
     "duration": 0.202836,
     "end_time": "2020-12-07T07:36:31.577147",
     "exception": false,
     "start_time": "2020-12-07T07:36:31.374311",
     "status": "completed"
    },
    "tags": []
   },
   "source": [
    "Как видно, тип получившейся переменной -- int.\n",
    "\n",
    "C int'овыми переменными можно производить стандартные матеатические операции -- сложение, вычитание, умножение, деление, возведение в степень, взятие остатка при делении на число\n",
    "\n",
    "Деление переменных типа int бывает двух типов -- целочисленное (с помощью символа //) и нецелочисленное (символ /). Результатом первого типа деления будет целое число, второго -- дробное. "
   ]
  },
  {
   "cell_type": "code",
   "execution_count": 2,
   "metadata": {
    "colab": {},
    "colab_type": "code",
    "execution": {
     "iopub.execute_input": "2020-12-07T07:36:31.992345Z",
     "iopub.status.busy": "2020-12-07T07:36:31.991408Z",
     "iopub.status.idle": "2020-12-07T07:36:31.996484Z",
     "shell.execute_reply": "2020-12-07T07:36:31.997248Z"
    },
    "id": "4fRsWXp7GwzS",
    "papermill": {
     "duration": 0.219283,
     "end_time": "2020-12-07T07:36:31.997545",
     "exception": false,
     "start_time": "2020-12-07T07:36:31.778262",
     "status": "completed"
    },
    "tags": []
   },
   "outputs": [
    {
     "name": "stdout",
     "output_type": "stream",
     "text": [
      "9 20 1 1.25 625\n"
     ]
    }
   ],
   "source": [
    "a = 4 + 5\n",
    "b = 4 * 5\n",
    "c = 5 // 4\n",
    "d = 5 / 4\n",
    "e = 5**4 # 5 в степени 4\n",
    "f = 5%4 # остаток при делении 5 на 4\n",
    "\n",
    "print(a, b, c, d, e)"
   ]
  },
  {
   "cell_type": "markdown",
   "metadata": {
    "colab_type": "text",
    "id": "XyZYWE9YzM6g",
    "papermill": {
     "duration": 0.196801,
     "end_time": "2020-12-07T07:36:32.390852",
     "exception": false,
     "start_time": "2020-12-07T07:36:32.194051",
     "status": "completed"
    },
    "tags": []
   },
   "source": [
    "Также язык питон удобен в работе с большими числами:\n",
    "\n",
    "Давайте попробуем положить в переменную число 5000000000000000000000000001:"
   ]
  },
  {
   "cell_type": "code",
   "execution_count": 3,
   "metadata": {
    "colab": {},
    "colab_type": "code",
    "execution": {
     "iopub.execute_input": "2020-12-07T07:36:32.800835Z",
     "iopub.status.busy": "2020-12-07T07:36:32.799873Z",
     "iopub.status.idle": "2020-12-07T07:36:32.806119Z",
     "shell.execute_reply": "2020-12-07T07:36:32.805255Z"
    },
    "id": "FnsWAhPMGwza",
    "papermill": {
     "duration": 0.215054,
     "end_time": "2020-12-07T07:36:32.806331",
     "exception": false,
     "start_time": "2020-12-07T07:36:32.591277",
     "status": "completed"
    },
    "tags": []
   },
   "outputs": [
    {
     "name": "stdout",
     "output_type": "stream",
     "text": [
      "5000000000000000000000000001 | <class 'int'>\n"
     ]
    }
   ],
   "source": [
    "x = 5 * 1000000000 * 1000000000 * 10**9 + 1\n",
    "print(x, '|', type(x))"
   ]
  },
  {
   "cell_type": "markdown",
   "metadata": {
    "colab_type": "text",
    "id": "4GTO4cU0zM6l",
    "papermill": {
     "duration": 0.19722,
     "end_time": "2020-12-07T07:36:33.200090",
     "exception": false,
     "start_time": "2020-12-07T07:36:33.002870",
     "status": "completed"
    },
    "tags": []
   },
   "source": [
    "Как видите, все получилось: полученная переменная типа int и с ней можно работать как с обычными числами. Во многих других языках (например, С++) положить такое большое число в переменную бы не вышло -- возникло бы переполнение."
   ]
  },
  {
   "cell_type": "markdown",
   "metadata": {
    "colab_type": "text",
    "id": "Hf0cK9ejGwzd",
    "papermill": {
     "duration": 0.200431,
     "end_time": "2020-12-07T07:36:33.597556",
     "exception": false,
     "start_time": "2020-12-07T07:36:33.397125",
     "status": "completed"
    },
    "tags": []
   },
   "source": [
    "### float"
   ]
  },
  {
   "cell_type": "markdown",
   "metadata": {
    "colab_type": "text",
    "id": "-ETlGwx6zM6n",
    "papermill": {
     "duration": 0.194924,
     "end_time": "2020-12-07T07:36:33.985602",
     "exception": false,
     "start_time": "2020-12-07T07:36:33.790678",
     "status": "completed"
    },
    "tags": []
   },
   "source": [
    "**Тип переменной для хранения дробных чисел в питоне**:"
   ]
  },
  {
   "cell_type": "code",
   "execution_count": 4,
   "metadata": {
    "colab": {},
    "colab_type": "code",
    "execution": {
     "iopub.execute_input": "2020-12-07T07:36:34.394405Z",
     "iopub.status.busy": "2020-12-07T07:36:34.392657Z",
     "iopub.status.idle": "2020-12-07T07:36:34.398058Z",
     "shell.execute_reply": "2020-12-07T07:36:34.397121Z"
    },
    "id": "IJcKX6iPGwzd",
    "papermill": {
     "duration": 0.217285,
     "end_time": "2020-12-07T07:36:34.398270",
     "exception": false,
     "start_time": "2020-12-07T07:36:34.180985",
     "status": "completed"
    },
    "tags": []
   },
   "outputs": [
    {
     "name": "stdout",
     "output_type": "stream",
     "text": [
      "12.345 | <class 'float'>\n"
     ]
    }
   ],
   "source": [
    "y = 12.345\n",
    "\n",
    "print(y, '|', type(y))"
   ]
  },
  {
   "cell_type": "markdown",
   "metadata": {
    "colab_type": "text",
    "id": "hdrWEQ6OzM6p",
    "papermill": {
     "duration": 0.189901,
     "end_time": "2020-12-07T07:36:34.786005",
     "exception": false,
     "start_time": "2020-12-07T07:36:34.596104",
     "status": "completed"
    },
    "tags": []
   },
   "source": [
    "С этим типом также можно выполнять арифметические операции (даже целочисленное деление):"
   ]
  },
  {
   "cell_type": "code",
   "execution_count": 5,
   "metadata": {
    "colab": {},
    "colab_type": "code",
    "execution": {
     "iopub.execute_input": "2020-12-07T07:36:35.309032Z",
     "iopub.status.busy": "2020-12-07T07:36:35.307834Z",
     "iopub.status.idle": "2020-12-07T07:36:35.311784Z",
     "shell.execute_reply": "2020-12-07T07:36:35.312703Z"
    },
    "id": "qjBbYiC0Gwzg",
    "papermill": {
     "duration": 0.331401,
     "end_time": "2020-12-07T07:36:35.312963",
     "exception": false,
     "start_time": "2020-12-07T07:36:34.981562",
     "status": "completed"
    },
    "tags": []
   },
   "outputs": [
    {
     "name": "stdout",
     "output_type": "stream",
     "text": [
      "9.3 21.419999999999998 1.25 1.0 759.69140625\n"
     ]
    }
   ],
   "source": [
    "a = 4.2 + 5.1\n",
    "b = 4.2 * 5.1\n",
    "c = 5.0 / 4.0\n",
    "d = 5.25 // 4.25\n",
    "e = 5.25 ** 4.0\n",
    "\n",
    "print(a, b, c, d, e)"
   ]
  },
  {
   "cell_type": "markdown",
   "metadata": {
    "colab_type": "text",
    "id": "7My0U1JSzM6t",
    "papermill": {
     "duration": 0.202326,
     "end_time": "2020-12-07T07:36:35.719692",
     "exception": false,
     "start_time": "2020-12-07T07:36:35.517366",
     "status": "completed"
    },
    "tags": []
   },
   "source": [
    "Переменную типа int можно привести к типу float "
   ]
  },
  {
   "cell_type": "code",
   "execution_count": 6,
   "metadata": {
    "colab": {},
    "colab_type": "code",
    "execution": {
     "iopub.execute_input": "2020-12-07T07:36:36.114930Z",
     "iopub.status.busy": "2020-12-07T07:36:36.113952Z",
     "iopub.status.idle": "2020-12-07T07:36:36.119104Z",
     "shell.execute_reply": "2020-12-07T07:36:36.118283Z"
    },
    "id": "dWjoVU9OGwzj",
    "papermill": {
     "duration": 0.203384,
     "end_time": "2020-12-07T07:36:36.119317",
     "exception": false,
     "start_time": "2020-12-07T07:36:35.915933",
     "status": "completed"
    },
    "tags": []
   },
   "outputs": [
    {
     "name": "stdout",
     "output_type": "stream",
     "text": [
      "5 | <class 'int'>\n",
      "5.0 | <class 'float'>\n"
     ]
    }
   ],
   "source": [
    "a = 5\n",
    "print(a, '|', type(a))\n",
    "a = float(a)\n",
    "print(a, '|', type(a))"
   ]
  },
  {
   "cell_type": "markdown",
   "metadata": {
    "colab_type": "text",
    "id": "YFD8l2XuGwzq",
    "papermill": {
     "duration": 0.195127,
     "end_time": "2020-12-07T07:36:36.506793",
     "exception": false,
     "start_time": "2020-12-07T07:36:36.311666",
     "status": "completed"
    },
    "tags": []
   },
   "source": [
    "### bool"
   ]
  },
  {
   "cell_type": "markdown",
   "metadata": {
    "colab_type": "text",
    "id": "AnzNaVf8zM6w",
    "papermill": {
     "duration": 0.189586,
     "end_time": "2020-12-07T07:36:36.888066",
     "exception": false,
     "start_time": "2020-12-07T07:36:36.698480",
     "status": "completed"
    },
    "tags": []
   },
   "source": [
    "**Логический тип переменной**: \n",
    "\n",
    "переменная типа bool может принимать два значения: `True` и `False`:"
   ]
  },
  {
   "cell_type": "code",
   "execution_count": 7,
   "metadata": {
    "colab": {},
    "colab_type": "code",
    "execution": {
     "iopub.execute_input": "2020-12-07T07:36:37.277055Z",
     "iopub.status.busy": "2020-12-07T07:36:37.276114Z",
     "iopub.status.idle": "2020-12-07T07:36:37.280298Z",
     "shell.execute_reply": "2020-12-07T07:36:37.281090Z"
    },
    "id": "f-kwu3wkGwzr",
    "papermill": {
     "duration": 0.20288,
     "end_time": "2020-12-07T07:36:37.281322",
     "exception": false,
     "start_time": "2020-12-07T07:36:37.078442",
     "status": "completed"
    },
    "tags": []
   },
   "outputs": [
    {
     "name": "stdout",
     "output_type": "stream",
     "text": [
      "True | <class 'bool'>\n",
      "False | <class 'bool'>\n"
     ]
    }
   ],
   "source": [
    "a = True\n",
    "b = False\n",
    "\n",
    "print(a, '|', type(a))\n",
    "\n",
    "print(b, '|', type(b))"
   ]
  },
  {
   "cell_type": "markdown",
   "metadata": {
    "colab_type": "text",
    "id": "c0fVpjYyzM60",
    "papermill": {
     "duration": 0.192582,
     "end_time": "2020-12-07T07:36:37.673893",
     "exception": false,
     "start_time": "2020-12-07T07:36:37.481311",
     "status": "completed"
    },
    "tags": []
   },
   "source": [
    "У типа bool существует связь с типом int -- переменная со значением True соответствует int'овой переменной со значением 1, а переменная со значением False -- int'овой переменной со значением 0.\n",
    "\n",
    "Давайте в этом убедимся, попробовав сложить значения переменных a и b:"
   ]
  },
  {
   "cell_type": "code",
   "execution_count": 8,
   "metadata": {
    "colab": {},
    "colab_type": "code",
    "execution": {
     "iopub.execute_input": "2020-12-07T07:36:38.071064Z",
     "iopub.status.busy": "2020-12-07T07:36:38.070028Z",
     "iopub.status.idle": "2020-12-07T07:36:38.075009Z",
     "shell.execute_reply": "2020-12-07T07:36:38.074046Z"
    },
    "id": "XOtoJKoOGwzu",
    "papermill": {
     "duration": 0.207412,
     "end_time": "2020-12-07T07:36:38.075283",
     "exception": false,
     "start_time": "2020-12-07T07:36:37.867871",
     "status": "completed"
    },
    "tags": []
   },
   "outputs": [
    {
     "name": "stdout",
     "output_type": "stream",
     "text": [
      "1\n",
      "2\n",
      "0\n"
     ]
    }
   ],
   "source": [
    "print(a + b)\n",
    "print(a + a)\n",
    "print(b + b)"
   ]
  },
  {
   "cell_type": "markdown",
   "metadata": {
    "colab_type": "text",
    "id": "h6cWbwGzzM65",
    "papermill": {
     "duration": 0.190913,
     "end_time": "2020-12-07T07:36:38.463360",
     "exception": false,
     "start_time": "2020-12-07T07:36:38.272447",
     "status": "completed"
    },
    "tags": []
   },
   "source": [
    "Ну и просто приведем a и b к типу int:"
   ]
  },
  {
   "cell_type": "code",
   "execution_count": 9,
   "metadata": {
    "colab": {},
    "colab_type": "code",
    "execution": {
     "iopub.execute_input": "2020-12-07T07:36:38.857588Z",
     "iopub.status.busy": "2020-12-07T07:36:38.856584Z",
     "iopub.status.idle": "2020-12-07T07:36:38.860759Z",
     "shell.execute_reply": "2020-12-07T07:36:38.861807Z"
    },
    "id": "bxaoc7p_Gwzw",
    "papermill": {
     "duration": 0.205471,
     "end_time": "2020-12-07T07:36:38.862166",
     "exception": false,
     "start_time": "2020-12-07T07:36:38.656695",
     "status": "completed"
    },
    "tags": []
   },
   "outputs": [
    {
     "name": "stdout",
     "output_type": "stream",
     "text": [
      "1 0\n"
     ]
    }
   ],
   "source": [
    "print(int(a), int(b))"
   ]
  },
  {
   "cell_type": "markdown",
   "metadata": {
    "colab_type": "text",
    "id": "2E3YARdGzM67",
    "papermill": {
     "duration": 0.193906,
     "end_time": "2020-12-07T07:36:39.251246",
     "exception": false,
     "start_time": "2020-12-07T07:36:39.057340",
     "status": "completed"
    },
    "tags": []
   },
   "source": [
    "Логические \"и\", \"или\", \"не\" в питоне обозначаюся ключевыми словами `and`, `or`, `not` соответственно:"
   ]
  },
  {
   "cell_type": "code",
   "execution_count": 10,
   "metadata": {
    "colab": {},
    "colab_type": "code",
    "execution": {
     "iopub.execute_input": "2020-12-07T07:36:39.657496Z",
     "iopub.status.busy": "2020-12-07T07:36:39.656503Z",
     "iopub.status.idle": "2020-12-07T07:36:39.662386Z",
     "shell.execute_reply": "2020-12-07T07:36:39.661402Z"
    },
    "id": "moSf59BmGwzz",
    "papermill": {
     "duration": 0.218148,
     "end_time": "2020-12-07T07:36:39.662679",
     "exception": false,
     "start_time": "2020-12-07T07:36:39.444531",
     "status": "completed"
    },
    "tags": []
   },
   "outputs": [
    {
     "name": "stdout",
     "output_type": "stream",
     "text": [
      "False \n",
      "\n",
      "True \n",
      "\n",
      "True \n",
      "\n"
     ]
    }
   ],
   "source": [
    "print(True and False, '\\n')\n",
    "\n",
    "print(True or True, '\\n')\n",
    "\n",
    "print(not False, '\\n')"
   ]
  },
  {
   "cell_type": "code",
   "execution_count": 11,
   "metadata": {
    "colab": {},
    "colab_type": "code",
    "execution": {
     "iopub.execute_input": "2020-12-07T07:36:40.066024Z",
     "iopub.status.busy": "2020-12-07T07:36:40.064939Z",
     "iopub.status.idle": "2020-12-07T07:36:40.070177Z",
     "shell.execute_reply": "2020-12-07T07:36:40.071032Z"
    },
    "id": "W4kBXsmazM6-",
    "papermill": {
     "duration": 0.210542,
     "end_time": "2020-12-07T07:36:40.071381",
     "exception": false,
     "start_time": "2020-12-07T07:36:39.860839",
     "status": "completed"
    },
    "tags": []
   },
   "outputs": [
    {
     "name": "stdout",
     "output_type": "stream",
     "text": [
      "False | <class 'bool'>\n",
      "True | <class 'bool'>\n"
     ]
    }
   ],
   "source": [
    "# в переменную a будет записан результат сравнения 2 и 3. т.е. False, потому что (2==3) неверно. \n",
    "a = (2 == 3)\n",
    "b = (4 < 5)\n",
    "\n",
    "print(a, '|', type(a))\n",
    "print(b, '|', type(b))"
   ]
  },
  {
   "cell_type": "code",
   "execution_count": 12,
   "metadata": {
    "colab": {},
    "colab_type": "code",
    "execution": {
     "iopub.execute_input": "2020-12-07T07:36:40.510149Z",
     "iopub.status.busy": "2020-12-07T07:36:40.509080Z",
     "iopub.status.idle": "2020-12-07T07:36:40.513747Z",
     "shell.execute_reply": "2020-12-07T07:36:40.514588Z"
    },
    "id": "10QGSb6ezM7A",
    "papermill": {
     "duration": 0.246288,
     "end_time": "2020-12-07T07:36:40.514839",
     "exception": false,
     "start_time": "2020-12-07T07:36:40.268551",
     "status": "completed"
    },
    "tags": []
   },
   "outputs": [
    {
     "data": {
      "text/plain": [
       "False"
      ]
     },
     "execution_count": 12,
     "metadata": {},
     "output_type": "execute_result"
    }
   ],
   "source": [
    "a or (a and not b)"
   ]
  },
  {
   "cell_type": "markdown",
   "metadata": {
    "colab_type": "text",
    "id": "Ra7b2HeOzM7C",
    "papermill": {
     "duration": 0.196084,
     "end_time": "2020-12-07T07:36:40.911023",
     "exception": false,
     "start_time": "2020-12-07T07:36:40.714939",
     "status": "completed"
    },
    "tags": []
   },
   "source": [
    "### If"
   ]
  },
  {
   "cell_type": "markdown",
   "metadata": {
    "colab_type": "text",
    "id": "oFKRUUbvzM7D",
    "papermill": {
     "duration": 0.196154,
     "end_time": "2020-12-07T07:36:41.302244",
     "exception": false,
     "start_time": "2020-12-07T07:36:41.106090",
     "status": "completed"
    },
    "tags": []
   },
   "source": [
    "**Условный оператор**\n",
    "\n",
    "В коде часто приходится проверять выполнимость или невыполнимость каких-то условий. Синтаксис следующий\n",
    "\n",
    "```\n",
    "if <условие1 (булевское выражение)> :\n",
    "    <код, который выполнится, если условие верно>\n",
    "elif <условие2 (булевское выражение)>:\n",
    "    <код, который выполнится, если условие1 было неверно, а условие2 верно>\n",
    "else:\n",
    "    <код, который выполнится, если условие1 и условие2 были неверны>\n",
    "```\n",
    "\n",
    "Обратите внимание, что код, который должен выполняться внутри каждого условия, записывается с отступом в 4 пробела от уровня if, elif и else: в питоне области видимости переменных обозначаются отступами.\n",
    "\n",
    "*То есть, отступы позволяют понять, где начинается код, который должен выполняться при выполнении условия в if, и где заканчивается*\n",
    "\n",
    "Рассмотрим пример: пусть в нашем коде есть переменная x. Пусть мы хотим вывести на экран сообщение \"x отрицателен\", если x<0, \"x равен нулю\", если x=0 и \"x положителен\", если x>0. Код будет следующий:"
   ]
  },
  {
   "cell_type": "code",
   "execution_count": 13,
   "metadata": {
    "colab": {},
    "colab_type": "code",
    "execution": {
     "iopub.execute_input": "2020-12-07T07:36:41.705957Z",
     "iopub.status.busy": "2020-12-07T07:36:41.704705Z",
     "iopub.status.idle": "2020-12-07T07:36:41.709766Z",
     "shell.execute_reply": "2020-12-07T07:36:41.708705Z"
    },
    "id": "zGSGj58YzM7E",
    "papermill": {
     "duration": 0.211804,
     "end_time": "2020-12-07T07:36:41.710085",
     "exception": false,
     "start_time": "2020-12-07T07:36:41.498281",
     "status": "completed"
    },
    "tags": []
   },
   "outputs": [
    {
     "name": "stdout",
     "output_type": "stream",
     "text": [
      "x положителен\n",
      "Done\n"
     ]
    }
   ],
   "source": [
    "x = 10\n",
    "\n",
    "if x<0:\n",
    "    print(\"x отрицателен\")\n",
    "elif x==0:\n",
    "    print(\"x равен нулю\")\n",
    "else:\n",
    "    print(\"x положителен\")\n",
    "    \n",
    "# этот код уже не \"внутри\" else, потому что записан без отступа в 4 пробела. Поэтому он выполнится \n",
    "# в любом случае после отработки if-elif-else\n",
    "print(\"Done\")"
   ]
  },
  {
   "cell_type": "markdown",
   "metadata": {
    "colab_type": "text",
    "id": "cdvOH6KDzM7G",
    "papermill": {
     "duration": 0.194394,
     "end_time": "2020-12-07T07:36:42.120076",
     "exception": false,
     "start_time": "2020-12-07T07:36:41.925682",
     "status": "completed"
    },
    "tags": []
   },
   "source": [
    "Конечно, в `if` можно подставлять и более сложные булевские выражения:"
   ]
  },
  {
   "cell_type": "code",
   "execution_count": 14,
   "metadata": {
    "colab": {},
    "colab_type": "code",
    "execution": {
     "iopub.execute_input": "2020-12-07T07:36:42.528136Z",
     "iopub.status.busy": "2020-12-07T07:36:42.527228Z",
     "iopub.status.idle": "2020-12-07T07:36:42.532079Z",
     "shell.execute_reply": "2020-12-07T07:36:42.532942Z"
    },
    "id": "N40FqjChzM7H",
    "papermill": {
     "duration": 0.216762,
     "end_time": "2020-12-07T07:36:42.533215",
     "exception": false,
     "start_time": "2020-12-07T07:36:42.316453",
     "status": "completed"
    },
    "tags": []
   },
   "outputs": [
    {
     "name": "stdout",
     "output_type": "stream",
     "text": [
      "10\n",
      "nice\n"
     ]
    }
   ],
   "source": [
    "if x>3 and x < 11 or x==5:\n",
    "    print(x)\n",
    "    # тоже выполнится при выполнения условия после if, так как этот код тоже записан с отступом в 4 пробела\n",
    "    print(\"nice\")"
   ]
  },
  {
   "cell_type": "code",
   "execution_count": 15,
   "metadata": {
    "colab": {},
    "colab_type": "code",
    "execution": {
     "iopub.execute_input": "2020-12-07T07:36:42.942465Z",
     "iopub.status.busy": "2020-12-07T07:36:42.941509Z",
     "iopub.status.idle": "2020-12-07T07:36:42.946347Z",
     "shell.execute_reply": "2020-12-07T07:36:42.947082Z"
    },
    "id": "G5QFZl5XzM7J",
    "papermill": {
     "duration": 0.213494,
     "end_time": "2020-12-07T07:36:42.947316",
     "exception": false,
     "start_time": "2020-12-07T07:36:42.733822",
     "status": "completed"
    },
    "tags": []
   },
   "outputs": [
    {
     "name": "stdout",
     "output_type": "stream",
     "text": [
      "y not grater than 6\n",
      "x is equal to 3\n"
     ]
    }
   ],
   "source": [
    "# if внутри if:\n",
    "x = 3\n",
    "y = 5\n",
    "if x == 3:\n",
    "    if y > 6:\n",
    "        # отступ в 4 пробела от внутреннего if\n",
    "        print(\"y greater than 6\")\n",
    "    else:\n",
    "        print(\"y not grater than 6\")\n",
    "        \n",
    "    # отступ в 4 пробела от внешнего if, поэтому код выполнится если x==3 и при любом значении y\n",
    "    print(\"x is equal to 3\")"
   ]
  },
  {
   "cell_type": "markdown",
   "metadata": {
    "colab_type": "text",
    "id": "sGGkrmM0Gwz1",
    "papermill": {
     "duration": 0.193674,
     "end_time": "2020-12-07T07:36:43.336226",
     "exception": false,
     "start_time": "2020-12-07T07:36:43.142552",
     "status": "completed"
    },
    "tags": []
   },
   "source": [
    "### None"
   ]
  },
  {
   "cell_type": "markdown",
   "metadata": {
    "colab_type": "text",
    "id": "pjXxEdFKzM7L",
    "papermill": {
     "duration": 0.212187,
     "end_time": "2020-12-07T07:36:43.746125",
     "exception": false,
     "start_time": "2020-12-07T07:36:43.533938",
     "status": "completed"
    },
    "tags": []
   },
   "source": [
    "**ничего, null**"
   ]
  },
  {
   "cell_type": "markdown",
   "metadata": {
    "colab_type": "text",
    "id": "at7Q5Ok8zM7M",
    "papermill": {
     "duration": 0.194529,
     "end_time": "2020-12-07T07:36:44.135605",
     "exception": false,
     "start_time": "2020-12-07T07:36:43.941076",
     "status": "completed"
    },
    "tags": []
   },
   "source": [
    "Специальный тип в питоне, который обозначает *ничего*\n",
    "\n",
    "Его нельзя привести ни к одному другому типу языка. Проверить, является ли переменная param типом None, можно так:\n",
    "\n",
    "```\n",
    "if param is None\n",
    "```\n",
    "\n",
    "С первого взгляда может быть непонятно, зачем он нужен, но на самом деле это оченб удобный тип. Например, если вы где-то в коде создаете объект (базу данных, например), обращаясь к внешнему коду и хотите проверить, создалась ли ваша база данных, вы можете осуществить эту проверку, сравнив переменную базы данных с None. Примерно так:\n",
    "\n",
    "```\n",
    "database = MyDatabase(db_host, db_user, db_password, db_database)\n",
    "\n",
    "if database is None:\n",
    "```"
   ]
  },
  {
   "cell_type": "code",
   "execution_count": null,
   "metadata": {},
   "outputs": [],
   "source": [
    "NaN, None,"
   ]
  },
  {
   "cell_type": "code",
   "execution_count": 92,
   "metadata": {
    "colab": {},
    "colab_type": "code",
    "id": "BMIBkyzcGwz6",
    "papermill": {
     "duration": 0.212433,
     "end_time": "2020-12-07T07:36:44.545921",
     "exception": false,
     "start_time": "2020-12-07T07:36:44.333488",
     "status": "completed"
    },
    "tags": []
   },
   "outputs": [
    {
     "name": "stdout",
     "output_type": "stream",
     "text": [
      "None | <class 'NoneType'>\n"
     ]
    }
   ],
   "source": [
    "z = None\n",
    "print(z, '|', type(z))"
   ]
  },
  {
   "cell_type": "code",
   "execution_count": 95,
   "metadata": {},
   "outputs": [
    {
     "ename": "ValueError",
     "evalue": "invalid literal for int() with base 10: 'NaN'",
     "output_type": "error",
     "traceback": [
      "\u001b[0;31m---------------------------------------------------------------------------\u001b[0m",
      "\u001b[0;31mValueError\u001b[0m                                Traceback (most recent call last)",
      "\u001b[0;32m<ipython-input-95-88b2dd62b5a4>\u001b[0m in \u001b[0;36m<module>\u001b[0;34m\u001b[0m\n\u001b[0;32m----> 1\u001b[0;31m \u001b[0mint\u001b[0m\u001b[0;34m(\u001b[0m\u001b[0;34m'NaN'\u001b[0m\u001b[0;34m)\u001b[0m\u001b[0;34m\u001b[0m\u001b[0;34m\u001b[0m\u001b[0m\n\u001b[0m",
      "\u001b[0;31mValueError\u001b[0m: invalid literal for int() with base 10: 'NaN'"
     ]
    }
   ],
   "source": [
    "int(NaN)"
   ]
  },
  {
   "cell_type": "markdown",
   "metadata": {
    "colab_type": "text",
    "id": "K8JufXAxzM7O",
    "papermill": {
     "duration": 0.194633,
     "end_time": "2020-12-07T07:36:44.944706",
     "exception": false,
     "start_time": "2020-12-07T07:36:44.750073",
     "status": "completed"
    },
    "tags": []
   },
   "source": [
    "Убедимся, что None нельзя привести к другому типу:"
   ]
  },
  {
   "cell_type": "markdown",
   "metadata": {
    "colab": {},
    "colab_type": "code",
    "id": "KaBmiMneGwz8",
    "papermill": {
     "duration": 0.200935,
     "end_time": "2020-12-07T07:36:45.349498",
     "exception": false,
     "start_time": "2020-12-07T07:36:45.148563",
     "status": "completed"
    },
    "tags": []
   },
   "source": [
    "int(z)"
   ]
  },
  {
   "cell_type": "markdown",
   "metadata": {
    "colab_type": "text",
    "id": "ZqI8L0vrzM7R",
    "papermill": {
     "duration": 0.205016,
     "end_time": "2020-12-07T07:36:45.754552",
     "exception": false,
     "start_time": "2020-12-07T07:36:45.549536",
     "status": "completed"
    },
    "tags": []
   },
   "source": [
    "Проверка переменной на None:"
   ]
  },
  {
   "cell_type": "code",
   "execution_count": 17,
   "metadata": {
    "colab": {},
    "colab_type": "code",
    "execution": {
     "iopub.execute_input": "2020-12-07T07:36:46.176044Z",
     "iopub.status.busy": "2020-12-07T07:36:46.174918Z",
     "iopub.status.idle": "2020-12-07T07:36:46.179014Z",
     "shell.execute_reply": "2020-12-07T07:36:46.179968Z"
    },
    "id": "8k4aCla1Gwz_",
    "papermill": {
     "duration": 0.22024,
     "end_time": "2020-12-07T07:36:46.180247",
     "exception": false,
     "start_time": "2020-12-07T07:36:45.960007",
     "status": "completed"
    },
    "tags": []
   },
   "outputs": [
    {
     "data": {
      "text/plain": [
       "'I am None!'"
      ]
     },
     "execution_count": 17,
     "metadata": {},
     "output_type": "execute_result"
    }
   ],
   "source": [
    "if z is None:\n",
    "    z = 'I am None!'\n",
    "z"
   ]
  },
  {
   "cell_type": "markdown",
   "metadata": {
    "colab_type": "text",
    "id": "r_y-TEM3Gw0A",
    "papermill": {
     "duration": 0.208024,
     "end_time": "2020-12-07T07:36:46.599075",
     "exception": false,
     "start_time": "2020-12-07T07:36:46.391051",
     "status": "completed"
    },
    "tags": []
   },
   "source": [
    "### str"
   ]
  },
  {
   "cell_type": "markdown",
   "metadata": {
    "colab_type": "text",
    "id": "lxN_IvU0zM7U",
    "papermill": {
     "duration": 0.207513,
     "end_time": "2020-12-07T07:36:47.017009",
     "exception": false,
     "start_time": "2020-12-07T07:36:46.809496",
     "status": "completed"
    },
    "tags": []
   },
   "source": [
    "**строка**"
   ]
  },
  {
   "cell_type": "markdown",
   "metadata": {
    "colab_type": "text",
    "id": "mmVRb6X3zM7V",
    "papermill": {
     "duration": 0.196939,
     "end_time": "2020-12-07T07:36:47.429948",
     "exception": false,
     "start_time": "2020-12-07T07:36:47.233009",
     "status": "completed"
    },
    "tags": []
   },
   "source": [
    "Тип переменной \"строка\". Нужен для хранения и выполнения операций с строками -- наборами символов. В питоне строку можно задавать как с помощью одинарных кавычек, так и с помощью двойных, разницы нет (главное, чтобы в начале и конце одной строки стояли одинаковые кавычки):"
   ]
  },
  {
   "cell_type": "markdown",
   "metadata": {
    "colab_type": "text",
    "id": "NYLe3wFlGw0C",
    "papermill": {
     "duration": 0.194197,
     "end_time": "2020-12-07T07:36:47.819950",
     "exception": false,
     "start_time": "2020-12-07T07:36:47.625753",
     "status": "completed"
    },
    "tags": []
   },
   "source": [
    "В *python2.7* есть отдельный тип **unicode**. В *python3.5 (и выше)* (который будем использовать мы) всё это включено в тип **str**."
   ]
  },
  {
   "cell_type": "code",
   "execution_count": 18,
   "metadata": {
    "colab": {},
    "colab_type": "code",
    "execution": {
     "iopub.execute_input": "2020-12-07T07:36:48.220299Z",
     "iopub.status.busy": "2020-12-07T07:36:48.218318Z",
     "iopub.status.idle": "2020-12-07T07:36:48.222566Z",
     "shell.execute_reply": "2020-12-07T07:36:48.223527Z"
    },
    "id": "W5ZhY9r9Gw0C",
    "papermill": {
     "duration": 0.209061,
     "end_time": "2020-12-07T07:36:48.223894",
     "exception": false,
     "start_time": "2020-12-07T07:36:48.014833",
     "status": "completed"
    },
    "tags": []
   },
   "outputs": [
    {
     "name": "stdout",
     "output_type": "stream",
     "text": [
      "abc | <class 'str'>\n",
      "xyz | <class 'str'>\n"
     ]
    }
   ],
   "source": [
    "x = \"abc\"\n",
    "y = 'xyz'\n",
    "print(x, '|', type(x))\n",
    "print(y, '|', type(y))"
   ]
  },
  {
   "cell_type": "markdown",
   "metadata": {
    "colab_type": "text",
    "id": "wsjzmN8lzM7X",
    "papermill": {
     "duration": 0.207679,
     "end_time": "2020-12-07T07:36:48.631912",
     "exception": false,
     "start_time": "2020-12-07T07:36:48.424233",
     "status": "completed"
    },
    "tags": []
   },
   "source": [
    "Со строками тоже можно выполнять некоторые операции. Например, можно сложить две строки -- тогда вторая припишется в конец первой:"
   ]
  },
  {
   "cell_type": "code",
   "execution_count": 96,
   "metadata": {
    "colab": {},
    "colab_type": "code",
    "id": "ZVTh7bPjGw0F",
    "papermill": {
     "duration": 0.211334,
     "end_time": "2020-12-07T07:36:49.037790",
     "exception": false,
     "start_time": "2020-12-07T07:36:48.826456",
     "status": "completed"
    },
    "tags": []
   },
   "outputs": [
    {
     "name": "stdout",
     "output_type": "stream",
     "text": [
      "Андрей Михайлович\n"
     ]
    }
   ],
   "source": [
    "a = 'Андрей'\n",
    "b = \"Михайлович\"\n",
    "s = a + \" \" + b\n",
    "print(s)"
   ]
  },
  {
   "cell_type": "markdown",
   "metadata": {
    "colab_type": "text",
    "id": "jU-tX-ZBzM7Z",
    "papermill": {
     "duration": 0.195572,
     "end_time": "2020-12-07T07:36:49.431412",
     "exception": false,
     "start_time": "2020-12-07T07:36:49.235840",
     "status": "completed"
    },
    "tags": []
   },
   "source": [
    "Также у строк есть некоторое количество *методов*\n",
    "\n",
    "Метод -- это название для функций, которые вызываются от объекта. Например, у нас есть объект a -- строка, и у нее можно вызвать метод `.upper()`:\n",
    "\n",
    "```\n",
    "a.upper()\n",
    "```\n",
    "\n",
    "Методы деляится на те, которые изменяют сам объект, который их вызывает, и на те, которые возвращают результат, но не изменяют сам объект. \n",
    "\n",
    "Вот пример методов `.upper()` и `.lower()`, которые возвращают копию строки (не изменяя саму строку), от которой был вызван метод, приведенную к верхнему и нижнему регистру соответственно:"
   ]
  },
  {
   "cell_type": "markdown",
   "metadata": {
    "colab_type": "text",
    "id": "dSyo8vW9Gw1K",
    "papermill": {
     "duration": 0.198691,
     "end_time": "2020-12-07T07:36:49.831214",
     "exception": false,
     "start_time": "2020-12-07T07:36:49.632523",
     "status": "completed"
    },
    "tags": []
   },
   "source": [
    "P.S. При вызове метода какого-то класса (или функции какого-то модуля) можно написать его имя и через точку нажать **tab**:  \n",
    "\n",
    "<имя\\_объекта\\_класса(модуля)>**.[tab]**  \n",
    "\n",
    "Тогда всплывёт меню, в котором можно выбрать из всех существующих в этом классе методов (функций модуля)."
   ]
  },
  {
   "cell_type": "code",
   "execution_count": 20,
   "metadata": {
    "colab": {},
    "colab_type": "code",
    "execution": {
     "iopub.execute_input": "2020-12-07T07:36:50.241383Z",
     "iopub.status.busy": "2020-12-07T07:36:50.240455Z",
     "iopub.status.idle": "2020-12-07T07:36:50.245289Z",
     "shell.execute_reply": "2020-12-07T07:36:50.244280Z"
    },
    "id": "r3L343d5Gw0H",
    "papermill": {
     "duration": 0.209848,
     "end_time": "2020-12-07T07:36:50.245579",
     "exception": false,
     "start_time": "2020-12-07T07:36:50.035731",
     "status": "completed"
    },
    "tags": []
   },
   "outputs": [
    {
     "name": "stdout",
     "output_type": "stream",
     "text": [
      "АНДРЕЙ\n",
      "андрей\n"
     ]
    }
   ],
   "source": [
    "print(a.upper())\n",
    "print(a.lower())"
   ]
  },
  {
   "cell_type": "markdown",
   "metadata": {
    "colab_type": "text",
    "id": "oGTyecPezM7c",
    "papermill": {
     "duration": 0.20017,
     "end_time": "2020-12-07T07:36:50.644568",
     "exception": false,
     "start_time": "2020-12-07T07:36:50.444398",
     "status": "completed"
    },
    "tags": []
   },
   "source": [
    "Можно получить длину строки с помощью функции `len`:"
   ]
  },
  {
   "cell_type": "code",
   "execution_count": 21,
   "metadata": {
    "colab": {},
    "colab_type": "code",
    "execution": {
     "iopub.execute_input": "2020-12-07T07:36:51.049730Z",
     "iopub.status.busy": "2020-12-07T07:36:51.048694Z",
     "iopub.status.idle": "2020-12-07T07:36:51.053227Z",
     "shell.execute_reply": "2020-12-07T07:36:51.052410Z"
    },
    "id": "YiFvXOaIGw0K",
    "papermill": {
     "duration": 0.208572,
     "end_time": "2020-12-07T07:36:51.053492",
     "exception": false,
     "start_time": "2020-12-07T07:36:50.844920",
     "status": "completed"
    },
    "tags": []
   },
   "outputs": [
    {
     "name": "stdout",
     "output_type": "stream",
     "text": [
      "6\n"
     ]
    }
   ],
   "source": [
    "print(len(a))"
   ]
  },
  {
   "cell_type": "markdown",
   "metadata": {
    "colab_type": "text",
    "id": "iCBY7czmzM7e",
    "papermill": {
     "duration": 0.195452,
     "end_time": "2020-12-07T07:36:51.445876",
     "exception": false,
     "start_time": "2020-12-07T07:36:51.250424",
     "status": "completed"
    },
    "tags": []
   },
   "source": [
    "Можно обращаться к отдельным элементам строки через индексы (индексация в питоне с 0):"
   ]
  },
  {
   "cell_type": "code",
   "execution_count": 22,
   "metadata": {
    "colab": {},
    "colab_type": "code",
    "execution": {
     "iopub.execute_input": "2020-12-07T07:36:51.863299Z",
     "iopub.status.busy": "2020-12-07T07:36:51.862155Z",
     "iopub.status.idle": "2020-12-07T07:36:51.865672Z",
     "shell.execute_reply": "2020-12-07T07:36:51.866501Z"
    },
    "id": "5eSIiAI_Gw0Q",
    "papermill": {
     "duration": 0.22023,
     "end_time": "2020-12-07T07:36:51.866744",
     "exception": false,
     "start_time": "2020-12-07T07:36:51.646514",
     "status": "completed"
    },
    "tags": []
   },
   "outputs": [
    {
     "name": "stdout",
     "output_type": "stream",
     "text": [
      "Андрей\n",
      "А\n",
      "н\n"
     ]
    }
   ],
   "source": [
    "print(a)\n",
    "print(a[0])\n",
    "print(a[1])\n"
   ]
  },
  {
   "cell_type": "code",
   "execution_count": 100,
   "metadata": {},
   "outputs": [
    {
     "data": {
      "text/plain": [
       "'Аде'"
      ]
     },
     "execution_count": 100,
     "metadata": {},
     "output_type": "execute_result"
    }
   ],
   "source": [
    "a[0::2]"
   ]
  },
  {
   "cell_type": "code",
   "execution_count": null,
   "metadata": {},
   "outputs": [],
   "source": []
  },
  {
   "cell_type": "markdown",
   "metadata": {
    "colab_type": "text",
    "id": "oB9lbV_TzM7i",
    "papermill": {
     "duration": 0.202462,
     "end_time": "2020-12-07T07:36:52.271529",
     "exception": false,
     "start_time": "2020-12-07T07:36:52.069067",
     "status": "completed"
    },
    "tags": []
   },
   "source": [
    "А также можно получить *слайс* строки -- кусок строки с i-ого символа по j-ый. Делается это следующим образом:"
   ]
  },
  {
   "cell_type": "code",
   "execution_count": 23,
   "metadata": {
    "colab": {},
    "colab_type": "code",
    "execution": {
     "iopub.execute_input": "2020-12-07T07:36:52.686243Z",
     "iopub.status.busy": "2020-12-07T07:36:52.680838Z",
     "iopub.status.idle": "2020-12-07T07:36:52.689747Z",
     "shell.execute_reply": "2020-12-07T07:36:52.687325Z"
    },
    "id": "6H-BHEmAzM7j",
    "papermill": {
     "duration": 0.217983,
     "end_time": "2020-12-07T07:36:52.689960",
     "exception": false,
     "start_time": "2020-12-07T07:36:52.471977",
     "status": "completed"
    },
    "tags": []
   },
   "outputs": [
    {
     "name": "stdout",
     "output_type": "stream",
     "text": [
      "А\n"
     ]
    }
   ],
   "source": [
    "i = 0\n",
    "j = 1\n",
    "print(a[i:j])"
   ]
  },
  {
   "cell_type": "markdown",
   "metadata": {
    "colab_type": "text",
    "id": "gaZcGIeezM7k",
    "papermill": {
     "duration": 0.225856,
     "end_time": "2020-12-07T07:36:53.155351",
     "exception": false,
     "start_time": "2020-12-07T07:36:52.929495",
     "status": "completed"
    },
    "tags": []
   },
   "source": [
    "Можно проверять наличие подстроки в строке:"
   ]
  },
  {
   "cell_type": "code",
   "execution_count": 24,
   "metadata": {
    "colab": {},
    "colab_type": "code",
    "execution": {
     "iopub.execute_input": "2020-12-07T07:36:53.566416Z",
     "iopub.status.busy": "2020-12-07T07:36:53.565442Z",
     "iopub.status.idle": "2020-12-07T07:36:53.570976Z",
     "shell.execute_reply": "2020-12-07T07:36:53.569817Z"
    },
    "id": "bb4iUUSezM7l",
    "papermill": {
     "duration": 0.211407,
     "end_time": "2020-12-07T07:36:53.571281",
     "exception": false,
     "start_time": "2020-12-07T07:36:53.359874",
     "status": "completed"
    },
    "tags": []
   },
   "outputs": [
    {
     "name": "stdout",
     "output_type": "stream",
     "text": [
      "ya deistvitel'no stroka\n"
     ]
    }
   ],
   "source": [
    "s = 'ya stroka'\n",
    "if 'ya' in s:\n",
    "    print(\"ya deistvitel\\'no stroka\")"
   ]
  },
  {
   "cell_type": "markdown",
   "metadata": {
    "colab_type": "text",
    "id": "Es1yXyp_zM7m",
    "papermill": {
     "duration": 0.203429,
     "end_time": "2020-12-07T07:36:53.978505",
     "exception": false,
     "start_time": "2020-12-07T07:36:53.775076",
     "status": "completed"
    },
    "tags": []
   },
   "source": [
    "А вот изменять уже существующие строки нельзя:"
   ]
  },
  {
   "cell_type": "markdown",
   "metadata": {
    "colab": {},
    "colab_type": "code",
    "id": "E0jm8V7szM7n",
    "papermill": {
     "duration": 0.202423,
     "end_time": "2020-12-07T07:36:54.382381",
     "exception": false,
     "start_time": "2020-12-07T07:36:54.179958",
     "status": "completed"
    },
    "tags": []
   },
   "source": [
    "s = 'ya stroka'\n",
    "s[0] = 'l'"
   ]
  },
  {
   "cell_type": "markdown",
   "metadata": {
    "colab_type": "text",
    "id": "knjcsCbVGw0Z",
    "papermill": {
     "duration": 0.203573,
     "end_time": "2020-12-07T07:36:54.788025",
     "exception": false,
     "start_time": "2020-12-07T07:36:54.584452",
     "status": "completed"
    },
    "tags": []
   },
   "source": [
    "### Метод `split()`:"
   ]
  },
  {
   "cell_type": "markdown",
   "metadata": {
    "colab_type": "text",
    "id": "ZT-ofQOqzM7o",
    "papermill": {
     "duration": 0.203315,
     "end_time": "2020-12-07T07:36:55.193309",
     "exception": false,
     "start_time": "2020-12-07T07:36:54.989994",
     "status": "completed"
    },
    "tags": []
   },
   "source": [
    "У строк наряду с методами `.upper()`, `.lower()` и остальными есть метод `.split()`, который часто бывает очень полезен. Этот метод делит строку на несколько по символу, который ему указываешь, и возвращает набор полученных строк (точнее, массив полученных строк -- о том, что такое массив, ниже)\n",
    "\n",
    "Если символ не указывать, строка делится по пробелам:"
   ]
  },
  {
   "cell_type": "code",
   "execution_count": 101,
   "metadata": {
    "colab": {},
    "colab_type": "code",
    "id": "TuEP17vFGw0Z",
    "papermill": {
     "duration": 0.216303,
     "end_time": "2020-12-07T07:36:55.612262",
     "exception": false,
     "start_time": "2020-12-07T07:36:55.395959",
     "status": "completed"
    },
    "tags": []
   },
   "outputs": [
    {
     "name": "stdout",
     "output_type": "stream",
     "text": [
      "['Райгородский', 'Андрей', 'Михайлович']\n"
     ]
    }
   ],
   "source": [
    "splitted_line = \"Райгородский Андрей Михайлович\".split()\n",
    "print(splitted_line)"
   ]
  },
  {
   "cell_type": "code",
   "execution_count": 107,
   "metadata": {},
   "outputs": [
    {
     "data": {
      "text/plain": [
       "['Михайлович', 'Андрей', 'Райгородский']"
      ]
     },
     "execution_count": 107,
     "metadata": {},
     "output_type": "execute_result"
    }
   ],
   "source": [
    "splitted_line[::-1]"
   ]
  },
  {
   "cell_type": "code",
   "execution_count": 26,
   "metadata": {
    "colab": {},
    "colab_type": "code",
    "execution": {
     "iopub.execute_input": "2020-12-07T07:36:56.026514Z",
     "iopub.status.busy": "2020-12-07T07:36:56.025457Z",
     "iopub.status.idle": "2020-12-07T07:36:56.030610Z",
     "shell.execute_reply": "2020-12-07T07:36:56.029745Z"
    },
    "id": "xG3_3t13zM7q",
    "papermill": {
     "duration": 0.216453,
     "end_time": "2020-12-07T07:36:56.030831",
     "exception": false,
     "start_time": "2020-12-07T07:36:55.814378",
     "status": "completed"
    },
    "tags": []
   },
   "outputs": [
    {
     "name": "stdout",
     "output_type": "stream",
     "text": [
      "['Райго', 'одский Анд', 'ей Михайлович']\n"
     ]
    }
   ],
   "source": [
    "splitted_line = \"Райгородский Андрей Михайлович\".split('р')\n",
    "print(splitted_line)"
   ]
  },
  {
   "cell_type": "markdown",
   "metadata": {
    "colab_type": "text",
    "id": "P7kqThRsGw1S",
    "papermill": {
     "duration": 0.203388,
     "end_time": "2020-12-07T07:36:56.441082",
     "exception": false,
     "start_time": "2020-12-07T07:36:56.237694",
     "status": "completed"
    },
    "tags": []
   },
   "source": [
    "### Структуры данных и встроенные функции"
   ]
  },
  {
   "cell_type": "markdown",
   "metadata": {
    "colab_type": "text",
    "id": "e6LOqPpYGw1T",
    "papermill": {
     "duration": 0.202986,
     "end_time": "2020-12-07T07:36:56.846216",
     "exception": false,
     "start_time": "2020-12-07T07:36:56.643230",
     "status": "completed"
    },
    "tags": []
   },
   "source": [
    "### list"
   ]
  },
  {
   "cell_type": "markdown",
   "metadata": {
    "colab_type": "text",
    "id": "oZDGb_E5zM7s",
    "papermill": {
     "duration": 0.211279,
     "end_time": "2020-12-07T07:36:57.261178",
     "exception": false,
     "start_time": "2020-12-07T07:36:57.049899",
     "status": "completed"
    },
    "tags": []
   },
   "source": [
    "**массив, список, лист**"
   ]
  },
  {
   "cell_type": "markdown",
   "metadata": {
    "colab_type": "text",
    "id": "E949xtw7zM7t",
    "papermill": {
     "duration": 0.201718,
     "end_time": "2020-12-07T07:36:57.669123",
     "exception": false,
     "start_time": "2020-12-07T07:36:57.467405",
     "status": "completed"
    },
    "tags": []
   },
   "source": [
    "Вот мы и добрались до типов языка python, которые представляют собой *контейнеры*, то есть, это типы данных, которые являют собой хранилища для других типов данных.\n",
    "\n",
    "Один из таких типов -- `list` (массив, список, лист). Это контейнер, куда можно положить сколько угодно других переменных, значений, и эти переменные даже могут быть разных типов и даже так же могут быть контейнерами! То есть, в list можно положить list:\n",
    "\n",
    "Чтобы задать list, надо в квадратные скобки `[]` положить нужные элементы. Пустые скобки задают пустой list. Пустой лист также можно задать, написав `list()`:"
   ]
  },
  {
   "cell_type": "code",
   "execution_count": 27,
   "metadata": {
    "colab": {},
    "colab_type": "code",
    "execution": {
     "iopub.execute_input": "2020-12-07T07:36:58.082218Z",
     "iopub.status.busy": "2020-12-07T07:36:58.081164Z",
     "iopub.status.idle": "2020-12-07T07:36:58.087775Z",
     "shell.execute_reply": "2020-12-07T07:36:58.086664Z"
    },
    "id": "pGXNzuLsGw1U",
    "papermill": {
     "duration": 0.216315,
     "end_time": "2020-12-07T07:36:58.087981",
     "exception": false,
     "start_time": "2020-12-07T07:36:57.871666",
     "status": "completed"
    },
    "tags": []
   },
   "outputs": [
    {
     "name": "stdout",
     "output_type": "stream",
     "text": [
      "True\n"
     ]
    }
   ],
   "source": [
    "a = list()\n",
    "b = []\n",
    "\n",
    "# убедимся, что два варианта создания пустого массива эквивалентны:\n",
    "print(a == b)"
   ]
  },
  {
   "cell_type": "code",
   "execution_count": 28,
   "metadata": {
    "colab": {},
    "colab_type": "code",
    "execution": {
     "iopub.execute_input": "2020-12-07T07:36:58.509142Z",
     "iopub.status.busy": "2020-12-07T07:36:58.508105Z",
     "iopub.status.idle": "2020-12-07T07:36:58.511404Z",
     "shell.execute_reply": "2020-12-07T07:36:58.512288Z"
    },
    "id": "rWHlu6YgzM7v",
    "papermill": {
     "duration": 0.217053,
     "end_time": "2020-12-07T07:36:58.512567",
     "exception": false,
     "start_time": "2020-12-07T07:36:58.295514",
     "status": "completed"
    },
    "tags": []
   },
   "outputs": [],
   "source": [
    "c = [2, 'a', [4, 'stroka', 6.56]]"
   ]
  },
  {
   "cell_type": "markdown",
   "metadata": {
    "colab_type": "text",
    "id": "Yxs2uGIXzM7x",
    "papermill": {
     "duration": 0.204121,
     "end_time": "2020-12-07T07:36:58.920211",
     "exception": false,
     "start_time": "2020-12-07T07:36:58.716090",
     "status": "completed"
    },
    "tags": []
   },
   "source": [
    "Что можно делать с list:"
   ]
  },
  {
   "cell_type": "markdown",
   "metadata": {
    "colab_type": "text",
    "id": "bmEriyu4zM7y",
    "papermill": {
     "duration": 0.209396,
     "end_time": "2020-12-07T07:36:59.337144",
     "exception": false,
     "start_time": "2020-12-07T07:36:59.127748",
     "status": "completed"
    },
    "tags": []
   },
   "source": [
    "Можно положить элемент в конец массива:"
   ]
  },
  {
   "cell_type": "code",
   "execution_count": 29,
   "metadata": {
    "colab": {},
    "colab_type": "code",
    "execution": {
     "iopub.execute_input": "2020-12-07T07:36:59.758414Z",
     "iopub.status.busy": "2020-12-07T07:36:59.756420Z",
     "iopub.status.idle": "2020-12-07T07:36:59.761494Z",
     "shell.execute_reply": "2020-12-07T07:36:59.759309Z"
    },
    "id": "L-Vp7SanzM7y",
    "papermill": {
     "duration": 0.221241,
     "end_time": "2020-12-07T07:36:59.761712",
     "exception": false,
     "start_time": "2020-12-07T07:36:59.540471",
     "status": "completed"
    },
    "tags": []
   },
   "outputs": [
    {
     "data": {
      "text/plain": [
       "[2, 'a', [4, 'stroka', 6.56], 4.67]"
      ]
     },
     "execution_count": 29,
     "metadata": {},
     "output_type": "execute_result"
    }
   ],
   "source": [
    "c.append(4.67)\n",
    "c"
   ]
  },
  {
   "cell_type": "markdown",
   "metadata": {
    "colab_type": "text",
    "id": "LjkI3QWAzM70",
    "papermill": {
     "duration": 0.204221,
     "end_time": "2020-12-07T07:37:00.173959",
     "exception": false,
     "start_time": "2020-12-07T07:36:59.969738",
     "status": "completed"
    },
    "tags": []
   },
   "source": [
    "можно удалить элемент с конца массива:"
   ]
  },
  {
   "cell_type": "code",
   "execution_count": 30,
   "metadata": {
    "colab": {},
    "colab_type": "code",
    "execution": {
     "iopub.execute_input": "2020-12-07T07:37:00.585703Z",
     "iopub.status.busy": "2020-12-07T07:37:00.584658Z",
     "iopub.status.idle": "2020-12-07T07:37:00.591614Z",
     "shell.execute_reply": "2020-12-07T07:37:00.590751Z"
    },
    "id": "UxkgZ0bezM70",
    "papermill": {
     "duration": 0.21633,
     "end_time": "2020-12-07T07:37:00.591799",
     "exception": false,
     "start_time": "2020-12-07T07:37:00.375469",
     "status": "completed"
    },
    "tags": []
   },
   "outputs": [
    {
     "data": {
      "text/plain": [
       "[2, 'a', [4, 'stroka', 6.56]]"
      ]
     },
     "execution_count": 30,
     "metadata": {},
     "output_type": "execute_result"
    }
   ],
   "source": [
    "c.pop()\n",
    "c"
   ]
  },
  {
   "cell_type": "markdown",
   "metadata": {
    "colab_type": "text",
    "id": "MRXHuVjPzM71",
    "papermill": {
     "duration": 0.204217,
     "end_time": "2020-12-07T07:37:00.999230",
     "exception": false,
     "start_time": "2020-12-07T07:37:00.795013",
     "status": "completed"
    },
    "tags": []
   },
   "source": [
    "**Методы list, которые мы рассмотрим ниже, будут работать для всех iterable контейнеров **\n",
    "\n",
    "(что значит iterabel, можно прочитать тут: http://pythonz.net/references/named/iterable/\n",
    "\n",
    "кратко -- это структуры данных, поддерживающие поочередный проход по своим элементам)"
   ]
  },
  {
   "cell_type": "markdown",
   "metadata": {
    "colab_type": "text",
    "id": "kJ40tjpZzM72",
    "papermill": {
     "duration": 0.206339,
     "end_time": "2020-12-07T07:37:01.408754",
     "exception": false,
     "start_time": "2020-12-07T07:37:01.202415",
     "status": "completed"
    },
    "tags": []
   },
   "source": [
    "По индексам можно получить доступ к элементам массива (индексация, как обычно, с 0):"
   ]
  },
  {
   "cell_type": "code",
   "execution_count": 31,
   "metadata": {
    "colab": {},
    "colab_type": "code",
    "execution": {
     "iopub.execute_input": "2020-12-07T07:37:01.839739Z",
     "iopub.status.busy": "2020-12-07T07:37:01.838390Z",
     "iopub.status.idle": "2020-12-07T07:37:01.847427Z",
     "shell.execute_reply": "2020-12-07T07:37:01.846620Z"
    },
    "id": "reuh72cxzM72",
    "papermill": {
     "duration": 0.234608,
     "end_time": "2020-12-07T07:37:01.847662",
     "exception": false,
     "start_time": "2020-12-07T07:37:01.613054",
     "status": "completed"
    },
    "tags": []
   },
   "outputs": [
    {
     "name": "stdout",
     "output_type": "stream",
     "text": [
      "2\n",
      "[4, 'stroka', 6.56]\n",
      "[4, 'stroka', 6.56]\n"
     ]
    }
   ],
   "source": [
    "print(c[0])\n",
    "print(c[2])\n",
    "# да, индексы могут быть отрицательные: -i есть i-ый с конца элемент массива (в нумерации с 1)\n",
    "print(c[-1])"
   ]
  },
  {
   "cell_type": "markdown",
   "metadata": {
    "colab_type": "text",
    "id": "bqiG7q_UzM74",
    "papermill": {
     "duration": 0.210797,
     "end_time": "2020-12-07T07:37:02.272629",
     "exception": false,
     "start_time": "2020-12-07T07:37:02.061832",
     "status": "completed"
    },
    "tags": []
   },
   "source": [
    "Можно не только получать по 1 элементу массива, но и *слайс* -- элементы массива с индексами между i (включительно) и j (не включительно):"
   ]
  },
  {
   "cell_type": "code",
   "execution_count": 32,
   "metadata": {
    "colab": {},
    "colab_type": "code",
    "execution": {
     "iopub.execute_input": "2020-12-07T07:37:02.692989Z",
     "iopub.status.busy": "2020-12-07T07:37:02.692109Z",
     "iopub.status.idle": "2020-12-07T07:37:02.698201Z",
     "shell.execute_reply": "2020-12-07T07:37:02.697455Z"
    },
    "id": "oRI6NY-azM74",
    "papermill": {
     "duration": 0.218194,
     "end_time": "2020-12-07T07:37:02.698396",
     "exception": false,
     "start_time": "2020-12-07T07:37:02.480202",
     "status": "completed"
    },
    "tags": []
   },
   "outputs": [
    {
     "name": "stdout",
     "output_type": "stream",
     "text": [
      "['a', [4, 'stroka', 6.56]]\n"
     ]
    }
   ],
   "source": [
    "# в d будет записан новый массив, в котором будут 1 и 2 элементы массива c\n",
    "d = c[1:3]\n",
    "print(d)"
   ]
  },
  {
   "cell_type": "markdown",
   "metadata": {
    "colab_type": "text",
    "id": "GnG6b9m8zM76",
    "papermill": {
     "duration": 0.20404,
     "end_time": "2020-12-07T07:37:03.107273",
     "exception": false,
     "start_time": "2020-12-07T07:37:02.903233",
     "status": "completed"
    },
    "tags": []
   },
   "source": [
    "А еще можно сделать операцию наоборот -- не по индексу получить элемент массива, а по элементу массива получить его индекс.\n",
    "\n",
    "`L.index(element)` - возвращает индекс элемента `element` в списке `L`, если он там присутствует, `None` иначе (вот еще один пример использования None)"
   ]
  },
  {
   "cell_type": "code",
   "execution_count": 33,
   "metadata": {
    "colab": {},
    "colab_type": "code",
    "execution": {
     "iopub.execute_input": "2020-12-07T07:37:03.526366Z",
     "iopub.status.busy": "2020-12-07T07:37:03.524871Z",
     "iopub.status.idle": "2020-12-07T07:37:03.532767Z",
     "shell.execute_reply": "2020-12-07T07:37:03.536086Z"
    },
    "id": "UFv9nYtpzM77",
    "papermill": {
     "duration": 0.226465,
     "end_time": "2020-12-07T07:37:03.537527",
     "exception": false,
     "start_time": "2020-12-07T07:37:03.311062",
     "status": "completed"
    },
    "tags": []
   },
   "outputs": [
    {
     "data": {
      "text/plain": [
       "1"
      ]
     },
     "execution_count": 33,
     "metadata": {},
     "output_type": "execute_result"
    }
   ],
   "source": [
    "c.index('a')"
   ]
  },
  {
   "cell_type": "markdown",
   "metadata": {
    "colab_type": "text",
    "id": "BP9nnUXnzM78",
    "papermill": {
     "duration": 0.201476,
     "end_time": "2020-12-07T07:37:03.958165",
     "exception": false,
     "start_time": "2020-12-07T07:37:03.756689",
     "status": "completed"
    },
    "tags": []
   },
   "source": [
    "Можно проверять принадлежность элемента массиву:"
   ]
  },
  {
   "cell_type": "code",
   "execution_count": 34,
   "metadata": {
    "colab": {},
    "colab_type": "code",
    "execution": {
     "iopub.execute_input": "2020-12-07T07:37:04.375659Z",
     "iopub.status.busy": "2020-12-07T07:37:04.374693Z",
     "iopub.status.idle": "2020-12-07T07:37:04.379328Z",
     "shell.execute_reply": "2020-12-07T07:37:04.380495Z"
    },
    "id": "O8IqdA3mzM79",
    "papermill": {
     "duration": 0.216003,
     "end_time": "2020-12-07T07:37:04.380779",
     "exception": false,
     "start_time": "2020-12-07T07:37:04.164776",
     "status": "completed"
    },
    "tags": []
   },
   "outputs": [
    {
     "data": {
      "text/plain": [
       "False"
      ]
     },
     "execution_count": 34,
     "metadata": {},
     "output_type": "execute_result"
    }
   ],
   "source": [
    "5 in c"
   ]
  },
  {
   "cell_type": "code",
   "execution_count": 35,
   "metadata": {
    "colab": {},
    "colab_type": "code",
    "execution": {
     "iopub.execute_input": "2020-12-07T07:37:04.799012Z",
     "iopub.status.busy": "2020-12-07T07:37:04.798059Z",
     "iopub.status.idle": "2020-12-07T07:37:04.802202Z",
     "shell.execute_reply": "2020-12-07T07:37:04.802984Z"
    },
    "id": "Vp6eCldzzM7-",
    "papermill": {
     "duration": 0.214491,
     "end_time": "2020-12-07T07:37:04.803240",
     "exception": false,
     "start_time": "2020-12-07T07:37:04.588749",
     "status": "completed"
    },
    "tags": []
   },
   "outputs": [
    {
     "name": "stdout",
     "output_type": "stream",
     "text": [
      "element 'a' in c\n"
     ]
    }
   ],
   "source": [
    "if 'a' in c:\n",
    "    print(\"element \\'a\\' in c\")"
   ]
  },
  {
   "cell_type": "markdown",
   "metadata": {
    "colab_type": "text",
    "id": "-JB5GFn9zM7_",
    "papermill": {
     "duration": 0.204929,
     "end_time": "2020-12-07T07:37:05.211964",
     "exception": false,
     "start_time": "2020-12-07T07:37:05.007035",
     "status": "completed"
    },
    "tags": []
   },
   "source": [
    "Можно еще сложнее: получить каждый k-й элемент массива c, начиная с элемента с индексом i (включительно) и заканчивая элементом с индексом j (не включительно):"
   ]
  },
  {
   "cell_type": "code",
   "execution_count": 36,
   "metadata": {
    "colab": {},
    "colab_type": "code",
    "execution": {
     "iopub.execute_input": "2020-12-07T07:37:05.682459Z",
     "iopub.status.busy": "2020-12-07T07:37:05.681316Z",
     "iopub.status.idle": "2020-12-07T07:37:05.687986Z",
     "shell.execute_reply": "2020-12-07T07:37:05.687150Z"
    },
    "id": "z78Oct4EzM8A",
    "papermill": {
     "duration": 0.233246,
     "end_time": "2020-12-07T07:37:05.688223",
     "exception": false,
     "start_time": "2020-12-07T07:37:05.454977",
     "status": "completed"
    },
    "tags": []
   },
   "outputs": [
    {
     "name": "stdout",
     "output_type": "stream",
     "text": [
      "[2, 4, 6]\n"
     ]
    }
   ],
   "source": [
    "c = [1, 2, 3, 4, 5, 6, 7, 8, 9]\n",
    "d = c[1:7:2]\n",
    "print(d)"
   ]
  },
  {
   "cell_type": "markdown",
   "metadata": {
    "colab_type": "text",
    "id": "4fJ74N-uzM8B",
    "papermill": {
     "duration": 0.205702,
     "end_time": "2020-12-07T07:37:06.103478",
     "exception": false,
     "start_time": "2020-12-07T07:37:05.897776",
     "status": "completed"
    },
    "tags": []
   },
   "source": [
    "С помощью слайсов можно перевернуть массив, например:"
   ]
  },
  {
   "cell_type": "code",
   "execution_count": 37,
   "metadata": {
    "colab": {},
    "colab_type": "code",
    "execution": {
     "iopub.execute_input": "2020-12-07T07:37:06.526433Z",
     "iopub.status.busy": "2020-12-07T07:37:06.525341Z",
     "iopub.status.idle": "2020-12-07T07:37:06.531792Z",
     "shell.execute_reply": "2020-12-07T07:37:06.531073Z"
    },
    "id": "RSQ5v-yazM8C",
    "papermill": {
     "duration": 0.221293,
     "end_time": "2020-12-07T07:37:06.531974",
     "exception": false,
     "start_time": "2020-12-07T07:37:06.310681",
     "status": "completed"
    },
    "tags": []
   },
   "outputs": [
    {
     "name": "stdout",
     "output_type": "stream",
     "text": [
      "[1, 2, 3, 4, 5, 6, 7, 8, 9]\n",
      "[9, 8, 7, 6, 5, 4, 3, 2, 1]\n"
     ]
    }
   ],
   "source": [
    "print(c)\n",
    "# получим каждый минус первый элемент массива начиная с 0 индекса и заканчивая последним\n",
    "d = c[::-1]\n",
    "print(d)"
   ]
  },
  {
   "cell_type": "markdown",
   "metadata": {
    "colab_type": "text",
    "id": "AU3Q3GyhzM8D",
    "papermill": {
     "duration": 0.204714,
     "end_time": "2020-12-07T07:37:06.942192",
     "exception": false,
     "start_time": "2020-12-07T07:37:06.737478",
     "status": "completed"
    },
    "tags": []
   },
   "source": [
    "Элементы массива также можно изменять, обращаясь к ним по индексу или слайсу:"
   ]
  },
  {
   "cell_type": "code",
   "execution_count": 38,
   "metadata": {
    "colab": {},
    "colab_type": "code",
    "execution": {
     "iopub.execute_input": "2020-12-07T07:37:07.366852Z",
     "iopub.status.busy": "2020-12-07T07:37:07.365885Z",
     "iopub.status.idle": "2020-12-07T07:37:07.374658Z",
     "shell.execute_reply": "2020-12-07T07:37:07.373837Z"
    },
    "id": "NwFLWigrzM8E",
    "papermill": {
     "duration": 0.22517,
     "end_time": "2020-12-07T07:37:07.374873",
     "exception": false,
     "start_time": "2020-12-07T07:37:07.149703",
     "status": "completed"
    },
    "tags": []
   },
   "outputs": [
    {
     "name": "stdout",
     "output_type": "stream",
     "text": [
      "[1, 2, 3, 4, 5, 6, 7, 8, 9]\n",
      "[100500, 2, 3, 4, 5, 6, 7, 8, 9]\n"
     ]
    }
   ],
   "source": [
    "print(c)\n",
    "c[0] = 100500\n",
    "print(c)"
   ]
  },
  {
   "cell_type": "code",
   "execution_count": 39,
   "metadata": {
    "colab": {},
    "colab_type": "code",
    "execution": {
     "iopub.execute_input": "2020-12-07T07:37:07.946886Z",
     "iopub.status.busy": "2020-12-07T07:37:07.945819Z",
     "iopub.status.idle": "2020-12-07T07:37:07.952237Z",
     "shell.execute_reply": "2020-12-07T07:37:07.951225Z"
    },
    "id": "FA3BxaIBzM8F",
    "papermill": {
     "duration": 0.364422,
     "end_time": "2020-12-07T07:37:07.952450",
     "exception": false,
     "start_time": "2020-12-07T07:37:07.588028",
     "status": "completed"
    },
    "tags": []
   },
   "outputs": [
    {
     "name": "stdout",
     "output_type": "stream",
     "text": [
      "[100500, 2, 80, 6, 7, 8, 9]\n",
      "[100500, 2, 80, 90, 8, 9]\n"
     ]
    }
   ],
   "source": [
    "# вместо 2, 3 и 4 элементов массива запишем  число 80\n",
    "c[2:5] = [80]\n",
    "print(c)\n",
    "# вместо 2, 3 и 4 элементов массива запишем  числа 80, 90\n",
    "c[2:5] = [80, 90]\n",
    "print(c)"
   ]
  },
  {
   "cell_type": "markdown",
   "metadata": {
    "colab_type": "text",
    "id": "VpIbWfF-zM8G",
    "papermill": {
     "duration": 0.220954,
     "end_time": "2020-12-07T07:37:08.396155",
     "exception": false,
     "start_time": "2020-12-07T07:37:08.175201",
     "status": "completed"
    },
    "tags": []
   },
   "source": [
    "Также массивы можно складывать. Результатом сложения двух массивов будет новый массив, в котором сначала будут записаны элементы первого массива, затем -- второго:"
   ]
  },
  {
   "cell_type": "code",
   "execution_count": 40,
   "metadata": {
    "colab": {},
    "colab_type": "code",
    "execution": {
     "iopub.execute_input": "2020-12-07T07:37:08.855454Z",
     "iopub.status.busy": "2020-12-07T07:37:08.854388Z",
     "iopub.status.idle": "2020-12-07T07:37:08.860869Z",
     "shell.execute_reply": "2020-12-07T07:37:08.860075Z"
    },
    "id": "a_z8So57zM8G",
    "papermill": {
     "duration": 0.237767,
     "end_time": "2020-12-07T07:37:08.861085",
     "exception": false,
     "start_time": "2020-12-07T07:37:08.623318",
     "status": "completed"
    },
    "tags": []
   },
   "outputs": [
    {
     "data": {
      "text/plain": [
       "[100500, 2, 80, 90, 8, 9, 9, 0]"
      ]
     },
     "execution_count": 40,
     "metadata": {},
     "output_type": "execute_result"
    }
   ],
   "source": [
    "d = [9, 0]\n",
    "c+d"
   ]
  },
  {
   "cell_type": "markdown",
   "metadata": {
    "colab_type": "text",
    "id": "VhaJ_zzlzM8I",
    "papermill": {
     "duration": 0.222552,
     "end_time": "2020-12-07T07:37:09.307255",
     "exception": false,
     "start_time": "2020-12-07T07:37:09.084703",
     "status": "completed"
    },
    "tags": []
   },
   "source": [
    "А вот вычитать нельзя:"
   ]
  },
  {
   "cell_type": "markdown",
   "metadata": {
    "colab": {},
    "colab_type": "code",
    "id": "JsmAsyn8zM8I",
    "papermill": {
     "duration": 0.219771,
     "end_time": "2020-12-07T07:37:09.744931",
     "exception": false,
     "start_time": "2020-12-07T07:37:09.525160",
     "status": "completed"
    },
    "tags": []
   },
   "source": [
    "c-d"
   ]
  },
  {
   "cell_type": "markdown",
   "metadata": {
    "colab_type": "text",
    "id": "kDleFDsdzM8K",
    "papermill": {
     "duration": 0.210842,
     "end_time": "2020-12-07T07:37:10.169860",
     "exception": false,
     "start_time": "2020-12-07T07:37:09.959018",
     "status": "completed"
    },
    "tags": []
   },
   "source": [
    "С помощью `len()` можно получить размер листа (и вообще любого iterable объекта):"
   ]
  },
  {
   "cell_type": "code",
   "execution_count": 41,
   "metadata": {
    "colab": {},
    "colab_type": "code",
    "execution": {
     "iopub.execute_input": "2020-12-07T07:37:10.609037Z",
     "iopub.status.busy": "2020-12-07T07:37:10.607738Z",
     "iopub.status.idle": "2020-12-07T07:37:10.615815Z",
     "shell.execute_reply": "2020-12-07T07:37:10.616676Z"
    },
    "id": "1Q9Pz4YYzM8K",
    "papermill": {
     "duration": 0.230943,
     "end_time": "2020-12-07T07:37:10.617014",
     "exception": false,
     "start_time": "2020-12-07T07:37:10.386071",
     "status": "completed"
    },
    "tags": []
   },
   "outputs": [
    {
     "data": {
      "text/plain": [
       "6"
      ]
     },
     "execution_count": 41,
     "metadata": {},
     "output_type": "execute_result"
    }
   ],
   "source": [
    "len(c)"
   ]
  },
  {
   "cell_type": "code",
   "execution_count": 108,
   "metadata": {},
   "outputs": [
    {
     "data": {
      "text/plain": [
       "3"
      ]
     },
     "execution_count": 108,
     "metadata": {},
     "output_type": "execute_result"
    }
   ],
   "source": [
    "len(splitted_line)"
   ]
  },
  {
   "cell_type": "markdown",
   "metadata": {
    "colab_type": "text",
    "id": "k2Ru4gCJzM8L",
    "papermill": {
     "duration": 0.213186,
     "end_time": "2020-12-07T07:37:11.052042",
     "exception": false,
     "start_time": "2020-12-07T07:37:10.838856",
     "status": "completed"
    },
    "tags": []
   },
   "source": [
    "можно отсортировать элементы массива, вызвав метод .sort():"
   ]
  },
  {
   "cell_type": "code",
   "execution_count": 42,
   "metadata": {
    "colab": {},
    "colab_type": "code",
    "execution": {
     "iopub.execute_input": "2020-12-07T07:37:11.485031Z",
     "iopub.status.busy": "2020-12-07T07:37:11.483987Z",
     "iopub.status.idle": "2020-12-07T07:37:11.490060Z",
     "shell.execute_reply": "2020-12-07T07:37:11.488930Z"
    },
    "id": "fpo8b9g8zM8M",
    "papermill": {
     "duration": 0.224045,
     "end_time": "2020-12-07T07:37:11.490308",
     "exception": false,
     "start_time": "2020-12-07T07:37:11.266263",
     "status": "completed"
    },
    "tags": []
   },
   "outputs": [
    {
     "data": {
      "text/plain": [
       "[2, 8, 9, 80, 90, 100500]"
      ]
     },
     "execution_count": 42,
     "metadata": {},
     "output_type": "execute_result"
    }
   ],
   "source": [
    "# вызов метода sort изменяет сам объект c, а не возвращает копию:\n",
    "c.sort()\n",
    "c"
   ]
  },
  {
   "cell_type": "markdown",
   "metadata": {
    "colab_type": "text",
    "id": "KgSZ7GuFzM8N",
    "papermill": {
     "duration": 0.213197,
     "end_time": "2020-12-07T07:37:11.927302",
     "exception": false,
     "start_time": "2020-12-07T07:37:11.714105",
     "status": "completed"
    },
    "tags": []
   },
   "source": [
    "### Задание 1\n",
    "\n",
    "Напишите код, который проверяет, является ли переменная x строкой, и если да, то если в строке больше одного слова (слово--последовательность подряд идущих символов без пробелов), то выводит на экран количество слов в этой строке и сами слова в алфавитном порядке"
   ]
  },
  {
   "cell_type": "code",
   "execution_count": 43,
   "metadata": {
    "colab": {},
    "colab_type": "code",
    "execution": {
     "iopub.execute_input": "2020-12-07T07:37:12.354498Z",
     "iopub.status.busy": "2020-12-07T07:37:12.353524Z",
     "iopub.status.idle": "2020-12-07T07:37:12.357498Z",
     "shell.execute_reply": "2020-12-07T07:37:12.356713Z"
    },
    "id": "_otFvfPGzM8N",
    "papermill": {
     "duration": 0.220079,
     "end_time": "2020-12-07T07:37:12.357757",
     "exception": false,
     "start_time": "2020-12-07T07:37:12.137678",
     "status": "completed"
    },
    "tags": []
   },
   "outputs": [],
   "source": [
    "# your code here"
   ]
  },
  {
   "cell_type": "markdown",
   "metadata": {
    "colab_type": "text",
    "id": "TE6KBa0HzM8P",
    "papermill": {
     "duration": 0.211493,
     "end_time": "2020-12-07T07:37:12.784572",
     "exception": false,
     "start_time": "2020-12-07T07:37:12.573079",
     "status": "completed"
    },
    "tags": []
   },
   "source": [
    "### Задание 2\n",
    "\n",
    "Напишите код, который все элементы массива x с **нечетными** индексами переставит в обратном порядке.\n",
    "\n",
    "Т.е. если x = [0, 1, 2, 3, 4, 5, 6, 7, 8, 9], то код должен получать [0, 9, 2, 7, 4, 5, 6, 3, 8, 1]"
   ]
  },
  {
   "cell_type": "code",
   "execution_count": 44,
   "metadata": {
    "colab": {},
    "colab_type": "code",
    "execution": {
     "iopub.execute_input": "2020-12-07T07:37:13.223194Z",
     "iopub.status.busy": "2020-12-07T07:37:13.222152Z",
     "iopub.status.idle": "2020-12-07T07:37:13.226176Z",
     "shell.execute_reply": "2020-12-07T07:37:13.225298Z"
    },
    "id": "kiVny47HzM8P",
    "papermill": {
     "duration": 0.230969,
     "end_time": "2020-12-07T07:37:13.226448",
     "exception": false,
     "start_time": "2020-12-07T07:37:12.995479",
     "status": "completed"
    },
    "tags": []
   },
   "outputs": [],
   "source": [
    "# your code here"
   ]
  },
  {
   "cell_type": "markdown",
   "metadata": {
    "colab_type": "text",
    "id": "2mnxxvHxGw0c",
    "papermill": {
     "duration": 0.217111,
     "end_time": "2020-12-07T07:37:13.662731",
     "exception": false,
     "start_time": "2020-12-07T07:37:13.445620",
     "status": "completed"
    },
    "tags": []
   },
   "source": [
    "### tuple"
   ]
  },
  {
   "cell_type": "markdown",
   "metadata": {
    "colab_type": "text",
    "id": "6o4C3V2AzM8R",
    "papermill": {
     "duration": 0.2128,
     "end_time": "2020-12-07T07:37:14.092400",
     "exception": false,
     "start_time": "2020-12-07T07:37:13.879600",
     "status": "completed"
    },
    "tags": []
   },
   "source": [
    "**кортеж**\n",
    "\n",
    "этот тип данных очень похож на list, имеет ту же структуру, но отличается тем, что он неизменяемый\n",
    "\n",
    "это нужно, например, чтобы `tuple` мог выступать в качестве ключей словаря (о них ниже). list в качестве ключей словаря выступать не может."
   ]
  },
  {
   "cell_type": "markdown",
   "metadata": {
    "colab_type": "text",
    "id": "MsRtEw8IzM8R",
    "papermill": {
     "duration": 0.218446,
     "end_time": "2020-12-07T07:37:14.530588",
     "exception": false,
     "start_time": "2020-12-07T07:37:14.312142",
     "status": "completed"
    },
    "tags": []
   },
   "source": [
    "Задать tuple можно круглыми скобками:"
   ]
  },
  {
   "cell_type": "code",
   "execution_count": 45,
   "metadata": {
    "colab": {},
    "colab_type": "code",
    "execution": {
     "iopub.execute_input": "2020-12-07T07:37:14.992387Z",
     "iopub.status.busy": "2020-12-07T07:37:14.991443Z",
     "iopub.status.idle": "2020-12-07T07:37:14.998542Z",
     "shell.execute_reply": "2020-12-07T07:37:14.997697Z"
    },
    "id": "pCgzsWT-Gw0d",
    "papermill": {
     "duration": 0.23497,
     "end_time": "2020-12-07T07:37:14.998822",
     "exception": false,
     "start_time": "2020-12-07T07:37:14.763852",
     "status": "completed"
    },
    "tags": []
   },
   "outputs": [
    {
     "data": {
      "text/plain": [
       "('a', 5, 12.345, (2, 'b'))"
      ]
     },
     "execution_count": 45,
     "metadata": {},
     "output_type": "execute_result"
    }
   ],
   "source": [
    "t = ('a', 5, 12.345, (2, 'b'))\n",
    "t"
   ]
  },
  {
   "cell_type": "markdown",
   "metadata": {
    "colab_type": "text",
    "id": "c3c0r0eVzM8S",
    "papermill": {
     "duration": 0.226617,
     "end_time": "2020-12-07T07:37:15.437218",
     "exception": false,
     "start_time": "2020-12-07T07:37:15.210601",
     "status": "completed"
    },
    "tags": []
   },
   "source": [
    "Tuple нельзя изменять. Давайте в этом убедимся:"
   ]
  },
  {
   "cell_type": "markdown",
   "metadata": {
    "colab": {},
    "colab_type": "code",
    "id": "dDtHlkzIGw0f",
    "papermill": {
     "duration": 0.212927,
     "end_time": "2020-12-07T07:37:15.864806",
     "exception": false,
     "start_time": "2020-12-07T07:37:15.651879",
     "status": "completed"
    },
    "tags": []
   },
   "source": [
    "t.append(5)"
   ]
  },
  {
   "cell_type": "markdown",
   "metadata": {
    "colab": {},
    "colab_type": "code",
    "id": "F55yIy87zM8U",
    "papermill": {
     "duration": 0.214214,
     "end_time": "2020-12-07T07:37:16.294212",
     "exception": false,
     "start_time": "2020-12-07T07:37:16.079998",
     "status": "completed"
    },
    "tags": []
   },
   "source": [
    "t[0] = 9"
   ]
  },
  {
   "cell_type": "markdown",
   "metadata": {
    "colab_type": "text",
    "id": "KPEftqeszM8V",
    "papermill": {
     "duration": 0.217444,
     "end_time": "2020-12-07T07:37:16.728802",
     "exception": false,
     "start_time": "2020-12-07T07:37:16.511358",
     "status": "completed"
    },
    "tags": []
   },
   "source": [
    "Но получать элементы по индексу и слайсам, конечно, можно (tuple же iterable):"
   ]
  },
  {
   "cell_type": "code",
   "execution_count": 46,
   "metadata": {
    "colab": {},
    "colab_type": "code",
    "execution": {
     "iopub.execute_input": "2020-12-07T07:37:17.167009Z",
     "iopub.status.busy": "2020-12-07T07:37:17.165778Z",
     "iopub.status.idle": "2020-12-07T07:37:17.170695Z",
     "shell.execute_reply": "2020-12-07T07:37:17.168205Z"
    },
    "id": "p1Um9EKeGw0m",
    "papermill": {
     "duration": 0.22741,
     "end_time": "2020-12-07T07:37:17.170934",
     "exception": false,
     "start_time": "2020-12-07T07:37:16.943524",
     "status": "completed"
    },
    "tags": []
   },
   "outputs": [
    {
     "name": "stdout",
     "output_type": "stream",
     "text": [
      "12.345\n",
      "1\n",
      "('a', 5)\n"
     ]
    }
   ],
   "source": [
    "print(t[2])\n",
    "print(t.index(5))\n",
    "print(t[:2])"
   ]
  },
  {
   "cell_type": "markdown",
   "metadata": {
    "colab_type": "text",
    "id": "HXhrxv8KzM8W",
    "papermill": {
     "duration": 0.214448,
     "end_time": "2020-12-07T07:37:17.604441",
     "exception": false,
     "start_time": "2020-12-07T07:37:17.389993",
     "status": "completed"
    },
    "tags": []
   },
   "source": [
    "Как и list, кортежи можно складывать и работает сложение так же, как в list \n",
    "\n",
    "(вообще, с кортежами можно делать все, что можно делать с list, если это не изменяет кортеж)"
   ]
  },
  {
   "cell_type": "code",
   "execution_count": 47,
   "metadata": {
    "colab": {},
    "colab_type": "code",
    "execution": {
     "iopub.execute_input": "2020-12-07T07:37:18.053088Z",
     "iopub.status.busy": "2020-12-07T07:37:18.051987Z",
     "iopub.status.idle": "2020-12-07T07:37:18.057205Z",
     "shell.execute_reply": "2020-12-07T07:37:18.056339Z"
    },
    "id": "CIWPvGkiGw0p",
    "papermill": {
     "duration": 0.235635,
     "end_time": "2020-12-07T07:37:18.057454",
     "exception": false,
     "start_time": "2020-12-07T07:37:17.821819",
     "status": "completed"
    },
    "tags": []
   },
   "outputs": [
    {
     "name": "stdout",
     "output_type": "stream",
     "text": [
      "('a', 5, 12.345, (2, 'b'), 1, 2, 3)\n",
      "4\n",
      "True\n"
     ]
    }
   ],
   "source": [
    "m = (1, 2, 3)\n",
    "# складывать\n",
    "print(t + m)\n",
    "# узнать размер \n",
    "print(len(t))\n",
    "# проверить наличие элемента\n",
    "print(5 in t)"
   ]
  },
  {
   "cell_type": "markdown",
   "metadata": {
    "colab_type": "text",
    "id": "hcaipS17Gw1I",
    "papermill": {
     "duration": 0.21761,
     "end_time": "2020-12-07T07:37:18.487986",
     "exception": false,
     "start_time": "2020-12-07T07:37:18.270376",
     "status": "completed"
    },
    "tags": []
   },
   "source": [
    "---"
   ]
  },
  {
   "cell_type": "markdown",
   "metadata": {
    "colab_type": "text",
    "id": "04VwiGfkGw3t",
    "papermill": {
     "duration": 0.208941,
     "end_time": "2020-12-07T07:37:18.910635",
     "exception": false,
     "start_time": "2020-12-07T07:37:18.701694",
     "status": "completed"
    },
    "tags": []
   },
   "source": [
    "### Циклы - for и while"
   ]
  },
  {
   "cell_type": "markdown",
   "metadata": {
    "colab_type": "text",
    "id": "MPzD7aIfzM8Z",
    "papermill": {
     "duration": 0.21083,
     "end_time": "2020-12-07T07:37:19.332119",
     "exception": false,
     "start_time": "2020-12-07T07:37:19.121289",
     "status": "completed"
    },
    "tags": []
   },
   "source": [
    "iterable стректуры данных так называются, потому что по ним можно *итерироваться* -- последовательно получать значения последовательных элементов этой структуры данных. Итерироваться можно с помощью циклов `for` или `while`.\n",
    "\n",
    "Синтаксис следующий:\n",
    "\n",
    "```\n",
    "for element in iterable:\n",
    "    <code>\n",
    "```\n",
    "\n",
    "здесь каждую новую итерацию цикла в element будет записываться очередное значение из контейнера iterable и с ним можно будет работать внутри тела цикла (`code`). Когда код внутри тела цикла отработает, начнется новая итерация цикла -- в переменную element запишется следующее значение из iterable и опять будет выполняться code.\n",
    "\n",
    "Код, который будет выполняться каждую итерацию цикла, записывается после двоеточия с отступом 4 пробела от строчки c `for`.\n",
    "\n",
    "Посмотрим на примере:"
   ]
  },
  {
   "cell_type": "code",
   "execution_count": 48,
   "metadata": {
    "colab": {},
    "colab_type": "code",
    "execution": {
     "iopub.execute_input": "2020-12-07T07:37:19.768825Z",
     "iopub.status.busy": "2020-12-07T07:37:19.767708Z",
     "iopub.status.idle": "2020-12-07T07:37:19.772926Z",
     "shell.execute_reply": "2020-12-07T07:37:19.771927Z"
    },
    "id": "RGyfjAhGGw3u",
    "papermill": {
     "duration": 0.228594,
     "end_time": "2020-12-07T07:37:19.773165",
     "exception": false,
     "start_time": "2020-12-07T07:37:19.544571",
     "status": "completed"
    },
    "tags": []
   },
   "outputs": [
    {
     "name": "stdout",
     "output_type": "stream",
     "text": [
      "decision tree\n",
      "linear model\n",
      "svm\n",
      "ensemble\n",
      "Done\n"
     ]
    }
   ],
   "source": [
    "# создадим list элементов\n",
    "models = ['decision tree', 'linear model', 'svm', 'ensemble']\n",
    "\n",
    "# итерируемся по названиям модели: каждую итерацию цикла в переменную model будет\n",
    "# записываться новое значение из models и оно будет использоваться для print(model)\n",
    "for model in models:\n",
    "    # тело цикла. Здесь с отступом в 4 пробела нужно описать код, который будет выполняться на каждой итерации цикла.\n",
    "    print(model)\n",
    "    \n",
    "# этот код уже будет выполняться ПОСЛЕ цикла, потому что он записан без отступа в 4 пробела после for:\n",
    "print(\"Done\")"
   ]
  },
  {
   "cell_type": "markdown",
   "metadata": {
    "colab_type": "text",
    "id": "ku2Q6dvvzjrE",
    "papermill": {
     "duration": 0.222947,
     "end_time": "2020-12-07T07:37:20.214121",
     "exception": false,
     "start_time": "2020-12-07T07:37:19.991174",
     "status": "completed"
    },
    "tags": []
   },
   "source": [
    "**P.S.** Зметим, что каждую итерацию цикла в переменную model **копируется** очередное значение из models. Это значит, что если вы внутри цикла измените переменную model, соответствующее значение в массиве models изменено **не будет**"
   ]
  },
  {
   "cell_type": "markdown",
   "metadata": {
    "colab_type": "text",
    "id": "GFRz-l-WzM8b",
    "papermill": {
     "duration": 0.213875,
     "end_time": "2020-12-07T07:37:20.646247",
     "exception": false,
     "start_time": "2020-12-07T07:37:20.432372",
     "status": "completed"
    },
    "tags": []
   },
   "source": [
    "Синтаксис `while`:\n",
    "\n",
    "```\n",
    "while <условие (булевское выражение)>:\n",
    "    <code>\n",
    "```\n",
    "\n",
    "Здесь код, написанный вместо `code` будет выполняться каждую итерацию цикла, пока условие после `while` будет выполняться.\n",
    "\n",
    "Посмотрим на примере: Напишем цикл, в котором будем выводить переменную x и увеличивать x на 1, пока x не станет больше 10:"
   ]
  },
  {
   "cell_type": "code",
   "execution_count": 49,
   "metadata": {
    "colab": {},
    "colab_type": "code",
    "execution": {
     "iopub.execute_input": "2020-12-07T07:37:21.087920Z",
     "iopub.status.busy": "2020-12-07T07:37:21.086925Z",
     "iopub.status.idle": "2020-12-07T07:37:21.091732Z",
     "shell.execute_reply": "2020-12-07T07:37:21.092551Z"
    },
    "id": "qwWXAn2zGw3v",
    "papermill": {
     "duration": 0.236011,
     "end_time": "2020-12-07T07:37:21.092791",
     "exception": false,
     "start_time": "2020-12-07T07:37:20.856780",
     "status": "completed"
    },
    "tags": []
   },
   "outputs": [
    {
     "name": "stdout",
     "output_type": "stream",
     "text": [
      "1\n",
      "2\n",
      "3\n",
      "4\n",
      "5\n",
      "6\n",
      "7\n",
      "8\n",
      "9\n",
      "10\n"
     ]
    }
   ],
   "source": [
    "x = 1\n",
    "\n",
    "while x <= 10:\n",
    "    print(x)\n",
    "    # более удобный способ записи x = x + 1\n",
    "    x += 1"
   ]
  },
  {
   "cell_type": "markdown",
   "metadata": {
    "colab_type": "text",
    "id": "LIeDwUhRzM8d",
    "papermill": {
     "duration": 0.217822,
     "end_time": "2020-12-07T07:37:21.526015",
     "exception": false,
     "start_time": "2020-12-07T07:37:21.308193",
     "status": "completed"
    },
    "tags": []
   },
   "source": [
    "Иногда бывает нужно прервать выполнение цикла при выполнении какого-то условия\n",
    "\n",
    "Например, мы хотим итерироваться по массиву строк, на каждой итерации выводить строку на экран и прервать цико (перестать выводить строки), если мы встретили строку stop.\n",
    "\n",
    "Это делается с помощью ключевого слова `break`:"
   ]
  },
  {
   "cell_type": "code",
   "execution_count": 50,
   "metadata": {
    "colab": {},
    "colab_type": "code",
    "execution": {
     "iopub.execute_input": "2020-12-07T07:37:21.957504Z",
     "iopub.status.busy": "2020-12-07T07:37:21.956494Z",
     "iopub.status.idle": "2020-12-07T07:37:21.961833Z",
     "shell.execute_reply": "2020-12-07T07:37:21.960769Z"
    },
    "id": "-sXQ20WhzM8d",
    "papermill": {
     "duration": 0.22345,
     "end_time": "2020-12-07T07:37:21.962179",
     "exception": false,
     "start_time": "2020-12-07T07:37:21.738729",
     "status": "completed"
    },
    "tags": []
   },
   "outputs": [
    {
     "name": "stdout",
     "output_type": "stream",
     "text": [
      "stroka1\n",
      "stroka2\n",
      "stroka3\n"
     ]
    }
   ],
   "source": [
    "mas = ['stroka1', 'stroka2', 'stroka3', 'stop', 'stroka4']\n",
    "\n",
    "for s in mas:\n",
    "    if s == 'stop':\n",
    "        break\n",
    "    print(s)"
   ]
  },
  {
   "cell_type": "markdown",
   "metadata": {
    "colab_type": "text",
    "id": "mV0nKWbvzM8e",
    "papermill": {
     "duration": 0.215428,
     "end_time": "2020-12-07T07:37:22.392280",
     "exception": false,
     "start_time": "2020-12-07T07:37:22.176852",
     "status": "completed"
    },
    "tags": []
   },
   "source": [
    "Иногда же хочется не прервать выполнение всего цикла, а прервать выполнение именно одной итерации цикла и продолжить цикл со следующей итерации.\n",
    "\n",
    "Например, мы так же, как в предыдущем примере, хотим итерироваться по массиву строк и выводить строку на каждой итерации на экран, но не хотим выводить строку на экран, если эта строка равна 'null'.\n",
    "\n",
    "Это делается с помощью ключевого слова `continue`:"
   ]
  },
  {
   "cell_type": "code",
   "execution_count": 111,
   "metadata": {
    "colab": {},
    "colab_type": "code",
    "id": "vNZTe8fczM8f",
    "papermill": {
     "duration": 0.228129,
     "end_time": "2020-12-07T07:37:22.840007",
     "exception": false,
     "start_time": "2020-12-07T07:37:22.611878",
     "status": "completed"
    },
    "tags": []
   },
   "outputs": [
    {
     "name": "stdout",
     "output_type": "stream",
     "text": [
      "0\n",
      "1\n",
      "2\n",
      "3\n",
      "4\n"
     ]
    }
   ],
   "source": [
    "mas = ['stroka1', 'null', 'stroka3', 'stop', 'null']\n",
    "\n",
    "for s in range(0,5):\n",
    "    print(s)\n",
    "    "
   ]
  },
  {
   "cell_type": "markdown",
   "metadata": {
    "colab_type": "text",
    "id": "B2Y6F2QozM8g",
    "papermill": {
     "duration": 0.212564,
     "end_time": "2020-12-07T07:37:23.265394",
     "exception": false,
     "start_time": "2020-12-07T07:37:23.052830",
     "status": "completed"
    },
    "tags": []
   },
   "source": [
    "#### range\n",
    "\n",
    "Для работы с циклами в питоне есть очень полезная функция `range()`. Допустим, вы хотите написать цикл, который бы отработал 100 раз. Можно сделать это следующим образом:\n",
    "\n",
    "```\n",
    "i = 0\n",
    "while i < 100:\n",
    "    i += 1\n",
    "    <code>\n",
    "```\n",
    "\n",
    "но это неудобно: нужно завести вспомогательную переменную i, написать лишние 2 строчки кода (i=0 и i+=1). Так код терядет в понятности и читабельности. Гораздо проще записать этот цикл с помощью range.\n",
    "\n",
    "`range()` принимает 3 аргумента: начало интервала begin, конец интервала end и шаг step, с которым будет двигаться по игтервалу, и возвращает iterable объект -- по сути, массив чисел начиная с begin включительно, заканчивая end не включительно, числа в массиве идут с шагом step.\n",
    "\n",
    "Посмотрим на пример:"
   ]
  },
  {
   "cell_type": "code",
   "execution_count": 109,
   "metadata": {},
   "outputs": [
    {
     "data": {
      "text/plain": [
       "range(0, 10)"
      ]
     },
     "execution_count": 109,
     "metadata": {},
     "output_type": "execute_result"
    }
   ],
   "source": [
    "range(0,10)"
   ]
  },
  {
   "cell_type": "code",
   "execution_count": 52,
   "metadata": {
    "colab": {},
    "colab_type": "code",
    "execution": {
     "iopub.execute_input": "2020-12-07T07:37:23.701688Z",
     "iopub.status.busy": "2020-12-07T07:37:23.700711Z",
     "iopub.status.idle": "2020-12-07T07:37:23.706620Z",
     "shell.execute_reply": "2020-12-07T07:37:23.707557Z"
    },
    "id": "WjVT0aODzM8h",
    "papermill": {
     "duration": 0.231937,
     "end_time": "2020-12-07T07:37:23.707828",
     "exception": false,
     "start_time": "2020-12-07T07:37:23.475891",
     "status": "completed"
    },
    "tags": []
   },
   "outputs": [
    {
     "name": "stdout",
     "output_type": "stream",
     "text": [
      "[1, 11, 21, 31, 41, 51, 61, 71, 81, 91]\n"
     ]
    }
   ],
   "source": [
    "r = range(1, 100, 10)\n",
    "#приведем возвращаемый iterable к list и выведем на экран:\n",
    "print(list(r))"
   ]
  },
  {
   "cell_type": "markdown",
   "metadata": {
    "colab_type": "text",
    "id": "aKbCXQUjzM8i",
    "papermill": {
     "duration": 0.239933,
     "end_time": "2020-12-07T07:37:24.160470",
     "exception": false,
     "start_time": "2020-12-07T07:37:23.920537",
     "status": "completed"
    },
    "tags": []
   },
   "source": [
    "Теперь легко записать цикл:"
   ]
  },
  {
   "cell_type": "code",
   "execution_count": 112,
   "metadata": {
    "colab": {},
    "colab_type": "code",
    "id": "zz-i2EOLzM8i",
    "papermill": {
     "duration": 0.254322,
     "end_time": "2020-12-07T07:37:24.644144",
     "exception": false,
     "start_time": "2020-12-07T07:37:24.389822",
     "status": "completed"
    },
    "tags": []
   },
   "outputs": [
    {
     "name": "stdout",
     "output_type": "stream",
     "text": [
      "1\n",
      "3\n",
      "5\n",
      "7\n",
      "9\n",
      "11\n",
      "13\n",
      "15\n",
      "17\n",
      "19\n",
      "21\n",
      "23\n",
      "25\n",
      "27\n",
      "29\n",
      "31\n",
      "33\n",
      "35\n",
      "37\n",
      "39\n",
      "41\n",
      "43\n",
      "45\n",
      "47\n",
      "49\n",
      "51\n",
      "53\n",
      "55\n",
      "57\n",
      "59\n",
      "61\n",
      "63\n",
      "65\n",
      "67\n",
      "69\n",
      "71\n",
      "73\n",
      "75\n",
      "77\n",
      "79\n",
      "81\n",
      "83\n",
      "85\n",
      "87\n",
      "89\n",
      "91\n",
      "93\n",
      "95\n",
      "97\n",
      "99\n"
     ]
    }
   ],
   "source": [
    "for i in range(1, 100, 2):\n",
    "    print(i)"
   ]
  },
  {
   "cell_type": "markdown",
   "metadata": {
    "colab_type": "text",
    "id": "6IJfBuVUzM8j",
    "papermill": {
     "duration": 0.22206,
     "end_time": "2020-12-07T07:37:25.086859",
     "exception": false,
     "start_time": "2020-12-07T07:37:24.864799",
     "status": "completed"
    },
    "tags": []
   },
   "source": [
    "Если у range не указывать последний алгумент step, он по умолчанию будет 1.\n",
    "\n",
    "А если указать всего один аргумент, то range выдаст iterable с началом в 0 и концом в этом аргументе:"
   ]
  },
  {
   "cell_type": "code",
   "execution_count": 113,
   "metadata": {},
   "outputs": [
    {
     "data": {
      "text/plain": [
       "range(4, 8)"
      ]
     },
     "execution_count": 113,
     "metadata": {},
     "output_type": "execute_result"
    }
   ],
   "source": [
    "range(4, 8)"
   ]
  },
  {
   "cell_type": "code",
   "execution_count": 54,
   "metadata": {
    "colab": {},
    "colab_type": "code",
    "execution": {
     "iopub.execute_input": "2020-12-07T07:37:25.529011Z",
     "iopub.status.busy": "2020-12-07T07:37:25.527991Z",
     "iopub.status.idle": "2020-12-07T07:37:25.533066Z",
     "shell.execute_reply": "2020-12-07T07:37:25.532258Z"
    },
    "id": "mqFuX8aqzM8j",
    "papermill": {
     "duration": 0.229093,
     "end_time": "2020-12-07T07:37:25.533290",
     "exception": false,
     "start_time": "2020-12-07T07:37:25.304197",
     "status": "completed"
    },
    "tags": []
   },
   "outputs": [
    {
     "data": {
      "text/plain": [
       "[4, 5, 6, 7]"
      ]
     },
     "execution_count": 54,
     "metadata": {},
     "output_type": "execute_result"
    }
   ],
   "source": [
    "list(range(4, 8))"
   ]
  },
  {
   "cell_type": "code",
   "execution_count": 55,
   "metadata": {
    "colab": {},
    "colab_type": "code",
    "execution": {
     "iopub.execute_input": "2020-12-07T07:37:25.989721Z",
     "iopub.status.busy": "2020-12-07T07:37:25.988712Z",
     "iopub.status.idle": "2020-12-07T07:37:25.993728Z",
     "shell.execute_reply": "2020-12-07T07:37:25.992830Z"
    },
    "id": "-lBrG1q6zM8k",
    "papermill": {
     "duration": 0.240327,
     "end_time": "2020-12-07T07:37:25.994063",
     "exception": false,
     "start_time": "2020-12-07T07:37:25.753736",
     "status": "completed"
    },
    "tags": []
   },
   "outputs": [
    {
     "data": {
      "text/plain": [
       "[0, 1, 2, 3, 4, 5, 6, 7]"
      ]
     },
     "execution_count": 55,
     "metadata": {},
     "output_type": "execute_result"
    }
   ],
   "source": [
    "list(range(8))"
   ]
  },
  {
   "cell_type": "markdown",
   "metadata": {
    "colab_type": "text",
    "id": "ZJrtKwFu0Cam",
    "papermill": {
     "duration": 0.230171,
     "end_time": "2020-12-07T07:37:26.448383",
     "exception": false,
     "start_time": "2020-12-07T07:37:26.218212",
     "status": "completed"
    },
    "tags": []
   },
   "source": [
    "С помощью range нетрудно переписать цикл, который мы писали выше, где итерировались по названиям моделей, так, чтобы элементы массива models  можно было изменять внутри цикла:"
   ]
  },
  {
   "cell_type": "code",
   "execution_count": 114,
   "metadata": {
    "colab": {},
    "colab_type": "code",
    "id": "GKD2yNLD0C_J",
    "papermill": {
     "duration": 0.238883,
     "end_time": "2020-12-07T07:37:26.925045",
     "exception": false,
     "start_time": "2020-12-07T07:37:26.686162",
     "status": "completed"
    },
    "tags": []
   },
   "outputs": [
    {
     "name": "stdout",
     "output_type": "stream",
     "text": [
      "decision tree\n",
      "linear model\n",
      "svm\n",
      "ensemble\n",
      "Done\n"
     ]
    }
   ],
   "source": [
    "# создадим list элементов\n",
    "models = ['decision tree', 'linear model', 'svm', 'ensemble']\n",
    "\n",
    "# итерируемся по индексам массива models\n",
    "for i in models:\n",
    "    # тут если вы поменяете models[i], то значение в models тоже изменится\n",
    "    print(i)\n",
    "    \n",
    "    \n",
    "# этот код уже будет выполняться ПОСЛЕ цикла, потому что он записан без отступа в 4 пробела после for:\n",
    "print(\"Done\")"
   ]
  },
  {
   "cell_type": "markdown",
   "metadata": {
    "colab_type": "text",
    "id": "25O4dyOezM8l",
    "papermill": {
     "duration": 0.221783,
     "end_time": "2020-12-07T07:37:27.362087",
     "exception": false,
     "start_time": "2020-12-07T07:37:27.140304",
     "status": "completed"
    },
    "tags": []
   },
   "source": [
    "### Задание 3\n",
    "\n",
    "Напишите цикл, который выводит все числа от 0 до 500, делящиеся на 7, если в них есть цифра 8\n",
    "\n",
    "*Подсказка*: переменную типа int можно привести к типу str:\n",
    "```\n",
    "x = 5\n",
    "y = str(x)\n",
    "```"
   ]
  },
  {
   "cell_type": "code",
   "execution_count": 57,
   "metadata": {
    "colab": {},
    "colab_type": "code",
    "execution": {
     "iopub.execute_input": "2020-12-07T07:37:27.792732Z",
     "iopub.status.busy": "2020-12-07T07:37:27.791656Z",
     "iopub.status.idle": "2020-12-07T07:37:27.796391Z",
     "shell.execute_reply": "2020-12-07T07:37:27.795533Z"
    },
    "id": "GI8_HgH1zM8m",
    "papermill": {
     "duration": 0.224253,
     "end_time": "2020-12-07T07:37:27.796633",
     "exception": false,
     "start_time": "2020-12-07T07:37:27.572380",
     "status": "completed"
    },
    "tags": []
   },
   "outputs": [],
   "source": [
    "# your code here"
   ]
  },
  {
   "cell_type": "markdown",
   "metadata": {
    "colab_type": "text",
    "id": "USIIpRQeGw3N",
    "papermill": {
     "duration": 0.216859,
     "end_time": "2020-12-07T07:37:28.225518",
     "exception": false,
     "start_time": "2020-12-07T07:37:28.008659",
     "status": "completed"
    },
    "tags": []
   },
   "source": [
    "---"
   ]
  },
  {
   "cell_type": "markdown",
   "metadata": {
    "colab_type": "text",
    "id": "70QerwaDGw3y",
    "papermill": {
     "duration": 0.212121,
     "end_time": "2020-12-07T07:37:28.650067",
     "exception": false,
     "start_time": "2020-12-07T07:37:28.437946",
     "status": "completed"
    },
    "tags": []
   },
   "source": [
    "### enumerate, zip"
   ]
  },
  {
   "cell_type": "markdown",
   "metadata": {
    "colab_type": "text",
    "id": "__U7hz9izM8n",
    "papermill": {
     "duration": 0.213112,
     "end_time": "2020-12-07T07:37:29.077520",
     "exception": false,
     "start_time": "2020-12-07T07:37:28.864408",
     "status": "completed"
    },
    "tags": []
   },
   "source": [
    "`zip()` принимает два iterable аргумента и возвращает iterable из пар соответствующих элементов этих двух iterable:"
   ]
  },
  {
   "cell_type": "code",
   "execution_count": 58,
   "metadata": {
    "colab": {},
    "colab_type": "code",
    "execution": {
     "iopub.execute_input": "2020-12-07T07:37:29.516269Z",
     "iopub.status.busy": "2020-12-07T07:37:29.514687Z",
     "iopub.status.idle": "2020-12-07T07:37:29.520007Z",
     "shell.execute_reply": "2020-12-07T07:37:29.519282Z"
    },
    "id": "Ywi776zAGw3y",
    "papermill": {
     "duration": 0.229896,
     "end_time": "2020-12-07T07:37:29.520187",
     "exception": false,
     "start_time": "2020-12-07T07:37:29.290291",
     "status": "completed"
    },
    "tags": []
   },
   "outputs": [
    {
     "data": {
      "text/plain": [
       "[('a', '1'),\n",
       " ('b', '2'),\n",
       " ('c', '3'),\n",
       " ('d', '4'),\n",
       " ('e', '5'),\n",
       " ('f', '6'),\n",
       " ('g', '7')]"
      ]
     },
     "execution_count": 58,
     "metadata": {},
     "output_type": "execute_result"
    }
   ],
   "source": [
    "first = 'a b c d e f g'.split(' ')\n",
    "second = '1 2 3 4 5 6 7'.split(' ')\n",
    "\n",
    "list(zip(first, second))"
   ]
  },
  {
   "cell_type": "markdown",
   "metadata": {
    "colab_type": "text",
    "id": "8eFmeb8rzM8o",
    "papermill": {
     "duration": 0.212744,
     "end_time": "2020-12-07T07:37:29.946715",
     "exception": false,
     "start_time": "2020-12-07T07:37:29.733971",
     "status": "completed"
    },
    "tags": []
   },
   "source": [
    "Что будет, если один из iterable короче, чем другой:"
   ]
  },
  {
   "cell_type": "code",
   "execution_count": 59,
   "metadata": {
    "colab": {},
    "colab_type": "code",
    "execution": {
     "iopub.execute_input": "2020-12-07T07:37:30.391110Z",
     "iopub.status.busy": "2020-12-07T07:37:30.389997Z",
     "iopub.status.idle": "2020-12-07T07:37:30.394730Z",
     "shell.execute_reply": "2020-12-07T07:37:30.395706Z"
    },
    "id": "7L6rqFE1zM8o",
    "papermill": {
     "duration": 0.237923,
     "end_time": "2020-12-07T07:37:30.395982",
     "exception": false,
     "start_time": "2020-12-07T07:37:30.158059",
     "status": "completed"
    },
    "tags": []
   },
   "outputs": [
    {
     "data": {
      "text/plain": [
       "[('a', '1'), ('b', '2'), ('c', '3'), ('d', '4'), ('e', '5')]"
      ]
     },
     "execution_count": 59,
     "metadata": {},
     "output_type": "execute_result"
    }
   ],
   "source": [
    "first = 'a b c d e f g'.split(' ')\n",
    "second = '1 2 3 4 5'.split(' ')\n",
    "\n",
    "list(zip(first, second))"
   ]
  },
  {
   "cell_type": "markdown",
   "metadata": {
    "colab_type": "text",
    "id": "2pqNxHMYzM8s",
    "papermill": {
     "duration": 0.221212,
     "end_time": "2020-12-07T07:37:30.832589",
     "exception": false,
     "start_time": "2020-12-07T07:37:30.611377",
     "status": "completed"
    },
    "tags": []
   },
   "source": [
    "Это опять же полезно для использования в циклах:"
   ]
  },
  {
   "cell_type": "code",
   "execution_count": 60,
   "metadata": {
    "colab": {},
    "colab_type": "code",
    "execution": {
     "iopub.execute_input": "2020-12-07T07:37:31.275922Z",
     "iopub.status.busy": "2020-12-07T07:37:31.274951Z",
     "iopub.status.idle": "2020-12-07T07:37:31.280062Z",
     "shell.execute_reply": "2020-12-07T07:37:31.280863Z"
    },
    "id": "Pthn6bm4zM8t",
    "papermill": {
     "duration": 0.2364,
     "end_time": "2020-12-07T07:37:31.281135",
     "exception": false,
     "start_time": "2020-12-07T07:37:31.044735",
     "status": "completed"
    },
    "tags": []
   },
   "outputs": [
    {
     "name": "stdout",
     "output_type": "stream",
     "text": [
      "1's model is: decision tree\n",
      "2's model is: linear model\n",
      "3's model is: svm\n",
      "4's model is: ensemble\n"
     ]
    }
   ],
   "source": [
    "models = ['decision tree', 'linear model', 'svm', 'ensemble']\n",
    "\n",
    "# zip dвозвращает пару элементов, которые можно записать в 2 разные переменные в цикле for. \n",
    "# например, здесб мы записываем первый элемент пары в num, второй -- в model.\n",
    "for num, model in zip(range(len(models)), models):\n",
    "    print(str(num+1)+'\\'s model is:', model)"
   ]
  },
  {
   "cell_type": "markdown",
   "metadata": {
    "colab_type": "text",
    "id": "CarxOU_dzM8u",
    "papermill": {
     "duration": 0.213606,
     "end_time": "2020-12-07T07:37:31.712780",
     "exception": false,
     "start_time": "2020-12-07T07:37:31.499174",
     "status": "completed"
    },
    "tags": []
   },
   "source": [
    "Однако в этом коде мы хотели просто пронумеровать элементы списка models, но нам для этого пришлось писать zip(range(...))\n",
    "\n",
    "Именно для такого случая, когда надо пронумервать элементы какого-то iterable, существует функция `enumerate`:\n",
    "\n",
    "`enumerate(iterable)` возвращает пары номер-элемент iterable:"
   ]
  },
  {
   "cell_type": "code",
   "execution_count": 61,
   "metadata": {
    "colab": {},
    "colab_type": "code",
    "execution": {
     "iopub.execute_input": "2020-12-07T07:37:32.148128Z",
     "iopub.status.busy": "2020-12-07T07:37:32.147115Z",
     "iopub.status.idle": "2020-12-07T07:37:32.153039Z",
     "shell.execute_reply": "2020-12-07T07:37:32.152229Z"
    },
    "id": "M4xO9xWpzM8v",
    "papermill": {
     "duration": 0.227793,
     "end_time": "2020-12-07T07:37:32.153253",
     "exception": false,
     "start_time": "2020-12-07T07:37:31.925460",
     "status": "completed"
    },
    "tags": []
   },
   "outputs": [
    {
     "name": "stdout",
     "output_type": "stream",
     "text": [
      "1's model is: decision tree\n",
      "2's model is: linear model\n",
      "3's model is: svm\n",
      "4's model is: ensemble\n"
     ]
    }
   ],
   "source": [
    "models = ['decision tree', 'linear model', 'svm', 'ensemble']\n",
    "\n",
    "# zip dвозвращает пару элементов, которые можно записать в 2 разные переменные в цикле for. \n",
    "# например, здесб мы записываем первый элемент пары в num, второй -- в model.\n",
    "for num, model in enumerate(models):\n",
    "    print(str(num+1)+'\\'s model is:', model)"
   ]
  },
  {
   "cell_type": "markdown",
   "metadata": {
    "colab_type": "text",
    "id": "ZPIwoJneGw37",
    "papermill": {
     "duration": 0.215906,
     "end_time": "2020-12-07T07:37:32.584525",
     "exception": false,
     "start_time": "2020-12-07T07:37:32.368619",
     "status": "completed"
    },
    "tags": []
   },
   "source": [
    "---\n",
    "\n",
    "### Задание 4\n",
    "\n",
    "1. Создайте список `a`, состоящий из каких-то элементов.\n",
    "2. Создайте список `b` такого же размера, как `a`, состоящий из каких-то элементов.\n",
    "3. Выведите **нумерованный список пар** из элементов списков `a` и `b`."
   ]
  },
  {
   "cell_type": "code",
   "execution_count": 62,
   "metadata": {
    "colab": {},
    "colab_type": "code",
    "execution": {
     "iopub.execute_input": "2020-12-07T07:37:33.019000Z",
     "iopub.status.busy": "2020-12-07T07:37:33.017974Z",
     "iopub.status.idle": "2020-12-07T07:37:33.020900Z",
     "shell.execute_reply": "2020-12-07T07:37:33.020063Z"
    },
    "id": "rucloO5QGw37",
    "papermill": {
     "duration": 0.222482,
     "end_time": "2020-12-07T07:37:33.021115",
     "exception": false,
     "start_time": "2020-12-07T07:37:32.798633",
     "status": "completed"
    },
    "tags": []
   },
   "outputs": [],
   "source": [
    "# Ваш код здесь"
   ]
  },
  {
   "cell_type": "markdown",
   "metadata": {
    "colab_type": "text",
    "id": "MJJxXLh2Gw37",
    "papermill": {
     "duration": 0.219021,
     "end_time": "2020-12-07T07:37:33.452052",
     "exception": false,
     "start_time": "2020-12-07T07:37:33.233031",
     "status": "completed"
    },
    "tags": []
   },
   "source": [
    "---"
   ]
  },
  {
   "cell_type": "markdown",
   "metadata": {
    "colab_type": "text",
    "id": "8f3c96Y3Gw4f",
    "papermill": {
     "duration": 0.211052,
     "end_time": "2020-12-07T07:37:33.877084",
     "exception": false,
     "start_time": "2020-12-07T07:37:33.666032",
     "status": "completed"
    },
    "tags": []
   },
   "source": [
    "### set"
   ]
  },
  {
   "cell_type": "markdown",
   "metadata": {
    "colab_type": "text",
    "id": "rtYFS6xgzM8y",
    "papermill": {
     "duration": 0.211106,
     "end_time": "2020-12-07T07:37:34.299730",
     "exception": false,
     "start_time": "2020-12-07T07:37:34.088624",
     "status": "completed"
    },
    "tags": []
   },
   "source": [
    "**Множество**"
   ]
  },
  {
   "cell_type": "markdown",
   "metadata": {
    "colab_type": "text",
    "id": "TqwLw40MzM8z",
    "papermill": {
     "duration": 0.212069,
     "end_time": "2020-12-07T07:37:34.723001",
     "exception": false,
     "start_time": "2020-12-07T07:37:34.510932",
     "status": "completed"
    },
    "tags": []
   },
   "source": [
    "Множество -- это массив, в котором элементы не могут повторяться (то есть, как и в математическом определении множества)\n",
    "\n",
    "Внутри языка множество устроено совсем не так, как массив или кортеж, элементы множества хранятся не последовательно, поэтому к элементам множества нельзя обрашаться по индексу.\n",
    "\n",
    "Пустое множество можно создать с помощью set():"
   ]
  },
  {
   "cell_type": "code",
   "execution_count": 63,
   "metadata": {
    "colab": {},
    "colab_type": "code",
    "execution": {
     "iopub.execute_input": "2020-12-07T07:37:35.157523Z",
     "iopub.status.busy": "2020-12-07T07:37:35.155551Z",
     "iopub.status.idle": "2020-12-07T07:37:35.160400Z",
     "shell.execute_reply": "2020-12-07T07:37:35.158474Z"
    },
    "id": "7FsYEdL-Gw4f",
    "papermill": {
     "duration": 0.226764,
     "end_time": "2020-12-07T07:37:35.160604",
     "exception": false,
     "start_time": "2020-12-07T07:37:34.933840",
     "status": "completed"
    },
    "tags": []
   },
   "outputs": [
    {
     "name": "stdout",
     "output_type": "stream",
     "text": [
      "set() | <class 'set'>\n"
     ]
    }
   ],
   "source": [
    "s = set()\n",
    "\n",
    "print(s, '|', type(s))"
   ]
  },
  {
   "cell_type": "markdown",
   "metadata": {
    "colab_type": "text",
    "id": "HKeW3FtyzM80",
    "papermill": {
     "duration": 0.227695,
     "end_time": "2020-12-07T07:37:35.610234",
     "exception": false,
     "start_time": "2020-12-07T07:37:35.382539",
     "status": "completed"
    },
    "tags": []
   },
   "source": [
    "А можно привести список к множеству:\n",
    "\n",
    "Обратите внимание, что элементы set'а выводятся в отсортированном порядке!"
   ]
  },
  {
   "cell_type": "code",
   "execution_count": 64,
   "metadata": {
    "colab": {},
    "colab_type": "code",
    "execution": {
     "iopub.execute_input": "2020-12-07T07:37:36.115806Z",
     "iopub.status.busy": "2020-12-07T07:37:36.114712Z",
     "iopub.status.idle": "2020-12-07T07:37:36.120225Z",
     "shell.execute_reply": "2020-12-07T07:37:36.119341Z"
    },
    "id": "ILQAHDMVzM81",
    "papermill": {
     "duration": 0.29847,
     "end_time": "2020-12-07T07:37:36.120458",
     "exception": false,
     "start_time": "2020-12-07T07:37:35.821988",
     "status": "completed"
    },
    "tags": []
   },
   "outputs": [
    {
     "data": {
      "text/plain": [
       "{2, 3, 5}"
      ]
     },
     "execution_count": 64,
     "metadata": {},
     "output_type": "execute_result"
    }
   ],
   "source": [
    "s = set([5, 2, 3, 2])\n",
    "s"
   ]
  },
  {
   "cell_type": "markdown",
   "metadata": {
    "colab_type": "text",
    "id": "Y2LfOQbdzM82",
    "papermill": {
     "duration": 0.218648,
     "end_time": "2020-12-07T07:37:36.553866",
     "exception": false,
     "start_time": "2020-12-07T07:37:36.335218",
     "status": "completed"
    },
    "tags": []
   },
   "source": [
    "Можно добавлять элементы в множество с помощью метода `.add()`:"
   ]
  },
  {
   "cell_type": "code",
   "execution_count": 65,
   "metadata": {
    "colab": {},
    "colab_type": "code",
    "execution": {
     "iopub.execute_input": "2020-12-07T07:37:37.003120Z",
     "iopub.status.busy": "2020-12-07T07:37:37.002214Z",
     "iopub.status.idle": "2020-12-07T07:37:37.005890Z",
     "shell.execute_reply": "2020-12-07T07:37:37.006633Z"
    },
    "id": "nZ7OwvJoGw4m",
    "papermill": {
     "duration": 0.228509,
     "end_time": "2020-12-07T07:37:37.006857",
     "exception": false,
     "start_time": "2020-12-07T07:37:36.778348",
     "status": "completed"
    },
    "tags": []
   },
   "outputs": [
    {
     "name": "stdout",
     "output_type": "stream",
     "text": [
      "{1, 2, 3, 'bullet', 5, 'a', None}\n"
     ]
    }
   ],
   "source": [
    "s.add(1)\n",
    "s.add('a')\n",
    "# None тоже можно добавить =)\n",
    "s.add(None)\n",
    "s.add('bullet')\n",
    "print(s)"
   ]
  },
  {
   "cell_type": "markdown",
   "metadata": {
    "colab_type": "text",
    "id": "S4ZNpCc_zM83",
    "papermill": {
     "duration": 0.212683,
     "end_time": "2020-12-07T07:37:37.432523",
     "exception": false,
     "start_time": "2020-12-07T07:37:37.219840",
     "status": "completed"
    },
    "tags": []
   },
   "source": [
    "Метод .difference() позволяет получить элементы, которые есть в одном сете, но нет в другом:"
   ]
  },
  {
   "cell_type": "code",
   "execution_count": 66,
   "metadata": {
    "colab": {},
    "colab_type": "code",
    "execution": {
     "iopub.execute_input": "2020-12-07T07:37:37.885178Z",
     "iopub.status.busy": "2020-12-07T07:37:37.884221Z",
     "iopub.status.idle": "2020-12-07T07:37:37.889480Z",
     "shell.execute_reply": "2020-12-07T07:37:37.888306Z"
    },
    "id": "xuSORJBVGw4n",
    "papermill": {
     "duration": 0.243232,
     "end_time": "2020-12-07T07:37:37.889795",
     "exception": false,
     "start_time": "2020-12-07T07:37:37.646563",
     "status": "completed"
    },
    "tags": []
   },
   "outputs": [
    {
     "name": "stdout",
     "output_type": "stream",
     "text": [
      "s1:  {0, 1, 2, 3, 4, 5, 6, 7, 8, 9} \n",
      "s2:  {5, 6, 7, 8, 9, 10, 11, 12, 13, 14}\n"
     ]
    }
   ],
   "source": [
    "s1 = set(range(0, 10))\n",
    "s2 = set(range(5, 15))\n",
    "\n",
    "print('s1: ', s1, '\\ns2: ', s2)"
   ]
  },
  {
   "cell_type": "code",
   "execution_count": 67,
   "metadata": {
    "colab": {},
    "colab_type": "code",
    "execution": {
     "iopub.execute_input": "2020-12-07T07:37:38.324395Z",
     "iopub.status.busy": "2020-12-07T07:37:38.323535Z",
     "iopub.status.idle": "2020-12-07T07:37:38.328221Z",
     "shell.execute_reply": "2020-12-07T07:37:38.327518Z"
    },
    "id": "XHt0SFi3Gw4o",
    "papermill": {
     "duration": 0.223944,
     "end_time": "2020-12-07T07:37:38.328402",
     "exception": false,
     "start_time": "2020-12-07T07:37:38.104458",
     "status": "completed"
    },
    "tags": []
   },
   "outputs": [
    {
     "name": "stdout",
     "output_type": "stream",
     "text": [
      "{0, 1, 2, 3, 4}\n",
      "\n",
      "{10, 11, 12, 13, 14}\n"
     ]
    }
   ],
   "source": [
    "# элементы, которые есть в s1, но нет в s2\n",
    "print(s1.difference(s2))\n",
    "print()\n",
    "# элементы, которые есть в s2, но нет в s1\n",
    "print(s2.difference(s1))"
   ]
  },
  {
   "cell_type": "code",
   "execution_count": 68,
   "metadata": {
    "colab": {},
    "colab_type": "code",
    "execution": {
     "iopub.execute_input": "2020-12-07T07:37:38.768877Z",
     "iopub.status.busy": "2020-12-07T07:37:38.767916Z",
     "iopub.status.idle": "2020-12-07T07:37:38.772957Z",
     "shell.execute_reply": "2020-12-07T07:37:38.771857Z"
    },
    "id": "tx1o8_2kGw4p",
    "papermill": {
     "duration": 0.228902,
     "end_time": "2020-12-07T07:37:38.773182",
     "exception": false,
     "start_time": "2020-12-07T07:37:38.544280",
     "status": "completed"
    },
    "tags": []
   },
   "outputs": [
    {
     "name": "stdout",
     "output_type": "stream",
     "text": [
      "{5, 6, 7, 8, 9}\n",
      "{5, 6, 7, 8, 9}\n"
     ]
    }
   ],
   "source": [
    "# пересечение множеств s1 и s2 можно записать двумя способами:\n",
    "print(s1.intersection(s2))\n",
    "print(s1 & s2)"
   ]
  },
  {
   "cell_type": "code",
   "execution_count": 69,
   "metadata": {
    "colab": {},
    "colab_type": "code",
    "execution": {
     "iopub.execute_input": "2020-12-07T07:37:39.209311Z",
     "iopub.status.busy": "2020-12-07T07:37:39.208479Z",
     "iopub.status.idle": "2020-12-07T07:37:39.212926Z",
     "shell.execute_reply": "2020-12-07T07:37:39.212224Z"
    },
    "id": "SgxbKT7KGw4p",
    "papermill": {
     "duration": 0.223641,
     "end_time": "2020-12-07T07:37:39.213105",
     "exception": false,
     "start_time": "2020-12-07T07:37:38.989464",
     "status": "completed"
    },
    "tags": []
   },
   "outputs": [
    {
     "name": "stdout",
     "output_type": "stream",
     "text": [
      "{0, 1, 2, 3, 4, 5, 6, 7, 8, 9, 10, 11, 12, 13, 14}\n",
      "{0, 1, 2, 3, 4, 5, 6, 7, 8, 9, 10, 11, 12, 13, 14}\n"
     ]
    }
   ],
   "source": [
    "# объединение множеств s1 и s2 тоже можно записать двумя способами:\n",
    "print(s1.union(s2))\n",
    "print(s1 | s2)"
   ]
  },
  {
   "cell_type": "markdown",
   "metadata": {
    "colab_type": "text",
    "id": "FF2LsBh8zM87",
    "papermill": {
     "duration": 0.219311,
     "end_time": "2020-12-07T07:37:39.646042",
     "exception": false,
     "start_time": "2020-12-07T07:37:39.426731",
     "status": "completed"
    },
    "tags": []
   },
   "source": [
    "Из сета можно удалить элемент по значению:"
   ]
  },
  {
   "cell_type": "code",
   "execution_count": 70,
   "metadata": {
    "colab": {},
    "colab_type": "code",
    "execution": {
     "iopub.execute_input": "2020-12-07T07:37:40.088567Z",
     "iopub.status.busy": "2020-12-07T07:37:40.087693Z",
     "iopub.status.idle": "2020-12-07T07:37:40.092042Z",
     "shell.execute_reply": "2020-12-07T07:37:40.092898Z"
    },
    "id": "dUA5ljbpzM88",
    "papermill": {
     "duration": 0.226302,
     "end_time": "2020-12-07T07:37:40.093138",
     "exception": false,
     "start_time": "2020-12-07T07:37:39.866836",
     "status": "completed"
    },
    "tags": []
   },
   "outputs": [
    {
     "data": {
      "text/plain": [
       "{1, 2, 3, 4, 5, 6, 7, 8, 9}"
      ]
     },
     "execution_count": 70,
     "metadata": {},
     "output_type": "execute_result"
    }
   ],
   "source": [
    "s1.discard(0)\n",
    "s1"
   ]
  },
  {
   "cell_type": "markdown",
   "metadata": {
    "colab_type": "text",
    "id": "i0xyAzGiGw4s",
    "papermill": {
     "duration": 0.217392,
     "end_time": "2020-12-07T07:37:40.527475",
     "exception": false,
     "start_time": "2020-12-07T07:37:40.310083",
     "status": "completed"
    },
    "tags": []
   },
   "source": [
    "### dict"
   ]
  },
  {
   "cell_type": "markdown",
   "metadata": {
    "colab_type": "text",
    "id": "EVTS3oSEzM89",
    "papermill": {
     "duration": 0.220424,
     "end_time": "2020-12-07T07:37:40.972514",
     "exception": false,
     "start_time": "2020-12-07T07:37:40.752090",
     "status": "completed"
    },
    "tags": []
   },
   "source": [
    "**словарь, ассоциативный массив**"
   ]
  },
  {
   "cell_type": "markdown",
   "metadata": {
    "colab_type": "text",
    "id": "7yd8E4ojzM89",
    "papermill": {
     "duration": 0.221383,
     "end_time": "2020-12-07T07:37:41.416102",
     "exception": false,
     "start_time": "2020-12-07T07:37:41.194719",
     "status": "completed"
    },
    "tags": []
   },
   "source": [
    "Словарь -- это структура данных, которая представляет отображение из одного типа данных в другой. Представляет собой набор пар ключ-значение, в качестве ключа могут выступать immutable типы данных (int, str, tuple, ...)\n",
    "\n",
    "Массивы, которые мы до этого рассматривали, были отображением непрерывного отрезка [0, n] в другой тип данных. `dict` может быть гораздо удобнее, когда нужно использовать в качестве ключа другой тип данных (например, сопоставить именам людей (str) их даты рождения) или когда в качестве ключа хочется использовать int, но не все значения из промежутка [0, n] нужны. Например, если хочется сопоставить года рождения великих писателей их именам. "
   ]
  },
  {
   "cell_type": "markdown",
   "metadata": {
    "colab_type": "text",
    "id": "h959mSWOzM89",
    "papermill": {
     "duration": 0.223286,
     "end_time": "2020-12-07T07:37:41.864178",
     "exception": false,
     "start_time": "2020-12-07T07:37:41.640892",
     "status": "completed"
    },
    "tags": []
   },
   "source": [
    "Пустой словарь можно создать либо с помощью `{}`, либо с `dict()`:"
   ]
  },
  {
   "cell_type": "code",
   "execution_count": 71,
   "metadata": {
    "colab": {},
    "colab_type": "code",
    "execution": {
     "iopub.execute_input": "2020-12-07T07:37:42.318458Z",
     "iopub.status.busy": "2020-12-07T07:37:42.317506Z",
     "iopub.status.idle": "2020-12-07T07:37:42.322252Z",
     "shell.execute_reply": "2020-12-07T07:37:42.321245Z"
    },
    "id": "8mGEtp7BGw4s",
    "papermill": {
     "duration": 0.234817,
     "end_time": "2020-12-07T07:37:42.322493",
     "exception": false,
     "start_time": "2020-12-07T07:37:42.087676",
     "status": "completed"
    },
    "tags": []
   },
   "outputs": [
    {
     "name": "stdout",
     "output_type": "stream",
     "text": [
      "True | <class 'dict'>\n"
     ]
    }
   ],
   "source": [
    "d = {}\n",
    "dd = dict()\n",
    "\n",
    "print(d == dd, '|', type(d))"
   ]
  },
  {
   "cell_type": "markdown",
   "metadata": {
    "colab_type": "text",
    "id": "hqVj1lbjzM8-",
    "papermill": {
     "duration": 0.220512,
     "end_time": "2020-12-07T07:37:42.767787",
     "exception": false,
     "start_time": "2020-12-07T07:37:42.547275",
     "status": "completed"
    },
    "tags": []
   },
   "source": [
    "Добавим значение value по ключу key в словарь:"
   ]
  },
  {
   "cell_type": "code",
   "execution_count": 72,
   "metadata": {
    "colab": {},
    "colab_type": "code",
    "execution": {
     "iopub.execute_input": "2020-12-07T07:37:43.212550Z",
     "iopub.status.busy": "2020-12-07T07:37:43.211580Z",
     "iopub.status.idle": "2020-12-07T07:37:43.216243Z",
     "shell.execute_reply": "2020-12-07T07:37:43.217120Z"
    },
    "id": "Tasup1rwGw4w",
    "papermill": {
     "duration": 0.229263,
     "end_time": "2020-12-07T07:37:43.217454",
     "exception": false,
     "start_time": "2020-12-07T07:37:42.988191",
     "status": "completed"
    },
    "tags": []
   },
   "outputs": [
    {
     "data": {
      "text/plain": [
       "{'a': 100}"
      ]
     },
     "execution_count": 72,
     "metadata": {},
     "output_type": "execute_result"
    }
   ],
   "source": [
    "key = 'a'\n",
    "value = 100\n",
    "\n",
    "d[key] = value\n",
    "d"
   ]
  },
  {
   "cell_type": "markdown",
   "metadata": {
    "colab_type": "text",
    "id": "f0V06tdwzM8_",
    "papermill": {
     "duration": 0.22149,
     "end_time": "2020-12-07T07:37:43.657897",
     "exception": false,
     "start_time": "2020-12-07T07:37:43.436407",
     "status": "completed"
    },
    "tags": []
   },
   "source": [
    "Непустой словарь можно создать несколькими способами:"
   ]
  },
  {
   "cell_type": "code",
   "execution_count": 73,
   "metadata": {
    "colab": {},
    "colab_type": "code",
    "execution": {
     "iopub.execute_input": "2020-12-07T07:37:44.113898Z",
     "iopub.status.busy": "2020-12-07T07:37:44.112866Z",
     "iopub.status.idle": "2020-12-07T07:37:44.116925Z",
     "shell.execute_reply": "2020-12-07T07:37:44.117653Z"
    },
    "id": "teTfaLXAzM9A",
    "papermill": {
     "duration": 0.234754,
     "end_time": "2020-12-07T07:37:44.117892",
     "exception": false,
     "start_time": "2020-12-07T07:37:43.883138",
     "status": "completed"
    },
    "tags": []
   },
   "outputs": [
    {
     "data": {
      "text/plain": [
       "{'short': 'dict', 'long': 'dictionary'}"
      ]
     },
     "execution_count": 73,
     "metadata": {},
     "output_type": "execute_result"
    }
   ],
   "source": [
    "d = {\n",
    "    'short': 'dict',\n",
    "    'long': 'dictionary'\n",
    "}\n",
    "d"
   ]
  },
  {
   "cell_type": "code",
   "execution_count": 74,
   "metadata": {
    "colab": {},
    "colab_type": "code",
    "execution": {
     "iopub.execute_input": "2020-12-07T07:37:44.564909Z",
     "iopub.status.busy": "2020-12-07T07:37:44.564060Z",
     "iopub.status.idle": "2020-12-07T07:37:44.570130Z",
     "shell.execute_reply": "2020-12-07T07:37:44.569394Z"
    },
    "id": "V4PNtLrtGw4y",
    "papermill": {
     "duration": 0.233136,
     "end_time": "2020-12-07T07:37:44.570327",
     "exception": false,
     "start_time": "2020-12-07T07:37:44.337191",
     "status": "completed"
    },
    "tags": []
   },
   "outputs": [
    {
     "data": {
      "text/plain": [
       "{'short': 'dict', 'long': 'dictionary'}"
      ]
     },
     "execution_count": 74,
     "metadata": {},
     "output_type": "execute_result"
    }
   ],
   "source": [
    "d = dict(short='dict', long='dictionary')\n",
    "d"
   ]
  },
  {
   "cell_type": "code",
   "execution_count": 75,
   "metadata": {
    "colab": {},
    "colab_type": "code",
    "execution": {
     "iopub.execute_input": "2020-12-07T07:37:45.018033Z",
     "iopub.status.busy": "2020-12-07T07:37:45.016937Z",
     "iopub.status.idle": "2020-12-07T07:37:45.021246Z",
     "shell.execute_reply": "2020-12-07T07:37:45.022091Z"
    },
    "id": "SiejuQPWGw41",
    "papermill": {
     "duration": 0.231809,
     "end_time": "2020-12-07T07:37:45.022343",
     "exception": false,
     "start_time": "2020-12-07T07:37:44.790534",
     "status": "completed"
    },
    "tags": []
   },
   "outputs": [
    {
     "data": {
      "text/plain": [
       "{1: 1, 2: 4}"
      ]
     },
     "execution_count": 75,
     "metadata": {},
     "output_type": "execute_result"
    }
   ],
   "source": [
    "d = dict([(1, 1), (2, 4)])\n",
    "d"
   ]
  },
  {
   "cell_type": "markdown",
   "metadata": {
    "colab_type": "text",
    "id": "jKrmEdzZzM9C",
    "papermill": {
     "duration": 0.218414,
     "end_time": "2020-12-07T07:37:45.460196",
     "exception": false,
     "start_time": "2020-12-07T07:37:45.241782",
     "status": "completed"
    },
    "tags": []
   },
   "source": [
    "Создать дефолтный словарь с ключами из списка, значениями None:"
   ]
  },
  {
   "cell_type": "code",
   "execution_count": 76,
   "metadata": {
    "colab": {},
    "colab_type": "code",
    "execution": {
     "iopub.execute_input": "2020-12-07T07:37:45.923553Z",
     "iopub.status.busy": "2020-12-07T07:37:45.921892Z",
     "iopub.status.idle": "2020-12-07T07:37:45.926006Z",
     "shell.execute_reply": "2020-12-07T07:37:45.926781Z"
    },
    "id": "hKzBkSEPGw44",
    "papermill": {
     "duration": 0.247738,
     "end_time": "2020-12-07T07:37:45.927109",
     "exception": false,
     "start_time": "2020-12-07T07:37:45.679371",
     "status": "completed"
    },
    "tags": []
   },
   "outputs": [
    {
     "data": {
      "text/plain": [
       "{'a': None, 'b': None}"
      ]
     },
     "execution_count": 76,
     "metadata": {},
     "output_type": "execute_result"
    }
   ],
   "source": [
    "d = dict.fromkeys(['a', 'b'])\n",
    "d"
   ]
  },
  {
   "cell_type": "markdown",
   "metadata": {
    "colab_type": "text",
    "id": "-ymWrpRHzM9D",
    "papermill": {
     "duration": 0.217262,
     "end_time": "2020-12-07T07:37:46.364490",
     "exception": false,
     "start_time": "2020-12-07T07:37:46.147228",
     "status": "completed"
    },
    "tags": []
   },
   "source": [
    "Создать дефолтный словарь с ключами из списка, всеми значениями по умолчанию 100:"
   ]
  },
  {
   "cell_type": "code",
   "execution_count": 77,
   "metadata": {
    "colab": {},
    "colab_type": "code",
    "execution": {
     "iopub.execute_input": "2020-12-07T07:37:46.808227Z",
     "iopub.status.busy": "2020-12-07T07:37:46.807135Z",
     "iopub.status.idle": "2020-12-07T07:37:46.812479Z",
     "shell.execute_reply": "2020-12-07T07:37:46.811375Z"
    },
    "id": "ul5ln-nHGw46",
    "papermill": {
     "duration": 0.229949,
     "end_time": "2020-12-07T07:37:46.812702",
     "exception": false,
     "start_time": "2020-12-07T07:37:46.582753",
     "status": "completed"
    },
    "tags": []
   },
   "outputs": [
    {
     "data": {
      "text/plain": [
       "{'a': 100, 'b': 100}"
      ]
     },
     "execution_count": 77,
     "metadata": {},
     "output_type": "execute_result"
    }
   ],
   "source": [
    "d = dict.fromkeys(['a', 'b'], 100)\n",
    "d"
   ]
  },
  {
   "cell_type": "markdown",
   "metadata": {
    "colab_type": "text",
    "id": "YwySNULzGw4_",
    "papermill": {
     "duration": 0.22063,
     "end_time": "2020-12-07T07:37:47.252994",
     "exception": false,
     "start_time": "2020-12-07T07:37:47.032364",
     "status": "completed"
    },
    "tags": []
   },
   "source": [
    "**dict comprehensions**"
   ]
  },
  {
   "cell_type": "markdown",
   "metadata": {
    "colab_type": "text",
    "id": "k-w8FqD4zM9E",
    "papermill": {
     "duration": 0.225675,
     "end_time": "2020-12-07T07:37:47.703336",
     "exception": false,
     "start_time": "2020-12-07T07:37:47.477661",
     "status": "completed"
    },
    "tags": []
   },
   "source": [
    "Еще один способ объявления словаря: создадим словарь, где каждому целому числу от 0 до 6 поставим в соответствие квадрат этого числа:"
   ]
  },
  {
   "cell_type": "code",
   "execution_count": 78,
   "metadata": {
    "colab": {},
    "colab_type": "code",
    "execution": {
     "iopub.execute_input": "2020-12-07T07:37:48.156567Z",
     "iopub.status.busy": "2020-12-07T07:37:48.155436Z",
     "iopub.status.idle": "2020-12-07T07:37:48.161371Z",
     "shell.execute_reply": "2020-12-07T07:37:48.163138Z"
    },
    "id": "WYE28ZQcGw4_",
    "papermill": {
     "duration": 0.236446,
     "end_time": "2020-12-07T07:37:48.163408",
     "exception": false,
     "start_time": "2020-12-07T07:37:47.926962",
     "status": "completed"
    },
    "tags": []
   },
   "outputs": [
    {
     "data": {
      "text/plain": [
       "{0: 0, 1: 1, 2: 4, 3: 9, 4: 16, 5: 25, 6: 36}"
      ]
     },
     "execution_count": 78,
     "metadata": {},
     "output_type": "execute_result"
    }
   ],
   "source": [
    "d = {a: a ** 2 for a in range(7)}\n",
    "d"
   ]
  },
  {
   "cell_type": "markdown",
   "metadata": {
    "colab_type": "text",
    "id": "79dYvUBLGw5A",
    "papermill": {
     "duration": 0.232468,
     "end_time": "2020-12-07T07:37:48.620888",
     "exception": false,
     "start_time": "2020-12-07T07:37:48.388420",
     "status": "completed"
    },
    "tags": []
   },
   "source": [
    "### !"
   ]
  },
  {
   "cell_type": "markdown",
   "metadata": {
    "colab_type": "text",
    "id": "BacZFsy-Gw5A",
    "papermill": {
     "duration": 0.228973,
     "end_time": "2020-12-07T07:37:49.069798",
     "exception": false,
     "start_time": "2020-12-07T07:37:48.840825",
     "status": "completed"
    },
    "tags": []
   },
   "source": [
    "Будьте осторожны, если ключа, по которому поступил запрос, нет в словаре, то выбросит исключение:"
   ]
  },
  {
   "cell_type": "markdown",
   "metadata": {
    "colab": {},
    "colab_type": "code",
    "id": "m9Z8UVuHGw5A",
    "papermill": {
     "duration": 0.220129,
     "end_time": "2020-12-07T07:37:49.511383",
     "exception": false,
     "start_time": "2020-12-07T07:37:49.291254",
     "status": "completed"
    },
    "tags": []
   },
   "source": [
    "d = {1: 100, 2: 200, 3: 300}\n",
    "d['a']"
   ]
  },
  {
   "cell_type": "markdown",
   "metadata": {
    "colab_type": "text",
    "id": "ldTDId4IGw5B",
    "papermill": {
     "duration": 0.220201,
     "end_time": "2020-12-07T07:37:49.953550",
     "exception": false,
     "start_time": "2020-12-07T07:37:49.733349",
     "status": "completed"
    },
    "tags": []
   },
   "source": [
    "Поэтому безопаснее использовать **get(key)**. Тогда, если нужно, можно проверить на **None**:"
   ]
  },
  {
   "cell_type": "code",
   "execution_count": 79,
   "metadata": {
    "colab": {},
    "colab_type": "code",
    "execution": {
     "iopub.execute_input": "2020-12-07T07:37:50.401019Z",
     "iopub.status.busy": "2020-12-07T07:37:50.398503Z",
     "iopub.status.idle": "2020-12-07T07:37:50.407499Z",
     "shell.execute_reply": "2020-12-07T07:37:50.408348Z"
    },
    "id": "-sz0nIsXGw5B",
    "papermill": {
     "duration": 0.235341,
     "end_time": "2020-12-07T07:37:50.408592",
     "exception": false,
     "start_time": "2020-12-07T07:37:50.173251",
     "status": "completed"
    },
    "tags": []
   },
   "outputs": [
    {
     "data": {
      "text/plain": [
       "1"
      ]
     },
     "execution_count": 79,
     "metadata": {},
     "output_type": "execute_result"
    }
   ],
   "source": [
    "d.get(1)"
   ]
  },
  {
   "cell_type": "code",
   "execution_count": 80,
   "metadata": {
    "colab": {},
    "colab_type": "code",
    "execution": {
     "iopub.execute_input": "2020-12-07T07:37:50.878286Z",
     "iopub.status.busy": "2020-12-07T07:37:50.876835Z",
     "iopub.status.idle": "2020-12-07T07:37:50.881099Z",
     "shell.execute_reply": "2020-12-07T07:37:50.881926Z"
    },
    "id": "IB7VemHiGw5D",
    "papermill": {
     "duration": 0.246148,
     "end_time": "2020-12-07T07:37:50.882177",
     "exception": false,
     "start_time": "2020-12-07T07:37:50.636029",
     "status": "completed"
    },
    "tags": []
   },
   "outputs": [
    {
     "data": {
      "text/plain": [
       "True"
      ]
     },
     "execution_count": 80,
     "metadata": {},
     "output_type": "execute_result"
    }
   ],
   "source": [
    "d.get('a') == None"
   ]
  },
  {
   "cell_type": "markdown",
   "metadata": {
    "colab_type": "text",
    "id": "nU8c9PouGw5E",
    "papermill": {
     "duration": 0.233235,
     "end_time": "2020-12-07T07:37:51.351490",
     "exception": false,
     "start_time": "2020-12-07T07:37:51.118255",
     "status": "completed"
    },
    "tags": []
   },
   "source": [
    "Самое часто используемое - получение ключей, получение значений и получение всего вместе:"
   ]
  },
  {
   "cell_type": "code",
   "execution_count": 81,
   "metadata": {
    "colab": {},
    "colab_type": "code",
    "execution": {
     "iopub.execute_input": "2020-12-07T07:37:51.834098Z",
     "iopub.status.busy": "2020-12-07T07:37:51.833115Z",
     "iopub.status.idle": "2020-12-07T07:37:51.837791Z",
     "shell.execute_reply": "2020-12-07T07:37:51.838677Z"
    },
    "id": "_cC8rqn-Gw5E",
    "papermill": {
     "duration": 0.250517,
     "end_time": "2020-12-07T07:37:51.838980",
     "exception": false,
     "start_time": "2020-12-07T07:37:51.588463",
     "status": "completed"
    },
    "tags": []
   },
   "outputs": [
    {
     "name": "stdout",
     "output_type": "stream",
     "text": [
      "dict_keys([0, 1, 2, 3, 4, 5, 6]) | <class 'dict_keys'>\n",
      "[0, 1, 2, 3, 4, 5, 6]\n"
     ]
    }
   ],
   "source": [
    "# получить список ключей\n",
    "print(d.keys(), '|', type(d.keys()))\n",
    "\n",
    "# чтобы вывести ключи, нужно привести d.keys() к списку\n",
    "print(list(d.keys()))"
   ]
  },
  {
   "cell_type": "code",
   "execution_count": 82,
   "metadata": {
    "colab": {},
    "colab_type": "code",
    "execution": {
     "iopub.execute_input": "2020-12-07T07:37:52.323768Z",
     "iopub.status.busy": "2020-12-07T07:37:52.322848Z",
     "iopub.status.idle": "2020-12-07T07:37:52.326880Z",
     "shell.execute_reply": "2020-12-07T07:37:52.327659Z"
    },
    "id": "pvh7EPaQGw5E",
    "papermill": {
     "duration": 0.250389,
     "end_time": "2020-12-07T07:37:52.327895",
     "exception": false,
     "start_time": "2020-12-07T07:37:52.077506",
     "status": "completed"
    },
    "tags": []
   },
   "outputs": [
    {
     "name": "stdout",
     "output_type": "stream",
     "text": [
      "dict_values([0, 1, 4, 9, 16, 25, 36]) | <class 'dict_values'>\n",
      "[0, 1, 4, 9, 16, 25, 36]\n"
     ]
    }
   ],
   "source": [
    "# получить список значений\n",
    "print(d.values(), '|', type(d.values()))\n",
    "\n",
    "# то же самое -- чтобы вывести значения, нужно привести d.values() к списку\n",
    "print(list(d.values()))"
   ]
  },
  {
   "cell_type": "code",
   "execution_count": 83,
   "metadata": {
    "colab": {},
    "colab_type": "code",
    "execution": {
     "iopub.execute_input": "2020-12-07T07:37:52.806375Z",
     "iopub.status.busy": "2020-12-07T07:37:52.804887Z",
     "iopub.status.idle": "2020-12-07T07:37:52.810119Z",
     "shell.execute_reply": "2020-12-07T07:37:52.811337Z"
    },
    "id": "sz6vs1_nGw5F",
    "papermill": {
     "duration": 0.248921,
     "end_time": "2020-12-07T07:37:52.811703",
     "exception": false,
     "start_time": "2020-12-07T07:37:52.562782",
     "status": "completed"
    },
    "tags": []
   },
   "outputs": [
    {
     "name": "stdout",
     "output_type": "stream",
     "text": [
      "dict_items([(0, 0), (1, 1), (2, 4), (3, 9), (4, 16), (5, 25), (6, 36)]) | <class 'dict_items'>\n",
      "[(0, 0), (1, 1), (2, 4), (3, 9), (4, 16), (5, 25), (6, 36)]\n"
     ]
    }
   ],
   "source": [
    "# получить список пар ключ-значение\n",
    "print(d.items(), '|', type(d.items()))\n",
    "\n",
    "# то же самое -- чтобы вывести пары ключ-значения, нужно привести d.items() к списку\n",
    "print(list(d.items()))"
   ]
  },
  {
   "cell_type": "code",
   "execution_count": null,
   "metadata": {
    "colab": {},
    "colab_type": "code",
    "id": "eLi473W8B131",
    "papermill": {
     "duration": 0.23566,
     "end_time": "2020-12-07T07:37:53.281367",
     "exception": false,
     "start_time": "2020-12-07T07:37:53.045707",
     "status": "completed"
    },
    "tags": []
   },
   "outputs": [],
   "source": []
  },
  {
   "cell_type": "markdown",
   "metadata": {
    "colab_type": "text",
    "id": "Ka2gG8QizM9L",
    "papermill": {
     "duration": 0.235673,
     "end_time": "2020-12-07T07:37:53.750500",
     "exception": false,
     "start_time": "2020-12-07T07:37:53.514827",
     "status": "completed"
    },
    "tags": []
   },
   "source": [
    "---\n",
    "\n",
    "### Задание 5\n",
    "Дан массив строк mas. Одной строкой создайте словарь, в котором по ключу строки будет записана пара (кортеж длины 2) (индекс строки в массиве mas, длина строки)"
   ]
  },
  {
   "cell_type": "code",
   "execution_count": 84,
   "metadata": {
    "colab": {},
    "colab_type": "code",
    "execution": {
     "iopub.execute_input": "2020-12-07T07:37:54.242314Z",
     "iopub.status.busy": "2020-12-07T07:37:54.240756Z",
     "iopub.status.idle": "2020-12-07T07:37:54.244254Z",
     "shell.execute_reply": "2020-12-07T07:37:54.245265Z"
    },
    "id": "qQxkKs_KzM9M",
    "papermill": {
     "duration": 0.24971,
     "end_time": "2020-12-07T07:37:54.245559",
     "exception": false,
     "start_time": "2020-12-07T07:37:53.995849",
     "status": "completed"
    },
    "tags": []
   },
   "outputs": [],
   "source": [
    "# Ваш код здесь"
   ]
  },
  {
   "cell_type": "markdown",
   "metadata": {
    "colab_type": "text",
    "id": "-kYdwvhLGw5F",
    "papermill": {
     "duration": 0.232267,
     "end_time": "2020-12-07T07:37:54.722447",
     "exception": false,
     "start_time": "2020-12-07T07:37:54.490180",
     "status": "completed"
    },
    "tags": []
   },
   "source": [
    "### modules"
   ]
  },
  {
   "cell_type": "markdown",
   "metadata": {
    "colab_type": "text",
    "id": "i8oVrMMOGw5G",
    "papermill": {
     "duration": 0.24231,
     "end_time": "2020-12-07T07:37:55.197923",
     "exception": false,
     "start_time": "2020-12-07T07:37:54.955613",
     "status": "completed"
    },
    "tags": []
   },
   "source": [
    "**Модули** - это \"библиотеки\" Python. То есть это самостоятельные, объединённые технически и логически, именованные части Python кода\n",
    "\n",
    "Можно рассматривать их как код, функции, записанные в других файлах (модулях), и чтобы использовать их в своем коде, нужно подключить эти файлы (модули)"
   ]
  },
  {
   "cell_type": "markdown",
   "metadata": {
    "colab_type": "text",
    "id": "8VsaBB8CGw5G",
    "papermill": {
     "duration": 0.232614,
     "end_time": "2020-12-07T07:37:55.673677",
     "exception": false,
     "start_time": "2020-12-07T07:37:55.441063",
     "status": "completed"
    },
    "tags": []
   },
   "source": [
    "* О модулях необходимо знать только одно - как их импортировать:"
   ]
  },
  {
   "cell_type": "code",
   "execution_count": 85,
   "metadata": {
    "colab": {},
    "colab_type": "code",
    "execution": {
     "iopub.execute_input": "2020-12-07T07:37:56.143245Z",
     "iopub.status.busy": "2020-12-07T07:37:56.142140Z",
     "iopub.status.idle": "2020-12-07T07:37:56.145735Z",
     "shell.execute_reply": "2020-12-07T07:37:56.144614Z"
    },
    "id": "HyDhkTUYGw5H",
    "papermill": {
     "duration": 0.238807,
     "end_time": "2020-12-07T07:37:56.145940",
     "exception": false,
     "start_time": "2020-12-07T07:37:55.907133",
     "status": "completed"
    },
    "tags": []
   },
   "outputs": [],
   "source": [
    "import collections"
   ]
  },
  {
   "cell_type": "markdown",
   "metadata": {
    "colab_type": "text",
    "id": "KCOahn9JGw5H",
    "papermill": {
     "duration": 0.269754,
     "end_time": "2020-12-07T07:37:56.656390",
     "exception": false,
     "start_time": "2020-12-07T07:37:56.386636",
     "status": "completed"
    },
    "tags": []
   },
   "source": [
    "* Импортировать только какой-то компонент из модуля:"
   ]
  },
  {
   "cell_type": "code",
   "execution_count": 86,
   "metadata": {
    "colab": {},
    "colab_type": "code",
    "execution": {
     "iopub.execute_input": "2020-12-07T07:37:57.157571Z",
     "iopub.status.busy": "2020-12-07T07:37:57.156487Z",
     "iopub.status.idle": "2020-12-07T07:37:57.159709Z",
     "shell.execute_reply": "2020-12-07T07:37:57.160536Z"
    },
    "id": "GFTwj3EEGw5H",
    "papermill": {
     "duration": 0.253474,
     "end_time": "2020-12-07T07:37:57.160804",
     "exception": false,
     "start_time": "2020-12-07T07:37:56.907330",
     "status": "completed"
    },
    "tags": []
   },
   "outputs": [],
   "source": [
    "# импортируем структуру данных Counter из библиотеки collections\n",
    "from collections import Counter"
   ]
  },
  {
   "cell_type": "markdown",
   "metadata": {
    "colab_type": "text",
    "id": "VXFVpvqwGw5I",
    "papermill": {
     "duration": 0.251988,
     "end_time": "2020-12-07T07:37:57.654246",
     "exception": false,
     "start_time": "2020-12-07T07:37:57.402258",
     "status": "completed"
    },
    "tags": []
   },
   "source": [
    "* Импортировать с другим именем (чаще всего используется для локаничности кода):"
   ]
  },
  {
   "cell_type": "code",
   "execution_count": 87,
   "metadata": {
    "colab": {},
    "colab_type": "code",
    "execution": {
     "iopub.execute_input": "2020-12-07T07:37:58.154733Z",
     "iopub.status.busy": "2020-12-07T07:37:58.153745Z",
     "iopub.status.idle": "2020-12-07T07:37:58.156842Z",
     "shell.execute_reply": "2020-12-07T07:37:58.157594Z"
    },
    "id": "pDR1RfkAGw5I",
    "papermill": {
     "duration": 0.253765,
     "end_time": "2020-12-07T07:37:58.157901",
     "exception": false,
     "start_time": "2020-12-07T07:37:57.904136",
     "status": "completed"
    },
    "tags": []
   },
   "outputs": [],
   "source": [
    "import collections as cool_lib"
   ]
  },
  {
   "cell_type": "code",
   "execution_count": 88,
   "metadata": {
    "colab": {},
    "colab_type": "code",
    "execution": {
     "iopub.execute_input": "2020-12-07T07:37:58.659014Z",
     "iopub.status.busy": "2020-12-07T07:37:58.657756Z",
     "iopub.status.idle": "2020-12-07T07:37:58.660906Z",
     "shell.execute_reply": "2020-12-07T07:37:58.660052Z"
    },
    "id": "NXIY7m_zGw5J",
    "papermill": {
     "duration": 0.253622,
     "end_time": "2020-12-07T07:37:58.661139",
     "exception": false,
     "start_time": "2020-12-07T07:37:58.407517",
     "status": "completed"
    },
    "tags": []
   },
   "outputs": [],
   "source": [
    "count = cool_lib.Counter()"
   ]
  },
  {
   "cell_type": "markdown",
   "metadata": {
    "colab_type": "text",
    "id": "YxuJA1qgGw5K",
    "papermill": {
     "duration": 0.242445,
     "end_time": "2020-12-07T07:37:59.147651",
     "exception": false,
     "start_time": "2020-12-07T07:37:58.905206",
     "status": "completed"
    },
    "tags": []
   },
   "source": [
    "Жизненный пример:"
   ]
  },
  {
   "cell_type": "code",
   "execution_count": 89,
   "metadata": {
    "colab": {},
    "colab_type": "code",
    "execution": {
     "iopub.execute_input": "2020-12-07T07:37:59.644465Z",
     "iopub.status.busy": "2020-12-07T07:37:59.643423Z",
     "iopub.status.idle": "2020-12-07T07:37:59.830826Z",
     "shell.execute_reply": "2020-12-07T07:37:59.829893Z"
    },
    "id": "db7fca4LGw5K",
    "papermill": {
     "duration": 0.438823,
     "end_time": "2020-12-07T07:37:59.831059",
     "exception": false,
     "start_time": "2020-12-07T07:37:59.392236",
     "status": "completed"
    },
    "tags": []
   },
   "outputs": [],
   "source": [
    "import numpy as np"
   ]
  },
  {
   "cell_type": "markdown",
   "metadata": {
    "colab": {},
    "colab_type": "code",
    "id": "FdY3rE9uzS7_",
    "papermill": {
     "duration": 0.261663,
     "end_time": "2020-12-07T07:38:00.348197",
     "exception": false,
     "start_time": "2020-12-07T07:38:00.086534",
     "status": "completed"
    },
    "tags": []
   },
   "source": [
    "На этом самый базовый ноутбук закончен. Если здесь что-то было непонятно/не хватило информации по какой-то из освеченных тем, можно перейти по ссылкам в начале ноутбука и изучить больше!"
   ]
  },
  {
   "cell_type": "code",
   "execution_count": null,
   "metadata": {
    "colab": {},
    "colab_type": "code",
    "id": "EpxasdTIEJLs",
    "papermill": {
     "duration": 0.226022,
     "end_time": "2020-12-07T07:38:00.820207",
     "exception": false,
     "start_time": "2020-12-07T07:38:00.594185",
     "status": "completed"
    },
    "tags": []
   },
   "outputs": [],
   "source": []
  }
 ],
 "metadata": {
  "colab": {
   "collapsed_sections": [
    "qoHHrmtJGwzG",
    "YfhDEhg_GwzM",
    "-tXSqvRRGwzN",
    "Hf0cK9ejGwzd",
    "YFD8l2XuGwzq",
    "Ra7b2HeOzM7C",
    "sGGkrmM0Gwz1",
    "r_y-TEM3Gw0A",
    "knjcsCbVGw0Z",
    "P7kqThRsGw1S",
    "e6LOqPpYGw1T",
    "KgSZ7GuFzM8N",
    "TE6KBa0HzM8P",
    "2mnxxvHxGw0c",
    "04VwiGfkGw3t",
    "25O4dyOezM8l",
    "70QerwaDGw3y",
    "ZPIwoJneGw37",
    "8f3c96Y3Gw4f",
    "i0xyAzGiGw4s",
    "79dYvUBLGw5A",
    "Ka2gG8QizM9L",
    "-kYdwvhLGw5F"
   ],
   "name": "python_basics.ipynb",
   "provenance": [],
   "version": "0.3.2"
  },
  "kernelspec": {
   "display_name": "Python 3",
   "language": "python",
   "name": "python3"
  },
  "language_info": {
   "codemirror_mode": {
    "name": "ipython",
    "version": 3
   },
   "file_extension": ".py",
   "mimetype": "text/x-python",
   "name": "python",
   "nbconvert_exporter": "python",
   "pygments_lexer": "ipython3",
   "version": "3.8.5"
  },
  "papermill": {
   "default_parameters": {},
   "duration": 97.591046,
   "end_time": "2020-12-07T07:38:01.361969",
   "environment_variables": {},
   "exception": null,
   "input_path": "/home/frankshikhaliev/Research/!RGSPractice1/[seminar]python_extension.ipynb",
   "output_path": "/home/frankshikhaliev/Research/!RGSPractice1/[seminar]python_extension.ipynb",
   "parameters": {},
   "start_time": "2020-12-07T07:36:23.770923",
   "version": "2.2.2"
  }
 },
 "nbformat": 4,
 "nbformat_minor": 4
}
