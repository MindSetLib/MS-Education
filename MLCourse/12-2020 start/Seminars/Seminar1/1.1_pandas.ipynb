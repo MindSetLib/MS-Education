{
 "cells": [
  {
   "cell_type": "markdown",
   "metadata": {
    "colab_type": "text",
    "id": "flgEF7MZe2h9",
    "papermill": {
     "duration": 0.070297,
     "end_time": "2020-12-07T07:38:03.083556",
     "exception": false,
     "start_time": "2020-12-07T07:38:03.013259",
     "status": "completed"
    },
    "tags": []
   },
   "source": [
    "## Машинное обучение - 1\n",
    "### 1. Решение задач кластеризации, классификации и регрессии с применением библиотек Python: scipy, numpy, pandas, matplotlib, sklearn. (повторение, на примерах из бизнеса).  \n",
    "\n",
    "\n",
    "### 1.1 Вспоминаем pandas"
   ]
  },
  {
   "cell_type": "code",
   "execution_count": 1,
   "metadata": {
    "colab": {},
    "colab_type": "code",
    "execution": {
     "iopub.execute_input": "2020-12-07T07:38:03.215732Z",
     "iopub.status.busy": "2020-12-07T07:38:03.214882Z",
     "iopub.status.idle": "2020-12-07T07:38:04.387469Z",
     "shell.execute_reply": "2020-12-07T07:38:04.388204Z"
    },
    "id": "M3NF9twhe2iD",
    "papermill": {
     "duration": 1.242999,
     "end_time": "2020-12-07T07:38:04.388588",
     "exception": false,
     "start_time": "2020-12-07T07:38:03.145589",
     "status": "completed"
    },
    "tags": []
   },
   "outputs": [],
   "source": [
    "# Импортируем библиотеки\n",
    "import warnings\n",
    "warnings.filterwarnings('ignore')\n",
    "\n",
    "import numpy as np\n",
    "import pandas as pd\n",
    "\n",
    "import matplotlib.pyplot as plt\n",
    "%matplotlib inline\n",
    "import seaborn as sns\n",
    "color = sns.color_palette('tab20')"
   ]
  },
  {
   "cell_type": "markdown",
   "metadata": {
    "colab_type": "text",
    "id": "9J2uwwQOe2id",
    "papermill": {
     "duration": 0.062296,
     "end_time": "2020-12-07T07:38:04.515556",
     "exception": false,
     "start_time": "2020-12-07T07:38:04.453260",
     "status": "completed"
    },
    "tags": []
   },
   "source": [
    "#### 1.1.1 Тип данных Series\n",
    "\n",
    "Series (Серия) - одномерный массив с индексом"
   ]
  },
  {
   "cell_type": "code",
   "execution_count": 2,
   "metadata": {
    "colab": {
     "base_uri": "https://localhost:8080/",
     "height": 105
    },
    "colab_type": "code",
    "execution": {
     "iopub.execute_input": "2020-12-07T07:38:04.655162Z",
     "iopub.status.busy": "2020-12-07T07:38:04.653947Z",
     "iopub.status.idle": "2020-12-07T07:38:04.657954Z",
     "shell.execute_reply": "2020-12-07T07:38:04.658635Z"
    },
    "executionInfo": {
     "elapsed": 639,
     "status": "ok",
     "timestamp": 1600079331787,
     "user": {
      "displayName": "Frank Shikhaliev",
      "photoUrl": "https://lh3.googleusercontent.com/a-/AOh14Gh4zzgfDDbTXC_ptmv1b90BAxa2ojP--8VkZoIhVg=s64",
      "userId": "01266577514402258000"
     },
     "user_tz": -180
    },
    "id": "nDLnNvHVe2ig",
    "outputId": "27535ea2-afdc-477c-eedf-06e255965651",
    "papermill": {
     "duration": 0.078017,
     "end_time": "2020-12-07T07:38:04.658838",
     "exception": false,
     "start_time": "2020-12-07T07:38:04.580821",
     "status": "completed"
    },
    "tags": []
   },
   "outputs": [
    {
     "data": {
      "text/plain": [
       "0     2\n",
       "1    15\n",
       "2    10\n",
       "3    20\n",
       "dtype: int64"
      ]
     },
     "execution_count": 2,
     "metadata": {},
     "output_type": "execute_result"
    }
   ],
   "source": [
    "# Создадим объект s1 типа Series и выведем его на экран\n",
    "s1 = pd.Series([2, 15, 10, 20])\n",
    "s1"
   ]
  },
  {
   "cell_type": "code",
   "execution_count": 3,
   "metadata": {
    "colab": {},
    "colab_type": "code",
    "execution": {
     "iopub.execute_input": "2020-12-07T07:38:04.792085Z",
     "iopub.status.busy": "2020-12-07T07:38:04.791015Z",
     "iopub.status.idle": "2020-12-07T07:38:04.794951Z",
     "shell.execute_reply": "2020-12-07T07:38:04.795819Z"
    },
    "id": "3bfEIsH8e2iz",
    "outputId": "9c7d1583-d867-4346-f460-7f59aba5f740",
    "papermill": {
     "duration": 0.073986,
     "end_time": "2020-12-07T07:38:04.796057",
     "exception": false,
     "start_time": "2020-12-07T07:38:04.722071",
     "status": "completed"
    },
    "tags": []
   },
   "outputs": [
    {
     "data": {
      "text/plain": [
       "2    10\n",
       "3    20\n",
       "dtype: int64"
      ]
     },
     "execution_count": 3,
     "metadata": {},
     "output_type": "execute_result"
    }
   ],
   "source": [
    "# К элементам можно обратиться по индексу. Выведем элементы с индексом 2 и 3\n",
    "s1[[2, 3]]"
   ]
  },
  {
   "cell_type": "code",
   "execution_count": 4,
   "metadata": {
    "colab": {},
    "colab_type": "code",
    "execution": {
     "iopub.execute_input": "2020-12-07T07:38:04.931674Z",
     "iopub.status.busy": "2020-12-07T07:38:04.930786Z",
     "iopub.status.idle": "2020-12-07T07:38:04.934755Z",
     "shell.execute_reply": "2020-12-07T07:38:04.935440Z"
    },
    "id": "OKA3KRgwe2jB",
    "outputId": "cfeed162-5faa-4211-8e6e-d65f6e7ec89f",
    "papermill": {
     "duration": 0.076618,
     "end_time": "2020-12-07T07:38:04.935643",
     "exception": false,
     "start_time": "2020-12-07T07:38:04.859025",
     "status": "completed"
    },
    "tags": []
   },
   "outputs": [
    {
     "data": {
      "text/plain": [
       "Second    14\n",
       "Fifth     65\n",
       "dtype: int64"
      ]
     },
     "execution_count": 4,
     "metadata": {},
     "output_type": "execute_result"
    }
   ],
   "source": [
    "# Можно создать Series, явно указав индексы (например, строковые или datetime).\n",
    "s2 = pd.Series([3, 14, 15, 92, 65], index = ['First', 'Second', 'Third', 'Fourth', 'Fifth'])\n",
    "# По этим индексам также можно обращаться к элементам Series\n",
    "s2[['Second', 'Fifth']]"
   ]
  },
  {
   "cell_type": "code",
   "execution_count": 5,
   "metadata": {
    "colab": {},
    "colab_type": "code",
    "execution": {
     "iopub.execute_input": "2020-12-07T07:38:05.076768Z",
     "iopub.status.busy": "2020-12-07T07:38:05.075871Z",
     "iopub.status.idle": "2020-12-07T07:38:05.080546Z",
     "shell.execute_reply": "2020-12-07T07:38:05.079829Z"
    },
    "id": "1l9Ns8GOe2jT",
    "outputId": "90c50201-8bd2-4eb8-ebce-5029b2846b50",
    "papermill": {
     "duration": 0.081528,
     "end_time": "2020-12-07T07:38:05.080715",
     "exception": false,
     "start_time": "2020-12-07T07:38:04.999187",
     "status": "completed"
    },
    "tags": []
   },
   "outputs": [
    {
     "data": {
      "text/plain": [
       "2019-02-11    Mon\n",
       "2019-02-13    Wed\n",
       "dtype: object"
      ]
     },
     "execution_count": 5,
     "metadata": {},
     "output_type": "execute_result"
    }
   ],
   "source": [
    "# Зададим индексы типа datetime\n",
    "s3 = pd.Series(['Mon', 'Tue', 'Wed'], index = pd.date_range(start='2019-02-11', periods=3))\n",
    "# По индексам типа datetime также можно получить соответствующие значения серии\n",
    "s3[[pd.datetime(2019,2,11), pd.datetime(2019,2,13)]]"
   ]
  },
  {
   "cell_type": "code",
   "execution_count": 6,
   "metadata": {
    "colab": {},
    "colab_type": "code",
    "execution": {
     "iopub.execute_input": "2020-12-07T07:38:05.215125Z",
     "iopub.status.busy": "2020-12-07T07:38:05.214173Z",
     "iopub.status.idle": "2020-12-07T07:38:05.219034Z",
     "shell.execute_reply": "2020-12-07T07:38:05.218213Z"
    },
    "id": "R7DgmGgVe2jk",
    "outputId": "e167d971-7af5-4568-f5c9-8d9d49c6546e",
    "papermill": {
     "duration": 0.074614,
     "end_time": "2020-12-07T07:38:05.219231",
     "exception": false,
     "start_time": "2020-12-07T07:38:05.144617",
     "status": "completed"
    },
    "tags": []
   },
   "outputs": [
    {
     "data": {
      "text/plain": [
       "DatetimeIndex(['2019-02-11', '2019-02-12', '2019-02-13'], dtype='datetime64[ns]', freq='D')"
      ]
     },
     "execution_count": 6,
     "metadata": {},
     "output_type": "execute_result"
    }
   ],
   "source": [
    "# Выведем все индексы серии. Видим объект соответствующего типа (DatetimeIndex)\n",
    "s3.index"
   ]
  },
  {
   "cell_type": "code",
   "execution_count": 7,
   "metadata": {
    "colab": {},
    "colab_type": "code",
    "execution": {
     "iopub.execute_input": "2020-12-07T07:38:05.353973Z",
     "iopub.status.busy": "2020-12-07T07:38:05.353102Z",
     "iopub.status.idle": "2020-12-07T07:38:05.356084Z",
     "shell.execute_reply": "2020-12-07T07:38:05.356746Z"
    },
    "id": "WkzsamZCe2j2",
    "papermill": {
     "duration": 0.07336,
     "end_time": "2020-12-07T07:38:05.356959",
     "exception": false,
     "start_time": "2020-12-07T07:38:05.283599",
     "status": "completed"
    },
    "tags": []
   },
   "outputs": [],
   "source": [
    "# Series, как вектора,  можно складывать, вычитать, умножать на число и т.п.\n",
    "# Создадим 2 объекта типа Series с 1000 элементами стандартного нормального распределения\n",
    "np.random.seed(2019)\n",
    "x1 = pd.Series(np.random.randn(1000))\n",
    "x2 = pd.Series(np.random.randn(1000))"
   ]
  },
  {
   "cell_type": "code",
   "execution_count": 8,
   "metadata": {
    "colab": {},
    "colab_type": "code",
    "execution": {
     "iopub.execute_input": "2020-12-07T07:38:05.492099Z",
     "iopub.status.busy": "2020-12-07T07:38:05.491257Z",
     "iopub.status.idle": "2020-12-07T07:38:05.497594Z",
     "shell.execute_reply": "2020-12-07T07:38:05.498283Z"
    },
    "id": "SpZQPrkme2kM",
    "outputId": "defc86ea-17cd-4fda-c117-718720a85f02",
    "papermill": {
     "duration": 0.075848,
     "end_time": "2020-12-07T07:38:05.498473",
     "exception": false,
     "start_time": "2020-12-07T07:38:05.422625",
     "status": "completed"
    },
    "tags": []
   },
   "outputs": [
    {
     "data": {
      "text/plain": [
       "pandas.core.series.Series"
      ]
     },
     "execution_count": 8,
     "metadata": {},
     "output_type": "execute_result"
    }
   ],
   "source": [
    "# Создадим новый объект Series, каждый элемент которого является\n",
    "# суммой соответствующих элементов 2-х других серий\n",
    "y1 = x1 + x2\n",
    "# Убедимся, что получилась серия\n",
    "type(y1)"
   ]
  },
  {
   "cell_type": "code",
   "execution_count": 9,
   "metadata": {
    "colab": {},
    "colab_type": "code",
    "execution": {
     "iopub.execute_input": "2020-12-07T07:38:05.637144Z",
     "iopub.status.busy": "2020-12-07T07:38:05.636095Z",
     "iopub.status.idle": "2020-12-07T07:38:05.640663Z",
     "shell.execute_reply": "2020-12-07T07:38:05.641512Z"
    },
    "id": "bDIPAa7Me2ka",
    "outputId": "6f2d6386-03d3-4e50-cb79-e93be6ba0288",
    "papermill": {
     "duration": 0.078977,
     "end_time": "2020-12-07T07:38:05.641713",
     "exception": false,
     "start_time": "2020-12-07T07:38:05.562736",
     "status": "completed"
    },
    "tags": []
   },
   "outputs": [
    {
     "data": {
      "text/plain": [
       "pandas.core.series.Series"
      ]
     },
     "execution_count": 9,
     "metadata": {},
     "output_type": "execute_result"
    }
   ],
   "source": [
    "# Если операция, которую мы хотим выполнить над серией не векторная,\n",
    "# приходится выполнять её над каждым элементом по отдельности.\n",
    "# Получившийся список преобразовываем в Series\n",
    "import math\n",
    "y2 = pd.Series([math.sin(2*x) for x in x1])\n",
    "type(y2)"
   ]
  },
  {
   "cell_type": "code",
   "execution_count": 10,
   "metadata": {
    "colab": {},
    "colab_type": "code",
    "execution": {
     "iopub.execute_input": "2020-12-07T07:38:05.778985Z",
     "iopub.status.busy": "2020-12-07T07:38:05.777981Z",
     "iopub.status.idle": "2020-12-07T07:38:05.781617Z",
     "shell.execute_reply": "2020-12-07T07:38:05.782333Z"
    },
    "id": "BcEOtXnge2kp",
    "outputId": "c8b96747-5fd9-416e-8c78-c06c52883ac5",
    "papermill": {
     "duration": 0.075763,
     "end_time": "2020-12-07T07:38:05.782543",
     "exception": false,
     "start_time": "2020-12-07T07:38:05.706780",
     "status": "completed"
    },
    "tags": []
   },
   "outputs": [
    {
     "data": {
      "text/plain": [
       "pandas.core.series.Series"
      ]
     },
     "execution_count": 10,
     "metadata": {},
     "output_type": "execute_result"
    }
   ],
   "source": [
    "# Умножим все элементы исходных серий на числа и сложим получившиеся серии.\n",
    "# В результате также получается серия.\n",
    "y3 = 3*y2 + x2/2\n",
    "type(y3)"
   ]
  },
  {
   "cell_type": "code",
   "execution_count": 11,
   "metadata": {
    "colab": {},
    "colab_type": "code",
    "execution": {
     "iopub.execute_input": "2020-12-07T07:38:05.919836Z",
     "iopub.status.busy": "2020-12-07T07:38:05.918997Z",
     "iopub.status.idle": "2020-12-07T07:38:05.928494Z",
     "shell.execute_reply": "2020-12-07T07:38:05.929153Z"
    },
    "id": "4CMTdm7me2k_",
    "outputId": "cc0cb04b-7b48-414e-d7dd-b499349ddcd9",
    "papermill": {
     "duration": 0.081465,
     "end_time": "2020-12-07T07:38:05.929356",
     "exception": false,
     "start_time": "2020-12-07T07:38:05.847891",
     "status": "completed"
    },
    "tags": []
   },
   "outputs": [
    {
     "data": {
      "text/plain": [
       "count    1000.000000\n",
       "mean       -0.043961\n",
       "std         1.423792\n",
       "min        -4.377193\n",
       "25%        -0.993238\n",
       "50%        -0.069981\n",
       "75%         0.918398\n",
       "max         4.059889\n",
       "dtype: float64"
      ]
     },
     "execution_count": 11,
     "metadata": {},
     "output_type": "execute_result"
    }
   ],
   "source": [
    "# У серии можно посмотреть описательные статистики, такие как среднее, медиана, стандартное отклонение и т.п.\n",
    "# Сводную информацию можно получить с помощью метода describe()\n",
    "y1.describe()"
   ]
  },
  {
   "cell_type": "code",
   "execution_count": 12,
   "metadata": {
    "colab": {},
    "colab_type": "code",
    "execution": {
     "iopub.execute_input": "2020-12-07T07:38:06.066501Z",
     "iopub.status.busy": "2020-12-07T07:38:06.065662Z",
     "iopub.status.idle": "2020-12-07T07:38:06.069292Z",
     "shell.execute_reply": "2020-12-07T07:38:06.069983Z"
    },
    "id": "ddnr5hK4e2lQ",
    "outputId": "9f0c832a-f30b-42d0-cafb-806d9bf46bb5",
    "papermill": {
     "duration": 0.074347,
     "end_time": "2020-12-07T07:38:06.070169",
     "exception": false,
     "start_time": "2020-12-07T07:38:05.995822",
     "status": "completed"
    },
    "tags": []
   },
   "outputs": [
    {
     "data": {
      "text/plain": [
       "-0.04396119378355154"
      ]
     },
     "execution_count": 12,
     "metadata": {},
     "output_type": "execute_result"
    }
   ],
   "source": [
    "# Можно посмотреть отдельно, например, среднее значение\n",
    "y1.mean()"
   ]
  },
  {
   "cell_type": "code",
   "execution_count": 13,
   "metadata": {
    "colab": {},
    "colab_type": "code",
    "execution": {
     "iopub.execute_input": "2020-12-07T07:38:06.209042Z",
     "iopub.status.busy": "2020-12-07T07:38:06.208155Z",
     "iopub.status.idle": "2020-12-07T07:38:06.213137Z",
     "shell.execute_reply": "2020-12-07T07:38:06.213809Z"
    },
    "id": "NpDOGX5_e2lh",
    "outputId": "b4094da0-5bcc-4f92-a346-e78026ce8c26",
    "papermill": {
     "duration": 0.078073,
     "end_time": "2020-12-07T07:38:06.214002",
     "exception": false,
     "start_time": "2020-12-07T07:38:06.135929",
     "status": "completed"
    },
    "tags": []
   },
   "outputs": [
    {
     "data": {
      "text/plain": [
       "1.423792182527045"
      ]
     },
     "execution_count": 13,
     "metadata": {},
     "output_type": "execute_result"
    }
   ],
   "source": [
    "# Стандартное отклонение и т.д.\n",
    "y1.std()"
   ]
  },
  {
   "cell_type": "code",
   "execution_count": 14,
   "metadata": {
    "colab": {},
    "colab_type": "code",
    "execution": {
     "iopub.execute_input": "2020-12-07T07:38:06.379624Z",
     "iopub.status.busy": "2020-12-07T07:38:06.362347Z",
     "iopub.status.idle": "2020-12-07T07:38:07.391199Z",
     "shell.execute_reply": "2020-12-07T07:38:07.391936Z"
    },
    "id": "Ulw7bgz0e2l8",
    "outputId": "811b0a1f-c245-4ae7-cfd4-ea83f8c631ff",
    "papermill": {
     "duration": 1.111708,
     "end_time": "2020-12-07T07:38:07.392165",
     "exception": false,
     "start_time": "2020-12-07T07:38:06.280457",
     "status": "completed"
    },
    "tags": []
   },
   "outputs": [
    {
     "data": {
      "image/png": "[encoded data removed]",
      "text/plain": [
       "<Figure size 1008x720 with 1 Axes>"
      ]
     },
     "metadata": {},
     "output_type": "display_data"
    }
   ],
   "source": [
    "plt.style.use('seaborn-whitegrid')\n",
    "plt.rcParams['figure.figsize'] = (14, 10)\n",
    "# Отобразим среднее и стандартное отклонение для серии y1\n",
    "plt.fill_between([x1.min(), x1.max()],\n",
    "                 y1.mean() - 2*y1.std(),\n",
    "                 y1.mean() + 2*y1.std(),\n",
    "                 color=color[1], alpha=0.5, label=r'${{y}_{1}}_{0}\\pm2\\sigma$');\n",
    "plt.axhline(y=y1.mean(), color=color[0], label=r'${{y}_{1}}_{0}$');\n",
    "# Отобразим получившиеся серии y1, y2, y3\n",
    "plt.scatter(x=x1, y=y1, c=[color[0]], label=r'$y_1 = x_1 + x_2$', alpha=0.8);\n",
    "plt.scatter(x=x1, y=y2, c=[color[4]], label=r'$y_2 = \\sin (2x_1)$', alpha=0.8);\n",
    "plt.scatter(x=x1, y=y3, c=[color[2]], label=r'$y_3 = 3\\sin(2x_1) + \\frac{x_2}{3}$', alpha=0.8);\n",
    "plt.margins(x=0);\n",
    "plt.legend(fontsize=12, frameon=True);"
   ]
  },
  {
   "cell_type": "markdown",
   "metadata": {
    "colab_type": "text",
    "id": "-a62Dnvle2mN",
    "papermill": {
     "duration": 0.071596,
     "end_time": "2020-12-07T07:38:07.538582",
     "exception": false,
     "start_time": "2020-12-07T07:38:07.466986",
     "status": "completed"
    },
    "tags": []
   },
   "source": [
    "#### 1.1.2 Тип данных DataFrame\n",
    "DataFrame - двумерный массив, состоящий из одного или более объектов Series, связанных по меткам индекса. Каждый объект Series (столбец) может иметь имя.  \n",
    "\n",
    "Загрузим набор данных **ausautoBI8999** из пакета CASdatasets: Insurance datasets (http://cas.uqam.ca/).  \n",
    "Это данные о 22036 случаях страховых выплат в связи с травмами, произошедшими в Австралии в период с июля 1989 года по январь 1999 года. Описание столбцов:  \n",
    "  *  **AccDate, ReportDate, FinDate** - Дата аварии, отчетная дата, дата завершения. День всегда устанавливается в первый день месяца.\n",
    "  *  **AccMth, ReportMth, FinMth** - Месяц аварии, отчетный месяц, последний месяц: 1 = июль 1989 года ..., 120 = июнь 1999 года).\n",
    "  *  **OpTime** - Операционное время.\n",
    "  *  **InjType1, InjType2, InjType3, InjType4, InjType5** - Код травмы.\n",
    "  *  **InjNb** - Количество пострадавших.\n",
    "  *  **Legal** - Имеет ли страхователь юридическое представительство.\n",
    "  *  **AggClaim** - Совокупная сумма."
   ]
  },
  {
   "cell_type": "markdown",
   "metadata": {
    "colab": {
     "base_uri": "https://localhost:8080/",
     "height": 34
    },
    "colab_type": "code",
    "execution": {
     "iopub.execute_input": "2020-12-06T20:40:34.943371Z",
     "iopub.status.busy": "2020-12-06T20:40:34.942361Z",
     "iopub.status.idle": "2020-12-06T20:40:35.180041Z",
     "shell.execute_reply": "2020-12-06T20:40:35.178436Z"
    },
    "executionInfo": {
     "elapsed": 36821,
     "status": "ok",
     "timestamp": 1600105565696,
     "user": {
      "displayName": "Frank Shikhaliev",
      "photoUrl": "https://lh3.googleusercontent.com/a-/AOh14Gh4zzgfDDbTXC_ptmv1b90BAxa2ojP--8VkZoIhVg=s64",
      "userId": "01266577514402258000"
     },
     "user_tz": -180
    },
    "id": "-deir_WuhJUV",
    "outputId": "17665f0e-2ce4-47a9-a169-5f4d64a274db",
    "papermill": {
     "duration": 0.079463,
     "end_time": "2020-12-07T07:38:07.693583",
     "exception": false,
     "start_time": "2020-12-07T07:38:07.614120",
     "status": "completed"
    },
    "tags": []
   },
   "source": [
    "from google.colab import drive\n",
    "drive.mount('/content/drive')"
   ]
  },
  {
   "cell_type": "code",
   "execution_count": 15,
   "metadata": {
    "colab": {
     "base_uri": "https://localhost:8080/",
     "height": 34
    },
    "colab_type": "code",
    "execution": {
     "iopub.execute_input": "2020-12-07T07:38:07.854175Z",
     "iopub.status.busy": "2020-12-07T07:38:07.853187Z",
     "iopub.status.idle": "2020-12-07T07:38:07.920098Z",
     "shell.execute_reply": "2020-12-07T07:38:07.920837Z"
    },
    "executionInfo": {
     "elapsed": 1148,
     "status": "ok",
     "timestamp": 1600105598858,
     "user": {
      "displayName": "Frank Shikhaliev",
      "photoUrl": "https://lh3.googleusercontent.com/a-/AOh14Gh4zzgfDDbTXC_ptmv1b90BAxa2ojP--8VkZoIhVg=s64",
      "userId": "01266577514402258000"
     },
     "user_tz": -180
    },
    "id": "d_5KJImUe2mR",
    "outputId": "e46630f8-c2e5-4ca0-b7bd-23401496bc65",
    "papermill": {
     "duration": 0.149865,
     "end_time": "2020-12-07T07:38:07.921046",
     "exception": false,
     "start_time": "2020-12-07T07:38:07.771181",
     "status": "completed"
    },
    "tags": []
   },
   "outputs": [
    {
     "data": {
      "text/plain": [
       "pandas.core.frame.DataFrame"
      ]
     },
     "execution_count": 15,
     "metadata": {},
     "output_type": "execute_result"
    }
   ],
   "source": [
    "# Загрузим данные\n",
    "# Чтобы этот пример заработал у вас в Гугл колабе, необходимо данные ausautoBI8999.csv \n",
    "# разместить в корневом каталоге на гугл колабе в папке Data\n",
    "\n",
    "dfAusAuto = pd.read_csv('ausautoBI8999.csv', low_memory=False)\n",
    "\n",
    "# к данным можно подключаться и через SQL\n",
    "# Убедимся, что получили объект типа DataFrame\n",
    "type(dfAusAuto)"
   ]
  },
  {
   "cell_type": "code",
   "execution_count": 16,
   "metadata": {
    "colab": {
     "base_uri": "https://localhost:8080/",
     "height": 531
    },
    "colab_type": "code",
    "execution": {
     "iopub.execute_input": "2020-12-07T07:38:08.097459Z",
     "iopub.status.busy": "2020-12-07T07:38:08.096602Z",
     "iopub.status.idle": "2020-12-07T07:38:08.113525Z",
     "shell.execute_reply": "2020-12-07T07:38:08.114220Z"
    },
    "executionInfo": {
     "elapsed": 1219,
     "status": "ok",
     "timestamp": 1600105686674,
     "user": {
      "displayName": "Frank Shikhaliev",
      "photoUrl": "https://lh3.googleusercontent.com/a-/AOh14Gh4zzgfDDbTXC_ptmv1b90BAxa2ojP--8VkZoIhVg=s64",
      "userId": "01266577514402258000"
     },
     "user_tz": -180
    },
    "id": "auqYl6dDe2mg",
    "outputId": "25153c9e-92dd-4475-c520-589697e77418",
    "papermill": {
     "duration": 0.112295,
     "end_time": "2020-12-07T07:38:08.114422",
     "exception": false,
     "start_time": "2020-12-07T07:38:08.002127",
     "status": "completed"
    },
    "tags": []
   },
   "outputs": [
    {
     "data": {
      "text/html": [
       "<div>\n",
       "<style scoped>\n",
       "    .dataframe tbody tr th:only-of-type {\n",
       "        vertical-align: middle;\n",
       "    }\n",
       "\n",
       "    .dataframe tbody tr th {\n",
       "        vertical-align: top;\n",
       "    }\n",
       "\n",
       "    .dataframe thead th {\n",
       "        text-align: right;\n",
       "    }\n",
       "</style>\n",
       "<table border=\"1\" class=\"dataframe\">\n",
       "  <thead>\n",
       "    <tr style=\"text-align: right;\">\n",
       "      <th></th>\n",
       "      <th>AccDate</th>\n",
       "      <th>ReportDate</th>\n",
       "      <th>FinDate</th>\n",
       "      <th>AccMth</th>\n",
       "      <th>ReportMth</th>\n",
       "      <th>FinMth</th>\n",
       "      <th>OpTime</th>\n",
       "      <th>InjType1</th>\n",
       "      <th>InjType2</th>\n",
       "      <th>InjType3</th>\n",
       "      <th>InjType4</th>\n",
       "      <th>InjType5</th>\n",
       "      <th>InjNb</th>\n",
       "      <th>Legal</th>\n",
       "      <th>AggClaim</th>\n",
       "    </tr>\n",
       "  </thead>\n",
       "  <tbody>\n",
       "    <tr>\n",
       "      <th>0</th>\n",
       "      <td>1993-08-01</td>\n",
       "      <td>1993-09-01</td>\n",
       "      <td>1993-10-01</td>\n",
       "      <td>50</td>\n",
       "      <td>51</td>\n",
       "      <td>52</td>\n",
       "      <td>0.1</td>\n",
       "      <td>minor injury</td>\n",
       "      <td>NaN</td>\n",
       "      <td>NaN</td>\n",
       "      <td>NaN</td>\n",
       "      <td>NaN</td>\n",
       "      <td>1</td>\n",
       "      <td>No</td>\n",
       "      <td>87.75</td>\n",
       "    </tr>\n",
       "    <tr>\n",
       "      <th>1</th>\n",
       "      <td>1993-12-01</td>\n",
       "      <td>1994-01-01</td>\n",
       "      <td>1994-02-01</td>\n",
       "      <td>54</td>\n",
       "      <td>55</td>\n",
       "      <td>56</td>\n",
       "      <td>0.1</td>\n",
       "      <td>minor injury</td>\n",
       "      <td>NaN</td>\n",
       "      <td>NaN</td>\n",
       "      <td>NaN</td>\n",
       "      <td>NaN</td>\n",
       "      <td>1</td>\n",
       "      <td>No</td>\n",
       "      <td>353.62</td>\n",
       "    </tr>\n",
       "    <tr>\n",
       "      <th>2</th>\n",
       "      <td>1994-01-01</td>\n",
       "      <td>1994-01-01</td>\n",
       "      <td>1994-02-01</td>\n",
       "      <td>55</td>\n",
       "      <td>55</td>\n",
       "      <td>56</td>\n",
       "      <td>0.1</td>\n",
       "      <td>minor injury</td>\n",
       "      <td>NaN</td>\n",
       "      <td>NaN</td>\n",
       "      <td>NaN</td>\n",
       "      <td>NaN</td>\n",
       "      <td>1</td>\n",
       "      <td>No</td>\n",
       "      <td>688.83</td>\n",
       "    </tr>\n",
       "    <tr>\n",
       "      <th>3</th>\n",
       "      <td>1994-04-01</td>\n",
       "      <td>1994-04-01</td>\n",
       "      <td>1994-05-01</td>\n",
       "      <td>58</td>\n",
       "      <td>58</td>\n",
       "      <td>59</td>\n",
       "      <td>0.1</td>\n",
       "      <td>minor injury</td>\n",
       "      <td>NaN</td>\n",
       "      <td>NaN</td>\n",
       "      <td>NaN</td>\n",
       "      <td>NaN</td>\n",
       "      <td>1</td>\n",
       "      <td>No</td>\n",
       "      <td>172.80</td>\n",
       "    </tr>\n",
       "    <tr>\n",
       "      <th>4</th>\n",
       "      <td>1994-08-01</td>\n",
       "      <td>1994-09-01</td>\n",
       "      <td>1994-09-01</td>\n",
       "      <td>62</td>\n",
       "      <td>63</td>\n",
       "      <td>63</td>\n",
       "      <td>0.1</td>\n",
       "      <td>minor injury</td>\n",
       "      <td>NaN</td>\n",
       "      <td>NaN</td>\n",
       "      <td>NaN</td>\n",
       "      <td>NaN</td>\n",
       "      <td>1</td>\n",
       "      <td>No</td>\n",
       "      <td>43.29</td>\n",
       "    </tr>\n",
       "    <tr>\n",
       "      <th>5</th>\n",
       "      <td>1994-12-01</td>\n",
       "      <td>1995-01-01</td>\n",
       "      <td>1995-01-01</td>\n",
       "      <td>66</td>\n",
       "      <td>67</td>\n",
       "      <td>67</td>\n",
       "      <td>0.1</td>\n",
       "      <td>fatal injury</td>\n",
       "      <td>NaN</td>\n",
       "      <td>NaN</td>\n",
       "      <td>NaN</td>\n",
       "      <td>NaN</td>\n",
       "      <td>1</td>\n",
       "      <td>No</td>\n",
       "      <td>2915.43</td>\n",
       "    </tr>\n",
       "    <tr>\n",
       "      <th>6</th>\n",
       "      <td>1995-02-01</td>\n",
       "      <td>1995-02-01</td>\n",
       "      <td>1995-03-01</td>\n",
       "      <td>68</td>\n",
       "      <td>68</td>\n",
       "      <td>69</td>\n",
       "      <td>0.1</td>\n",
       "      <td>minor injury</td>\n",
       "      <td>small injury</td>\n",
       "      <td>minor injury</td>\n",
       "      <td>NaN</td>\n",
       "      <td>NaN</td>\n",
       "      <td>3</td>\n",
       "      <td>No</td>\n",
       "      <td>496.16</td>\n",
       "    </tr>\n",
       "    <tr>\n",
       "      <th>7</th>\n",
       "      <td>1995-05-01</td>\n",
       "      <td>1995-05-01</td>\n",
       "      <td>1995-07-01</td>\n",
       "      <td>71</td>\n",
       "      <td>71</td>\n",
       "      <td>73</td>\n",
       "      <td>0.1</td>\n",
       "      <td>minor injury</td>\n",
       "      <td>minor injury</td>\n",
       "      <td>minor injury</td>\n",
       "      <td>small injury</td>\n",
       "      <td>NaN</td>\n",
       "      <td>4</td>\n",
       "      <td>No</td>\n",
       "      <td>1593.20</td>\n",
       "    </tr>\n",
       "    <tr>\n",
       "      <th>8</th>\n",
       "      <td>1995-08-01</td>\n",
       "      <td>1995-08-01</td>\n",
       "      <td>1995-09-01</td>\n",
       "      <td>74</td>\n",
       "      <td>74</td>\n",
       "      <td>75</td>\n",
       "      <td>0.1</td>\n",
       "      <td>minor injury</td>\n",
       "      <td>minor injury</td>\n",
       "      <td>NaN</td>\n",
       "      <td>NaN</td>\n",
       "      <td>NaN</td>\n",
       "      <td>2</td>\n",
       "      <td>No</td>\n",
       "      <td>122.87</td>\n",
       "    </tr>\n",
       "    <tr>\n",
       "      <th>9</th>\n",
       "      <td>1995-11-01</td>\n",
       "      <td>1995-11-01</td>\n",
       "      <td>1995-12-01</td>\n",
       "      <td>77</td>\n",
       "      <td>77</td>\n",
       "      <td>78</td>\n",
       "      <td>0.1</td>\n",
       "      <td>minor injury</td>\n",
       "      <td>NaN</td>\n",
       "      <td>NaN</td>\n",
       "      <td>NaN</td>\n",
       "      <td>NaN</td>\n",
       "      <td>1</td>\n",
       "      <td>No</td>\n",
       "      <td>1943.10</td>\n",
       "    </tr>\n",
       "  </tbody>\n",
       "</table>\n",
       "</div>"
      ],
      "text/plain": [
       "      AccDate  ReportDate     FinDate  AccMth  ReportMth  FinMth  OpTime  \\\n",
       "0  1993-08-01  1993-09-01  1993-10-01      50         51      52     0.1   \n",
       "1  1993-12-01  1994-01-01  1994-02-01      54         55      56     0.1   \n",
       "2  1994-01-01  1994-01-01  1994-02-01      55         55      56     0.1   \n",
       "3  1994-04-01  1994-04-01  1994-05-01      58         58      59     0.1   \n",
       "4  1994-08-01  1994-09-01  1994-09-01      62         63      63     0.1   \n",
       "5  1994-12-01  1995-01-01  1995-01-01      66         67      67     0.1   \n",
       "6  1995-02-01  1995-02-01  1995-03-01      68         68      69     0.1   \n",
       "7  1995-05-01  1995-05-01  1995-07-01      71         71      73     0.1   \n",
       "8  1995-08-01  1995-08-01  1995-09-01      74         74      75     0.1   \n",
       "9  1995-11-01  1995-11-01  1995-12-01      77         77      78     0.1   \n",
       "\n",
       "       InjType1      InjType2      InjType3      InjType4 InjType5  InjNb  \\\n",
       "0  minor injury           NaN           NaN           NaN      NaN      1   \n",
       "1  minor injury           NaN           NaN           NaN      NaN      1   \n",
       "2  minor injury           NaN           NaN           NaN      NaN      1   \n",
       "3  minor injury           NaN           NaN           NaN      NaN      1   \n",
       "4  minor injury           NaN           NaN           NaN      NaN      1   \n",
       "5  fatal injury           NaN           NaN           NaN      NaN      1   \n",
       "6  minor injury  small injury  minor injury           NaN      NaN      3   \n",
       "7  minor injury  minor injury  minor injury  small injury      NaN      4   \n",
       "8  minor injury  minor injury           NaN           NaN      NaN      2   \n",
       "9  minor injury           NaN           NaN           NaN      NaN      1   \n",
       "\n",
       "  Legal  AggClaim  \n",
       "0    No     87.75  \n",
       "1    No    353.62  \n",
       "2    No    688.83  \n",
       "3    No    172.80  \n",
       "4    No     43.29  \n",
       "5    No   2915.43  \n",
       "6    No    496.16  \n",
       "7    No   1593.20  \n",
       "8    No    122.87  \n",
       "9    No   1943.10  "
      ]
     },
     "execution_count": 16,
     "metadata": {},
     "output_type": "execute_result"
    }
   ],
   "source": [
    "# Выведем первые 10 строк\n",
    "dfAusAuto.head(10)"
   ]
  },
  {
   "cell_type": "code",
   "execution_count": 17,
   "metadata": {
    "colab": {
     "base_uri": "https://localhost:8080/",
     "height": 491
    },
    "colab_type": "code",
    "execution": {
     "iopub.execute_input": "2020-12-07T07:38:08.283045Z",
     "iopub.status.busy": "2020-12-07T07:38:08.282164Z",
     "iopub.status.idle": "2020-12-07T07:38:08.308088Z",
     "shell.execute_reply": "2020-12-07T07:38:08.308781Z"
    },
    "executionInfo": {
     "elapsed": 1113,
     "status": "ok",
     "timestamp": 1600105832032,
     "user": {
      "displayName": "Frank Shikhaliev",
      "photoUrl": "https://lh3.googleusercontent.com/a-/AOh14Gh4zzgfDDbTXC_ptmv1b90BAxa2ojP--8VkZoIhVg=s64",
      "userId": "01266577514402258000"
     },
     "user_tz": -180
    },
    "id": "qkFDMC7ne2mw",
    "outputId": "4c1ad78d-b66c-44c6-d888-85b2e13300e9",
    "papermill": {
     "duration": 0.106236,
     "end_time": "2020-12-07T07:38:08.309044",
     "exception": false,
     "start_time": "2020-12-07T07:38:08.202808",
     "status": "completed"
    },
    "tags": []
   },
   "outputs": [
    {
     "data": {
      "text/html": [
       "<div>\n",
       "<style scoped>\n",
       "    .dataframe tbody tr th:only-of-type {\n",
       "        vertical-align: middle;\n",
       "    }\n",
       "\n",
       "    .dataframe tbody tr th {\n",
       "        vertical-align: top;\n",
       "    }\n",
       "\n",
       "    .dataframe thead th {\n",
       "        text-align: right;\n",
       "    }\n",
       "</style>\n",
       "<table border=\"1\" class=\"dataframe\">\n",
       "  <thead>\n",
       "    <tr style=\"text-align: right;\">\n",
       "      <th></th>\n",
       "      <th>18869</th>\n",
       "      <th>17976</th>\n",
       "    </tr>\n",
       "  </thead>\n",
       "  <tbody>\n",
       "    <tr>\n",
       "      <th>AccDate</th>\n",
       "      <td>1995-04-01</td>\n",
       "      <td>1994-12-01</td>\n",
       "    </tr>\n",
       "    <tr>\n",
       "      <th>ReportDate</th>\n",
       "      <td>1995-05-01</td>\n",
       "      <td>1995-01-01</td>\n",
       "    </tr>\n",
       "    <tr>\n",
       "      <th>FinDate</th>\n",
       "      <td>1998-10-01</td>\n",
       "      <td>1998-03-01</td>\n",
       "    </tr>\n",
       "    <tr>\n",
       "      <th>AccMth</th>\n",
       "      <td>70</td>\n",
       "      <td>66</td>\n",
       "    </tr>\n",
       "    <tr>\n",
       "      <th>ReportMth</th>\n",
       "      <td>71</td>\n",
       "      <td>67</td>\n",
       "    </tr>\n",
       "    <tr>\n",
       "      <th>FinMth</th>\n",
       "      <td>112</td>\n",
       "      <td>105</td>\n",
       "    </tr>\n",
       "    <tr>\n",
       "      <th>OpTime</th>\n",
       "      <td>79.5</td>\n",
       "      <td>75.7</td>\n",
       "    </tr>\n",
       "    <tr>\n",
       "      <th>InjType1</th>\n",
       "      <td>fatal injury</td>\n",
       "      <td>severe injury</td>\n",
       "    </tr>\n",
       "    <tr>\n",
       "      <th>InjType2</th>\n",
       "      <td>NaN</td>\n",
       "      <td>NaN</td>\n",
       "    </tr>\n",
       "    <tr>\n",
       "      <th>InjType3</th>\n",
       "      <td>NaN</td>\n",
       "      <td>NaN</td>\n",
       "    </tr>\n",
       "    <tr>\n",
       "      <th>InjType4</th>\n",
       "      <td>NaN</td>\n",
       "      <td>NaN</td>\n",
       "    </tr>\n",
       "    <tr>\n",
       "      <th>InjType5</th>\n",
       "      <td>NaN</td>\n",
       "      <td>NaN</td>\n",
       "    </tr>\n",
       "    <tr>\n",
       "      <th>InjNb</th>\n",
       "      <td>1</td>\n",
       "      <td>1</td>\n",
       "    </tr>\n",
       "    <tr>\n",
       "      <th>Legal</th>\n",
       "      <td>Yes</td>\n",
       "      <td>No</td>\n",
       "    </tr>\n",
       "    <tr>\n",
       "      <th>AggClaim</th>\n",
       "      <td>4.4858e+06</td>\n",
       "      <td>2.79836e+06</td>\n",
       "    </tr>\n",
       "  </tbody>\n",
       "</table>\n",
       "</div>"
      ],
      "text/plain": [
       "                   18869          17976\n",
       "AccDate       1995-04-01     1994-12-01\n",
       "ReportDate    1995-05-01     1995-01-01\n",
       "FinDate       1998-10-01     1998-03-01\n",
       "AccMth                70             66\n",
       "ReportMth             71             67\n",
       "FinMth               112            105\n",
       "OpTime              79.5           75.7\n",
       "InjType1    fatal injury  severe injury\n",
       "InjType2             NaN            NaN\n",
       "InjType3             NaN            NaN\n",
       "InjType4             NaN            NaN\n",
       "InjType5             NaN            NaN\n",
       "InjNb                  1              1\n",
       "Legal                Yes             No\n",
       "AggClaim      4.4858e+06    2.79836e+06"
      ]
     },
     "execution_count": 17,
     "metadata": {},
     "output_type": "execute_result"
    }
   ],
   "source": [
    "# Мы можем отсортировать вывод DataFrame с помощью sort_values()\n",
    "# Посмотрим на 10 строк с максимальной суммой \"AggClaim\" (т.е. отсортируем по убыванию, ascending=False)\n",
    "# Обратите внимание, что результат сортировки не сохраняется в исходном объекте DataFrame\n",
    "# Для того, чтобы отсортировать DataFrame с сохранением результата в том же объекте,\n",
    "# используется атрибут inplace: DF.sort_values(by=['ColumnName'], inplace=True).\n",
    "dfAusAuto.sort_values(by=['AggClaim'], ascending=False).head(10).head(2).T"
   ]
  },
  {
   "cell_type": "code",
   "execution_count": 18,
   "metadata": {
    "colab": {
     "base_uri": "https://localhost:8080/",
     "height": 87
    },
    "colab_type": "code",
    "execution": {
     "iopub.execute_input": "2020-12-07T07:38:08.472535Z",
     "iopub.status.busy": "2020-12-07T07:38:08.471268Z",
     "iopub.status.idle": "2020-12-07T07:38:08.475056Z",
     "shell.execute_reply": "2020-12-07T07:38:08.475935Z"
    },
    "executionInfo": {
     "elapsed": 1298,
     "status": "ok",
     "timestamp": 1600105862027,
     "user": {
      "displayName": "Frank Shikhaliev",
      "photoUrl": "https://lh3.googleusercontent.com/a-/AOh14Gh4zzgfDDbTXC_ptmv1b90BAxa2ojP--8VkZoIhVg=s64",
      "userId": "01266577514402258000"
     },
     "user_tz": -180
    },
    "id": "3A-RKxxfe2nH",
    "outputId": "e33897fb-8a74-46e5-cdc1-5cb886bea3ce",
    "papermill": {
     "duration": 0.088944,
     "end_time": "2020-12-07T07:38:08.476157",
     "exception": false,
     "start_time": "2020-12-07T07:38:08.387213",
     "status": "completed"
    },
    "tags": []
   },
   "outputs": [
    {
     "data": {
      "text/plain": [
       "Index(['AccDate', 'ReportDate', 'FinDate', 'AccMth', 'ReportMth', 'FinMth',\n",
       "       'OpTime', 'InjType1', 'InjType2', 'InjType3', 'InjType4', 'InjType5',\n",
       "       'InjNb', 'Legal', 'AggClaim'],\n",
       "      dtype='object')"
      ]
     },
     "execution_count": 18,
     "metadata": {},
     "output_type": "execute_result"
    }
   ],
   "source": [
    "# Выведем названия всех столбцов\n",
    "dfAusAuto.columns"
   ]
  },
  {
   "cell_type": "code",
   "execution_count": 19,
   "metadata": {
    "colab": {
     "base_uri": "https://localhost:8080/",
     "height": 34
    },
    "colab_type": "code",
    "execution": {
     "iopub.execute_input": "2020-12-07T07:38:08.643454Z",
     "iopub.status.busy": "2020-12-07T07:38:08.642425Z",
     "iopub.status.idle": "2020-12-07T07:38:08.646086Z",
     "shell.execute_reply": "2020-12-07T07:38:08.646861Z"
    },
    "executionInfo": {
     "elapsed": 1042,
     "status": "ok",
     "timestamp": 1600105866862,
     "user": {
      "displayName": "Frank Shikhaliev",
      "photoUrl": "https://lh3.googleusercontent.com/a-/AOh14Gh4zzgfDDbTXC_ptmv1b90BAxa2ojP--8VkZoIhVg=s64",
      "userId": "01266577514402258000"
     },
     "user_tz": -180
    },
    "id": "XdrTXj_me2nX",
    "outputId": "737a3c80-bd54-4cab-e716-7ab68305f57c",
    "papermill": {
     "duration": 0.091937,
     "end_time": "2020-12-07T07:38:08.647082",
     "exception": false,
     "start_time": "2020-12-07T07:38:08.555145",
     "status": "completed"
    },
    "tags": []
   },
   "outputs": [
    {
     "data": {
      "text/plain": [
       "RangeIndex(start=0, stop=22036, step=1)"
      ]
     },
     "execution_count": 19,
     "metadata": {},
     "output_type": "execute_result"
    }
   ],
   "source": [
    "# Можно также вывести индексы\n",
    "dfAusAuto.index"
   ]
  },
  {
   "cell_type": "code",
   "execution_count": 20,
   "metadata": {
    "colab": {
     "base_uri": "https://localhost:8080/",
     "height": 206
    },
    "colab_type": "code",
    "execution": {
     "iopub.execute_input": "2020-12-07T07:38:08.831438Z",
     "iopub.status.busy": "2020-12-07T07:38:08.830591Z",
     "iopub.status.idle": "2020-12-07T07:38:08.834491Z",
     "shell.execute_reply": "2020-12-07T07:38:08.835170Z"
    },
    "executionInfo": {
     "elapsed": 1828,
     "status": "ok",
     "timestamp": 1600105915404,
     "user": {
      "displayName": "Frank Shikhaliev",
      "photoUrl": "https://lh3.googleusercontent.com/a-/AOh14Gh4zzgfDDbTXC_ptmv1b90BAxa2ojP--8VkZoIhVg=s64",
      "userId": "01266577514402258000"
     },
     "user_tz": -180
    },
    "id": "0btR2Sr2e2nn",
    "outputId": "3357a8bf-a3e6-4780-91dc-af56088a4fac",
    "papermill": {
     "duration": 0.110443,
     "end_time": "2020-12-07T07:38:08.835374",
     "exception": false,
     "start_time": "2020-12-07T07:38:08.724931",
     "status": "completed"
    },
    "tags": []
   },
   "outputs": [
    {
     "data": {
      "text/html": [
       "<div>\n",
       "<style scoped>\n",
       "    .dataframe tbody tr th:only-of-type {\n",
       "        vertical-align: middle;\n",
       "    }\n",
       "\n",
       "    .dataframe tbody tr th {\n",
       "        vertical-align: top;\n",
       "    }\n",
       "\n",
       "    .dataframe thead th {\n",
       "        text-align: right;\n",
       "    }\n",
       "</style>\n",
       "<table border=\"1\" class=\"dataframe\">\n",
       "  <thead>\n",
       "    <tr style=\"text-align: right;\">\n",
       "      <th></th>\n",
       "      <th>AccDate</th>\n",
       "      <th>ReportDate</th>\n",
       "      <th>FinDate</th>\n",
       "      <th>AccMth</th>\n",
       "      <th>ReportMth</th>\n",
       "      <th>FinMth</th>\n",
       "      <th>OpTime</th>\n",
       "      <th>InjType1</th>\n",
       "      <th>InjType2</th>\n",
       "      <th>InjType3</th>\n",
       "      <th>InjType4</th>\n",
       "      <th>InjType5</th>\n",
       "      <th>InjNb</th>\n",
       "      <th>Legal</th>\n",
       "      <th>AggClaim</th>\n",
       "    </tr>\n",
       "  </thead>\n",
       "  <tbody>\n",
       "    <tr>\n",
       "      <th>22033</th>\n",
       "      <td>1990-08-01</td>\n",
       "      <td>1993-12-01</td>\n",
       "      <td>1999-02-01</td>\n",
       "      <td>14</td>\n",
       "      <td>54</td>\n",
       "      <td>116</td>\n",
       "      <td>98.9</td>\n",
       "      <td>minor injury</td>\n",
       "      <td>NaN</td>\n",
       "      <td>NaN</td>\n",
       "      <td>NaN</td>\n",
       "      <td>NaN</td>\n",
       "      <td>1</td>\n",
       "      <td>Yes</td>\n",
       "      <td>127141.44</td>\n",
       "    </tr>\n",
       "    <tr>\n",
       "      <th>22034</th>\n",
       "      <td>1989-11-01</td>\n",
       "      <td>1993-07-01</td>\n",
       "      <td>1999-02-01</td>\n",
       "      <td>5</td>\n",
       "      <td>49</td>\n",
       "      <td>116</td>\n",
       "      <td>99.0</td>\n",
       "      <td>medium injury</td>\n",
       "      <td>NaN</td>\n",
       "      <td>NaN</td>\n",
       "      <td>NaN</td>\n",
       "      <td>NaN</td>\n",
       "      <td>1</td>\n",
       "      <td>No</td>\n",
       "      <td>194911.81</td>\n",
       "    </tr>\n",
       "    <tr>\n",
       "      <th>22035</th>\n",
       "      <td>1989-10-01</td>\n",
       "      <td>1993-08-01</td>\n",
       "      <td>1999-01-01</td>\n",
       "      <td>4</td>\n",
       "      <td>50</td>\n",
       "      <td>115</td>\n",
       "      <td>99.1</td>\n",
       "      <td>minor injury</td>\n",
       "      <td>NaN</td>\n",
       "      <td>NaN</td>\n",
       "      <td>NaN</td>\n",
       "      <td>NaN</td>\n",
       "      <td>1</td>\n",
       "      <td>Yes</td>\n",
       "      <td>117562.73</td>\n",
       "    </tr>\n",
       "  </tbody>\n",
       "</table>\n",
       "</div>"
      ],
      "text/plain": [
       "          AccDate  ReportDate     FinDate  AccMth  ReportMth  FinMth  OpTime  \\\n",
       "22033  1990-08-01  1993-12-01  1999-02-01      14         54     116    98.9   \n",
       "22034  1989-11-01  1993-07-01  1999-02-01       5         49     116    99.0   \n",
       "22035  1989-10-01  1993-08-01  1999-01-01       4         50     115    99.1   \n",
       "\n",
       "            InjType1 InjType2 InjType3 InjType4 InjType5  InjNb Legal  \\\n",
       "22033   minor injury      NaN      NaN      NaN      NaN      1   Yes   \n",
       "22034  medium injury      NaN      NaN      NaN      NaN      1    No   \n",
       "22035   minor injury      NaN      NaN      NaN      NaN      1   Yes   \n",
       "\n",
       "        AggClaim  \n",
       "22033  127141.44  \n",
       "22034  194911.81  \n",
       "22035  117562.73  "
      ]
     },
     "execution_count": 20,
     "metadata": {},
     "output_type": "execute_result"
    }
   ],
   "source": [
    "# Другой вариант получения первых n строк: DataFrame[:n]\n",
    "# Аналогично, последние n строк DataFrame[-n:] (либо с помощью метода tail())\n",
    "# Выведем последние 3 строки\n",
    "dfAusAuto[-3:]"
   ]
  },
  {
   "cell_type": "code",
   "execution_count": 21,
   "metadata": {
    "colab": {},
    "colab_type": "code",
    "execution": {
     "iopub.execute_input": "2020-12-07T07:38:09.017233Z",
     "iopub.status.busy": "2020-12-07T07:38:09.016368Z",
     "iopub.status.idle": "2020-12-07T07:38:09.020971Z",
     "shell.execute_reply": "2020-12-07T07:38:09.020274Z"
    },
    "id": "sPNt1ohCe2n4",
    "outputId": "148acada-d555-4aca-cfe4-493a622bc378",
    "papermill": {
     "duration": 0.108771,
     "end_time": "2020-12-07T07:38:09.021157",
     "exception": false,
     "start_time": "2020-12-07T07:38:08.912386",
     "status": "completed"
    },
    "tags": []
   },
   "outputs": [
    {
     "data": {
      "text/html": [
       "<div>\n",
       "<style scoped>\n",
       "    .dataframe tbody tr th:only-of-type {\n",
       "        vertical-align: middle;\n",
       "    }\n",
       "\n",
       "    .dataframe tbody tr th {\n",
       "        vertical-align: top;\n",
       "    }\n",
       "\n",
       "    .dataframe thead th {\n",
       "        text-align: right;\n",
       "    }\n",
       "</style>\n",
       "<table border=\"1\" class=\"dataframe\">\n",
       "  <thead>\n",
       "    <tr style=\"text-align: right;\">\n",
       "      <th></th>\n",
       "      <th>AccDate</th>\n",
       "      <th>ReportDate</th>\n",
       "      <th>FinDate</th>\n",
       "      <th>AccMth</th>\n",
       "      <th>ReportMth</th>\n",
       "      <th>FinMth</th>\n",
       "      <th>OpTime</th>\n",
       "      <th>InjType1</th>\n",
       "      <th>InjType2</th>\n",
       "      <th>InjType3</th>\n",
       "      <th>InjType4</th>\n",
       "      <th>InjType5</th>\n",
       "      <th>InjNb</th>\n",
       "      <th>Legal</th>\n",
       "      <th>AggClaim</th>\n",
       "    </tr>\n",
       "  </thead>\n",
       "  <tbody>\n",
       "    <tr>\n",
       "      <th>1000</th>\n",
       "      <td>1996-09-01</td>\n",
       "      <td>1996-10-01</td>\n",
       "      <td>1997-03-01</td>\n",
       "      <td>87</td>\n",
       "      <td>88</td>\n",
       "      <td>93</td>\n",
       "      <td>4.2</td>\n",
       "      <td>minor injury</td>\n",
       "      <td>NaN</td>\n",
       "      <td>NaN</td>\n",
       "      <td>NaN</td>\n",
       "      <td>NaN</td>\n",
       "      <td>1</td>\n",
       "      <td>Yes</td>\n",
       "      <td>7904.23</td>\n",
       "    </tr>\n",
       "    <tr>\n",
       "      <th>1001</th>\n",
       "      <td>1996-10-01</td>\n",
       "      <td>1996-11-01</td>\n",
       "      <td>1997-04-01</td>\n",
       "      <td>88</td>\n",
       "      <td>89</td>\n",
       "      <td>94</td>\n",
       "      <td>4.2</td>\n",
       "      <td>minor injury</td>\n",
       "      <td>minor injury</td>\n",
       "      <td>NaN</td>\n",
       "      <td>NaN</td>\n",
       "      <td>NaN</td>\n",
       "      <td>2</td>\n",
       "      <td>No</td>\n",
       "      <td>3375.90</td>\n",
       "    </tr>\n",
       "    <tr>\n",
       "      <th>1002</th>\n",
       "      <td>1997-02-01</td>\n",
       "      <td>1997-03-01</td>\n",
       "      <td>1997-08-01</td>\n",
       "      <td>92</td>\n",
       "      <td>93</td>\n",
       "      <td>98</td>\n",
       "      <td>4.2</td>\n",
       "      <td>minor injury</td>\n",
       "      <td>minor injury</td>\n",
       "      <td>NaN</td>\n",
       "      <td>NaN</td>\n",
       "      <td>NaN</td>\n",
       "      <td>2</td>\n",
       "      <td>No</td>\n",
       "      <td>23647.33</td>\n",
       "    </tr>\n",
       "    <tr>\n",
       "      <th>1003</th>\n",
       "      <td>1997-06-01</td>\n",
       "      <td>1997-06-01</td>\n",
       "      <td>1997-12-01</td>\n",
       "      <td>96</td>\n",
       "      <td>96</td>\n",
       "      <td>102</td>\n",
       "      <td>4.2</td>\n",
       "      <td>minor injury</td>\n",
       "      <td>minor injury</td>\n",
       "      <td>minor injury</td>\n",
       "      <td>minor injury</td>\n",
       "      <td>NaN</td>\n",
       "      <td>4</td>\n",
       "      <td>No</td>\n",
       "      <td>3517.50</td>\n",
       "    </tr>\n",
       "    <tr>\n",
       "      <th>1004</th>\n",
       "      <td>1997-09-01</td>\n",
       "      <td>1997-10-01</td>\n",
       "      <td>1998-03-01</td>\n",
       "      <td>99</td>\n",
       "      <td>100</td>\n",
       "      <td>105</td>\n",
       "      <td>4.2</td>\n",
       "      <td>minor injury</td>\n",
       "      <td>minor injury</td>\n",
       "      <td>minor injury</td>\n",
       "      <td>NaN</td>\n",
       "      <td>NaN</td>\n",
       "      <td>3</td>\n",
       "      <td>No</td>\n",
       "      <td>5813.93</td>\n",
       "    </tr>\n",
       "  </tbody>\n",
       "</table>\n",
       "</div>"
      ],
      "text/plain": [
       "         AccDate  ReportDate     FinDate  AccMth  ReportMth  FinMth  OpTime  \\\n",
       "1000  1996-09-01  1996-10-01  1997-03-01      87         88      93     4.2   \n",
       "1001  1996-10-01  1996-11-01  1997-04-01      88         89      94     4.2   \n",
       "1002  1997-02-01  1997-03-01  1997-08-01      92         93      98     4.2   \n",
       "1003  1997-06-01  1997-06-01  1997-12-01      96         96     102     4.2   \n",
       "1004  1997-09-01  1997-10-01  1998-03-01      99        100     105     4.2   \n",
       "\n",
       "          InjType1      InjType2      InjType3      InjType4 InjType5  InjNb  \\\n",
       "1000  minor injury           NaN           NaN           NaN      NaN      1   \n",
       "1001  minor injury  minor injury           NaN           NaN      NaN      2   \n",
       "1002  minor injury  minor injury           NaN           NaN      NaN      2   \n",
       "1003  minor injury  minor injury  minor injury  minor injury      NaN      4   \n",
       "1004  minor injury  minor injury  minor injury           NaN      NaN      3   \n",
       "\n",
       "     Legal  AggClaim  \n",
       "1000   Yes   7904.23  \n",
       "1001    No   3375.90  \n",
       "1002    No  23647.33  \n",
       "1003    No   3517.50  \n",
       "1004    No   5813.93  "
      ]
     },
     "execution_count": 21,
     "metadata": {},
     "output_type": "execute_result"
    }
   ],
   "source": [
    "# Можно получить последовательность строк, например с 1000-й по 1004-ю\n",
    "dfAusAuto[1000:1005]"
   ]
  },
  {
   "cell_type": "code",
   "execution_count": 22,
   "metadata": {
    "colab": {},
    "colab_type": "code",
    "execution": {
     "iopub.execute_input": "2020-12-07T07:38:09.241197Z",
     "iopub.status.busy": "2020-12-07T07:38:09.240310Z",
     "iopub.status.idle": "2020-12-07T07:38:09.244121Z",
     "shell.execute_reply": "2020-12-07T07:38:09.244816Z"
    },
    "id": "3iSS-khVe2oJ",
    "outputId": "5d4b68ce-2f58-4649-ff73-4d3d7362c580",
    "papermill": {
     "duration": 0.108734,
     "end_time": "2020-12-07T07:38:09.245022",
     "exception": false,
     "start_time": "2020-12-07T07:38:09.136288",
     "status": "completed"
    },
    "tags": []
   },
   "outputs": [
    {
     "data": {
      "text/html": [
       "<div>\n",
       "<style scoped>\n",
       "    .dataframe tbody tr th:only-of-type {\n",
       "        vertical-align: middle;\n",
       "    }\n",
       "\n",
       "    .dataframe tbody tr th {\n",
       "        vertical-align: top;\n",
       "    }\n",
       "\n",
       "    .dataframe thead th {\n",
       "        text-align: right;\n",
       "    }\n",
       "</style>\n",
       "<table border=\"1\" class=\"dataframe\">\n",
       "  <thead>\n",
       "    <tr style=\"text-align: right;\">\n",
       "      <th></th>\n",
       "      <th>AccDate</th>\n",
       "      <th>AccMth</th>\n",
       "    </tr>\n",
       "  </thead>\n",
       "  <tbody>\n",
       "    <tr>\n",
       "      <th>0</th>\n",
       "      <td>1993-08-01</td>\n",
       "      <td>50</td>\n",
       "    </tr>\n",
       "    <tr>\n",
       "      <th>1</th>\n",
       "      <td>1993-12-01</td>\n",
       "      <td>54</td>\n",
       "    </tr>\n",
       "    <tr>\n",
       "      <th>2</th>\n",
       "      <td>1994-01-01</td>\n",
       "      <td>55</td>\n",
       "    </tr>\n",
       "  </tbody>\n",
       "</table>\n",
       "</div>"
      ],
      "text/plain": [
       "      AccDate  AccMth\n",
       "0  1993-08-01      50\n",
       "1  1993-12-01      54\n",
       "2  1994-01-01      55"
      ]
     },
     "execution_count": 22,
     "metadata": {},
     "output_type": "execute_result"
    }
   ],
   "source": [
    "# Также можно выбрать набор столбцов\n",
    "# Выведем первые 3 строки столбцов AccDate и AccMth\n",
    "dfAusAuto[['AccDate', 'AccMth']][:3]"
   ]
  },
  {
   "cell_type": "code",
   "execution_count": 23,
   "metadata": {
    "colab": {
     "base_uri": "https://localhost:8080/",
     "height": 77
    },
    "colab_type": "code",
    "execution": {
     "iopub.execute_input": "2020-12-07T07:38:09.417032Z",
     "iopub.status.busy": "2020-12-07T07:38:09.416118Z",
     "iopub.status.idle": "2020-12-07T07:38:09.419953Z",
     "shell.execute_reply": "2020-12-07T07:38:09.420643Z"
    },
    "executionInfo": {
     "elapsed": 980,
     "status": "ok",
     "timestamp": 1600106216877,
     "user": {
      "displayName": "Frank Shikhaliev",
      "photoUrl": "https://lh3.googleusercontent.com/a-/AOh14Gh4zzgfDDbTXC_ptmv1b90BAxa2ojP--8VkZoIhVg=s64",
      "userId": "01266577514402258000"
     },
     "user_tz": -180
    },
    "id": "DB9PqjZse2oV",
    "outputId": "f20a2daa-2ba9-4804-d95d-612c016af70a",
    "papermill": {
     "duration": 0.097296,
     "end_time": "2020-12-07T07:38:09.420857",
     "exception": false,
     "start_time": "2020-12-07T07:38:09.323561",
     "status": "completed"
    },
    "tags": []
   },
   "outputs": [
    {
     "data": {
      "text/html": [
       "<div>\n",
       "<style scoped>\n",
       "    .dataframe tbody tr th:only-of-type {\n",
       "        vertical-align: middle;\n",
       "    }\n",
       "\n",
       "    .dataframe tbody tr th {\n",
       "        vertical-align: top;\n",
       "    }\n",
       "\n",
       "    .dataframe thead th {\n",
       "        text-align: right;\n",
       "    }\n",
       "</style>\n",
       "<table border=\"1\" class=\"dataframe\">\n",
       "  <thead>\n",
       "    <tr style=\"text-align: right;\">\n",
       "      <th></th>\n",
       "      <th>InjNb</th>\n",
       "      <th>AggClaim</th>\n",
       "    </tr>\n",
       "  </thead>\n",
       "  <tbody>\n",
       "    <tr>\n",
       "      <th>20</th>\n",
       "      <td>1</td>\n",
       "      <td>30.0</td>\n",
       "    </tr>\n",
       "  </tbody>\n",
       "</table>\n",
       "</div>"
      ],
      "text/plain": [
       "    InjNb  AggClaim\n",
       "20      1      30.0"
      ]
     },
     "execution_count": 23,
     "metadata": {},
     "output_type": "execute_result"
    }
   ],
   "source": [
    "# Для того, чтобы вывести строки по меткам индексов и столбцы по именам, воспользуемся loc\n",
    "# Выведем строки с метками индекса с 20 по 22 (как и в Series метки индекса могут быть,\n",
    "# например, строками, или датами); и столбцы с именами InjNb и AggClaim\n",
    "dfAusAuto.loc[20:22, ['InjNb', 'AggClaim']].head(1)"
   ]
  },
  {
   "cell_type": "code",
   "execution_count": 24,
   "metadata": {
    "colab": {},
    "colab_type": "code",
    "execution": {
     "iopub.execute_input": "2020-12-07T07:38:09.599324Z",
     "iopub.status.busy": "2020-12-07T07:38:09.598433Z",
     "iopub.status.idle": "2020-12-07T07:38:09.602153Z",
     "shell.execute_reply": "2020-12-07T07:38:09.602849Z"
    },
    "id": "xTGrvvLSe2ok",
    "outputId": "8f7b0dae-a2b2-476e-c036-a60dc8530dd9",
    "papermill": {
     "duration": 0.101574,
     "end_time": "2020-12-07T07:38:09.603098",
     "exception": false,
     "start_time": "2020-12-07T07:38:09.501524",
     "status": "completed"
    },
    "tags": []
   },
   "outputs": [
    {
     "data": {
      "text/html": [
       "<div>\n",
       "<style scoped>\n",
       "    .dataframe tbody tr th:only-of-type {\n",
       "        vertical-align: middle;\n",
       "    }\n",
       "\n",
       "    .dataframe tbody tr th {\n",
       "        vertical-align: top;\n",
       "    }\n",
       "\n",
       "    .dataframe thead th {\n",
       "        text-align: right;\n",
       "    }\n",
       "</style>\n",
       "<table border=\"1\" class=\"dataframe\">\n",
       "  <thead>\n",
       "    <tr style=\"text-align: right;\">\n",
       "      <th></th>\n",
       "      <th>InjType1</th>\n",
       "      <th>InjType2</th>\n",
       "      <th>InjType3</th>\n",
       "      <th>InjType4</th>\n",
       "      <th>InjType5</th>\n",
       "      <th>InjNb</th>\n",
       "    </tr>\n",
       "  </thead>\n",
       "  <tbody>\n",
       "    <tr>\n",
       "      <th>30</th>\n",
       "      <td>minor injury</td>\n",
       "      <td>minor injury</td>\n",
       "      <td>minor injury</td>\n",
       "      <td>minor injury</td>\n",
       "      <td>minor injury</td>\n",
       "      <td>5</td>\n",
       "    </tr>\n",
       "    <tr>\n",
       "      <th>31</th>\n",
       "      <td>minor injury</td>\n",
       "      <td>NaN</td>\n",
       "      <td>NaN</td>\n",
       "      <td>NaN</td>\n",
       "      <td>NaN</td>\n",
       "      <td>1</td>\n",
       "    </tr>\n",
       "    <tr>\n",
       "      <th>32</th>\n",
       "      <td>minor injury</td>\n",
       "      <td>NaN</td>\n",
       "      <td>NaN</td>\n",
       "      <td>NaN</td>\n",
       "      <td>NaN</td>\n",
       "      <td>1</td>\n",
       "    </tr>\n",
       "    <tr>\n",
       "      <th>33</th>\n",
       "      <td>minor injury</td>\n",
       "      <td>NaN</td>\n",
       "      <td>NaN</td>\n",
       "      <td>NaN</td>\n",
       "      <td>NaN</td>\n",
       "      <td>1</td>\n",
       "    </tr>\n",
       "    <tr>\n",
       "      <th>34</th>\n",
       "      <td>minor injury</td>\n",
       "      <td>minor injury</td>\n",
       "      <td>NaN</td>\n",
       "      <td>NaN</td>\n",
       "      <td>NaN</td>\n",
       "      <td>2</td>\n",
       "    </tr>\n",
       "  </tbody>\n",
       "</table>\n",
       "</div>"
      ],
      "text/plain": [
       "        InjType1      InjType2      InjType3      InjType4      InjType5  \\\n",
       "30  minor injury  minor injury  minor injury  minor injury  minor injury   \n",
       "31  minor injury           NaN           NaN           NaN           NaN   \n",
       "32  minor injury           NaN           NaN           NaN           NaN   \n",
       "33  minor injury           NaN           NaN           NaN           NaN   \n",
       "34  minor injury  minor injury           NaN           NaN           NaN   \n",
       "\n",
       "    InjNb  \n",
       "30      5  \n",
       "31      1  \n",
       "32      1  \n",
       "33      1  \n",
       "34      2  "
      ]
     },
     "execution_count": 24,
     "metadata": {},
     "output_type": "execute_result"
    }
   ],
   "source": [
    "# Для того, чтобы получить строки и столбцы по номерам, используем iloc\n",
    "# Выведем строки с 30-й по 34-ю и столбцы с 7-го по 12-й (нумерация начинается с 0)\n",
    "dfAusAuto.iloc[30:35, 7:13]"
   ]
  },
  {
   "cell_type": "code",
   "execution_count": 25,
   "metadata": {
    "colab": {
     "base_uri": "https://localhost:8080/",
     "height": 34
    },
    "colab_type": "code",
    "execution": {
     "iopub.execute_input": "2020-12-07T07:38:09.787246Z",
     "iopub.status.busy": "2020-12-07T07:38:09.786255Z",
     "iopub.status.idle": "2020-12-07T07:38:09.794255Z",
     "shell.execute_reply": "2020-12-07T07:38:09.793474Z"
    },
    "executionInfo": {
     "elapsed": 1206,
     "status": "ok",
     "timestamp": 1600106339665,
     "user": {
      "displayName": "Frank Shikhaliev",
      "photoUrl": "https://lh3.googleusercontent.com/a-/AOh14Gh4zzgfDDbTXC_ptmv1b90BAxa2ojP--8VkZoIhVg=s64",
      "userId": "01266577514402258000"
     },
     "user_tz": -180
    },
    "id": "ex_mTeJEe2oy",
    "outputId": "2acc42a9-23a7-4edb-e325-c87efc87608b",
    "papermill": {
     "duration": 0.109919,
     "end_time": "2020-12-07T07:38:09.794458",
     "exception": false,
     "start_time": "2020-12-07T07:38:09.684539",
     "status": "completed"
    },
    "tags": []
   },
   "outputs": [
    {
     "data": {
      "text/plain": [
       "57502.32249634681"
      ]
     },
     "execution_count": 25,
     "metadata": {},
     "output_type": "execute_result"
    }
   ],
   "source": [
    "# Можно выбрать только те строки, значения столбцов в которых удовлетворяют определённым условиям\n",
    "# Выберем строки, количество пострадавших в которых больше 3-х,\n",
    "# и посчитаем среднюю сумму (AggClaim) по этим строкам\n",
    "dfAusAuto[dfAusAuto['InjNb'] > 3]['AggClaim'].mean()"
   ]
  },
  {
   "cell_type": "markdown",
   "metadata": {
    "colab_type": "text",
    "id": "Cy12G-CGe2pE",
    "papermill": {
     "duration": 0.080015,
     "end_time": "2020-12-07T07:38:09.956256",
     "exception": false,
     "start_time": "2020-12-07T07:38:09.876241",
     "status": "completed"
    },
    "tags": []
   },
   "source": [
    "#### 1.1.3 Подготовка данных для моделирования. Очистка данных. Работа с пропущенными значениями."
   ]
  },
  {
   "cell_type": "code",
   "execution_count": 26,
   "metadata": {
    "colab": {},
    "colab_type": "code",
    "execution": {
     "iopub.execute_input": "2020-12-07T07:38:10.128341Z",
     "iopub.status.busy": "2020-12-07T07:38:10.127497Z",
     "iopub.status.idle": "2020-12-07T07:38:10.131241Z",
     "shell.execute_reply": "2020-12-07T07:38:10.131934Z"
    },
    "id": "tRQ6JBO1e2pH",
    "outputId": "2a6dee6b-c1da-4554-a2bd-8088a508fa79",
    "papermill": {
     "duration": 0.094916,
     "end_time": "2020-12-07T07:38:10.132140",
     "exception": false,
     "start_time": "2020-12-07T07:38:10.037224",
     "status": "completed"
    },
    "tags": []
   },
   "outputs": [
    {
     "data": {
      "text/plain": [
       "AccDate        object\n",
       "ReportDate     object\n",
       "FinDate        object\n",
       "AccMth          int64\n",
       "ReportMth       int64\n",
       "FinMth          int64\n",
       "OpTime        float64\n",
       "InjType1       object\n",
       "InjType2       object\n",
       "InjType3       object\n",
       "InjType4       object\n",
       "InjType5       object\n",
       "InjNb           int64\n",
       "Legal          object\n",
       "AggClaim      float64\n",
       "dtype: object"
      ]
     },
     "execution_count": 26,
     "metadata": {},
     "output_type": "execute_result"
    }
   ],
   "source": [
    "# Посмотрим, какие типы сейчас у столбцов\n",
    "dfAusAuto.dtypes"
   ]
  },
  {
   "cell_type": "code",
   "execution_count": 27,
   "metadata": {
    "colab": {},
    "colab_type": "code",
    "execution": {
     "iopub.execute_input": "2020-12-07T07:38:10.322466Z",
     "iopub.status.busy": "2020-12-07T07:38:10.321598Z",
     "iopub.status.idle": "2020-12-07T07:38:10.336184Z",
     "shell.execute_reply": "2020-12-07T07:38:10.336877Z"
    },
    "id": "XIx3Oz5Pe2pU",
    "outputId": "d0a88d62-93c2-4eb1-e7da-a9d7678aed51",
    "papermill": {
     "duration": 0.122627,
     "end_time": "2020-12-07T07:38:10.337156",
     "exception": false,
     "start_time": "2020-12-07T07:38:10.214529",
     "status": "completed"
    },
    "tags": []
   },
   "outputs": [
    {
     "name": "stdout",
     "output_type": "stream",
     "text": [
      "<class 'pandas.core.frame.DataFrame'>\n",
      "RangeIndex: 22036 entries, 0 to 22035\n",
      "Data columns (total 15 columns):\n",
      " #   Column      Non-Null Count  Dtype  \n",
      "---  ------      --------------  -----  \n",
      " 0   AccDate     22036 non-null  object \n",
      " 1   ReportDate  22036 non-null  object \n",
      " 2   FinDate     22036 non-null  object \n",
      " 3   AccMth      22036 non-null  int64  \n",
      " 4   ReportMth   22036 non-null  int64  \n",
      " 5   FinMth      22036 non-null  int64  \n",
      " 6   OpTime      22036 non-null  float64\n",
      " 7   InjType1    22036 non-null  object \n",
      " 8   InjType2    11438 non-null  object \n",
      " 9   InjType3    7138 non-null   object \n",
      " 10  InjType4    4107 non-null   object \n",
      " 11  InjType5    2310 non-null   object \n",
      " 12  InjNb       22036 non-null  int64  \n",
      " 13  Legal       22036 non-null  object \n",
      " 14  AggClaim    22036 non-null  float64\n",
      "dtypes: float64(2), int64(4), object(9)\n",
      "memory usage: 2.5+ MB\n"
     ]
    }
   ],
   "source": [
    "# Более информативен метод info(). Кроме типов каждого столбца (и общей информации по типам в DataFrame),\n",
    "# мы видим количество присутствующих значений в каждом столбце, а также объём используемой памяти.\n",
    "dfAusAuto.info()"
   ]
  },
  {
   "cell_type": "code",
   "execution_count": 28,
   "metadata": {
    "colab": {},
    "colab_type": "code",
    "execution": {
     "iopub.execute_input": "2020-12-07T07:38:10.509950Z",
     "iopub.status.busy": "2020-12-07T07:38:10.508772Z",
     "iopub.status.idle": "2020-12-07T07:38:10.542448Z",
     "shell.execute_reply": "2020-12-07T07:38:10.543151Z"
    },
    "id": "j2eXQ4Mhe2pg",
    "papermill": {
     "duration": 0.122949,
     "end_time": "2020-12-07T07:38:10.543362",
     "exception": false,
     "start_time": "2020-12-07T07:38:10.420413",
     "status": "completed"
    },
    "tags": []
   },
   "outputs": [],
   "source": [
    "# Столбцы AccDate, ReportDate, FinDate сейчас имеют строковый тип\n",
    "# Для корректной работы с ними преобразуем datetime\n",
    "# Используем apply, чтобы применить функцию pd.to_datetime к соответствующим столбцам.\n",
    "col_to_date = ['AccDate', 'ReportDate', 'FinDate']\n",
    "dfAusAuto[col_to_date] = dfAusAuto[col_to_date].apply(pd.to_datetime, format='%Y-%m-%d')"
   ]
  },
  {
   "cell_type": "code",
   "execution_count": 29,
   "metadata": {
    "colab": {},
    "colab_type": "code",
    "execution": {
     "iopub.execute_input": "2020-12-07T07:38:10.754957Z",
     "iopub.status.busy": "2020-12-07T07:38:10.754053Z",
     "iopub.status.idle": "2020-12-07T07:38:10.759012Z",
     "shell.execute_reply": "2020-12-07T07:38:10.758281Z"
    },
    "id": "tBvnPuSze2pu",
    "outputId": "ce719398-e1b6-49ce-8937-66dc6db41f2a",
    "papermill": {
     "duration": 0.122127,
     "end_time": "2020-12-07T07:38:10.759208",
     "exception": false,
     "start_time": "2020-12-07T07:38:10.637081",
     "status": "completed"
    },
    "tags": []
   },
   "outputs": [
    {
     "data": {
      "text/plain": [
       "Yes    63.66\n",
       "No     36.34\n",
       "Name: Legal, dtype: float64"
      ]
     },
     "execution_count": 29,
     "metadata": {},
     "output_type": "execute_result"
    }
   ],
   "source": [
    "# Столбец Legal также строковый\n",
    "# Посмотрим количество уникальных значений (и, заодно, их распределение в процентах)\n",
    "round(dfAusAuto.Legal.value_counts(normalize=True)*100, 2)"
   ]
  },
  {
   "cell_type": "code",
   "execution_count": 30,
   "metadata": {
    "colab": {},
    "colab_type": "code",
    "execution": {
     "iopub.execute_input": "2020-12-07T07:38:10.939957Z",
     "iopub.status.busy": "2020-12-07T07:38:10.939085Z",
     "iopub.status.idle": "2020-12-07T07:38:10.943660Z",
     "shell.execute_reply": "2020-12-07T07:38:10.944387Z"
    },
    "id": "6Sl10myUe2p6",
    "papermill": {
     "duration": 0.099248,
     "end_time": "2020-12-07T07:38:10.944633",
     "exception": false,
     "start_time": "2020-12-07T07:38:10.845385",
     "status": "completed"
    },
    "tags": []
   },
   "outputs": [],
   "source": [
    "# Уникальных значений 2, заменим Yes на 1, а No на 0\n",
    "# Один из вариантов такого преобразования - замена по условию в цикле по всем элементам столбца\n",
    "# dfAusAuto.Legal = [1 if l=='Yes' else 0 for l in dfAusAuto.Legal]\n",
    "# Другой вариант - замена по словарю с помощью map()\n",
    "dictLegal = {'Yes': 1, 'No': 0}\n",
    "dfAusAuto.Legal = dfAusAuto.Legal.map(dictLegal)"
   ]
  },
  {
   "cell_type": "code",
   "execution_count": 31,
   "metadata": {
    "colab": {},
    "colab_type": "code",
    "execution": {
     "iopub.execute_input": "2020-12-07T07:38:11.115505Z",
     "iopub.status.busy": "2020-12-07T07:38:11.114632Z",
     "iopub.status.idle": "2020-12-07T07:38:11.122644Z",
     "shell.execute_reply": "2020-12-07T07:38:11.123347Z"
    },
    "id": "0WVKsnJze2qM",
    "outputId": "bda5463c-5de5-4db7-91fc-cbd58675ac13",
    "papermill": {
     "duration": 0.096618,
     "end_time": "2020-12-07T07:38:11.123559",
     "exception": false,
     "start_time": "2020-12-07T07:38:11.026941",
     "status": "completed"
    },
    "tags": []
   },
   "outputs": [
    {
     "data": {
      "text/plain": [
       "1    63.66\n",
       "0    36.34\n",
       "Name: Legal, dtype: float64"
      ]
     },
     "execution_count": 31,
     "metadata": {},
     "output_type": "execute_result"
    }
   ],
   "source": [
    "# Можем убедиться, что всё сделали правильно, повторив вывод распределения значений\n",
    "round(dfAusAuto.Legal.value_counts(normalize=True)*100, 2)"
   ]
  },
  {
   "cell_type": "code",
   "execution_count": 32,
   "metadata": {
    "colab": {},
    "colab_type": "code",
    "execution": {
     "iopub.execute_input": "2020-12-07T07:38:11.297160Z",
     "iopub.status.busy": "2020-12-07T07:38:11.296320Z",
     "iopub.status.idle": "2020-12-07T07:38:11.322709Z",
     "shell.execute_reply": "2020-12-07T07:38:11.321962Z"
    },
    "id": "ccpniO2Be2qW",
    "outputId": "430f045f-4ab6-40ac-baf8-84fe616d7a2d",
    "papermill": {
     "duration": 0.115965,
     "end_time": "2020-12-07T07:38:11.322903",
     "exception": false,
     "start_time": "2020-12-07T07:38:11.206938",
     "status": "completed"
    },
    "tags": []
   },
   "outputs": [
    {
     "data": {
      "text/plain": [
       "Legal             2\n",
       "InjNb             5\n",
       "InjType4          6\n",
       "InjType5          6\n",
       "InjType1          7\n",
       "InjType2          7\n",
       "InjType3          7\n",
       "FinDate          69\n",
       "FinMth           69\n",
       "ReportDate       73\n",
       "ReportMth        73\n",
       "AccDate         115\n",
       "AccMth          115\n",
       "OpTime          991\n",
       "AggClaim      20171\n",
       "dtype: int64"
      ]
     },
     "execution_count": 32,
     "metadata": {},
     "output_type": "execute_result"
    }
   ],
   "source": [
    "# Выведем количество уникальных значений для всех столбцов.\n",
    "dfAusAuto.nunique().sort_values()"
   ]
  },
  {
   "cell_type": "code",
   "execution_count": 33,
   "metadata": {
    "colab": {},
    "colab_type": "code",
    "execution": {
     "iopub.execute_input": "2020-12-07T07:38:11.499504Z",
     "iopub.status.busy": "2020-12-07T07:38:11.498595Z",
     "iopub.status.idle": "2020-12-07T07:38:11.530638Z",
     "shell.execute_reply": "2020-12-07T07:38:11.529939Z"
    },
    "id": "Tyd25ww8e2ql",
    "outputId": "02c4d5ce-6eb9-4f00-c9ed-facd4f4d0c25",
    "papermill": {
     "duration": 0.123604,
     "end_time": "2020-12-07T07:38:11.530832",
     "exception": false,
     "start_time": "2020-12-07T07:38:11.407228",
     "status": "completed"
    },
    "tags": []
   },
   "outputs": [
    {
     "data": {
      "text/html": [
       "<div>\n",
       "<style scoped>\n",
       "    .dataframe tbody tr th:only-of-type {\n",
       "        vertical-align: middle;\n",
       "    }\n",
       "\n",
       "    .dataframe tbody tr th {\n",
       "        vertical-align: top;\n",
       "    }\n",
       "\n",
       "    .dataframe thead th {\n",
       "        text-align: right;\n",
       "    }\n",
       "</style>\n",
       "<table border=\"1\" class=\"dataframe\">\n",
       "  <thead>\n",
       "    <tr style=\"text-align: right;\">\n",
       "      <th></th>\n",
       "      <th>Unique Values</th>\n",
       "      <th>Type</th>\n",
       "    </tr>\n",
       "  </thead>\n",
       "  <tbody>\n",
       "    <tr>\n",
       "      <th>Legal</th>\n",
       "      <td>2</td>\n",
       "      <td>int64</td>\n",
       "    </tr>\n",
       "    <tr>\n",
       "      <th>InjNb</th>\n",
       "      <td>5</td>\n",
       "      <td>int64</td>\n",
       "    </tr>\n",
       "    <tr>\n",
       "      <th>InjType4</th>\n",
       "      <td>6</td>\n",
       "      <td>object</td>\n",
       "    </tr>\n",
       "    <tr>\n",
       "      <th>InjType5</th>\n",
       "      <td>6</td>\n",
       "      <td>object</td>\n",
       "    </tr>\n",
       "    <tr>\n",
       "      <th>InjType1</th>\n",
       "      <td>7</td>\n",
       "      <td>object</td>\n",
       "    </tr>\n",
       "    <tr>\n",
       "      <th>InjType2</th>\n",
       "      <td>7</td>\n",
       "      <td>object</td>\n",
       "    </tr>\n",
       "    <tr>\n",
       "      <th>InjType3</th>\n",
       "      <td>7</td>\n",
       "      <td>object</td>\n",
       "    </tr>\n",
       "    <tr>\n",
       "      <th>FinDate</th>\n",
       "      <td>69</td>\n",
       "      <td>datetime64[ns]</td>\n",
       "    </tr>\n",
       "    <tr>\n",
       "      <th>FinMth</th>\n",
       "      <td>69</td>\n",
       "      <td>int64</td>\n",
       "    </tr>\n",
       "    <tr>\n",
       "      <th>ReportDate</th>\n",
       "      <td>73</td>\n",
       "      <td>datetime64[ns]</td>\n",
       "    </tr>\n",
       "    <tr>\n",
       "      <th>ReportMth</th>\n",
       "      <td>73</td>\n",
       "      <td>int64</td>\n",
       "    </tr>\n",
       "    <tr>\n",
       "      <th>AccDate</th>\n",
       "      <td>115</td>\n",
       "      <td>datetime64[ns]</td>\n",
       "    </tr>\n",
       "    <tr>\n",
       "      <th>AccMth</th>\n",
       "      <td>115</td>\n",
       "      <td>int64</td>\n",
       "    </tr>\n",
       "    <tr>\n",
       "      <th>OpTime</th>\n",
       "      <td>991</td>\n",
       "      <td>float64</td>\n",
       "    </tr>\n",
       "    <tr>\n",
       "      <th>AggClaim</th>\n",
       "      <td>20171</td>\n",
       "      <td>float64</td>\n",
       "    </tr>\n",
       "  </tbody>\n",
       "</table>\n",
       "</div>"
      ],
      "text/plain": [
       "            Unique Values            Type\n",
       "Legal                   2           int64\n",
       "InjNb                   5           int64\n",
       "InjType4                6          object\n",
       "InjType5                6          object\n",
       "InjType1                7          object\n",
       "InjType2                7          object\n",
       "InjType3                7          object\n",
       "FinDate                69  datetime64[ns]\n",
       "FinMth                 69           int64\n",
       "ReportDate             73  datetime64[ns]\n",
       "ReportMth              73           int64\n",
       "AccDate               115  datetime64[ns]\n",
       "AccMth                115           int64\n",
       "OpTime                991         float64\n",
       "AggClaim            20171         float64"
      ]
     },
     "execution_count": 33,
     "metadata": {},
     "output_type": "execute_result"
    }
   ],
   "source": [
    "# Для лучшего представления о данных, было бы неплохо видеть количество уникальных\n",
    "# значений вместе с типом данных.\n",
    "# Для этого создадим 2 DataFrame, с количеством уникальных значений и с типом каждого столбца.\n",
    "# Полученные DataFrame склеим по индексу (имя столбца) с помощью pd.concat\n",
    "# Результат отсортируем по количеству уникальных значений\n",
    "pd.concat([pd.DataFrame({'Unique Values': dfAusAuto.nunique()}),\n",
    "           pd.DataFrame({'Type': dfAusAuto.dtypes})], axis=1, sort=False).sort_values(by='Unique Values')"
   ]
  },
  {
   "cell_type": "code",
   "execution_count": 34,
   "metadata": {
    "colab": {},
    "colab_type": "code",
    "execution": {
     "iopub.execute_input": "2020-12-07T07:38:11.862127Z",
     "iopub.status.busy": "2020-12-07T07:38:11.728027Z",
     "iopub.status.idle": "2020-12-07T07:38:11.929656Z",
     "shell.execute_reply": "2020-12-07T07:38:11.930368Z"
    },
    "id": "RAhJ5A8He2qy",
    "outputId": "370013d6-81ab-46fe-c208-2ad8ec380232",
    "papermill": {
     "duration": 0.313851,
     "end_time": "2020-12-07T07:38:11.930617",
     "exception": false,
     "start_time": "2020-12-07T07:38:11.616766",
     "status": "completed"
    },
    "tags": []
   },
   "outputs": [
    {
     "name": "stdout",
     "output_type": "stream",
     "text": [
      "Столбец AccMth имеет 0 некорректных значений\n",
      "Столбец ReportMth имеет 0 некорректных значений\n",
      "Столбец FinMth имеет 0 некорректных значений\n"
     ]
    }
   ],
   "source": [
    "# Можем обратить внимание, что количество уникальных значений одинаково для\n",
    "# столбцов FinDate и FinMth, ReportDate и ReportMth, AccDate и AccMth соответственно\n",
    "# Это соответствует описанию расчёта столбцов FinMth, ReportMth, AccMth\n",
    "# Они получаются из даты так, что 1 = июль 1989 года ..., 120 = июнь 1999 года.\n",
    "# Проверим, что ошибок в вычислениях нет, это также относится к этапу очистки данных.\n",
    "# Для проверки посчитаем разницу между результатом (год*12 + месяц-6) и месяцом из соответствующих столбцов.\n",
    "# Видим, что ошибок в вычислениях нет.\n",
    "# В результате мы могли бы удалить столбцы с датой, но они могут быть полезны для более простого\n",
    "# конструирования таких признаков, как время года, если это потребуется\n",
    "col_date = ['AccDate', 'ReportDate', 'FinDate']\n",
    "col_date_mth = ['AccMth', 'ReportMth', 'FinMth']\n",
    "for cdate, cmonth in zip(col_date, col_date_mth):\n",
    "    print('Столбец {} имеет {} некорректных значений'.\n",
    "          format(cmonth,\n",
    "                 str(sum([((ddate.year-1989)*12+(ddate.month-6))-dmonth\n",
    "                          for ddate, dmonth in zip(dfAusAuto[cdate],\n",
    "                                                   dfAusAuto[cmonth])]))))"
   ]
  },
  {
   "cell_type": "code",
   "execution_count": 35,
   "metadata": {
    "colab": {},
    "colab_type": "code",
    "execution": {
     "iopub.execute_input": "2020-12-07T07:38:12.108556Z",
     "iopub.status.busy": "2020-12-07T07:38:12.107642Z",
     "iopub.status.idle": "2020-12-07T07:38:12.126188Z",
     "shell.execute_reply": "2020-12-07T07:38:12.126882Z"
    },
    "id": "XtVoqBCZe2q_",
    "outputId": "6401c7b2-46d9-4e2b-b6b9-66abc1c79a0e",
    "papermill": {
     "duration": 0.111029,
     "end_time": "2020-12-07T07:38:12.127108",
     "exception": false,
     "start_time": "2020-12-07T07:38:12.016079",
     "status": "completed"
    },
    "tags": []
   },
   "outputs": [
    {
     "name": "stdout",
     "output_type": "stream",
     "text": [
      "Столбец InjNb имеет 0 некорректных значений\n"
     ]
    }
   ],
   "source": [
    "# Подобную проверку имеет смыл провести для столбца InjNb (количество пострадавших)\n",
    "# Его значение должно быть равно сумме столбцов InjType1-5, имеющих значение\n",
    "# Для проверки будем использовать сумму всех пропущенных значений isna().\n",
    "# Для того, чтобы суммировать не по столбцам, а по строкам, используем sum(axis=1)\n",
    "col_inj = ['InjType1', 'InjType2', 'InjType3', 'InjType4', 'InjType5']\n",
    "print('Столбец InjNb имеет {} некорректных значений'.\n",
    "      format(str(((5 - dfAusAuto[col_inj].isna().sum(axis=1)) - dfAusAuto.InjNb).sum())))"
   ]
  },
  {
   "cell_type": "markdown",
   "metadata": {
    "colab_type": "text",
    "id": "VONsZOree2rI",
    "papermill": {
     "duration": 0.08431,
     "end_time": "2020-12-07T07:38:12.296954",
     "exception": false,
     "start_time": "2020-12-07T07:38:12.212644",
     "status": "completed"
    },
    "tags": []
   },
   "source": [
    "Теперь мы можем заполнить пропущенные значения в столбцах InjType1-5.  \n",
    "Вариант обработки пропущенных значений зависит от причины их отсутствия, а также от природы данных.\n",
    "Можно выделить несколько вариантов:  \n",
    "  *  Удаление строк, содержащих хотя бы одно пропущенное значение (например, если остальные данные в строке яволяются несущественными для текущей задачи)  \n",
    "  `DataFrame.dropna(how='any', axis=1)`\n",
    "  *  Замена на константу. Для выбора константы требуется понимание природы данных.  \n",
    "  `DataFrame.Temperature.fillna(36.6)`\n",
    "  *  Замена на медиану, среднее значение и т.п. Для корректной замены имеет смысл учитывать зависимость от остальных данных, если эта зависимость существенна  \n",
    "  `DataFrame.fillna(DataFrame.median())`"
   ]
  },
  {
   "cell_type": "code",
   "execution_count": 36,
   "metadata": {
    "colab": {},
    "colab_type": "code",
    "execution": {
     "iopub.execute_input": "2020-12-07T07:38:12.476422Z",
     "iopub.status.busy": "2020-12-07T07:38:12.475575Z",
     "iopub.status.idle": "2020-12-07T07:38:12.516937Z",
     "shell.execute_reply": "2020-12-07T07:38:12.516229Z"
    },
    "id": "dU_U9Rcre2rK",
    "outputId": "d61c194e-8e33-4049-fb0a-1e823c1078ae",
    "papermill": {
     "duration": 0.133861,
     "end_time": "2020-12-07T07:38:12.517131",
     "exception": false,
     "start_time": "2020-12-07T07:38:12.383270",
     "status": "completed"
    },
    "tags": []
   },
   "outputs": [
    {
     "data": {
      "text/html": [
       "<div>\n",
       "<style scoped>\n",
       "    .dataframe tbody tr th:only-of-type {\n",
       "        vertical-align: middle;\n",
       "    }\n",
       "\n",
       "    .dataframe tbody tr th {\n",
       "        vertical-align: top;\n",
       "    }\n",
       "\n",
       "    .dataframe thead th {\n",
       "        text-align: right;\n",
       "    }\n",
       "</style>\n",
       "<table border=\"1\" class=\"dataframe\">\n",
       "  <thead>\n",
       "    <tr style=\"text-align: right;\">\n",
       "      <th></th>\n",
       "      <th>InjType1</th>\n",
       "      <th>InjType2</th>\n",
       "      <th>InjType3</th>\n",
       "      <th>InjType4</th>\n",
       "      <th>InjType5</th>\n",
       "    </tr>\n",
       "  </thead>\n",
       "  <tbody>\n",
       "    <tr>\n",
       "      <th>minor injury</th>\n",
       "      <td>15638</td>\n",
       "      <td>9433</td>\n",
       "      <td>6092</td>\n",
       "      <td>3558.0</td>\n",
       "      <td>1972.0</td>\n",
       "    </tr>\n",
       "    <tr>\n",
       "      <th>small injury</th>\n",
       "      <td>3376</td>\n",
       "      <td>1451</td>\n",
       "      <td>740</td>\n",
       "      <td>385.0</td>\n",
       "      <td>181.0</td>\n",
       "    </tr>\n",
       "    <tr>\n",
       "      <th>not recorded</th>\n",
       "      <td>1256</td>\n",
       "      <td>92</td>\n",
       "      <td>109</td>\n",
       "      <td>78.0</td>\n",
       "      <td>108.0</td>\n",
       "    </tr>\n",
       "    <tr>\n",
       "      <th>medium injury</th>\n",
       "      <td>1133</td>\n",
       "      <td>396</td>\n",
       "      <td>172</td>\n",
       "      <td>80.0</td>\n",
       "      <td>38.0</td>\n",
       "    </tr>\n",
       "    <tr>\n",
       "      <th>fatal injury</th>\n",
       "      <td>256</td>\n",
       "      <td>12</td>\n",
       "      <td>4</td>\n",
       "      <td>3.0</td>\n",
       "      <td>NaN</td>\n",
       "    </tr>\n",
       "    <tr>\n",
       "      <th>high injury</th>\n",
       "      <td>189</td>\n",
       "      <td>30</td>\n",
       "      <td>12</td>\n",
       "      <td>3.0</td>\n",
       "      <td>5.0</td>\n",
       "    </tr>\n",
       "    <tr>\n",
       "      <th>severe injury</th>\n",
       "      <td>188</td>\n",
       "      <td>24</td>\n",
       "      <td>9</td>\n",
       "      <td>NaN</td>\n",
       "      <td>6.0</td>\n",
       "    </tr>\n",
       "  </tbody>\n",
       "</table>\n",
       "</div>"
      ],
      "text/plain": [
       "               InjType1  InjType2  InjType3  InjType4  InjType5\n",
       "minor injury      15638      9433      6092    3558.0    1972.0\n",
       "small injury       3376      1451       740     385.0     181.0\n",
       "not recorded       1256        92       109      78.0     108.0\n",
       "medium injury      1133       396       172      80.0      38.0\n",
       "fatal injury        256        12         4       3.0       NaN\n",
       "high injury         189        30        12       3.0       5.0\n",
       "severe injury       188        24         9       NaN       6.0"
      ]
     },
     "execution_count": 36,
     "metadata": {},
     "output_type": "execute_result"
    }
   ],
   "source": [
    "# В данном случае, пропущенные значения не являются результатом неполноты данных,\n",
    "# ошибки в исходных данных или в структуре.\n",
    "# Пропущенные значения соответствуют природе данных (нет пострадавшего - нет тяжести травмы)\n",
    "# Посмотрим, какие значения может принимть тяжесть травмы для всех пострадавших\n",
    "dfAusAuto[col_inj].apply(pd.Series.value_counts).sort_values(by='InjType1', ascending=False)"
   ]
  },
  {
   "cell_type": "code",
   "execution_count": 37,
   "metadata": {
    "colab": {},
    "colab_type": "code",
    "execution": {
     "iopub.execute_input": "2020-12-07T07:38:12.698389Z",
     "iopub.status.busy": "2020-12-07T07:38:12.697511Z",
     "iopub.status.idle": "2020-12-07T07:38:12.711649Z",
     "shell.execute_reply": "2020-12-07T07:38:12.712310Z"
    },
    "id": "gvBjn2c5e2rY",
    "papermill": {
     "duration": 0.107057,
     "end_time": "2020-12-07T07:38:12.712559",
     "exception": false,
     "start_time": "2020-12-07T07:38:12.605502",
     "status": "completed"
    },
    "tags": []
   },
   "outputs": [],
   "source": [
    "# Мы могли бы заполнить пропущенные значения похожим по смыслу \"not recorded\",\n",
    "# но смысл \"пострадал с неизвестной степеью тяжести\" и \"не пострадал\" все таки отличается.\n",
    "# Заполним пропуски значением \"no\".\n",
    "# Для того, чтобы сделать преобразование в нашем текщем объекте, используем inplace=True\n",
    "dfAusAuto.fillna('no', inplace=True)"
   ]
  },
  {
   "cell_type": "code",
   "execution_count": 38,
   "metadata": {
    "colab": {},
    "colab_type": "code",
    "execution": {
     "iopub.execute_input": "2020-12-07T07:38:12.898094Z",
     "iopub.status.busy": "2020-12-07T07:38:12.897006Z",
     "iopub.status.idle": "2020-12-07T07:38:12.950815Z",
     "shell.execute_reply": "2020-12-07T07:38:12.950080Z"
    },
    "id": "1kFMFQxPe2rk",
    "outputId": "c42729ff-4b5c-4cd1-cd12-037d2ff1dc28",
    "papermill": {
     "duration": 0.149146,
     "end_time": "2020-12-07T07:38:12.951011",
     "exception": false,
     "start_time": "2020-12-07T07:38:12.801865",
     "status": "completed"
    },
    "tags": []
   },
   "outputs": [
    {
     "data": {
      "text/html": [
       "<div>\n",
       "<style scoped>\n",
       "    .dataframe tbody tr th:only-of-type {\n",
       "        vertical-align: middle;\n",
       "    }\n",
       "\n",
       "    .dataframe tbody tr th {\n",
       "        vertical-align: top;\n",
       "    }\n",
       "\n",
       "    .dataframe thead th {\n",
       "        text-align: right;\n",
       "    }\n",
       "</style>\n",
       "<table border=\"1\" class=\"dataframe\">\n",
       "  <thead>\n",
       "    <tr style=\"text-align: right;\">\n",
       "      <th></th>\n",
       "      <th>InjType1</th>\n",
       "      <th>InjType2</th>\n",
       "      <th>InjType3</th>\n",
       "      <th>InjType4</th>\n",
       "      <th>InjType5</th>\n",
       "    </tr>\n",
       "  </thead>\n",
       "  <tbody>\n",
       "    <tr>\n",
       "      <th>minor injury</th>\n",
       "      <td>15638.0</td>\n",
       "      <td>9433</td>\n",
       "      <td>6092</td>\n",
       "      <td>3558.0</td>\n",
       "      <td>1972.0</td>\n",
       "    </tr>\n",
       "    <tr>\n",
       "      <th>small injury</th>\n",
       "      <td>3376.0</td>\n",
       "      <td>1451</td>\n",
       "      <td>740</td>\n",
       "      <td>385.0</td>\n",
       "      <td>181.0</td>\n",
       "    </tr>\n",
       "    <tr>\n",
       "      <th>not recorded</th>\n",
       "      <td>1256.0</td>\n",
       "      <td>92</td>\n",
       "      <td>109</td>\n",
       "      <td>78.0</td>\n",
       "      <td>108.0</td>\n",
       "    </tr>\n",
       "    <tr>\n",
       "      <th>medium injury</th>\n",
       "      <td>1133.0</td>\n",
       "      <td>396</td>\n",
       "      <td>172</td>\n",
       "      <td>80.0</td>\n",
       "      <td>38.0</td>\n",
       "    </tr>\n",
       "    <tr>\n",
       "      <th>fatal injury</th>\n",
       "      <td>256.0</td>\n",
       "      <td>12</td>\n",
       "      <td>4</td>\n",
       "      <td>3.0</td>\n",
       "      <td>0.0</td>\n",
       "    </tr>\n",
       "    <tr>\n",
       "      <th>high injury</th>\n",
       "      <td>189.0</td>\n",
       "      <td>30</td>\n",
       "      <td>12</td>\n",
       "      <td>3.0</td>\n",
       "      <td>5.0</td>\n",
       "    </tr>\n",
       "    <tr>\n",
       "      <th>severe injury</th>\n",
       "      <td>188.0</td>\n",
       "      <td>24</td>\n",
       "      <td>9</td>\n",
       "      <td>0.0</td>\n",
       "      <td>6.0</td>\n",
       "    </tr>\n",
       "    <tr>\n",
       "      <th>no</th>\n",
       "      <td>0.0</td>\n",
       "      <td>10598</td>\n",
       "      <td>14898</td>\n",
       "      <td>17929.0</td>\n",
       "      <td>19726.0</td>\n",
       "    </tr>\n",
       "  </tbody>\n",
       "</table>\n",
       "</div>"
      ],
      "text/plain": [
       "               InjType1  InjType2  InjType3  InjType4  InjType5\n",
       "minor injury    15638.0      9433      6092    3558.0    1972.0\n",
       "small injury     3376.0      1451       740     385.0     181.0\n",
       "not recorded     1256.0        92       109      78.0     108.0\n",
       "medium injury    1133.0       396       172      80.0      38.0\n",
       "fatal injury      256.0        12         4       3.0       0.0\n",
       "high injury       189.0        30        12       3.0       5.0\n",
       "severe injury     188.0        24         9       0.0       6.0\n",
       "no                  0.0     10598     14898   17929.0   19726.0"
      ]
     },
     "execution_count": 38,
     "metadata": {},
     "output_type": "execute_result"
    }
   ],
   "source": [
    "# Выведем ещё раз получившееся распределение тяжести травм пострадавших\n",
    "dfAusAuto[col_inj].apply(pd.Series.value_counts).sort_values(by='InjType1', ascending=False).fillna(0)"
   ]
  },
  {
   "cell_type": "code",
   "execution_count": 39,
   "metadata": {
    "colab": {},
    "colab_type": "code",
    "execution": {
     "iopub.execute_input": "2020-12-07T07:38:13.135772Z",
     "iopub.status.busy": "2020-12-07T07:38:13.134914Z",
     "iopub.status.idle": "2020-12-07T07:38:13.323955Z",
     "shell.execute_reply": "2020-12-07T07:38:13.323219Z"
    },
    "id": "p4Du0WMVe2rx",
    "outputId": "0bfe1f17-4a99-478f-a84e-a7237e64cda0",
    "papermill": {
     "duration": 0.284309,
     "end_time": "2020-12-07T07:38:13.324157",
     "exception": false,
     "start_time": "2020-12-07T07:38:13.039848",
     "status": "completed"
    },
    "tags": []
   },
   "outputs": [
    {
     "data": {
      "image/png": "[encoded data removed]",
      "text/plain": [
       "<Figure size 864x288 with 1 Axes>"
      ]
     },
     "metadata": {},
     "output_type": "display_data"
    }
   ],
   "source": [
    "# К этапу очистки данных также относится выявление выбросов,\n",
    "# и аномалий в распределениях (всплески и спады, не согласующиеся с природой данных)\n",
    "# Посмотрим на распределение AggClaim с помощью графиков boxplot и hist\n",
    "plt.rcParams['figure.figsize'] = (12, 4)\n",
    "dfAusAuto.AggClaim.plot.box(vert=False);"
   ]
  },
  {
   "cell_type": "code",
   "execution_count": 40,
   "metadata": {
    "colab": {},
    "colab_type": "code",
    "execution": {
     "iopub.execute_input": "2020-12-07T07:38:13.511205Z",
     "iopub.status.busy": "2020-12-07T07:38:13.510371Z",
     "iopub.status.idle": "2020-12-07T07:38:14.092428Z",
     "shell.execute_reply": "2020-12-07T07:38:14.093170Z"
    },
    "id": "CsbYh8Hfe2r6",
    "outputId": "a3e4af12-9f61-4f0a-c277-c18470c73740",
    "papermill": {
     "duration": 0.679407,
     "end_time": "2020-12-07T07:38:14.093441",
     "exception": false,
     "start_time": "2020-12-07T07:38:13.414034",
     "status": "completed"
    },
    "tags": []
   },
   "outputs": [
    {
     "data": {
      "image/png": "[encoded data removed]",
      "text/plain": [
       "<Figure size 864x288 with 1 Axes>"
      ]
     },
     "metadata": {},
     "output_type": "display_data"
    }
   ],
   "source": [
    "dfAusAuto.AggClaim.plot.hist(bins=100);"
   ]
  },
  {
   "cell_type": "code",
   "execution_count": 41,
   "metadata": {
    "colab": {},
    "colab_type": "code",
    "execution": {
     "iopub.execute_input": "2020-12-07T07:38:14.277724Z",
     "iopub.status.busy": "2020-12-07T07:38:14.276787Z",
     "iopub.status.idle": "2020-12-07T07:38:14.792426Z",
     "shell.execute_reply": "2020-12-07T07:38:14.791601Z"
    },
    "id": "guApvyvwe2sR",
    "outputId": "c1433549-c2ac-4641-94b3-b22f2403a426",
    "papermill": {
     "duration": 0.608792,
     "end_time": "2020-12-07T07:38:14.792620",
     "exception": false,
     "start_time": "2020-12-07T07:38:14.183828",
     "status": "completed"
    },
    "tags": []
   },
   "outputs": [
    {
     "data": {
      "image/png": "[encoded data removed]",
      "text/plain": [
       "<Figure size 864x288 with 1 Axes>"
      ]
     },
     "metadata": {},
     "output_type": "display_data"
    }
   ],
   "source": [
    "# Видим, что преобладают значения, близкие к нулю и есть длинный \"хвост\" справа.\n",
    "# Возможно, лучше будет работать с логарифмом\n",
    "pd.Series(np.log1p(dfAusAuto.AggClaim)).plot.hist(bins=100);"
   ]
  },
  {
   "cell_type": "markdown",
   "metadata": {
    "colab_type": "text",
    "id": "nQ3y9_MSe2sh",
    "papermill": {
     "duration": 0.091702,
     "end_time": "2020-12-07T07:38:14.974347",
     "exception": false,
     "start_time": "2020-12-07T07:38:14.882645",
     "status": "completed"
    },
    "tags": []
   },
   "source": [
    "#### 1.1.4 Описательные статистики"
   ]
  },
  {
   "cell_type": "code",
   "execution_count": 42,
   "metadata": {
    "colab": {},
    "colab_type": "code",
    "execution": {
     "iopub.execute_input": "2020-12-07T07:38:15.168070Z",
     "iopub.status.busy": "2020-12-07T07:38:15.167120Z",
     "iopub.status.idle": "2020-12-07T07:38:15.211758Z",
     "shell.execute_reply": "2020-12-07T07:38:15.212460Z"
    },
    "id": "CtU5BUxre2sj",
    "outputId": "ecc59a7d-3b03-4094-bdfe-b042a6453d48",
    "papermill": {
     "duration": 0.146339,
     "end_time": "2020-12-07T07:38:15.212724",
     "exception": false,
     "start_time": "2020-12-07T07:38:15.066385",
     "status": "completed"
    },
    "tags": []
   },
   "outputs": [
    {
     "data": {
      "text/html": [
       "<div>\n",
       "<style scoped>\n",
       "    .dataframe tbody tr th:only-of-type {\n",
       "        vertical-align: middle;\n",
       "    }\n",
       "\n",
       "    .dataframe tbody tr th {\n",
       "        vertical-align: top;\n",
       "    }\n",
       "\n",
       "    .dataframe thead th {\n",
       "        text-align: right;\n",
       "    }\n",
       "</style>\n",
       "<table border=\"1\" class=\"dataframe\">\n",
       "  <thead>\n",
       "    <tr style=\"text-align: right;\">\n",
       "      <th></th>\n",
       "      <th>AccMth</th>\n",
       "      <th>ReportMth</th>\n",
       "      <th>FinMth</th>\n",
       "      <th>OpTime</th>\n",
       "      <th>InjNb</th>\n",
       "      <th>Legal</th>\n",
       "      <th>AggClaim</th>\n",
       "    </tr>\n",
       "  </thead>\n",
       "  <tbody>\n",
       "    <tr>\n",
       "      <th>count</th>\n",
       "      <td>22036.000000</td>\n",
       "      <td>22036.000000</td>\n",
       "      <td>22036.000000</td>\n",
       "      <td>22036.000000</td>\n",
       "      <td>22036.00000</td>\n",
       "      <td>22036.000000</td>\n",
       "      <td>2.203600e+04</td>\n",
       "    </tr>\n",
       "    <tr>\n",
       "      <th>mean</th>\n",
       "      <td>62.046106</td>\n",
       "      <td>71.334952</td>\n",
       "      <td>88.370212</td>\n",
       "      <td>46.331648</td>\n",
       "      <td>2.13419</td>\n",
       "      <td>0.636595</td>\n",
       "      <td>3.836722e+04</td>\n",
       "    </tr>\n",
       "    <tr>\n",
       "      <th>std</th>\n",
       "      <td>25.890351</td>\n",
       "      <td>17.723639</td>\n",
       "      <td>19.556888</td>\n",
       "      <td>27.125661</td>\n",
       "      <td>1.36726</td>\n",
       "      <td>0.480991</td>\n",
       "      <td>9.098111e+04</td>\n",
       "    </tr>\n",
       "    <tr>\n",
       "      <th>min</th>\n",
       "      <td>1.000000</td>\n",
       "      <td>15.000000</td>\n",
       "      <td>49.000000</td>\n",
       "      <td>0.100000</td>\n",
       "      <td>1.00000</td>\n",
       "      <td>0.000000</td>\n",
       "      <td>9.960000e+00</td>\n",
       "    </tr>\n",
       "    <tr>\n",
       "      <th>25%</th>\n",
       "      <td>44.000000</td>\n",
       "      <td>54.000000</td>\n",
       "      <td>72.000000</td>\n",
       "      <td>23.000000</td>\n",
       "      <td>1.00000</td>\n",
       "      <td>0.000000</td>\n",
       "      <td>6.296972e+03</td>\n",
       "    </tr>\n",
       "    <tr>\n",
       "      <th>50%</th>\n",
       "      <td>64.000000</td>\n",
       "      <td>69.000000</td>\n",
       "      <td>91.000000</td>\n",
       "      <td>45.900000</td>\n",
       "      <td>2.00000</td>\n",
       "      <td>1.000000</td>\n",
       "      <td>1.385387e+04</td>\n",
       "    </tr>\n",
       "    <tr>\n",
       "      <th>75%</th>\n",
       "      <td>82.000000</td>\n",
       "      <td>85.000000</td>\n",
       "      <td>106.000000</td>\n",
       "      <td>69.300000</td>\n",
       "      <td>3.00000</td>\n",
       "      <td>1.000000</td>\n",
       "      <td>3.512342e+04</td>\n",
       "    </tr>\n",
       "    <tr>\n",
       "      <th>max</th>\n",
       "      <td>115.000000</td>\n",
       "      <td>116.000000</td>\n",
       "      <td>117.000000</td>\n",
       "      <td>99.100000</td>\n",
       "      <td>5.00000</td>\n",
       "      <td>1.000000</td>\n",
       "      <td>4.485797e+06</td>\n",
       "    </tr>\n",
       "  </tbody>\n",
       "</table>\n",
       "</div>"
      ],
      "text/plain": [
       "             AccMth     ReportMth        FinMth        OpTime        InjNb  \\\n",
       "count  22036.000000  22036.000000  22036.000000  22036.000000  22036.00000   \n",
       "mean      62.046106     71.334952     88.370212     46.331648      2.13419   \n",
       "std       25.890351     17.723639     19.556888     27.125661      1.36726   \n",
       "min        1.000000     15.000000     49.000000      0.100000      1.00000   \n",
       "25%       44.000000     54.000000     72.000000     23.000000      1.00000   \n",
       "50%       64.000000     69.000000     91.000000     45.900000      2.00000   \n",
       "75%       82.000000     85.000000    106.000000     69.300000      3.00000   \n",
       "max      115.000000    116.000000    117.000000     99.100000      5.00000   \n",
       "\n",
       "              Legal      AggClaim  \n",
       "count  22036.000000  2.203600e+04  \n",
       "mean       0.636595  3.836722e+04  \n",
       "std        0.480991  9.098111e+04  \n",
       "min        0.000000  9.960000e+00  \n",
       "25%        0.000000  6.296972e+03  \n",
       "50%        1.000000  1.385387e+04  \n",
       "75%        1.000000  3.512342e+04  \n",
       "max        1.000000  4.485797e+06  "
      ]
     },
     "execution_count": 42,
     "metadata": {},
     "output_type": "execute_result"
    }
   ],
   "source": [
    "# Можно посмотреть описательные статистики (min, max, mean и т.д.)с помощью метода describe()\n",
    "dfAusAuto.describe()"
   ]
  },
  {
   "cell_type": "code",
   "execution_count": 43,
   "metadata": {
    "colab": {},
    "colab_type": "code",
    "execution": {
     "iopub.execute_input": "2020-12-07T07:38:15.407526Z",
     "iopub.status.busy": "2020-12-07T07:38:15.406659Z",
     "iopub.status.idle": "2020-12-07T07:38:15.453848Z",
     "shell.execute_reply": "2020-12-07T07:38:15.453123Z"
    },
    "id": "kL9kprQYe2s9",
    "outputId": "ea3e5f85-ee85-420d-e0c5-529e76791a13",
    "papermill": {
     "duration": 0.148666,
     "end_time": "2020-12-07T07:38:15.454055",
     "exception": false,
     "start_time": "2020-12-07T07:38:15.305389",
     "status": "completed"
    },
    "tags": []
   },
   "outputs": [
    {
     "data": {
      "text/html": [
       "<div>\n",
       "<style scoped>\n",
       "    .dataframe tbody tr th:only-of-type {\n",
       "        vertical-align: middle;\n",
       "    }\n",
       "\n",
       "    .dataframe tbody tr th {\n",
       "        vertical-align: top;\n",
       "    }\n",
       "\n",
       "    .dataframe thead th {\n",
       "        text-align: right;\n",
       "    }\n",
       "</style>\n",
       "<table border=\"1\" class=\"dataframe\">\n",
       "  <thead>\n",
       "    <tr style=\"text-align: right;\">\n",
       "      <th></th>\n",
       "      <th>count</th>\n",
       "      <th>mean</th>\n",
       "      <th>std</th>\n",
       "      <th>min</th>\n",
       "      <th>25%</th>\n",
       "      <th>50%</th>\n",
       "      <th>75%</th>\n",
       "      <th>max</th>\n",
       "    </tr>\n",
       "  </thead>\n",
       "  <tbody>\n",
       "    <tr>\n",
       "      <th>AccMth</th>\n",
       "      <td>22036.0</td>\n",
       "      <td>62.046106</td>\n",
       "      <td>25.890351</td>\n",
       "      <td>1.00</td>\n",
       "      <td>44.0000</td>\n",
       "      <td>64.000</td>\n",
       "      <td>82.000</td>\n",
       "      <td>115.00</td>\n",
       "    </tr>\n",
       "    <tr>\n",
       "      <th>ReportMth</th>\n",
       "      <td>22036.0</td>\n",
       "      <td>71.334952</td>\n",
       "      <td>17.723639</td>\n",
       "      <td>15.00</td>\n",
       "      <td>54.0000</td>\n",
       "      <td>69.000</td>\n",
       "      <td>85.000</td>\n",
       "      <td>116.00</td>\n",
       "    </tr>\n",
       "    <tr>\n",
       "      <th>FinMth</th>\n",
       "      <td>22036.0</td>\n",
       "      <td>88.370212</td>\n",
       "      <td>19.556888</td>\n",
       "      <td>49.00</td>\n",
       "      <td>72.0000</td>\n",
       "      <td>91.000</td>\n",
       "      <td>106.000</td>\n",
       "      <td>117.00</td>\n",
       "    </tr>\n",
       "    <tr>\n",
       "      <th>OpTime</th>\n",
       "      <td>22036.0</td>\n",
       "      <td>46.331648</td>\n",
       "      <td>27.125661</td>\n",
       "      <td>0.10</td>\n",
       "      <td>23.0000</td>\n",
       "      <td>45.900</td>\n",
       "      <td>69.300</td>\n",
       "      <td>99.10</td>\n",
       "    </tr>\n",
       "    <tr>\n",
       "      <th>InjNb</th>\n",
       "      <td>22036.0</td>\n",
       "      <td>2.134190</td>\n",
       "      <td>1.367260</td>\n",
       "      <td>1.00</td>\n",
       "      <td>1.0000</td>\n",
       "      <td>2.000</td>\n",
       "      <td>3.000</td>\n",
       "      <td>5.00</td>\n",
       "    </tr>\n",
       "    <tr>\n",
       "      <th>Legal</th>\n",
       "      <td>22036.0</td>\n",
       "      <td>0.636595</td>\n",
       "      <td>0.480991</td>\n",
       "      <td>0.00</td>\n",
       "      <td>0.0000</td>\n",
       "      <td>1.000</td>\n",
       "      <td>1.000</td>\n",
       "      <td>1.00</td>\n",
       "    </tr>\n",
       "    <tr>\n",
       "      <th>AggClaim</th>\n",
       "      <td>22036.0</td>\n",
       "      <td>38367.215533</td>\n",
       "      <td>90981.108533</td>\n",
       "      <td>9.96</td>\n",
       "      <td>6296.9725</td>\n",
       "      <td>13853.865</td>\n",
       "      <td>35123.415</td>\n",
       "      <td>4485797.21</td>\n",
       "    </tr>\n",
       "  </tbody>\n",
       "</table>\n",
       "</div>"
      ],
      "text/plain": [
       "             count          mean           std    min        25%        50%  \\\n",
       "AccMth     22036.0     62.046106     25.890351   1.00    44.0000     64.000   \n",
       "ReportMth  22036.0     71.334952     17.723639  15.00    54.0000     69.000   \n",
       "FinMth     22036.0     88.370212     19.556888  49.00    72.0000     91.000   \n",
       "OpTime     22036.0     46.331648     27.125661   0.10    23.0000     45.900   \n",
       "InjNb      22036.0      2.134190      1.367260   1.00     1.0000      2.000   \n",
       "Legal      22036.0      0.636595      0.480991   0.00     0.0000      1.000   \n",
       "AggClaim   22036.0  38367.215533  90981.108533   9.96  6296.9725  13853.865   \n",
       "\n",
       "                 75%         max  \n",
       "AccMth        82.000      115.00  \n",
       "ReportMth     85.000      116.00  \n",
       "FinMth       106.000      117.00  \n",
       "OpTime        69.300       99.10  \n",
       "InjNb          3.000        5.00  \n",
       "Legal          1.000        1.00  \n",
       "AggClaim   35123.415  4485797.21  "
      ]
     },
     "execution_count": 43,
     "metadata": {},
     "output_type": "execute_result"
    }
   ],
   "source": [
    "# По умолчанию включает только столбцы с числовыми типами данных.\n",
    "# Выведем данные по тем же столбцам, явно указывая тип.\n",
    "# Если столбцов много, удобнее выводить в транспонированном виде.\n",
    "dfAusAuto.describe(include=['int64', 'float64']).T"
   ]
  },
  {
   "cell_type": "code",
   "execution_count": 44,
   "metadata": {
    "colab": {},
    "colab_type": "code",
    "execution": {
     "iopub.execute_input": "2020-12-07T07:38:15.653620Z",
     "iopub.status.busy": "2020-12-07T07:38:15.652725Z",
     "iopub.status.idle": "2020-12-07T07:38:15.718183Z",
     "shell.execute_reply": "2020-12-07T07:38:15.718908Z"
    },
    "id": "Em7xCA_ge2tN",
    "outputId": "54d1c8ca-f2e8-4296-ce1c-4a1bff9cb1d8",
    "papermill": {
     "duration": 0.17021,
     "end_time": "2020-12-07T07:38:15.719131",
     "exception": false,
     "start_time": "2020-12-07T07:38:15.548921",
     "status": "completed"
    },
    "tags": []
   },
   "outputs": [
    {
     "data": {
      "text/html": [
       "<div>\n",
       "<style scoped>\n",
       "    .dataframe tbody tr th:only-of-type {\n",
       "        vertical-align: middle;\n",
       "    }\n",
       "\n",
       "    .dataframe tbody tr th {\n",
       "        vertical-align: top;\n",
       "    }\n",
       "\n",
       "    .dataframe thead th {\n",
       "        text-align: right;\n",
       "    }\n",
       "</style>\n",
       "<table border=\"1\" class=\"dataframe\">\n",
       "  <thead>\n",
       "    <tr style=\"text-align: right;\">\n",
       "      <th></th>\n",
       "      <th>count</th>\n",
       "      <th>unique</th>\n",
       "      <th>top</th>\n",
       "      <th>freq</th>\n",
       "    </tr>\n",
       "  </thead>\n",
       "  <tbody>\n",
       "    <tr>\n",
       "      <th>InjType1</th>\n",
       "      <td>22036</td>\n",
       "      <td>7</td>\n",
       "      <td>minor injury</td>\n",
       "      <td>15638</td>\n",
       "    </tr>\n",
       "    <tr>\n",
       "      <th>InjType2</th>\n",
       "      <td>22036</td>\n",
       "      <td>8</td>\n",
       "      <td>no</td>\n",
       "      <td>10598</td>\n",
       "    </tr>\n",
       "    <tr>\n",
       "      <th>InjType3</th>\n",
       "      <td>22036</td>\n",
       "      <td>8</td>\n",
       "      <td>no</td>\n",
       "      <td>14898</td>\n",
       "    </tr>\n",
       "    <tr>\n",
       "      <th>InjType4</th>\n",
       "      <td>22036</td>\n",
       "      <td>7</td>\n",
       "      <td>no</td>\n",
       "      <td>17929</td>\n",
       "    </tr>\n",
       "    <tr>\n",
       "      <th>InjType5</th>\n",
       "      <td>22036</td>\n",
       "      <td>7</td>\n",
       "      <td>no</td>\n",
       "      <td>19726</td>\n",
       "    </tr>\n",
       "  </tbody>\n",
       "</table>\n",
       "</div>"
      ],
      "text/plain": [
       "          count unique           top   freq\n",
       "InjType1  22036      7  minor injury  15638\n",
       "InjType2  22036      8            no  10598\n",
       "InjType3  22036      8            no  14898\n",
       "InjType4  22036      7            no  17929\n",
       "InjType5  22036      7            no  19726"
      ]
     },
     "execution_count": 44,
     "metadata": {},
     "output_type": "execute_result"
    }
   ],
   "source": [
    "# Для категориальных признаков считаются другие статистики (top, freq), поэтому удобнее выводить\n",
    "# их не вместе (include='all'), а по отдельности\n",
    "dfAusAuto.describe(include=['object']).T"
   ]
  },
  {
   "cell_type": "markdown",
   "metadata": {
    "colab_type": "text",
    "id": "O_Bm7MOJe2td",
    "papermill": {
     "duration": 0.096795,
     "end_time": "2020-12-07T07:38:15.910312",
     "exception": false,
     "start_time": "2020-12-07T07:38:15.813517",
     "status": "completed"
    },
    "tags": []
   },
   "source": [
    "#### 1.1.5 Базовые элементы визуализации  \n",
    "С помощью метода plot() объектов DataFrame и Series мы вызываем функцию plot() библиотеки matplotlib.  \n",
    "Рассмотрим несколько основных видов графиков."
   ]
  },
  {
   "cell_type": "code",
   "execution_count": 45,
   "metadata": {
    "colab": {},
    "colab_type": "code",
    "execution": {
     "iopub.execute_input": "2020-12-07T07:38:16.107423Z",
     "iopub.status.busy": "2020-12-07T07:38:16.106570Z",
     "iopub.status.idle": "2020-12-07T07:38:16.651834Z",
     "shell.execute_reply": "2020-12-07T07:38:16.652568Z"
    },
    "id": "9G8t5lDLe2tg",
    "outputId": "31f33f71-f10c-496d-ce79-1f8df89c7c69",
    "papermill": {
     "duration": 0.64844,
     "end_time": "2020-12-07T07:38:16.652847",
     "exception": false,
     "start_time": "2020-12-07T07:38:16.004407",
     "status": "completed"
    },
    "tags": []
   },
   "outputs": [
    {
     "data": {
      "image/png": "[encoded data removed]",
      "text/plain": [
       "<Figure size 1008x504 with 1 Axes>"
      ]
     },
     "metadata": {},
     "output_type": "display_data"
    }
   ],
   "source": [
    "# Мы уже строили графики boxplot (\"ящик с усами\") и hist (гистограмму).\n",
    "# Построим столбчатый график с накоплением для сделанной выше\n",
    "# таблицы распределения тяжести травм у пострадавших.\n",
    "plt.rcParams['figure.figsize'] = (14, 7)\n",
    "dfAusAuto[col_inj].apply(pd.Series.value_counts).\\\n",
    "sort_values(by='InjType1', ascending=False).fillna(0).T.\\\n",
    "plot.bar(stacked=True);\n",
    "plt.legend(frameon=True);"
   ]
  },
  {
   "cell_type": "code",
   "execution_count": 46,
   "metadata": {
    "colab": {},
    "colab_type": "code",
    "execution": {
     "iopub.execute_input": "2020-12-07T07:38:16.853014Z",
     "iopub.status.busy": "2020-12-07T07:38:16.851979Z",
     "iopub.status.idle": "2020-12-07T07:38:17.563715Z",
     "shell.execute_reply": "2020-12-07T07:38:17.564406Z"
    },
    "id": "SPD82pqje2tv",
    "outputId": "a68634dd-9a6b-4811-92ba-a62e9c304d6e",
    "papermill": {
     "duration": 0.815545,
     "end_time": "2020-12-07T07:38:17.564643",
     "exception": false,
     "start_time": "2020-12-07T07:38:16.749098",
     "status": "completed"
    },
    "tags": []
   },
   "outputs": [
    {
     "data": {
      "image/png": "[encoded data removed]",
      "text/plain": [
       "<Figure size 1008x504 with 1 Axes>"
      ]
     },
     "metadata": {},
     "output_type": "display_data"
    }
   ],
   "source": [
    "# Посмотрим scatter plot (диаграмму рассеяния) зависимости месяца завершения от месяца аварии\n",
    "# Цветом отметим количество пострадавших, а размером - логарифм суммы.\n",
    "dfAusAuto[['AccMth', 'FinMth']].plot.scatter(x='AccMth', y='FinMth',\n",
    "                                             alpha=0.5, edgecolor='gray',\n",
    "                                             s=np.log1p(dfAusAuto.AggClaim),\n",
    "                                             c=dfAusAuto.InjNb);\n",
    "plt.yticks(range(0, 140, 20));"
   ]
  },
  {
   "cell_type": "code",
   "execution_count": null,
   "metadata": {
    "colab": {},
    "colab_type": "code",
    "id": "XC0m03_Ge2t-",
    "papermill": {
     "duration": 0.101453,
     "end_time": "2020-12-07T07:38:17.773037",
     "exception": false,
     "start_time": "2020-12-07T07:38:17.671584",
     "status": "completed"
    },
    "tags": []
   },
   "outputs": [],
   "source": []
  }
 ],
 "metadata": {
  "colab": {
   "collapsed_sections": [
    "Cy12G-CGe2pE"
   ],
   "name": "1.1_pandas.ipynb",
   "provenance": []
  },
  "kernelspec": {
   "display_name": "Python 3",
   "language": "python",
   "name": "python3"
  },
  "language_info": {
   "codemirror_mode": {
    "name": "ipython",
    "version": 3
   },
   "file_extension": ".py",
   "mimetype": "text/x-python",
   "name": "python",
   "nbconvert_exporter": "python",
   "pygments_lexer": "ipython3",
   "version": "3.8.5"
  },
  "papermill": {
   "default_parameters": {},
   "duration": 17.177633,
   "end_time": "2020-12-07T07:38:19.134336",
   "environment_variables": {},
   "exception": null,
   "input_path": "/home/frankshikhaliev/Research/!RGSPractice1/1. Pandas/1.1_pandas.ipynb",
   "output_path": "/home/frankshikhaliev/Research/!RGSPractice1/1. Pandas/1.1_pandas.ipynb",
   "parameters": {},
   "start_time": "2020-12-07T07:38:01.956703",
   "version": "2.2.2"
  }
 },
 "nbformat": 4,
 "nbformat_minor": 4
}