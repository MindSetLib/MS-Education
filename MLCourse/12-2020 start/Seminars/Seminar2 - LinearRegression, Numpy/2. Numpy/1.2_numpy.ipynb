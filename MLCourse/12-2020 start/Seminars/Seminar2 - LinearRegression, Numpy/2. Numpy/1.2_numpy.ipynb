{
 "cells": [
  {
   "cell_type": "markdown",
   "metadata": {
    "colab_type": "text",
    "id": "pmjxC3aWkGox",
    "papermill": {
     "duration": 0.105529,
     "end_time": "2020-12-07T07:38:20.569222",
     "exception": false,
     "start_time": "2020-12-07T07:38:20.463693",
     "status": "completed"
    },
    "tags": []
   },
   "source": [
    "## Машинное обучение - 1\n",
    "### 1. Решение задач кластеризации, классификации и регрессии с применением библиотек Python: scipy, numpy, pandas, matplotlib, sklearn. (повторение, на примерах из бизнеса).  \n",
    "\n",
    "\n",
    "### 1.2 Вспоминаем NumPy"
   ]
  },
  {
   "cell_type": "code",
   "execution_count": 1,
   "metadata": {
    "colab": {},
    "colab_type": "code",
    "executionInfo": {
     "elapsed": 2105,
     "status": "ok",
     "timestamp": 1600707011626,
     "user": {
      "displayName": "Frank Shikhaliev",
      "photoUrl": "https://lh3.googleusercontent.com/a-/AOh14Gh4zzgfDDbTXC_ptmv1b90BAxa2ojP--8VkZoIhVg=s64",
      "userId": "01266577514402258000"
     },
     "user_tz": -180
    },
    "id": "_6Je4zOlkGo-",
    "papermill": {
     "duration": 0.248276,
     "end_time": "2020-12-07T07:38:20.890562",
     "exception": false,
     "start_time": "2020-12-07T07:38:20.642286",
     "status": "completed"
    },
    "tags": []
   },
   "outputs": [],
   "source": [
    "# Импортируем библиотеку numpy\n",
    "import numpy as np"
   ]
  },
  {
   "cell_type": "markdown",
   "metadata": {
    "colab_type": "text",
    "id": "hy7_PFX9kGpj",
    "papermill": {
     "duration": 0.068279,
     "end_time": "2020-12-07T07:38:21.026392",
     "exception": false,
     "start_time": "2020-12-07T07:38:20.958113",
     "status": "completed"
    },
    "tags": []
   },
   "source": [
    "Билиотека **NumPy** предоставляет возможность работы с многомерными массивами с поддержкой выскоуровневых математических функций."
   ]
  },
  {
   "cell_type": "markdown",
   "metadata": {
    "colab_type": "text",
    "id": "YbTeulhwkGpu",
    "papermill": {
     "duration": 0.066648,
     "end_time": "2020-12-07T07:38:21.160172",
     "exception": false,
     "start_time": "2020-12-07T07:38:21.093524",
     "status": "completed"
    },
    "tags": []
   },
   "source": [
    "#### 1.2.1 Создание массивов  \n",
    "\n",
    "Создать массив можно:\n",
    "  -  Из структур Python (списки, кортежи)\n",
    "  -  Прочитать с диска\n",
    "  -  Встроенные средства создания массивов (arange, zeros, ones, random и т.п.)"
   ]
  },
  {
   "cell_type": "code",
   "execution_count": 2,
   "metadata": {
    "colab": {
     "base_uri": "https://localhost:8080/",
     "height": 34
    },
    "colab_type": "code",
    "execution": {
     "iopub.execute_input": "2020-12-07T07:38:21.299600Z",
     "iopub.status.busy": "2020-12-07T07:38:21.298739Z",
     "iopub.status.idle": "2020-12-07T07:38:21.302852Z",
     "shell.execute_reply": "2020-12-07T07:38:21.303549Z"
    },
    "executionInfo": {
     "elapsed": 1995,
     "status": "ok",
     "timestamp": 1600707011636,
     "user": {
      "displayName": "Frank Shikhaliev",
      "photoUrl": "https://lh3.googleusercontent.com/a-/AOh14Gh4zzgfDDbTXC_ptmv1b90BAxa2ojP--8VkZoIhVg=s64",
      "userId": "01266577514402258000"
     },
     "user_tz": -180
    },
    "id": "lkmHCQRXkGpy",
    "outputId": "df63a1c2-e25c-4e60-8ea3-226be181a09e",
    "papermill": {
     "duration": 0.077373,
     "end_time": "2020-12-07T07:38:21.303756",
     "exception": false,
     "start_time": "2020-12-07T07:38:21.226383",
     "status": "completed"
    },
    "tags": []
   },
   "outputs": [
    {
     "name": "stdout",
     "output_type": "stream",
     "text": [
      "[40 50 20 30] Тип элементов: int64\n"
     ]
    }
   ],
   "source": [
    "# 1. Создание массива из списка\n",
    "# Создадим массив, и проверим тип элементов в нём с помощью атрибута dtype\n",
    "a = np.array([40, 50, 20, 30])\n",
    "print(a, 'Тип элементов:', a.dtype)"
   ]
  },
  {
   "cell_type": "code",
   "execution_count": 3,
   "metadata": {
    "colab": {
     "base_uri": "https://localhost:8080/",
     "height": 52
    },
    "colab_type": "code",
    "execution": {
     "iopub.execute_input": "2020-12-07T07:38:21.446343Z",
     "iopub.status.busy": "2020-12-07T07:38:21.445384Z",
     "iopub.status.idle": "2020-12-07T07:38:21.451153Z",
     "shell.execute_reply": "2020-12-07T07:38:21.450407Z"
    },
    "executionInfo": {
     "elapsed": 1387,
     "status": "ok",
     "timestamp": 1600707014022,
     "user": {
      "displayName": "Frank Shikhaliev",
      "photoUrl": "https://lh3.googleusercontent.com/a-/AOh14Gh4zzgfDDbTXC_ptmv1b90BAxa2ojP--8VkZoIhVg=s64",
      "userId": "01266577514402258000"
     },
     "user_tz": -180
    },
    "id": "T1BFnBe3kGqR",
    "outputId": "eab080b8-de3d-42a3-da0d-b0e4a2c90101",
    "papermill": {
     "duration": 0.080464,
     "end_time": "2020-12-07T07:38:21.451334",
     "exception": false,
     "start_time": "2020-12-07T07:38:21.370870",
     "status": "completed"
    },
    "tags": []
   },
   "outputs": [
    {
     "name": "stdout",
     "output_type": "stream",
     "text": [
      "[10.9 20.  30.  40.  50.  60. ] Тип элементов: float64\n",
      "[10 20 30 40 50 60] Тип элементов: int16\n"
     ]
    }
   ],
   "source": [
    "# 2. Явное указание типа\n",
    "# Иногда требуется явно указать, какого типа будут элементы в создаваемом массиве\n",
    "a = [10.9, 20]\n",
    "b = [30, 40, 50, 60]\n",
    "# Без указания типа получаем float64\n",
    "c = np.array(a+b)\n",
    "print(c, 'Тип элементов:', c.dtype)\n",
    "# Можем оставить только целую часть, используя параметр dtype=np.int16\n",
    "c = np.array(a+b, dtype=np.int16)\n",
    "print(c, 'Тип элементов:', c.dtype)"
   ]
  },
  {
   "cell_type": "code",
   "execution_count": 4,
   "metadata": {
    "colab": {
     "base_uri": "https://localhost:8080/",
     "height": 70
    },
    "colab_type": "code",
    "execution": {
     "iopub.execute_input": "2020-12-07T07:38:21.597000Z",
     "iopub.status.busy": "2020-12-07T07:38:21.596133Z",
     "iopub.status.idle": "2020-12-07T07:38:21.600712Z",
     "shell.execute_reply": "2020-12-07T07:38:21.599957Z"
    },
    "executionInfo": {
     "elapsed": 1196,
     "status": "ok",
     "timestamp": 1600707024519,
     "user": {
      "displayName": "Frank Shikhaliev",
      "photoUrl": "https://lh3.googleusercontent.com/a-/AOh14Gh4zzgfDDbTXC_ptmv1b90BAxa2ojP--8VkZoIhVg=s64",
      "userId": "01266577514402258000"
     },
     "user_tz": -180
    },
    "id": "MbMdj0xBkGqr",
    "outputId": "5a65cede-360b-4138-86c9-d664f9458e80",
    "papermill": {
     "duration": 0.081765,
     "end_time": "2020-12-07T07:38:21.600893",
     "exception": false,
     "start_time": "2020-12-07T07:38:21.519128",
     "status": "completed"
    },
    "tags": []
   },
   "outputs": [
    {
     "name": "stdout",
     "output_type": "stream",
     "text": [
      "[[ 1. nan  1.  1.  1.]\n",
      " [ 2.  2. nan  2. nan]\n",
      " [ 3.  3. nan nan  3.]] Тип элементов: float64\n"
     ]
    }
   ],
   "source": [
    "# 3. Создание массива чтением с диска\n",
    "# Создадим симуляцию файла с помощью функции StringIO\n",
    "from io import StringIO\n",
    "s_file = StringIO(\"\"\"1,  , 1, 1, 1\\n\n",
    "                     2, 2,  , 2,  \\n\n",
    "                     3, 3,  ,  , 3\\n\"\"\")\n",
    "# Прочитаем файл с помощью функции genfromtxt.\n",
    "# Укажем разделитель (парметр delimiter), без указания типа (параметр dtype)\n",
    "a = np.genfromtxt(s_file, delimiter=\",\")\n",
    "# Проверим\n",
    "print(a, 'Тип элементов:', a.dtype)"
   ]
  },
  {
   "cell_type": "code",
   "execution_count": 5,
   "metadata": {
    "colab": {
     "base_uri": "https://localhost:8080/",
     "height": 52
    },
    "colab_type": "code",
    "execution": {
     "iopub.execute_input": "2020-12-07T07:38:21.745652Z",
     "iopub.status.busy": "2020-12-07T07:38:21.744663Z",
     "iopub.status.idle": "2020-12-07T07:38:21.747941Z",
     "shell.execute_reply": "2020-12-07T07:38:21.748718Z"
    },
    "executionInfo": {
     "elapsed": 2353,
     "status": "ok",
     "timestamp": 1600712995014,
     "user": {
      "displayName": "Frank Shikhaliev",
      "photoUrl": "https://lh3.googleusercontent.com/a-/AOh14Gh4zzgfDDbTXC_ptmv1b90BAxa2ojP--8VkZoIhVg=s64",
      "userId": "01266577514402258000"
     },
     "user_tz": -180
    },
    "id": "OJkUEfg0kGrF",
    "outputId": "509c47f7-0aa5-4160-97de-c8660f429df3",
    "papermill": {
     "duration": 0.078051,
     "end_time": "2020-12-07T07:38:21.748947",
     "exception": false,
     "start_time": "2020-12-07T07:38:21.670896",
     "status": "completed"
    },
    "tags": []
   },
   "outputs": [
    {
     "name": "stdout",
     "output_type": "stream",
     "text": [
      "[0 1 2 3 4] Тип элементов: int64\n",
      "[0. 1. 2. 3. 4.] Тип элементов: float64\n"
     ]
    }
   ],
   "source": [
    "# 4. Создание массива с помощью генератора arange\n",
    "# С помощью функции arange(start, stop, step, dtype) можно создать одномерный массив\n",
    "# с перым элементом start (по умолчанию 0), последним элементом stop (не включён в массив),\n",
    "# шагом step (по умолчанию 1) и типом dtype\n",
    "# Если указан только 1 параметр, он используется как параметр stop\n",
    "a = np.arange(5)\n",
    "print(a, 'Тип элементов:', a.dtype)\n",
    "# Если тип не указан, используется тип, подходящий под другие параметры\n",
    "a = np.arange(5.)\n",
    "print(a, 'Тип элементов:', a.dtype)"
   ]
  },
  {
   "cell_type": "code",
   "execution_count": 6,
   "metadata": {
    "colab": {
     "base_uri": "https://localhost:8080/",
     "height": 52
    },
    "colab_type": "code",
    "execution": {
     "iopub.execute_input": "2020-12-07T07:38:21.898085Z",
     "iopub.status.busy": "2020-12-07T07:38:21.896832Z",
     "iopub.status.idle": "2020-12-07T07:38:21.900401Z",
     "shell.execute_reply": "2020-12-07T07:38:21.901082Z"
    },
    "executionInfo": {
     "elapsed": 1196,
     "status": "ok",
     "timestamp": 1600707035954,
     "user": {
      "displayName": "Frank Shikhaliev",
      "photoUrl": "https://lh3.googleusercontent.com/a-/AOh14Gh4zzgfDDbTXC_ptmv1b90BAxa2ojP--8VkZoIhVg=s64",
      "userId": "01266577514402258000"
     },
     "user_tz": -180
    },
    "id": "7CLo9m_skGrh",
    "outputId": "032e65c1-f7aa-4050-9674-589f16f17881",
    "papermill": {
     "duration": 0.078706,
     "end_time": "2020-12-07T07:38:21.901288",
     "exception": false,
     "start_time": "2020-12-07T07:38:21.822582",
     "status": "completed"
    },
    "tags": []
   },
   "outputs": [
    {
     "name": "stdout",
     "output_type": "stream",
     "text": [
      "[ 40  25  10  -5 -20]\n",
      "[]\n"
     ]
    }
   ],
   "source": [
    "# Шаг может быть отрицательным\n",
    "a = np.arange(40, -30, -15)\n",
    "print(a)\n",
    "# Если между start и stop с шагом step нет ни одного элемента, в результате будет пустой массив\n",
    "a = np.arange(1, 10, -1)\n",
    "print(a)"
   ]
  },
  {
   "cell_type": "code",
   "execution_count": 7,
   "metadata": {
    "colab": {
     "base_uri": "https://localhost:8080/",
     "height": 52
    },
    "colab_type": "code",
    "execution": {
     "iopub.execute_input": "2020-12-07T07:38:22.044668Z",
     "iopub.status.busy": "2020-12-07T07:38:22.043763Z",
     "iopub.status.idle": "2020-12-07T07:38:22.047233Z",
     "shell.execute_reply": "2020-12-07T07:38:22.047916Z"
    },
    "executionInfo": {
     "elapsed": 1221,
     "status": "ok",
     "timestamp": 1600707045985,
     "user": {
      "displayName": "Frank Shikhaliev",
      "photoUrl": "https://lh3.googleusercontent.com/a-/AOh14Gh4zzgfDDbTXC_ptmv1b90BAxa2ojP--8VkZoIhVg=s64",
      "userId": "01266577514402258000"
     },
     "user_tz": -180
    },
    "id": "Ey_GfSchkGsI",
    "outputId": "54ff53a3-fb08-444c-8c06-d947a3a748bb",
    "papermill": {
     "duration": 0.0799,
     "end_time": "2020-12-07T07:38:22.048128",
     "exception": false,
     "start_time": "2020-12-07T07:38:21.968228",
     "status": "completed"
    },
    "tags": []
   },
   "outputs": [
    {
     "name": "stdout",
     "output_type": "stream",
     "text": [
      "[0.1 0.2]\n",
      "[0.1 0.2 0.3 0.4]\n"
     ]
    }
   ],
   "source": [
    "# 5. arange с вещественным шагом\n",
    "# В связи с округлением (ceil((stop - start)/step)), при использовании вещественного шага step\n",
    "# элемент stop может быть как не включён, так и включён в массив\n",
    "# Стандартное поведение (stop не включён)\n",
    "a = np.arange(.1, .3, .1)\n",
    "print(a)\n",
    "# Из-за округления stop включён\n",
    "a = np.arange(.1, .4, .1)\n",
    "print(a)\n",
    "# В связи с этим, в случае вещественного шага рекомендуется использовать linspace"
   ]
  },
  {
   "cell_type": "code",
   "execution_count": 8,
   "metadata": {
    "colab": {
     "base_uri": "https://localhost:8080/",
     "height": 34
    },
    "colab_type": "code",
    "execution": {
     "iopub.execute_input": "2020-12-07T07:38:22.205679Z",
     "iopub.status.busy": "2020-12-07T07:38:22.204793Z",
     "iopub.status.idle": "2020-12-07T07:38:22.208562Z",
     "shell.execute_reply": "2020-12-07T07:38:22.209260Z"
    },
    "executionInfo": {
     "elapsed": 1465,
     "status": "ok",
     "timestamp": 1600707093970,
     "user": {
      "displayName": "Frank Shikhaliev",
      "photoUrl": "https://lh3.googleusercontent.com/a-/AOh14Gh4zzgfDDbTXC_ptmv1b90BAxa2ojP--8VkZoIhVg=s64",
      "userId": "01266577514402258000"
     },
     "user_tz": -180
    },
    "id": "cuRP6-y8kGsv",
    "outputId": "2953059e-fa34-49f2-c007-b440c277bf9a",
    "papermill": {
     "duration": 0.08948,
     "end_time": "2020-12-07T07:38:22.209512",
     "exception": false,
     "start_time": "2020-12-07T07:38:22.120032",
     "status": "completed"
    },
    "tags": []
   },
   "outputs": [
    {
     "data": {
      "text/plain": [
       "array([0. , 0.1, 0.2, 0.3, 0.4, 0.5, 0.6, 0.7, 0.8, 0.9, 1. ])"
      ]
     },
     "execution_count": 8,
     "metadata": {},
     "output_type": "execute_result"
    }
   ],
   "source": [
    "# 6. Создание массива с помощью генератора linspace\n",
    "# Функция linspace возвращает одномерный массив из num элементов (по умолчанию 50)\n",
    "# равномерно распределённых от start до stop.\n",
    "# Если параметр endpoint=True (по умолчанию), элемент stop включается в массив\n",
    "# Создадим массив из 10 элементов от 0 до 1, включая правую границу\n",
    "np.linspace(0,1,11)"
   ]
  },
  {
   "cell_type": "code",
   "execution_count": 9,
   "metadata": {
    "colab": {
     "base_uri": "https://localhost:8080/",
     "height": 70
    },
    "colab_type": "code",
    "execution": {
     "iopub.execute_input": "2020-12-07T07:38:22.355253Z",
     "iopub.status.busy": "2020-12-07T07:38:22.354334Z",
     "iopub.status.idle": "2020-12-07T07:38:22.358541Z",
     "shell.execute_reply": "2020-12-07T07:38:22.357703Z"
    },
    "executionInfo": {
     "elapsed": 916,
     "status": "ok",
     "timestamp": 1600707110673,
     "user": {
      "displayName": "Frank Shikhaliev",
      "photoUrl": "https://lh3.googleusercontent.com/a-/AOh14Gh4zzgfDDbTXC_ptmv1b90BAxa2ojP--8VkZoIhVg=s64",
      "userId": "01266577514402258000"
     },
     "user_tz": -180
    },
    "id": "7imQVsYvkGtK",
    "outputId": "8d652531-6c03-4b20-a6bc-054b5a8c3938",
    "papermill": {
     "duration": 0.080393,
     "end_time": "2020-12-07T07:38:22.358761",
     "exception": false,
     "start_time": "2020-12-07T07:38:22.278368",
     "status": "completed"
    },
    "tags": []
   },
   "outputs": [
    {
     "name": "stdout",
     "output_type": "stream",
     "text": [
      "[[0. 0. 0. 0. 0.]\n",
      " [0. 0. 0. 0. 0.]\n",
      " [0. 0. 0. 0. 0.]]\n"
     ]
    }
   ],
   "source": [
    "# 7. Массив из нулей zeros\n",
    "# Размерность требуемого массива передаётся в виде кортежа (x1, x2, ..., xn)\n",
    "# Создадим массив из 3-х строк и 5 столбцов, в качестве параметра передаём кортеж  (3, 5)\n",
    "a = np.zeros((3, 5))\n",
    "print(a)"
   ]
  },
  {
   "cell_type": "code",
   "execution_count": 10,
   "metadata": {
    "colab": {
     "base_uri": "https://localhost:8080/",
     "height": 122
    },
    "colab_type": "code",
    "execution": {
     "iopub.execute_input": "2020-12-07T07:38:22.510141Z",
     "iopub.status.busy": "2020-12-07T07:38:22.509224Z",
     "iopub.status.idle": "2020-12-07T07:38:22.513288Z",
     "shell.execute_reply": "2020-12-07T07:38:22.512574Z"
    },
    "executionInfo": {
     "elapsed": 1341,
     "status": "ok",
     "timestamp": 1600713018848,
     "user": {
      "displayName": "Frank Shikhaliev",
      "photoUrl": "https://lh3.googleusercontent.com/a-/AOh14Gh4zzgfDDbTXC_ptmv1b90BAxa2ojP--8VkZoIhVg=s64",
      "userId": "01266577514402258000"
     },
     "user_tz": -180
    },
    "id": "A0sFloYBkGtt",
    "outputId": "583df23f-44c7-4737-fc5b-05a5c50165df",
    "papermill": {
     "duration": 0.084331,
     "end_time": "2020-12-07T07:38:22.513515",
     "exception": false,
     "start_time": "2020-12-07T07:38:22.429184",
     "status": "completed"
    },
    "tags": []
   },
   "outputs": [
    {
     "name": "stdout",
     "output_type": "stream",
     "text": [
      "[[1. 1.]\n",
      " [1. 1.]\n",
      " [1. 1.]]\n",
      "[[0. 0.]\n",
      " [0. 0.]\n",
      " [0. 0.]]\n"
     ]
    }
   ],
   "source": [
    "# 8. Массив из единиц ones\n",
    "# Массив из единиц создаётся аналогично массиву из нулей.\n",
    "# Создадим массив из 3-х строк и 2 столбцов\n",
    "a = np.ones((3,2))\n",
    "print(a)\n",
    "# И у zeros и у ones есть аналоги zeros_like и ones_like,\n",
    "# которые создают новый массив с такой же размерностью, как и массив, переданный как параметр\n",
    "# Создадим массив из нулей той же размерности, как и массив из единиц, созданный выше\n",
    "b = np.zeros_like(a)\n",
    "print(b)"
   ]
  },
  {
   "cell_type": "code",
   "execution_count": 11,
   "metadata": {
    "colab": {
     "base_uri": "https://localhost:8080/",
     "height": 52
    },
    "colab_type": "code",
    "execution": {
     "iopub.execute_input": "2020-12-07T07:38:22.666958Z",
     "iopub.status.busy": "2020-12-07T07:38:22.666098Z",
     "iopub.status.idle": "2020-12-07T07:38:22.670188Z",
     "shell.execute_reply": "2020-12-07T07:38:22.669459Z"
    },
    "executionInfo": {
     "elapsed": 886,
     "status": "ok",
     "timestamp": 1600707126889,
     "user": {
      "displayName": "Frank Shikhaliev",
      "photoUrl": "https://lh3.googleusercontent.com/a-/AOh14Gh4zzgfDDbTXC_ptmv1b90BAxa2ojP--8VkZoIhVg=s64",
      "userId": "01266577514402258000"
     },
     "user_tz": -180
    },
    "id": "8Bq7OANCkGuU",
    "outputId": "ecc45d5d-e4c9-495e-ef51-79e04f679302",
    "papermill": {
     "duration": 0.084837,
     "end_time": "2020-12-07T07:38:22.670370",
     "exception": false,
     "start_time": "2020-12-07T07:38:22.585533",
     "status": "completed"
    },
    "tags": []
   },
   "outputs": [
    {
     "name": "stdout",
     "output_type": "stream",
     "text": [
      "[[5 5 5]\n",
      " [5 5 5]]\n"
     ]
    }
   ],
   "source": [
    "# 9. Массив из одинаковых значений full\n",
    "# Мы можем заполнить массив не только нулями или единицами, но любой константой с функцией full\n",
    "# Создадим массив из 2-х строк и 3-х столбцов и заполним его пятёрками.\n",
    "c = np.full((2,3), 5)\n",
    "print(c)"
   ]
  },
  {
   "cell_type": "code",
   "execution_count": 12,
   "metadata": {
    "colab": {
     "base_uri": "https://localhost:8080/",
     "height": 52
    },
    "colab_type": "code",
    "execution": {
     "iopub.execute_input": "2020-12-07T07:38:22.817913Z",
     "iopub.status.busy": "2020-12-07T07:38:22.816897Z",
     "iopub.status.idle": "2020-12-07T07:38:22.821167Z",
     "shell.execute_reply": "2020-12-07T07:38:22.820305Z"
    },
    "executionInfo": {
     "elapsed": 959,
     "status": "ok",
     "timestamp": 1600707140136,
     "user": {
      "displayName": "Frank Shikhaliev",
      "photoUrl": "https://lh3.googleusercontent.com/a-/AOh14Gh4zzgfDDbTXC_ptmv1b90BAxa2ojP--8VkZoIhVg=s64",
      "userId": "01266577514402258000"
     },
     "user_tz": -180
    },
    "id": "deHAgPQ0kGvO",
    "outputId": "55b67d69-d8d1-4dc0-c3b3-3b55d95d83fd",
    "papermill": {
     "duration": 0.081961,
     "end_time": "2020-12-07T07:38:22.821374",
     "exception": false,
     "start_time": "2020-12-07T07:38:22.739413",
     "status": "completed"
    },
    "tags": []
   },
   "outputs": [
    {
     "name": "stdout",
     "output_type": "stream",
     "text": [
      "[[0.1 0.2]\n",
      " [0.3 0.4]]\n"
     ]
    }
   ],
   "source": [
    "# 10. Не инициализированный массив empty\n",
    "# Мы можем создать массив необходимой размерности, не присваивая элементам значения\n",
    "# Эта операция быстрее, чем создавать массив, например, из нулей\n",
    "# В этом случае мы должны быть уверены, что далее присваивоим каждому элементу нужное значение\n",
    "a = np.empty((2,2))\n",
    "print(a)"
   ]
  },
  {
   "cell_type": "code",
   "execution_count": 13,
   "metadata": {
    "colab": {
     "base_uri": "https://localhost:8080/",
     "height": 70
    },
    "colab_type": "code",
    "execution": {
     "iopub.execute_input": "2020-12-07T07:38:22.972409Z",
     "iopub.status.busy": "2020-12-07T07:38:22.971561Z",
     "iopub.status.idle": "2020-12-07T07:38:22.975526Z",
     "shell.execute_reply": "2020-12-07T07:38:22.976355Z"
    },
    "executionInfo": {
     "elapsed": 815,
     "status": "ok",
     "timestamp": 1600707146782,
     "user": {
      "displayName": "Frank Shikhaliev",
      "photoUrl": "https://lh3.googleusercontent.com/a-/AOh14Gh4zzgfDDbTXC_ptmv1b90BAxa2ojP--8VkZoIhVg=s64",
      "userId": "01266577514402258000"
     },
     "user_tz": -180
    },
    "id": "ezY4aY5PkGv0",
    "outputId": "9dada347-27c5-407c-fbbe-623406b1f350",
    "papermill": {
     "duration": 0.084236,
     "end_time": "2020-12-07T07:38:22.976635",
     "exception": false,
     "start_time": "2020-12-07T07:38:22.892399",
     "status": "completed"
    },
    "tags": []
   },
   "outputs": [
    {
     "name": "stdout",
     "output_type": "stream",
     "text": [
      "[0.5012353  0.54166144 0.06714113 0.7194587  0.11454614]\n",
      "[[0.78505737 0.13671427]\n",
      " [0.07840766 0.49403722]]\n"
     ]
    }
   ],
   "source": [
    "# 11. Случайные массивы random\n",
    "# Создать массив со значениями случайно распределёнными от 0 до 1 (не включая 1) \n",
    "# можно с помощью функции random.random. Параметром передаётся размерность массива\n",
    "# Создадим одномерный массив из 5 элементов\n",
    "print(np.random.random(5))\n",
    "# Создадим двумерный массив 2Х2\n",
    "print(np.random.random((2,2)))"
   ]
  },
  {
   "cell_type": "code",
   "execution_count": 14,
   "metadata": {
    "colab": {
     "base_uri": "https://localhost:8080/",
     "height": 105
    },
    "colab_type": "code",
    "execution": {
     "iopub.execute_input": "2020-12-07T07:38:23.133352Z",
     "iopub.status.busy": "2020-12-07T07:38:23.132497Z",
     "iopub.status.idle": "2020-12-07T07:38:23.137178Z",
     "shell.execute_reply": "2020-12-07T07:38:23.136445Z"
    },
    "executionInfo": {
     "elapsed": 839,
     "status": "ok",
     "timestamp": 1600707151366,
     "user": {
      "displayName": "Frank Shikhaliev",
      "photoUrl": "https://lh3.googleusercontent.com/a-/AOh14Gh4zzgfDDbTXC_ptmv1b90BAxa2ojP--8VkZoIhVg=s64",
      "userId": "01266577514402258000"
     },
     "user_tz": -180
    },
    "id": "QUSrMO5TkGwe",
    "outputId": "f5eece58-faf9-45bf-ffbf-906daec10686",
    "papermill": {
     "duration": 0.087753,
     "end_time": "2020-12-07T07:38:23.137359",
     "exception": false,
     "start_time": "2020-12-07T07:38:23.049606",
     "status": "completed"
    },
    "tags": []
   },
   "outputs": [
    {
     "name": "stdout",
     "output_type": "stream",
     "text": [
      "[[9 8 4 2 7]\n",
      " [7 8 6 3 3]\n",
      " [9 1 7 1 4]\n",
      " [8 1 9 3 2]\n",
      " [5 8 3 1 2]]\n"
     ]
    }
   ],
   "source": [
    "# 12. Случайные массивы randint\n",
    "# В numpy множество вариантов создания массива со случайными значениями.\n",
    "# Приведём ещё один вариант: random.randint(low, high, size)\n",
    "# Эта функция создаёт массив размерности size (по умолчанию - одно значение),\n",
    "# заполненный целыми значениями случайно распределёнными от low (включительно) до high (не включительно)\n",
    "print(np.random.randint(1, 10, (5,5)))"
   ]
  },
  {
   "cell_type": "code",
   "execution_count": 15,
   "metadata": {
    "colab": {
     "base_uri": "https://localhost:8080/",
     "height": 105
    },
    "colab_type": "code",
    "execution": {
     "iopub.execute_input": "2020-12-07T07:38:23.291995Z",
     "iopub.status.busy": "2020-12-07T07:38:23.291007Z",
     "iopub.status.idle": "2020-12-07T07:38:23.560842Z",
     "shell.execute_reply": "2020-12-07T07:38:23.560091Z"
    },
    "executionInfo": {
     "elapsed": 1387,
     "status": "ok",
     "timestamp": 1600707173842,
     "user": {
      "displayName": "Frank Shikhaliev",
      "photoUrl": "https://lh3.googleusercontent.com/a-/AOh14Gh4zzgfDDbTXC_ptmv1b90BAxa2ojP--8VkZoIhVg=s64",
      "userId": "01266577514402258000"
     },
     "user_tz": -180
    },
    "id": "MO8wqrjfkGw1",
    "outputId": "df6921b9-3463-41b5-eca7-b12077d65ea7",
    "papermill": {
     "duration": 0.34885,
     "end_time": "2020-12-07T07:38:23.561038",
     "exception": false,
     "start_time": "2020-12-07T07:38:23.212188",
     "status": "completed"
    },
    "tags": []
   },
   "outputs": [
    {
     "name": "stdout",
     "output_type": "stream",
     "text": [
      "Тип:  <class 'numpy.ndarray'>\n",
      "Размер: (3, 2)\n",
      "[[1.  2.1]\n",
      " [1.  2.2]\n",
      " [1.  2.3]]\n"
     ]
    }
   ],
   "source": [
    "# 13. Перевод массива pandas.DataFrame в массив numpy, values\n",
    "# Создадим DataFrame из 2-х столбцов\n",
    "import pandas as pd\n",
    "dfA = pd.DataFrame({'c1': [1, 1, 1],\n",
    "                    'c2': [2.1, 2.2, 2.3]})\n",
    "# Для того, чтобы получить массив Numpy можно использовать метод values\n",
    "a = dfA.values\n",
    "# Проверим тип и размер получившегося объекта и выведем сам объект\n",
    "print('Тип: ', type(a))\n",
    "print('Размер:', a.shape)\n",
    "print(a)"
   ]
  },
  {
   "cell_type": "code",
   "execution_count": 16,
   "metadata": {
    "colab": {
     "base_uri": "https://localhost:8080/",
     "height": 105
    },
    "colab_type": "code",
    "execution": {
     "iopub.execute_input": "2020-12-07T07:38:23.714149Z",
     "iopub.status.busy": "2020-12-07T07:38:23.713240Z",
     "iopub.status.idle": "2020-12-07T07:38:23.717438Z",
     "shell.execute_reply": "2020-12-07T07:38:23.718148Z"
    },
    "executionInfo": {
     "elapsed": 866,
     "status": "ok",
     "timestamp": 1600707186217,
     "user": {
      "displayName": "Frank Shikhaliev",
      "photoUrl": "https://lh3.googleusercontent.com/a-/AOh14Gh4zzgfDDbTXC_ptmv1b90BAxa2ojP--8VkZoIhVg=s64",
      "userId": "01266577514402258000"
     },
     "user_tz": -180
    },
    "id": "USEAxkf5kGxP",
    "outputId": "89a26e56-ec4a-4f1f-9ac5-25fad04b08a1",
    "papermill": {
     "duration": 0.082798,
     "end_time": "2020-12-07T07:38:23.718377",
     "exception": false,
     "start_time": "2020-12-07T07:38:23.635579",
     "status": "completed"
    },
    "tags": []
   },
   "outputs": [
    {
     "name": "stdout",
     "output_type": "stream",
     "text": [
      "Тип:  <class 'numpy.ndarray'>\n",
      "Размер: (3, 2)\n",
      "[[1.  2.1]\n",
      " [1.  2.2]\n",
      " [1.  2.3]]\n"
     ]
    }
   ],
   "source": [
    "# 14. Перевод массива pandas.DataFrame в массив numpy, to_numpy\n",
    "# В документации рекомендованным методом для конвертации DataFrame в numpy.ndarray\n",
    "# указывается метод to_numpy\n",
    "# Используем to_numpy на DataFrame, созданный выше\n",
    "a = dfA.to_numpy()\n",
    "# Проверим тип и размер получившегося объекта и выведем сам объект\n",
    "print('Тип: ', type(a))\n",
    "print('Размер:', a.shape)\n",
    "print(a)"
   ]
  },
  {
   "cell_type": "code",
   "execution_count": 17,
   "metadata": {
    "colab": {},
    "colab_type": "code",
    "execution": {
     "iopub.execute_input": "2020-12-07T07:38:23.871350Z",
     "iopub.status.busy": "2020-12-07T07:38:23.870366Z",
     "iopub.status.idle": "2020-12-07T07:38:23.874850Z",
     "shell.execute_reply": "2020-12-07T07:38:23.875726Z"
    },
    "id": "_M74W_qjkGxj",
    "outputId": "45681aa6-4fd1-4c42-e177-7b97a7ba5dcd",
    "papermill": {
     "duration": 0.085029,
     "end_time": "2020-12-07T07:38:23.875976",
     "exception": false,
     "start_time": "2020-12-07T07:38:23.790947",
     "status": "completed"
    },
    "tags": []
   },
   "outputs": [
    {
     "name": "stdout",
     "output_type": "stream",
     "text": [
      "<class 'pandas.core.series.Series'>\n",
      "Тип:  <class 'numpy.ndarray'>\n",
      "Размер: (3,)\n",
      "[1 1 1]\n"
     ]
    }
   ],
   "source": [
    "# 15. Перевод pandas.Series в numpy через to_numpy\n",
    "# Для объектов Series работает такой же метод to_numpy\n",
    "# Создадим массив из первого столбца DataFrame из примера выше\n",
    "s = dfA['c1']\n",
    "# Убедимся, что работаем с серией\n",
    "print(type(s))\n",
    "a = s.to_numpy()\n",
    "print('Тип: ', type(a))\n",
    "print('Размер:', a.shape)\n",
    "# В результате получается одномерный массив\n",
    "print(a)"
   ]
  },
  {
   "cell_type": "markdown",
   "metadata": {
    "colab_type": "text",
    "id": "TSqxfbPGkGx9",
    "papermill": {
     "duration": 0.072258,
     "end_time": "2020-12-07T07:38:24.023394",
     "exception": false,
     "start_time": "2020-12-07T07:38:23.951136",
     "status": "completed"
    },
    "tags": []
   },
   "source": [
    "#### 1.2.2 Форма"
   ]
  },
  {
   "cell_type": "code",
   "execution_count": 18,
   "metadata": {
    "colab": {},
    "colab_type": "code",
    "execution": {
     "iopub.execute_input": "2020-12-07T07:38:24.174515Z",
     "iopub.status.busy": "2020-12-07T07:38:24.173674Z",
     "iopub.status.idle": "2020-12-07T07:38:24.178282Z",
     "shell.execute_reply": "2020-12-07T07:38:24.177516Z"
    },
    "id": "REawMI6hkGyA",
    "outputId": "ec39360b-e4c5-4cde-9bcb-56502ef71af5",
    "papermill": {
     "duration": 0.08259,
     "end_time": "2020-12-07T07:38:24.178450",
     "exception": false,
     "start_time": "2020-12-07T07:38:24.095860",
     "status": "completed"
    },
    "tags": []
   },
   "outputs": [
    {
     "name": "stdout",
     "output_type": "stream",
     "text": [
      "Размерностей:  4 , Размер:  (2, 3, 4, 5)\n"
     ]
    }
   ],
   "source": [
    "# 16. Размер shape и количество размерностей ndim\n",
    "# Для того, чтобы посмотреть количество размерностей массива, используем ndim\n",
    "# Количество строк и столбцов (и размер других осей, при наличии) можно вывести с shape\n",
    "a = np.zeros((2,3,4,5))\n",
    "print('Размерностей: ', a.ndim, ', Размер: ', a.shape)"
   ]
  },
  {
   "cell_type": "code",
   "execution_count": 19,
   "metadata": {
    "colab": {},
    "colab_type": "code",
    "execution": {
     "iopub.execute_input": "2020-12-07T07:38:24.331874Z",
     "iopub.status.busy": "2020-12-07T07:38:24.331031Z",
     "iopub.status.idle": "2020-12-07T07:38:24.335036Z",
     "shell.execute_reply": "2020-12-07T07:38:24.335698Z"
    },
    "id": "G6jJWH94kGyW",
    "outputId": "84e37456-78c9-4a97-dbd5-376b1614440c",
    "papermill": {
     "duration": 0.08437,
     "end_time": "2020-12-07T07:38:24.335889",
     "exception": false,
     "start_time": "2020-12-07T07:38:24.251519",
     "status": "completed"
    },
    "tags": []
   },
   "outputs": [
    {
     "name": "stdout",
     "output_type": "stream",
     "text": [
      "Исходный массив\n",
      "[[1. 1.]\n",
      " [1. 1.]\n",
      " [1. 1.]]\n",
      "Одномерное представление исходного массива\n",
      "[1. 1. 1. 1. 1. 1.]\n"
     ]
    }
   ],
   "source": [
    "# 17. Перевод многомерного массива в одномерный, ravel\n",
    "a = np.ones((3,2))\n",
    "print('Исходный массив')\n",
    "print(a)\n",
    "b = a.ravel()\n",
    "print('Одномерное представление исходного массива')\n",
    "print(b)"
   ]
  },
  {
   "cell_type": "code",
   "execution_count": 20,
   "metadata": {
    "colab": {},
    "colab_type": "code",
    "execution": {
     "iopub.execute_input": "2020-12-07T07:38:24.490542Z",
     "iopub.status.busy": "2020-12-07T07:38:24.489691Z",
     "iopub.status.idle": "2020-12-07T07:38:24.495759Z",
     "shell.execute_reply": "2020-12-07T07:38:24.494935Z"
    },
    "id": "4FbjVnEHkGyp",
    "outputId": "144d88ba-a019-4c58-ec46-48935ec38f4f",
    "papermill": {
     "duration": 0.08504,
     "end_time": "2020-12-07T07:38:24.496000",
     "exception": false,
     "start_time": "2020-12-07T07:38:24.410960",
     "status": "completed"
    },
    "tags": []
   },
   "outputs": [
    {
     "name": "stdout",
     "output_type": "stream",
     "text": [
      "Исходный массив\n",
      "[ 1  2  3  4  5  6  7  8  9 10 11 12]\n",
      "Двумерное представление исходного массива\n",
      "[[ 1  2  3  4]\n",
      " [ 5  6  7  8]\n",
      " [ 9 10 11 12]]\n"
     ]
    }
   ],
   "source": [
    "# 18. Изменение формы reshape\n",
    "# Для изменения формы массива можно использовать reshape\n",
    "# В качестве параметра передаётся кортеж с размерами по каждой оси\n",
    "# Создадим одномерный массив от 1 до 12, представим его в двумерном виде 3Х4\n",
    "a = np.arange(1, 13)\n",
    "print('Исходный массив')\n",
    "print(a)\n",
    "b = a.reshape((3,4))\n",
    "print('Двумерное представление исходного массива')\n",
    "print(b)"
   ]
  },
  {
   "cell_type": "code",
   "execution_count": 21,
   "metadata": {
    "colab": {},
    "colab_type": "code",
    "execution": {
     "iopub.execute_input": "2020-12-07T07:38:24.651764Z",
     "iopub.status.busy": "2020-12-07T07:38:24.650840Z",
     "iopub.status.idle": "2020-12-07T07:38:24.654633Z",
     "shell.execute_reply": "2020-12-07T07:38:24.653925Z"
    },
    "id": "3fIGfdABkGy-",
    "outputId": "d47e0e41-de0f-4881-ad72-0f4c692cee34",
    "papermill": {
     "duration": 0.083952,
     "end_time": "2020-12-07T07:38:24.654798",
     "exception": false,
     "start_time": "2020-12-07T07:38:24.570846",
     "status": "completed"
    },
    "tags": []
   },
   "outputs": [
    {
     "name": "stdout",
     "output_type": "stream",
     "text": [
      "Двумерное представление исходного массива (F-order)\n",
      "[[ 1  4  7 10]\n",
      " [ 2  5  8 11]\n",
      " [ 3  6  9 12]]\n"
     ]
    }
   ],
   "source": [
    "# 19. Изменение формы reshape, Fortran-order\n",
    "# По умолчанию используется порядок C-order: сначала заполняются столбцы, потом строки\n",
    "# Можно использовать F-order: сначала заполняются строки, потом столбцы\n",
    "# В этом случае результирующий массив из примера выше будет выглядеть так\n",
    "b = a.reshape((3,4), order='F')\n",
    "print('Двумерное представление исходного массива (F-order)')\n",
    "print(b)"
   ]
  },
  {
   "cell_type": "code",
   "execution_count": 22,
   "metadata": {
    "colab": {},
    "colab_type": "code",
    "execution": {
     "iopub.execute_input": "2020-12-07T07:38:24.811385Z",
     "iopub.status.busy": "2020-12-07T07:38:24.810482Z",
     "iopub.status.idle": "2020-12-07T07:38:24.815612Z",
     "shell.execute_reply": "2020-12-07T07:38:24.814760Z"
    },
    "id": "uVYeIUz3kGzV",
    "outputId": "f7096e3c-7e9e-4efa-8026-05de23aefc39",
    "papermill": {
     "duration": 0.085508,
     "end_time": "2020-12-07T07:38:24.815816",
     "exception": false,
     "start_time": "2020-12-07T07:38:24.730308",
     "status": "completed"
    },
    "tags": []
   },
   "outputs": [
    {
     "name": "stdout",
     "output_type": "stream",
     "text": [
      "Исходный массив\n",
      "[ 1  2  3  4  5  6  7  8  9 10 11 12]\n",
      "Двумерное представление исходного массива\n",
      "[[ 1  2  3  4  5  6]\n",
      " [ 7  8  9 10 11 12]]\n"
     ]
    }
   ],
   "source": [
    "# 20. Изменение формы reshape, размер -1\n",
    "# Мы можем использовать в качестве размеров \"-1\"\n",
    "# В этом случае этот размер будет определён исходя из количества элементов и остальных размеров\n",
    "a = np.arange(1, 13)\n",
    "print('Исходный массив')\n",
    "print(a)\n",
    "# Создадим двумерный массив с 6-ю столбцами. Количество строк определится автоматически.\n",
    "b = a.reshape((-1,6))\n",
    "print('Двумерное представление исходного массива')\n",
    "print(b)"
   ]
  },
  {
   "cell_type": "code",
   "execution_count": 23,
   "metadata": {
    "colab": {},
    "colab_type": "code",
    "execution": {
     "iopub.execute_input": "2020-12-07T07:38:24.975516Z",
     "iopub.status.busy": "2020-12-07T07:38:24.974567Z",
     "iopub.status.idle": "2020-12-07T07:38:24.980143Z",
     "shell.execute_reply": "2020-12-07T07:38:24.980938Z"
    },
    "id": "9AF0nl_skGzp",
    "outputId": "345df83d-dbb6-429e-8a01-f129ad08baa5",
    "papermill": {
     "duration": 0.088836,
     "end_time": "2020-12-07T07:38:24.981162",
     "exception": false,
     "start_time": "2020-12-07T07:38:24.892326",
     "status": "completed"
    },
    "tags": []
   },
   "outputs": [
    {
     "name": "stdout",
     "output_type": "stream",
     "text": [
      "Исходный массив\n",
      "[ 1  2  3  4  5  6  7  8  9 10 11 12]\n",
      "Двумерное представление исходного массива, с изменениями\n",
      "[[ 1  2  3  4]\n",
      " [ 0  0  0  0]\n",
      " [ 9 10 11 12]]\n",
      "Исходный массив\n",
      "[ 1  2  3  4  0  0  0  0  9 10 11 12]\n"
     ]
    }
   ],
   "source": [
    "# 21. Изменение формы reshape, view\n",
    "# С помощью reshape (а также ravel) мы не создаём новую копию объекта\n",
    "# Мы создаём его новое представление (view).\n",
    "# При изменениях значений элементов view мы меняем также и исходный массив\n",
    "# Продемонстрируем это. Создадим новый массив\n",
    "a = np.arange(1, 13)\n",
    "print('Исходный массив')\n",
    "print(a)\n",
    "# Создадим новое представление 3х4 и заменим среднюю строку на нули\n",
    "b = a.reshape((3,4))\n",
    "b[1,:] = 0\n",
    "print('Двумерное представление исходного массива, с изменениями')\n",
    "print(b)\n",
    "# Выведем исходный массив. В нём отразились сделанные нами изменения.\n",
    "print('Исходный массив')\n",
    "print(a)\n",
    "# Для того, чтобы при изменении формы создавать новый массив, нужно воспользоваться методом copy\n",
    "# Для ravel есть аналог - метод flatten, также преоброзающий массив в одномерный, но делающий копию"
   ]
  },
  {
   "cell_type": "code",
   "execution_count": 24,
   "metadata": {
    "colab": {},
    "colab_type": "code",
    "execution": {
     "iopub.execute_input": "2020-12-07T07:38:25.142515Z",
     "iopub.status.busy": "2020-12-07T07:38:25.141623Z",
     "iopub.status.idle": "2020-12-07T07:38:25.148562Z",
     "shell.execute_reply": "2020-12-07T07:38:25.147836Z"
    },
    "id": "a2QaScCWkGz9",
    "outputId": "4e871893-6b26-4cb9-eb2a-b73f6f6b17b5",
    "papermill": {
     "duration": 0.090216,
     "end_time": "2020-12-07T07:38:25.148734",
     "exception": false,
     "start_time": "2020-12-07T07:38:25.058518",
     "status": "completed"
    },
    "tags": []
   },
   "outputs": [
    {
     "name": "stdout",
     "output_type": "stream",
     "text": [
      "Исходный массив\n",
      "[0 1 2 3 4]\n",
      "Исходный размер:  (5,)\n",
      "Двумерный массив с 1-й строкой\n",
      "[[0 1 2 3 4]]\n",
      "Размер:  (1, 5)\n",
      "Двумерный массив с 1-м столбцом\n",
      "[[0]\n",
      " [1]\n",
      " [2]\n",
      " [3]\n",
      " [4]]\n",
      "Размер:  (5, 1)\n"
     ]
    }
   ],
   "source": [
    "# 22. Фиктивная размерность newaxis\n",
    "# С помощью функции newaxis мы можем добавлять фиктивную размерность.\n",
    "# Т.е. при неизменном количестве элементов, мы повышаем размерность.\n",
    "# Создадим новый одномерный массив из 5 элементов\n",
    "a = np.arange(5)\n",
    "print('Исходный массив')\n",
    "print(a)\n",
    "print('Исходный размер: ', a.shape)\n",
    "# Превратим одномерный массив в двумерный массив, содержащий 1 строку и  5 столбцов\n",
    "b = a[np.newaxis, :]\n",
    "print('Двумерный массив с 1-й строкой')\n",
    "print(b)\n",
    "print('Размер: ', b.shape)\n",
    "# Превратим одномерный массив в двумерный массив, содержащий 5 строк и  1 столбец\n",
    "b = a[:, np.newaxis]\n",
    "print('Двумерный массив с 1-м столбцом')\n",
    "print(b)\n",
    "print('Размер: ', b.shape)"
   ]
  },
  {
   "cell_type": "markdown",
   "metadata": {
    "colab_type": "text",
    "id": "fZwZ2lS1kG0V",
    "papermill": {
     "duration": 0.076582,
     "end_time": "2020-12-07T07:38:25.302601",
     "exception": false,
     "start_time": "2020-12-07T07:38:25.226019",
     "status": "completed"
    },
    "tags": []
   },
   "source": [
    "#### 1.2.3 Индексация"
   ]
  },
  {
   "cell_type": "code",
   "execution_count": 25,
   "metadata": {
    "colab": {},
    "colab_type": "code",
    "execution": {
     "iopub.execute_input": "2020-12-07T07:38:25.466263Z",
     "iopub.status.busy": "2020-12-07T07:38:25.465392Z",
     "iopub.status.idle": "2020-12-07T07:38:25.468751Z",
     "shell.execute_reply": "2020-12-07T07:38:25.469426Z"
    },
    "id": "Y77XrXrbkG0Y",
    "outputId": "68377c6f-67fd-4422-9194-c39ab247b745",
    "papermill": {
     "duration": 0.087381,
     "end_time": "2020-12-07T07:38:25.469627",
     "exception": false,
     "start_time": "2020-12-07T07:38:25.382246",
     "status": "completed"
    },
    "tags": []
   },
   "outputs": [
    {
     "name": "stdout",
     "output_type": "stream",
     "text": [
      "[[0. 0. 0. 0. 0.]\n",
      " [0. 0. 0. 0. 0.]\n",
      " [0. 0. 0. 1. 0.]\n",
      " [0. 0. 0. 0. 0.]\n",
      " [0. 0. 0. 0. 0.]]\n"
     ]
    }
   ],
   "source": [
    "# 23. Выбор одного элемента по координатам\n",
    "# Один элемент можно выбрать, указав в квадратных скобках координаты через запятую\n",
    "# Например, для двумерного массива: Array[i, j], где i - номер строки, j - номер столбца.\n",
    "# Нумерация строк и столбцов начинается с 0\n",
    "# Поменяем элемент в 2-й строке, 3-м столбце на единицу\n",
    "a = np.zeros((5,5))\n",
    "a[2, 3] = 1\n",
    "print(a)"
   ]
  },
  {
   "cell_type": "code",
   "execution_count": 26,
   "metadata": {
    "colab": {},
    "colab_type": "code",
    "execution": {
     "iopub.execute_input": "2020-12-07T07:38:25.632716Z",
     "iopub.status.busy": "2020-12-07T07:38:25.631715Z",
     "iopub.status.idle": "2020-12-07T07:38:25.634971Z",
     "shell.execute_reply": "2020-12-07T07:38:25.635742Z"
    },
    "id": "7iOw6E-nkG0t",
    "outputId": "7f95d6ad-63e2-4f70-d030-2c126eb85454",
    "papermill": {
     "duration": 0.089847,
     "end_time": "2020-12-07T07:38:25.635952",
     "exception": false,
     "start_time": "2020-12-07T07:38:25.546105",
     "status": "completed"
    },
    "tags": []
   },
   "outputs": [
    {
     "name": "stdout",
     "output_type": "stream",
     "text": [
      "[[0. 0. 0. 0. 0.]\n",
      " [0. 0. 0. 0. 0.]\n",
      " [0. 0. 0. 0. 0.]\n",
      " [1. 1. 1. 1. 1.]\n",
      " [0. 0. 0. 0. 0.]]\n"
     ]
    }
   ],
   "source": [
    "# 24. Выбор одной строки\n",
    "# Для того, чтобы выбрать одну строку, в качестве координаты столбца\n",
    "# указываем двоеточие, т.е. все элементы столбца\n",
    "# Изменим все элементы 3-й строки\n",
    "a = np.zeros((5,5))\n",
    "a[3, :] = 1\n",
    "print(a)"
   ]
  },
  {
   "cell_type": "code",
   "execution_count": 27,
   "metadata": {
    "colab": {},
    "colab_type": "code",
    "execution": {
     "iopub.execute_input": "2020-12-07T07:38:25.799497Z",
     "iopub.status.busy": "2020-12-07T07:38:25.798474Z",
     "iopub.status.idle": "2020-12-07T07:38:25.802722Z",
     "shell.execute_reply": "2020-12-07T07:38:25.801902Z"
    },
    "id": "ufPCdwNEkG1K",
    "outputId": "8f2d4dfc-8fce-4678-d4d1-2df52ac643da",
    "papermill": {
     "duration": 0.087809,
     "end_time": "2020-12-07T07:38:25.802909",
     "exception": false,
     "start_time": "2020-12-07T07:38:25.715100",
     "status": "completed"
    },
    "tags": []
   },
   "outputs": [
    {
     "name": "stdout",
     "output_type": "stream",
     "text": [
      "[[0. 1. 0. 0. 0.]\n",
      " [0. 1. 0. 0. 0.]\n",
      " [0. 1. 0. 0. 0.]\n",
      " [0. 1. 0. 0. 0.]\n",
      " [0. 1. 0. 0. 0.]]\n"
     ]
    }
   ],
   "source": [
    "# 25. Выбор одного столбца\n",
    "# Аналогично, чтобы выбрать один столбец - вместо координаты строки указываем \":\"\n",
    "# Изменим все элементы 1-го столбца (напомним, что нумерация начинается с нуля)\n",
    "a = np.zeros((5,5))\n",
    "a[:, 1] = 1\n",
    "print(a)"
   ]
  },
  {
   "cell_type": "markdown",
   "metadata": {
    "colab_type": "text",
    "id": "EJethMnlkG1e",
    "papermill": {
     "duration": 0.183015,
     "end_time": "2020-12-07T07:38:26.065184",
     "exception": false,
     "start_time": "2020-12-07T07:38:25.882169",
     "status": "completed"
    },
    "tags": []
   },
   "source": [
    "В предыдущих примерах мы использовали \":\", это синтаксис \"среза\" (slice) в Python.  \n",
    "В массивах **numpy** срезы работают так же, как в списках Python, но есть существенное отличие.  \n",
    "**При использовании slice в массивах numpy возвращается не копия массива, а его представление (view)**. За счёт этого, можно с помощью slicing менять значения в массиве (что мы и делали выше).  \n",
    "\n",
    "Напомним синтаксис slice  \n",
    "Диапазон координат указываем в виде start:stop:step, где\n",
    "  -  start - начало диапазона\n",
    "  -  stop - конец диапазона (не включается)\n",
    "  -  step - шаг \n",
    "\n",
    "В случае отсутствия start, в качестве начала диапазона используется первый элемент.  \n",
    "В случае отсутствия stop - концом будет последний элемент.  \n",
    "Если ни start ни end не указаны, выбираются все элементы (это мы уже делали выше).  \n",
    "По умолчанию шаг используется равным 1 (т.е. выбираем все элементы от start до stop).  \n",
    "Шаг может быть отрицательным, тогда перебираем элементы в обратном направлении."
   ]
  },
  {
   "cell_type": "code",
   "execution_count": 28,
   "metadata": {
    "colab": {},
    "colab_type": "code",
    "execution": {
     "iopub.execute_input": "2020-12-07T07:38:26.237273Z",
     "iopub.status.busy": "2020-12-07T07:38:26.236396Z",
     "iopub.status.idle": "2020-12-07T07:38:26.240928Z",
     "shell.execute_reply": "2020-12-07T07:38:26.240235Z"
    },
    "id": "2z_Y-3YDkG1i",
    "outputId": "049e23a9-bacd-4b45-be13-914eaca4055e",
    "papermill": {
     "duration": 0.095316,
     "end_time": "2020-12-07T07:38:26.241125",
     "exception": false,
     "start_time": "2020-12-07T07:38:26.145809",
     "status": "completed"
    },
    "tags": []
   },
   "outputs": [
    {
     "name": "stdout",
     "output_type": "stream",
     "text": [
      "[[0. 0. 0. 0. 0.]\n",
      " [0. 0. 0. 0. 0.]\n",
      " [0. 0. 0. 0. 0.]\n",
      " [0. 0. 1. 1. 1.]\n",
      " [0. 0. 0. 0. 0.]]\n"
     ]
    }
   ],
   "source": [
    "# 26. Часть одной строки\n",
    "# Далее рассмотрим ещё несколько примеров применения срезов.\n",
    "# Изменим в 3-й строке элементы, начиная с 2-го\n",
    "a = np.zeros((5,5))\n",
    "a[3, 2:] = 1\n",
    "print(a)"
   ]
  },
  {
   "cell_type": "code",
   "execution_count": 29,
   "metadata": {
    "colab": {},
    "colab_type": "code",
    "execution": {
     "iopub.execute_input": "2020-12-07T07:38:26.409908Z",
     "iopub.status.busy": "2020-12-07T07:38:26.408834Z",
     "iopub.status.idle": "2020-12-07T07:38:26.412730Z",
     "shell.execute_reply": "2020-12-07T07:38:26.413521Z"
    },
    "id": "pCTcCJaekG16",
    "outputId": "096abe2c-ff76-4375-8a07-0aec6baefe5f",
    "papermill": {
     "duration": 0.090691,
     "end_time": "2020-12-07T07:38:26.413793",
     "exception": false,
     "start_time": "2020-12-07T07:38:26.323102",
     "status": "completed"
    },
    "tags": []
   },
   "outputs": [
    {
     "name": "stdout",
     "output_type": "stream",
     "text": [
      "[[1. 0. 0. 0. 0.]\n",
      " [1. 0. 0. 0. 0.]\n",
      " [1. 0. 0. 0. 0.]\n",
      " [1. 0. 0. 0. 0.]\n",
      " [0. 0. 0. 0. 0.]]\n"
     ]
    }
   ],
   "source": [
    "# 27. Часть одного столбца\n",
    "# Аналогично для выбора части столбца\n",
    "# Изменим в 0-м столбце все элементы до 3-го\n",
    "# Обратите внимание, для этого мы указываем 4 в качестве конца диапазона\n",
    "a = np.zeros((5,5))\n",
    "a[:4, 0] = 1\n",
    "print(a)"
   ]
  },
  {
   "cell_type": "code",
   "execution_count": 30,
   "metadata": {
    "colab": {},
    "colab_type": "code",
    "execution": {
     "iopub.execute_input": "2020-12-07T07:38:26.592096Z",
     "iopub.status.busy": "2020-12-07T07:38:26.587082Z",
     "iopub.status.idle": "2020-12-07T07:38:26.594961Z",
     "shell.execute_reply": "2020-12-07T07:38:26.589172Z"
    },
    "id": "Oz7UM312kG2S",
    "outputId": "823798df-78bf-4a05-b1d3-cf6b5bcec4cb",
    "papermill": {
     "duration": 0.101353,
     "end_time": "2020-12-07T07:38:26.595171",
     "exception": false,
     "start_time": "2020-12-07T07:38:26.493818",
     "status": "completed"
    },
    "tags": []
   },
   "outputs": [
    {
     "name": "stdout",
     "output_type": "stream",
     "text": [
      "[[0. 0. 0. 0. 0.]\n",
      " [0. 0. 1. 1. 0.]\n",
      " [0. 0. 1. 1. 0.]\n",
      " [0. 0. 1. 1. 0.]\n",
      " [0. 0. 0. 0. 0.]]\n"
     ]
    }
   ],
   "source": [
    "# 28. Непрерывная часть массива\n",
    "# Изменим все элементы с 1-й по 3-ю строку и с 2-го по 3-й столбец\n",
    "a = np.zeros((5,5))\n",
    "a[1:4, 2:4] = 1\n",
    "print(a)"
   ]
  },
  {
   "cell_type": "code",
   "execution_count": 31,
   "metadata": {
    "colab": {},
    "colab_type": "code",
    "execution": {
     "iopub.execute_input": "2020-12-07T07:38:26.770924Z",
     "iopub.status.busy": "2020-12-07T07:38:26.769844Z",
     "iopub.status.idle": "2020-12-07T07:38:26.774154Z",
     "shell.execute_reply": "2020-12-07T07:38:26.773374Z"
    },
    "id": "6YUZzQsfkG2u",
    "outputId": "0fc70eeb-c123-41ff-ec3c-ef90d2805a96",
    "papermill": {
     "duration": 0.096826,
     "end_time": "2020-12-07T07:38:26.774337",
     "exception": false,
     "start_time": "2020-12-07T07:38:26.677511",
     "status": "completed"
    },
    "tags": []
   },
   "outputs": [
    {
     "name": "stdout",
     "output_type": "stream",
     "text": [
      "[[0. 1. 0. 1. 0.]\n",
      " [1. 0. 1. 0. 1.]\n",
      " [0. 1. 0. 1. 0.]\n",
      " [1. 0. 1. 0. 1.]\n",
      " [0. 1. 0. 1. 0.]]\n"
     ]
    }
   ],
   "source": [
    "# 29. Срез с шагом 2\n",
    "# Заполним массив единицами в шахматном порядке\n",
    "# Для этого дважды используем срезы с шагом 2, с диагональным смещением оносительно друг друга\n",
    "# Первый срез будет начинаться в координате 0,1 (запись [::2, 1::2])\n",
    "# Второй - начинается в координате 1,0 (запись [1::2, ::2])\n",
    "a = np.zeros((5,5))\n",
    "a[::2, 1::2] = 1\n",
    "a[1::2, ::2] = 1\n",
    "print(a)"
   ]
  },
  {
   "cell_type": "code",
   "execution_count": 32,
   "metadata": {
    "colab": {},
    "colab_type": "code",
    "execution": {
     "iopub.execute_input": "2020-12-07T07:38:26.945824Z",
     "iopub.status.busy": "2020-12-07T07:38:26.944863Z",
     "iopub.status.idle": "2020-12-07T07:38:26.949680Z",
     "shell.execute_reply": "2020-12-07T07:38:26.948821Z"
    },
    "id": "cAr0IlJ6kG3A",
    "outputId": "b554947f-58fc-434a-8957-575e7c28e6ff",
    "papermill": {
     "duration": 0.093992,
     "end_time": "2020-12-07T07:38:26.949888",
     "exception": false,
     "start_time": "2020-12-07T07:38:26.855896",
     "status": "completed"
    },
    "tags": []
   },
   "outputs": [
    {
     "name": "stdout",
     "output_type": "stream",
     "text": [
      "Исходный массив\n",
      "[[ 0  1  2  3  4]\n",
      " [ 5  6  7  8  9]\n",
      " [10 11 12 13 14]\n",
      " [15 16 17 18 19]\n",
      " [20 21 22 23 24]]\n",
      "Обращённый массив\n",
      "[[24 23 22 21 20]\n",
      " [19 18 17 16 15]\n",
      " [14 13 12 11 10]\n",
      " [ 9  8  7  6  5]\n",
      " [ 4  3  2  1  0]]\n"
     ]
    }
   ],
   "source": [
    "# 30. Срез с шагом -1\n",
    "# Развернём массив в обратном порядке\n",
    "# Для этого и для строк и для столбцов используем конструкцию [::-1]\n",
    "# Т.к. start и stop не указаны, берём всю строку (столбец) от последнего элемента к первому\n",
    "a = np.arange(25).reshape(5, 5)\n",
    "print('Исходный массив')\n",
    "print(a)\n",
    "b = a[::-1, ::-1]\n",
    "print('Обращённый массив')\n",
    "print(b)"
   ]
  },
  {
   "cell_type": "code",
   "execution_count": 33,
   "metadata": {
    "colab": {},
    "colab_type": "code",
    "execution": {
     "iopub.execute_input": "2020-12-07T07:38:27.121912Z",
     "iopub.status.busy": "2020-12-07T07:38:27.120908Z",
     "iopub.status.idle": "2020-12-07T07:38:27.124225Z",
     "shell.execute_reply": "2020-12-07T07:38:27.125022Z"
    },
    "id": "ie-4pcVpkG3S",
    "outputId": "cd7a8304-7965-48b4-ed26-384498c6d17b",
    "papermill": {
     "duration": 0.094491,
     "end_time": "2020-12-07T07:38:27.125249",
     "exception": false,
     "start_time": "2020-12-07T07:38:27.030758",
     "status": "completed"
    },
    "tags": []
   },
   "outputs": [
    {
     "name": "stdout",
     "output_type": "stream",
     "text": [
      "[[1. 1. 1. 1. 1.]\n",
      " [1. 0. 0. 0. 1.]\n",
      " [1. 0. 0. 0. 1.]\n",
      " [1. 0. 0. 0. 1.]\n",
      " [1. 1. 1. 1. 1.]]\n"
     ]
    }
   ],
   "source": [
    "# 31. Передача индексов списком\n",
    "# Мы можем передавать нужные номера столбцов и строк в виде списков\n",
    "# Сделаем замену всех крайних элементов на единицы\n",
    "# Для этого дважды используем список borders = [0, -1], для строк и столбцов\n",
    "a = np.zeros((5,5))\n",
    "borders = [0, -1]\n",
    "a[borders, :] = 1\n",
    "a[:, borders] = 1\n",
    "print(a)"
   ]
  },
  {
   "cell_type": "code",
   "execution_count": 34,
   "metadata": {
    "colab": {},
    "colab_type": "code",
    "execution": {
     "iopub.execute_input": "2020-12-07T07:38:27.342901Z",
     "iopub.status.busy": "2020-12-07T07:38:27.342006Z",
     "iopub.status.idle": "2020-12-07T07:38:27.347631Z",
     "shell.execute_reply": "2020-12-07T07:38:27.346922Z"
    },
    "id": "d3sJyDj-kG3o",
    "outputId": "dc103531-6084-47db-c568-b8c4c3f361ce",
    "papermill": {
     "duration": 0.138141,
     "end_time": "2020-12-07T07:38:27.347817",
     "exception": false,
     "start_time": "2020-12-07T07:38:27.209676",
     "status": "completed"
    },
    "tags": []
   },
   "outputs": [
    {
     "name": "stdout",
     "output_type": "stream",
     "text": [
      "Исходный массив\n",
      "[[ 0  1  2  3  4]\n",
      " [ 5  6  7  8  9]\n",
      " [10 11 12 13 14]\n",
      " [15 16 17 18 19]\n",
      " [20 21 22 23 24]]\n",
      "Маска: элементы массива, кратные 3\n",
      "[[ True False False  True False]\n",
      " [False  True False False  True]\n",
      " [False False  True False False]\n",
      " [ True False False  True False]\n",
      " [False  True False False  True]]\n",
      "Полученный массив\n",
      "[[  0   1   2  -3   4]\n",
      " [  5  -6   7   8  -9]\n",
      " [ 10  11 -12  13  14]\n",
      " [-15  16  17 -18  19]\n",
      " [ 20 -21  22  23 -24]]\n"
     ]
    }
   ],
   "source": [
    "# 32. Индексирование по условию (маска)\n",
    "# Можно задать элементы для выборки с помощью маски -\n",
    "# массива аналогичной размерности, заполненного элементами True и False\n",
    "# Маску можно задать вручную, или получить её как результат условия для массива\n",
    "# Например, выберем только те элементы массива, значения которых кратны 3 (условие a % 3 == 0)\n",
    "a = np.arange(25).reshape(5, 5)\n",
    "print('Исходный массив')\n",
    "print(a)\n",
    "mask = a % 3 == 0\n",
    "print('Маска: элементы массива, кратные 3')\n",
    "print(mask)\n",
    "# С помощью этой маски поменяем знак у найденных элементов на противоположный\n",
    "a[mask] *= -1\n",
    "print('Полученный массив')\n",
    "print(a)"
   ]
  },
  {
   "cell_type": "code",
   "execution_count": 35,
   "metadata": {
    "colab": {},
    "colab_type": "code",
    "execution": {
     "iopub.execute_input": "2020-12-07T07:38:27.518588Z",
     "iopub.status.busy": "2020-12-07T07:38:27.517694Z",
     "iopub.status.idle": "2020-12-07T07:38:27.523143Z",
     "shell.execute_reply": "2020-12-07T07:38:27.522418Z"
    },
    "id": "ZsbI0aMXkG4F",
    "outputId": "91be71b9-4f8f-4e2b-d156-d69614de1af6",
    "papermill": {
     "duration": 0.093095,
     "end_time": "2020-12-07T07:38:27.523318",
     "exception": false,
     "start_time": "2020-12-07T07:38:27.430223",
     "status": "completed"
    },
    "tags": []
   },
   "outputs": [
    {
     "name": "stdout",
     "output_type": "stream",
     "text": [
      "Исходный массив\n",
      "[[28 12 12  9 10]\n",
      " [22  5 21 17  6]\n",
      " [ 7  9 18  3 17]\n",
      " [29 18 17 21 15]\n",
      " [20 11  6  8 25]]\n",
      "Полученный массив\n",
      "[[100   0   0   0   0]\n",
      " [  0   0   0   0   0]\n",
      " [  0   0   0   0   0]\n",
      " [100   0   0   0   0]\n",
      " [  0   0   0   0   0]]\n"
     ]
    }
   ],
   "source": [
    "# 33. Выбор элементов по условию, where\n",
    "# С помощью функции where также изменить элементы в соответствии с условием\n",
    "# Вызов выглядит как where(условие,изменение_если_условие_верно,изменение_если_условие_не_верно)\n",
    "# Создадим массив 5х5 из случайных значений от 1 до 29 включительно.\n",
    "# Если значение элемента больше 25, берём 100, если меньше - 0\n",
    "a = np.random.randint(1, 30, (5,5))\n",
    "print('Исходный массив')\n",
    "print(a)\n",
    "b = np.where(a > 25, 100, 0)\n",
    "print('Полученный массив')\n",
    "print(b)"
   ]
  },
  {
   "cell_type": "markdown",
   "metadata": {
    "colab_type": "text",
    "id": "9p8o3NCSkG4Z",
    "papermill": {
     "duration": 0.084756,
     "end_time": "2020-12-07T07:38:27.691232",
     "exception": false,
     "start_time": "2020-12-07T07:38:27.606476",
     "status": "completed"
    },
    "tags": []
   },
   "source": [
    "#### 1.2.4 Работа с матрицами"
   ]
  },
  {
   "cell_type": "code",
   "execution_count": 36,
   "metadata": {
    "colab": {},
    "colab_type": "code",
    "execution": {
     "iopub.execute_input": "2020-12-07T07:38:27.866789Z",
     "iopub.status.busy": "2020-12-07T07:38:27.865805Z",
     "iopub.status.idle": "2020-12-07T07:38:27.874312Z",
     "shell.execute_reply": "2020-12-07T07:38:27.873598Z"
    },
    "id": "yrQThqC5kG4f",
    "outputId": "d6d70a91-96dd-4185-f11d-40fc18655724",
    "papermill": {
     "duration": 0.100561,
     "end_time": "2020-12-07T07:38:27.874657",
     "exception": false,
     "start_time": "2020-12-07T07:38:27.774096",
     "status": "completed"
    },
    "tags": []
   },
   "outputs": [
    {
     "name": "stdout",
     "output_type": "stream",
     "text": [
      "Исходный массив A\n",
      "[[10 20]\n",
      " [30 40]]\n",
      "Исходный массив B\n",
      "[[1 2]\n",
      " [3 4]]\n",
      "A + B\n",
      "[[11 22]\n",
      " [33 44]]\n",
      "A - B\n",
      "[[ 9 18]\n",
      " [27 36]]\n",
      "A * B\n",
      "[[ 10  40]\n",
      " [ 90 160]]\n",
      "A / B\n",
      "[[10. 10.]\n",
      " [10. 10.]]\n"
     ]
    }
   ],
   "source": [
    "# 34. Арифметические операции\n",
    "# При одинаковой размерности, арифметические операции между массивами производятся поэлементно\n",
    "# Создадим 2 массива\n",
    "a = np.arange(10, 50, 10).reshape(2,2)\n",
    "print('Исходный массив A')\n",
    "print(a)\n",
    "b = np.arange(1, 5).reshape(2,2)\n",
    "print('Исходный массив B')\n",
    "print(b)\n",
    "# Выведем результат сложения, вычитания, умножения, деления\n",
    "print('A + B')\n",
    "print(a + b)\n",
    "print('A - B')\n",
    "print(a - b)\n",
    "print('A * B')\n",
    "print(a * b)\n",
    "print('A / B')\n",
    "print(a / b)"
   ]
  },
  {
   "cell_type": "code",
   "execution_count": 37,
   "metadata": {
    "colab": {},
    "colab_type": "code",
    "execution": {
     "iopub.execute_input": "2020-12-07T07:38:28.061497Z",
     "iopub.status.busy": "2020-12-07T07:38:28.059847Z",
     "iopub.status.idle": "2020-12-07T07:38:28.065363Z",
     "shell.execute_reply": "2020-12-07T07:38:28.066232Z"
    },
    "id": "0mkQoovEkG40",
    "outputId": "32348dfa-0b68-483a-ff98-39a4b812c96d",
    "papermill": {
     "duration": 0.101105,
     "end_time": "2020-12-07T07:38:28.066469",
     "exception": false,
     "start_time": "2020-12-07T07:38:27.965364",
     "status": "completed"
    },
    "tags": []
   },
   "outputs": [
    {
     "name": "stdout",
     "output_type": "stream",
     "text": [
      "Исходный массив A\n",
      "[[0 1 2]\n",
      " [3 4 5]]\n",
      "Исходный размер A:  (2, 3)\n",
      "Исходный массив B\n",
      "[1. 1. 1.]\n",
      "Исходный размер B:  (3,)\n",
      "Фиктивный размер B:  (1, 3)\n",
      "A + B\n",
      "[[1. 2. 3.]\n",
      " [4. 5. 6.]]\n"
     ]
    }
   ],
   "source": [
    "# 35. Broadcasting\n",
    "# Также можно проводить арифметические операции над массивами не с одинаковой,\n",
    "# но с согласованной размерностью.\n",
    "# Согласованными считаются размерности если они либо равны, либо одна из них равна 1.\n",
    "# Так, например, у массивов 2х3 и 2х1 размерности согласованы.\n",
    "# А у массивов 2х3 и 3х1 - не согласованы.\n",
    "# Для того, чтобы сложить поэлементно одномерный массив и двумерный,\n",
    "# потребуется добавление фиктивной размерности одномерному массиву.\n",
    "a = np.arange(6).reshape(2,3)\n",
    "print('Исходный массив A')\n",
    "print(a)\n",
    "print('Исходный размер A: ', a.shape)\n",
    "b = np.ones(3)\n",
    "print('Исходный массив B')\n",
    "print(b)\n",
    "print('Исходный размер B: ', b.shape)\n",
    "print('Фиктивный размер B: ', b[np.newaxis,:].shape)\n",
    "print('A + B')\n",
    "print(a + b[np.newaxis,:])"
   ]
  },
  {
   "cell_type": "code",
   "execution_count": 38,
   "metadata": {
    "colab": {},
    "colab_type": "code",
    "execution": {
     "iopub.execute_input": "2020-12-07T07:38:28.269670Z",
     "iopub.status.busy": "2020-12-07T07:38:28.268749Z",
     "iopub.status.idle": "2020-12-07T07:38:28.273398Z",
     "shell.execute_reply": "2020-12-07T07:38:28.272703Z"
    },
    "id": "g-QxgrVUkG5I",
    "outputId": "0159ffa5-c90f-4d37-e6bd-666b60aeda5f",
    "papermill": {
     "duration": 0.115105,
     "end_time": "2020-12-07T07:38:28.273601",
     "exception": false,
     "start_time": "2020-12-07T07:38:28.158496",
     "status": "completed"
    },
    "tags": []
   },
   "outputs": [
    {
     "name": "stdout",
     "output_type": "stream",
     "text": [
      "Исходный массив A\n",
      "[[0 1 2]\n",
      " [3 4 5]]\n",
      "Исходный массив B\n",
      "[[5 4]\n",
      " [3 2]\n",
      " [1 0]]\n",
      "A*B\n",
      "[[ 5  2]\n",
      " [32 20]]\n"
     ]
    }
   ],
   "source": [
    "# 36. Скалярное произведение dot\n",
    "# Для того, чтобы скалярно перемножить 2 матрицы, используется функция dot\n",
    "a = np.arange(6).reshape(2,3)\n",
    "print('Исходный массив A')\n",
    "print(a)\n",
    "b = np.arange(5,-1,-1).reshape(3,2)\n",
    "print('Исходный массив B')\n",
    "print(b)\n",
    "print('A*B')\n",
    "print(np.dot(a, b))"
   ]
  },
  {
   "cell_type": "code",
   "execution_count": 39,
   "metadata": {
    "colab": {},
    "colab_type": "code",
    "execution": {
     "iopub.execute_input": "2020-12-07T07:38:28.492751Z",
     "iopub.status.busy": "2020-12-07T07:38:28.491663Z",
     "iopub.status.idle": "2020-12-07T07:38:28.496602Z",
     "shell.execute_reply": "2020-12-07T07:38:28.495712Z"
    },
    "id": "bNvNGtS2kG5b",
    "outputId": "6b0b112c-b4dd-438e-a653-25b73b4f9692",
    "papermill": {
     "duration": 0.118774,
     "end_time": "2020-12-07T07:38:28.496844",
     "exception": false,
     "start_time": "2020-12-07T07:38:28.378070",
     "status": "completed"
    },
    "tags": []
   },
   "outputs": [
    {
     "name": "stdout",
     "output_type": "stream",
     "text": [
      "Исходный массив A\n",
      "[[0 1 2]\n",
      " [3 4 5]]\n",
      "AT\n",
      "[[0 3]\n",
      " [1 4]\n",
      " [2 5]]\n"
     ]
    }
   ],
   "source": [
    "# 37. Транспонирование\n",
    "# Для транспонирования матрицы используется метод T\n",
    "a = np.arange(6).reshape(2,3)\n",
    "print('Исходный массив A')\n",
    "print(a)\n",
    "print('AT')\n",
    "print(a.T)"
   ]
  },
  {
   "cell_type": "code",
   "execution_count": 40,
   "metadata": {
    "colab": {},
    "colab_type": "code",
    "execution": {
     "iopub.execute_input": "2020-12-07T07:38:28.722888Z",
     "iopub.status.busy": "2020-12-07T07:38:28.721836Z",
     "iopub.status.idle": "2020-12-07T07:38:28.727044Z",
     "shell.execute_reply": "2020-12-07T07:38:28.727989Z"
    },
    "id": "OT7psmcmkG51",
    "outputId": "b0e314b2-a013-4879-e861-7f4e28361ba7",
    "papermill": {
     "duration": 0.121871,
     "end_time": "2020-12-07T07:38:28.728238",
     "exception": false,
     "start_time": "2020-12-07T07:38:28.606367",
     "status": "completed"
    },
    "tags": []
   },
   "outputs": [
    {
     "name": "stdout",
     "output_type": "stream",
     "text": [
      "Исходный массив\n",
      "[[1 2]\n",
      " [3 4]]\n",
      "cos(a)\n",
      "[[ 0.54030231 -0.41614684]\n",
      " [-0.9899925  -0.65364362]]\n",
      "log10(a)\n",
      "[[0.         0.30103   ]\n",
      " [0.47712125 0.60205999]]\n"
     ]
    }
   ],
   "source": [
    "# 38. Математические функции\n",
    "# В Numpy есть множество встроенных математических функций,\n",
    "# которые выполняются над каждым элементом массива\n",
    "a = np.arange(1, 5).reshape(2,2)\n",
    "print('Исходный массив')\n",
    "print(a)\n",
    "# Например, косинус или логарифм\n",
    "print('cos(a)')\n",
    "print(np.cos(a))\n",
    "print('log10(a)')\n",
    "print(np.log10(a))"
   ]
  },
  {
   "cell_type": "code",
   "execution_count": 41,
   "metadata": {
    "colab": {},
    "colab_type": "code",
    "execution": {
     "iopub.execute_input": "2020-12-07T07:38:28.955075Z",
     "iopub.status.busy": "2020-12-07T07:38:28.953812Z",
     "iopub.status.idle": "2020-12-07T07:38:28.958642Z",
     "shell.execute_reply": "2020-12-07T07:38:28.959548Z"
    },
    "id": "hLwbBcPMkG6d",
    "outputId": "663351a8-b2ad-4817-ef5b-75277e79a09c",
    "papermill": {
     "duration": 0.122424,
     "end_time": "2020-12-07T07:38:28.959771",
     "exception": false,
     "start_time": "2020-12-07T07:38:28.837347",
     "status": "completed"
    },
    "tags": []
   },
   "outputs": [
    {
     "name": "stdout",
     "output_type": "stream",
     "text": [
      "Исходный массив A\n",
      "[[0 1]\n",
      " [2 3]]\n",
      "Исходный массив B\n",
      "[[10 20 30]\n",
      " [40 50 60]]\n",
      "AB\n",
      "[[ 0  1 10 20 30]\n",
      " [ 2  3 40 50 60]]\n"
     ]
    }
   ],
   "source": [
    "# 39. Объединение массивов, hstack\n",
    "# Можно \"склеить\" два массива по горизонтали (один справа от другого) с помощью hstack\n",
    "# Создадим 2 массива с одинаковым количеством строк, и объединим их\n",
    "a = np.arange(4).reshape(2,2)\n",
    "print('Исходный массив A')\n",
    "print(a)\n",
    "b = np.arange(10,70,10).reshape(2,3)\n",
    "print('Исходный массив B')\n",
    "print(b)\n",
    "print('AB')\n",
    "print(np.hstack((a, b)))"
   ]
  },
  {
   "cell_type": "code",
   "execution_count": 42,
   "metadata": {
    "colab": {},
    "colab_type": "code",
    "execution": {
     "iopub.execute_input": "2020-12-07T07:38:29.193096Z",
     "iopub.status.busy": "2020-12-07T07:38:29.191978Z",
     "iopub.status.idle": "2020-12-07T07:38:29.197328Z",
     "shell.execute_reply": "2020-12-07T07:38:29.198262Z"
    },
    "id": "HE268zK-kG62",
    "outputId": "d7e009bb-5fb1-40d5-d01c-913f9eee21c0",
    "papermill": {
     "duration": 0.125242,
     "end_time": "2020-12-07T07:38:29.198580",
     "exception": false,
     "start_time": "2020-12-07T07:38:29.073338",
     "status": "completed"
    },
    "tags": []
   },
   "outputs": [
    {
     "name": "stdout",
     "output_type": "stream",
     "text": [
      "Исходный массив A\n",
      "[[0 1 2]\n",
      " [3 4 5]]\n",
      "Исходный массив B\n",
      "[[10 20 30]\n",
      " [40 50 60]\n",
      " [70 80 90]]\n",
      "AB\n",
      "[[ 0  1  2]\n",
      " [ 3  4  5]\n",
      " [10 20 30]\n",
      " [40 50 60]\n",
      " [70 80 90]]\n"
     ]
    }
   ],
   "source": [
    "# 40. Объединение массивов, vstack\n",
    "# Можно объединить два массива по вертикали (поставить один на другой) с помощью vstack\n",
    "a = np.arange(6).reshape(2,3)\n",
    "print('Исходный массив A')\n",
    "print(a)\n",
    "b = np.arange(10,100,10).reshape(3,3)\n",
    "print('Исходный массив B')\n",
    "print(b)\n",
    "print('AB')\n",
    "print(np.vstack((a, b)))"
   ]
  },
  {
   "cell_type": "code",
   "execution_count": 43,
   "metadata": {
    "colab": {},
    "colab_type": "code",
    "execution": {
     "iopub.execute_input": "2020-12-07T07:38:29.432019Z",
     "iopub.status.busy": "2020-12-07T07:38:29.430863Z",
     "iopub.status.idle": "2020-12-07T07:38:29.436602Z",
     "shell.execute_reply": "2020-12-07T07:38:29.435663Z"
    },
    "id": "si23fawckG7Y",
    "outputId": "824a3b5f-f32f-4fea-a63b-86fa771781a6",
    "papermill": {
     "duration": 0.127187,
     "end_time": "2020-12-07T07:38:29.436824",
     "exception": false,
     "start_time": "2020-12-07T07:38:29.309637",
     "status": "completed"
    },
    "tags": []
   },
   "outputs": [
    {
     "name": "stdout",
     "output_type": "stream",
     "text": [
      "Исходный массив\n",
      "[[11  9 16 27  4]\n",
      " [11 10 26  6  5]\n",
      " [16 20 17 28 16]\n",
      " [ 1 15 11  9  9]\n",
      " [22 17 23 14 18]]\n",
      "Максимальное значение 28\n",
      "Минимальное значение 1\n",
      "Среднее 14.44\n"
     ]
    }
   ],
   "source": [
    "# 41. Максимум, минимум, среднее и т.д.\n",
    "# Для нахождения максимального и минимального элемента в массиве используются max() и min()\n",
    "a = np.random.randint(1, 30, (5,5))\n",
    "print('Исходный массив')\n",
    "print(a)\n",
    "print('Максимальное значение', np.max(a))\n",
    "print('Минимальное значение', np.min(a))\n",
    "print('Среднее', np.mean(a))"
   ]
  },
  {
   "cell_type": "code",
   "execution_count": 44,
   "metadata": {
    "colab": {},
    "colab_type": "code",
    "execution": {
     "iopub.execute_input": "2020-12-07T07:38:29.658743Z",
     "iopub.status.busy": "2020-12-07T07:38:29.657358Z",
     "iopub.status.idle": "2020-12-07T07:38:29.662953Z",
     "shell.execute_reply": "2020-12-07T07:38:29.662091Z"
    },
    "id": "1a5dM6iBkG74",
    "outputId": "b4fae833-171f-4373-ed2c-1ce970436611",
    "papermill": {
     "duration": 0.120417,
     "end_time": "2020-12-07T07:38:29.663202",
     "exception": false,
     "start_time": "2020-12-07T07:38:29.542785",
     "status": "completed"
    },
    "tags": []
   },
   "outputs": [
    {
     "name": "stdout",
     "output_type": "stream",
     "text": [
      "Исходный массив\n",
      "[[15 18 14 24 21]\n",
      " [14  7 10  3 23]\n",
      " [27 27  7  7 20]\n",
      " [16 27 21 21 23]\n",
      " [23 19  9 24 26]]\n",
      "Максимальное значение в каждой строке [24 23 27 27 26]\n",
      "Максимальное значение в каждом столбце [27 27 21 24 26]\n"
     ]
    }
   ],
   "source": [
    "# 42. Максимум и т.д., по одному измерению\n",
    "# Для того, чтобы найти максимум (минимум, среднее, сумму и т.д.) по каждой строке,\n",
    "# используем параметр axis=1\n",
    "# Соответственно, для подсчёта по столбцам - axis=0\n",
    "a = np.random.randint(1, 30, (5,5))\n",
    "print('Исходный массив')\n",
    "print(a)\n",
    "print('Максимальное значение в каждой строке', np.max(a, axis=1))\n",
    "print('Максимальное значение в каждом столбце', np.max(a, axis=0))"
   ]
  },
  {
   "cell_type": "code",
   "execution_count": 45,
   "metadata": {
    "colab": {},
    "colab_type": "code",
    "execution": {
     "iopub.execute_input": "2020-12-07T07:38:29.881729Z",
     "iopub.status.busy": "2020-12-07T07:38:29.880324Z",
     "iopub.status.idle": "2020-12-07T07:38:29.885885Z",
     "shell.execute_reply": "2020-12-07T07:38:29.886788Z"
    },
    "id": "XK84-FJFkG8T",
    "outputId": "13a734d1-8c08-4c99-99be-6bba913cfc9c",
    "papermill": {
     "duration": 0.127183,
     "end_time": "2020-12-07T07:38:29.887084",
     "exception": false,
     "start_time": "2020-12-07T07:38:29.759901",
     "status": "completed"
    },
    "tags": []
   },
   "outputs": [
    {
     "name": "stdout",
     "output_type": "stream",
     "text": [
      "Исходный массив\n",
      "[[21  5 22 20  2]\n",
      " [25 18  8 25 10]\n",
      " [17  2 10  7  7]\n",
      " [11 27 13 22  6]\n",
      " [ 2  7 17 10  3]]\n",
      "Максимальное значение 27\n",
      "Координаты максимального элемента 16\n",
      "Полученный массив\n",
      "[[  21    5   22   20    2]\n",
      " [  25   18    8   25   10]\n",
      " [  17    2   10    7    7]\n",
      " [  11 -100   13   22    6]\n",
      " [   2    7   17   10    3]]\n"
     ]
    }
   ],
   "source": [
    "# 43. Координаты максимального элемента, argmax\n",
    "# Координату элемента с максимальным значением можно узнать с помощью метода argmax\n",
    "# Можно использовать для замены максимального элемента\n",
    "a = np.random.randint(1, 30, (5,5))\n",
    "print('Исходный массив')\n",
    "print(a)\n",
    "print('Максимальное значение', np.max(a))\n",
    "print('Координаты максимального элемента', np.argmax(a))\n",
    "# Координату argmax возвращает в одномерном представлении.\n",
    "# С помощью ravel опращаемся к одномерному представлению по координате, и меняем элемент на -100\n",
    "a.ravel()[a.argmax()] = -100\n",
    "print('Полученный массив')\n",
    "print(a)"
   ]
  },
  {
   "cell_type": "code",
   "execution_count": 46,
   "metadata": {
    "colab": {},
    "colab_type": "code",
    "execution": {
     "iopub.execute_input": "2020-12-07T07:38:30.076768Z",
     "iopub.status.busy": "2020-12-07T07:38:30.075768Z",
     "iopub.status.idle": "2020-12-07T07:38:30.084618Z",
     "shell.execute_reply": "2020-12-07T07:38:30.085283Z"
    },
    "id": "28oGYOH5kG8u",
    "outputId": "069d9e0d-084f-4716-c1ec-e2cd679f796b",
    "papermill": {
     "duration": 0.106144,
     "end_time": "2020-12-07T07:38:30.085519",
     "exception": false,
     "start_time": "2020-12-07T07:38:29.979375",
     "status": "completed"
    },
    "tags": []
   },
   "outputs": [
    {
     "name": "stdout",
     "output_type": "stream",
     "text": [
      "Исходный массив\n",
      "[[0 1]\n",
      " [2 3]]\n",
      "Собственные значения [-0.56155281  3.56155281]\n",
      "Собственные вектора\n",
      "[[-0.87192821 -0.27032301]\n",
      " [ 0.48963374 -0.96276969]]\n"
     ]
    }
   ],
   "source": [
    "# 44. Модуль linalg, собственные значения eig\n",
    "# В модуле linalg собраны функции из линейной алгебры\n",
    "# Рассмотрим несколько из них\n",
    "# Собственные значения и вектора матрицы можно найти с помощью функции eig\n",
    "a = np.arange(4).reshape(2,2)\n",
    "print('Исходный массив')\n",
    "print(a)\n",
    "w, v = np.linalg.eig(a)\n",
    "print('Собственные значения', w)\n",
    "print('Собственные вектора')\n",
    "print(v)"
   ]
  },
  {
   "cell_type": "code",
   "execution_count": 47,
   "metadata": {
    "colab": {},
    "colab_type": "code",
    "execution": {
     "iopub.execute_input": "2020-12-07T07:38:30.268013Z",
     "iopub.status.busy": "2020-12-07T07:38:30.267170Z",
     "iopub.status.idle": "2020-12-07T07:38:30.272418Z",
     "shell.execute_reply": "2020-12-07T07:38:30.271599Z"
    },
    "id": "NZP_U7ZPkG9M",
    "outputId": "aeca771b-06c6-48aa-cf8a-b0262e29f2d5",
    "papermill": {
     "duration": 0.0997,
     "end_time": "2020-12-07T07:38:30.272633",
     "exception": false,
     "start_time": "2020-12-07T07:38:30.172933",
     "status": "completed"
    },
    "tags": []
   },
   "outputs": [
    {
     "name": "stdout",
     "output_type": "stream",
     "text": [
      "Исходный массив\n",
      "[[0 1]\n",
      " [2 3]]\n",
      "Определитель -2.0\n"
     ]
    }
   ],
   "source": [
    "# 45. Модуль linalg, определитель det\n",
    "a = np.arange(4).reshape(2,2)\n",
    "print('Исходный массив')\n",
    "print(a)\n",
    "print('Определитель', np.linalg.det(a))"
   ]
  },
  {
   "cell_type": "code",
   "execution_count": 48,
   "metadata": {
    "colab": {},
    "colab_type": "code",
    "execution": {
     "iopub.execute_input": "2020-12-07T07:38:30.454796Z",
     "iopub.status.busy": "2020-12-07T07:38:30.453949Z",
     "iopub.status.idle": "2020-12-07T07:38:30.459174Z",
     "shell.execute_reply": "2020-12-07T07:38:30.458453Z"
    },
    "id": "HAKvgQg7kG9g",
    "outputId": "064ae5d9-d423-4c68-87c5-a2ca1777cbf4",
    "papermill": {
     "duration": 0.098297,
     "end_time": "2020-12-07T07:38:30.459361",
     "exception": false,
     "start_time": "2020-12-07T07:38:30.361064",
     "status": "completed"
    },
    "tags": []
   },
   "outputs": [
    {
     "name": "stdout",
     "output_type": "stream",
     "text": [
      "Исходный массив\n",
      "[[0 1]\n",
      " [2 3]]\n",
      "Норма 3.7416573867739413\n"
     ]
    }
   ],
   "source": [
    "# 46. Модуль linalg, норма norm\n",
    "a = np.arange(4).reshape(2,2)\n",
    "print('Исходный массив')\n",
    "print(a)\n",
    "print('Норма', np.linalg.norm(a))"
   ]
  },
  {
   "cell_type": "markdown",
   "metadata": {
    "colab_type": "text",
    "id": "1iEO-QygkG9x",
    "papermill": {
     "duration": 0.088966,
     "end_time": "2020-12-07T07:38:30.639751",
     "exception": false,
     "start_time": "2020-12-07T07:38:30.550785",
     "status": "completed"
    },
    "tags": []
   },
   "source": [
    "#### Ресурсы\n",
    "  -  Официальная документация NumPy https://docs.scipy.org/doc/numpy/user/quickstart.html\n",
    "  -  100 numpy exercises - сборник из 100 коротких примеров по numpy, дающих представление о возможностях numpy https://github.com/rougier/numpy-100\n",
    "  -  Разнообразные учебные материалы, например ChEng UC https://engineering.ucsb.edu/~shell/che210d/numpy.pdf\n",
    "  -  ВМК МГУ https://github.com/mmp-practicum-team/mmp_practicum_fall_2018/blob/master/02_numpy/intro_to_numpy.ipynb"
   ]
  },
  {
   "cell_type": "code",
   "execution_count": null,
   "metadata": {
    "colab": {},
    "colab_type": "code",
    "id": "dxENYsT4kG92",
    "papermill": {
     "duration": 0.089717,
     "end_time": "2020-12-07T07:38:30.821233",
     "exception": false,
     "start_time": "2020-12-07T07:38:30.731516",
     "status": "completed"
    },
    "tags": []
   },
   "outputs": [],
   "source": []
  }
 ],
 "metadata": {
  "colab": {
   "name": "1.2_numpy.ipynb",
   "provenance": []
  },
  "kernelspec": {
   "display_name": "Python 3",
   "language": "python",
   "name": "python3"
  },
  "language_info": {
   "codemirror_mode": {
    "name": "ipython",
    "version": 3
   },
   "file_extension": ".py",
   "mimetype": "text/x-python",
   "name": "python",
   "nbconvert_exporter": "python",
   "pygments_lexer": "ipython3",
   "version": "3.8.5"
  },
  "papermill": {
   "default_parameters": {},
   "duration": 11.752637,
   "end_time": "2020-12-07T07:38:31.223765",
   "environment_variables": {},
   "exception": null,
   "input_path": "/home/frankshikhaliev/Research/!RGSPractice1/2. Numpy/1.2_numpy.ipynb",
   "output_path": "/home/frankshikhaliev/Research/!RGSPractice1/2. Numpy/1.2_numpy.ipynb",
   "parameters": {},
   "start_time": "2020-12-07T07:38:19.471128",
   "version": "2.2.2"
  }
 },
 "nbformat": 4,
 "nbformat_minor": 4
}
