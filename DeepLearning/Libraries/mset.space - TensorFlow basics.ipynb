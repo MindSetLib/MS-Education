{
 "cells": [
  {
   "cell_type": "markdown",
   "metadata": {},
   "source": [
    "https://mset.space - платформа для проведения анализа данных, построения моделей и внедрения моделей в продукцию.\n",
    "\n",
    "\n",
    "https://mset.space - platform for data analysis, model building and implementation into production.\n",
    "\n",
    "\n",
    "Ноутбуки для платформы mset.space\n",
    "https://github.com/MindSetLib/MS-Education\n",
    "\n",
    "Low code ML - библиотека машинного обучения\n",
    "https://github.com/MindSetLib/Insolver\n",
    "\n",
    "\n",
    "Телеграм канал платформы\n",
    "https://t.me/msetspace\n",
    "\n",
    "Связь с разработчиками:\n",
    "telegram: @frankshikhaliev\n",
    "email: request@mind-set.ru"
   ]
  },
  {
   "cell_type": "markdown",
   "metadata": {},
   "source": [
    "## Обучающий ноутбук по TensorFlow 2.x и сравнение TensorFlow 2.x с PyTorch\n",
    "\n",
    "**Подготовил:** Гайфуллин Дмитрий, январь 2021 г."
   ]
  },
  {
   "cell_type": "markdown",
   "metadata": {},
   "source": [
    "### Описание ноутбука\n",
    "\n",
    "В данном ноутбуке представлено краткое руководство по работе с фреймворком TensorFlow v.2.\\\n",
    "**Цель ноутбука:** рассмотрение основных методов TensorFlow, а также сравнение данного фреймворка с фреймворком PyTorch."
   ]
  },
  {
   "cell_type": "markdown",
   "metadata": {},
   "source": [
    "### TensorFlow\n",
    "\n",
    "**TensorFlow** — открытая программная библиотека для машинного обучения, разработанная компанией Google для решения задач построения и тренировки нейронной сети с целью автоматического нахождения и классификации образов, достигая качества человеческого восприятия. Применяется как для исследований, так и для разработки собственных продуктов Google. Основной API для работы с библиотекой реализован для Python, также существуют реализации для R, C Sharp, C++, Haskell, Java, Go и Swift.\n",
    "\n",
    "Является продолжением закрытого проекта DistBelief. Изначально TensorFlow была разработана командой Google Brain для внутреннего использования в Google, в 2015 году система была переведена в свободный доступ с открытой лицензией Apache 2.0.\\\n",
    "\n",
    "**Отличие TensorFlow 1.x от TensorFlow 2.x**\n",
    "\n",
    "Основное преимущество TensorFlow – производительность. Этот инструмент создан для массового переноса моделей с уровня исследований в производство и фактически является промышленным станком для ИИ, но примерно таким же понятным для незнакомого с ним пользователя. Низкоуровневый TensorFlow 1.x труден для изучения и заставляет попотеть желающих открывать планеты или развивать медицину.\n",
    "\n",
    "В TensorFlow 2.x по умолчанию в качестве режима выполнения моделей используется **Eager execution**. То есть вычисление конкретных значений происходит по ходу выполнения, до построения полного вычислительного графа. Это упрощает отладку моделей и устраняет необходимость в шаблонном коде. Таким образом, TensorFlow второй версии может поддерживать, как статический, так и динамический вычислительный граф.\n",
    "\n",
    "Экосистема инструментов в TensorFlow 2.0 прошла тщательную очистку от конвейеров обработки данных до экспорта моделей в TensorBoard – инструмент для визуализации процесса обучения, отладки кода и оптимизации обучаемой модели. TensorBoard теперь совмещен с Keras.\n",
    "\n",
    "На данный момент последней версией TensorFlow является 2.4.0.\n",
    "\n",
    "### Импортируем библиотеку"
   ]
  },
  {
   "cell_type": "code",
   "execution_count": 39,
   "metadata": {},
   "outputs": [],
   "source": [
    "# для установки второй версии используйте команду ниже\n",
    "# !pip install -q tensorflow==2.1.0\n",
    "\n",
    "# может появится ошибка: no module named opt_einsum\n",
    "# она решается установкой: !conda install -c conda-forge opt_einsum"
   ]
  },
  {
   "cell_type": "code",
   "execution_count": 40,
   "metadata": {},
   "outputs": [
    {
     "data": {
      "text/plain": [
       "'2.1.0'"
      ]
     },
     "execution_count": 40,
     "metadata": {},
     "output_type": "execute_result"
    }
   ],
   "source": [
    "import warnings\n",
    "warnings.filterwarnings(\"ignore\") \n",
    "\n",
    "# импортируем TensorFlow и посмотрим на установленную версию\n",
    "import tensorflow as tf\n",
    "tf.__version__"
   ]
  },
  {
   "cell_type": "markdown",
   "metadata": {},
   "source": [
    "### Тензоры\n",
    "\n",
    "И PyTorch, и TensorFlow основаны на понятии Тензора (Tensor). Рассмотрим создание тензора у фреймворка TensorFlow.\\\n",
    "Если мы хотим создать неизменяющуюся переменную (константу, которая никогда не изменится), то следует использовать метод `tf.constant()`.\\\n",
    "Если мы хотим создать изменяющуюся переменную (например, вектор весов), то следует использовать метод `tf.Variable()`, данный метод есть и в PyTorch, однако, он имеет другое назначение.\\\n",
    "В официальных документах TensorFlow указано, что есть три типа тензоров:\n",
    "   - tf.constant\n",
    "   - tf.placeholder (только в TensorFlow 1.x)\n",
    "   - tf.SparseTensor: особый вид тензора, которому на вход передается три параметра - indices (индексы элементов тензора, содержащие ненулевые значения), values (сами значения) и dense_shape (список, указывающий, сколько элементов содержит каждое измерение тензора)\n",
    "   \n",
    "При этом tf.Variable не классифицируется внутренне как тензор согласно классовой структуре."
   ]
  },
  {
   "cell_type": "code",
   "execution_count": 3,
   "metadata": {},
   "outputs": [
    {
     "name": "stdout",
     "output_type": "stream",
     "text": [
      "tf_var: <tf.Variable 'Variable:0' shape=(2,) dtype=int32, numpy=array([1, 2], dtype=int32)>\n",
      "tf_const tf.Tensor([1 2], shape=(2,), dtype=int32)\n",
      "tf_spts SparseTensor(indices=tf.Tensor(\n",
      "[[0 0]\n",
      " [1 2]], shape=(2, 2), dtype=int64), values=tf.Tensor([1 2], shape=(2,), dtype=int32), dense_shape=tf.Tensor([3 4], shape=(2,), dtype=int64))\n",
      "\n",
      "Type of tf.Variable is:  <class 'tensorflow.python.ops.resource_variable_ops.ResourceVariable'>\n",
      "Type of tf.constant is:  <class 'tensorflow.python.framework.ops.EagerTensor'>\n",
      "Type of tf.SparseTensor is:  <class 'tensorflow.python.framework.sparse_tensor.SparseTensor'>\n"
     ]
    }
   ],
   "source": [
    "# создадим переменные с помощью описанных выше методов\n",
    "tf_var = tf.Variable([1, 2]) # тензор, который изменяется\n",
    "tf_const = tf.constant([1, 2]) # тензор, который не изменяется\n",
    "#tf_ph = tf..placeholder(tf.float32, shape=(2, 2))\n",
    "tf_spts = tf.SparseTensor(indices=[[0, 0], [1, 2]], values=[1, 2], dense_shape=[3, 4])\n",
    "\n",
    "print('tf_var:', tf_var)\n",
    "print('tf_const', tf_const)\n",
    "print('tf_spts', tf_spts)\n",
    "print()\n",
    "print('Type of tf.Variable is: ', type(tf_var))\n",
    "print('Type of tf.constant is: ', type(tf_const))\n",
    "#print('Type of tf.placeholder is: ', type(tf_ph))\n",
    "print('Type of tf.SparseTensor is: ', type(tf_spts))"
   ]
  },
  {
   "cell_type": "markdown",
   "metadata": {},
   "source": [
    "Создание тензоров, состоящих из нулей и единиц:"
   ]
  },
  {
   "cell_type": "code",
   "execution_count": 4,
   "metadata": {},
   "outputs": [
    {
     "name": "stdout",
     "output_type": "stream",
     "text": [
      "tf.Tensor(\n",
      "[[0 0 0 0]\n",
      " [0 0 0 0]\n",
      " [0 0 0 0]], shape=(3, 4), dtype=int32)\n",
      "\n",
      "tf.Tensor(\n",
      "[[1. 1. 1.]\n",
      " [1. 1. 1.]\n",
      " [1. 1. 1.]\n",
      " [1. 1. 1.]\n",
      " [1. 1. 1.]], shape=(5, 3), dtype=float32)\n"
     ]
    }
   ],
   "source": [
    "# слздание тензора типа int32, заполненного нулями\n",
    "tensor = tf.zeros(shape=[3, 4], dtype=tf.int32)\n",
    "print(tensor)\n",
    "print()\n",
    "# создание тензора типа float32, заполненного единицами \n",
    "tensor = tf.ones(shape=[5, 3], dtype=tf.float32)\n",
    "print(tensor)"
   ]
  },
  {
   "cell_type": "markdown",
   "metadata": {},
   "source": [
    "Изменение типа тензора:"
   ]
  },
  {
   "cell_type": "code",
   "execution_count": 5,
   "metadata": {},
   "outputs": [
    {
     "name": "stdout",
     "output_type": "stream",
     "text": [
      "Тензор до tf.cast:\n",
      " tf.Tensor(\n",
      "[[3.1 2.8]\n",
      " [5.2 2.3]\n",
      " [9.7 5.5]\n",
      " [1.1 3.4]], shape=(4, 2), dtype=float32)\n",
      "\n",
      "Тензор после tf.cast:\n",
      " tf.Tensor(\n",
      "[[3 2]\n",
      " [5 2]\n",
      " [9 5]\n",
      " [1 3]], shape=(4, 2), dtype=int32)\n"
     ]
    }
   ],
   "source": [
    "# создадим тензор из элементов типа float32\n",
    "tensor = tf.constant([[3.1, 2.8],\n",
    "                      [5.2, 2.3],\n",
    "                      [9.7, 5.5],\n",
    "                      [1.1, 3.4]], \n",
    "                      dtype=tf.float32)\n",
    "\n",
    "# приведем элементы тензора к типу int32\n",
    "tensor_as_int = tf.cast(tensor, tf.int32)\n",
    "\n",
    "# посмотрим на тензор до изменения и после\n",
    "print('Тензор до tf.cast:\\n', tensor)\n",
    "print('\\nТензор после tf.cast:\\n', tensor_as_int)\n",
    "\n",
    "# заметим, что tf.cast округляет значения в меньшую сторону"
   ]
  },
  {
   "cell_type": "markdown",
   "metadata": {},
   "source": [
    "Изменение формы тензора:"
   ]
  },
  {
   "cell_type": "code",
   "execution_count": 6,
   "metadata": {},
   "outputs": [
    {
     "name": "stdout",
     "output_type": "stream",
     "text": [
      "tensor: tf.Tensor(\n",
      "[[3 2]\n",
      " [5 2]\n",
      " [9 5]\n",
      " [1 3]], shape=(4, 2), dtype=int32)\n",
      "\n",
      "reshaped_tensor: tf.Tensor([[3 2 5 2 9 5 1 3]], shape=(1, 8), dtype=int32)\n",
      "\n",
      "Тензор до reshape:\n",
      "(4, 2)\n",
      "\n",
      "Тензор после reshape:\n",
      "(1, 8)\n"
     ]
    }
   ],
   "source": [
    "# создадим тензор для reshape\n",
    "tensor = tf.constant([[3, 2],\n",
    "                      [5, 2],\n",
    "                      [9, 5],\n",
    "                      [1, 3]])\n",
    "\n",
    "# преобразуем тензор: shape = [rows, columns]\n",
    "reshaped_tensor = tf.reshape(tensor = tensor,\n",
    "                             shape = [1, 8])\n",
    "\n",
    "print('tensor:', tensor)\n",
    "print()\n",
    "print('reshaped_tensor:', reshaped_tensor)\n",
    "\n",
    "print()\n",
    "print(('Тензор до reshape:\\n{0}').format(tensor.shape))\n",
    "print(('\\nТензор после reshape:\\n{0}').format(reshaped_tensor.shape))"
   ]
  },
  {
   "cell_type": "markdown",
   "metadata": {},
   "source": [
    "Конкатенация тензоров:"
   ]
  },
  {
   "cell_type": "code",
   "execution_count": 7,
   "metadata": {},
   "outputs": [
    {
     "name": "stdout",
     "output_type": "stream",
     "text": [
      "Тензор А:\n",
      " tf.Tensor(\n",
      "[[3 2]\n",
      " [5 2]], shape=(2, 2), dtype=int32)\n",
      "\n",
      "Тензор В:\n",
      " tf.Tensor(\n",
      "[[9 5]\n",
      " [1 3]], shape=(2, 2), dtype=int32)\n",
      "\n",
      "Добавление столбцов тензора B к А:\n",
      " tf.Tensor(\n",
      "[[3 2 9 5]\n",
      " [5 2 1 3]], shape=(2, 4), dtype=int32)\n",
      "\n",
      "Добавление строк тензора B к А:\n",
      " tf.Tensor(\n",
      "[[3 2]\n",
      " [5 2]\n",
      " [9 5]\n",
      " [1 3]], shape=(4, 2), dtype=int32)\n"
     ]
    }
   ],
   "source": [
    "# создадим константный тензор, который не изменяется\n",
    "A = tf.constant([[3, 2],\n",
    "                 [5, 2]])\n",
    "\n",
    "# создадим еще один тензор\n",
    "B = tf.constant([[9, 5],\n",
    "                 [1, 3]])\n",
    "\n",
    "print('Тензор А:\\n', A)\n",
    "print('\\nТензор В:\\n', B)\n",
    "print()\n",
    "# конкатенация по столбцам\n",
    "AB_concatenated = tf.concat(values=[A, B], axis=1)\n",
    "print('Добавление столбцов тензора B к А:\\n',AB_concatenated)\n",
    "\n",
    "# конкатенация по строкам\n",
    "AB_concatenated = tf.concat(values=[A, B], axis=0)\n",
    "print('\\nДобавление строк тензора B к А:\\n', AB_concatenated)"
   ]
  },
  {
   "cell_type": "markdown",
   "metadata": {},
   "source": [
    "Различные операции с тензором:"
   ]
  },
  {
   "cell_type": "code",
   "execution_count": 8,
   "metadata": {},
   "outputs": [
    {
     "name": "stdout",
     "output_type": "stream",
     "text": [
      "Тензор:\n",
      " tf.Tensor(\n",
      "[[3 7]\n",
      " [1 9]], shape=(2, 2), dtype=int32)\n",
      "\n",
      "Результат транспонирования:\n",
      " tf.Tensor(\n",
      "[[3 1]\n",
      " [7 9]], shape=(2, 2), dtype=int32)\n"
     ]
    }
   ],
   "source": [
    "# транспонирование тензора\n",
    "# тензор\n",
    "A = tf.constant([[3, 7],\n",
    "                 [1, 9]])\n",
    "print('Тензор:\\n', A)\n",
    "# транспонирование\n",
    "B = tf.transpose(A)\n",
    "\n",
    "print('\\nРезультат транспонирования:\\n', B)"
   ]
  },
  {
   "cell_type": "code",
   "execution_count": 9,
   "metadata": {},
   "outputs": [
    {
     "name": "stdout",
     "output_type": "stream",
     "text": [
      "Матрица А:\n",
      " tf.Tensor(\n",
      "[[3 7]\n",
      " [1 9]], shape=(2, 2), dtype=int32)\n",
      "\n",
      "Вектор V:\n",
      " tf.Tensor(\n",
      "[[5]\n",
      " [2]], shape=(2, 1), dtype=int32)\n",
      "\n",
      "Результат умножения:\n",
      " tf.Tensor(\n",
      "[[29]\n",
      " [23]], shape=(2, 1), dtype=int32)\n"
     ]
    }
   ],
   "source": [
    "# умножение тензоров\n",
    "# матрица A 2х2\n",
    "A = tf.constant([[3, 7],\n",
    "                 [1, 9]])\n",
    "\n",
    "# вектор v 2х1\n",
    "v = tf.constant([[5],\n",
    "                 [2]])\n",
    "\n",
    "print('Матрица А:\\n', A)\n",
    "print('\\nВектор V:\\n', v)\n",
    "print()\n",
    "# матричное умножение\n",
    "Av = tf.matmul(A, v)\n",
    "\n",
    "print('Результат умножения:\\n', Av)"
   ]
  },
  {
   "cell_type": "code",
   "execution_count": 10,
   "metadata": {},
   "outputs": [
    {
     "name": "stdout",
     "output_type": "stream",
     "text": [
      "Результат поэлементного умножения:\n",
      " tf.Tensor(\n",
      "[[15 35]\n",
      " [ 2 18]], shape=(2, 2), dtype=int32)\n"
     ]
    }
   ],
   "source": [
    "# поэлементное умножение\n",
    "Av = tf.multiply(A, v)\n",
    "\n",
    "print('Результат поэлементного умножения:\\n', Av)"
   ]
  },
  {
   "cell_type": "markdown",
   "metadata": {},
   "source": [
    "### Variable в TensorFlow и PyTorch\n",
    "\n",
    "Сравним метод Variable в TensorFlow и PyTorch.\\\n",
    "Несколько фактов о Variable в TensorFlow:\n",
    "   - tf.Variable на самом деле не является тензором, ее следует рассматривать как переменную;\n",
    "   - tf.Variable - единственный тип, который может быть изменен;\n",
    "   - tf.Variable спроектирован для весов и байеса, не для передачи в функции, как аргументов;\n",
    "   - tf.Variable хранится отдельно, то есть не в вычислительном графе;\n",
    "   - tf.Variable должен быть инициализирован до использования.\n",
    "   \n",
    "Рассмотрим Variable в TensorFlow:"
   ]
  },
  {
   "cell_type": "code",
   "execution_count": 11,
   "metadata": {},
   "outputs": [
    {
     "data": {
      "text/plain": [
       "<tf.Variable 'Variable:0' shape=(2, 2) dtype=int32, numpy=\n",
       "array([[1, 2],\n",
       "       [3, 4]], dtype=int32)>"
      ]
     },
     "execution_count": 11,
     "metadata": {},
     "output_type": "execute_result"
    }
   ],
   "source": [
    "# создадим переменную Variable\n",
    "tf_var = tf.Variable([[1, 2], [3, 4]], tf.int32)\n",
    "tf_var"
   ]
  },
  {
   "cell_type": "code",
   "execution_count": 12,
   "metadata": {},
   "outputs": [
    {
     "data": {
      "text/plain": [
       "tensorflow.python.ops.resource_variable_ops.ResourceVariable"
      ]
     },
     "execution_count": 12,
     "metadata": {},
     "output_type": "execute_result"
    }
   ],
   "source": [
    "# посмотрим на ее тип\n",
    "type(tf_var)"
   ]
  },
  {
   "cell_type": "markdown",
   "metadata": {},
   "source": [
    "**Вычисление градиентов.**"
   ]
  },
  {
   "cell_type": "markdown",
   "metadata": {},
   "source": [
    "В TensorFlow реализован метод tf.GradientTape для отслеживания операций, произведенными над tf.Variable, для последующего вычисления градиентов.Ввиду того, что разные операции могут выполниться в ходе каждого вызова, все проходящие операции записаны на \"ленту\" (\"tape\"). Для вычисления градиента идем по ленте назад и затем останавливаемся. Отдельный tf.GradientTape может вычислить только один градиент, последовательные вызовы выбрасывают ошибки исполнения.\\\n",
    "Стоит заметить, что TensorFlow по-умолчанию следит за переменной Variable, отслеживая операции с ней, в отличие от PyTorch.\\ \n",
    "Приведем пример."
   ]
  },
  {
   "cell_type": "code",
   "execution_count": 17,
   "metadata": {},
   "outputs": [
    {
     "name": "stdout",
     "output_type": "stream",
     "text": [
      "tf.Tensor(6.0, shape=(), dtype=float32)\n"
     ]
    }
   ],
   "source": [
    "x = tf.Variable(3.0)\n",
    "with tf.GradientTape() as g:\n",
    "    y = x ** 2\n",
    "dy_dx = g.gradient(y, x)\n",
    "print(dy_dx)"
   ]
  },
  {
   "cell_type": "markdown",
   "metadata": {},
   "source": [
    "Чтобы вычислить несколько градиентов, необходимо создать постоянную градиентную ленту: для этого нужно указать tf.GradientTape(persistent=True). Это позволяет многократно вызывать метод gradient () по мере высвобождения ресурсов при сборке мусора ленточного объекта. Например:"
   ]
  },
  {
   "cell_type": "code",
   "execution_count": 43,
   "metadata": {},
   "outputs": [
    {
     "name": "stdout",
     "output_type": "stream",
     "text": [
      "tf.Tensor(16.0, shape=(), dtype=float32)\n",
      "tf.Tensor(24.0, shape=(), dtype=float32)\n"
     ]
    }
   ],
   "source": [
    "x = tf.Variable(3.0)\n",
    "y = tf.Variable(4.0)\n",
    "with tf.GradientTape(persistent=True) as g:\n",
    "  #y = x * x\n",
    "  z = x * (y**2)\n",
    "dz_dx = g.gradient(z, x)\n",
    "print(dz_dx)\n",
    "\n",
    "dz_dy = g.gradient(z, y)\n",
    "print(dz_dy)\n"
   ]
  },
  {
   "cell_type": "markdown",
   "metadata": {},
   "source": [
    "Отличие данного метода от PyTorch состоит в том, что мы не сможем реализовать автоматическое дифференцирование переменных, не обернув их в tf.GradientTape.\\\n",
    "Реализуем программу, подгоняющую полигон третьей степени к функции синуса, с помощью методов TensorFlow."
   ]
  },
  {
   "cell_type": "code",
   "execution_count": 38,
   "metadata": {},
   "outputs": [
    {
     "name": "stdout",
     "output_type": "stream",
     "text": [
      "99 2420.485\n",
      "199 1603.5527\n",
      "299 1063.3508\n",
      "399 706.13794\n",
      "499 469.92792\n",
      "599 313.7318\n",
      "699 210.4456\n",
      "799 142.14651\n",
      "899 96.98309\n",
      "999 67.11804\n",
      "1099 47.369514\n",
      "1199 34.31051\n",
      "1299 25.675125\n",
      "1399 19.964783\n",
      "1499 16.188728\n",
      "1599 13.691779\n",
      "1699 12.040627\n",
      "1799 10.948765\n",
      "1899 10.226723\n",
      "1999 9.749285\n",
      "Result: y = 0.0008136520045809448 + 0.8270718455314636 x + -0.00014036659558769315 x^2 + -0.08911023288965225 x^3\n"
     ]
    }
   ],
   "source": [
    "import math\n",
    "\n",
    "x = tf.linspace(-math.pi, math.pi, 2000)\n",
    "y = tf.math.sin(x)\n",
    "\n",
    "w_0 = tf.Variable(tf.random.normal(()))\n",
    "w_1 = tf.Variable(tf.random.normal(()))\n",
    "w_2 = tf.Variable(tf.random.normal(()))\n",
    "w_3 = tf.Variable(tf.random.normal(()))\n",
    "\n",
    "learning_rate = 1e-6\n",
    "for t in range(2000):\n",
    "    with tf.GradientTape(persistent=True) as g:\n",
    "        y_pred =  w_0 + w_1 * x + w_2 * x ** 2 + w_3 * x ** 3\n",
    "    \n",
    "        loss = tf.math.reduce_sum((y_pred - y)**2)\n",
    "        if t % 100 == 99:\n",
    "            print(t, loss.numpy())\n",
    "    \n",
    "    # обновляем веса\n",
    "    w_0.assign_sub(learning_rate * g.gradient(loss, w_0)) \n",
    "    w_1.assign_sub(learning_rate * g.gradient(loss, w_1))\n",
    "    w_2.assign_sub(learning_rate * g.gradient(loss, w_2))\n",
    "    w_3.assign_sub(learning_rate * g.gradient(loss, w_3))\n",
    "\n",
    "print(f'Result: y = {w_0.numpy()} + {w_1.numpy()} x + {w_2.numpy()} x^2 + {w_3.numpy()} x^3')"
   ]
  },
  {
   "cell_type": "markdown",
   "metadata": {},
   "source": [
    "**Плюсы TensorFlow 2.x**\n",
    "    \n",
    "   - Теперь TensorFlow 2.x поддерживает как статический, так и динамический вычислительный граф;\n",
    "   - Во вторую версию интегрирован Keras API;\n",
    "   - Теперь не нужно создание сессий;\n",
    "   - Для нее написано большое количество руководств и документации;\n",
    "   - Она предлагает мощные средства мониторинга процесса обучения моделей и визуализации (Tensorboard);\n",
    "   - Она поддерживается большим сообществом разработчиков и техническими компаниями;\n",
    "   - Она обеспечивает обслуживание моделей;\n",
    "    \n",
    "**Минусы TensorFlow 2.x**\n",
    "\n",
    "   - Она имеет более высокий входной порог для начинающих, чем PyTorch или Keras;\n",
    "   - \"Голая\"s Tensorflow достаточно низкоуровневая и требует много шаблонного кода;\n",
    "   - Трудно осуществлять debug, особенно на низком уровне (TensorFlow 1.x)."
   ]
  },
  {
   "cell_type": "markdown",
   "metadata": {},
   "source": [
    "**Дополнительная информация**\n",
    "\n",
    "1. Официальная страница: https://www.tensorflow.org/\n",
    "2. Статья на Хабре: https://habr.com/ru/post/326650/\n",
    "3. TensorFlow 2.x: https://mlfromscratch.com/tensorflow-2/"
   ]
  },
  {
   "cell_type": "code",
   "execution_count": null,
   "metadata": {},
   "outputs": [],
   "source": []
  }
 ],
 "metadata": {
  "kernelspec": {
   "display_name": "Python 3",
   "language": "python",
   "name": "python3"
  },
  "language_info": {
   "codemirror_mode": {
    "name": "ipython",
    "version": 3
   },
   "file_extension": ".py",
   "mimetype": "text/x-python",
   "name": "python",
   "nbconvert_exporter": "python",
   "pygments_lexer": "ipython3",
   "version": "3.8.6"
  }
 },
 "nbformat": 4,
 "nbformat_minor": 4
}
