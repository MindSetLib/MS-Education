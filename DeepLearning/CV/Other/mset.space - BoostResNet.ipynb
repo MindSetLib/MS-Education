{
 "cells": [
  {
   "cell_type": "code",
   "execution_count": 1,
   "id": "95768bfd",
   "metadata": {},
   "outputs": [
    {
     "name": "stdout",
     "output_type": "stream",
     "text": [
      "Sun Oct  3 07:16:59 2021       \n",
      "+-----------------------------------------------------------------------------+\n",
      "| NVIDIA-SMI 440.118.02   Driver Version: 440.118.02   CUDA Version: 10.2     |\n",
      "|-------------------------------+----------------------+----------------------+\n",
      "| GPU  Name        Persistence-M| Bus-Id        Disp.A | Volatile Uncorr. ECC |\n",
      "| Fan  Temp  Perf  Pwr:Usage/Cap|         Memory-Usage | GPU-Util  Compute M. |\n",
      "|===============================+======================+======================|\n",
      "|   0  GeForce GTX 108...  On   | 00000000:51:00.0 Off |                  N/A |\n",
      "|  0%   33C    P2    57W / 250W |   9339MiB / 11178MiB |      0%      Default |\n",
      "+-------------------------------+----------------------+----------------------+\n",
      "|   1  GeForce GTX 108...  On   | 00000000:CB:00.0 Off |                  N/A |\n",
      "|  0%   33C    P8     9W / 250W |   1238MiB / 11178MiB |      0%      Default |\n",
      "+-------------------------------+----------------------+----------------------+\n",
      "|   2  GeForce GTX 108...  On   | 00000000:D5:00.0 Off |                  N/A |\n",
      "| 26%   59C    P2    61W / 250W |    261MiB / 11178MiB |      0%      Default |\n",
      "+-------------------------------+----------------------+----------------------+\n",
      "                                                                               \n",
      "+-----------------------------------------------------------------------------+\n",
      "| Processes:                                                       GPU Memory |\n",
      "|  GPU       PID   Type   Process name                             Usage      |\n",
      "|=============================================================================|\n",
      "+-----------------------------------------------------------------------------+\n"
     ]
    }
   ],
   "source": [
    "!nvidia-smi"
   ]
  },
  {
   "cell_type": "code",
   "execution_count": 2,
   "id": "6b9da947",
   "metadata": {},
   "outputs": [],
   "source": [
    "import numpy as np\n",
    "import torch\n",
    "import torchvision\n",
    "import torchvision.transforms as transforms\n",
    "import torch.nn as nn\n",
    "from torch.autograd import Variable\n",
    "from functools import reduce\n",
    "import sys\n",
    "from model import *"
   ]
  },
  {
   "cell_type": "code",
   "execution_count": 3,
   "id": "6b8f0ebb",
   "metadata": {},
   "outputs": [],
   "source": [
    "device = torch.device('cuda:2')"
   ]
  },
  {
   "cell_type": "code",
   "execution_count": 4,
   "id": "fad2ecd1",
   "metadata": {},
   "outputs": [],
   "source": [
    "transform = transforms.Compose([transforms.ToTensor(), transforms.Normalize((0.5, 0.5, 0.5), (0.5, 0.5, 0.5))])"
   ]
  },
  {
   "cell_type": "code",
   "execution_count": 5,
   "id": "abc4e298",
   "metadata": {},
   "outputs": [
    {
     "name": "stdout",
     "output_type": "stream",
     "text": [
      "Files already downloaded and verified\n"
     ]
    }
   ],
   "source": [
    "trainset = torchvision.datasets.CIFAR10(root='./data', train=True, download=True, transform=transform)\n",
    "Ytrain= np.array(trainset.targets)\n",
    "Xtrain= np.array(trainset.data)"
   ]
  },
  {
   "cell_type": "code",
   "execution_count": 6,
   "id": "3cfa927d",
   "metadata": {},
   "outputs": [
    {
     "name": "stdout",
     "output_type": "stream",
     "text": [
      "Files already downloaded and verified\n"
     ]
    }
   ],
   "source": [
    "testset = torchvision.datasets.CIFAR10(root='./data', train=False, download=True, transform=transform)\n",
    "Ytest= np.array(testset.targets)\n",
    "Xtest= np.array(testset.data)"
   ]
  },
  {
   "cell_type": "code",
   "execution_count": 7,
   "id": "7b8965bb",
   "metadata": {},
   "outputs": [],
   "source": [
    "Xtrain= Xtrain.transpose(0,3,1,2)\n",
    "Xtest=  Xtest.transpose(0,3,1,2)"
   ]
  },
  {
   "cell_type": "code",
   "execution_count": 8,
   "id": "a3dd135d",
   "metadata": {},
   "outputs": [],
   "source": [
    "model = nn.Sequential( # Sequential,\n",
    "    nn.Conv2d(3,16,(3, 3),(1, 1),(1, 1),1,1,bias=False),\n",
    "    nn.BatchNorm2d(16),\n",
    "    nn.ReLU(),\n",
    "    nn.Sequential( *[block1() for _ in range(8)]),\n",
    "    nn.Sequential(block4(), block2(), block2(), block2(), block2(), block2(), block2(), block2(),),\n",
    "    nn.Sequential(block5(), block3(), block3(), block3(), block3(), block3(), block3(), block3(),),\n",
    "    nn.AvgPool2d((8, 8),(1, 1)),\n",
    "    Lambda(lambda x: x.view(x.size(0),-1)), # View,\n",
    "    nn.Sequential(Lambda(lambda x: x.view(1,-1) if 1==len(x.size()) else x ),nn.Linear(64,10)), # Linear,\n",
    ")"
   ]
  },
  {
   "cell_type": "code",
   "execution_count": 9,
   "id": "a5bea3ca",
   "metadata": {},
   "outputs": [],
   "source": [
    "model = model.to(device)"
   ]
  },
  {
   "cell_type": "code",
   "execution_count": 10,
   "id": "8c436113",
   "metadata": {},
   "outputs": [],
   "source": [
    "NUM_CLASSES = 10\n",
    "GAMMA_FIRST=0.5\n",
    "checkEvery=10000\n",
    "GAMMA_THRESH=-0.0001\n",
    "lr= 0.001\n",
    "\n",
    "maxIters= 10000 #maximum iterations before stopping train layer\n",
    "transform= True # do CIFAR-style image transformations?\n",
    "BARCH_SIZE= 100"
   ]
  },
  {
   "cell_type": "code",
   "execution_count": 11,
   "id": "7474fc9c",
   "metadata": {},
   "outputs": [],
   "source": [
    "# build blocks (specific to fb architecture)\n",
    "allBlocks = {}\n",
    "allBlocks[0] = nn.Sequential(model[0], model[1], model[2])\n",
    "for i in range(8): allBlocks[1 + i] = model[3][i] \n",
    "for i in range(8): allBlocks[9 + i] = model[4][i] \n",
    "for i in range(8): allBlocks[17+ i] = model[5][i]\n",
    "criterion = nn.CrossEntropyLoss()\n",
    "nFilters = 15\n",
    "rounds = 25"
   ]
  },
  {
   "cell_type": "code",
   "execution_count": 12,
   "id": "2ed98350",
   "metadata": {},
   "outputs": [],
   "source": [
    "# helper for augmentation - necessary for cifar \n",
    "def transform(X):\n",
    "    tmp = np.zeros((np.shape(X)[0],3,38,38))\n",
    "    tmp[:, :, 2:34, 2:34] = X\n",
    "    for i in range(np.shape(X)[0]):\n",
    "        r1 = np.random.randint(4)\n",
    "        r2 = np.random.randint(4)\n",
    "        X[i] = tmp[i, :, r1 : r1 + 32, r2 : r2 + 32]\n",
    "        if np.random.uniform() > .5:\n",
    "            X[i] = X[i,:,:,::-1]\n",
    "    return X"
   ]
  },
  {
   "cell_type": "code",
   "execution_count": 13,
   "id": "4b9b7114",
   "metadata": {},
   "outputs": [],
   "source": [
    "# helper for model evaluation\n",
    "def getPerformance(net, X, Y, n):\n",
    "    acc = 0.\n",
    "    model.eval()\n",
    "    Xoutput = np.zeros((X.shape[0], 10))\n",
    "    for batch in range(int(X.shape[0] / BARCH_SIZE)):\n",
    "        start = batch * BARCH_SIZE; stop = (batch + 1) * BARCH_SIZE - 1\n",
    "        ints = np.linspace(start, stop, BARCH_SIZE).astype(int)\n",
    "        data = Variable(torch.from_numpy(X[ints])).float().to(device)\n",
    "        for i in range(n): data = allBlocks[i](data)\n",
    "        output = net(data)\n",
    "        acc += np.mean(torch.max(output,1)[1].cpu().data.numpy() == Y[ints])\n",
    "        Xoutput[ints] = output.cpu().data.numpy()\n",
    "    acc /= (X.shape[0] / BARCH_SIZE)\n",
    "    model.train()\n",
    "    return acc, Xoutput"
   ]
  },
  {
   "cell_type": "code",
   "execution_count": 14,
   "id": "e08cd63d",
   "metadata": {},
   "outputs": [],
   "source": [
    "def printer(print_arr):\n",
    "    for v in print_arr: sys.stdout.write(str(v) + '\\t')\n",
    "    sys.stdout.write('\\n')\n",
    "    sys.stdout.flush()"
   ]
  },
  {
   "cell_type": "code",
   "execution_count": 15,
   "id": "9d42079d",
   "metadata": {},
   "outputs": [],
   "source": [
    "nTrain = len(trainset)\n",
    "a_previous = 0.0\n",
    "a_current = -1.0\n",
    "s = np.zeros((nTrain, NUM_CLASSES))\n",
    "cost = np.zeros((nTrain, NUM_CLASSES))\n",
    "Xoutput_previous = np.zeros((nTrain, NUM_CLASSES))\n",
    "Ybatch = np.zeros((BARCH_SIZE))\n",
    "YbatchTest = np.zeros((BARCH_SIZE))\n",
    "gamma_previous = GAMMA_FIRST\n",
    "totalIterations = 0; tries = 0 "
   ]
  },
  {
   "cell_type": "code",
   "execution_count": 16,
   "id": "52176c71",
   "metadata": {},
   "outputs": [],
   "source": [
    "def cal_cost(s):\n",
    "    Z = 0 \n",
    "    for i in range(nTrain):\n",
    "        localSum = 0\n",
    "        for l in range(NUM_CLASSES):\n",
    "            if l != Ytrain[i]:\n",
    "                cost[i][l] = np.exp(s[i][l] - s[i][int(Ytrain[i])])\n",
    "                localSum += cost[i][l]\n",
    "        cost[i][int(Ytrain[i])] = -1 * localSum\n",
    "        Z += localSum\n",
    "    \n",
    "    return cost, Z"
   ]
  },
  {
   "cell_type": "code",
   "execution_count": 17,
   "id": "2889d989",
   "metadata": {},
   "outputs": [],
   "source": [
    "def build_tmp_model(n):\n",
    "    bk = allBlocks[n]\n",
    "    ci = nn.Sequential(model[6], model[7], model[8])\n",
    "    \n",
    "    if n < 17: \n",
    "        ci = nn.Sequential(allBlocks[17], ci)\n",
    "    if n < 9:  \n",
    "        ci = nn.Sequential(allBlocks[9], ci)\n",
    "    \n",
    "    modelTmp = nn.Sequential(bk, ci, nn.Softmax(dim=0))\n",
    "    modelTmp = modelTmp.to(device)\n",
    "    return modelTmp"
   ]
  },
  {
   "cell_type": "code",
   "execution_count": null,
   "id": "ad328700",
   "metadata": {},
   "outputs": [
    {
     "name": "stdout",
     "output_type": "stream",
     "text": [
      "Round: 0, Error: 9.3772533867836, Train Acc: 0.45119100000000434, Test Acc: 0.44656900000000316\n",
      "Round: 1, Error: 9.254754838943482, Train Acc: 0.5597680000000104, Test Acc: 0.5629590000000104\n",
      "Round: 2, Error: 9.222338208675385, Train Acc: 0.6055879999999983, Test Acc: 0.6094340000000021\n",
      "Round: 3, Error: 9.209418673801423, Train Acc: 0.6297759999999953, Test Acc: 0.6313269999999952\n",
      "Round: 4, Error: 9.201196561145782, Train Acc: 0.6473399999999899, Test Acc: 0.649373999999989\n",
      "Round: 5, Error: 9.196208872509002, Train Acc: 0.6605139999999856, Test Acc: 0.6603159999999851\n",
      "Round: 6, Error: 9.193766283416748, Train Acc: 0.6681629999999861, Test Acc: 0.6694709999999832\n",
      "Round: 7, Error: 9.190884055137634, Train Acc: 0.6788479999999789, Test Acc: 0.679249999999982\n",
      "Round: 8, Error: 9.188860508060456, Train Acc: 0.6867099999999821, Test Acc: 0.6855249999999828\n",
      "Round: 9, Error: 9.185612966632844, Train Acc: 0.6953599999999831, Test Acc: 0.6914989999999801\n",
      "Round: 10, Error: 9.185023915863036, Train Acc: 0.6997999999999829, Test Acc: 0.695960999999982\n",
      "Round: 11, Error: 9.183430623435974, Train Acc: 0.705403999999987, Test Acc: 0.7005919999999823\n",
      "Round: 12, Error: 9.18195517129898, Train Acc: 0.7127819999999859, Test Acc: 0.7096909999999869\n",
      "Round: 13, Error: 9.1803291929245, Train Acc: 0.715846999999988, Test Acc: 0.7123899999999885\n",
      "Round: 14, Error: 9.179120347595214, Train Acc: 0.7212179999999877, Test Acc: 0.7164719999999862\n",
      "Round: 15, Error: 9.178697623634338, Train Acc: 0.7253629999999885, Test Acc: 0.7203629999999859\n",
      "Round: 16, Error: 9.177946310138703, Train Acc: 0.7279609999999916, Test Acc: 0.7237849999999898\n",
      "Round: 17, Error: 9.176590423870087, Train Acc: 0.7328709999999938, Test Acc: 0.7280279999999875\n",
      "Round: 18, Error: 9.175359474277496, Train Acc: 0.7385009999999973, Test Acc: 0.7322009999999903\n",
      "Round: 19, Error: 9.174835661411285, Train Acc: 0.7420659999999973, Test Acc: 0.7375149999999918\n",
      "Round: 20, Error: 9.174144176578523, Train Acc: 0.7418839999999994, Test Acc: 0.7384989999999955\n",
      "Round: 21, Error: 9.174260201835633, Train Acc: 0.7424809999999952, Test Acc: 0.7378059999999952\n",
      "Round: 22, Error: 9.174279614067078, Train Acc: 0.7417049999999944, Test Acc: 0.7385949999999936\n",
      "Round: 23, Error: 9.174123104190826, Train Acc: 0.7427629999999978, Test Acc: 0.7387919999999932\n"
     ]
    }
   ],
   "source": [
    "for n in range(rounds):\n",
    "    gamma = -1\n",
    "    cost, Z = cal_cost(s)\n",
    "    modelTmp = build_tmp_model(n)\n",
    "    optimizer = torch.optim.Adam(modelTmp.parameters(), lr=lr)\n",
    "    tries = 0\n",
    "    XbatchTest = torch.zeros(BARCH_SIZE, nFilters, 32, 32)\n",
    "    \n",
    "    while (gamma < GAMMA_THRESH and ((checkEvery * tries) < maxIters)):\n",
    "        accTrain = 0; \n",
    "        accTest = 0; \n",
    "        err = 0;\n",
    "        for batch in range(1, checkEvery+1):\n",
    "            optimizer.zero_grad()\n",
    "\n",
    "            # get batch of training samples\n",
    "            ints = np.random.randint(np.shape(Xtrain)[0] - 1, size=(BARCH_SIZE))\n",
    "            Xbatch = Xtrain[ints]\n",
    "            Ybatch = Variable(torch.from_numpy(Ytrain[ints])).long().to(device)\n",
    "\n",
    "            # do transformations\n",
    "            if transform: \n",
    "                Xbatch = transform(Xbatch)\n",
    "            data = Variable(torch.from_numpy(Xbatch)).float().to(device)\n",
    "            \n",
    "            for i in range(n): \n",
    "                data = allBlocks[i](data)\n",
    "            \n",
    "            data = data.to(device)\n",
    "            # get gradients\n",
    "            output = modelTmp(data)\n",
    "            loss = torch.exp(criterion(output, Ybatch))\n",
    "            loss.backward()\n",
    "            err += loss.item()\n",
    "\n",
    "            # evaluate training accuracy\n",
    "            output = modelTmp(data)\n",
    "            accTrain += np.mean(torch.max(output,1)[1].cpu().data.numpy() == Ytrain[ints])\n",
    "            \n",
    "            # get test accuracy \n",
    "            model.eval()\n",
    "            ints = np.random.randint(np.shape(Xtest)[0] - 1, size=(BARCH_SIZE))\n",
    "            Xbatch = Xtest[ints]\n",
    "            data = Variable(torch.from_numpy(Xbatch)).float().to(device)\n",
    "            for i in range(n): \n",
    "                data = allBlocks[i](data)\n",
    "            data = data.to(device)\n",
    "            output = modelTmp(data)\n",
    "            accTest += np.mean(torch.max(output,1)[1].cpu().data.numpy() == Ytest[ints])\n",
    "            model.train()\n",
    "\n",
    "            for p in modelTmp.parameters(): \n",
    "                p.grad.data.clamp_(-.1, .1)            \n",
    "            optimizer.step()\n",
    "        print(f\"Round: {n}, Error: {err / checkEvery}, Train Acc: {accTrain / checkEvery}, Test Acc: {accTest / checkEvery}\")\n",
    "        \n",
    "        # compute gamma\n",
    "        accTrain, Xoutput = getPerformance(modelTmp, Xtrain, Ytrain, n)\n",
    "        gamma_current = -1 * np.sum(Xoutput * cost) / Z\n",
    "        gamma = (gamma_current ** 2 - gamma_previous ** 2)/(1 - gamma_previous ** 2) \n",
    "        if gamma > 0: \n",
    "            gamma = np.sqrt(gamma)\n",
    "        else: \n",
    "            gamma = -1 * np.sqrt(-1 * gamma)\n",
    "        a_current = 0.5 * np.log((1 + gamma_current) / (1 - gamma_current))\n",
    "    \n",
    "        tries += 1  \n",
    "\n",
    "    s += Xoutput * a_current - Xoutput_previous * a_previous\n",
    "    accTest, _ = getPerformance(modelTmp, Xtest, Ytest, n)    \n",
    "    gamma_previous = gamma_current\n"
   ]
  },
  {
   "cell_type": "code",
   "execution_count": null,
   "id": "e438796d",
   "metadata": {},
   "outputs": [],
   "source": []
  }
 ],
 "metadata": {
  "kernelspec": {
   "display_name": "Python 3",
   "language": "python",
   "name": "python3"
  },
  "language_info": {
   "codemirror_mode": {
    "name": "ipython",
    "version": 3
   },
   "file_extension": ".py",
   "mimetype": "text/x-python",
   "name": "python",
   "nbconvert_exporter": "python",
   "pygments_lexer": "ipython3",
   "version": "3.8.10"
  }
 },
 "nbformat": 4,
 "nbformat_minor": 5
}
