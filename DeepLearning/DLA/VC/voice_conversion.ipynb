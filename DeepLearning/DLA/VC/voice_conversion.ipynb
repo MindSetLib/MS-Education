{
 "cells": [
  {
   "cell_type": "markdown",
   "id": "c221885e-5d84-4366-b18f-3f32b384a87e",
   "metadata": {},
   "source": [
    "# Преобразоваие голоса"
   ]
  },
  {
   "cell_type": "markdown",
   "id": "a83b9d47-7cd2-4930-aa87-1e280f56dac6",
   "metadata": {},
   "source": [
    "https://github.com/coqui-ai/TTS"
   ]
  },
  {
   "cell_type": "markdown",
   "id": "e0215d6b-ff76-4b3c-9c97-d89f601a0f42",
   "metadata": {
    "tags": []
   },
   "source": [
    "Загрузим нужные библиотеки, установим системные переменные"
   ]
  },
  {
   "cell_type": "code",
   "execution_count": 1,
   "id": "8ab40044-e5d2-43b1-9124-64e01d43945f",
   "metadata": {
    "tags": []
   },
   "outputs": [],
   "source": [
    "import torch\n",
    "from TTS.api import TTS\n",
    "import os\n",
    "os.environ['HF_HOME'] = '/home/jovyan/work/HF_cache/'\n",
    "os.environ[\"CUDA_DEVICE_ORDER\"]=\"PCI_BUS_ID\"\n",
    "os.environ[\"CUDA_VISIBLE_DEVICES\"]=\"1\""
   ]
  },
  {
   "cell_type": "code",
   "execution_count": 2,
   "id": "705f5f67-4e57-4935-94f9-10069434a943",
   "metadata": {
    "tags": []
   },
   "outputs": [
    {
     "name": "stderr",
     "output_type": "stream",
     "text": [
      "/home/jovyan/.cache/pypoetry/virtualenvs/vc-v7M7ZMWK-py3.10/lib/python3.10/site-packages/torch/cuda/__init__.py:138: UserWarning: CUDA initialization: The NVIDIA driver on your system is too old (found version 11070). Please update your GPU driver by downloading and installing a new version from the URL: http://www.nvidia.com/Download/index.aspx Alternatively, go to: https://pytorch.org to install a PyTorch version that has been compiled with your version of the CUDA driver. (Triggered internally at ../c10/cuda/CUDAFunctions.cpp:108.)\n",
      "  return torch._C._cuda_getDeviceCount() > 0\n"
     ]
    }
   ],
   "source": [
    "# Get device\n",
    "device = \"cuda\" if torch.cuda.is_available() else \"cpu\""
   ]
  },
  {
   "cell_type": "code",
   "execution_count": 5,
   "id": "fad81671-349f-4c82-8ecb-9152f7d3dadc",
   "metadata": {},
   "outputs": [
    {
     "data": {
      "text/plain": [
       "'cpu'"
      ]
     },
     "execution_count": 5,
     "metadata": {},
     "output_type": "execute_result"
    }
   ],
   "source": [
    "device"
   ]
  },
  {
   "cell_type": "markdown",
   "id": "b5aee171-b05e-4ad3-a7b3-9e6b78c9cacd",
   "metadata": {},
   "source": [
    "Загрузим модель FreeVC для конвертации голоса"
   ]
  },
  {
   "cell_type": "code",
   "execution_count": 3,
   "id": "93d68607-1bf5-4810-9c6d-c01e04919e82",
   "metadata": {
    "tags": []
   },
   "outputs": [
    {
     "name": "stdout",
     "output_type": "stream",
     "text": [
      " > voice_conversion_models/multilingual/vctk/freevc24 is already downloaded.\n",
      " > Using model: freevc\n",
      " > Loading pretrained speaker encoder model ...\n",
      "Loaded the voice encoder model on cpu in 0.13 seconds.\n"
     ]
    }
   ],
   "source": [
    "tts = TTS(model_name=\"voice_conversion_models/multilingual/vctk/freevc24\",\n",
    "          progress_bar=False).to(device)"
   ]
  },
  {
   "cell_type": "markdown",
   "id": "dca83b54-9df6-447a-a2ae-38b28f3f84ca",
   "metadata": {},
   "source": [
    "Сделаем конвертацию"
   ]
  },
  {
   "cell_type": "code",
   "execution_count": 4,
   "id": "92f56462-1181-4df5-98c7-121e630482d5",
   "metadata": {
    "tags": []
   },
   "outputs": [
    {
     "name": "stderr",
     "output_type": "stream",
     "text": [
      "[W NNPACK.cpp:64] Could not initialize NNPACK! Reason: Unsupported hardware.\n"
     ]
    },
    {
     "name": "stdout",
     "output_type": "stream",
     "text": [
      "CPU times: user 2min 2s, sys: 3.86 s, total: 2min 6s\n",
      "Wall time: 3.49 s\n"
     ]
    },
    {
     "data": {
      "text/plain": [
       "'./samples/cv_output_fem.wav'"
      ]
     },
     "execution_count": 4,
     "metadata": {},
     "output_type": "execute_result"
    }
   ],
   "source": [
    "# Укажите свои пути к соответствующим файлам .wav\n",
    "%%time\n",
    "tts.voice_conversion_to_file(source_wav=\"./samples/source_Victor.wav\",\n",
    "target_wav=\"./samples/target_fem_tts.wav\", file_path=\"./samples/cv_output_fem.wav\")"
   ]
  },
  {
   "cell_type": "code",
   "execution_count": null,
   "id": "5a51db60-3a8c-4b92-9b2c-cc606c70ca29",
   "metadata": {},
   "outputs": [],
   "source": []
  }
 ],
 "metadata": {
  "kernelspec": {
   "display_name": "voice_conv",
   "language": "python",
   "name": "voice_conv"
  },
  "language_info": {
   "codemirror_mode": {
    "name": "ipython",
    "version": 3
   },
   "file_extension": ".py",
   "mimetype": "text/x-python",
   "name": "python",
   "nbconvert_exporter": "python",
   "pygments_lexer": "ipython3",
   "version": "3.10.12"
  }
 },
 "nbformat": 4,
 "nbformat_minor": 5
}
