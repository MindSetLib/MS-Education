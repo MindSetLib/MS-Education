{
  "nbformat": 4,
  "nbformat_minor": 0,
  "metadata": {
    "colab": {
      "name": "BERT.ipynb",
      "provenance": []
    },
    "kernelspec": {
      "name": "python3",
      "display_name": "Python 3"
    },
    "language_info": {
      "name": "python"
    },
    "widgets": {
      "application/vnd.jupyter.widget-state+json": {
        "2612b117f92c4d94bdfe73c437c82833": {
          "model_module": "@jupyter-widgets/controls",
          "model_name": "HBoxModel",
          "model_module_version": "1.5.0",
          "state": {
            "_view_name": "HBoxView",
            "_dom_classes": [],
            "_model_name": "HBoxModel",
            "_view_module": "@jupyter-widgets/controls",
            "_model_module_version": "1.5.0",
            "_view_count": null,
            "_view_module_version": "1.5.0",
            "box_style": "",
            "layout": "IPY_MODEL_5d856fc95e604bc3bc1c2cf85cce87de",
            "_model_module": "@jupyter-widgets/controls",
            "children": [
              "IPY_MODEL_a8f27c53520f4d94a0b0dfb6c52551b3",
              "IPY_MODEL_249049e98f494fb59e7113293b5f02dc",
              "IPY_MODEL_caf13cc059d246bdb198c6a0c92d92dd"
            ]
          }
        },
        "5d856fc95e604bc3bc1c2cf85cce87de": {
          "model_module": "@jupyter-widgets/base",
          "model_name": "LayoutModel",
          "model_module_version": "1.2.0",
          "state": {
            "_view_name": "LayoutView",
            "grid_template_rows": null,
            "right": null,
            "justify_content": null,
            "_view_module": "@jupyter-widgets/base",
            "overflow": null,
            "_model_module_version": "1.2.0",
            "_view_count": null,
            "flex_flow": null,
            "width": null,
            "min_width": null,
            "border": null,
            "align_items": null,
            "bottom": null,
            "_model_module": "@jupyter-widgets/base",
            "top": null,
            "grid_column": null,
            "overflow_y": null,
            "overflow_x": null,
            "grid_auto_flow": null,
            "grid_area": null,
            "grid_template_columns": null,
            "flex": null,
            "_model_name": "LayoutModel",
            "justify_items": null,
            "grid_row": null,
            "max_height": null,
            "align_content": null,
            "visibility": null,
            "align_self": null,
            "height": null,
            "min_height": null,
            "padding": null,
            "grid_auto_rows": null,
            "grid_gap": null,
            "max_width": null,
            "order": null,
            "_view_module_version": "1.2.0",
            "grid_template_areas": null,
            "object_position": null,
            "object_fit": null,
            "grid_auto_columns": null,
            "margin": null,
            "display": null,
            "left": null
          }
        },
        "a8f27c53520f4d94a0b0dfb6c52551b3": {
          "model_module": "@jupyter-widgets/controls",
          "model_name": "HTMLModel",
          "model_module_version": "1.5.0",
          "state": {
            "_view_name": "HTMLView",
            "style": "IPY_MODEL_dfe1ec9a87b1463d8b297c235b9d1590",
            "_dom_classes": [],
            "description": "",
            "_model_name": "HTMLModel",
            "placeholder": "​",
            "_view_module": "@jupyter-widgets/controls",
            "_model_module_version": "1.5.0",
            "value": "Downloading: 100%",
            "_view_count": null,
            "_view_module_version": "1.5.0",
            "description_tooltip": null,
            "_model_module": "@jupyter-widgets/controls",
            "layout": "IPY_MODEL_447bfe9e88c3426eb2a3a816105c7d83"
          }
        },
        "249049e98f494fb59e7113293b5f02dc": {
          "model_module": "@jupyter-widgets/controls",
          "model_name": "FloatProgressModel",
          "model_module_version": "1.5.0",
          "state": {
            "_view_name": "ProgressView",
            "style": "IPY_MODEL_ac9d75ffc7df466cb790787e93793cc2",
            "_dom_classes": [],
            "description": "",
            "_model_name": "FloatProgressModel",
            "bar_style": "success",
            "max": 231508,
            "_view_module": "@jupyter-widgets/controls",
            "_model_module_version": "1.5.0",
            "value": 231508,
            "_view_count": null,
            "_view_module_version": "1.5.0",
            "orientation": "horizontal",
            "min": 0,
            "description_tooltip": null,
            "_model_module": "@jupyter-widgets/controls",
            "layout": "IPY_MODEL_b1ae152d5a4840b1b24ca73bf758e03e"
          }
        },
        "caf13cc059d246bdb198c6a0c92d92dd": {
          "model_module": "@jupyter-widgets/controls",
          "model_name": "HTMLModel",
          "model_module_version": "1.5.0",
          "state": {
            "_view_name": "HTMLView",
            "style": "IPY_MODEL_e60f3c61d7554e0b9a290f40ab0204e1",
            "_dom_classes": [],
            "description": "",
            "_model_name": "HTMLModel",
            "placeholder": "​",
            "_view_module": "@jupyter-widgets/controls",
            "_model_module_version": "1.5.0",
            "value": " 232k/232k [00:00&lt;00:00, 831kB/s]",
            "_view_count": null,
            "_view_module_version": "1.5.0",
            "description_tooltip": null,
            "_model_module": "@jupyter-widgets/controls",
            "layout": "IPY_MODEL_80b51497f3bd419fbd653e1888694a5e"
          }
        },
        "dfe1ec9a87b1463d8b297c235b9d1590": {
          "model_module": "@jupyter-widgets/controls",
          "model_name": "DescriptionStyleModel",
          "model_module_version": "1.5.0",
          "state": {
            "_view_name": "StyleView",
            "_model_name": "DescriptionStyleModel",
            "description_width": "",
            "_view_module": "@jupyter-widgets/base",
            "_model_module_version": "1.5.0",
            "_view_count": null,
            "_view_module_version": "1.2.0",
            "_model_module": "@jupyter-widgets/controls"
          }
        },
        "447bfe9e88c3426eb2a3a816105c7d83": {
          "model_module": "@jupyter-widgets/base",
          "model_name": "LayoutModel",
          "model_module_version": "1.2.0",
          "state": {
            "_view_name": "LayoutView",
            "grid_template_rows": null,
            "right": null,
            "justify_content": null,
            "_view_module": "@jupyter-widgets/base",
            "overflow": null,
            "_model_module_version": "1.2.0",
            "_view_count": null,
            "flex_flow": null,
            "width": null,
            "min_width": null,
            "border": null,
            "align_items": null,
            "bottom": null,
            "_model_module": "@jupyter-widgets/base",
            "top": null,
            "grid_column": null,
            "overflow_y": null,
            "overflow_x": null,
            "grid_auto_flow": null,
            "grid_area": null,
            "grid_template_columns": null,
            "flex": null,
            "_model_name": "LayoutModel",
            "justify_items": null,
            "grid_row": null,
            "max_height": null,
            "align_content": null,
            "visibility": null,
            "align_self": null,
            "height": null,
            "min_height": null,
            "padding": null,
            "grid_auto_rows": null,
            "grid_gap": null,
            "max_width": null,
            "order": null,
            "_view_module_version": "1.2.0",
            "grid_template_areas": null,
            "object_position": null,
            "object_fit": null,
            "grid_auto_columns": null,
            "margin": null,
            "display": null,
            "left": null
          }
        },
        "ac9d75ffc7df466cb790787e93793cc2": {
          "model_module": "@jupyter-widgets/controls",
          "model_name": "ProgressStyleModel",
          "model_module_version": "1.5.0",
          "state": {
            "_view_name": "StyleView",
            "_model_name": "ProgressStyleModel",
            "description_width": "",
            "_view_module": "@jupyter-widgets/base",
            "_model_module_version": "1.5.0",
            "_view_count": null,
            "_view_module_version": "1.2.0",
            "bar_color": null,
            "_model_module": "@jupyter-widgets/controls"
          }
        },
        "b1ae152d5a4840b1b24ca73bf758e03e": {
          "model_module": "@jupyter-widgets/base",
          "model_name": "LayoutModel",
          "model_module_version": "1.2.0",
          "state": {
            "_view_name": "LayoutView",
            "grid_template_rows": null,
            "right": null,
            "justify_content": null,
            "_view_module": "@jupyter-widgets/base",
            "overflow": null,
            "_model_module_version": "1.2.0",
            "_view_count": null,
            "flex_flow": null,
            "width": null,
            "min_width": null,
            "border": null,
            "align_items": null,
            "bottom": null,
            "_model_module": "@jupyter-widgets/base",
            "top": null,
            "grid_column": null,
            "overflow_y": null,
            "overflow_x": null,
            "grid_auto_flow": null,
            "grid_area": null,
            "grid_template_columns": null,
            "flex": null,
            "_model_name": "LayoutModel",
            "justify_items": null,
            "grid_row": null,
            "max_height": null,
            "align_content": null,
            "visibility": null,
            "align_self": null,
            "height": null,
            "min_height": null,
            "padding": null,
            "grid_auto_rows": null,
            "grid_gap": null,
            "max_width": null,
            "order": null,
            "_view_module_version": "1.2.0",
            "grid_template_areas": null,
            "object_position": null,
            "object_fit": null,
            "grid_auto_columns": null,
            "margin": null,
            "display": null,
            "left": null
          }
        },
        "e60f3c61d7554e0b9a290f40ab0204e1": {
          "model_module": "@jupyter-widgets/controls",
          "model_name": "DescriptionStyleModel",
          "model_module_version": "1.5.0",
          "state": {
            "_view_name": "StyleView",
            "_model_name": "DescriptionStyleModel",
            "description_width": "",
            "_view_module": "@jupyter-widgets/base",
            "_model_module_version": "1.5.0",
            "_view_count": null,
            "_view_module_version": "1.2.0",
            "_model_module": "@jupyter-widgets/controls"
          }
        },
        "80b51497f3bd419fbd653e1888694a5e": {
          "model_module": "@jupyter-widgets/base",
          "model_name": "LayoutModel",
          "model_module_version": "1.2.0",
          "state": {
            "_view_name": "LayoutView",
            "grid_template_rows": null,
            "right": null,
            "justify_content": null,
            "_view_module": "@jupyter-widgets/base",
            "overflow": null,
            "_model_module_version": "1.2.0",
            "_view_count": null,
            "flex_flow": null,
            "width": null,
            "min_width": null,
            "border": null,
            "align_items": null,
            "bottom": null,
            "_model_module": "@jupyter-widgets/base",
            "top": null,
            "grid_column": null,
            "overflow_y": null,
            "overflow_x": null,
            "grid_auto_flow": null,
            "grid_area": null,
            "grid_template_columns": null,
            "flex": null,
            "_model_name": "LayoutModel",
            "justify_items": null,
            "grid_row": null,
            "max_height": null,
            "align_content": null,
            "visibility": null,
            "align_self": null,
            "height": null,
            "min_height": null,
            "padding": null,
            "grid_auto_rows": null,
            "grid_gap": null,
            "max_width": null,
            "order": null,
            "_view_module_version": "1.2.0",
            "grid_template_areas": null,
            "object_position": null,
            "object_fit": null,
            "grid_auto_columns": null,
            "margin": null,
            "display": null,
            "left": null
          }
        },
        "0c1e6516a97f4ea3988db48e2de4c689": {
          "model_module": "@jupyter-widgets/controls",
          "model_name": "HBoxModel",
          "model_module_version": "1.5.0",
          "state": {
            "_view_name": "HBoxView",
            "_dom_classes": [],
            "_model_name": "HBoxModel",
            "_view_module": "@jupyter-widgets/controls",
            "_model_module_version": "1.5.0",
            "_view_count": null,
            "_view_module_version": "1.5.0",
            "box_style": "",
            "layout": "IPY_MODEL_97c640eda5994a53819b7b9cb58fee1e",
            "_model_module": "@jupyter-widgets/controls",
            "children": [
              "IPY_MODEL_c661ed886c2f40709c470d00849b828e",
              "IPY_MODEL_aa2460fa1d7e42a1b95436c3d1869624",
              "IPY_MODEL_a15c2ca4d69a4915bb71c71d782c5950"
            ]
          }
        },
        "97c640eda5994a53819b7b9cb58fee1e": {
          "model_module": "@jupyter-widgets/base",
          "model_name": "LayoutModel",
          "model_module_version": "1.2.0",
          "state": {
            "_view_name": "LayoutView",
            "grid_template_rows": null,
            "right": null,
            "justify_content": null,
            "_view_module": "@jupyter-widgets/base",
            "overflow": null,
            "_model_module_version": "1.2.0",
            "_view_count": null,
            "flex_flow": null,
            "width": null,
            "min_width": null,
            "border": null,
            "align_items": null,
            "bottom": null,
            "_model_module": "@jupyter-widgets/base",
            "top": null,
            "grid_column": null,
            "overflow_y": null,
            "overflow_x": null,
            "grid_auto_flow": null,
            "grid_area": null,
            "grid_template_columns": null,
            "flex": null,
            "_model_name": "LayoutModel",
            "justify_items": null,
            "grid_row": null,
            "max_height": null,
            "align_content": null,
            "visibility": null,
            "align_self": null,
            "height": null,
            "min_height": null,
            "padding": null,
            "grid_auto_rows": null,
            "grid_gap": null,
            "max_width": null,
            "order": null,
            "_view_module_version": "1.2.0",
            "grid_template_areas": null,
            "object_position": null,
            "object_fit": null,
            "grid_auto_columns": null,
            "margin": null,
            "display": null,
            "left": null
          }
        },
        "c661ed886c2f40709c470d00849b828e": {
          "model_module": "@jupyter-widgets/controls",
          "model_name": "HTMLModel",
          "model_module_version": "1.5.0",
          "state": {
            "_view_name": "HTMLView",
            "style": "IPY_MODEL_290c56ddee7147e6b4b9902ab9329b54",
            "_dom_classes": [],
            "description": "",
            "_model_name": "HTMLModel",
            "placeholder": "​",
            "_view_module": "@jupyter-widgets/controls",
            "_model_module_version": "1.5.0",
            "value": "Downloading: 100%",
            "_view_count": null,
            "_view_module_version": "1.5.0",
            "description_tooltip": null,
            "_model_module": "@jupyter-widgets/controls",
            "layout": "IPY_MODEL_903b45c5b8eb4d48a06fb4503f4fa5ac"
          }
        },
        "aa2460fa1d7e42a1b95436c3d1869624": {
          "model_module": "@jupyter-widgets/controls",
          "model_name": "FloatProgressModel",
          "model_module_version": "1.5.0",
          "state": {
            "_view_name": "ProgressView",
            "style": "IPY_MODEL_ddf840f4daf641b09ebbc34aa0eb0a7b",
            "_dom_classes": [],
            "description": "",
            "_model_name": "FloatProgressModel",
            "bar_style": "success",
            "max": 28,
            "_view_module": "@jupyter-widgets/controls",
            "_model_module_version": "1.5.0",
            "value": 28,
            "_view_count": null,
            "_view_module_version": "1.5.0",
            "orientation": "horizontal",
            "min": 0,
            "description_tooltip": null,
            "_model_module": "@jupyter-widgets/controls",
            "layout": "IPY_MODEL_ca2b6d349bb04c1b8d9333d4caa6aec0"
          }
        },
        "a15c2ca4d69a4915bb71c71d782c5950": {
          "model_module": "@jupyter-widgets/controls",
          "model_name": "HTMLModel",
          "model_module_version": "1.5.0",
          "state": {
            "_view_name": "HTMLView",
            "style": "IPY_MODEL_5b05cc1587944eacb84ffbd79e7ec1f1",
            "_dom_classes": [],
            "description": "",
            "_model_name": "HTMLModel",
            "placeholder": "​",
            "_view_module": "@jupyter-widgets/controls",
            "_model_module_version": "1.5.0",
            "value": " 28.0/28.0 [00:00&lt;00:00, 645B/s]",
            "_view_count": null,
            "_view_module_version": "1.5.0",
            "description_tooltip": null,
            "_model_module": "@jupyter-widgets/controls",
            "layout": "IPY_MODEL_10e87500a9f942389d4a6885b3e49d0d"
          }
        },
        "290c56ddee7147e6b4b9902ab9329b54": {
          "model_module": "@jupyter-widgets/controls",
          "model_name": "DescriptionStyleModel",
          "model_module_version": "1.5.0",
          "state": {
            "_view_name": "StyleView",
            "_model_name": "DescriptionStyleModel",
            "description_width": "",
            "_view_module": "@jupyter-widgets/base",
            "_model_module_version": "1.5.0",
            "_view_count": null,
            "_view_module_version": "1.2.0",
            "_model_module": "@jupyter-widgets/controls"
          }
        },
        "903b45c5b8eb4d48a06fb4503f4fa5ac": {
          "model_module": "@jupyter-widgets/base",
          "model_name": "LayoutModel",
          "model_module_version": "1.2.0",
          "state": {
            "_view_name": "LayoutView",
            "grid_template_rows": null,
            "right": null,
            "justify_content": null,
            "_view_module": "@jupyter-widgets/base",
            "overflow": null,
            "_model_module_version": "1.2.0",
            "_view_count": null,
            "flex_flow": null,
            "width": null,
            "min_width": null,
            "border": null,
            "align_items": null,
            "bottom": null,
            "_model_module": "@jupyter-widgets/base",
            "top": null,
            "grid_column": null,
            "overflow_y": null,
            "overflow_x": null,
            "grid_auto_flow": null,
            "grid_area": null,
            "grid_template_columns": null,
            "flex": null,
            "_model_name": "LayoutModel",
            "justify_items": null,
            "grid_row": null,
            "max_height": null,
            "align_content": null,
            "visibility": null,
            "align_self": null,
            "height": null,
            "min_height": null,
            "padding": null,
            "grid_auto_rows": null,
            "grid_gap": null,
            "max_width": null,
            "order": null,
            "_view_module_version": "1.2.0",
            "grid_template_areas": null,
            "object_position": null,
            "object_fit": null,
            "grid_auto_columns": null,
            "margin": null,
            "display": null,
            "left": null
          }
        },
        "ddf840f4daf641b09ebbc34aa0eb0a7b": {
          "model_module": "@jupyter-widgets/controls",
          "model_name": "ProgressStyleModel",
          "model_module_version": "1.5.0",
          "state": {
            "_view_name": "StyleView",
            "_model_name": "ProgressStyleModel",
            "description_width": "",
            "_view_module": "@jupyter-widgets/base",
            "_model_module_version": "1.5.0",
            "_view_count": null,
            "_view_module_version": "1.2.0",
            "bar_color": null,
            "_model_module": "@jupyter-widgets/controls"
          }
        },
        "ca2b6d349bb04c1b8d9333d4caa6aec0": {
          "model_module": "@jupyter-widgets/base",
          "model_name": "LayoutModel",
          "model_module_version": "1.2.0",
          "state": {
            "_view_name": "LayoutView",
            "grid_template_rows": null,
            "right": null,
            "justify_content": null,
            "_view_module": "@jupyter-widgets/base",
            "overflow": null,
            "_model_module_version": "1.2.0",
            "_view_count": null,
            "flex_flow": null,
            "width": null,
            "min_width": null,
            "border": null,
            "align_items": null,
            "bottom": null,
            "_model_module": "@jupyter-widgets/base",
            "top": null,
            "grid_column": null,
            "overflow_y": null,
            "overflow_x": null,
            "grid_auto_flow": null,
            "grid_area": null,
            "grid_template_columns": null,
            "flex": null,
            "_model_name": "LayoutModel",
            "justify_items": null,
            "grid_row": null,
            "max_height": null,
            "align_content": null,
            "visibility": null,
            "align_self": null,
            "height": null,
            "min_height": null,
            "padding": null,
            "grid_auto_rows": null,
            "grid_gap": null,
            "max_width": null,
            "order": null,
            "_view_module_version": "1.2.0",
            "grid_template_areas": null,
            "object_position": null,
            "object_fit": null,
            "grid_auto_columns": null,
            "margin": null,
            "display": null,
            "left": null
          }
        },
        "5b05cc1587944eacb84ffbd79e7ec1f1": {
          "model_module": "@jupyter-widgets/controls",
          "model_name": "DescriptionStyleModel",
          "model_module_version": "1.5.0",
          "state": {
            "_view_name": "StyleView",
            "_model_name": "DescriptionStyleModel",
            "description_width": "",
            "_view_module": "@jupyter-widgets/base",
            "_model_module_version": "1.5.0",
            "_view_count": null,
            "_view_module_version": "1.2.0",
            "_model_module": "@jupyter-widgets/controls"
          }
        },
        "10e87500a9f942389d4a6885b3e49d0d": {
          "model_module": "@jupyter-widgets/base",
          "model_name": "LayoutModel",
          "model_module_version": "1.2.0",
          "state": {
            "_view_name": "LayoutView",
            "grid_template_rows": null,
            "right": null,
            "justify_content": null,
            "_view_module": "@jupyter-widgets/base",
            "overflow": null,
            "_model_module_version": "1.2.0",
            "_view_count": null,
            "flex_flow": null,
            "width": null,
            "min_width": null,
            "border": null,
            "align_items": null,
            "bottom": null,
            "_model_module": "@jupyter-widgets/base",
            "top": null,
            "grid_column": null,
            "overflow_y": null,
            "overflow_x": null,
            "grid_auto_flow": null,
            "grid_area": null,
            "grid_template_columns": null,
            "flex": null,
            "_model_name": "LayoutModel",
            "justify_items": null,
            "grid_row": null,
            "max_height": null,
            "align_content": null,
            "visibility": null,
            "align_self": null,
            "height": null,
            "min_height": null,
            "padding": null,
            "grid_auto_rows": null,
            "grid_gap": null,
            "max_width": null,
            "order": null,
            "_view_module_version": "1.2.0",
            "grid_template_areas": null,
            "object_position": null,
            "object_fit": null,
            "grid_auto_columns": null,
            "margin": null,
            "display": null,
            "left": null
          }
        },
        "78e63d4a5d80407887789c3110bbc566": {
          "model_module": "@jupyter-widgets/controls",
          "model_name": "HBoxModel",
          "model_module_version": "1.5.0",
          "state": {
            "_view_name": "HBoxView",
            "_dom_classes": [],
            "_model_name": "HBoxModel",
            "_view_module": "@jupyter-widgets/controls",
            "_model_module_version": "1.5.0",
            "_view_count": null,
            "_view_module_version": "1.5.0",
            "box_style": "",
            "layout": "IPY_MODEL_73ff91ccff664910bc5d0ddce9497019",
            "_model_module": "@jupyter-widgets/controls",
            "children": [
              "IPY_MODEL_64c1de7659864cebb831bc4cc5439554",
              "IPY_MODEL_ad44bb13017d4615b1109891454caccd",
              "IPY_MODEL_ec08bb6c56c64d51b448dce19b64715f"
            ]
          }
        },
        "73ff91ccff664910bc5d0ddce9497019": {
          "model_module": "@jupyter-widgets/base",
          "model_name": "LayoutModel",
          "model_module_version": "1.2.0",
          "state": {
            "_view_name": "LayoutView",
            "grid_template_rows": null,
            "right": null,
            "justify_content": null,
            "_view_module": "@jupyter-widgets/base",
            "overflow": null,
            "_model_module_version": "1.2.0",
            "_view_count": null,
            "flex_flow": null,
            "width": null,
            "min_width": null,
            "border": null,
            "align_items": null,
            "bottom": null,
            "_model_module": "@jupyter-widgets/base",
            "top": null,
            "grid_column": null,
            "overflow_y": null,
            "overflow_x": null,
            "grid_auto_flow": null,
            "grid_area": null,
            "grid_template_columns": null,
            "flex": null,
            "_model_name": "LayoutModel",
            "justify_items": null,
            "grid_row": null,
            "max_height": null,
            "align_content": null,
            "visibility": null,
            "align_self": null,
            "height": null,
            "min_height": null,
            "padding": null,
            "grid_auto_rows": null,
            "grid_gap": null,
            "max_width": null,
            "order": null,
            "_view_module_version": "1.2.0",
            "grid_template_areas": null,
            "object_position": null,
            "object_fit": null,
            "grid_auto_columns": null,
            "margin": null,
            "display": null,
            "left": null
          }
        },
        "64c1de7659864cebb831bc4cc5439554": {
          "model_module": "@jupyter-widgets/controls",
          "model_name": "HTMLModel",
          "model_module_version": "1.5.0",
          "state": {
            "_view_name": "HTMLView",
            "style": "IPY_MODEL_331c333ee1af49b3afbcedf4d4f805c7",
            "_dom_classes": [],
            "description": "",
            "_model_name": "HTMLModel",
            "placeholder": "​",
            "_view_module": "@jupyter-widgets/controls",
            "_model_module_version": "1.5.0",
            "value": "Downloading: 100%",
            "_view_count": null,
            "_view_module_version": "1.5.0",
            "description_tooltip": null,
            "_model_module": "@jupyter-widgets/controls",
            "layout": "IPY_MODEL_dfe9d6fd94b746b58b13f249ecec60a2"
          }
        },
        "ad44bb13017d4615b1109891454caccd": {
          "model_module": "@jupyter-widgets/controls",
          "model_name": "FloatProgressModel",
          "model_module_version": "1.5.0",
          "state": {
            "_view_name": "ProgressView",
            "style": "IPY_MODEL_663de35a4c564490be21c1f8ce3edc0a",
            "_dom_classes": [],
            "description": "",
            "_model_name": "FloatProgressModel",
            "bar_style": "success",
            "max": 466062,
            "_view_module": "@jupyter-widgets/controls",
            "_model_module_version": "1.5.0",
            "value": 466062,
            "_view_count": null,
            "_view_module_version": "1.5.0",
            "orientation": "horizontal",
            "min": 0,
            "description_tooltip": null,
            "_model_module": "@jupyter-widgets/controls",
            "layout": "IPY_MODEL_77dd52c22668457298d1d1da8a8a382c"
          }
        },
        "ec08bb6c56c64d51b448dce19b64715f": {
          "model_module": "@jupyter-widgets/controls",
          "model_name": "HTMLModel",
          "model_module_version": "1.5.0",
          "state": {
            "_view_name": "HTMLView",
            "style": "IPY_MODEL_00d265fd4ced410c8a4f21864ae12727",
            "_dom_classes": [],
            "description": "",
            "_model_name": "HTMLModel",
            "placeholder": "​",
            "_view_module": "@jupyter-widgets/controls",
            "_model_module_version": "1.5.0",
            "value": " 466k/466k [00:00&lt;00:00, 886kB/s]",
            "_view_count": null,
            "_view_module_version": "1.5.0",
            "description_tooltip": null,
            "_model_module": "@jupyter-widgets/controls",
            "layout": "IPY_MODEL_0356736dff234c16b4eba2ddfc68d667"
          }
        },
        "331c333ee1af49b3afbcedf4d4f805c7": {
          "model_module": "@jupyter-widgets/controls",
          "model_name": "DescriptionStyleModel",
          "model_module_version": "1.5.0",
          "state": {
            "_view_name": "StyleView",
            "_model_name": "DescriptionStyleModel",
            "description_width": "",
            "_view_module": "@jupyter-widgets/base",
            "_model_module_version": "1.5.0",
            "_view_count": null,
            "_view_module_version": "1.2.0",
            "_model_module": "@jupyter-widgets/controls"
          }
        },
        "dfe9d6fd94b746b58b13f249ecec60a2": {
          "model_module": "@jupyter-widgets/base",
          "model_name": "LayoutModel",
          "model_module_version": "1.2.0",
          "state": {
            "_view_name": "LayoutView",
            "grid_template_rows": null,
            "right": null,
            "justify_content": null,
            "_view_module": "@jupyter-widgets/base",
            "overflow": null,
            "_model_module_version": "1.2.0",
            "_view_count": null,
            "flex_flow": null,
            "width": null,
            "min_width": null,
            "border": null,
            "align_items": null,
            "bottom": null,
            "_model_module": "@jupyter-widgets/base",
            "top": null,
            "grid_column": null,
            "overflow_y": null,
            "overflow_x": null,
            "grid_auto_flow": null,
            "grid_area": null,
            "grid_template_columns": null,
            "flex": null,
            "_model_name": "LayoutModel",
            "justify_items": null,
            "grid_row": null,
            "max_height": null,
            "align_content": null,
            "visibility": null,
            "align_self": null,
            "height": null,
            "min_height": null,
            "padding": null,
            "grid_auto_rows": null,
            "grid_gap": null,
            "max_width": null,
            "order": null,
            "_view_module_version": "1.2.0",
            "grid_template_areas": null,
            "object_position": null,
            "object_fit": null,
            "grid_auto_columns": null,
            "margin": null,
            "display": null,
            "left": null
          }
        },
        "663de35a4c564490be21c1f8ce3edc0a": {
          "model_module": "@jupyter-widgets/controls",
          "model_name": "ProgressStyleModel",
          "model_module_version": "1.5.0",
          "state": {
            "_view_name": "StyleView",
            "_model_name": "ProgressStyleModel",
            "description_width": "",
            "_view_module": "@jupyter-widgets/base",
            "_model_module_version": "1.5.0",
            "_view_count": null,
            "_view_module_version": "1.2.0",
            "bar_color": null,
            "_model_module": "@jupyter-widgets/controls"
          }
        },
        "77dd52c22668457298d1d1da8a8a382c": {
          "model_module": "@jupyter-widgets/base",
          "model_name": "LayoutModel",
          "model_module_version": "1.2.0",
          "state": {
            "_view_name": "LayoutView",
            "grid_template_rows": null,
            "right": null,
            "justify_content": null,
            "_view_module": "@jupyter-widgets/base",
            "overflow": null,
            "_model_module_version": "1.2.0",
            "_view_count": null,
            "flex_flow": null,
            "width": null,
            "min_width": null,
            "border": null,
            "align_items": null,
            "bottom": null,
            "_model_module": "@jupyter-widgets/base",
            "top": null,
            "grid_column": null,
            "overflow_y": null,
            "overflow_x": null,
            "grid_auto_flow": null,
            "grid_area": null,
            "grid_template_columns": null,
            "flex": null,
            "_model_name": "LayoutModel",
            "justify_items": null,
            "grid_row": null,
            "max_height": null,
            "align_content": null,
            "visibility": null,
            "align_self": null,
            "height": null,
            "min_height": null,
            "padding": null,
            "grid_auto_rows": null,
            "grid_gap": null,
            "max_width": null,
            "order": null,
            "_view_module_version": "1.2.0",
            "grid_template_areas": null,
            "object_position": null,
            "object_fit": null,
            "grid_auto_columns": null,
            "margin": null,
            "display": null,
            "left": null
          }
        },
        "00d265fd4ced410c8a4f21864ae12727": {
          "model_module": "@jupyter-widgets/controls",
          "model_name": "DescriptionStyleModel",
          "model_module_version": "1.5.0",
          "state": {
            "_view_name": "StyleView",
            "_model_name": "DescriptionStyleModel",
            "description_width": "",
            "_view_module": "@jupyter-widgets/base",
            "_model_module_version": "1.5.0",
            "_view_count": null,
            "_view_module_version": "1.2.0",
            "_model_module": "@jupyter-widgets/controls"
          }
        },
        "0356736dff234c16b4eba2ddfc68d667": {
          "model_module": "@jupyter-widgets/base",
          "model_name": "LayoutModel",
          "model_module_version": "1.2.0",
          "state": {
            "_view_name": "LayoutView",
            "grid_template_rows": null,
            "right": null,
            "justify_content": null,
            "_view_module": "@jupyter-widgets/base",
            "overflow": null,
            "_model_module_version": "1.2.0",
            "_view_count": null,
            "flex_flow": null,
            "width": null,
            "min_width": null,
            "border": null,
            "align_items": null,
            "bottom": null,
            "_model_module": "@jupyter-widgets/base",
            "top": null,
            "grid_column": null,
            "overflow_y": null,
            "overflow_x": null,
            "grid_auto_flow": null,
            "grid_area": null,
            "grid_template_columns": null,
            "flex": null,
            "_model_name": "LayoutModel",
            "justify_items": null,
            "grid_row": null,
            "max_height": null,
            "align_content": null,
            "visibility": null,
            "align_self": null,
            "height": null,
            "min_height": null,
            "padding": null,
            "grid_auto_rows": null,
            "grid_gap": null,
            "max_width": null,
            "order": null,
            "_view_module_version": "1.2.0",
            "grid_template_areas": null,
            "object_position": null,
            "object_fit": null,
            "grid_auto_columns": null,
            "margin": null,
            "display": null,
            "left": null
          }
        },
        "8ae2848db92046a6b9bc47b49303a9d8": {
          "model_module": "@jupyter-widgets/controls",
          "model_name": "HBoxModel",
          "model_module_version": "1.5.0",
          "state": {
            "_view_name": "HBoxView",
            "_dom_classes": [],
            "_model_name": "HBoxModel",
            "_view_module": "@jupyter-widgets/controls",
            "_model_module_version": "1.5.0",
            "_view_count": null,
            "_view_module_version": "1.5.0",
            "box_style": "",
            "layout": "IPY_MODEL_f9f7d079869c41f984df45a11da0cc19",
            "_model_module": "@jupyter-widgets/controls",
            "children": [
              "IPY_MODEL_5c015cf28ec946d4a3eb6f10aa3fcb87",
              "IPY_MODEL_e7963c93f6374d0fa8ca3c20984317af",
              "IPY_MODEL_bb0ef6491dd44c2988f0de472f711777"
            ]
          }
        },
        "f9f7d079869c41f984df45a11da0cc19": {
          "model_module": "@jupyter-widgets/base",
          "model_name": "LayoutModel",
          "model_module_version": "1.2.0",
          "state": {
            "_view_name": "LayoutView",
            "grid_template_rows": null,
            "right": null,
            "justify_content": null,
            "_view_module": "@jupyter-widgets/base",
            "overflow": null,
            "_model_module_version": "1.2.0",
            "_view_count": null,
            "flex_flow": null,
            "width": null,
            "min_width": null,
            "border": null,
            "align_items": null,
            "bottom": null,
            "_model_module": "@jupyter-widgets/base",
            "top": null,
            "grid_column": null,
            "overflow_y": null,
            "overflow_x": null,
            "grid_auto_flow": null,
            "grid_area": null,
            "grid_template_columns": null,
            "flex": null,
            "_model_name": "LayoutModel",
            "justify_items": null,
            "grid_row": null,
            "max_height": null,
            "align_content": null,
            "visibility": null,
            "align_self": null,
            "height": null,
            "min_height": null,
            "padding": null,
            "grid_auto_rows": null,
            "grid_gap": null,
            "max_width": null,
            "order": null,
            "_view_module_version": "1.2.0",
            "grid_template_areas": null,
            "object_position": null,
            "object_fit": null,
            "grid_auto_columns": null,
            "margin": null,
            "display": null,
            "left": null
          }
        },
        "5c015cf28ec946d4a3eb6f10aa3fcb87": {
          "model_module": "@jupyter-widgets/controls",
          "model_name": "HTMLModel",
          "model_module_version": "1.5.0",
          "state": {
            "_view_name": "HTMLView",
            "style": "IPY_MODEL_53b72580a3d3463599b2d21e270c1a87",
            "_dom_classes": [],
            "description": "",
            "_model_name": "HTMLModel",
            "placeholder": "​",
            "_view_module": "@jupyter-widgets/controls",
            "_model_module_version": "1.5.0",
            "value": "Downloading: 100%",
            "_view_count": null,
            "_view_module_version": "1.5.0",
            "description_tooltip": null,
            "_model_module": "@jupyter-widgets/controls",
            "layout": "IPY_MODEL_15aec432b0b84cd198a561e78c226870"
          }
        },
        "e7963c93f6374d0fa8ca3c20984317af": {
          "model_module": "@jupyter-widgets/controls",
          "model_name": "FloatProgressModel",
          "model_module_version": "1.5.0",
          "state": {
            "_view_name": "ProgressView",
            "style": "IPY_MODEL_726f0b95208d46d8bfd8520bb7b89ea0",
            "_dom_classes": [],
            "description": "",
            "_model_name": "FloatProgressModel",
            "bar_style": "success",
            "max": 570,
            "_view_module": "@jupyter-widgets/controls",
            "_model_module_version": "1.5.0",
            "value": 570,
            "_view_count": null,
            "_view_module_version": "1.5.0",
            "orientation": "horizontal",
            "min": 0,
            "description_tooltip": null,
            "_model_module": "@jupyter-widgets/controls",
            "layout": "IPY_MODEL_c3a16431d06440daa3908ad981ba917e"
          }
        },
        "bb0ef6491dd44c2988f0de472f711777": {
          "model_module": "@jupyter-widgets/controls",
          "model_name": "HTMLModel",
          "model_module_version": "1.5.0",
          "state": {
            "_view_name": "HTMLView",
            "style": "IPY_MODEL_b73c79a296ad41259ad43e01e4d69b36",
            "_dom_classes": [],
            "description": "",
            "_model_name": "HTMLModel",
            "placeholder": "​",
            "_view_module": "@jupyter-widgets/controls",
            "_model_module_version": "1.5.0",
            "value": " 570/570 [00:00&lt;00:00, 10.8kB/s]",
            "_view_count": null,
            "_view_module_version": "1.5.0",
            "description_tooltip": null,
            "_model_module": "@jupyter-widgets/controls",
            "layout": "IPY_MODEL_5f213224325041bf9ed6896a61dcd8f6"
          }
        },
        "53b72580a3d3463599b2d21e270c1a87": {
          "model_module": "@jupyter-widgets/controls",
          "model_name": "DescriptionStyleModel",
          "model_module_version": "1.5.0",
          "state": {
            "_view_name": "StyleView",
            "_model_name": "DescriptionStyleModel",
            "description_width": "",
            "_view_module": "@jupyter-widgets/base",
            "_model_module_version": "1.5.0",
            "_view_count": null,
            "_view_module_version": "1.2.0",
            "_model_module": "@jupyter-widgets/controls"
          }
        },
        "15aec432b0b84cd198a561e78c226870": {
          "model_module": "@jupyter-widgets/base",
          "model_name": "LayoutModel",
          "model_module_version": "1.2.0",
          "state": {
            "_view_name": "LayoutView",
            "grid_template_rows": null,
            "right": null,
            "justify_content": null,
            "_view_module": "@jupyter-widgets/base",
            "overflow": null,
            "_model_module_version": "1.2.0",
            "_view_count": null,
            "flex_flow": null,
            "width": null,
            "min_width": null,
            "border": null,
            "align_items": null,
            "bottom": null,
            "_model_module": "@jupyter-widgets/base",
            "top": null,
            "grid_column": null,
            "overflow_y": null,
            "overflow_x": null,
            "grid_auto_flow": null,
            "grid_area": null,
            "grid_template_columns": null,
            "flex": null,
            "_model_name": "LayoutModel",
            "justify_items": null,
            "grid_row": null,
            "max_height": null,
            "align_content": null,
            "visibility": null,
            "align_self": null,
            "height": null,
            "min_height": null,
            "padding": null,
            "grid_auto_rows": null,
            "grid_gap": null,
            "max_width": null,
            "order": null,
            "_view_module_version": "1.2.0",
            "grid_template_areas": null,
            "object_position": null,
            "object_fit": null,
            "grid_auto_columns": null,
            "margin": null,
            "display": null,
            "left": null
          }
        },
        "726f0b95208d46d8bfd8520bb7b89ea0": {
          "model_module": "@jupyter-widgets/controls",
          "model_name": "ProgressStyleModel",
          "model_module_version": "1.5.0",
          "state": {
            "_view_name": "StyleView",
            "_model_name": "ProgressStyleModel",
            "description_width": "",
            "_view_module": "@jupyter-widgets/base",
            "_model_module_version": "1.5.0",
            "_view_count": null,
            "_view_module_version": "1.2.0",
            "bar_color": null,
            "_model_module": "@jupyter-widgets/controls"
          }
        },
        "c3a16431d06440daa3908ad981ba917e": {
          "model_module": "@jupyter-widgets/base",
          "model_name": "LayoutModel",
          "model_module_version": "1.2.0",
          "state": {
            "_view_name": "LayoutView",
            "grid_template_rows": null,
            "right": null,
            "justify_content": null,
            "_view_module": "@jupyter-widgets/base",
            "overflow": null,
            "_model_module_version": "1.2.0",
            "_view_count": null,
            "flex_flow": null,
            "width": null,
            "min_width": null,
            "border": null,
            "align_items": null,
            "bottom": null,
            "_model_module": "@jupyter-widgets/base",
            "top": null,
            "grid_column": null,
            "overflow_y": null,
            "overflow_x": null,
            "grid_auto_flow": null,
            "grid_area": null,
            "grid_template_columns": null,
            "flex": null,
            "_model_name": "LayoutModel",
            "justify_items": null,
            "grid_row": null,
            "max_height": null,
            "align_content": null,
            "visibility": null,
            "align_self": null,
            "height": null,
            "min_height": null,
            "padding": null,
            "grid_auto_rows": null,
            "grid_gap": null,
            "max_width": null,
            "order": null,
            "_view_module_version": "1.2.0",
            "grid_template_areas": null,
            "object_position": null,
            "object_fit": null,
            "grid_auto_columns": null,
            "margin": null,
            "display": null,
            "left": null
          }
        },
        "b73c79a296ad41259ad43e01e4d69b36": {
          "model_module": "@jupyter-widgets/controls",
          "model_name": "DescriptionStyleModel",
          "model_module_version": "1.5.0",
          "state": {
            "_view_name": "StyleView",
            "_model_name": "DescriptionStyleModel",
            "description_width": "",
            "_view_module": "@jupyter-widgets/base",
            "_model_module_version": "1.5.0",
            "_view_count": null,
            "_view_module_version": "1.2.0",
            "_model_module": "@jupyter-widgets/controls"
          }
        },
        "5f213224325041bf9ed6896a61dcd8f6": {
          "model_module": "@jupyter-widgets/base",
          "model_name": "LayoutModel",
          "model_module_version": "1.2.0",
          "state": {
            "_view_name": "LayoutView",
            "grid_template_rows": null,
            "right": null,
            "justify_content": null,
            "_view_module": "@jupyter-widgets/base",
            "overflow": null,
            "_model_module_version": "1.2.0",
            "_view_count": null,
            "flex_flow": null,
            "width": null,
            "min_width": null,
            "border": null,
            "align_items": null,
            "bottom": null,
            "_model_module": "@jupyter-widgets/base",
            "top": null,
            "grid_column": null,
            "overflow_y": null,
            "overflow_x": null,
            "grid_auto_flow": null,
            "grid_area": null,
            "grid_template_columns": null,
            "flex": null,
            "_model_name": "LayoutModel",
            "justify_items": null,
            "grid_row": null,
            "max_height": null,
            "align_content": null,
            "visibility": null,
            "align_self": null,
            "height": null,
            "min_height": null,
            "padding": null,
            "grid_auto_rows": null,
            "grid_gap": null,
            "max_width": null,
            "order": null,
            "_view_module_version": "1.2.0",
            "grid_template_areas": null,
            "object_position": null,
            "object_fit": null,
            "grid_auto_columns": null,
            "margin": null,
            "display": null,
            "left": null
          }
        },
        "a924c1a79fc84c22955346d652a084a8": {
          "model_module": "@jupyter-widgets/controls",
          "model_name": "HBoxModel",
          "model_module_version": "1.5.0",
          "state": {
            "_view_name": "HBoxView",
            "_dom_classes": [],
            "_model_name": "HBoxModel",
            "_view_module": "@jupyter-widgets/controls",
            "_model_module_version": "1.5.0",
            "_view_count": null,
            "_view_module_version": "1.5.0",
            "box_style": "",
            "layout": "IPY_MODEL_900230d359bb489f825cfd90ab52ce82",
            "_model_module": "@jupyter-widgets/controls",
            "children": [
              "IPY_MODEL_bec5c52909fb4c6485e3471233ee34d8",
              "IPY_MODEL_c16218aeff1440dd8bb6fd25eefc1649",
              "IPY_MODEL_2c2a805f238342beab107141bc9be3b5"
            ]
          }
        },
        "900230d359bb489f825cfd90ab52ce82": {
          "model_module": "@jupyter-widgets/base",
          "model_name": "LayoutModel",
          "model_module_version": "1.2.0",
          "state": {
            "_view_name": "LayoutView",
            "grid_template_rows": null,
            "right": null,
            "justify_content": null,
            "_view_module": "@jupyter-widgets/base",
            "overflow": null,
            "_model_module_version": "1.2.0",
            "_view_count": null,
            "flex_flow": null,
            "width": null,
            "min_width": null,
            "border": null,
            "align_items": null,
            "bottom": null,
            "_model_module": "@jupyter-widgets/base",
            "top": null,
            "grid_column": null,
            "overflow_y": null,
            "overflow_x": null,
            "grid_auto_flow": null,
            "grid_area": null,
            "grid_template_columns": null,
            "flex": null,
            "_model_name": "LayoutModel",
            "justify_items": null,
            "grid_row": null,
            "max_height": null,
            "align_content": null,
            "visibility": null,
            "align_self": null,
            "height": null,
            "min_height": null,
            "padding": null,
            "grid_auto_rows": null,
            "grid_gap": null,
            "max_width": null,
            "order": null,
            "_view_module_version": "1.2.0",
            "grid_template_areas": null,
            "object_position": null,
            "object_fit": null,
            "grid_auto_columns": null,
            "margin": null,
            "display": null,
            "left": null
          }
        },
        "bec5c52909fb4c6485e3471233ee34d8": {
          "model_module": "@jupyter-widgets/controls",
          "model_name": "HTMLModel",
          "model_module_version": "1.5.0",
          "state": {
            "_view_name": "HTMLView",
            "style": "IPY_MODEL_032e8e72bfc646119fef4406fd790952",
            "_dom_classes": [],
            "description": "",
            "_model_name": "HTMLModel",
            "placeholder": "​",
            "_view_module": "@jupyter-widgets/controls",
            "_model_module_version": "1.5.0",
            "value": "Downloading: 100%",
            "_view_count": null,
            "_view_module_version": "1.5.0",
            "description_tooltip": null,
            "_model_module": "@jupyter-widgets/controls",
            "layout": "IPY_MODEL_af324a6959cc4d3e9100dfa3a4b4b940"
          }
        },
        "c16218aeff1440dd8bb6fd25eefc1649": {
          "model_module": "@jupyter-widgets/controls",
          "model_name": "FloatProgressModel",
          "model_module_version": "1.5.0",
          "state": {
            "_view_name": "ProgressView",
            "style": "IPY_MODEL_77695a6c04d948b089d8502ea07778a4",
            "_dom_classes": [],
            "description": "",
            "_model_name": "FloatProgressModel",
            "bar_style": "success",
            "max": 440473133,
            "_view_module": "@jupyter-widgets/controls",
            "_model_module_version": "1.5.0",
            "value": 440473133,
            "_view_count": null,
            "_view_module_version": "1.5.0",
            "orientation": "horizontal",
            "min": 0,
            "description_tooltip": null,
            "_model_module": "@jupyter-widgets/controls",
            "layout": "IPY_MODEL_0ab6ccb1613e4fe78f81cfba881923ba"
          }
        },
        "2c2a805f238342beab107141bc9be3b5": {
          "model_module": "@jupyter-widgets/controls",
          "model_name": "HTMLModel",
          "model_module_version": "1.5.0",
          "state": {
            "_view_name": "HTMLView",
            "style": "IPY_MODEL_b66b2e2b49c84d5aa7253d889343455a",
            "_dom_classes": [],
            "description": "",
            "_model_name": "HTMLModel",
            "placeholder": "​",
            "_view_module": "@jupyter-widgets/controls",
            "_model_module_version": "1.5.0",
            "value": " 440M/440M [00:11&lt;00:00, 37.0MB/s]",
            "_view_count": null,
            "_view_module_version": "1.5.0",
            "description_tooltip": null,
            "_model_module": "@jupyter-widgets/controls",
            "layout": "IPY_MODEL_338947be93c1432cb5d72ce228601c89"
          }
        },
        "032e8e72bfc646119fef4406fd790952": {
          "model_module": "@jupyter-widgets/controls",
          "model_name": "DescriptionStyleModel",
          "model_module_version": "1.5.0",
          "state": {
            "_view_name": "StyleView",
            "_model_name": "DescriptionStyleModel",
            "description_width": "",
            "_view_module": "@jupyter-widgets/base",
            "_model_module_version": "1.5.0",
            "_view_count": null,
            "_view_module_version": "1.2.0",
            "_model_module": "@jupyter-widgets/controls"
          }
        },
        "af324a6959cc4d3e9100dfa3a4b4b940": {
          "model_module": "@jupyter-widgets/base",
          "model_name": "LayoutModel",
          "model_module_version": "1.2.0",
          "state": {
            "_view_name": "LayoutView",
            "grid_template_rows": null,
            "right": null,
            "justify_content": null,
            "_view_module": "@jupyter-widgets/base",
            "overflow": null,
            "_model_module_version": "1.2.0",
            "_view_count": null,
            "flex_flow": null,
            "width": null,
            "min_width": null,
            "border": null,
            "align_items": null,
            "bottom": null,
            "_model_module": "@jupyter-widgets/base",
            "top": null,
            "grid_column": null,
            "overflow_y": null,
            "overflow_x": null,
            "grid_auto_flow": null,
            "grid_area": null,
            "grid_template_columns": null,
            "flex": null,
            "_model_name": "LayoutModel",
            "justify_items": null,
            "grid_row": null,
            "max_height": null,
            "align_content": null,
            "visibility": null,
            "align_self": null,
            "height": null,
            "min_height": null,
            "padding": null,
            "grid_auto_rows": null,
            "grid_gap": null,
            "max_width": null,
            "order": null,
            "_view_module_version": "1.2.0",
            "grid_template_areas": null,
            "object_position": null,
            "object_fit": null,
            "grid_auto_columns": null,
            "margin": null,
            "display": null,
            "left": null
          }
        },
        "77695a6c04d948b089d8502ea07778a4": {
          "model_module": "@jupyter-widgets/controls",
          "model_name": "ProgressStyleModel",
          "model_module_version": "1.5.0",
          "state": {
            "_view_name": "StyleView",
            "_model_name": "ProgressStyleModel",
            "description_width": "",
            "_view_module": "@jupyter-widgets/base",
            "_model_module_version": "1.5.0",
            "_view_count": null,
            "_view_module_version": "1.2.0",
            "bar_color": null,
            "_model_module": "@jupyter-widgets/controls"
          }
        },
        "0ab6ccb1613e4fe78f81cfba881923ba": {
          "model_module": "@jupyter-widgets/base",
          "model_name": "LayoutModel",
          "model_module_version": "1.2.0",
          "state": {
            "_view_name": "LayoutView",
            "grid_template_rows": null,
            "right": null,
            "justify_content": null,
            "_view_module": "@jupyter-widgets/base",
            "overflow": null,
            "_model_module_version": "1.2.0",
            "_view_count": null,
            "flex_flow": null,
            "width": null,
            "min_width": null,
            "border": null,
            "align_items": null,
            "bottom": null,
            "_model_module": "@jupyter-widgets/base",
            "top": null,
            "grid_column": null,
            "overflow_y": null,
            "overflow_x": null,
            "grid_auto_flow": null,
            "grid_area": null,
            "grid_template_columns": null,
            "flex": null,
            "_model_name": "LayoutModel",
            "justify_items": null,
            "grid_row": null,
            "max_height": null,
            "align_content": null,
            "visibility": null,
            "align_self": null,
            "height": null,
            "min_height": null,
            "padding": null,
            "grid_auto_rows": null,
            "grid_gap": null,
            "max_width": null,
            "order": null,
            "_view_module_version": "1.2.0",
            "grid_template_areas": null,
            "object_position": null,
            "object_fit": null,
            "grid_auto_columns": null,
            "margin": null,
            "display": null,
            "left": null
          }
        },
        "b66b2e2b49c84d5aa7253d889343455a": {
          "model_module": "@jupyter-widgets/controls",
          "model_name": "DescriptionStyleModel",
          "model_module_version": "1.5.0",
          "state": {
            "_view_name": "StyleView",
            "_model_name": "DescriptionStyleModel",
            "description_width": "",
            "_view_module": "@jupyter-widgets/base",
            "_model_module_version": "1.5.0",
            "_view_count": null,
            "_view_module_version": "1.2.0",
            "_model_module": "@jupyter-widgets/controls"
          }
        },
        "338947be93c1432cb5d72ce228601c89": {
          "model_module": "@jupyter-widgets/base",
          "model_name": "LayoutModel",
          "model_module_version": "1.2.0",
          "state": {
            "_view_name": "LayoutView",
            "grid_template_rows": null,
            "right": null,
            "justify_content": null,
            "_view_module": "@jupyter-widgets/base",
            "overflow": null,
            "_model_module_version": "1.2.0",
            "_view_count": null,
            "flex_flow": null,
            "width": null,
            "min_width": null,
            "border": null,
            "align_items": null,
            "bottom": null,
            "_model_module": "@jupyter-widgets/base",
            "top": null,
            "grid_column": null,
            "overflow_y": null,
            "overflow_x": null,
            "grid_auto_flow": null,
            "grid_area": null,
            "grid_template_columns": null,
            "flex": null,
            "_model_name": "LayoutModel",
            "justify_items": null,
            "grid_row": null,
            "max_height": null,
            "align_content": null,
            "visibility": null,
            "align_self": null,
            "height": null,
            "min_height": null,
            "padding": null,
            "grid_auto_rows": null,
            "grid_gap": null,
            "max_width": null,
            "order": null,
            "_view_module_version": "1.2.0",
            "grid_template_areas": null,
            "object_position": null,
            "object_fit": null,
            "grid_auto_columns": null,
            "margin": null,
            "display": null,
            "left": null
          }
        },
        "ad32ab1b23264db387bf96c5dc715f6c": {
          "model_module": "@jupyter-widgets/controls",
          "model_name": "HBoxModel",
          "model_module_version": "1.5.0",
          "state": {
            "_view_name": "HBoxView",
            "_dom_classes": [],
            "_model_name": "HBoxModel",
            "_view_module": "@jupyter-widgets/controls",
            "_model_module_version": "1.5.0",
            "_view_count": null,
            "_view_module_version": "1.5.0",
            "box_style": "",
            "layout": "IPY_MODEL_ba7da367b17747f59227d48234236268",
            "_model_module": "@jupyter-widgets/controls",
            "children": [
              "IPY_MODEL_5c45c4626b5443a88f9d9fc7f6b33e38",
              "IPY_MODEL_e9a239ea2e4c4b59ac2e78d5d12526b5",
              "IPY_MODEL_78ae4f1af4de4d87be0f7a715706cc01"
            ]
          }
        },
        "ba7da367b17747f59227d48234236268": {
          "model_module": "@jupyter-widgets/base",
          "model_name": "LayoutModel",
          "model_module_version": "1.2.0",
          "state": {
            "_view_name": "LayoutView",
            "grid_template_rows": null,
            "right": null,
            "justify_content": null,
            "_view_module": "@jupyter-widgets/base",
            "overflow": null,
            "_model_module_version": "1.2.0",
            "_view_count": null,
            "flex_flow": null,
            "width": null,
            "min_width": null,
            "border": null,
            "align_items": null,
            "bottom": null,
            "_model_module": "@jupyter-widgets/base",
            "top": null,
            "grid_column": null,
            "overflow_y": null,
            "overflow_x": null,
            "grid_auto_flow": null,
            "grid_area": null,
            "grid_template_columns": null,
            "flex": null,
            "_model_name": "LayoutModel",
            "justify_items": null,
            "grid_row": null,
            "max_height": null,
            "align_content": null,
            "visibility": null,
            "align_self": null,
            "height": null,
            "min_height": null,
            "padding": null,
            "grid_auto_rows": null,
            "grid_gap": null,
            "max_width": null,
            "order": null,
            "_view_module_version": "1.2.0",
            "grid_template_areas": null,
            "object_position": null,
            "object_fit": null,
            "grid_auto_columns": null,
            "margin": null,
            "display": null,
            "left": null
          }
        },
        "5c45c4626b5443a88f9d9fc7f6b33e38": {
          "model_module": "@jupyter-widgets/controls",
          "model_name": "HTMLModel",
          "model_module_version": "1.5.0",
          "state": {
            "_view_name": "HTMLView",
            "style": "IPY_MODEL_1275b8ccc1554900a4313f14e02220b5",
            "_dom_classes": [],
            "description": "",
            "_model_name": "HTMLModel",
            "placeholder": "​",
            "_view_module": "@jupyter-widgets/controls",
            "_model_module_version": "1.5.0",
            "value": "Downloading: 100%",
            "_view_count": null,
            "_view_module_version": "1.5.0",
            "description_tooltip": null,
            "_model_module": "@jupyter-widgets/controls",
            "layout": "IPY_MODEL_68ad64751d5f42dc86d381d6a09cc5dc"
          }
        },
        "e9a239ea2e4c4b59ac2e78d5d12526b5": {
          "model_module": "@jupyter-widgets/controls",
          "model_name": "FloatProgressModel",
          "model_module_version": "1.5.0",
          "state": {
            "_view_name": "ProgressView",
            "style": "IPY_MODEL_9ea3b6ca75d74e268107180e8702bce3",
            "_dom_classes": [],
            "description": "",
            "_model_name": "FloatProgressModel",
            "bar_style": "success",
            "max": 231508,
            "_view_module": "@jupyter-widgets/controls",
            "_model_module_version": "1.5.0",
            "value": 231508,
            "_view_count": null,
            "_view_module_version": "1.5.0",
            "orientation": "horizontal",
            "min": 0,
            "description_tooltip": null,
            "_model_module": "@jupyter-widgets/controls",
            "layout": "IPY_MODEL_032165efd2b74e798da2685f3a7b94d8"
          }
        },
        "78ae4f1af4de4d87be0f7a715706cc01": {
          "model_module": "@jupyter-widgets/controls",
          "model_name": "HTMLModel",
          "model_module_version": "1.5.0",
          "state": {
            "_view_name": "HTMLView",
            "style": "IPY_MODEL_996d016ace1743309623a0435cf00101",
            "_dom_classes": [],
            "description": "",
            "_model_name": "HTMLModel",
            "placeholder": "​",
            "_view_module": "@jupyter-widgets/controls",
            "_model_module_version": "1.5.0",
            "value": " 232k/232k [00:00&lt;00:00, 513kB/s]",
            "_view_count": null,
            "_view_module_version": "1.5.0",
            "description_tooltip": null,
            "_model_module": "@jupyter-widgets/controls",
            "layout": "IPY_MODEL_45d02de3a1d948c6b3a90b565bac3e15"
          }
        },
        "1275b8ccc1554900a4313f14e02220b5": {
          "model_module": "@jupyter-widgets/controls",
          "model_name": "DescriptionStyleModel",
          "model_module_version": "1.5.0",
          "state": {
            "_view_name": "StyleView",
            "_model_name": "DescriptionStyleModel",
            "description_width": "",
            "_view_module": "@jupyter-widgets/base",
            "_model_module_version": "1.5.0",
            "_view_count": null,
            "_view_module_version": "1.2.0",
            "_model_module": "@jupyter-widgets/controls"
          }
        },
        "68ad64751d5f42dc86d381d6a09cc5dc": {
          "model_module": "@jupyter-widgets/base",
          "model_name": "LayoutModel",
          "model_module_version": "1.2.0",
          "state": {
            "_view_name": "LayoutView",
            "grid_template_rows": null,
            "right": null,
            "justify_content": null,
            "_view_module": "@jupyter-widgets/base",
            "overflow": null,
            "_model_module_version": "1.2.0",
            "_view_count": null,
            "flex_flow": null,
            "width": null,
            "min_width": null,
            "border": null,
            "align_items": null,
            "bottom": null,
            "_model_module": "@jupyter-widgets/base",
            "top": null,
            "grid_column": null,
            "overflow_y": null,
            "overflow_x": null,
            "grid_auto_flow": null,
            "grid_area": null,
            "grid_template_columns": null,
            "flex": null,
            "_model_name": "LayoutModel",
            "justify_items": null,
            "grid_row": null,
            "max_height": null,
            "align_content": null,
            "visibility": null,
            "align_self": null,
            "height": null,
            "min_height": null,
            "padding": null,
            "grid_auto_rows": null,
            "grid_gap": null,
            "max_width": null,
            "order": null,
            "_view_module_version": "1.2.0",
            "grid_template_areas": null,
            "object_position": null,
            "object_fit": null,
            "grid_auto_columns": null,
            "margin": null,
            "display": null,
            "left": null
          }
        },
        "9ea3b6ca75d74e268107180e8702bce3": {
          "model_module": "@jupyter-widgets/controls",
          "model_name": "ProgressStyleModel",
          "model_module_version": "1.5.0",
          "state": {
            "_view_name": "StyleView",
            "_model_name": "ProgressStyleModel",
            "description_width": "",
            "_view_module": "@jupyter-widgets/base",
            "_model_module_version": "1.5.0",
            "_view_count": null,
            "_view_module_version": "1.2.0",
            "bar_color": null,
            "_model_module": "@jupyter-widgets/controls"
          }
        },
        "032165efd2b74e798da2685f3a7b94d8": {
          "model_module": "@jupyter-widgets/base",
          "model_name": "LayoutModel",
          "model_module_version": "1.2.0",
          "state": {
            "_view_name": "LayoutView",
            "grid_template_rows": null,
            "right": null,
            "justify_content": null,
            "_view_module": "@jupyter-widgets/base",
            "overflow": null,
            "_model_module_version": "1.2.0",
            "_view_count": null,
            "flex_flow": null,
            "width": null,
            "min_width": null,
            "border": null,
            "align_items": null,
            "bottom": null,
            "_model_module": "@jupyter-widgets/base",
            "top": null,
            "grid_column": null,
            "overflow_y": null,
            "overflow_x": null,
            "grid_auto_flow": null,
            "grid_area": null,
            "grid_template_columns": null,
            "flex": null,
            "_model_name": "LayoutModel",
            "justify_items": null,
            "grid_row": null,
            "max_height": null,
            "align_content": null,
            "visibility": null,
            "align_self": null,
            "height": null,
            "min_height": null,
            "padding": null,
            "grid_auto_rows": null,
            "grid_gap": null,
            "max_width": null,
            "order": null,
            "_view_module_version": "1.2.0",
            "grid_template_areas": null,
            "object_position": null,
            "object_fit": null,
            "grid_auto_columns": null,
            "margin": null,
            "display": null,
            "left": null
          }
        },
        "996d016ace1743309623a0435cf00101": {
          "model_module": "@jupyter-widgets/controls",
          "model_name": "DescriptionStyleModel",
          "model_module_version": "1.5.0",
          "state": {
            "_view_name": "StyleView",
            "_model_name": "DescriptionStyleModel",
            "description_width": "",
            "_view_module": "@jupyter-widgets/base",
            "_model_module_version": "1.5.0",
            "_view_count": null,
            "_view_module_version": "1.2.0",
            "_model_module": "@jupyter-widgets/controls"
          }
        },
        "45d02de3a1d948c6b3a90b565bac3e15": {
          "model_module": "@jupyter-widgets/base",
          "model_name": "LayoutModel",
          "model_module_version": "1.2.0",
          "state": {
            "_view_name": "LayoutView",
            "grid_template_rows": null,
            "right": null,
            "justify_content": null,
            "_view_module": "@jupyter-widgets/base",
            "overflow": null,
            "_model_module_version": "1.2.0",
            "_view_count": null,
            "flex_flow": null,
            "width": null,
            "min_width": null,
            "border": null,
            "align_items": null,
            "bottom": null,
            "_model_module": "@jupyter-widgets/base",
            "top": null,
            "grid_column": null,
            "overflow_y": null,
            "overflow_x": null,
            "grid_auto_flow": null,
            "grid_area": null,
            "grid_template_columns": null,
            "flex": null,
            "_model_name": "LayoutModel",
            "justify_items": null,
            "grid_row": null,
            "max_height": null,
            "align_content": null,
            "visibility": null,
            "align_self": null,
            "height": null,
            "min_height": null,
            "padding": null,
            "grid_auto_rows": null,
            "grid_gap": null,
            "max_width": null,
            "order": null,
            "_view_module_version": "1.2.0",
            "grid_template_areas": null,
            "object_position": null,
            "object_fit": null,
            "grid_auto_columns": null,
            "margin": null,
            "display": null,
            "left": null
          }
        },
        "88bab0d36b38435792d479be4052c7b2": {
          "model_module": "@jupyter-widgets/controls",
          "model_name": "HBoxModel",
          "model_module_version": "1.5.0",
          "state": {
            "_view_name": "HBoxView",
            "_dom_classes": [],
            "_model_name": "HBoxModel",
            "_view_module": "@jupyter-widgets/controls",
            "_model_module_version": "1.5.0",
            "_view_count": null,
            "_view_module_version": "1.5.0",
            "box_style": "",
            "layout": "IPY_MODEL_75afbfa43f524c39ac32ceddf687a43f",
            "_model_module": "@jupyter-widgets/controls",
            "children": [
              "IPY_MODEL_3dbea895db0b4534bd47d78a29e1062c",
              "IPY_MODEL_bf9ed5b6597442b2af7e4d28a48ac65f",
              "IPY_MODEL_f20a4b8967fb4d4e9c6d68e8c693070c"
            ]
          }
        },
        "75afbfa43f524c39ac32ceddf687a43f": {
          "model_module": "@jupyter-widgets/base",
          "model_name": "LayoutModel",
          "model_module_version": "1.2.0",
          "state": {
            "_view_name": "LayoutView",
            "grid_template_rows": null,
            "right": null,
            "justify_content": null,
            "_view_module": "@jupyter-widgets/base",
            "overflow": null,
            "_model_module_version": "1.2.0",
            "_view_count": null,
            "flex_flow": null,
            "width": null,
            "min_width": null,
            "border": null,
            "align_items": null,
            "bottom": null,
            "_model_module": "@jupyter-widgets/base",
            "top": null,
            "grid_column": null,
            "overflow_y": null,
            "overflow_x": null,
            "grid_auto_flow": null,
            "grid_area": null,
            "grid_template_columns": null,
            "flex": null,
            "_model_name": "LayoutModel",
            "justify_items": null,
            "grid_row": null,
            "max_height": null,
            "align_content": null,
            "visibility": null,
            "align_self": null,
            "height": null,
            "min_height": null,
            "padding": null,
            "grid_auto_rows": null,
            "grid_gap": null,
            "max_width": null,
            "order": null,
            "_view_module_version": "1.2.0",
            "grid_template_areas": null,
            "object_position": null,
            "object_fit": null,
            "grid_auto_columns": null,
            "margin": null,
            "display": null,
            "left": null
          }
        },
        "3dbea895db0b4534bd47d78a29e1062c": {
          "model_module": "@jupyter-widgets/controls",
          "model_name": "HTMLModel",
          "model_module_version": "1.5.0",
          "state": {
            "_view_name": "HTMLView",
            "style": "IPY_MODEL_c948fa0dd46a4da081bf370f17c1ec59",
            "_dom_classes": [],
            "description": "",
            "_model_name": "HTMLModel",
            "placeholder": "​",
            "_view_module": "@jupyter-widgets/controls",
            "_model_module_version": "1.5.0",
            "value": "Downloading: 100%",
            "_view_count": null,
            "_view_module_version": "1.5.0",
            "description_tooltip": null,
            "_model_module": "@jupyter-widgets/controls",
            "layout": "IPY_MODEL_feeebff507ac4520a647278e4440fcb8"
          }
        },
        "bf9ed5b6597442b2af7e4d28a48ac65f": {
          "model_module": "@jupyter-widgets/controls",
          "model_name": "FloatProgressModel",
          "model_module_version": "1.5.0",
          "state": {
            "_view_name": "ProgressView",
            "style": "IPY_MODEL_eee12687f87b48d59d4b3f0772738fdd",
            "_dom_classes": [],
            "description": "",
            "_model_name": "FloatProgressModel",
            "bar_style": "success",
            "max": 28,
            "_view_module": "@jupyter-widgets/controls",
            "_model_module_version": "1.5.0",
            "value": 28,
            "_view_count": null,
            "_view_module_version": "1.5.0",
            "orientation": "horizontal",
            "min": 0,
            "description_tooltip": null,
            "_model_module": "@jupyter-widgets/controls",
            "layout": "IPY_MODEL_db760b44c8dc4674bf5152f5e0aca4c2"
          }
        },
        "f20a4b8967fb4d4e9c6d68e8c693070c": {
          "model_module": "@jupyter-widgets/controls",
          "model_name": "HTMLModel",
          "model_module_version": "1.5.0",
          "state": {
            "_view_name": "HTMLView",
            "style": "IPY_MODEL_6765d698a662416691ee9d58126ab523",
            "_dom_classes": [],
            "description": "",
            "_model_name": "HTMLModel",
            "placeholder": "​",
            "_view_module": "@jupyter-widgets/controls",
            "_model_module_version": "1.5.0",
            "value": " 28.0/28.0 [00:00&lt;00:00, 440B/s]",
            "_view_count": null,
            "_view_module_version": "1.5.0",
            "description_tooltip": null,
            "_model_module": "@jupyter-widgets/controls",
            "layout": "IPY_MODEL_02c0a512a63346f0aefec5d77d509f1c"
          }
        },
        "c948fa0dd46a4da081bf370f17c1ec59": {
          "model_module": "@jupyter-widgets/controls",
          "model_name": "DescriptionStyleModel",
          "model_module_version": "1.5.0",
          "state": {
            "_view_name": "StyleView",
            "_model_name": "DescriptionStyleModel",
            "description_width": "",
            "_view_module": "@jupyter-widgets/base",
            "_model_module_version": "1.5.0",
            "_view_count": null,
            "_view_module_version": "1.2.0",
            "_model_module": "@jupyter-widgets/controls"
          }
        },
        "feeebff507ac4520a647278e4440fcb8": {
          "model_module": "@jupyter-widgets/base",
          "model_name": "LayoutModel",
          "model_module_version": "1.2.0",
          "state": {
            "_view_name": "LayoutView",
            "grid_template_rows": null,
            "right": null,
            "justify_content": null,
            "_view_module": "@jupyter-widgets/base",
            "overflow": null,
            "_model_module_version": "1.2.0",
            "_view_count": null,
            "flex_flow": null,
            "width": null,
            "min_width": null,
            "border": null,
            "align_items": null,
            "bottom": null,
            "_model_module": "@jupyter-widgets/base",
            "top": null,
            "grid_column": null,
            "overflow_y": null,
            "overflow_x": null,
            "grid_auto_flow": null,
            "grid_area": null,
            "grid_template_columns": null,
            "flex": null,
            "_model_name": "LayoutModel",
            "justify_items": null,
            "grid_row": null,
            "max_height": null,
            "align_content": null,
            "visibility": null,
            "align_self": null,
            "height": null,
            "min_height": null,
            "padding": null,
            "grid_auto_rows": null,
            "grid_gap": null,
            "max_width": null,
            "order": null,
            "_view_module_version": "1.2.0",
            "grid_template_areas": null,
            "object_position": null,
            "object_fit": null,
            "grid_auto_columns": null,
            "margin": null,
            "display": null,
            "left": null
          }
        },
        "eee12687f87b48d59d4b3f0772738fdd": {
          "model_module": "@jupyter-widgets/controls",
          "model_name": "ProgressStyleModel",
          "model_module_version": "1.5.0",
          "state": {
            "_view_name": "StyleView",
            "_model_name": "ProgressStyleModel",
            "description_width": "",
            "_view_module": "@jupyter-widgets/base",
            "_model_module_version": "1.5.0",
            "_view_count": null,
            "_view_module_version": "1.2.0",
            "bar_color": null,
            "_model_module": "@jupyter-widgets/controls"
          }
        },
        "db760b44c8dc4674bf5152f5e0aca4c2": {
          "model_module": "@jupyter-widgets/base",
          "model_name": "LayoutModel",
          "model_module_version": "1.2.0",
          "state": {
            "_view_name": "LayoutView",
            "grid_template_rows": null,
            "right": null,
            "justify_content": null,
            "_view_module": "@jupyter-widgets/base",
            "overflow": null,
            "_model_module_version": "1.2.0",
            "_view_count": null,
            "flex_flow": null,
            "width": null,
            "min_width": null,
            "border": null,
            "align_items": null,
            "bottom": null,
            "_model_module": "@jupyter-widgets/base",
            "top": null,
            "grid_column": null,
            "overflow_y": null,
            "overflow_x": null,
            "grid_auto_flow": null,
            "grid_area": null,
            "grid_template_columns": null,
            "flex": null,
            "_model_name": "LayoutModel",
            "justify_items": null,
            "grid_row": null,
            "max_height": null,
            "align_content": null,
            "visibility": null,
            "align_self": null,
            "height": null,
            "min_height": null,
            "padding": null,
            "grid_auto_rows": null,
            "grid_gap": null,
            "max_width": null,
            "order": null,
            "_view_module_version": "1.2.0",
            "grid_template_areas": null,
            "object_position": null,
            "object_fit": null,
            "grid_auto_columns": null,
            "margin": null,
            "display": null,
            "left": null
          }
        },
        "6765d698a662416691ee9d58126ab523": {
          "model_module": "@jupyter-widgets/controls",
          "model_name": "DescriptionStyleModel",
          "model_module_version": "1.5.0",
          "state": {
            "_view_name": "StyleView",
            "_model_name": "DescriptionStyleModel",
            "description_width": "",
            "_view_module": "@jupyter-widgets/base",
            "_model_module_version": "1.5.0",
            "_view_count": null,
            "_view_module_version": "1.2.0",
            "_model_module": "@jupyter-widgets/controls"
          }
        },
        "02c0a512a63346f0aefec5d77d509f1c": {
          "model_module": "@jupyter-widgets/base",
          "model_name": "LayoutModel",
          "model_module_version": "1.2.0",
          "state": {
            "_view_name": "LayoutView",
            "grid_template_rows": null,
            "right": null,
            "justify_content": null,
            "_view_module": "@jupyter-widgets/base",
            "overflow": null,
            "_model_module_version": "1.2.0",
            "_view_count": null,
            "flex_flow": null,
            "width": null,
            "min_width": null,
            "border": null,
            "align_items": null,
            "bottom": null,
            "_model_module": "@jupyter-widgets/base",
            "top": null,
            "grid_column": null,
            "overflow_y": null,
            "overflow_x": null,
            "grid_auto_flow": null,
            "grid_area": null,
            "grid_template_columns": null,
            "flex": null,
            "_model_name": "LayoutModel",
            "justify_items": null,
            "grid_row": null,
            "max_height": null,
            "align_content": null,
            "visibility": null,
            "align_self": null,
            "height": null,
            "min_height": null,
            "padding": null,
            "grid_auto_rows": null,
            "grid_gap": null,
            "max_width": null,
            "order": null,
            "_view_module_version": "1.2.0",
            "grid_template_areas": null,
            "object_position": null,
            "object_fit": null,
            "grid_auto_columns": null,
            "margin": null,
            "display": null,
            "left": null
          }
        },
        "aa9dcc72593b4821870742e1f188ad78": {
          "model_module": "@jupyter-widgets/controls",
          "model_name": "HBoxModel",
          "model_module_version": "1.5.0",
          "state": {
            "_view_name": "HBoxView",
            "_dom_classes": [],
            "_model_name": "HBoxModel",
            "_view_module": "@jupyter-widgets/controls",
            "_model_module_version": "1.5.0",
            "_view_count": null,
            "_view_module_version": "1.5.0",
            "box_style": "",
            "layout": "IPY_MODEL_e603d8c49bcd4f0fb8077b61247b552d",
            "_model_module": "@jupyter-widgets/controls",
            "children": [
              "IPY_MODEL_139c6c4b475f4024b24c93356bfd26a0",
              "IPY_MODEL_adda4b6cc96746f892220992e6a13db7",
              "IPY_MODEL_c00d8f5341184283ae73b8e95bc0ec52"
            ]
          }
        },
        "e603d8c49bcd4f0fb8077b61247b552d": {
          "model_module": "@jupyter-widgets/base",
          "model_name": "LayoutModel",
          "model_module_version": "1.2.0",
          "state": {
            "_view_name": "LayoutView",
            "grid_template_rows": null,
            "right": null,
            "justify_content": null,
            "_view_module": "@jupyter-widgets/base",
            "overflow": null,
            "_model_module_version": "1.2.0",
            "_view_count": null,
            "flex_flow": null,
            "width": null,
            "min_width": null,
            "border": null,
            "align_items": null,
            "bottom": null,
            "_model_module": "@jupyter-widgets/base",
            "top": null,
            "grid_column": null,
            "overflow_y": null,
            "overflow_x": null,
            "grid_auto_flow": null,
            "grid_area": null,
            "grid_template_columns": null,
            "flex": null,
            "_model_name": "LayoutModel",
            "justify_items": null,
            "grid_row": null,
            "max_height": null,
            "align_content": null,
            "visibility": null,
            "align_self": null,
            "height": null,
            "min_height": null,
            "padding": null,
            "grid_auto_rows": null,
            "grid_gap": null,
            "max_width": null,
            "order": null,
            "_view_module_version": "1.2.0",
            "grid_template_areas": null,
            "object_position": null,
            "object_fit": null,
            "grid_auto_columns": null,
            "margin": null,
            "display": null,
            "left": null
          }
        },
        "139c6c4b475f4024b24c93356bfd26a0": {
          "model_module": "@jupyter-widgets/controls",
          "model_name": "HTMLModel",
          "model_module_version": "1.5.0",
          "state": {
            "_view_name": "HTMLView",
            "style": "IPY_MODEL_d44f2c8339924e3487fe8423ba3c7d4d",
            "_dom_classes": [],
            "description": "",
            "_model_name": "HTMLModel",
            "placeholder": "​",
            "_view_module": "@jupyter-widgets/controls",
            "_model_module_version": "1.5.0",
            "value": "Downloading: 100%",
            "_view_count": null,
            "_view_module_version": "1.5.0",
            "description_tooltip": null,
            "_model_module": "@jupyter-widgets/controls",
            "layout": "IPY_MODEL_960533051adf41b5a07fcccc917c9ab4"
          }
        },
        "adda4b6cc96746f892220992e6a13db7": {
          "model_module": "@jupyter-widgets/controls",
          "model_name": "FloatProgressModel",
          "model_module_version": "1.5.0",
          "state": {
            "_view_name": "ProgressView",
            "style": "IPY_MODEL_3fd8c45b22964035aae3a4282d884221",
            "_dom_classes": [],
            "description": "",
            "_model_name": "FloatProgressModel",
            "bar_style": "success",
            "max": 466062,
            "_view_module": "@jupyter-widgets/controls",
            "_model_module_version": "1.5.0",
            "value": 466062,
            "_view_count": null,
            "_view_module_version": "1.5.0",
            "orientation": "horizontal",
            "min": 0,
            "description_tooltip": null,
            "_model_module": "@jupyter-widgets/controls",
            "layout": "IPY_MODEL_5e16139423e1478fa09740651147ce1f"
          }
        },
        "c00d8f5341184283ae73b8e95bc0ec52": {
          "model_module": "@jupyter-widgets/controls",
          "model_name": "HTMLModel",
          "model_module_version": "1.5.0",
          "state": {
            "_view_name": "HTMLView",
            "style": "IPY_MODEL_2b1a9b7932374e5d8307700bc1e272a7",
            "_dom_classes": [],
            "description": "",
            "_model_name": "HTMLModel",
            "placeholder": "​",
            "_view_module": "@jupyter-widgets/controls",
            "_model_module_version": "1.5.0",
            "value": " 466k/466k [00:00&lt;00:00, 623kB/s]",
            "_view_count": null,
            "_view_module_version": "1.5.0",
            "description_tooltip": null,
            "_model_module": "@jupyter-widgets/controls",
            "layout": "IPY_MODEL_bff2c370a3f342c8bf20563995ed5cde"
          }
        },
        "d44f2c8339924e3487fe8423ba3c7d4d": {
          "model_module": "@jupyter-widgets/controls",
          "model_name": "DescriptionStyleModel",
          "model_module_version": "1.5.0",
          "state": {
            "_view_name": "StyleView",
            "_model_name": "DescriptionStyleModel",
            "description_width": "",
            "_view_module": "@jupyter-widgets/base",
            "_model_module_version": "1.5.0",
            "_view_count": null,
            "_view_module_version": "1.2.0",
            "_model_module": "@jupyter-widgets/controls"
          }
        },
        "960533051adf41b5a07fcccc917c9ab4": {
          "model_module": "@jupyter-widgets/base",
          "model_name": "LayoutModel",
          "model_module_version": "1.2.0",
          "state": {
            "_view_name": "LayoutView",
            "grid_template_rows": null,
            "right": null,
            "justify_content": null,
            "_view_module": "@jupyter-widgets/base",
            "overflow": null,
            "_model_module_version": "1.2.0",
            "_view_count": null,
            "flex_flow": null,
            "width": null,
            "min_width": null,
            "border": null,
            "align_items": null,
            "bottom": null,
            "_model_module": "@jupyter-widgets/base",
            "top": null,
            "grid_column": null,
            "overflow_y": null,
            "overflow_x": null,
            "grid_auto_flow": null,
            "grid_area": null,
            "grid_template_columns": null,
            "flex": null,
            "_model_name": "LayoutModel",
            "justify_items": null,
            "grid_row": null,
            "max_height": null,
            "align_content": null,
            "visibility": null,
            "align_self": null,
            "height": null,
            "min_height": null,
            "padding": null,
            "grid_auto_rows": null,
            "grid_gap": null,
            "max_width": null,
            "order": null,
            "_view_module_version": "1.2.0",
            "grid_template_areas": null,
            "object_position": null,
            "object_fit": null,
            "grid_auto_columns": null,
            "margin": null,
            "display": null,
            "left": null
          }
        },
        "3fd8c45b22964035aae3a4282d884221": {
          "model_module": "@jupyter-widgets/controls",
          "model_name": "ProgressStyleModel",
          "model_module_version": "1.5.0",
          "state": {
            "_view_name": "StyleView",
            "_model_name": "ProgressStyleModel",
            "description_width": "",
            "_view_module": "@jupyter-widgets/base",
            "_model_module_version": "1.5.0",
            "_view_count": null,
            "_view_module_version": "1.2.0",
            "bar_color": null,
            "_model_module": "@jupyter-widgets/controls"
          }
        },
        "5e16139423e1478fa09740651147ce1f": {
          "model_module": "@jupyter-widgets/base",
          "model_name": "LayoutModel",
          "model_module_version": "1.2.0",
          "state": {
            "_view_name": "LayoutView",
            "grid_template_rows": null,
            "right": null,
            "justify_content": null,
            "_view_module": "@jupyter-widgets/base",
            "overflow": null,
            "_model_module_version": "1.2.0",
            "_view_count": null,
            "flex_flow": null,
            "width": null,
            "min_width": null,
            "border": null,
            "align_items": null,
            "bottom": null,
            "_model_module": "@jupyter-widgets/base",
            "top": null,
            "grid_column": null,
            "overflow_y": null,
            "overflow_x": null,
            "grid_auto_flow": null,
            "grid_area": null,
            "grid_template_columns": null,
            "flex": null,
            "_model_name": "LayoutModel",
            "justify_items": null,
            "grid_row": null,
            "max_height": null,
            "align_content": null,
            "visibility": null,
            "align_self": null,
            "height": null,
            "min_height": null,
            "padding": null,
            "grid_auto_rows": null,
            "grid_gap": null,
            "max_width": null,
            "order": null,
            "_view_module_version": "1.2.0",
            "grid_template_areas": null,
            "object_position": null,
            "object_fit": null,
            "grid_auto_columns": null,
            "margin": null,
            "display": null,
            "left": null
          }
        },
        "2b1a9b7932374e5d8307700bc1e272a7": {
          "model_module": "@jupyter-widgets/controls",
          "model_name": "DescriptionStyleModel",
          "model_module_version": "1.5.0",
          "state": {
            "_view_name": "StyleView",
            "_model_name": "DescriptionStyleModel",
            "description_width": "",
            "_view_module": "@jupyter-widgets/base",
            "_model_module_version": "1.5.0",
            "_view_count": null,
            "_view_module_version": "1.2.0",
            "_model_module": "@jupyter-widgets/controls"
          }
        },
        "bff2c370a3f342c8bf20563995ed5cde": {
          "model_module": "@jupyter-widgets/base",
          "model_name": "LayoutModel",
          "model_module_version": "1.2.0",
          "state": {
            "_view_name": "LayoutView",
            "grid_template_rows": null,
            "right": null,
            "justify_content": null,
            "_view_module": "@jupyter-widgets/base",
            "overflow": null,
            "_model_module_version": "1.2.0",
            "_view_count": null,
            "flex_flow": null,
            "width": null,
            "min_width": null,
            "border": null,
            "align_items": null,
            "bottom": null,
            "_model_module": "@jupyter-widgets/base",
            "top": null,
            "grid_column": null,
            "overflow_y": null,
            "overflow_x": null,
            "grid_auto_flow": null,
            "grid_area": null,
            "grid_template_columns": null,
            "flex": null,
            "_model_name": "LayoutModel",
            "justify_items": null,
            "grid_row": null,
            "max_height": null,
            "align_content": null,
            "visibility": null,
            "align_self": null,
            "height": null,
            "min_height": null,
            "padding": null,
            "grid_auto_rows": null,
            "grid_gap": null,
            "max_width": null,
            "order": null,
            "_view_module_version": "1.2.0",
            "grid_template_areas": null,
            "object_position": null,
            "object_fit": null,
            "grid_auto_columns": null,
            "margin": null,
            "display": null,
            "left": null
          }
        },
        "6ac00b456d90433c8723170966eb4df5": {
          "model_module": "@jupyter-widgets/controls",
          "model_name": "HBoxModel",
          "model_module_version": "1.5.0",
          "state": {
            "_view_name": "HBoxView",
            "_dom_classes": [],
            "_model_name": "HBoxModel",
            "_view_module": "@jupyter-widgets/controls",
            "_model_module_version": "1.5.0",
            "_view_count": null,
            "_view_module_version": "1.5.0",
            "box_style": "",
            "layout": "IPY_MODEL_90aac95c8b5f434d9352eea08d2bfbac",
            "_model_module": "@jupyter-widgets/controls",
            "children": [
              "IPY_MODEL_10cf7f5857c54634b03351d85c480c51",
              "IPY_MODEL_cd9961d7b3df410a9969c14a605503c0",
              "IPY_MODEL_e924d849f4ee48a5ad6036a2d2bde967"
            ]
          }
        },
        "90aac95c8b5f434d9352eea08d2bfbac": {
          "model_module": "@jupyter-widgets/base",
          "model_name": "LayoutModel",
          "model_module_version": "1.2.0",
          "state": {
            "_view_name": "LayoutView",
            "grid_template_rows": null,
            "right": null,
            "justify_content": null,
            "_view_module": "@jupyter-widgets/base",
            "overflow": null,
            "_model_module_version": "1.2.0",
            "_view_count": null,
            "flex_flow": null,
            "width": null,
            "min_width": null,
            "border": null,
            "align_items": null,
            "bottom": null,
            "_model_module": "@jupyter-widgets/base",
            "top": null,
            "grid_column": null,
            "overflow_y": null,
            "overflow_x": null,
            "grid_auto_flow": null,
            "grid_area": null,
            "grid_template_columns": null,
            "flex": null,
            "_model_name": "LayoutModel",
            "justify_items": null,
            "grid_row": null,
            "max_height": null,
            "align_content": null,
            "visibility": null,
            "align_self": null,
            "height": null,
            "min_height": null,
            "padding": null,
            "grid_auto_rows": null,
            "grid_gap": null,
            "max_width": null,
            "order": null,
            "_view_module_version": "1.2.0",
            "grid_template_areas": null,
            "object_position": null,
            "object_fit": null,
            "grid_auto_columns": null,
            "margin": null,
            "display": null,
            "left": null
          }
        },
        "10cf7f5857c54634b03351d85c480c51": {
          "model_module": "@jupyter-widgets/controls",
          "model_name": "HTMLModel",
          "model_module_version": "1.5.0",
          "state": {
            "_view_name": "HTMLView",
            "style": "IPY_MODEL_f09aa6318ecc414887f49b7eaa430855",
            "_dom_classes": [],
            "description": "",
            "_model_name": "HTMLModel",
            "placeholder": "​",
            "_view_module": "@jupyter-widgets/controls",
            "_model_module_version": "1.5.0",
            "value": "Downloading: 100%",
            "_view_count": null,
            "_view_module_version": "1.5.0",
            "description_tooltip": null,
            "_model_module": "@jupyter-widgets/controls",
            "layout": "IPY_MODEL_45d915df30e74676abcbb4e262f1416c"
          }
        },
        "cd9961d7b3df410a9969c14a605503c0": {
          "model_module": "@jupyter-widgets/controls",
          "model_name": "FloatProgressModel",
          "model_module_version": "1.5.0",
          "state": {
            "_view_name": "ProgressView",
            "style": "IPY_MODEL_50714b8e403747b695ea6656292dde0b",
            "_dom_classes": [],
            "description": "",
            "_model_name": "FloatProgressModel",
            "bar_style": "success",
            "max": 570,
            "_view_module": "@jupyter-widgets/controls",
            "_model_module_version": "1.5.0",
            "value": 570,
            "_view_count": null,
            "_view_module_version": "1.5.0",
            "orientation": "horizontal",
            "min": 0,
            "description_tooltip": null,
            "_model_module": "@jupyter-widgets/controls",
            "layout": "IPY_MODEL_e170d39ea9ce4ff99055aa5d6a24f1af"
          }
        },
        "e924d849f4ee48a5ad6036a2d2bde967": {
          "model_module": "@jupyter-widgets/controls",
          "model_name": "HTMLModel",
          "model_module_version": "1.5.0",
          "state": {
            "_view_name": "HTMLView",
            "style": "IPY_MODEL_a967221ba6f846258c0b554d1fd71055",
            "_dom_classes": [],
            "description": "",
            "_model_name": "HTMLModel",
            "placeholder": "​",
            "_view_module": "@jupyter-widgets/controls",
            "_model_module_version": "1.5.0",
            "value": " 570/570 [00:00&lt;00:00, 14.4kB/s]",
            "_view_count": null,
            "_view_module_version": "1.5.0",
            "description_tooltip": null,
            "_model_module": "@jupyter-widgets/controls",
            "layout": "IPY_MODEL_edbb95eba52b4703a3c860e57812bbf8"
          }
        },
        "f09aa6318ecc414887f49b7eaa430855": {
          "model_module": "@jupyter-widgets/controls",
          "model_name": "DescriptionStyleModel",
          "model_module_version": "1.5.0",
          "state": {
            "_view_name": "StyleView",
            "_model_name": "DescriptionStyleModel",
            "description_width": "",
            "_view_module": "@jupyter-widgets/base",
            "_model_module_version": "1.5.0",
            "_view_count": null,
            "_view_module_version": "1.2.0",
            "_model_module": "@jupyter-widgets/controls"
          }
        },
        "45d915df30e74676abcbb4e262f1416c": {
          "model_module": "@jupyter-widgets/base",
          "model_name": "LayoutModel",
          "model_module_version": "1.2.0",
          "state": {
            "_view_name": "LayoutView",
            "grid_template_rows": null,
            "right": null,
            "justify_content": null,
            "_view_module": "@jupyter-widgets/base",
            "overflow": null,
            "_model_module_version": "1.2.0",
            "_view_count": null,
            "flex_flow": null,
            "width": null,
            "min_width": null,
            "border": null,
            "align_items": null,
            "bottom": null,
            "_model_module": "@jupyter-widgets/base",
            "top": null,
            "grid_column": null,
            "overflow_y": null,
            "overflow_x": null,
            "grid_auto_flow": null,
            "grid_area": null,
            "grid_template_columns": null,
            "flex": null,
            "_model_name": "LayoutModel",
            "justify_items": null,
            "grid_row": null,
            "max_height": null,
            "align_content": null,
            "visibility": null,
            "align_self": null,
            "height": null,
            "min_height": null,
            "padding": null,
            "grid_auto_rows": null,
            "grid_gap": null,
            "max_width": null,
            "order": null,
            "_view_module_version": "1.2.0",
            "grid_template_areas": null,
            "object_position": null,
            "object_fit": null,
            "grid_auto_columns": null,
            "margin": null,
            "display": null,
            "left": null
          }
        },
        "50714b8e403747b695ea6656292dde0b": {
          "model_module": "@jupyter-widgets/controls",
          "model_name": "ProgressStyleModel",
          "model_module_version": "1.5.0",
          "state": {
            "_view_name": "StyleView",
            "_model_name": "ProgressStyleModel",
            "description_width": "",
            "_view_module": "@jupyter-widgets/base",
            "_model_module_version": "1.5.0",
            "_view_count": null,
            "_view_module_version": "1.2.0",
            "bar_color": null,
            "_model_module": "@jupyter-widgets/controls"
          }
        },
        "e170d39ea9ce4ff99055aa5d6a24f1af": {
          "model_module": "@jupyter-widgets/base",
          "model_name": "LayoutModel",
          "model_module_version": "1.2.0",
          "state": {
            "_view_name": "LayoutView",
            "grid_template_rows": null,
            "right": null,
            "justify_content": null,
            "_view_module": "@jupyter-widgets/base",
            "overflow": null,
            "_model_module_version": "1.2.0",
            "_view_count": null,
            "flex_flow": null,
            "width": null,
            "min_width": null,
            "border": null,
            "align_items": null,
            "bottom": null,
            "_model_module": "@jupyter-widgets/base",
            "top": null,
            "grid_column": null,
            "overflow_y": null,
            "overflow_x": null,
            "grid_auto_flow": null,
            "grid_area": null,
            "grid_template_columns": null,
            "flex": null,
            "_model_name": "LayoutModel",
            "justify_items": null,
            "grid_row": null,
            "max_height": null,
            "align_content": null,
            "visibility": null,
            "align_self": null,
            "height": null,
            "min_height": null,
            "padding": null,
            "grid_auto_rows": null,
            "grid_gap": null,
            "max_width": null,
            "order": null,
            "_view_module_version": "1.2.0",
            "grid_template_areas": null,
            "object_position": null,
            "object_fit": null,
            "grid_auto_columns": null,
            "margin": null,
            "display": null,
            "left": null
          }
        },
        "a967221ba6f846258c0b554d1fd71055": {
          "model_module": "@jupyter-widgets/controls",
          "model_name": "DescriptionStyleModel",
          "model_module_version": "1.5.0",
          "state": {
            "_view_name": "StyleView",
            "_model_name": "DescriptionStyleModel",
            "description_width": "",
            "_view_module": "@jupyter-widgets/base",
            "_model_module_version": "1.5.0",
            "_view_count": null,
            "_view_module_version": "1.2.0",
            "_model_module": "@jupyter-widgets/controls"
          }
        },
        "edbb95eba52b4703a3c860e57812bbf8": {
          "model_module": "@jupyter-widgets/base",
          "model_name": "LayoutModel",
          "model_module_version": "1.2.0",
          "state": {
            "_view_name": "LayoutView",
            "grid_template_rows": null,
            "right": null,
            "justify_content": null,
            "_view_module": "@jupyter-widgets/base",
            "overflow": null,
            "_model_module_version": "1.2.0",
            "_view_count": null,
            "flex_flow": null,
            "width": null,
            "min_width": null,
            "border": null,
            "align_items": null,
            "bottom": null,
            "_model_module": "@jupyter-widgets/base",
            "top": null,
            "grid_column": null,
            "overflow_y": null,
            "overflow_x": null,
            "grid_auto_flow": null,
            "grid_area": null,
            "grid_template_columns": null,
            "flex": null,
            "_model_name": "LayoutModel",
            "justify_items": null,
            "grid_row": null,
            "max_height": null,
            "align_content": null,
            "visibility": null,
            "align_self": null,
            "height": null,
            "min_height": null,
            "padding": null,
            "grid_auto_rows": null,
            "grid_gap": null,
            "max_width": null,
            "order": null,
            "_view_module_version": "1.2.0",
            "grid_template_areas": null,
            "object_position": null,
            "object_fit": null,
            "grid_auto_columns": null,
            "margin": null,
            "display": null,
            "left": null
          }
        },
        "bcc1d53ed1c0413ebc3102a69a4717ee": {
          "model_module": "@jupyter-widgets/controls",
          "model_name": "HBoxModel",
          "model_module_version": "1.5.0",
          "state": {
            "_view_name": "HBoxView",
            "_dom_classes": [],
            "_model_name": "HBoxModel",
            "_view_module": "@jupyter-widgets/controls",
            "_model_module_version": "1.5.0",
            "_view_count": null,
            "_view_module_version": "1.5.0",
            "box_style": "",
            "layout": "IPY_MODEL_f1d601cf4214491b816862a846ef7a2e",
            "_model_module": "@jupyter-widgets/controls",
            "children": [
              "IPY_MODEL_37c1686ff232496fbc6a209034fc4549",
              "IPY_MODEL_1e7b6198909e4e91b284484c7b6aef84",
              "IPY_MODEL_8deb307a3504443a8ea2a1c640780fc9"
            ]
          }
        },
        "f1d601cf4214491b816862a846ef7a2e": {
          "model_module": "@jupyter-widgets/base",
          "model_name": "LayoutModel",
          "model_module_version": "1.2.0",
          "state": {
            "_view_name": "LayoutView",
            "grid_template_rows": null,
            "right": null,
            "justify_content": null,
            "_view_module": "@jupyter-widgets/base",
            "overflow": null,
            "_model_module_version": "1.2.0",
            "_view_count": null,
            "flex_flow": null,
            "width": null,
            "min_width": null,
            "border": null,
            "align_items": null,
            "bottom": null,
            "_model_module": "@jupyter-widgets/base",
            "top": null,
            "grid_column": null,
            "overflow_y": null,
            "overflow_x": null,
            "grid_auto_flow": null,
            "grid_area": null,
            "grid_template_columns": null,
            "flex": null,
            "_model_name": "LayoutModel",
            "justify_items": null,
            "grid_row": null,
            "max_height": null,
            "align_content": null,
            "visibility": null,
            "align_self": null,
            "height": null,
            "min_height": null,
            "padding": null,
            "grid_auto_rows": null,
            "grid_gap": null,
            "max_width": null,
            "order": null,
            "_view_module_version": "1.2.0",
            "grid_template_areas": null,
            "object_position": null,
            "object_fit": null,
            "grid_auto_columns": null,
            "margin": null,
            "display": null,
            "left": null
          }
        },
        "37c1686ff232496fbc6a209034fc4549": {
          "model_module": "@jupyter-widgets/controls",
          "model_name": "HTMLModel",
          "model_module_version": "1.5.0",
          "state": {
            "_view_name": "HTMLView",
            "style": "IPY_MODEL_5f64d0e63f85414eba9bd678923f139d",
            "_dom_classes": [],
            "description": "",
            "_model_name": "HTMLModel",
            "placeholder": "​",
            "_view_module": "@jupyter-widgets/controls",
            "_model_module_version": "1.5.0",
            "value": "Downloading: 100%",
            "_view_count": null,
            "_view_module_version": "1.5.0",
            "description_tooltip": null,
            "_model_module": "@jupyter-widgets/controls",
            "layout": "IPY_MODEL_3da5018738624ace88b4d20916fa732f"
          }
        },
        "1e7b6198909e4e91b284484c7b6aef84": {
          "model_module": "@jupyter-widgets/controls",
          "model_name": "FloatProgressModel",
          "model_module_version": "1.5.0",
          "state": {
            "_view_name": "ProgressView",
            "style": "IPY_MODEL_4ebd6354a9b14b799ff917d75a6bff56",
            "_dom_classes": [],
            "description": "",
            "_model_name": "FloatProgressModel",
            "bar_style": "success",
            "max": 440473133,
            "_view_module": "@jupyter-widgets/controls",
            "_model_module_version": "1.5.0",
            "value": 440473133,
            "_view_count": null,
            "_view_module_version": "1.5.0",
            "orientation": "horizontal",
            "min": 0,
            "description_tooltip": null,
            "_model_module": "@jupyter-widgets/controls",
            "layout": "IPY_MODEL_46ce7205f9224e23887e44c258a66fec"
          }
        },
        "8deb307a3504443a8ea2a1c640780fc9": {
          "model_module": "@jupyter-widgets/controls",
          "model_name": "HTMLModel",
          "model_module_version": "1.5.0",
          "state": {
            "_view_name": "HTMLView",
            "style": "IPY_MODEL_4fb0bb19fffc4b74856a4678425fb254",
            "_dom_classes": [],
            "description": "",
            "_model_name": "HTMLModel",
            "placeholder": "​",
            "_view_module": "@jupyter-widgets/controls",
            "_model_module_version": "1.5.0",
            "value": " 440M/440M [00:13&lt;00:00, 32.1MB/s]",
            "_view_count": null,
            "_view_module_version": "1.5.0",
            "description_tooltip": null,
            "_model_module": "@jupyter-widgets/controls",
            "layout": "IPY_MODEL_54f6f296e660463abc6b0529cdda361a"
          }
        },
        "5f64d0e63f85414eba9bd678923f139d": {
          "model_module": "@jupyter-widgets/controls",
          "model_name": "DescriptionStyleModel",
          "model_module_version": "1.5.0",
          "state": {
            "_view_name": "StyleView",
            "_model_name": "DescriptionStyleModel",
            "description_width": "",
            "_view_module": "@jupyter-widgets/base",
            "_model_module_version": "1.5.0",
            "_view_count": null,
            "_view_module_version": "1.2.0",
            "_model_module": "@jupyter-widgets/controls"
          }
        },
        "3da5018738624ace88b4d20916fa732f": {
          "model_module": "@jupyter-widgets/base",
          "model_name": "LayoutModel",
          "model_module_version": "1.2.0",
          "state": {
            "_view_name": "LayoutView",
            "grid_template_rows": null,
            "right": null,
            "justify_content": null,
            "_view_module": "@jupyter-widgets/base",
            "overflow": null,
            "_model_module_version": "1.2.0",
            "_view_count": null,
            "flex_flow": null,
            "width": null,
            "min_width": null,
            "border": null,
            "align_items": null,
            "bottom": null,
            "_model_module": "@jupyter-widgets/base",
            "top": null,
            "grid_column": null,
            "overflow_y": null,
            "overflow_x": null,
            "grid_auto_flow": null,
            "grid_area": null,
            "grid_template_columns": null,
            "flex": null,
            "_model_name": "LayoutModel",
            "justify_items": null,
            "grid_row": null,
            "max_height": null,
            "align_content": null,
            "visibility": null,
            "align_self": null,
            "height": null,
            "min_height": null,
            "padding": null,
            "grid_auto_rows": null,
            "grid_gap": null,
            "max_width": null,
            "order": null,
            "_view_module_version": "1.2.0",
            "grid_template_areas": null,
            "object_position": null,
            "object_fit": null,
            "grid_auto_columns": null,
            "margin": null,
            "display": null,
            "left": null
          }
        },
        "4ebd6354a9b14b799ff917d75a6bff56": {
          "model_module": "@jupyter-widgets/controls",
          "model_name": "ProgressStyleModel",
          "model_module_version": "1.5.0",
          "state": {
            "_view_name": "StyleView",
            "_model_name": "ProgressStyleModel",
            "description_width": "",
            "_view_module": "@jupyter-widgets/base",
            "_model_module_version": "1.5.0",
            "_view_count": null,
            "_view_module_version": "1.2.0",
            "bar_color": null,
            "_model_module": "@jupyter-widgets/controls"
          }
        },
        "46ce7205f9224e23887e44c258a66fec": {
          "model_module": "@jupyter-widgets/base",
          "model_name": "LayoutModel",
          "model_module_version": "1.2.0",
          "state": {
            "_view_name": "LayoutView",
            "grid_template_rows": null,
            "right": null,
            "justify_content": null,
            "_view_module": "@jupyter-widgets/base",
            "overflow": null,
            "_model_module_version": "1.2.0",
            "_view_count": null,
            "flex_flow": null,
            "width": null,
            "min_width": null,
            "border": null,
            "align_items": null,
            "bottom": null,
            "_model_module": "@jupyter-widgets/base",
            "top": null,
            "grid_column": null,
            "overflow_y": null,
            "overflow_x": null,
            "grid_auto_flow": null,
            "grid_area": null,
            "grid_template_columns": null,
            "flex": null,
            "_model_name": "LayoutModel",
            "justify_items": null,
            "grid_row": null,
            "max_height": null,
            "align_content": null,
            "visibility": null,
            "align_self": null,
            "height": null,
            "min_height": null,
            "padding": null,
            "grid_auto_rows": null,
            "grid_gap": null,
            "max_width": null,
            "order": null,
            "_view_module_version": "1.2.0",
            "grid_template_areas": null,
            "object_position": null,
            "object_fit": null,
            "grid_auto_columns": null,
            "margin": null,
            "display": null,
            "left": null
          }
        },
        "4fb0bb19fffc4b74856a4678425fb254": {
          "model_module": "@jupyter-widgets/controls",
          "model_name": "DescriptionStyleModel",
          "model_module_version": "1.5.0",
          "state": {
            "_view_name": "StyleView",
            "_model_name": "DescriptionStyleModel",
            "description_width": "",
            "_view_module": "@jupyter-widgets/base",
            "_model_module_version": "1.5.0",
            "_view_count": null,
            "_view_module_version": "1.2.0",
            "_model_module": "@jupyter-widgets/controls"
          }
        },
        "54f6f296e660463abc6b0529cdda361a": {
          "model_module": "@jupyter-widgets/base",
          "model_name": "LayoutModel",
          "model_module_version": "1.2.0",
          "state": {
            "_view_name": "LayoutView",
            "grid_template_rows": null,
            "right": null,
            "justify_content": null,
            "_view_module": "@jupyter-widgets/base",
            "overflow": null,
            "_model_module_version": "1.2.0",
            "_view_count": null,
            "flex_flow": null,
            "width": null,
            "min_width": null,
            "border": null,
            "align_items": null,
            "bottom": null,
            "_model_module": "@jupyter-widgets/base",
            "top": null,
            "grid_column": null,
            "overflow_y": null,
            "overflow_x": null,
            "grid_auto_flow": null,
            "grid_area": null,
            "grid_template_columns": null,
            "flex": null,
            "_model_name": "LayoutModel",
            "justify_items": null,
            "grid_row": null,
            "max_height": null,
            "align_content": null,
            "visibility": null,
            "align_self": null,
            "height": null,
            "min_height": null,
            "padding": null,
            "grid_auto_rows": null,
            "grid_gap": null,
            "max_width": null,
            "order": null,
            "_view_module_version": "1.2.0",
            "grid_template_areas": null,
            "object_position": null,
            "object_fit": null,
            "grid_auto_columns": null,
            "margin": null,
            "display": null,
            "left": null
          }
        }
      }
    },
    "accelerator": "GPU"
  },
  "cells": [
    {
      "cell_type": "markdown",
      "metadata": {
        "id": "sHXkU7pe5MEl"
      },
      "source": [
        "# BERT"
      ]
    },
    {
      "cell_type": "markdown",
      "metadata": {
        "id": "x7nLSJyX1ykw"
      },
      "source": [
        "**BERT** имеет преимущество перед такими моделями, как Word2Vec, потому что в Word2Vec каждое слово имеет фиксированное представление независимо от контекста, в котором слово употребляется,  **BERT** создаёт представления слов, которое учитывает контекст, в котором слово употребляется. Например,\n",
        "\n",
        "1. После сражения рыцарь направился в замок.\n",
        "2. Замок настолько проржавел, что дверь невозможно было открыть."
      ]
    },
    {
      "cell_type": "markdown",
      "metadata": {
        "id": "hyTNGa3g5CGY"
      },
      "source": [
        "**BERT** имеет два ограничения:\n",
        "\n",
        "* Все предложения должны быть дополнены или усечены до единой фиксированной длины.\n",
        "* Максимальная длина предложения - 512 токенов."
      ]
    },
    {
      "cell_type": "markdown",
      "metadata": {
        "id": "kVn3A38lt0YN"
      },
      "source": [
        "![image.png](data:image/png;base64,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)"
      ]
    },
    {
      "cell_type": "markdown",
      "metadata": {
        "id": "nNoeVaIb5IkO"
      },
      "source": [
        "![image.png](data:image/png;base64,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)"
      ]
    },
    {
      "cell_type": "markdown",
      "metadata": {
        "id": "uxGTH_Ig5cy5"
      },
      "source": [
        "«Attention mask» - это просто массив из единиц и нулей, указывающих, какие токены заполняются, а какие нет. Эта маска сообщает механизму «Self-Attention» в BERT не включать эти токены [PAD] в свою интерпретацию предложения."
      ]
    },
    {
      "cell_type": "markdown",
      "metadata": {
        "id": "RgdFPe9o5v80"
      },
      "source": [
        "Однако максимальная длина влияет на скорость обучения и оценки. Например, с Tesla K80:\n",
        "\n",
        "MAX_LEN = 128 --> Training epochs take ~5:28 each\n",
        "\n",
        "MAX_LEN = 64 --> Training epochs take ~2:57 each"
      ]
    },
    {
      "cell_type": "code",
      "metadata": {
        "colab": {
          "base_uri": "https://localhost:8080/"
        },
        "id": "YuFppJKB-C9A",
        "outputId": "ed31593c-9c6d-4b72-bc31-7a80583b3600"
      },
      "source": [
        "!pip install transformers"
      ],
      "execution_count": 2,
      "outputs": [
        {
          "output_type": "stream",
          "name": "stdout",
          "text": [
            "Collecting transformers\n",
            "  Downloading transformers-4.10.0-py3-none-any.whl (2.8 MB)\n",
            "\u001b[K     |████████████████████████████████| 2.8 MB 7.3 MB/s \n",
            "\u001b[?25hCollecting tokenizers<0.11,>=0.10.1\n",
            "  Downloading tokenizers-0.10.3-cp37-cp37m-manylinux_2_5_x86_64.manylinux1_x86_64.manylinux_2_12_x86_64.manylinux2010_x86_64.whl (3.3 MB)\n",
            "\u001b[K     |████████████████████████████████| 3.3 MB 49.9 MB/s \n",
            "\u001b[?25hRequirement already satisfied: numpy>=1.17 in /usr/local/lib/python3.7/dist-packages (from transformers) (1.19.5)\n",
            "Requirement already satisfied: filelock in /usr/local/lib/python3.7/dist-packages (from transformers) (3.0.12)\n",
            "Collecting pyyaml>=5.1\n",
            "  Downloading PyYAML-5.4.1-cp37-cp37m-manylinux1_x86_64.whl (636 kB)\n",
            "\u001b[K     |████████████████████████████████| 636 kB 82.9 MB/s \n",
            "\u001b[?25hRequirement already satisfied: importlib-metadata in /usr/local/lib/python3.7/dist-packages (from transformers) (4.6.4)\n",
            "Collecting sacremoses\n",
            "  Downloading sacremoses-0.0.45-py3-none-any.whl (895 kB)\n",
            "\u001b[K     |████████████████████████████████| 895 kB 57.4 MB/s \n",
            "\u001b[?25hRequirement already satisfied: regex!=2019.12.17 in /usr/local/lib/python3.7/dist-packages (from transformers) (2019.12.20)\n",
            "Requirement already satisfied: tqdm>=4.27 in /usr/local/lib/python3.7/dist-packages (from transformers) (4.62.0)\n",
            "Requirement already satisfied: requests in /usr/local/lib/python3.7/dist-packages (from transformers) (2.23.0)\n",
            "Requirement already satisfied: packaging in /usr/local/lib/python3.7/dist-packages (from transformers) (21.0)\n",
            "Collecting huggingface-hub>=0.0.12\n",
            "  Downloading huggingface_hub-0.0.16-py3-none-any.whl (50 kB)\n",
            "\u001b[K     |████████████████████████████████| 50 kB 7.1 MB/s \n",
            "\u001b[?25hRequirement already satisfied: typing-extensions in /usr/local/lib/python3.7/dist-packages (from huggingface-hub>=0.0.12->transformers) (3.7.4.3)\n",
            "Requirement already satisfied: pyparsing>=2.0.2 in /usr/local/lib/python3.7/dist-packages (from packaging->transformers) (2.4.7)\n",
            "Requirement already satisfied: zipp>=0.5 in /usr/local/lib/python3.7/dist-packages (from importlib-metadata->transformers) (3.5.0)\n",
            "Requirement already satisfied: idna<3,>=2.5 in /usr/local/lib/python3.7/dist-packages (from requests->transformers) (2.10)\n",
            "Requirement already satisfied: chardet<4,>=3.0.2 in /usr/local/lib/python3.7/dist-packages (from requests->transformers) (3.0.4)\n",
            "Requirement already satisfied: urllib3!=1.25.0,!=1.25.1,<1.26,>=1.21.1 in /usr/local/lib/python3.7/dist-packages (from requests->transformers) (1.25.11)\n",
            "Requirement already satisfied: certifi>=2017.4.17 in /usr/local/lib/python3.7/dist-packages (from requests->transformers) (2021.5.30)\n",
            "Requirement already satisfied: click in /usr/local/lib/python3.7/dist-packages (from sacremoses->transformers) (7.1.2)\n",
            "Requirement already satisfied: six in /usr/local/lib/python3.7/dist-packages (from sacremoses->transformers) (1.15.0)\n",
            "Requirement already satisfied: joblib in /usr/local/lib/python3.7/dist-packages (from sacremoses->transformers) (1.0.1)\n",
            "Installing collected packages: tokenizers, sacremoses, pyyaml, huggingface-hub, transformers\n",
            "  Attempting uninstall: pyyaml\n",
            "    Found existing installation: PyYAML 3.13\n",
            "    Uninstalling PyYAML-3.13:\n",
            "      Successfully uninstalled PyYAML-3.13\n",
            "Successfully installed huggingface-hub-0.0.16 pyyaml-5.4.1 sacremoses-0.0.45 tokenizers-0.10.3 transformers-4.10.0\n"
          ]
        }
      ]
    },
    {
      "cell_type": "markdown",
      "metadata": {
        "id": "kZopv_ka4Bvn"
      },
      "source": [
        "**transformers** включает в себя различные классы задач для BERT (token classification, text classification, …). Здесь будем использовать basic BertModel, которая не имеет конкретной задачи вывода, поэтому хороша подходит для построения embeddings."
      ]
    },
    {
      "cell_type": "code",
      "metadata": {
        "colab": {
          "base_uri": "https://localhost:8080/",
          "height": 145,
          "referenced_widgets": [
            "2612b117f92c4d94bdfe73c437c82833",
            "5d856fc95e604bc3bc1c2cf85cce87de",
            "a8f27c53520f4d94a0b0dfb6c52551b3",
            "249049e98f494fb59e7113293b5f02dc",
            "caf13cc059d246bdb198c6a0c92d92dd",
            "dfe1ec9a87b1463d8b297c235b9d1590",
            "447bfe9e88c3426eb2a3a816105c7d83",
            "ac9d75ffc7df466cb790787e93793cc2",
            "b1ae152d5a4840b1b24ca73bf758e03e",
            "e60f3c61d7554e0b9a290f40ab0204e1",
            "80b51497f3bd419fbd653e1888694a5e",
            "0c1e6516a97f4ea3988db48e2de4c689",
            "97c640eda5994a53819b7b9cb58fee1e",
            "c661ed886c2f40709c470d00849b828e",
            "aa2460fa1d7e42a1b95436c3d1869624",
            "a15c2ca4d69a4915bb71c71d782c5950",
            "290c56ddee7147e6b4b9902ab9329b54",
            "903b45c5b8eb4d48a06fb4503f4fa5ac",
            "ddf840f4daf641b09ebbc34aa0eb0a7b",
            "ca2b6d349bb04c1b8d9333d4caa6aec0",
            "5b05cc1587944eacb84ffbd79e7ec1f1",
            "10e87500a9f942389d4a6885b3e49d0d",
            "78e63d4a5d80407887789c3110bbc566",
            "73ff91ccff664910bc5d0ddce9497019",
            "64c1de7659864cebb831bc4cc5439554",
            "ad44bb13017d4615b1109891454caccd",
            "ec08bb6c56c64d51b448dce19b64715f",
            "331c333ee1af49b3afbcedf4d4f805c7",
            "dfe9d6fd94b746b58b13f249ecec60a2",
            "663de35a4c564490be21c1f8ce3edc0a",
            "77dd52c22668457298d1d1da8a8a382c",
            "00d265fd4ced410c8a4f21864ae12727",
            "0356736dff234c16b4eba2ddfc68d667",
            "8ae2848db92046a6b9bc47b49303a9d8",
            "f9f7d079869c41f984df45a11da0cc19",
            "5c015cf28ec946d4a3eb6f10aa3fcb87",
            "e7963c93f6374d0fa8ca3c20984317af",
            "bb0ef6491dd44c2988f0de472f711777",
            "53b72580a3d3463599b2d21e270c1a87",
            "15aec432b0b84cd198a561e78c226870",
            "726f0b95208d46d8bfd8520bb7b89ea0",
            "c3a16431d06440daa3908ad981ba917e",
            "b73c79a296ad41259ad43e01e4d69b36",
            "5f213224325041bf9ed6896a61dcd8f6"
          ]
        },
        "id": "QufV577ZBTX9",
        "outputId": "8957e527-41fb-493c-f574-7316eea38de6"
      },
      "source": [
        "import torch\n",
        "from transformers import BertTokenizer, BertModel\n",
        "import matplotlib.pyplot as plt\n",
        "% matplotlib inline\n",
        "\n",
        "# Загружаем предобученную модель \n",
        "tokenizer = BertTokenizer.from_pretrained('bert-base-uncased')"
      ],
      "execution_count": 3,
      "outputs": [
        {
          "output_type": "display_data",
          "data": {
            "application/vnd.jupyter.widget-view+json": {
              "model_id": "2612b117f92c4d94bdfe73c437c82833",
              "version_minor": 0,
              "version_major": 2
            },
            "text/plain": [
              "Downloading:   0%|          | 0.00/232k [00:00<?, ?B/s]"
            ]
          },
          "metadata": {}
        },
        {
          "output_type": "display_data",
          "data": {
            "application/vnd.jupyter.widget-view+json": {
              "model_id": "0c1e6516a97f4ea3988db48e2de4c689",
              "version_minor": 0,
              "version_major": 2
            },
            "text/plain": [
              "Downloading:   0%|          | 0.00/28.0 [00:00<?, ?B/s]"
            ]
          },
          "metadata": {}
        },
        {
          "output_type": "display_data",
          "data": {
            "application/vnd.jupyter.widget-view+json": {
              "model_id": "78e63d4a5d80407887789c3110bbc566",
              "version_minor": 0,
              "version_major": 2
            },
            "text/plain": [
              "Downloading:   0%|          | 0.00/466k [00:00<?, ?B/s]"
            ]
          },
          "metadata": {}
        },
        {
          "output_type": "display_data",
          "data": {
            "application/vnd.jupyter.widget-view+json": {
              "model_id": "8ae2848db92046a6b9bc47b49303a9d8",
              "version_minor": 0,
              "version_major": 2
            },
            "text/plain": [
              "Downloading:   0%|          | 0.00/570 [00:00<?, ?B/s]"
            ]
          },
          "metadata": {}
        }
      ]
    },
    {
      "cell_type": "markdown",
      "metadata": {
        "id": "GSy_kgKEGmF_"
      },
      "source": [
        "## **Input Formatting**"
      ]
    },
    {
      "cell_type": "markdown",
      "metadata": {
        "id": "o_UMi55K5SvM"
      },
      "source": [
        "Поскольку BERT - это предварительно обученная модель, которая ожидает входные данные в определенном формате, нам потребуются:\n",
        "\n",
        "* **Special token [SEP]** - указывает на конец предложения или на разделение между двумя предложениями \n",
        "\n",
        "* **Special token [CLS]** - ставится в начале текста и используется для задач классификации \n",
        "\n",
        "* Токены, соответствующие фиксированному словарю, используемому в BERT\n",
        "\n",
        "* **Token IDs**  для токенов из BERT’s tokenizer\n",
        "\n",
        "* **Mask IDs** - указывает на то, какие элементы в последовательности являются токенами, а какие необходимо пропустить для их предсказания \n",
        "\n",
        "* **Segment IDs** - используются для различения разных предложений\n",
        "\n",
        "* **Positional Embeddings** - используются для отображения позиции токена в последовательности\n",
        "\n",
        "**transformers** учитывает все вышеперечисленные требования (с помощью tokenizer.encode_plus)."
      ]
    },
    {
      "cell_type": "markdown",
      "metadata": {
        "id": "uhvMmoyj9Ir4"
      },
      "source": [
        "### **Special Tokens**"
      ]
    },
    {
      "cell_type": "markdown",
      "metadata": {
        "id": "buIUg_mj9cJj"
      },
      "source": [
        "**BERT** может принимать в качестве входных данных одно или два предложения и использовать специальный токен **[SEP]** для их разделения. Токен **[CLS]**  (classification) ставится в начале текста и применяется для задач классификации.\n",
        "\n",
        "Однако всегда требуются оба токена, даже если у нас есть только одно предложение и даже если мы не используем BERT для классификации. \n",
        "\n",
        "**2 Sentence Input:**\n",
        "\n",
        "[CLS] The man went to the store. [SEP] He bought a gallon of milk.\n",
        "\n",
        "**1 Sentence Input:**\n",
        "\n",
        "[CLS] The man went to the store. [SEP]"
      ]
    },
    {
      "cell_type": "markdown",
      "metadata": {
        "id": "XwGOQpeW-oFM"
      },
      "source": [
        ""
      ]
    },
    {
      "cell_type": "markdown",
      "metadata": {
        "id": "d70EXzRL-omE"
      },
      "source": [
        "### **Tokenization**\n",
        "\n",
        "**BERT** предоставляет собственный токенизатор, который мы импортировали выше. "
      ]
    },
    {
      "cell_type": "code",
      "metadata": {
        "colab": {
          "base_uri": "https://localhost:8080/"
        },
        "id": "Y7W3LqmIBaX6",
        "outputId": "c267bd71-fdc1-4458-ea80-35ff0676d05a"
      },
      "source": [
        "text = \"Here is the sentence I want embeddings for.\"\n",
        "marked_text = \"[CLS] \" + text + \" [SEP]\"\n",
        "\n",
        "# Токенизация предложения с помощью BERT tokenizer\n",
        "tokenized_text = tokenizer.tokenize(marked_text)\n",
        "print(tokenized_text)"
      ],
      "execution_count": 4,
      "outputs": [
        {
          "output_type": "stream",
          "name": "stdout",
          "text": [
            "['[CLS]', 'here', 'is', 'the', 'sentence', 'i', 'want', 'em', '##bed', '##ding', '##s', 'for', '.', '[SEP]']\n"
          ]
        }
      ]
    },
    {
      "cell_type": "markdown",
      "metadata": {
        "id": "MP_Wb_BE_rQP"
      },
      "source": [
        "**embeddings = ['em', '##bed', '##ding', '##s']**\n",
        "\n",
        "Исходное слово было разделено на более мелкие подслова и символы. Два знака решетки, предшествующие некоторым из этих подслов, - всего лишь способ нашего токенизатора обозначить, что это подслово или символ является частью большего слова и ему предшествует другое подслово. Так, например, токен **##bed** отделен от токена **bed**; первый используется всякий раз, когда подслово  **bed** встречается в более крупном слове, а второй используется явно, когда возникает самостоятельный токен «вещь, на которой вы спите».\n",
        "\n",
        "BERT tokenizer был создан на основе модели WordPiece.\n",
        "\n",
        "Токенизатор сначала проверяет, есть ли слово целиком в словаре. В противном случае он пытается разбить слово на как можно больше подслов, содержащихся в словаре, и в крайнем случае разложит слово на отдельные символы. То есть слово всегдв можно представить как набор его отдельных символов. "
      ]
    },
    {
      "cell_type": "markdown",
      "metadata": {
        "id": "sFPgX6OgCTzr"
      },
      "source": [
        "несколько примеров токенов, содержащихся словар:"
      ]
    },
    {
      "cell_type": "code",
      "metadata": {
        "colab": {
          "base_uri": "https://localhost:8080/"
        },
        "id": "JX-9ig9BBfYB",
        "outputId": "97e372bb-f824-4262-9bda-7041e7a49625"
      },
      "source": [
        "list(tokenizer.vocab.keys())[5000:5020]"
      ],
      "execution_count": null,
      "outputs": [
        {
          "output_type": "execute_result",
          "data": {
            "text/plain": [
              "['knight',\n",
              " 'lap',\n",
              " 'survey',\n",
              " 'ma',\n",
              " '##ow',\n",
              " 'noise',\n",
              " 'billy',\n",
              " '##ium',\n",
              " 'shooting',\n",
              " 'guide',\n",
              " 'bedroom',\n",
              " 'priest',\n",
              " 'resistance',\n",
              " 'motor',\n",
              " 'homes',\n",
              " 'sounded',\n",
              " 'giant',\n",
              " '##mer',\n",
              " '150',\n",
              " 'scenes']"
            ]
          },
          "metadata": {},
          "execution_count": 31
        }
      ]
    },
    {
      "cell_type": "markdown",
      "metadata": {
        "id": "dpSjMCrnC5Rf"
      },
      "source": [
        "После разбиения текста на токены необходимо преобразовать предложение из списка строк в список словарных индексов.\n"
      ]
    },
    {
      "cell_type": "code",
      "metadata": {
        "colab": {
          "base_uri": "https://localhost:8080/"
        },
        "id": "EsoMAVYbBkax",
        "outputId": "222ab31d-2a36-4372-bf24-5c3a39d7b6fc"
      },
      "source": [
        "# Зададим текст с различным значением для слова 'bank'\n",
        "text = \"After stealing money from the bank vault, the bank robber was seen \" \\\n",
        "       \"fishing on the Mississippi river bank.\"\n",
        "\n",
        "# Добавим специальные токены\n",
        "marked_text = \"[CLS] \" + text + \" [SEP]\"\n",
        "\n",
        "# Разделим текст на токены\n",
        "tokenized_text = tokenizer.tokenize(marked_text)\n",
        "\n",
        "# Сопоставим токены их индексам в словаре\n",
        "indexed_tokens = tokenizer.convert_tokens_to_ids(tokenized_text)\n",
        "\n",
        "# Вывведем токены с соответсвующими им индексами в словаре\n",
        "for tup in zip(tokenized_text, indexed_tokens):\n",
        "    print('{:<12} {:>6,}'.format(tup[0], tup[1]))"
      ],
      "execution_count": null,
      "outputs": [
        {
          "output_type": "stream",
          "name": "stdout",
          "text": [
            "[CLS]           101\n",
            "after         2,044\n",
            "stealing     11,065\n",
            "money         2,769\n",
            "from          2,013\n",
            "the           1,996\n",
            "bank          2,924\n",
            "vault        11,632\n",
            ",             1,010\n",
            "the           1,996\n",
            "bank          2,924\n",
            "robber       27,307\n",
            "was           2,001\n",
            "seen          2,464\n",
            "fishing       5,645\n",
            "on            2,006\n",
            "the           1,996\n",
            "mississippi   5,900\n",
            "river         2,314\n",
            "bank          2,924\n",
            ".             1,012\n",
            "[SEP]           102\n"
          ]
        }
      ]
    },
    {
      "cell_type": "markdown",
      "metadata": {
        "id": "G31oMO34lgsz"
      },
      "source": [
        "### **Inspect BERT Vocabulary**"
      ]
    },
    {
      "cell_type": "markdown",
      "metadata": {
        "id": "mdltiT60m0Cj"
      },
      "source": [
        "Первые 999 токенов (с индексом 1) зарезервированы, и большинство из них имеют форму [unused957].\n",
        "* 1 - [PAD]\n",
        "* 101 - [UNK]\n",
        "* 102 - [CLS]\n",
        "* 103 - [SEP]\n",
        "* 104 - [MASK]\n",
        "\n",
        "Строки 1000–1996 - отдельные символы, которые не отсортированы по частоте (например, все буквы алфавита расположены последовательно).\n",
        "\n",
        "Первый токен-слово - **the** в позиции 1997. Далее токены отсортированы по частоте.\n",
        "\n",
        "Первые ~ 18 токенов - целые слова, на месте 2016 идёт токен **##s** (самое распространенное подслово).\n",
        "Последний токен словаря на месте 29612 - это слово **necessitated**.\n",
        "\n",
        "*Интересные включения*:\n",
        "* starbucks\n",
        "* triassic\n",
        "* abolitionist\n",
        "* 1679"
      ]
    },
    {
      "cell_type": "markdown",
      "metadata": {
        "id": "StmWPOEXpBVu"
      },
      "source": [
        "Для каждого отдельного символа существует также версия '##'. Всего 997 односимвольных токенов."
      ]
    },
    {
      "cell_type": "code",
      "metadata": {
        "id": "AfXgSsHzl7jm"
      },
      "source": [
        "one_chars = []\n",
        "one_chars_hashes = []\n",
        "\n",
        "# Для каждого докенв из словаря\n",
        "for token in tokenizer.vocab.keys():\n",
        "    \n",
        "    # Извлекаем односимвольные токены\n",
        "    if len(token) == 1:\n",
        "        one_chars.append(token)\n",
        "    \n",
        "    # Извлекаем односимвольные токены с ## (односимвольное подслово)\n",
        "    elif len(token) == 3 and token[0:2] == '##':\n",
        "        one_chars_hashes.append(token)"
      ],
      "execution_count": 5,
      "outputs": []
    },
    {
      "cell_type": "code",
      "metadata": {
        "colab": {
          "base_uri": "https://localhost:8080/"
        },
        "id": "dwqgYPXBpHy5",
        "outputId": "8b778ee0-552d-41dd-8f8c-185c1d28ce65"
      },
      "source": [
        "print('Количество односимвольных токенов:', len(one_chars), '\\n')\n",
        "\n",
        "# Вывести все одиночные символы (по 40 в каждой строке)\n",
        "\n",
        "# Для каждого batch из 40 токенов\n",
        "for i in range(0, len(one_chars), 40):\n",
        "    end = min(i + 40, len(one_chars) + 1)\n",
        "    print(' '.join(one_chars[i:end]))"
      ],
      "execution_count": 7,
      "outputs": [
        {
          "output_type": "stream",
          "name": "stdout",
          "text": [
            "Количество односимвольных токенов: 997 \n",
            "\n",
            "! \" # $ % & ' ( ) * + , - . / 0 1 2 3 4 5 6 7 8 9 : ; < = > ? @ [ \\ ] ^ _ ` a b\n",
            "c d e f g h i j k l m n o p q r s t u v w x y z { | } ~ ¡ ¢ £ ¤ ¥ ¦ § ¨ © ª « ¬\n",
            "® ° ± ² ³ ´ µ ¶ · ¹ º » ¼ ½ ¾ ¿ × ß æ ð ÷ ø þ đ ħ ı ł ŋ œ ƒ ɐ ɑ ɒ ɔ ɕ ə ɛ ɡ ɣ ɨ\n",
            "ɪ ɫ ɬ ɯ ɲ ɴ ɹ ɾ ʀ ʁ ʂ ʃ ʉ ʊ ʋ ʌ ʎ ʐ ʑ ʒ ʔ ʰ ʲ ʳ ʷ ʸ ʻ ʼ ʾ ʿ ˈ ː ˡ ˢ ˣ ˤ α β γ δ\n",
            "ε ζ η θ ι κ λ μ ν ξ ο π ρ ς σ τ υ φ χ ψ ω а б в г д е ж з и к л м н о п р с т у\n",
            "ф х ц ч ш щ ъ ы ь э ю я ђ є і ј љ њ ћ ӏ ա բ գ դ ե թ ի լ կ հ մ յ ն ո պ ս վ տ ր ւ\n",
            "ք ־ א ב ג ד ה ו ז ח ט י ך כ ל ם מ ן נ ס ע ף פ ץ צ ק ר ש ת ، ء ا ب ة ت ث ج ح خ د\n",
            "ذ ر ز س ش ص ض ط ظ ع غ ـ ف ق ك ل م ن ه و ى ي ٹ پ چ ک گ ں ھ ہ ی ے अ आ उ ए क ख ग च\n",
            "ज ट ड ण त थ द ध न प ब भ म य र ल व श ष स ह ा ि ी ो । ॥ ং অ আ ই উ এ ও ক খ গ চ ছ জ\n",
            "ট ড ণ ত থ দ ধ ন প ব ভ ম য র ল শ ষ স হ া ি ী ে க ச ட த ந ன ப ம ய ர ல ள வ ா ி ு ே\n",
            "ை ನ ರ ಾ ක ය ර ල ව ා ก ง ต ท น พ ม ย ร ล ว ส อ า เ ་ ། ག ང ད ན པ བ མ འ ར ལ ས မ ა\n",
            "ბ გ დ ე ვ თ ი კ ლ მ ნ ო რ ს ტ უ ᄀ ᄂ ᄃ ᄅ ᄆ ᄇ ᄉ ᄊ ᄋ ᄌ ᄎ ᄏ ᄐ ᄑ ᄒ ᅡ ᅢ ᅥ ᅦ ᅧ ᅩ ᅪ ᅭ ᅮ\n",
            "ᅯ ᅲ ᅳ ᅴ ᅵ ᆨ ᆫ ᆯ ᆷ ᆸ ᆼ ᴬ ᴮ ᴰ ᴵ ᴺ ᵀ ᵃ ᵇ ᵈ ᵉ ᵍ ᵏ ᵐ ᵒ ᵖ ᵗ ᵘ ᵢ ᵣ ᵤ ᵥ ᶜ ᶠ ‐ ‑ ‒ – — ―\n",
            "‖ ‘ ’ ‚ “ ” „ † ‡ • … ‰ ′ ″ › ‿ ⁄ ⁰ ⁱ ⁴ ⁵ ⁶ ⁷ ⁸ ⁹ ⁺ ⁻ ⁿ ₀ ₁ ₂ ₃ ₄ ₅ ₆ ₇ ₈ ₉ ₊ ₍\n",
            "₎ ₐ ₑ ₒ ₓ ₕ ₖ ₗ ₘ ₙ ₚ ₛ ₜ ₤ ₩ € ₱ ₹ ℓ № ℝ ™ ⅓ ⅔ ← ↑ → ↓ ↔ ↦ ⇄ ⇌ ⇒ ∂ ∅ ∆ ∇ ∈ − ∗\n",
            "∘ √ ∞ ∧ ∨ ∩ ∪ ≈ ≡ ≤ ≥ ⊂ ⊆ ⊕ ⊗ ⋅ ─ │ ■ ▪ ● ★ ☆ ☉ ♠ ♣ ♥ ♦ ♭ ♯ ⟨ ⟩ ⱼ ⺩ ⺼ ⽥ 、 。 〈 〉\n",
            "《 》 「 」 『 』 〜 あ い う え お か き く け こ さ し す せ そ た ち っ つ て と な に ぬ ね の は ひ ふ へ ほ ま み\n",
            "む め も や ゆ よ ら り る れ ろ を ん ァ ア ィ イ ウ ェ エ オ カ キ ク ケ コ サ シ ス セ タ チ ッ ツ テ ト ナ ニ ノ ハ\n",
            "ヒ フ ヘ ホ マ ミ ム メ モ ャ ュ ョ ラ リ ル レ ロ ワ ン ・ ー 一 三 上 下 不 世 中 主 久 之 也 事 二 五 井 京 人 亻 仁\n",
            "介 代 仮 伊 会 佐 侍 保 信 健 元 光 八 公 内 出 分 前 劉 力 加 勝 北 区 十 千 南 博 原 口 古 史 司 合 吉 同 名 和 囗 四\n",
            "国 國 土 地 坂 城 堂 場 士 夏 外 大 天 太 夫 奈 女 子 学 宀 宇 安 宗 定 宣 宮 家 宿 寺 將 小 尚 山 岡 島 崎 川 州 巿 帝\n",
            "平 年 幸 广 弘 張 彳 後 御 德 心 忄 志 忠 愛 成 我 戦 戸 手 扌 政 文 新 方 日 明 星 春 昭 智 曲 書 月 有 朝 木 本 李 村\n",
            "東 松 林 森 楊 樹 橋 歌 止 正 武 比 氏 民 水 氵 氷 永 江 沢 河 治 法 海 清 漢 瀬 火 版 犬 王 生 田 男 疒 発 白 的 皇 目\n",
            "相 省 真 石 示 社 神 福 禾 秀 秋 空 立 章 竹 糹 美 義 耳 良 艹 花 英 華 葉 藤 行 街 西 見 訁 語 谷 貝 貴 車 軍 辶 道 郎\n",
            "郡 部 都 里 野 金 鈴 镇 長 門 間 阝 阿 陳 陽 雄 青 面 風 食 香 馬 高 龍 龸 ﬁ ﬂ ！ （ ） ， － ． ／ ： ？ ～\n"
          ]
        }
      ]
    },
    {
      "cell_type": "code",
      "metadata": {
        "colab": {
          "base_uri": "https://localhost:8080/"
        },
        "id": "rFK_SRXzppgc",
        "outputId": "0270056d-1e48-439c-c685-36db5de76241"
      },
      "source": [
        "print('Количество односимвольных подслов с ##:', len(one_chars_hashes), '\\n')\n",
        "\n",
        "# Для наглядности удалим ## перед токенами\n",
        "tokens = [token.replace('##', '') for token in one_chars_hashes]\n",
        "for i in range(0, len(tokens), 40):\n",
        "    end = min(i + 40, len(tokens) + 1)\n",
        "    print(' '.join(tokens[i:end]))"
      ],
      "execution_count": 9,
      "outputs": [
        {
          "output_type": "stream",
          "name": "stdout",
          "text": [
            "Количество односимвольных подслов с ##: 997 \n",
            "\n",
            "s a e i n o d r y t l m u h k c g p 2 z 1 b 3 f 4 6 7 x v 8 5 9 0 w j q ° ₂ а и\n",
            "² ₃ ı ₁ ⁺ ½ о ه ي α е د ن ν ø р ₄ ₀ ر я ³ ι ł н ᵢ ₙ ß ة ς م − т ː ل ь к ♭ η ی в\n",
            "ا × ¹ ы ה ɛ л ! \" # $ % & ' ( ) * + , - . / : ; < = > ? @ [ \\ ] ^ _ ` { | } ~ ¡\n",
            "¢ £ ¤ ¥ ¦ § ¨ © ª « ¬ ® ± ´ µ ¶ · º » ¼ ¾ ¿ æ ð ÷ þ đ ħ ŋ œ ƒ ɐ ɑ ɒ ɔ ɕ ə ɡ ɣ ɨ\n",
            "ɪ ɫ ɬ ɯ ɲ ɴ ɹ ɾ ʀ ʁ ʂ ʃ ʉ ʊ ʋ ʌ ʎ ʐ ʑ ʒ ʔ ʰ ʲ ʳ ʷ ʸ ʻ ʼ ʾ ʿ ˈ ˡ ˢ ˣ ˤ β γ δ ε ζ\n",
            "θ κ λ μ ξ ο π ρ σ τ υ φ χ ψ ω б г д ж з м п с у ф х ц ч ш щ ъ э ю ђ є і ј љ њ ћ\n",
            "ӏ ա բ գ դ ե թ ի լ կ հ մ յ ն ո պ ս վ տ ր ւ ք ־ א ב ג ד ו ז ח ט י ך כ ל ם מ ן נ ס\n",
            "ע ף פ ץ צ ק ר ש ת ، ء ب ت ث ج ح خ ذ ز س ش ص ض ط ظ ع غ ـ ف ق ك و ى ٹ پ چ ک گ ں ھ\n",
            "ہ ے अ आ उ ए क ख ग च ज ट ड ण त थ द ध न प ब भ म य र ल व श ष स ह ा ि ी ो । ॥ ং অ আ\n",
            "ই উ এ ও ক খ গ চ ছ জ ট ড ণ ত থ দ ধ ন প ব ভ ম য র ল শ ষ স হ া ি ী ে க ச ட த ந ன ப\n",
            "ம ய ர ல ள வ ா ி ு ே ை ನ ರ ಾ ක ය ර ල ව ා ก ง ต ท น พ ม ย ร ล ว ส อ า เ ་ ། ག ང ད\n",
            "ན པ བ མ འ ར ལ ས မ ა ბ გ დ ე ვ თ ი კ ლ მ ნ ო რ ს ტ უ ᄀ ᄂ ᄃ ᄅ ᄆ ᄇ ᄉ ᄊ ᄋ ᄌ ᄎ ᄏ ᄐ ᄑ\n",
            "ᄒ ᅡ ᅢ ᅥ ᅦ ᅧ ᅩ ᅪ ᅭ ᅮ ᅯ ᅲ ᅳ ᅴ ᅵ ᆨ ᆫ ᆯ ᆷ ᆸ ᆼ ᴬ ᴮ ᴰ ᴵ ᴺ ᵀ ᵃ ᵇ ᵈ ᵉ ᵍ ᵏ ᵐ ᵒ ᵖ ᵗ ᵘ ᵣ ᵤ\n",
            "ᵥ ᶜ ᶠ ‐ ‑ ‒ – — ― ‖ ‘ ’ ‚ “ ” „ † ‡ • … ‰ ′ ″ › ‿ ⁄ ⁰ ⁱ ⁴ ⁵ ⁶ ⁷ ⁸ ⁹ ⁻ ⁿ ₅ ₆ ₇ ₈\n",
            "₉ ₊ ₍ ₎ ₐ ₑ ₒ ₓ ₕ ₖ ₗ ₘ ₚ ₛ ₜ ₤ ₩ € ₱ ₹ ℓ № ℝ ™ ⅓ ⅔ ← ↑ → ↓ ↔ ↦ ⇄ ⇌ ⇒ ∂ ∅ ∆ ∇ ∈\n",
            "∗ ∘ √ ∞ ∧ ∨ ∩ ∪ ≈ ≡ ≤ ≥ ⊂ ⊆ ⊕ ⊗ ⋅ ─ │ ■ ▪ ● ★ ☆ ☉ ♠ ♣ ♥ ♦ ♯ ⟨ ⟩ ⱼ ⺩ ⺼ ⽥ 、 。 〈 〉\n",
            "《 》 「 」 『 』 〜 あ い う え お か き く け こ さ し す せ そ た ち っ つ て と な に ぬ ね の は ひ ふ へ ほ ま み\n",
            "む め も や ゆ よ ら り る れ ろ を ん ァ ア ィ イ ウ ェ エ オ カ キ ク ケ コ サ シ ス セ タ チ ッ ツ テ ト ナ ニ ノ ハ\n",
            "ヒ フ ヘ ホ マ ミ ム メ モ ャ ュ ョ ラ リ ル レ ロ ワ ン ・ ー 一 三 上 下 不 世 中 主 久 之 也 事 二 五 井 京 人 亻 仁\n",
            "介 代 仮 伊 会 佐 侍 保 信 健 元 光 八 公 内 出 分 前 劉 力 加 勝 北 区 十 千 南 博 原 口 古 史 司 合 吉 同 名 和 囗 四\n",
            "国 國 土 地 坂 城 堂 場 士 夏 外 大 天 太 夫 奈 女 子 学 宀 宇 安 宗 定 宣 宮 家 宿 寺 將 小 尚 山 岡 島 崎 川 州 巿 帝\n",
            "平 年 幸 广 弘 張 彳 後 御 德 心 忄 志 忠 愛 成 我 戦 戸 手 扌 政 文 新 方 日 明 星 春 昭 智 曲 書 月 有 朝 木 本 李 村\n",
            "東 松 林 森 楊 樹 橋 歌 止 正 武 比 氏 民 水 氵 氷 永 江 沢 河 治 法 海 清 漢 瀬 火 版 犬 王 生 田 男 疒 発 白 的 皇 目\n",
            "相 省 真 石 示 社 神 福 禾 秀 秋 空 立 章 竹 糹 美 義 耳 良 艹 花 英 華 葉 藤 行 街 西 見 訁 語 谷 貝 貴 車 軍 辶 道 郎\n",
            "郡 部 都 里 野 金 鈴 镇 長 門 間 阝 阿 陳 陽 雄 青 面 風 食 香 馬 高 龍 龸 ﬁ ﬂ ！ （ ） ， － ． ／ ： ？ ～\n"
          ]
        }
      ]
    },
    {
      "cell_type": "code",
      "metadata": {
        "colab": {
          "base_uri": "https://localhost:8080/",
          "height": 444
        },
        "id": "CewZCJQeqGFZ",
        "outputId": "fbb38463-f259-429f-d24f-2c5e439017f0"
      },
      "source": [
        "import matplotlib.pyplot as plt\n",
        "import seaborn as sns\n",
        "import numpy as np\n",
        "\n",
        "sns.set(style='darkgrid')\n",
        "sns.set(font_scale=1.5)\n",
        "plt.rcParams[\"figure.figsize\"] = (10,5)\n",
        "# Длина каждого токена в словаре\n",
        "token_lengths = [len(token) for token in tokenizer.vocab.keys()]\n",
        "sns.countplot(token_lengths)\n",
        "plt.title('Vocab Token Lengths')\n",
        "plt.xlabel('Token Length')\n",
        "plt.ylabel('# of Tokens')\n",
        "\n",
        "print('Максимальная длина токена:', max(token_lengths))"
      ],
      "execution_count": 10,
      "outputs": [
        {
          "output_type": "stream",
          "name": "stderr",
          "text": [
            "/usr/local/lib/python3.7/dist-packages/seaborn/_decorators.py:43: FutureWarning: Pass the following variable as a keyword arg: x. From version 0.12, the only valid positional argument will be `data`, and passing other arguments without an explicit keyword will result in an error or misinterpretation.\n",
            "  FutureWarning\n"
          ]
        },
        {
          "output_type": "stream",
          "name": "stdout",
          "text": [
            "Максимальная длина токена: 18\n"
          ]
        },
        {
          "output_type": "display_data",
          "data": {
            "image/png": "[encoded data removed]",
            "text/plain": [
              "<Figure size 720x360 with 1 Axes>"
            ]
          },
          "metadata": {}
        }
      ]
    },
    {
      "cell_type": "code",
      "metadata": {
        "id": "b-ZAxEChqzpV"
      },
      "source": [
        "num_subwords = 0\n",
        "\n",
        "subword_lengths = []\n",
        "\n",
        "# Для каждого токена из словаря\n",
        "for token in tokenizer.vocab.keys():   \n",
        "    # Если это подслово\n",
        "    if len(token) >= 2 and token[0:2] == '##':        \n",
        "        # Подсчитать все подслова\n",
        "        num_subwords += 1\n",
        "        # Длина подслова без учёта ##\n",
        "        length = len(token) - 2       \n",
        "        subword_lengths.append(length)"
      ],
      "execution_count": 11,
      "outputs": []
    },
    {
      "cell_type": "code",
      "metadata": {
        "colab": {
          "base_uri": "https://localhost:8080/"
        },
        "id": "K7aERsKQrOxg",
        "outputId": "12fdf01e-dbd3-43a9-c53a-df514ce85278"
      },
      "source": [
        "vocab_size = len(tokenizer.vocab.keys())\n",
        "\n",
        "print('Количество подслов: {:,} из {:,}'.format(num_subwords, vocab_size))\n",
        "\n",
        "# Подсчёт отношения подслов ко всем токенам\n",
        "prcnt = float(num_subwords) / vocab_size * 100.0\n",
        "\n",
        "print('%.1f%%' % prcnt)"
      ],
      "execution_count": 13,
      "outputs": [
        {
          "output_type": "stream",
          "name": "stdout",
          "text": [
            "Количество подслов: 5,828 из 30,522\n",
            "19.1%\n"
          ]
        }
      ]
    },
    {
      "cell_type": "code",
      "metadata": {
        "colab": {
          "base_uri": "https://localhost:8080/",
          "height": 444
        },
        "id": "LDsme5LkrdNQ",
        "outputId": "379b5388-33d5-437b-a678-78c88a0ccfa8"
      },
      "source": [
        "# Длина подслов (исключая два символа '##').\n",
        "sns.countplot(subword_lengths)\n",
        "plt.title('Subword Token Lengths (w/o \"##\")')\n",
        "plt.xlabel('Subword Length')\n",
        "plt.ylabel('# of ## Subwords')"
      ],
      "execution_count": 14,
      "outputs": [
        {
          "output_type": "stream",
          "name": "stderr",
          "text": [
            "/usr/local/lib/python3.7/dist-packages/seaborn/_decorators.py:43: FutureWarning: Pass the following variable as a keyword arg: x. From version 0.12, the only valid positional argument will be `data`, and passing other arguments without an explicit keyword will result in an error or misinterpretation.\n",
            "  FutureWarning\n"
          ]
        },
        {
          "output_type": "execute_result",
          "data": {
            "text/plain": [
              "Text(0, 0.5, '# of ## Subwords')"
            ]
          },
          "metadata": {},
          "execution_count": 14
        },
        {
          "output_type": "display_data",
          "data": {
            "image/png": "[encoded data removed]",
            "text/plain": [
              "<Figure size 720x360 with 1 Axes>"
            ]
          },
          "metadata": {}
        }
      ]
    },
    {
      "cell_type": "code",
      "metadata": {
        "colab": {
          "base_uri": "https://localhost:8080/"
        },
        "id": "fQm9nEV2s-Jn",
        "outputId": "c28d632e-dbd8-49c5-da2a-091a5ee1b5fc"
      },
      "source": [
        "# Количество чисел в словаре\n",
        "count = 0\n",
        "\n",
        "for token in tokenizer.vocab.keys():\n",
        "\n",
        "    # Подсчитать количество чисел\n",
        "    if token.isdigit():\n",
        "        count += 1\n",
        "        \n",
        "        # Число >= 10,000?\n",
        "        if len(token) > 4:\n",
        "            print(token)\n",
        "\n",
        "print('Словарь включает в себя - {:,} число.'.format(count))"
      ],
      "execution_count": 16,
      "outputs": [
        {
          "output_type": "stream",
          "name": "stdout",
          "text": [
            "Словарь включает в себя - 881 число.\n"
          ]
        }
      ]
    },
    {
      "cell_type": "markdown",
      "metadata": {
        "id": "76-X48f3E6Ii"
      },
      "source": [
        "### **Segment ID**"
      ]
    },
    {
      "cell_type": "markdown",
      "metadata": {
        "id": "r9YSc2cRFuby"
      },
      "source": [
        "**BERT** обучен и ожидает пары предложений, используя 1 и 0, чтобы различать эти предложения. То есть для каждого токена в «tokenized_text» мы должны указать, к какому предложению он относится: sentence 0 (a series of 0s) or sentence 1 (a series of 1s).\n",
        "\n",
        "Для одного предложения создадим вектор единиц для каждого токена:\n"
      ]
    },
    {
      "cell_type": "code",
      "metadata": {
        "colab": {
          "base_uri": "https://localhost:8080/"
        },
        "id": "yztfDmUlBzlC",
        "outputId": "db7a4889-8bbb-4037-df8d-cbe144c9c9a3"
      },
      "source": [
        "# Отмечаем каждый из 22 токенов как принадлежащий предложению \"1\".\n",
        "segments_ids = [1] * len(tokenized_text)\n",
        "\n",
        "print (segments_ids)"
      ],
      "execution_count": null,
      "outputs": [
        {
          "output_type": "stream",
          "name": "stdout",
          "text": [
            "[1, 1, 1, 1, 1, 1, 1, 1, 1, 1, 1, 1, 1, 1, 1, 1, 1, 1, 1, 1, 1, 1]\n"
          ]
        }
      ]
    },
    {
      "cell_type": "markdown",
      "metadata": {
        "id": "_c0D053sGQ2V"
      },
      "source": [
        "\n",
        "Если требуется обработать два предложения, тогда необходимо присвоить каждому слову в первом предложении плюс токену «[SEP]» 0, а всем токенам второго предложения - 1."
      ]
    },
    {
      "cell_type": "markdown",
      "metadata": {
        "id": "AKn32tNMGXvm"
      },
      "source": [
        "## **Extracting Embeddings**"
      ]
    },
    {
      "cell_type": "markdown",
      "metadata": {
        "id": "QktERF_-G1iM"
      },
      "source": [
        "### **Running BERT on our text**"
      ]
    },
    {
      "cell_type": "code",
      "metadata": {
        "id": "Ld04CHJ2B5vI"
      },
      "source": [
        "# Ковертируем входы в PyTorch tensors\n",
        "tokens_tensor = torch.tensor([indexed_tokens])\n",
        "segments_tensors = torch.tensor([segments_ids])"
      ],
      "execution_count": null,
      "outputs": []
    },
    {
      "cell_type": "code",
      "metadata": {
        "colab": {
          "base_uri": "https://localhost:8080/",
          "height": 1000,
          "referenced_widgets": [
            "a924c1a79fc84c22955346d652a084a8",
            "900230d359bb489f825cfd90ab52ce82",
            "bec5c52909fb4c6485e3471233ee34d8",
            "c16218aeff1440dd8bb6fd25eefc1649",
            "2c2a805f238342beab107141bc9be3b5",
            "032e8e72bfc646119fef4406fd790952",
            "af324a6959cc4d3e9100dfa3a4b4b940",
            "77695a6c04d948b089d8502ea07778a4",
            "0ab6ccb1613e4fe78f81cfba881923ba",
            "b66b2e2b49c84d5aa7253d889343455a",
            "338947be93c1432cb5d72ce228601c89"
          ]
        },
        "id": "1m336f9ZB59O",
        "outputId": "8ea08976-200f-4452-d144-e7489e662039"
      },
      "source": [
        "# Загружаем предобученную модель (BERT(base) - 12 слоёв с encoders)\n",
        "model = BertModel.from_pretrained('bert-base-uncased',\n",
        "                                  output_hidden_states = True, # При установке значения True модель вернёт все скрытые состояния\n",
        "                                  )\n",
        "\n",
        "# Переводим модель из режима обучения в режим оценки, в этом случае dropout regularization отключается\n",
        "model.eval()"
      ],
      "execution_count": null,
      "outputs": [
        {
          "output_type": "display_data",
          "data": {
            "application/vnd.jupyter.widget-view+json": {
              "model_id": "a924c1a79fc84c22955346d652a084a8",
              "version_minor": 0,
              "version_major": 2
            },
            "text/plain": [
              "Downloading:   0%|          | 0.00/440M [00:00<?, ?B/s]"
            ]
          },
          "metadata": {}
        },
        {
          "output_type": "stream",
          "name": "stderr",
          "text": [
            "Some weights of the model checkpoint at bert-base-uncased were not used when initializing BertModel: ['cls.predictions.bias', 'cls.predictions.decoder.weight', 'cls.predictions.transform.dense.bias', 'cls.predictions.transform.LayerNorm.bias', 'cls.predictions.transform.dense.weight', 'cls.predictions.transform.LayerNorm.weight', 'cls.seq_relationship.bias', 'cls.seq_relationship.weight']\n",
            "- This IS expected if you are initializing BertModel from the checkpoint of a model trained on another task or with another architecture (e.g. initializing a BertForSequenceClassification model from a BertForPreTraining model).\n",
            "- This IS NOT expected if you are initializing BertModel from the checkpoint of a model that you expect to be exactly identical (initializing a BertForSequenceClassification model from a BertForSequenceClassification model).\n"
          ]
        },
        {
          "output_type": "execute_result",
          "data": {
            "text/plain": [
              "BertModel(\n",
              "  (embeddings): BertEmbeddings(\n",
              "    (word_embeddings): Embedding(30522, 768, padding_idx=0)\n",
              "    (position_embeddings): Embedding(512, 768)\n",
              "    (token_type_embeddings): Embedding(2, 768)\n",
              "    (LayerNorm): LayerNorm((768,), eps=1e-12, elementwise_affine=True)\n",
              "    (dropout): Dropout(p=0.1, inplace=False)\n",
              "  )\n",
              "  (encoder): BertEncoder(\n",
              "    (layer): ModuleList(\n",
              "      (0): BertLayer(\n",
              "        (attention): BertAttention(\n",
              "          (self): BertSelfAttention(\n",
              "            (query): Linear(in_features=768, out_features=768, bias=True)\n",
              "            (key): Linear(in_features=768, out_features=768, bias=True)\n",
              "            (value): Linear(in_features=768, out_features=768, bias=True)\n",
              "            (dropout): Dropout(p=0.1, inplace=False)\n",
              "          )\n",
              "          (output): BertSelfOutput(\n",
              "            (dense): Linear(in_features=768, out_features=768, bias=True)\n",
              "            (LayerNorm): LayerNorm((768,), eps=1e-12, elementwise_affine=True)\n",
              "            (dropout): Dropout(p=0.1, inplace=False)\n",
              "          )\n",
              "        )\n",
              "        (intermediate): BertIntermediate(\n",
              "          (dense): Linear(in_features=768, out_features=3072, bias=True)\n",
              "        )\n",
              "        (output): BertOutput(\n",
              "          (dense): Linear(in_features=3072, out_features=768, bias=True)\n",
              "          (LayerNorm): LayerNorm((768,), eps=1e-12, elementwise_affine=True)\n",
              "          (dropout): Dropout(p=0.1, inplace=False)\n",
              "        )\n",
              "      )\n",
              "      (1): BertLayer(\n",
              "        (attention): BertAttention(\n",
              "          (self): BertSelfAttention(\n",
              "            (query): Linear(in_features=768, out_features=768, bias=True)\n",
              "            (key): Linear(in_features=768, out_features=768, bias=True)\n",
              "            (value): Linear(in_features=768, out_features=768, bias=True)\n",
              "            (dropout): Dropout(p=0.1, inplace=False)\n",
              "          )\n",
              "          (output): BertSelfOutput(\n",
              "            (dense): Linear(in_features=768, out_features=768, bias=True)\n",
              "            (LayerNorm): LayerNorm((768,), eps=1e-12, elementwise_affine=True)\n",
              "            (dropout): Dropout(p=0.1, inplace=False)\n",
              "          )\n",
              "        )\n",
              "        (intermediate): BertIntermediate(\n",
              "          (dense): Linear(in_features=768, out_features=3072, bias=True)\n",
              "        )\n",
              "        (output): BertOutput(\n",
              "          (dense): Linear(in_features=3072, out_features=768, bias=True)\n",
              "          (LayerNorm): LayerNorm((768,), eps=1e-12, elementwise_affine=True)\n",
              "          (dropout): Dropout(p=0.1, inplace=False)\n",
              "        )\n",
              "      )\n",
              "      (2): BertLayer(\n",
              "        (attention): BertAttention(\n",
              "          (self): BertSelfAttention(\n",
              "            (query): Linear(in_features=768, out_features=768, bias=True)\n",
              "            (key): Linear(in_features=768, out_features=768, bias=True)\n",
              "            (value): Linear(in_features=768, out_features=768, bias=True)\n",
              "            (dropout): Dropout(p=0.1, inplace=False)\n",
              "          )\n",
              "          (output): BertSelfOutput(\n",
              "            (dense): Linear(in_features=768, out_features=768, bias=True)\n",
              "            (LayerNorm): LayerNorm((768,), eps=1e-12, elementwise_affine=True)\n",
              "            (dropout): Dropout(p=0.1, inplace=False)\n",
              "          )\n",
              "        )\n",
              "        (intermediate): BertIntermediate(\n",
              "          (dense): Linear(in_features=768, out_features=3072, bias=True)\n",
              "        )\n",
              "        (output): BertOutput(\n",
              "          (dense): Linear(in_features=3072, out_features=768, bias=True)\n",
              "          (LayerNorm): LayerNorm((768,), eps=1e-12, elementwise_affine=True)\n",
              "          (dropout): Dropout(p=0.1, inplace=False)\n",
              "        )\n",
              "      )\n",
              "      (3): BertLayer(\n",
              "        (attention): BertAttention(\n",
              "          (self): BertSelfAttention(\n",
              "            (query): Linear(in_features=768, out_features=768, bias=True)\n",
              "            (key): Linear(in_features=768, out_features=768, bias=True)\n",
              "            (value): Linear(in_features=768, out_features=768, bias=True)\n",
              "            (dropout): Dropout(p=0.1, inplace=False)\n",
              "          )\n",
              "          (output): BertSelfOutput(\n",
              "            (dense): Linear(in_features=768, out_features=768, bias=True)\n",
              "            (LayerNorm): LayerNorm((768,), eps=1e-12, elementwise_affine=True)\n",
              "            (dropout): Dropout(p=0.1, inplace=False)\n",
              "          )\n",
              "        )\n",
              "        (intermediate): BertIntermediate(\n",
              "          (dense): Linear(in_features=768, out_features=3072, bias=True)\n",
              "        )\n",
              "        (output): BertOutput(\n",
              "          (dense): Linear(in_features=3072, out_features=768, bias=True)\n",
              "          (LayerNorm): LayerNorm((768,), eps=1e-12, elementwise_affine=True)\n",
              "          (dropout): Dropout(p=0.1, inplace=False)\n",
              "        )\n",
              "      )\n",
              "      (4): BertLayer(\n",
              "        (attention): BertAttention(\n",
              "          (self): BertSelfAttention(\n",
              "            (query): Linear(in_features=768, out_features=768, bias=True)\n",
              "            (key): Linear(in_features=768, out_features=768, bias=True)\n",
              "            (value): Linear(in_features=768, out_features=768, bias=True)\n",
              "            (dropout): Dropout(p=0.1, inplace=False)\n",
              "          )\n",
              "          (output): BertSelfOutput(\n",
              "            (dense): Linear(in_features=768, out_features=768, bias=True)\n",
              "            (LayerNorm): LayerNorm((768,), eps=1e-12, elementwise_affine=True)\n",
              "            (dropout): Dropout(p=0.1, inplace=False)\n",
              "          )\n",
              "        )\n",
              "        (intermediate): BertIntermediate(\n",
              "          (dense): Linear(in_features=768, out_features=3072, bias=True)\n",
              "        )\n",
              "        (output): BertOutput(\n",
              "          (dense): Linear(in_features=3072, out_features=768, bias=True)\n",
              "          (LayerNorm): LayerNorm((768,), eps=1e-12, elementwise_affine=True)\n",
              "          (dropout): Dropout(p=0.1, inplace=False)\n",
              "        )\n",
              "      )\n",
              "      (5): BertLayer(\n",
              "        (attention): BertAttention(\n",
              "          (self): BertSelfAttention(\n",
              "            (query): Linear(in_features=768, out_features=768, bias=True)\n",
              "            (key): Linear(in_features=768, out_features=768, bias=True)\n",
              "            (value): Linear(in_features=768, out_features=768, bias=True)\n",
              "            (dropout): Dropout(p=0.1, inplace=False)\n",
              "          )\n",
              "          (output): BertSelfOutput(\n",
              "            (dense): Linear(in_features=768, out_features=768, bias=True)\n",
              "            (LayerNorm): LayerNorm((768,), eps=1e-12, elementwise_affine=True)\n",
              "            (dropout): Dropout(p=0.1, inplace=False)\n",
              "          )\n",
              "        )\n",
              "        (intermediate): BertIntermediate(\n",
              "          (dense): Linear(in_features=768, out_features=3072, bias=True)\n",
              "        )\n",
              "        (output): BertOutput(\n",
              "          (dense): Linear(in_features=3072, out_features=768, bias=True)\n",
              "          (LayerNorm): LayerNorm((768,), eps=1e-12, elementwise_affine=True)\n",
              "          (dropout): Dropout(p=0.1, inplace=False)\n",
              "        )\n",
              "      )\n",
              "      (6): BertLayer(\n",
              "        (attention): BertAttention(\n",
              "          (self): BertSelfAttention(\n",
              "            (query): Linear(in_features=768, out_features=768, bias=True)\n",
              "            (key): Linear(in_features=768, out_features=768, bias=True)\n",
              "            (value): Linear(in_features=768, out_features=768, bias=True)\n",
              "            (dropout): Dropout(p=0.1, inplace=False)\n",
              "          )\n",
              "          (output): BertSelfOutput(\n",
              "            (dense): Linear(in_features=768, out_features=768, bias=True)\n",
              "            (LayerNorm): LayerNorm((768,), eps=1e-12, elementwise_affine=True)\n",
              "            (dropout): Dropout(p=0.1, inplace=False)\n",
              "          )\n",
              "        )\n",
              "        (intermediate): BertIntermediate(\n",
              "          (dense): Linear(in_features=768, out_features=3072, bias=True)\n",
              "        )\n",
              "        (output): BertOutput(\n",
              "          (dense): Linear(in_features=3072, out_features=768, bias=True)\n",
              "          (LayerNorm): LayerNorm((768,), eps=1e-12, elementwise_affine=True)\n",
              "          (dropout): Dropout(p=0.1, inplace=False)\n",
              "        )\n",
              "      )\n",
              "      (7): BertLayer(\n",
              "        (attention): BertAttention(\n",
              "          (self): BertSelfAttention(\n",
              "            (query): Linear(in_features=768, out_features=768, bias=True)\n",
              "            (key): Linear(in_features=768, out_features=768, bias=True)\n",
              "            (value): Linear(in_features=768, out_features=768, bias=True)\n",
              "            (dropout): Dropout(p=0.1, inplace=False)\n",
              "          )\n",
              "          (output): BertSelfOutput(\n",
              "            (dense): Linear(in_features=768, out_features=768, bias=True)\n",
              "            (LayerNorm): LayerNorm((768,), eps=1e-12, elementwise_affine=True)\n",
              "            (dropout): Dropout(p=0.1, inplace=False)\n",
              "          )\n",
              "        )\n",
              "        (intermediate): BertIntermediate(\n",
              "          (dense): Linear(in_features=768, out_features=3072, bias=True)\n",
              "        )\n",
              "        (output): BertOutput(\n",
              "          (dense): Linear(in_features=3072, out_features=768, bias=True)\n",
              "          (LayerNorm): LayerNorm((768,), eps=1e-12, elementwise_affine=True)\n",
              "          (dropout): Dropout(p=0.1, inplace=False)\n",
              "        )\n",
              "      )\n",
              "      (8): BertLayer(\n",
              "        (attention): BertAttention(\n",
              "          (self): BertSelfAttention(\n",
              "            (query): Linear(in_features=768, out_features=768, bias=True)\n",
              "            (key): Linear(in_features=768, out_features=768, bias=True)\n",
              "            (value): Linear(in_features=768, out_features=768, bias=True)\n",
              "            (dropout): Dropout(p=0.1, inplace=False)\n",
              "          )\n",
              "          (output): BertSelfOutput(\n",
              "            (dense): Linear(in_features=768, out_features=768, bias=True)\n",
              "            (LayerNorm): LayerNorm((768,), eps=1e-12, elementwise_affine=True)\n",
              "            (dropout): Dropout(p=0.1, inplace=False)\n",
              "          )\n",
              "        )\n",
              "        (intermediate): BertIntermediate(\n",
              "          (dense): Linear(in_features=768, out_features=3072, bias=True)\n",
              "        )\n",
              "        (output): BertOutput(\n",
              "          (dense): Linear(in_features=3072, out_features=768, bias=True)\n",
              "          (LayerNorm): LayerNorm((768,), eps=1e-12, elementwise_affine=True)\n",
              "          (dropout): Dropout(p=0.1, inplace=False)\n",
              "        )\n",
              "      )\n",
              "      (9): BertLayer(\n",
              "        (attention): BertAttention(\n",
              "          (self): BertSelfAttention(\n",
              "            (query): Linear(in_features=768, out_features=768, bias=True)\n",
              "            (key): Linear(in_features=768, out_features=768, bias=True)\n",
              "            (value): Linear(in_features=768, out_features=768, bias=True)\n",
              "            (dropout): Dropout(p=0.1, inplace=False)\n",
              "          )\n",
              "          (output): BertSelfOutput(\n",
              "            (dense): Linear(in_features=768, out_features=768, bias=True)\n",
              "            (LayerNorm): LayerNorm((768,), eps=1e-12, elementwise_affine=True)\n",
              "            (dropout): Dropout(p=0.1, inplace=False)\n",
              "          )\n",
              "        )\n",
              "        (intermediate): BertIntermediate(\n",
              "          (dense): Linear(in_features=768, out_features=3072, bias=True)\n",
              "        )\n",
              "        (output): BertOutput(\n",
              "          (dense): Linear(in_features=3072, out_features=768, bias=True)\n",
              "          (LayerNorm): LayerNorm((768,), eps=1e-12, elementwise_affine=True)\n",
              "          (dropout): Dropout(p=0.1, inplace=False)\n",
              "        )\n",
              "      )\n",
              "      (10): BertLayer(\n",
              "        (attention): BertAttention(\n",
              "          (self): BertSelfAttention(\n",
              "            (query): Linear(in_features=768, out_features=768, bias=True)\n",
              "            (key): Linear(in_features=768, out_features=768, bias=True)\n",
              "            (value): Linear(in_features=768, out_features=768, bias=True)\n",
              "            (dropout): Dropout(p=0.1, inplace=False)\n",
              "          )\n",
              "          (output): BertSelfOutput(\n",
              "            (dense): Linear(in_features=768, out_features=768, bias=True)\n",
              "            (LayerNorm): LayerNorm((768,), eps=1e-12, elementwise_affine=True)\n",
              "            (dropout): Dropout(p=0.1, inplace=False)\n",
              "          )\n",
              "        )\n",
              "        (intermediate): BertIntermediate(\n",
              "          (dense): Linear(in_features=768, out_features=3072, bias=True)\n",
              "        )\n",
              "        (output): BertOutput(\n",
              "          (dense): Linear(in_features=3072, out_features=768, bias=True)\n",
              "          (LayerNorm): LayerNorm((768,), eps=1e-12, elementwise_affine=True)\n",
              "          (dropout): Dropout(p=0.1, inplace=False)\n",
              "        )\n",
              "      )\n",
              "      (11): BertLayer(\n",
              "        (attention): BertAttention(\n",
              "          (self): BertSelfAttention(\n",
              "            (query): Linear(in_features=768, out_features=768, bias=True)\n",
              "            (key): Linear(in_features=768, out_features=768, bias=True)\n",
              "            (value): Linear(in_features=768, out_features=768, bias=True)\n",
              "            (dropout): Dropout(p=0.1, inplace=False)\n",
              "          )\n",
              "          (output): BertSelfOutput(\n",
              "            (dense): Linear(in_features=768, out_features=768, bias=True)\n",
              "            (LayerNorm): LayerNorm((768,), eps=1e-12, elementwise_affine=True)\n",
              "            (dropout): Dropout(p=0.1, inplace=False)\n",
              "          )\n",
              "        )\n",
              "        (intermediate): BertIntermediate(\n",
              "          (dense): Linear(in_features=768, out_features=3072, bias=True)\n",
              "        )\n",
              "        (output): BertOutput(\n",
              "          (dense): Linear(in_features=3072, out_features=768, bias=True)\n",
              "          (LayerNorm): LayerNorm((768,), eps=1e-12, elementwise_affine=True)\n",
              "          (dropout): Dropout(p=0.1, inplace=False)\n",
              "        )\n",
              "      )\n",
              "    )\n",
              "  )\n",
              "  (pooler): BertPooler(\n",
              "    (dense): Linear(in_features=768, out_features=768, bias=True)\n",
              "    (activation): Tanh()\n",
              "  )\n",
              ")"
            ]
          },
          "metadata": {},
          "execution_count": 13
        }
      ]
    },
    {
      "cell_type": "code",
      "metadata": {
        "id": "WRrwYsw5B7ve"
      },
      "source": [
        "# Пропустим текст через BERT модель и извлечем все скрытые состояния сети, полученные из всех 12 слоев\n",
        "with torch.no_grad():\n",
        "    outputs = model(tokens_tensor, segments_tensors)\n",
        "    hidden_states = outputs[2]"
      ],
      "execution_count": null,
      "outputs": []
    },
    {
      "cell_type": "code",
      "metadata": {
        "colab": {
          "base_uri": "https://localhost:8080/"
        },
        "id": "g5UKCeYRSP4l",
        "outputId": "051df8e8-4a75-4adb-812a-70bcf51585b0"
      },
      "source": [
        "print(len(hidden_states), hidden_states[0].shape)"
      ],
      "execution_count": null,
      "outputs": [
        {
          "output_type": "stream",
          "name": "stdout",
          "text": [
            "13 torch.Size([1, 22, 768])\n"
          ]
        }
      ]
    },
    {
      "cell_type": "markdown",
      "metadata": {
        "id": "DS7JtnvvSGGF"
      },
      "source": [
        "hidden_states имеет четыре измерения: \n",
        "* The layer number (13 layers)\n",
        "* The batch number (1 sentence)\n",
        "* The word / token number (22 tokens in our sentence)\n",
        "* The hidden unit / feature number (768 features)\n",
        "\n",
        "* 13 слоёв - первый слой input embeddings, остальные - выходы каждого из 12 слоёв BERT \n",
        "\n",
        "Всего **219 648** уникальных значения, чтобы представить одно предложение"
      ]
    },
    {
      "cell_type": "code",
      "metadata": {
        "colab": {
          "base_uri": "https://localhost:8080/"
        },
        "id": "_gp9JTWTCCEc",
        "outputId": "eabc145c-8654-4659-97de-5ba2b597a307"
      },
      "source": [
        "print (\"Number of layers:\", len(hidden_states), \"  (initial embeddings + 12 BERT layers)\")\n",
        "layer_i = 0\n",
        "\n",
        "print (\"Number of batches:\", len(hidden_states[layer_i]))\n",
        "batch_i = 0\n",
        "\n",
        "print (\"Number of tokens:\", len(hidden_states[layer_i][batch_i]))\n",
        "token_i = 0\n",
        "\n",
        "print (\"Number of hidden units:\", len(hidden_states[layer_i][batch_i][token_i]))"
      ],
      "execution_count": null,
      "outputs": [
        {
          "output_type": "stream",
          "name": "stdout",
          "text": [
            "Number of layers: 13   (initial embeddings + 12 BERT layers)\n",
            "Number of batches: 1\n",
            "Number of tokens: 22\n",
            "Number of hidden units: 768\n"
          ]
        }
      ]
    },
    {
      "cell_type": "markdown",
      "metadata": {
        "id": "NJbyKIApTiGG"
      },
      "source": [
        "Диапазон значений для конкретного слоя и токена"
      ]
    },
    {
      "cell_type": "code",
      "metadata": {
        "colab": {
          "base_uri": "https://localhost:8080/",
          "height": 487
        },
        "id": "FLvgDvqoCC7-",
        "outputId": "f5139c4d-5a22-4cd1-e53d-6f284badc53d"
      },
      "source": [
        "# Для 5-го токена в предложении берём его векторное представление с 5 слоя сети\n",
        "token_i = 5\n",
        "layer_i = 5\n",
        "vec = hidden_states[layer_i][batch_i][token_i]\n",
        "\n",
        "# Построим гистограмму для визуализации распределения\n",
        "plt.figure(figsize=(8,8))\n",
        "plt.grid()\n",
        "plt.tick_params(axis='both', which='major', labelsize=14)\n",
        "plt.hist(vec, bins=200)\n",
        "plt.show()"
      ],
      "execution_count": null,
      "outputs": [
        {
          "output_type": "display_data",
          "data": {
            "image/png": "[encoded data removed]",
            "text/plain": [
              "<Figure size 576x576 with 1 Axes>"
            ]
          },
          "metadata": {
            "needs_background": "light"
          }
        }
      ]
    },
    {
      "cell_type": "markdown",
      "metadata": {
        "id": "ShUN2P9nVQ-e"
      },
      "source": [
        "диапазон довольно схож для всех слоев и токенов, с большинством значений, лежащих между [-2, 2] и небольшим разбросом значений около -10."
      ]
    },
    {
      "cell_type": "markdown",
      "metadata": {
        "id": "v3QMjYQ1VG1C"
      },
      "source": [
        "[# layers, # batches, # tokens, # features] -> [# tokens, # layers, # features]"
      ]
    },
    {
      "cell_type": "code",
      "metadata": {
        "colab": {
          "base_uri": "https://localhost:8080/"
        },
        "id": "ki70kKHpCFM9",
        "outputId": "a1bd8dda-23aa-4ab6-cc35-72883b7811d7"
      },
      "source": [
        "print('      Type of hidden_states: ', type(hidden_states))\n",
        "print('Tensor shape for each layer: ', hidden_states[0].size())"
      ],
      "execution_count": null,
      "outputs": [
        {
          "output_type": "stream",
          "name": "stdout",
          "text": [
            "      Type of hidden_states:  <class 'tuple'>\n",
            "Tensor shape for each layer:  torch.Size([1, 22, 768])\n"
          ]
        }
      ]
    },
    {
      "cell_type": "markdown",
      "metadata": {
        "id": "bEJPA4HYVkVh"
      },
      "source": [
        "Первым измерением в настоящее время является список Python"
      ]
    },
    {
      "cell_type": "code",
      "metadata": {
        "colab": {
          "base_uri": "https://localhost:8080/"
        },
        "id": "gv_aJVqpCHXB",
        "outputId": "5aab2a7e-a04f-4bc9-b7d3-393496217093"
      },
      "source": [
        "# объединим в один тензор\n",
        "token_embeddings = torch.stack(hidden_states, dim=0)\n",
        "\n",
        "token_embeddings.size()"
      ],
      "execution_count": null,
      "outputs": [
        {
          "output_type": "execute_result",
          "data": {
            "text/plain": [
              "torch.Size([13, 1, 22, 768])"
            ]
          },
          "metadata": {},
          "execution_count": 39
        }
      ]
    },
    {
      "cell_type": "code",
      "metadata": {
        "colab": {
          "base_uri": "https://localhost:8080/"
        },
        "id": "8H66p-zZCI9k",
        "outputId": "a38d7dd6-5cd7-42ad-b8ba-9f691b450119"
      },
      "source": [
        "# Удалим измерение 1, соответсвующее батчам \n",
        "token_embeddings = torch.squeeze(token_embeddings, dim=1)\n",
        "\n",
        "token_embeddings.size()"
      ],
      "execution_count": null,
      "outputs": [
        {
          "output_type": "execute_result",
          "data": {
            "text/plain": [
              "torch.Size([13, 22, 768])"
            ]
          },
          "metadata": {},
          "execution_count": 40
        }
      ]
    },
    {
      "cell_type": "code",
      "metadata": {
        "colab": {
          "base_uri": "https://localhost:8080/"
        },
        "id": "WZ-3ZP6WCKyT",
        "outputId": "24ebceff-b4bb-444a-c46d-30eac1d84eb0"
      },
      "source": [
        "# Поменяем 0 и 1 измерения местами \n",
        "token_embeddings = token_embeddings.permute(1,0,2)\n",
        "\n",
        "token_embeddings.size()"
      ],
      "execution_count": null,
      "outputs": [
        {
          "output_type": "execute_result",
          "data": {
            "text/plain": [
              "torch.Size([22, 13, 768])"
            ]
          },
          "metadata": {},
          "execution_count": 41
        }
      ]
    },
    {
      "cell_type": "code",
      "metadata": {
        "id": "S0E9OAB1tnkY"
      },
      "source": [
        ""
      ],
      "execution_count": null,
      "outputs": []
    },
    {
      "cell_type": "markdown",
      "metadata": {
        "id": "1xFWW863ZOrL"
      },
      "source": [
        "### **Creating word and sentence vectors from hidden states**"
      ]
    },
    {
      "cell_type": "markdown",
      "metadata": {
        "id": "CrKt0ERLZWrT"
      },
      "source": [
        "В итоге для каждого токена предложения у нас есть 13 отдельных векторов длиной 768 каждый."
      ]
    },
    {
      "cell_type": "markdown",
      "metadata": {
        "id": "u0VzSUD8ZiU4"
      },
      "source": [
        "**Word Vectors**\n",
        "\n",
        "1. Объединим последние четыре слоя, получив вектор из одного слова для каждого токена. Каждый вектор будет иметь длину 4 x 768 = 3 072."
      ]
    },
    {
      "cell_type": "code",
      "metadata": {
        "colab": {
          "base_uri": "https://localhost:8080/"
        },
        "id": "F7DTMdPiCMVz",
        "outputId": "865ee298-da7d-4027-e731-6344ca4b79c1"
      },
      "source": [
        "token_vecs_cat = []\n",
        "\n",
        "# token_embeddings - это тензор размера [22 x 13 x 768] \n",
        "\n",
        "# Для каждого токена из предложения\n",
        "for token in token_embeddings:\n",
        "    \n",
        "    # token - тензор размера [13 x 768] \n",
        "    # Объединим вектора последних 4-х слоёв\n",
        "    # Длина вектора каждого слоя - 768, тогда cat_vec имеет длину 3 072\n",
        "    cat_vec = torch.cat((token[-1], token[-2], token[-3], token[-4]), dim=0)\n",
        "    \n",
        "    # Используем cat_vec для представления token\n",
        "    token_vecs_cat.append(cat_vec)\n",
        "\n",
        "print ('Размер cat_vec: %d x %d' % (len(token_vecs_cat), len(token_vecs_cat[0])))"
      ],
      "execution_count": null,
      "outputs": [
        {
          "output_type": "stream",
          "name": "stdout",
          "text": [
            "Размер cat_vec: 22 x 3072\n"
          ]
        }
      ]
    },
    {
      "cell_type": "markdown",
      "metadata": {
        "id": "KMyBcOjka6I9"
      },
      "source": [
        "2. В качестве альтернативного метода создадим векторы слов, суммируя последние четыре слоя"
      ]
    },
    {
      "cell_type": "code",
      "metadata": {
        "colab": {
          "base_uri": "https://localhost:8080/"
        },
        "id": "fRmy2DpuCPre",
        "outputId": "36514ecc-3920-4182-d0ef-48219802e2ff"
      },
      "source": [
        "token_vecs_sum = []\n",
        "\n",
        "# token_embeddings - это тензор размера [22 x 13 x 768] \n",
        "\n",
        "# Для каждого токена из предложения\n",
        "for token in token_embeddings:\n",
        "\n",
        "    # token - тензор размера [13 x 768] \n",
        "\n",
        "    # Проссумируем векторы последних четырёх слоёв\n",
        "    sum_vec = torch.sum(token[-4:], dim=0)\n",
        "    \n",
        "    # Используем sum_vec для представления token\n",
        "    token_vecs_sum.append(sum_vec)\n",
        "\n",
        "print ('Размер sum_vec: %d x %d' % (len(token_vecs_sum), len(token_vecs_sum[0])))"
      ],
      "execution_count": null,
      "outputs": [
        {
          "output_type": "stream",
          "name": "stdout",
          "text": [
            "Размер sum_vec: 22 x 768\n"
          ]
        }
      ]
    },
    {
      "cell_type": "markdown",
      "metadata": {
        "id": "ilctVPe-bZRQ"
      },
      "source": [
        "**Sentence Vectors**\n",
        "\n",
        "Чтобы получить единый вектор для всего предложения, можно усреднить предпоследний скрытый слой каждого токена, создав один вектор длины 768."
      ]
    },
    {
      "cell_type": "code",
      "metadata": {
        "id": "NaI4aH83CSfa"
      },
      "source": [
        "# hidden_states имеет размер [13 x 1 x 22 x 768]\n",
        "\n",
        "# token_vecs - тензор размера [22 x 768]\n",
        "token_vecs = hidden_states[-2][0]\n",
        "\n",
        "# Усреднение по всем 22 токенам\n",
        "sentence_embedding = torch.mean(token_vecs, dim=0)"
      ],
      "execution_count": null,
      "outputs": []
    },
    {
      "cell_type": "code",
      "metadata": {
        "colab": {
          "base_uri": "https://localhost:8080/"
        },
        "id": "tJzskacjCUMd",
        "outputId": "6bfb6c96-bb24-4db7-fb9b-781f26a6fe8e"
      },
      "source": [
        "print (\"Финальный embedding предлоения имеет размер:\", sentence_embedding.size())"
      ],
      "execution_count": null,
      "outputs": [
        {
          "output_type": "stream",
          "name": "stdout",
          "text": [
            "Финальный embedding предлоения имеет размер: torch.Size([768])\n"
          ]
        }
      ]
    },
    {
      "cell_type": "markdown",
      "metadata": {
        "id": "I6WLjHi3cYFF"
      },
      "source": [
        "### **Confirming contextually dependent vectors**\n",
        "\n",
        "Чтобы подтвердить, что значение этих векторов на самом деле зависит от контекста, давайте рассмотрим различные вхождения слова «bank» в нашем примере предложения:\n",
        "\n",
        "*After stealing money from the **bank vault**, the **bank robber** was seen fishing on the Mississippi **river bank**.*\n",
        "\n",
        "* Для этого анализа будем использовать векторы слов, которые были созданы путем суммирования последних четырех слоев."
      ]
    },
    {
      "cell_type": "code",
      "metadata": {
        "colab": {
          "base_uri": "https://localhost:8080/"
        },
        "id": "XS-XvnZmCV4N",
        "outputId": "7a72b982-7269-43d7-b780-1bafd3fd766c"
      },
      "source": [
        "# определим индекс слова 'bank' в предложении (6, 10, 19)\n",
        "for i, token_str in enumerate(tokenized_text):\n",
        "  print (i, token_str)"
      ],
      "execution_count": null,
      "outputs": [
        {
          "output_type": "stream",
          "name": "stdout",
          "text": [
            "0 [CLS]\n",
            "1 after\n",
            "2 stealing\n",
            "3 money\n",
            "4 from\n",
            "5 the\n",
            "6 bank\n",
            "7 vault\n",
            "8 ,\n",
            "9 the\n",
            "10 bank\n",
            "11 robber\n",
            "12 was\n",
            "13 seen\n",
            "14 fishing\n",
            "15 on\n",
            "16 the\n",
            "17 mississippi\n",
            "18 river\n",
            "19 bank\n",
            "20 .\n",
            "21 [SEP]\n"
          ]
        }
      ]
    },
    {
      "cell_type": "code",
      "metadata": {
        "colab": {
          "base_uri": "https://localhost:8080/"
        },
        "id": "G4rKModSCXtg",
        "outputId": "81b82e46-dc02-40d2-ed04-c54a1cf6e556"
      },
      "source": [
        "print('First 5 vector values for each instance of \"bank\".')\n",
        "print('')\n",
        "print(\"bank vault   \", str(token_vecs_sum[6][:5]))\n",
        "print(\"bank robber  \", str(token_vecs_sum[10][:5]))\n",
        "print(\"river bank   \", str(token_vecs_sum[19][:5]))"
      ],
      "execution_count": null,
      "outputs": [
        {
          "output_type": "stream",
          "name": "stdout",
          "text": [
            "First 5 vector values for each instance of \"bank\".\n",
            "\n",
            "bank vault    tensor([ 3.3596, -2.9805, -1.5421,  0.7065,  2.0031])\n",
            "bank robber   tensor([ 2.7359, -2.5577, -1.3094,  0.6797,  1.6633])\n",
            "river bank    tensor([ 1.5266, -0.8895, -0.5152, -0.9298,  2.8334])\n"
          ]
        }
      ]
    },
    {
      "cell_type": "markdown",
      "metadata": {
        "id": "RquZG7yjlnbz"
      },
      "source": [
        "Посчитаем косинусное сходство между векторами, чтобы провести более точное сравнение."
      ]
    },
    {
      "cell_type": "code",
      "metadata": {
        "colab": {
          "base_uri": "https://localhost:8080/"
        },
        "id": "XHzxZ9R6CZb0",
        "outputId": "0bfab25e-ceb7-41e7-ee2b-fd9e2b946f38"
      },
      "source": [
        "from scipy.spatial.distance import cosine\n",
        "\n",
        "# Косинусное расстояние - \"bank robber\" vs \"river bank\" - различное значение\n",
        "diff_bank = 1 - cosine(token_vecs_sum[10], token_vecs_sum[19])\n",
        "\n",
        "# Косинусное расстояние - \"bank robber\" vs \"bank vault\" - похожее значение\n",
        "same_bank = 1 - cosine(token_vecs_sum[10], token_vecs_sum[6])\n",
        "\n",
        "print('Векторное сходство для похожих по значению слов:  %.2f' % same_bank)\n",
        "print('Векторное сходство для различных по значению слов:  %.2f' % diff_bank)\n"
      ],
      "execution_count": null,
      "outputs": [
        {
          "output_type": "stream",
          "name": "stdout",
          "text": [
            "Векторное сходство для похожих по значению слов:  0.94\n",
            "Векторное сходство для различных по значению слов:  0.69\n"
          ]
        }
      ]
    },
    {
      "cell_type": "markdown",
      "metadata": {
        "id": "lZYNPT7tmv71"
      },
      "source": [
        "### **Pooling Strategy & Layer Choice**\n",
        "\n",
        "Авторы **BERT** протестировали стратегии построения **word-embeddings**, подав различные векторные комбинации в качестве входных функций в **BiLSTM**, используемый в задаче распознавания именованных объектов, и наблюдая за полученными оценками F1."
      ]
    },
    {
      "cell_type": "markdown",
      "metadata": {
        "id": "RUk7GRIYmtq6"
      },
      "source": [
        "![image.png](data:image/png;base64,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)"
      ]
    },
    {
      "cell_type": "markdown",
      "metadata": {
        "id": "-YdBdQYEmu70"
      },
      "source": [
        "Хотя объединение последних четырех слоев дало наилучшие результаты в этой конкретной задаче,рекомендуется тестировать разные стратегии для конкретного приложения: результаты могут отличаться. Это объясняется тем, что разные слои **BERT** кодируют очень разные виды информации.\n",
        "\n",
        "Общие рекомендации:\n",
        "* Embeddings начинаются на первом уровне как не имеющие контекстной информации (т.е. значение первоначального ембединга «bank» не является специфическим для river bank или financial bank).\n",
        "\n",
        "* По мере того, как embeddings углубляются в сеть, они собирают все больше и больше контекстной информации с каждым уровнем.\n",
        "\n",
        "* Однако по мере приближения к последнему уровню начинает собираться информация, специфичная для задач предварительного обучения BERT («Masked Language Model» (MLM) и «Next Sentence Prediction» (NSP)). Нам же нужны embeddings, которые хорошо кодируют значение слова. И BERT настроен на это, но он также мотивирован кодировать что-либо еще, что помогло бы ему определить пропущенное слово (MLM) или было ли второе предложение после первого (NSP).\n",
        "\n",
        "* Поэтому предпоследний слой может являться золотой серединой, подходящей для различных задач."
      ]
    },
    {
      "cell_type": "markdown",
      "metadata": {
        "id": "2aj0g5bsunjN"
      },
      "source": [
        "## **Классификация текста на основе BERT**"
      ]
    },
    {
      "cell_type": "code",
      "metadata": {
        "colab": {
          "base_uri": "https://localhost:8080/"
        },
        "id": "4CCJkFCGwe1Z",
        "outputId": "177bae07-4578-4495-fe63-d183a6d54034"
      },
      "source": [
        "import torch\n",
        "\n",
        "# If there's a GPU available...\n",
        "if torch.cuda.is_available():    \n",
        "\n",
        "    # Tell PyTorch to use the GPU.    \n",
        "    device = torch.device(\"cuda\")\n",
        "\n",
        "    print('There are %d GPU(s) available.' % torch.cuda.device_count())\n",
        "\n",
        "    print('We will use the GPU:', torch.cuda.get_device_name(0))\n",
        "\n",
        "# If not...\n",
        "else:\n",
        "    print('No GPU available, using the CPU instead.')\n",
        "    device = torch.device(\"cpu\")"
      ],
      "execution_count": null,
      "outputs": [
        {
          "output_type": "stream",
          "name": "stdout",
          "text": [
            "There are 1 GPU(s) available.\n",
            "We will use the GPU: Tesla K80\n"
          ]
        }
      ]
    },
    {
      "cell_type": "markdown",
      "metadata": {
        "id": "qUEL3JjSyBUq"
      },
      "source": [
        "Используемый набор данных **The Corpus of Linguistic Acceptability (CoLA)** для классификации отдельных предложений. Это набор предложений, помеченных как грамматически правильные или неправильные. Он был впервые опубликован в мае 2018 года и является одним из тестов, включенных в «GLUE Benchmark», в котором конкурируют такие модели, как BERT."
      ]
    },
    {
      "cell_type": "code",
      "metadata": {
        "colab": {
          "base_uri": "https://localhost:8080/"
        },
        "id": "Gv5R4_NOxNLa",
        "outputId": "951628d2-cef9-49b2-b92b-96e2afa6efcf"
      },
      "source": [
        "!pip install wget"
      ],
      "execution_count": null,
      "outputs": [
        {
          "output_type": "stream",
          "name": "stdout",
          "text": [
            "Collecting wget\n",
            "  Downloading wget-3.2.zip (10 kB)\n",
            "Building wheels for collected packages: wget\n",
            "  Building wheel for wget (setup.py) ... \u001b[?25l\u001b[?25hdone\n",
            "  Created wheel for wget: filename=wget-3.2-py3-none-any.whl size=9672 sha256=b43d8876a38bcb3a6622e9e29590b34a14974fe83a8bd986939bf0a3161a2d91\n",
            "  Stored in directory: /root/.cache/pip/wheels/a1/b6/7c/0e63e34eb06634181c63adacca38b79ff8f35c37e3c13e3c02\n",
            "Successfully built wget\n",
            "Installing collected packages: wget\n",
            "Successfully installed wget-3.2\n"
          ]
        }
      ]
    },
    {
      "cell_type": "code",
      "metadata": {
        "colab": {
          "base_uri": "https://localhost:8080/"
        },
        "id": "fwbXpH05y-yZ",
        "outputId": "7d68285b-4aab-4d4d-80b5-a73bc057c24e"
      },
      "source": [
        "import wget\n",
        "import os\n",
        "\n",
        "print('Downloading dataset...')\n",
        "\n",
        "url = 'https://nyu-mll.github.io/CoLA/cola_public_1.1.zip'\n",
        "\n",
        "if not os.path.exists('./cola_public_1.1.zip'):\n",
        "    wget.download(url, './cola_public_1.1.zip')"
      ],
      "execution_count": null,
      "outputs": [
        {
          "output_type": "stream",
          "name": "stdout",
          "text": [
            "Downloading dataset...\n"
          ]
        }
      ]
    },
    {
      "cell_type": "code",
      "metadata": {
        "colab": {
          "base_uri": "https://localhost:8080/"
        },
        "id": "e4tMQldHzDwe",
        "outputId": "36f4b938-5cb1-4064-f56f-dde52354d382"
      },
      "source": [
        "# Unzip the datase\n",
        "if not os.path.exists('./cola_public/'):\n",
        "    !unzip cola_public_1.1.zip"
      ],
      "execution_count": null,
      "outputs": [
        {
          "output_type": "stream",
          "name": "stdout",
          "text": [
            "Archive:  cola_public_1.1.zip\n",
            "   creating: cola_public/\n",
            "  inflating: cola_public/README      \n",
            "   creating: cola_public/tokenized/\n",
            "  inflating: cola_public/tokenized/in_domain_dev.tsv  \n",
            "  inflating: cola_public/tokenized/in_domain_train.tsv  \n",
            "  inflating: cola_public/tokenized/out_of_domain_dev.tsv  \n",
            "   creating: cola_public/raw/\n",
            "  inflating: cola_public/raw/in_domain_dev.tsv  \n",
            "  inflating: cola_public/raw/in_domain_train.tsv  \n",
            "  inflating: cola_public/raw/out_of_domain_dev.tsv  \n"
          ]
        }
      ]
    },
    {
      "cell_type": "markdown",
      "metadata": {
        "id": "NLKLIWIyzQ4i"
      },
      "source": [
        "### **Parse**"
      ]
    },
    {
      "cell_type": "code",
      "metadata": {
        "colab": {
          "base_uri": "https://localhost:8080/",
          "height": 396
        },
        "id": "aoN_zi3dzKIh",
        "outputId": "ddefdbaf-bcd1-4bdd-bafa-87517eae736f"
      },
      "source": [
        "import pandas as pd\n",
        "\n",
        "df = pd.read_csv(\"./cola_public/raw/in_domain_train.tsv\", delimiter='\\t', header=None, names=['sentence_source', 'label', 'label_notes', 'sentence'])\n",
        "\n",
        "print('Количество предложений в обучении: {:,}\\n'.format(df.shape[0]))\n",
        "\n",
        "# Вывести 10 рандомных предложений\n",
        "df.sample(10)"
      ],
      "execution_count": null,
      "outputs": [
        {
          "output_type": "stream",
          "name": "stdout",
          "text": [
            "Количество предложений в обучении: 8,551\n",
            "\n"
          ]
        },
        {
          "output_type": "execute_result",
          "data": {
            "text/html": [
              "<div>\n",
              "<style scoped>\n",
              "    .dataframe tbody tr th:only-of-type {\n",
              "        vertical-align: middle;\n",
              "    }\n",
              "\n",
              "    .dataframe tbody tr th {\n",
              "        vertical-align: top;\n",
              "    }\n",
              "\n",
              "    .dataframe thead th {\n",
              "        text-align: right;\n",
              "    }\n",
              "</style>\n",
              "<table border=\"1\" class=\"dataframe\">\n",
              "  <thead>\n",
              "    <tr style=\"text-align: right;\">\n",
              "      <th></th>\n",
              "      <th>sentence_source</th>\n",
              "      <th>label</th>\n",
              "      <th>label_notes</th>\n",
              "      <th>sentence</th>\n",
              "    </tr>\n",
              "  </thead>\n",
              "  <tbody>\n",
              "    <tr>\n",
              "      <th>6162</th>\n",
              "      <td>c_13</td>\n",
              "      <td>1</td>\n",
              "      <td>NaN</td>\n",
              "      <td>He is believed to have been at the game.</td>\n",
              "    </tr>\n",
              "    <tr>\n",
              "      <th>5438</th>\n",
              "      <td>b_73</td>\n",
              "      <td>1</td>\n",
              "      <td>NaN</td>\n",
              "      <td>He's that reliable a man.</td>\n",
              "    </tr>\n",
              "    <tr>\n",
              "      <th>5307</th>\n",
              "      <td>b_82</td>\n",
              "      <td>0</td>\n",
              "      <td>*</td>\n",
              "      <td>1 put the book after the party on the table.</td>\n",
              "    </tr>\n",
              "    <tr>\n",
              "      <th>7938</th>\n",
              "      <td>ad03</td>\n",
              "      <td>1</td>\n",
              "      <td>NaN</td>\n",
              "      <td>He left.</td>\n",
              "    </tr>\n",
              "    <tr>\n",
              "      <th>6938</th>\n",
              "      <td>m_02</td>\n",
              "      <td>0</td>\n",
              "      <td>*</td>\n",
              "      <td>What she did was be very cold.</td>\n",
              "    </tr>\n",
              "    <tr>\n",
              "      <th>1594</th>\n",
              "      <td>r-67</td>\n",
              "      <td>1</td>\n",
              "      <td>NaN</td>\n",
              "      <td>Although no one else thinks so, Harry thinks t...</td>\n",
              "    </tr>\n",
              "    <tr>\n",
              "      <th>2503</th>\n",
              "      <td>l-93</td>\n",
              "      <td>1</td>\n",
              "      <td>NaN</td>\n",
              "      <td>The guests drank the teapot dry.</td>\n",
              "    </tr>\n",
              "    <tr>\n",
              "      <th>2022</th>\n",
              "      <td>rhl07</td>\n",
              "      <td>0</td>\n",
              "      <td>*</td>\n",
              "      <td>Jake shipped the box towards Carson.</td>\n",
              "    </tr>\n",
              "    <tr>\n",
              "      <th>6723</th>\n",
              "      <td>m_02</td>\n",
              "      <td>1</td>\n",
              "      <td>NaN</td>\n",
              "      <td>A motorist has reported that the road is block...</td>\n",
              "    </tr>\n",
              "    <tr>\n",
              "      <th>6572</th>\n",
              "      <td>g_81</td>\n",
              "      <td>1</td>\n",
              "      <td>NaN</td>\n",
              "      <td>Which city and which conference did Bill go to?</td>\n",
              "    </tr>\n",
              "  </tbody>\n",
              "</table>\n",
              "</div>"
            ],
            "text/plain": [
              "     sentence_source  ...                                           sentence\n",
              "6162            c_13  ...           He is believed to have been at the game.\n",
              "5438            b_73  ...                          He's that reliable a man.\n",
              "5307            b_82  ...       1 put the book after the party on the table.\n",
              "7938            ad03  ...                                           He left.\n",
              "6938            m_02  ...                     What she did was be very cold.\n",
              "1594            r-67  ...  Although no one else thinks so, Harry thinks t...\n",
              "2503            l-93  ...                   The guests drank the teapot dry.\n",
              "2022           rhl07  ...               Jake shipped the box towards Carson.\n",
              "6723            m_02  ...  A motorist has reported that the road is block...\n",
              "6572            g_81  ...    Which city and which conference did Bill go to?\n",
              "\n",
              "[10 rows x 4 columns]"
            ]
          },
          "metadata": {},
          "execution_count": 8
        }
      ]
    },
    {
      "cell_type": "markdown",
      "metadata": {
        "id": "NuZq8UHD2evN"
      },
      "source": [
        "пять предложений, которые отмечены как недопустимые с грамматической точки зрения:"
      ]
    },
    {
      "cell_type": "code",
      "metadata": {
        "colab": {
          "base_uri": "https://localhost:8080/",
          "height": 205
        },
        "id": "1byfLIkS2QvC",
        "outputId": "988e4dcf-71c1-4c0d-d5ea-de325bb1d290"
      },
      "source": [
        "df.loc[df.label == 0].sample(5)[['sentence', 'label']]"
      ],
      "execution_count": null,
      "outputs": [
        {
          "output_type": "execute_result",
          "data": {
            "text/html": [
              "<div>\n",
              "<style scoped>\n",
              "    .dataframe tbody tr th:only-of-type {\n",
              "        vertical-align: middle;\n",
              "    }\n",
              "\n",
              "    .dataframe tbody tr th {\n",
              "        vertical-align: top;\n",
              "    }\n",
              "\n",
              "    .dataframe thead th {\n",
              "        text-align: right;\n",
              "    }\n",
              "</style>\n",
              "<table border=\"1\" class=\"dataframe\">\n",
              "  <thead>\n",
              "    <tr style=\"text-align: right;\">\n",
              "      <th></th>\n",
              "      <th>sentence</th>\n",
              "      <th>label</th>\n",
              "    </tr>\n",
              "  </thead>\n",
              "  <tbody>\n",
              "    <tr>\n",
              "      <th>4889</th>\n",
              "      <td>the person stood on my foot is heavy.</td>\n",
              "      <td>0</td>\n",
              "    </tr>\n",
              "    <tr>\n",
              "      <th>4686</th>\n",
              "      <td>He is looked generally on as selfish.</td>\n",
              "      <td>0</td>\n",
              "    </tr>\n",
              "    <tr>\n",
              "      <th>5457</th>\n",
              "      <td>John isn't an any more reliable fellow than Bill.</td>\n",
              "      <td>0</td>\n",
              "    </tr>\n",
              "    <tr>\n",
              "      <th>912</th>\n",
              "      <td>I know which book Mag read, and which book Bob...</td>\n",
              "      <td>0</td>\n",
              "    </tr>\n",
              "    <tr>\n",
              "      <th>2823</th>\n",
              "      <td>Paula spanked her right hand through the naugh...</td>\n",
              "      <td>0</td>\n",
              "    </tr>\n",
              "  </tbody>\n",
              "</table>\n",
              "</div>"
            ],
            "text/plain": [
              "                                               sentence  label\n",
              "4889              the person stood on my foot is heavy.      0\n",
              "4686              He is looked generally on as selfish.      0\n",
              "5457  John isn't an any more reliable fellow than Bill.      0\n",
              "912   I know which book Mag read, and which book Bob...      0\n",
              "2823  Paula spanked her right hand through the naugh...      0"
            ]
          },
          "metadata": {},
          "execution_count": 9
        }
      ]
    },
    {
      "cell_type": "code",
      "metadata": {
        "id": "81cKRRvg2a5q"
      },
      "source": [
        "sentences = df.sentence.values #извлечение предложений\n",
        "labels = df.label.values #извлечение меток класса"
      ],
      "execution_count": null,
      "outputs": []
    },
    {
      "cell_type": "markdown",
      "metadata": {
        "id": "0z4_BsUE2u6K"
      },
      "source": [
        "### **Tokenization & Input Formatting**"
      ]
    },
    {
      "cell_type": "code",
      "metadata": {
        "colab": {
          "base_uri": "https://localhost:8080/",
          "height": 162,
          "referenced_widgets": [
            "ad32ab1b23264db387bf96c5dc715f6c",
            "ba7da367b17747f59227d48234236268",
            "5c45c4626b5443a88f9d9fc7f6b33e38",
            "e9a239ea2e4c4b59ac2e78d5d12526b5",
            "78ae4f1af4de4d87be0f7a715706cc01",
            "1275b8ccc1554900a4313f14e02220b5",
            "68ad64751d5f42dc86d381d6a09cc5dc",
            "9ea3b6ca75d74e268107180e8702bce3",
            "032165efd2b74e798da2685f3a7b94d8",
            "996d016ace1743309623a0435cf00101",
            "45d02de3a1d948c6b3a90b565bac3e15",
            "88bab0d36b38435792d479be4052c7b2",
            "75afbfa43f524c39ac32ceddf687a43f",
            "3dbea895db0b4534bd47d78a29e1062c",
            "bf9ed5b6597442b2af7e4d28a48ac65f",
            "f20a4b8967fb4d4e9c6d68e8c693070c",
            "c948fa0dd46a4da081bf370f17c1ec59",
            "feeebff507ac4520a647278e4440fcb8",
            "eee12687f87b48d59d4b3f0772738fdd",
            "db760b44c8dc4674bf5152f5e0aca4c2",
            "6765d698a662416691ee9d58126ab523",
            "02c0a512a63346f0aefec5d77d509f1c",
            "aa9dcc72593b4821870742e1f188ad78",
            "e603d8c49bcd4f0fb8077b61247b552d",
            "139c6c4b475f4024b24c93356bfd26a0",
            "adda4b6cc96746f892220992e6a13db7",
            "c00d8f5341184283ae73b8e95bc0ec52",
            "d44f2c8339924e3487fe8423ba3c7d4d",
            "960533051adf41b5a07fcccc917c9ab4",
            "3fd8c45b22964035aae3a4282d884221",
            "5e16139423e1478fa09740651147ce1f",
            "2b1a9b7932374e5d8307700bc1e272a7",
            "bff2c370a3f342c8bf20563995ed5cde",
            "6ac00b456d90433c8723170966eb4df5",
            "90aac95c8b5f434d9352eea08d2bfbac",
            "10cf7f5857c54634b03351d85c480c51",
            "cd9961d7b3df410a9969c14a605503c0",
            "e924d849f4ee48a5ad6036a2d2bde967",
            "f09aa6318ecc414887f49b7eaa430855",
            "45d915df30e74676abcbb4e262f1416c",
            "50714b8e403747b695ea6656292dde0b",
            "e170d39ea9ce4ff99055aa5d6a24f1af",
            "a967221ba6f846258c0b554d1fd71055",
            "edbb95eba52b4703a3c860e57812bbf8"
          ]
        },
        "id": "T3fgqJSR2kZ0",
        "outputId": "d8da0fb3-61cc-4723-b811-bf813943dd0a"
      },
      "source": [
        "from transformers import BertTokenizer\n",
        "\n",
        "print('Loading BERT tokenizer...')\n",
        "tokenizer = BertTokenizer.from_pretrained('bert-base-uncased', do_lower_case=True)"
      ],
      "execution_count": null,
      "outputs": [
        {
          "output_type": "stream",
          "name": "stdout",
          "text": [
            "Loading BERT tokenizer...\n"
          ]
        },
        {
          "output_type": "display_data",
          "data": {
            "application/vnd.jupyter.widget-view+json": {
              "model_id": "ad32ab1b23264db387bf96c5dc715f6c",
              "version_minor": 0,
              "version_major": 2
            },
            "text/plain": [
              "Downloading:   0%|          | 0.00/232k [00:00<?, ?B/s]"
            ]
          },
          "metadata": {}
        },
        {
          "output_type": "display_data",
          "data": {
            "application/vnd.jupyter.widget-view+json": {
              "model_id": "88bab0d36b38435792d479be4052c7b2",
              "version_minor": 0,
              "version_major": 2
            },
            "text/plain": [
              "Downloading:   0%|          | 0.00/28.0 [00:00<?, ?B/s]"
            ]
          },
          "metadata": {}
        },
        {
          "output_type": "display_data",
          "data": {
            "application/vnd.jupyter.widget-view+json": {
              "model_id": "aa9dcc72593b4821870742e1f188ad78",
              "version_minor": 0,
              "version_major": 2
            },
            "text/plain": [
              "Downloading:   0%|          | 0.00/466k [00:00<?, ?B/s]"
            ]
          },
          "metadata": {}
        },
        {
          "output_type": "display_data",
          "data": {
            "application/vnd.jupyter.widget-view+json": {
              "model_id": "6ac00b456d90433c8723170966eb4df5",
              "version_minor": 0,
              "version_major": 2
            },
            "text/plain": [
              "Downloading:   0%|          | 0.00/570 [00:00<?, ?B/s]"
            ]
          },
          "metadata": {}
        }
      ]
    },
    {
      "cell_type": "markdown",
      "metadata": {
        "id": "oo1Xmspy3USL"
      },
      "source": [
        "Применение токенезатора BERT к одному предложению"
      ]
    },
    {
      "cell_type": "code",
      "metadata": {
        "colab": {
          "base_uri": "https://localhost:8080/"
        },
        "id": "MApMABKs3I9A",
        "outputId": "cbeb634c-d714-4e5e-bc7b-5e2f94cf4b51"
      },
      "source": [
        "# Вывод оригинального предложения\n",
        "print(' Original: ', sentences[0])\n",
        "\n",
        "# Вывод токенов предложения\n",
        "print('Tokenized: ', tokenizer.tokenize(sentences[0]))\n",
        "\n",
        "# Вывод индексов соответсвующих токенов в словаре \n",
        "print('Token IDs: ', tokenizer.convert_tokens_to_ids(tokenizer.tokenize(sentences[0])))"
      ],
      "execution_count": null,
      "outputs": [
        {
          "output_type": "stream",
          "name": "stdout",
          "text": [
            " Original:  Our friends won't buy this analysis, let alone the next one we propose.\n",
            "Tokenized:  ['our', 'friends', 'won', \"'\", 't', 'buy', 'this', 'analysis', ',', 'let', 'alone', 'the', 'next', 'one', 'we', 'propose', '.']\n",
            "Token IDs:  [2256, 2814, 2180, 1005, 1056, 4965, 2023, 4106, 1010, 2292, 2894, 1996, 2279, 2028, 2057, 16599, 1012]\n"
          ]
        }
      ]
    },
    {
      "cell_type": "code",
      "metadata": {
        "colab": {
          "base_uri": "https://localhost:8080/"
        },
        "id": "xOlNlFRI58c0",
        "outputId": "7b0fff36-936d-4cc6-a377-b7fcb3b1cd3a"
      },
      "source": [
        "max_len = 0\n",
        "\n",
        "# Для всех предложений\n",
        "for sent in sentences:\n",
        "\n",
        "    # Токенезация текста и добавление специальных токенов [CLS] и [SEP]\n",
        "    input_ids = tokenizer.encode(sent, add_special_tokens=True)\n",
        "\n",
        "    # Обновление максимальной длины предложения\n",
        "    max_len = max(max_len, len(input_ids))\n",
        "\n",
        "print('Максимальная длина предложения: ', max_len)"
      ],
      "execution_count": null,
      "outputs": [
        {
          "output_type": "stream",
          "name": "stdout",
          "text": [
            "Максимальная длина предложения:  47\n"
          ]
        }
      ]
    },
    {
      "cell_type": "code",
      "metadata": {
        "colab": {
          "base_uri": "https://localhost:8080/"
        },
        "id": "tcvXsE4J6UBS",
        "outputId": "8ae2b5a0-0242-42d9-f5f6-0e32a5bf2e37"
      },
      "source": [
        "# Токенизация всех предложений и поиск их индексов в словаре \n",
        "input_ids = []\n",
        "attention_masks = []\n",
        "\n",
        "# Для всех предложений\n",
        "for sent in sentences:\n",
        "    # функция encode_plus включает в себя:\n",
        "    #   (1) Токенезацию предложения\n",
        "    #   (2) Добавление специального токена [CLS] в начало предложения\n",
        "    #   (3) Добавление специального токена [SEP] в конец предложения\n",
        "    #   (4) Поиск индексов соответсвующих токенов в словаре\n",
        "    #   (5) Дополнение или укорачивание предложения до max_length\n",
        "    #   (6) Создание attention masks для токена [PAD] \n",
        "    encoded_dict = tokenizer.encode_plus(\n",
        "                        sent,                      # Предложение\n",
        "                        add_special_tokens = True, # Добавление [CLS] и [SEP]\n",
        "                        max_length = 64,           # Привести предложение к длине 64\n",
        "                        pad_to_max_length = True,\n",
        "                        return_attention_mask = True,   # Создание attention masks\n",
        "                        return_tensors = 'pt',     # Вернуть pytorch tensors\n",
        "                   )\n",
        "    \n",
        "    # Добавить закодированное предложение в список  \n",
        "    input_ids.append(encoded_dict['input_ids'])\n",
        "    \n",
        "    # Добавить attention masks в список\n",
        "    attention_masks.append(encoded_dict['attention_mask'])\n",
        "\n",
        "# lists -> tensors\n",
        "input_ids = torch.cat(input_ids, dim=0)\n",
        "attention_masks = torch.cat(attention_masks, dim=0)\n",
        "labels = torch.tensor(labels)\n",
        "\n",
        "# Вывести первое предложение для примера\n",
        "print('Original: ', sentences[0])\n",
        "print('Token IDs:', input_ids[0])"
      ],
      "execution_count": null,
      "outputs": [
        {
          "output_type": "stream",
          "name": "stderr",
          "text": [
            "Truncation was not explicitly activated but `max_length` is provided a specific value, please use `truncation=True` to explicitly truncate examples to max length. Defaulting to 'longest_first' truncation strategy. If you encode pairs of sequences (GLUE-style) with the tokenizer you can select this strategy more precisely by providing a specific strategy to `truncation`.\n",
            "/usr/local/lib/python3.7/dist-packages/transformers/tokenization_utils_base.py:2204: FutureWarning: The `pad_to_max_length` argument is deprecated and will be removed in a future version, use `padding=True` or `padding='longest'` to pad to the longest sequence in the batch, or use `padding='max_length'` to pad to a max length. In this case, you can give a specific length with `max_length` (e.g. `max_length=45`) or leave max_length to None to pad to the maximal input size of the model (e.g. 512 for Bert).\n",
            "  FutureWarning,\n"
          ]
        },
        {
          "output_type": "stream",
          "name": "stdout",
          "text": [
            "Original:  Our friends won't buy this analysis, let alone the next one we propose.\n",
            "Token IDs: tensor([  101,  2256,  2814,  2180,  1005,  1056,  4965,  2023,  4106,  1010,\n",
            "         2292,  2894,  1996,  2279,  2028,  2057, 16599,  1012,   102,     0,\n",
            "            0,     0,     0,     0,     0,     0,     0,     0,     0,     0,\n",
            "            0,     0,     0,     0,     0,     0,     0,     0,     0,     0,\n",
            "            0,     0,     0,     0,     0,     0,     0,     0,     0,     0,\n",
            "            0,     0,     0,     0,     0,     0,     0,     0,     0,     0,\n",
            "            0,     0,     0,     0])\n"
          ]
        }
      ]
    },
    {
      "cell_type": "markdown",
      "metadata": {
        "id": "7kMuPE8a8fDE"
      },
      "source": [
        "Разделим обучающий набор - 90% для обучения и 10% для проверки."
      ]
    },
    {
      "cell_type": "code",
      "metadata": {
        "colab": {
          "base_uri": "https://localhost:8080/"
        },
        "id": "rlqJgU_88NEb",
        "outputId": "4b9eb9bf-0adc-486b-8315-3e6dd979872e"
      },
      "source": [
        "from torch.utils.data import TensorDataset, random_split\n",
        "\n",
        "dataset = TensorDataset(input_ids, attention_masks, labels)\n",
        "\n",
        "# Создание 90-10 train-validation split.\n",
        "\n",
        "train_size = int(0.9 * len(dataset))\n",
        "val_size = len(dataset) - train_size\n",
        "\n",
        "train_dataset, val_dataset = random_split(dataset, [train_size, val_size])\n",
        "\n",
        "print('{:>5,} training samples'.format(train_size))\n",
        "print('{:>5,} validation samples'.format(val_size))"
      ],
      "execution_count": null,
      "outputs": [
        {
          "output_type": "stream",
          "name": "stdout",
          "text": [
            "7,695 training samples\n",
            "  856 validation samples\n"
          ]
        }
      ]
    },
    {
      "cell_type": "code",
      "metadata": {
        "id": "ZtIgs7Ea8xrQ"
      },
      "source": [
        "from torch.utils.data import DataLoader, RandomSampler, SequentialSampler\n",
        "\n",
        "batch_size = 32\n",
        "\n",
        "# DataLoaders \n",
        "train_dataloader = DataLoader(\n",
        "            train_dataset,  \n",
        "            sampler = RandomSampler(train_dataset), \n",
        "            batch_size = batch_size \n",
        "        )\n",
        "\n",
        "# Для validation порядок не имеет значения, поэтому просто будем читать данные последовательно\n",
        "validation_dataloader = DataLoader(\n",
        "            val_dataset, \n",
        "            sampler = SequentialSampler(val_dataset), \n",
        "            batch_size = batch_size\n",
        "        )"
      ],
      "execution_count": null,
      "outputs": []
    },
    {
      "cell_type": "markdown",
      "metadata": {
        "id": "o1bxHiMW9hK4"
      },
      "source": [
        "### **Train Classification Model**\n",
        "\n",
        "Модель **BertForSequenceClassification** - это обычная модель BERT с добавленным одним линейным слоем сверху для классификации, которую мы будем использовать в качестве классификатора предложений. Когда мы вводим входные данные, вся предварительно обученная модель BERT и дополнительный необученный уровень классификации обучаются нашей конкретной задаче."
      ]
    },
    {
      "cell_type": "code",
      "metadata": {
        "colab": {
          "base_uri": "https://localhost:8080/",
          "height": 1000,
          "referenced_widgets": [
            "bcc1d53ed1c0413ebc3102a69a4717ee",
            "f1d601cf4214491b816862a846ef7a2e",
            "37c1686ff232496fbc6a209034fc4549",
            "1e7b6198909e4e91b284484c7b6aef84",
            "8deb307a3504443a8ea2a1c640780fc9",
            "5f64d0e63f85414eba9bd678923f139d",
            "3da5018738624ace88b4d20916fa732f",
            "4ebd6354a9b14b799ff917d75a6bff56",
            "46ce7205f9224e23887e44c258a66fec",
            "4fb0bb19fffc4b74856a4678425fb254",
            "54f6f296e660463abc6b0529cdda361a"
          ]
        },
        "id": "gp4EfdjR9eEQ",
        "outputId": "7dc38b78-d743-4d55-e6f5-6044a3343c98"
      },
      "source": [
        "from transformers import BertForSequenceClassification, AdamW, BertConfig\n",
        "\n",
        "# Загрузка BertForSequenceClassification, предобученной BERT модели с одним линейным (необученным) слоем в конце для классификации\n",
        "model = BertForSequenceClassification.from_pretrained(\n",
        "    \"bert-base-uncased\", # Использовать модель с 12 слоями и uncased словарём (содержит только строчные буквы)\n",
        "    num_labels = 2, # Количество выходнов (бинарная классификация в даном случае) \n",
        "    output_attentions = False, # Модель не возвращает attentions weights\n",
        "    output_hidden_states = False, #  Модель не возвращает скрытые состояния\n",
        ")\n",
        "\n",
        "model.cuda()"
      ],
      "execution_count": null,
      "outputs": [
        {
          "output_type": "display_data",
          "data": {
            "application/vnd.jupyter.widget-view+json": {
              "model_id": "bcc1d53ed1c0413ebc3102a69a4717ee",
              "version_minor": 0,
              "version_major": 2
            },
            "text/plain": [
              "Downloading:   0%|          | 0.00/440M [00:00<?, ?B/s]"
            ]
          },
          "metadata": {}
        },
        {
          "output_type": "stream",
          "name": "stderr",
          "text": [
            "Some weights of the model checkpoint at bert-base-uncased were not used when initializing BertForSequenceClassification: ['cls.predictions.transform.dense.weight', 'cls.predictions.decoder.weight', 'cls.seq_relationship.bias', 'cls.predictions.transform.LayerNorm.bias', 'cls.seq_relationship.weight', 'cls.predictions.transform.LayerNorm.weight', 'cls.predictions.bias', 'cls.predictions.transform.dense.bias']\n",
            "- This IS expected if you are initializing BertForSequenceClassification from the checkpoint of a model trained on another task or with another architecture (e.g. initializing a BertForSequenceClassification model from a BertForPreTraining model).\n",
            "- This IS NOT expected if you are initializing BertForSequenceClassification from the checkpoint of a model that you expect to be exactly identical (initializing a BertForSequenceClassification model from a BertForSequenceClassification model).\n",
            "Some weights of BertForSequenceClassification were not initialized from the model checkpoint at bert-base-uncased and are newly initialized: ['classifier.bias', 'classifier.weight']\n",
            "You should probably TRAIN this model on a down-stream task to be able to use it for predictions and inference.\n"
          ]
        },
        {
          "output_type": "execute_result",
          "data": {
            "text/plain": [
              "BertForSequenceClassification(\n",
              "  (bert): BertModel(\n",
              "    (embeddings): BertEmbeddings(\n",
              "      (word_embeddings): Embedding(30522, 768, padding_idx=0)\n",
              "      (position_embeddings): Embedding(512, 768)\n",
              "      (token_type_embeddings): Embedding(2, 768)\n",
              "      (LayerNorm): LayerNorm((768,), eps=1e-12, elementwise_affine=True)\n",
              "      (dropout): Dropout(p=0.1, inplace=False)\n",
              "    )\n",
              "    (encoder): BertEncoder(\n",
              "      (layer): ModuleList(\n",
              "        (0): BertLayer(\n",
              "          (attention): BertAttention(\n",
              "            (self): BertSelfAttention(\n",
              "              (query): Linear(in_features=768, out_features=768, bias=True)\n",
              "              (key): Linear(in_features=768, out_features=768, bias=True)\n",
              "              (value): Linear(in_features=768, out_features=768, bias=True)\n",
              "              (dropout): Dropout(p=0.1, inplace=False)\n",
              "            )\n",
              "            (output): BertSelfOutput(\n",
              "              (dense): Linear(in_features=768, out_features=768, bias=True)\n",
              "              (LayerNorm): LayerNorm((768,), eps=1e-12, elementwise_affine=True)\n",
              "              (dropout): Dropout(p=0.1, inplace=False)\n",
              "            )\n",
              "          )\n",
              "          (intermediate): BertIntermediate(\n",
              "            (dense): Linear(in_features=768, out_features=3072, bias=True)\n",
              "          )\n",
              "          (output): BertOutput(\n",
              "            (dense): Linear(in_features=3072, out_features=768, bias=True)\n",
              "            (LayerNorm): LayerNorm((768,), eps=1e-12, elementwise_affine=True)\n",
              "            (dropout): Dropout(p=0.1, inplace=False)\n",
              "          )\n",
              "        )\n",
              "        (1): BertLayer(\n",
              "          (attention): BertAttention(\n",
              "            (self): BertSelfAttention(\n",
              "              (query): Linear(in_features=768, out_features=768, bias=True)\n",
              "              (key): Linear(in_features=768, out_features=768, bias=True)\n",
              "              (value): Linear(in_features=768, out_features=768, bias=True)\n",
              "              (dropout): Dropout(p=0.1, inplace=False)\n",
              "            )\n",
              "            (output): BertSelfOutput(\n",
              "              (dense): Linear(in_features=768, out_features=768, bias=True)\n",
              "              (LayerNorm): LayerNorm((768,), eps=1e-12, elementwise_affine=True)\n",
              "              (dropout): Dropout(p=0.1, inplace=False)\n",
              "            )\n",
              "          )\n",
              "          (intermediate): BertIntermediate(\n",
              "            (dense): Linear(in_features=768, out_features=3072, bias=True)\n",
              "          )\n",
              "          (output): BertOutput(\n",
              "            (dense): Linear(in_features=3072, out_features=768, bias=True)\n",
              "            (LayerNorm): LayerNorm((768,), eps=1e-12, elementwise_affine=True)\n",
              "            (dropout): Dropout(p=0.1, inplace=False)\n",
              "          )\n",
              "        )\n",
              "        (2): BertLayer(\n",
              "          (attention): BertAttention(\n",
              "            (self): BertSelfAttention(\n",
              "              (query): Linear(in_features=768, out_features=768, bias=True)\n",
              "              (key): Linear(in_features=768, out_features=768, bias=True)\n",
              "              (value): Linear(in_features=768, out_features=768, bias=True)\n",
              "              (dropout): Dropout(p=0.1, inplace=False)\n",
              "            )\n",
              "            (output): BertSelfOutput(\n",
              "              (dense): Linear(in_features=768, out_features=768, bias=True)\n",
              "              (LayerNorm): LayerNorm((768,), eps=1e-12, elementwise_affine=True)\n",
              "              (dropout): Dropout(p=0.1, inplace=False)\n",
              "            )\n",
              "          )\n",
              "          (intermediate): BertIntermediate(\n",
              "            (dense): Linear(in_features=768, out_features=3072, bias=True)\n",
              "          )\n",
              "          (output): BertOutput(\n",
              "            (dense): Linear(in_features=3072, out_features=768, bias=True)\n",
              "            (LayerNorm): LayerNorm((768,), eps=1e-12, elementwise_affine=True)\n",
              "            (dropout): Dropout(p=0.1, inplace=False)\n",
              "          )\n",
              "        )\n",
              "        (3): BertLayer(\n",
              "          (attention): BertAttention(\n",
              "            (self): BertSelfAttention(\n",
              "              (query): Linear(in_features=768, out_features=768, bias=True)\n",
              "              (key): Linear(in_features=768, out_features=768, bias=True)\n",
              "              (value): Linear(in_features=768, out_features=768, bias=True)\n",
              "              (dropout): Dropout(p=0.1, inplace=False)\n",
              "            )\n",
              "            (output): BertSelfOutput(\n",
              "              (dense): Linear(in_features=768, out_features=768, bias=True)\n",
              "              (LayerNorm): LayerNorm((768,), eps=1e-12, elementwise_affine=True)\n",
              "              (dropout): Dropout(p=0.1, inplace=False)\n",
              "            )\n",
              "          )\n",
              "          (intermediate): BertIntermediate(\n",
              "            (dense): Linear(in_features=768, out_features=3072, bias=True)\n",
              "          )\n",
              "          (output): BertOutput(\n",
              "            (dense): Linear(in_features=3072, out_features=768, bias=True)\n",
              "            (LayerNorm): LayerNorm((768,), eps=1e-12, elementwise_affine=True)\n",
              "            (dropout): Dropout(p=0.1, inplace=False)\n",
              "          )\n",
              "        )\n",
              "        (4): BertLayer(\n",
              "          (attention): BertAttention(\n",
              "            (self): BertSelfAttention(\n",
              "              (query): Linear(in_features=768, out_features=768, bias=True)\n",
              "              (key): Linear(in_features=768, out_features=768, bias=True)\n",
              "              (value): Linear(in_features=768, out_features=768, bias=True)\n",
              "              (dropout): Dropout(p=0.1, inplace=False)\n",
              "            )\n",
              "            (output): BertSelfOutput(\n",
              "              (dense): Linear(in_features=768, out_features=768, bias=True)\n",
              "              (LayerNorm): LayerNorm((768,), eps=1e-12, elementwise_affine=True)\n",
              "              (dropout): Dropout(p=0.1, inplace=False)\n",
              "            )\n",
              "          )\n",
              "          (intermediate): BertIntermediate(\n",
              "            (dense): Linear(in_features=768, out_features=3072, bias=True)\n",
              "          )\n",
              "          (output): BertOutput(\n",
              "            (dense): Linear(in_features=3072, out_features=768, bias=True)\n",
              "            (LayerNorm): LayerNorm((768,), eps=1e-12, elementwise_affine=True)\n",
              "            (dropout): Dropout(p=0.1, inplace=False)\n",
              "          )\n",
              "        )\n",
              "        (5): BertLayer(\n",
              "          (attention): BertAttention(\n",
              "            (self): BertSelfAttention(\n",
              "              (query): Linear(in_features=768, out_features=768, bias=True)\n",
              "              (key): Linear(in_features=768, out_features=768, bias=True)\n",
              "              (value): Linear(in_features=768, out_features=768, bias=True)\n",
              "              (dropout): Dropout(p=0.1, inplace=False)\n",
              "            )\n",
              "            (output): BertSelfOutput(\n",
              "              (dense): Linear(in_features=768, out_features=768, bias=True)\n",
              "              (LayerNorm): LayerNorm((768,), eps=1e-12, elementwise_affine=True)\n",
              "              (dropout): Dropout(p=0.1, inplace=False)\n",
              "            )\n",
              "          )\n",
              "          (intermediate): BertIntermediate(\n",
              "            (dense): Linear(in_features=768, out_features=3072, bias=True)\n",
              "          )\n",
              "          (output): BertOutput(\n",
              "            (dense): Linear(in_features=3072, out_features=768, bias=True)\n",
              "            (LayerNorm): LayerNorm((768,), eps=1e-12, elementwise_affine=True)\n",
              "            (dropout): Dropout(p=0.1, inplace=False)\n",
              "          )\n",
              "        )\n",
              "        (6): BertLayer(\n",
              "          (attention): BertAttention(\n",
              "            (self): BertSelfAttention(\n",
              "              (query): Linear(in_features=768, out_features=768, bias=True)\n",
              "              (key): Linear(in_features=768, out_features=768, bias=True)\n",
              "              (value): Linear(in_features=768, out_features=768, bias=True)\n",
              "              (dropout): Dropout(p=0.1, inplace=False)\n",
              "            )\n",
              "            (output): BertSelfOutput(\n",
              "              (dense): Linear(in_features=768, out_features=768, bias=True)\n",
              "              (LayerNorm): LayerNorm((768,), eps=1e-12, elementwise_affine=True)\n",
              "              (dropout): Dropout(p=0.1, inplace=False)\n",
              "            )\n",
              "          )\n",
              "          (intermediate): BertIntermediate(\n",
              "            (dense): Linear(in_features=768, out_features=3072, bias=True)\n",
              "          )\n",
              "          (output): BertOutput(\n",
              "            (dense): Linear(in_features=3072, out_features=768, bias=True)\n",
              "            (LayerNorm): LayerNorm((768,), eps=1e-12, elementwise_affine=True)\n",
              "            (dropout): Dropout(p=0.1, inplace=False)\n",
              "          )\n",
              "        )\n",
              "        (7): BertLayer(\n",
              "          (attention): BertAttention(\n",
              "            (self): BertSelfAttention(\n",
              "              (query): Linear(in_features=768, out_features=768, bias=True)\n",
              "              (key): Linear(in_features=768, out_features=768, bias=True)\n",
              "              (value): Linear(in_features=768, out_features=768, bias=True)\n",
              "              (dropout): Dropout(p=0.1, inplace=False)\n",
              "            )\n",
              "            (output): BertSelfOutput(\n",
              "              (dense): Linear(in_features=768, out_features=768, bias=True)\n",
              "              (LayerNorm): LayerNorm((768,), eps=1e-12, elementwise_affine=True)\n",
              "              (dropout): Dropout(p=0.1, inplace=False)\n",
              "            )\n",
              "          )\n",
              "          (intermediate): BertIntermediate(\n",
              "            (dense): Linear(in_features=768, out_features=3072, bias=True)\n",
              "          )\n",
              "          (output): BertOutput(\n",
              "            (dense): Linear(in_features=3072, out_features=768, bias=True)\n",
              "            (LayerNorm): LayerNorm((768,), eps=1e-12, elementwise_affine=True)\n",
              "            (dropout): Dropout(p=0.1, inplace=False)\n",
              "          )\n",
              "        )\n",
              "        (8): BertLayer(\n",
              "          (attention): BertAttention(\n",
              "            (self): BertSelfAttention(\n",
              "              (query): Linear(in_features=768, out_features=768, bias=True)\n",
              "              (key): Linear(in_features=768, out_features=768, bias=True)\n",
              "              (value): Linear(in_features=768, out_features=768, bias=True)\n",
              "              (dropout): Dropout(p=0.1, inplace=False)\n",
              "            )\n",
              "            (output): BertSelfOutput(\n",
              "              (dense): Linear(in_features=768, out_features=768, bias=True)\n",
              "              (LayerNorm): LayerNorm((768,), eps=1e-12, elementwise_affine=True)\n",
              "              (dropout): Dropout(p=0.1, inplace=False)\n",
              "            )\n",
              "          )\n",
              "          (intermediate): BertIntermediate(\n",
              "            (dense): Linear(in_features=768, out_features=3072, bias=True)\n",
              "          )\n",
              "          (output): BertOutput(\n",
              "            (dense): Linear(in_features=3072, out_features=768, bias=True)\n",
              "            (LayerNorm): LayerNorm((768,), eps=1e-12, elementwise_affine=True)\n",
              "            (dropout): Dropout(p=0.1, inplace=False)\n",
              "          )\n",
              "        )\n",
              "        (9): BertLayer(\n",
              "          (attention): BertAttention(\n",
              "            (self): BertSelfAttention(\n",
              "              (query): Linear(in_features=768, out_features=768, bias=True)\n",
              "              (key): Linear(in_features=768, out_features=768, bias=True)\n",
              "              (value): Linear(in_features=768, out_features=768, bias=True)\n",
              "              (dropout): Dropout(p=0.1, inplace=False)\n",
              "            )\n",
              "            (output): BertSelfOutput(\n",
              "              (dense): Linear(in_features=768, out_features=768, bias=True)\n",
              "              (LayerNorm): LayerNorm((768,), eps=1e-12, elementwise_affine=True)\n",
              "              (dropout): Dropout(p=0.1, inplace=False)\n",
              "            )\n",
              "          )\n",
              "          (intermediate): BertIntermediate(\n",
              "            (dense): Linear(in_features=768, out_features=3072, bias=True)\n",
              "          )\n",
              "          (output): BertOutput(\n",
              "            (dense): Linear(in_features=3072, out_features=768, bias=True)\n",
              "            (LayerNorm): LayerNorm((768,), eps=1e-12, elementwise_affine=True)\n",
              "            (dropout): Dropout(p=0.1, inplace=False)\n",
              "          )\n",
              "        )\n",
              "        (10): BertLayer(\n",
              "          (attention): BertAttention(\n",
              "            (self): BertSelfAttention(\n",
              "              (query): Linear(in_features=768, out_features=768, bias=True)\n",
              "              (key): Linear(in_features=768, out_features=768, bias=True)\n",
              "              (value): Linear(in_features=768, out_features=768, bias=True)\n",
              "              (dropout): Dropout(p=0.1, inplace=False)\n",
              "            )\n",
              "            (output): BertSelfOutput(\n",
              "              (dense): Linear(in_features=768, out_features=768, bias=True)\n",
              "              (LayerNorm): LayerNorm((768,), eps=1e-12, elementwise_affine=True)\n",
              "              (dropout): Dropout(p=0.1, inplace=False)\n",
              "            )\n",
              "          )\n",
              "          (intermediate): BertIntermediate(\n",
              "            (dense): Linear(in_features=768, out_features=3072, bias=True)\n",
              "          )\n",
              "          (output): BertOutput(\n",
              "            (dense): Linear(in_features=3072, out_features=768, bias=True)\n",
              "            (LayerNorm): LayerNorm((768,), eps=1e-12, elementwise_affine=True)\n",
              "            (dropout): Dropout(p=0.1, inplace=False)\n",
              "          )\n",
              "        )\n",
              "        (11): BertLayer(\n",
              "          (attention): BertAttention(\n",
              "            (self): BertSelfAttention(\n",
              "              (query): Linear(in_features=768, out_features=768, bias=True)\n",
              "              (key): Linear(in_features=768, out_features=768, bias=True)\n",
              "              (value): Linear(in_features=768, out_features=768, bias=True)\n",
              "              (dropout): Dropout(p=0.1, inplace=False)\n",
              "            )\n",
              "            (output): BertSelfOutput(\n",
              "              (dense): Linear(in_features=768, out_features=768, bias=True)\n",
              "              (LayerNorm): LayerNorm((768,), eps=1e-12, elementwise_affine=True)\n",
              "              (dropout): Dropout(p=0.1, inplace=False)\n",
              "            )\n",
              "          )\n",
              "          (intermediate): BertIntermediate(\n",
              "            (dense): Linear(in_features=768, out_features=3072, bias=True)\n",
              "          )\n",
              "          (output): BertOutput(\n",
              "            (dense): Linear(in_features=3072, out_features=768, bias=True)\n",
              "            (LayerNorm): LayerNorm((768,), eps=1e-12, elementwise_affine=True)\n",
              "            (dropout): Dropout(p=0.1, inplace=False)\n",
              "          )\n",
              "        )\n",
              "      )\n",
              "    )\n",
              "    (pooler): BertPooler(\n",
              "      (dense): Linear(in_features=768, out_features=768, bias=True)\n",
              "      (activation): Tanh()\n",
              "    )\n",
              "  )\n",
              "  (dropout): Dropout(p=0.1, inplace=False)\n",
              "  (classifier): Linear(in_features=768, out_features=2, bias=True)\n",
              ")"
            ]
          },
          "metadata": {},
          "execution_count": 18
        }
      ]
    },
    {
      "cell_type": "code",
      "metadata": {
        "colab": {
          "base_uri": "https://localhost:8080/"
        },
        "id": "YqvkmBsz_QSc",
        "outputId": "9c337066-0caa-4b7c-f983-40f6f0589229"
      },
      "source": [
        "params = list(model.named_parameters())\n",
        "\n",
        "print('The BERT model имеет {:} различных параметра.\\n'.format(len(params)))\n",
        "\n",
        "print('==== Embedding Layer ====\\n')\n",
        "\n",
        "for p in params[0:5]:\n",
        "    print(\"{:<55} {:>12}\".format(p[0], str(tuple(p[1].size()))))\n",
        "\n",
        "print('\\n==== First Transformer ====\\n')\n",
        "\n",
        "for p in params[5:21]:\n",
        "    print(\"{:<55} {:>12}\".format(p[0], str(tuple(p[1].size()))))\n",
        "\n",
        "print('\\n==== Output Layer ====\\n')\n",
        "\n",
        "for p in params[-4:]:\n",
        "    print(\"{:<55} {:>12}\".format(p[0], str(tuple(p[1].size()))))"
      ],
      "execution_count": null,
      "outputs": [
        {
          "output_type": "stream",
          "name": "stdout",
          "text": [
            "The BERT model has 201 different named parameters.\n",
            "\n",
            "==== Embedding Layer ====\n",
            "\n",
            "bert.embeddings.word_embeddings.weight                  (30522, 768)\n",
            "bert.embeddings.position_embeddings.weight                (512, 768)\n",
            "bert.embeddings.token_type_embeddings.weight                (2, 768)\n",
            "bert.embeddings.LayerNorm.weight                              (768,)\n",
            "bert.embeddings.LayerNorm.bias                                (768,)\n",
            "\n",
            "==== First Transformer ====\n",
            "\n",
            "bert.encoder.layer.0.attention.self.query.weight          (768, 768)\n",
            "bert.encoder.layer.0.attention.self.query.bias                (768,)\n",
            "bert.encoder.layer.0.attention.self.key.weight            (768, 768)\n",
            "bert.encoder.layer.0.attention.self.key.bias                  (768,)\n",
            "bert.encoder.layer.0.attention.self.value.weight          (768, 768)\n",
            "bert.encoder.layer.0.attention.self.value.bias                (768,)\n",
            "bert.encoder.layer.0.attention.output.dense.weight        (768, 768)\n",
            "bert.encoder.layer.0.attention.output.dense.bias              (768,)\n",
            "bert.encoder.layer.0.attention.output.LayerNorm.weight        (768,)\n",
            "bert.encoder.layer.0.attention.output.LayerNorm.bias          (768,)\n",
            "bert.encoder.layer.0.intermediate.dense.weight           (3072, 768)\n",
            "bert.encoder.layer.0.intermediate.dense.bias                 (3072,)\n",
            "bert.encoder.layer.0.output.dense.weight                 (768, 3072)\n",
            "bert.encoder.layer.0.output.dense.bias                        (768,)\n",
            "bert.encoder.layer.0.output.LayerNorm.weight                  (768,)\n",
            "bert.encoder.layer.0.output.LayerNorm.bias                    (768,)\n",
            "\n",
            "==== Output Layer ====\n",
            "\n",
            "bert.pooler.dense.weight                                  (768, 768)\n",
            "bert.pooler.dense.bias                                        (768,)\n",
            "classifier.weight                                           (2, 768)\n",
            "classifier.bias                                                 (2,)\n"
          ]
        }
      ]
    },
    {
      "cell_type": "code",
      "metadata": {
        "id": "0k7n9VPq_dnj"
      },
      "source": [
        "# определение гиперпараметров\n",
        "optimizer = AdamW(model.parameters(),\n",
        "                  lr = 2e-5, \n",
        "                  eps = 1e-8 \n",
        "                )\n",
        "from transformers import get_linear_schedule_with_warmup\n",
        "\n",
        "# Авторы BERT aрекомендуют от 2 до 4 эпох обучения  2 and 4. \n",
        "epochs = 4\n",
        "\n",
        "# Общее количество этапов обучения - [number of batches] x [number of epochs]\n",
        "total_steps = len(train_dataloader) * epochs\n",
        "\n",
        "# Адаптивный шаг обучения\n",
        "scheduler = get_linear_schedule_with_warmup(optimizer, \n",
        "                                            num_warmup_steps = 0, \n",
        "                                            num_training_steps = total_steps)"
      ],
      "execution_count": null,
      "outputs": []
    },
    {
      "cell_type": "code",
      "metadata": {
        "id": "2kAG07IdB2QM"
      },
      "source": [
        "import numpy as np\n",
        "\n",
        "# Функция для вычисления acuracy (predictions vs labels)\n",
        "def flat_accuracy(preds, labels):\n",
        "    pred_flat = np.argmax(preds, axis=1).flatten()\n",
        "    labels_flat = labels.flatten()\n",
        "    return np.sum(pred_flat == labels_flat) / len(labels_flat)"
      ],
      "execution_count": null,
      "outputs": []
    },
    {
      "cell_type": "code",
      "metadata": {
        "id": "um8ZEs_RCHF9"
      },
      "source": [
        "import time\n",
        "import datetime\n",
        "\n",
        "# Вспомогательная функция: приводит время в с к формату hh:mm:ss\n",
        "def format_time(elapsed):\n",
        "  \n",
        "    # Round to the nearest second.\n",
        "    elapsed_rounded = int(round((elapsed)))\n",
        "    \n",
        "    # Format as hh:mm:ss\n",
        "    return str(datetime.timedelta(seconds=elapsed_rounded))"
      ],
      "execution_count": null,
      "outputs": []
    },
    {
      "cell_type": "code",
      "metadata": {
        "colab": {
          "base_uri": "https://localhost:8080/"
        },
        "id": "LY2ihodcCarn",
        "outputId": "ff4f9a2b-5256-467a-e0b8-60d603b874a3"
      },
      "source": [
        "import random\n",
        "\n",
        "seed_val = 42\n",
        "\n",
        "random.seed(seed_val)\n",
        "np.random.seed(seed_val)\n",
        "torch.manual_seed(seed_val)\n",
        "torch.cuda.manual_seed_all(seed_val)\n",
        "\n",
        "# training and validation loss, validation accuracy, and timings.\n",
        "training_stats = []\n",
        "\n",
        "# Измерение общего времени обучения\n",
        "total_t0 = time.time()\n",
        "\n",
        "for epoch_i in range(0, epochs):\n",
        "    \n",
        "    # ========================================\n",
        "    #               Training\n",
        "    # ========================================\n",
        "    \n",
        "\n",
        "    print(\"\")\n",
        "    print('======== Epoch {:} / {:} ========'.format(epoch_i + 1, epochs))\n",
        "    print('Training...')\n",
        "\n",
        "    t0 = time.time()\n",
        "    total_train_loss = 0\n",
        "    model.train()\n",
        "\n",
        "    for step, batch in enumerate(train_dataloader):\n",
        "\n",
        "        # Вывод результата каждые every 40 batches.\n",
        "        if step % 40 == 0 and not step == 0:\n",
        "            elapsed = format_time(time.time() - t0)\n",
        "            print('  Batch {:>5,}  of  {:>5,}.    Elapsed: {:}.'.format(step, len(train_dataloader), elapsed))\n",
        "\n",
        "        b_input_ids = batch[0].to(device)\n",
        "        b_input_mask = batch[1].to(device)\n",
        "        b_labels = batch[2].to(device)\n",
        "        model.zero_grad()        \n",
        "        result = model(b_input_ids, \n",
        "                             token_type_ids=None, \n",
        "                             attention_mask=b_input_mask, \n",
        "                             labels=b_labels)\n",
        "        loss = result.loss\n",
        "        logits = result.logits\n",
        "        total_train_loss += loss.item()\n",
        "        loss.backward()\n",
        "        # Обрезать норму градиентов до 1.0.\n",
        "         # Это помогает предотвратить проблему \"взрывающихся градиентов\".\n",
        "        torch.nn.utils.clip_grad_norm_(model.parameters(), 1.0)\n",
        "        optimizer.step()\n",
        "        # Обновление шага обучения\n",
        "        scheduler.step()\n",
        "\n",
        "    # Вычисление среднего loss на всех the batches.\n",
        "    avg_train_loss = total_train_loss / len(train_dataloader)            \n",
        "    \n",
        "    # Измерения длительности эпохи\n",
        "    training_time = format_time(time.time() - t0)\n",
        "\n",
        "    print(\"\")\n",
        "    print(\"  Average training loss: {0:.2f}\".format(avg_train_loss))\n",
        "    print(\"  Training epcoh took: {:}\".format(training_time))\n",
        "        \n",
        "    # ========================================\n",
        "    #               Validation\n",
        "    # ========================================\n",
        "\n",
        "    print(\"\")\n",
        "    print(\"Running Validation...\")\n",
        "\n",
        "    t0 = time.time()\n",
        "    model.eval()\n",
        "    total_eval_accuracy = 0\n",
        "    total_eval_loss = 0\n",
        "    nb_eval_steps = 0\n",
        "\n",
        "    for batch in validation_dataloader:\n",
        "        b_input_ids = batch[0].to(device)\n",
        "        b_input_mask = batch[1].to(device)\n",
        "        b_labels = batch[2].to(device)\n",
        "        with torch.no_grad():        \n",
        "            result = model(b_input_ids, \n",
        "                                   token_type_ids=None, \n",
        "                                   attention_mask=b_input_mask,\n",
        "                                   labels=b_labels)\n",
        "        loss = result.loss\n",
        "        logits = result.logits\n",
        "        total_eval_loss += loss.item()\n",
        "        logits = logits.detach().cpu().numpy()\n",
        "        label_ids = b_labels.to('cpu').numpy()\n",
        "        total_eval_accuracy += flat_accuracy(logits, label_ids)\n",
        "\n",
        "    avg_val_accuracy = total_eval_accuracy / len(validation_dataloader)\n",
        "    print(\"  Accuracy: {0:.2f}\".format(avg_val_accuracy))\n",
        "\n",
        "    avg_val_loss = total_eval_loss / len(validation_dataloader)\n",
        "\n",
        "    validation_time = format_time(time.time() - t0)\n",
        "    \n",
        "    print(\"  Validation Loss: {0:.2f}\".format(avg_val_loss))\n",
        "    print(\"  Validation took: {:}\".format(validation_time))\n",
        "\n",
        "    # Все статистики за эпоху\n",
        "    training_stats.append(\n",
        "        {\n",
        "            'epoch': epoch_i + 1,\n",
        "            'Training Loss': avg_train_loss,\n",
        "            'Valid. Loss': avg_val_loss,\n",
        "            'Valid. Accur.': avg_val_accuracy,\n",
        "            'Training Time': training_time,\n",
        "            'Validation Time': validation_time\n",
        "        }\n",
        "    )\n",
        "\n",
        "print(\"\")\n",
        "print(\"Training complete!\")\n",
        "\n",
        "print(\"Total training took {:} (h:mm:ss)\".format(format_time(time.time()-total_t0)))"
      ],
      "execution_count": null,
      "outputs": [
        {
          "output_type": "stream",
          "name": "stdout",
          "text": [
            "\n",
            "======== Epoch 1 / 4 ========\n",
            "Training...\n",
            "  Batch    40  of    241.    Elapsed: 0:00:26.\n",
            "  Batch    80  of    241.    Elapsed: 0:00:53.\n",
            "  Batch   120  of    241.    Elapsed: 0:01:19.\n",
            "  Batch   160  of    241.    Elapsed: 0:01:46.\n",
            "  Batch   200  of    241.    Elapsed: 0:02:12.\n",
            "  Batch   240  of    241.    Elapsed: 0:02:39.\n",
            "\n",
            "  Average training loss: 0.49\n",
            "  Training epcoh took: 0:02:39\n",
            "\n",
            "Running Validation...\n",
            "  Accuracy: 0.80\n",
            "  Validation Loss: 0.46\n",
            "  Validation took: 0:00:06\n",
            "\n",
            "======== Epoch 2 / 4 ========\n",
            "Training...\n",
            "  Batch    40  of    241.    Elapsed: 0:00:26.\n",
            "  Batch    80  of    241.    Elapsed: 0:00:53.\n",
            "  Batch   120  of    241.    Elapsed: 0:01:19.\n",
            "  Batch   160  of    241.    Elapsed: 0:01:46.\n",
            "  Batch   200  of    241.    Elapsed: 0:02:12.\n",
            "  Batch   240  of    241.    Elapsed: 0:02:39.\n",
            "\n",
            "  Average training loss: 0.31\n",
            "  Training epcoh took: 0:02:39\n",
            "\n",
            "Running Validation...\n",
            "  Accuracy: 0.81\n",
            "  Validation Loss: 0.51\n",
            "  Validation took: 0:00:06\n",
            "\n",
            "======== Epoch 3 / 4 ========\n",
            "Training...\n",
            "  Batch    40  of    241.    Elapsed: 0:00:26.\n",
            "  Batch    80  of    241.    Elapsed: 0:00:53.\n",
            "  Batch   120  of    241.    Elapsed: 0:01:19.\n",
            "  Batch   160  of    241.    Elapsed: 0:01:46.\n",
            "  Batch   200  of    241.    Elapsed: 0:02:12.\n",
            "  Batch   240  of    241.    Elapsed: 0:02:39.\n",
            "\n",
            "  Average training loss: 0.20\n",
            "  Training epcoh took: 0:02:39\n",
            "\n",
            "Running Validation...\n",
            "  Accuracy: 0.83\n",
            "  Validation Loss: 0.53\n",
            "  Validation took: 0:00:06\n",
            "\n",
            "======== Epoch 4 / 4 ========\n",
            "Training...\n",
            "  Batch    40  of    241.    Elapsed: 0:00:26.\n",
            "  Batch    80  of    241.    Elapsed: 0:00:53.\n",
            "  Batch   120  of    241.    Elapsed: 0:01:19.\n",
            "  Batch   160  of    241.    Elapsed: 0:01:46.\n",
            "  Batch   200  of    241.    Elapsed: 0:02:12.\n",
            "  Batch   240  of    241.    Elapsed: 0:02:39.\n",
            "\n",
            "  Average training loss: 0.14\n",
            "  Training epcoh took: 0:02:39\n",
            "\n",
            "Running Validation...\n",
            "  Accuracy: 0.83\n",
            "  Validation Loss: 0.62\n",
            "  Validation took: 0:00:06\n",
            "\n",
            "Training complete!\n",
            "Total training took 0:11:00 (h:mm:ss)\n"
          ]
        }
      ]
    },
    {
      "cell_type": "code",
      "metadata": {
        "colab": {
          "base_uri": "https://localhost:8080/",
          "height": 205
        },
        "id": "3A-16GFZF96V",
        "outputId": "6c49bbeb-e9ab-4581-a3a6-19d522bc32c5"
      },
      "source": [
        "pd.set_option('precision', 2)\n",
        "df_stats = pd.DataFrame(data=training_stats)\n",
        "df_stats = df_stats.set_index('epoch')\n",
        "df_stats"
      ],
      "execution_count": null,
      "outputs": [
        {
          "output_type": "execute_result",
          "data": {
            "text/html": [
              "<div>\n",
              "<style scoped>\n",
              "    .dataframe tbody tr th:only-of-type {\n",
              "        vertical-align: middle;\n",
              "    }\n",
              "\n",
              "    .dataframe tbody tr th {\n",
              "        vertical-align: top;\n",
              "    }\n",
              "\n",
              "    .dataframe thead th {\n",
              "        text-align: right;\n",
              "    }\n",
              "</style>\n",
              "<table border=\"1\" class=\"dataframe\">\n",
              "  <thead>\n",
              "    <tr style=\"text-align: right;\">\n",
              "      <th></th>\n",
              "      <th>Training Loss</th>\n",
              "      <th>Valid. Loss</th>\n",
              "      <th>Valid. Accur.</th>\n",
              "      <th>Training Time</th>\n",
              "      <th>Validation Time</th>\n",
              "    </tr>\n",
              "    <tr>\n",
              "      <th>epoch</th>\n",
              "      <th></th>\n",
              "      <th></th>\n",
              "      <th></th>\n",
              "      <th></th>\n",
              "      <th></th>\n",
              "    </tr>\n",
              "  </thead>\n",
              "  <tbody>\n",
              "    <tr>\n",
              "      <th>1</th>\n",
              "      <td>0.49</td>\n",
              "      <td>0.46</td>\n",
              "      <td>0.80</td>\n",
              "      <td>0:02:39</td>\n",
              "      <td>0:00:06</td>\n",
              "    </tr>\n",
              "    <tr>\n",
              "      <th>2</th>\n",
              "      <td>0.31</td>\n",
              "      <td>0.51</td>\n",
              "      <td>0.81</td>\n",
              "      <td>0:02:39</td>\n",
              "      <td>0:00:06</td>\n",
              "    </tr>\n",
              "    <tr>\n",
              "      <th>3</th>\n",
              "      <td>0.20</td>\n",
              "      <td>0.53</td>\n",
              "      <td>0.83</td>\n",
              "      <td>0:02:39</td>\n",
              "      <td>0:00:06</td>\n",
              "    </tr>\n",
              "    <tr>\n",
              "      <th>4</th>\n",
              "      <td>0.14</td>\n",
              "      <td>0.62</td>\n",
              "      <td>0.83</td>\n",
              "      <td>0:02:39</td>\n",
              "      <td>0:00:06</td>\n",
              "    </tr>\n",
              "  </tbody>\n",
              "</table>\n",
              "</div>"
            ],
            "text/plain": [
              "       Training Loss  Valid. Loss  Valid. Accur. Training Time Validation Time\n",
              "epoch                                                                         \n",
              "1               0.49         0.46           0.80       0:02:39         0:00:06\n",
              "2               0.31         0.51           0.81       0:02:39         0:00:06\n",
              "3               0.20         0.53           0.83       0:02:39         0:00:06\n",
              "4               0.14         0.62           0.83       0:02:39         0:00:06"
            ]
          },
          "metadata": {},
          "execution_count": 30
        }
      ]
    },
    {
      "cell_type": "markdown",
      "metadata": {
        "id": "5GNTTRh4N5_o"
      },
      "source": [
        "Потери в обучении уменьшаются с каждой эпохой, потеря валидации увеличивается. Это говорит о том, что модель обучается слишком долго и не соответствует обучающим данным."
      ]
    },
    {
      "cell_type": "markdown",
      "metadata": {
        "id": "T5Du1a1qOYBN"
      },
      "source": [
        "\n",
        "Если мы предсказываем правильный ответ, но с меньшей уверенностью, то validation  loss уловит это, а accuracy - нет.\n",
        "\n"
      ]
    },
    {
      "cell_type": "code",
      "metadata": {
        "colab": {
          "base_uri": "https://localhost:8080/",
          "height": 514
        },
        "id": "_2ESrDEYNt8R",
        "outputId": "66d47b6c-6153-4b5b-8601-5e58fea29f14"
      },
      "source": [
        "import seaborn as sns\n",
        "import matplotlib.pyplot as plt\n",
        "\n",
        "sns.set(style='darkgrid')\n",
        "sns.set(font_scale=1.5)\n",
        "plt.rcParams[\"figure.figsize\"] = (12,6)\n",
        "plt.plot(df_stats['Training Loss'], 'b-o', label=\"Training\")\n",
        "plt.plot(df_stats['Valid. Loss'], 'g-o', label=\"Validation\")\n",
        "plt.title(\"Training & Validation Loss\")\n",
        "plt.xlabel(\"Epoch\")\n",
        "plt.ylabel(\"Loss\")\n",
        "plt.legend()\n",
        "plt.xticks([1, 2, 3, 4])"
      ],
      "execution_count": null,
      "outputs": [
        {
          "output_type": "execute_result",
          "data": {
            "text/plain": [
              "([<matplotlib.axis.XTick at 0x7fc7f1201150>,\n",
              "  <matplotlib.axis.XTick at 0x7fc7f11b82d0>,\n",
              "  <matplotlib.axis.XTick at 0x7fc7f11b4e50>,\n",
              "  <matplotlib.axis.XTick at 0x7fc7f110f4d0>],\n",
              " <a list of 4 Text major ticklabel objects>)"
            ]
          },
          "metadata": {},
          "execution_count": 32
        },
        {
          "output_type": "display_data",
          "data": {
            "image/png": "[encoded data removed]",
            "text/plain": [
              "<Figure size 864x432 with 1 Axes>"
            ]
          },
          "metadata": {}
        }
      ]
    },
    {
      "cell_type": "markdown",
      "metadata": {
        "id": "IZ4fnAMBPXdw"
      },
      "source": [
        "### **Performance On Test Set**\n",
        "\n",
        "Метрика качества -  Matthew’s correlation coefficient (+1 - лучший результат, а -1 - худший результат. )"
      ]
    },
    {
      "cell_type": "code",
      "metadata": {
        "colab": {
          "base_uri": "https://localhost:8080/"
        },
        "id": "RswdgAwdOv5M",
        "outputId": "c1037eea-4b26-465d-9bd8-92392cd5068d"
      },
      "source": [
        "df = pd.read_csv(\"./cola_public/raw/out_of_domain_dev.tsv\", delimiter='\\t', header=None, names=['sentence_source', 'label', 'label_notes', 'sentence'])\n",
        "\n",
        "print('Количество предложений в тестовом наборе: {:,}\\n'.format(df.shape[0]))\n",
        "\n",
        "sentences = df.sentence.values\n",
        "labels = df.label.values\n",
        "input_ids = []\n",
        "attention_masks = []\n",
        "for sent in sentences:\n",
        "    encoded_dict = tokenizer.encode_plus(\n",
        "                        sent,                      \n",
        "                        add_special_tokens = True, \n",
        "                        max_length = 64,           \n",
        "                        pad_to_max_length = True,\n",
        "                        return_attention_mask = True, \n",
        "                        return_tensors = 'pt',   \n",
        "                   )\n",
        "       \n",
        "    input_ids.append(encoded_dict['input_ids'])\n",
        "    attention_masks.append(encoded_dict['attention_mask'])\n",
        "\n",
        "input_ids = torch.cat(input_ids, dim=0)\n",
        "attention_masks = torch.cat(attention_masks, dim=0)\n",
        "labels = torch.tensor(labels)\n",
        "\n",
        "batch_size = 32  \n",
        "prediction_data = TensorDataset(input_ids, attention_masks, labels)\n",
        "prediction_sampler = SequentialSampler(prediction_data)\n",
        "prediction_dataloader = DataLoader(prediction_data, sampler=prediction_sampler, batch_size=batch_size)"
      ],
      "execution_count": null,
      "outputs": [
        {
          "output_type": "stream",
          "name": "stdout",
          "text": [
            "Количество предложений в тестовом наборе: 516\n",
            "\n"
          ]
        },
        {
          "output_type": "stream",
          "name": "stderr",
          "text": [
            "/usr/local/lib/python3.7/dist-packages/transformers/tokenization_utils_base.py:2204: FutureWarning: The `pad_to_max_length` argument is deprecated and will be removed in a future version, use `padding=True` or `padding='longest'` to pad to the longest sequence in the batch, or use `padding='max_length'` to pad to a max length. In this case, you can give a specific length with `max_length` (e.g. `max_length=45`) or leave max_length to None to pad to the maximal input size of the model (e.g. 512 for Bert).\n",
            "  FutureWarning,\n"
          ]
        }
      ]
    },
    {
      "cell_type": "code",
      "metadata": {
        "id": "CLt3JeMsP8gI"
      },
      "source": [
        "# Предсказания для тестового набора данных\n",
        "model.eval()\n",
        "predictions , true_labels = [], []\n",
        "\n",
        "# Predict \n",
        "for batch in prediction_dataloader:\n",
        "  batch = tuple(t.to(device) for t in batch)\n",
        "  b_input_ids, b_input_mask, b_labels = batch\n",
        "  with torch.no_grad():\n",
        "      outputs = model(b_input_ids, token_type_ids=None, \n",
        "                      attention_mask=b_input_mask)\n",
        "\n",
        "  logits = outputs[0]\n",
        "  logits = logits.detach().cpu().numpy()\n",
        "  label_ids = b_labels.to('cpu').numpy()\n",
        "  predictions.append(logits)\n",
        "  true_labels.append(label_ids)"
      ],
      "execution_count": null,
      "outputs": []
    },
    {
      "cell_type": "code",
      "metadata": {
        "colab": {
          "base_uri": "https://localhost:8080/"
        },
        "id": "p7vmAPAiQ1Uh",
        "outputId": "afd50e0f-7046-42f0-9223-a1e2c167e0f6"
      },
      "source": [
        "print('Positive samples: %d of %d (%.2f%%)' % (df.label.sum(), len(df.label), (df.label.sum() / len(df.label) * 100.0)))"
      ],
      "execution_count": null,
      "outputs": [
        {
          "output_type": "stream",
          "name": "stdout",
          "text": [
            "Positive samples: 354 of 516 (68.60%)\n"
          ]
        }
      ]
    },
    {
      "cell_type": "code",
      "metadata": {
        "colab": {
          "base_uri": "https://localhost:8080/"
        },
        "id": "zJeSbZ5JQ92m",
        "outputId": "c9a0b831-a3b4-4e33-c942-b892a9d3ca8c"
      },
      "source": [
        "from sklearn.metrics import matthews_corrcoef\n",
        "\n",
        "matthews_set = []\n",
        "\n",
        "# Matthew's correlation coefficient для каждого batch\n",
        "for i in range(len(true_labels)):\n",
        "  pred_labels_i = np.argmax(predictions[i], axis=1).flatten() \n",
        "  matthews = matthews_corrcoef(true_labels[i], pred_labels_i)                \n",
        "  matthews_set.append(matthews)"
      ],
      "execution_count": null,
      "outputs": [
        {
          "output_type": "stream",
          "name": "stderr",
          "text": [
            "/usr/local/lib/python3.7/dist-packages/sklearn/metrics/_classification.py:900: RuntimeWarning: invalid value encountered in double_scalars\n",
            "  mcc = cov_ytyp / np.sqrt(cov_ytyt * cov_ypyp)\n"
          ]
        }
      ]
    },
    {
      "cell_type": "code",
      "metadata": {
        "colab": {
          "base_uri": "https://localhost:8080/",
          "height": 427
        },
        "id": "c2Q8G31KR8Ww",
        "outputId": "42a0ca32-8351-45d8-97c5-e765a46d03ea"
      },
      "source": [
        "# MCC score для каждого batch (в batch по 32 предложения, за исключением последнего, где 4 предложения)\n",
        "ax = sns.barplot(x=list(range(len(matthews_set))), y=matthews_set, ci=None)\n",
        "\n",
        "plt.title('MCC Score per Batch')\n",
        "plt.ylabel('MCC Score (-1 to +1)')\n",
        "plt.xlabel('Batch #')\n",
        "\n",
        "plt.show()"
      ],
      "execution_count": null,
      "outputs": [
        {
          "output_type": "display_data",
          "data": {
            "image/png": "[encoded data removed]",
            "text/plain": [
              "<Figure size 864x432 with 1 Axes>"
            ]
          },
          "metadata": {}
        }
      ]
    },
    {
      "cell_type": "code",
      "metadata": {
        "colab": {
          "base_uri": "https://localhost:8080/"
        },
        "id": "rdPMp9ngSQ-8",
        "outputId": "fb5bcfc6-2b50-49f9-ee18-4a6087225bf9"
      },
      "source": [
        "# Объединяем результат всех batches предсказанных значений \n",
        "flat_predictions = np.concatenate(predictions, axis=0)\n",
        "\n",
        "# Для каждого объекта выбрать метку (0 или 1) с более высокой оценкой \n",
        "flat_predictions = np.argmax(flat_predictions, axis=1).flatten()\n",
        "\n",
        "# Объединяем результат всех batches реальных значений\n",
        "flat_true_labels = np.concatenate(true_labels, axis=0)\n",
        "\n",
        "# MCC\n",
        "mcc = matthews_corrcoef(flat_true_labels, flat_predictions)\n",
        "\n",
        "print('Total MCC: %.3f' % mcc)"
      ],
      "execution_count": null,
      "outputs": [
        {
          "output_type": "stream",
          "name": "stdout",
          "text": [
            "Total MCC: 0.519\n"
          ]
        }
      ]
    },
    {
      "cell_type": "code",
      "metadata": {
        "id": "3FvsBGDvSv1n"
      },
      "source": [
        ""
      ],
      "execution_count": null,
      "outputs": []
    }
  ]
}