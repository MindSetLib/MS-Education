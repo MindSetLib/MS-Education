{
 "cells": [
  {
   "cell_type": "code",
   "execution_count": 2,
   "metadata": {},
   "outputs": [],
   "source": [
    "import phonenumbers"
   ]
  },
  {
   "cell_type": "code",
   "execution_count": 15,
   "metadata": {},
   "outputs": [],
   "source": [
    "number = str(\"+7(9263-790123\")"
   ]
  },
  {
   "cell_type": "code",
   "execution_count": 16,
   "metadata": {},
   "outputs": [],
   "source": [
    "parsed = phonenumbers.parse(number, 'RU')"
   ]
  },
  {
   "cell_type": "code",
   "execution_count": 17,
   "metadata": {},
   "outputs": [
    {
     "name": "stdout",
     "output_type": "stream",
     "text": [
      "Country Code: 7 National Number: 9263790123\n"
     ]
    }
   ],
   "source": [
    "print (parsed)"
   ]
  },
  {
   "cell_type": "code",
   "execution_count": 33,
   "metadata": {},
   "outputs": [],
   "source": [
    "parsed_array=[]"
   ]
  },
  {
   "cell_type": "code",
   "execution_count": 34,
   "metadata": {},
   "outputs": [],
   "source": [
    "numbers=(\"9263790123\",\"+79263790123\",\"89263790123\", \"+7926-379-01-23\", \"8926-3790123\", \"+7(111)111-11-11\", \"79263790123\", \"7926379-0123\", \"7-926-379-01-23\")"
   ]
  },
  {
   "cell_type": "code",
   "execution_count": 43,
   "metadata": {},
   "outputs": [
    {
     "name": "stdout",
     "output_type": "stream",
     "text": [
      "Было:  9263790123 Стало:  Country Code: 7 National Number: 9263790123\n",
      "Было:  +79263790123 Стало:  Country Code: 7 National Number: 9263790123\n",
      "Было:  89263790123 Стало:  Country Code: 7 National Number: 9263790123\n",
      "Было:  +7926-379-01-23 Стало:  Country Code: 7 National Number: 9263790123\n",
      "Было:  8926-3790123 Стало:  Country Code: 7 National Number: 9263790123\n",
      "Было:  +7(111)111-11-11 Стало:  Country Code: 7 National Number: 1111111111\n",
      "Было:  79263790123 Стало:  Country Code: 7 National Number: 9263790123\n",
      "Было:  7926379-0123 Стало:  Country Code: 7 National Number: 9263790123\n",
      "Было:  7-926-379-01-23 Стало:  Country Code: 7 National Number: 9263790123\n"
     ]
    }
   ],
   "source": [
    "for i in range(0,9):\n",
    "    print(\"Было: \", numbers[i], \"Стало: \", phonenumbers.parse(numbers[i], 'RU'))\n",
    "    #print (parsed_array[i])"
   ]
  },
  {
   "cell_type": "code",
   "execution_count": null,
   "metadata": {},
   "outputs": [],
   "source": []
  }
 ],
 "metadata": {
  "kernelspec": {
   "display_name": "Python 3",
   "language": "python",
   "name": "python3"
  }
 },
 "nbformat": 4,
 "nbformat_minor": 2
}
