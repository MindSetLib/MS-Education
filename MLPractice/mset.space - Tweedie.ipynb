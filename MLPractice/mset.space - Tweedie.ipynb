{
 "cells": [
  {
   "cell_type": "markdown",
   "metadata": {},
   "source": [
    "https://mset.space - платформа для проведения анализа данных, построения моделей и внедрения моделей в продукцию.\n",
    "\n",
    "\n",
    "https://mset.space - platform for data analysis, model building and implementation into production.\n",
    "\n",
    "\n",
    "Ноутбуки для платформы mset.space\n",
    "https://github.com/MindSetLib/MS-Education\n",
    "\n",
    "Low code ML - библиотека машинного обучения\n",
    "https://github.com/MindSetLib/Insolver\n",
    "\n",
    "\n",
    "Телеграм канал платформы\n",
    "https://t.me/msetspace\n",
    "\n",
    "Связь с разработчиками:\n",
    "telegram: @frankshikhaliev\n",
    "email: request@mind-set.ru"
   ]
  },
  {
   "cell_type": "markdown",
   "metadata": {
    "id": "boxpA3KqzID5"
   },
   "source": [
    "# Tweedie\n",
    "В этом ноутбуке будут рассмотрены статистические библиотеки, которые могут быть применены в сфере страхования:\n",
    "\n",
    "*   [Statsmodels](https://www.statsmodels.org/dev/index.html)\n",
    "*   [Scipy](https://github.com/scipy/scipy/)\n",
    "*   [Tweedie](https://github.com/thequackdaddy/tweedie)\n",
    "\n",
    "\n",
    "\n",
    "\n",
    "\n",
    "\n"
   ]
  },
  {
   "cell_type": "markdown",
   "metadata": {
    "id": "bhtC019MNPQL"
   },
   "source": [
    "### Введение"
   ]
  },
  {
   "cell_type": "markdown",
   "metadata": {
    "id": "NbdcuGn_vNLg"
   },
   "source": [
    "Страховые компании не знают действительную стоимость своего продукта, т.к. они имеют дело с рисками непредвиденных событий. Ответ на данный вопрос они ищут в математике.\n",
    "\n",
    "Хотелось бы имея определенные параметры застрахованного объекта, оценить возможную стоимость страховой выплаты. Т.к. страховые случаи возникают редко, большинство наблюдений имеют нулевые выплаты.\n",
    "\n",
    "Поэтому распределение целевой переменной имеет большую концентрацию в нуле и положительно определенное, похожее на нормально распределение справа от нуля. Такое распределение называется Tweedia. Это распределение интересно тем, что оно обеспечивает множество других распределений от гауссовского к обратному Гауссову, просто изменяя один параметр."
   ]
  },
  {
   "cell_type": "markdown",
   "metadata": {
    "id": "zL0en2foZqV4"
   },
   "source": [
    "Распределение Tweedia является частным случаем экспоненциальных дисперсионных моделей [exponential dispersion models (EDM)](https://en.wikipedia.org/wiki/Exponential_dispersion_model), которые в свою очередь являются набором вероятностных распределений, представляющих собой обобщение естественного экспоненциального семейства.\n",
    "\n",
    "Оно имеет много наблюдений в нуле, и это свойство делает его полезным для моделирования претензий в страховой отрасли.\n",
    "\n",
    "\n"
   ]
  },
  {
   "cell_type": "markdown",
   "metadata": {
    "id": "KxjT30oCgRlY"
   },
   "source": [
    "Гистограмма Tweedie распределения\n",
    "\n",
    "![Гистограмма](https://s8.hostingkartinok.com/uploads/images/2020/11/0de6d812050f13ab7e45ba0ca59e2300.png)"
   ]
  },
  {
   "cell_type": "markdown",
   "metadata": {
    "id": "tVFvBtyPgShH"
   },
   "source": [
    "Это семейство распределений имеет следующие характеристики\n",
    "\n",
    "$E(Y) = \\mu$ \n",
    "\n",
    "$Var(Y) = \\phi\\mu^p$"
   ]
  },
  {
   "cell_type": "markdown",
   "metadata": {
    "id": "ICx9epYThA1W"
   },
   "source": [
    "$Y \\sim Tw_p(\\mu, \\phi)$, где\n",
    "\n",
    "$Y$ - это целевая переменная\n",
    " \n",
    "$Tw_p(\\mu, \\phi)$ - случайная величина из распределения Tweedie, со средним $\\mu$ и дисперсией $\\phi \\mu^p$, где $\\phi > 0$ и $p \\in (- \\infty, 0] \\cup [1, \\infty)$\n",
    "\n",
    "$p$ является регулируемым параметром"
   ]
  },
  {
   "cell_type": "markdown",
   "metadata": {
    "id": "iEkJO57UgSjm"
   },
   "source": [
    "Используя распределение Tweedie, можно апроксимировать другие распределения. Поставим $p = 0$, получим нормальное распределение, поставим $p = 1$, получим распределение Пуассона, поставим $p = 2$, получим гамма распределение, а если $p = 3$, получим обратное Гауссовское распределение."
   ]
  },
  {
   "cell_type": "markdown",
   "metadata": {
    "id": "x-n-oFtOjoOa"
   },
   "source": [
    "![](https://s8.hostingkartinok.com/uploads/images/2020/11/591ae0e9bcc512e727d75c50fac9b3a8.png)\n",
    "\n"
   ]
  },
  {
   "cell_type": "markdown",
   "metadata": {
    "id": "0GGaO9wnA7gv"
   },
   "source": [
    "Рассмотрим на реальном датасете, как можно построить модель для распределения Tweedie."
   ]
  },
  {
   "cell_type": "markdown",
   "metadata": {
    "id": "OJ8gicO1uyhI"
   },
   "source": [
    "Установим необходимую библиотеку"
   ]
  },
  {
   "cell_type": "markdown",
   "metadata": {
    "id": "b5H5tn-0O-to"
   },
   "source": [
    "Из этой библиотеки возьмем функцию правдоподобия для Tweedie распределения"
   ]
  },
  {
   "cell_type": "code",
   "execution_count": null,
   "metadata": {
    "colab": {
     "base_uri": "https://localhost:8080/"
    },
    "id": "4HYfVlOIjQ2x",
    "outputId": "0a6a69fd-1abf-462c-ea07-fbb1f3b08090"
   },
   "outputs": [
    {
     "name": "stdout",
     "output_type": "stream",
     "text": [
      "Collecting tweedie\n",
      "  Downloading https://files.pythonhosted.org/packages/f6/27/347144729c0b33238087bb2f9f2481ba83af31a93a8ead15ad70ee7906df/tweedie-0.0.7-py2.py3-none-any.whl\n",
      "Installing collected packages: tweedie\n",
      "Successfully installed tweedie-0.0.7\n"
     ]
    }
   ],
   "source": [
    "!pip install tweedie"
   ]
  },
  {
   "cell_type": "markdown",
   "metadata": {
    "id": "LvW5MQKou81h"
   },
   "source": [
    "Импортируем модули"
   ]
  },
  {
   "cell_type": "code",
   "execution_count": null,
   "metadata": {
    "colab": {
     "base_uri": "https://localhost:8080/",
     "height": 119
    },
    "id": "s01Fc_ivM3Xb",
    "outputId": "6944bec6-b550-45c7-e700-1d704467f7c9"
   },
   "outputs": [
    {
     "name": "stderr",
     "output_type": "stream",
     "text": [
      "/usr/local/lib/python3.6/dist-packages/statsmodels/tools/_testing.py:19: FutureWarning: pandas.util.testing is deprecated. Use the functions in the public API at pandas.testing instead.\n",
      "  import pandas.util.testing as tm\n"
     ]
    },
    {
     "data": {
      "image/png": "[encoded data removed]",
      "text/plain": [
       "<Figure size 504x72 with 1 Axes>"
      ]
     },
     "metadata": {
      "needs_background": "light",
      "tags": []
     },
     "output_type": "display_data"
    }
   ],
   "source": [
    "%matplotlib inline\n",
    "import pandas as pd\n",
    "from patsy import dmatrices\n",
    "import numpy as np\n",
    "import statsmodels.api as sm\n",
    "import matplotlib as mpl\n",
    "import matplotlib.pyplot as plt\n",
    "import seaborn as sns\n",
    "\n",
    "import scipy as sp\n",
    "from tweedie import tweedie\n",
    "\n",
    "from sklearn.metrics import r2_score\n",
    "\n",
    "from statsmodels.compat import lzip\n",
    "from statsmodels.graphics.api import abline_plot\n",
    "from statsmodels.genmod.generalized_linear_model import GLM\n",
    "\n",
    "#plt.style.use('fivethirtyeight')\n",
    "\n",
    "# Color Palette\n",
    "custom_colors = ['#00FFE2', '#00FDFF', '#00BCFF', '#0082FF', '#8000FF', '#B300FF', '#F400FF']\n",
    "sns.palplot(sns.color_palette(custom_colors))\n",
    "\n",
    "# Set Style\n",
    "sns.set_style(\"whitegrid\")\n",
    "sns.despine(left=True, bottom=True)\n",
    "\n",
    "# Set tick size\n",
    "plt.rc('xtick',labelsize=12)\n",
    "plt.rc('ytick',labelsize=12)"
   ]
  },
  {
   "cell_type": "markdown",
   "metadata": {
    "id": "poGl9_iw1yZD"
   },
   "source": [
    "### Анализ данных"
   ]
  },
  {
   "cell_type": "markdown",
   "metadata": {
    "id": "hbX9Mbn9NG2L"
   },
   "source": [
    "Воспользуемся датасетом: https://rdrr.io/cran/insuranceData/man/dataCar.html\n",
    "\n",
    "Этот набор данных основан на страховых полисах на один год, заключенных в 2004 или 2005 годах."
   ]
  },
  {
   "cell_type": "code",
   "execution_count": null,
   "metadata": {
    "colab": {
     "base_uri": "https://localhost:8080/"
    },
    "id": "Xn3G11-hMwym",
    "outputId": "84698358-410d-439a-c59a-8086da15bb2a"
   },
   "outputs": [
    {
     "name": "stdout",
     "output_type": "stream",
     "text": [
      "--2020-11-17 18:13:08--  http://www.businessandeconomics.mq.edu.au/__data/assets/file/0011/232310/car.csv\n",
      "Resolving www.businessandeconomics.mq.edu.au (www.businessandeconomics.mq.edu.au)... 202.9.95.188\n",
      "Connecting to www.businessandeconomics.mq.edu.au (www.businessandeconomics.mq.edu.au)|202.9.95.188|:80... connected.\n",
      "HTTP request sent, awaiting response... 200 OK\n",
      "Length: unspecified [application/octet-stream]\n",
      "Saving to: ‘car.csv’\n",
      "\n",
      "car.csv                 [               <=>  ]   3.90M  1.22MB/s    in 4.4s    \n",
      "\n",
      "2020-11-17 18:13:13 (916 KB/s) - ‘car.csv’ saved [4090262]\n",
      "\n"
     ]
    }
   ],
   "source": [
    "!wget http://www.businessandeconomics.mq.edu.au/__data/assets/file/0011/232310/car.csv"
   ]
  },
  {
   "cell_type": "markdown",
   "metadata": {
    "id": "ez8ZomjMOyhY"
   },
   "source": [
    "***Данный датасет содержит 67856 наблюдений и 11 переменных:***\n",
    "\n",
    "**`veh_value`**: стоимость транспортного средства (в $10,000)\n",
    "\n",
    "**`exposure`**: на какой срок полис был выставлен (1 - на год)\n",
    "\n",
    "**`clm`**: возникновение претензий (0 = нет, 1 = да)\n",
    "\n",
    "**`numclaims`**: количество претензий\n",
    "\n",
    "**`claimcst0`**: сумма иска (0 если нет претензий)\n",
    "\n",
    "**`veh_body`**: кузов транспортного средства. `BUS` `CONVT` `COUPE` `HBACK` `HDTOP` `MCARA` `MIBUS` `PANVN` `RDSTR` `SEDAN` `STNWG` `TRUCK` `UTE`\n",
    "\n",
    "**`veh_age`**: возраст транспорого средства\n",
    "\n",
    "**`gender`**: `F` - жинщина, `M` - мужчина\n",
    "\n",
    "**`area`**: `A` `B` `C` `D` `E` `F`\n",
    "\n",
    "**`agecat`**: возрастная категория водителя (1, 2, 3, 4, 5, 6)\n",
    "\n",
    "**`_OBSTAT_`**"
   ]
  },
  {
   "cell_type": "code",
   "execution_count": null,
   "metadata": {
    "colab": {
     "base_uri": "https://localhost:8080/",
     "height": 142
    },
    "id": "Cy_L9tdcM8DT",
    "outputId": "40361b06-5fef-4087-b431-12e9b6655ea9"
   },
   "outputs": [
    {
     "data": {
      "text/html": [
       "<div>\n",
       "<style scoped>\n",
       "    .dataframe tbody tr th:only-of-type {\n",
       "        vertical-align: middle;\n",
       "    }\n",
       "\n",
       "    .dataframe tbody tr th {\n",
       "        vertical-align: top;\n",
       "    }\n",
       "\n",
       "    .dataframe thead th {\n",
       "        text-align: right;\n",
       "    }\n",
       "</style>\n",
       "<table border=\"1\" class=\"dataframe\">\n",
       "  <thead>\n",
       "    <tr style=\"text-align: right;\">\n",
       "      <th></th>\n",
       "      <th>veh_value</th>\n",
       "      <th>exposure</th>\n",
       "      <th>clm</th>\n",
       "      <th>numclaims</th>\n",
       "      <th>claimcst0</th>\n",
       "      <th>veh_body</th>\n",
       "      <th>veh_age</th>\n",
       "      <th>gender</th>\n",
       "      <th>area</th>\n",
       "      <th>agecat</th>\n",
       "      <th>_OBSTAT_</th>\n",
       "    </tr>\n",
       "  </thead>\n",
       "  <tbody>\n",
       "    <tr>\n",
       "      <th>0</th>\n",
       "      <td>1.06</td>\n",
       "      <td>0.303901</td>\n",
       "      <td>0</td>\n",
       "      <td>0</td>\n",
       "      <td>0.0</td>\n",
       "      <td>HBACK</td>\n",
       "      <td>3</td>\n",
       "      <td>F</td>\n",
       "      <td>C</td>\n",
       "      <td>2</td>\n",
       "      <td>01101    0    0    0</td>\n",
       "    </tr>\n",
       "    <tr>\n",
       "      <th>1</th>\n",
       "      <td>1.03</td>\n",
       "      <td>0.648871</td>\n",
       "      <td>0</td>\n",
       "      <td>0</td>\n",
       "      <td>0.0</td>\n",
       "      <td>HBACK</td>\n",
       "      <td>2</td>\n",
       "      <td>F</td>\n",
       "      <td>A</td>\n",
       "      <td>4</td>\n",
       "      <td>01101    0    0    0</td>\n",
       "    </tr>\n",
       "    <tr>\n",
       "      <th>2</th>\n",
       "      <td>3.26</td>\n",
       "      <td>0.569473</td>\n",
       "      <td>0</td>\n",
       "      <td>0</td>\n",
       "      <td>0.0</td>\n",
       "      <td>UTE</td>\n",
       "      <td>2</td>\n",
       "      <td>F</td>\n",
       "      <td>E</td>\n",
       "      <td>2</td>\n",
       "      <td>01101    0    0    0</td>\n",
       "    </tr>\n",
       "  </tbody>\n",
       "</table>\n",
       "</div>"
      ],
      "text/plain": [
       "   veh_value  exposure  clm  ...  area  agecat              _OBSTAT_\n",
       "0       1.06  0.303901    0  ...     C       2  01101    0    0    0\n",
       "1       1.03  0.648871    0  ...     A       4  01101    0    0    0\n",
       "2       3.26  0.569473    0  ...     E       2  01101    0    0    0\n",
       "\n",
       "[3 rows x 11 columns]"
      ]
     },
     "execution_count": 4,
     "metadata": {
      "tags": []
     },
     "output_type": "execute_result"
    }
   ],
   "source": [
    "df = pd.read_csv('car.csv')\n",
    "df.head(3)"
   ]
  },
  {
   "cell_type": "markdown",
   "metadata": {
    "id": "lOP1AsKVQsYV"
   },
   "source": []
  },
  {
   "cell_type": "markdown",
   "metadata": {
    "id": "0UWH14DfVm-z"
   },
   "source": [
    "Удалим дубликаты и строчки, где стоимость транспортного средства равна 0"
   ]
  },
  {
   "cell_type": "code",
   "execution_count": null,
   "metadata": {
    "colab": {
     "base_uri": "https://localhost:8080/"
    },
    "id": "_32b7E4rVomN",
    "outputId": "ab658134-81ef-42f6-aebb-a667f478856b"
   },
   "outputs": [
    {
     "name": "stdout",
     "output_type": "stream",
     "text": [
      "number of duplicate rows: (378, 11)\n"
     ]
    }
   ],
   "source": [
    "duplicate_rows_df = df[df.duplicated()]\n",
    "print(\"number of duplicate rows:\", duplicate_rows_df.shape)"
   ]
  },
  {
   "cell_type": "code",
   "execution_count": null,
   "metadata": {
    "id": "wgKPDD4oVuqc"
   },
   "outputs": [],
   "source": [
    "df1 = df.drop_duplicates()     # удалим дубликаты\n",
    "df2 = df1[df1.veh_value != 0]  # удалим данные, где стоимость транспортного средства равна 0"
   ]
  },
  {
   "cell_type": "markdown",
   "metadata": {
    "id": "rM6jc6flgOcw"
   },
   "source": [
    "Посмотрим на данные, подходят ли они под Tweedie распределение?"
   ]
  },
  {
   "cell_type": "code",
   "execution_count": null,
   "metadata": {
    "colab": {
     "base_uri": "https://localhost:8080/",
     "height": 441
    },
    "id": "P-IATC1Jfu2j",
    "outputId": "99ffe18a-e148-4a5e-dbe6-5b467bcec790"
   },
   "outputs": [
    {
     "data": {
      "image/png": "[encoded data removed]",
      "text/plain": [
       "<Figure size 432x432 with 1 Axes>"
      ]
     },
     "metadata": {
      "tags": []
     },
     "output_type": "display_data"
    }
   ],
   "source": [
    "fig, ax = plt.subplots(1, figsize=(6, 6)) # инициализируем полотно\n",
    "df['clm'].value_counts().plot(kind='pie', labels=['', ''],\n",
    "                                  ax=ax, autopct='%.0f%%', fontsize=15, colormap='Pastel2') # построим круговую диаграмму\n",
    "ax.set_title(u'Страховые случаи')\n",
    "ax.axis('equal')\n",
    "ax.legend(labels=[u'Не возникали', u'Возникали'], framealpha=0, fontsize = 11)\n",
    "ax.set_ylabel('')\n",
    "plt.tight_layout()"
   ]
  },
  {
   "cell_type": "markdown",
   "metadata": {
    "id": "ZPZ-tzUugWbi"
   },
   "source": [
    "Видим, что претензии к страховой компании возникали только в 7% случаев."
   ]
  },
  {
   "cell_type": "markdown",
   "metadata": {
    "id": "RWwNep96gzaY"
   },
   "source": [
    "Посмотрим как распределено количество страховых случаев"
   ]
  },
  {
   "cell_type": "code",
   "execution_count": null,
   "metadata": {
    "colab": {
     "base_uri": "https://localhost:8080/",
     "height": 424
    },
    "id": "nFLrjlZ6tRJ8",
    "outputId": "d5a0d0f8-50f9-4cc3-fb21-09e930bfe58e"
   },
   "outputs": [
    {
     "name": "stdout",
     "output_type": "stream",
     "text": [
      "<class 'matplotlib.patches.Rectangle'>\n"
     ]
    },
    {
     "data": {
      "image/png": "[encoded data removed]",
      "text/plain": [
       "<Figure size 936x432 with 1 Axes>"
      ]
     },
     "metadata": {
      "tags": []
     },
     "output_type": "display_data"
    }
   ],
   "source": [
    "order = ['Zero', 'One', 'Two', 'Three', 'Four'] # подписи оси X\n",
    "\n",
    "plt.figure(figsize=(13, 6)) # установить размер полотна\n",
    "d = sns.countplot(x = 'numclaims', data = df, palette = custom_colors[2:] ) # построить столбчатую диаграмму\n",
    "d.set_xticklabels(order, rotation=0) # подписать ось X\n",
    "d.set_title('Количество претензий')\n",
    "\n",
    "labels = df.numclaims.value_counts().to_list() # посчитаем количество наблюдейни в каждом столбце\n",
    "\n",
    "# вывести кол-во над столбцами\n",
    "def labels_above_columns(labels):\n",
    "  rects = d.patches # объект столбцов https://matplotlib.org/3.1.1/api/_as_gen/matplotlib.patches.Rectangle.html\n",
    "  for rect, label in zip(rects, labels):\n",
    "      height = rect.get_height() \n",
    "      d.text(rect.get_x() + rect.get_width() / 2, height + 5, label, color='black', \n",
    "              ha='center', va='bottom', fontweight='bold', fontsize = 12)\n",
    "\n",
    "labels_above_columns(labels)"
   ]
  },
  {
   "cell_type": "markdown",
   "metadata": {
    "id": "UOFQ4idk0FWh"
   },
   "source": [
    "Посмотрим как распределены страховые выплаты."
   ]
  },
  {
   "cell_type": "code",
   "execution_count": null,
   "metadata": {
    "id": "774jQ94qPMAa"
   },
   "outputs": [],
   "source": [
    "# распределить наблюдения по указанным интервалам\n",
    "def condition(x):\n",
    "    if x == 0:\n",
    "        return 0\n",
    "    elif 0 < x <= 500:\n",
    "        return 1\n",
    "    elif 500 < x <= 1000:\n",
    "        return 2\n",
    "    elif 1000 < x <= 2000:\n",
    "        return 3\n",
    "    elif 2000 < x <= 5000:\n",
    "        return 4\n",
    "    elif 5000 < x <= 10000:\n",
    "        return 5\n",
    "    else:\n",
    "        return 6"
   ]
  },
  {
   "cell_type": "code",
   "execution_count": null,
   "metadata": {
    "colab": {
     "base_uri": "https://localhost:8080/",
     "height": 587
    },
    "id": "4XZnTDGrmSZC",
    "outputId": "687b1e32-6d92-4ed7-8add-6ad560b41990"
   },
   "outputs": [
    {
     "ename": "NameError",
     "evalue": "ignored",
     "output_type": "error",
     "traceback": [
      "\u001b[0;31m---------------------------------------------------------------------------\u001b[0m",
      "\u001b[0;31mNameError\u001b[0m                                 Traceback (most recent call last)",
      "\u001b[0;32m<ipython-input-10-1d8a3344335c>\u001b[0m in \u001b[0;36m<module>\u001b[0;34m()\u001b[0m\n\u001b[1;32m      8\u001b[0m \u001b[0;31m# вывести кол-во над столбцами\u001b[0m\u001b[0;34m\u001b[0m\u001b[0;34m\u001b[0m\u001b[0;34m\u001b[0m\u001b[0m\n\u001b[1;32m      9\u001b[0m \u001b[0mlabels\u001b[0m \u001b[0;34m=\u001b[0m \u001b[0mdf\u001b[0m\u001b[0;34m[\u001b[0m\u001b[0;34m'claimcst0'\u001b[0m\u001b[0;34m]\u001b[0m\u001b[0;34m.\u001b[0m\u001b[0mapply\u001b[0m\u001b[0;34m(\u001b[0m\u001b[0mcondition\u001b[0m\u001b[0;34m)\u001b[0m\u001b[0;34m.\u001b[0m\u001b[0mvalue_counts\u001b[0m\u001b[0;34m(\u001b[0m\u001b[0;34m)\u001b[0m\u001b[0;34m.\u001b[0m\u001b[0mto_list\u001b[0m\u001b[0;34m(\u001b[0m\u001b[0;34m)\u001b[0m\u001b[0;34m\u001b[0m\u001b[0;34m\u001b[0m\u001b[0m\n\u001b[0;32m---> 10\u001b[0;31m \u001b[0mlabels_above_columns\u001b[0m\u001b[0;34m(\u001b[0m\u001b[0mlabels\u001b[0m\u001b[0;34m)\u001b[0m\u001b[0;34m\u001b[0m\u001b[0;34m\u001b[0m\u001b[0m\n\u001b[0m",
      "\u001b[0;31mNameError\u001b[0m: name 'labels_above_columns' is not defined"
     ]
    },
    {
     "data": {
      "image/png": "[encoded data removed]",
      "text/plain": [
       "<Figure size 936x432 with 1 Axes>"
      ]
     },
     "metadata": {
      "tags": []
     },
     "output_type": "display_data"
    }
   ],
   "source": [
    "order = ['$0', '<$500', '$500-$1K', '$1K-$2K', '$2K-$5K', '$5К-$10K', '>$10K'] \n",
    "\n",
    "plt.figure(figsize=(13, 6))\n",
    "d = sns.countplot(x = df['claimcst0'].apply(condition), palette = custom_colors)\n",
    "d.set_xticklabels(order, rotation=0)\n",
    "d.set_title('Страховые выплаты')\n",
    "\n",
    "# вывести кол-во над столбцами\n",
    "labels = df['claimcst0'].apply(condition).value_counts().to_list()\n",
    "labels_above_columns(labels)"
   ]
  },
  {
   "cell_type": "markdown",
   "metadata": {
    "id": "S9U6ZFCDUpjq"
   },
   "source": [
    "Посмотрим на данные без нулевых выплат"
   ]
  },
  {
   "cell_type": "code",
   "execution_count": null,
   "metadata": {
    "colab": {
     "base_uri": "https://localhost:8080/",
     "height": 587
    },
    "id": "OefRrvWmUe5g",
    "outputId": "9f14e6b7-9cbf-4eb0-ff18-a4a86daccf7e"
   },
   "outputs": [
    {
     "ename": "NameError",
     "evalue": "ignored",
     "output_type": "error",
     "traceback": [
      "\u001b[0;31m---------------------------------------------------------------------------\u001b[0m",
      "\u001b[0;31mNameError\u001b[0m                                 Traceback (most recent call last)",
      "\u001b[0;32m<ipython-input-11-84a06e3eb660>\u001b[0m in \u001b[0;36m<module>\u001b[0;34m()\u001b[0m\n\u001b[1;32m      8\u001b[0m \u001b[0;31m# вывести кол-во над столбцами\u001b[0m\u001b[0;34m\u001b[0m\u001b[0;34m\u001b[0m\u001b[0;34m\u001b[0m\u001b[0m\n\u001b[1;32m      9\u001b[0m \u001b[0mlabels\u001b[0m \u001b[0;34m=\u001b[0m \u001b[0mdf\u001b[0m\u001b[0;34m[\u001b[0m\u001b[0;34m'claimcst0'\u001b[0m\u001b[0;34m]\u001b[0m\u001b[0;34m.\u001b[0m\u001b[0mapply\u001b[0m\u001b[0;34m(\u001b[0m\u001b[0mcondition\u001b[0m\u001b[0;34m)\u001b[0m\u001b[0;34m.\u001b[0m\u001b[0mvalue_counts\u001b[0m\u001b[0;34m(\u001b[0m\u001b[0;34m)\u001b[0m\u001b[0;34m.\u001b[0m\u001b[0mto_list\u001b[0m\u001b[0;34m(\u001b[0m\u001b[0;34m)\u001b[0m\u001b[0;34m\u001b[0m\u001b[0;34m\u001b[0m\u001b[0m\n\u001b[0;32m---> 10\u001b[0;31m \u001b[0mlabels_above_columns\u001b[0m\u001b[0;34m(\u001b[0m\u001b[0mlabels\u001b[0m\u001b[0;34m)\u001b[0m\u001b[0;34m\u001b[0m\u001b[0;34m\u001b[0m\u001b[0m\n\u001b[0m",
      "\u001b[0;31mNameError\u001b[0m: name 'labels_above_columns' is not defined"
     ]
    },
    {
     "data": {
      "image/png": "[encoded data removed]",
      "text/plain": [
       "<Figure size 936x432 with 1 Axes>"
      ]
     },
     "metadata": {
      "tags": []
     },
     "output_type": "display_data"
    }
   ],
   "source": [
    "order = ['<$500', '$500-$1K', '$1K-$2K', '$2K-$5K', '$5К-$10K', '>$10K']\n",
    "\n",
    "plt.figure(figsize=(13, 6))\n",
    "d = sns.countplot(x = df2[df2['claimcst0'] !=0]['claimcst0'].apply(condition), palette = custom_colors)\n",
    "d.set_xticklabels(order, rotation=0)\n",
    "d.set_title('Страховые выплаты')\n",
    "\n",
    "# вывести кол-во над столбцами\n",
    "labels = df['claimcst0'].apply(condition).value_counts().to_list()\n",
    "labels_above_columns(labels)"
   ]
  },
  {
   "cell_type": "markdown",
   "metadata": {
    "id": "MRAgaKQGqEGV"
   },
   "source": [
    "Посмотрим на частоту различных кузовов машин"
   ]
  },
  {
   "cell_type": "code",
   "execution_count": null,
   "metadata": {
    "colab": {
     "base_uri": "https://localhost:8080/",
     "height": 382
    },
    "id": "KxLskIIXp9hW",
    "outputId": "1fea7c37-0754-4c61-dce4-a7942d7c850b"
   },
   "outputs": [
    {
     "data": {
      "image/png": "[encoded data removed]",
      "text/plain": [
       "<Figure size 936x360 with 2 Axes>"
      ]
     },
     "metadata": {
      "tags": []
     },
     "output_type": "display_data"
    }
   ],
   "source": [
    "fig, (ax1, ax2) = plt.subplots(ncols=2) # настраиваем полотна\n",
    "fig.set_size_inches(13, 5)\n",
    "g = sns.countplot(x='veh_body', data=df2, ax=ax1, palette = custom_colors) # строим первую столбчатую диаграмму\n",
    "label = g.set_xticklabels(g.get_xticklabels(), rotation=45) # устанавливаем название корпусов автомобилей по оси X, указываем под каким углом отрисовать их\n",
    "title = g.set_title('Все данные')\n",
    "g = sns.countplot(x = 'veh_body', data = df2[df2['numclaims']>0], ax = ax2, palette = custom_colors) # строим вторую столбчатую диаграмму\n",
    "label = g.set_xticklabels(g.get_xticklabels(), rotation=45) \n",
    "title = g.set_title('Без нулевых значений')"
   ]
  },
  {
   "cell_type": "markdown",
   "metadata": {
    "id": "y5hogSgQ17LD"
   },
   "source": [
    "### Предобработка данных"
   ]
  },
  {
   "cell_type": "markdown",
   "metadata": {
    "id": "prwwyrj8RHQv"
   },
   "source": [
    "В качестве прогнозируемой переменной, будем использовать `claimcst0`.\n",
    "\n",
    "В качестве предикатов: `veh_body`, `veh_age`, `agecat`, `gender`, `area`, `veh_value`.\n",
    "\n"
   ]
  },
  {
   "cell_type": "markdown",
   "metadata": {
    "id": "tTL3AaUyX2Ss"
   },
   "source": [
    "В категориальной переменной veh_body редкие кузова машин объединим в одну группу и назовём \"other\"."
   ]
  },
  {
   "cell_type": "code",
   "execution_count": null,
   "metadata": {
    "colab": {
     "base_uri": "https://localhost:8080/"
    },
    "id": "NUrkXI-8ZbAf",
    "outputId": "e9ea743f-acb3-4e47-cb1e-47ed272e80e9"
   },
   "outputs": [
    {
     "name": "stderr",
     "output_type": "stream",
     "text": [
      "/usr/local/lib/python3.6/dist-packages/ipykernel_launcher.py:1: SettingWithCopyWarning: \n",
      "A value is trying to be set on a copy of a slice from a DataFrame.\n",
      "Try using .loc[row_indexer,col_indexer] = value instead\n",
      "\n",
      "See the caveats in the documentation: https://pandas.pydata.org/pandas-docs/stable/user_guide/indexing.html#returning-a-view-versus-a-copy\n",
      "  \"\"\"Entry point for launching an IPython kernel.\n"
     ]
    }
   ],
   "source": [
    "df2['veh_value_cat'] = df2['claimcst0'].apply(condition) # распределеним страховые выплаты по интервалам"
   ]
  },
  {
   "cell_type": "markdown",
   "metadata": {
    "id": "J9eH5w-bZlhh"
   },
   "source": [
    "Сгруппируем редкие кузова машин и объединим их в группу \"others\""
   ]
  },
  {
   "cell_type": "code",
   "execution_count": null,
   "metadata": {
    "colab": {
     "base_uri": "https://localhost:8080/"
    },
    "id": "n8pAKZkISD49",
    "outputId": "0c2c147e-aed2-4753-90a5-451792ffd9c0"
   },
   "outputs": [
    {
     "name": "stderr",
     "output_type": "stream",
     "text": [
      "/usr/local/lib/python3.6/dist-packages/ipykernel_launcher.py:3: SettingWithCopyWarning: \n",
      "A value is trying to be set on a copy of a slice from a DataFrame.\n",
      "Try using .loc[row_indexer,col_indexer] = value instead\n",
      "\n",
      "See the caveats in the documentation: https://pandas.pydata.org/pandas-docs/stable/user_guide/indexing.html#returning-a-view-versus-a-copy\n",
      "  This is separate from the ipykernel package so we can avoid doing imports until\n"
     ]
    }
   ],
   "source": [
    "series = pd.value_counts(df2.veh_body)   # посчитаем кол-во машин в разных корпусах\n",
    "mask = (series/series.sum() * 100).lt(1) # посчитаем в процентном соотношении кол-во машин в разных корпусах; .lt(1) получим булеву маску, True если кол-во < 1\n",
    "df2['veh_body'] = np.where(df2['veh_body'].isin(series[mask].index), 'Other', df2['veh_body']) # для корпусов с малым кол-ом поставим лейбл \"other\""
   ]
  },
  {
   "cell_type": "code",
   "execution_count": null,
   "metadata": {
    "id": "jsVFQlxRWcp9"
   },
   "outputs": [],
   "source": [
    "df3 = df2.astype({'veh_body': str, 'veh_age': str, 'gender': str, 'area': str, 'agecat': str, 'veh_value_cat': str}) # изменим тип данных на str"
   ]
  },
  {
   "cell_type": "markdown",
   "metadata": {
    "id": "DZVdYC5vaBMP"
   },
   "source": [
    "Разделим выборку на тренировочную и тестовую"
   ]
  },
  {
   "cell_type": "code",
   "execution_count": null,
   "metadata": {
    "colab": {
     "base_uri": "https://localhost:8080/"
    },
    "id": "YczdzT2vWlKl",
    "outputId": "37e8d19c-d50d-492a-e685-1635b0392135"
   },
   "outputs": [
    {
     "name": "stdout",
     "output_type": "stream",
     "text": [
      "Training data set length = 54025\n",
      "Testing data set length = 13401\n"
     ]
    }
   ],
   "source": [
    "np.random.seed(42)\n",
    "mask = np.random.rand(len(df3)) < 0.8\n",
    "df_train = df3[mask]\n",
    "df_test = df3[~mask]\n",
    "print('Training data set length = ' + str(len(df_train)))\n",
    "print('Testing data set length = ' + str(len(df_test)))"
   ]
  },
  {
   "cell_type": "markdown",
   "metadata": {
    "id": "6J9IzdvOkQj3"
   },
   "source": [
    "Укажем, в каком столбце находятся лейблы и какие объясняющие переменные мы будем использовать для предсказания."
   ]
  },
  {
   "cell_type": "code",
   "execution_count": null,
   "metadata": {
    "id": "uP1FQoBZWcs-"
   },
   "outputs": [],
   "source": [
    "expr = \"claimcst0 ~ veh_value_cat+veh_body+veh_age+gender+area+agecat\" "
   ]
  },
  {
   "cell_type": "markdown",
   "metadata": {
    "id": "i2Hz9nM5jwA3"
   },
   "source": [
    "[dmatrices](https://patsy.readthedocs.io/en/latest/quickstart.html?highlight=dmatrices#quickstart) вернет массив с лейблами и матрицу с фитчами, при создании которой использовалось one hot кодирование и добавляется столбец с единицами отвечающий за смещение (bias). "
   ]
  },
  {
   "cell_type": "code",
   "execution_count": null,
   "metadata": {
    "id": "DADUIBnhWcwT"
   },
   "outputs": [],
   "source": [
    "y_train, X_train = dmatrices(expr, df_train, return_type='dataframe')\n",
    "y_test, X_test = dmatrices(expr, df_test, return_type='dataframe')"
   ]
  },
  {
   "cell_type": "code",
   "execution_count": null,
   "metadata": {
    "colab": {
     "base_uri": "https://localhost:8080/",
     "height": 162
    },
    "id": "b9EhKBZqjnSm",
    "outputId": "20ca153d-9ad4-46cb-bd10-9245011eb9ab"
   },
   "outputs": [
    {
     "data": {
      "text/html": [
       "<div>\n",
       "<style scoped>\n",
       "    .dataframe tbody tr th:only-of-type {\n",
       "        vertical-align: middle;\n",
       "    }\n",
       "\n",
       "    .dataframe tbody tr th {\n",
       "        vertical-align: top;\n",
       "    }\n",
       "\n",
       "    .dataframe thead th {\n",
       "        text-align: right;\n",
       "    }\n",
       "</style>\n",
       "<table border=\"1\" class=\"dataframe\">\n",
       "  <thead>\n",
       "    <tr style=\"text-align: right;\">\n",
       "      <th></th>\n",
       "      <th>Intercept</th>\n",
       "      <th>veh_value_cat[T.1]</th>\n",
       "      <th>veh_value_cat[T.2]</th>\n",
       "      <th>veh_value_cat[T.3]</th>\n",
       "      <th>veh_value_cat[T.4]</th>\n",
       "      <th>veh_value_cat[T.5]</th>\n",
       "      <th>veh_value_cat[T.6]</th>\n",
       "      <th>veh_body[T.HBACK]</th>\n",
       "      <th>veh_body[T.HDTOP]</th>\n",
       "      <th>veh_body[T.MIBUS]</th>\n",
       "      <th>veh_body[T.Other]</th>\n",
       "      <th>veh_body[T.PANVN]</th>\n",
       "      <th>veh_body[T.SEDAN]</th>\n",
       "      <th>veh_body[T.STNWG]</th>\n",
       "      <th>veh_body[T.TRUCK]</th>\n",
       "      <th>veh_body[T.UTE]</th>\n",
       "      <th>veh_age[T.2]</th>\n",
       "      <th>veh_age[T.3]</th>\n",
       "      <th>veh_age[T.4]</th>\n",
       "      <th>gender[T.M]</th>\n",
       "      <th>area[T.B]</th>\n",
       "      <th>area[T.C]</th>\n",
       "      <th>area[T.D]</th>\n",
       "      <th>area[T.E]</th>\n",
       "      <th>area[T.F]</th>\n",
       "      <th>agecat[T.2]</th>\n",
       "      <th>agecat[T.3]</th>\n",
       "      <th>agecat[T.4]</th>\n",
       "      <th>agecat[T.5]</th>\n",
       "      <th>agecat[T.6]</th>\n",
       "    </tr>\n",
       "  </thead>\n",
       "  <tbody>\n",
       "    <tr>\n",
       "      <th>0</th>\n",
       "      <td>1.0</td>\n",
       "      <td>0.0</td>\n",
       "      <td>0.0</td>\n",
       "      <td>0.0</td>\n",
       "      <td>0.0</td>\n",
       "      <td>0.0</td>\n",
       "      <td>0.0</td>\n",
       "      <td>1.0</td>\n",
       "      <td>0.0</td>\n",
       "      <td>0.0</td>\n",
       "      <td>0.0</td>\n",
       "      <td>0.0</td>\n",
       "      <td>0.0</td>\n",
       "      <td>0.0</td>\n",
       "      <td>0.0</td>\n",
       "      <td>0.0</td>\n",
       "      <td>0.0</td>\n",
       "      <td>1.0</td>\n",
       "      <td>0.0</td>\n",
       "      <td>0.0</td>\n",
       "      <td>0.0</td>\n",
       "      <td>1.0</td>\n",
       "      <td>0.0</td>\n",
       "      <td>0.0</td>\n",
       "      <td>0.0</td>\n",
       "      <td>1.0</td>\n",
       "      <td>0.0</td>\n",
       "      <td>0.0</td>\n",
       "      <td>0.0</td>\n",
       "      <td>0.0</td>\n",
       "    </tr>\n",
       "    <tr>\n",
       "      <th>2</th>\n",
       "      <td>1.0</td>\n",
       "      <td>0.0</td>\n",
       "      <td>0.0</td>\n",
       "      <td>0.0</td>\n",
       "      <td>0.0</td>\n",
       "      <td>0.0</td>\n",
       "      <td>0.0</td>\n",
       "      <td>0.0</td>\n",
       "      <td>0.0</td>\n",
       "      <td>0.0</td>\n",
       "      <td>0.0</td>\n",
       "      <td>0.0</td>\n",
       "      <td>0.0</td>\n",
       "      <td>0.0</td>\n",
       "      <td>0.0</td>\n",
       "      <td>1.0</td>\n",
       "      <td>1.0</td>\n",
       "      <td>0.0</td>\n",
       "      <td>0.0</td>\n",
       "      <td>0.0</td>\n",
       "      <td>0.0</td>\n",
       "      <td>0.0</td>\n",
       "      <td>0.0</td>\n",
       "      <td>1.0</td>\n",
       "      <td>0.0</td>\n",
       "      <td>1.0</td>\n",
       "      <td>0.0</td>\n",
       "      <td>0.0</td>\n",
       "      <td>0.0</td>\n",
       "      <td>0.0</td>\n",
       "    </tr>\n",
       "    <tr>\n",
       "      <th>3</th>\n",
       "      <td>1.0</td>\n",
       "      <td>0.0</td>\n",
       "      <td>0.0</td>\n",
       "      <td>0.0</td>\n",
       "      <td>0.0</td>\n",
       "      <td>0.0</td>\n",
       "      <td>0.0</td>\n",
       "      <td>0.0</td>\n",
       "      <td>0.0</td>\n",
       "      <td>0.0</td>\n",
       "      <td>0.0</td>\n",
       "      <td>0.0</td>\n",
       "      <td>0.0</td>\n",
       "      <td>1.0</td>\n",
       "      <td>0.0</td>\n",
       "      <td>0.0</td>\n",
       "      <td>1.0</td>\n",
       "      <td>0.0</td>\n",
       "      <td>0.0</td>\n",
       "      <td>0.0</td>\n",
       "      <td>0.0</td>\n",
       "      <td>0.0</td>\n",
       "      <td>1.0</td>\n",
       "      <td>0.0</td>\n",
       "      <td>0.0</td>\n",
       "      <td>1.0</td>\n",
       "      <td>0.0</td>\n",
       "      <td>0.0</td>\n",
       "      <td>0.0</td>\n",
       "      <td>0.0</td>\n",
       "    </tr>\n",
       "  </tbody>\n",
       "</table>\n",
       "</div>"
      ],
      "text/plain": [
       "   Intercept  veh_value_cat[T.1]  ...  agecat[T.5]  agecat[T.6]\n",
       "0        1.0                 0.0  ...          0.0          0.0\n",
       "2        1.0                 0.0  ...          0.0          0.0\n",
       "3        1.0                 0.0  ...          0.0          0.0\n",
       "\n",
       "[3 rows x 30 columns]"
      ]
     },
     "execution_count": 19,
     "metadata": {
      "tags": []
     },
     "output_type": "execute_result"
    }
   ],
   "source": [
    "X_train.head(3)"
   ]
  },
  {
   "cell_type": "markdown",
   "metadata": {
    "id": "e5VL1YCpkmGN"
   },
   "source": [
    "### Тренировка модели"
   ]
  },
  {
   "cell_type": "markdown",
   "metadata": {
    "id": "7RyPIdNqmIjU"
   },
   "source": [
    "`var_power` это параметр $p$, который необходимо регулировать, чтобы получить лучший результат. Вначале поставим его рандомно.\n",
    "\n"
   ]
  },
  {
   "cell_type": "markdown",
   "metadata": {
    "id": "JejN9xQ3nlc4"
   },
   "source": [
    "Чтобы улучшить модель, мы можем найти оптимальный параметр `var_power` ($p$), часто это не тривиальная задача, но её можно упростить, используя функцию [`minimize_scalar`](https://docs.scipy.org/doc/scipy/reference/generated/scipy.optimize.minimize_scalar.html) из библиотеки [Scipy](https://docs.scipy.org/doc/), которая минимизирует скалярную функцию одной переменной. Чтобы показать как это работает, вначале установим случайное значение параметру `var_power`."
   ]
  },
  {
   "cell_type": "code",
   "execution_count": null,
   "metadata": {
    "colab": {
     "base_uri": "https://localhost:8080/"
    },
    "id": "IZe7r_P2equ4",
    "outputId": "f964dd04-55fb-4167-8a3c-f2a664e2634c"
   },
   "outputs": [
    {
     "name": "stderr",
     "output_type": "stream",
     "text": [
      "/usr/local/lib/python3.6/dist-packages/ipykernel_launcher.py:2: DeprecationWarning: Calling Family(..) with a link class as argument is deprecated.\n",
      "Use an instance of a link class instead.\n",
      "  \n"
     ]
    },
    {
     "name": "stdout",
     "output_type": "stream",
     "text": [
      "                 Generalized Linear Model Regression Results                  \n",
      "==============================================================================\n",
      "Dep. Variable:              claimcst0   No. Observations:                54025\n",
      "Model:                            GLM   Df Residuals:                    53995\n",
      "Model Family:                 Tweedie   Df Model:                           29\n",
      "Link Function:                    log   Scale:                          5.1284\n",
      "Method:                          IRLS   Log-Likelihood:                    nan\n",
      "Date:                Tue, 17 Nov 2020   Deviance:                   2.5183e+05\n",
      "Time:                        18:17:02   Pearson chi2:                 2.77e+05\n",
      "No. Iterations:                    31                                         \n",
      "Covariance Type:            nonrobust                                         \n",
      "======================================================================================\n",
      "                         coef    std err          z      P>|z|      [0.025      0.975]\n",
      "--------------------------------------------------------------------------------------\n",
      "Intercept            -26.7980   1095.155     -0.024      0.980   -2173.262    2119.666\n",
      "veh_value_cat[T.1]    32.4744   1095.155      0.030      0.976   -2113.990    2178.939\n",
      "veh_value_cat[T.2]    33.3529   1095.155      0.030      0.976   -2113.111    2179.817\n",
      "veh_value_cat[T.3]    34.0194   1095.155      0.031      0.975   -2112.445    2180.484\n",
      "veh_value_cat[T.4]    34.8128   1095.155      0.032      0.975   -2111.651    2181.277\n",
      "veh_value_cat[T.5]    35.6362   1095.155      0.033      0.974   -2110.828    2182.100\n",
      "veh_value_cat[T.6]    36.4946   1095.155      0.033      0.973   -2109.970    2182.959\n",
      "veh_body[T.HBACK]      0.0631      0.010      6.393      0.000       0.044       0.082\n",
      "veh_body[T.HDTOP]      0.1463      0.012     12.138      0.000       0.123       0.170\n",
      "veh_body[T.MIBUS]      0.0663      0.016      4.157      0.000       0.035       0.098\n",
      "veh_body[T.Other]      0.0118      0.023      0.519      0.604      -0.033       0.056\n",
      "veh_body[T.PANVN]      0.1077      0.015      7.313      0.000       0.079       0.137\n",
      "veh_body[T.SEDAN]      0.0576      0.010      5.853      0.000       0.038       0.077\n",
      "veh_body[T.STNWG]      0.0923      0.010      9.342      0.000       0.073       0.112\n",
      "veh_body[T.TRUCK]      0.0889      0.012      7.419      0.000       0.065       0.112\n",
      "veh_body[T.UTE]        0.0166      0.011      1.509      0.131      -0.005       0.038\n",
      "veh_age[T.2]           0.0161      0.004      4.049      0.000       0.008       0.024\n",
      "veh_age[T.3]          -0.0419      0.004    -10.520      0.000      -0.050      -0.034\n",
      "veh_age[T.4]          -0.0235      0.004     -5.810      0.000      -0.031      -0.016\n",
      "gender[T.M]            0.0443      0.003     16.484      0.000       0.039       0.050\n",
      "area[T.B]             -0.0305      0.004     -7.800      0.000      -0.038      -0.023\n",
      "area[T.C]             -0.0419      0.004    -11.851      0.000      -0.049      -0.035\n",
      "area[T.D]              0.0008      0.005      0.168      0.867      -0.009       0.011\n",
      "area[T.E]              0.0479      0.005      9.733      0.000       0.038       0.057\n",
      "area[T.F]              0.0460      0.005      8.603      0.000       0.035       0.056\n",
      "agecat[T.2]            0.0141      0.004      3.182      0.001       0.005       0.023\n",
      "agecat[T.3]           -0.0500      0.004    -11.520      0.000      -0.058      -0.041\n",
      "agecat[T.4]           -0.0089      0.004     -2.047      0.041      -0.017      -0.000\n",
      "agecat[T.5]           -0.0754      0.005    -14.646      0.000      -0.085      -0.065\n",
      "agecat[T.6]           -0.0551      0.006     -9.045      0.000      -0.067      -0.043\n",
      "======================================================================================\n"
     ]
    }
   ],
   "source": [
    "# sm.families.Tweedie - https://www.statsmodels.org/0.9.0/generated/statsmodels.genmod.families.family.Tweedie.html\n",
    "res = sm.GLM(y_train, X_train, family=sm.families.Tweedie(link=sm.families.links.log, var_power=1.1)).fit() # family укажем семейство распределений; \n",
    "print(res.summary())"
   ]
  },
  {
   "cell_type": "markdown",
   "metadata": {
    "id": "hd8oVVlnos8d"
   },
   "source": [
    "В качестве метрики качества, возьмем $r^2$. \n",
    "\n",
    "$r^2 = 1 - \\frac{RSS}{\\sum \\limits_{i=1}^n(y_i - \\overline Y)^2}$, где\n",
    "\n",
    "$RSS = \\sum \\limits_{i=1}^n(y_i - y_{pred_i})^2$\n",
    "\n",
    "Видим, что у нас вышло хорошее качество модели."
   ]
  },
  {
   "cell_type": "code",
   "execution_count": null,
   "metadata": {
    "colab": {
     "base_uri": "https://localhost:8080/"
    },
    "id": "XpbxxvMVgXF3",
    "outputId": "10dd9ce4-79aa-4381-abae-eb0aef955e93"
   },
   "outputs": [
    {
     "data": {
      "text/plain": [
       "0.9165165474944557"
      ]
     },
     "execution_count": 25,
     "metadata": {
      "tags": []
     },
     "output_type": "execute_result"
    }
   ],
   "source": [
    "y_pred = res.predict(X_test).to_list()\n",
    "r2_score(y_test, y_pred)"
   ]
  },
  {
   "cell_type": "markdown",
   "metadata": {
    "id": "wfcliF6dpKcU"
   },
   "source": [
    "Чтобы подобрать оптимальное значение `var_power`, воспользуемся функцией правдоподобия из библиотеки tweedie и минимизируем её, используя функцию `minimize_scalar`. Оптимальное значение `var_power`, лежит в `opt.x`"
   ]
  },
  {
   "cell_type": "code",
   "execution_count": null,
   "metadata": {
    "colab": {
     "base_uri": "https://localhost:8080/"
    },
    "id": "wYByjZgfe4H9",
    "outputId": "98cba6da-b8a0-4067-e9c5-ce976f3b874a"
   },
   "outputs": [
    {
     "name": "stdout",
     "output_type": "stream",
     "text": [
      "     fun: 26100.348965442157\n",
      " message: 'Solution found.'\n",
      "    nfev: 10\n",
      "  status: 0\n",
      " success: True\n",
      "       x: 1.4276480268863827\n"
     ]
    }
   ],
   "source": [
    "def loglike_p(p):\n",
    "    return -tweedie(mu=res.mu, p=p, phi=res.scale).logpdf(res._endog).sum()\n",
    "\n",
    "opt = sp.optimize.minimize_scalar(loglike_p, bounds=(1.05, 1.95), method='bounded')\n",
    "print(opt)"
   ]
  },
  {
   "cell_type": "code",
   "execution_count": null,
   "metadata": {
    "colab": {
     "base_uri": "https://localhost:8080/"
    },
    "id": "sKF24MSue7UO",
    "outputId": "2ad4dca2-1f23-472f-da84-042aef2cf7b1"
   },
   "outputs": [
    {
     "name": "stderr",
     "output_type": "stream",
     "text": [
      "/usr/local/lib/python3.6/dist-packages/ipykernel_launcher.py:1: DeprecationWarning: Calling Family(..) with a link class as argument is deprecated.\n",
      "Use an instance of a link class instead.\n",
      "  \"\"\"Entry point for launching an IPython kernel.\n"
     ]
    },
    {
     "name": "stdout",
     "output_type": "stream",
     "text": [
      "                 Generalized Linear Model Regression Results                  \n",
      "==============================================================================\n",
      "Dep. Variable:              claimcst0   No. Observations:                54025\n",
      "Model:                            GLM   Df Residuals:                    53995\n",
      "Model Family:                 Tweedie   Df Model:                           29\n",
      "Link Function:                    log   Scale:                          5.1284\n",
      "Method:                          IRLS   Log-Likelihood:                    nan\n",
      "Date:                Tue, 17 Nov 2020   Deviance:                   2.5183e+05\n",
      "Time:                        18:17:33   Pearson chi2:                 2.77e+05\n",
      "No. Iterations:                    31                                         \n",
      "Covariance Type:            nonrobust                                         \n",
      "======================================================================================\n",
      "                         coef    std err          z      P>|z|      [0.025      0.975]\n",
      "--------------------------------------------------------------------------------------\n",
      "Intercept            -26.7980   1095.155     -0.024      0.980   -2173.262    2119.666\n",
      "veh_value_cat[T.1]    32.4744   1095.155      0.030      0.976   -2113.990    2178.939\n",
      "veh_value_cat[T.2]    33.3529   1095.155      0.030      0.976   -2113.111    2179.817\n",
      "veh_value_cat[T.3]    34.0194   1095.155      0.031      0.975   -2112.445    2180.484\n",
      "veh_value_cat[T.4]    34.8128   1095.155      0.032      0.975   -2111.651    2181.277\n",
      "veh_value_cat[T.5]    35.6362   1095.155      0.033      0.974   -2110.828    2182.100\n",
      "veh_value_cat[T.6]    36.4946   1095.155      0.033      0.973   -2109.970    2182.959\n",
      "veh_body[T.HBACK]      0.0631      0.010      6.393      0.000       0.044       0.082\n",
      "veh_body[T.HDTOP]      0.1463      0.012     12.138      0.000       0.123       0.170\n",
      "veh_body[T.MIBUS]      0.0663      0.016      4.157      0.000       0.035       0.098\n",
      "veh_body[T.Other]      0.0118      0.023      0.519      0.604      -0.033       0.056\n",
      "veh_body[T.PANVN]      0.1077      0.015      7.313      0.000       0.079       0.137\n",
      "veh_body[T.SEDAN]      0.0576      0.010      5.853      0.000       0.038       0.077\n",
      "veh_body[T.STNWG]      0.0923      0.010      9.342      0.000       0.073       0.112\n",
      "veh_body[T.TRUCK]      0.0889      0.012      7.419      0.000       0.065       0.112\n",
      "veh_body[T.UTE]        0.0166      0.011      1.509      0.131      -0.005       0.038\n",
      "veh_age[T.2]           0.0161      0.004      4.049      0.000       0.008       0.024\n",
      "veh_age[T.3]          -0.0419      0.004    -10.520      0.000      -0.050      -0.034\n",
      "veh_age[T.4]          -0.0235      0.004     -5.810      0.000      -0.031      -0.016\n",
      "gender[T.M]            0.0443      0.003     16.484      0.000       0.039       0.050\n",
      "area[T.B]             -0.0305      0.004     -7.800      0.000      -0.038      -0.023\n",
      "area[T.C]             -0.0419      0.004    -11.851      0.000      -0.049      -0.035\n",
      "area[T.D]              0.0008      0.005      0.168      0.867      -0.009       0.011\n",
      "area[T.E]              0.0479      0.005      9.733      0.000       0.038       0.057\n",
      "area[T.F]              0.0460      0.005      8.603      0.000       0.035       0.056\n",
      "agecat[T.2]            0.0141      0.004      3.182      0.001       0.005       0.023\n",
      "agecat[T.3]           -0.0500      0.004    -11.520      0.000      -0.058      -0.041\n",
      "agecat[T.4]           -0.0089      0.004     -2.047      0.041      -0.017      -0.000\n",
      "agecat[T.5]           -0.0754      0.005    -14.646      0.000      -0.085      -0.065\n",
      "agecat[T.6]           -0.0551      0.006     -9.045      0.000      -0.067      -0.043\n",
      "======================================================================================\n",
      "     fun: 25659.063141036684\n",
      " message: 'Solution found.'\n",
      "    nfev: 11\n",
      "  status: 0\n",
      " success: True\n",
      "       x: 1.7600128040712801\n"
     ]
    }
   ],
   "source": [
    "res2 = sm.GLM(y_train, X_train, family=sm.families.Tweedie(link=sm.families.links.log, var_power=opt.x)).fit()\n",
    "print(res.summary())\n",
    "\n",
    "def loglike_p(p):\n",
    "    return -tweedie(mu=res2.mu, p=p, phi=res2.scale).logpdf(res2._endog).sum()\n",
    "\n",
    "opt2 = sp.optimize.minimize_scalar(loglike_p, bounds=(1.05, 1.95), method='bounded')\n",
    "print(opt2)"
   ]
  },
  {
   "cell_type": "code",
   "execution_count": null,
   "metadata": {
    "colab": {
     "base_uri": "https://localhost:8080/"
    },
    "id": "BPGMCnx5jmpL",
    "outputId": "3a67954e-c002-4d08-f74a-95ba910bdc78"
   },
   "outputs": [
    {
     "data": {
      "text/plain": [
       "0.9147505536729288"
      ]
     },
     "execution_count": 28,
     "metadata": {
      "tags": []
     },
     "output_type": "execute_result"
    }
   ],
   "source": [
    "y_pred = res2.predict(X_test).to_list()\n",
    "r2_score(y_test, y_pred)"
   ]
  },
  {
   "cell_type": "markdown",
   "metadata": {
    "id": "3_IgxVnYsv-F"
   },
   "source": [
    "Видим, что в нашем случае качество модели не изменилось, но так бывает не всегда! Если видим, что результат изменяется, то данный процесс повторяем иттерационно. Т.к. в нашем случае изменений нет, то оставим нашу модель как есть."
   ]
  },
  {
   "cell_type": "markdown",
   "metadata": {
    "id": "juPeHfL2s_xc"
   },
   "source": [
    "Давайте посмотрим на предсказания тех значений, где они не равный нулю, чтобы убедится, что построенная модель работает корректно."
   ]
  },
  {
   "cell_type": "markdown",
   "metadata": {
    "id": "Qm5NnzR718-o"
   },
   "source": []
  },
  {
   "cell_type": "code",
   "execution_count": null,
   "metadata": {
    "colab": {
     "base_uri": "https://localhost:8080/",
     "height": 419
    },
    "id": "jYUe_6ANtI6S",
    "outputId": "c8690cdb-386b-4b02-f878-82ba32b47b15"
   },
   "outputs": [
    {
     "data": {
      "text/html": [
       "<div>\n",
       "<style scoped>\n",
       "    .dataframe tbody tr th:only-of-type {\n",
       "        vertical-align: middle;\n",
       "    }\n",
       "\n",
       "    .dataframe tbody tr th {\n",
       "        vertical-align: top;\n",
       "    }\n",
       "\n",
       "    .dataframe thead th {\n",
       "        text-align: right;\n",
       "    }\n",
       "</style>\n",
       "<table border=\"1\" class=\"dataframe\">\n",
       "  <thead>\n",
       "    <tr style=\"text-align: right;\">\n",
       "      <th></th>\n",
       "      <th>claimcst0</th>\n",
       "      <th>pred</th>\n",
       "    </tr>\n",
       "  </thead>\n",
       "  <tbody>\n",
       "    <tr>\n",
       "      <th>183</th>\n",
       "      <td>9424.349976</td>\n",
       "      <td>7874.64</td>\n",
       "    </tr>\n",
       "    <tr>\n",
       "      <th>241</th>\n",
       "      <td>369.180000</td>\n",
       "      <td>310.28</td>\n",
       "    </tr>\n",
       "    <tr>\n",
       "      <th>387</th>\n",
       "      <td>937.559996</td>\n",
       "      <td>705.13</td>\n",
       "    </tr>\n",
       "    <tr>\n",
       "      <th>456</th>\n",
       "      <td>2659.369995</td>\n",
       "      <td>3074.62</td>\n",
       "    </tr>\n",
       "    <tr>\n",
       "      <th>571</th>\n",
       "      <td>782.359999</td>\n",
       "      <td>739.00</td>\n",
       "    </tr>\n",
       "    <tr>\n",
       "      <th>...</th>\n",
       "      <td>...</td>\n",
       "      <td>...</td>\n",
       "    </tr>\n",
       "    <tr>\n",
       "      <th>67566</th>\n",
       "      <td>3054.070000</td>\n",
       "      <td>2902.53</td>\n",
       "    </tr>\n",
       "    <tr>\n",
       "      <th>67669</th>\n",
       "      <td>1552.599998</td>\n",
       "      <td>1362.87</td>\n",
       "    </tr>\n",
       "    <tr>\n",
       "      <th>67747</th>\n",
       "      <td>468.179999</td>\n",
       "      <td>339.94</td>\n",
       "    </tr>\n",
       "    <tr>\n",
       "      <th>67846</th>\n",
       "      <td>2807.929993</td>\n",
       "      <td>3288.49</td>\n",
       "    </tr>\n",
       "    <tr>\n",
       "      <th>67849</th>\n",
       "      <td>2473.969994</td>\n",
       "      <td>3021.30</td>\n",
       "    </tr>\n",
       "  </tbody>\n",
       "</table>\n",
       "<p>919 rows × 2 columns</p>\n",
       "</div>"
      ],
      "text/plain": [
       "         claimcst0     pred\n",
       "183    9424.349976  7874.64\n",
       "241     369.180000   310.28\n",
       "387     937.559996   705.13\n",
       "456    2659.369995  3074.62\n",
       "571     782.359999   739.00\n",
       "...            ...      ...\n",
       "67566  3054.070000  2902.53\n",
       "67669  1552.599998  1362.87\n",
       "67747   468.179999   339.94\n",
       "67846  2807.929993  3288.49\n",
       "67849  2473.969994  3021.30\n",
       "\n",
       "[919 rows x 2 columns]"
      ]
     },
     "execution_count": 28,
     "metadata": {
      "tags": []
     },
     "output_type": "execute_result"
    }
   ],
   "source": [
    "y_test['pred'] = np.round(np.array(y_pred), 2)\n",
    "y_test[y_test.claimcst0 != 0]"
   ]
  },
  {
   "cell_type": "markdown",
   "metadata": {
    "id": "S9fpQ0l90QYr"
   },
   "source": [
    "Видим, что модель работает и её можно использовать для моделирования страховых выплат."
   ]
  },
  {
   "cell_type": "markdown",
   "metadata": {
    "id": "oB7liWYOFNtf"
   },
   "source": [
    "### Сравним модель Tweedie и линейную регрессию"
   ]
  },
  {
   "cell_type": "code",
   "execution_count": null,
   "metadata": {
    "id": "pCU2f2oY-JL_"
   },
   "outputs": [],
   "source": [
    "# запишем файл с результатами измерений\n",
    "import csv\n",
    "order = ['r2', 'mse', 'mae']\n",
    "def write_csv(data, order):\n",
    "  with open('results.csv', 'a') as f:\n",
    "    writer = csv.DictWriter(f, fieldnames=order)\n",
    "    writer.writerow(data)"
   ]
  },
  {
   "cell_type": "code",
   "execution_count": null,
   "metadata": {
    "colab": {
     "base_uri": "https://localhost:8080/",
     "height": 162
    },
    "id": "AxzyWqAk9Rtb",
    "outputId": "86c65a92-bd7b-4fb5-a17a-3aa2084911e3"
   },
   "outputs": [
    {
     "name": "stderr",
     "output_type": "stream",
     "text": [
      "/usr/local/lib/python3.6/dist-packages/ipykernel_launcher.py:5: DeprecationWarning: Calling Family(..) with a link class as argument is deprecated.\n",
      "Use an instance of a link class instead.\n",
      "  \"\"\"\n"
     ]
    },
    {
     "data": {
      "text/html": [
       "<div>\n",
       "<style scoped>\n",
       "    .dataframe tbody tr th:only-of-type {\n",
       "        vertical-align: middle;\n",
       "    }\n",
       "\n",
       "    .dataframe tbody tr th {\n",
       "        vertical-align: top;\n",
       "    }\n",
       "\n",
       "    .dataframe thead th {\n",
       "        text-align: right;\n",
       "    }\n",
       "</style>\n",
       "<table border=\"1\" class=\"dataframe\">\n",
       "  <thead>\n",
       "    <tr style=\"text-align: right;\">\n",
       "      <th></th>\n",
       "      <th>r2</th>\n",
       "      <th>mse</th>\n",
       "      <th>mae</th>\n",
       "    </tr>\n",
       "  </thead>\n",
       "  <tbody>\n",
       "    <tr>\n",
       "      <th>linear</th>\n",
       "      <td>0.92</td>\n",
       "      <td>92964.22</td>\n",
       "      <td>39.02</td>\n",
       "    </tr>\n",
       "    <tr>\n",
       "      <th>tweedie</th>\n",
       "      <td>0.92</td>\n",
       "      <td>90841.13</td>\n",
       "      <td>30.58</td>\n",
       "    </tr>\n",
       "  </tbody>\n",
       "</table>\n",
       "</div>"
      ],
      "text/plain": [
       "           r2       mse    mae\n",
       "linear   0.92  92964.22  39.02\n",
       "tweedie  0.92  90841.13  30.58"
      ]
     },
     "execution_count": 97,
     "metadata": {
      "tags": []
     },
     "output_type": "execute_result"
    }
   ],
   "source": [
    "from sklearn.linear_model import Ridge\n",
    "from sklearn.metrics import r2_score, mean_squared_error, mean_absolute_error\n",
    "\n",
    "# тренировка моделей\n",
    "ridge = Ridge().fit(X_train, y_train)\n",
    "tweedie = sm.GLM(y_train, X_train, family=sm.families.Tweedie(link=sm.families.links.log, var_power=1.1)).fit()\n",
    "\n",
    "models = [ridge, tweedie]\n",
    "\n",
    "metrics = {'r2': r2_score, \n",
    "           'mse': mean_squared_error,\n",
    "           'mae': mean_absolute_error}\n",
    "\n",
    "# измерим метрики\n",
    "for model in models:\n",
    "  metric_res = {}\n",
    "  for key in metrics.keys():\n",
    "    metric_res[key] = round(metrics[key](model.predict(X_test), y_test.claimcst0), 2)\n",
    "  write_csv(metric_res, order)\n",
    "\n",
    "# откроем посмотреть результат\n",
    "results = pd.read_csv('results.csv', names = order)\n",
    "results.index = ['linear', 'tweedie']\n",
    "results"
   ]
  },
  {
   "cell_type": "markdown",
   "metadata": {
    "id": "R6YSuNjZb6e3"
   },
   "source": [
    "Настройка регуляризации в statsmodel."
   ]
  },
  {
   "cell_type": "markdown",
   "metadata": {
    "id": "2deUTp5avUHW"
   },
   "source": [
    "### Источники и дополнительные материалы"
   ]
  },
  {
   "cell_type": "markdown",
   "metadata": {
    "id": "WYgxTxqsvX6t"
   },
   "source": [
    "Материал создан на основе статьи: [ссылка](https://towardsdatascience.com/insurance-risk-pricing-tweedie-approach-1d71207268fc)\n",
    "\n",
    "Библиотека Tweedie: [ссылка](https://github.com/thequackdaddy/tweedie)\n",
    "\n",
    "Пример использования библиотекой Tweedie: [ссылка](https://github.com/thequackdaddy/tweedie/blob/master/example/tweedie_demo.ipynb)\n",
    "\n",
    "Функция минимизации minimize_scalar из Scipy:  [ссылка](https://docs.scipy.org/doc/scipy/reference/generated/scipy.optimize.minimize_scalar.html)\n",
    "\n",
    "Ноутбук с реализацией XGBOOST + Tweedie распределение: [ссылка](https://colab.research.google.com/gist/ajaytiwari-isb/dd78b382c44d69332574c381e016af2a/tweedie-regression.ipynb#scrollTo=PAghfX5EdjZ2)\n",
    "\n",
    "Функция потерь распределения Tweedie: [ссылка](https://towardsdatascience.com/tweedie-loss-function-for-right-skewed-data-2c5ca470678f)\n",
    "\n",
    "Удобная обертка dmatrix для формирования тренировочных и тестовых данных: [ссылка](https://patsy.readthedocs.io/en/latest/quickstart.html?highlight=dmatrices#quickstart)"
   ]
  }
 ],
 "metadata": {
  "colab": {
   "collapsed_sections": [],
   "name": "Tweedie.ipynb",
   "provenance": [],
   "toc_visible": true
  },
  "kernelspec": {
   "display_name": "Python 3",
   "language": "python",
   "name": "python3"
  },
  "language_info": {
   "codemirror_mode": {
    "name": "ipython",
    "version": 3
   },
   "file_extension": ".py",
   "mimetype": "text/x-python",
   "name": "python",
   "nbconvert_exporter": "python",
   "pygments_lexer": "ipython3",
   "version": "3.8.6"
  }
 },
 "nbformat": 4,
 "nbformat_minor": 4
}
