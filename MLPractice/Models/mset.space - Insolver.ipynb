{
 "cells": [
  {
   "cell_type": "code",
   "execution_count": 39,
   "id": "e39085b8-15a4-43d9-80a4-d4458a4a1d71",
   "metadata": {},
   "outputs": [],
   "source": [
    "%matplotlib inline\n",
    "import numpy as np\n",
    "import pandas as pd\n",
    "import matplotlib.pyplot as plt\n",
    "from hyperopt import hp\n",
    "from sklearn.metrics import mean_squared_error, mean_poisson_deviance\n",
    "from base64 import b64decode, b64encode\n",
    "from io import BytesIO\n",
    "from PIL import Image\n",
    "import shap\n",
    "import seaborn as sns\n",
    "from scipy.stats import gmean, rankdata\n",
    "\n",
    "\n",
    "\n",
    "\n",
    "from insolver.wrappers import InsolverGLMWrapper, InsolverGBMWrapper\n",
    "from insolver import InsolverDataFrame\n",
    "from insolver.transforms import InsolverTransform"
   ]
  },
  {
   "cell_type": "code",
   "execution_count": 2,
   "id": "eb62433b-eb24-4d5a-9a85-809caa088e0e",
   "metadata": {},
   "outputs": [
    {
     "name": "stdout",
     "output_type": "stream",
     "text": [
      "Wall time: 2.15 s\n"
     ]
    },
    {
     "data": {
      "text/html": [
       "<div>\n",
       "<style scoped>\n",
       "    .dataframe tbody tr th:only-of-type {\n",
       "        vertical-align: middle;\n",
       "    }\n",
       "\n",
       "    .dataframe tbody tr th {\n",
       "        vertical-align: top;\n",
       "    }\n",
       "\n",
       "    .dataframe thead th {\n",
       "        text-align: right;\n",
       "    }\n",
       "</style>\n",
       "<table border=\"1\" class=\"dataframe\">\n",
       "  <thead>\n",
       "    <tr style=\"text-align: right;\">\n",
       "      <th></th>\n",
       "      <th>f0</th>\n",
       "      <th>f1</th>\n",
       "      <th>f2</th>\n",
       "      <th>f3</th>\n",
       "      <th>f4</th>\n",
       "      <th>f5</th>\n",
       "      <th>f6</th>\n",
       "      <th>f7</th>\n",
       "      <th>f8</th>\n",
       "      <th>f9</th>\n",
       "      <th>...</th>\n",
       "      <th>f91</th>\n",
       "      <th>f92</th>\n",
       "      <th>f93</th>\n",
       "      <th>f94</th>\n",
       "      <th>f95</th>\n",
       "      <th>f96</th>\n",
       "      <th>f97</th>\n",
       "      <th>f98</th>\n",
       "      <th>f99</th>\n",
       "      <th>loss</th>\n",
       "    </tr>\n",
       "    <tr>\n",
       "      <th>id</th>\n",
       "      <th></th>\n",
       "      <th></th>\n",
       "      <th></th>\n",
       "      <th></th>\n",
       "      <th></th>\n",
       "      <th></th>\n",
       "      <th></th>\n",
       "      <th></th>\n",
       "      <th></th>\n",
       "      <th></th>\n",
       "      <th></th>\n",
       "      <th></th>\n",
       "      <th></th>\n",
       "      <th></th>\n",
       "      <th></th>\n",
       "      <th></th>\n",
       "      <th></th>\n",
       "      <th></th>\n",
       "      <th></th>\n",
       "      <th></th>\n",
       "      <th></th>\n",
       "    </tr>\n",
       "  </thead>\n",
       "  <tbody>\n",
       "    <tr>\n",
       "      <th>0</th>\n",
       "      <td>-0.002350</td>\n",
       "      <td>59</td>\n",
       "      <td>0.766739</td>\n",
       "      <td>-1.350460</td>\n",
       "      <td>42.2727</td>\n",
       "      <td>16.68570</td>\n",
       "      <td>30.3599</td>\n",
       "      <td>1.267300</td>\n",
       "      <td>0.392007</td>\n",
       "      <td>1.09101</td>\n",
       "      <td>...</td>\n",
       "      <td>-42.43990</td>\n",
       "      <td>26.854000</td>\n",
       "      <td>1.45751</td>\n",
       "      <td>0.696161</td>\n",
       "      <td>0.941764</td>\n",
       "      <td>1.828470</td>\n",
       "      <td>0.924090</td>\n",
       "      <td>2.29658</td>\n",
       "      <td>10.48980</td>\n",
       "      <td>15</td>\n",
       "    </tr>\n",
       "    <tr>\n",
       "      <th>1</th>\n",
       "      <td>0.784462</td>\n",
       "      <td>145</td>\n",
       "      <td>-0.463845</td>\n",
       "      <td>-0.530421</td>\n",
       "      <td>27324.9000</td>\n",
       "      <td>3.47545</td>\n",
       "      <td>160.4980</td>\n",
       "      <td>0.828007</td>\n",
       "      <td>3.735860</td>\n",
       "      <td>1.28138</td>\n",
       "      <td>...</td>\n",
       "      <td>-184.13200</td>\n",
       "      <td>7.901370</td>\n",
       "      <td>1.70644</td>\n",
       "      <td>-0.494699</td>\n",
       "      <td>-2.058300</td>\n",
       "      <td>0.819184</td>\n",
       "      <td>0.439152</td>\n",
       "      <td>2.36470</td>\n",
       "      <td>1.14383</td>\n",
       "      <td>3</td>\n",
       "    </tr>\n",
       "    <tr>\n",
       "      <th>2</th>\n",
       "      <td>0.317816</td>\n",
       "      <td>19</td>\n",
       "      <td>-0.432571</td>\n",
       "      <td>-0.382644</td>\n",
       "      <td>1383.2600</td>\n",
       "      <td>19.71290</td>\n",
       "      <td>31.1026</td>\n",
       "      <td>-0.515354</td>\n",
       "      <td>34.430800</td>\n",
       "      <td>1.24210</td>\n",
       "      <td>...</td>\n",
       "      <td>7.43721</td>\n",
       "      <td>37.218100</td>\n",
       "      <td>3.25339</td>\n",
       "      <td>0.337934</td>\n",
       "      <td>0.615037</td>\n",
       "      <td>2.216760</td>\n",
       "      <td>0.745268</td>\n",
       "      <td>1.69679</td>\n",
       "      <td>12.30550</td>\n",
       "      <td>6</td>\n",
       "    </tr>\n",
       "    <tr>\n",
       "      <th>3</th>\n",
       "      <td>0.210753</td>\n",
       "      <td>17</td>\n",
       "      <td>-0.616454</td>\n",
       "      <td>0.946362</td>\n",
       "      <td>-119.2530</td>\n",
       "      <td>4.08235</td>\n",
       "      <td>185.2570</td>\n",
       "      <td>1.383310</td>\n",
       "      <td>-47.521400</td>\n",
       "      <td>1.09130</td>\n",
       "      <td>...</td>\n",
       "      <td>9.66778</td>\n",
       "      <td>0.626942</td>\n",
       "      <td>1.49425</td>\n",
       "      <td>0.517513</td>\n",
       "      <td>-10.222100</td>\n",
       "      <td>2.627310</td>\n",
       "      <td>0.617270</td>\n",
       "      <td>1.45645</td>\n",
       "      <td>10.02880</td>\n",
       "      <td>2</td>\n",
       "    </tr>\n",
       "    <tr>\n",
       "      <th>4</th>\n",
       "      <td>0.439671</td>\n",
       "      <td>20</td>\n",
       "      <td>0.968126</td>\n",
       "      <td>-0.092546</td>\n",
       "      <td>74.3020</td>\n",
       "      <td>12.30650</td>\n",
       "      <td>72.1860</td>\n",
       "      <td>-0.233964</td>\n",
       "      <td>24.399100</td>\n",
       "      <td>1.10151</td>\n",
       "      <td>...</td>\n",
       "      <td>290.65700</td>\n",
       "      <td>15.604300</td>\n",
       "      <td>1.73557</td>\n",
       "      <td>-0.476668</td>\n",
       "      <td>1.390190</td>\n",
       "      <td>2.195740</td>\n",
       "      <td>0.826987</td>\n",
       "      <td>1.78485</td>\n",
       "      <td>7.07197</td>\n",
       "      <td>1</td>\n",
       "    </tr>\n",
       "  </tbody>\n",
       "</table>\n",
       "<p>5 rows × 101 columns</p>\n",
       "</div>"
      ],
      "text/plain": [
       "          f0   f1        f2        f3          f4        f5        f6  \\\n",
       "id                                                                      \n",
       "0  -0.002350   59  0.766739 -1.350460     42.2727  16.68570   30.3599   \n",
       "1   0.784462  145 -0.463845 -0.530421  27324.9000   3.47545  160.4980   \n",
       "2   0.317816   19 -0.432571 -0.382644   1383.2600  19.71290   31.1026   \n",
       "3   0.210753   17 -0.616454  0.946362   -119.2530   4.08235  185.2570   \n",
       "4   0.439671   20  0.968126 -0.092546     74.3020  12.30650   72.1860   \n",
       "\n",
       "          f7         f8       f9  ...        f91        f92      f93  \\\n",
       "id                                ...                                  \n",
       "0   1.267300   0.392007  1.09101  ...  -42.43990  26.854000  1.45751   \n",
       "1   0.828007   3.735860  1.28138  ... -184.13200   7.901370  1.70644   \n",
       "2  -0.515354  34.430800  1.24210  ...    7.43721  37.218100  3.25339   \n",
       "3   1.383310 -47.521400  1.09130  ...    9.66778   0.626942  1.49425   \n",
       "4  -0.233964  24.399100  1.10151  ...  290.65700  15.604300  1.73557   \n",
       "\n",
       "         f94        f95       f96       f97      f98       f99  loss  \n",
       "id                                                                    \n",
       "0   0.696161   0.941764  1.828470  0.924090  2.29658  10.48980    15  \n",
       "1  -0.494699  -2.058300  0.819184  0.439152  2.36470   1.14383     3  \n",
       "2   0.337934   0.615037  2.216760  0.745268  1.69679  12.30550     6  \n",
       "3   0.517513 -10.222100  2.627310  0.617270  1.45645  10.02880     2  \n",
       "4  -0.476668   1.390190  2.195740  0.826987  1.78485   7.07197     1  \n",
       "\n",
       "[5 rows x 101 columns]"
      ]
     },
     "execution_count": 2,
     "metadata": {},
     "output_type": "execute_result"
    }
   ],
   "source": [
    "%%time\n",
    "\n",
    "train_data = pd.read_csv('./data/train.csv',index_col=0)\n",
    "train_data.head()"
   ]
  },
  {
   "cell_type": "code",
   "execution_count": 3,
   "id": "357c5067-3bc8-4147-8e9c-8077af521dbc",
   "metadata": {},
   "outputs": [
    {
     "name": "stdout",
     "output_type": "stream",
     "text": [
      "Wall time: 1.18 s\n"
     ]
    },
    {
     "data": {
      "text/html": [
       "<div>\n",
       "<style scoped>\n",
       "    .dataframe tbody tr th:only-of-type {\n",
       "        vertical-align: middle;\n",
       "    }\n",
       "\n",
       "    .dataframe tbody tr th {\n",
       "        vertical-align: top;\n",
       "    }\n",
       "\n",
       "    .dataframe thead th {\n",
       "        text-align: right;\n",
       "    }\n",
       "</style>\n",
       "<table border=\"1\" class=\"dataframe\">\n",
       "  <thead>\n",
       "    <tr style=\"text-align: right;\">\n",
       "      <th></th>\n",
       "      <th>f0</th>\n",
       "      <th>f1</th>\n",
       "      <th>f2</th>\n",
       "      <th>f3</th>\n",
       "      <th>f4</th>\n",
       "      <th>f5</th>\n",
       "      <th>f6</th>\n",
       "      <th>f7</th>\n",
       "      <th>f8</th>\n",
       "      <th>f9</th>\n",
       "      <th>...</th>\n",
       "      <th>f90</th>\n",
       "      <th>f91</th>\n",
       "      <th>f92</th>\n",
       "      <th>f93</th>\n",
       "      <th>f94</th>\n",
       "      <th>f95</th>\n",
       "      <th>f96</th>\n",
       "      <th>f97</th>\n",
       "      <th>f98</th>\n",
       "      <th>f99</th>\n",
       "    </tr>\n",
       "    <tr>\n",
       "      <th>id</th>\n",
       "      <th></th>\n",
       "      <th></th>\n",
       "      <th></th>\n",
       "      <th></th>\n",
       "      <th></th>\n",
       "      <th></th>\n",
       "      <th></th>\n",
       "      <th></th>\n",
       "      <th></th>\n",
       "      <th></th>\n",
       "      <th></th>\n",
       "      <th></th>\n",
       "      <th></th>\n",
       "      <th></th>\n",
       "      <th></th>\n",
       "      <th></th>\n",
       "      <th></th>\n",
       "      <th></th>\n",
       "      <th></th>\n",
       "      <th></th>\n",
       "      <th></th>\n",
       "    </tr>\n",
       "  </thead>\n",
       "  <tbody>\n",
       "    <tr>\n",
       "      <th>250000</th>\n",
       "      <td>0.812665</td>\n",
       "      <td>15</td>\n",
       "      <td>-1.239120</td>\n",
       "      <td>-0.893251</td>\n",
       "      <td>295.5770</td>\n",
       "      <td>15.87120</td>\n",
       "      <td>23.04360</td>\n",
       "      <td>0.942256</td>\n",
       "      <td>29.898000</td>\n",
       "      <td>1.11394</td>\n",
       "      <td>...</td>\n",
       "      <td>0.446389</td>\n",
       "      <td>-422.332</td>\n",
       "      <td>-1.44630</td>\n",
       "      <td>1.69075</td>\n",
       "      <td>1.059300</td>\n",
       "      <td>-3.010570</td>\n",
       "      <td>1.94664</td>\n",
       "      <td>0.529470</td>\n",
       "      <td>1.386950</td>\n",
       "      <td>8.78767</td>\n",
       "    </tr>\n",
       "    <tr>\n",
       "      <th>250001</th>\n",
       "      <td>0.190344</td>\n",
       "      <td>131</td>\n",
       "      <td>-0.501361</td>\n",
       "      <td>0.801921</td>\n",
       "      <td>64.8866</td>\n",
       "      <td>3.09703</td>\n",
       "      <td>344.80500</td>\n",
       "      <td>0.807194</td>\n",
       "      <td>38.421900</td>\n",
       "      <td>1.09695</td>\n",
       "      <td>...</td>\n",
       "      <td>0.377179</td>\n",
       "      <td>10352.200</td>\n",
       "      <td>21.06270</td>\n",
       "      <td>1.84351</td>\n",
       "      <td>0.251895</td>\n",
       "      <td>4.440570</td>\n",
       "      <td>1.90309</td>\n",
       "      <td>0.248534</td>\n",
       "      <td>0.863881</td>\n",
       "      <td>11.79390</td>\n",
       "    </tr>\n",
       "    <tr>\n",
       "      <th>250002</th>\n",
       "      <td>0.919671</td>\n",
       "      <td>19</td>\n",
       "      <td>-0.057382</td>\n",
       "      <td>0.901419</td>\n",
       "      <td>11961.2000</td>\n",
       "      <td>16.39650</td>\n",
       "      <td>273.24000</td>\n",
       "      <td>-0.003300</td>\n",
       "      <td>37.940000</td>\n",
       "      <td>1.15222</td>\n",
       "      <td>...</td>\n",
       "      <td>0.990140</td>\n",
       "      <td>3224.020</td>\n",
       "      <td>-2.25287</td>\n",
       "      <td>1.55100</td>\n",
       "      <td>-0.559157</td>\n",
       "      <td>17.838600</td>\n",
       "      <td>1.83385</td>\n",
       "      <td>0.931796</td>\n",
       "      <td>2.336870</td>\n",
       "      <td>9.05400</td>\n",
       "    </tr>\n",
       "    <tr>\n",
       "      <th>250003</th>\n",
       "      <td>0.860985</td>\n",
       "      <td>19</td>\n",
       "      <td>-0.549509</td>\n",
       "      <td>0.471799</td>\n",
       "      <td>7501.6000</td>\n",
       "      <td>2.80698</td>\n",
       "      <td>71.08170</td>\n",
       "      <td>0.792136</td>\n",
       "      <td>0.395235</td>\n",
       "      <td>1.20157</td>\n",
       "      <td>...</td>\n",
       "      <td>1.396880</td>\n",
       "      <td>9689.760</td>\n",
       "      <td>14.77150</td>\n",
       "      <td>1.41390</td>\n",
       "      <td>0.329272</td>\n",
       "      <td>0.802437</td>\n",
       "      <td>2.23251</td>\n",
       "      <td>0.893348</td>\n",
       "      <td>1.359470</td>\n",
       "      <td>4.84833</td>\n",
       "    </tr>\n",
       "    <tr>\n",
       "      <th>250004</th>\n",
       "      <td>0.313229</td>\n",
       "      <td>89</td>\n",
       "      <td>0.588509</td>\n",
       "      <td>0.167705</td>\n",
       "      <td>2931.2600</td>\n",
       "      <td>4.34986</td>\n",
       "      <td>1.57187</td>\n",
       "      <td>1.118300</td>\n",
       "      <td>7.754630</td>\n",
       "      <td>1.16807</td>\n",
       "      <td>...</td>\n",
       "      <td>0.862502</td>\n",
       "      <td>2693.350</td>\n",
       "      <td>44.18050</td>\n",
       "      <td>1.58020</td>\n",
       "      <td>-0.191021</td>\n",
       "      <td>26.253000</td>\n",
       "      <td>2.68238</td>\n",
       "      <td>0.361923</td>\n",
       "      <td>1.532800</td>\n",
       "      <td>3.70660</td>\n",
       "    </tr>\n",
       "  </tbody>\n",
       "</table>\n",
       "<p>5 rows × 100 columns</p>\n",
       "</div>"
      ],
      "text/plain": [
       "              f0   f1        f2        f3          f4        f5         f6  \\\n",
       "id                                                                           \n",
       "250000  0.812665   15 -1.239120 -0.893251    295.5770  15.87120   23.04360   \n",
       "250001  0.190344  131 -0.501361  0.801921     64.8866   3.09703  344.80500   \n",
       "250002  0.919671   19 -0.057382  0.901419  11961.2000  16.39650  273.24000   \n",
       "250003  0.860985   19 -0.549509  0.471799   7501.6000   2.80698   71.08170   \n",
       "250004  0.313229   89  0.588509  0.167705   2931.2600   4.34986    1.57187   \n",
       "\n",
       "              f7         f8       f9  ...       f90        f91       f92  \\\n",
       "id                                    ...                                  \n",
       "250000  0.942256  29.898000  1.11394  ...  0.446389   -422.332  -1.44630   \n",
       "250001  0.807194  38.421900  1.09695  ...  0.377179  10352.200  21.06270   \n",
       "250002 -0.003300  37.940000  1.15222  ...  0.990140   3224.020  -2.25287   \n",
       "250003  0.792136   0.395235  1.20157  ...  1.396880   9689.760  14.77150   \n",
       "250004  1.118300   7.754630  1.16807  ...  0.862502   2693.350  44.18050   \n",
       "\n",
       "            f93       f94        f95      f96       f97       f98       f99  \n",
       "id                                                                           \n",
       "250000  1.69075  1.059300  -3.010570  1.94664  0.529470  1.386950   8.78767  \n",
       "250001  1.84351  0.251895   4.440570  1.90309  0.248534  0.863881  11.79390  \n",
       "250002  1.55100 -0.559157  17.838600  1.83385  0.931796  2.336870   9.05400  \n",
       "250003  1.41390  0.329272   0.802437  2.23251  0.893348  1.359470   4.84833  \n",
       "250004  1.58020 -0.191021  26.253000  2.68238  0.361923  1.532800   3.70660  \n",
       "\n",
       "[5 rows x 100 columns]"
      ]
     },
     "execution_count": 3,
     "metadata": {},
     "output_type": "execute_result"
    }
   ],
   "source": [
    "%%time\n",
    "\n",
    "test_data = pd.read_csv('./data/test.csv',index_col=0)\n",
    "test_data.head()"
   ]
  },
  {
   "cell_type": "code",
   "execution_count": 4,
   "id": "f8023709-4c33-40ae-bd49-a7f6bb50c991",
   "metadata": {},
   "outputs": [],
   "source": [
    "target = ['loss']"
   ]
  },
  {
   "cell_type": "code",
   "execution_count": 5,
   "id": "32dacb31-16d7-4341-b57a-06040a6580af",
   "metadata": {},
   "outputs": [],
   "source": [
    "InsTransforms = InsolverTransform(train_data, [])"
   ]
  },
  {
   "cell_type": "code",
   "execution_count": 6,
   "id": "869bffd7-6b99-4b9f-a631-a9f9b4bdf357",
   "metadata": {},
   "outputs": [],
   "source": [
    "train, valid, test = InsTransforms.split_frame(val_size=0.2, test_size=0.2, random_state=43, shuffle=True)"
   ]
  },
  {
   "cell_type": "code",
   "execution_count": 7,
   "id": "4469e71b-45d5-4c35-89ad-58a8bfd87b80",
   "metadata": {},
   "outputs": [],
   "source": [
    "features = train.drop('loss', axis=1).columns.to_list()"
   ]
  },
  {
   "cell_type": "code",
   "execution_count": 8,
   "id": "177aad78-3845-4084-85f8-7235f7b9ad58",
   "metadata": {},
   "outputs": [],
   "source": [
    "x_train, x_valid, x_test = train[features], valid[features], test[features]\n",
    "y_train, y_valid, y_test = train[target], valid[target], test[target]"
   ]
  },
  {
   "cell_type": "code",
   "execution_count": null,
   "id": "0e45322a-7301-4bc4-855e-c4a52b3f5614",
   "metadata": {},
   "outputs": [],
   "source": []
  },
  {
   "cell_type": "code",
   "execution_count": 9,
   "id": "4b0ee451-6ce4-47d1-a092-2e7ad91ba8a6",
   "metadata": {},
   "outputs": [],
   "source": [
    "igbm = InsolverGBMWrapper(backend='lightgbm', task='reg', objective='regression',\n",
    "                          boosting_type='gbdt')"
   ]
  },
  {
   "cell_type": "code",
   "execution_count": 10,
   "id": "98aae954-027e-4d4b-8327-b89a1c30890f",
   "metadata": {},
   "outputs": [
    {
     "name": "stdout",
     "output_type": "stream",
     "text": [
      "100%|███████████████████████████████████████████████| 100/100 [08:56<00:00,  5.36s/trial, best loss: 61.95196608305797]\n"
     ]
    },
    {
     "data": {
      "text/plain": [
       "{'alpha': 0.571960876504497,\n",
       " 'colsample_bytree': 0.6541729174641888,\n",
       " 'learning_rate': 0.22766647188276765,\n",
       " 'max_depth': 3,\n",
       " 'min_child_weight': 0,\n",
       " 'n_estimators': 1050,\n",
       " 'n_jobs': -1,\n",
       " 'num_leaves': 75,\n",
       " 'reg_lambda': 0.3869966369401152,\n",
       " 'subsample': 0.5482600715517738}"
      ]
     },
     "execution_count": 10,
     "metadata": {},
     "output_type": "execute_result"
    }
   ],
   "source": [
    "space_lightgbm = {'n_estimators':hp.quniform('n_estimators', 500, 1500, 25),\n",
    "                  \"max_depth\": hp.quniform('max_depth', 3, 7, 1),\n",
    "                  \"min_child_weight\": hp.quniform('min_child_weight', 0, 50, 4),\n",
    "                  \"subsample\": hp.uniform('subsample', 0.5, 1),\n",
    "                  \"colsample_bytree\": hp.uniform('colsample_bytree', 0.5, 1),\n",
    "                  \"alpha\": hp.uniform('alpha', 0, 1),\n",
    "                  \"num_leaves\": hp.quniform('num_leaves', 31, 250, 5),\n",
    "                  \"reg_lambda\": hp.uniform('reg_lambda', 0, 1),                   \n",
    "                  \"learning_rate\": hp.uniform('learning_rate', 0.01, 1),\n",
    "                  \"n_jobs\":-1}\n",
    "igbm.hyperopt_cv(x_train, y_train, space_lightgbm, max_evals=100, timeout=3600 * 3,\n",
    "                 fn_params={'n_jobs':-1, 'scoring': mean_squared_error })"
   ]
  },
  {
   "cell_type": "code",
   "execution_count": null,
   "id": "3456596f-3f86-4fc0-8103-22e055b45f7d",
   "metadata": {},
   "outputs": [],
   "source": []
  },
  {
   "cell_type": "code",
   "execution_count": 11,
   "id": "c283203b-2038-4565-a620-acd748c82a59",
   "metadata": {},
   "outputs": [
    {
     "data": {
      "text/plain": [
       "7.873100848644629"
      ]
     },
     "execution_count": 11,
     "metadata": {},
     "output_type": "execute_result"
    }
   ],
   "source": [
    "y_pred = igbm.predict(x_valid)\n",
    "mean_squared_error(y_valid, y_pred, squared=False)"
   ]
  },
  {
   "cell_type": "code",
   "execution_count": null,
   "id": "37ee64e0-bf22-4bd9-8050-b62f354b586f",
   "metadata": {},
   "outputs": [],
   "source": []
  },
  {
   "cell_type": "code",
   "execution_count": 12,
   "id": "67da7223-7431-44c6-82c4-d842312920df",
   "metadata": {},
   "outputs": [
    {
     "data": {
      "text/plain": [
       "array([8.05991424, 5.38520321, 8.14268412, ..., 6.70010756, 5.4278013 ,\n",
       "       7.01611744])"
      ]
     },
     "execution_count": 12,
     "metadata": {},
     "output_type": "execute_result"
    }
   ],
   "source": [
    "pred = igbm.predict(test_data)\n",
    "pred"
   ]
  },
  {
   "cell_type": "code",
   "execution_count": 13,
   "id": "328eda9b-42bc-4f2b-a2f1-1b546cc96fd3",
   "metadata": {},
   "outputs": [],
   "source": [
    "shap_values=igbm.shap(x_train)"
   ]
  },
  {
   "cell_type": "code",
   "execution_count": 14,
   "id": "2c3ca119-b57f-41dd-ba31-ed595416c8a1",
   "metadata": {},
   "outputs": [],
   "source": [
    "features_after_shap = []\n",
    "for feat in shap_values:\n",
    "    if shap_values[feat] != 0:\n",
    "        features_after_shap.append(feat)\n",
    "features_after_shap = features_after_shap[1:]"
   ]
  },
  {
   "cell_type": "code",
   "execution_count": 15,
   "id": "5696d78a-8b36-404a-b7ca-6ee0c3bda584",
   "metadata": {},
   "outputs": [],
   "source": [
    "x_train, x_valid, x_test = train[features_after_shap], valid[features_after_shap], test[features_after_shap]\n",
    "y_train, y_valid, y_test = train[target], valid[target], test[target]"
   ]
  },
  {
   "cell_type": "code",
   "execution_count": null,
   "id": "140c672b-675e-4444-a1b2-77e5774a0837",
   "metadata": {},
   "outputs": [],
   "source": []
  },
  {
   "cell_type": "code",
   "execution_count": 16,
   "id": "8595a533-3bd0-42fa-a07c-a5abb798d121",
   "metadata": {},
   "outputs": [
    {
     "name": "stdout",
     "output_type": "stream",
     "text": [
      "100%|████████████████████████████████████████████████| 100/100 [08:34<00:00,  5.15s/trial, best loss: 61.9384289144693]\n"
     ]
    },
    {
     "data": {
      "text/plain": [
       "{'alpha': 0.6548734678045336,\n",
       " 'colsample_bytree': 0.7139415276633512,\n",
       " 'learning_rate': 0.25255662062584433,\n",
       " 'max_depth': 3,\n",
       " 'min_child_weight': 12,\n",
       " 'n_estimators': 1275,\n",
       " 'n_jobs': -1,\n",
       " 'num_leaves': 175,\n",
       " 'reg_lambda': 0.4812507680028024,\n",
       " 'subsample': 0.7468261852599043}"
      ]
     },
     "execution_count": 16,
     "metadata": {},
     "output_type": "execute_result"
    }
   ],
   "source": [
    "igbm.hyperopt_cv(x_train, y_train, space_lightgbm, max_evals=100, timeout=3600 * 3,\n",
    "                 fn_params={'n_jobs':-1, 'scoring': mean_squared_error })"
   ]
  },
  {
   "cell_type": "code",
   "execution_count": 17,
   "id": "92e19c64-8bb9-4ca1-9144-3cddaf2c8023",
   "metadata": {},
   "outputs": [
    {
     "data": {
      "text/plain": [
       "7.873085653251558"
      ]
     },
     "execution_count": 17,
     "metadata": {},
     "output_type": "execute_result"
    }
   ],
   "source": [
    "y_pred = igbm.predict(x_valid)\n",
    "mean_squared_error(y_valid, y_pred, squared=False)"
   ]
  },
  {
   "cell_type": "code",
   "execution_count": 18,
   "id": "de2ef381-20aa-4bc8-bb27-22d4d1bc857c",
   "metadata": {},
   "outputs": [
    {
     "data": {
      "text/plain": [
       "array([7.97549832, 5.10576576, 7.99419012, ..., 6.8187059 , 5.40896493,\n",
       "       6.71588038])"
      ]
     },
     "execution_count": 18,
     "metadata": {},
     "output_type": "execute_result"
    }
   ],
   "source": [
    "pred_lgnm = igbm.predict(test_data)\n",
    "pred_lgnm"
   ]
  },
  {
   "cell_type": "code",
   "execution_count": 19,
   "id": "f866d2ea-dede-4add-9397-cc6e04a956f2",
   "metadata": {},
   "outputs": [],
   "source": [
    "igbm = InsolverGBMWrapper(backend='catboost', task='reg', objective='RMSE',\n",
    "                          boosting_type='Plain')"
   ]
  },
  {
   "cell_type": "code",
   "execution_count": 20,
   "id": "399acedd-8e22-4192-9b9f-f17cf9ef5585",
   "metadata": {},
   "outputs": [
    {
     "name": "stdout",
     "output_type": "stream",
     "text": [
      "100%|███████████████████████████████████████████████| 100/100 [11:42<00:00,  7.03s/trial, best loss: 62.08421415385091]\n",
      "0:\tlearn: 7.9328793\ttotal: 173ms\tremaining: 17.1s\n",
      "1:\tlearn: 7.9299676\ttotal: 182ms\tremaining: 8.93s\n",
      "2:\tlearn: 7.9263232\ttotal: 193ms\tremaining: 6.25s\n",
      "3:\tlearn: 7.9244477\ttotal: 204ms\tremaining: 4.89s\n",
      "4:\tlearn: 7.9214521\ttotal: 214ms\tremaining: 4.07s\n",
      "5:\tlearn: 7.9196501\ttotal: 225ms\tremaining: 3.53s\n",
      "6:\tlearn: 7.9176778\ttotal: 234ms\tremaining: 3.11s\n",
      "7:\tlearn: 7.9161264\ttotal: 245ms\tremaining: 2.81s\n",
      "8:\tlearn: 7.9145116\ttotal: 255ms\tremaining: 2.58s\n",
      "9:\tlearn: 7.9129533\ttotal: 264ms\tremaining: 2.37s\n",
      "10:\tlearn: 7.9116921\ttotal: 273ms\tremaining: 2.21s\n",
      "11:\tlearn: 7.9101526\ttotal: 284ms\tremaining: 2.08s\n",
      "12:\tlearn: 7.9087645\ttotal: 294ms\tremaining: 1.97s\n",
      "13:\tlearn: 7.9076276\ttotal: 304ms\tremaining: 1.86s\n",
      "14:\tlearn: 7.9062862\ttotal: 313ms\tremaining: 1.77s\n",
      "15:\tlearn: 7.9049894\ttotal: 323ms\tremaining: 1.69s\n",
      "16:\tlearn: 7.9035443\ttotal: 333ms\tremaining: 1.63s\n",
      "17:\tlearn: 7.9027051\ttotal: 342ms\tremaining: 1.56s\n",
      "18:\tlearn: 7.9016763\ttotal: 353ms\tremaining: 1.5s\n",
      "19:\tlearn: 7.9007943\ttotal: 363ms\tremaining: 1.45s\n",
      "20:\tlearn: 7.8996986\ttotal: 373ms\tremaining: 1.4s\n",
      "21:\tlearn: 7.8990571\ttotal: 384ms\tremaining: 1.36s\n",
      "22:\tlearn: 7.8979300\ttotal: 395ms\tremaining: 1.32s\n",
      "23:\tlearn: 7.8969065\ttotal: 404ms\tremaining: 1.28s\n",
      "24:\tlearn: 7.8955550\ttotal: 414ms\tremaining: 1.24s\n",
      "25:\tlearn: 7.8946006\ttotal: 425ms\tremaining: 1.21s\n",
      "26:\tlearn: 7.8936668\ttotal: 435ms\tremaining: 1.18s\n",
      "27:\tlearn: 7.8925667\ttotal: 445ms\tremaining: 1.14s\n",
      "28:\tlearn: 7.8915658\ttotal: 454ms\tremaining: 1.11s\n",
      "29:\tlearn: 7.8898550\ttotal: 464ms\tremaining: 1.08s\n",
      "30:\tlearn: 7.8888260\ttotal: 473ms\tremaining: 1.05s\n",
      "31:\tlearn: 7.8877747\ttotal: 485ms\tremaining: 1.03s\n",
      "32:\tlearn: 7.8867620\ttotal: 494ms\tremaining: 1s\n",
      "33:\tlearn: 7.8857350\ttotal: 504ms\tremaining: 978ms\n",
      "34:\tlearn: 7.8848611\ttotal: 513ms\tremaining: 953ms\n",
      "35:\tlearn: 7.8840670\ttotal: 523ms\tremaining: 930ms\n",
      "36:\tlearn: 7.8831418\ttotal: 533ms\tremaining: 907ms\n",
      "37:\tlearn: 7.8822497\ttotal: 542ms\tremaining: 884ms\n",
      "38:\tlearn: 7.8814039\ttotal: 552ms\tremaining: 863ms\n",
      "39:\tlearn: 7.8806761\ttotal: 561ms\tremaining: 842ms\n",
      "40:\tlearn: 7.8797274\ttotal: 571ms\tremaining: 822ms\n",
      "41:\tlearn: 7.8789002\ttotal: 583ms\tremaining: 804ms\n",
      "42:\tlearn: 7.8781032\ttotal: 593ms\tremaining: 787ms\n",
      "43:\tlearn: 7.8774093\ttotal: 603ms\tremaining: 768ms\n",
      "44:\tlearn: 7.8765178\ttotal: 613ms\tremaining: 750ms\n",
      "45:\tlearn: 7.8757142\ttotal: 623ms\tremaining: 732ms\n",
      "46:\tlearn: 7.8750801\ttotal: 633ms\tremaining: 713ms\n",
      "47:\tlearn: 7.8743085\ttotal: 642ms\tremaining: 695ms\n",
      "48:\tlearn: 7.8735741\ttotal: 652ms\tremaining: 679ms\n",
      "49:\tlearn: 7.8728454\ttotal: 663ms\tremaining: 663ms\n",
      "50:\tlearn: 7.8721619\ttotal: 671ms\tremaining: 645ms\n",
      "51:\tlearn: 7.8715178\ttotal: 681ms\tremaining: 629ms\n",
      "52:\tlearn: 7.8708610\ttotal: 691ms\tremaining: 613ms\n",
      "53:\tlearn: 7.8701683\ttotal: 701ms\tremaining: 597ms\n",
      "54:\tlearn: 7.8696210\ttotal: 711ms\tremaining: 582ms\n",
      "55:\tlearn: 7.8690733\ttotal: 722ms\tremaining: 567ms\n",
      "56:\tlearn: 7.8684420\ttotal: 733ms\tremaining: 553ms\n",
      "57:\tlearn: 7.8677464\ttotal: 742ms\tremaining: 538ms\n",
      "58:\tlearn: 7.8671689\ttotal: 752ms\tremaining: 523ms\n",
      "59:\tlearn: 7.8664966\ttotal: 762ms\tremaining: 508ms\n",
      "60:\tlearn: 7.8659545\ttotal: 771ms\tremaining: 493ms\n",
      "61:\tlearn: 7.8653418\ttotal: 780ms\tremaining: 478ms\n",
      "62:\tlearn: 7.8648609\ttotal: 789ms\tremaining: 463ms\n",
      "63:\tlearn: 7.8643011\ttotal: 798ms\tremaining: 449ms\n",
      "64:\tlearn: 7.8637666\ttotal: 807ms\tremaining: 435ms\n",
      "65:\tlearn: 7.8631605\ttotal: 818ms\tremaining: 421ms\n",
      "66:\tlearn: 7.8625878\ttotal: 827ms\tremaining: 407ms\n",
      "67:\tlearn: 7.8620167\ttotal: 836ms\tremaining: 394ms\n",
      "68:\tlearn: 7.8615180\ttotal: 845ms\tremaining: 380ms\n",
      "69:\tlearn: 7.8609877\ttotal: 856ms\tremaining: 367ms\n",
      "70:\tlearn: 7.8604110\ttotal: 865ms\tremaining: 353ms\n",
      "71:\tlearn: 7.8598200\ttotal: 876ms\tremaining: 341ms\n",
      "72:\tlearn: 7.8593167\ttotal: 885ms\tremaining: 327ms\n",
      "73:\tlearn: 7.8584140\ttotal: 896ms\tremaining: 315ms\n",
      "74:\tlearn: 7.8578983\ttotal: 905ms\tremaining: 302ms\n",
      "75:\tlearn: 7.8573675\ttotal: 915ms\tremaining: 289ms\n",
      "76:\tlearn: 7.8568684\ttotal: 924ms\tremaining: 276ms\n",
      "77:\tlearn: 7.8563664\ttotal: 933ms\tremaining: 263ms\n",
      "78:\tlearn: 7.8558842\ttotal: 943ms\tremaining: 251ms\n",
      "79:\tlearn: 7.8554101\ttotal: 953ms\tremaining: 238ms\n",
      "80:\tlearn: 7.8549817\ttotal: 963ms\tremaining: 226ms\n",
      "81:\tlearn: 7.8545169\ttotal: 973ms\tremaining: 214ms\n",
      "82:\tlearn: 7.8539957\ttotal: 985ms\tremaining: 202ms\n",
      "83:\tlearn: 7.8534927\ttotal: 995ms\tremaining: 190ms\n",
      "84:\tlearn: 7.8529890\ttotal: 1s\tremaining: 178ms\n",
      "85:\tlearn: 7.8525175\ttotal: 1.01s\tremaining: 165ms\n",
      "86:\tlearn: 7.8521102\ttotal: 1.03s\tremaining: 153ms\n",
      "87:\tlearn: 7.8516263\ttotal: 1.04s\tremaining: 141ms\n",
      "88:\tlearn: 7.8512206\ttotal: 1.05s\tremaining: 130ms\n",
      "89:\tlearn: 7.8508012\ttotal: 1.06s\tremaining: 118ms\n",
      "90:\tlearn: 7.8503119\ttotal: 1.07s\tremaining: 106ms\n",
      "91:\tlearn: 7.8498762\ttotal: 1.08s\tremaining: 93.8ms\n",
      "92:\tlearn: 7.8493110\ttotal: 1.09s\tremaining: 82ms\n",
      "93:\tlearn: 7.8488518\ttotal: 1.1s\tremaining: 70.2ms\n",
      "94:\tlearn: 7.8484437\ttotal: 1.11s\tremaining: 58.4ms\n",
      "95:\tlearn: 7.8480559\ttotal: 1.12s\tremaining: 46.6ms\n",
      "96:\tlearn: 7.8476162\ttotal: 1.13s\tremaining: 35ms\n",
      "97:\tlearn: 7.8471489\ttotal: 1.14s\tremaining: 23.3ms\n",
      "98:\tlearn: 7.8467087\ttotal: 1.15s\tremaining: 11.6ms\n",
      "99:\tlearn: 7.8462640\ttotal: 1.16s\tremaining: 0us\n"
     ]
    },
    {
     "data": {
      "text/plain": [
       "{'depth': 2,\n",
       " 'l2_leaf_reg': 3.8793828437426803,\n",
       " 'learning_rate': 0.4524736930213267,\n",
       " 'max_bin': 25,\n",
       " 'min_data_in_leaf': 36,\n",
       " 'n_estimators': 1000,\n",
       " 'thread_count': -1}"
      ]
     },
     "execution_count": 20,
     "metadata": {},
     "output_type": "execute_result"
    }
   ],
   "source": [
    "space_catboost ={'depth': hp.quniform('depth', 2, 5, 1),\n",
    "                 'n_estimators': hp.quniform('n_estimators', 500, 2000, 250),\n",
    "                 'max_bin' : hp.quniform('max_bin', 1, 32, 1),\n",
    "                 'l2_leaf_reg' : hp.uniform('l2_leaf_reg', 0, 5),\n",
    "                 'thread_count':-1,\n",
    "                 'min_data_in_leaf' : hp.quniform('min_data_in_leaf', 1, 50, 1),\n",
    "                 'learning_rate' : hp.uniform('learning_rate', 0.01, 1),}\n",
    "igbm.hyperopt_cv(x_train, y_train, space_catboost, max_evals=100, timeout=3600 * 3,\n",
    "                 fn_params={'n_jobs':-1, 'scoring': mean_squared_error })"
   ]
  },
  {
   "cell_type": "code",
   "execution_count": 21,
   "id": "8d88a2e7-f86e-42a0-a166-0eaea9a8a1c7",
   "metadata": {},
   "outputs": [
    {
     "data": {
      "text/plain": [
       "array([7.48317263, 5.0733629 , 7.39350065, ..., 6.87206519, 6.03007092,\n",
       "       6.45512104])"
      ]
     },
     "execution_count": 21,
     "metadata": {},
     "output_type": "execute_result"
    }
   ],
   "source": [
    "pred_catboost = igbm.predict(test_data)\n",
    "pred_catboost"
   ]
  },
  {
   "cell_type": "code",
   "execution_count": 29,
   "id": "c8779a1f-c082-4865-b270-0fdf2a20015c",
   "metadata": {},
   "outputs": [],
   "source": [
    "igbm = InsolverGBMWrapper(backend='xgboost', task='reg', objective='reg:squarederror',\n",
    "                          boosting_type='hist ')"
   ]
  },
  {
   "cell_type": "code",
   "execution_count": null,
   "id": "c023f1e3-3315-43ff-848f-34a99054740b",
   "metadata": {},
   "outputs": [],
   "source": []
  },
  {
   "cell_type": "code",
   "execution_count": 31,
   "id": "bbb8fd9e-2256-4124-b868-e39918a23b84",
   "metadata": {},
   "outputs": [
    {
     "name": "stdout",
     "output_type": "stream",
     "text": [
      "100%|█████████████████████████████████████████████████| 20/20 [24:51<00:00, 74.58s/trial, best loss: 61.99477359439228]\n",
      "[17:00:09] WARNING: C:/Users/Administrator/workspace/xgboost-win64_release_1.4.0/src/learner.cc:573: \n",
      "Parameters: { \"boosting_type\" } might not be used.\n",
      "\n",
      "  This may not be accurate due to some parameters are only used in language bindings but\n",
      "  passed down to XGBoost core.  Or some parameters are not used but slip through this\n",
      "  verification. Please open an issue if you find above cases.\n",
      "\n",
      "\n"
     ]
    },
    {
     "data": {
      "text/plain": [
       "{'learning_rate': 0.1446293595462582,\n",
       " 'max_depth': 4,\n",
       " 'min_child_weight': 0.5861549166370633,\n",
       " 'n_estimators': 150,\n",
       " 'nthread': -1,\n",
       " 'reg_alpha': 4.387112539059847,\n",
       " 'reg_lambda': 3.499560918881217,\n",
       " 'subsample': 0.7818291529401805}"
      ]
     },
     "execution_count": 31,
     "metadata": {},
     "output_type": "execute_result"
    }
   ],
   "source": [
    "space_xgboost =space ={\n",
    "                    \"n_estimators\": hp.quniform('n_estimators', 100, 500, 50),\n",
    "                    'max_depth': hp.quniform('max_depth', 3, 5, 1),\n",
    "                    'reg_alpha' : hp.uniform('reg_alpha', 0, 5),\n",
    "                    'reg_lambda' : hp.uniform('reg_lambda', 0, 5),\n",
    "                    'min_child_weight' : hp.uniform('min_child_weight', 0, 5),\n",
    "                    'learning_rate' : hp.uniform('learning_rate', 0.01, 1),\n",
    "                    'subsample' : hp.uniform('subsample', 0.5, 1),\n",
    "                    'nthread' : -1\n",
    "            }\n",
    "igbm.hyperopt_cv(x_train, y_train, space_xgboost, max_evals=20, timeout=3600 * 3,\n",
    "                 fn_params={'n_jobs':-1, 'scoring': mean_squared_error })"
   ]
  },
  {
   "cell_type": "code",
   "execution_count": null,
   "id": "f262e931-f76d-4a74-9ea4-f229e221b206",
   "metadata": {},
   "outputs": [],
   "source": []
  },
  {
   "cell_type": "code",
   "execution_count": 32,
   "id": "bb6f8efa-0fd5-4f18-b6ba-4c7feff4a6fb",
   "metadata": {},
   "outputs": [
    {
     "data": {
      "text/plain": [
       "array([9.114384 , 5.55569  , 6.923945 , ..., 6.4297094, 5.1513863,\n",
       "       7.0227575], dtype=float32)"
      ]
     },
     "execution_count": 32,
     "metadata": {},
     "output_type": "execute_result"
    }
   ],
   "source": [
    "pred_xgboost = igbm.predict(test_data)\n",
    "pred_xgboost"
   ]
  },
  {
   "cell_type": "code",
   "execution_count": null,
   "id": "1504ab18-9fb4-4c11-8ca9-6de41c0c7e87",
   "metadata": {},
   "outputs": [],
   "source": []
  },
  {
   "cell_type": "code",
   "execution_count": null,
   "id": "35190580-aca0-45b1-bd2b-967e95d67e6c",
   "metadata": {},
   "outputs": [],
   "source": []
  },
  {
   "cell_type": "code",
   "execution_count": 71,
   "id": "6ad0374f-d728-4c5b-a9bf-2ffb39973976",
   "metadata": {},
   "outputs": [],
   "source": [
    "scores = pd.DataFrame({\n",
    "    \"pred_lgnm\": pred_lgnm,\n",
    "    \"pred_xgboost\": pred_xgboost,\n",
    "    \"pred_catboost\": pred_catboost\n",
    "    \n",
    "})\n",
    "\n",
    "corr = scores.corr()\n",
    "mask = np.zeros_like(corr, dtype=np.bool)\n",
    "mask[np.triu_indices_from(mask)] = True"
   ]
  },
  {
   "cell_type": "code",
   "execution_count": null,
   "id": "8fcb02d1-6bd4-46d4-ada9-061078936bba",
   "metadata": {},
   "outputs": [],
   "source": []
  },
  {
   "cell_type": "code",
   "execution_count": 72,
   "id": "1367eff1-00ef-4549-99be-07d64aa478af",
   "metadata": {},
   "outputs": [
    {
     "data": {
      "text/plain": [
       "<AxesSubplot:>"
      ]
     },
     "execution_count": 72,
     "metadata": {},
     "output_type": "execute_result"
    },
    {
     "data": {
      "image/png": "[encoded data removed]",
      "text/plain": [
       "<Figure size 720x720 with 2 Axes>"
      ]
     },
     "metadata": {
      "needs_background": "light"
     },
     "output_type": "display_data"
    }
   ],
   "source": [
    "fig, axes = plt.subplots(1, 1, figsize=(10, 10))\n",
    "sns.heatmap(corr, mask=mask, annot=True, fmt=\".4g\", square=True, cmap=\"viridis\", ax=axes)"
   ]
  },
  {
   "cell_type": "code",
   "execution_count": null,
   "id": "4a589565-3ba4-4504-9dd2-0a9c236ad28f",
   "metadata": {},
   "outputs": [],
   "source": []
  },
  {
   "cell_type": "code",
   "execution_count": 73,
   "id": "ff587bd3-a864-46ec-ada0-c12b4917425b",
   "metadata": {},
   "outputs": [
    {
     "name": "stdout",
     "output_type": "stream",
     "text": [
      "Score = 7.98668\n"
     ]
    }
   ],
   "source": [
    "scores_mean = scores.mean(axis=1)\n",
    "score = mean_squared_error(train['loss'], scores_mean, squared=False)\n",
    "print(f\"Score = {round(score, 5)}\")"
   ]
  },
  {
   "cell_type": "code",
   "execution_count": 74,
   "id": "c5673570-93b6-4dc7-960e-94473b064b8d",
   "metadata": {},
   "outputs": [
    {
     "name": "stdout",
     "output_type": "stream",
     "text": [
      "Score = 7.9865\n"
     ]
    }
   ],
   "source": [
    "scores_mean = gmean(scores, axis=1)\n",
    "score = mean_squared_error(train['loss'], scores_mean, squared=False)\n",
    "print(f\"Score = {round(score, 5)}\")"
   ]
  },
  {
   "cell_type": "code",
   "execution_count": null,
   "id": "106ef9a7-044d-4906-9861-d7802570400a",
   "metadata": {},
   "outputs": [],
   "source": []
  },
  {
   "cell_type": "code",
   "execution_count": null,
   "id": "7f912744-9a58-41b9-98ba-0974ed438ba3",
   "metadata": {},
   "outputs": [],
   "source": []
  },
  {
   "cell_type": "code",
   "execution_count": 75,
   "id": "aaa00dc2-6c78-4ef3-9ab7-a1eadc422a44",
   "metadata": {},
   "outputs": [],
   "source": [
    "scores_mean = gmean(scores, axis=1)"
   ]
  },
  {
   "cell_type": "code",
   "execution_count": 76,
   "id": "d008fbfc-9d3c-409c-9d02-f2762e70bce8",
   "metadata": {},
   "outputs": [
    {
     "data": {
      "text/plain": [
       "array([8.16313477, 5.240406  , 7.42436643, ..., 6.70388968, 5.51806612,\n",
       "       6.72726195])"
      ]
     },
     "execution_count": 76,
     "metadata": {},
     "output_type": "execute_result"
    }
   ],
   "source": [
    "scores_mean"
   ]
  },
  {
   "cell_type": "code",
   "execution_count": 77,
   "id": "d5303245-6a24-4ff3-8c87-19140252c530",
   "metadata": {},
   "outputs": [
    {
     "data": {
      "text/plain": [
       "150000"
      ]
     },
     "execution_count": 77,
     "metadata": {},
     "output_type": "execute_result"
    }
   ],
   "source": [
    "len(pred)"
   ]
  },
  {
   "cell_type": "code",
   "execution_count": 78,
   "id": "322e9f10-c896-42a3-8154-17ea516e4928",
   "metadata": {},
   "outputs": [],
   "source": [
    "preds_final = pd.DataFrame()\n",
    "preds_final['id']  = test_data.index.copy()\n",
    "preds_final['loss'] = scores_mean"
   ]
  },
  {
   "cell_type": "code",
   "execution_count": null,
   "id": "a056e4d1-0ef6-4e76-bfd3-ab846480cb71",
   "metadata": {},
   "outputs": [],
   "source": []
  },
  {
   "cell_type": "code",
   "execution_count": 79,
   "id": "3e8676cc-40d2-4ab4-9043-d2688cf382f3",
   "metadata": {},
   "outputs": [],
   "source": [
    "preds_final.to_csv('insolver.csv', index=False)"
   ]
  },
  {
   "cell_type": "code",
   "execution_count": null,
   "id": "729acc99-f635-4623-9910-ae4b4c061813",
   "metadata": {},
   "outputs": [],
   "source": []
  }
 ],
 "metadata": {
  "kernelspec": {
   "display_name": "Python 3",
   "language": "python",
   "name": "python3"
  },
  "language_info": {
   "codemirror_mode": {
    "name": "ipython",
    "version": 3
   },
   "file_extension": ".py",
   "mimetype": "text/x-python",
   "name": "python",
   "nbconvert_exporter": "python",
   "pygments_lexer": "ipython3",
   "version": "3.8.8"
  }
 },
 "nbformat": 4,
 "nbformat_minor": 5
}
