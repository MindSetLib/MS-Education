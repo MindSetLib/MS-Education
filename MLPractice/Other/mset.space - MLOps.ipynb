{
 "cells": [
  {
   "cell_type": "markdown",
   "id": "6bf34d5c",
   "metadata": {},
   "source": [
    "## Предисловие\n",
    "#### В данном докладе будут сравниваться четыре фреймворка для разработки веб приложений. Сначала будет поверхностный гайд по каждому фрейморку, затем будут сравнения с точки зренеия разработки сайта и использования моделей машинного обучения."
   ]
  },
  {
   "cell_type": "markdown",
   "id": "65a5fe55",
   "metadata": {},
   "source": [
    "## Внедрение модели\n",
    "Для данного доклада будет использована учебная модель линейной регрессии. Данная модель определяет примерное время поездки такси основываясь на время и день."
   ]
  },
  {
   "cell_type": "code",
   "execution_count": 3,
   "id": "fefdf716",
   "metadata": {},
   "outputs": [],
   "source": [
    "import pandas as pd\n",
    "import seaborn as sns\n",
    "import numpy as np\n",
    "import matplotlib.pyplot as plt\n",
    "\n",
    "\n",
    "df = pd.read_csv('./data/train.csv')\n",
    "df = df[df['trip_seconds'].notna()]\n",
    "df = df.drop('trip_end_timestamp', axis=1)\n",
    "df = df.sort_values('trip_start_timestamp')\n",
    "\n",
    "df['log_trip_seconds'] = np.log1p(df.trip_seconds)\n",
    "\n",
    "train_df, test_df = df[:10 ** 6].copy(), df[10 ** 6:].copy()\n",
    "\n",
    "# train_df['log_trip_seconds'] = np.log1p(train_df.trip_seconds)\n",
    "# test_df['log_trip_seconds'] = np.log1p(test_df.trip_seconds)\n",
    "\n",
    "train_df.trip_start_timestamp = pd.to_datetime(train_df.trip_start_timestamp)\n",
    "test_df.trip_start_timestamp = pd.to_datetime(test_df.trip_start_timestamp)\n",
    "\n",
    "date = train_df.trip_start_timestamp.apply(lambda x: x.date())"
   ]
  },
  {
   "cell_type": "code",
   "execution_count": 4,
   "id": "07e98b0d",
   "metadata": {},
   "outputs": [],
   "source": [
    "def create_features(data_frame):\n",
    "  X = pd.concat([\n",
    "    data_frame.trip_start_timestamp.apply(lambda x: x.timetuple().tm_yday),\n",
    "    data_frame.trip_start_timestamp.apply(lambda x: x.hour)\n",
    "  ], axis=1, keys=['day', 'hour'])\n",
    "\n",
    "  return X, data_frame.log_trip_seconds"
   ]
  },
  {
   "cell_type": "code",
   "execution_count": 6,
   "id": "97c1594d",
   "metadata": {},
   "outputs": [],
   "source": [
    "X_train, y_train = create_features(train_df)\n",
    "X_test, y_test = create_features(test_df)\n",
    "\n",
    "\n",
    "train_col = np.array(pd.get_dummies(X_train.hour))\n",
    "X_train_ohe = np.concatenate((np.array([X_train.day]).T, train_col), axis=1)\n",
    "\n",
    "test_col = np.array(pd.get_dummies(X_test.hour))\n",
    "X_test_ohe = np.concatenate((np.array([X_test.day]).T, test_col), axis=1)"
   ]
  },
  {
   "cell_type": "code",
   "execution_count": 7,
   "id": "cf6bf8d6",
   "metadata": {},
   "outputs": [
    {
     "data": {
      "text/plain": [
       "LinearRegression()"
      ]
     },
     "execution_count": 7,
     "metadata": {},
     "output_type": "execute_result"
    }
   ],
   "source": [
    "from sklearn.linear_model import LinearRegression\n",
    "lin_reg = LinearRegression()\n",
    "lin_reg.fit(X_train_ohe, y_train)"
   ]
  },
  {
   "cell_type": "code",
   "execution_count": 8,
   "id": "ff83b96c",
   "metadata": {},
   "outputs": [
    {
     "data": {
      "text/plain": [
       "4.433441738913538"
      ]
     },
     "execution_count": 8,
     "metadata": {},
     "output_type": "execute_result"
    }
   ],
   "source": [
    "from sklearn.metrics import mean_squared_error\n",
    "\n",
    "mean_squared_error(y_test, lin_reg.predict(X_test_ohe))"
   ]
  },
  {
   "cell_type": "markdown",
   "id": "f3064094",
   "metadata": {},
   "source": [
    "#### После чего мы сохраняем модель в помощью pickle. Осталось лишь открыть полученный файл в любом фрейморке."
   ]
  },
  {
   "cell_type": "code",
   "execution_count": 9,
   "id": "6dc3527a",
   "metadata": {},
   "outputs": [],
   "source": [
    "import pickle\n",
    "\n",
    "path = './data/models/'\n",
    "with open(path + 'lin_reg.pkl', 'wb') as file:\n",
    "    pickle.dump(lin_reg, file)"
   ]
  },
  {
   "cell_type": "markdown",
   "id": "7e149f7a",
   "metadata": {},
   "source": [
    "## Flask\n",
    "Разработка на фласк сводится к написанию функций с декораторами, которые описывают маршрут пользователя. Для того чтобы определить наше приложение, нужно импортировать из библиотеки flask класс Flask и создать экземпляр, передав аргументом имя текущего файла \n",
    "$ \\\\ $ app = Flask(__ name__)  $ \\\\ $\n",
    "Теперь можно запустить локальный сервер с помощью метода run(). \n",
    "#### Декоратор @app.route('/')\n",
    "Данный декоратор нужен нужен для маршрутизации, в аргументе хранится маршурт страницы. Таким образом, можно создать функцию index(), которая будет возвращать html страницу.\n",
    "$ \\\\ $\n",
    "С помощью методов GET и POST будет реализована логика обмена информацией между пользователем и моделью. Следует отметить простоту данного фреймворка, для маленьких проектов он очень удобен, так как весь проект нужно реализовывать с нуля."
   ]
  },
  {
   "cell_type": "markdown",
   "id": "0af03380",
   "metadata": {},
   "source": [
    "## FastAPI\n",
    "С развитием технологий появился молниеносный ASGI-сервер(Asynchronous Server Gateway Interface) под названием Uvicorn. Однако Uvicorn  —  всего лишь веб-сервер без каких-либо возможностей маршрутизации. Затем появился Starlette, который предоставляет полный набор инструментов ASGI поверх ASGI-сервера, такого как Uvicorn, Daphne или Hypercorn. Таким образом, Starlette  — это веб-фреймворк ASGI, а Flask  — веб-фреймворк WSGI.\n",
    "\n",
    "Фреймворк FastAPI в полной мере использует функциональные возможности Starlette и стиль программирования Flask. Процесс создания веб-приложения очень схож с процессом во Flask, также нужно вешать на функции декораторы, также проект создается с нуля. Есть небольшие отличия в синтаксисе, на пример вместо метода route используются сразу методы get, post, put, delete. Можно использовать тот же шаблонизатор jinja.\n",
    "\n",
    "Для того чтобы запустить сервер, нужно прописать команду \"uvicorn main:app\", где main - имя исполняемого файла, а app - экземпляр класса FastAPI"
   ]
  },
  {
   "cell_type": "markdown",
   "id": "36de4640",
   "metadata": {},
   "source": [
    "## Django\n",
    "Высокоуровневый Python веб-фреймворк, который позволяет быстро создавать безопасные и поддерживаемые веб-сайты. Созданный опытными разработчиками, Django берёт на себя большую часть хлопот веб-разработки, что дает программисту сосредоточиться на написании своего веб-приложения без необходимости изобретать велосипед. Проект написанный на Django состоит из \"приложений\", которые создаются с помощью команды. Преимущество такого подхода к разработке состоит в том, что разработчик может переносить целое приложение из одного проекта в другой с минимальной настройкой подключения приложения к проекту. Django, это фреймворк, в котором есть почти все решения, а если их нет, можно написать свое.\n",
    "\n",
    "Некоторые команды:\n",
    "- Создание проекта- \"django-admin startproject project_name\"\n",
    "- Запуск сервера- \"python manage.py runserver\". \n",
    "- Создание приложения- \"python manage.py startapp app_name\""
   ]
  },
  {
   "cell_type": "markdown",
   "id": "ba9c6de8",
   "metadata": {},
   "source": [
    "## gRPC\n",
    "Микросервисная архитектура – способ организации сложных программных систем: приложение разбивается на сервисы, которые развертываются независимо, но взаимодействуют друг с другом. Одно из главных преимуществ gRPC это proto файлы, которые генерируют api на любом языке. Такой подход позволяет обобщить разработку веб-приложения, что сэкономит время.\n",
    "\n",
    "- Установка gRPC - \"pip install grpcio\"\n",
    "- Установка gRPC tools для генерации кода клиента и сервера - \"python pip install grpcio-tools\"\n",
    "- Генерация api - \"python -m grpc_tools.protoc -I ../protobufs --python_out=. --grpc_python_out=. ../protobufs/datetime.proto\""
   ]
  },
  {
   "cell_type": "markdown",
   "id": "041a5adb",
   "metadata": {},
   "source": [
    "## Сравнение\n",
    "- Flask очень простой фреймворк, он почти пустой в сравнении с остальными фрейморками. Эта особенность может быть как преимуществом, так и недостатком, можно очень быстро сделать веб-приложение, однако на серьезном большом проекте придется хорошо подумать над тем как организовать логику веб-приложения.\n",
    "\n",
    "\n",
    "- Django монструозен, в нем есть почти все, что нужно в стандартных ситуациях, а если нет, то можно самому написать. Такой фреймворк очень хорошо подходит для создания больших проектов, не в последнюю очередь из-за приложений Django.\n",
    "\n",
    "\n",
    "- FastAPI лично из моего опыта, он как Flask, только лучше. Есть поддержка асинхронного программирования, автоматическая документация, высокая скорость из-за Scarlette. Синтаксис очень похожи на тот, что был в Flask.\n",
    "\n",
    "\n",
    "- gRPC до сих пор все выше перечисленные фреймворки представляли собой REST API, где клиент посылает серверу http запрос, в котором может предать json-файл, а сервер, в свою очередь, делает http ответ, в котором также может передать json. gRPC - Remote Procedure Call (g - в каждой версии данного фреймворка означало что-то свое), это дает нам вызывать на клиентской стороне методы сервера, хотя в файле клиента эти методы не были прописаны. Преимущество такого метода заключается в использовании вместо json-файлов protobuf-файлы, которые гораздо меньше весят. Также не стоит забывать о генерации api на любом языке."
   ]
  },
  {
   "cell_type": "markdown",
   "id": "7a95ded3",
   "metadata": {},
   "source": [
    "## Репозитории\n",
    "- Flask: https://github.com/drogovozDP/Flask_ML\n",
    "- FastAPI: https://github.com/drogovozDP/FastAPI_ML\n",
    "- Django: https://github.com/drogovozDP/Django_ML\n",
    "- gRPC: https://github.com/drogovozDP/gRPC_ML"
   ]
  }
 ],
 "metadata": {
  "kernelspec": {
   "display_name": "Python 3",
   "language": "python",
   "name": "python3"
  },
  "language_info": {
   "codemirror_mode": {
    "name": "ipython",
    "version": 3
   },
   "file_extension": ".py",
   "mimetype": "text/x-python",
   "name": "python",
   "nbconvert_exporter": "python",
   "pygments_lexer": "ipython3",
   "version": "3.8.8"
  }
 },
 "nbformat": 4,
 "nbformat_minor": 5
}
