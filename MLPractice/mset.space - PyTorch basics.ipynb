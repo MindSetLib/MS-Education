{
 "cells": [
  {
   "cell_type": "markdown",
   "metadata": {},
   "source": [
    "https://mset.space - платформа для проведения анализа данных, построения моделей и внедрения моделей в продукцию.\n",
    "\n",
    "\n",
    "https://mset.space - platform for data analysis, model building and implementation into production.\n",
    "\n",
    "\n",
    "Ноутбуки для платформы mset.space\n",
    "https://github.com/MindSetLib/MS-Education\n",
    "\n",
    "Low code ML - библиотека машинного обучения\n",
    "https://github.com/MindSetLib/Insolver\n",
    "\n",
    "\n",
    "Телеграм канал платформы\n",
    "https://t.me/msetspace\n",
    "\n",
    "Связь с разработчиками:\n",
    "telegram: @frankshikhaliev\n",
    "email: request@mind-set.ru"
   ]
  },
  {
   "cell_type": "markdown",
   "metadata": {},
   "source": [
    "## Обучающий ноутбук по PyTorch\n",
    "\n",
    "**Подготовил:** Гайфуллин Дмитрий, декабрь 2020 г."
   ]
  },
  {
   "cell_type": "markdown",
   "metadata": {},
   "source": [
    "### Описание ноутбука\n",
    "\n",
    "В данном ноутбуке будет рассмотрен современный фреймворк глубокого обучения **PyTorch.**\\\n",
    "**Цель ноутбука:** введение в PyTorch и ознакомление с данной библиотекой для понимания ее возможностей и особенностей. Также будет рассмотрено отличие PyTorch от других фреймворков глубокого обучения таких, как TensorFlow, Mxnet и Teano.\n",
    "\n",
    "### PyTorch\n",
    "\n",
    "<p style=\"text-align: center;\"> <img src=\"https://www.meme-arsenal.com/memes/01702242ef6311ff4c7ab0104c92bb42.jpg\" width=400 height=100> </p>\n",
    "\n",
    "Как указано на главной странице фреймворка: \n",
    ">***PyTorch*** - open-source фреймворк машинного обучения, который ускоряет путь от исследовательского ресерча до производственного развертывания.\n",
    "\n",
    "PyTorch является аналогом фреймворка Torch7 для языка Python. Разработка его началась в недрах Facebook ещё в 2012 году, всего на год позже появления самого Torch7, но открытым и доступным широкой публике PyTorch стал лишь в 2017 году. С этого момента фреймворк очень быстро набирает популярность и привлекает внимание всё большего числа исследователей.\n",
    "\n",
    "По своей сути, **PyTorch предоставляет две основные функции:**\n",
    "   - n-мерный тензор, схожий с numpy, но который может работать на графических процессорах (GPU); \n",
    "   - автоматическое дифференцирование для построения и обучения нейронных сетей.\n",
    "\n",
    "Также указано, что ключевыми возможностями данного фреймворка являются:\n",
    "   - production ready (возможность развертывания в продакте);\n",
    "   - distributed training (распределенность вычислений);\n",
    "   - robust ecosystem (надежная экосистема);\n",
    "   - cloud support (поддерживается на облачных платформах).\n",
    "   \n",
    "В целом, устройство PyTorch можно выразить через выражение:\n",
    "$$PyTorch = NumPy + CUDA + Autograd$$\n",
    "   \n",
    "### Let's start!)"
   ]
  },
  {
   "cell_type": "code",
   "execution_count": 1,
   "metadata": {},
   "outputs": [],
   "source": [
    "import warnings\n",
    "warnings.filterwarnings(\"ignore\") "
   ]
  },
  {
   "cell_type": "code",
   "execution_count": 2,
   "metadata": {},
   "outputs": [],
   "source": [
    "# Для установки PyTorch запустите данную команду\n",
    "# !conda install pytorch torchvision torchaudio cudatoolkit=10.2 -c pytorch"
   ]
  },
  {
   "cell_type": "code",
   "execution_count": 3,
   "metadata": {},
   "outputs": [
    {
     "data": {
      "text/plain": [
       "'1.7.1'"
      ]
     },
     "execution_count": 3,
     "metadata": {},
     "output_type": "execute_result"
    }
   ],
   "source": [
    "# импортируем PyTorch и посмотрим на установленную версию\n",
    "import numpy as np\n",
    "import math\n",
    "from matplotlib import pyplot as plt\n",
    "\n",
    "import torch\n",
    "torch.__version__"
   ]
  },
  {
   "cell_type": "markdown",
   "metadata": {},
   "source": [
    "### Тензоры\n",
    "\n",
    "Тензоры — подобные матрице структуры данных, которые являются неотъемлемыми компонентами в библиотеках глубокого обучения и используются для эффективных вычислений. По своей сути, тензор - многомерный вектор, например:\n",
    "\n",
    "`x = np.array([1,2,3])` -- одномерный вектор = тензор (PyTorch)\n",
    "\n",
    "`y = np.array([[1, 2, 3], [4, 5, 6]])` -- матрица = двумерный тензор размерностью (2, 3) \n",
    "\n",
    "`z = np.array([[[1, 2, 3], [4, 5, 6], [7, 8, 9]],  \n",
    "               [[1, 2, 3], [4, 5, 6], [7, 8, 9]], \n",
    "               [[1, 2, 3], [4, 5, 6], [7, 8, 9]]])` -- \"куб\" (3, 3, 3) = трехмерный тензор размерностью (3, 3, 3)\n",
    "               \n",
    "Как видно, тензоры и нампаевские массивы очень схожи, но в чем преимущество PyTorch?\\\n",
    "Самым главным преимуществом PyTorch перед NumPy является то, что PyTorch позволяет проводить вычисления на графическом процессоре (GPU), что ускоряет процесс вычисления более, чем в 50 раз.\n",
    "\n",
    "PyTorch предоставляет разные типы тензоров:"
   ]
  },
  {
   "cell_type": "code",
   "execution_count": 4,
   "metadata": {},
   "outputs": [
    {
     "data": {
      "text/plain": [
       "torch.ByteTensor"
      ]
     },
     "execution_count": 4,
     "metadata": {},
     "output_type": "execute_result"
    }
   ],
   "source": [
    "# типы тензоров\n",
    "torch.HalfTensor      # 16 бит, floating point\n",
    "torch.FloatTensor     # 32 бита, floating point\n",
    "torch.DoubleTensor    # 64 бита, floating point\n",
    "\n",
    "torch.ShortTensor     # 16 бит, integer, signed\n",
    "torch.IntTensor       # 32 бита, integer, signed\n",
    "torch.LongTensor      # 64 бита, integer, signed\n",
    "\n",
    "torch.CharTensor      # 8 бит, integer, signed\n",
    "torch.ByteTensor      # 8 бит, integer, unsigned"
   ]
  },
  {
   "cell_type": "markdown",
   "metadata": {},
   "source": [
    "Создадим пару тензоров"
   ]
  },
  {
   "cell_type": "code",
   "execution_count": 5,
   "metadata": {},
   "outputs": [
    {
     "data": {
      "text/plain": [
       "tensor([1., 2.])"
      ]
     },
     "execution_count": 5,
     "metadata": {},
     "output_type": "execute_result"
    }
   ],
   "source": [
    "# создадим тензор\n",
    "tensor = torch.Tensor([1, 2]) # передаем в качестве аргумента готовый вектор\n",
    "tensor"
   ]
  },
  {
   "cell_type": "code",
   "execution_count": 6,
   "metadata": {},
   "outputs": [
    {
     "data": {
      "text/plain": [
       "torch.Size([2])"
      ]
     },
     "execution_count": 6,
     "metadata": {},
     "output_type": "execute_result"
    }
   ],
   "source": [
    "# посмотрим на размер тензора\n",
    "tensor.shape"
   ]
  },
  {
   "cell_type": "code",
   "execution_count": 7,
   "metadata": {},
   "outputs": [
    {
     "data": {
      "text/plain": [
       "tensor([[1.8033e+23, 3.0879e-41]])"
      ]
     },
     "execution_count": 7,
     "metadata": {},
     "output_type": "execute_result"
    }
   ],
   "source": [
    "float_tensor = torch.FloatTensor(1, 2) # 1 аргумент - количество строк, 2 - количество столбцов\n",
    "float_tensor # по умолчанию тензор заполняется случайными числами"
   ]
  },
  {
   "cell_type": "code",
   "execution_count": 8,
   "metadata": {},
   "outputs": [
    {
     "data": {
      "text/plain": [
       "tensor([[[-1837380320,       32700, -1837380320],\n",
       "         [      32700,          32,           0]]], dtype=torch.int32)"
      ]
     },
     "execution_count": 8,
     "metadata": {},
     "output_type": "execute_result"
    }
   ],
   "source": [
    "# создадим \n",
    "int_tensor = torch.IntTensor(1, 2, 3)\n",
    "int_tensor"
   ]
  },
  {
   "cell_type": "code",
   "execution_count": 9,
   "metadata": {},
   "outputs": [
    {
     "data": {
      "text/plain": [
       "torch.Size([1, 2, 3])"
      ]
     },
     "execution_count": 9,
     "metadata": {},
     "output_type": "execute_result"
    }
   ],
   "source": [
    "int_tensor.shape"
   ]
  },
  {
   "cell_type": "code",
   "execution_count": 10,
   "metadata": {},
   "outputs": [
    {
     "data": {
      "text/plain": [
       "tensor([0.6175, 0.4540, 0.1432, 0.4271, 0.8482])"
      ]
     },
     "execution_count": 10,
     "metadata": {},
     "output_type": "execute_result"
    }
   ],
   "source": [
    "# также можно заполнить тензор случайными числами следующим образом\n",
    "rand_tensor_1 = torch.rand(5)\n",
    "rand_tensor_1"
   ]
  },
  {
   "cell_type": "code",
   "execution_count": 11,
   "metadata": {},
   "outputs": [
    {
     "data": {
      "text/plain": [
       "tensor([[0.9436, 0.0456, 0.6025],\n",
       "        [0.8490, 0.9855, 0.7423]])"
      ]
     },
     "execution_count": 11,
     "metadata": {},
     "output_type": "execute_result"
    }
   ],
   "source": [
    "rand_tensor_2 = torch.rand((2,3))\n",
    "rand_tensor_2"
   ]
  },
  {
   "cell_type": "markdown",
   "metadata": {},
   "source": [
    "Создание тензоров, состоящих из нулей:"
   ]
  },
  {
   "cell_type": "code",
   "execution_count": 12,
   "metadata": {},
   "outputs": [
    {
     "data": {
      "text/plain": [
       "tensor([[-7.9454e-28,  4.5822e-41, -7.9454e-28],\n",
       "        [ 4.5822e-41,  4.4842e-44,  0.0000e+00],\n",
       "        [ 1.1210e-43,  0.0000e+00,  0.0000e+00]])"
      ]
     },
     "execution_count": 12,
     "metadata": {},
     "output_type": "execute_result"
    }
   ],
   "source": [
    "# создадим тезнор и заполним его нулями\n",
    "tensor_1 = torch.FloatTensor(3,3)\n",
    "tensor_1"
   ]
  },
  {
   "cell_type": "code",
   "execution_count": 13,
   "metadata": {},
   "outputs": [
    {
     "data": {
      "text/plain": [
       "tensor([[0., 0., 0.],\n",
       "        [0., 0., 0.],\n",
       "        [0., 0., 0.]])"
      ]
     },
     "execution_count": 13,
     "metadata": {},
     "output_type": "execute_result"
    }
   ],
   "source": [
    "tensor_1.zero_()"
   ]
  },
  {
   "cell_type": "code",
   "execution_count": 14,
   "metadata": {},
   "outputs": [
    {
     "data": {
      "text/plain": [
       "tensor([[0., 0., 0.],\n",
       "        [0., 0., 0.],\n",
       "        [0., 0., 0.]])"
      ]
     },
     "execution_count": 14,
     "metadata": {},
     "output_type": "execute_result"
    }
   ],
   "source": [
    "# можно сразу создать тензор, состоящий из нулей\n",
    "tensor_2 = torch.zeros(3, 3)\n",
    "tensor_2"
   ]
  },
  {
   "cell_type": "code",
   "execution_count": 15,
   "metadata": {},
   "outputs": [
    {
     "data": {
      "text/plain": [
       "tensor([[0., 0., 0.],\n",
       "        [0., 0., 0.],\n",
       "        [0., 0., 0.]])"
      ]
     },
     "execution_count": 15,
     "metadata": {},
     "output_type": "execute_result"
    }
   ],
   "source": [
    "# создадим новый тензор из нулей с формой и типом данных указанного тензора\n",
    "tensor_3 = torch.zeros_like(tensor_1)\n",
    "tensor_3"
   ]
  },
  {
   "cell_type": "markdown",
   "metadata": {},
   "source": [
    "Изменение типа тензора:"
   ]
  },
  {
   "cell_type": "code",
   "execution_count": 16,
   "metadata": {},
   "outputs": [
    {
     "data": {
      "text/plain": [
       "tensor([0.1658, 0.5108, 0.9994, 0.6749, 0.6769])"
      ]
     },
     "execution_count": 16,
     "metadata": {},
     "output_type": "execute_result"
    }
   ],
   "source": [
    "tensor = torch.rand(5)\n",
    "tensor"
   ]
  },
  {
   "cell_type": "code",
   "execution_count": 17,
   "metadata": {},
   "outputs": [
    {
     "data": {
      "text/plain": [
       "tensor([0, 0, 0, 0, 0], dtype=torch.int32)"
      ]
     },
     "execution_count": 17,
     "metadata": {},
     "output_type": "execute_result"
    }
   ],
   "source": [
    "# приведем тензор к типу IntTensor\n",
    "tensor.type_as(torch.IntTensor())"
   ]
  },
  {
   "cell_type": "code",
   "execution_count": 18,
   "metadata": {},
   "outputs": [
    {
     "data": {
      "text/plain": [
       "tensor([0.1658, 0.5108, 0.9994, 0.6749, 0.6769])"
      ]
     },
     "execution_count": 18,
     "metadata": {},
     "output_type": "execute_result"
    }
   ],
   "source": [
    "# заметим, что type_as создает новый тензор, старый остается без изменения\n",
    "tensor"
   ]
  },
  {
   "cell_type": "code",
   "execution_count": 19,
   "metadata": {},
   "outputs": [
    {
     "data": {
      "text/plain": [
       "tensor([0, 0, 0, 0, 0], dtype=torch.int32)"
      ]
     },
     "execution_count": 19,
     "metadata": {},
     "output_type": "execute_result"
    }
   ],
   "source": [
    "tensor.to(torch.int32)"
   ]
  },
  {
   "cell_type": "code",
   "execution_count": 20,
   "metadata": {},
   "outputs": [
    {
     "data": {
      "text/plain": [
       "tensor([0.1658, 0.5108, 0.9994, 0.6749, 0.6769])"
      ]
     },
     "execution_count": 20,
     "metadata": {},
     "output_type": "execute_result"
    }
   ],
   "source": [
    "tensor"
   ]
  },
  {
   "cell_type": "markdown",
   "metadata": {},
   "source": [
    "Индексирование:"
   ]
  },
  {
   "cell_type": "code",
   "execution_count": 21,
   "metadata": {},
   "outputs": [
    {
     "data": {
      "text/plain": [
       "tensor(0.1658)"
      ]
     },
     "execution_count": 21,
     "metadata": {},
     "output_type": "execute_result"
    }
   ],
   "source": [
    "# к элементам тензора можно обращаться также, как и к обычным массивам \n",
    "tensor[0]"
   ]
  },
  {
   "cell_type": "code",
   "execution_count": 22,
   "metadata": {},
   "outputs": [
    {
     "data": {
      "text/plain": [
       "tensor([0.5108, 0.9994])"
      ]
     },
     "execution_count": 22,
     "metadata": {},
     "output_type": "execute_result"
    }
   ],
   "source": [
    "# можно делать срезы\n",
    "tensor[1:3]"
   ]
  },
  {
   "cell_type": "markdown",
   "metadata": {},
   "source": [
    "Изменение формы тензора:"
   ]
  },
  {
   "cell_type": "code",
   "execution_count": 23,
   "metadata": {},
   "outputs": [
    {
     "data": {
      "text/plain": [
       "tensor([[ 1.4168,  1.7366, -0.5919, -0.2677],\n",
       "        [-0.9903, -1.3712,  0.0935,  0.2831],\n",
       "        [-1.0303, -0.6102, -0.1128, -0.1233]])"
      ]
     },
     "execution_count": 23,
     "metadata": {},
     "output_type": "execute_result"
    }
   ],
   "source": [
    "# создадим тензор\n",
    "tensor = torch.randn((3,4))\n",
    "tensor"
   ]
  },
  {
   "cell_type": "code",
   "execution_count": 24,
   "metadata": {},
   "outputs": [
    {
     "name": "stdout",
     "output_type": "stream",
     "text": [
      "tensor([ 1.4168,  1.7366, -0.5919, -0.2677, -0.9903, -1.3712,  0.0935,  0.2831,\n",
      "        -1.0303, -0.6102, -0.1128, -0.1233])\n",
      "tensor([[ 1.4168,  1.7366, -0.5919, -0.2677],\n",
      "        [-0.9903, -1.3712,  0.0935,  0.2831],\n",
      "        [-1.0303, -0.6102, -0.1128, -0.1233]])\n"
     ]
    }
   ],
   "source": [
    "# воспользуемся методом reshape для изменения формы тензора\n",
    "print(tensor.reshape(-1))\n",
    "print(tensor)"
   ]
  },
  {
   "cell_type": "code",
   "execution_count": 25,
   "metadata": {},
   "outputs": [
    {
     "name": "stdout",
     "output_type": "stream",
     "text": [
      "tensor([ 1.4168,  1.7366, -0.5919, -0.2677, -0.9903, -1.3712,  0.0935,  0.2831,\n",
      "        -1.0303, -0.6102, -0.1128, -0.1233])\n",
      "tensor([[ 1.4168,  1.7366, -0.5919, -0.2677],\n",
      "        [-0.9903, -1.3712,  0.0935,  0.2831],\n",
      "        [-1.0303, -0.6102, -0.1128, -0.1233]])\n",
      "(4, 1)\n"
     ]
    }
   ],
   "source": [
    "# также мы можем воспользоваться методом view\n",
    "# метод view создает новый тензор, старый остается без изменений\n",
    "print(tensor.view(-1))\n",
    "print(tensor)\n",
    "print(tensor.stride())"
   ]
  },
  {
   "cell_type": "code",
   "execution_count": 26,
   "metadata": {},
   "outputs": [
    {
     "data": {
      "text/plain": [
       "tensor([[ 1.4168,  1.7366, -0.5919],\n",
       "        [-0.2677, -0.9903, -1.3712],\n",
       "        [ 0.0935,  0.2831, -1.0303],\n",
       "        [-0.6102, -0.1128, -0.1233]])"
      ]
     },
     "execution_count": 26,
     "metadata": {},
     "output_type": "execute_result"
    }
   ],
   "source": [
    "# попробуем изменить размер тензора на 3x4\n",
    "# в результате мы должны получить ошибку, так как тензор содержит всего 9 элементов\n",
    "tensor.view(4,3)"
   ]
  },
  {
   "cell_type": "code",
   "execution_count": 27,
   "metadata": {},
   "outputs": [
    {
     "data": {
      "text/plain": [
       "tensor([[ 1.4168],\n",
       "        [ 1.7366],\n",
       "        [-0.5919],\n",
       "        [-0.2677],\n",
       "        [-0.9903],\n",
       "        [-1.3712],\n",
       "        [ 0.0935],\n",
       "        [ 0.2831],\n",
       "        [-1.0303],\n",
       "        [-0.6102],\n",
       "        [-0.1128],\n",
       "        [-0.1233]])"
      ]
     },
     "execution_count": 27,
     "metadata": {},
     "output_type": "execute_result"
    }
   ],
   "source": [
    "# также мы можем использовать параметр \"-1\"\n",
    "# он используется, когда вы не знаете, сколько строк/столбцов вам нужно, но знаете количество столбцов/строк, \n",
    "# тогда вы можете указать это с помощью параметра -1\n",
    "tensor.view(-1,1)"
   ]
  },
  {
   "cell_type": "code",
   "execution_count": 28,
   "metadata": {},
   "outputs": [
    {
     "data": {
      "text/plain": [
       "tensor([[[0.7779, 0.9364],\n",
       "         [0.3469, 0.9469]],\n",
       "\n",
       "        [[0.2089, 0.0278],\n",
       "         [0.0338, 0.2659]]])"
      ]
     },
     "execution_count": 28,
     "metadata": {},
     "output_type": "execute_result"
    }
   ],
   "source": [
    "# попробуем трехмерный тензор превратить в одномерный\n",
    "tensor = torch.rand((2,2,2))\n",
    "tensor"
   ]
  },
  {
   "cell_type": "code",
   "execution_count": 29,
   "metadata": {},
   "outputs": [
    {
     "data": {
      "text/plain": [
       "torch.Size([2, 2, 2])"
      ]
     },
     "execution_count": 29,
     "metadata": {},
     "output_type": "execute_result"
    }
   ],
   "source": [
    "tensor.shape"
   ]
  },
  {
   "cell_type": "code",
   "execution_count": 30,
   "metadata": {},
   "outputs": [
    {
     "data": {
      "text/plain": [
       "tensor([0.7779, 0.9364, 0.3469, 0.9469, 0.2089, 0.0278, 0.0338, 0.2659])"
      ]
     },
     "execution_count": 30,
     "metadata": {},
     "output_type": "execute_result"
    }
   ],
   "source": [
    "tensor.view(-1)"
   ]
  },
  {
   "cell_type": "markdown",
   "metadata": {},
   "source": [
    "Конкатенация тензоров:"
   ]
  },
  {
   "cell_type": "code",
   "execution_count": 31,
   "metadata": {},
   "outputs": [
    {
     "name": "stdout",
     "output_type": "stream",
     "text": [
      "X: tensor([[[0.7995]]])\n",
      "Y: tensor([[[0.6858]]])\n",
      "-----\n",
      "tensor([[[0.7995]],\n",
      "\n",
      "        [[0.6858]]])\n",
      "-----\n",
      "tensor([[[0.7995],\n",
      "         [0.6858]]])\n",
      "-----\n",
      "tensor([[[0.7995, 0.6858]]])\n"
     ]
    }
   ],
   "source": [
    "# также мы можем объединять тензоры с помощью метода torch.cat()\n",
    "x = torch.rand(1, 1, 1)\n",
    "y = torch.rand(1, 1, 1)\n",
    "print('X:', x)\n",
    "print('Y:', y)\n",
    "print('-----')\n",
    "print(torch.cat([x, y], dim=0)) # конкатенация по 0 измерению\n",
    "print('-----')\n",
    "print(torch.cat([x, y], dim=1)) # конкатенация по 1 измерению\n",
    "print('-----')\n",
    "print(torch.cat([x, y], dim=2)) # конкатенация по 2 измерению"
   ]
  },
  {
   "cell_type": "code",
   "execution_count": 32,
   "metadata": {},
   "outputs": [
    {
     "data": {
      "text/plain": [
       "tensor([[[[0.7995]]],\n",
       "\n",
       "\n",
       "        [[[0.6858]]]])"
      ]
     },
     "execution_count": 32,
     "metadata": {},
     "output_type": "execute_result"
    }
   ],
   "source": [
    "# также можно использовать метод torch.stack()\n",
    "torch.stack([x,y], dim=0)"
   ]
  },
  {
   "cell_type": "markdown",
   "metadata": {},
   "source": [
    "Арифметические операции с тензорами:\n",
    "\n",
    "\n",
    "| Оператор | Аналог |\n",
    "|:-:|:-:|\n",
    "|`+`| `torch.add()` |\n",
    "|`-`| `torch.sub()` |\n",
    "|`*`| `torch.mul()` |\n",
    "|`/`| `torch.div()` |\n",
    "\n",
    "Все операции вычисляются поэлементно."
   ]
  },
  {
   "cell_type": "code",
   "execution_count": 33,
   "metadata": {},
   "outputs": [
    {
     "name": "stdout",
     "output_type": "stream",
     "text": [
      "tensor([[0.1475, 0.7675],\n",
      "        [0.5863, 0.2290]]) \n",
      "\n",
      "tensor([[0.8044, 0.5016],\n",
      "        [0.5108, 0.9632]])\n"
     ]
    }
   ],
   "source": [
    "a = torch.rand((2, 2))\n",
    "b = torch.rand((2, 2))\n",
    "print(a, '\\n')\n",
    "print(b)"
   ]
  },
  {
   "cell_type": "code",
   "execution_count": 34,
   "metadata": {},
   "outputs": [
    {
     "data": {
      "text/plain": [
       "tensor([[0.9520, 1.2691],\n",
       "        [1.0971, 1.1922]])"
      ]
     },
     "execution_count": 34,
     "metadata": {},
     "output_type": "execute_result"
    }
   ],
   "source": [
    "# сложение\n",
    "a + b"
   ]
  },
  {
   "cell_type": "code",
   "execution_count": 35,
   "metadata": {},
   "outputs": [
    {
     "data": {
      "text/plain": [
       "tensor([[0.9520, 1.2691],\n",
       "        [1.0971, 1.1922]])"
      ]
     },
     "execution_count": 35,
     "metadata": {},
     "output_type": "execute_result"
    }
   ],
   "source": [
    "torch.add(a, b)"
   ]
  },
  {
   "cell_type": "code",
   "execution_count": 36,
   "metadata": {},
   "outputs": [
    {
     "data": {
      "text/plain": [
       "tensor([[-0.6569,  0.2659],\n",
       "        [ 0.0755, -0.7342]])"
      ]
     },
     "execution_count": 36,
     "metadata": {},
     "output_type": "execute_result"
    }
   ],
   "source": [
    "# вычитание\n",
    "a - b"
   ]
  },
  {
   "cell_type": "code",
   "execution_count": 37,
   "metadata": {},
   "outputs": [
    {
     "data": {
      "text/plain": [
       "tensor([[-0.6569,  0.2659],\n",
       "        [ 0.0755, -0.7342]])"
      ]
     },
     "execution_count": 37,
     "metadata": {},
     "output_type": "execute_result"
    }
   ],
   "source": [
    "torch.sub(a, b)"
   ]
  },
  {
   "cell_type": "code",
   "execution_count": 38,
   "metadata": {},
   "outputs": [
    {
     "data": {
      "text/plain": [
       "tensor([[0.1187, 0.3850],\n",
       "        [0.2995, 0.2206]])"
      ]
     },
     "execution_count": 38,
     "metadata": {},
     "output_type": "execute_result"
    }
   ],
   "source": [
    "# умножение\n",
    "a * b"
   ]
  },
  {
   "cell_type": "code",
   "execution_count": 39,
   "metadata": {},
   "outputs": [
    {
     "data": {
      "text/plain": [
       "tensor([[0.1187, 0.3850],\n",
       "        [0.2995, 0.2206]])"
      ]
     },
     "execution_count": 39,
     "metadata": {},
     "output_type": "execute_result"
    }
   ],
   "source": [
    "torch.mul(a, b)"
   ]
  },
  {
   "cell_type": "code",
   "execution_count": 40,
   "metadata": {},
   "outputs": [
    {
     "data": {
      "text/plain": [
       "tensor([[0.1834, 1.5301],\n",
       "        [1.1478, 0.2378]])"
      ]
     },
     "execution_count": 40,
     "metadata": {},
     "output_type": "execute_result"
    }
   ],
   "source": [
    "# деление\n",
    "a / b"
   ]
  },
  {
   "cell_type": "code",
   "execution_count": 41,
   "metadata": {},
   "outputs": [
    {
     "data": {
      "text/plain": [
       "tensor([[0.1834, 1.5301],\n",
       "        [1.1478, 0.2378]])"
      ]
     },
     "execution_count": 41,
     "metadata": {},
     "output_type": "execute_result"
    }
   ],
   "source": [
    "torch.div(a, b)"
   ]
  },
  {
   "cell_type": "code",
   "execution_count": 42,
   "metadata": {},
   "outputs": [
    {
     "name": "stdout",
     "output_type": "stream",
     "text": [
      "tensor([[0.1475, 0.7675],\n",
      "        [0.5863, 0.2290]])\n",
      "tensor([[0.8044, 0.5016],\n",
      "        [0.5108, 0.9632]])\n"
     ]
    }
   ],
   "source": [
    "# стоит заметить, что тензоры не изменились\n",
    "print(a)\n",
    "print(b)"
   ]
  },
  {
   "cell_type": "markdown",
   "metadata": {},
   "source": [
    "Сравнение тензоров:"
   ]
  },
  {
   "cell_type": "code",
   "execution_count": 43,
   "metadata": {},
   "outputs": [
    {
     "name": "stdout",
     "output_type": "stream",
     "text": [
      "tensor([[  1,   2,   3],\n",
      "        [ -1,  -2,  -3],\n",
      "        [100, 200, 300]], dtype=torch.int32) \n",
      "\n",
      "tensor([[ 1,  2,  3],\n",
      "        [-1, -2, -3],\n",
      "        [ 0,  0,  0]], dtype=torch.int32)\n"
     ]
    }
   ],
   "source": [
    "a = torch.IntTensor([[1, 2, 3], [-1, -2, -3], [100, 200, 300]])\n",
    "b = torch.IntTensor([[1, 2, 3], [-1, -2, -3], [0, 0, 0]])\n",
    "print(a, '\\n')\n",
    "print(b)"
   ]
  },
  {
   "cell_type": "code",
   "execution_count": 44,
   "metadata": {},
   "outputs": [
    {
     "data": {
      "text/plain": [
       "tensor([[ True,  True,  True],\n",
       "        [ True,  True,  True],\n",
       "        [False, False, False]])"
      ]
     },
     "execution_count": 44,
     "metadata": {},
     "output_type": "execute_result"
    }
   ],
   "source": [
    "a == b # сравнение осуществляется поэлементно"
   ]
  },
  {
   "cell_type": "code",
   "execution_count": 45,
   "metadata": {},
   "outputs": [
    {
     "data": {
      "text/plain": [
       "tensor([[False, False, False],\n",
       "        [False, False, False],\n",
       "        [ True,  True,  True]])"
      ]
     },
     "execution_count": 45,
     "metadata": {},
     "output_type": "execute_result"
    }
   ],
   "source": [
    "a > b"
   ]
  },
  {
   "cell_type": "code",
   "execution_count": 46,
   "metadata": {},
   "outputs": [
    {
     "data": {
      "text/plain": [
       "tensor([[False, False, False],\n",
       "        [False, False, False],\n",
       "        [False, False, False]])"
      ]
     },
     "execution_count": 46,
     "metadata": {},
     "output_type": "execute_result"
    }
   ],
   "source": [
    "a < b"
   ]
  },
  {
   "cell_type": "code",
   "execution_count": 47,
   "metadata": {},
   "outputs": [
    {
     "data": {
      "text/plain": [
       "tensor([100, 200, 300], dtype=torch.int32)"
      ]
     },
     "execution_count": 47,
     "metadata": {},
     "output_type": "execute_result"
    }
   ],
   "source": [
    "# найдем элементы тензора а, которые больше элементов тензора b\n",
    "a[a > b]"
   ]
  },
  {
   "cell_type": "code",
   "execution_count": 48,
   "metadata": {},
   "outputs": [
    {
     "data": {
      "text/plain": [
       "tensor([ 1,  2,  3, -1, -2, -3], dtype=torch.int32)"
      ]
     },
     "execution_count": 48,
     "metadata": {},
     "output_type": "execute_result"
    }
   ],
   "source": [
    "# найдем элементы тензора b, которые равны элементам тензора b\n",
    "b[b == a]"
   ]
  },
  {
   "cell_type": "markdown",
   "metadata": {},
   "source": [
    "Применение (поэлементно) к тензору различных функций:"
   ]
  },
  {
   "cell_type": "code",
   "execution_count": 49,
   "metadata": {},
   "outputs": [
    {
     "data": {
      "text/plain": [
       "tensor([[0.8693, 0.3627],\n",
       "        [0.1626, 0.7291]])"
      ]
     },
     "execution_count": 49,
     "metadata": {},
     "output_type": "execute_result"
    }
   ],
   "source": [
    "a = torch.rand((2,2))\n",
    "a"
   ]
  },
  {
   "cell_type": "code",
   "execution_count": 50,
   "metadata": {},
   "outputs": [
    {
     "data": {
      "text/plain": [
       "tensor([[0.7639, 0.3548],\n",
       "        [0.1619, 0.6662]])"
      ]
     },
     "execution_count": 50,
     "metadata": {},
     "output_type": "execute_result"
    }
   ],
   "source": [
    "a.sin()"
   ]
  },
  {
   "cell_type": "code",
   "execution_count": 51,
   "metadata": {},
   "outputs": [
    {
     "data": {
      "text/plain": [
       "tensor([[0.6454, 0.9350],\n",
       "        [0.9868, 0.7458]])"
      ]
     },
     "execution_count": 51,
     "metadata": {},
     "output_type": "execute_result"
    }
   ],
   "source": [
    "a.cos()"
   ]
  },
  {
   "cell_type": "code",
   "execution_count": 52,
   "metadata": {},
   "outputs": [
    {
     "data": {
      "text/plain": [
       "tensor([[1.1836, 0.3794],\n",
       "        [0.1641, 0.8932]])"
      ]
     },
     "execution_count": 52,
     "metadata": {},
     "output_type": "execute_result"
    }
   ],
   "source": [
    "a.tan()"
   ]
  },
  {
   "cell_type": "code",
   "execution_count": 53,
   "metadata": {},
   "outputs": [
    {
     "data": {
      "text/plain": [
       "tensor([[2.3852, 1.4371],\n",
       "        [1.1766, 2.0732]])"
      ]
     },
     "execution_count": 53,
     "metadata": {},
     "output_type": "execute_result"
    }
   ],
   "source": [
    "a.exp()"
   ]
  },
  {
   "cell_type": "code",
   "execution_count": 54,
   "metadata": {},
   "outputs": [
    {
     "data": {
      "text/plain": [
       "tensor([[-0.1401, -1.0143],\n",
       "        [-1.8164, -0.3160]])"
      ]
     },
     "execution_count": 54,
     "metadata": {},
     "output_type": "execute_result"
    }
   ],
   "source": [
    "a.log()"
   ]
  },
  {
   "cell_type": "markdown",
   "metadata": {},
   "source": [
    "Применение агрегирующих функций:"
   ]
  },
  {
   "cell_type": "code",
   "execution_count": 55,
   "metadata": {},
   "outputs": [
    {
     "data": {
      "text/plain": [
       "tensor([[0.8693, 0.3627],\n",
       "        [0.1626, 0.7291]])"
      ]
     },
     "execution_count": 55,
     "metadata": {},
     "output_type": "execute_result"
    }
   ],
   "source": [
    "a"
   ]
  },
  {
   "cell_type": "code",
   "execution_count": 56,
   "metadata": {},
   "outputs": [
    {
     "name": "stdout",
     "output_type": "stream",
     "text": [
      "tensor(2.1236)\n",
      "tensor([1.0319, 1.0917])\n",
      "tensor([1.2319, 0.8917])\n"
     ]
    }
   ],
   "source": [
    "print(a.sum()) # сумма всех элементов\n",
    "print(a.sum(dim=0)) # сумма по столбцам\n",
    "print(a.sum(dim=1)) # сумма по строкам"
   ]
  },
  {
   "cell_type": "code",
   "execution_count": 57,
   "metadata": {},
   "outputs": [
    {
     "data": {
      "text/plain": [
       "tensor([0.5159, 0.5459])"
      ]
     },
     "execution_count": 57,
     "metadata": {},
     "output_type": "execute_result"
    }
   ],
   "source": [
    "a.mean(dim=0)"
   ]
  },
  {
   "cell_type": "code",
   "execution_count": 58,
   "metadata": {},
   "outputs": [
    {
     "data": {
      "text/plain": [
       "tensor(0.8693)"
      ]
     },
     "execution_count": 58,
     "metadata": {},
     "output_type": "execute_result"
    }
   ],
   "source": [
    "a.max()"
   ]
  },
  {
   "cell_type": "code",
   "execution_count": 59,
   "metadata": {},
   "outputs": [
    {
     "data": {
      "text/plain": [
       "tensor(0.1626)"
      ]
     },
     "execution_count": 59,
     "metadata": {},
     "output_type": "execute_result"
    }
   ],
   "source": [
    "a.min()"
   ]
  },
  {
   "cell_type": "markdown",
   "metadata": {},
   "source": [
    "Матричные операции с тензорами:"
   ]
  },
  {
   "cell_type": "code",
   "execution_count": 60,
   "metadata": {},
   "outputs": [
    {
     "name": "stdout",
     "output_type": "stream",
     "text": [
      "tensor([0.5248, 0.9188, 0.9577]) \n",
      "\n",
      "tensor([0.7332, 0.5834, 0.0655]) \n",
      "\n",
      "tensor([[0.4901, 0.9443, 0.9788],\n",
      "        [0.6482, 0.3726, 0.4870]]) \n",
      "\n",
      "tensor([[7.1075e-01, 4.0760e-01],\n",
      "        [8.1547e-01, 1.6113e-01],\n",
      "        [8.1325e-04, 3.9649e-02]])\n"
     ]
    }
   ],
   "source": [
    "# транспонирование тензора\n",
    "a = torch.rand(3)\n",
    "b = torch.rand(3)\n",
    "c = torch.rand((2,3))\n",
    "d = torch.rand((3,2))\n",
    "print(a, '\\n')\n",
    "print(b, '\\n')\n",
    "print(c, '\\n')\n",
    "print(d)"
   ]
  },
  {
   "cell_type": "code",
   "execution_count": 61,
   "metadata": {},
   "outputs": [
    {
     "data": {
      "text/plain": [
       "tensor([[0.4901, 0.6482],\n",
       "        [0.9443, 0.3726],\n",
       "        [0.9788, 0.4870]])"
      ]
     },
     "execution_count": 61,
     "metadata": {},
     "output_type": "execute_result"
    }
   ],
   "source": [
    "c.T"
   ]
  },
  {
   "cell_type": "code",
   "execution_count": 62,
   "metadata": {},
   "outputs": [
    {
     "data": {
      "text/plain": [
       "tensor([[0.4901, 0.9443, 0.9788],\n",
       "        [0.6482, 0.3726, 0.4870]])"
      ]
     },
     "execution_count": 62,
     "metadata": {},
     "output_type": "execute_result"
    }
   ],
   "source": [
    "c"
   ]
  },
  {
   "cell_type": "code",
   "execution_count": 63,
   "metadata": {},
   "outputs": [
    {
     "data": {
      "text/plain": [
       "tensor(0.9835)"
      ]
     },
     "execution_count": 63,
     "metadata": {},
     "output_type": "execute_result"
    }
   ],
   "source": [
    "# скалярное произведение\n",
    "a.dot(b)"
   ]
  },
  {
   "cell_type": "code",
   "execution_count": 64,
   "metadata": {},
   "outputs": [
    {
     "data": {
      "text/plain": [
       "tensor(0.9835)"
      ]
     },
     "execution_count": 64,
     "metadata": {},
     "output_type": "execute_result"
    }
   ],
   "source": [
    "a @ b"
   ]
  },
  {
   "cell_type": "code",
   "execution_count": 65,
   "metadata": {},
   "outputs": [
    {
     "data": {
      "text/plain": [
       "tensor([[1.1191, 0.3907],\n",
       "        [0.7649, 0.3435]])"
      ]
     },
     "execution_count": 65,
     "metadata": {},
     "output_type": "execute_result"
    }
   ],
   "source": [
    "# умножение матриц\n",
    "c.mm(d)"
   ]
  },
  {
   "cell_type": "code",
   "execution_count": 66,
   "metadata": {},
   "outputs": [
    {
     "data": {
      "text/plain": [
       "tensor([[1.1191, 0.3907],\n",
       "        [0.7649, 0.3435]])"
      ]
     },
     "execution_count": 66,
     "metadata": {},
     "output_type": "execute_result"
    }
   ],
   "source": [
    "c @ d"
   ]
  },
  {
   "cell_type": "markdown",
   "metadata": {},
   "source": [
    "Преобразование массива NumPy в Tensor и наоборот:"
   ]
  },
  {
   "cell_type": "code",
   "execution_count": 67,
   "metadata": {},
   "outputs": [
    {
     "data": {
      "text/plain": [
       "array([1, 2, 3, 4])"
      ]
     },
     "execution_count": 67,
     "metadata": {},
     "output_type": "execute_result"
    }
   ],
   "source": [
    "a = np.array([1, 2, 3, 4])\n",
    "a"
   ]
  },
  {
   "cell_type": "code",
   "execution_count": 68,
   "metadata": {},
   "outputs": [
    {
     "data": {
      "text/plain": [
       "tensor([1, 2, 3, 4])"
      ]
     },
     "execution_count": 68,
     "metadata": {},
     "output_type": "execute_result"
    }
   ],
   "source": [
    "b = torch.from_numpy(a)\n",
    "b"
   ]
  },
  {
   "cell_type": "code",
   "execution_count": 69,
   "metadata": {},
   "outputs": [
    {
     "data": {
      "text/plain": [
       "array([0, 0, 0, 0])"
      ]
     },
     "execution_count": 69,
     "metadata": {},
     "output_type": "execute_result"
    }
   ],
   "source": [
    "# заметим, что переменные a и b имеют один и тот же адрес в памяти,\n",
    "# поэтому преобразование одного массива приведет к изменению другого\n",
    "a -= a\n",
    "a"
   ]
  },
  {
   "cell_type": "code",
   "execution_count": 70,
   "metadata": {},
   "outputs": [
    {
     "data": {
      "text/plain": [
       "tensor([0, 0, 0, 0])"
      ]
     },
     "execution_count": 70,
     "metadata": {},
     "output_type": "execute_result"
    }
   ],
   "source": [
    "b"
   ]
  },
  {
   "cell_type": "code",
   "execution_count": 71,
   "metadata": {},
   "outputs": [
    {
     "data": {
      "text/plain": [
       "tensor([[[-7.9454e-28,  4.5822e-41,  1.7951e+23],\n",
       "         [ 3.0879e-41,  4.4842e-44,  0.0000e+00]]])"
      ]
     },
     "execution_count": 71,
     "metadata": {},
     "output_type": "execute_result"
    }
   ],
   "source": [
    "# Tensor -> NumPy\n",
    "tensor = torch.FloatTensor(1, 2, 3)\n",
    "tensor"
   ]
  },
  {
   "cell_type": "code",
   "execution_count": 72,
   "metadata": {},
   "outputs": [
    {
     "data": {
      "text/plain": [
       "array([[[-7.9454471e-28,  4.5822460e-41,  1.7950613e+23],\n",
       "        [ 3.0879013e-41,  4.4841551e-44,  0.0000000e+00]]], dtype=float32)"
      ]
     },
     "execution_count": 72,
     "metadata": {},
     "output_type": "execute_result"
    }
   ],
   "source": [
    "np_array = tensor.numpy()\n",
    "np_array"
   ]
  },
  {
   "cell_type": "code",
   "execution_count": 73,
   "metadata": {},
   "outputs": [
    {
     "data": {
      "text/plain": [
       "array([[[0., 0., 0.],\n",
       "        [0., 0., 0.]]], dtype=float32)"
      ]
     },
     "execution_count": 73,
     "metadata": {},
     "output_type": "execute_result"
    }
   ],
   "source": [
    "np_array -= np_array\n",
    "np_array"
   ]
  },
  {
   "cell_type": "code",
   "execution_count": 74,
   "metadata": {},
   "outputs": [
    {
     "data": {
      "text/plain": [
       "tensor([[[0., 0., 0.],\n",
       "         [0., 0., 0.]]])"
      ]
     },
     "execution_count": 74,
     "metadata": {},
     "output_type": "execute_result"
    }
   ],
   "source": [
    "tensor"
   ]
  },
  {
   "cell_type": "markdown",
   "metadata": {},
   "source": [
    "### Метод обратного распространения ошибки (Backpropogation)\n",
    "\n",
    "<p style=\"text-align: center;\"> <img src=\"https://neurohive.io/wp-content/uploads/2018/07/backpropagation-e1543313177481.jpeg\" width=600 height=150> </p>\n",
    "\n",
    "**Метод обратного распространения ошибки** — это способ обучения нейронной сети. Цели обратного распространения просты: отрегулировать каждый вес пропорционально тому, насколько он способствует общей ошибке. Если мы будем итеративно уменьшать ошибку каждого веса, в конце концов у нас будет ряд весов, которые дают хорошие прогнозы. Метод обратного распространения ошибки является модификацией градиентного спуска.\\\n",
    "Этот простой метод распространяется на любую переменную внутри функции, и позволяет нам в точности определить влияние каждой переменной на общий результат."
   ]
  },
  {
   "cell_type": "markdown",
   "metadata": {},
   "source": [
    "**Разберем небольшой пример.**\\\n",
    "Напишем простую нейросеть: попробуем подогнать полином третьей степени к функции синуса с помощью методов прямого и обратного распространения ошибки. В коде ниже будем использовать методы библиотеки NumPy.\\\n",
    "Полином выглядит следующим образом: $$f(x) = w_0 + w_1 * x + w_2 * x^2 + w_3 * x^3$$ где `w_i` - веса, которые необходимо подобрать таким образом, чтобы ошибка между известными и полученными значениями была минимальной. Изначально инициализируем веса случайными значениями.\\\n",
    "Также зададим скорость обучения `learning rate` = 0.000001. Далее зададим 2000 итераций для поиска наилучшего вектора весов.\\\n",
    "На каждой итерации будем вычислять значение функции с полученными весами, затем ошибку и после этого будем применять метод обратного распространения ошибки. Будем вычислять производную функции потерь по каждому весу:\n",
    "$${\\frac  {\\partial{Loss}}{\\partial{w}}}\n",
    "={\\frac  {\\partial{Loss}}{\\partial{y_{pred}}}}\\cdot {\\frac  {\\partial{y_{pred}}}{\\partial{w}}}$$\\\n",
    "После этого обновляем веса. Как итог, получаем функцию, приближающую функцию синуса."
   ]
  },
  {
   "cell_type": "code",
   "execution_count": 75,
   "metadata": {},
   "outputs": [
    {
     "name": "stdout",
     "output_type": "stream",
     "text": [
      "99 237.9820417940025\n",
      "199 170.54520507455888\n",
      "299 122.97339294974935\n",
      "399 89.40768186743276\n",
      "499 65.72001745893877\n",
      "599 49.00048931439903\n",
      "699 37.19737540502659\n",
      "799 28.863717584490374\n",
      "899 22.978844015597357\n",
      "999 18.822636996994934\n",
      "1099 15.886933801279794\n",
      "1199 13.813077560161233\n",
      "1299 12.3478891742848\n",
      "1399 11.312619284389129\n",
      "1499 10.581048836518356\n",
      "1599 10.06403935398005\n",
      "1699 9.69863128055913\n",
      "1799 9.44035014556497\n",
      "1899 9.257775721953076\n",
      "1999 9.12870794884255\n",
      "Result: y = 0.01857261125576819 + 0.854878927198612 * x + -0.0032040844912053015 * x^2 + -0.09306554772106167 * x^3\n",
      "\n"
     ]
    },
    {
     "data": {
      "image/png": "[encoded data removed]",
      "text/plain": [
       "<Figure size 1224x360 with 3 Axes>"
      ]
     },
     "metadata": {
      "needs_background": "light"
     },
     "output_type": "display_data"
    }
   ],
   "source": [
    "fg, ax = plt.subplots(1, 3, figsize=(17,5))\n",
    "\n",
    "# значения вектора х - точки в промежутке от -pi до pi\n",
    "# значения вектора у - значения функции синуса в этих точках\n",
    "x = np.linspace(-math.pi, math.pi, 2000)\n",
    "y = np.sin(x)\n",
    "\n",
    "ax[0].plot(x, y, label='1')\n",
    "\n",
    "\n",
    "# инициализируем веса рандомными значениями\n",
    "w_0 = np.random.randn()\n",
    "w_1 = np.random.randn()\n",
    "w_2 = np.random.randn()\n",
    "w_3 = np.random.randn()\n",
    "\n",
    "ax[1].plot(x, w_0 + w_1 * x + w_2 * x ** 2 + w_3 * x ** 3, label='2')\n",
    "\n",
    "# learning_rate - шаг обучения\n",
    "learning_rate = 1e-6\n",
    "\n",
    "# зададим 2000 итераций для поиска оптимального вектора весов\n",
    "for t in range(2000):\n",
    "    # Forward pass (прямое распространение ошибки): вычисляем значения функции\n",
    "    y_pred = w_0 + w_1 * x + w_2 * x ** 2 + w_3 * x ** 3\n",
    "\n",
    "    # вычисляем функцию ошибки\n",
    "    loss = np.square(y_pred - y).sum()\n",
    "    if t % 100 == 99:\n",
    "        print(t, loss)\n",
    "\n",
    "    # Backprop (обратное распространение ошибки): вычисляем градиенты весов относительно ошибки\n",
    "    grad_y_pred = 2.0 * (y_pred - y)\n",
    "    grad_w_0 = grad_y_pred.sum() # производная потери относительно веса w_0\n",
    "    grad_w_1 = (grad_y_pred * x).sum() # производная потери относительно веса w_1\n",
    "    grad_w_2 = (grad_y_pred * x ** 2).sum() # производная потери относительно веса w_2\n",
    "    grad_w_3 = (grad_y_pred * x ** 3).sum() # производная потери относительно веса w_3\n",
    "\n",
    "    # обновляем веса\n",
    "    w_0 -= learning_rate * grad_w_0\n",
    "    w_1 -= learning_rate * grad_w_1\n",
    "    w_2 -= learning_rate * grad_w_2\n",
    "    w_3 -= learning_rate * grad_w_3\n",
    "\n",
    "print(f'Result: y = {w_0} + {w_1} * x + {w_2} * x^2 + {w_3} * x^3\\n')\n",
    "\n",
    "ax[2].plot(x, w_0 + w_1 * x + w_2 * x ** 2 + w_3 * x ** 3, label='3')\n",
    "\n",
    "ax[0].legend()\n",
    "ax[1].legend()\n",
    "ax[2].legend()\n",
    "\n",
    "ax[0].set_title('sin(x)')\n",
    "ax[1].set_title('Полином 3-го порядка с начальными весами')\n",
    "ax[2].set_title('Полином 3-го порядка с конечными весами')\n",
    "plt.show()"
   ]
  },
  {
   "cell_type": "markdown",
   "metadata": {},
   "source": [
    "Теперь напишем аналогичную нейросеть, используя PyTorch."
   ]
  },
  {
   "cell_type": "code",
   "execution_count": 76,
   "metadata": {},
   "outputs": [
    {
     "name": "stdout",
     "output_type": "stream",
     "text": [
      "99 1259.5107421875\n",
      "199 843.826171875\n",
      "299 566.619873046875\n",
      "399 381.6647033691406\n",
      "499 258.193603515625\n",
      "599 175.72056579589844\n",
      "699 120.59986877441406\n",
      "799 83.7367172241211\n",
      "899 59.067649841308594\n",
      "999 42.54766082763672\n",
      "1099 31.476985931396484\n",
      "1199 24.052568435668945\n",
      "1299 19.069629669189453\n",
      "1399 15.722600936889648\n",
      "1499 13.472538948059082\n",
      "1599 11.958614349365234\n",
      "1699 10.939107894897461\n",
      "1799 10.2518892288208\n",
      "1899 9.788220405578613\n",
      "1999 9.475096702575684\n",
      "Result: y = -0.016440927982330322 + 0.8368980288505554 x + 0.0028363352175801992 x^2 + -0.09050792455673218 x^3\n"
     ]
    },
    {
     "data": {
      "image/png": "[encoded data removed]",
      "text/plain": [
       "<Figure size 1224x360 with 3 Axes>"
      ]
     },
     "metadata": {
      "needs_background": "light"
     },
     "output_type": "display_data"
    }
   ],
   "source": [
    "fg, ax = plt.subplots(1, 3, figsize=(17,5))\n",
    "\n",
    "dtype = torch.float\n",
    "device = torch.device(\"cpu\")\n",
    "# device = torch.device(\"cuda:0\")\n",
    "\n",
    "# Create random input and output data\n",
    "x = torch.linspace(-math.pi, math.pi, 2000, device=device, dtype=dtype)\n",
    "y = torch.sin(x)\n",
    "\n",
    "ax[0].plot(x, y, label='1')\n",
    "\n",
    "# инициализируем веса рандомными значениями\n",
    "w_0 = torch.randn((), device=device, dtype=dtype)\n",
    "w_1 = torch.randn((), device=device, dtype=dtype)\n",
    "w_2 = torch.randn((), device=device, dtype=dtype)\n",
    "w_3 = torch.randn((), device=device, dtype=dtype)\n",
    "\n",
    "ax[1].plot(x, w_0 + w_1 * x + w_2 * x ** 2 + w_3 * x ** 3, label='2')\n",
    "\n",
    "learning_rate = 1e-6\n",
    "for t in range(2000):\n",
    "    # Forward pass (прямое распространение ошибки): вычисляем таргет\n",
    "    y_pred = w_0 + w_1 * x + w_2 * x ** 2 + w_3 * x ** 3\n",
    "\n",
    "    # вычисляем ошибку\n",
    "    loss = (y_pred - y).pow(2).sum().item()\n",
    "    if t % 100 == 99:\n",
    "        print(t, loss)\n",
    "\n",
    "    # Backprop (обратное распространение ошибки): вычисляем градиенты весов относительно ошибки\n",
    "    grad_y_pred = 2.0 * (y_pred - y)\n",
    "    grad_w_0 = grad_y_pred.sum()\n",
    "    grad_w_1 = (grad_y_pred * x).sum()\n",
    "    grad_w_2 = (grad_y_pred * x ** 2).sum()\n",
    "    grad_w_3 = (grad_y_pred * x ** 3).sum()\n",
    "\n",
    "    # Обновляем веса\n",
    "    w_0 -= learning_rate * grad_w_0\n",
    "    w_1 -= learning_rate * grad_w_1\n",
    "    w_2 -= learning_rate * grad_w_2\n",
    "    w_3 -= learning_rate * grad_w_3\n",
    "\n",
    "\n",
    "print(f'Result: y = {w_0.item()} + {w_1.item()} x + {w_2.item()} x^2 + {w_3.item()} x^3')\n",
    "\n",
    "ax[2].plot(x, w_0 + w_1 * x + w_2 * x ** 2 + w_3 * x ** 3, label='3')\n",
    "\n",
    "ax[0].legend()\n",
    "ax[1].legend()\n",
    "ax[2].legend()\n",
    "\n",
    "ax[0].set_title('sin(x)')\n",
    "ax[1].set_title('Полином 3-го порядка с начальными весами')\n",
    "ax[2].set_title('Полином 3-го порядка с конечными весами')\n",
    "plt.show()"
   ]
  },
  {
   "attachments": {
    "a7863447-21e4-438b-801a-fe4874fbdf11.png": {
     "image/png": "[encoded data removed]"
    },
    "f07470ea-a02c-471c-b7af-664d95a3c739.png": {
     "image/png": "[encoded data removed]"
    }
   },
   "cell_type": "markdown",
   "metadata": {},
   "source": [
    "### Autograd\n",
    "\n",
    "В примерах выше мы вручную реализовывали прямой и обратный проход. Это не трудно сделать для небольшой нейросети, но когда необходимо реализовать многослойную нейронную сеть, такая задача становится очень сложной.\\\n",
    "**Вычислительный граф**\\\n",
    "Под глубоким обучением как правило понимают обучение функции, представляющей собой композицию множества нелинейных преобразований. Такая сложная функция ещё называется потоком или графом вычислений. Фреймворк глубокого обучения должен уметь делать следующее:\n",
    "1. Определять граф вычислений;\n",
    "2. Дифференцировать граф вычислений;\n",
    "3. Вычислять его.\n",
    "\n",
    "Преимущества использования вычислительного графа в том, что каждый узел является независимым функционирующим куском кода, если получит все необходимые входные данные. Это позволяет  оптимизировать производительность при выполнении расчетов, используя многоканальную обработку, параллельные вычисления.\\\n",
    "![image.png](attachment:a7863447-21e4-438b-801a-fe4874fbdf11.png)![image.png](attachment:f07470ea-a02c-471c-b7af-664d95a3c739.png)\n",
    "\n",
    "**Автоматическое дифференцирование**\\\n",
    "В PyTorch вычислительный граф строится динамически каждый раз при прямом проходе для того, чтобы затем иметь возможность сделать проход обратный. Подобный подход даёт максимальную гибкость и расширяемость, позволяет использовать в вычислениях все возможности используемого языка программирования и не ограничивает пользователя вообще ничем.\\\n",
    "У нас есть возможность использовать автоматическое дифференцирование (automatic differentiation, AD), которое предоставляет PyTorch. Оно необходимо для вычисление backward passes (обратного прохода). Мы можем взять и продифференцировать граф в любой момент времени в любом его состоянии. В компиляции графа нет совершенно никакой реальной необходимости.\n",
    "\n",
    "<p style=\"align: center;\"><img src=\"https://habrastorage.org/web/e3e/c3e/b78/e3ec3eb78d714a7993a6b922911c0866.png\" width=700 height=500></p>\n",
    "\n",
    "**Пакет autograd**\\\n",
    "Пакет **autograd** обеспечивает автоматическое разграничение всех операций на тензорах. Это определяемый-по-исполнению (define-by-run) фреймворк, что означает, что backprop (обратное распространение в нейронной сети) определяется тем, как выполняется ваш код, и что каждая отдельная итерация может отличаться.\\\n",
    "Если вы установите его атрибут `.requires_grad` равным True, тогда он начнет отслеживать все операции над ним. Когда вы закончите вычисления, вы можете вызвать `.backward()` и получить все градиенты вычисленные автоматически. Градиент для этого тензора будет накапливается в атрибуте `.grad`.\\\n",
    "Чтобы остановить отслеживание тензора в истории вычислений, вы можете вызвать `.detach()`.\\\n",
    "Чтобы предотвратить отслеживание истории (и использование памяти), вы также можете обернуть блок кода в `with torch.no_grad()`. Это может быть особенно полезно при оценке модели, потому что модель может иметь обучаемые параметры с `requires_grad = True`, но для которых нам не нужны градиенты.\n",
    "\n",
    "Есть еще один класс, который очень важен для **autograd** реализации - `Function`.\\\n",
    "Tensor и Function связаны между собой и создают ациклический граф, который кодирует полную историю вычислений. Каждый тензор имеет `.grad_fn` атрибут, который ссылается на Function, которая создала Tensor (за исключением тензоров, созданных пользователем - их `grad_fn = None`). Если вы хотите вычислить производные, то можете вызвать `.backward()`. После вычисления градиентов рекомендуется их обнулить, так как при дальнейшем вычислении градиентов они будут накапливаться. \n",
    "\n",
    "Посмотрим на примерах."
   ]
  },
  {
   "cell_type": "code",
   "execution_count": 77,
   "metadata": {},
   "outputs": [
    {
     "data": {
      "text/plain": [
       "tensor([[0.5814, 0.9572, 0.0944],\n",
       "        [0.9562, 0.4699, 0.0080],\n",
       "        [0.9645, 0.9155, 0.1452]], requires_grad=True)"
      ]
     },
     "execution_count": 77,
     "metadata": {},
     "output_type": "execute_result"
    }
   ],
   "source": [
    "# создадим тензор с параметром requires_grad=True\n",
    "tensor = torch.rand((3, 3), requires_grad=True)\n",
    "tensor"
   ]
  },
  {
   "cell_type": "code",
   "execution_count": 78,
   "metadata": {},
   "outputs": [
    {
     "data": {
      "text/plain": [
       "tensor([[2.5814, 2.9572, 2.0944],\n",
       "        [2.9562, 2.4699, 2.0080],\n",
       "        [2.9645, 2.9155, 2.1452]], grad_fn=<AddBackward0>)"
      ]
     },
     "execution_count": 78,
     "metadata": {},
     "output_type": "execute_result"
    }
   ],
   "source": [
    "# как видно выше, у тензора установлен параметр requires_grad=True\n",
    "# выполним операцию на тензоре\n",
    "new_tensor = tensor + 2\n",
    "new_tensor"
   ]
  },
  {
   "cell_type": "code",
   "execution_count": 79,
   "metadata": {},
   "outputs": [
    {
     "data": {
      "text/plain": [
       "<AddBackward0 at 0x7fbbf7d439e8>"
      ]
     },
     "execution_count": 79,
     "metadata": {},
     "output_type": "execute_result"
    }
   ],
   "source": [
    "# после проведения операции сложения у нового тензора установлен параметр grad_fn=<AddBackward0>,\n",
    "# который означает, что тензор создан с помощью операции сложения\n",
    "new_tensor.grad_fn"
   ]
  },
  {
   "cell_type": "code",
   "execution_count": 80,
   "metadata": {},
   "outputs": [
    {
     "name": "stdout",
     "output_type": "stream",
     "text": [
      "None\n"
     ]
    }
   ],
   "source": [
    "# если посмотреть на параметр grad_fn у первого тезнора, который был создан самостоятельно, то его значение будет None\n",
    "print(tensor.grad_fn)"
   ]
  },
  {
   "cell_type": "code",
   "execution_count": 81,
   "metadata": {},
   "outputs": [
    {
     "data": {
      "text/plain": [
       "tensor([[6.6636, 8.7449, 4.3864],\n",
       "        [8.7392, 6.1002, 4.0322],\n",
       "        [8.7881, 8.5003, 4.6017]], grad_fn=<PowBackward0>)"
      ]
     },
     "execution_count": 81,
     "metadata": {},
     "output_type": "execute_result"
    }
   ],
   "source": [
    "# выполним еще несколько операций с тензорами\n",
    "new_tensor_2 = new_tensor ** 2\n",
    "new_tensor_2"
   ]
  },
  {
   "cell_type": "code",
   "execution_count": 82,
   "metadata": {},
   "outputs": [
    {
     "data": {
      "text/plain": [
       "tensor(6.7285, grad_fn=<MeanBackward0>)"
      ]
     },
     "execution_count": 82,
     "metadata": {},
     "output_type": "execute_result"
    }
   ],
   "source": [
    "out = new_tensor_2.mean()\n",
    "out"
   ]
  },
  {
   "cell_type": "code",
   "execution_count": 83,
   "metadata": {},
   "outputs": [
    {
     "name": "stdout",
     "output_type": "stream",
     "text": [
      "True\n",
      "False\n"
     ]
    }
   ],
   "source": [
    "# отметим, что параметр requires_grad можно изменять inplace\n",
    "print(tensor.requires_grad) # True\n",
    "tensor.requires_grad_(False) # меняем на False\n",
    "print(tensor.requires_grad)"
   ]
  },
  {
   "cell_type": "code",
   "execution_count": 84,
   "metadata": {},
   "outputs": [
    {
     "name": "stdout",
     "output_type": "stream",
     "text": [
      "True\n",
      "True\n",
      "False\n"
     ]
    }
   ],
   "source": [
    "# также мы можем остановить отслеживание операций на тензорах, у которых установлен requires_grad=True, с помощью with torch.no_grad()\n",
    "tensor = torch.rand(1, requires_grad=True)\n",
    "print(tensor.requires_grad)\n",
    "print((tensor ** 2).requires_grad)\n",
    "\n",
    "with torch.no_grad():\n",
    "    print((x ** 2).requires_grad)"
   ]
  },
  {
   "cell_type": "markdown",
   "metadata": {},
   "source": [
    "Используем backpropogation для вычисления градиентов. Для этого в autograd реализован метод `backward`.\\\n",
    "Рассмотрим простой пример."
   ]
  },
  {
   "cell_type": "code",
   "execution_count": 85,
   "metadata": {},
   "outputs": [
    {
     "name": "stdout",
     "output_type": "stream",
     "text": [
      "tensor([2.])\n"
     ]
    }
   ],
   "source": [
    "x = torch.Tensor([1.]) # тензор, состоящий из одного значения - единицы\n",
    "x.requires_grad_(True) # указываем\n",
    "y = x**2 # функция y\n",
    "y.backward() # находим сумму градиентов по заданным тензорам\n",
    "print(x.grad) # находим значение градиента (dy/dx) при x=1"
   ]
  },
  {
   "cell_type": "code",
   "execution_count": 86,
   "metadata": {},
   "outputs": [
    {
     "name": "stdout",
     "output_type": "stream",
     "text": [
      "tensor([2., 4.])\n"
     ]
    }
   ],
   "source": [
    "# рассмотрим еще один пример\n",
    "x = torch.Tensor([1., 2.]) # тензор, состоящий из двух скаляров\n",
    "x.requires_grad_(True)\n",
    "y = sum(x**2)\n",
    "y.backward()\n",
    "print(x.grad)"
   ]
  },
  {
   "cell_type": "code",
   "execution_count": 87,
   "metadata": {},
   "outputs": [
    {
     "name": "stdout",
     "output_type": "stream",
     "text": [
      "tensor([0.3738], requires_grad=True) tensor([0.4097], requires_grad=True)\n",
      "x.grad: tensor([0.1679])\n",
      "y.grad: tensor([0.3063])\n"
     ]
    }
   ],
   "source": [
    "# рассмотрим теперь функцию, состоящую из двух аргументов x и y\n",
    "x = torch.rand(1, requires_grad=True)\n",
    "y = torch.rand(1, requires_grad=True)\n",
    "print(x, y)\n",
    "z = x * (y**2)\n",
    "z.backward()\n",
    "print('x.grad:', x.grad) # dz/dx\n",
    "print('y.grad:', y.grad) # dz/dy"
   ]
  },
  {
   "cell_type": "markdown",
   "metadata": {},
   "source": [
    "Теперь попробуем применить, описанные выше методы, к задаче, которую мы решали выше: подгоним полином третьей степени к функции синуса."
   ]
  },
  {
   "cell_type": "code",
   "execution_count": 88,
   "metadata": {},
   "outputs": [
    {
     "name": "stdout",
     "output_type": "stream",
     "text": [
      "99 4480.955078125\n",
      "199 2979.19140625\n",
      "299 1982.3021240234375\n",
      "399 1320.3834228515625\n",
      "499 880.7603149414062\n",
      "599 588.6942749023438\n",
      "699 394.59954833984375\n",
      "799 265.5705261230469\n",
      "899 179.7664337158203\n",
      "999 122.6860122680664\n",
      "1099 84.69950103759766\n",
      "1199 59.409393310546875\n",
      "1299 42.56484603881836\n",
      "1399 31.340694427490234\n",
      "1499 23.85792350769043\n",
      "1599 18.866941452026367\n",
      "1699 15.536233901977539\n",
      "1799 13.312274932861328\n",
      "1899 11.826433181762695\n",
      "1999 10.83315658569336\n",
      "Result: y = 0.02111559920012951 + 0.8176388740539551 x + -0.0036427925806492567 x^2 + -0.08776847273111343 x^3\n"
     ]
    }
   ],
   "source": [
    "#fg, ax = plt.subplots(1, 3, figsize=(17,5))\n",
    "\n",
    "dtype = torch.float\n",
    "device = torch.device(\"cpu\")\n",
    "# device = torch.device(\"cuda:0\")\n",
    "\n",
    "x = torch.linspace(-math.pi, math.pi, 2000, device=device, dtype=dtype)\n",
    "y = torch.sin(x)\n",
    "\n",
    "#ax[0].plot(x, y, label='1')\n",
    "\n",
    "# создаем тензоры для весов и устанавливаем requires_grad=True\n",
    "w_0 = torch.randn((), device=device, dtype=dtype, requires_grad=True)\n",
    "w_1 = torch.randn((), device=device, dtype=dtype, requires_grad=True)\n",
    "w_2 = torch.randn((), device=device, dtype=dtype, requires_grad=True)\n",
    "w_3 = torch.randn((), device=device, dtype=dtype, requires_grad=True)\n",
    "\n",
    "#ax[1].plot(x, w_0 + w_1 * x + w_2 * x ** 2 + w_3 * x ** 3, label='2')\n",
    "\n",
    "learning_rate = 1e-6\n",
    "for t in range(2000):\n",
    "    # Forward pass\n",
    "    y_pred =  w_0 + w_1 * x + w_2 * x ** 2 + w_3 * x ** 3\n",
    "\n",
    "    # loss - это тензор размера (1,)\n",
    "    # loss.item() возвращает значение, лежащее в loss\n",
    "    loss = (y_pred - y).pow(2).sum()\n",
    "    if t % 100 == 99:\n",
    "        print(t, loss.item())\n",
    "\n",
    "    # используем автоград для вычисления обратного прохода\n",
    "    loss.backward()\n",
    "\n",
    "    # обновляем веса\n",
    "    with torch.no_grad():\n",
    "        w_0 -= learning_rate * w_0.grad\n",
    "        w_1 -= learning_rate * w_1.grad\n",
    "        w_2 -= learning_rate * w_2.grad\n",
    "        w_3 -= learning_rate * w_3.grad\n",
    "\n",
    "        # обнуляем градиенты\n",
    "        w_0.grad = None\n",
    "        w_1.grad = None\n",
    "        w_2.grad = None\n",
    "        w_3.grad = None\n",
    "\n",
    "print(f'Result: y = {w_0.item()} + {w_1.item()} x + {w_2.item()} x^2 + {w_3.item()} x^3')\n",
    "\n",
    "#ax[2].plot(x, w_0 + w_1 * x + w_2 * x ** 2 + w_3 * x ** 3, label='3')\n",
    "\n",
    "#ax[0].legend()\n",
    "#ax[1].legend()\n",
    "#ax[2].legend()\n",
    "\n",
    "#ax[0].set_title('sin(x)')\n",
    "#ax[1].set_title('Полином 3-го порядка с начальными весами')\n",
    "#ax[2].set_title('Полином 3-го порядка с конечными весами')\n",
    "#plt.show()"
   ]
  },
  {
   "cell_type": "markdown",
   "metadata": {},
   "source": [
    "**Variable в PyTorch**\n",
    "\n",
    "В отличие от TensorFlow, в PyTorch `Variable` функционирует иначе, так как данный метод основан на автограде, который позволяет define-by-run программирование.\\\n",
    "Класс Variable предоставляет практически такой же API, как и Tensor, но дополняет его возможностью взаимодействия с torch.autograd.Function именно ради автоматического дифференцирования. Точнее, в Variable записывается история операций над Tensor. Пользоваться torch.autograd.Variable очень просто. Нужно просто передать ему Tensor и сообщить torch, требует ли эта переменная записывать градиенты: requires_grad=True.\\\n",
    "Для расчета градиентов и выполнения автоматического дифференцирования к Variable применяют функцию backward(). Так вычисляется градиент этого тензора относительно листьев расчетного графа (всех входных значений, повлиявших на данное). Затем эти градиенты собираются в член grad класса Variable.\\\n",
    "Рассмотрим пример."
   ]
  },
  {
   "cell_type": "code",
   "execution_count": 89,
   "metadata": {},
   "outputs": [
    {
     "data": {
      "text/plain": [
       "tensor([[1.],\n",
       "        [1.],\n",
       "        [1.],\n",
       "        [1.],\n",
       "        [1.]])"
      ]
     },
     "execution_count": 89,
     "metadata": {},
     "output_type": "execute_result"
    }
   ],
   "source": [
    "from torch.autograd import Variable\n",
    "\n",
    "x = Variable(torch.ones(1, 5)) # создаем вектор х\n",
    "w = Variable(torch.randn(5, 1), requires_grad=True) # создаем вектор весов w и указываем requires_grad=True, для возможности вычисления градиента\n",
    "b = Variable(torch.randn(1), requires_grad=True) # создаем bias и аналогично requires_grad=True\n",
    "y = x.mm(w) + b # y = x*w + b\n",
    "y.backward() # метод обратного распр ошибки\n",
    "w.grad # dy/dw"
   ]
  },
  {
   "cell_type": "markdown",
   "metadata": {},
   "source": [
    "### Модуль nn и optim\n",
    "\n",
    "PyTorch предоставляет возможность создания нейросетей с помощью модуля `nn`, в частности, `nn.Module`, где представлено множество моделей, хорошо работающих \"из коробки\". Модуль torch.nn также предоставляет ряд функций потерь, естественно, важных для оценки полученных результатов.\\\n",
    "Также PyTorch предоставляет пакет torch.optim, в котором определяется ряд распространенных алгоритмов оптимизации таких, как SGD, AdaGrad, RMSProp, Adam и другие.\\\n",
    "Попробуем данные модули на практике."
   ]
  },
  {
   "cell_type": "code",
   "execution_count": 90,
   "metadata": {},
   "outputs": [
    {
     "name": "stdout",
     "output_type": "stream",
     "text": [
      "4 15.514005661010742\n",
      "9 6.397979736328125\n",
      "14 2.7048983573913574\n",
      "19 1.2087388038635254\n",
      "24 0.6025886535644531\n",
      "29 0.35699543356895447\n",
      "34 0.2574698328971863\n",
      "39 0.21711887419223785\n",
      "44 0.20074036717414856\n",
      "49 0.1940736025571823\n",
      "54 0.1913413554430008\n",
      "59 0.19020305573940277\n"
     ]
    },
    {
     "data": {
      "image/png": "[encoded data removed]",
      "text/plain": [
       "<Figure size 432x288 with 1 Axes>"
      ]
     },
     "metadata": {
      "needs_background": "light"
     },
     "output_type": "display_data"
    }
   ],
   "source": [
    "import torch.nn as nn\n",
    "\n",
    "# гиперпараметры\n",
    "input_size = 1\n",
    "output_size = 1\n",
    "learning_rate = 0.001\n",
    "\n",
    "x_train = np.array([[3.3], [4.4], [5.5], [6.71], [6.93], [4.168], \n",
    "                    [9.779], [6.182], [7.59], [2.167], [7.042], \n",
    "                    [10.791], [5.313], [7.997], [3.1]], dtype=np.float32)\n",
    "\n",
    "y_train = np.array([[1.7], [2.76], [2.09], [3.19], [1.694], [1.573], \n",
    "                    [3.366], [2.596], [2.53], [1.221], [2.827], \n",
    "                    [3.465], [1.65], [2.904], [1.3]], dtype=np.float32)\n",
    "\n",
    "# модель линейной регрессии\n",
    "model = nn.Linear(input_size, output_size)\n",
    "\n",
    "# Функция ошибки MSE и optimizer - SGD\n",
    "criterion = nn.MSELoss()\n",
    "optimizer = torch.optim.SGD(model.parameters(), lr=learning_rate)  \n",
    "\n",
    "\n",
    "for t in range(60):\n",
    "    # конвертируем массивы в тензоры\n",
    "    inputs = torch.from_numpy(x_train)\n",
    "    targets = torch.from_numpy(y_train)\n",
    "\n",
    "    # Forward pass\n",
    "    outputs = model(inputs)\n",
    "    loss = criterion(outputs, targets)\n",
    "    \n",
    "    # Backward pass и оптимизация\n",
    "    optimizer.zero_grad()\n",
    "    loss.backward()\n",
    "    optimizer.step()\n",
    "    \n",
    "    if (t+1) % 5 == 0:\n",
    "        print (t, loss.item())\n",
    "\n",
    "# строим график\n",
    "predicted = model(torch.from_numpy(x_train)).detach().numpy()\n",
    "plt.plot(x_train, y_train, 'ro', label='Original data')\n",
    "plt.plot(x_train, predicted, label='Fitted line')\n",
    "plt.legend()\n",
    "plt.show()"
   ]
  },
  {
   "cell_type": "markdown",
   "metadata": {},
   "source": [
    "**Плюсы PyTorch**\n",
    "\n",
    "   - Динамический вычислительный граф;\n",
    "   - Благодаря архитектуре фреймворка, процесс создания модели достаточно прост и прозрачен;\n",
    "   - Режим по умолчанию “define-by-run” – отсылка к традиционному программированию;\n",
    "   - Фреймворк поддерживает популярные инструменты для дебага, такие как pdb, ipdb или дебаггер PyCharm;\n",
    "   - Он имеет много предварительно обученных моделей и готовых модульных частей, которые легко комбинировать.\n",
    "\n",
    "**Минусы PyTorch**\n",
    "\n",
    "   - На данный момент меньшая поддержка по сравнению с Tensor\n",
    "   - Недостаточно интерфейсов для мониторинга и визуализации, как TensorBoard – однако он имеет внешнее подключение к Tensorboard."
   ]
  },
  {
   "cell_type": "markdown",
   "metadata": {},
   "source": [
    "### Ссылки на дополнительные ресурсы:\n",
    "\n",
    "1. Главная страница PyTorch: https://pytorch.org/\n",
    "2. Методы в Numpy и PyTorch: https://github.com/torch/torch7/wiki/Torch-for-Numpy-users\n",
    "3. Статья на Хабре: https://habr.com/ru/post/334380/\n",
    "4. Статья на Хабре: https://habr.com/ru/company/piter/blog/354912/"
   ]
  },
  {
   "cell_type": "markdown",
   "metadata": {},
   "source": [
    "## PyTorch Lightning\n",
    "\n",
    "### Что это?\n",
    "\n",
    "**PyTorch** достаточно прост в использовании при построении сложных моделей машинного обучения. Но как только исследование усложняется и смешиваются такие вещи, как обучение с несколькими графическими процессорами, 16-битная точность и обучение на TPU, тогда очень часто возникают трудности и ошибки.\n",
    "\n",
    "**PyTorch Lightning** был разработан для инкапсуляции моделей, взаимодействующих друг с другом. Lightning построен для более сложных исследовательских и производственных случаев современного мира, где многие модели взаимодействуют друг с другом, используя сложные правила. PyTorch Lightning структурирует ваш код, написанный на обычном PyTorch так, чтобы он (код) мог абстрагировать детали обучения. Это делает исследования более масштабируемыми и быстрыми.\n",
    "\n",
    "Второй ключевой принцип PyTorch Lightning заключается в том, что железо и “научный” код должны быть разделены. Lightning разработан так, чтобы использовать массивные вычисления масштабно, не раскрывая пользователю ни одной из этих абстракций. Делая это разделение, вы получаете новые возможности, которые раньше были невозможны.\n",
    "\n",
    "Данный фреймворк предназначен для профессиональных исследователей, чтобы опробовать самые сложные идеи на самых больших вычислительных ресурсах, не теряя при этом никакой гибкости.\n",
    "\n",
    "### Ключевые возможности\n",
    "\n",
    "   - возможность запускать код на GPU, CPU и TPU;\n",
    "   - сохраняет гибкость, предоставляемую фреймворком PyTorch, при этом сокращает множество шаблонного кода засчет его абстрагирования;\n",
    "   - возможность устанавливать контрольные точки (чекпоинты);\n",
    "   - 16-битная точность;\n",
    "   - распределенное обучение;\n",
    "   - возможность делать код более читабельным, путем разделения исследовательского кода и инженерного;\n",
    "   - сокращение ошибок засчет автоматизации процесса обучения и сложной инженерии;\n",
    "   - Lightning интегрируется с популярными фреймворками визуализации (например, Tensorboard).\n",
    "   \n",
    "**Установка**\n"
   ]
  },
  {
   "cell_type": "code",
   "execution_count": 91,
   "metadata": {},
   "outputs": [],
   "source": [
    "# установка PyTorch Lightning\n",
    "#!pip install pytorch-lightning"
   ]
  },
  {
   "cell_type": "code",
   "execution_count": 92,
   "metadata": {},
   "outputs": [
    {
     "data": {
      "text/plain": [
       "'1.1.4'"
      ]
     },
     "execution_count": 92,
     "metadata": {},
     "output_type": "execute_result"
    }
   ],
   "source": [
    "# импортируем библиотеку\n",
    "import pytorch_lightning as pl\n",
    "\n",
    "pl.__version__"
   ]
  },
  {
   "cell_type": "markdown",
   "metadata": {},
   "source": [
    "**Рассмотрим возможности PyTorch Lightning на примере.**\n",
    "\n",
    "Обычная задача в машинном обучениее содержит следующие ключевые компоненты:\n",
    "   - модель;\n",
    "   - данные;\n",
    "   - функция ошибки;\n",
    "   - оптимизатор.\n",
    "\n",
    "**Модель**\n",
    "\n",
    "Создадим 3-слойную полносвязную нейронную сеть, которая принимает в качестве входных данных изображение размером 28x28 и выводит распределение вероятностей по 10 возможным лейблам. Для этого используем датасет MNIST.\n",
    "\n",
    "Снала создадим модель, используя PyTorch."
   ]
  },
  {
   "cell_type": "code",
   "execution_count": 93,
   "metadata": {},
   "outputs": [],
   "source": [
    "import torch\n",
    "from torch import nn\n",
    "\n",
    "class MNISTClassifier(nn.Module):\n",
    "\n",
    "    def __init__(self):\n",
    "        super(MNISTClassifier, self).__init__()\n",
    "\n",
    "        # mnist images (1, 28, 28)\n",
    "        self.layer_1 = torch.nn.Linear(28 * 28, 128)\n",
    "        self.layer_2 = torch.nn.Linear(128, 256)\n",
    "        self.layer_3 = torch.nn.Linear(256, 10)\n",
    "\n",
    "    def forward(self, x):\n",
    "        batch_size, channels, width, height = x.size()\n",
    "\n",
    "        # (b, 1, 28, 28) -> (b, 1*28*28)\n",
    "        x = x.view(batch_size, -1)\n",
    "\n",
    "        # layer 1\n",
    "        x = self.layer_1(x)\n",
    "        x = torch.relu(x)\n",
    "\n",
    "        # layer 2\n",
    "        x = self.layer_2(x)\n",
    "        x = torch.relu(x)\n",
    "\n",
    "        # layer 3\n",
    "        x = self.layer_3(x)\n",
    "\n",
    "        # распределение вероятностей\n",
    "        x = torch.log_softmax(x, dim=1)\n",
    "\n",
    "        return x"
   ]
  },
  {
   "cell_type": "markdown",
   "metadata": {},
   "source": [
    "Данная модель определяет нейросеть, которая принимает в качестве входных данных изображение MNIST и преобразует его в распределение вероятностей по 10 классам для цифр 0-9.\n",
    "\n",
    "<p style=\"align: center;\"><img src=\"https://miro.medium.com/max/875/1*DgYiXo_5v3Zp68qGONosWw.png\" width=700 height=500></p>\n",
    "\n",
    "\n",
    "Чтобы преобразовать данную модель к PyTorch Lightning, просто меняем nn.Module на pl.LightningModule."
   ]
  },
  {
   "cell_type": "markdown",
   "metadata": {},
   "source": [
    "class MNISTClassifier(**nn.Module**): # PyTorch\\\n",
    "class MNISTClassifier(**pl.LightningModule**): # Pytorch Lightning"
   ]
  },
  {
   "cell_type": "code",
   "execution_count": 94,
   "metadata": {},
   "outputs": [],
   "source": [
    "# модель на PyTorch Lightning\n",
    "\n",
    "class LightningMNISTClassifier(pl.LightningModule):\n",
    "\n",
    "    def __init__(self):\n",
    "        super(LightningMNISTClassifier, self).__init__()\n",
    "\n",
    "        # mnist images (1, 28, 28) \n",
    "        self.layer_1 = torch.nn.Linear(28 * 28, 128)\n",
    "        self.layer_2 = torch.nn.Linear(128, 256)\n",
    "        self.layer_3 = torch.nn.Linear(256, 10)\n",
    "\n",
    "    def forward(self, x):\n",
    "        batch_size, channels, width, height = x.size()\n",
    "\n",
    "        # (b, 1, 28, 28) -> (b, 1*28*28)\n",
    "        x = x.view(batch_size, -1)\n",
    "\n",
    "        # layer 1\n",
    "        x = self.layer_1(x)\n",
    "        x = torch.relu(x)\n",
    "\n",
    "        # layer 2\n",
    "        x = self.layer_2(x)\n",
    "        x = torch.relu(x)\n",
    "\n",
    "        # layer 3\n",
    "        x = self.layer_3(x)\n",
    "\n",
    "        # распределение вероятностей\n",
    "        x = torch.log_softmax(x, dim=1)\n",
    "\n",
    "        return x"
   ]
  },
  {
   "cell_type": "markdown",
   "metadata": {},
   "source": [
    "Получаем такую же модель как и в PyTorch. Таким образом, мы можем использовать Lightning также как и PyTorch, например, для предсказания:"
   ]
  },
  {
   "cell_type": "code",
   "execution_count": 95,
   "metadata": {},
   "outputs": [
    {
     "data": {
      "text/plain": [
       "tensor([-2.3924, -2.2789, -2.2521, -2.3110, -2.3155, -2.3200, -2.2936, -2.2934,\n",
       "        -2.2850, -2.2900], grad_fn=<SelectBackward>)"
      ]
     },
     "execution_count": 95,
     "metadata": {},
     "output_type": "execute_result"
    }
   ],
   "source": [
    "# PyTorch\n",
    "x = torch.Tensor(32, 1, 28, 28)\n",
    "pytorch_model = MNISTClassifier()\n",
    "\n",
    "pt_out = pytorch_model(x)\n",
    "pt_out[5]"
   ]
  },
  {
   "cell_type": "code",
   "execution_count": 96,
   "metadata": {},
   "outputs": [
    {
     "data": {
      "text/plain": [
       "tensor([nan, nan, nan, nan, nan, nan, nan, nan, nan, nan],\n",
       "       grad_fn=<SelectBackward>)"
      ]
     },
     "execution_count": 96,
     "metadata": {},
     "output_type": "execute_result"
    }
   ],
   "source": [
    "# PyTorch Lightning\n",
    "x = torch.Tensor(32, 1, 28, 28)\n",
    "lightning_model = LightningMNISTClassifier()\n",
    "\n",
    "pl_out = lightning_model(x)\n",
    "pl_out[5]"
   ]
  },
  {
   "cell_type": "markdown",
   "metadata": {},
   "source": [
    "**Данные**\n",
    "\n",
    "Сгенерируем три выборки из MNIST - обучающую, валидационную и тестовую. Этот процесс одинаковый как в PyTorch, так и в Lightning. Данные добавляются в Dataloader, который их загружает, перемешивает и разделяет.\\\n",
    "Таким образом, подготовка данных состоит из 4 этапов:\n",
    "   - загрузка изображений;\n",
    "   - преобразование изображений;\n",
    "   - создание новых выборок;\n",
    "   - оборачивание каждого набора в DataLoader.\n",
    "   \n",
    "Посмотрим на примере."
   ]
  },
  {
   "cell_type": "code",
   "execution_count": 97,
   "metadata": {},
   "outputs": [],
   "source": [
    "# PyTorch\n",
    "from torch.utils.data import DataLoader, random_split\n",
    "from torchvision.datasets import MNIST\n",
    "import os\n",
    "from torchvision import datasets, transforms\n",
    "\n",
    "\n",
    "\n",
    "# Преобразователь\n",
    "transform=transforms.Compose([transforms.ToTensor(), \n",
    "                              transforms.Normalize((0.1307,), (0.3081,))])\n",
    "\n",
    "# Получение тренировочной, валидационной и тестовой выборки\n",
    "# train (55,000 изображений), val (5,000 изображений)\n",
    "mnist_train = MNIST(os.getcwd(), train=True, download=True)\n",
    "mnist_train, mnist_val = random_split(mnist_train, [55000, 5000])\n",
    "mnist_test = MNIST(os.getcwd(), train=False, download=True)\n",
    "\n",
    "# DataLoaders\n",
    "mnist_train = DataLoader(mnist_train, batch_size=64)\n",
    "mnist_val = DataLoader(mnist_val, batch_size=64)\n",
    "mnist_test = DataLoader(mnist_test, batch_size=64)"
   ]
  },
  {
   "cell_type": "markdown",
   "metadata": {},
   "source": [
    "Таким образом организована загрузка и обработка данных в PyTorch.\\\n",
    "В PyTorch Lightning DataLoaders могут использоваться непосредственно также или с помощью трех дополнительных методов, сгруппированых вместе под LightningDataModule:\n",
    "   - train_dataloader()\n",
    "   - val_dataloader()\n",
    "   - test_dataloader()\n",
    "   \n",
    "И также  четвертый метод, предназначенный для подготовки/загрузки данных - prepare_data().\\\n",
    "Lightning использует этот подход, чтобы каждая модель, реализованная с помощью Lightning, следовала одной и той же структуре. Это делает код чрезвычайно читаемым и структурированным. Это означает, что например когда вы столкнетесь с проектом Github, использующим Lightning, вы сможете точно знать, где произошла обработка/загрузка данных."
   ]
  },
  {
   "cell_type": "code",
   "execution_count": 98,
   "metadata": {},
   "outputs": [],
   "source": [
    "# PyTorch Lightning\n",
    "class MNISTDataModule(pl.LightningDataModule):\n",
    "\n",
    "    def setup(self, stage):\n",
    "        # преобразователь\n",
    "        transform=transforms.Compose([transforms.ToTensor(), \n",
    "                                      transforms.Normalize((0.1307,), (0.3081,))])\n",
    "\n",
    "        # получения данных и преобразование данных\n",
    "        mnist_train = MNIST(os.getcwd(), train=True, download=True, transform=transform)\n",
    "        mnist_test = MNIST(os.getcwd(), train=False, download=True, transform=transform)\n",
    "\n",
    "        self.mnist_train, self.mnist_val = random_split(mnist_train, [55000, 5000])\n",
    "        \n",
    "    def train_dataloader(self):\n",
    "        return DataLoader(self.mnist_train, batch_size=64)\n",
    "\n",
    "    def val_dataloader(self):\n",
    "        return DataLoader(self.mnist_val, batch_size=64)\n",
    "\n",
    "    def test_dataloader(self):\n",
    "        return DataLoader(self,mnist_test, batch_size=64)"
   ]
  },
  {
   "cell_type": "markdown",
   "metadata": {},
   "source": [
    "**Оптимизатор**\n",
    "\n",
    "В качестве оптимизатора будем использовать Adam."
   ]
  },
  {
   "cell_type": "code",
   "execution_count": 99,
   "metadata": {},
   "outputs": [],
   "source": [
    "# в PyTorch оптимизатору передаются веса оптимизатора, когда мы его инициализируем \n",
    "pytorch_model = MNISTClassifier()\n",
    "optimizer = torch.optim.Adam(pytorch_model.parameters(), lr=1e-3)"
   ]
  },
  {
   "cell_type": "code",
   "execution_count": 100,
   "metadata": {},
   "outputs": [],
   "source": [
    "# в Lightning всё также, только код завернут в функцию\n",
    "class LightningMNISTClassifier(pl.LightningModule):\n",
    "\n",
    "    def configure_optimizers(self):\n",
    "        optimizer = torch.optim.Adam(self.parameters(), lr=1e-3)\n",
    "        return optimizer"
   ]
  },
  {
   "cell_type": "markdown",
   "metadata": {},
   "source": [
    "**Функция ошибки**\n",
    "\n",
    "В качестве функции потерь будем использовать кросс-энтропию, так как мы хотим взять наши логарифмы и вычислить расхождение между двумя вероятностными распределениями.\\\n",
    "Cross-entropy == NegativeLogLikelihood(log_softmax)"
   ]
  },
  {
   "cell_type": "code",
   "execution_count": 101,
   "metadata": {},
   "outputs": [],
   "source": [
    "# PyTorch\n",
    "from torch.nn import functional as F\n",
    "\n",
    "def cross_entropy_loss(logits, labels):\n",
    "    return F.nll_loss(logits, labels)"
   ]
  },
  {
   "cell_type": "code",
   "execution_count": 102,
   "metadata": {},
   "outputs": [],
   "source": [
    "# Lightning\n",
    "class LightningMNISTClassifier(pl.LightningModule):\n",
    "\n",
    "    def cross_entropy_loss(self, logits, labels):\n",
    "        return F.nll_loss(logits, labels)"
   ]
  },
  {
   "cell_type": "markdown",
   "metadata": {},
   "source": [
    "Все то же самое.\n",
    "\n",
    "**Обучение и валидация**\n",
    "\n",
    "Теперь реализуем тренировочные и валидационные циклы:\n",
    "   - проходимся по эпохам (эпоха - это полный проход через все наши данные);\n",
    "   - проходим по batch'ам;\n",
    "   - делаем предсказание;\n",
    "   - вычисляем ошибку;\n",
    "   - применяем метод обратного распространения ошибки;\n",
    "   - обновляем веса.\n",
    "   \n",
    "В виде псевдокода это можно описать следующим образом:\n",
    "```python\n",
    "\n",
    "num_epochs = 100\n",
    "for epoch in range(num_epochs):            \n",
    "  for batch in dataloader:                 \n",
    "    x, y = batch\n",
    "\n",
    "    logits = model(x)                      \n",
    "    loss = cross_entropy_loss(logits, y)   \n",
    "\n",
    "    loss.backward()                        \n",
    "    optimizer.step()                       \n",
    "\n",
    "    \n",
    "```\n",
    "\n",
    "Однако именно здесь Lightning отличается. В PyTorch вы сами пишете цикл for, а это значит, что вы должны помнить о всех мелочах — в этом месте можно наделать много ошибок.\n",
    "Даже если ваша модель проста, она не будет такой, как только вы начнете совершать более сложные вещи, такие как использование нескольких графических процессоров,, 16-битная точность и т.д.\n",
    "\n",
    "**Реализация на PyTorch**\n",
    "\n",
    "```python\n",
    "num_epochs = 1\n",
    "for epoch in range(num_epochs):\n",
    "\n",
    "  # обучение на тренировочных данных\n",
    "  for train_batch in mnist_train:\n",
    "    x, y = train_batch\n",
    "\n",
    "    logits = pytorch_model(x)\n",
    "    loss = cross_entropy_loss(logits, y)\n",
    "    print('train loss: ', loss.item())\n",
    "\n",
    "    loss.backward()\n",
    "\n",
    "    optimizer.step()\n",
    "    optimizer.zero_grad()\n",
    "\n",
    "  # валидация\n",
    "  with torch.no_grad():\n",
    "    val_loss = []\n",
    "    for val_batch in mnist_val:\n",
    "      x, y = val_batch\n",
    "      logits = pytorch_model(x)\n",
    "      val_loss.append(cross_entropy_loss(logits, y).item())\n",
    "\n",
    "    val_loss = torch.mean(torch.tensor(val_loss))\n",
    "    print('val_loss: ', val_loss.item())\n",
    "```\n",
    "\n",
    "**Реализация на PyTorch Lightning**\n",
    "\n",
    "Чтобы сделать то же самое в Lightning, мы разделим основные части цикла обучения и цикла валидации на три функции:\n",
    "   - training_step\n",
    "   - validation_step\n",
    "   - test_step\n",
    "   \n",
    "```python\n",
    "    def training_step(self, batch, batch_idx):\n",
    "        x, y = train_batch\n",
    "        logits = self.forward(x) \n",
    "        loss = self.cross_entropy_loss(logits, y)\n",
    "        self.log('train_loss', loss)\n",
    "        return loss\n",
    "\n",
    "    def validation_step(self, batch, batch_idx):\n",
    "        x, y = train_batch\n",
    "        logits = self.forward(x)\n",
    "        loss = self.cross_entropy_loss(logits, y)\n",
    "        self.log('val_loss', loss)\n",
    "        return loss\n",
    "    \n",
    "    def test_step(self, batch, batch_idx):\n",
    "        # Здесь мы просто повторно используем validation_step для тестирования\n",
    "        return self.validation_step(batch, batch_idx)\n",
    "```\n",
    "\n",
    "В этом красота Lightning. Он абстрагирует шаблонный код (not out-of-the-box), но оставляет все другое неизменным. Это означает, что вы все еще пишем на PyTorch, за исключением того, что наш код стал хорошо структурирован. Это повышает читабельность, что помогает с воспроизводимостью!\n",
    "\n",
    "\n",
    "Чтобы обучить модель Lightning MNIST, мы просто используем `Trainer` для автоматического выполнения всех других процессов, которые нам не нужны из кода PyTorch - который мы должны дублировать в каждом проекте, который мы запускаем, что делает его шаблонным кодом.\n",
    "\n",
    "Но важно иметь в виду, что данные методы следует называть именно так, как указано в коде ниже. Для того, чтобы `Trainer` мог сделать определенные процессы за вас автоматически.\n",
    "\n",
    "**Полный код на PyTorch Lightning**"
   ]
  },
  {
   "cell_type": "code",
   "execution_count": 103,
   "metadata": {},
   "outputs": [
    {
     "name": "stderr",
     "output_type": "stream",
     "text": [
      "GPU available: True, used: False\n",
      "TPU available: None, using: 0 TPU cores\n",
      "\n",
      "  | Name    | Type   | Params\n",
      "-----------------------------------\n",
      "0 | layer_1 | Linear | 100 K \n",
      "1 | layer_2 | Linear | 33.0 K\n",
      "2 | layer_3 | Linear | 2.6 K \n",
      "-----------------------------------\n",
      "136 K     Trainable params\n",
      "0         Non-trainable params\n",
      "136 K     Total params\n"
     ]
    },
    {
     "data": {
      "application/vnd.jupyter.widget-view+json": {
       "model_id": "",
       "version_major": 2,
       "version_minor": 0
      },
      "text/plain": [
       "HBox(children=(HTML(value='Validation sanity check'), FloatProgress(value=1.0, bar_style='info', layout=Layout…"
      ]
     },
     "metadata": {},
     "output_type": "display_data"
    },
    {
     "data": {
      "application/vnd.jupyter.widget-view+json": {
       "model_id": "5470051580bd44b9b2b1818fa32f5ed8",
       "version_major": 2,
       "version_minor": 0
      },
      "text/plain": [
       "HBox(children=(HTML(value='Training'), FloatProgress(value=1.0, bar_style='info', layout=Layout(flex='2'), max…"
      ]
     },
     "metadata": {},
     "output_type": "display_data"
    },
    {
     "data": {
      "application/vnd.jupyter.widget-view+json": {
       "model_id": "",
       "version_major": 2,
       "version_minor": 0
      },
      "text/plain": [
       "HBox(children=(HTML(value='Validating'), FloatProgress(value=1.0, bar_style='info', layout=Layout(flex='2'), m…"
      ]
     },
     "metadata": {},
     "output_type": "display_data"
    },
    {
     "data": {
      "application/vnd.jupyter.widget-view+json": {
       "model_id": "",
       "version_major": 2,
       "version_minor": 0
      },
      "text/plain": [
       "HBox(children=(HTML(value='Validating'), FloatProgress(value=1.0, bar_style='info', layout=Layout(flex='2'), m…"
      ]
     },
     "metadata": {},
     "output_type": "display_data"
    },
    {
     "data": {
      "application/vnd.jupyter.widget-view+json": {
       "model_id": "",
       "version_major": 2,
       "version_minor": 0
      },
      "text/plain": [
       "HBox(children=(HTML(value='Validating'), FloatProgress(value=1.0, bar_style='info', layout=Layout(flex='2'), m…"
      ]
     },
     "metadata": {},
     "output_type": "display_data"
    },
    {
     "data": {
      "application/vnd.jupyter.widget-view+json": {
       "model_id": "",
       "version_major": 2,
       "version_minor": 0
      },
      "text/plain": [
       "HBox(children=(HTML(value='Validating'), FloatProgress(value=1.0, bar_style='info', layout=Layout(flex='2'), m…"
      ]
     },
     "metadata": {},
     "output_type": "display_data"
    },
    {
     "name": "stdout",
     "output_type": "stream",
     "text": [
      "\n"
     ]
    },
    {
     "data": {
      "text/plain": [
       "1"
      ]
     },
     "execution_count": 103,
     "metadata": {},
     "output_type": "execute_result"
    }
   ],
   "source": [
    "import torch\n",
    "class LightningMNISTClassifier(pl.LightningModule):\n",
    "\n",
    "    def __init__(self):\n",
    "        super().__init__()\n",
    "\n",
    "        self.layer_1 = torch.nn.Linear(28 * 28, 128)\n",
    "        self.layer_2 = torch.nn.Linear(128, 256)\n",
    "        self.layer_3 = torch.nn.Linear(256, 10)\n",
    "\n",
    "    def forward(self, x):\n",
    "        batch_size, channels, width, height = x.size()\n",
    "\n",
    "        # (b, 1, 28, 28) -> (b, 1*28*28)\n",
    "        x = x.view(batch_size, -1)\n",
    "\n",
    "        # layer 1 (b, 1*28*28) -> (b, 128)\n",
    "        x = self.layer_1(x)\n",
    "        x = torch.relu(x)\n",
    "\n",
    "        # layer 2 (b, 128) -> (b, 256)\n",
    "        x = self.layer_2(x)\n",
    "        x = torch.relu(x)\n",
    "\n",
    "        # layer 3 (b, 256) -> (b, 10)\n",
    "        x = self.layer_3(x)\n",
    "\n",
    "        x = torch.log_softmax(x, dim=1)\n",
    "\n",
    "        return x\n",
    "\n",
    "    def cross_entropy_loss(self, logits, labels):\n",
    "        return F.nll_loss(logits, labels)\n",
    "\n",
    "    def training_step(self, train_batch, batch_idx):\n",
    "        x, y = train_batch\n",
    "        logits = self.forward(x)\n",
    "        loss = self.cross_entropy_loss(logits, y)\n",
    "        self.log('train_loss', loss)\n",
    "        return loss\n",
    "\n",
    "\n",
    "    def validation_step(self, val_batch, batch_idx):\n",
    "        x, y = val_batch\n",
    "        logits = self.forward(x)\n",
    "        loss = self.cross_entropy_loss(logits, y)\n",
    "        self.log('val_loss', loss)\n",
    "        return loss\n",
    "    \n",
    "    def test_step(self, batch, batch_idx):\n",
    "        # Здесь мы просто повторно используем validation_step для тестирования\n",
    "        return self.validation_step(batch, batch_idx)\n",
    "\n",
    "    def configure_optimizers(self):\n",
    "        optimizer = torch.optim.Adam(self.parameters(), lr=1e-3)\n",
    "        return optimizer\n",
    "\n",
    "\n",
    "class MNISTDataModule(pl.LightningDataModule):\n",
    "\n",
    "    def prepare_data(self):\n",
    "        MNIST(os.getcwd(), train=True, download=True)\n",
    "        MNIST(os.getcwd(), train=False, download=True)\n",
    "\n",
    "    def setup(self, stage=None):\n",
    "        transform = transforms.Compose([transforms.ToTensor(), \n",
    "                                  transforms.Normalize((0.1307,), (0.3081,))])\n",
    "        if stage == 'fit' or stage is None:\n",
    "            mnist_full = MNIST(os.getcwd(), train=True, transform=transform)\n",
    "            self.mnist_train, self.mnist_val = random_split(mnist_full, [55000, 5000])\n",
    "\n",
    "        if stage == 'test' or stage is None:\n",
    "            self.mnist_test = MNIST(os.getcwd(), train=False, transform=transform)\n",
    "\n",
    "    def train_dataloader(self):\n",
    "        return DataLoader(self.mnist_train, batch_size=32)\n",
    "\n",
    "    def val_dataloader(self):\n",
    "        return DataLoader(self.mnist_val, batch_size=32)\n",
    "\n",
    "    def test_dataloader(self):\n",
    "        return DataLoader(self.mnist_test, batch_size=32)\n",
    "\n",
    "data_module = MNISTDataModule()\n",
    "\n",
    "# train\n",
    "model = LightningMNISTClassifier()\n",
    "trainer = pl.Trainer()\n",
    "\n",
    "trainer.fit(model, data_module)"
   ]
  },
  {
   "cell_type": "markdown",
   "metadata": {},
   "source": [
    "Если вы только что обучили модель, вы можете просто вызвать trainer.test(), и Lightning автоматически протестирует данные с помощью лучшей сохраненной контрольной точки (обусловленной val_loss)."
   ]
  },
  {
   "cell_type": "code",
   "execution_count": 104,
   "metadata": {},
   "outputs": [
    {
     "data": {
      "application/vnd.jupyter.widget-view+json": {
       "model_id": "ae7728415775498e8be1086fe1036c1a",
       "version_major": 2,
       "version_minor": 0
      },
      "text/plain": [
       "HBox(children=(HTML(value='Testing'), FloatProgress(value=1.0, bar_style='info', layout=Layout(flex='2'), max=…"
      ]
     },
     "metadata": {},
     "output_type": "display_data"
    },
    {
     "name": "stdout",
     "output_type": "stream",
     "text": [
      "\n",
      "--------------------------------------------------------------------------------\n",
      "DATALOADER:0 TEST RESULTS\n",
      "{'val_loss': tensor(0.1034)}\n",
      "--------------------------------------------------------------------------------\n"
     ]
    },
    {
     "data": {
      "text/plain": [
       "[{'val_loss': 0.10336583107709885}]"
      ]
     },
     "execution_count": 104,
     "metadata": {},
     "output_type": "execute_result"
    }
   ],
   "source": [
    "trainer.test()"
   ]
  },
  {
   "cell_type": "markdown",
   "metadata": {},
   "source": [
    "Стоит отметить, что мы можем продолжать после этого обучение сколько угодно."
   ]
  },
  {
   "cell_type": "code",
   "execution_count": 105,
   "metadata": {},
   "outputs": [
    {
     "name": "stderr",
     "output_type": "stream",
     "text": [
      "\n",
      "  | Name    | Type   | Params\n",
      "-----------------------------------\n",
      "0 | layer_1 | Linear | 100 K \n",
      "1 | layer_2 | Linear | 33.0 K\n",
      "2 | layer_3 | Linear | 2.6 K \n",
      "-----------------------------------\n",
      "136 K     Trainable params\n",
      "0         Non-trainable params\n",
      "136 K     Total params\n"
     ]
    },
    {
     "data": {
      "application/vnd.jupyter.widget-view+json": {
       "model_id": "",
       "version_major": 2,
       "version_minor": 0
      },
      "text/plain": [
       "HBox(children=(HTML(value='Validation sanity check'), FloatProgress(value=1.0, bar_style='info', layout=Layout…"
      ]
     },
     "metadata": {},
     "output_type": "display_data"
    },
    {
     "data": {
      "application/vnd.jupyter.widget-view+json": {
       "model_id": "fe5abbbfd6794192b36cd6c5ad90c5a8",
       "version_major": 2,
       "version_minor": 0
      },
      "text/plain": [
       "HBox(children=(HTML(value='Training'), FloatProgress(value=1.0, bar_style='info', layout=Layout(flex='2'), max…"
      ]
     },
     "metadata": {},
     "output_type": "display_data"
    },
    {
     "data": {
      "text/plain": [
       "1"
      ]
     },
     "execution_count": 105,
     "metadata": {},
     "output_type": "execute_result"
    }
   ],
   "source": [
    "trainer.fit(model)"
   ]
  },
  {
   "cell_type": "markdown",
   "metadata": {},
   "source": [
    "**Отличия PyTorch и PyTorch Lightning:**\n",
    "   - код PyTorch может находиться в произвольных частях файла. В PyTorch Lightning это структурировано. Вот почему Lightning - это скорее шаблон для PyTorch, чем фреймворк.\n",
    "   - В Lightning не нужно было писать никаких тренировочных циклов. Вместо этого мы написали, что происходит внутри цикла.\n",
    "   - Мы видим таблицу с весами.\n",
    "   - У нас есть встроенный progress bar.\n",
    "   - Цикл валидации и обучения был автоматизирован.\n",
    "   - Мы автоматически сохраняли веса."
   ]
  },
  {
   "cell_type": "code",
   "execution_count": 106,
   "metadata": {},
   "outputs": [
    {
     "data": {
      "text/plain": [
       "Reusing TensorBoard on port 6006 (pid 12610), started 23:26:52 ago. (Use '!kill 12610' to kill it.)"
      ]
     },
     "metadata": {},
     "output_type": "display_data"
    },
    {
     "data": {
      "text/html": [
       "\n",
       "      <iframe id=\"tensorboard-frame-39333f817753475f\" width=\"100%\" height=\"800\" frameborder=\"0\">\n",
       "      </iframe>\n",
       "      <script>\n",
       "        (function() {\n",
       "          const frame = document.getElementById(\"tensorboard-frame-39333f817753475f\");\n",
       "          const url = new URL(\"/\", window.location);\n",
       "          const port = 6006;\n",
       "          if (port) {\n",
       "            url.port = port;\n",
       "          }\n",
       "          frame.src = url;\n",
       "        })();\n",
       "      </script>\n",
       "    "
      ],
      "text/plain": [
       "<IPython.core.display.HTML object>"
      ]
     },
     "metadata": {},
     "output_type": "display_data"
    }
   ],
   "source": [
    "# можно открыть tensorboard\n",
    "%load_ext tensorboard\n",
    "%tensorboard --logdir lightning_logs/"
   ]
  },
  {
   "cell_type": "code",
   "execution_count": 107,
   "metadata": {},
   "outputs": [],
   "source": [
    "%reload_ext tensorboard"
   ]
  },
  {
   "cell_type": "markdown",
   "metadata": {},
   "source": [
    "**Дополнительные возможности PyTorch Lightning**"
   ]
  },
  {
   "cell_type": "markdown",
   "metadata": {},
   "source": [
    "**Использование GPU**\n",
    "\n",
    "Теперь предположим, что вы хотите запустить этот же код на графическом процессоре. Чтобы сделать это в PyTorch, вам нужно:\n",
    "```python\n",
    "model.gpu(0)\n",
    " \n",
    "for batch in data:\n",
    "  batch = batch.gpu(0)\n",
    "```\n",
    "\n",
    "В PyTorch Lightning это можно сделать в одну строку:\n",
    "```python\n",
    "Trainer(gpus=1)\n",
    "```"
   ]
  },
  {
   "cell_type": "markdown",
   "metadata": {},
   "source": [
    "**Использование TPU**\n",
    "\n",
    "Для запуска вычислений в PyTorch на TPU, необходимо установить дополнительную библиотеку: xla.\\\n",
    "В Lightning этого делать не нужно:\n",
    "```python \n",
    "Trainer(num_tpu_cores=8)\n",
    "```\n",
    "\n",
    "**16-битная точность**\n",
    "\n",
    "В случае с PyTorch нужно будет установить библиотеку apex от NVIDIA (применяется как к PyTorch, так и к Lightning).\\\n",
    "В Lightning этого делать не нужно, просто устанавливаем флаг:\n",
    "```python \n",
    "Trainer(precision=16)\n",
    "```\n",
    "\n",
    "**Визуализация**\n",
    "\n",
    "Помимо Tensorboard, который стоит по-умолчанию, мы можем также использовать другие фреймворки для визуализации, например, `CometML`:\n",
    "```python\n",
    "Trainer(logger=CometML(...))\n",
    "```\n",
    "\n",
    "**Callbacks**\n",
    "\n",
    "Callback - это фрагмент кода, который вы хотели бы выполнить на различных этапах обучения. В Lightning обратные вызовы используются для несущественного кода, такого как логгирование или что-то не связанное с исследовательским кодом. Это сохраняет исследовательский код очень чистым и организованным.\n",
    "Допустим, вы хотели что-то напечатать или сохранить на разных этапах обучения. Вот как будет выглядеть callback:\n",
    "```python\n",
    "class MyPrintingCallback(pl.Callback):\n",
    "    def on_init_start(self, trainer):\n",
    "        print('Starting to init trainer')\n",
    "    def on_init_end(self, trainer):\n",
    "        print('Trainer is init now')\n",
    "    def on_train_end(self, trainer, pl_module):\n",
    "        print('Do smth when training ends')\n",
    "```\n",
    "\n",
    "Затем передаем в Trainer данную информацию:\n",
    "```python\n",
    "trainer = pl.Trainer(..., callbacks=[MyPrintingCallback()])\n",
    "```\n",
    "\n",
    "Коллбэки позволяют разделять код на три категории:\n",
    "   - исследовательский (LightningModule);\n",
    "   - инженерный (Trainer);\n",
    "   - код, не связанный с исследованиями (Callback)."
   ]
  },
  {
   "cell_type": "markdown",
   "metadata": {},
   "source": [
    "**Дополнительная информация**\n",
    "\n",
    "1. Официальная страница: https://www.pytorchlightning.ai/\n",
    "2. Сравнения с другими фреймворками-расширениями: https://towardsdatascience.com/pytorch-lightning-vs-pytorch-ignite-vs-fast-ai-61dc7480ad8a\n",
    "3. Статья на Medium: https://medium.com/pytorch/pytorch-lightning-1-0-from-0-600k-80fc65e2fab0"
   ]
  },
  {
   "attachments": {
    "e69ffa97-9994-43be-8b01-a335b2badd91.png": {
     "image/png": "[encoded data removed]"
    }
   },
   "cell_type": "markdown",
   "metadata": {},
   "source": [
    "## Catalyst\n",
    "\n",
    "Catalyst - это платформа PyTorch для исследований и разработок в области глубокого обучения. Благодаря ей вам становятся доступны: обучающий цикл с метриками, контрольными точками, логгированием и распределенной поддержкой обучения без повторения шаблонного кода.\n",
    "\n",
    "Некоторые факты о Catalyst:\n",
    "   - Catalyst-это \"чистый\" фреймворк PyTorch без каких-либо пользовательских модулей.\n",
    "   - С Catalyst вы получаете те же самые пайплайны PyTorch, но гораздо более читабельные.\n",
    "   - Catalyst легко расширяется с помощью абстракций Runner и Callback.\n",
    "   - Вы фокусируетесь на ключевых частях ваших исследований и разработок в области глубокого обучения.\n",
    "   \n",
    "Catalyst - часть экосистемы PyTorch, но экосистема Catalyst также подразделяется на:\n",
    "   - Alchemy - логгирование и визуализация;\n",
    "   - Catalyst - исследование и разработка;\n",
    "   - Reaction - удобные модели глубокого обучения.\n",
    "   \n",
    "Также Catalyst.Team предоставляет несколько production-ready pipelines:\n",
    "   - catalyst-team/classification — комплексную систему классификации;\n",
    "   - catalyst-team/segmentation — бинарную и семантическую сегментацию;\n",
    "   - catalyst-team/detection — детектирование;\n",
    "   - catalyst-team/video — видео-классификация.\n",
    "   \n",
    "Для установки Catalyst используйте:\n",
    "```python\n",
    "pip install -U catalyst\n",
    "```\n",
    "\n",
    "Рассмотрим Catalyst по примеру PyTorch Lightning.\n",
    "\n",
    "**Данные**\n",
    "\n",
    "Будем также использовать датасет MNIST.\n",
    "\n",
    "![image.png](attachment:e69ffa97-9994-43be-8b01-a335b2badd91.png)\n",
    "\n",
    "Pytorch и Catalyst имеют одни и те же 4 шага для подготовки данных:\n",
    "   - загрузка изображений;\n",
    "   - разделение их на тренировочный и валидационный наборы;\n",
    "   - преобразование;\n",
    "   - оборачивание каждой выборки в DataLoader.\n"
   ]
  },
  {
   "cell_type": "code",
   "execution_count": 108,
   "metadata": {},
   "outputs": [],
   "source": [
    "from torch.utils.data import DataLoader\n",
    "from torchvision.datasets import MNIST\n",
    "from torchvision.transforms import ToTensor\n",
    "\n",
    "# 1-3\n",
    "train_dataset = MNIST(\"./mnist\", train=True, download=True, transform=ToTensor())\n",
    "valid_dataset = MNIST(\"./mnist\", train=False, download=True, transform=ToTensor())\n",
    "# 4\n",
    "train_loader = DataLoader(train_dataset, batch_size=32)\n",
    "valid_loader = DataLoader(valid_dataset, batch_size=32)"
   ]
  },
  {
   "cell_type": "markdown",
   "metadata": {},
   "source": [
    "**Модель**\n",
    "\n",
    "Создадим 3-слойную полносвязную нейронную сеть, которая принимает в качестве входных данных изображение размером 28x28 и выводит распределение вероятностей по 10 возможным лейблам. Для этого используем датасет MNIST."
   ]
  },
  {
   "cell_type": "code",
   "execution_count": 109,
   "metadata": {},
   "outputs": [],
   "source": [
    "from torch import nn\n",
    "\n",
    "net = nn.Sequential(\n",
    "    nn.Linear(28 * 28, 128),\n",
    "    nn.ReLU(),\n",
    "    nn.Linear(128, 128),\n",
    "    nn.ReLU(),\n",
    "    nn.Linear(128, 10),\n",
    ")"
   ]
  },
  {
   "cell_type": "markdown",
   "metadata": {},
   "source": [
    "**Оптимизатор**\n",
    "\n",
    "В качестве оптимизатора будем использовать Adam."
   ]
  },
  {
   "cell_type": "code",
   "execution_count": 111,
   "metadata": {},
   "outputs": [],
   "source": [
    "from catalyst.contrib.nn.optimizers import Lamb, Lookahead, RAdam, QHAdamW\n",
    "\n",
    "optimizer = torch.optim.Adam(model.parameters(), lr=1e-3)"
   ]
  },
  {
   "cell_type": "markdown",
   "metadata": {},
   "source": [
    "**Функция ошибки**\n",
    "\n",
    "В качестве функции потерь будем использовать кросс-энтропию, так как мы хотим взять наши логарифмы и вычислить расхождение между двумя вероятностными распределениями."
   ]
  },
  {
   "cell_type": "code",
   "execution_count": 112,
   "metadata": {},
   "outputs": [],
   "source": [
    "criterion = nn.CrossEntropyLoss()"
   ]
  },
  {
   "cell_type": "markdown",
   "metadata": {},
   "source": [
    "**Тренировочный цикл**\n",
    "\n",
    "И здесь мы подходим к преимуществам Catalyst. В PyTorch вы сами пишете цикл for, а это значит, что вы должны помнить о всех мелочах — в этом месте можно наделать много ошибок. Даже если ваша модель проста, она не будет такой, как только вы начнете совершать более сложные вещи, такие как использование нескольких графических процессоров,, 16-битная точность и т.д.\\\n",
    "Полный код на PyTorch:\n",
    "```python\n",
    "\n",
    "# the data\n",
    "train_dataset = MNIST(\"./mnist\", train=True, download=True, transform=ToTensor())\n",
    "valid_dataset = MNIST(\"./mnist\", train=False, download=True, transform=ToTensor())\n",
    "train_loader = DataLoader(train_dataset, batch_size=32)\n",
    "valid_loader = DataLoader(valid_dataset, batch_size=32)\n",
    "\n",
    "# the model\n",
    "model = nn.Sequential(\n",
    "    nn.Linear(28 * 28, 128),\n",
    "    nn.ReLU(),\n",
    "    nn.Linear(128, 128),\n",
    "    nn.ReLU(),\n",
    "    nn.Linear(128, 10),\n",
    ")\n",
    "\n",
    "# the optimizer\n",
    "optimizer = torch.optim.Adam(model.parameters(), lr=1e-3)\n",
    "\n",
    "# the loss\n",
    "criterion = nn.CrossEntropyLoss()\n",
    "\n",
    "num_epochs = 1\n",
    "for epoch in range(num_epochs):\n",
    "\n",
    "    # train\n",
    "    for train_batch in train_loader:\n",
    "        x, y = train_batch\n",
    "        x = x.view(len(x), -1)\n",
    "\n",
    "        logits = model(x)\n",
    "        loss = criterion(logits, y)\n",
    "        print(\"train loss: \", loss.item())\n",
    "\n",
    "        loss.backward()\n",
    "\n",
    "        optimizer.step()\n",
    "        optimizer.zero_grad()\n",
    "\n",
    "    # validation\n",
    "    with torch.no_grad():\n",
    "        valid_loss = []\n",
    "        for valid_batch in valid_loader:\n",
    "            x, y = valid_batch\n",
    "            x = x.view(len(x), -1)\n",
    "            logits = model(x)\n",
    "            valid_loss.append(criterion(logits, y).item())\n",
    "\n",
    "        valid_loss = torch.mean(torch.tensor(valid_loss))\n",
    "        print(\"valid loss: \", valid_loss.item())\n",
    "```\n",
    "Пример MNIST с Catalyst точно такой же, но:\n",
    "   - код цикла обучения/валидации был абстрагирован;\n",
    "   - вы указали ключевую точку как для части обучения, так и для части вывода\n",
    "   - вы получаете автоматическую проверку модели и контрольные точки\n",
    "   - вы можете сосредоточиться только на ключевых частях вашего исследования\n",
    "   "
   ]
  },
  {
   "cell_type": "code",
   "execution_count": 113,
   "metadata": {},
   "outputs": [
    {
     "name": "stdout",
     "output_type": "stream",
     "text": [
      "\n",
      "1/1 * Epoch (train):   0% 0/1875 [00:00<?, ?it/s]\u001b[A\n",
      "1/1 * Epoch (train):   0% 0/1875 [00:04<?, ?it/s, loss=2.300]\u001b[A\n",
      "1/1 * Epoch (train):   0% 1/1875 [00:04<2:09:47,  4.16s/it, loss=2.300]\u001b[A\n",
      "1/1 * Epoch (train):   0% 1/1875 [00:04<2:09:47,  4.16s/it, loss=2.286]\u001b[A\n",
      "1/1 * Epoch (train):   0% 2/1875 [00:04<2:09:43,  4.16s/it, loss=2.259]\u001b[A\n",
      "1/1 * Epoch (train):   0% 3/1875 [00:04<2:09:39,  4.16s/it, loss=2.226]\u001b[A\n",
      "1/1 * Epoch (train):   0% 4/1875 [00:04<2:09:35,  4.16s/it, loss=2.243]\u001b[A\n",
      "1/1 * Epoch (train):   0% 5/1875 [00:04<2:09:31,  4.16s/it, loss=2.240]\u001b[A\n",
      "1/1 * Epoch (train):   0% 6/1875 [00:04<1:30:49,  2.92s/it, loss=2.240]\u001b[A\n",
      "1/1 * Epoch (train):   0% 6/1875 [00:04<1:30:49,  2.92s/it, loss=2.157]\u001b[A\n",
      "1/1 * Epoch (train):   0% 7/1875 [00:04<1:30:46,  2.92s/it, loss=2.152]\u001b[A\n",
      "1/1 * Epoch (train):   0% 8/1875 [00:04<1:30:43,  2.92s/it, loss=2.171]\u001b[A\n",
      "1/1 * Epoch (train):   0% 9/1875 [00:04<1:30:40,  2.92s/it, loss=2.089]\u001b[A\n",
      "1/1 * Epoch (train):   1% 10/1875 [00:04<1:30:37,  2.92s/it, loss=2.111]\u001b[A\n",
      "1/1 * Epoch (train):   1% 11/1875 [00:04<1:03:35,  2.05s/it, loss=2.111]\u001b[A\n",
      "1/1 * Epoch (train):   1% 11/1875 [00:04<1:03:35,  2.05s/it, loss=2.044]\u001b[A\n",
      "1/1 * Epoch (train):   1% 12/1875 [00:04<1:03:33,  2.05s/it, loss=2.055]\u001b[A\n",
      "1/1 * Epoch (train):   1% 13/1875 [00:04<1:03:31,  2.05s/it, loss=1.945]\u001b[A\n",
      "1/1 * Epoch (train):   1% 14/1875 [00:04<1:03:29,  2.05s/it, loss=1.864]\u001b[A\n",
      "1/1 * Epoch (train):   1% 15/1875 [00:04<1:03:27,  2.05s/it, loss=2.042]\u001b[A\n",
      "1/1 * Epoch (train):   1% 16/1875 [00:04<44:34,  1.44s/it, loss=2.042]  \u001b[A\n",
      "1/1 * Epoch (train):   1% 16/1875 [00:04<44:34,  1.44s/it, loss=1.982]\u001b[A\n",
      "1/1 * Epoch (train):   1% 17/1875 [00:04<44:33,  1.44s/it, loss=1.817]\u001b[A\n",
      "1/1 * Epoch (train):   1% 18/1875 [00:04<44:32,  1.44s/it, loss=1.902]\u001b[A\n",
      "1/1 * Epoch (train):   1% 19/1875 [00:04<44:30,  1.44s/it, loss=1.911]\u001b[A\n",
      "1/1 * Epoch (train):   1% 20/1875 [00:04<44:29,  1.44s/it, loss=1.728]\u001b[A\n",
      "1/1 * Epoch (train):   1% 21/1875 [00:04<44:27,  1.44s/it, loss=1.607]\u001b[A\n",
      "1/1 * Epoch (train):   1% 22/1875 [00:04<31:17,  1.01s/it, loss=1.607]\u001b[A\n",
      "1/1 * Epoch (train):   1% 22/1875 [00:04<31:17,  1.01s/it, loss=1.641]\u001b[A\n",
      "1/1 * Epoch (train):   1% 23/1875 [00:04<31:16,  1.01s/it, loss=1.633]\u001b[A\n",
      "1/1 * Epoch (train):   1% 24/1875 [00:04<31:15,  1.01s/it, loss=1.544]\u001b[A\n",
      "1/1 * Epoch (train):   1% 25/1875 [00:04<31:14,  1.01s/it, loss=1.406]\u001b[A\n",
      "1/1 * Epoch (train):   1% 26/1875 [00:04<31:13,  1.01s/it, loss=1.327]\u001b[A\n",
      "1/1 * Epoch (train):   1% 27/1875 [00:04<22:02,  1.40it/s, loss=1.327]\u001b[A\n",
      "1/1 * Epoch (train):   1% 27/1875 [00:04<22:02,  1.40it/s, loss=1.381]\u001b[A\n",
      "1/1 * Epoch (train):   1% 28/1875 [00:04<22:01,  1.40it/s, loss=1.386]\u001b[A\n",
      "1/1 * Epoch (train):   2% 29/1875 [00:04<22:00,  1.40it/s, loss=1.324]\u001b[A\n",
      "1/1 * Epoch (train):   2% 30/1875 [00:04<22:00,  1.40it/s, loss=1.165]\u001b[A\n",
      "1/1 * Epoch (train):   2% 31/1875 [00:04<21:59,  1.40it/s, loss=1.207]\u001b[A\n",
      "1/1 * Epoch (train):   2% 32/1875 [00:04<21:58,  1.40it/s, loss=1.230]\u001b[A\n",
      "1/1 * Epoch (train):   2% 33/1875 [00:04<15:33,  1.97it/s, loss=1.230]\u001b[A\n",
      "1/1 * Epoch (train):   2% 33/1875 [00:04<15:33,  1.97it/s, loss=1.397]\u001b[A\n",
      "1/1 * Epoch (train):   2% 34/1875 [00:04<15:32,  1.97it/s, loss=1.150]\u001b[A\n",
      "1/1 * Epoch (train):   2% 35/1875 [00:04<15:32,  1.97it/s, loss=1.337]\u001b[A\n",
      "1/1 * Epoch (train):   2% 36/1875 [00:04<15:31,  1.97it/s, loss=0.926]\u001b[A\n",
      "1/1 * Epoch (train):   2% 37/1875 [00:04<15:31,  1.97it/s, loss=0.717]\u001b[A\n",
      "1/1 * Epoch (train):   2% 38/1875 [00:04<15:30,  1.97it/s, loss=1.125]\u001b[A\n",
      "1/1 * Epoch (train):   2% 39/1875 [00:04<11:01,  2.78it/s, loss=1.125]\u001b[A\n",
      "1/1 * Epoch (train):   2% 39/1875 [00:04<11:01,  2.78it/s, loss=0.945]\u001b[A\n",
      "1/1 * Epoch (train):   2% 40/1875 [00:04<11:00,  2.78it/s, loss=0.974]\u001b[A\n",
      "1/1 * Epoch (train):   2% 41/1875 [00:04<11:00,  2.78it/s, loss=0.853]\u001b[A\n",
      "1/1 * Epoch (train):   2% 42/1875 [00:04<11:00,  2.78it/s, loss=1.000]\u001b[A\n",
      "1/1 * Epoch (train):   2% 43/1875 [00:05<10:59,  2.78it/s, loss=0.927]\u001b[A\n",
      "1/1 * Epoch (train):   2% 44/1875 [00:05<10:59,  2.78it/s, loss=0.815]\u001b[A\n",
      "1/1 * Epoch (train):   2% 45/1875 [00:05<07:51,  3.88it/s, loss=0.815]\u001b[A\n",
      "1/1 * Epoch (train):   2% 45/1875 [00:05<07:51,  3.88it/s, loss=0.760]\u001b[A\n",
      "1/1 * Epoch (train):   2% 46/1875 [00:05<07:51,  3.88it/s, loss=0.710]\u001b[A\n",
      "1/1 * Epoch (train):   3% 47/1875 [00:05<07:51,  3.88it/s, loss=0.872]\u001b[A\n",
      "1/1 * Epoch (train):   3% 48/1875 [00:05<07:51,  3.88it/s, loss=0.821]\u001b[A\n",
      "1/1 * Epoch (train):   3% 49/1875 [00:05<07:50,  3.88it/s, loss=0.705]\u001b[A\n",
      "1/1 * Epoch (train):   3% 50/1875 [00:05<05:53,  5.16it/s, loss=0.705]\u001b[A\n",
      "1/1 * Epoch (train):   3% 50/1875 [00:05<05:53,  5.16it/s, loss=0.702]\u001b[A\n",
      "1/1 * Epoch (train):   3% 51/1875 [00:05<05:53,  5.16it/s, loss=0.716]\u001b[A\n",
      "1/1 * Epoch (train):   3% 52/1875 [00:05<05:53,  5.16it/s, loss=0.703]\u001b[A\n",
      "1/1 * Epoch (train):   3% 53/1875 [00:05<05:52,  5.16it/s, loss=0.413]\u001b[A\n",
      "1/1 * Epoch (train):   3% 54/1875 [00:05<05:52,  5.16it/s, loss=0.535]\u001b[A\n",
      "1/1 * Epoch (train):   3% 55/1875 [00:05<04:47,  6.33it/s, loss=0.535]\u001b[A\n",
      "1/1 * Epoch (train):   3% 55/1875 [00:05<04:47,  6.33it/s, loss=0.705]\u001b[A\n",
      "1/1 * Epoch (train):   3% 56/1875 [00:05<04:47,  6.33it/s, loss=0.747]\u001b[A\n",
      "1/1 * Epoch (train):   3% 57/1875 [00:05<04:47,  6.33it/s, loss=0.539]\u001b[A\n",
      "1/1 * Epoch (train):   3% 58/1875 [00:05<04:47,  6.33it/s, loss=0.707]\u001b[A\n",
      "1/1 * Epoch (train):   3% 59/1875 [00:05<04:46,  6.33it/s, loss=0.524]\u001b[A\n",
      "1/1 * Epoch (train):   3% 60/1875 [00:05<04:46,  6.33it/s, loss=0.601]\u001b[A\n",
      "1/1 * Epoch (train):   3% 61/1875 [00:05<03:30,  8.61it/s, loss=0.601]\u001b[A\n",
      "1/1 * Epoch (train):   3% 61/1875 [00:05<03:30,  8.61it/s, loss=0.503]\u001b[A\n",
      "1/1 * Epoch (train):   3% 62/1875 [00:05<03:30,  8.61it/s, loss=0.626]\u001b[A\n",
      "1/1 * Epoch (train):   3% 63/1875 [00:05<03:30,  8.61it/s, loss=0.640]\u001b[A\n",
      "1/1 * Epoch (train):   3% 64/1875 [00:05<03:30,  8.61it/s, loss=0.601]\u001b[A\n",
      "1/1 * Epoch (train):   3% 65/1875 [00:05<03:30,  8.61it/s, loss=0.520]\u001b[A\n",
      "1/1 * Epoch (train):   4% 66/1875 [00:05<03:30,  8.61it/s, loss=0.488]\u001b[A\n",
      "1/1 * Epoch (train):   4% 67/1875 [00:05<02:36, 11.52it/s, loss=0.488]\u001b[A\n",
      "1/1 * Epoch (train):   4% 67/1875 [00:05<02:36, 11.52it/s, loss=0.295]\u001b[A\n",
      "1/1 * Epoch (train):   4% 68/1875 [00:05<02:36, 11.52it/s, loss=0.470]\u001b[A\n",
      "1/1 * Epoch (train):   4% 69/1875 [00:05<02:36, 11.52it/s, loss=0.482]\u001b[A\n",
      "1/1 * Epoch (train):   4% 70/1875 [00:05<02:36, 11.52it/s, loss=0.381]\u001b[A\n",
      "1/1 * Epoch (train):   4% 71/1875 [00:05<02:36, 11.52it/s, loss=0.550]\u001b[A\n",
      "1/1 * Epoch (train):   4% 72/1875 [00:05<02:36, 11.52it/s, loss=0.513]\u001b[A\n",
      "1/1 * Epoch (train):   4% 73/1875 [00:05<01:59, 15.06it/s, loss=0.513]\u001b[A\n",
      "1/1 * Epoch (train):   4% 73/1875 [00:05<01:59, 15.06it/s, loss=0.353]\u001b[A\n",
      "1/1 * Epoch (train):   4% 74/1875 [00:05<01:59, 15.06it/s, loss=0.623]\u001b[A\n",
      "1/1 * Epoch (train):   4% 75/1875 [00:06<01:59, 15.06it/s, loss=0.773]\u001b[A\n",
      "1/1 * Epoch (train):   4% 76/1875 [00:06<01:59, 15.06it/s, loss=0.524]\u001b[A\n",
      "1/1 * Epoch (train):   4% 77/1875 [00:06<01:59, 15.06it/s, loss=0.303]\u001b[A\n",
      "1/1 * Epoch (train):   4% 78/1875 [00:06<01:59, 15.06it/s, loss=0.255]\u001b[A\n",
      "1/1 * Epoch (train):   4% 79/1875 [00:06<01:33, 19.19it/s, loss=0.255]\u001b[A\n",
      "1/1 * Epoch (train):   4% 79/1875 [00:06<01:33, 19.19it/s, loss=0.532]\u001b[A\n",
      "1/1 * Epoch (train):   4% 80/1875 [00:06<01:33, 19.19it/s, loss=0.459]\u001b[A\n",
      "1/1 * Epoch (train):   4% 81/1875 [00:06<01:33, 19.19it/s, loss=0.470]\u001b[A\n",
      "\u001b[A                                                                   Early exiting\n",
      "\n",
      "1/1 * Epoch (train):   4% 82/1875 [00:09<03:29,  8.57it/s, loss=0.470]\u001b[A\n"
     ]
    },
    {
     "ename": "TracingCheckError",
     "evalue": "Tracing failed sanity checks!\nencountered an exception while running the trace with test inputs.\nException:\n\tCannot compare two tensors on different devices. Got: cuda:0 and cuda:1\nERROR: Graphs differed across invocations!\n\tGraph diff:\n\t\t  graph(%self : __torch__.catalyst.utils.tracing._ForwardOverrideModel,\n\t\t        %obj : Tensor):\n\t\t-   %2 : __torch__.torch.nn.parallel.data_parallel.DataParallel = prim::GetAttr[name=\"model\"](%self)\n\t\t-   %3 : __torch__.torch.nn.modules.container.Sequential = prim::GetAttr[name=\"module\"](%2)\n\t\t-   %4 : __torch__.torch.nn.modules.linear.Linear = prim::GetAttr[name=\"4\"](%3)\n\t\t-   %5 : Tensor = prim::GetAttr[name=\"bias\"](%4)\n\t\t-   %6 : __torch__.torch.nn.parallel.data_parallel.DataParallel = prim::GetAttr[name=\"model\"](%self)\n\t\t-   %7 : __torch__.torch.nn.modules.container.Sequential = prim::GetAttr[name=\"module\"](%6)\n\t\t-   %8 : __torch__.torch.nn.modules.linear.Linear = prim::GetAttr[name=\"4\"](%7)\n\t\t-   %9 : Tensor = prim::GetAttr[name=\"weight\"](%8)\n\t\t-   %10 : __torch__.torch.nn.parallel.data_parallel.DataParallel = prim::GetAttr[name=\"model\"](%self)\n\t\t-   %11 : __torch__.torch.nn.modules.container.Sequential = prim::GetAttr[name=\"module\"](%10)\n\t\t-   %12 : __torch__.torch.nn.modules.linear.Linear = prim::GetAttr[name=\"2\"](%11)\n\t\t-   %13 : Tensor = prim::GetAttr[name=\"bias\"](%12)\n\t\t-   %14 : __torch__.torch.nn.parallel.data_parallel.DataParallel = prim::GetAttr[name=\"model\"](%self)\n\t\t-   %15 : __torch__.torch.nn.modules.container.Sequential = prim::GetAttr[name=\"module\"](%14)\n\t\t-   %16 : __torch__.torch.nn.modules.linear.Linear = prim::GetAttr[name=\"2\"](%15)\n\t\t-   %17 : Tensor = prim::GetAttr[name=\"weight\"](%16)\n\t\t-   %18 : __torch__.torch.nn.parallel.data_parallel.DataParallel = prim::GetAttr[name=\"model\"](%self)\n\t\t-   %19 : __torch__.torch.nn.modules.container.Sequential = prim::GetAttr[name=\"module\"](%18)\n\t\t-   %20 : __torch__.torch.nn.modules.linear.Linear = prim::GetAttr[name=\"0\"](%19)\n\t\t-   %21 : Tensor = prim::GetAttr[name=\"bias\"](%20)\n\t\t-   %22 : __torch__.torch.nn.parallel.data_parallel.DataParallel = prim::GetAttr[name=\"model\"](%self)\n\t\t-   %23 : __torch__.torch.nn.modules.container.Sequential = prim::GetAttr[name=\"module\"](%22)\n\t\t-   %24 : __torch__.torch.nn.modules.linear.Linear = prim::GetAttr[name=\"0\"](%23)\n\t\t-   %25 : Tensor = prim::GetAttr[name=\"weight\"](%24)\n\t\t-   %26 : (Tensor, Tensor) = ^Scatter([0, 1], None, 0)(%obj) # /opt/conda/lib/python3.6/site-packages/torch/nn/parallel/scatter_gather.py:13:0\n\t\t?     -\n\t\t+   %2 : (Tensor, Tensor) = ^Scatter([0, 1], None, 0)(%obj) # /opt/conda/lib/python3.6/site-packages/torch/nn/parallel/scatter_gather.py:13:0\n\t\t-   %27 : (Tensor, Tensor, Tensor, Tensor, Tensor, Tensor, Tensor, Tensor, Tensor, Tensor, Tensor, Tensor) = ^Broadcast([0, 1])(%25, %21, %17, %13, %9, %5) # /opt/conda/lib/python3.6/site-packages/torch/nn/parallel/replicate.py:71:0\n\t\t    %i.1 : Tensor = prim::Constant[value=<Tensor>]() # /opt/conda/lib/python3.6/site-packages/torch/nn/parallel/scatter_gather.py:55:0\n\t\t    %i : Tensor = prim::Constant[value=<Tensor>]() # /opt/conda/lib/python3.6/site-packages/torch/nn/parallel/scatter_gather.py:55:0\n\t\t-   %30 : Tensor = ^Gather(0, 0)(%i.1, %i) # /opt/conda/lib/python3.6/site-packages/torch/nn/parallel/scatter_gather.py:55:0\n\t\t?    ^^\n\t\t+   %5 : Tensor = ^Gather(0, 0)(%i.1, %i) # /opt/conda/lib/python3.6/site-packages/torch/nn/parallel/scatter_gather.py:55:0\n\t\t?    ^\n\t\t-   %31 : int = prim::Constant[value=32]() # /opt/conda/lib/python3.6/site-packages/torch/nn/parallel/comm.py:230:0\n\t\t?    ^^\n\t\t+   %6 : int = prim::Constant[value=32]() # /opt/conda/lib/python3.6/site-packages/torch/nn/parallel/comm.py:230:0\n\t\t?    ^\n\t\t-   %32 : int = prim::Constant[value=10]() # /opt/conda/lib/python3.6/site-packages/torch/nn/parallel/comm.py:230:0\n\t\t?    ^^\n\t\t+   %7 : int = prim::Constant[value=10]() # /opt/conda/lib/python3.6/site-packages/torch/nn/parallel/comm.py:230:0\n\t\t?    ^\n\t\t-   %33 : int[] = prim::ListConstruct(%31, %32)\n\t\t?    ^^                                ^^   ^^\n\t\t+   %8 : int[] = prim::ListConstruct(%6, %7)\n\t\t?    ^                                ^   ^\n\t\t-   %34 : int = prim::Constant[value=6]() # /opt/conda/lib/python3.6/site-packages/torch/nn/parallel/comm.py:230:0\n\t\t?    ^^\n\t\t+   %9 : int = prim::Constant[value=6]() # /opt/conda/lib/python3.6/site-packages/torch/nn/parallel/comm.py:230:0\n\t\t?    ^\n\t\t+   %10 : int = prim::Constant[value=0]() # /opt/conda/lib/python3.6/site-packages/torch/nn/parallel/comm.py:230:0\n\t\t+   %11 : Device = prim::Constant[value=\"cuda:0\"]() # /opt/conda/lib/python3.6/site-packages/torch/nn/parallel/comm.py:230:0\n\t\t+   %12 : bool = prim::Constant[value=0]() # /opt/conda/lib/python3.6/site-packages/torch/nn/parallel/comm.py:230:0\n\t\t-   %35 : int = prim::Constant[value=0]() # /opt/conda/lib/python3.6/site-packages/torch/nn/parallel/comm.py:230:0\n\t\t?     -\n\t\t+   %13 : int = prim::Constant[value=0]() # /opt/conda/lib/python3.6/site-packages/torch/nn/parallel/comm.py:230:0\n\t\t?    +\n\t\t-   %36 : Device = prim::Constant[value=\"cuda:0\"]() # /opt/conda/lib/python3.6/site-packages/torch/nn/parallel/comm.py:230:0\n\t\t-   %37 : bool = prim::Constant[value=0]() # /opt/conda/lib/python3.6/site-packages/torch/nn/parallel/comm.py:230:0\n\t\t-   %38 : int = prim::Constant[value=0]() # /opt/conda/lib/python3.6/site-packages/torch/nn/parallel/comm.py:230:0\n\t\t-   %39 : Tensor = aten::empty(%33, %34, %35, %36, %37, %38) # /opt/conda/lib/python3.6/site-packages/torch/nn/parallel/comm.py:230:0\n\t\t?    ^^                          --------------------------\n\t\t+   %14 : Tensor = aten::empty(%8, %9, %10, %11, %12, %13) # /opt/conda/lib/python3.6/site-packages/torch/nn/parallel/comm.py:230:0\n\t\t?    ^^                         ++++++++++++++++++++++++\n\t\t-   %40 : int = prim::Constant[value=16]() # /opt/conda/lib/python3.6/site-packages/torch/nn/parallel/comm.py:230:0\n\t\t-   %41 : int = prim::Constant[value=16]() # /opt/conda/lib/python3.6/site-packages/torch/nn/parallel/comm.py:230:0\n\t\t?    -\n\t\t+   %15 : int = prim::Constant[value=16]() # /opt/conda/lib/python3.6/site-packages/torch/nn/parallel/comm.py:230:0\n\t\t?     +\n\t\t+   %16 : int = prim::Constant[value=16]() # /opt/conda/lib/python3.6/site-packages/torch/nn/parallel/comm.py:230:0\n\t\t-   %42 : int[] = prim::ListConstruct(%40, %41)\n\t\t?    ^^                                ^^   -\n\t\t+   %17 : int[] = prim::ListConstruct(%15, %16)\n\t\t?    ^^                                ^^    +\n\t\t-   %43 : int = prim::Constant[value=0]() # /opt/conda/lib/python3.6/site-packages/torch/nn/parallel/comm.py:230:0\n\t\t?    ^^\n\t\t+   %18 : int = prim::Constant[value=0]() # /opt/conda/lib/python3.6/site-packages/torch/nn/parallel/comm.py:230:0\n\t\t?    ^^\n\t\t-   %44 : Tensor[] = aten::split_with_sizes(%39, %42, %43) # /opt/conda/lib/python3.6/site-packages/torch/nn/parallel/comm.py:230:0\n\t\t?    ^^                                      ^^   ^^   ^^\n\t\t+   %19 : Tensor[] = aten::split_with_sizes(%14, %17, %18) # /opt/conda/lib/python3.6/site-packages/torch/nn/parallel/comm.py:230:0\n\t\t?    ^^                                      ^^   ^^   ^^\n\t\t-   %45 : Tensor, %46 : Tensor = prim::ListUnpack(%44)\n\t\t?    ^^            ^^                              ^^\n\t\t+   %20 : Tensor, %21 : Tensor = prim::ListUnpack(%19)\n\t\t?    ^^            ^^                              ^^\n\t\t+   %22 : bool = prim::Constant[value=0]()\n\t\t+   %23 : Tensor = aten::copy_(%20, %i.1, %22) # /opt/conda/lib/python3.6/site-packages/torch/nn/parallel/comm.py:230:0\n\t\t-   %47 : bool = prim::Constant[value=0]()\n\t\t?     -\n\t\t+   %24 : bool = prim::Constant[value=0]()\n\t\t?    +\n\t\t-   %48 : Tensor = aten::copy_(%45, %i.1, %47) # /opt/conda/lib/python3.6/site-packages/torch/nn/parallel/comm.py:230:0\n\t\t-   %49 : bool = prim::Constant[value=0]()\n\t\t-   %50 : Tensor = aten::copy_(%46, %i, %49) # /opt/conda/lib/python3.6/site-packages/torch/nn/parallel/comm.py:230:0\n\t\t?     -                         ^^        -\n\t\t+   %25 : Tensor = aten::copy_(%21, %i, %24) # /opt/conda/lib/python3.6/site-packages/torch/nn/parallel/comm.py:230:0\n\t\t?    +                          ^^       +\n\t\t-   return (%30)\n\t\t?            ^^\n\t\t+   return (%5)\n\t\t?            ^\n\tFirst diverging operator:\n\tNode diff:\n\t\t- %2 : __torch__.torch.nn.parallel.data_parallel.DataParallel = prim::GetAttr[name=\"model\"](%self)\n\t\t+ %2 : (Tensor, Tensor) = ^Scatter([0, 1], None, 0)(%obj) # /opt/conda/lib/python3.6/site-packages/torch/nn/parallel/scatter_gather.py:13:0\n\tCheck source location:\n\t\t/opt/conda/lib/python3.6/site-packages/torch/nn/parallel/scatter_gather.py(13): scatter_map\n\t\t/opt/conda/lib/python3.6/site-packages/torch/nn/parallel/scatter_gather.py(15): scatter_map\n\t\t/opt/conda/lib/python3.6/site-packages/torch/nn/parallel/scatter_gather.py(28): scatter\n\t\t/opt/conda/lib/python3.6/site-packages/torch/nn/parallel/scatter_gather.py(36): scatter_kwargs\n\t\t/opt/conda/lib/python3.6/site-packages/torch/nn/parallel/data_parallel.py(168): scatter\n\t\t/opt/conda/lib/python3.6/site-packages/torch/nn/parallel/data_parallel.py(157): forward\n\t\t/opt/conda/lib/python3.6/site-packages/catalyst/utils/tracing.py(68): forward\n\t\t/opt/conda/lib/python3.6/site-packages/torch/nn/modules/module.py(709): _slow_forward\n\t\t/opt/conda/lib/python3.6/site-packages/torch/nn/modules/module.py(725): _call_impl\n\t\t/opt/conda/lib/python3.6/site-packages/torch/jit/_trace.py(940): trace_module\n\t\t/opt/conda/lib/python3.6/site-packages/torch/jit/_trace.py(335): _check_trace\n\t\t/opt/conda/lib/python3.6/site-packages/torch/autograd/grad_mode.py(26): decorate_context\n\t\t/opt/conda/lib/python3.6/site-packages/torch/jit/_trace.py(966): trace_module\n\t\t/opt/conda/lib/python3.6/site-packages/torch/jit/_trace.py(742): trace\n\t\t/opt/conda/lib/python3.6/site-packages/catalyst/utils/tracing.py(96): __call__\n\t\t<ipython-input-113-1ffb9080a93b>(30): predict_batch\n\t\t/opt/conda/lib/python3.6/site-packages/catalyst/runners/runner.py(449): predict_fn\n\t\t/opt/conda/lib/python3.6/site-packages/catalyst/utils/tracing.py(157): trace_model\n\t\t/opt/conda/lib/python3.6/site-packages/catalyst/runners/runner.py(462): trace\n\t\t<ipython-input-113-1ffb9080a93b>(55): <module>\n\t\t/opt/conda/lib/python3.6/site-packages/IPython/core/interactiveshell.py(3331): run_code\n\t\t/opt/conda/lib/python3.6/site-packages/IPython/core/interactiveshell.py(3254): run_ast_nodes\n\t\t/opt/conda/lib/python3.6/site-packages/IPython/core/interactiveshell.py(3063): run_cell_async\n\t\t/opt/conda/lib/python3.6/site-packages/IPython/core/async_helpers.py(68): _pseudo_sync_runner\n\t\t/opt/conda/lib/python3.6/site-packages/IPython/core/interactiveshell.py(2886): _run_cell\n\t\t/opt/conda/lib/python3.6/site-packages/IPython/core/interactiveshell.py(2858): run_cell\n\t\t/opt/conda/lib/python3.6/site-packages/ipykernel/zmqshell.py(539): run_cell\n\t\t/opt/conda/lib/python3.6/site-packages/ipykernel/ipkernel.py(302): do_execute\n\t\t/opt/conda/lib/python3.6/site-packages/tornado/gen.py(162): _fake_ctx_run\n\t\t/opt/conda/lib/python3.6/site-packages/tornado/gen.py(234): wrapper\n\t\t/opt/conda/lib/python3.6/site-packages/ipykernel/kernelbase.py(542): execute_request\n\t\t/opt/conda/lib/python3.6/site-packages/tornado/gen.py(162): _fake_ctx_run\n\t\t/opt/conda/lib/python3.6/site-packages/tornado/gen.py(234): wrapper\n\t\t/opt/conda/lib/python3.6/site-packages/ipykernel/kernelbase.py(265): dispatch_shell\n\t\t/opt/conda/lib/python3.6/site-packages/tornado/gen.py(162): _fake_ctx_run\n\t\t/opt/conda/lib/python3.6/site-packages/tornado/gen.py(234): wrapper\n\t\t/opt/conda/lib/python3.6/site-packages/ipykernel/kernelbase.py(362): process_one\n\t\t/opt/conda/lib/python3.6/site-packages/tornado/gen.py(775): run\n\t\t/opt/conda/lib/python3.6/site-packages/tornado/gen.py(162): _fake_ctx_run\n\t\t/opt/conda/lib/python3.6/site-packages/tornado/gen.py(814): inner\n\t\t/opt/conda/lib/python3.6/site-packages/tornado/ioloop.py(741): _run_callback\n\t\t/opt/conda/lib/python3.6/site-packages/tornado/ioloop.py(688): <lambda>\n\t\t/opt/conda/lib/python3.6/asyncio/events.py(145): _run\n\t\t/opt/conda/lib/python3.6/asyncio/base_events.py(1462): _run_once\n\t\t/opt/conda/lib/python3.6/asyncio/base_events.py(442): run_forever\n\t\t/opt/conda/lib/python3.6/site-packages/tornado/platform/asyncio.py(199): start\n\t\t/opt/conda/lib/python3.6/site-packages/ipykernel/kernelapp.py(612): start\n\t\t/opt/conda/lib/python3.6/site-packages/traitlets/config/application.py(664): launch_instance\n\t\t/opt/conda/lib/python3.6/site-packages/ipykernel_launcher.py(16): <module>\n\t\t/opt/conda/lib/python3.6/runpy.py(85): _run_code\n\t\t/opt/conda/lib/python3.6/runpy.py(193): _run_module_as_main\n",
     "output_type": "error",
     "traceback": [
      "\u001b[0;31m---------------------------------------------------------------------------\u001b[0m",
      "\u001b[0;31mAssertionError\u001b[0m                            Traceback (most recent call last)",
      "\u001b[0;32m/opt/conda/lib/python3.6/site-packages/catalyst/utils/tracing.py\u001b[0m in \u001b[0;36m__call__\u001b[0;34m(self, *args, **kwargs)\u001b[0m\n\u001b[1;32m     86\u001b[0m         \u001b[0;32mtry\u001b[0m\u001b[0;34m:\u001b[0m\u001b[0;34m\u001b[0m\u001b[0;34m\u001b[0m\u001b[0m\n\u001b[0;32m---> 87\u001b[0;31m             \u001b[0;32massert\u001b[0m \u001b[0mlen\u001b[0m\u001b[0;34m(\u001b[0m\u001b[0margs\u001b[0m\u001b[0;34m)\u001b[0m \u001b[0;34m==\u001b[0m \u001b[0;36m0\u001b[0m\u001b[0;34m,\u001b[0m \u001b[0;34m\"only KV support implemented\"\u001b[0m\u001b[0;34m\u001b[0m\u001b[0;34m\u001b[0m\u001b[0m\n\u001b[0m\u001b[1;32m     88\u001b[0m \u001b[0;34m\u001b[0m\u001b[0m\n",
      "\u001b[0;31mAssertionError\u001b[0m: only KV support implemented",
      "\nDuring handling of the above exception, another exception occurred:\n",
      "\u001b[0;31mRuntimeError\u001b[0m                              Traceback (most recent call last)",
      "\u001b[0;32m/opt/conda/lib/python3.6/site-packages/torch/jit/_trace.py\u001b[0m in \u001b[0;36mrun_mod_and_filter_tensor_outputs\u001b[0;34m(mod, inputs, running_what)\u001b[0m\n\u001b[1;32m    440\u001b[0m             \u001b[0;32mtry\u001b[0m\u001b[0;34m:\u001b[0m\u001b[0;34m\u001b[0m\u001b[0;34m\u001b[0m\u001b[0m\n\u001b[0;32m--> 441\u001b[0;31m                 \u001b[0mouts\u001b[0m \u001b[0;34m=\u001b[0m \u001b[0mwrap_retval\u001b[0m\u001b[0;34m(\u001b[0m\u001b[0mmod\u001b[0m\u001b[0;34m(\u001b[0m\u001b[0;34m*\u001b[0m\u001b[0m_clone_inputs\u001b[0m\u001b[0;34m(\u001b[0m\u001b[0minputs\u001b[0m\u001b[0;34m)\u001b[0m\u001b[0;34m)\u001b[0m\u001b[0;34m)\u001b[0m\u001b[0;34m\u001b[0m\u001b[0;34m\u001b[0m\u001b[0m\n\u001b[0m\u001b[1;32m    442\u001b[0m                 \u001b[0mouts\u001b[0m \u001b[0;34m=\u001b[0m \u001b[0;34m[\u001b[0m\u001b[0mout\u001b[0m \u001b[0;32mfor\u001b[0m \u001b[0mout\u001b[0m \u001b[0;32min\u001b[0m \u001b[0mouts\u001b[0m \u001b[0;32mif\u001b[0m \u001b[0misinstance\u001b[0m\u001b[0;34m(\u001b[0m\u001b[0mout\u001b[0m\u001b[0;34m,\u001b[0m \u001b[0mtorch\u001b[0m\u001b[0;34m.\u001b[0m\u001b[0mTensor\u001b[0m\u001b[0;34m)\u001b[0m\u001b[0;34m]\u001b[0m\u001b[0;34m\u001b[0m\u001b[0;34m\u001b[0m\u001b[0m\n",
      "\u001b[0;31mRuntimeError\u001b[0m: Cannot compare two tensors on different devices. Got: cuda:0 and cuda:1",
      "\nThe above exception was the direct cause of the following exception:\n",
      "\u001b[0;31mTracingCheckError\u001b[0m                         Traceback (most recent call last)",
      "\u001b[0;32m<ipython-input-113-1ffb9080a93b>\u001b[0m in \u001b[0;36m<module>\u001b[0;34m\u001b[0m\n\u001b[1;32m     53\u001b[0m     \u001b[0;32massert\u001b[0m \u001b[0mprediction\u001b[0m\u001b[0;34m.\u001b[0m\u001b[0mdetach\u001b[0m\u001b[0;34m(\u001b[0m\u001b[0;34m)\u001b[0m\u001b[0;34m.\u001b[0m\u001b[0mcpu\u001b[0m\u001b[0;34m(\u001b[0m\u001b[0;34m)\u001b[0m\u001b[0;34m.\u001b[0m\u001b[0mnumpy\u001b[0m\u001b[0;34m(\u001b[0m\u001b[0;34m)\u001b[0m\u001b[0;34m.\u001b[0m\u001b[0mshape\u001b[0m\u001b[0;34m[\u001b[0m\u001b[0;34m-\u001b[0m\u001b[0;36m1\u001b[0m\u001b[0;34m]\u001b[0m \u001b[0;34m==\u001b[0m \u001b[0;36m10\u001b[0m\u001b[0;34m\u001b[0m\u001b[0;34m\u001b[0m\u001b[0m\n\u001b[1;32m     54\u001b[0m \u001b[0;31m# model tracing\u001b[0m\u001b[0;34m\u001b[0m\u001b[0;34m\u001b[0m\u001b[0;34m\u001b[0m\u001b[0m\n\u001b[0;32m---> 55\u001b[0;31m \u001b[0mtraced_model\u001b[0m \u001b[0;34m=\u001b[0m \u001b[0mrunner\u001b[0m\u001b[0;34m.\u001b[0m\u001b[0mtrace\u001b[0m\u001b[0;34m(\u001b[0m\u001b[0mloader\u001b[0m\u001b[0;34m=\u001b[0m\u001b[0mvalid_loader\u001b[0m\u001b[0;34m)\u001b[0m\u001b[0;34m\u001b[0m\u001b[0;34m\u001b[0m\u001b[0m\n\u001b[0m",
      "\u001b[0;32m/opt/conda/lib/python3.6/site-packages/catalyst/runners/runner.py\u001b[0m in \u001b[0;36mtrace\u001b[0;34m(self, model, batch, logdir, loader, method_name, mode, requires_grad, fp16, device, predict_params)\u001b[0m\n\u001b[1;32m    460\u001b[0m             \u001b[0mopt_level\u001b[0m\u001b[0;34m=\u001b[0m\u001b[0mopt_level\u001b[0m\u001b[0;34m,\u001b[0m\u001b[0;34m\u001b[0m\u001b[0;34m\u001b[0m\u001b[0m\n\u001b[1;32m    461\u001b[0m             \u001b[0mdevice\u001b[0m\u001b[0;34m=\u001b[0m\u001b[0mdevice\u001b[0m\u001b[0;34m,\u001b[0m\u001b[0;34m\u001b[0m\u001b[0;34m\u001b[0m\u001b[0m\n\u001b[0;32m--> 462\u001b[0;31m             \u001b[0mpredict_params\u001b[0m\u001b[0;34m=\u001b[0m\u001b[0mpredict_params\u001b[0m\u001b[0;34m,\u001b[0m\u001b[0;34m\u001b[0m\u001b[0;34m\u001b[0m\u001b[0m\n\u001b[0m\u001b[1;32m    463\u001b[0m         )\n\u001b[1;32m    464\u001b[0m \u001b[0;34m\u001b[0m\u001b[0m\n",
      "\u001b[0;32m/opt/conda/lib/python3.6/site-packages/catalyst/utils/tracing.py\u001b[0m in \u001b[0;36mtrace_model\u001b[0;34m(model, predict_fn, batch, method_name, mode, requires_grad, opt_level, device, predict_params)\u001b[0m\n\u001b[1;32m    155\u001b[0m     \u001b[0mset_requires_grad\u001b[0m\u001b[0;34m(\u001b[0m\u001b[0mmodel\u001b[0m\u001b[0;34m,\u001b[0m \u001b[0mrequires_grad\u001b[0m\u001b[0;34m=\u001b[0m\u001b[0mrequires_grad\u001b[0m\u001b[0;34m)\u001b[0m\u001b[0;34m\u001b[0m\u001b[0;34m\u001b[0m\u001b[0m\n\u001b[1;32m    156\u001b[0m \u001b[0;34m\u001b[0m\u001b[0m\n\u001b[0;32m--> 157\u001b[0;31m     \u001b[0mpredict_fn\u001b[0m\u001b[0;34m(\u001b[0m\u001b[0mtracer\u001b[0m\u001b[0;34m,\u001b[0m \u001b[0mbatch\u001b[0m\u001b[0;34m,\u001b[0m \u001b[0;34m**\u001b[0m\u001b[0mpredict_params\u001b[0m\u001b[0;34m)\u001b[0m\u001b[0;34m\u001b[0m\u001b[0;34m\u001b[0m\u001b[0m\n\u001b[0m\u001b[1;32m    158\u001b[0m \u001b[0;34m\u001b[0m\u001b[0m\n\u001b[1;32m    159\u001b[0m     \u001b[0;32mreturn\u001b[0m \u001b[0mtracer\u001b[0m\u001b[0;34m.\u001b[0m\u001b[0mtracing_result\u001b[0m\u001b[0;34m\u001b[0m\u001b[0;34m\u001b[0m\u001b[0m\n",
      "\u001b[0;32m/opt/conda/lib/python3.6/site-packages/catalyst/runners/runner.py\u001b[0m in \u001b[0;36mpredict_fn\u001b[0;34m(model, inputs, **kwargs)\u001b[0m\n\u001b[1;32m    447\u001b[0m             \u001b[0mmodel_dump\u001b[0m \u001b[0;34m=\u001b[0m \u001b[0mself\u001b[0m\u001b[0;34m.\u001b[0m\u001b[0mmodel\u001b[0m\u001b[0;34m\u001b[0m\u001b[0;34m\u001b[0m\u001b[0m\n\u001b[1;32m    448\u001b[0m             \u001b[0mself\u001b[0m\u001b[0;34m.\u001b[0m\u001b[0mmodel\u001b[0m \u001b[0;34m=\u001b[0m \u001b[0mmodel\u001b[0m\u001b[0;34m\u001b[0m\u001b[0;34m\u001b[0m\u001b[0m\n\u001b[0;32m--> 449\u001b[0;31m             \u001b[0mresult\u001b[0m \u001b[0;34m=\u001b[0m \u001b[0mself\u001b[0m\u001b[0;34m.\u001b[0m\u001b[0mpredict_batch\u001b[0m\u001b[0;34m(\u001b[0m\u001b[0minputs\u001b[0m\u001b[0;34m,\u001b[0m \u001b[0;34m**\u001b[0m\u001b[0mkwargs\u001b[0m\u001b[0;34m)\u001b[0m\u001b[0;34m\u001b[0m\u001b[0;34m\u001b[0m\u001b[0m\n\u001b[0m\u001b[1;32m    450\u001b[0m             \u001b[0mself\u001b[0m\u001b[0;34m.\u001b[0m\u001b[0mmodel\u001b[0m \u001b[0;34m=\u001b[0m \u001b[0mmodel_dump\u001b[0m\u001b[0;34m\u001b[0m\u001b[0;34m\u001b[0m\u001b[0m\n\u001b[1;32m    451\u001b[0m             \u001b[0;32mreturn\u001b[0m \u001b[0mresult\u001b[0m\u001b[0;34m\u001b[0m\u001b[0;34m\u001b[0m\u001b[0m\n",
      "\u001b[0;32m<ipython-input-113-1ffb9080a93b>\u001b[0m in \u001b[0;36mpredict_batch\u001b[0;34m(self, batch)\u001b[0m\n\u001b[1;32m     28\u001b[0m     \u001b[0;32mdef\u001b[0m \u001b[0mpredict_batch\u001b[0m\u001b[0;34m(\u001b[0m\u001b[0mself\u001b[0m\u001b[0;34m,\u001b[0m \u001b[0mbatch\u001b[0m\u001b[0;34m)\u001b[0m\u001b[0;34m:\u001b[0m\u001b[0;34m\u001b[0m\u001b[0;34m\u001b[0m\u001b[0m\n\u001b[1;32m     29\u001b[0m         \u001b[0;31m# model inference step\u001b[0m\u001b[0;34m\u001b[0m\u001b[0;34m\u001b[0m\u001b[0;34m\u001b[0m\u001b[0m\n\u001b[0;32m---> 30\u001b[0;31m         \u001b[0;32mreturn\u001b[0m \u001b[0mself\u001b[0m\u001b[0;34m.\u001b[0m\u001b[0mmodel\u001b[0m\u001b[0;34m(\u001b[0m\u001b[0mbatch\u001b[0m\u001b[0;34m[\u001b[0m\u001b[0;36m0\u001b[0m\u001b[0;34m]\u001b[0m\u001b[0;34m.\u001b[0m\u001b[0mto\u001b[0m\u001b[0;34m(\u001b[0m\u001b[0mself\u001b[0m\u001b[0;34m.\u001b[0m\u001b[0mdevice\u001b[0m\u001b[0;34m)\u001b[0m\u001b[0;34m.\u001b[0m\u001b[0mview\u001b[0m\u001b[0;34m(\u001b[0m\u001b[0mbatch\u001b[0m\u001b[0;34m[\u001b[0m\u001b[0;36m0\u001b[0m\u001b[0;34m]\u001b[0m\u001b[0;34m.\u001b[0m\u001b[0msize\u001b[0m\u001b[0;34m(\u001b[0m\u001b[0;36m0\u001b[0m\u001b[0;34m)\u001b[0m\u001b[0;34m,\u001b[0m \u001b[0;34m-\u001b[0m\u001b[0;36m1\u001b[0m\u001b[0;34m)\u001b[0m\u001b[0;34m)\u001b[0m\u001b[0;34m\u001b[0m\u001b[0;34m\u001b[0m\u001b[0m\n\u001b[0m\u001b[1;32m     31\u001b[0m \u001b[0;34m\u001b[0m\u001b[0m\n\u001b[1;32m     32\u001b[0m     \u001b[0;32mdef\u001b[0m \u001b[0m_handle_batch\u001b[0m\u001b[0;34m(\u001b[0m\u001b[0mself\u001b[0m\u001b[0;34m,\u001b[0m \u001b[0mbatch\u001b[0m\u001b[0;34m)\u001b[0m\u001b[0;34m:\u001b[0m\u001b[0;34m\u001b[0m\u001b[0;34m\u001b[0m\u001b[0m\n",
      "\u001b[0;32m/opt/conda/lib/python3.6/site-packages/catalyst/utils/tracing.py\u001b[0m in \u001b[0;36m__call__\u001b[0;34m(self, *args, **kwargs)\u001b[0m\n\u001b[1;32m     94\u001b[0m         \u001b[0;32mexcept\u001b[0m \u001b[0mException\u001b[0m\u001b[0;34m:\u001b[0m\u001b[0;34m\u001b[0m\u001b[0;34m\u001b[0m\u001b[0m\n\u001b[1;32m     95\u001b[0m             \u001b[0;31m# for backward compatibility\u001b[0m\u001b[0;34m\u001b[0m\u001b[0;34m\u001b[0m\u001b[0;34m\u001b[0m\u001b[0m\n\u001b[0;32m---> 96\u001b[0;31m             \u001b[0mself\u001b[0m\u001b[0;34m.\u001b[0m\u001b[0mtracing_result\u001b[0m \u001b[0;34m=\u001b[0m \u001b[0mjit\u001b[0m\u001b[0;34m.\u001b[0m\u001b[0mtrace\u001b[0m\u001b[0;34m(\u001b[0m\u001b[0mmethod_model\u001b[0m\u001b[0;34m,\u001b[0m \u001b[0;34m*\u001b[0m\u001b[0margs\u001b[0m\u001b[0;34m,\u001b[0m \u001b[0;34m**\u001b[0m\u001b[0mkwargs\u001b[0m\u001b[0;34m)\u001b[0m\u001b[0;34m\u001b[0m\u001b[0;34m\u001b[0m\u001b[0m\n\u001b[0m\u001b[1;32m     97\u001b[0m         \u001b[0moutput\u001b[0m \u001b[0;34m=\u001b[0m \u001b[0mself\u001b[0m\u001b[0;34m.\u001b[0m\u001b[0mmodel\u001b[0m\u001b[0;34m.\u001b[0m\u001b[0mforward\u001b[0m\u001b[0;34m(\u001b[0m\u001b[0;34m*\u001b[0m\u001b[0margs\u001b[0m\u001b[0;34m,\u001b[0m \u001b[0;34m**\u001b[0m\u001b[0mkwargs\u001b[0m\u001b[0;34m)\u001b[0m\u001b[0;34m\u001b[0m\u001b[0;34m\u001b[0m\u001b[0m\n\u001b[1;32m     98\u001b[0m \u001b[0;34m\u001b[0m\u001b[0m\n",
      "\u001b[0;32m/opt/conda/lib/python3.6/site-packages/torch/jit/_trace.py\u001b[0m in \u001b[0;36mtrace\u001b[0;34m(func, example_inputs, optimize, check_trace, check_inputs, check_tolerance, strict, _force_outplace, _module_class, _compilation_unit)\u001b[0m\n\u001b[1;32m    740\u001b[0m             \u001b[0mstrict\u001b[0m\u001b[0;34m,\u001b[0m\u001b[0;34m\u001b[0m\u001b[0;34m\u001b[0m\u001b[0m\n\u001b[1;32m    741\u001b[0m             \u001b[0m_force_outplace\u001b[0m\u001b[0;34m,\u001b[0m\u001b[0;34m\u001b[0m\u001b[0;34m\u001b[0m\u001b[0m\n\u001b[0;32m--> 742\u001b[0;31m             \u001b[0m_module_class\u001b[0m\u001b[0;34m,\u001b[0m\u001b[0;34m\u001b[0m\u001b[0;34m\u001b[0m\u001b[0m\n\u001b[0m\u001b[1;32m    743\u001b[0m         )\n\u001b[1;32m    744\u001b[0m \u001b[0;34m\u001b[0m\u001b[0m\n",
      "\u001b[0;32m/opt/conda/lib/python3.6/site-packages/torch/jit/_trace.py\u001b[0m in \u001b[0;36mtrace_module\u001b[0;34m(mod, inputs, optimize, check_trace, check_inputs, check_tolerance, strict, _force_outplace, _module_class, _compilation_unit)\u001b[0m\n\u001b[1;32m    964\u001b[0m                         \u001b[0m_force_outplace\u001b[0m\u001b[0;34m,\u001b[0m\u001b[0;34m\u001b[0m\u001b[0;34m\u001b[0m\u001b[0m\n\u001b[1;32m    965\u001b[0m                         \u001b[0;32mTrue\u001b[0m\u001b[0;34m,\u001b[0m\u001b[0;34m\u001b[0m\u001b[0;34m\u001b[0m\u001b[0m\n\u001b[0;32m--> 966\u001b[0;31m                         \u001b[0m_module_class\u001b[0m\u001b[0;34m,\u001b[0m\u001b[0;34m\u001b[0m\u001b[0;34m\u001b[0m\u001b[0m\n\u001b[0m\u001b[1;32m    967\u001b[0m                     )\n\u001b[1;32m    968\u001b[0m     \u001b[0;32mfinally\u001b[0m\u001b[0;34m:\u001b[0m\u001b[0;34m\u001b[0m\u001b[0;34m\u001b[0m\u001b[0m\n",
      "\u001b[0;32m/opt/conda/lib/python3.6/site-packages/torch/autograd/grad_mode.py\u001b[0m in \u001b[0;36mdecorate_context\u001b[0;34m(*args, **kwargs)\u001b[0m\n\u001b[1;32m     24\u001b[0m         \u001b[0;32mdef\u001b[0m \u001b[0mdecorate_context\u001b[0m\u001b[0;34m(\u001b[0m\u001b[0;34m*\u001b[0m\u001b[0margs\u001b[0m\u001b[0;34m,\u001b[0m \u001b[0;34m**\u001b[0m\u001b[0mkwargs\u001b[0m\u001b[0;34m)\u001b[0m\u001b[0;34m:\u001b[0m\u001b[0;34m\u001b[0m\u001b[0;34m\u001b[0m\u001b[0m\n\u001b[1;32m     25\u001b[0m             \u001b[0;32mwith\u001b[0m \u001b[0mself\u001b[0m\u001b[0;34m.\u001b[0m\u001b[0m__class__\u001b[0m\u001b[0;34m(\u001b[0m\u001b[0;34m)\u001b[0m\u001b[0;34m:\u001b[0m\u001b[0;34m\u001b[0m\u001b[0;34m\u001b[0m\u001b[0m\n\u001b[0;32m---> 26\u001b[0;31m                 \u001b[0;32mreturn\u001b[0m \u001b[0mfunc\u001b[0m\u001b[0;34m(\u001b[0m\u001b[0;34m*\u001b[0m\u001b[0margs\u001b[0m\u001b[0;34m,\u001b[0m \u001b[0;34m**\u001b[0m\u001b[0mkwargs\u001b[0m\u001b[0;34m)\u001b[0m\u001b[0;34m\u001b[0m\u001b[0;34m\u001b[0m\u001b[0m\n\u001b[0m\u001b[1;32m     27\u001b[0m         \u001b[0;32mreturn\u001b[0m \u001b[0mcast\u001b[0m\u001b[0;34m(\u001b[0m\u001b[0mF\u001b[0m\u001b[0;34m,\u001b[0m \u001b[0mdecorate_context\u001b[0m\u001b[0;34m)\u001b[0m\u001b[0;34m\u001b[0m\u001b[0;34m\u001b[0m\u001b[0m\n\u001b[1;32m     28\u001b[0m \u001b[0;34m\u001b[0m\u001b[0m\n",
      "\u001b[0;32m/opt/conda/lib/python3.6/site-packages/torch/jit/_trace.py\u001b[0m in \u001b[0;36m_check_trace\u001b[0;34m(check_inputs, func, traced_func, check_tolerance, strict, force_outplace, is_trace_module, _module_class)\u001b[0m\n\u001b[1;32m    507\u001b[0m             \u001b[0;32mreturn\u001b[0m \u001b[0mall_ok\u001b[0m\u001b[0;34m\u001b[0m\u001b[0;34m\u001b[0m\u001b[0m\n\u001b[1;32m    508\u001b[0m \u001b[0;34m\u001b[0m\u001b[0m\n\u001b[0;32m--> 509\u001b[0;31m         \u001b[0mtraced_outs\u001b[0m \u001b[0;34m=\u001b[0m \u001b[0mrun_mod_and_filter_tensor_outputs\u001b[0m\u001b[0;34m(\u001b[0m\u001b[0mtraced_func\u001b[0m\u001b[0;34m,\u001b[0m \u001b[0minputs\u001b[0m\u001b[0;34m,\u001b[0m \u001b[0;34m\"trace\"\u001b[0m\u001b[0;34m)\u001b[0m\u001b[0;34m\u001b[0m\u001b[0;34m\u001b[0m\u001b[0m\n\u001b[0m\u001b[1;32m    510\u001b[0m         \u001b[0mfn_outs\u001b[0m \u001b[0;34m=\u001b[0m \u001b[0mrun_mod_and_filter_tensor_outputs\u001b[0m\u001b[0;34m(\u001b[0m\u001b[0mfunc\u001b[0m\u001b[0;34m,\u001b[0m \u001b[0minputs\u001b[0m\u001b[0;34m,\u001b[0m \u001b[0;34m\"Python function\"\u001b[0m\u001b[0;34m)\u001b[0m\u001b[0;34m\u001b[0m\u001b[0;34m\u001b[0m\u001b[0m\n\u001b[1;32m    511\u001b[0m         \u001b[0;32mif\u001b[0m \u001b[0mcompare_outputs\u001b[0m\u001b[0;34m(\u001b[0m\u001b[0mtraced_outs\u001b[0m\u001b[0;34m,\u001b[0m \u001b[0mfn_outs\u001b[0m\u001b[0;34m,\u001b[0m \u001b[0;34m\"Python function\"\u001b[0m\u001b[0;34m)\u001b[0m\u001b[0;34m:\u001b[0m\u001b[0;34m\u001b[0m\u001b[0;34m\u001b[0m\u001b[0m\n",
      "\u001b[0;32m/opt/conda/lib/python3.6/site-packages/torch/jit/_trace.py\u001b[0m in \u001b[0;36mrun_mod_and_filter_tensor_outputs\u001b[0;34m(mod, inputs, running_what)\u001b[0m\n\u001b[1;32m    449\u001b[0m                     \u001b[0mtensor_compare_errors\u001b[0m\u001b[0;34m,\u001b[0m\u001b[0;34m\u001b[0m\u001b[0;34m\u001b[0m\u001b[0m\n\u001b[1;32m    450\u001b[0m                     \u001b[0mextra_msg\u001b[0m\u001b[0;34m=\u001b[0m\u001b[0mmsg\u001b[0m\u001b[0;34m,\u001b[0m\u001b[0;34m\u001b[0m\u001b[0;34m\u001b[0m\u001b[0m\n\u001b[0;32m--> 451\u001b[0;31m                 ) from e\n\u001b[0m\u001b[1;32m    452\u001b[0m \u001b[0;34m\u001b[0m\u001b[0m\n\u001b[1;32m    453\u001b[0m         \u001b[0mhas_warned\u001b[0m \u001b[0;34m=\u001b[0m \u001b[0;34m[\u001b[0m\u001b[0;32mFalse\u001b[0m\u001b[0;34m]\u001b[0m\u001b[0;34m\u001b[0m\u001b[0;34m\u001b[0m\u001b[0m\n",
      "\u001b[0;31mTracingCheckError\u001b[0m: Tracing failed sanity checks!\nencountered an exception while running the trace with test inputs.\nException:\n\tCannot compare two tensors on different devices. Got: cuda:0 and cuda:1\nERROR: Graphs differed across invocations!\n\tGraph diff:\n\t\t  graph(%self : __torch__.catalyst.utils.tracing._ForwardOverrideModel,\n\t\t        %obj : Tensor):\n\t\t-   %2 : __torch__.torch.nn.parallel.data_parallel.DataParallel = prim::GetAttr[name=\"model\"](%self)\n\t\t-   %3 : __torch__.torch.nn.modules.container.Sequential = prim::GetAttr[name=\"module\"](%2)\n\t\t-   %4 : __torch__.torch.nn.modules.linear.Linear = prim::GetAttr[name=\"4\"](%3)\n\t\t-   %5 : Tensor = prim::GetAttr[name=\"bias\"](%4)\n\t\t-   %6 : __torch__.torch.nn.parallel.data_parallel.DataParallel = prim::GetAttr[name=\"model\"](%self)\n\t\t-   %7 : __torch__.torch.nn.modules.container.Sequential = prim::GetAttr[name=\"module\"](%6)\n\t\t-   %8 : __torch__.torch.nn.modules.linear.Linear = prim::GetAttr[name=\"4\"](%7)\n\t\t-   %9 : Tensor = prim::GetAttr[name=\"weight\"](%8)\n\t\t-   %10 : __torch__.torch.nn.parallel.data_parallel.DataParallel = prim::GetAttr[name=\"model\"](%self)\n\t\t-   %11 : __torch__.torch.nn.modules.container.Sequential = prim::GetAttr[name=\"module\"](%10)\n\t\t-   %12 : __torch__.torch.nn.modules.linear.Linear = prim::GetAttr[name=\"2\"](%11)\n\t\t-   %13 : Tensor = prim::GetAttr[name=\"bias\"](%12)\n\t\t-   %14 : __torch__.torch.nn.parallel.data_parallel.DataParallel = prim::GetAttr[name=\"model\"](%self)\n\t\t-   %15 : __torch__.torch.nn.modules.container.Sequential = prim::GetAttr[name=\"module\"](%14)\n\t\t-   %16 : __torch__.torch.nn.modules.linear.Linear = prim::GetAttr[name=\"2\"](%15)\n\t\t-   %17 : Tensor = prim::GetAttr[name=\"weight\"](%16)\n\t\t-   %18 : __torch__.torch.nn.parallel.data_parallel.DataParallel = prim::GetAttr[name=\"model\"](%self)\n\t\t-   %19 : __torch__.torch.nn.modules.container.Sequential = prim::GetAttr[name=\"module\"](%18)\n\t\t-   %20 : __torch__.torch.nn.modules.linear.Linear = prim::GetAttr[name=\"0\"](%19)\n\t\t-   %21 : Tensor = prim::GetAttr[name=\"bias\"](%20)\n\t\t-   %22 : __torch__.torch.nn.parallel.data_parallel.DataParallel = prim::GetAttr[name=\"model\"](%self)\n\t\t-   %23 : __torch__.torch.nn.modules.container.Sequential = prim::GetAttr[name=\"module\"](%22)\n\t\t-   %24 : __torch__.torch.nn.modules.linear.Linear = prim::GetAttr[name=\"0\"](%23)\n\t\t-   %25 : Tensor = prim::GetAttr[name=\"weight\"](%24)\n\t\t-   %26 : (Tensor, Tensor) = ^Scatter([0, 1], None, 0)(%obj) # /opt/conda/lib/python3.6/site-packages/torch/nn/parallel/scatter_gather.py:13:0\n\t\t?     -\n\t\t+   %2 : (Tensor, Tensor) = ^Scatter([0, 1], None, 0)(%obj) # /opt/conda/lib/python3.6/site-packages/torch/nn/parallel/scatter_gather.py:13:0\n\t\t-   %27 : (Tensor, Tensor, Tensor, Tensor, Tensor, Tensor, Tensor, Tensor, Tensor, Tensor, Tensor, Tensor) = ^Broadcast([0, 1])(%25, %21, %17, %13, %9, %5) # /opt/conda/lib/python3.6/site-packages/torch/nn/parallel/replicate.py:71:0\n\t\t    %i.1 : Tensor = prim::Constant[value=<Tensor>]() # /opt/conda/lib/python3.6/site-packages/torch/nn/parallel/scatter_gather.py:55:0\n\t\t    %i : Tensor = prim::Constant[value=<Tensor>]() # /opt/conda/lib/python3.6/site-packages/torch/nn/parallel/scatter_gather.py:55:0\n\t\t-   %30 : Tensor = ^Gather(0, 0)(%i.1, %i) # /opt/conda/lib/python3.6/site-packages/torch/nn/parallel/scatter_gather.py:55:0\n\t\t?    ^^\n\t\t+   %5 : Tensor = ^Gather(0, 0)(%i.1, %i) # /opt/conda/lib/python3.6/site-packages/torch/nn/parallel/scatter_gather.py:55:0\n\t\t?    ^\n\t\t-   %31 : int = prim::Constant[value=32]() # /opt/conda/lib/python3.6/site-packages/torch/nn/parallel/comm.py:230:0\n\t\t?    ^^\n\t\t+   %6 : int = prim::Constant[value=32]() # /opt/conda/lib/python3.6/site-packages/torch/nn/parallel/comm.py:230:0\n\t\t?    ^\n\t\t-   %32 : int = prim::Constant[value=10]() # /opt/conda/lib/python3.6/site-packages/torch/nn/parallel/comm.py:230:0\n\t\t?    ^^\n\t\t+   %7 : int = prim::Constant[value=10]() # /opt/conda/lib/python3.6/site-packages/torch/nn/parallel/comm.py:230:0\n\t\t?    ^\n\t\t-   %33 : int[] = prim::ListConstruct(%31, %32)\n\t\t?    ^^                                ^^   ^^\n\t\t+   %8 : int[] = prim::ListConstruct(%6, %7)\n\t\t?    ^                                ^   ^\n\t\t-   %34 : int = prim::Constant[value=6]() # /opt/conda/lib/python3.6/site-packages/torch/nn/parallel/comm.py:230:0\n\t\t?    ^^\n\t\t+   %9 : int = prim::Constant[value=6]() # /opt/conda/lib/python3.6/site-packages/torch/nn/parallel/comm.py:230:0\n\t\t?    ^\n\t\t+   %10 : int = prim::Constant[value=0]() # /opt/conda/lib/python3.6/site-packages/torch/nn/parallel/comm.py:230:0\n\t\t+   %11 : Device = prim::Constant[value=\"cuda:0\"]() # /opt/conda/lib/python3.6/site-packages/torch/nn/parallel/comm.py:230:0\n\t\t+   %12 : bool = prim::Constant[value=0]() # /opt/conda/lib/python3.6/site-packages/torch/nn/parallel/comm.py:230:0\n\t\t-   %35 : int = prim::Constant[value=0]() # /opt/conda/lib/python3.6/site-packages/torch/nn/parallel/comm.py:230:0\n\t\t?     -\n\t\t+   %13 : int = prim::Constant[value=0]() # /opt/conda/lib/python3.6/site-packages/torch/nn/parallel/comm.py:230:0\n\t\t?    +\n\t\t-   %36 : Device = prim::Constant[value=\"cuda:0\"]() # /opt/conda/lib/python3.6/site-packages/torch/nn/parallel/comm.py:230:0\n\t\t-   %37 : bool = prim::Constant[value=0]() # /opt/conda/lib/python3.6/site-packages/torch/nn/parallel/comm.py:230:0\n\t\t-   %38 : int = prim::Constant[value=0]() # /opt/conda/lib/python3.6/site-packages/torch/nn/parallel/comm.py:230:0\n\t\t-   %39 : Tensor = aten::empty(%33, %34, %35, %36, %37, %38) # /opt/conda/lib/python3.6/site-packages/torch/nn/parallel/comm.py:230:0\n\t\t?    ^^                          --------------------------\n\t\t+   %14 : Tensor = aten::empty(%8, %9, %10, %11, %12, %13) # /opt/conda/lib/python3.6/site-packages/torch/nn/parallel/comm.py:230:0\n\t\t?    ^^                         ++++++++++++++++++++++++\n\t\t-   %40 : int = prim::Constant[value=16]() # /opt/conda/lib/python3.6/site-packages/torch/nn/parallel/comm.py:230:0\n\t\t-   %41 : int = prim::Constant[value=16]() # /opt/conda/lib/python3.6/site-packages/torch/nn/parallel/comm.py:230:0\n\t\t?    -\n\t\t+   %15 : int = prim::Constant[value=16]() # /opt/conda/lib/python3.6/site-packages/torch/nn/parallel/comm.py:230:0\n\t\t?     +\n\t\t+   %16 : int = prim::Constant[value=16]() # /opt/conda/lib/python3.6/site-packages/torch/nn/parallel/comm.py:230:0\n\t\t-   %42 : int[] = prim::ListConstruct(%40, %41)\n\t\t?    ^^                                ^^   -\n\t\t+   %17 : int[] = prim::ListConstruct(%15, %16)\n\t\t?    ^^                                ^^    +\n\t\t-   %43 : int = prim::Constant[value=0]() # /opt/conda/lib/python3.6/site-packages/torch/nn/parallel/comm.py:230:0\n\t\t?    ^^\n\t\t+   %18 : int = prim::Constant[value=0]() # /opt/conda/lib/python3.6/site-packages/torch/nn/parallel/comm.py:230:0\n\t\t?    ^^\n\t\t-   %44 : Tensor[] = aten::split_with_sizes(%39, %42, %43) # /opt/conda/lib/python3.6/site-packages/torch/nn/parallel/comm.py:230:0\n\t\t?    ^^                                      ^^   ^^   ^^\n\t\t+   %19 : Tensor[] = aten::split_with_sizes(%14, %17, %18) # /opt/conda/lib/python3.6/site-packages/torch/nn/parallel/comm.py:230:0\n\t\t?    ^^                                      ^^   ^^   ^^\n\t\t-   %45 : Tensor, %46 : Tensor = prim::ListUnpack(%44)\n\t\t?    ^^            ^^                              ^^\n\t\t+   %20 : Tensor, %21 : Tensor = prim::ListUnpack(%19)\n\t\t?    ^^            ^^                              ^^\n\t\t+   %22 : bool = prim::Constant[value=0]()\n\t\t+   %23 : Tensor = aten::copy_(%20, %i.1, %22) # /opt/conda/lib/python3.6/site-packages/torch/nn/parallel/comm.py:230:0\n\t\t-   %47 : bool = prim::Constant[value=0]()\n\t\t?     -\n\t\t+   %24 : bool = prim::Constant[value=0]()\n\t\t?    +\n\t\t-   %48 : Tensor = aten::copy_(%45, %i.1, %47) # /opt/conda/lib/python3.6/site-packages/torch/nn/parallel/comm.py:230:0\n\t\t-   %49 : bool = prim::Constant[value=0]()\n\t\t-   %50 : Tensor = aten::copy_(%46, %i, %49) # /opt/conda/lib/python3.6/site-packages/torch/nn/parallel/comm.py:230:0\n\t\t?     -                         ^^        -\n\t\t+   %25 : Tensor = aten::copy_(%21, %i, %24) # /opt/conda/lib/python3.6/site-packages/torch/nn/parallel/comm.py:230:0\n\t\t?    +                          ^^       +\n\t\t-   return (%30)\n\t\t?            ^^\n\t\t+   return (%5)\n\t\t?            ^\n\tFirst diverging operator:\n\tNode diff:\n\t\t- %2 : __torch__.torch.nn.parallel.data_parallel.DataParallel = prim::GetAttr[name=\"model\"](%self)\n\t\t+ %2 : (Tensor, Tensor) = ^Scatter([0, 1], None, 0)(%obj) # /opt/conda/lib/python3.6/site-packages/torch/nn/parallel/scatter_gather.py:13:0\n\tCheck source location:\n\t\t/opt/conda/lib/python3.6/site-packages/torch/nn/parallel/scatter_gather.py(13): scatter_map\n\t\t/opt/conda/lib/python3.6/site-packages/torch/nn/parallel/scatter_gather.py(15): scatter_map\n\t\t/opt/conda/lib/python3.6/site-packages/torch/nn/parallel/scatter_gather.py(28): scatter\n\t\t/opt/conda/lib/python3.6/site-packages/torch/nn/parallel/scatter_gather.py(36): scatter_kwargs\n\t\t/opt/conda/lib/python3.6/site-packages/torch/nn/parallel/data_parallel.py(168): scatter\n\t\t/opt/conda/lib/python3.6/site-packages/torch/nn/parallel/data_parallel.py(157): forward\n\t\t/opt/conda/lib/python3.6/site-packages/catalyst/utils/tracing.py(68): forward\n\t\t/opt/conda/lib/python3.6/site-packages/torch/nn/modules/module.py(709): _slow_forward\n\t\t/opt/conda/lib/python3.6/site-packages/torch/nn/modules/module.py(725): _call_impl\n\t\t/opt/conda/lib/python3.6/site-packages/torch/jit/_trace.py(940): trace_module\n\t\t/opt/conda/lib/python3.6/site-packages/torch/jit/_trace.py(335): _check_trace\n\t\t/opt/conda/lib/python3.6/site-packages/torch/autograd/grad_mode.py(26): decorate_context\n\t\t/opt/conda/lib/python3.6/site-packages/torch/jit/_trace.py(966): trace_module\n\t\t/opt/conda/lib/python3.6/site-packages/torch/jit/_trace.py(742): trace\n\t\t/opt/conda/lib/python3.6/site-packages/catalyst/utils/tracing.py(96): __call__\n\t\t<ipython-input-113-1ffb9080a93b>(30): predict_batch\n\t\t/opt/conda/lib/python3.6/site-packages/catalyst/runners/runner.py(449): predict_fn\n\t\t/opt/conda/lib/python3.6/site-packages/catalyst/utils/tracing.py(157): trace_model\n\t\t/opt/conda/lib/python3.6/site-packages/catalyst/runners/runner.py(462): trace\n\t\t<ipython-input-113-1ffb9080a93b>(55): <module>\n\t\t/opt/conda/lib/python3.6/site-packages/IPython/core/interactiveshell.py(3331): run_code\n\t\t/opt/conda/lib/python3.6/site-packages/IPython/core/interactiveshell.py(3254): run_ast_nodes\n\t\t/opt/conda/lib/python3.6/site-packages/IPython/core/interactiveshell.py(3063): run_cell_async\n\t\t/opt/conda/lib/python3.6/site-packages/IPython/core/async_helpers.py(68): _pseudo_sync_runner\n\t\t/opt/conda/lib/python3.6/site-packages/IPython/core/interactiveshell.py(2886): _run_cell\n\t\t/opt/conda/lib/python3.6/site-packages/IPython/core/interactiveshell.py(2858): run_cell\n\t\t/opt/conda/lib/python3.6/site-packages/ipykernel/zmqshell.py(539): run_cell\n\t\t/opt/conda/lib/python3.6/site-packages/ipykernel/ipkernel.py(302): do_execute\n\t\t/opt/conda/lib/python3.6/site-packages/tornado/gen.py(162): _fake_ctx_run\n\t\t/opt/conda/lib/python3.6/site-packages/tornado/gen.py(234): wrapper\n\t\t/opt/conda/lib/python3.6/site-packages/ipykernel/kernelbase.py(542): execute_request\n\t\t/opt/conda/lib/python3.6/site-packages/tornado/gen.py(162): _fake_ctx_run\n\t\t/opt/conda/lib/python3.6/site-packages/tornado/gen.py(234): wrapper\n\t\t/opt/conda/lib/python3.6/site-packages/ipykernel/kernelbase.py(265): dispatch_shell\n\t\t/opt/conda/lib/python3.6/site-packages/tornado/gen.py(162): _fake_ctx_run\n\t\t/opt/conda/lib/python3.6/site-packages/tornado/gen.py(234): wrapper\n\t\t/opt/conda/lib/python3.6/site-packages/ipykernel/kernelbase.py(362): process_one\n\t\t/opt/conda/lib/python3.6/site-packages/tornado/gen.py(775): run\n\t\t/opt/conda/lib/python3.6/site-packages/tornado/gen.py(162): _fake_ctx_run\n\t\t/opt/conda/lib/python3.6/site-packages/tornado/gen.py(814): inner\n\t\t/opt/conda/lib/python3.6/site-packages/tornado/ioloop.py(741): _run_callback\n\t\t/opt/conda/lib/python3.6/site-packages/tornado/ioloop.py(688): <lambda>\n\t\t/opt/conda/lib/python3.6/asyncio/events.py(145): _run\n\t\t/opt/conda/lib/python3.6/asyncio/base_events.py(1462): _run_once\n\t\t/opt/conda/lib/python3.6/asyncio/base_events.py(442): run_forever\n\t\t/opt/conda/lib/python3.6/site-packages/tornado/platform/asyncio.py(199): start\n\t\t/opt/conda/lib/python3.6/site-packages/ipykernel/kernelapp.py(612): start\n\t\t/opt/conda/lib/python3.6/site-packages/traitlets/config/application.py(664): launch_instance\n\t\t/opt/conda/lib/python3.6/site-packages/ipykernel_launcher.py(16): <module>\n\t\t/opt/conda/lib/python3.6/runpy.py(85): _run_code\n\t\t/opt/conda/lib/python3.6/runpy.py(193): _run_module_as_main\n"
     ]
    }
   ],
   "source": [
    "from catalyst import dl\n",
    "\n",
    "\n",
    "# the data\n",
    "train_dataset = MNIST(\"./mnist\", train=True, download=True, transform=ToTensor())\n",
    "valid_dataset = MNIST(\"./mnist\", train=False, download=True, transform=ToTensor())\n",
    "train_loader = DataLoader(train_dataset, batch_size=32)\n",
    "valid_loader = DataLoader(valid_dataset, batch_size=32)\n",
    "\n",
    "# the model\n",
    "model = nn.Sequential(\n",
    "    nn.Linear(28 * 28, 128),\n",
    "    nn.ReLU(),\n",
    "    nn.Linear(128, 128),\n",
    "    nn.ReLU(),\n",
    "    nn.Linear(128, 10),\n",
    ")\n",
    "\n",
    "# the optimizer\n",
    "optimizer = torch.optim.Adam(model.parameters(), lr=1e-3)\n",
    "\n",
    "# the loss\n",
    "criterion = nn.CrossEntropyLoss()\n",
    "\n",
    "# runner\n",
    "class CustomRunner(dl.Runner):\n",
    "    \n",
    "    def predict_batch(self, batch):\n",
    "        # model inference step\n",
    "        return self.model(batch[0].to(self.device).view(batch[0].size(0), -1))\n",
    "    \n",
    "    def _handle_batch(self, batch):\n",
    "        x, y = batch\n",
    "        x = x.view(len(x), -1)\n",
    "        logits = self.model(x)\n",
    "        loss = self.state.criterion(logits, y)\n",
    "        self.state.batch_metrics[\"loss\"] = loss\n",
    "        \n",
    "        if self.state.is_train_loader:\n",
    "            loss.backward()\n",
    "            self.state.optimizer.step()\n",
    "            self.state.optimizer.zero_grad()            \n",
    "\n",
    "runner = CustomRunner()\n",
    "# model training\n",
    "runner.train(\n",
    "    loaders={\"train\": train_loader, \"valid\": valid_loader},\n",
    "    model=model, criterion=criterion, optimizer=optimizer,\n",
    "    num_epochs=1, logdir=\"./logs\", verbose=True,\n",
    ")\n",
    "# model inference\n",
    "for prediction in runner.predict_loader(loader=valid_loader):\n",
    "    assert prediction.detach().cpu().numpy().shape[-1] == 10\n",
    "# model tracing\n",
    "traced_model = runner.trace(loader=valid_loader)\n"
   ]
  },
  {
   "cell_type": "markdown",
   "metadata": {},
   "source": [
    "Дополнительные возможности Catalyst:\n",
    "   - С помощью Catalyst.dl и Catalyst.contrib цикл обучения может быть упрощен. Вы получаете доступ к множеству предопределенных метрик\n",
    "   - Callbacks\n",
    "   - визуализация Catalyst (Alchemy, Neptune, Tensorboard, Wandb)\n",
    "   - большое количество модулей contrib, поддерживаемых сообществом Catalyst\n",
    "   - лучшие практики глубокого обучения, такие как функция \" load_best_\n",
    "   \n",
    "**Дополнительная информация**\n",
    "\n",
    "1. Официальная страница: https://catalyst-team.com/\n",
    "2. GitHub: https://github.com/catalyst-team/catalyst"
   ]
  },
  {
   "cell_type": "markdown",
   "metadata": {},
   "source": []
  }
 ],
 "metadata": {
  "kernelspec": {
   "display_name": "Python 3",
   "language": "python",
   "name": "python3"
  },
  "language_info": {
   "codemirror_mode": {
    "name": "ipython",
    "version": 3
   },
   "file_extension": ".py",
   "mimetype": "text/x-python",
   "name": "python",
   "nbconvert_exporter": "python",
   "pygments_lexer": "ipython3",
   "version": "3.8.6"
  }
 },
 "nbformat": 4,
 "nbformat_minor": 4
}
