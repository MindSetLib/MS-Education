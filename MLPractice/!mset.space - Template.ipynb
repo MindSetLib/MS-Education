{
 "cells": [
  {
   "cell_type": "markdown",
   "metadata": {},
   "source": [
    "### Notebook is created by Mindset internship team. Notebook language is english."
   ]
  },
  {
   "cell_type": "markdown",
   "metadata": {},
   "source": [
    "![](data:image/jpeg;base64,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)"
   ]
  },
  {
   "cell_type": "markdown",
   "metadata": {},
   "source": [
    "## General information\n",
    "https://mset.space - platform for data analysis, model building and implementation into production.\n",
    "\n",
    "\n",
    "Notebooks created by internship team at Mindset\n",
    "https://github.com/MindSetLib/MS-Education\n",
    "\n",
    "Low code ML library\n",
    "https://github.com/MindSetLib/Insolver\n",
    "\n",
    "Telegram channel of mset.space platform\n",
    "https://t.me/msetspace\n",
    "\n",
    "Contact with platform developers:\n",
    "telegram: @frankshikhaliev\n",
    "email: request@mind-set.ru"
   ]
  },
  {
   "cell_type": "markdown",
   "metadata": {},
   "source": [
    "## -------------------------------------------------------"
   ]
  },
  {
   "cell_type": "markdown",
   "metadata": {},
   "source": [
    "# Title\n",
    "The title of the notebook should be coherent with file name. Namely, file name should be:    \n",
    "*mset.space - Title.ipynb*    \n",
    "For example:    \n",
    "*mset.space - Exploration.ipynb*\n",
    "\n",
    "## Purpose\n",
    "State the purpose of the notebook.\n",
    "\n",
    "## Methodology\n",
    "Quickly describe assumptions and processing steps.\n",
    "\n",
    "## WIP - improvements\n",
    "Use this section only if the notebook is not final.\n",
    "\n",
    "Notable TODOs:\n",
    "- todo 1;\n",
    "- todo 2;\n",
    "- todo 3.\n",
    "\n",
    "## Results\n",
    "Describe and comment the most important results.\n",
    "\n",
    "## Suggested next steps\n",
    "State suggested next steps, based on results obtained in this notebook."
   ]
  },
  {
   "cell_type": "markdown",
   "metadata": {},
   "source": [
    "# Setup\n",
    "\n",
    "## Library import\n",
    "We import all the required Python libraries"
   ]
  },
  {
   "cell_type": "markdown",
   "metadata": {},
   "source": [
    "# Parameter definition\n",
    "We set all relevant parameters for our notebook. By convention, parameters are uppercase, while all the \n",
    "other variables follow Python's guidelines."
   ]
  },
  {
   "cell_type": "markdown",
   "metadata": {},
   "source": [
    "# Data import\n",
    "We retrieve all the required data for the analysis."
   ]
  },
  {
   "cell_type": "markdown",
   "metadata": {},
   "source": [
    "# Data processing\n",
    "Put here the core of the notebook. Feel free to further split this section into subsections."
   ]
  },
  {
   "cell_type": "markdown",
   "metadata": {},
   "source": [
    "# References\n",
    "We report here relevant references:\n",
    "1. author1, article1, journal1, year1, url1\n",
    "2. author2, article2, journal2, year2, url2"
   ]
  },
  {
   "cell_type": "code",
   "execution_count": null,
   "metadata": {},
   "outputs": [],
   "source": []
  }
 ],
 "metadata": {
  "kernelspec": {
   "display_name": "Python 3",
   "language": "python",
   "name": "python3"
  },
  "language_info": {
   "codemirror_mode": {
    "name": "ipython",
    "version": 3
   },
   "file_extension": ".py",
   "mimetype": "text/x-python",
   "name": "python",
   "nbconvert_exporter": "python",
   "pygments_lexer": "ipython3",
   "version": "3.8.6"
  }
 },
 "nbformat": 4,
 "nbformat_minor": 4
}
