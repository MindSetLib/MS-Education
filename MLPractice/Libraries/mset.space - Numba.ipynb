{
  "nbformat": 4,
  "nbformat_minor": 0,
  "metadata": {
    "colab": {
      "name": "numba.ipynb",
      "provenance": [],
      "collapsed_sections": [
        "uUdh0_-uudO-",
        "TobiFxKZPSGA",
        "LWiIQC8odG2w",
        "KzLY6rOnzd4q",
        "Mz2d1CSabs9r"
      ]
    },
    "kernelspec": {
      "display_name": "Python 3",
      "name": "python3"
    },
    "language_info": {
      "name": "python"
    }
  },
  "cells": [
    {
      "cell_type": "markdown",
      "metadata": {
        "id": "aNVxJnZP-2kp"
      },
      "source": [
        "# **Numba**\n",
        "### Динамический Python компилятор  \n",
        "\n",
        "![](https://pbs.twimg.com/profile_images/890658899631591424/-omrU6LN_400x400.jpg)"
      ]
    },
    {
      "cell_type": "markdown",
      "metadata": {
        "id": "lOweMcaH1QRx"
      },
      "source": [
        "![](https://cadabra.studio/files/uploads/article%20images/List-of-Best-Backend-Technologies/programming-languages-speed-comparison.png)"
      ]
    },
    {
      "cell_type": "markdown",
      "metadata": {
        "id": "Z-UhqL_J-qkz"
      },
      "source": [
        "Python не самый быстрый язык когда дело касается вычислений и особенно когда такие вычисления выполняются в циклах."
      ]
    },
    {
      "cell_type": "markdown",
      "metadata": {
        "id": "VKLw1Rwg4dWs"
      },
      "source": [
        ">**Причина:** Динамическая типизация  \n",
        ">**Решение:** Наиболее сложные для интерпретатора Python операции обработать более производительными методами"
      ]
    },
    {
      "cell_type": "markdown",
      "metadata": {
        "id": "fP3ui9g7UvaQ"
      },
      "source": [
        "### Компиляторы для Python"
      ]
    },
    {
      "cell_type": "markdown",
      "metadata": {
        "id": "MUgPEUxKVOkC"
      },
      "source": [
        "![](https://drive.google.com/uc?export=view&id=1DaHBULTTQwX2hpQShEJRnJ2_C3uCQbD_)"
      ]
    },
    {
      "cell_type": "markdown",
      "metadata": {
        "id": "p3jgKiKi9OyN"
      },
      "source": [
        "Видео от разработчиков `Numba`:  \n",
        "[Numba Python bytecode to LLVM translator (анг.)](https://www.youtube.com/watch?v=WYi1cymszqY)  \n",
        "[Как ускорить существующую кодовую базу с помощью Numba | SciPy 2019 | Сиу Кван Лам, Стэнли Зайберт (анг.)](https://www.youtube.com/watch?v=-4tD8kNHdXs)"
      ]
    },
    {
      "cell_type": "markdown",
      "metadata": {
        "id": "UCTdtzBwkRZ4"
      },
      "source": [
        "## Установка"
      ]
    },
    {
      "cell_type": "markdown",
      "metadata": {
        "id": "Jm8W-_wek0w4"
      },
      "source": [
        "```\n",
        "conda install numba\n",
        "```  \n",
        "```\n",
        "pip install numba\n",
        "```"
      ]
    },
    {
      "cell_type": "markdown",
      "metadata": {
        "id": "GMPsR24rkpPp"
      },
      "source": [
        "## Использование"
      ]
    },
    {
      "cell_type": "code",
      "metadata": {
        "id": "ssFlUm8Y6Syf"
      },
      "source": [
        "import numba"
      ],
      "execution_count": null,
      "outputs": []
    },
    {
      "cell_type": "code",
      "metadata": {
        "id": "awogCmHoh8Fa"
      },
      "source": [
        "@numba.jit\n",
        "def mysum(a, b):\n",
        "    return a + b"
      ],
      "execution_count": null,
      "outputs": []
    },
    {
      "cell_type": "code",
      "metadata": {
        "id": "Mw0Sdq56iC0A",
        "colab": {
          "base_uri": "https://localhost:8080/"
        },
        "outputId": "95ebaae7-b304-45aa-9924-b25a7509bfd9"
      },
      "source": [
        "mysum(500, 637)\n",
        "mysum(500.7, 637.7)"
      ],
      "execution_count": null,
      "outputs": [
        {
          "output_type": "execute_result",
          "data": {
            "text/plain": [
              "1138.4"
            ]
          },
          "metadata": {},
          "execution_count": 5
        }
      ]
    },
    {
      "cell_type": "code",
      "metadata": {
        "id": "KlT2L07Oi4_t",
        "colab": {
          "base_uri": "https://localhost:8080/"
        },
        "outputId": "98974dd4-7c95-4a3b-d186-b7cfaaebd476"
      },
      "source": [
        "mysum.inspect_types()"
      ],
      "execution_count": null,
      "outputs": [
        {
          "output_type": "stream",
          "name": "stdout",
          "text": [
            "mysum (int64, int64)\n",
            "--------------------------------------------------------------------------------\n",
            "# File: <ipython-input-2-ba6902b71b76>\n",
            "# --- LINE 1 --- \n",
            "\n",
            "@numba.jit\n",
            "\n",
            "# --- LINE 2 --- \n",
            "\n",
            "def mysum(a, b):\n",
            "\n",
            "    # --- LINE 3 --- \n",
            "    # label 0\n",
            "    #   a = arg(0, name=a)  :: int64\n",
            "    #   b = arg(1, name=b)  :: int64\n",
            "    #   $6binary_add.2 = a + b  :: int64\n",
            "    #   del b\n",
            "    #   del a\n",
            "    #   $8return_value.3 = cast(value=$6binary_add.2)  :: int64\n",
            "    #   del $6binary_add.2\n",
            "    #   return $8return_value.3\n",
            "\n",
            "    return a + b\n",
            "\n",
            "\n",
            "================================================================================\n",
            "mysum (float64, float64)\n",
            "--------------------------------------------------------------------------------\n",
            "# File: <ipython-input-2-ba6902b71b76>\n",
            "# --- LINE 1 --- \n",
            "\n",
            "@numba.jit\n",
            "\n",
            "# --- LINE 2 --- \n",
            "\n",
            "def mysum(a, b):\n",
            "\n",
            "    # --- LINE 3 --- \n",
            "    # label 0\n",
            "    #   a = arg(0, name=a)  :: float64\n",
            "    #   b = arg(1, name=b)  :: float64\n",
            "    #   $6binary_add.2 = a + b  :: float64\n",
            "    #   del b\n",
            "    #   del a\n",
            "    #   $8return_value.3 = cast(value=$6binary_add.2)  :: float64\n",
            "    #   del $6binary_add.2\n",
            "    #   return $8return_value.3\n",
            "\n",
            "    return a + b\n",
            "\n",
            "\n",
            "================================================================================\n"
          ]
        }
      ]
    },
    {
      "cell_type": "code",
      "metadata": {
        "id": "cqng4pzlhoU7",
        "colab": {
          "base_uri": "https://localhost:8080/"
        },
        "outputId": "0eddc296-e323-459d-d2d4-56fbb36b37d2"
      },
      "source": [
        "for key, value in mysum.inspect_llvm().items():\n",
        "    print(f'{key}: {value}')\n",
        "\n",
        "# for key, value in mysum.inspect_asm.items():\n",
        "#     print(f'{key}: {value}')"
      ],
      "execution_count": null,
      "outputs": [
        {
          "output_type": "stream",
          "name": "stdout",
          "text": [
            "(int64, int64): ; ModuleID = 'mysum'\n",
            "source_filename = \"<string>\"\n",
            "target datalayout = \"e-m:e-p270:32:32-p271:32:32-p272:64:64-i64:64-f80:128-n8:16:32:64-S128\"\n",
            "target triple = \"x86_64-unknown-linux-gnu\"\n",
            "\n",
            "@\"_ZN08NumbaEnv8__main__9mysum$241Exx\" = common local_unnamed_addr global i8* null\n",
            "@.const.mysum = internal constant [6 x i8] c\"mysum\\00\"\n",
            "@PyExc_RuntimeError = external global i8\n",
            "@\".const.missing Environment: _ZN08NumbaEnv8__main__9mysum$241Exx\" = internal constant [57 x i8] c\"missing Environment: _ZN08NumbaEnv8__main__9mysum$241Exx\\00\"\n",
            "\n",
            "; Function Attrs: nofree norecurse nounwind writeonly\n",
            "define i32 @\"_ZN8__main__9mysum$241Exx\"(i64* noalias nocapture %retptr, { i8*, i32, i8* }** noalias nocapture readnone %excinfo, i64 %arg.a, i64 %arg.b) local_unnamed_addr #0 {\n",
            "entry:\n",
            "  %.14 = add nsw i64 %arg.b, %arg.a\n",
            "  store i64 %.14, i64* %retptr, align 8\n",
            "  ret i32 0\n",
            "}\n",
            "\n",
            "define i8* @\"_ZN7cpython8__main__9mysum$241Exx\"(i8* nocapture readnone %py_closure, i8* %py_args, i8* nocapture readnone %py_kws) local_unnamed_addr {\n",
            "entry:\n",
            "  %.5 = alloca i8*, align 8\n",
            "  %.6 = alloca i8*, align 8\n",
            "  %.7 = call i32 (i8*, i8*, i64, i64, ...) @PyArg_UnpackTuple(i8* %py_args, i8* getelementptr inbounds ([6 x i8], [6 x i8]* @.const.mysum, i64 0, i64 0), i64 2, i64 2, i8** nonnull %.5, i8** nonnull %.6)\n",
            "  %.8 = icmp eq i32 %.7, 0\n",
            "  br i1 %.8, label %entry.if, label %entry.endif, !prof !0\n",
            "\n",
            "entry.if:                                         ; preds = %entry.endif.endif.endif.endif.endif, %entry.endif.endif.endif, %entry\n",
            "  ret i8* null\n",
            "\n",
            "entry.endif:                                      ; preds = %entry\n",
            "  %.12 = load i8*, i8** @\"_ZN08NumbaEnv8__main__9mysum$241Exx\", align 8\n",
            "  %.17 = icmp eq i8* %.12, null\n",
            "  br i1 %.17, label %entry.endif.if, label %entry.endif.endif, !prof !0\n",
            "\n",
            "entry.endif.if:                                   ; preds = %entry.endif\n",
            "  call void @PyErr_SetString(i8* nonnull @PyExc_RuntimeError, i8* getelementptr inbounds ([57 x i8], [57 x i8]* @\".const.missing Environment: _ZN08NumbaEnv8__main__9mysum$241Exx\", i64 0, i64 0))\n",
            "  ret i8* null\n",
            "\n",
            "entry.endif.endif:                                ; preds = %entry.endif\n",
            "  %.21 = load i8*, i8** %.5, align 8\n",
            "  %.24 = call i8* @PyNumber_Long(i8* %.21)\n",
            "  %.25 = icmp eq i8* %.24, null\n",
            "  br i1 %.25, label %entry.endif.endif.endif, label %entry.endif.endif.if, !prof !0\n",
            "\n",
            "entry.endif.endif.if:                             ; preds = %entry.endif.endif\n",
            "  %.27 = call i64 @PyLong_AsLongLong(i8* nonnull %.24)\n",
            "  call void @Py_DecRef(i8* nonnull %.24)\n",
            "  br label %entry.endif.endif.endif\n",
            "\n",
            "entry.endif.endif.endif:                          ; preds = %entry.endif.endif, %entry.endif.endif.if\n",
            "  %.22.0 = phi i64 [ %.27, %entry.endif.endif.if ], [ 0, %entry.endif.endif ]\n",
            "  %.32 = call i8* @PyErr_Occurred()\n",
            "  %.33 = icmp eq i8* %.32, null\n",
            "  br i1 %.33, label %entry.endif.endif.endif.endif, label %entry.if, !prof !1\n",
            "\n",
            "entry.endif.endif.endif.endif:                    ; preds = %entry.endif.endif.endif\n",
            "  %.37 = load i8*, i8** %.6, align 8\n",
            "  %.40 = call i8* @PyNumber_Long(i8* %.37)\n",
            "  %.41 = icmp eq i8* %.40, null\n",
            "  br i1 %.41, label %entry.endif.endif.endif.endif.endif, label %entry.endif.endif.endif.endif.if, !prof !0\n",
            "\n",
            "entry.endif.endif.endif.endif.if:                 ; preds = %entry.endif.endif.endif.endif\n",
            "  %.43 = call i64 @PyLong_AsLongLong(i8* nonnull %.40)\n",
            "  call void @Py_DecRef(i8* nonnull %.40)\n",
            "  br label %entry.endif.endif.endif.endif.endif\n",
            "\n",
            "entry.endif.endif.endif.endif.endif:              ; preds = %entry.endif.endif.endif.endif, %entry.endif.endif.endif.endif.if\n",
            "  %.38.0 = phi i64 [ %.43, %entry.endif.endif.endif.endif.if ], [ 0, %entry.endif.endif.endif.endif ]\n",
            "  %.48 = call i8* @PyErr_Occurred()\n",
            "  %.49 = icmp eq i8* %.48, null\n",
            "  br i1 %.49, label %entry.endif.endif.endif.endif.endif.endif, label %entry.if, !prof !1\n",
            "\n",
            "entry.endif.endif.endif.endif.endif.endif:        ; preds = %entry.endif.endif.endif.endif.endif\n",
            "  %.14.i = add nsw i64 %.38.0, %.22.0\n",
            "  %.74 = call i8* @PyLong_FromLongLong(i64 %.14.i)\n",
            "  ret i8* %.74\n",
            "}\n",
            "\n",
            "declare i32 @PyArg_UnpackTuple(i8*, i8*, i64, i64, ...) local_unnamed_addr\n",
            "\n",
            "declare void @PyErr_SetString(i8*, i8*) local_unnamed_addr\n",
            "\n",
            "declare i8* @PyNumber_Long(i8*) local_unnamed_addr\n",
            "\n",
            "declare i64 @PyLong_AsLongLong(i8*) local_unnamed_addr\n",
            "\n",
            "declare void @Py_DecRef(i8*) local_unnamed_addr\n",
            "\n",
            "declare i8* @PyErr_Occurred() local_unnamed_addr\n",
            "\n",
            "declare i8* @PyLong_FromLongLong(i64) local_unnamed_addr\n",
            "\n",
            "; Function Attrs: norecurse nounwind readnone\n",
            "define i64 @\"cfunc._ZN8__main__9mysum$241Exx\"(i64 %.1, i64 %.2) local_unnamed_addr #1 {\n",
            "entry:\n",
            "  %.14.i = add nsw i64 %.2, %.1\n",
            "  ret i64 %.14.i\n",
            "}\n",
            "\n",
            "; Function Attrs: nounwind\n",
            "declare void @llvm.stackprotector(i8*, i8**) #2\n",
            "\n",
            "attributes #0 = { nofree norecurse nounwind writeonly }\n",
            "attributes #1 = { norecurse nounwind readnone }\n",
            "attributes #2 = { nounwind }\n",
            "\n",
            "!0 = !{!\"branch_weights\", i32 1, i32 99}\n",
            "!1 = !{!\"branch_weights\", i32 99, i32 1}\n",
            "\n",
            "(float64, float64): ; ModuleID = 'mysum'\n",
            "source_filename = \"<string>\"\n",
            "target datalayout = \"e-m:e-p270:32:32-p271:32:32-p272:64:64-i64:64-f80:128-n8:16:32:64-S128\"\n",
            "target triple = \"x86_64-unknown-linux-gnu\"\n",
            "\n",
            "@\"_ZN08NumbaEnv8__main__9mysum$242Edd\" = common local_unnamed_addr global i8* null\n",
            "@.const.mysum = internal constant [6 x i8] c\"mysum\\00\"\n",
            "@PyExc_RuntimeError = external global i8\n",
            "@\".const.missing Environment: _ZN08NumbaEnv8__main__9mysum$242Edd\" = internal constant [57 x i8] c\"missing Environment: _ZN08NumbaEnv8__main__9mysum$242Edd\\00\"\n",
            "\n",
            "; Function Attrs: nofree norecurse nounwind writeonly\n",
            "define i32 @\"_ZN8__main__9mysum$242Edd\"(double* noalias nocapture %retptr, { i8*, i32, i8* }** noalias nocapture readnone %excinfo, double %arg.a, double %arg.b) local_unnamed_addr #0 {\n",
            "entry:\n",
            "  %.14 = fadd double %arg.a, %arg.b\n",
            "  store double %.14, double* %retptr, align 8\n",
            "  ret i32 0\n",
            "}\n",
            "\n",
            "define i8* @\"_ZN7cpython8__main__9mysum$242Edd\"(i8* nocapture readnone %py_closure, i8* %py_args, i8* nocapture readnone %py_kws) local_unnamed_addr {\n",
            "entry:\n",
            "  %.5 = alloca i8*, align 8\n",
            "  %.6 = alloca i8*, align 8\n",
            "  %.7 = call i32 (i8*, i8*, i64, i64, ...) @PyArg_UnpackTuple(i8* %py_args, i8* getelementptr inbounds ([6 x i8], [6 x i8]* @.const.mysum, i64 0, i64 0), i64 2, i64 2, i8** nonnull %.5, i8** nonnull %.6)\n",
            "  %.8 = icmp eq i32 %.7, 0\n",
            "  br i1 %.8, label %entry.if, label %entry.endif, !prof !0\n",
            "\n",
            "entry.if:                                         ; preds = %entry.endif.endif.endif, %entry.endif.endif, %entry\n",
            "  ret i8* null\n",
            "\n",
            "entry.endif:                                      ; preds = %entry\n",
            "  %.12 = load i8*, i8** @\"_ZN08NumbaEnv8__main__9mysum$242Edd\", align 8\n",
            "  %.17 = icmp eq i8* %.12, null\n",
            "  br i1 %.17, label %entry.endif.if, label %entry.endif.endif, !prof !0\n",
            "\n",
            "entry.endif.if:                                   ; preds = %entry.endif\n",
            "  call void @PyErr_SetString(i8* nonnull @PyExc_RuntimeError, i8* getelementptr inbounds ([57 x i8], [57 x i8]* @\".const.missing Environment: _ZN08NumbaEnv8__main__9mysum$242Edd\", i64 0, i64 0))\n",
            "  ret i8* null\n",
            "\n",
            "entry.endif.endif:                                ; preds = %entry.endif\n",
            "  %.21 = load i8*, i8** %.5, align 8\n",
            "  %.22 = call i8* @PyNumber_Float(i8* %.21)\n",
            "  %.23 = call double @PyFloat_AsDouble(i8* %.22)\n",
            "  call void @Py_DecRef(i8* %.22)\n",
            "  %.25 = call i8* @PyErr_Occurred()\n",
            "  %.26 = icmp eq i8* %.25, null\n",
            "  br i1 %.26, label %entry.endif.endif.endif, label %entry.if, !prof !1\n",
            "\n",
            "entry.endif.endif.endif:                          ; preds = %entry.endif.endif\n",
            "  %.30 = load i8*, i8** %.6, align 8\n",
            "  %.31 = call i8* @PyNumber_Float(i8* %.30)\n",
            "  %.32 = call double @PyFloat_AsDouble(i8* %.31)\n",
            "  call void @Py_DecRef(i8* %.31)\n",
            "  %.34 = call i8* @PyErr_Occurred()\n",
            "  %.35 = icmp eq i8* %.34, null\n",
            "  br i1 %.35, label %entry.endif.endif.endif.endif, label %entry.if, !prof !1\n",
            "\n",
            "entry.endif.endif.endif.endif:                    ; preds = %entry.endif.endif.endif\n",
            "  %.14.i = fadd double %.23, %.32\n",
            "  %.58 = call i8* @PyFloat_FromDouble(double %.14.i)\n",
            "  ret i8* %.58\n",
            "}\n",
            "\n",
            "declare i32 @PyArg_UnpackTuple(i8*, i8*, i64, i64, ...) local_unnamed_addr\n",
            "\n",
            "declare void @PyErr_SetString(i8*, i8*) local_unnamed_addr\n",
            "\n",
            "declare i8* @PyNumber_Float(i8*) local_unnamed_addr\n",
            "\n",
            "declare double @PyFloat_AsDouble(i8*) local_unnamed_addr\n",
            "\n",
            "declare void @Py_DecRef(i8*) local_unnamed_addr\n",
            "\n",
            "declare i8* @PyErr_Occurred() local_unnamed_addr\n",
            "\n",
            "declare i8* @PyFloat_FromDouble(double) local_unnamed_addr\n",
            "\n",
            "; Function Attrs: norecurse nounwind readnone\n",
            "define double @\"cfunc._ZN8__main__9mysum$242Edd\"(double %.1, double %.2) local_unnamed_addr #1 {\n",
            "entry:\n",
            "  %.14.i = fadd double %.1, %.2\n",
            "  ret double %.14.i\n",
            "}\n",
            "\n",
            "; Function Attrs: nounwind\n",
            "declare void @llvm.stackprotector(i8*, i8**) #2\n",
            "\n",
            "attributes #0 = { nofree norecurse nounwind writeonly }\n",
            "attributes #1 = { norecurse nounwind readnone }\n",
            "attributes #2 = { nounwind }\n",
            "\n",
            "!0 = !{!\"branch_weights\", i32 1, i32 99}\n",
            "!1 = !{!\"branch_weights\", i32 99, i32 1}\n",
            "\n"
          ]
        }
      ]
    },
    {
      "cell_type": "markdown",
      "metadata": {
        "id": "RExDXb5P8r3F"
      },
      "source": [
        "## Как работает"
      ]
    },
    {
      "cell_type": "markdown",
      "metadata": {
        "id": "NzgYjlyw8yyE"
      },
      "source": [
        "![](https://drive.google.com/uc?export=view&id=1ThpvzJxze5zHMXyM18W-z77Q4V9zv6rT)"
      ]
    },
    {
      "cell_type": "markdown",
      "metadata": {
        "id": "KR-4UNzLykex"
      },
      "source": [
        "[Архитектура библиотеки](https://numba.readthedocs.io/en/stable/developer/architecture.html)"
      ]
    },
    {
      "cell_type": "markdown",
      "metadata": {
        "id": "POaMt_KK-58W"
      },
      "source": [
        "### Декораторы\n",
        "\n",
        "> `@jit` - базовый декоратор     \n",
        "\n",
        "> `@vectorize` - превращает функцию в NumPy `ufunc` (со всеми методами `ufunc` присущими). [Документация](https://numba.readthedocs.io/en/stable/user/vectorize.html#vectorize).  \n",
        "> `@guvectorize` - также как и `@vectorize` создаёт `ufunc`, но общего типа (generalized universal functions). Данные функции могут принимать в качестве параметров не только единичные числовые значения, но и массивы произвольной размерности\n",
        "[Документация](https://numba.readthedocs.io/en/stable/user/vectorize.html#guvectorize).  \n",
        "\n",
        "> `@stencil` - декларирует функцию которая будет использована в качестве ядра для шаблонных вычислений (for a stencil like operation). [Документация](https://numba.readthedocs.io/en/stable/user/stencil.html).  \n",
        "> `@jitclass` - jit декоратор для классов. [Документация](https://numba.readthedocs.io/en/stable/user/jitclass.html#jitclass).  \n",
        "> `@cfunc` - декларирует функцию для использования в качестве вызова из С/С++. [Документация](https://numba.readthedocs.io/en/stable/user/cfunc.html#cfunc).  \n",
        "> `@overload` - позволяет перегружать собственное исполнение для произвольных функций для использования в режиме `nopython` (используется в случае если данная функция не поддерживается numba), например: `@overload(scipy.special.j0)`. [Документация](https://numba.readthedocs.io/en/stable/extending/high-level.html#high-level-extending).  "
      ]
    },
    {
      "cell_type": "markdown",
      "metadata": {
        "id": "nmaOqgCR4yFM"
      },
      "source": [
        "[Документация по jit-компиляции](https://numba.readthedocs.io/en/stable/reference/jit-compilation.html)"
      ]
    },
    {
      "cell_type": "code",
      "metadata": {
        "id": "70i03MOOEQH-"
      },
      "source": [
        "import numpy as np\n",
        "import numba"
      ],
      "execution_count": null,
      "outputs": []
    },
    {
      "cell_type": "code",
      "metadata": {
        "id": "EBDTkPEmp0OF"
      },
      "source": [
        "BOLD = '\\033[1m'\n",
        "END = '\\033[0m'"
      ],
      "execution_count": null,
      "outputs": []
    },
    {
      "cell_type": "markdown",
      "metadata": {
        "id": "6M9jM-en0AJT"
      },
      "source": [
        "## `@jit`"
      ]
    },
    {
      "cell_type": "markdown",
      "metadata": {
        "id": "PkH_rg_PkYET"
      },
      "source": [
        "```\n",
        "@numba.jit(\n",
        "    signature=None,\n",
        "    nopython=False,\n",
        "    nogil=False,\n",
        "    cache=False,\n",
        "    forceobj=False,\n",
        "    parallel=False,\n",
        "    error_model='python',\n",
        "    fastmath=False,\n",
        "    locals={},\n",
        "    boundscheck=False\n",
        "    )\n",
        "```"
      ]
    },
    {
      "cell_type": "code",
      "metadata": {
        "id": "CI79dSdb__Ji"
      },
      "source": [
        "def sum_python(nsamples):\n",
        "    result = 0\n",
        "\n",
        "    for i in range(nsamples):\n",
        "        for j in range(nsamples):\n",
        "            result += i + j\n",
        "    return result\n",
        "\n",
        "\n",
        "@numba.jit(['int64(int64)'], nopython=True)\n",
        "def sum_numba(nsamples):\n",
        "    result = 0\n",
        "\n",
        "    for i in range(nsamples):\n",
        "        for j in range(nsamples):\n",
        "            result += i + j\n",
        "    return result"
      ],
      "execution_count": null,
      "outputs": []
    },
    {
      "cell_type": "code",
      "metadata": {
        "id": "L9q4ULxx-TMA",
        "colab": {
          "base_uri": "https://localhost:8080/"
        },
        "outputId": "c2125a1b-0f5b-47a1-86f2-1a4e5c22d20a"
      },
      "source": [
        "for _ in range(5):\n",
        "    %timeit -n1 -r1 sum_python(1000)"
      ],
      "execution_count": null,
      "outputs": [
        {
          "output_type": "stream",
          "name": "stdout",
          "text": [
            "1 loop, best of 1: 98.4 ms per loop\n",
            "1 loop, best of 1: 91.3 ms per loop\n",
            "1 loop, best of 1: 98.1 ms per loop\n",
            "1 loop, best of 1: 97.1 ms per loop\n",
            "1 loop, best of 1: 93.2 ms per loop\n"
          ]
        }
      ]
    },
    {
      "cell_type": "code",
      "metadata": {
        "id": "mnmxJ6fu-j9N",
        "colab": {
          "base_uri": "https://localhost:8080/"
        },
        "outputId": "6760ca5c-a1b5-432b-f124-9a34630f0d75"
      },
      "source": [
        "for _ in range(5):\n",
        "    %timeit -n1 -r1 sum_numba(1000)"
      ],
      "execution_count": null,
      "outputs": [
        {
          "output_type": "stream",
          "name": "stdout",
          "text": [
            "1 loop, best of 1: 75.4 µs per loop\n",
            "1 loop, best of 1: 3.91 µs per loop\n",
            "1 loop, best of 1: 2.83 µs per loop\n",
            "1 loop, best of 1: 2.65 µs per loop\n",
            "1 loop, best of 1: 2.53 µs per loop\n"
          ]
        }
      ]
    },
    {
      "cell_type": "markdown",
      "metadata": {
        "id": "xDupBDp_u0B2"
      },
      "source": [
        "Как видим первое исполнение функции занимает достаточно много времени. Что можно с этим сделать? Ответ: сигнатуры"
      ]
    },
    {
      "cell_type": "markdown",
      "metadata": {
        "id": "uUdh0_-uudO-"
      },
      "source": [
        "### `nopython=True`\n",
        "`@jit` являясь основным декоратором библиотеки numba предоставляет два режима компиляции, первый пробует скомпилировать функцию в nopython режиме, в случае неудачи, numba попробует скомпилировать функцию в объектном режиме.\n",
        "\n",
        "Хотя Numba и предоставляет функционал по ускорению работы циклов (looplifting), но именно компиляция функций в режиме nopython даёт наибольший прирост в скорости.  \n",
        "  \n",
        "`@njit` - алиас для `@jit(nopython=True)`  \n",
        "  \n",
        "При компиляции с использованием данного параметра в случае неудачи будет брошено исключение."
      ]
    },
    {
      "cell_type": "markdown",
      "metadata": {
        "id": "-N6QdRX6Sh4G"
      },
      "source": [
        "### `parallel=True`\n",
        "\n",
        "Если код состоит из операций которые могут быть выполненны независимо друг от друга Numba может скомпилировать данную функцию в режиме при котором её исполнение будет производиться параллельно в нескольких тредах (без GIL)\n",
        "\n",
        "На данный момент эта опция поддерживатся только для `CPU`"
      ]
    },
    {
      "cell_type": "code",
      "metadata": {
        "id": "S3R0oXmcShJD"
      },
      "source": [
        "@numba.jit(nopython=True, parallel=True)\n",
        "def prange_test_numba_parallel(A):\n",
        "    s = 0\n",
        "\n",
        "    for i in numba.prange(A.shape[0]):\n",
        "        s += A[i]\n",
        "    return s\n",
        "\n",
        "\n",
        "@numba.jit(nopython=True)\n",
        "def prange_test_numba(A):\n",
        "    s = 0\n",
        "    # Without \"parallel=True\" in the jit-decorator\n",
        "    # the prange statement is equivalent to range\n",
        "    for i in numba.prange(A.shape[0]):\n",
        "        s += A[i]\n",
        "    return s\n",
        "\n",
        "\n",
        "def prange_test_python(A):\n",
        "    s = 0\n",
        "\n",
        "    for i in numba.prange(A.shape[0]):\n",
        "        s += A[i]\n",
        "    return s"
      ],
      "execution_count": null,
      "outputs": []
    },
    {
      "cell_type": "code",
      "metadata": {
        "id": "AvJBW7LAaWJi",
        "colab": {
          "base_uri": "https://localhost:8080/"
        },
        "outputId": "cf07501d-bac7-4cd4-ed80-2afa596286c7"
      },
      "source": [
        "test_array = np.arange(1000)\n",
        "\n",
        "print('{}prange_test_numba_parallel(){}'.format(BOLD, END))\n",
        "for _ in range(5):\n",
        "    %timeit -n1 -r1 prange_test_numba_parallel(test_array)\n",
        "print()\n",
        "\n",
        "print('{}prange_test_numba(){}'.format(BOLD, END))\n",
        "for _ in range(5):\n",
        "    %timeit -n1 -r1 prange_test_numba(test_array)\n",
        "print()\n",
        "\n",
        "print('{}prange_test_python(){}'.format(BOLD, END))\n",
        "for _ in range(5):\n",
        "    %timeit -n1 -r1 prange_test_python(test_array)\n",
        "print()"
      ],
      "execution_count": null,
      "outputs": [
        {
          "output_type": "stream",
          "name": "stdout",
          "text": [
            "\u001b[1mprange_test_numba_parallel()\u001b[0m\n"
          ]
        },
        {
          "output_type": "stream",
          "name": "stderr",
          "text": [
            "/usr/local/lib/python3.7/dist-packages/numba/np/ufunc/parallel.py:363: NumbaWarning: The TBB threading layer requires TBB version 2019.5 or later i.e., TBB_INTERFACE_VERSION >= 11005. Found TBB_INTERFACE_VERSION = 9107. The TBB threading layer is disabled.\n",
            "  warnings.warn(problem)\n"
          ]
        },
        {
          "output_type": "stream",
          "name": "stdout",
          "text": [
            "1 loop, best of 1: 470 ms per loop\n",
            "1 loop, best of 1: 65.1 µs per loop\n",
            "1 loop, best of 1: 15.1 µs per loop\n",
            "1 loop, best of 1: 12.9 µs per loop\n",
            "1 loop, best of 1: 12.8 µs per loop\n",
            "\n",
            "\u001b[1mprange_test_numba()\u001b[0m\n",
            "1 loop, best of 1: 107 ms per loop\n",
            "1 loop, best of 1: 6.94 µs per loop\n",
            "1 loop, best of 1: 5.1 µs per loop\n",
            "1 loop, best of 1: 4.35 µs per loop\n",
            "1 loop, best of 1: 5.02 µs per loop\n",
            "\n",
            "\u001b[1mprange_test_python()\u001b[0m\n",
            "1 loop, best of 1: 309 µs per loop\n",
            "1 loop, best of 1: 264 µs per loop\n",
            "1 loop, best of 1: 260 µs per loop\n",
            "1 loop, best of 1: 264 µs per loop\n",
            "1 loop, best of 1: 265 µs per loop\n",
            "\n"
          ]
        }
      ]
    },
    {
      "cell_type": "markdown",
      "metadata": {
        "id": "_nW7GfpNTVFD"
      },
      "source": [
        "Параметр `parallel=True` необходимо применять с осторожностью, так как в процессе распараллеливания выполнения функции операции над срезами массивов (для отправки массивов на одновременное выполнение в разных тредах может происходить разделение массивов на части) и переменными могу выполняться одновременно. Компилятор может не обнаруживать подобные случаи, что приводит к неопределённому поведению программы (в документации используется термин `race condition`).   \n",
        "  \n",
        "Следующий пример демонстрирует случай когда когда распараллеливание приводит к неопределенному поведению функции и как результат к неверному возвращаемому значению:"
      ]
    },
    {
      "cell_type": "code",
      "metadata": {
        "id": "uG6KMw-_TIc9"
      },
      "source": [
        "@numba.jit(nopython=True, parallel=True)\n",
        "def prange_wrong_result(x):\n",
        "    n = x.shape[0]\n",
        "    y = np.zeros(4)\n",
        "    for i in numba.prange(n):\n",
        "        # accumulating into the same element of `y` from different\n",
        "        # parallel iterations of the loop results in a race condition\n",
        "        y[i % 4] += x[i]\n",
        "    return y"
      ],
      "execution_count": null,
      "outputs": []
    },
    {
      "cell_type": "code",
      "metadata": {
        "id": "QX9DPXucX7uD"
      },
      "source": [
        "def prange_right_result(x):\n",
        "    n = x.shape[0]\n",
        "    y = np.zeros(4)\n",
        "    for i in numba.prange(n):\n",
        "        y[i % 4] += x[i]\n",
        "    return y"
      ],
      "execution_count": null,
      "outputs": []
    },
    {
      "cell_type": "code",
      "metadata": {
        "id": "H3x5_UVeYBpm"
      },
      "source": [
        "test_array = np.array(range(500))"
      ],
      "execution_count": null,
      "outputs": []
    },
    {
      "cell_type": "code",
      "metadata": {
        "id": "GlYw4ePyYKkL",
        "colab": {
          "base_uri": "https://localhost:8080/"
        },
        "outputId": "cf58f893-cbb1-4432-bd40-fd930b2bc7db"
      },
      "source": [
        "prange_right_result(test_array)"
      ],
      "execution_count": null,
      "outputs": [
        {
          "output_type": "execute_result",
          "data": {
            "text/plain": [
              "array([31000., 31125., 31250., 31375.])"
            ]
          },
          "metadata": {},
          "execution_count": 18
        }
      ]
    },
    {
      "cell_type": "code",
      "metadata": {
        "id": "BDNDw6Z0YTmw",
        "colab": {
          "base_uri": "https://localhost:8080/"
        },
        "outputId": "b08eaf6f-6b51-4eca-dd8e-49f4e9d6cf0e"
      },
      "source": [
        "prange_wrong_result(test_array)"
      ],
      "execution_count": null,
      "outputs": [
        {
          "output_type": "execute_result",
          "data": {
            "text/plain": [
              "array([31000., 31125., 31250., 31375.])"
            ]
          },
          "metadata": {},
          "execution_count": 22
        }
      ]
    },
    {
      "cell_type": "markdown",
      "metadata": {
        "id": "VYZkdX8Wn93U"
      },
      "source": [
        "### `fastmath=True`"
      ]
    },
    {
      "cell_type": "markdown",
      "metadata": {
        "id": "F_Hc3ACRoIRV"
      },
      "source": [
        "Снимает ограничения накладываемые соблюдением стандарта IEEE 754"
      ]
    },
    {
      "cell_type": "code",
      "metadata": {
        "id": "kncSGKy-n7-j"
      },
      "source": [
        "@numba.njit(fastmath=False)\n",
        "def do_sum(A):\n",
        "    acc = 0.\n",
        "    # without fastmath, this loop must accumulate in strict order\n",
        "    for x in A:\n",
        "        acc += np.sqrt(x)\n",
        "    return acc\n",
        "\n",
        "@numba.njit(fastmath=True)\n",
        "def do_sum_fast(A):\n",
        "    acc = 0.\n",
        "    # with fastmath, the reduction can be vectorized as floating point\n",
        "    # reassociation is permitted.\n",
        "    for x in A:\n",
        "        acc += np.sqrt(x)\n",
        "    return acc\n"
      ],
      "execution_count": null,
      "outputs": []
    },
    {
      "cell_type": "code",
      "metadata": {
        "id": "E1lzz9j7ob3H",
        "colab": {
          "base_uri": "https://localhost:8080/"
        },
        "outputId": "b6cfb27e-19f4-4d7b-bcb0-57a06b8e7b0a"
      },
      "source": [
        "test_array = np.linspace(2.0, 50.0, num=100000)\n",
        "\n",
        "print('{}do_sum(){}'.format(BOLD, END))\n",
        "for _ in range(5):\n",
        "    %timeit -n1 -r1 do_sum(test_array)\n",
        "print()\n",
        "\n",
        "print('{}do_sum_fast(){}'.format(BOLD, END))\n",
        "for _ in range(5):\n",
        "    %timeit -n1 -r1 do_sum_fast(test_array)\n",
        "print()"
      ],
      "execution_count": null,
      "outputs": [
        {
          "output_type": "stream",
          "name": "stdout",
          "text": [
            "\u001b[1mdo_sum()\u001b[0m\n",
            "1 loop, best of 1: 91.8 ms per loop\n",
            "1 loop, best of 1: 262 µs per loop\n",
            "1 loop, best of 1: 229 µs per loop\n",
            "1 loop, best of 1: 228 µs per loop\n",
            "1 loop, best of 1: 227 µs per loop\n",
            "\n",
            "\u001b[1mdo_sum_fast()\u001b[0m\n",
            "1 loop, best of 1: 89.5 ms per loop\n",
            "1 loop, best of 1: 238 µs per loop\n",
            "1 loop, best of 1: 233 µs per loop\n",
            "1 loop, best of 1: 249 µs per loop\n",
            "1 loop, best of 1: 250 µs per loop\n",
            "\n"
          ]
        }
      ]
    },
    {
      "cell_type": "markdown",
      "metadata": {
        "id": "2jILFlLn0Xnk"
      },
      "source": [
        "## `@vectorize`"
      ]
    },
    {
      "cell_type": "markdown",
      "metadata": {
        "id": "p3vGtnipkI6d"
      },
      "source": [
        "```\n",
        "@numba.vectorize(\n",
        "    *,\n",
        "    signatures=[],\n",
        "    identity=None,\n",
        "    nopython=True,\n",
        "    target='cpu',\n",
        "    forceobj=False,\n",
        "    cache=False,\n",
        "    locals={}\n",
        "    )\n",
        "```"
      ]
    },
    {
      "cell_type": "markdown",
      "metadata": {
        "id": "U3mXXEIc37rV"
      },
      "source": [
        "\n",
        "[Написание своей numpy ufunc](https://numpy.org/doc/stable/user/c-info.ufunc-tutorial.html)"
      ]
    },
    {
      "cell_type": "code",
      "metadata": {
        "id": "ZXBbCFewXHDM"
      },
      "source": [
        "import numba\n",
        "import numpy as np"
      ],
      "execution_count": null,
      "outputs": []
    },
    {
      "cell_type": "code",
      "metadata": {
        "id": "9kmmE81PXL35"
      },
      "source": [
        "@numba.vectorize([\"int64(int64, int64)\",\n",
        "                  \"float64(float64, float64)\",\n",
        "                  ])\n",
        "def f(a, b):\n",
        "    return a + b"
      ],
      "execution_count": null,
      "outputs": []
    },
    {
      "cell_type": "code",
      "metadata": {
        "id": "zykMGx2V0tfh",
        "colab": {
          "base_uri": "https://localhost:8080/"
        },
        "outputId": "045fd3e8-78e5-4b88-f465-3eefd241988a"
      },
      "source": [
        "a = np.arange(6)\n",
        "# a\n",
        "f(a, a)"
      ],
      "execution_count": null,
      "outputs": [
        {
          "output_type": "execute_result",
          "data": {
            "text/plain": [
              "array([ 0,  2,  4,  6,  8, 10])"
            ]
          },
          "metadata": {},
          "execution_count": 27
        }
      ]
    },
    {
      "cell_type": "code",
      "metadata": {
        "id": "V9vecGmdV6IF",
        "colab": {
          "base_uri": "https://localhost:8080/"
        },
        "outputId": "04afb1ba-2167-4b19-baac-2d3752646474"
      },
      "source": [
        "a = np.linspace(0, 1, 6)\n",
        "\n",
        "f(a, a)"
      ],
      "execution_count": null,
      "outputs": [
        {
          "output_type": "execute_result",
          "data": {
            "text/plain": [
              "array([0. , 0.4, 0.8, 1.2, 1.6, 2. ])"
            ]
          },
          "metadata": {},
          "execution_count": 28
        }
      ]
    },
    {
      "cell_type": "code",
      "metadata": {
        "id": "F5vW2Q2WXP7C",
        "colab": {
          "base_uri": "https://localhost:8080/"
        },
        "outputId": "1ee856b5-26ad-4c21-a9e5-7e96c7acdd61"
      },
      "source": [
        "f(int(4), int(3))"
      ],
      "execution_count": null,
      "outputs": [
        {
          "output_type": "execute_result",
          "data": {
            "text/plain": [
              "7"
            ]
          },
          "metadata": {},
          "execution_count": 29
        }
      ]
    },
    {
      "cell_type": "code",
      "metadata": {
        "id": "oO27bc6CWEGI",
        "colab": {
          "base_uri": "https://localhost:8080/",
          "height": 202
        },
        "outputId": "21f1b1e2-f233-4b9e-cd0c-e421c963e499"
      },
      "source": [
        "a = np.linspace(0, 1+1j, 6)\n",
        "\n",
        "f(a, a)"
      ],
      "execution_count": null,
      "outputs": [
        {
          "output_type": "error",
          "ename": "TypeError",
          "evalue": "ignored",
          "traceback": [
            "\u001b[0;31m---------------------------------------------------------------------------\u001b[0m",
            "\u001b[0;31mTypeError\u001b[0m                                 Traceback (most recent call last)",
            "\u001b[0;32m<ipython-input-30-a0102c241110>\u001b[0m in \u001b[0;36m<module>\u001b[0;34m()\u001b[0m\n\u001b[1;32m      1\u001b[0m \u001b[0ma\u001b[0m \u001b[0;34m=\u001b[0m \u001b[0mnp\u001b[0m\u001b[0;34m.\u001b[0m\u001b[0mlinspace\u001b[0m\u001b[0;34m(\u001b[0m\u001b[0;36m0\u001b[0m\u001b[0;34m,\u001b[0m \u001b[0;36m1\u001b[0m\u001b[0;34m+\u001b[0m\u001b[0;36m1j\u001b[0m\u001b[0;34m,\u001b[0m \u001b[0;36m6\u001b[0m\u001b[0;34m)\u001b[0m\u001b[0;34m\u001b[0m\u001b[0;34m\u001b[0m\u001b[0m\n\u001b[1;32m      2\u001b[0m \u001b[0;34m\u001b[0m\u001b[0m\n\u001b[0;32m----> 3\u001b[0;31m \u001b[0mf\u001b[0m\u001b[0;34m(\u001b[0m\u001b[0ma\u001b[0m\u001b[0;34m,\u001b[0m \u001b[0ma\u001b[0m\u001b[0;34m)\u001b[0m\u001b[0;34m\u001b[0m\u001b[0;34m\u001b[0m\u001b[0m\n\u001b[0m",
            "\u001b[0;31mTypeError\u001b[0m: ufunc 'f' not supported for the input types, and the inputs could not be safely coerced to any supported types according to the casting rule ''safe''"
          ]
        }
      ]
    },
    {
      "cell_type": "markdown",
      "metadata": {
        "id": "C7I3pR5pWbBE"
      },
      "source": [
        "Но зачем, применять данный декоратор когда есть `@jit`?\n",
        "Используя декоратор `@vectorize` мы получаем методы присущие numpy `ufunc`: `reduction`, `accumulation` or `broadcasting` и [др.](https://numpy.org/doc/stable/reference/ufuncs.html#ufunc)"
      ]
    },
    {
      "cell_type": "code",
      "metadata": {
        "id": "tJXe4_gFXJq5",
        "colab": {
          "base_uri": "https://localhost:8080/"
        },
        "outputId": "844ea707-5cab-4ccb-a326-57bd56968c1a"
      },
      "source": [
        "a = np.arange(12).reshape(3, 4)\n",
        "a"
      ],
      "execution_count": null,
      "outputs": [
        {
          "output_type": "execute_result",
          "data": {
            "text/plain": [
              "array([[ 0,  1,  2,  3],\n",
              "       [ 4,  5,  6,  7],\n",
              "       [ 8,  9, 10, 11]])"
            ]
          },
          "metadata": {},
          "execution_count": 31
        }
      ]
    },
    {
      "cell_type": "code",
      "metadata": {
        "id": "Svz4np-6XTJw",
        "colab": {
          "base_uri": "https://localhost:8080/"
        },
        "outputId": "c67a7399-9109-4da2-a22e-6d545001d7fa"
      },
      "source": [
        "f.reduce(a, axis=0)"
      ],
      "execution_count": null,
      "outputs": [
        {
          "output_type": "execute_result",
          "data": {
            "text/plain": [
              "array([12, 15, 18, 21])"
            ]
          },
          "metadata": {},
          "execution_count": 32
        }
      ]
    },
    {
      "cell_type": "code",
      "metadata": {
        "id": "i2glGI7vXUeK",
        "colab": {
          "base_uri": "https://localhost:8080/"
        },
        "outputId": "5bb4e24b-2c86-44b4-bab3-84c0646e6689"
      },
      "source": [
        "f.reduce(a, axis=1)"
      ],
      "execution_count": null,
      "outputs": [
        {
          "output_type": "execute_result",
          "data": {
            "text/plain": [
              "array([ 6, 22, 38])"
            ]
          },
          "metadata": {},
          "execution_count": 33
        }
      ]
    },
    {
      "cell_type": "code",
      "metadata": {
        "id": "xLnNmBBRXVS0",
        "colab": {
          "base_uri": "https://localhost:8080/"
        },
        "outputId": "08ef4df0-f429-4092-deb3-b49623f179a8"
      },
      "source": [
        "f.accumulate(a)"
      ],
      "execution_count": null,
      "outputs": [
        {
          "output_type": "execute_result",
          "data": {
            "text/plain": [
              "array([[ 0,  1,  2,  3],\n",
              "       [ 4,  6,  8, 10],\n",
              "       [12, 15, 18, 21]])"
            ]
          },
          "metadata": {},
          "execution_count": 34
        }
      ]
    },
    {
      "cell_type": "code",
      "metadata": {
        "id": "fzzI5XgsXW2C",
        "colab": {
          "base_uri": "https://localhost:8080/"
        },
        "outputId": "099575ac-b06d-47b3-aa5f-32d5e539fa31"
      },
      "source": [
        "f.accumulate(a, axis=1)"
      ],
      "execution_count": null,
      "outputs": [
        {
          "output_type": "execute_result",
          "data": {
            "text/plain": [
              "array([[ 0,  1,  3,  6],\n",
              "       [ 4,  9, 15, 22],\n",
              "       [ 8, 17, 27, 38]])"
            ]
          },
          "metadata": {},
          "execution_count": 35
        }
      ]
    },
    {
      "cell_type": "markdown",
      "metadata": {
        "id": "TobiFxKZPSGA"
      },
      "source": [
        "## `@guvectorize`"
      ]
    },
    {
      "cell_type": "markdown",
      "metadata": {
        "id": "jztDBaiUkM7J"
      },
      "source": [
        "```\n",
        "@numba.guvectorize(\n",
        "    такие же как и в numba.vectorize кроме одного дополнительного\n",
        "    layout,\n",
        "    )\n",
        "```"
      ]
    },
    {
      "cell_type": "markdown",
      "metadata": {
        "id": "p5WbPxd5ZSiV"
      },
      "source": [
        "У данного декоратора есть особенность, функция обрамляемая этим декоратором не возвращает результат своей работы, а записывает его в один из передаваемых параметров (в примере ниже это параметр `res`)"
      ]
    },
    {
      "cell_type": "code",
      "metadata": {
        "id": "oKJgUGKHZRC6"
      },
      "source": [
        "@numba.guvectorize([(\"int64[:], int64, int64[:]\")], '(n),()->(n)')\n",
        "def g(x, y, res):\n",
        "    for i in range(x.shape[0]):\n",
        "        res[i] = x[i] + y"
      ],
      "execution_count": null,
      "outputs": []
    },
    {
      "cell_type": "markdown",
      "metadata": {
        "id": "PZ7ovZ6q0QW0"
      },
      "source": [
        "## `@stencil`"
      ]
    },
    {
      "cell_type": "markdown",
      "metadata": {
        "id": "dmRSbKhBeRIB"
      },
      "source": [
        "![](https://drive.google.com/uc?export=view&id=1YxldMUKfnD_qfg-mOdk3wrehJvM7A3bn)\n",
        "\n",
        "[Iterative Stencil Loops](https://en.wikipedia.org/wiki/Iterative_Stencil_Loops)"
      ]
    },
    {
      "cell_type": "code",
      "metadata": {
        "id": "kar2YxHDDl6g"
      },
      "source": [
        "@numba.stencil\n",
        "def kernel1(a):\n",
        "    return 1 * (a[0, 1] + a[1, 0] + a[0, -1] + a[-1, 0])"
      ],
      "execution_count": null,
      "outputs": []
    },
    {
      "cell_type": "code",
      "metadata": {
        "id": "1HYj8lbgDm8j"
      },
      "source": [
        "input_arr = np.ones(25).reshape((5, 5))"
      ],
      "execution_count": null,
      "outputs": []
    },
    {
      "cell_type": "code",
      "metadata": {
        "id": "kmlELBisFUhW",
        "colab": {
          "base_uri": "https://localhost:8080/"
        },
        "outputId": "63a8c991-3571-4f58-fd8d-c29bf5559250"
      },
      "source": [
        "input_arr"
      ],
      "execution_count": null,
      "outputs": [
        {
          "output_type": "execute_result",
          "data": {
            "text/plain": [
              "array([[1., 1., 1., 1., 1.],\n",
              "       [1., 1., 1., 1., 1.],\n",
              "       [1., 1., 1., 1., 1.],\n",
              "       [1., 1., 1., 1., 1.],\n",
              "       [1., 1., 1., 1., 1.]])"
            ]
          },
          "metadata": {},
          "execution_count": 38
        }
      ]
    },
    {
      "cell_type": "code",
      "metadata": {
        "id": "qVhXuqY1DsQr",
        "colab": {
          "base_uri": "https://localhost:8080/"
        },
        "outputId": "d9da5a0c-d70b-4622-aa4d-2e27a9949fa4"
      },
      "source": [
        "kernel1(input_arr)"
      ],
      "execution_count": null,
      "outputs": [
        {
          "output_type": "execute_result",
          "data": {
            "text/plain": [
              "array([[0., 0., 0., 0., 0.],\n",
              "       [0., 4., 4., 4., 0.],\n",
              "       [0., 4., 4., 4., 0.],\n",
              "       [0., 4., 4., 4., 0.],\n",
              "       [0., 0., 0., 0., 0.]])"
            ]
          },
          "metadata": {},
          "execution_count": 39
        }
      ]
    },
    {
      "cell_type": "markdown",
      "metadata": {
        "id": "NmSYUoIBQKdc"
      },
      "source": [
        "### Conway's Game of Life\n",
        "[Игра «Жизнь» (англ. Conway's Game of Life)](https://ru.wikipedia.org/wiki/%D0%98%D0%B3%D1%80%D0%B0_%C2%AB%D0%96%D0%B8%D0%B7%D0%BD%D1%8C%C2%BB)  — клеточный автомат, придуманный английским математиком Джоном Конвеем в 1970 году. "
      ]
    },
    {
      "cell_type": "markdown",
      "metadata": {
        "id": "lJEznsTVYYd9"
      },
      "source": [
        "![im](https://upload.wikimedia.org/wikipedia/commons/e/e5/Gospers_glider_gun.gif)\n",
        "\n",
        "**Правила:**\n",
        "* Любая живая клетка с двумя или тремя соседями выживает.\n",
        "* Любая мёртвая клетка с тремя живыми соседями становится живой клеткой.\n",
        "* Любые другие клетки умирают в следующем поколении. Также все остальные мёртвые клетки остаются мёртвыми."
      ]
    },
    {
      "cell_type": "code",
      "metadata": {
        "id": "Q3JjC4dAhHK-"
      },
      "source": [
        "@numba.stencil\n",
        "def kernel_game_of_life(a):\n",
        "    res = a[-1, -1] + a[-1, 0] + a[-1, 1] \\\n",
        "        + a[0, -1] + a[0, 1] \\\n",
        "        + a[1, -1] + a[1, 0] + a[1, 1]\n",
        "\n",
        "    if a[0, 0] == 1 and (res == 2 or res == 3):\n",
        "        return 1\n",
        "    elif a[0, 0] == 0 and res == 3:\n",
        "        return 1\n",
        "    else:\n",
        "        return 0"
      ],
      "execution_count": null,
      "outputs": []
    },
    {
      "cell_type": "code",
      "metadata": {
        "id": "p1ZMv2om6TYo"
      },
      "source": [
        "# Две служебные функции для приведения данных в необходимый нам вид\n",
        "\n",
        "def get_coord(arr):\n",
        "    y, x = np.ogrid[(*map(slice, arr.shape),)]\n",
        "    result = np.argwhere(arr == 1)\n",
        "    return result[:, 0], result[:, 1]\n",
        "\n",
        "\n",
        "@numba.njit\n",
        "def prepare_frames(init_array, num_frames=30):\n",
        "    result = []\n",
        "\n",
        "    for i in range(num_frames):\n",
        "        result.append(init_array.copy())\n",
        "        init_array = kernel_game_of_life(init_array)\n",
        "    return result"
      ],
      "execution_count": null,
      "outputs": []
    },
    {
      "cell_type": "markdown",
      "metadata": {
        "id": "jwYUcXOzR0xV"
      },
      "source": [
        "**Glider**  \n",
        "![](https://www.conwaylife.com/w/images/8/81/Glider.gif)"
      ]
    },
    {
      "cell_type": "code",
      "metadata": {
        "id": "w7xFomHB7xf_"
      },
      "source": [
        "# Создадим поле для размещения фигур\n",
        "a = np.zeros((20, 20), dtype=int)\n",
        "\n",
        "# Glider\n",
        "# Разместим две фигуры glider\n",
        "# y, x\n",
        "loc = [2, 2]\n",
        "a[loc[0] + 0, loc[1] + 2] = 1\n",
        "a[loc[0] + 1, loc[1] + 0] = 1\n",
        "a[loc[0] + 1, loc[1] + 2] = 1\n",
        "a[loc[0] + 2, loc[1] + 1] = 1\n",
        "a[loc[0] + 2, loc[1] + 2] = 1\n",
        "\n",
        "loc = [15, 2]\n",
        "a[loc[0] + 0, loc[1] + 2] = 1\n",
        "a[loc[0] + 1, loc[1] + 0] = 1\n",
        "a[loc[0] + 1, loc[1] + 2] = 1\n",
        "a[loc[0] + 0, loc[1] + 1] = 1\n",
        "a[loc[0] + 2, loc[1] + 2] = 1"
      ],
      "execution_count": null,
      "outputs": []
    },
    {
      "cell_type": "code",
      "metadata": {
        "id": "ogTFMEsgbl_H",
        "colab": {
          "base_uri": "https://localhost:8080/"
        },
        "outputId": "65b4c6fc-e6c0-46c5-aa47-3a83a6f6b3c8"
      },
      "source": [
        "a"
      ],
      "execution_count": null,
      "outputs": [
        {
          "output_type": "execute_result",
          "data": {
            "text/plain": [
              "array([[0, 0, 0, 0, 0, 0, 0, 0, 0, 0, 0, 0, 0, 0, 0, 0, 0, 0, 0, 0],\n",
              "       [0, 0, 0, 0, 0, 0, 0, 0, 0, 0, 0, 0, 0, 0, 0, 0, 0, 0, 0, 0],\n",
              "       [0, 0, 0, 0, 1, 0, 0, 0, 0, 0, 0, 0, 0, 0, 0, 0, 0, 0, 0, 0],\n",
              "       [0, 0, 1, 0, 1, 0, 0, 0, 0, 0, 0, 0, 0, 0, 0, 0, 0, 0, 0, 0],\n",
              "       [0, 0, 0, 1, 1, 0, 0, 0, 0, 0, 0, 0, 0, 0, 0, 0, 0, 0, 0, 0],\n",
              "       [0, 0, 0, 0, 0, 0, 0, 0, 0, 0, 0, 0, 0, 0, 0, 0, 0, 0, 0, 0],\n",
              "       [0, 0, 0, 0, 0, 0, 0, 0, 0, 0, 0, 0, 0, 0, 0, 0, 0, 0, 0, 0],\n",
              "       [0, 0, 0, 0, 0, 0, 0, 0, 0, 0, 0, 0, 0, 0, 0, 0, 0, 0, 0, 0],\n",
              "       [0, 0, 0, 0, 0, 0, 0, 0, 0, 0, 0, 0, 0, 0, 0, 0, 0, 0, 0, 0],\n",
              "       [0, 0, 0, 0, 0, 0, 0, 0, 0, 0, 0, 0, 0, 0, 0, 0, 0, 0, 0, 0],\n",
              "       [0, 0, 0, 0, 0, 0, 0, 0, 0, 0, 0, 0, 0, 0, 0, 0, 0, 0, 0, 0],\n",
              "       [0, 0, 0, 0, 0, 0, 0, 0, 0, 0, 0, 0, 0, 0, 0, 0, 0, 0, 0, 0],\n",
              "       [0, 0, 0, 0, 0, 0, 0, 0, 0, 0, 0, 0, 0, 0, 0, 0, 0, 0, 0, 0],\n",
              "       [0, 0, 0, 0, 0, 0, 0, 0, 0, 0, 0, 0, 0, 0, 0, 0, 0, 0, 0, 0],\n",
              "       [0, 0, 0, 0, 0, 0, 0, 0, 0, 0, 0, 0, 0, 0, 0, 0, 0, 0, 0, 0],\n",
              "       [0, 0, 0, 1, 1, 0, 0, 0, 0, 0, 0, 0, 0, 0, 0, 0, 0, 0, 0, 0],\n",
              "       [0, 0, 1, 0, 1, 0, 0, 0, 0, 0, 0, 0, 0, 0, 0, 0, 0, 0, 0, 0],\n",
              "       [0, 0, 0, 0, 1, 0, 0, 0, 0, 0, 0, 0, 0, 0, 0, 0, 0, 0, 0, 0],\n",
              "       [0, 0, 0, 0, 0, 0, 0, 0, 0, 0, 0, 0, 0, 0, 0, 0, 0, 0, 0, 0],\n",
              "       [0, 0, 0, 0, 0, 0, 0, 0, 0, 0, 0, 0, 0, 0, 0, 0, 0, 0, 0, 0]])"
            ]
          },
          "metadata": {},
          "execution_count": 43
        }
      ]
    },
    {
      "cell_type": "code",
      "metadata": {
        "id": "7h2ViFvUqDRU"
      },
      "source": [
        "%%capture\n",
        "\n",
        "import numpy as np\n",
        "import matplotlib.pyplot as plt\n",
        "from matplotlib.animation import FuncAnimation\n",
        "# from matplotlib import animation, rc\n",
        "import matplotlib.cm as cm\n",
        "from IPython.display import HTML\n",
        "\n",
        "\n",
        "fig, ax = plt.subplots(figsize=(4, 4))\n",
        "ln, = plt.plot(get_coord(a)[0], get_coord(a)[1], 's', ms=9, c='k')\n",
        "ax.set_xlim(0, 19)\n",
        "ax.set_ylim(0, 19)\n",
        "\n",
        "\n",
        "def update(frame, *fargs):\n",
        "    ydata, xdata = get_coord(frame)\n",
        "    ln.set_data(xdata, ydata)\n",
        "    return ln,\n",
        "\n",
        "ani = FuncAnimation(fig, update, frames=prepare_frames(a, 45), blit=True, interval=200)"
      ],
      "execution_count": null,
      "outputs": []
    },
    {
      "cell_type": "code",
      "metadata": {
        "id": "4ae1xDLKPL88",
        "colab": {
          "base_uri": "https://localhost:8080/",
          "height": 309
        },
        "outputId": "95278ba4-9a6e-49b6-f7f6-a6dc0cc82f05"
      },
      "source": [
        "HTML(ani.to_html5_video())"
      ],
      "execution_count": null,
      "outputs": [
        {
          "output_type": "execute_result",
          "data": {
            "text/html": [
              "<video width=\"288\" height=\"288\" controls autoplay loop>\n",
              "  <source type=\"video/mp4\" src=\"data:video/mp4;base64,AAAAHGZ0eXBNNFYgAAACAGlzb21pc28yYXZjMQAAAAhmcmVlAAAxEG1kYXQAAAKtBgX//6ncRem9\n",
              "5tlIt5Ys2CDZI+7veDI2NCAtIGNvcmUgMTUyIHIyODU0IGU5YTU5MDMgLSBILjI2NC9NUEVHLTQg\n",
              "QVZDIGNvZGVjIC0gQ29weWxlZnQgMjAwMy0yMDE3IC0gaHR0cDovL3d3dy52aWRlb2xhbi5vcmcv\n",
              "eDI2NC5odG1sIC0gb3B0aW9uczogY2FiYWM9MSByZWY9MyBkZWJsb2NrPTE6MDowIGFuYWx5c2U9\n",
              "MHgzOjB4MTEzIG1lPWhleCBzdWJtZT03IHBzeT0xIHBzeV9yZD0xLjAwOjAuMDAgbWl4ZWRfcmVm\n",
              "PTEgbWVfcmFuZ2U9MTYgY2hyb21hX21lPTEgdHJlbGxpcz0xIDh4OGRjdD0xIGNxbT0wIGRlYWR6\n",
              "b25lPTIxLDExIGZhc3RfcHNraXA9MSBjaHJvbWFfcXBfb2Zmc2V0PS0yIHRocmVhZHM9MyBsb29r\n",
              "YWhlYWRfdGhyZWFkcz0xIHNsaWNlZF90aHJlYWRzPTAgbnI9MCBkZWNpbWF0ZT0xIGludGVybGFj\n",
              "ZWQ9MCBibHVyYXlfY29tcGF0PTAgY29uc3RyYWluZWRfaW50cmE9MCBiZnJhbWVzPTMgYl9weXJh\n",
              "bWlkPTIgYl9hZGFwdD0xIGJfYmlhcz0wIGRpcmVjdD0xIHdlaWdodGI9MSBvcGVuX2dvcD0wIHdl\n",
              "aWdodHA9MiBrZXlpbnQ9MjUwIGtleWludF9taW49NSBzY2VuZWN1dD00MCBpbnRyYV9yZWZyZXNo\n",
              "PTAgcmNfbG9va2FoZWFkPTQwIHJjPWNyZiBtYnRyZWU9MSBjcmY9MjMuMCBxY29tcD0wLjYwIHFw\n",
              "bWluPTAgcXBtYXg9NjkgcXBzdGVwPTQgaXBfcmF0aW89MS40MCBhcT0xOjEuMDAAgAAACbhliIQA\n",
              "Ev/+963fgU3AQO1rulc4tMurlDQ9UfaUpni2SGKj68yVTMcIgxrzUAxBvlPr/zATPh9QSCc2/yvJ\n",
              "AEVlc6ZOQMMxxoB3f+Sby0dFB2Frq+mvxPVHnoMQEBJ/s1Mk1M/FsE/dU09GguY8TKhkO3j/zXfM\n",
              "VkBFf6WhVkDsxj4bR6P1Q+ktH5hSIV3HujW7eiUVakqXmh+HGgATarWMtod6OtyXo/LJsPgpjg2k\n",
              "/dIhxASrYKQbohPmL6tA26OMeVSv7DHriyeWDIgAJ6w641mgOYYtT4KgEsE412is9QtZGYSg94E4\n",
              "QvesekEIHiiq9S2nj65r+yKR9CW57/ZCHKGPosk6Wyw7FNiNOTMd4wZ+lRmQggCANAnJGd0boOOX\n",
              "z/XIf9SabyyPTxuw6IH42NfundfArgxGUB6s7RJoAA0XvzdQiaqpDHW0SjWcRLH3NVs+QplbtP1Z\n",
              "CmqFjCrrBRU4Z1aEFrLFG7TqszOJjqQX/WQ+iaSSJBTrfLtygVIH7k5kX6CBO4VJBY49PoIpUJEp\n",
              "a+Uu6c2FvkQed4C/o5F+3Jg0FLsySRK6Az/563rGiWVTXQ04tqkTrCdGnjpK9ZK9qYic+Cj9H5zp\n",
              "EYvpJaOui5cvs+A00I6w8E7S0imnoP8f3cxeF5S1RlzQ900nXxscHebZfcor0Xrdid9Gkcw3upef\n",
              "ucJLLfmdZSMUxkGawpJ8C7nUTGba2wrAVi687cm+J/+5CmNS2PU647R3IP5lXKvLdqA9EanRsoUb\n",
              "NgBTmOJAlkLzBbkriFVMJoV/EHCHwGB4XR1OJ9s0i5DC7+NBj3j+BRhNeSdvIUuK5J0CZIyB6WF8\n",
              "HQqam0Z4W03qvgFj4/yullaRpn1Ca4Iv+lcUEw8PfWwHDVNJKe5C5op1oZQQDoacbsMakjEFlnyr\n",
              "GfkbZgmeKQiZ9vrAx51CPWSvpK8GL6d+xeagOijwjJnJ6ZprozWXeYkZbzYpYqN3Nm3XJaDjkXGI\n",
              "aGIcp4IiMIV+i59VzwhLKxQkrWM9uytBHCigdj5YWzYARHMFcOp41iB/43M5BwH8srQkcNgll9Nt\n",
              "xMmQKJlFqBPuMYFP+Lz/fgLygOBblncOAMdKpDRXl3wFU/osicPPAmxLAKNnu/9ES8epUerJyC0C\n",
              "7HLICoTlbFfzgHQcPnzVEHpqVuiOX9KIpKtqTPQL4vzK2k1Z+A6MPewMNcxf8/EcXiN7ZvDC3rHN\n",
              "q9qKifvuzo/bmBfBujB3alTveqcN//HL5qhiDggLdbK/pQlmdRi75qepzQsQBrOjStY2YkRe2i0n\n",
              "vcR7H8gJErEJ40zzBkmYvqicAXTygmG0+9F1rrszanNuwSjuUHDNuG9a03gxcRlwZOARxNULCTwB\n",
              "IPUir9VVfoYT741tbfPDdjeg4KMsUHeHY9msxRRVWvKIQiIPeh4yKNDKDL2dAi84KkwkBi+o0JDV\n",
              "TFxUhSie9c5hRhg8wYCX4FX62JCJq2ZrMRjdUT88jbLydTyeJUneMjvGP83tTlmpepJ1nXKFAFaF\n",
              "g7BT32rYRwrAeQtGP9Rsy1dNoHxcfGEiveRW0wk8MInVmlXLhNXngVmHkjXeliFznixTIh4moMZm\n",
              "tIWBmb1GDvHuaVVKtBz2yfdSUR/BGqjj9c7T2FxTMHE2ywdIjGTRcoYuBFrHA6i1prsARMhJ6xza\n",
              "DO0QAUUuq41mzKf3Ca2zwwXxmtvXmTjp8z6O2+GhdSHyyYBr9eCYDAztvkIWKus3Pk5GkLCcpi94\n",
              "EL3klKos8l+3PjDi06T8v6hfWBQKsgYppRCrdZ9iqkHJnAFqwtXXtYVTKZnwO6/3e3Pw4lFLrf3w\n",
              "GoLb3Na42kEFBrWTEmRDiC26A6ii2Xtb5oDJjPjsUthxCsXs6/wBKONOODM4ASj46Up/rhgRnmBE\n",
              "XBE+V3hzxNsNFQa6wMdAj1W30/c3WeG8hIIn1JORNCrckXjBqNbLFXdpvhi/cuv+e5W5HWHoTVcP\n",
              "P0gli72gaVwuv/4yoniarm35/Jtqb09NaBlP2OVlYKu85Aji6LiVXK1Iz4jpfcqnSPfsGpNfcFNe\n",
              "o4MYV3VbwQpSVHJ6DFxsnR2YAjfGxwAz69i0pZYrOUAK7z5G9Zi5ML2Nm4/8lJTirQMQpiw+i5GI\n",
              "njrQRMyfi5BKx4/SbOwpApPaVVTTngoLFWQQJFa7zF/5uB4OibGyOmPL//3KtwuJpYXHHunHt3MH\n",
              "vkhLs9kzmift1CdHa1f8zWatdgNLNCwu49/aP/9u68zgRQLESGGRBXbEYl0uL0DysgVqs1j4cb9G\n",
              "bHwXm25uKzmyChv3r8pTKBhx2tsjoMEZcmc4oK17P1QpaQaM6MArlXNKqkDEeCH/B1JZYrfQ3a5X\n",
              "0jU2nTMSiVan6u40MALRCGP2q/kqjoJ14V/d4IT/W7+XsDj0limfkfJ+fkfZ4o2F7CsGTTx0cTja\n",
              "SaF8X/4yxl5qxrESJkYQJWrH+0FJDmHE+Z43raI77dRK2eI6TVjOQPhLVDhs+f/35uKXwiPSVAIH\n",
              "KfZeYppLJBszx9zoPul/SPuwx23qkIpwAXheOfevNVfg4Q3ZgjePn8vehCU5L5vIrWrTOjcesh9O\n",
              "JNWTtuDCI7/kQwqNtjY3X84NwoY3AnKOxEJFo2VoSkSOv28v3+G9ox5XxitPbQMJtLLTUVx6E4I7\n",
              "LRfpCq4ng2YrL6cH2WV/EZJXugzJvARZtxBnJWgzF4eSrKo6ru8FalmlnDexPArIZuxKSGDoawfi\n",
              "5vZnSyX5npN1v0CiPoq6EUPPg0M45stVIi0c69pECYZ/n7HhZuH5bZtP7U0AJPVY0jVDSVG6167Y\n",
              "o+myXA/pY/uluKh02paEUn5bVSeBnIxfO6A7GHmxcAGuL4PGl5fftuQ83jn6KDDb2r24OhjKfGaW\n",
              "0iJk+CRXYiCGiye5Zk3f63MIcljRS57tbZtnCPSlX7oWYmIMgEzgqg5HYb6rqoPZ7BQ5131NtYc3\n",
              "ik47JFO9QNw2v3LRszB3prhW4vgBzz5oUpz1amG3ZnwSuJES5pXRGzDygreblN6xP0+GwU6/54az\n",
              "oktMRNOBfupNKK1R34ZBfwIggij1GAKehQ/JP4UqIFuj+5MmcAQL10wOA8QzZ4jL8RNS+66yf3LT\n",
              "VA2JnQlK2APSuA2BzcOYExT1mIHQHK5k43zzA5WfPyo6Zp/Tq4NhgfI5cbVl9WicY9Xk3O0gA0gp\n",
              "+KyxbYvg8KsNs1Jocu19cIsJ9JIz+mn6sv9j4iRVbZdes+oBc0AiElnUlUFsJLSU5ZOZAfs7KAjU\n",
              "c+IegvMmnnsabLHdHQDIXRLB3AAnqeQ6qZyTpeAAc3mBAAABuEGaIWxBL/61KoAue72QAoRpj/4w\n",
              "iZ3eZRtNbo8MKxFI2Ig7eilqdShZ6ymE86kMgnq0jA9Jwtm9NcVuve8kQL6MBgUyFJseAsF/B8lI\n",
              "QLc0o9T5SSIACLAFr3FnyzW5StdH0UZMMMwIXiap3sAQHMmfYVxeccqTKGeaX44KYtCphDbh/3gX\n",
              "xuH5fyhFFmGd3BxrJUBme5MoXLQUKdrDNCIcbT1hobiwm5SVLgOVJVPizTig5z31M0bPSf92TMZg\n",
              "smmNfuEpuexOoCg35osHzqiWF49pAYmp9FDqe5feF/3btA98+AlTQaOIuNPNUbb1I3KjwX+0mQAn\n",
              "C1wmevruFdKOiZ7tbMrrz8OKMMZL53dIIyBdqqLxwtH3kBlfRnOwMp7TiwV0K76Ph2gWLJWxRTaP\n",
              "oRDIu4wBcktfedZVE7wh9HqeshKFr9P2DfL97FBGyJ8D20gBQ5dBN1A41c7RZ5Fc48Y1s8g7lMEc\n",
              "g1Sd4TpRm58N7teevdq92xxza9/ypTIaAyo13HS7B17m3pGb7TzstLTIk2XFaOXqdoqylGoqWiJN\n",
              "YODS+9Swp8AJvq+0IDf/92IGJ7OAAAAAYUGaQjwhkymEE//+tSqAILLAmurD9p/LbuhAA0TxZ6+Y\n",
              "cl3Wp34CPtIS74Ju+8MT60PvPoy0Lmg7CZmepP7cNPtTDmk20MkF4oapLSESHH7SjboFgOrOuXMV\n",
              "rnvf1UsAqX8AAAEWQZplSeEPJlMCCf/+tSqAIR7VjfxUcodw+iZdmngtgJaBctO8FboNtFW8fwOg\n",
              "33EKSRRGxqLtppe/Px8ZVJ0TcFVn/BmX7OnfmwAXr9HBiQfsjUGoYAyZi19TxGHfcIjveVv8+0Hk\n",
              "Ph3HCdw0Y2Jif7o/OgdqO8rTWthwMbbKuOXePNPh5yJCXxt3+438bYIWPCPc4D6J1I8bAqmDJ1B+\n",
              "Gqk/K/sG1ouCmvpetp44fRTCiLk76LDKxJPPVEcKtZSNRd+jxzHiPNpSDjrkA+SEnRkXgRz3q02O\n",
              "XAqF/K2mabn3CEPOJ6/TbWKJ5AjeZKeez7EQw016YViRX0/zs1IQx8ymnFg2+K0laJQKntGmRJU8\n",
              "/Hm1lrAAAACHQZ6DRRE8EP8AIoh2pPVAtM2MwAZdzju7bfH0IMnDAv/ZofRrrfyPKbA0THLFXjx+\n",
              "GJZLsbgy3FTsW8pJv+fu+3yNaqUNZT/o1VzY5QxTS0YC6dMCjOv8tVRQVmDYTLkU+z8P5bF9pK0V\n",
              "j/0qWZQYt62z6yhXpHWzXyCt0udyG4csFm0UlIsvAAAAcgGepGpD/wBM2kDAvCbbZ8+Gp/ABfLoF\n",
              "/GIW9f3MaihTf61hqGPgktJzZrBp3Sd7//1EaBcVSSbFNQrbMOqZyThUd+pDUoGtuKSeiUszr8Iu\n",
              "rIpvyj/4zzThXQ74R/2SPqftPggFOwqSJ6LpGZrM7QGLYQAAAQZBmqlJqEFomUwIJf/+tSqAEZ+x\n",
              "i0gNh93Q7JQI8ZwANxVLweKA2xhvVDUOCptRbjZQm4rZzE6+fr68c1m3f16qaabVxqZ8BR0fhfdM\n",
              "+vdmWfSk0Ulzoi82/yZBGN9RwB157UL65iMsRFWFt+9FZhz3SAh2fQWtdb+VHtOCaTlPXtEYbe6z\n",
              "3hoWUsp8mrua/hLHEHXCUXRjLEGnDsk12H65lapf+ET42gCttueth+xn18BTRIoLqT66M0zA5kG3\n",
              "AXwFTwjmJrumb+J1AYinPl28xi3suShr8M3njtJn8Kgi9nd5FO07qrdkRRs+4fKYLWiRhwEh+c5t\n",
              "ynXu/z/7VTmFkXw6b+65AAAArUGex0URLBD/ABYPFXqPNP0f1wAATtyo//f4E3RFgCds5PA3LINy\n",
              "1CLX1I2X9wlP9o+q741tqJ+nos8oc19qkNyuQutooihuU8T9yJIsB5mR75zCGJeqgUL50UjKJnrm\n",
              "fDy8BaIPB6omGCyB8oWCv06EtO0FZdyCPULz/Dh0MMMFNFrxWWFBWR19Php4BZPTPw6Z2/VfUK4L\n",
              "NhATyvRphudiWl4CDI5PggpLy5flAAAAXAGe5nRD/wAwu9X4NqCSBprQAX18SQK7/ZXl0Frntdur\n",
              "iNBfW7wrIiHMEq3Tzw90QNGludoza8WbzKRm0R4tsLB3jUhQw+LeHCyyoD2LN380QZ2Xn/48IpLl\n",
              "LkxeAAAAcwGe6GpD/wAwuYuISxTxneN8V+IAN2mgB4H8jymwNExyxVTyeEO7yftRjZ0P4K/rPl2r\n",
              "id2WHbb/KWzhfeodSkIVXC4QptOHYlebGdQzPI+V0wYjCc5SV1KUFySZXoJTGgEDxqevkLCMBRjX\n",
              "gNSv7wMDAXIAAAC5QZrrSahBbJlMFEwS//61KoARH7Gn0Hlii3kC9IrBe6v59nYdUbSn0mP7vAAu\n",
              "oQUd+gv0vCGypnuhT2wLInJv/ZUNvXZYaoV4FvbdZUizm4KPTSYjWCOMnrkOz14o3VJmXr7N/2X+\n",
              "fz1oh30cIkLWC/EIRqgGgc5zcZOgdL5Kpj351dTl/yRE/jdGAl/A74xAMZfsx1VcwIhoXYuna1bk\n",
              "k7z/ieYQJMSPrsSNpJjTjo5EcPgnDIIQKYcAAABvAZ8KakP/AC+E6lppsodEuZvPZs5BvOM8fp1g\n",
              "A4ND+P1BwktBAbwlNtX3bMiSdr3nMyDDYzy/yp9Ol193nphGvVpe5epWtdj5IjbJYlHx0RQAT+4p\n",
              "/q5iBmXIe/OKfQdx0ydvg43HNKphoVzS9o7gAAAAbkGbDEnhClJlMCCf//61KoAK79NAlbuDT6vA\n",
              "we5MLhYAcKAf1CS7rTp5EP02IxCc5f/I8C76IvsWW9ohTBP3z8lnbagMQ1eXiqnuDwJr+f32DVYL\n",
              "V38Wfb2U7kM1BU6ckbI+WY00wR5xAVew4Hm8AAAApkGbMEnhDomUwIJf/rUqgApf0SLtbtID1WTj\n",
              "obpsl2UYTIL8vVylAA7TRZFKbSgR7Zu9RWIW1c/uHStWewiZLaXw5w71BZcxHwUScRd3O3+O++PI\n",
              "8fBHEimC0Wf10WGyTqkxNaeGbA3hCx3p29mnrZMa6ENnAej9M6/9xQ6fCcfgykOHys70xxRyw/lH\n",
              "uy+zvzkUnXLx2eWWflG3701oo9nprmrfa9kAAAB8QZ9ORRE8EP8ADN3+A77h2E9be0BqIoQ4AA1b\n",
              "ujb5f/7wfjUcBF/p5jcQl2QeNl80FW9eynMWYQ9ZZuHujHeec5tIKriSexhDeSq0W2iC7TNLe9QV\n",
              "fw36obC19WlMFftXZHGaLQWfQU63PWRUilR/L8maTG4ylvMULHkETwAAAF4Bn210Q/8AHP8LVw05\n",
              "9V/7KVjkw83SA906cADrx8Lj8pIYjzoMbPqM/oyNAUfm0H/zX3XsinXozQD3qZiCiN0SyOgzExnd\n",
              "52NaPM3/MQs6A5XdrK5WvSR3+0oMc1bBAAAAbAGfb2pD/wAcTCFCxbzcUHRPsAILSYMPpGSlGDAI\n",
              "KWfTKMl8SrEBU3eOd9dLf/45aHvle60/WTyZ1rFMidZyNlrNgxn92VVugAuIsVs2v33x6gMbzaoY\n",
              "Bt/7vVYYgmQXSbYIBEus4r5t1depcAAAAMtBm3FJqEFomUwIJf/+tSqABquQ+yYPP0BqAA0Y3BMo\n",
              "cQWqlNkkOesZ/7Hgpw4TKCg4PUYxedWtwjZ8NkM18HOD8odKiuhKsR0EI53zZLrZrE90F5Ix1scC\n",
              "pZqH+h37zLlP3BgWB4n1zbCUx41i+NsiHgNT1clAkDfR94a0MgNYE0Xnzq8nEmTNVtLCNOdsF+97\n",
              "Sle7lV+/RosHpeSrajG7oAHJulszrPQYzLyOWbx4nRjp8ts0BYGFKayxuile5BjYu5JWereD6f4g\n",
              "bwAAAK5Bm5NJ4QpSZTBREsEv/rUqgAZ7mQ8fpb5HvjeEmrHHBTWAo9fgZigaeZ/FPIPsXorRj6nl\n",
              "jd35R1r/9cuU7GGwdT/jX1rRb3Q6OdxhGeb0LK3tln6X9sxYUgmXA2Tt9q/SRSUCJklB74tgctL/\n",
              "OieSz/hXLIGF8RROSLuff3k0870RJBQYLqcCckpgZRyff6u5a8Z00OAu8E0fvTifOxArvvjlrbc7\n",
              "PT4x4lSlimEAAAA4AZ+yakP/ABIokJE76ugtxUHh3BTP2ADlx8Lj8pIYjzoMbe6TbxO2jJ8UV7Bl\n",
              "9FfwHtjo3bNAYkAAAAB8QZu0SeEOiZTAgn/+tSqABoPlKWAChMjGqHABqW3Mvj/mVS7Fl69Wy3KU\n",
              "3rT3ZUSiX1bh7/+ciSalIqjxevdQvTb4hO/6MSEpOwvWL73A4p5P7h9/u5WXBiuynEhro8QLeekB\n",
              "k1EEgS465qe9rOJs0xojkTIRwi2wHIxpwAAAAOVBm9VJ4Q8mUwIJ//61KoAGe2yUADmbzsUXGhl1\n",
              "isVsjmIVkcoViY/+SJNho+MJ/KhsVAOP5HkNOb5m6en8fM+YtOW4zLUUzBeaW/9NPH63dIhN0pNu\n",
              "yyPc8mVkATUepgBMPDUKrEgz4EfFMcIy4Su6xE7mCpQKw7j+vgR/N0eW3V3hu1m4neQjBa7/ODco\n",
              "NySFyT5IHHsTW4ynviFs+hzlWFLJkq0T+pIbwVJUgH7wOwAqI181asM2bGPLATFleXZTwDbRJ1+B\n",
              "8els5IcUi+FTQ5lNGF+8g1YlavdPdgB6fEoPOLztAAAAgkGb+UnhDyZTAgn//rUqgAaC2Q7R0lXA\n",
              "AmtSS77r5hmwS2wfmZwQG0U/rCPo3j79QVnZR3xWYVcgAKRgujMn8MOoMORwHIA1dDFtLr6Wg8IY\n",
              "lsICXsP4kZSPelqnlALwela+rFJL3wP/z5w84Sgy+VFe+iNXiivqGhUaiq91oDWhcygAAABiQZ4X\n",
              "RRE8EP8ACBNx/NrejAjIF+o+mVG3kQANCOZ16XHlNXDInrNiX/fsSxq1NREUhAq4btwSvoj3nfmd\n",
              "Y4bWau43OSMuuEb9BAes3g9nxrAy+IEum3+9BBnskVrPz4Cg2FUAAAAzAZ42dEP/ABJVyk8iMZg4\n",
              "M6snvBhTQln17AB0R//CRBPBUAUnAFS9SA5FqsScf5t7CqvBAAAAdwGeOGpD/wASWDLhvUAE6oHP\n",
              "/P4K6Fuz7pqJHZgyOjkJXzgNr3IcWz7Hbmtlbq4myEcBaaGnaF/ceVD9ifpUDhTFusjyEu84B51I\n",
              "/HKQxJebZtkf1UjY9e5VIhFg1l05/VXYRZ0NV/zhHyLfefSrCnPz03nCYMmAAAAA40GaPUmoQWiZ\n",
              "TAgn//61KoAGo1HDjS1b7AABla0u606eRD9Tr0RIWf//Hgm0JSXcR1rYfz8eP+a3mFSjrkQnCjx8\n",
              "p2GdNzieYXtshxuRvFKxhopk9+WEz5V38Z3H8SF1I/MOmwYAJFg6ATT/QgGwEK2BVfUITBQbzZ/D\n",
              "JfDfsoGcjaSz9v2bK6Mz61UMWCBdxKKVb9jh2VrqWoc+9ZvKYguirbP/ICJTKC0PcTUCIMMPtu/z\n",
              "FzF+Z9rZFaCrey2T1vebGVaeNRDv4kX0m7iLlUG0/dlXDAuqFzaegJtu5Lq5JnSZAAAAokGeW0UR\n",
              "LBD/AAzd/gD6nlEAAFvXeG9Pe8hzCQBYdHKHYWiYdf+/w+xDDXybZPQmj/7tA+sDc5S3nJztWLpn\n",
              "ADdDiQD9gzXE5G1pfL7VwZI7SuFiSPCqz8YVWkmF7I0UkOnsJ3c8l3kGl6aSROiBnzW7dCp6DJCS\n",
              "M8KmHBj8f3TkVuJ/LcrWCyarp+4NKCxoLSsjlOPAFp+iEzyK12Yod+5HTAAAAKoBnnp0Q/8AG5/8\n",
              "zUGN0R95gJz4eUCK2FL96wAXw5oFMz7P2gYM5Kuvg/r51i9jOeOvgANg8tEYO4xO9WxHoyCmia2N\n",
              "KkM8sB6pFNjoJBy6I6Fhs5LQt4DMYYIeo6r8L0jHWuU3/8GkxejwCNroBmv6HjFSvz2SSSqWuwAE\n",
              "dUIEDEcBvu2Wqef+lYmoYP8ThdRj1IoJlWwOj0i/QnyKl8H8IlDU8m84dUMZgQAAAOMBnnxqQ/8A\n",
              "HE7GlSE7rh2ko9/gxAAnb5Ervn9HaE32i+ysElFLIMR2ytFKfZN/XRUmw8hb//ZvL0+GSqpHzvzi\n",
              "hAfzWk9GRT1x7tGK84Gc8vX9lUmcM42n6tu5B1nwEVMDhJt0WaPYEVGBdrGd7i12jFB8AjWZP70L\n",
              "XObkaNnxiEmVHiJPWgVQLjX30oWZlmp3UWIwyuf32udhtYDCk/+LYVSRCIWukVUwPTYo41qfoj5L\n",
              "Tsx6PjFFYlUWKVhBYFj1lon+Xr6XQhHrrFJNeldPDS/atHjWztClCklFo0NGG7IcEQAAARpBmmFJ\n",
              "qEFsmUwIJ//+tSqACl4FAwtdRkLGkHlSEqG/jqeAYy4f2xTpe/xm3q///FHCQe9mTdQNa1Ms0dp7\n",
              "DA8VsBKFcuksEu6pm8iDdfyogStnQBD7k7Q5BtxqR/qJC31ZBRXIkNeKEj70vQfrygCXxvEg0xsU\n",
              "7PVMQg8wM9Uf+6X5V+QxUg44w8zkjrtu/lCX77OS9nDxEZDHMy7EmdXVoKI6crQ+EHzxtsDRpvnd\n",
              "fmaS738D6xUfAGloJanHfVew2hXjI44wBE9OwCTHtCBOcH/PezuqxeQ9+L1zTX/AJmhceQD+Wnwg\n",
              "3ccYoEPrM7nUcvecWZd+FhZhoegu8nYe6weaLOTJiyjIKnsVnKxp2HhP99oK3h+2lYAAAACtQZ6f\n",
              "RRUsEP8ADN0OmT1kRrlwTnH6nXV5/G+ABCBnRt8wFz4OVpqeIlPx9kKww/BLEo7KZxdonCB2s+Jt\n",
              "pl0oivyz4COt5GM+12ebOb/VQY7ysMufwmvR70HaajHefemyZIWbWbjtA8tNtWR/ppvbyYn40u2L\n",
              "nh10iDtYN95z8NJDOnjk2+0VUMyGPwl5MBVPb07aEAn+1VSHx5CRhUk+w8vD0B0of/mK2h0kysAA\n",
              "AACXAZ6+dEP/ABxNOrf0uj1X+1MOtZcqrV8HgAvYryCUmNufekZ6x3rwVBP/5vjIpP8s56k6nljr\n",
              "TRhoTNvwPs47rvaCPoQgWIUGaBPK3eVOBNrWF0gY83ujwPjrcl7zu8BRqBVpH4Ga6UTnd+owkBNn\n",
              "5hOR3oZ85mZas1lGfYbFQZktjK4OLQMy4m+SkPLBOZI/N3BczQrBgQAAAKgBnqBqQ/8ALVyaAC6p\n",
              "1f/7/Am6Ir+c+/9Id1b61s1ukGTMLIuqzd1Xup02YPkGaGJ2r421QcEYf8HNM3FHaBVjQlZzTn9d\n",
              "HvrnoLiCCoszeDZfbjdhpG6sn9FLD3F0u+YkH7rLUpU5kfDCGB02j1iOt2DPukX/ALJyb8ROC6rm\n",
              "BYdObpbwLwC2G4YKRVRBP6TezReGRitYkjUeIAA9dOqGDBbsbeJWQfgAAAEnQZqjSahBbJlMFEwT\n",
              "//61KoAQBxFOAD+rqv/xCZlW1BaNX2/8kSaViS7fZh5kLn6NLIvs0CeB6NsrfoQmdX+fEPc/Mdyr\n",
              "+jlC+Z6QbY123ds0Olh+QYi8e9NLbQdSTQ0T2uKq+OFMHbX+l6YVpj5wEcOr+fujwSE0lE9ZwoA5\n",
              "gp96R06v28ETRC22xcmzSnm6p6KpgkEkHO969XUAgX173EvK2JaWgYkBfn+MsZbZUE9+jZHBtH/P\n",
              "3TqPKtC+MhE2HHkJ47Ijxe329LjRyaqPSh/dKcw3z5FLv6wMprqtVysp3N0368zMxN+WTaOOyHez\n",
              "59YtJdHhUXgpX8HAvFTk6dT35/uM0NQ6sgogpisquF5iF7Tpjmf+1c2AU9rnHHgriY/2hUSTHwAA\n",
              "ALkBnsJqQ/8ALUTn3NRqnfqAC3WWsT3+yt6olOhm5zQ+OxXOwN4i2VJKmZ867QMwgmepafK76ifH\n",
              "9fQpOPAW+A0onJqrbWHJj8CN/ymMhHnlNCZ7gSfOQpPQ0bPXMSJdnXVjU9E9VnGmgL+0rcqWNBE5\n",
              "gwcSut5hvsD4upQ2uKYAkGXcERLdBwPoxFUlH2u0XtjlSSa4qXM7tNNSa5LnzZ1p4HDgUVMD418/\n",
              "BthA1e4I/DJdyzueJVUvgAAAAkNBmsVJ4QpSZTBSwT/+tSqAEBzofN8iYgAGVrS77fq5i5WTzw8a\n",
              "2MKJGgxFfxf/4oBT8GWOOa3c44rj1IbSYe8DVJ76+OIh2c1p3pnN5QZhnYPLi0wVko+gLd2OWDZz\n",
              "bjg4c6OFLpyQxCJluE/acn4g7AUehmT0WqBe+wcM5TPNnhSiIpmEL05gA3HGuSXDp8HvsyjWlBb/\n",
              "qXtS/mAov9yQAX6nlylotF/yhARy9MLFcJmmOUFQL29YVr6gTj5HNF88Ca2Fa4rrWG7wT1YTIkee\n",
              "JZTG2mOvCs5CQNov8K8+/d0VDY+vH7jxTxE71hRjxiz+xF0BpdpRMkzGbv8JIwn/tchPfEC199d2\n",
              "8CYWuQ9qiPuN2URiKxKTnWYF8Kk0DC8vx3bUBYzvnYWaRL9j92pKfq0epzz+QdRBvnfuQQXKSlsI\n",
              "dbXI1i8+zeaHmsvUWxw/qfstrXt/A6Pnoj09HqFwF01Vz1PTZmfS+6AP7twPFy5gNGBM2kBkIdwS\n",
              "dV4Gxd+DW7LvKDaaKtXbbsZSw87X86XgfG/1j/vYJqn0Klz2lwyNz9t86FYmpUgjXjvoYW7Dptaz\n",
              "ui9P6CpQ6Xa76WyKk2AwID+p83dtjucLU9Bmds5phjk5DxumGbrCqDVkQNlt//X2PiqULy6lCU9s\n",
              "xc+HXlDTbTNFjGKK0FY2sFJhCkwO2+KnFC4o1SE3ITeZ8dHLKmHc96X7OkLNtkn2xKHhJVLBCIrt\n",
              "TkY4HlF8GRBcJkVxHaELfO1aPQLqk69cQZvwWcEAAAC0AZ7kakP/AC0VGMtqJjQARAwJ/7DAkofY\n",
              "Sm8P8+vT0CxzjZscwksVcd/+WkdPwJ4zQt5eFnAx1CEkSasrMZPE8yswvEEqqiAmPLIw0HnI/KzY\n",
              "FqF4BFnXyKwz7mrUPmtE+SwQdeo5xvaeR9cwKFEyYHqhXbGytno+YQTp2oVgBZLRaBhsZJlFCmYT\n",
              "3eI4LGUbTwz58yR0bD4cgLdMTqIOFp1wZw56bnF/GUL+GylNFpUgGNdPAAACAkGa6UnhDomUwIJf\n",
              "/rUqgByByHD16CMhmFc+IrQAEIq8R7o++zPWt5YL5InRYHhvkT3LaGd5FjOEyVu603bXdETssCRs\n",
              "mDcpVSeHwjcPKGKm8k97NVPMiSzkGvbjjiK+6aBPRshZC447XyxtytffUO2s9XKot/G4JKodKeKQ\n",
              "IDg2zolaRyWpdJIfmBJLTMIxar6GuuTev6fbcA2mJnAEMi+MBmS1mH/hWk+fHb65bygTl1O/3IlE\n",
              "irJroseIa/28KUiskkfBhatvtAhhRILuWXJzfqM6WeRAPVjRS/Vfmmu1C5bLo/QEI4xDD+YbUwds\n",
              "R4XEAxc08jvAvo6Gq4p60iIZx7Cf3lnzy6gJiIFfJmFMsPjmoGlb9g4+8Ko3+acvm3Sb4hwm2aLg\n",
              "egNyawwcmGla901dgcrB+AYqP+iBR2f4VpjyxQy+n8zbe2fRlYm/1tFDWvI6q7xaVAGZur0fkYxp\n",
              "HcgOWwJmEY7ioGn2YXUnFboS1Un3zrXc3qxoogqzrzNtOaFXPHexYyqdpB4w0XfxcINjx7tCZHvd\n",
              "NlEQ4hoF2bokKKLhVUxrozy9Y7072Uxg9HAN0f5nvZq+WA4zuwI6UP9VmOJHMEg9qYO0/2KPXbfw\n",
              "xdF6UdhZ9xa4Fwy7CdLa5OeWgOcXDtxS4OBvat8480pNfQXDO2y+LK6bowscTrkAAAByQZ8HRRU8\n",
              "EP8AH5nuE5ufYdZKRFcXw/PlEz1mjrHIAFLWDXPjGw6qluUb8Nl3scb8ceXJWISQYeYlDDRVipu9\n",
              "f0F7ekZgkfQQ2YLpYjgzbDrUJRvHYG/LWkSnjIXTFtRUGYz037eI0AwR042WBrTLITXRAAABgQGf\n",
              "JnRD/wBG4y5CrZtY/wAX18SP+Pt306wT8kkhvVq2EaLD/8JCPLYbgGMvZ9eYTZJYYMsm/KBfqdnb\n",
              "sP9e40zlkpMkVxrG/wWroO1/mp+WgWUjxBP7iAvRX73rFrSKlZ1qjS1/4JCpauJOBVcog6lgdXyi\n",
              "4Zyuvv7h77XJ2mWlW4SNuDnX/vedwg42gaS+VKjy+9MqU21y8ZthzGtMLrDXrm/rYVanux9p610W\n",
              "P0QSO3fTJl7Usq498YCvf4Ily856u//zlog/it3G8tnEgnqDLvdMLQE9//3/M+/Gr/IJ8EkYJlpG\n",
              "wgyT4c1qjQNc6iVDUF4AxPIgpFl/tuq2+XUzglx2l8hQSBTPwgCrXROyi21UmP8kwaw5M1BDZVxz\n",
              "R3053JfKlR5fhgG5xMMuo5AF1hr1XAL0LSJgAL6A0XQVcneya9M+FmS0gcWO42FQpYO98v8KwXAP\n",
              "Y4+0/tUa3mBO+Zse41D8e6BSemdQDeyXHC6K3slAZDlFA9NhkSEqNzAAAAHfAZ8oakP/AEblZmDE\n",
              "BvAXaAB2l1GO5SXfTrBPySSGSe11Nyf/wkI8thuAYRCvhx/EsMGWTfmXRlV+OrYqafnFVLL5fzGP\n",
              "+LTtLyOlI672azhck5CrSdpfPLnio8rECuqGT3eqTbsPs47WMC1KuPfphstIBmE/9ZvrXFosZFb6\n",
              "IkPDv8A2uni6bQ/rcfrcN1NiC/dYlXuP4QHyDYa0PUd+AHnUkwBDggUigB+ipd4igddFlRcH/P3J\n",
              "ToFzR+92uVW9G2RnRb2V+NO7cEiPFcf2tVGdnOgVZ2jERT23eYUuRMKHJHADHCmrs1ioSx9fL/KB\n",
              "/JOw0OZgFG+RI4E7MDCjUftE5c2YGvKIU2yP8AvIsPXBUyWV6fTfY6zqpBdg+rbW6T9lpyauzr0Y\n",
              "eP3QhEYuq6mkgxSe90G6XtlpMim1N/KvXtVhfKJtCaDMX3ORqlEfiZnxtu/c3syTIEQIj1E8P4ZY\n",
              "zdKmg14zM8EOF8xZ8GlYnYeTn/7dz6dDaf9hTRBu55DZPGW/Vi3TAPMVid4h5rl8FZmVwqal33bm\n",
              "8MYCz+p5PTIP6RjeHawSn7WLuT9O5JVjpRfRCju35BvsqWSEpRe1t0V48GfExnOb60SejJStY3Vu\n",
              "AaGsOchLd5SfHmAAAABBQZsrSahBaJlMFPBD//6qVQAV34vdy1baK9n4K1WGT25gJ9YB47Cf7F0q\n",
              "a/qtb9Au8TTPIYZrJL06PY8hzxZV+4EAAAIVAZ9KakP/AEYiPvv+H6yu2AB14+Fx+Ukj5JG+J0nH\n",
              "/sQEPYaeaSfQGcsDy7KLgs/hzLAm1RqVsL21ltOWFB2CyKw++l7xUtlrQ/Ugkg6WfKj0UZBVHO0r\n",
              "YtiyBuKA1JUP+I0UiqAkV8TrWh8870Wd5OOCOdPAh8WjMfun9vzQdGaTkgIplpaMFEUTmKhwYhhF\n",
              "pFHwFKsf2+OY2jM/MNoDes4JIdihxXg/irbhzwTHzwGjix20X9RV9tgMNO0vh8nhSPqX+MtX5QWb\n",
              "Na3XXeassljRGBRzsFu/mXZTCaqfqVrORlVQrCvYv9Zzn/O20jill3yaJyNNgP7BhTpPjnbeSCw+\n",
              "z2ukzX+1N9TvDe757ojhQ5J1whWENVHB8eFf1URhmAp5aO52BDZ21OFrjfkjuTwuEMYf6/EDBkH3\n",
              "72oKigefc7e+mtj+MN4h0AUqBauYxTPqet6sJdQc3J9lU48htGxYlccwN4ktduZx/QOZi3JfJwRh\n",
              "fKJuu5ja1uRqyEfiDKTcem5TP9nRhu+LS24FieH8MskgcZmUeMzPBDhfMWNomUNZrk5/+3dGEGad\n",
              "SCBAtCrDgfocbyBXJiuWNXMVzuiMkfjDxM9QeUPB2l7np7rwj7T/vGE/r0ah28i77tYu5PnOr0d8\n",
              "EerMGNCPQbjyDvXCwn5UgjoTNKhpw5edIHxwI13TzcvocvE427cAR+T7cDwbocAAAAIGQZtMSeEK\n",
              "UmUwIf/+qZYA3HhW14qG0ZXbAA68fC4/KSR8kjfE6Tj/2ICHsNPNJPoDOWB5dlFwWfw5lgTao1K2\n",
              "F7ay65OFB2CyKw++l7xUtlrQ/Ugkg6WfKj0UZBVHO0rYxxL8V5wplzi8jjQT46DgPWouJaPO8nHB\n",
              "HOniO0WnbvWfOd/hq33RICKZaWjBRFE6v7h7wqZ0xzqbfHMbRmfmG0BvWcEkOxQ4rwf1AvILzeWd\n",
              "iqHFjtov6ir7bAYadpfD5VxOdpcCCtRce1rddd5qyyWNEYFHOwW7+ZdlMJqp+pWs5GVVCsK9i/1n\n",
              "Of87bR9NnpwSJil11rXpaYU6T4523kgw9jap1XCYs31O8N7tlNvhjFRuEKwhqo4Pjwr+qiMMwFPL\n",
              "R3OwIf5iQLCClBBPC4QxhpUYIYcH372oGHwqffc3zF23u23gPFrwItXMYpuH69WEhoObk+uZ4CQ2\n",
              "jYsSuOYG8SWu3M4sWEN9Mh8nBGF8om67mNrW5GrIR+H2mHNKxTZOcVZaIfH84u3VNNZQ4zMo8Zme\n",
              "CHC+YsbRMoazXJz/9u6MIM06kEDg81hM5q8gVyYrljVzFc7oH8eh8woZbZQ8HaXufkWahymC6bc1\n",
              "a5Fnx/ZnzswnueJPd8EerMGPWxUOD/Ruwn5UgjoTNKhpw5edIHxm0XkPzL6HLxONuc2LMWQmg/IA\n",
              "AAUqbW9vdgAAAGxtdmhkAAAAAAAAAAAAAAAAAAAD6AAAIygAAQAAAQAAAAAAAAAAAAAAAAEAAAAA\n",
              "AAAAAAAAAAAAAAABAAAAAAAAAAAAAAAAAABAAAAAAAAAAAAAAAAAAAAAAAAAAAAAAAAAAAAAAAAA\n",
              "AgAABFR0cmFrAAAAXHRraGQAAAADAAAAAAAAAAAAAAABAAAAAAAAIygAAAAAAAAAAAAAAAAAAAAA\n",
              "AAEAAAAAAAAAAAAAAAAAAAABAAAAAAAAAAAAAAAAAABAAAAAASAAAAEgAAAAAAAkZWR0cwAAABxl\n",
              "bHN0AAAAAAAAAAEAACMoAAAQAAABAAAAAAPMbWRpYQAAACBtZGhkAAAAAAAAAAAAAAAAAAAoAAAB\n",
              "aABVxAAAAAAALWhkbHIAAAAAAAAAAHZpZGUAAAAAAAAAAAAAAABWaWRlb0hhbmRsZXIAAAADd21p\n",
              "bmYAAAAUdm1oZAAAAAEAAAAAAAAAAAAAACRkaW5mAAAAHGRyZWYAAAAAAAAAAQAAAAx1cmwgAAAA\n",
              "AQAAAzdzdGJsAAAAs3N0c2QAAAAAAAAAAQAAAKNhdmMxAAAAAAAAAAEAAAAAAAAAAAAAAAAAAAAA\n",
              "ASABIABIAAAASAAAAAAAAAABAAAAAAAAAAAAAAAAAAAAAAAAAAAAAAAAAAAAAAAAAAAAGP//AAAA\n",
              "MWF2Y0MBZAAM/+EAGGdkAAys2UEgloQAAAMABAAAAwAoPFCmWAEABmjr48siwAAAABx1dWlka2hA\n",
              "8l8kT8W6OaUbzwMj8wAAAAAAAAAYc3R0cwAAAAAAAAABAAAALQAACAAAAAAUc3RzcwAAAAAAAAAB\n",
              "AAAAAQAAAVhjdHRzAAAAAAAAACkAAAADAAAQAAAAAAEAACAAAAAAAgAACAAAAAABAAAoAAAAAAEA\n",
              "ABAAAAAAAQAAAAAAAAABAAAIAAAAAAEAABgAAAAAAQAACAAAAAABAAAQAAAAAAEAACgAAAAAAQAA\n",
              "EAAAAAABAAAAAAAAAAEAAAgAAAAAAQAAEAAAAAABAAAYAAAAAAEAAAgAAAAAAgAAEAAAAAABAAAo\n",
              "AAAAAAEAABAAAAAAAQAAAAAAAAABAAAIAAAAAAEAACgAAAAAAQAAEAAAAAABAAAAAAAAAAEAAAgA\n",
              "AAAAAQAAKAAAAAABAAAQAAAAAAEAAAAAAAAAAQAACAAAAAABAAAYAAAAAAEAAAgAAAAAAQAAGAAA\n",
              "AAABAAAIAAAAAAEAACgAAAAAAQAAEAAAAAABAAAAAAAAAAEAAAgAAAAAAQAAGAAAAAABAAAIAAAA\n",
              "AAEAABAAAAAAHHN0c2MAAAAAAAAAAQAAAAEAAAAtAAAAAQAAAMhzdHN6AAAAAAAAAAAAAAAtAAAM\n",
              "bQAAAbwAAABlAAABGgAAAIsAAAB2AAABCgAAALEAAABgAAAAdwAAAL0AAABzAAAAcgAAAKoAAACA\n",
              "AAAAYgAAAHAAAADPAAAAsgAAADwAAACAAAAA6QAAAIYAAABmAAAANwAAAHsAAADnAAAApgAAAK4A\n",
              "AADnAAABHgAAALEAAACbAAAArAAAASsAAAC9AAACRwAAALgAAAIGAAAAdgAAAYUAAAHjAAAARQAA\n",
              "AhkAAAIKAAAAFHN0Y28AAAAAAAAAAQAAACwAAABidWR0YQAAAFptZXRhAAAAAAAAACFoZGxyAAAA\n",
              "AAAAAABtZGlyYXBwbAAAAAAAAAAAAAAAAC1pbHN0AAAAJal0b28AAAAdZGF0YQAAAAEAAAAATGF2\n",
              "ZjU3LjgzLjEwMA==\n",
              "\">\n",
              "  Your browser does not support the video tag.\n",
              "</video>"
            ],
            "text/plain": [
              "<IPython.core.display.HTML object>"
            ]
          },
          "metadata": {},
          "execution_count": 45
        }
      ]
    },
    {
      "cell_type": "markdown",
      "metadata": {
        "id": "LWiIQC8odG2w"
      },
      "source": [
        "## `@jitclass`"
      ]
    },
    {
      "cell_type": "markdown",
      "metadata": {
        "id": "gHWGTINVk8QK"
      },
      "source": [
        "Внедряется поддержка декоратора для классов, но в данный момент это является экспериментальным функционалом. [Документация](https://numba.pydata.org/numba-doc/latest/user/jitclass.html)"
      ]
    },
    {
      "cell_type": "markdown",
      "metadata": {
        "id": "KzLY6rOnzd4q"
      },
      "source": [
        "## Why my loop is not vectorized?"
      ]
    },
    {
      "cell_type": "code",
      "metadata": {
        "id": "Th9s4NMvzhif"
      },
      "source": [
        "# import llvmlite.binding as llvm\n",
        "# llvm.set_option('', '--debug-only=loop-vectorize')"
      ],
      "execution_count": null,
      "outputs": []
    },
    {
      "cell_type": "markdown",
      "metadata": {
        "id": "gtE1ebYVznK_"
      },
      "source": [
        "```\n",
        "LV: Vectorization is possible but not beneficial.\n",
        "LV: Interleaving is not beneficial.\n",
        "...\n",
        "LV: Can't vectorize due to memory conflicts\n",
        "...\n",
        "LV: Not vectorizing: loop did not meet vectorization requirements.\n",
        "```\n",
        "\n"
      ]
    },
    {
      "cell_type": "markdown",
      "metadata": {
        "id": "Mz2d1CSabs9r"
      },
      "source": [
        "\n",
        "## [Ссылки и материалы](https://numba.pydata.org/numba-doc/latest/user/talks.html)"
      ]
    },
    {
      "cell_type": "markdown",
      "metadata": {
        "id": "RjVkzp8FlP5A"
      },
      "source": [
        "Миникурсы со страницы документации `Numba`:  \n",
        "> **SciPy 2017** - Numba: Tell those C++ Bullies to Get Lost - Gil Forsyth & Lorena Barba ([Video](https://www.youtube.com/watch?v=1AwG0T4gaO0), [Notebooks](https://github.com/gforsyth/numba_tutorial_scipy2017))  \n",
        "**GPU Technology Conference 2018** - GPU Computing in Python with Numba - Stan Seibert ([Notebooks](https://github.com/ContinuumIO/gtc2018-numba))  \n",
        "**PyData Amsterdam 2019** - Create CUDA kernels from Python using Numba and CuPy - Valentin Haenel ([Video](https://www.youtube.com/watch?v=CQDsT81GyS8))\n"
      ]
    },
    {
      "cell_type": "markdown",
      "metadata": {
        "id": "rAn-7yYUmUG1"
      },
      "source": [
        "**Сравнение Numba и Numpy в некоторых задачах**  \n",
        "https://numba.pydata.org/numba-examples/"
      ]
    },
    {
      "cell_type": "markdown",
      "metadata": {
        "id": "Y8Cpnh9FmpfD"
      },
      "source": [
        "**Performance Tips**  \n",
        "https://numba.readthedocs.io/en/stable/user/performance-tips.html?highlight=performance%20tips"
      ]
    }
  ]
}