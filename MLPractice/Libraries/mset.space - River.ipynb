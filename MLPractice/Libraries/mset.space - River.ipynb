{
 "cells": [
  {
   "cell_type": "markdown",
   "id": "9b77a7c2",
   "metadata": {},
   "source": [
    "## River\n",
    "Библиотека, которая позволяет обучать модели с помощью потоковых данных. Ниже приведен пример с логистической регрессией, которая определяет ялвяется ли сайт фишинговым."
   ]
  },
  {
   "cell_type": "code",
   "execution_count": 2,
   "id": "5d240729",
   "metadata": {},
   "outputs": [
    {
     "name": "stdout",
     "output_type": "stream",
     "text": [
      "Collecting river\n",
      "  Using cached river-0.8.0-cp38-cp38-win_amd64.whl (1.4 MB)\n",
      "Requirement already satisfied: scipy>=1.4.1 in c:\\users\\user\\anaconda3\\lib\\site-packages (from river) (1.6.2)\n",
      "Requirement already satisfied: numpy>=1.18.1 in c:\\users\\user\\anaconda3\\lib\\site-packages (from river) (1.20.1)\n",
      "Requirement already satisfied: pandas>=1.0.1 in c:\\users\\user\\anaconda3\\lib\\site-packages (from river) (1.2.4)\n",
      "Requirement already satisfied: pytz>=2017.3 in c:\\users\\user\\anaconda3\\lib\\site-packages (from pandas>=1.0.1->river) (2021.1)\n",
      "Requirement already satisfied: python-dateutil>=2.7.3 in c:\\users\\user\\anaconda3\\lib\\site-packages (from pandas>=1.0.1->river) (2.8.1)\n",
      "Requirement already satisfied: six>=1.5 in c:\\users\\user\\anaconda3\\lib\\site-packages (from python-dateutil>=2.7.3->pandas>=1.0.1->river) (1.15.0)\n",
      "Installing collected packages: river\n",
      "Successfully installed river-0.8.0\n"
     ]
    }
   ],
   "source": [
    "!pip install river"
   ]
  },
  {
   "cell_type": "code",
   "execution_count": 1,
   "id": "075bb9b0",
   "metadata": {},
   "outputs": [
    {
     "name": "stdout",
     "output_type": "stream",
     "text": [
      "ROCAUC: 0.893565\n"
     ]
    }
   ],
   "source": [
    "\"\"\"\n",
    "    dataset - это не загруженный набор данных, а поток.\n",
    "    for x, y in datasets: - чтение потока данных, или, проще говоря, чтение всего файла.\n",
    "    model.learn_one(x, y) - говорит о том, что модель можно в будущем дообучать.\n",
    "    metric.update(y, y_pred) - метрику также можно уточнять с течением времени.\n",
    "    model.predict_proba_one(x) - предсказывает вероятность классификации классов.\n",
    "\"\"\"\n",
    "\n",
    "from river import datasets\n",
    "from river import linear_model\n",
    "from river import metrics\n",
    "\n",
    "\n",
    "dataset = datasets.Phishing()\n",
    "model = linear_model.LogisticRegression()\n",
    "metric = metrics.ROCAUC()\n",
    "\n",
    "for x, y in dataset:\n",
    "    y_pred = model.predict_proba_one(x)\n",
    "    model.learn_one(x, y)\n",
    "    metric.update(y, y_pred)\n",
    "\n",
    "print(metric)"
   ]
  },
  {
   "cell_type": "markdown",
   "id": "efddb178",
   "metadata": {},
   "source": [
    "## Чтение данных\n",
    "\n",
    "В river признаки сэмпла хранятся внутри словаря, который в Python называется dict и является собственной структурой данных. Другими словами, мы не используем никаких сложных структур данных, таких как numpy.ndarray или pandas.DataFrame. \n",
    "\n",
    "Какие у этого преимущества? Одно из преимуществ заключается в том, что dict устраняет накладные расходы, связанные с использованием вышеупомянутых структур данных. Это дает нам скорость в обучении модели.\n",
    "\n",
    "Следует отметить, что уже готовый датасет datasets.Phishing() мы можем прочитать самостоятельно, а следовательно и любой другой csv и тем самым настроить потоковое чтение."
   ]
  },
  {
   "cell_type": "code",
   "execution_count": 2,
   "id": "9ccb7f62",
   "metadata": {},
   "outputs": [
    {
     "data": {
      "text/plain": [
       "{'moment': datetime.datetime(2016, 10, 5, 9, 57, 18),\n",
       " 'station': 'pomme',\n",
       " 'clouds': 88,\n",
       " 'description': 'overcast clouds',\n",
       " 'humidity': 84,\n",
       " 'pressure': 1017.34,\n",
       " 'temperature': 17.45,\n",
       " 'wind': 1.95}"
      ]
     },
     "execution_count": 2,
     "metadata": {},
     "output_type": "execute_result"
    }
   ],
   "source": [
    "dataset = datasets.Bikes()\n",
    "for x, y in dataset:\n",
    "    pass\n",
    "x"
   ]
  },
  {
   "cell_type": "markdown",
   "id": "caf02f90",
   "metadata": {},
   "source": [
    "#### С помощью river.stream.iter_csv(...) можно настроить потоковое чтение."
   ]
  },
  {
   "cell_type": "code",
   "execution_count": 3,
   "id": "056a646d",
   "metadata": {},
   "outputs": [
    {
     "data": {
      "text/plain": [
       "{'moment': '2016-04-01 00:00:07',\n",
       " 'bikes': '1',\n",
       " 'station': 'metro-canal-du-midi',\n",
       " 'clouds': '75',\n",
       " 'description': 'light rain',\n",
       " 'humidity': '81',\n",
       " 'pressure': '1017.0',\n",
       " 'temperature': '6.54',\n",
       " 'wind': '9.3'}"
      ]
     },
     "execution_count": 3,
     "metadata": {},
     "output_type": "execute_result"
    }
   ],
   "source": [
    "from river import stream\n",
    "\n",
    "ds = stream.iter_csv(dataset.path)\n",
    "x, y = next(ds)\n",
    "x"
   ]
  },
  {
   "cell_type": "markdown",
   "id": "47112396",
   "metadata": {},
   "source": [
    "#### Однако все поля имеют строковый тип, поэтому нужно добавить дополнительные настройки."
   ]
  },
  {
   "cell_type": "code",
   "execution_count": 4,
   "id": "bc6d562a",
   "metadata": {
    "scrolled": true
   },
   "outputs": [
    {
     "data": {
      "text/plain": [
       "{'moment': datetime.datetime(2016, 4, 1, 0, 0, 7),\n",
       " 'station': 'metro-canal-du-midi',\n",
       " 'clouds': 75,\n",
       " 'description': 'light rain',\n",
       " 'humidity': 81,\n",
       " 'pressure': 1017.0,\n",
       " 'temperature': 6.54,\n",
       " 'wind': 9.3}"
      ]
     },
     "execution_count": 4,
     "metadata": {},
     "output_type": "execute_result"
    }
   ],
   "source": [
    "ds = stream.iter_csv(\n",
    "    dataset.path,\n",
    "    converters={\n",
    "        'bikes': int,\n",
    "        'clouds': int,\n",
    "        'humidity': int,\n",
    "        'pressure': float,\n",
    "        'temperature': float,\n",
    "        'wind': float\n",
    "    },\n",
    "    parse_dates={'moment': '%Y-%m-%d %H:%M:%S'},\n",
    "    target='bikes')\n",
    "\n",
    "x, y = next(ds)\n",
    "x"
   ]
  },
  {
   "cell_type": "markdown",
   "id": "a576f799",
   "metadata": {},
   "source": [
    "## Pipeline\n",
    "Compose.Pipeline содержит всю логику для построения и применения конвейеров. Конвейер - это, по сути, список оценщиков, которые применяются последовательно. Единственное требование - чтобы первые $n - 1$ ступень были трансформаторами. Последним шагом может быть регрессор, классификатор, кластеризатор, преобразователь и т.д. Вот пример: "
   ]
  },
  {
   "cell_type": "code",
   "execution_count": 5,
   "id": "3b105ada",
   "metadata": {},
   "outputs": [
    {
     "data": {
      "text/html": [
       "<html><body><div class=\"pipeline\"><details class=\"estimator\"><summary><pre class=\"estimator-name\">StandardScaler</pre></summary><code class=\"estimator-params\">\n",
       "{'counts': Counter(),\n",
       " 'means': defaultdict(&lt;class 'float'&gt;, {}),\n",
       " 'vars': defaultdict(&lt;class 'float'&gt;, {}),\n",
       " 'with_std': True}\n",
       "\n",
       "</code></details><details class=\"estimator\"><summary><pre class=\"estimator-name\">PolynomialExtender</pre></summary><code class=\"estimator-params\">\n",
       "{'bias_name': 'bias',\n",
       " 'degree': 2,\n",
       " 'include_bias': False,\n",
       " 'interaction_only': False}\n",
       "\n",
       "</code></details><details class=\"estimator\"><summary><pre class=\"estimator-name\">LinearRegression</pre></summary><code class=\"estimator-params\">\n",
       "{'_weights': {},\n",
       " '_y_name': None,\n",
       " 'clip_gradient': 1000000000000.0,\n",
       " 'initializer': Zeros (),\n",
       " 'intercept': 0.0,\n",
       " 'intercept_init': 0.0,\n",
       " 'intercept_lr': Constant({'learning_rate': 0.01}),\n",
       " 'l2': 0.0,\n",
       " 'loss': Squared({}),\n",
       " 'optimizer': SGD({'lr': Constant({'learning_rate': 0.01}), 'n_iterations': 0})}\n",
       "\n",
       "</code></details></div></body><style>\n",
       ".estimator {\n",
       "    padding: 1em;\n",
       "    border-style: solid;\n",
       "    background: white;\n",
       "}\n",
       "\n",
       ".pipeline {\n",
       "    display: flex;\n",
       "    flex-direction: column;\n",
       "    align-items: center;\n",
       "    background: linear-gradient(#000, #000) no-repeat center / 3px 100%;\n",
       "}\n",
       "\n",
       ".union {\n",
       "    display: flex;\n",
       "    flex-direction: row;\n",
       "    align-items: center;\n",
       "    justify-content: center;\n",
       "    padding: 1em;\n",
       "    border-style: solid;\n",
       "    background: white\n",
       "}\n",
       "\n",
       "/* Vertical spacing between steps */\n",
       "\n",
       ".estimator + .estimator,\n",
       ".estimator + .union,\n",
       ".union + .estimator {\n",
       "    margin-top: 2em;\n",
       "}\n",
       "\n",
       ".union > .estimator {\n",
       "    margin-top: 0;\n",
       "}\n",
       "\n",
       "/* Spacing within a union of estimators */\n",
       "\n",
       ".union >\n",
       ".estimator + .estimator,\n",
       ".pipeline + .estimator,\n",
       ".estimator + .pipeline,\n",
       ".pipeline + .pipeline {\n",
       "    margin-left: 1em;\n",
       "}\n",
       "\n",
       "/* Typography */\n",
       ".estimator-params {\n",
       "    display: block;\n",
       "    white-space: pre-wrap;\n",
       "    font-size: 120%;\n",
       "    margin-bottom: -1em;\n",
       "}\n",
       "\n",
       ".estimator > code {\n",
       "    background-color: white !important;\n",
       "}\n",
       "\n",
       ".estimator-name {\n",
       "    display: inline;\n",
       "    margin: 0;\n",
       "    font-size: 130%;\n",
       "}\n",
       "\n",
       "/* Toggle */\n",
       "\n",
       "summary {\n",
       "    display: flex;\n",
       "    align-items:center;\n",
       "    cursor: pointer;\n",
       "}\n",
       "\n",
       "summary > div {\n",
       "    width: 100%;\n",
       "}\n",
       "</style></html>"
      ],
      "text/plain": [
       "Pipeline (\n",
       "  StandardScaler (\n",
       "    with_std=True\n",
       "  ),\n",
       "  PolynomialExtender (\n",
       "    degree=2\n",
       "    interaction_only=False\n",
       "    include_bias=False\n",
       "    bias_name=\"bias\"\n",
       "  ),\n",
       "  LinearRegression (\n",
       "    optimizer=SGD (\n",
       "      lr=Constant (\n",
       "        learning_rate=0.01\n",
       "      )\n",
       "    )\n",
       "    loss=Squared ()\n",
       "    l2=0.\n",
       "    intercept_init=0.\n",
       "    intercept_lr=Constant (\n",
       "      learning_rate=0.01\n",
       "    )\n",
       "    clip_gradient=1e+12\n",
       "    initializer=Zeros ()\n",
       "  )\n",
       ")"
      ]
     },
     "execution_count": 5,
     "metadata": {},
     "output_type": "execute_result"
    }
   ],
   "source": [
    "from river import compose\n",
    "from river import preprocessing\n",
    "from river import feature_extraction\n",
    "\n",
    "model = compose.Pipeline(\n",
    "    preprocessing.StandardScaler(),\n",
    "    feature_extraction.PolynomialExtender(),\n",
    "    linear_model.LinearRegression()\n",
    ")\n",
    "\n",
    "# можно визуализировать построенную модель\n",
    "model"
   ]
  },
  {
   "cell_type": "markdown",
   "id": "b85a0a96",
   "metadata": {},
   "source": [
    "Также можно строить Pipeline и другим способом"
   ]
  },
  {
   "cell_type": "code",
   "execution_count": 6,
   "id": "7f95952f",
   "metadata": {
    "scrolled": true
   },
   "outputs": [
    {
     "data": {
      "text/html": [
       "<html><body><div class=\"pipeline\"><details class=\"estimator\"><summary><pre class=\"estimator-name\">StandardScaler</pre></summary><code class=\"estimator-params\">\n",
       "{'counts': Counter(),\n",
       " 'means': defaultdict(&lt;class 'float'&gt;, {}),\n",
       " 'vars': defaultdict(&lt;class 'float'&gt;, {}),\n",
       " 'with_std': True}\n",
       "\n",
       "</code></details><details class=\"estimator\"><summary><pre class=\"estimator-name\">PolynomialExtender</pre></summary><code class=\"estimator-params\">\n",
       "{'bias_name': 'bias',\n",
       " 'degree': 2,\n",
       " 'include_bias': False,\n",
       " 'interaction_only': False}\n",
       "\n",
       "</code></details><details class=\"estimator\"><summary><pre class=\"estimator-name\">LinearRegression</pre></summary><code class=\"estimator-params\">\n",
       "{'_weights': {},\n",
       " '_y_name': None,\n",
       " 'clip_gradient': 1000000000000.0,\n",
       " 'initializer': Zeros (),\n",
       " 'intercept': 0.0,\n",
       " 'intercept_init': 0.0,\n",
       " 'intercept_lr': Constant({'learning_rate': 0.01}),\n",
       " 'l2': 0.0,\n",
       " 'loss': Squared({}),\n",
       " 'optimizer': SGD({'lr': Constant({'learning_rate': 0.01}), 'n_iterations': 0})}\n",
       "\n",
       "</code></details></div></body><style>\n",
       ".estimator {\n",
       "    padding: 1em;\n",
       "    border-style: solid;\n",
       "    background: white;\n",
       "}\n",
       "\n",
       ".pipeline {\n",
       "    display: flex;\n",
       "    flex-direction: column;\n",
       "    align-items: center;\n",
       "    background: linear-gradient(#000, #000) no-repeat center / 3px 100%;\n",
       "}\n",
       "\n",
       ".union {\n",
       "    display: flex;\n",
       "    flex-direction: row;\n",
       "    align-items: center;\n",
       "    justify-content: center;\n",
       "    padding: 1em;\n",
       "    border-style: solid;\n",
       "    background: white\n",
       "}\n",
       "\n",
       "/* Vertical spacing between steps */\n",
       "\n",
       ".estimator + .estimator,\n",
       ".estimator + .union,\n",
       ".union + .estimator {\n",
       "    margin-top: 2em;\n",
       "}\n",
       "\n",
       ".union > .estimator {\n",
       "    margin-top: 0;\n",
       "}\n",
       "\n",
       "/* Spacing within a union of estimators */\n",
       "\n",
       ".union >\n",
       ".estimator + .estimator,\n",
       ".pipeline + .estimator,\n",
       ".estimator + .pipeline,\n",
       ".pipeline + .pipeline {\n",
       "    margin-left: 1em;\n",
       "}\n",
       "\n",
       "/* Typography */\n",
       ".estimator-params {\n",
       "    display: block;\n",
       "    white-space: pre-wrap;\n",
       "    font-size: 120%;\n",
       "    margin-bottom: -1em;\n",
       "}\n",
       "\n",
       ".estimator > code {\n",
       "    background-color: white !important;\n",
       "}\n",
       "\n",
       ".estimator-name {\n",
       "    display: inline;\n",
       "    margin: 0;\n",
       "    font-size: 130%;\n",
       "}\n",
       "\n",
       "/* Toggle */\n",
       "\n",
       "summary {\n",
       "    display: flex;\n",
       "    align-items:center;\n",
       "    cursor: pointer;\n",
       "}\n",
       "\n",
       "summary > div {\n",
       "    width: 100%;\n",
       "}\n",
       "</style></html>"
      ],
      "text/plain": [
       "Pipeline (\n",
       "  StandardScaler (\n",
       "    with_std=True\n",
       "  ),\n",
       "  PolynomialExtender (\n",
       "    degree=2\n",
       "    interaction_only=False\n",
       "    include_bias=False\n",
       "    bias_name=\"bias\"\n",
       "  ),\n",
       "  LinearRegression (\n",
       "    optimizer=SGD (\n",
       "      lr=Constant (\n",
       "        learning_rate=0.01\n",
       "      )\n",
       "    )\n",
       "    loss=Squared ()\n",
       "    l2=0.\n",
       "    intercept_init=0.\n",
       "    intercept_lr=Constant (\n",
       "      learning_rate=0.01\n",
       "    )\n",
       "    clip_gradient=1e+12\n",
       "    initializer=Zeros ()\n",
       "  )\n",
       ")"
      ]
     },
     "execution_count": 6,
     "metadata": {},
     "output_type": "execute_result"
    }
   ],
   "source": [
    "model = (\n",
    "    preprocessing.StandardScaler() |\n",
    "    feature_extraction.PolynomialExtender() |\n",
    "    linear_model.LinearRegression()\n",
    ")\n",
    "\n",
    "model"
   ]
  },
  {
   "cell_type": "markdown",
   "id": "af93dc4e",
   "metadata": {},
   "source": [
    "## MLPRegressor"
   ]
  },
  {
   "cell_type": "code",
   "execution_count": 7,
   "id": "15a680ad",
   "metadata": {},
   "outputs": [
    {
     "data": {
      "text/plain": [
       "MAE: 1.589827"
      ]
     },
     "execution_count": 7,
     "metadata": {},
     "output_type": "execute_result"
    }
   ],
   "source": [
    "from river import datasets\n",
    "from river import evaluate\n",
    "from river import neural_net as nn\n",
    "from river import optim\n",
    "from river import preprocessing as pp\n",
    "from river import metrics\n",
    "\n",
    "model = (\n",
    "    pp.StandardScaler() |\n",
    "    nn.MLPRegressor(\n",
    "        hidden_dims=(5,),\n",
    "        activations=(\n",
    "            nn.activations.ReLU,\n",
    "            nn.activations.ReLU,\n",
    "            nn.activations.Identity\n",
    "        ),\n",
    "        optimizer=optim.SGD(1e-3),\n",
    "        seed=42\n",
    "    )\n",
    ")\n",
    "\n",
    "dataset = datasets.TrumpApproval()\n",
    "\n",
    "metric = metrics.MAE()\n",
    "\n",
    "evaluate.progressive_val_score(dataset, model, metric)"
   ]
  }
 ],
 "metadata": {
  "kernelspec": {
   "display_name": "Python 3",
   "language": "python",
   "name": "python3"
  },
  "language_info": {
   "codemirror_mode": {
    "name": "ipython",
    "version": 3
   },
   "file_extension": ".py",
   "mimetype": "text/x-python",
   "name": "python",
   "nbconvert_exporter": "python",
   "pygments_lexer": "ipython3",
   "version": "3.8.8"
  }
 },
 "nbformat": 4,
 "nbformat_minor": 5
}
