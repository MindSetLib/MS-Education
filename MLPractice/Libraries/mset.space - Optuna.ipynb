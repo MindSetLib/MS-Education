{
 "cells": [
  {
   "cell_type": "markdown",
   "metadata": {},
   "source": [
    "https://mset.space - платформа для проведения анализа данных, построения моделей и внедрения моделей в продукцию.\n",
    "\n",
    "\n",
    "https://mset.space - platform for data analysis, model building and implementation into production.\n",
    "\n",
    "\n",
    "Ноутбуки для платформы mset.space\n",
    "https://github.com/MindSetLib/MS-Education\n",
    "\n",
    "Low code ML - библиотека машинного обучения\n",
    "https://github.com/MindSetLib/Insolver\n",
    "\n",
    "\n",
    "Телеграм канал платформы\n",
    "https://t.me/msetspace\n",
    "\n",
    "Связь с разработчиками:\n",
    "telegram: @frankshikhaliev\n",
    "email: request@mind-set.ru"
   ]
  },
  {
   "cell_type": "markdown",
   "metadata": {
    "id": "3s7vAS7dzVXz"
   },
   "source": [
    "# Optuna\n",
    "### Установка"
   ]
  },
  {
   "cell_type": "markdown",
   "metadata": {
    "id": "RrHLky7tziwN"
   },
   "source": [
    "Библиотека [Optuna](https://optuna.org/) создана для автоматического поиска оптимальных гиперпараметров моделей. "
   ]
  },
  {
   "cell_type": "markdown",
   "metadata": {
    "id": "YVqZFsYH0fYK"
   },
   "source": [
    "Посмотрим, установлена ли библиотека. Если установлена, то в output ячейки будет написана версия. В нашем случае библиотека не установлена."
   ]
  },
  {
   "cell_type": "code",
   "execution_count": null,
   "metadata": {
    "id": "F3rC-q2Xy7AF"
   },
   "outputs": [],
   "source": [
    "#freeze: отобразит список установленных библиотек\n",
    "#| grep: найдёт указаное после название и выведет в output\n",
    "!pip freeze | grep optuna"
   ]
  },
  {
   "cell_type": "markdown",
   "metadata": {
    "id": "jBNXTggM029-"
   },
   "source": [
    "Установим библиотеку Optuna."
   ]
  },
  {
   "cell_type": "code",
   "execution_count": null,
   "metadata": {
    "colab": {
     "base_uri": "https://localhost:8080/"
    },
    "id": "8hUy8cLE05Q9",
    "outputId": "bf5f836c-ca7c-456f-b908-d3a5026c9550"
   },
   "outputs": [
    {
     "name": "stdout",
     "output_type": "stream",
     "text": [
      "\u001b[K     |████████████████████████████████| 266kB 5.9MB/s eta 0:00:01\n",
      "\u001b[?25h  Installing build dependencies ... \u001b[?25l\u001b[?25hdone\n",
      "  Getting requirements to build wheel ... \u001b[?25l\u001b[?25hdone\n",
      "    Preparing wheel metadata ... \u001b[?25l\u001b[?25hdone\n",
      "\u001b[K     |████████████████████████████████| 163kB 30.6MB/s \n",
      "\u001b[K     |████████████████████████████████| 81kB 5.0MB/s \n",
      "\u001b[K     |████████████████████████████████| 81kB 8.2MB/s \n",
      "\u001b[K     |████████████████████████████████| 51kB 6.7MB/s \n",
      "\u001b[K     |████████████████████████████████| 133kB 25.3MB/s \n",
      "\u001b[K     |████████████████████████████████| 112kB 27.0MB/s \n",
      "\u001b[?25h  Building wheel for optuna (PEP 517) ... \u001b[?25l\u001b[?25hdone\n",
      "  Building wheel for PrettyTable (setup.py) ... \u001b[?25l\u001b[?25hdone\n",
      "  Building wheel for pyperclip (setup.py) ... \u001b[?25l\u001b[?25hdone\n"
     ]
    }
   ],
   "source": [
    "# -q: флажек, чтобы не отображать подробную информацию в output\n",
    "!pip install optuna -q"
   ]
  },
  {
   "cell_type": "markdown",
   "metadata": {
    "id": "KRUmgdpA1HH4"
   },
   "source": [
    "Проверим снова."
   ]
  },
  {
   "cell_type": "code",
   "execution_count": null,
   "metadata": {
    "colab": {
     "base_uri": "https://localhost:8080/"
    },
    "id": "TeMTGr1F09b0",
    "outputId": "2f3e7fc8-021e-4478-b4d2-8d1c46e23561"
   },
   "outputs": [
    {
     "name": "stdout",
     "output_type": "stream",
     "text": [
      "optuna==2.3.0\n"
     ]
    }
   ],
   "source": [
    "!pip freeze | grep optuna"
   ]
  },
  {
   "cell_type": "markdown",
   "metadata": {
    "id": "6uEG0Poy1uNn"
   },
   "source": [
    "Библиотека установлена, можно приступать к работе."
   ]
  },
  {
   "cell_type": "markdown",
   "metadata": {
    "id": "b-iBTKyX3MPh"
   },
   "source": [
    "### Оптимизация целевой функции"
   ]
  },
  {
   "cell_type": "code",
   "execution_count": null,
   "metadata": {
    "id": "24DkDTGm4e-z"
   },
   "outputs": [],
   "source": [
    "import joblib\n",
    "import optuna\n",
    "\n",
    "import pandas as pd"
   ]
  },
  {
   "cell_type": "markdown",
   "metadata": {
    "id": "VDU7NK4M3Uig"
   },
   "source": [
    "Обычно библиотека Optuna используется для автоматического поиска гиперпараметров, но чтобы разобрать концепцию библиотеки, мы будем оптимизируем квадратичную функцию $(x - 2)^2$.\n",
    "\n",
    "Функцию, которую планируем оптимизировать, будем называть **целевой функцией (objective)**."
   ]
  },
  {
   "cell_type": "markdown",
   "metadata": {
    "id": "aqq2UXOA5hPE"
   },
   "source": [
    "Наша задача найти $x$, при котором целевая функция $(x - 2)^2$ достигает минимума. Для этого нам необходимо определить функцию `objective`, в качестве аргумента передать ей объект `trial` и вернуть значение целевой функции. `trial` модуль можно использовать для получения гиперпараметров. Функция `objective` вызывается библиотекой `Optuna` много раз, чтобы найти оптимальные параметры."
   ]
  },
  {
   "cell_type": "code",
   "execution_count": null,
   "metadata": {
    "id": "CUWVdspFzUyu"
   },
   "outputs": [],
   "source": [
    "def objective(trial: optuna.Trial):\n",
    "    x = trial.suggest_uniform('x', -10, 10) # укажем диапазон значений для x \n",
    "    return (x - 2) ** 2                     # вернем значение целевой функции"
   ]
  },
  {
   "cell_type": "markdown",
   "metadata": {
    "id": "Me9004drCP9o"
   },
   "source": [
    "Используя модуль `trial` можно указать пространство параметров, следующиx видов:"
   ]
  },
  {
   "cell_type": "code",
   "execution_count": null,
   "metadata": {
    "id": "hm95muXBCoSI"
   },
   "outputs": [],
   "source": [
    "# Categorical parameter\n",
    "optimizer = trial.suggest_categorical('optimizer', ['MomentumSGD', 'Adam']) # вначале указываем название переменной 'optimizer', \n",
    "                                                                            # после указываем диапазон значений\n",
    "# Int parameter\n",
    "num_layers = trial.suggest_int('num_layers', 1, 3)\n",
    "\n",
    "# Uniform parameter\n",
    "dropout_rate = trial.suggest_uniform('dropout_rate', 0.0, 1.0)\n",
    "\n",
    "# Loguniform parameter\n",
    "learning_rate = trial.suggest_loguniform('learning_rate', 1e-5, 1e-2)\n",
    "\n",
    "# Discrete-uniform parameter\n",
    "drop_path_rate = trial.suggest_discrete_uniform('drop_path_rate', 0.0, 1.0, 0.1)"
   ]
  },
  {
   "cell_type": "markdown",
   "metadata": {
    "id": "GKf7y_mLCCDj"
   },
   "source": [
    "Чтобы начать оптимизацию, нам достаточно записать всего 2 строчки кода!"
   ]
  },
  {
   "cell_type": "code",
   "execution_count": null,
   "metadata": {
    "colab": {
     "base_uri": "https://localhost:8080/"
    },
    "id": "Etf50UXHI2B_",
    "outputId": "4a5115cb-a386-496c-b05e-d9d881bd9d38"
   },
   "outputs": [
    {
     "name": "stderr",
     "output_type": "stream",
     "text": [
      "\u001b[32m[I 2020-12-01 17:46:01,755]\u001b[0m A new study created in memory with name: no-name-26d947eb-1c2b-42f2-b7ad-fe06bce4a253\u001b[0m\n",
      "\u001b[32m[I 2020-12-01 17:46:01,758]\u001b[0m Trial 0 finished with value: 2.1345192992690367 and parameters: {'x': 3.460999417956433}. Best is trial 0 with value: 2.1345192992690367.\u001b[0m\n",
      "\u001b[32m[I 2020-12-01 17:46:01,763]\u001b[0m Trial 1 finished with value: 45.46167089849976 and parameters: {'x': -4.742527040991364}. Best is trial 0 with value: 2.1345192992690367.\u001b[0m\n",
      "\u001b[32m[I 2020-12-01 17:46:01,767]\u001b[0m Trial 2 finished with value: 29.193698914064246 and parameters: {'x': 7.403119368852057}. Best is trial 0 with value: 2.1345192992690367.\u001b[0m\n",
      "\u001b[32m[I 2020-12-01 17:46:01,769]\u001b[0m Trial 3 finished with value: 21.583477659413884 and parameters: {'x': 6.645802154570713}. Best is trial 0 with value: 2.1345192992690367.\u001b[0m\n",
      "\u001b[32m[I 2020-12-01 17:46:01,775]\u001b[0m Trial 4 finished with value: 111.01984012795677 and parameters: {'x': -8.536595281586779}. Best is trial 0 with value: 2.1345192992690367.\u001b[0m\n",
      "\u001b[32m[I 2020-12-01 17:46:01,778]\u001b[0m Trial 5 finished with value: 10.087297507204397 and parameters: {'x': -1.1760506147107286}. Best is trial 0 with value: 2.1345192992690367.\u001b[0m\n",
      "\u001b[32m[I 2020-12-01 17:46:01,779]\u001b[0m Trial 6 finished with value: 51.539215979646045 and parameters: {'x': -5.179081834026274}. Best is trial 0 with value: 2.1345192992690367.\u001b[0m\n",
      "\u001b[32m[I 2020-12-01 17:46:01,780]\u001b[0m Trial 7 finished with value: 6.9910178424643465 and parameters: {'x': -0.6440532979621167}. Best is trial 0 with value: 2.1345192992690367.\u001b[0m\n",
      "\u001b[32m[I 2020-12-01 17:46:01,782]\u001b[0m Trial 8 finished with value: 0.2025858824850264 and parameters: {'x': 1.5499045851321895}. Best is trial 8 with value: 0.2025858824850264.\u001b[0m\n",
      "\u001b[32m[I 2020-12-01 17:46:01,783]\u001b[0m Trial 9 finished with value: 1.0806818949151362 and parameters: {'x': 0.9604414903839533}. Best is trial 8 with value: 0.2025858824850264.\u001b[0m\n"
     ]
    }
   ],
   "source": [
    "study = optuna.create_study()           # optuna.create_study(direction = 'maximize') если хотим максимизировать функцию\n",
    "study.optimize(objective, n_trials=10)"
   ]
  },
  {
   "cell_type": "markdown",
   "metadata": {
    "id": "le4FnSUeTTUB"
   },
   "source": [
    "Целевую функцию можно не только минимизировать, но и оптимизировать, для этого необходимо указать параметр `direction = 'maximize'`"
   ]
  },
  {
   "cell_type": "code",
   "execution_count": null,
   "metadata": {
    "id": "ZnnHkJcOTe5Q"
   },
   "outputs": [],
   "source": [
    "optuna.create_study(direction = 'maximize')"
   ]
  },
  {
   "cell_type": "markdown",
   "metadata": {
    "id": "noO0Mwx3TiAA"
   },
   "source": [
    "Можно эксперименту задать уникальное имя"
   ]
  },
  {
   "cell_type": "code",
   "execution_count": null,
   "metadata": {
    "id": "rTP1yko9Tl84"
   },
   "outputs": [],
   "source": [
    "optuna.create_study(study_name = 'unique_name')"
   ]
  },
  {
   "cell_type": "markdown",
   "metadata": {
    "id": "AbpoOKSoUXzz"
   },
   "source": [
    "Узнать имя эксперимента"
   ]
  },
  {
   "cell_type": "code",
   "execution_count": null,
   "metadata": {
    "colab": {
     "base_uri": "https://localhost:8080/",
     "height": 35
    },
    "id": "kN_cuCaZUWcq",
    "outputId": "2b87b98b-b81a-4642-902e-e7038fb790e4"
   },
   "outputs": [
    {
     "data": {
      "application/vnd.google.colaboratory.intrinsic+json": {
       "type": "string"
      },
      "text/plain": [
       "'no-name-26d947eb-1c2b-42f2-b7ad-fe06bce4a253'"
      ]
     },
     "execution_count": 9,
     "metadata": {
      "tags": []
     },
     "output_type": "execute_result"
    }
   ],
   "source": [
    "study.study_name"
   ]
  },
  {
   "cell_type": "markdown",
   "metadata": {
    "id": "gs7VMCNPJtJO"
   },
   "source": [
    "Получить лучшие параметры"
   ]
  },
  {
   "cell_type": "code",
   "execution_count": null,
   "metadata": {
    "colab": {
     "base_uri": "https://localhost:8080/"
    },
    "id": "VyyEV1oOJpIX",
    "outputId": "8acec9f7-9b2b-475c-feea-ce9f9a65dd73"
   },
   "outputs": [
    {
     "data": {
      "text/plain": [
       "{'x': 1.5499045851321895}"
      ]
     },
     "execution_count": 10,
     "metadata": {
      "tags": []
     },
     "output_type": "execute_result"
    }
   ],
   "source": [
    "study.best_params"
   ]
  },
  {
   "cell_type": "markdown",
   "metadata": {
    "id": "8DRiOavaKQm2"
   },
   "source": [
    "Получить лучшее минимальное значение целевой функции"
   ]
  },
  {
   "cell_type": "code",
   "execution_count": null,
   "metadata": {
    "colab": {
     "base_uri": "https://localhost:8080/"
    },
    "id": "RnwkyvsYKN-2",
    "outputId": "76694805-f6e6-4536-9079-0e4c73c14dd1"
   },
   "outputs": [
    {
     "data": {
      "text/plain": [
       "0.2025858824850264"
      ]
     },
     "execution_count": 11,
     "metadata": {
      "tags": []
     },
     "output_type": "execute_result"
    }
   ],
   "source": [
    "study.best_value"
   ]
  },
  {
   "cell_type": "markdown",
   "metadata": {
    "id": "TnUmVrkA6Kds"
   },
   "source": [
    "Получить параметры лучшего запуска `trial`"
   ]
  },
  {
   "cell_type": "code",
   "execution_count": null,
   "metadata": {
    "colab": {
     "base_uri": "https://localhost:8080/"
    },
    "id": "s7m1cZ2lzU1W",
    "outputId": "a6153f87-2029-439e-db67-df97fe0593c1"
   },
   "outputs": [
    {
     "data": {
      "text/plain": [
       "FrozenTrial(number=8, value=0.2025858824850264, datetime_start=datetime.datetime(2020, 12, 1, 17, 46, 1, 781798), datetime_complete=datetime.datetime(2020, 12, 1, 17, 46, 1, 781994), params={'x': 1.5499045851321895}, distributions={'x': UniformDistribution(high=10, low=-10)}, user_attrs={}, system_attrs={}, intermediate_values={}, trial_id=8, state=TrialState.COMPLETE)"
      ]
     },
     "execution_count": 12,
     "metadata": {
      "tags": []
     },
     "output_type": "execute_result"
    }
   ],
   "source": [
    "study.best_trial"
   ]
  },
  {
   "cell_type": "markdown",
   "metadata": {
    "id": "5sY7rnukK8bx"
   },
   "source": [
    "Запустив метод `optimize` мы можем продолжить оптимизацию"
   ]
  },
  {
   "cell_type": "code",
   "execution_count": null,
   "metadata": {
    "colab": {
     "base_uri": "https://localhost:8080/"
    },
    "id": "1GFSg_oIzU3W",
    "outputId": "a953f84c-fa87-466e-c012-5443694016f3"
   },
   "outputs": [
    {
     "name": "stderr",
     "output_type": "stream",
     "text": [
      "\u001b[32m[I 2020-12-01 17:50:15,110]\u001b[0m Trial 10 finished with value: 55.89508419978993 and parameters: {'x': 9.476301505409605}. Best is trial 8 with value: 0.2025858824850264.\u001b[0m\n",
      "\u001b[32m[I 2020-12-01 17:50:15,114]\u001b[0m Trial 11 finished with value: 0.7376560671149242 and parameters: {'x': 2.8588690628465576}. Best is trial 8 with value: 0.2025858824850264.\u001b[0m\n",
      "\u001b[32m[I 2020-12-01 17:50:15,119]\u001b[0m Trial 12 finished with value: 2.456642730693781 and parameters: {'x': 3.567368090364794}. Best is trial 8 with value: 0.2025858824850264.\u001b[0m\n",
      "\u001b[32m[I 2020-12-01 17:50:15,123]\u001b[0m Trial 13 finished with value: 1.4596894468946828 and parameters: {'x': 3.208176082735742}. Best is trial 8 with value: 0.2025858824850264.\u001b[0m\n",
      "\u001b[32m[I 2020-12-01 17:50:15,127]\u001b[0m Trial 14 finished with value: 36.74479192914257 and parameters: {'x': -4.061748256826785}. Best is trial 8 with value: 0.2025858824850264.\u001b[0m\n"
     ]
    }
   ],
   "source": [
    "study.optimize(objective, n_trials=5)"
   ]
  },
  {
   "cell_type": "code",
   "execution_count": null,
   "metadata": {
    "colab": {
     "base_uri": "https://localhost:8080/"
    },
    "id": "OXI_GyK0zU58",
    "outputId": "ff77c23a-b457-499a-839b-e3e3e893c1c2"
   },
   "outputs": [
    {
     "data": {
      "text/plain": [
       "{'x': 1.5499045851321895}"
      ]
     },
     "execution_count": 14,
     "metadata": {
      "tags": []
     },
     "output_type": "execute_result"
    }
   ],
   "source": [
    "study.best_params"
   ]
  },
  {
   "cell_type": "markdown",
   "metadata": {
    "id": "-WnCNXtKRJdp"
   },
   "source": [
    "### Сохранение и загрузка истории"
   ]
  },
  {
   "cell_type": "markdown",
   "metadata": {
    "id": "raz-NLfNRNYS"
   },
   "source": [
    "Бывает в ходе эксперимента, мы добавляем или убираем какие-то переменные. Хотелось бы сохранить историю тренировок, чтобы потом её можно было востановить. Сделать эт можно несколькими способами."
   ]
  },
  {
   "cell_type": "markdown",
   "metadata": {
    "id": "GPJMg5hHOkej"
   },
   "source": [
    "Можно получить DataFrame отчёт об оптимизации и сохранить его."
   ]
  },
  {
   "cell_type": "code",
   "execution_count": null,
   "metadata": {
    "colab": {
     "base_uri": "https://localhost:8080/",
     "height": 514
    },
    "id": "RMNSl5_lOift",
    "outputId": "eb60a2fc-99c2-4716-ff8b-7ff04029d379"
   },
   "outputs": [
    {
     "data": {
      "text/html": [
       "<div>\n",
       "<style scoped>\n",
       "    .dataframe tbody tr th:only-of-type {\n",
       "        vertical-align: middle;\n",
       "    }\n",
       "\n",
       "    .dataframe tbody tr th {\n",
       "        vertical-align: top;\n",
       "    }\n",
       "\n",
       "    .dataframe thead th {\n",
       "        text-align: right;\n",
       "    }\n",
       "</style>\n",
       "<table border=\"1\" class=\"dataframe\">\n",
       "  <thead>\n",
       "    <tr style=\"text-align: right;\">\n",
       "      <th></th>\n",
       "      <th>number</th>\n",
       "      <th>value</th>\n",
       "      <th>datetime_start</th>\n",
       "      <th>datetime_complete</th>\n",
       "      <th>duration</th>\n",
       "      <th>params_x</th>\n",
       "      <th>state</th>\n",
       "    </tr>\n",
       "  </thead>\n",
       "  <tbody>\n",
       "    <tr>\n",
       "      <th>0</th>\n",
       "      <td>0</td>\n",
       "      <td>2.134519</td>\n",
       "      <td>2020-12-01 17:46:01.757983</td>\n",
       "      <td>2020-12-01 17:46:01.758489</td>\n",
       "      <td>0 days 00:00:00.000506</td>\n",
       "      <td>3.460999</td>\n",
       "      <td>COMPLETE</td>\n",
       "    </tr>\n",
       "    <tr>\n",
       "      <th>1</th>\n",
       "      <td>1</td>\n",
       "      <td>45.461671</td>\n",
       "      <td>2020-12-01 17:46:01.762345</td>\n",
       "      <td>2020-12-01 17:46:01.762665</td>\n",
       "      <td>0 days 00:00:00.000320</td>\n",
       "      <td>-4.742527</td>\n",
       "      <td>COMPLETE</td>\n",
       "    </tr>\n",
       "    <tr>\n",
       "      <th>2</th>\n",
       "      <td>2</td>\n",
       "      <td>29.193699</td>\n",
       "      <td>2020-12-01 17:46:01.767178</td>\n",
       "      <td>2020-12-01 17:46:01.767528</td>\n",
       "      <td>0 days 00:00:00.000350</td>\n",
       "      <td>7.403119</td>\n",
       "      <td>COMPLETE</td>\n",
       "    </tr>\n",
       "    <tr>\n",
       "      <th>3</th>\n",
       "      <td>3</td>\n",
       "      <td>21.583478</td>\n",
       "      <td>2020-12-01 17:46:01.768742</td>\n",
       "      <td>2020-12-01 17:46:01.768944</td>\n",
       "      <td>0 days 00:00:00.000202</td>\n",
       "      <td>6.645802</td>\n",
       "      <td>COMPLETE</td>\n",
       "    </tr>\n",
       "    <tr>\n",
       "      <th>4</th>\n",
       "      <td>4</td>\n",
       "      <td>111.019840</td>\n",
       "      <td>2020-12-01 17:46:01.774748</td>\n",
       "      <td>2020-12-01 17:46:01.774977</td>\n",
       "      <td>0 days 00:00:00.000229</td>\n",
       "      <td>-8.536595</td>\n",
       "      <td>COMPLETE</td>\n",
       "    </tr>\n",
       "    <tr>\n",
       "      <th>5</th>\n",
       "      <td>5</td>\n",
       "      <td>10.087298</td>\n",
       "      <td>2020-12-01 17:46:01.777761</td>\n",
       "      <td>2020-12-01 17:46:01.777979</td>\n",
       "      <td>0 days 00:00:00.000218</td>\n",
       "      <td>-1.176051</td>\n",
       "      <td>COMPLETE</td>\n",
       "    </tr>\n",
       "    <tr>\n",
       "      <th>6</th>\n",
       "      <td>6</td>\n",
       "      <td>51.539216</td>\n",
       "      <td>2020-12-01 17:46:01.778959</td>\n",
       "      <td>2020-12-01 17:46:01.779125</td>\n",
       "      <td>0 days 00:00:00.000166</td>\n",
       "      <td>-5.179082</td>\n",
       "      <td>COMPLETE</td>\n",
       "    </tr>\n",
       "    <tr>\n",
       "      <th>7</th>\n",
       "      <td>7</td>\n",
       "      <td>6.991018</td>\n",
       "      <td>2020-12-01 17:46:01.780062</td>\n",
       "      <td>2020-12-01 17:46:01.780202</td>\n",
       "      <td>0 days 00:00:00.000140</td>\n",
       "      <td>-0.644053</td>\n",
       "      <td>COMPLETE</td>\n",
       "    </tr>\n",
       "    <tr>\n",
       "      <th>8</th>\n",
       "      <td>8</td>\n",
       "      <td>0.202586</td>\n",
       "      <td>2020-12-01 17:46:01.781798</td>\n",
       "      <td>2020-12-01 17:46:01.781994</td>\n",
       "      <td>0 days 00:00:00.000196</td>\n",
       "      <td>1.549905</td>\n",
       "      <td>COMPLETE</td>\n",
       "    </tr>\n",
       "    <tr>\n",
       "      <th>9</th>\n",
       "      <td>9</td>\n",
       "      <td>1.080682</td>\n",
       "      <td>2020-12-01 17:46:01.783306</td>\n",
       "      <td>2020-12-01 17:46:01.783469</td>\n",
       "      <td>0 days 00:00:00.000163</td>\n",
       "      <td>0.960441</td>\n",
       "      <td>COMPLETE</td>\n",
       "    </tr>\n",
       "    <tr>\n",
       "      <th>10</th>\n",
       "      <td>10</td>\n",
       "      <td>55.895084</td>\n",
       "      <td>2020-12-01 17:50:15.107810</td>\n",
       "      <td>2020-12-01 17:50:15.110520</td>\n",
       "      <td>0 days 00:00:00.002710</td>\n",
       "      <td>9.476302</td>\n",
       "      <td>COMPLETE</td>\n",
       "    </tr>\n",
       "    <tr>\n",
       "      <th>11</th>\n",
       "      <td>11</td>\n",
       "      <td>0.737656</td>\n",
       "      <td>2020-12-01 17:50:15.111705</td>\n",
       "      <td>2020-12-01 17:50:15.114345</td>\n",
       "      <td>0 days 00:00:00.002640</td>\n",
       "      <td>2.858869</td>\n",
       "      <td>COMPLETE</td>\n",
       "    </tr>\n",
       "    <tr>\n",
       "      <th>12</th>\n",
       "      <td>12</td>\n",
       "      <td>2.456643</td>\n",
       "      <td>2020-12-01 17:50:15.116332</td>\n",
       "      <td>2020-12-01 17:50:15.118997</td>\n",
       "      <td>0 days 00:00:00.002665</td>\n",
       "      <td>3.567368</td>\n",
       "      <td>COMPLETE</td>\n",
       "    </tr>\n",
       "    <tr>\n",
       "      <th>13</th>\n",
       "      <td>13</td>\n",
       "      <td>1.459689</td>\n",
       "      <td>2020-12-01 17:50:15.121454</td>\n",
       "      <td>2020-12-01 17:50:15.123319</td>\n",
       "      <td>0 days 00:00:00.001865</td>\n",
       "      <td>3.208176</td>\n",
       "      <td>COMPLETE</td>\n",
       "    </tr>\n",
       "    <tr>\n",
       "      <th>14</th>\n",
       "      <td>14</td>\n",
       "      <td>36.744792</td>\n",
       "      <td>2020-12-01 17:50:15.124637</td>\n",
       "      <td>2020-12-01 17:50:15.127329</td>\n",
       "      <td>0 days 00:00:00.002692</td>\n",
       "      <td>-4.061748</td>\n",
       "      <td>COMPLETE</td>\n",
       "    </tr>\n",
       "  </tbody>\n",
       "</table>\n",
       "</div>"
      ],
      "text/plain": [
       "    number       value  ...  params_x     state\n",
       "0        0    2.134519  ...  3.460999  COMPLETE\n",
       "1        1   45.461671  ... -4.742527  COMPLETE\n",
       "2        2   29.193699  ...  7.403119  COMPLETE\n",
       "3        3   21.583478  ...  6.645802  COMPLETE\n",
       "4        4  111.019840  ... -8.536595  COMPLETE\n",
       "5        5   10.087298  ... -1.176051  COMPLETE\n",
       "6        6   51.539216  ... -5.179082  COMPLETE\n",
       "7        7    6.991018  ... -0.644053  COMPLETE\n",
       "8        8    0.202586  ...  1.549905  COMPLETE\n",
       "9        9    1.080682  ...  0.960441  COMPLETE\n",
       "10      10   55.895084  ...  9.476302  COMPLETE\n",
       "11      11    0.737656  ...  2.858869  COMPLETE\n",
       "12      12    2.456643  ...  3.567368  COMPLETE\n",
       "13      13    1.459689  ...  3.208176  COMPLETE\n",
       "14      14   36.744792  ... -4.061748  COMPLETE\n",
       "\n",
       "[15 rows x 7 columns]"
      ]
     },
     "execution_count": 15,
     "metadata": {
      "tags": []
     },
     "output_type": "execute_result"
    }
   ],
   "source": [
    "df = study.trials_dataframe()\n",
    "df"
   ]
  },
  {
   "cell_type": "code",
   "execution_count": null,
   "metadata": {
    "id": "ev8Nm52MSKzQ"
   },
   "outputs": [],
   "source": [
    "df.to_csv('study.csv') # сохраним в файл"
   ]
  },
  {
   "cell_type": "code",
   "execution_count": null,
   "metadata": {
    "colab": {
     "base_uri": "https://localhost:8080/",
     "height": 514
    },
    "id": "WD2xHd_BSK1p",
    "outputId": "6cd52d06-f923-463e-f924-7ee8bc96089f"
   },
   "outputs": [
    {
     "data": {
      "text/html": [
       "<div>\n",
       "<style scoped>\n",
       "    .dataframe tbody tr th:only-of-type {\n",
       "        vertical-align: middle;\n",
       "    }\n",
       "\n",
       "    .dataframe tbody tr th {\n",
       "        vertical-align: top;\n",
       "    }\n",
       "\n",
       "    .dataframe thead th {\n",
       "        text-align: right;\n",
       "    }\n",
       "</style>\n",
       "<table border=\"1\" class=\"dataframe\">\n",
       "  <thead>\n",
       "    <tr style=\"text-align: right;\">\n",
       "      <th></th>\n",
       "      <th>Unnamed: 0</th>\n",
       "      <th>number</th>\n",
       "      <th>value</th>\n",
       "      <th>datetime_start</th>\n",
       "      <th>datetime_complete</th>\n",
       "      <th>duration</th>\n",
       "      <th>params_x</th>\n",
       "      <th>state</th>\n",
       "    </tr>\n",
       "  </thead>\n",
       "  <tbody>\n",
       "    <tr>\n",
       "      <th>0</th>\n",
       "      <td>0</td>\n",
       "      <td>0</td>\n",
       "      <td>2.134519</td>\n",
       "      <td>2020-12-01 17:46:01.757983</td>\n",
       "      <td>2020-12-01 17:46:01.758489</td>\n",
       "      <td>0 days 00:00:00.000506</td>\n",
       "      <td>3.460999</td>\n",
       "      <td>COMPLETE</td>\n",
       "    </tr>\n",
       "    <tr>\n",
       "      <th>1</th>\n",
       "      <td>1</td>\n",
       "      <td>1</td>\n",
       "      <td>45.461671</td>\n",
       "      <td>2020-12-01 17:46:01.762345</td>\n",
       "      <td>2020-12-01 17:46:01.762665</td>\n",
       "      <td>0 days 00:00:00.000320</td>\n",
       "      <td>-4.742527</td>\n",
       "      <td>COMPLETE</td>\n",
       "    </tr>\n",
       "    <tr>\n",
       "      <th>2</th>\n",
       "      <td>2</td>\n",
       "      <td>2</td>\n",
       "      <td>29.193699</td>\n",
       "      <td>2020-12-01 17:46:01.767178</td>\n",
       "      <td>2020-12-01 17:46:01.767528</td>\n",
       "      <td>0 days 00:00:00.000350</td>\n",
       "      <td>7.403119</td>\n",
       "      <td>COMPLETE</td>\n",
       "    </tr>\n",
       "    <tr>\n",
       "      <th>3</th>\n",
       "      <td>3</td>\n",
       "      <td>3</td>\n",
       "      <td>21.583478</td>\n",
       "      <td>2020-12-01 17:46:01.768742</td>\n",
       "      <td>2020-12-01 17:46:01.768944</td>\n",
       "      <td>0 days 00:00:00.000202</td>\n",
       "      <td>6.645802</td>\n",
       "      <td>COMPLETE</td>\n",
       "    </tr>\n",
       "    <tr>\n",
       "      <th>4</th>\n",
       "      <td>4</td>\n",
       "      <td>4</td>\n",
       "      <td>111.019840</td>\n",
       "      <td>2020-12-01 17:46:01.774748</td>\n",
       "      <td>2020-12-01 17:46:01.774977</td>\n",
       "      <td>0 days 00:00:00.000229</td>\n",
       "      <td>-8.536595</td>\n",
       "      <td>COMPLETE</td>\n",
       "    </tr>\n",
       "    <tr>\n",
       "      <th>5</th>\n",
       "      <td>5</td>\n",
       "      <td>5</td>\n",
       "      <td>10.087298</td>\n",
       "      <td>2020-12-01 17:46:01.777761</td>\n",
       "      <td>2020-12-01 17:46:01.777979</td>\n",
       "      <td>0 days 00:00:00.000218</td>\n",
       "      <td>-1.176051</td>\n",
       "      <td>COMPLETE</td>\n",
       "    </tr>\n",
       "    <tr>\n",
       "      <th>6</th>\n",
       "      <td>6</td>\n",
       "      <td>6</td>\n",
       "      <td>51.539216</td>\n",
       "      <td>2020-12-01 17:46:01.778959</td>\n",
       "      <td>2020-12-01 17:46:01.779125</td>\n",
       "      <td>0 days 00:00:00.000166</td>\n",
       "      <td>-5.179082</td>\n",
       "      <td>COMPLETE</td>\n",
       "    </tr>\n",
       "    <tr>\n",
       "      <th>7</th>\n",
       "      <td>7</td>\n",
       "      <td>7</td>\n",
       "      <td>6.991018</td>\n",
       "      <td>2020-12-01 17:46:01.780062</td>\n",
       "      <td>2020-12-01 17:46:01.780202</td>\n",
       "      <td>0 days 00:00:00.000140</td>\n",
       "      <td>-0.644053</td>\n",
       "      <td>COMPLETE</td>\n",
       "    </tr>\n",
       "    <tr>\n",
       "      <th>8</th>\n",
       "      <td>8</td>\n",
       "      <td>8</td>\n",
       "      <td>0.202586</td>\n",
       "      <td>2020-12-01 17:46:01.781798</td>\n",
       "      <td>2020-12-01 17:46:01.781994</td>\n",
       "      <td>0 days 00:00:00.000196</td>\n",
       "      <td>1.549905</td>\n",
       "      <td>COMPLETE</td>\n",
       "    </tr>\n",
       "    <tr>\n",
       "      <th>9</th>\n",
       "      <td>9</td>\n",
       "      <td>9</td>\n",
       "      <td>1.080682</td>\n",
       "      <td>2020-12-01 17:46:01.783306</td>\n",
       "      <td>2020-12-01 17:46:01.783469</td>\n",
       "      <td>0 days 00:00:00.000163</td>\n",
       "      <td>0.960441</td>\n",
       "      <td>COMPLETE</td>\n",
       "    </tr>\n",
       "    <tr>\n",
       "      <th>10</th>\n",
       "      <td>10</td>\n",
       "      <td>10</td>\n",
       "      <td>55.895084</td>\n",
       "      <td>2020-12-01 17:50:15.107810</td>\n",
       "      <td>2020-12-01 17:50:15.110520</td>\n",
       "      <td>0 days 00:00:00.002710</td>\n",
       "      <td>9.476302</td>\n",
       "      <td>COMPLETE</td>\n",
       "    </tr>\n",
       "    <tr>\n",
       "      <th>11</th>\n",
       "      <td>11</td>\n",
       "      <td>11</td>\n",
       "      <td>0.737656</td>\n",
       "      <td>2020-12-01 17:50:15.111705</td>\n",
       "      <td>2020-12-01 17:50:15.114345</td>\n",
       "      <td>0 days 00:00:00.002640</td>\n",
       "      <td>2.858869</td>\n",
       "      <td>COMPLETE</td>\n",
       "    </tr>\n",
       "    <tr>\n",
       "      <th>12</th>\n",
       "      <td>12</td>\n",
       "      <td>12</td>\n",
       "      <td>2.456643</td>\n",
       "      <td>2020-12-01 17:50:15.116332</td>\n",
       "      <td>2020-12-01 17:50:15.118997</td>\n",
       "      <td>0 days 00:00:00.002665</td>\n",
       "      <td>3.567368</td>\n",
       "      <td>COMPLETE</td>\n",
       "    </tr>\n",
       "    <tr>\n",
       "      <th>13</th>\n",
       "      <td>13</td>\n",
       "      <td>13</td>\n",
       "      <td>1.459689</td>\n",
       "      <td>2020-12-01 17:50:15.121454</td>\n",
       "      <td>2020-12-01 17:50:15.123319</td>\n",
       "      <td>0 days 00:00:00.001865</td>\n",
       "      <td>3.208176</td>\n",
       "      <td>COMPLETE</td>\n",
       "    </tr>\n",
       "    <tr>\n",
       "      <th>14</th>\n",
       "      <td>14</td>\n",
       "      <td>14</td>\n",
       "      <td>36.744792</td>\n",
       "      <td>2020-12-01 17:50:15.124637</td>\n",
       "      <td>2020-12-01 17:50:15.127329</td>\n",
       "      <td>0 days 00:00:00.002692</td>\n",
       "      <td>-4.061748</td>\n",
       "      <td>COMPLETE</td>\n",
       "    </tr>\n",
       "  </tbody>\n",
       "</table>\n",
       "</div>"
      ],
      "text/plain": [
       "    Unnamed: 0  number       value  ...                duration  params_x     state\n",
       "0            0       0    2.134519  ...  0 days 00:00:00.000506  3.460999  COMPLETE\n",
       "1            1       1   45.461671  ...  0 days 00:00:00.000320 -4.742527  COMPLETE\n",
       "2            2       2   29.193699  ...  0 days 00:00:00.000350  7.403119  COMPLETE\n",
       "3            3       3   21.583478  ...  0 days 00:00:00.000202  6.645802  COMPLETE\n",
       "4            4       4  111.019840  ...  0 days 00:00:00.000229 -8.536595  COMPLETE\n",
       "5            5       5   10.087298  ...  0 days 00:00:00.000218 -1.176051  COMPLETE\n",
       "6            6       6   51.539216  ...  0 days 00:00:00.000166 -5.179082  COMPLETE\n",
       "7            7       7    6.991018  ...  0 days 00:00:00.000140 -0.644053  COMPLETE\n",
       "8            8       8    0.202586  ...  0 days 00:00:00.000196  1.549905  COMPLETE\n",
       "9            9       9    1.080682  ...  0 days 00:00:00.000163  0.960441  COMPLETE\n",
       "10          10      10   55.895084  ...  0 days 00:00:00.002710  9.476302  COMPLETE\n",
       "11          11      11    0.737656  ...  0 days 00:00:00.002640  2.858869  COMPLETE\n",
       "12          12      12    2.456643  ...  0 days 00:00:00.002665  3.567368  COMPLETE\n",
       "13          13      13    1.459689  ...  0 days 00:00:00.001865  3.208176  COMPLETE\n",
       "14          14      14   36.744792  ...  0 days 00:00:00.002692 -4.061748  COMPLETE\n",
       "\n",
       "[15 rows x 8 columns]"
      ]
     },
     "execution_count": 17,
     "metadata": {
      "tags": []
     },
     "output_type": "execute_result"
    }
   ],
   "source": [
    "loaded = pd.read_csv('study.csv') # загрузим файл в переменную loaded\n",
    "loaded"
   ]
  },
  {
   "cell_type": "markdown",
   "metadata": {
    "id": "2QoGpIKJSdbJ"
   },
   "source": [
    "Можно сделать дамп самого оптимизатора"
   ]
  },
  {
   "cell_type": "code",
   "execution_count": null,
   "metadata": {
    "colab": {
     "base_uri": "https://localhost:8080/"
    },
    "id": "2Ugm4UW2Shm_",
    "outputId": "b2cecd24-b8d3-4976-f1a7-9ee1fa13e778"
   },
   "outputs": [
    {
     "data": {
      "text/plain": [
       "['experiments.pkl']"
      ]
     },
     "execution_count": 18,
     "metadata": {
      "tags": []
     },
     "output_type": "execute_result"
    }
   ],
   "source": [
    "joblib.dump(study, 'experiments.pkl')  # сохраним в формате .pkl"
   ]
  },
  {
   "cell_type": "code",
   "execution_count": null,
   "metadata": {
    "id": "yf2ROq96SiIj"
   },
   "outputs": [],
   "source": [
    "study_loaded = joblib.load('experiments.pkl') # загрузим оптимизатор в переменную study_loaded"
   ]
  },
  {
   "cell_type": "code",
   "execution_count": null,
   "metadata": {
    "colab": {
     "base_uri": "https://localhost:8080/",
     "height": 514
    },
    "id": "YZk_OG8CSiR5",
    "outputId": "4cb5fb41-08b1-4bbc-d8a8-df3a14550f69"
   },
   "outputs": [
    {
     "data": {
      "text/html": [
       "<div>\n",
       "<style scoped>\n",
       "    .dataframe tbody tr th:only-of-type {\n",
       "        vertical-align: middle;\n",
       "    }\n",
       "\n",
       "    .dataframe tbody tr th {\n",
       "        vertical-align: top;\n",
       "    }\n",
       "\n",
       "    .dataframe thead th {\n",
       "        text-align: right;\n",
       "    }\n",
       "</style>\n",
       "<table border=\"1\" class=\"dataframe\">\n",
       "  <thead>\n",
       "    <tr style=\"text-align: right;\">\n",
       "      <th></th>\n",
       "      <th>number</th>\n",
       "      <th>value</th>\n",
       "      <th>datetime_start</th>\n",
       "      <th>datetime_complete</th>\n",
       "      <th>duration</th>\n",
       "      <th>params_x</th>\n",
       "      <th>state</th>\n",
       "    </tr>\n",
       "  </thead>\n",
       "  <tbody>\n",
       "    <tr>\n",
       "      <th>0</th>\n",
       "      <td>0</td>\n",
       "      <td>2.134519</td>\n",
       "      <td>2020-12-01 17:46:01.757983</td>\n",
       "      <td>2020-12-01 17:46:01.758489</td>\n",
       "      <td>0 days 00:00:00.000506</td>\n",
       "      <td>3.460999</td>\n",
       "      <td>COMPLETE</td>\n",
       "    </tr>\n",
       "    <tr>\n",
       "      <th>1</th>\n",
       "      <td>1</td>\n",
       "      <td>45.461671</td>\n",
       "      <td>2020-12-01 17:46:01.762345</td>\n",
       "      <td>2020-12-01 17:46:01.762665</td>\n",
       "      <td>0 days 00:00:00.000320</td>\n",
       "      <td>-4.742527</td>\n",
       "      <td>COMPLETE</td>\n",
       "    </tr>\n",
       "    <tr>\n",
       "      <th>2</th>\n",
       "      <td>2</td>\n",
       "      <td>29.193699</td>\n",
       "      <td>2020-12-01 17:46:01.767178</td>\n",
       "      <td>2020-12-01 17:46:01.767528</td>\n",
       "      <td>0 days 00:00:00.000350</td>\n",
       "      <td>7.403119</td>\n",
       "      <td>COMPLETE</td>\n",
       "    </tr>\n",
       "    <tr>\n",
       "      <th>3</th>\n",
       "      <td>3</td>\n",
       "      <td>21.583478</td>\n",
       "      <td>2020-12-01 17:46:01.768742</td>\n",
       "      <td>2020-12-01 17:46:01.768944</td>\n",
       "      <td>0 days 00:00:00.000202</td>\n",
       "      <td>6.645802</td>\n",
       "      <td>COMPLETE</td>\n",
       "    </tr>\n",
       "    <tr>\n",
       "      <th>4</th>\n",
       "      <td>4</td>\n",
       "      <td>111.019840</td>\n",
       "      <td>2020-12-01 17:46:01.774748</td>\n",
       "      <td>2020-12-01 17:46:01.774977</td>\n",
       "      <td>0 days 00:00:00.000229</td>\n",
       "      <td>-8.536595</td>\n",
       "      <td>COMPLETE</td>\n",
       "    </tr>\n",
       "    <tr>\n",
       "      <th>5</th>\n",
       "      <td>5</td>\n",
       "      <td>10.087298</td>\n",
       "      <td>2020-12-01 17:46:01.777761</td>\n",
       "      <td>2020-12-01 17:46:01.777979</td>\n",
       "      <td>0 days 00:00:00.000218</td>\n",
       "      <td>-1.176051</td>\n",
       "      <td>COMPLETE</td>\n",
       "    </tr>\n",
       "    <tr>\n",
       "      <th>6</th>\n",
       "      <td>6</td>\n",
       "      <td>51.539216</td>\n",
       "      <td>2020-12-01 17:46:01.778959</td>\n",
       "      <td>2020-12-01 17:46:01.779125</td>\n",
       "      <td>0 days 00:00:00.000166</td>\n",
       "      <td>-5.179082</td>\n",
       "      <td>COMPLETE</td>\n",
       "    </tr>\n",
       "    <tr>\n",
       "      <th>7</th>\n",
       "      <td>7</td>\n",
       "      <td>6.991018</td>\n",
       "      <td>2020-12-01 17:46:01.780062</td>\n",
       "      <td>2020-12-01 17:46:01.780202</td>\n",
       "      <td>0 days 00:00:00.000140</td>\n",
       "      <td>-0.644053</td>\n",
       "      <td>COMPLETE</td>\n",
       "    </tr>\n",
       "    <tr>\n",
       "      <th>8</th>\n",
       "      <td>8</td>\n",
       "      <td>0.202586</td>\n",
       "      <td>2020-12-01 17:46:01.781798</td>\n",
       "      <td>2020-12-01 17:46:01.781994</td>\n",
       "      <td>0 days 00:00:00.000196</td>\n",
       "      <td>1.549905</td>\n",
       "      <td>COMPLETE</td>\n",
       "    </tr>\n",
       "    <tr>\n",
       "      <th>9</th>\n",
       "      <td>9</td>\n",
       "      <td>1.080682</td>\n",
       "      <td>2020-12-01 17:46:01.783306</td>\n",
       "      <td>2020-12-01 17:46:01.783469</td>\n",
       "      <td>0 days 00:00:00.000163</td>\n",
       "      <td>0.960441</td>\n",
       "      <td>COMPLETE</td>\n",
       "    </tr>\n",
       "    <tr>\n",
       "      <th>10</th>\n",
       "      <td>10</td>\n",
       "      <td>55.895084</td>\n",
       "      <td>2020-12-01 17:50:15.107810</td>\n",
       "      <td>2020-12-01 17:50:15.110520</td>\n",
       "      <td>0 days 00:00:00.002710</td>\n",
       "      <td>9.476302</td>\n",
       "      <td>COMPLETE</td>\n",
       "    </tr>\n",
       "    <tr>\n",
       "      <th>11</th>\n",
       "      <td>11</td>\n",
       "      <td>0.737656</td>\n",
       "      <td>2020-12-01 17:50:15.111705</td>\n",
       "      <td>2020-12-01 17:50:15.114345</td>\n",
       "      <td>0 days 00:00:00.002640</td>\n",
       "      <td>2.858869</td>\n",
       "      <td>COMPLETE</td>\n",
       "    </tr>\n",
       "    <tr>\n",
       "      <th>12</th>\n",
       "      <td>12</td>\n",
       "      <td>2.456643</td>\n",
       "      <td>2020-12-01 17:50:15.116332</td>\n",
       "      <td>2020-12-01 17:50:15.118997</td>\n",
       "      <td>0 days 00:00:00.002665</td>\n",
       "      <td>3.567368</td>\n",
       "      <td>COMPLETE</td>\n",
       "    </tr>\n",
       "    <tr>\n",
       "      <th>13</th>\n",
       "      <td>13</td>\n",
       "      <td>1.459689</td>\n",
       "      <td>2020-12-01 17:50:15.121454</td>\n",
       "      <td>2020-12-01 17:50:15.123319</td>\n",
       "      <td>0 days 00:00:00.001865</td>\n",
       "      <td>3.208176</td>\n",
       "      <td>COMPLETE</td>\n",
       "    </tr>\n",
       "    <tr>\n",
       "      <th>14</th>\n",
       "      <td>14</td>\n",
       "      <td>36.744792</td>\n",
       "      <td>2020-12-01 17:50:15.124637</td>\n",
       "      <td>2020-12-01 17:50:15.127329</td>\n",
       "      <td>0 days 00:00:00.002692</td>\n",
       "      <td>-4.061748</td>\n",
       "      <td>COMPLETE</td>\n",
       "    </tr>\n",
       "  </tbody>\n",
       "</table>\n",
       "</div>"
      ],
      "text/plain": [
       "    number       value  ...  params_x     state\n",
       "0        0    2.134519  ...  3.460999  COMPLETE\n",
       "1        1   45.461671  ... -4.742527  COMPLETE\n",
       "2        2   29.193699  ...  7.403119  COMPLETE\n",
       "3        3   21.583478  ...  6.645802  COMPLETE\n",
       "4        4  111.019840  ... -8.536595  COMPLETE\n",
       "5        5   10.087298  ... -1.176051  COMPLETE\n",
       "6        6   51.539216  ... -5.179082  COMPLETE\n",
       "7        7    6.991018  ... -0.644053  COMPLETE\n",
       "8        8    0.202586  ...  1.549905  COMPLETE\n",
       "9        9    1.080682  ...  0.960441  COMPLETE\n",
       "10      10   55.895084  ...  9.476302  COMPLETE\n",
       "11      11    0.737656  ...  2.858869  COMPLETE\n",
       "12      12    2.456643  ...  3.567368  COMPLETE\n",
       "13      13    1.459689  ...  3.208176  COMPLETE\n",
       "14      14   36.744792  ... -4.061748  COMPLETE\n",
       "\n",
       "[15 rows x 7 columns]"
      ]
     },
     "execution_count": 20,
     "metadata": {
      "tags": []
     },
     "output_type": "execute_result"
    }
   ],
   "source": [
    "study_loaded.trials_dataframe() # откроем историю, чтобы убедится, что это наш оптимизатор"
   ]
  },
  {
   "cell_type": "markdown",
   "metadata": {
    "id": "KLz3r2TJO6gj"
   },
   "source": [
    "### Визуализация"
   ]
  },
  {
   "cell_type": "markdown",
   "metadata": {
    "id": "K12lv3kXPgqV"
   },
   "source": [
    "**История оптимизации**"
   ]
  },
  {
   "cell_type": "markdown",
   "metadata": {
    "id": "RQEKGXrdPWM7"
   },
   "source": [
    "Синяя точка — значение целевой функции с сэмплированным параметром.\n",
    "\n",
    "Красная точка — значение целевой функции, с лучшим параметром найденым в момент $t$."
   ]
  },
  {
   "cell_type": "code",
   "execution_count": null,
   "metadata": {
    "colab": {
     "base_uri": "https://localhost:8080/",
     "height": 542
    },
    "id": "YA_hAvC9O2ez",
    "outputId": "c9419ab4-76dc-4f2b-8a72-0e2a393ec341"
   },
   "outputs": [
    {
     "data": {
      "text/html": [
       "<html>\n",
       "<head><meta charset=\"utf-8\" /></head>\n",
       "<body>\n",
       "    <div>\n",
       "            <script src=\"https://cdnjs.cloudflare.com/ajax/libs/mathjax/2.7.5/MathJax.js?config=TeX-AMS-MML_SVG\"></script><script type=\"text/javascript\">if (window.MathJax) {MathJax.Hub.Config({SVG: {font: \"STIX-Web\"}});}</script>\n",
       "                <script type=\"text/javascript\">window.PlotlyConfig = {MathJaxConfig: 'local'};</script>\n",
       "        <script src=\"https://cdn.plot.ly/plotly-latest.min.js\"></script>    \n",
       "            <div id=\"2004f88d-7104-4e9f-9ba2-0b20e9c31264\" class=\"plotly-graph-div\" style=\"height:525px; width:100%;\"></div>\n",
       "            <script type=\"text/javascript\">\n",
       "                \n",
       "                    window.PLOTLYENV=window.PLOTLYENV || {};\n",
       "                    \n",
       "                if (document.getElementById(\"2004f88d-7104-4e9f-9ba2-0b20e9c31264\")) {\n",
       "                    Plotly.newPlot(\n",
       "                        '2004f88d-7104-4e9f-9ba2-0b20e9c31264',\n",
       "                        [{\"mode\": \"markers\", \"name\": \"Objective Value\", \"type\": \"scatter\", \"x\": [0, 1, 2, 3, 4, 5, 6, 7, 8, 9, 10, 11, 12, 13, 14], \"y\": [2.1345192992690367, 45.46167089849976, 29.193698914064246, 21.583477659413884, 111.01984012795677, 10.087297507204397, 51.539215979646045, 6.9910178424643465, 0.2025858824850264, 1.0806818949151362, 55.89508419978993, 0.7376560671149242, 2.456642730693781, 1.4596894468946828, 36.74479192914257]}, {\"name\": \"Best Value\", \"type\": \"scatter\", \"x\": [0, 1, 2, 3, 4, 5, 6, 7, 8, 9, 10, 11, 12, 13, 14], \"y\": [2.1345192992690367, 2.1345192992690367, 2.1345192992690367, 2.1345192992690367, 2.1345192992690367, 2.1345192992690367, 2.1345192992690367, 2.1345192992690367, 0.2025858824850264, 0.2025858824850264, 0.2025858824850264, 0.2025858824850264, 0.2025858824850264, 0.2025858824850264, 0.2025858824850264]}],\n",
       "                        {\"template\": {\"data\": {\"bar\": [{\"error_x\": {\"color\": \"#2a3f5f\"}, \"error_y\": {\"color\": \"#2a3f5f\"}, \"marker\": {\"line\": {\"color\": \"#E5ECF6\", \"width\": 0.5}}, \"type\": \"bar\"}], \"barpolar\": [{\"marker\": {\"line\": {\"color\": \"#E5ECF6\", \"width\": 0.5}}, \"type\": \"barpolar\"}], \"carpet\": [{\"aaxis\": {\"endlinecolor\": \"#2a3f5f\", \"gridcolor\": \"white\", \"linecolor\": \"white\", \"minorgridcolor\": \"white\", \"startlinecolor\": \"#2a3f5f\"}, \"baxis\": {\"endlinecolor\": \"#2a3f5f\", \"gridcolor\": \"white\", \"linecolor\": \"white\", \"minorgridcolor\": \"white\", \"startlinecolor\": \"#2a3f5f\"}, \"type\": \"carpet\"}], \"choropleth\": [{\"colorbar\": {\"outlinewidth\": 0, \"ticks\": \"\"}, \"type\": \"choropleth\"}], \"contour\": [{\"colorbar\": {\"outlinewidth\": 0, \"ticks\": \"\"}, \"colorscale\": [[0.0, \"#0d0887\"], [0.1111111111111111, \"#46039f\"], [0.2222222222222222, \"#7201a8\"], [0.3333333333333333, \"#9c179e\"], [0.4444444444444444, \"#bd3786\"], [0.5555555555555556, \"#d8576b\"], [0.6666666666666666, \"#ed7953\"], [0.7777777777777778, \"#fb9f3a\"], [0.8888888888888888, \"#fdca26\"], [1.0, \"#f0f921\"]], \"type\": \"contour\"}], \"contourcarpet\": [{\"colorbar\": {\"outlinewidth\": 0, \"ticks\": \"\"}, \"type\": \"contourcarpet\"}], \"heatmap\": [{\"colorbar\": {\"outlinewidth\": 0, \"ticks\": \"\"}, \"colorscale\": [[0.0, \"#0d0887\"], [0.1111111111111111, \"#46039f\"], [0.2222222222222222, \"#7201a8\"], [0.3333333333333333, \"#9c179e\"], [0.4444444444444444, \"#bd3786\"], [0.5555555555555556, \"#d8576b\"], [0.6666666666666666, \"#ed7953\"], [0.7777777777777778, \"#fb9f3a\"], [0.8888888888888888, \"#fdca26\"], [1.0, \"#f0f921\"]], \"type\": \"heatmap\"}], \"heatmapgl\": [{\"colorbar\": {\"outlinewidth\": 0, \"ticks\": \"\"}, \"colorscale\": [[0.0, \"#0d0887\"], [0.1111111111111111, \"#46039f\"], [0.2222222222222222, \"#7201a8\"], [0.3333333333333333, \"#9c179e\"], [0.4444444444444444, \"#bd3786\"], [0.5555555555555556, \"#d8576b\"], [0.6666666666666666, \"#ed7953\"], [0.7777777777777778, \"#fb9f3a\"], [0.8888888888888888, \"#fdca26\"], [1.0, \"#f0f921\"]], \"type\": \"heatmapgl\"}], \"histogram\": [{\"marker\": {\"colorbar\": {\"outlinewidth\": 0, \"ticks\": \"\"}}, \"type\": \"histogram\"}], \"histogram2d\": [{\"colorbar\": {\"outlinewidth\": 0, \"ticks\": \"\"}, \"colorscale\": [[0.0, \"#0d0887\"], [0.1111111111111111, \"#46039f\"], [0.2222222222222222, \"#7201a8\"], [0.3333333333333333, \"#9c179e\"], [0.4444444444444444, \"#bd3786\"], [0.5555555555555556, \"#d8576b\"], [0.6666666666666666, \"#ed7953\"], [0.7777777777777778, \"#fb9f3a\"], [0.8888888888888888, \"#fdca26\"], [1.0, \"#f0f921\"]], \"type\": \"histogram2d\"}], \"histogram2dcontour\": [{\"colorbar\": {\"outlinewidth\": 0, \"ticks\": \"\"}, \"colorscale\": [[0.0, \"#0d0887\"], [0.1111111111111111, \"#46039f\"], [0.2222222222222222, \"#7201a8\"], [0.3333333333333333, \"#9c179e\"], [0.4444444444444444, \"#bd3786\"], [0.5555555555555556, \"#d8576b\"], [0.6666666666666666, \"#ed7953\"], [0.7777777777777778, \"#fb9f3a\"], [0.8888888888888888, \"#fdca26\"], [1.0, \"#f0f921\"]], \"type\": \"histogram2dcontour\"}], \"mesh3d\": [{\"colorbar\": {\"outlinewidth\": 0, \"ticks\": \"\"}, \"type\": \"mesh3d\"}], \"parcoords\": [{\"line\": {\"colorbar\": {\"outlinewidth\": 0, \"ticks\": \"\"}}, \"type\": \"parcoords\"}], \"pie\": [{\"automargin\": true, \"type\": \"pie\"}], \"scatter\": [{\"marker\": {\"colorbar\": {\"outlinewidth\": 0, \"ticks\": \"\"}}, \"type\": \"scatter\"}], \"scatter3d\": [{\"line\": {\"colorbar\": {\"outlinewidth\": 0, \"ticks\": \"\"}}, \"marker\": {\"colorbar\": {\"outlinewidth\": 0, \"ticks\": \"\"}}, \"type\": \"scatter3d\"}], \"scattercarpet\": [{\"marker\": {\"colorbar\": {\"outlinewidth\": 0, \"ticks\": \"\"}}, \"type\": \"scattercarpet\"}], \"scattergeo\": [{\"marker\": {\"colorbar\": {\"outlinewidth\": 0, \"ticks\": \"\"}}, \"type\": \"scattergeo\"}], \"scattergl\": [{\"marker\": {\"colorbar\": {\"outlinewidth\": 0, \"ticks\": \"\"}}, \"type\": \"scattergl\"}], \"scattermapbox\": [{\"marker\": {\"colorbar\": {\"outlinewidth\": 0, \"ticks\": \"\"}}, \"type\": \"scattermapbox\"}], \"scatterpolar\": [{\"marker\": {\"colorbar\": {\"outlinewidth\": 0, \"ticks\": \"\"}}, \"type\": \"scatterpolar\"}], \"scatterpolargl\": [{\"marker\": {\"colorbar\": {\"outlinewidth\": 0, \"ticks\": \"\"}}, \"type\": \"scatterpolargl\"}], \"scatterternary\": [{\"marker\": {\"colorbar\": {\"outlinewidth\": 0, \"ticks\": \"\"}}, \"type\": \"scatterternary\"}], \"surface\": [{\"colorbar\": {\"outlinewidth\": 0, \"ticks\": \"\"}, \"colorscale\": [[0.0, \"#0d0887\"], [0.1111111111111111, \"#46039f\"], [0.2222222222222222, \"#7201a8\"], [0.3333333333333333, \"#9c179e\"], [0.4444444444444444, \"#bd3786\"], [0.5555555555555556, \"#d8576b\"], [0.6666666666666666, \"#ed7953\"], [0.7777777777777778, \"#fb9f3a\"], [0.8888888888888888, \"#fdca26\"], [1.0, \"#f0f921\"]], \"type\": \"surface\"}], \"table\": [{\"cells\": {\"fill\": {\"color\": \"#EBF0F8\"}, \"line\": {\"color\": \"white\"}}, \"header\": {\"fill\": {\"color\": \"#C8D4E3\"}, \"line\": {\"color\": \"white\"}}, \"type\": \"table\"}]}, \"layout\": {\"annotationdefaults\": {\"arrowcolor\": \"#2a3f5f\", \"arrowhead\": 0, \"arrowwidth\": 1}, \"coloraxis\": {\"colorbar\": {\"outlinewidth\": 0, \"ticks\": \"\"}}, \"colorscale\": {\"diverging\": [[0, \"#8e0152\"], [0.1, \"#c51b7d\"], [0.2, \"#de77ae\"], [0.3, \"#f1b6da\"], [0.4, \"#fde0ef\"], [0.5, \"#f7f7f7\"], [0.6, \"#e6f5d0\"], [0.7, \"#b8e186\"], [0.8, \"#7fbc41\"], [0.9, \"#4d9221\"], [1, \"#276419\"]], \"sequential\": [[0.0, \"#0d0887\"], [0.1111111111111111, \"#46039f\"], [0.2222222222222222, \"#7201a8\"], [0.3333333333333333, \"#9c179e\"], [0.4444444444444444, \"#bd3786\"], [0.5555555555555556, \"#d8576b\"], [0.6666666666666666, \"#ed7953\"], [0.7777777777777778, \"#fb9f3a\"], [0.8888888888888888, \"#fdca26\"], [1.0, \"#f0f921\"]], \"sequentialminus\": [[0.0, \"#0d0887\"], [0.1111111111111111, \"#46039f\"], [0.2222222222222222, \"#7201a8\"], [0.3333333333333333, \"#9c179e\"], [0.4444444444444444, \"#bd3786\"], [0.5555555555555556, \"#d8576b\"], [0.6666666666666666, \"#ed7953\"], [0.7777777777777778, \"#fb9f3a\"], [0.8888888888888888, \"#fdca26\"], [1.0, \"#f0f921\"]]}, \"colorway\": [\"#636efa\", \"#EF553B\", \"#00cc96\", \"#ab63fa\", \"#FFA15A\", \"#19d3f3\", \"#FF6692\", \"#B6E880\", \"#FF97FF\", \"#FECB52\"], \"font\": {\"color\": \"#2a3f5f\"}, \"geo\": {\"bgcolor\": \"white\", \"lakecolor\": \"white\", \"landcolor\": \"#E5ECF6\", \"showlakes\": true, \"showland\": true, \"subunitcolor\": \"white\"}, \"hoverlabel\": {\"align\": \"left\"}, \"hovermode\": \"closest\", \"mapbox\": {\"style\": \"light\"}, \"paper_bgcolor\": \"white\", \"plot_bgcolor\": \"#E5ECF6\", \"polar\": {\"angularaxis\": {\"gridcolor\": \"white\", \"linecolor\": \"white\", \"ticks\": \"\"}, \"bgcolor\": \"#E5ECF6\", \"radialaxis\": {\"gridcolor\": \"white\", \"linecolor\": \"white\", \"ticks\": \"\"}}, \"scene\": {\"xaxis\": {\"backgroundcolor\": \"#E5ECF6\", \"gridcolor\": \"white\", \"gridwidth\": 2, \"linecolor\": \"white\", \"showbackground\": true, \"ticks\": \"\", \"zerolinecolor\": \"white\"}, \"yaxis\": {\"backgroundcolor\": \"#E5ECF6\", \"gridcolor\": \"white\", \"gridwidth\": 2, \"linecolor\": \"white\", \"showbackground\": true, \"ticks\": \"\", \"zerolinecolor\": \"white\"}, \"zaxis\": {\"backgroundcolor\": \"#E5ECF6\", \"gridcolor\": \"white\", \"gridwidth\": 2, \"linecolor\": \"white\", \"showbackground\": true, \"ticks\": \"\", \"zerolinecolor\": \"white\"}}, \"shapedefaults\": {\"line\": {\"color\": \"#2a3f5f\"}}, \"ternary\": {\"aaxis\": {\"gridcolor\": \"white\", \"linecolor\": \"white\", \"ticks\": \"\"}, \"baxis\": {\"gridcolor\": \"white\", \"linecolor\": \"white\", \"ticks\": \"\"}, \"bgcolor\": \"#E5ECF6\", \"caxis\": {\"gridcolor\": \"white\", \"linecolor\": \"white\", \"ticks\": \"\"}}, \"title\": {\"x\": 0.05}, \"xaxis\": {\"automargin\": true, \"gridcolor\": \"white\", \"linecolor\": \"white\", \"ticks\": \"\", \"title\": {\"standoff\": 15}, \"zerolinecolor\": \"white\", \"zerolinewidth\": 2}, \"yaxis\": {\"automargin\": true, \"gridcolor\": \"white\", \"linecolor\": \"white\", \"ticks\": \"\", \"title\": {\"standoff\": 15}, \"zerolinecolor\": \"white\", \"zerolinewidth\": 2}}}, \"title\": {\"text\": \"Optimization History Plot\"}, \"xaxis\": {\"title\": {\"text\": \"#Trials\"}}, \"yaxis\": {\"title\": {\"text\": \"Objective Value\"}}},\n",
       "                        {\"responsive\": true}\n",
       "                    ).then(function(){\n",
       "                            \n",
       "var gd = document.getElementById('2004f88d-7104-4e9f-9ba2-0b20e9c31264');\n",
       "var x = new MutationObserver(function (mutations, observer) {{\n",
       "        var display = window.getComputedStyle(gd).display;\n",
       "        if (!display || display === 'none') {{\n",
       "            console.log([gd, 'removed!']);\n",
       "            Plotly.purge(gd);\n",
       "            observer.disconnect();\n",
       "        }}\n",
       "}});\n",
       "\n",
       "// Listen for the removal of the full notebook cells\n",
       "var notebookContainer = gd.closest('#notebook-container');\n",
       "if (notebookContainer) {{\n",
       "    x.observe(notebookContainer, {childList: true});\n",
       "}}\n",
       "\n",
       "// Listen for the clearing of the current output cell\n",
       "var outputEl = gd.closest('.output');\n",
       "if (outputEl) {{\n",
       "    x.observe(outputEl, {childList: true});\n",
       "}}\n",
       "\n",
       "                        })\n",
       "                };\n",
       "                \n",
       "            </script>\n",
       "        </div>\n",
       "</body>\n",
       "</html>"
      ]
     },
     "metadata": {
      "tags": []
     },
     "output_type": "display_data"
    }
   ],
   "source": [
    "optuna.visualization.plot_optimization_history(study)"
   ]
  },
  {
   "cell_type": "markdown",
   "metadata": {
    "id": "Vs_hf5w4Q9NU"
   },
   "source": [
    "**История поиска оптимального параметра**"
   ]
  },
  {
   "cell_type": "markdown",
   "metadata": {
    "id": "ytosL54GRGWQ"
   },
   "source": [
    "Белые точки показывают рание стадии, синии последнии стадии поиска параметров. Видим, как постепенно `Optuna` \"спускается\" к минимуму целевой функции."
   ]
  },
  {
   "cell_type": "code",
   "execution_count": null,
   "metadata": {
    "colab": {
     "base_uri": "https://localhost:8080/",
     "height": 542
    },
    "id": "MvA6muU-QwD9",
    "outputId": "fd7a82f9-c574-42f6-e0e4-7ed46dd5f3f1"
   },
   "outputs": [
    {
     "data": {
      "text/html": [
       "<html>\n",
       "<head><meta charset=\"utf-8\" /></head>\n",
       "<body>\n",
       "    <div>\n",
       "            <script src=\"https://cdnjs.cloudflare.com/ajax/libs/mathjax/2.7.5/MathJax.js?config=TeX-AMS-MML_SVG\"></script><script type=\"text/javascript\">if (window.MathJax) {MathJax.Hub.Config({SVG: {font: \"STIX-Web\"}});}</script>\n",
       "                <script type=\"text/javascript\">window.PlotlyConfig = {MathJaxConfig: 'local'};</script>\n",
       "        <script src=\"https://cdn.plot.ly/plotly-latest.min.js\"></script>    \n",
       "            <div id=\"b9ba2c49-3c7a-48c5-8404-4eb9b7dffe07\" class=\"plotly-graph-div\" style=\"height:525px; width:100%;\"></div>\n",
       "            <script type=\"text/javascript\">\n",
       "                \n",
       "                    window.PLOTLYENV=window.PLOTLYENV || {};\n",
       "                    \n",
       "                if (document.getElementById(\"b9ba2c49-3c7a-48c5-8404-4eb9b7dffe07\")) {\n",
       "                    Plotly.newPlot(\n",
       "                        'b9ba2c49-3c7a-48c5-8404-4eb9b7dffe07',\n",
       "                        [{\"marker\": {\"color\": [0, 1, 2, 3, 4, 5, 6, 7, 8, 9, 10, 11, 12, 13, 14], \"colorbar\": {\"title\": {\"text\": \"#Trials\"}, \"x\": 1.0, \"xpad\": 40}, \"colorscale\": [[0.0, \"rgb(247,251,255)\"], [0.125, \"rgb(222,235,247)\"], [0.25, \"rgb(198,219,239)\"], [0.375, \"rgb(158,202,225)\"], [0.5, \"rgb(107,174,214)\"], [0.625, \"rgb(66,146,198)\"], [0.75, \"rgb(33,113,181)\"], [0.875, \"rgb(8,81,156)\"], [1.0, \"rgb(8,48,107)\"]], \"line\": {\"color\": \"Grey\", \"width\": 0.5}}, \"mode\": \"markers\", \"showlegend\": false, \"type\": \"scatter\", \"x\": [-8.351646076810988, -8.877730161383521, -7.0862311952635615, 5.23180219773484, 6.7183679963937095, 7.939650649948447, -9.229272076437917, 0.2495606337297307, 4.88232385284457, 3.813102103283736, -2.862946041809979, 1.0035835644062017, 0.13288823058154886, 0.36055803309939305, -3.9473740523957357], \"y\": [107.15657649955632, 118.32501346387276, 82.55959733378069, 10.444545445283742, 22.26299654939239, 35.279449843433014, 126.09655136666834, 3.064037974988662, 8.307790792676764, 3.287339236931907, 23.648244205555336, 0.9928457131214501, 3.4861063595008996, 2.6877699628349303, 35.371258119110074]}],\n",
       "                        {\"template\": {\"data\": {\"bar\": [{\"error_x\": {\"color\": \"#2a3f5f\"}, \"error_y\": {\"color\": \"#2a3f5f\"}, \"marker\": {\"line\": {\"color\": \"#E5ECF6\", \"width\": 0.5}}, \"type\": \"bar\"}], \"barpolar\": [{\"marker\": {\"line\": {\"color\": \"#E5ECF6\", \"width\": 0.5}}, \"type\": \"barpolar\"}], \"carpet\": [{\"aaxis\": {\"endlinecolor\": \"#2a3f5f\", \"gridcolor\": \"white\", \"linecolor\": \"white\", \"minorgridcolor\": \"white\", \"startlinecolor\": \"#2a3f5f\"}, \"baxis\": {\"endlinecolor\": \"#2a3f5f\", \"gridcolor\": \"white\", \"linecolor\": \"white\", \"minorgridcolor\": \"white\", \"startlinecolor\": \"#2a3f5f\"}, \"type\": \"carpet\"}], \"choropleth\": [{\"colorbar\": {\"outlinewidth\": 0, \"ticks\": \"\"}, \"type\": \"choropleth\"}], \"contour\": [{\"colorbar\": {\"outlinewidth\": 0, \"ticks\": \"\"}, \"colorscale\": [[0.0, \"#0d0887\"], [0.1111111111111111, \"#46039f\"], [0.2222222222222222, \"#7201a8\"], [0.3333333333333333, \"#9c179e\"], [0.4444444444444444, \"#bd3786\"], [0.5555555555555556, \"#d8576b\"], [0.6666666666666666, \"#ed7953\"], [0.7777777777777778, \"#fb9f3a\"], [0.8888888888888888, \"#fdca26\"], [1.0, \"#f0f921\"]], \"type\": \"contour\"}], \"contourcarpet\": [{\"colorbar\": {\"outlinewidth\": 0, \"ticks\": \"\"}, \"type\": \"contourcarpet\"}], \"heatmap\": [{\"colorbar\": {\"outlinewidth\": 0, \"ticks\": \"\"}, \"colorscale\": [[0.0, \"#0d0887\"], [0.1111111111111111, \"#46039f\"], [0.2222222222222222, \"#7201a8\"], [0.3333333333333333, \"#9c179e\"], [0.4444444444444444, \"#bd3786\"], [0.5555555555555556, \"#d8576b\"], [0.6666666666666666, \"#ed7953\"], [0.7777777777777778, \"#fb9f3a\"], [0.8888888888888888, \"#fdca26\"], [1.0, \"#f0f921\"]], \"type\": \"heatmap\"}], \"heatmapgl\": [{\"colorbar\": {\"outlinewidth\": 0, \"ticks\": \"\"}, \"colorscale\": [[0.0, \"#0d0887\"], [0.1111111111111111, \"#46039f\"], [0.2222222222222222, \"#7201a8\"], [0.3333333333333333, \"#9c179e\"], [0.4444444444444444, \"#bd3786\"], [0.5555555555555556, \"#d8576b\"], [0.6666666666666666, \"#ed7953\"], [0.7777777777777778, \"#fb9f3a\"], [0.8888888888888888, \"#fdca26\"], [1.0, \"#f0f921\"]], \"type\": \"heatmapgl\"}], \"histogram\": [{\"marker\": {\"colorbar\": {\"outlinewidth\": 0, \"ticks\": \"\"}}, \"type\": \"histogram\"}], \"histogram2d\": [{\"colorbar\": {\"outlinewidth\": 0, \"ticks\": \"\"}, \"colorscale\": [[0.0, \"#0d0887\"], [0.1111111111111111, \"#46039f\"], [0.2222222222222222, \"#7201a8\"], [0.3333333333333333, \"#9c179e\"], [0.4444444444444444, \"#bd3786\"], [0.5555555555555556, \"#d8576b\"], [0.6666666666666666, \"#ed7953\"], [0.7777777777777778, \"#fb9f3a\"], [0.8888888888888888, \"#fdca26\"], [1.0, \"#f0f921\"]], \"type\": \"histogram2d\"}], \"histogram2dcontour\": [{\"colorbar\": {\"outlinewidth\": 0, \"ticks\": \"\"}, \"colorscale\": [[0.0, \"#0d0887\"], [0.1111111111111111, \"#46039f\"], [0.2222222222222222, \"#7201a8\"], [0.3333333333333333, \"#9c179e\"], [0.4444444444444444, \"#bd3786\"], [0.5555555555555556, \"#d8576b\"], [0.6666666666666666, \"#ed7953\"], [0.7777777777777778, \"#fb9f3a\"], [0.8888888888888888, \"#fdca26\"], [1.0, \"#f0f921\"]], \"type\": \"histogram2dcontour\"}], \"mesh3d\": [{\"colorbar\": {\"outlinewidth\": 0, \"ticks\": \"\"}, \"type\": \"mesh3d\"}], \"parcoords\": [{\"line\": {\"colorbar\": {\"outlinewidth\": 0, \"ticks\": \"\"}}, \"type\": \"parcoords\"}], \"pie\": [{\"automargin\": true, \"type\": \"pie\"}], \"scatter\": [{\"marker\": {\"colorbar\": {\"outlinewidth\": 0, \"ticks\": \"\"}}, \"type\": \"scatter\"}], \"scatter3d\": [{\"line\": {\"colorbar\": {\"outlinewidth\": 0, \"ticks\": \"\"}}, \"marker\": {\"colorbar\": {\"outlinewidth\": 0, \"ticks\": \"\"}}, \"type\": \"scatter3d\"}], \"scattercarpet\": [{\"marker\": {\"colorbar\": {\"outlinewidth\": 0, \"ticks\": \"\"}}, \"type\": \"scattercarpet\"}], \"scattergeo\": [{\"marker\": {\"colorbar\": {\"outlinewidth\": 0, \"ticks\": \"\"}}, \"type\": \"scattergeo\"}], \"scattergl\": [{\"marker\": {\"colorbar\": {\"outlinewidth\": 0, \"ticks\": \"\"}}, \"type\": \"scattergl\"}], \"scattermapbox\": [{\"marker\": {\"colorbar\": {\"outlinewidth\": 0, \"ticks\": \"\"}}, \"type\": \"scattermapbox\"}], \"scatterpolar\": [{\"marker\": {\"colorbar\": {\"outlinewidth\": 0, \"ticks\": \"\"}}, \"type\": \"scatterpolar\"}], \"scatterpolargl\": [{\"marker\": {\"colorbar\": {\"outlinewidth\": 0, \"ticks\": \"\"}}, \"type\": \"scatterpolargl\"}], \"scatterternary\": [{\"marker\": {\"colorbar\": {\"outlinewidth\": 0, \"ticks\": \"\"}}, \"type\": \"scatterternary\"}], \"surface\": [{\"colorbar\": {\"outlinewidth\": 0, \"ticks\": \"\"}, \"colorscale\": [[0.0, \"#0d0887\"], [0.1111111111111111, \"#46039f\"], [0.2222222222222222, \"#7201a8\"], [0.3333333333333333, \"#9c179e\"], [0.4444444444444444, \"#bd3786\"], [0.5555555555555556, \"#d8576b\"], [0.6666666666666666, \"#ed7953\"], [0.7777777777777778, \"#fb9f3a\"], [0.8888888888888888, \"#fdca26\"], [1.0, \"#f0f921\"]], \"type\": \"surface\"}], \"table\": [{\"cells\": {\"fill\": {\"color\": \"#EBF0F8\"}, \"line\": {\"color\": \"white\"}}, \"header\": {\"fill\": {\"color\": \"#C8D4E3\"}, \"line\": {\"color\": \"white\"}}, \"type\": \"table\"}]}, \"layout\": {\"annotationdefaults\": {\"arrowcolor\": \"#2a3f5f\", \"arrowhead\": 0, \"arrowwidth\": 1}, \"coloraxis\": {\"colorbar\": {\"outlinewidth\": 0, \"ticks\": \"\"}}, \"colorscale\": {\"diverging\": [[0, \"#8e0152\"], [0.1, \"#c51b7d\"], [0.2, \"#de77ae\"], [0.3, \"#f1b6da\"], [0.4, \"#fde0ef\"], [0.5, \"#f7f7f7\"], [0.6, \"#e6f5d0\"], [0.7, \"#b8e186\"], [0.8, \"#7fbc41\"], [0.9, \"#4d9221\"], [1, \"#276419\"]], \"sequential\": [[0.0, \"#0d0887\"], [0.1111111111111111, \"#46039f\"], [0.2222222222222222, \"#7201a8\"], [0.3333333333333333, \"#9c179e\"], [0.4444444444444444, \"#bd3786\"], [0.5555555555555556, \"#d8576b\"], [0.6666666666666666, \"#ed7953\"], [0.7777777777777778, \"#fb9f3a\"], [0.8888888888888888, \"#fdca26\"], [1.0, \"#f0f921\"]], \"sequentialminus\": [[0.0, \"#0d0887\"], [0.1111111111111111, \"#46039f\"], [0.2222222222222222, \"#7201a8\"], [0.3333333333333333, \"#9c179e\"], [0.4444444444444444, \"#bd3786\"], [0.5555555555555556, \"#d8576b\"], [0.6666666666666666, \"#ed7953\"], [0.7777777777777778, \"#fb9f3a\"], [0.8888888888888888, \"#fdca26\"], [1.0, \"#f0f921\"]]}, \"colorway\": [\"#636efa\", \"#EF553B\", \"#00cc96\", \"#ab63fa\", \"#FFA15A\", \"#19d3f3\", \"#FF6692\", \"#B6E880\", \"#FF97FF\", \"#FECB52\"], \"font\": {\"color\": \"#2a3f5f\"}, \"geo\": {\"bgcolor\": \"white\", \"lakecolor\": \"white\", \"landcolor\": \"#E5ECF6\", \"showlakes\": true, \"showland\": true, \"subunitcolor\": \"white\"}, \"hoverlabel\": {\"align\": \"left\"}, \"hovermode\": \"closest\", \"mapbox\": {\"style\": \"light\"}, \"paper_bgcolor\": \"white\", \"plot_bgcolor\": \"#E5ECF6\", \"polar\": {\"angularaxis\": {\"gridcolor\": \"white\", \"linecolor\": \"white\", \"ticks\": \"\"}, \"bgcolor\": \"#E5ECF6\", \"radialaxis\": {\"gridcolor\": \"white\", \"linecolor\": \"white\", \"ticks\": \"\"}}, \"scene\": {\"xaxis\": {\"backgroundcolor\": \"#E5ECF6\", \"gridcolor\": \"white\", \"gridwidth\": 2, \"linecolor\": \"white\", \"showbackground\": true, \"ticks\": \"\", \"zerolinecolor\": \"white\"}, \"yaxis\": {\"backgroundcolor\": \"#E5ECF6\", \"gridcolor\": \"white\", \"gridwidth\": 2, \"linecolor\": \"white\", \"showbackground\": true, \"ticks\": \"\", \"zerolinecolor\": \"white\"}, \"zaxis\": {\"backgroundcolor\": \"#E5ECF6\", \"gridcolor\": \"white\", \"gridwidth\": 2, \"linecolor\": \"white\", \"showbackground\": true, \"ticks\": \"\", \"zerolinecolor\": \"white\"}}, \"shapedefaults\": {\"line\": {\"color\": \"#2a3f5f\"}}, \"ternary\": {\"aaxis\": {\"gridcolor\": \"white\", \"linecolor\": \"white\", \"ticks\": \"\"}, \"baxis\": {\"gridcolor\": \"white\", \"linecolor\": \"white\", \"ticks\": \"\"}, \"bgcolor\": \"#E5ECF6\", \"caxis\": {\"gridcolor\": \"white\", \"linecolor\": \"white\", \"ticks\": \"\"}}, \"title\": {\"x\": 0.05}, \"xaxis\": {\"automargin\": true, \"gridcolor\": \"white\", \"linecolor\": \"white\", \"ticks\": \"\", \"title\": {\"standoff\": 15}, \"zerolinecolor\": \"white\", \"zerolinewidth\": 2}, \"yaxis\": {\"automargin\": true, \"gridcolor\": \"white\", \"linecolor\": \"white\", \"ticks\": \"\", \"title\": {\"standoff\": 15}, \"zerolinecolor\": \"white\", \"zerolinewidth\": 2}}}, \"title\": {\"text\": \"Slice Plot\"}, \"xaxis\": {\"title\": {\"text\": \"x\"}}, \"yaxis\": {\"title\": {\"text\": \"Objective Value\"}}},\n",
       "                        {\"responsive\": true}\n",
       "                    ).then(function(){\n",
       "                            \n",
       "var gd = document.getElementById('b9ba2c49-3c7a-48c5-8404-4eb9b7dffe07');\n",
       "var x = new MutationObserver(function (mutations, observer) {{\n",
       "        var display = window.getComputedStyle(gd).display;\n",
       "        if (!display || display === 'none') {{\n",
       "            console.log([gd, 'removed!']);\n",
       "            Plotly.purge(gd);\n",
       "            observer.disconnect();\n",
       "        }}\n",
       "}});\n",
       "\n",
       "// Listen for the removal of the full notebook cells\n",
       "var notebookContainer = gd.closest('#notebook-container');\n",
       "if (notebookContainer) {{\n",
       "    x.observe(notebookContainer, {childList: true});\n",
       "}}\n",
       "\n",
       "// Listen for the clearing of the current output cell\n",
       "var outputEl = gd.closest('.output');\n",
       "if (outputEl) {{\n",
       "    x.observe(outputEl, {childList: true});\n",
       "}}\n",
       "\n",
       "                        })\n",
       "                };\n",
       "                \n",
       "            </script>\n",
       "        </div>\n",
       "</body>\n",
       "</html>"
      ]
     },
     "metadata": {
      "tags": []
     },
     "output_type": "display_data"
    }
   ],
   "source": [
    "optuna.visualization.plot_slice(study)"
   ]
  },
  {
   "cell_type": "markdown",
   "metadata": {
    "id": "UXHsclvMSVW1"
   },
   "source": [
    "Оставшиеся визуализации для оптимизации с несколькими параметрами, чтобы их построить вначале оптимизируем целевую функцию $(x + y - 2)^2$ по параметрам $x$ и $y$."
   ]
  },
  {
   "cell_type": "code",
   "execution_count": null,
   "metadata": {
    "id": "fS1qcHpOSHs1"
   },
   "outputs": [],
   "source": [
    "def objective(trial: optuna.Trial):\n",
    "    x = trial.suggest_uniform('x', -10, 10)\n",
    "    y = trial.suggest_uniform('y', -10, 10)\n",
    "    return (x + y - 2) ** 2 "
   ]
  },
  {
   "cell_type": "code",
   "execution_count": null,
   "metadata": {
    "colab": {
     "base_uri": "https://localhost:8080/"
    },
    "id": "SjAZgnAXSNm5",
    "outputId": "9b59753f-020e-4cdd-a1ab-a6c0d649619f"
   },
   "outputs": [
    {
     "name": "stderr",
     "output_type": "stream",
     "text": [
      "\u001b[32m[I 2020-12-01 17:56:24,299]\u001b[0m A new study created in memory with name: no-name-05a5e65d-339c-494e-8f56-5bfb1a9a7170\u001b[0m\n",
      "\u001b[32m[I 2020-12-01 17:56:24,305]\u001b[0m Trial 0 finished with value: 58.82051622560095 and parameters: {'x': 2.3361390291661763, 'y': 7.333314421087039}. Best is trial 0 with value: 58.82051622560095.\u001b[0m\n",
      "\u001b[32m[I 2020-12-01 17:56:24,310]\u001b[0m Trial 1 finished with value: 3.0261284209365362 and parameters: {'x': 3.8456266418756506, 'y': -3.585203722932002}. Best is trial 1 with value: 3.0261284209365362.\u001b[0m\n",
      "\u001b[32m[I 2020-12-01 17:56:24,316]\u001b[0m Trial 2 finished with value: 3.067717044135488 and parameters: {'x': 1.130750665884289, 'y': -0.882240615651483}. Best is trial 1 with value: 3.0261284209365362.\u001b[0m\n",
      "\u001b[32m[I 2020-12-01 17:56:24,322]\u001b[0m Trial 3 finished with value: 296.19120366831515 and parameters: {'x': -8.342844626271189, 'y': -6.8673617544877334}. Best is trial 1 with value: 3.0261284209365362.\u001b[0m\n",
      "\u001b[32m[I 2020-12-01 17:56:24,324]\u001b[0m Trial 4 finished with value: 66.2255625876315 and parameters: {'x': -6.4706393436632865, 'y': 0.33273036238120923}. Best is trial 1 with value: 3.0261284209365362.\u001b[0m\n",
      "\u001b[32m[I 2020-12-01 17:56:24,325]\u001b[0m Trial 5 finished with value: 135.39427680349243 and parameters: {'x': -7.74291706422739, 'y': -1.8929875763019588}. Best is trial 1 with value: 3.0261284209365362.\u001b[0m\n",
      "\u001b[32m[I 2020-12-01 17:56:24,327]\u001b[0m Trial 6 finished with value: 17.41343275962991 and parameters: {'x': -6.758953391234841, 'y': 4.5860128501259805}. Best is trial 1 with value: 3.0261284209365362.\u001b[0m\n",
      "\u001b[32m[I 2020-12-01 17:56:24,328]\u001b[0m Trial 7 finished with value: 202.54098253416774 and parameters: {'x': 6.693575738373664, 'y': 9.538113639004123}. Best is trial 1 with value: 3.0261284209365362.\u001b[0m\n",
      "\u001b[32m[I 2020-12-01 17:56:24,332]\u001b[0m Trial 8 finished with value: 417.45197245634995 and parameters: {'x': -8.827996130816306, 'y': -9.603645321997757}. Best is trial 1 with value: 3.0261284209365362.\u001b[0m\n",
      "\u001b[32m[I 2020-12-01 17:56:24,336]\u001b[0m Trial 9 finished with value: 158.6440498659781 and parameters: {'x': 9.7034915112846, 'y': 4.891906452494794}. Best is trial 1 with value: 3.0261284209365362.\u001b[0m\n",
      "\u001b[32m[I 2020-12-01 17:56:24,347]\u001b[0m Trial 10 finished with value: 94.0080096972299 and parameters: {'x': -2.8377159149245275, 'y': -4.858056859704108}. Best is trial 1 with value: 3.0261284209365362.\u001b[0m\n",
      "\u001b[32m[I 2020-12-01 17:56:24,357]\u001b[0m Trial 11 finished with value: 0.03429317220876614 and parameters: {'x': 2.494112124746241, 'y': -0.6792962822996511}. Best is trial 11 with value: 0.03429317220876614.\u001b[0m\n",
      "\u001b[32m[I 2020-12-01 17:56:24,370]\u001b[0m Trial 12 finished with value: 0.9676485090649993 and parameters: {'x': 5.108928324404926, 'y': -4.092619591553821}. Best is trial 11 with value: 0.03429317220876614.\u001b[0m\n",
      "\u001b[32m[I 2020-12-01 17:56:24,378]\u001b[0m Trial 13 finished with value: 35.24058293116495 and parameters: {'x': 6.280303299023631, 'y': 1.6560746312605383}. Best is trial 11 with value: 0.03429317220876614.\u001b[0m\n",
      "\u001b[32m[I 2020-12-01 17:56:24,383]\u001b[0m Trial 14 finished with value: 138.64587512664994 and parameters: {'x': -2.040371137347059, 'y': -7.734427167789635}. Best is trial 11 with value: 0.03429317220876614.\u001b[0m\n",
      "\u001b[32m[I 2020-12-01 17:56:24,390]\u001b[0m Trial 15 finished with value: 95.74793066914681 and parameters: {'x': 9.669909604660088, 'y': 2.1151775522919047}. Best is trial 11 with value: 0.03429317220876614.\u001b[0m\n",
      "\u001b[32m[I 2020-12-01 17:56:24,399]\u001b[0m Trial 16 finished with value: 0.11610372949487224 and parameters: {'x': 5.129162436040743, 'y': -3.4699024094733772}. Best is trial 11 with value: 0.03429317220876614.\u001b[0m\n",
      "\u001b[32m[I 2020-12-01 17:56:24,407]\u001b[0m Trial 17 finished with value: 32.93383907464345 and parameters: {'x': -1.3924075362206572, 'y': -2.3463936517142807}. Best is trial 11 with value: 0.03429317220876614.\u001b[0m\n",
      "\u001b[32m[I 2020-12-01 17:56:24,412]\u001b[0m Trial 18 finished with value: 0.30556712134374436 and parameters: {'x': 8.07610793196412, 'y': -5.523326672021506}. Best is trial 11 with value: 0.03429317220876614.\u001b[0m\n",
      "\u001b[32m[I 2020-12-01 17:56:24,419]\u001b[0m Trial 19 finished with value: 70.98699471576414 and parameters: {'x': 3.1734490908460984, 'y': -9.598827107040039}. Best is trial 11 with value: 0.03429317220876614.\u001b[0m\n",
      "\u001b[32m[I 2020-12-01 17:56:24,426]\u001b[0m Trial 20 finished with value: 1.4335763419674865 and parameters: {'x': 0.2129180122735042, 'y': 2.9844024719609745}. Best is trial 11 with value: 0.03429317220876614.\u001b[0m\n",
      "\u001b[32m[I 2020-12-01 17:56:24,433]\u001b[0m Trial 21 finished with value: 0.04055253406185714 and parameters: {'x': 7.993028901694562, 'y': -6.194405499296809}. Best is trial 11 with value: 0.03429317220876614.\u001b[0m\n",
      "\u001b[32m[I 2020-12-01 17:56:24,438]\u001b[0m Trial 22 finished with value: 16.23115242136605 and parameters: {'x': 5.05975611524223, 'y': -7.088546556722905}. Best is trial 11 with value: 0.03429317220876614.\u001b[0m\n",
      "\u001b[32m[I 2020-12-01 17:56:24,445]\u001b[0m Trial 23 finished with value: 12.399994449975873 and parameters: {'x': 8.297011486720793, 'y': -2.77564890243955}. Best is trial 11 with value: 0.03429317220876614.\u001b[0m\n",
      "\u001b[32m[I 2020-12-01 17:56:24,455]\u001b[0m Trial 24 finished with value: 38.308757612099924 and parameters: {'x': 1.4887397659387611, 'y': -5.6781466528787305}. Best is trial 11 with value: 0.03429317220876614.\u001b[0m\n",
      "\u001b[32m[I 2020-12-01 17:56:24,461]\u001b[0m Trial 25 finished with value: 1.4799329730667512 and parameters: {'x': 4.204596086382114, 'y': -0.9880711285342487}. Best is trial 11 with value: 0.03429317220876614.\u001b[0m\n",
      "\u001b[32m[I 2020-12-01 17:56:24,467]\u001b[0m Trial 26 finished with value: 32.122771153496295 and parameters: {'x': 7.150457475340614, 'y': 0.5172379252165022}. Best is trial 11 with value: 0.03429317220876614.\u001b[0m\n",
      "\u001b[32m[I 2020-12-01 17:56:24,474]\u001b[0m Trial 27 finished with value: 32.19260012990197 and parameters: {'x': 5.139943897184253, 'y': -8.81379621548634}. Best is trial 11 with value: 0.03429317220876614.\u001b[0m\n",
      "\u001b[32m[I 2020-12-01 17:56:24,480]\u001b[0m Trial 28 finished with value: 96.08782269025079 and parameters: {'x': -3.956865405883099, 'y': -3.845574223630096}. Best is trial 11 with value: 0.03429317220876614.\u001b[0m\n",
      "\u001b[32m[I 2020-12-01 17:56:24,487]\u001b[0m Trial 29 finished with value: 0.18713113263945644 and parameters: {'x': 2.341921447760451, 'y': -0.7745080086236572}. Best is trial 11 with value: 0.03429317220876614.\u001b[0m\n",
      "\u001b[32m[I 2020-12-01 17:56:24,494]\u001b[0m Trial 30 finished with value: 0.2441909920027948 and parameters: {'x': 8.48717315740196, 'y': -5.993016307805807}. Best is trial 11 with value: 0.03429317220876614.\u001b[0m\n",
      "\u001b[32m[I 2020-12-01 17:56:24,501]\u001b[0m Trial 31 finished with value: 0.3605312043930329 and parameters: {'x': 2.452171656271444, 'y': -1.0526141634218231}. Best is trial 11 with value: 0.03429317220876614.\u001b[0m\n",
      "\u001b[32m[I 2020-12-01 17:56:24,509]\u001b[0m Trial 32 finished with value: 3.8829998138999877 and parameters: {'x': 2.7746450002020984, 'y': -2.7451778758222916}. Best is trial 11 with value: 0.03429317220876614.\u001b[0m\n",
      "\u001b[32m[I 2020-12-01 17:56:24,514]\u001b[0m Trial 33 finished with value: 0.05789296414280524 and parameters: {'x': 1.2732807519568545, 'y': 0.9673288158969723}. Best is trial 11 with value: 0.03429317220876614.\u001b[0m\n",
      "\u001b[32m[I 2020-12-01 17:56:24,522]\u001b[0m Trial 34 finished with value: 2.770563791115696 and parameters: {'x': 0.21012627601466782, 'y': 3.454374787702534}. Best is trial 11 with value: 0.03429317220876614.\u001b[0m\n",
      "\u001b[32m[I 2020-12-01 17:56:24,527]\u001b[0m Trial 35 finished with value: 0.22907434990552628 and parameters: {'x': 1.4273442879301337, 'y': 1.0512728345232176}. Best is trial 11 with value: 0.03429317220876614.\u001b[0m\n",
      "\u001b[32m[I 2020-12-01 17:56:24,535]\u001b[0m Trial 36 finished with value: 3.7004208946666233 and parameters: {'x': 4.05077323829763, 'y': -0.12712542888276113}. Best is trial 11 with value: 0.03429317220876614.\u001b[0m\n",
      "\u001b[32m[I 2020-12-01 17:56:24,543]\u001b[0m Trial 37 finished with value: 0.6476728533303133 and parameters: {'x': 5.843772621128082, 'y': -4.648553866765872}. Best is trial 11 with value: 0.03429317220876614.\u001b[0m\n",
      "\u001b[32m[I 2020-12-01 17:56:24,550]\u001b[0m Trial 38 finished with value: 0.016096660939490942 and parameters: {'x': 3.6935064074189983, 'y': -1.8203790243995388}. Best is trial 38 with value: 0.016096660939490942.\u001b[0m\n",
      "\u001b[32m[I 2020-12-01 17:56:24,555]\u001b[0m Trial 39 finished with value: 16.83687407382586 and parameters: {'x': -1.016714107294896, 'y': 7.1199901245554775}. Best is trial 38 with value: 0.016096660939490942.\u001b[0m\n"
     ]
    }
   ],
   "source": [
    "study = optuna.create_study()\n",
    "study.optimize(objective, n_trials=40)"
   ]
  },
  {
   "cell_type": "markdown",
   "metadata": {
    "id": "cRJgsmRXRzeI"
   },
   "source": [
    "История поиска "
   ]
  },
  {
   "cell_type": "code",
   "execution_count": null,
   "metadata": {
    "colab": {
     "base_uri": "https://localhost:8080/",
     "height": 542
    },
    "id": "I_9XBCSzRjDn",
    "outputId": "c3db7754-c314-48c8-ebc3-9371e0848430"
   },
   "outputs": [
    {
     "data": {
      "text/html": [
       "<html>\n",
       "<head><meta charset=\"utf-8\" /></head>\n",
       "<body>\n",
       "    <div>\n",
       "            <script src=\"https://cdnjs.cloudflare.com/ajax/libs/mathjax/2.7.5/MathJax.js?config=TeX-AMS-MML_SVG\"></script><script type=\"text/javascript\">if (window.MathJax) {MathJax.Hub.Config({SVG: {font: \"STIX-Web\"}});}</script>\n",
       "                <script type=\"text/javascript\">window.PlotlyConfig = {MathJaxConfig: 'local'};</script>\n",
       "        <script src=\"https://cdn.plot.ly/plotly-latest.min.js\"></script>    \n",
       "            <div id=\"b0d4cce4-f515-41a5-b727-cd979e29a94c\" class=\"plotly-graph-div\" style=\"height:525px; width:100%;\"></div>\n",
       "            <script type=\"text/javascript\">\n",
       "                \n",
       "                    window.PLOTLYENV=window.PLOTLYENV || {};\n",
       "                    \n",
       "                if (document.getElementById(\"b0d4cce4-f515-41a5-b727-cd979e29a94c\")) {\n",
       "                    Plotly.newPlot(\n",
       "                        'b0d4cce4-f515-41a5-b727-cd979e29a94c',\n",
       "                        [{\"colorbar\": {\"title\": {\"text\": \"Objective Value\"}}, \"colorscale\": [[0, \"rgb(220,220,220)\"], [0.30000000000000004, \"rgb(106,137,247)\"], [0.4, \"rgb(90,120,245)\"], [0.5, \"rgb(70,100,245)\"], [0.65, \"rgb(40,60,190)\"], [1, \"rgb(5,10,172)\"]], \"connectgaps\": true, \"contours\": {\"coloring\": \"heatmap\"}, \"hoverinfo\": \"none\", \"line\": {\"smoothing\": 1.3}, \"type\": \"contour\", \"x\": [-9.754570512921351, -8.827996130816306, -8.342844626271189, -7.74291706422739, -6.758953391234841, -6.4706393436632865, -3.956865405883099, -2.8377159149245275, -2.040371137347059, -1.3924075362206572, -1.016714107294896, 0.21012627601466782, 0.2129180122735042, 1.130750665884289, 1.2732807519568545, 1.4273442879301337, 1.4887397659387611, 2.3361390291661763, 2.341921447760451, 2.452171656271444, 2.494112124746241, 2.7746450002020984, 3.1734490908460984, 3.6935064074189983, 3.8456266418756506, 4.05077323829763, 4.204596086382114, 5.05975611524223, 5.108928324404926, 5.129162436040743, 5.139943897184253, 5.843772621128082, 6.280303299023631, 6.693575738373664, 7.150457475340614, 7.993028901694562, 8.07610793196412, 8.297011486720793, 8.48717315740196, 9.669909604660088, 9.7034915112846, 10.630065893389645], \"y\": [-10.560733270047852, -9.603645321997757, -9.598827107040039, -8.81379621548634, -7.734427167789635, -7.088546556722905, -6.8673617544877334, -6.194405499296809, -5.993016307805807, -5.6781466528787305, -5.523326672021506, -4.858056859704108, -4.648553866765872, -4.092619591553821, -3.845574223630096, -3.585203722932002, -3.4699024094733772, -2.77564890243955, -2.7451778758222916, -2.3463936517142807, -1.8929875763019588, -1.8203790243995388, -1.0526141634218231, -0.9880711285342487, -0.882240615651483, -0.7745080086236572, -0.6792962822996511, -0.12712542888276113, 0.33273036238120923, 0.5172379252165022, 0.9673288158969723, 1.0512728345232176, 1.6560746312605383, 2.1151775522919047, 2.9844024719609745, 3.454374787702534, 4.5860128501259805, 4.891906452494794, 7.1199901245554775, 7.333314421087039, 9.538113639004123, 10.495201587054218], \"z\": [[null, null, null, null, null, null, null, null, null, null, null, null, null, null, null, null, null, null, null, null, null, null, null, null, null, null, null, null, null, null, null, null, null, null, null, null, null, null, null, null, null, null], [null, 417.45197245634995, null, null, null, null, null, null, null, null, null, null, null, null, null, null, null, null, null, null, null, null, null, null, null, null, null, null, null, null, null, null, null, null, null, null, null, null, null, null, null, null], [null, null, null, null, null, null, null, null, null, null, null, null, null, null, null, null, null, null, null, null, null, null, 70.98699471576414, null, null, null, null, null, null, null, null, null, null, null, null, null, null, null, null, null, null, null], [null, null, null, null, null, null, null, null, null, null, null, null, null, null, null, null, null, null, null, null, null, null, null, null, null, null, null, null, null, null, 32.19260012990197, null, null, null, null, null, null, null, null, null, null, null], [null, null, null, null, null, null, null, null, 138.64587512664994, null, null, null, null, null, null, null, null, null, null, null, null, null, null, null, null, null, null, null, null, null, null, null, null, null, null, null, null, null, null, null, null, null], [null, null, null, null, null, null, null, null, null, null, null, null, null, null, null, null, null, null, null, null, null, null, null, null, null, null, null, 16.23115242136605, null, null, null, null, null, null, null, null, null, null, null, null, null, null], [null, null, 296.19120366831515, null, null, null, null, null, null, null, null, null, null, null, null, null, null, null, null, null, null, null, null, null, null, null, null, null, null, null, null, null, null, null, null, null, null, null, null, null, null, null], [null, null, null, null, null, null, null, null, null, null, null, null, null, null, null, null, null, null, null, null, null, null, null, null, null, null, null, null, null, null, null, null, null, null, null, 0.04055253406185714, null, null, null, null, null, null], [null, null, null, null, null, null, null, null, null, null, null, null, null, null, null, null, null, null, null, null, null, null, null, null, null, null, null, null, null, null, null, null, null, null, null, null, null, null, 0.2441909920027948, null, null, null], [null, null, null, null, null, null, null, null, null, null, null, null, null, null, null, null, 38.308757612099924, null, null, null, null, null, null, null, null, null, null, null, null, null, null, null, null, null, null, null, null, null, null, null, null, null], [null, null, null, null, null, null, null, null, null, null, null, null, null, null, null, null, null, null, null, null, null, null, null, null, null, null, null, null, null, null, null, null, null, null, null, null, 0.30556712134374436, null, null, null, null, null], [null, null, null, null, null, null, null, 94.0080096972299, null, null, null, null, null, null, null, null, null, null, null, null, null, null, null, null, null, null, null, null, null, null, null, null, null, null, null, null, null, null, null, null, null, null], [null, null, null, null, null, null, null, null, null, null, null, null, null, null, null, null, null, null, null, null, null, null, null, null, null, null, null, null, null, null, null, 0.6476728533303133, null, null, null, null, null, null, null, null, null, null], [null, null, null, null, null, null, null, null, null, null, null, null, null, null, null, null, null, null, null, null, null, null, null, null, null, null, null, null, 0.9676485090649993, null, null, null, null, null, null, null, null, null, null, null, null, null], [null, null, null, null, null, null, 96.08782269025079, null, null, null, null, null, null, null, null, null, null, null, null, null, null, null, null, null, null, null, null, null, null, null, null, null, null, null, null, null, null, null, null, null, null, null], [null, null, null, null, null, null, null, null, null, null, null, null, null, null, null, null, null, null, null, null, null, null, null, null, 3.0261284209365362, null, null, null, null, null, null, null, null, null, null, null, null, null, null, null, null, null], [null, null, null, null, null, null, null, null, null, null, null, null, null, null, null, null, null, null, null, null, null, null, null, null, null, null, null, null, null, 0.11610372949487224, null, null, null, null, null, null, null, null, null, null, null, null], [null, null, null, null, null, null, null, null, null, null, null, null, null, null, null, null, null, null, null, null, null, null, null, null, null, null, null, null, null, null, null, null, null, null, null, null, null, 12.399994449975873, null, null, null, null], [null, null, null, null, null, null, null, null, null, null, null, null, null, null, null, null, null, null, null, null, null, 3.8829998138999877, null, null, null, null, null, null, null, null, null, null, null, null, null, null, null, null, null, null, null, null], [null, null, null, null, null, null, null, null, null, 32.93383907464345, null, null, null, null, null, null, null, null, null, null, null, null, null, null, null, null, null, null, null, null, null, null, null, null, null, null, null, null, null, null, null, null], [null, null, null, 135.39427680349243, null, null, null, null, null, null, null, null, null, null, null, null, null, null, null, null, null, null, null, null, null, null, null, null, null, null, null, null, null, null, null, null, null, null, null, null, null, null], [null, null, null, null, null, null, null, null, null, null, null, null, null, null, null, null, null, null, null, null, null, null, null, 0.016096660939490942, null, null, null, null, null, null, null, null, null, null, null, null, null, null, null, null, null, null], [null, null, null, null, null, null, null, null, null, null, null, null, null, null, null, null, null, null, null, 0.3605312043930329, null, null, null, null, null, null, null, null, null, null, null, null, null, null, null, null, null, null, null, null, null, null], [null, null, null, null, null, null, null, null, null, null, null, null, null, null, null, null, null, null, null, null, null, null, null, null, null, null, 1.4799329730667512, null, null, null, null, null, null, null, null, null, null, null, null, null, null, null], [null, null, null, null, null, null, null, null, null, null, null, null, null, 3.067717044135488, null, null, null, null, null, null, null, null, null, null, null, null, null, null, null, null, null, null, null, null, null, null, null, null, null, null, null, null], [null, null, null, null, null, null, null, null, null, null, null, null, null, null, null, null, null, null, 0.18713113263945644, null, null, null, null, null, null, null, null, null, null, null, null, null, null, null, null, null, null, null, null, null, null, null], [null, null, null, null, null, null, null, null, null, null, null, null, null, null, null, null, null, null, null, null, 0.03429317220876614, null, null, null, null, null, null, null, null, null, null, null, null, null, null, null, null, null, null, null, null, null], [null, null, null, null, null, null, null, null, null, null, null, null, null, null, null, null, null, null, null, null, null, null, null, null, null, 3.7004208946666233, null, null, null, null, null, null, null, null, null, null, null, null, null, null, null, null], [null, null, null, null, null, 66.2255625876315, null, null, null, null, null, null, null, null, null, null, null, null, null, null, null, null, null, null, null, null, null, null, null, null, null, null, null, null, null, null, null, null, null, null, null, null], [null, null, null, null, null, null, null, null, null, null, null, null, null, null, null, null, null, null, null, null, null, null, null, null, null, null, null, null, null, null, null, null, null, null, 32.122771153496295, null, null, null, null, null, null, null], [null, null, null, null, null, null, null, null, null, null, null, null, null, null, 0.05789296414280524, null, null, null, null, null, null, null, null, null, null, null, null, null, null, null, null, null, null, null, null, null, null, null, null, null, null, null], [null, null, null, null, null, null, null, null, null, null, null, null, null, null, null, 0.22907434990552628, null, null, null, null, null, null, null, null, null, null, null, null, null, null, null, null, null, null, null, null, null, null, null, null, null, null], [null, null, null, null, null, null, null, null, null, null, null, null, null, null, null, null, null, null, null, null, null, null, null, null, null, null, null, null, null, null, null, null, 35.24058293116495, null, null, null, null, null, null, null, null, null], [null, null, null, null, null, null, null, null, null, null, null, null, null, null, null, null, null, null, null, null, null, null, null, null, null, null, null, null, null, null, null, null, null, null, null, null, null, null, null, 95.74793066914681, null, null], [null, null, null, null, null, null, null, null, null, null, null, null, 1.4335763419674865, null, null, null, null, null, null, null, null, null, null, null, null, null, null, null, null, null, null, null, null, null, null, null, null, null, null, null, null, null], [null, null, null, null, null, null, null, null, null, null, null, 2.770563791115696, null, null, null, null, null, null, null, null, null, null, null, null, null, null, null, null, null, null, null, null, null, null, null, null, null, null, null, null, null, null], [null, null, null, null, 17.41343275962991, null, null, null, null, null, null, null, null, null, null, null, null, null, null, null, null, null, null, null, null, null, null, null, null, null, null, null, null, null, null, null, null, null, null, null, null, null], [null, null, null, null, null, null, null, null, null, null, null, null, null, null, null, null, null, null, null, null, null, null, null, null, null, null, null, null, null, null, null, null, null, null, null, null, null, null, null, null, 158.6440498659781, null], [null, null, null, null, null, null, null, null, null, null, 16.83687407382586, null, null, null, null, null, null, null, null, null, null, null, null, null, null, null, null, null, null, null, null, null, null, null, null, null, null, null, null, null, null, null], [null, null, null, null, null, null, null, null, null, null, null, null, null, null, null, null, null, 58.82051622560095, null, null, null, null, null, null, null, null, null, null, null, null, null, null, null, null, null, null, null, null, null, null, null, null], [null, null, null, null, null, null, null, null, null, null, null, null, null, null, null, null, null, null, null, null, null, null, null, null, null, null, null, null, null, null, null, null, null, 202.54098253416774, null, null, null, null, null, null, null, null], [null, null, null, null, null, null, null, null, null, null, null, null, null, null, null, null, null, null, null, null, null, null, null, null, null, null, null, null, null, null, null, null, null, null, null, null, null, null, null, null, null, null]]}, {\"marker\": {\"color\": \"black\", \"line\": {\"color\": \"Grey\", \"width\": 0.5}}, \"mode\": \"markers\", \"showlegend\": false, \"type\": \"scatter\", \"x\": [2.3361390291661763, 3.8456266418756506, 1.130750665884289, -8.342844626271189, -6.4706393436632865, -7.74291706422739, -6.758953391234841, 6.693575738373664, -8.827996130816306, 9.7034915112846, -2.8377159149245275, 2.494112124746241, 5.108928324404926, 6.280303299023631, -2.040371137347059, 9.669909604660088, 5.129162436040743, -1.3924075362206572, 8.07610793196412, 3.1734490908460984, 0.2129180122735042, 7.993028901694562, 5.05975611524223, 8.297011486720793, 1.4887397659387611, 4.204596086382114, 7.150457475340614, 5.139943897184253, -3.956865405883099, 2.341921447760451, 8.48717315740196, 2.452171656271444, 2.7746450002020984, 1.2732807519568545, 0.21012627601466782, 1.4273442879301337, 4.05077323829763, 5.843772621128082, 3.6935064074189983, -1.016714107294896], \"y\": [7.333314421087039, -3.585203722932002, -0.882240615651483, -6.8673617544877334, 0.33273036238120923, -1.8929875763019588, 4.5860128501259805, 9.538113639004123, -9.603645321997757, 4.891906452494794, -4.858056859704108, -0.6792962822996511, -4.092619591553821, 1.6560746312605383, -7.734427167789635, 2.1151775522919047, -3.4699024094733772, -2.3463936517142807, -5.523326672021506, -9.598827107040039, 2.9844024719609745, -6.194405499296809, -7.088546556722905, -2.77564890243955, -5.6781466528787305, -0.9880711285342487, 0.5172379252165022, -8.81379621548634, -3.845574223630096, -0.7745080086236572, -5.993016307805807, -1.0526141634218231, -2.7451778758222916, 0.9673288158969723, 3.454374787702534, 1.0512728345232176, -0.12712542888276113, -4.648553866765872, -1.8203790243995388, 7.1199901245554775]}],\n",
       "                        {\"template\": {\"data\": {\"bar\": [{\"error_x\": {\"color\": \"#2a3f5f\"}, \"error_y\": {\"color\": \"#2a3f5f\"}, \"marker\": {\"line\": {\"color\": \"#E5ECF6\", \"width\": 0.5}}, \"type\": \"bar\"}], \"barpolar\": [{\"marker\": {\"line\": {\"color\": \"#E5ECF6\", \"width\": 0.5}}, \"type\": \"barpolar\"}], \"carpet\": [{\"aaxis\": {\"endlinecolor\": \"#2a3f5f\", \"gridcolor\": \"white\", \"linecolor\": \"white\", \"minorgridcolor\": \"white\", \"startlinecolor\": \"#2a3f5f\"}, \"baxis\": {\"endlinecolor\": \"#2a3f5f\", \"gridcolor\": \"white\", \"linecolor\": \"white\", \"minorgridcolor\": \"white\", \"startlinecolor\": \"#2a3f5f\"}, \"type\": \"carpet\"}], \"choropleth\": [{\"colorbar\": {\"outlinewidth\": 0, \"ticks\": \"\"}, \"type\": \"choropleth\"}], \"contour\": [{\"colorbar\": {\"outlinewidth\": 0, \"ticks\": \"\"}, \"colorscale\": [[0.0, \"#0d0887\"], [0.1111111111111111, \"#46039f\"], [0.2222222222222222, \"#7201a8\"], [0.3333333333333333, \"#9c179e\"], [0.4444444444444444, \"#bd3786\"], [0.5555555555555556, \"#d8576b\"], [0.6666666666666666, \"#ed7953\"], [0.7777777777777778, \"#fb9f3a\"], [0.8888888888888888, \"#fdca26\"], [1.0, \"#f0f921\"]], \"type\": \"contour\"}], \"contourcarpet\": [{\"colorbar\": {\"outlinewidth\": 0, \"ticks\": \"\"}, \"type\": \"contourcarpet\"}], \"heatmap\": [{\"colorbar\": {\"outlinewidth\": 0, \"ticks\": \"\"}, \"colorscale\": [[0.0, \"#0d0887\"], [0.1111111111111111, \"#46039f\"], [0.2222222222222222, \"#7201a8\"], [0.3333333333333333, \"#9c179e\"], [0.4444444444444444, \"#bd3786\"], [0.5555555555555556, \"#d8576b\"], [0.6666666666666666, \"#ed7953\"], [0.7777777777777778, \"#fb9f3a\"], [0.8888888888888888, \"#fdca26\"], [1.0, \"#f0f921\"]], \"type\": \"heatmap\"}], \"heatmapgl\": [{\"colorbar\": {\"outlinewidth\": 0, \"ticks\": \"\"}, \"colorscale\": [[0.0, \"#0d0887\"], [0.1111111111111111, \"#46039f\"], [0.2222222222222222, \"#7201a8\"], [0.3333333333333333, \"#9c179e\"], [0.4444444444444444, \"#bd3786\"], [0.5555555555555556, \"#d8576b\"], [0.6666666666666666, \"#ed7953\"], [0.7777777777777778, \"#fb9f3a\"], [0.8888888888888888, \"#fdca26\"], [1.0, \"#f0f921\"]], \"type\": \"heatmapgl\"}], \"histogram\": [{\"marker\": {\"colorbar\": {\"outlinewidth\": 0, \"ticks\": \"\"}}, \"type\": \"histogram\"}], \"histogram2d\": [{\"colorbar\": {\"outlinewidth\": 0, \"ticks\": \"\"}, \"colorscale\": [[0.0, \"#0d0887\"], [0.1111111111111111, \"#46039f\"], [0.2222222222222222, \"#7201a8\"], [0.3333333333333333, \"#9c179e\"], [0.4444444444444444, \"#bd3786\"], [0.5555555555555556, \"#d8576b\"], [0.6666666666666666, \"#ed7953\"], [0.7777777777777778, \"#fb9f3a\"], [0.8888888888888888, \"#fdca26\"], [1.0, \"#f0f921\"]], \"type\": \"histogram2d\"}], \"histogram2dcontour\": [{\"colorbar\": {\"outlinewidth\": 0, \"ticks\": \"\"}, \"colorscale\": [[0.0, \"#0d0887\"], [0.1111111111111111, \"#46039f\"], [0.2222222222222222, \"#7201a8\"], [0.3333333333333333, \"#9c179e\"], [0.4444444444444444, \"#bd3786\"], [0.5555555555555556, \"#d8576b\"], [0.6666666666666666, \"#ed7953\"], [0.7777777777777778, \"#fb9f3a\"], [0.8888888888888888, \"#fdca26\"], [1.0, \"#f0f921\"]], \"type\": \"histogram2dcontour\"}], \"mesh3d\": [{\"colorbar\": {\"outlinewidth\": 0, \"ticks\": \"\"}, \"type\": \"mesh3d\"}], \"parcoords\": [{\"line\": {\"colorbar\": {\"outlinewidth\": 0, \"ticks\": \"\"}}, \"type\": \"parcoords\"}], \"pie\": [{\"automargin\": true, \"type\": \"pie\"}], \"scatter\": [{\"marker\": {\"colorbar\": {\"outlinewidth\": 0, \"ticks\": \"\"}}, \"type\": \"scatter\"}], \"scatter3d\": [{\"line\": {\"colorbar\": {\"outlinewidth\": 0, \"ticks\": \"\"}}, \"marker\": {\"colorbar\": {\"outlinewidth\": 0, \"ticks\": \"\"}}, \"type\": \"scatter3d\"}], \"scattercarpet\": [{\"marker\": {\"colorbar\": {\"outlinewidth\": 0, \"ticks\": \"\"}}, \"type\": \"scattercarpet\"}], \"scattergeo\": [{\"marker\": {\"colorbar\": {\"outlinewidth\": 0, \"ticks\": \"\"}}, \"type\": \"scattergeo\"}], \"scattergl\": [{\"marker\": {\"colorbar\": {\"outlinewidth\": 0, \"ticks\": \"\"}}, \"type\": \"scattergl\"}], \"scattermapbox\": [{\"marker\": {\"colorbar\": {\"outlinewidth\": 0, \"ticks\": \"\"}}, \"type\": \"scattermapbox\"}], \"scatterpolar\": [{\"marker\": {\"colorbar\": {\"outlinewidth\": 0, \"ticks\": \"\"}}, \"type\": \"scatterpolar\"}], \"scatterpolargl\": [{\"marker\": {\"colorbar\": {\"outlinewidth\": 0, \"ticks\": \"\"}}, \"type\": \"scatterpolargl\"}], \"scatterternary\": [{\"marker\": {\"colorbar\": {\"outlinewidth\": 0, \"ticks\": \"\"}}, \"type\": \"scatterternary\"}], \"surface\": [{\"colorbar\": {\"outlinewidth\": 0, \"ticks\": \"\"}, \"colorscale\": [[0.0, \"#0d0887\"], [0.1111111111111111, \"#46039f\"], [0.2222222222222222, \"#7201a8\"], [0.3333333333333333, \"#9c179e\"], [0.4444444444444444, \"#bd3786\"], [0.5555555555555556, \"#d8576b\"], [0.6666666666666666, \"#ed7953\"], [0.7777777777777778, \"#fb9f3a\"], [0.8888888888888888, \"#fdca26\"], [1.0, \"#f0f921\"]], \"type\": \"surface\"}], \"table\": [{\"cells\": {\"fill\": {\"color\": \"#EBF0F8\"}, \"line\": {\"color\": \"white\"}}, \"header\": {\"fill\": {\"color\": \"#C8D4E3\"}, \"line\": {\"color\": \"white\"}}, \"type\": \"table\"}]}, \"layout\": {\"annotationdefaults\": {\"arrowcolor\": \"#2a3f5f\", \"arrowhead\": 0, \"arrowwidth\": 1}, \"coloraxis\": {\"colorbar\": {\"outlinewidth\": 0, \"ticks\": \"\"}}, \"colorscale\": {\"diverging\": [[0, \"#8e0152\"], [0.1, \"#c51b7d\"], [0.2, \"#de77ae\"], [0.3, \"#f1b6da\"], [0.4, \"#fde0ef\"], [0.5, \"#f7f7f7\"], [0.6, \"#e6f5d0\"], [0.7, \"#b8e186\"], [0.8, \"#7fbc41\"], [0.9, \"#4d9221\"], [1, \"#276419\"]], \"sequential\": [[0.0, \"#0d0887\"], [0.1111111111111111, \"#46039f\"], [0.2222222222222222, \"#7201a8\"], [0.3333333333333333, \"#9c179e\"], [0.4444444444444444, \"#bd3786\"], [0.5555555555555556, \"#d8576b\"], [0.6666666666666666, \"#ed7953\"], [0.7777777777777778, \"#fb9f3a\"], [0.8888888888888888, \"#fdca26\"], [1.0, \"#f0f921\"]], \"sequentialminus\": [[0.0, \"#0d0887\"], [0.1111111111111111, \"#46039f\"], [0.2222222222222222, \"#7201a8\"], [0.3333333333333333, \"#9c179e\"], [0.4444444444444444, \"#bd3786\"], [0.5555555555555556, \"#d8576b\"], [0.6666666666666666, \"#ed7953\"], [0.7777777777777778, \"#fb9f3a\"], [0.8888888888888888, \"#fdca26\"], [1.0, \"#f0f921\"]]}, \"colorway\": [\"#636efa\", \"#EF553B\", \"#00cc96\", \"#ab63fa\", \"#FFA15A\", \"#19d3f3\", \"#FF6692\", \"#B6E880\", \"#FF97FF\", \"#FECB52\"], \"font\": {\"color\": \"#2a3f5f\"}, \"geo\": {\"bgcolor\": \"white\", \"lakecolor\": \"white\", \"landcolor\": \"#E5ECF6\", \"showlakes\": true, \"showland\": true, \"subunitcolor\": \"white\"}, \"hoverlabel\": {\"align\": \"left\"}, \"hovermode\": \"closest\", \"mapbox\": {\"style\": \"light\"}, \"paper_bgcolor\": \"white\", \"plot_bgcolor\": \"#E5ECF6\", \"polar\": {\"angularaxis\": {\"gridcolor\": \"white\", \"linecolor\": \"white\", \"ticks\": \"\"}, \"bgcolor\": \"#E5ECF6\", \"radialaxis\": {\"gridcolor\": \"white\", \"linecolor\": \"white\", \"ticks\": \"\"}}, \"scene\": {\"xaxis\": {\"backgroundcolor\": \"#E5ECF6\", \"gridcolor\": \"white\", \"gridwidth\": 2, \"linecolor\": \"white\", \"showbackground\": true, \"ticks\": \"\", \"zerolinecolor\": \"white\"}, \"yaxis\": {\"backgroundcolor\": \"#E5ECF6\", \"gridcolor\": \"white\", \"gridwidth\": 2, \"linecolor\": \"white\", \"showbackground\": true, \"ticks\": \"\", \"zerolinecolor\": \"white\"}, \"zaxis\": {\"backgroundcolor\": \"#E5ECF6\", \"gridcolor\": \"white\", \"gridwidth\": 2, \"linecolor\": \"white\", \"showbackground\": true, \"ticks\": \"\", \"zerolinecolor\": \"white\"}}, \"shapedefaults\": {\"line\": {\"color\": \"#2a3f5f\"}}, \"ternary\": {\"aaxis\": {\"gridcolor\": \"white\", \"linecolor\": \"white\", \"ticks\": \"\"}, \"baxis\": {\"gridcolor\": \"white\", \"linecolor\": \"white\", \"ticks\": \"\"}, \"bgcolor\": \"#E5ECF6\", \"caxis\": {\"gridcolor\": \"white\", \"linecolor\": \"white\", \"ticks\": \"\"}}, \"title\": {\"x\": 0.05}, \"xaxis\": {\"automargin\": true, \"gridcolor\": \"white\", \"linecolor\": \"white\", \"ticks\": \"\", \"title\": {\"standoff\": 15}, \"zerolinecolor\": \"white\", \"zerolinewidth\": 2}, \"yaxis\": {\"automargin\": true, \"gridcolor\": \"white\", \"linecolor\": \"white\", \"ticks\": \"\", \"title\": {\"standoff\": 15}, \"zerolinecolor\": \"white\", \"zerolinewidth\": 2}}}, \"title\": {\"text\": \"Contour Plot\"}, \"xaxis\": {\"range\": [-9.754570512921351, 10.630065893389645], \"title\": {\"text\": \"x\"}}, \"yaxis\": {\"range\": [-10.560733270047852, 10.495201587054218], \"title\": {\"text\": \"y\"}}},\n",
       "                        {\"responsive\": true}\n",
       "                    ).then(function(){\n",
       "                            \n",
       "var gd = document.getElementById('b0d4cce4-f515-41a5-b727-cd979e29a94c');\n",
       "var x = new MutationObserver(function (mutations, observer) {{\n",
       "        var display = window.getComputedStyle(gd).display;\n",
       "        if (!display || display === 'none') {{\n",
       "            console.log([gd, 'removed!']);\n",
       "            Plotly.purge(gd);\n",
       "            observer.disconnect();\n",
       "        }}\n",
       "}});\n",
       "\n",
       "// Listen for the removal of the full notebook cells\n",
       "var notebookContainer = gd.closest('#notebook-container');\n",
       "if (notebookContainer) {{\n",
       "    x.observe(notebookContainer, {childList: true});\n",
       "}}\n",
       "\n",
       "// Listen for the clearing of the current output cell\n",
       "var outputEl = gd.closest('.output');\n",
       "if (outputEl) {{\n",
       "    x.observe(outputEl, {childList: true});\n",
       "}}\n",
       "\n",
       "                        })\n",
       "                };\n",
       "                \n",
       "            </script>\n",
       "        </div>\n",
       "</body>\n",
       "</html>"
      ]
     },
     "metadata": {
      "tags": []
     },
     "output_type": "display_data"
    }
   ],
   "source": [
    "optuna.visualization.plot_contour(study)"
   ]
  },
  {
   "cell_type": "markdown",
   "metadata": {
    "id": "2M30W-QeT7vx"
   },
   "source": [
    "По данному графику можно посмотреть, в совокупности (какие значения каких параметров дают лучший результат), какие параметры лучше, чем синее тем линия лучше."
   ]
  },
  {
   "cell_type": "code",
   "execution_count": null,
   "metadata": {
    "colab": {
     "base_uri": "https://localhost:8080/",
     "height": 542
    },
    "id": "GN1ClvqdTRzP",
    "outputId": "0acb58a5-1614-4471-dead-a9c30041d5b1"
   },
   "outputs": [
    {
     "data": {
      "text/html": [
       "<html>\n",
       "<head><meta charset=\"utf-8\" /></head>\n",
       "<body>\n",
       "    <div>\n",
       "            <script src=\"https://cdnjs.cloudflare.com/ajax/libs/mathjax/2.7.5/MathJax.js?config=TeX-AMS-MML_SVG\"></script><script type=\"text/javascript\">if (window.MathJax) {MathJax.Hub.Config({SVG: {font: \"STIX-Web\"}});}</script>\n",
       "                <script type=\"text/javascript\">window.PlotlyConfig = {MathJaxConfig: 'local'};</script>\n",
       "        <script src=\"https://cdn.plot.ly/plotly-latest.min.js\"></script>    \n",
       "            <div id=\"ad22adbf-1961-417b-950e-e58bfc151e11\" class=\"plotly-graph-div\" style=\"height:525px; width:100%;\"></div>\n",
       "            <script type=\"text/javascript\">\n",
       "                \n",
       "                    window.PLOTLYENV=window.PLOTLYENV || {};\n",
       "                    \n",
       "                if (document.getElementById(\"ad22adbf-1961-417b-950e-e58bfc151e11\")) {\n",
       "                    Plotly.newPlot(\n",
       "                        'ad22adbf-1961-417b-950e-e58bfc151e11',\n",
       "                        [{\"dimensions\": [{\"label\": \"Objective Value\", \"range\": [0.016096660939490942, 417.45197245634995], \"values\": [58.82051622560095, 3.0261284209365362, 3.067717044135488, 296.19120366831515, 66.2255625876315, 135.39427680349243, 17.41343275962991, 202.54098253416774, 417.45197245634995, 158.6440498659781, 94.0080096972299, 0.03429317220876614, 0.9676485090649993, 35.24058293116495, 138.64587512664994, 95.74793066914681, 0.11610372949487224, 32.93383907464345, 0.30556712134374436, 70.98699471576414, 1.4335763419674865, 0.04055253406185714, 16.23115242136605, 12.399994449975873, 38.308757612099924, 1.4799329730667512, 32.122771153496295, 32.19260012990197, 96.08782269025079, 0.18713113263945644, 0.2441909920027948, 0.3605312043930329, 3.8829998138999877, 0.05789296414280524, 2.770563791115696, 0.22907434990552628, 3.7004208946666233, 0.6476728533303133, 0.016096660939490942, 16.83687407382586]}, {\"label\": \"x\", \"range\": [-8.827996130816306, 9.7034915112846], \"values\": [2.3361390291661763, 3.8456266418756506, 1.130750665884289, -8.342844626271189, -6.4706393436632865, -7.74291706422739, -6.758953391234841, 6.693575738373664, -8.827996130816306, 9.7034915112846, -2.8377159149245275, 2.494112124746241, 5.108928324404926, 6.280303299023631, -2.040371137347059, 9.669909604660088, 5.129162436040743, -1.3924075362206572, 8.07610793196412, 3.1734490908460984, 0.2129180122735042, 7.993028901694562, 5.05975611524223, 8.297011486720793, 1.4887397659387611, 4.204596086382114, 7.150457475340614, 5.139943897184253, -3.956865405883099, 2.341921447760451, 8.48717315740196, 2.452171656271444, 2.7746450002020984, 1.2732807519568545, 0.21012627601466782, 1.4273442879301337, 4.05077323829763, 5.843772621128082, 3.6935064074189983, -1.016714107294896]}, {\"label\": \"y\", \"range\": [-9.603645321997757, 9.538113639004123], \"values\": [7.333314421087039, -3.585203722932002, -0.882240615651483, -6.8673617544877334, 0.33273036238120923, -1.8929875763019588, 4.5860128501259805, 9.538113639004123, -9.603645321997757, 4.891906452494794, -4.858056859704108, -0.6792962822996511, -4.092619591553821, 1.6560746312605383, -7.734427167789635, 2.1151775522919047, -3.4699024094733772, -2.3463936517142807, -5.523326672021506, -9.598827107040039, 2.9844024719609745, -6.194405499296809, -7.088546556722905, -2.77564890243955, -5.6781466528787305, -0.9880711285342487, 0.5172379252165022, -8.81379621548634, -3.845574223630096, -0.7745080086236572, -5.993016307805807, -1.0526141634218231, -2.7451778758222916, 0.9673288158969723, 3.454374787702534, 1.0512728345232176, -0.12712542888276113, -4.648553866765872, -1.8203790243995388, 7.1199901245554775]}], \"labelangle\": 30, \"labelside\": \"bottom\", \"line\": {\"color\": [58.82051622560095, 3.0261284209365362, 3.067717044135488, 296.19120366831515, 66.2255625876315, 135.39427680349243, 17.41343275962991, 202.54098253416774, 417.45197245634995, 158.6440498659781, 94.0080096972299, 0.03429317220876614, 0.9676485090649993, 35.24058293116495, 138.64587512664994, 95.74793066914681, 0.11610372949487224, 32.93383907464345, 0.30556712134374436, 70.98699471576414, 1.4335763419674865, 0.04055253406185714, 16.23115242136605, 12.399994449975873, 38.308757612099924, 1.4799329730667512, 32.122771153496295, 32.19260012990197, 96.08782269025079, 0.18713113263945644, 0.2441909920027948, 0.3605312043930329, 3.8829998138999877, 0.05789296414280524, 2.770563791115696, 0.22907434990552628, 3.7004208946666233, 0.6476728533303133, 0.016096660939490942, 16.83687407382586], \"colorbar\": {\"title\": {\"text\": \"Objective Value\"}}, \"colorscale\": [[0.0, \"rgb(247,251,255)\"], [0.125, \"rgb(222,235,247)\"], [0.25, \"rgb(198,219,239)\"], [0.375, \"rgb(158,202,225)\"], [0.5, \"rgb(107,174,214)\"], [0.625, \"rgb(66,146,198)\"], [0.75, \"rgb(33,113,181)\"], [0.875, \"rgb(8,81,156)\"], [1.0, \"rgb(8,48,107)\"]], \"reversescale\": true, \"showscale\": true}, \"type\": \"parcoords\"}],\n",
       "                        {\"template\": {\"data\": {\"bar\": [{\"error_x\": {\"color\": \"#2a3f5f\"}, \"error_y\": {\"color\": \"#2a3f5f\"}, \"marker\": {\"line\": {\"color\": \"#E5ECF6\", \"width\": 0.5}}, \"type\": \"bar\"}], \"barpolar\": [{\"marker\": {\"line\": {\"color\": \"#E5ECF6\", \"width\": 0.5}}, \"type\": \"barpolar\"}], \"carpet\": [{\"aaxis\": {\"endlinecolor\": \"#2a3f5f\", \"gridcolor\": \"white\", \"linecolor\": \"white\", \"minorgridcolor\": \"white\", \"startlinecolor\": \"#2a3f5f\"}, \"baxis\": {\"endlinecolor\": \"#2a3f5f\", \"gridcolor\": \"white\", \"linecolor\": \"white\", \"minorgridcolor\": \"white\", \"startlinecolor\": \"#2a3f5f\"}, \"type\": \"carpet\"}], \"choropleth\": [{\"colorbar\": {\"outlinewidth\": 0, \"ticks\": \"\"}, \"type\": \"choropleth\"}], \"contour\": [{\"colorbar\": {\"outlinewidth\": 0, \"ticks\": \"\"}, \"colorscale\": [[0.0, \"#0d0887\"], [0.1111111111111111, \"#46039f\"], [0.2222222222222222, \"#7201a8\"], [0.3333333333333333, \"#9c179e\"], [0.4444444444444444, \"#bd3786\"], [0.5555555555555556, \"#d8576b\"], [0.6666666666666666, \"#ed7953\"], [0.7777777777777778, \"#fb9f3a\"], [0.8888888888888888, \"#fdca26\"], [1.0, \"#f0f921\"]], \"type\": \"contour\"}], \"contourcarpet\": [{\"colorbar\": {\"outlinewidth\": 0, \"ticks\": \"\"}, \"type\": \"contourcarpet\"}], \"heatmap\": [{\"colorbar\": {\"outlinewidth\": 0, \"ticks\": \"\"}, \"colorscale\": [[0.0, \"#0d0887\"], [0.1111111111111111, \"#46039f\"], [0.2222222222222222, \"#7201a8\"], [0.3333333333333333, \"#9c179e\"], [0.4444444444444444, \"#bd3786\"], [0.5555555555555556, \"#d8576b\"], [0.6666666666666666, \"#ed7953\"], [0.7777777777777778, \"#fb9f3a\"], [0.8888888888888888, \"#fdca26\"], [1.0, \"#f0f921\"]], \"type\": \"heatmap\"}], \"heatmapgl\": [{\"colorbar\": {\"outlinewidth\": 0, \"ticks\": \"\"}, \"colorscale\": [[0.0, \"#0d0887\"], [0.1111111111111111, \"#46039f\"], [0.2222222222222222, \"#7201a8\"], [0.3333333333333333, \"#9c179e\"], [0.4444444444444444, \"#bd3786\"], [0.5555555555555556, \"#d8576b\"], [0.6666666666666666, \"#ed7953\"], [0.7777777777777778, \"#fb9f3a\"], [0.8888888888888888, \"#fdca26\"], [1.0, \"#f0f921\"]], \"type\": \"heatmapgl\"}], \"histogram\": [{\"marker\": {\"colorbar\": {\"outlinewidth\": 0, \"ticks\": \"\"}}, \"type\": \"histogram\"}], \"histogram2d\": [{\"colorbar\": {\"outlinewidth\": 0, \"ticks\": \"\"}, \"colorscale\": [[0.0, \"#0d0887\"], [0.1111111111111111, \"#46039f\"], [0.2222222222222222, \"#7201a8\"], [0.3333333333333333, \"#9c179e\"], [0.4444444444444444, \"#bd3786\"], [0.5555555555555556, \"#d8576b\"], [0.6666666666666666, \"#ed7953\"], [0.7777777777777778, \"#fb9f3a\"], [0.8888888888888888, \"#fdca26\"], [1.0, \"#f0f921\"]], \"type\": \"histogram2d\"}], \"histogram2dcontour\": [{\"colorbar\": {\"outlinewidth\": 0, \"ticks\": \"\"}, \"colorscale\": [[0.0, \"#0d0887\"], [0.1111111111111111, \"#46039f\"], [0.2222222222222222, \"#7201a8\"], [0.3333333333333333, \"#9c179e\"], [0.4444444444444444, \"#bd3786\"], [0.5555555555555556, \"#d8576b\"], [0.6666666666666666, \"#ed7953\"], [0.7777777777777778, \"#fb9f3a\"], [0.8888888888888888, \"#fdca26\"], [1.0, \"#f0f921\"]], \"type\": \"histogram2dcontour\"}], \"mesh3d\": [{\"colorbar\": {\"outlinewidth\": 0, \"ticks\": \"\"}, \"type\": \"mesh3d\"}], \"parcoords\": [{\"line\": {\"colorbar\": {\"outlinewidth\": 0, \"ticks\": \"\"}}, \"type\": \"parcoords\"}], \"pie\": [{\"automargin\": true, \"type\": \"pie\"}], \"scatter\": [{\"marker\": {\"colorbar\": {\"outlinewidth\": 0, \"ticks\": \"\"}}, \"type\": \"scatter\"}], \"scatter3d\": [{\"line\": {\"colorbar\": {\"outlinewidth\": 0, \"ticks\": \"\"}}, \"marker\": {\"colorbar\": {\"outlinewidth\": 0, \"ticks\": \"\"}}, \"type\": \"scatter3d\"}], \"scattercarpet\": [{\"marker\": {\"colorbar\": {\"outlinewidth\": 0, \"ticks\": \"\"}}, \"type\": \"scattercarpet\"}], \"scattergeo\": [{\"marker\": {\"colorbar\": {\"outlinewidth\": 0, \"ticks\": \"\"}}, \"type\": \"scattergeo\"}], \"scattergl\": [{\"marker\": {\"colorbar\": {\"outlinewidth\": 0, \"ticks\": \"\"}}, \"type\": \"scattergl\"}], \"scattermapbox\": [{\"marker\": {\"colorbar\": {\"outlinewidth\": 0, \"ticks\": \"\"}}, \"type\": \"scattermapbox\"}], \"scatterpolar\": [{\"marker\": {\"colorbar\": {\"outlinewidth\": 0, \"ticks\": \"\"}}, \"type\": \"scatterpolar\"}], \"scatterpolargl\": [{\"marker\": {\"colorbar\": {\"outlinewidth\": 0, \"ticks\": \"\"}}, \"type\": \"scatterpolargl\"}], \"scatterternary\": [{\"marker\": {\"colorbar\": {\"outlinewidth\": 0, \"ticks\": \"\"}}, \"type\": \"scatterternary\"}], \"surface\": [{\"colorbar\": {\"outlinewidth\": 0, \"ticks\": \"\"}, \"colorscale\": [[0.0, \"#0d0887\"], [0.1111111111111111, \"#46039f\"], [0.2222222222222222, \"#7201a8\"], [0.3333333333333333, \"#9c179e\"], [0.4444444444444444, \"#bd3786\"], [0.5555555555555556, \"#d8576b\"], [0.6666666666666666, \"#ed7953\"], [0.7777777777777778, \"#fb9f3a\"], [0.8888888888888888, \"#fdca26\"], [1.0, \"#f0f921\"]], \"type\": \"surface\"}], \"table\": [{\"cells\": {\"fill\": {\"color\": \"#EBF0F8\"}, \"line\": {\"color\": \"white\"}}, \"header\": {\"fill\": {\"color\": \"#C8D4E3\"}, \"line\": {\"color\": \"white\"}}, \"type\": \"table\"}]}, \"layout\": {\"annotationdefaults\": {\"arrowcolor\": \"#2a3f5f\", \"arrowhead\": 0, \"arrowwidth\": 1}, \"coloraxis\": {\"colorbar\": {\"outlinewidth\": 0, \"ticks\": \"\"}}, \"colorscale\": {\"diverging\": [[0, \"#8e0152\"], [0.1, \"#c51b7d\"], [0.2, \"#de77ae\"], [0.3, \"#f1b6da\"], [0.4, \"#fde0ef\"], [0.5, \"#f7f7f7\"], [0.6, \"#e6f5d0\"], [0.7, \"#b8e186\"], [0.8, \"#7fbc41\"], [0.9, \"#4d9221\"], [1, \"#276419\"]], \"sequential\": [[0.0, \"#0d0887\"], [0.1111111111111111, \"#46039f\"], [0.2222222222222222, \"#7201a8\"], [0.3333333333333333, \"#9c179e\"], [0.4444444444444444, \"#bd3786\"], [0.5555555555555556, \"#d8576b\"], [0.6666666666666666, \"#ed7953\"], [0.7777777777777778, \"#fb9f3a\"], [0.8888888888888888, \"#fdca26\"], [1.0, \"#f0f921\"]], \"sequentialminus\": [[0.0, \"#0d0887\"], [0.1111111111111111, \"#46039f\"], [0.2222222222222222, \"#7201a8\"], [0.3333333333333333, \"#9c179e\"], [0.4444444444444444, \"#bd3786\"], [0.5555555555555556, \"#d8576b\"], [0.6666666666666666, \"#ed7953\"], [0.7777777777777778, \"#fb9f3a\"], [0.8888888888888888, \"#fdca26\"], [1.0, \"#f0f921\"]]}, \"colorway\": [\"#636efa\", \"#EF553B\", \"#00cc96\", \"#ab63fa\", \"#FFA15A\", \"#19d3f3\", \"#FF6692\", \"#B6E880\", \"#FF97FF\", \"#FECB52\"], \"font\": {\"color\": \"#2a3f5f\"}, \"geo\": {\"bgcolor\": \"white\", \"lakecolor\": \"white\", \"landcolor\": \"#E5ECF6\", \"showlakes\": true, \"showland\": true, \"subunitcolor\": \"white\"}, \"hoverlabel\": {\"align\": \"left\"}, \"hovermode\": \"closest\", \"mapbox\": {\"style\": \"light\"}, \"paper_bgcolor\": \"white\", \"plot_bgcolor\": \"#E5ECF6\", \"polar\": {\"angularaxis\": {\"gridcolor\": \"white\", \"linecolor\": \"white\", \"ticks\": \"\"}, \"bgcolor\": \"#E5ECF6\", \"radialaxis\": {\"gridcolor\": \"white\", \"linecolor\": \"white\", \"ticks\": \"\"}}, \"scene\": {\"xaxis\": {\"backgroundcolor\": \"#E5ECF6\", \"gridcolor\": \"white\", \"gridwidth\": 2, \"linecolor\": \"white\", \"showbackground\": true, \"ticks\": \"\", \"zerolinecolor\": \"white\"}, \"yaxis\": {\"backgroundcolor\": \"#E5ECF6\", \"gridcolor\": \"white\", \"gridwidth\": 2, \"linecolor\": \"white\", \"showbackground\": true, \"ticks\": \"\", \"zerolinecolor\": \"white\"}, \"zaxis\": {\"backgroundcolor\": \"#E5ECF6\", \"gridcolor\": \"white\", \"gridwidth\": 2, \"linecolor\": \"white\", \"showbackground\": true, \"ticks\": \"\", \"zerolinecolor\": \"white\"}}, \"shapedefaults\": {\"line\": {\"color\": \"#2a3f5f\"}}, \"ternary\": {\"aaxis\": {\"gridcolor\": \"white\", \"linecolor\": \"white\", \"ticks\": \"\"}, \"baxis\": {\"gridcolor\": \"white\", \"linecolor\": \"white\", \"ticks\": \"\"}, \"bgcolor\": \"#E5ECF6\", \"caxis\": {\"gridcolor\": \"white\", \"linecolor\": \"white\", \"ticks\": \"\"}}, \"title\": {\"x\": 0.05}, \"xaxis\": {\"automargin\": true, \"gridcolor\": \"white\", \"linecolor\": \"white\", \"ticks\": \"\", \"title\": {\"standoff\": 15}, \"zerolinecolor\": \"white\", \"zerolinewidth\": 2}, \"yaxis\": {\"automargin\": true, \"gridcolor\": \"white\", \"linecolor\": \"white\", \"ticks\": \"\", \"title\": {\"standoff\": 15}, \"zerolinecolor\": \"white\", \"zerolinewidth\": 2}}}, \"title\": {\"text\": \"Parallel Coordinate Plot\"}},\n",
       "                        {\"responsive\": true}\n",
       "                    ).then(function(){\n",
       "                            \n",
       "var gd = document.getElementById('ad22adbf-1961-417b-950e-e58bfc151e11');\n",
       "var x = new MutationObserver(function (mutations, observer) {{\n",
       "        var display = window.getComputedStyle(gd).display;\n",
       "        if (!display || display === 'none') {{\n",
       "            console.log([gd, 'removed!']);\n",
       "            Plotly.purge(gd);\n",
       "            observer.disconnect();\n",
       "        }}\n",
       "}});\n",
       "\n",
       "// Listen for the removal of the full notebook cells\n",
       "var notebookContainer = gd.closest('#notebook-container');\n",
       "if (notebookContainer) {{\n",
       "    x.observe(notebookContainer, {childList: true});\n",
       "}}\n",
       "\n",
       "// Listen for the clearing of the current output cell\n",
       "var outputEl = gd.closest('.output');\n",
       "if (outputEl) {{\n",
       "    x.observe(outputEl, {childList: true});\n",
       "}}\n",
       "\n",
       "                        })\n",
       "                };\n",
       "                \n",
       "            </script>\n",
       "        </div>\n",
       "</body>\n",
       "</html>"
      ]
     },
     "metadata": {
      "tags": []
     },
     "output_type": "display_data"
    }
   ],
   "source": [
    "optuna.visualization.plot_parallel_coordinate(study)"
   ]
  },
  {
   "cell_type": "markdown",
   "metadata": {
    "id": "1psw3rg6j6MN"
   },
   "source": [
    "### Pruning"
   ]
  },
  {
   "cell_type": "markdown",
   "metadata": {
    "id": "eKYClXEckCVi"
   },
   "source": [
    "Можно выделить 3 основных метода подборов параметров:\n",
    "\n",
    "*  Решетка. Перебор всех возможных комбинаций параметров.\n",
    "\n",
    "*  Случайный поиск. Случайным образом выбираем комбинацию параметров.\n",
    "\n",
    "*  Адаптивный отбор. В библиотеке Optuna используются алгоритмы median stopping rule и Successive Halving (SHA).\n",
    "\n",
    "![](https://s8.hostingkartinok.com/uploads/images/2020/11/019a65a57f303d9506769fcb99c99621.jpeg)"
   ]
  },
  {
   "cell_type": "markdown",
   "metadata": {
    "id": "zmupRU_MNiV4"
   },
   "source": [
    "В библиотеке Optuna есть механизм под названием Pruning, простыми словами раняя остановка вычислений бесперспективных комбинаций параметров."
   ]
  },
  {
   "cell_type": "markdown",
   "metadata": {
    "id": "5kk2aki5sHgG"
   },
   "source": [
    "Рассмотрим pruning с алгоритмом SHA. Допустим, мы хотели бы оптимизировать долю верных ответов (accuracy) используя три параметра в каждом из которых два возможных значения. Например, `max_depth = [30, 50]`, `n_estimater = [500, 1000]`, `criterion = ['gini', 'entropy']`.\n",
    "\n",
    "Всего мы имеем $2^3 = 8$ комбинаций параметров. Давайте запустим все и замерим accuracy."
   ]
  },
  {
   "cell_type": "markdown",
   "metadata": {
    "id": "MvtGmqE6tdse"
   },
   "source": [
    "![](https://s8.hostingkartinok.com/uploads/images/2020/11/693ec1bfcb8ebdea815b56be6c1a8557.png)"
   ]
  },
  {
   "cell_type": "markdown",
   "metadata": {
    "id": "oxp4M8eLuJPi"
   },
   "source": [
    " После чего откинем половину комбинаций, показывающих худшие результаты и протестируем оставшиеся. "
   ]
  },
  {
   "cell_type": "markdown",
   "metadata": {
    "id": "TaNPVSS4uJx4"
   },
   "source": [
    "![](https://s8.hostingkartinok.com/uploads/images/2020/11/6b033dcce7d3247389e7f420bc47fa99.png)"
   ]
  },
  {
   "cell_type": "markdown",
   "metadata": {
    "id": "pXh49AB_uYdS"
   },
   "source": [
    "Так будем продолжать иттерационно, пока не найдём оптимальную комбинацию."
   ]
  },
  {
   "cell_type": "markdown",
   "metadata": {
    "id": "leLSrmRfPHsl"
   },
   "source": [
    "Мы ограничены в вычислительных ресурсах, поэтому алгоритм SHA имеет свой гиперпараметр, обозначим его $n$, количество комбинаций параметров.\n",
    "\n",
    "По построению алгоритма, с увеличеснием $n$, нам нужно выделять больше количество эпох, зависимое как $log_2(n)$.\n",
    "\n",
    "Чем больше $n$, тем потенциально более нестабильное поведение может быть у кривой accuracy, т.е. могут быть какие-то неравномерные возрастания, что может привести к тому, что мы отбросим перспективную ветвь. Обратим внимание на синюю ветку на графике, если бы у нас было количество параметров равное 6, то мы бы после первой эпохи откинули её следуя алгоритму SHA, но как видим она имеет хороший потенциал.\n",
    "\n",
    "Именно эта проблема исправлена в алгоритме [Hyperband](https://medium.com/optuna/optuna-supports-hyperband-93b0cae1a137), который на данный момент 25.11.2020 является лучшим.\n"
   ]
  },
  {
   "cell_type": "markdown",
   "metadata": {
    "id": "F9h1h3zTul4I"
   },
   "source": [
    "### Пример Pruning"
   ]
  },
  {
   "cell_type": "markdown",
   "metadata": {
    "id": "EoszV4PIVl5r"
   },
   "source": [
    "В одном примере разберем сразу:\n",
    "\n",
    "*  как можно оптимизировать параметры модели\n",
    "\n",
    "*  как оптимизировать параметры k моделей\n",
    "\n",
    "*  как использовать Pruning\n",
    "\n"
   ]
  },
  {
   "cell_type": "markdown",
   "metadata": {
    "id": "vGRFFl170Bso"
   },
   "source": [
    "Список алгоритмов pruning в Optuna: [алгоритмы](https://optuna.readthedocs.io/en/stable/reference/pruners.html)\n",
    "\n",
    "По умолчанию стоит `MedianPruner` (информации [отсюда](https://medium.com/optuna/optuna-v2-3165e3f1fc2))\n",
    "\n",
    "\n"
   ]
  },
  {
   "cell_type": "code",
   "execution_count": null,
   "metadata": {
    "id": "xT5vwwYeV6M5"
   },
   "outputs": [],
   "source": [
    "# как установить алгоритм Pruning\n",
    "study = optuna.create_study(pruner=optuna.pruners.HyperbandPruner(max_resource='auto'))"
   ]
  },
  {
   "cell_type": "markdown",
   "metadata": {
    "id": "KJXYNblhV1qJ"
   },
   "source": [
    "Список сэмплеров параметров: [сэмплеры](https://optuna.readthedocs.io/en/stable/reference/samplers.html)\n",
    "\n",
    "Более продвинутые сэмплеры используют информацию о том, какие ветки были обрезаны.\n",
    "\n",
    "На данный момент 25.11.2020 лучший сэмплер `CmaEsSampler`."
   ]
  },
  {
   "cell_type": "code",
   "execution_count": null,
   "metadata": {
    "id": "F3-Z3ynDV0AK"
   },
   "outputs": [],
   "source": [
    "# как установить сэмплер\n",
    "study = optuna.create_study(sampler=optuna.integration.CmaEsSampler())"
   ]
  },
  {
   "cell_type": "code",
   "execution_count": null,
   "metadata": {
    "id": "c44yziZ1WhdY"
   },
   "outputs": [],
   "source": [
    "# или так\n",
    "study = optuna.create_study(sampler=optuna.samplers.CmaEsSampler())"
   ]
  },
  {
   "cell_type": "code",
   "execution_count": null,
   "metadata": {
    "colab": {
     "base_uri": "https://localhost:8080/"
    },
    "id": "IvKQ6dljVvcF",
    "outputId": "2cf10af1-0dde-48cb-f310-a407bc5421ef"
   },
   "outputs": [
    {
     "name": "stderr",
     "output_type": "stream",
     "text": [
      "\u001b[32m[I 2020-12-01 18:12:13,392]\u001b[0m A new study created in memory with name: no-name-7912b42b-c61e-44c4-9628-6d8ad697d1be\u001b[0m\n",
      "\u001b[32m[I 2020-12-01 18:12:13,424]\u001b[0m Trial 0 finished with value: 0.6643356643356644 and parameters: {'classifier': 'LogReg', 'C': 3.0698730423284656e-09}. Best is trial 0 with value: 0.6643356643356644.\u001b[0m\n",
      "\u001b[32m[I 2020-12-01 18:12:13,945]\u001b[0m Trial 1 finished with value: 0.972027972027972 and parameters: {'classifier': 'RandomForest', 'n_estimators': 252, 'max_depth': 3}. Best is trial 1 with value: 0.972027972027972.\u001b[0m\n",
      "\u001b[32m[I 2020-12-01 18:12:15,031]\u001b[0m Trial 2 finished with value: 0.972027972027972 and parameters: {'classifier': 'RandomForest', 'n_estimators': 561, 'max_depth': 12}. Best is trial 1 with value: 0.972027972027972.\u001b[0m\n",
      "\u001b[32m[I 2020-12-01 18:12:15,041]\u001b[0m Trial 3 finished with value: 0.6643356643356644 and parameters: {'classifier': 'LogReg', 'C': 1.281938246444521e-09}. Best is trial 1 with value: 0.972027972027972.\u001b[0m\n",
      "\u001b[32m[I 2020-12-01 18:12:16,555]\u001b[0m Trial 4 finished with value: 0.9790209790209791 and parameters: {'classifier': 'RandomForest', 'n_estimators': 763, 'max_depth': 8}. Best is trial 4 with value: 0.9790209790209791.\u001b[0m\n",
      "\u001b[32m[I 2020-12-01 18:12:17,008]\u001b[0m Trial 5 finished with value: 0.9790209790209791 and parameters: {'classifier': 'RandomForest', 'n_estimators': 234, 'max_depth': 27}. Best is trial 4 with value: 0.9790209790209791.\u001b[0m\n",
      "\u001b[32m[I 2020-12-01 18:12:17,020]\u001b[0m Trial 6 pruned. \u001b[0m\n",
      "\u001b[32m[I 2020-12-01 18:12:17,743]\u001b[0m Trial 7 finished with value: 0.9790209790209791 and parameters: {'classifier': 'RandomForest', 'n_estimators': 388, 'max_depth': 3}. Best is trial 4 with value: 0.9790209790209791.\u001b[0m\n",
      "\u001b[32m[I 2020-12-01 18:12:18,257]\u001b[0m Trial 8 finished with value: 0.9790209790209791 and parameters: {'classifier': 'RandomForest', 'n_estimators': 258, 'max_depth': 13}. Best is trial 4 with value: 0.9790209790209791.\u001b[0m\n",
      "\u001b[32m[I 2020-12-01 18:12:18,265]\u001b[0m Trial 9 pruned. \u001b[0m\n",
      "\u001b[32m[I 2020-12-01 18:12:20,123]\u001b[0m Trial 10 finished with value: 0.9790209790209791 and parameters: {'classifier': 'RandomForest', 'n_estimators': 950, 'max_depth': 6}. Best is trial 4 with value: 0.9790209790209791.\u001b[0m\n",
      "\u001b[32m[I 2020-12-01 18:12:21,589]\u001b[0m Trial 11 finished with value: 0.9790209790209791 and parameters: {'classifier': 'RandomForest', 'n_estimators': 763, 'max_depth': 32}. Best is trial 4 with value: 0.9790209790209791.\u001b[0m\n",
      "\u001b[32m[I 2020-12-01 18:12:22,880]\u001b[0m Trial 12 pruned. \u001b[0m\n",
      "\u001b[32m[I 2020-12-01 18:12:23,039]\u001b[0m Trial 13 pruned. \u001b[0m\n",
      "\u001b[32m[I 2020-12-01 18:12:24,862]\u001b[0m Trial 14 finished with value: 0.9790209790209791 and parameters: {'classifier': 'RandomForest', 'n_estimators': 956, 'max_depth': 6}. Best is trial 4 with value: 0.9790209790209791.\u001b[0m\n",
      "\u001b[32m[I 2020-12-01 18:12:24,941]\u001b[0m Trial 15 pruned. \u001b[0m\n",
      "\u001b[32m[I 2020-12-01 18:12:26,486]\u001b[0m Trial 16 pruned. \u001b[0m\n",
      "\u001b[32m[I 2020-12-01 18:12:27,259]\u001b[0m Trial 17 finished with value: 0.9790209790209791 and parameters: {'classifier': 'RandomForest', 'n_estimators': 401, 'max_depth': 6}. Best is trial 4 with value: 0.9790209790209791.\u001b[0m\n",
      "\u001b[32m[I 2020-12-01 18:12:29,152]\u001b[0m Trial 18 finished with value: 0.9790209790209791 and parameters: {'classifier': 'RandomForest', 'n_estimators': 989, 'max_depth': 10}. Best is trial 4 with value: 0.9790209790209791.\u001b[0m\n",
      "\u001b[32m[I 2020-12-01 18:12:30,914]\u001b[0m Trial 19 finished with value: 0.9790209790209791 and parameters: {'classifier': 'RandomForest', 'n_estimators': 972, 'max_depth': 4}. Best is trial 4 with value: 0.9790209790209791.\u001b[0m\n",
      "\u001b[32m[I 2020-12-01 18:12:31,772]\u001b[0m Trial 20 finished with value: 0.9790209790209791 and parameters: {'classifier': 'RandomForest', 'n_estimators': 463, 'max_depth': 4}. Best is trial 4 with value: 0.9790209790209791.\u001b[0m\n",
      "\u001b[32m[I 2020-12-01 18:12:33,669]\u001b[0m Trial 21 finished with value: 0.9790209790209791 and parameters: {'classifier': 'RandomForest', 'n_estimators': 990, 'max_depth': 8}. Best is trial 4 with value: 0.9790209790209791.\u001b[0m\n",
      "\u001b[32m[I 2020-12-01 18:12:35,364]\u001b[0m Trial 22 finished with value: 0.9790209790209791 and parameters: {'classifier': 'RandomForest', 'n_estimators': 908, 'max_depth': 5}. Best is trial 4 with value: 0.9790209790209791.\u001b[0m\n",
      "\u001b[32m[I 2020-12-01 18:12:36,305]\u001b[0m Trial 23 pruned. \u001b[0m\n",
      "\u001b[32m[I 2020-12-01 18:12:37,799]\u001b[0m Trial 24 finished with value: 0.9790209790209791 and parameters: {'classifier': 'RandomForest', 'n_estimators': 772, 'max_depth': 9}. Best is trial 4 with value: 0.9790209790209791.\u001b[0m\n",
      "\u001b[32m[I 2020-12-01 18:12:39,429]\u001b[0m Trial 25 finished with value: 0.9790209790209791 and parameters: {'classifier': 'RandomForest', 'n_estimators': 845, 'max_depth': 8}. Best is trial 4 with value: 0.9790209790209791.\u001b[0m\n",
      "\u001b[32m[I 2020-12-01 18:12:40,830]\u001b[0m Trial 26 pruned. \u001b[0m\n",
      "\u001b[32m[I 2020-12-01 18:12:40,853]\u001b[0m Trial 27 finished with value: 0.986013986013986 and parameters: {'classifier': 'LogReg', 'C': 0.6344274245124659}. Best is trial 27 with value: 0.986013986013986.\u001b[0m\n",
      "\u001b[32m[I 2020-12-01 18:12:40,871]\u001b[0m Trial 28 finished with value: 0.986013986013986 and parameters: {'classifier': 'LogReg', 'C': 0.4692535603163306}. Best is trial 27 with value: 0.986013986013986.\u001b[0m\n",
      "\u001b[32m[I 2020-12-01 18:12:40,889]\u001b[0m Trial 29 finished with value: 0.986013986013986 and parameters: {'classifier': 'LogReg', 'C': 0.43532218157579705}. Best is trial 27 with value: 0.986013986013986.\u001b[0m\n",
      "\u001b[32m[I 2020-12-01 18:12:40,907]\u001b[0m Trial 30 finished with value: 0.9790209790209791 and parameters: {'classifier': 'LogReg', 'C': 0.7609700530945179}. Best is trial 27 with value: 0.986013986013986.\u001b[0m\n",
      "\u001b[32m[I 2020-12-01 18:12:40,924]\u001b[0m Trial 31 finished with value: 0.986013986013986 and parameters: {'classifier': 'LogReg', 'C': 0.3100294846858584}. Best is trial 27 with value: 0.986013986013986.\u001b[0m\n",
      "\u001b[32m[I 2020-12-01 18:12:40,943]\u001b[0m Trial 32 finished with value: 0.9790209790209791 and parameters: {'classifier': 'LogReg', 'C': 0.6552439027470741}. Best is trial 27 with value: 0.986013986013986.\u001b[0m\n",
      "\u001b[32m[I 2020-12-01 18:12:40,956]\u001b[0m Trial 33 pruned. \u001b[0m\n",
      "\u001b[32m[I 2020-12-01 18:12:40,968]\u001b[0m Trial 34 pruned. \u001b[0m\n",
      "\u001b[32m[I 2020-12-01 18:12:40,981]\u001b[0m Trial 35 pruned. \u001b[0m\n",
      "\u001b[32m[I 2020-12-01 18:12:41,001]\u001b[0m Trial 36 finished with value: 0.9790209790209791 and parameters: {'classifier': 'LogReg', 'C': 0.99874355437177}. Best is trial 27 with value: 0.986013986013986.\u001b[0m\n",
      "\u001b[32m[I 2020-12-01 18:12:41,014]\u001b[0m Trial 37 pruned. \u001b[0m\n",
      "\u001b[32m[I 2020-12-01 18:12:41,033]\u001b[0m Trial 38 finished with value: 0.9790209790209791 and parameters: {'classifier': 'LogReg', 'C': 0.7544501040817091}. Best is trial 27 with value: 0.986013986013986.\u001b[0m\n",
      "\u001b[32m[I 2020-12-01 18:12:41,048]\u001b[0m Trial 39 finished with value: 0.9790209790209791 and parameters: {'classifier': 'LogReg', 'C': 0.059814640277733894}. Best is trial 27 with value: 0.986013986013986.\u001b[0m\n",
      "\u001b[32m[I 2020-12-01 18:12:41,061]\u001b[0m Trial 40 pruned. \u001b[0m\n",
      "\u001b[32m[I 2020-12-01 18:12:41,076]\u001b[0m Trial 41 finished with value: 0.986013986013986 and parameters: {'classifier': 'LogReg', 'C': 0.12698737179430122}. Best is trial 27 with value: 0.986013986013986.\u001b[0m\n",
      "\u001b[32m[I 2020-12-01 18:12:41,092]\u001b[0m Trial 42 finished with value: 0.993006993006993 and parameters: {'classifier': 'LogReg', 'C': 0.1511216155188127}. Best is trial 42 with value: 0.993006993006993.\u001b[0m\n",
      "\u001b[32m[I 2020-12-01 18:12:41,107]\u001b[0m Trial 43 finished with value: 0.986013986013986 and parameters: {'classifier': 'LogReg', 'C': 0.09287215761406693}. Best is trial 42 with value: 0.993006993006993.\u001b[0m\n",
      "\u001b[32m[I 2020-12-01 18:12:41,122]\u001b[0m Trial 44 pruned. \u001b[0m\n",
      "\u001b[32m[I 2020-12-01 18:12:41,136]\u001b[0m Trial 45 finished with value: 0.986013986013986 and parameters: {'classifier': 'LogReg', 'C': 0.08568778403853629}. Best is trial 42 with value: 0.993006993006993.\u001b[0m\n",
      "\u001b[32m[I 2020-12-01 18:12:41,149]\u001b[0m Trial 46 pruned. \u001b[0m\n",
      "\u001b[32m[I 2020-12-01 18:12:41,163]\u001b[0m Trial 47 finished with value: 0.9790209790209791 and parameters: {'classifier': 'LogReg', 'C': 0.0667337931280103}. Best is trial 42 with value: 0.993006993006993.\u001b[0m\n",
      "\u001b[32m[I 2020-12-01 18:12:41,184]\u001b[0m Trial 48 finished with value: 0.9790209790209791 and parameters: {'classifier': 'LogReg', 'C': 0.982201977718309}. Best is trial 42 with value: 0.993006993006993.\u001b[0m\n",
      "\u001b[32m[I 2020-12-01 18:12:41,198]\u001b[0m Trial 49 finished with value: 0.9790209790209791 and parameters: {'classifier': 'LogReg', 'C': 0.06485388347491865}. Best is trial 42 with value: 0.993006993006993.\u001b[0m\n",
      "\u001b[32m[I 2020-12-01 18:12:41,211]\u001b[0m Trial 50 pruned. \u001b[0m\n",
      "\u001b[32m[I 2020-12-01 18:12:41,226]\u001b[0m Trial 51 finished with value: 0.986013986013986 and parameters: {'classifier': 'LogReg', 'C': 0.19342352420361955}. Best is trial 42 with value: 0.993006993006993.\u001b[0m\n",
      "\u001b[32m[I 2020-12-01 18:12:41,241]\u001b[0m Trial 52 finished with value: 0.993006993006993 and parameters: {'classifier': 'LogReg', 'C': 0.15537226532161344}. Best is trial 42 with value: 0.993006993006993.\u001b[0m\n",
      "\u001b[32m[I 2020-12-01 18:12:41,258]\u001b[0m Trial 53 finished with value: 0.986013986013986 and parameters: {'classifier': 'LogReg', 'C': 0.268286551212063}. Best is trial 42 with value: 0.993006993006993.\u001b[0m\n",
      "\u001b[32m[I 2020-12-01 18:12:41,270]\u001b[0m Trial 54 pruned. \u001b[0m\n",
      "\u001b[32m[I 2020-12-01 18:12:41,286]\u001b[0m Trial 55 pruned. \u001b[0m\n",
      "\u001b[32m[I 2020-12-01 18:12:41,300]\u001b[0m Trial 56 finished with value: 0.9790209790209791 and parameters: {'classifier': 'LogReg', 'C': 0.06554118497581463}. Best is trial 42 with value: 0.993006993006993.\u001b[0m\n",
      "\u001b[32m[I 2020-12-01 18:12:41,318]\u001b[0m Trial 57 finished with value: 0.986013986013986 and parameters: {'classifier': 'LogReg', 'C': 0.3982841310722548}. Best is trial 42 with value: 0.993006993006993.\u001b[0m\n",
      "\u001b[32m[I 2020-12-01 18:12:41,334]\u001b[0m Trial 58 finished with value: 0.993006993006993 and parameters: {'classifier': 'LogReg', 'C': 0.1575198597996192}. Best is trial 42 with value: 0.993006993006993.\u001b[0m\n",
      "\u001b[32m[I 2020-12-01 18:12:41,348]\u001b[0m Trial 59 pruned. \u001b[0m\n",
      "\u001b[32m[I 2020-12-01 18:12:41,362]\u001b[0m Trial 60 finished with value: 0.993006993006993 and parameters: {'classifier': 'LogReg', 'C': 0.16728256934900834}. Best is trial 42 with value: 0.993006993006993.\u001b[0m\n",
      "\u001b[32m[I 2020-12-01 18:12:41,380]\u001b[0m Trial 61 finished with value: 0.986013986013986 and parameters: {'classifier': 'LogReg', 'C': 0.2996530005580895}. Best is trial 42 with value: 0.993006993006993.\u001b[0m\n",
      "\u001b[32m[I 2020-12-01 18:12:41,397]\u001b[0m Trial 62 finished with value: 0.986013986013986 and parameters: {'classifier': 'LogReg', 'C': 0.23803422157156992}. Best is trial 42 with value: 0.993006993006993.\u001b[0m\n",
      "\u001b[32m[I 2020-12-01 18:12:41,412]\u001b[0m Trial 63 pruned. \u001b[0m\n",
      "\u001b[32m[I 2020-12-01 18:12:41,427]\u001b[0m Trial 64 pruned. \u001b[0m\n",
      "\u001b[32m[I 2020-12-01 18:12:41,454]\u001b[0m Trial 65 finished with value: 0.9790209790209791 and parameters: {'classifier': 'LogReg', 'C': 0.9327416216689743}. Best is trial 42 with value: 0.993006993006993.\u001b[0m\n",
      "\u001b[32m[I 2020-12-01 18:12:41,468]\u001b[0m Trial 66 pruned. \u001b[0m\n",
      "\u001b[32m[I 2020-12-01 18:12:41,511]\u001b[0m Trial 67 finished with value: 0.986013986013986 and parameters: {'classifier': 'LogReg', 'C': 0.20425588172565584}. Best is trial 42 with value: 0.993006993006993.\u001b[0m\n",
      "\u001b[32m[I 2020-12-01 18:12:41,530]\u001b[0m Trial 68 finished with value: 0.986013986013986 and parameters: {'classifier': 'LogReg', 'C': 0.11228792964570737}. Best is trial 42 with value: 0.993006993006993.\u001b[0m\n",
      "\u001b[32m[I 2020-12-01 18:12:41,548]\u001b[0m Trial 69 finished with value: 0.986013986013986 and parameters: {'classifier': 'LogReg', 'C': 0.140309849755355}. Best is trial 42 with value: 0.993006993006993.\u001b[0m\n",
      "\u001b[32m[I 2020-12-01 18:12:41,562]\u001b[0m Trial 70 pruned. \u001b[0m\n",
      "\u001b[32m[I 2020-12-01 18:12:41,587]\u001b[0m Trial 71 finished with value: 0.986013986013986 and parameters: {'classifier': 'LogReg', 'C': 0.28573071460191596}. Best is trial 42 with value: 0.993006993006993.\u001b[0m\n",
      "\u001b[32m[I 2020-12-01 18:12:41,602]\u001b[0m Trial 72 pruned. \u001b[0m\n",
      "\u001b[32m[I 2020-12-01 18:12:41,621]\u001b[0m Trial 73 finished with value: 0.9790209790209791 and parameters: {'classifier': 'LogReg', 'C': 0.7987400840451627}. Best is trial 42 with value: 0.993006993006993.\u001b[0m\n",
      "\u001b[32m[I 2020-12-01 18:12:41,640]\u001b[0m Trial 74 finished with value: 0.9790209790209791 and parameters: {'classifier': 'LogReg', 'C': 0.8678690351958677}. Best is trial 42 with value: 0.993006993006993.\u001b[0m\n",
      "\u001b[32m[I 2020-12-01 18:12:41,658]\u001b[0m Trial 75 finished with value: 0.986013986013986 and parameters: {'classifier': 'LogReg', 'C': 0.4056365180245734}. Best is trial 42 with value: 0.993006993006993.\u001b[0m\n",
      "\u001b[32m[I 2020-12-01 18:12:41,674]\u001b[0m Trial 76 finished with value: 0.986013986013986 and parameters: {'classifier': 'LogReg', 'C': 0.33333063356679105}. Best is trial 42 with value: 0.993006993006993.\u001b[0m\n",
      "\u001b[32m[I 2020-12-01 18:12:41,695]\u001b[0m Trial 77 finished with value: 0.9790209790209791 and parameters: {'classifier': 'LogReg', 'C': 0.9895197108739979}. Best is trial 42 with value: 0.993006993006993.\u001b[0m\n",
      "\u001b[32m[I 2020-12-01 18:12:41,709]\u001b[0m Trial 78 pruned. \u001b[0m\n",
      "\u001b[32m[I 2020-12-01 18:12:41,725]\u001b[0m Trial 79 finished with value: 0.993006993006993 and parameters: {'classifier': 'LogReg', 'C': 0.16784218790932276}. Best is trial 42 with value: 0.993006993006993.\u001b[0m\n",
      "\u001b[32m[I 2020-12-01 18:12:41,741]\u001b[0m Trial 80 finished with value: 0.986013986013986 and parameters: {'classifier': 'LogReg', 'C': 0.14346330390123752}. Best is trial 42 with value: 0.993006993006993.\u001b[0m\n",
      "\u001b[32m[I 2020-12-01 18:12:41,760]\u001b[0m Trial 81 finished with value: 0.986013986013986 and parameters: {'classifier': 'LogReg', 'C': 0.5181300468537475}. Best is trial 42 with value: 0.993006993006993.\u001b[0m\n",
      "\u001b[32m[I 2020-12-01 18:12:41,778]\u001b[0m Trial 82 finished with value: 0.986013986013986 and parameters: {'classifier': 'LogReg', 'C': 0.5207608633106767}. Best is trial 42 with value: 0.993006993006993.\u001b[0m\n",
      "\u001b[32m[I 2020-12-01 18:12:41,793]\u001b[0m Trial 83 pruned. \u001b[0m\n",
      "\u001b[32m[I 2020-12-01 18:12:41,808]\u001b[0m Trial 84 finished with value: 0.986013986013986 and parameters: {'classifier': 'LogReg', 'C': 0.10990061185353853}. Best is trial 42 with value: 0.993006993006993.\u001b[0m\n",
      "\u001b[32m[I 2020-12-01 18:12:41,821]\u001b[0m Trial 85 pruned. \u001b[0m\n",
      "\u001b[32m[I 2020-12-01 18:12:41,837]\u001b[0m Trial 86 finished with value: 0.993006993006993 and parameters: {'classifier': 'LogReg', 'C': 0.17079159602858318}. Best is trial 42 with value: 0.993006993006993.\u001b[0m\n",
      "\u001b[32m[I 2020-12-01 18:12:41,852]\u001b[0m Trial 87 pruned. \u001b[0m\n",
      "\u001b[32m[I 2020-12-01 18:12:41,865]\u001b[0m Trial 88 pruned. \u001b[0m\n",
      "\u001b[32m[I 2020-12-01 18:12:41,880]\u001b[0m Trial 89 finished with value: 0.986013986013986 and parameters: {'classifier': 'LogReg', 'C': 0.07843701504651188}. Best is trial 42 with value: 0.993006993006993.\u001b[0m\n",
      "\u001b[32m[I 2020-12-01 18:12:41,894]\u001b[0m Trial 90 finished with value: 0.993006993006993 and parameters: {'classifier': 'LogReg', 'C': 0.16073129720802123}. Best is trial 42 with value: 0.993006993006993.\u001b[0m\n",
      "\u001b[32m[I 2020-12-01 18:12:41,911]\u001b[0m Trial 91 finished with value: 0.986013986013986 and parameters: {'classifier': 'LogReg', 'C': 0.13874520217702033}. Best is trial 42 with value: 0.993006993006993.\u001b[0m\n",
      "\u001b[32m[I 2020-12-01 18:12:41,927]\u001b[0m Trial 92 finished with value: 0.986013986013986 and parameters: {'classifier': 'LogReg', 'C': 0.07452751129452719}. Best is trial 42 with value: 0.993006993006993.\u001b[0m\n",
      "\u001b[32m[I 2020-12-01 18:12:41,944]\u001b[0m Trial 93 pruned. \u001b[0m\n",
      "\u001b[32m[I 2020-12-01 18:12:41,960]\u001b[0m Trial 94 finished with value: 0.986013986013986 and parameters: {'classifier': 'LogReg', 'C': 0.19797624580080633}. Best is trial 42 with value: 0.993006993006993.\u001b[0m\n",
      "\u001b[32m[I 2020-12-01 18:12:41,984]\u001b[0m Trial 95 finished with value: 0.986013986013986 and parameters: {'classifier': 'LogReg', 'C': 0.44379386001744225}. Best is trial 42 with value: 0.993006993006993.\u001b[0m\n",
      "\u001b[32m[I 2020-12-01 18:12:42,005]\u001b[0m Trial 96 finished with value: 0.986013986013986 and parameters: {'classifier': 'LogReg', 'C': 0.27484478056755557}. Best is trial 42 with value: 0.993006993006993.\u001b[0m\n",
      "\u001b[32m[I 2020-12-01 18:12:42,024]\u001b[0m Trial 97 finished with value: 0.986013986013986 and parameters: {'classifier': 'LogReg', 'C': 0.571595251316127}. Best is trial 42 with value: 0.993006993006993.\u001b[0m\n",
      "\u001b[32m[I 2020-12-01 18:12:42,037]\u001b[0m Trial 98 pruned. \u001b[0m\n",
      "\u001b[32m[I 2020-12-01 18:12:42,052]\u001b[0m Trial 99 pruned. \u001b[0m\n"
     ]
    }
   ],
   "source": [
    "import optuna\n",
    "import pandas as pd\n",
    "from sklearn.linear_model import LogisticRegression\n",
    "from sklearn.ensemble import RandomForestClassifier\n",
    "from sklearn import datasets\n",
    "from sklearn import model_selection\n",
    "from sklearn.preprocessing import StandardScaler\n",
    "\n",
    "# Загрузим датасет из Sklearn\n",
    "X, y = datasets.load_breast_cancer(return_X_y = True)\n",
    "\n",
    "# Нормируем данные\n",
    "scaler = StandardScaler()\n",
    "X = scaler.fit_transform(X)\n",
    "\n",
    "x_train, x_valid, y_train, y_valid = model_selection.train_test_split(X, y)\n",
    "\n",
    "#Step 1. Объявим целевую функцию для её максимизации\n",
    "def objective(trial):\n",
    "\n",
    "    cls_name = trial.suggest_categorical('classifier', ['LogReg', 'RandomForest'])\n",
    "    \n",
    "    # Step 2. Установим значения для гиперпараметров:\n",
    "    if cls_name == 'LogReg':\n",
    "        # установим параметры, которые будет оптимизировать\n",
    "        # коэф. C = 1/λ\n",
    "        C = trial.suggest_float('C', 1e-10, 1, log=True)\n",
    "        # инициализируем логистическую регрессию\n",
    "        cls = LogisticRegression(C = C)\n",
    "    else:\n",
    "        # установим параметры, которые будет оптимизировать\n",
    "        n_estimators = trial.suggest_int('n_estimators', 10, 1000)\n",
    "        max_depth = trial.suggest_int('max_depth', 2, 32, log=True)\n",
    "        # инициализируем решающие деревья\n",
    "        cls = RandomForestClassifier(max_depth = max_depth,\n",
    "                                     n_estimators = n_estimators)\n",
    "\n",
    "    # Step 3. Прерываем обучение, если оно не эффективно\n",
    "    for step in range(100):\n",
    "        cls.fit(x_train, y_train)\n",
    "\n",
    "        # classifier_obj.score: возвращает метрику r^2\n",
    "        intermediate_value = cls.score(x_valid, y_valid)\n",
    "        # укажем значение целевой функция на данном шаге\n",
    "        trial.report(intermediate_value, step)\n",
    "\n",
    "        # Принимаем решение, стоит ли прерывать дальнейшие вычисления\n",
    "        if trial.should_prune():\n",
    "            # raise: вызывает ошибку, которая не входит в стандартный язык python https://stackoverflow.com/questions/13957829/how-to-use-raise-keyword-in-python\n",
    "            # optuna.TrialPruned(): сообщает текущему trial, что вычисления были прерваны https://optuna.readthedocs.io/en/stable/reference/generated/optuna.TrialPruned.html\n",
    "            raise optuna.TrialPruned()\n",
    "\n",
    "        return intermediate_value\n",
    "\n",
    "# Step 4. Запустим оптимизацию\n",
    "study = optuna.create_study(direction = 'maximize') # использовать другие pruning: pruner = optuna.pruners.HyperbandPruner(max_resource = 'auto')\n",
    "study.optimize(objective, n_trials = 100)"
   ]
  },
  {
   "cell_type": "code",
   "execution_count": null,
   "metadata": {
    "colab": {
     "base_uri": "https://localhost:8080/"
    },
    "id": "1q1UOK9AU9om",
    "outputId": "27226733-4edb-4045-a244-c925db26d311"
   },
   "outputs": [
    {
     "name": "stdout",
     "output_type": "stream",
     "text": [
      "  Number of finished trials:  100\n",
      "  Number of pruned trials:  32\n",
      "  Number of complete trials:  68\n"
     ]
    }
   ],
   "source": [
    "# Посчитаем кол-во прерванных и кол-во завершенных trials\n",
    "pruned_trials = [t for t in study.trials if t.state == optuna.trial.TrialState.PRUNED]\n",
    "complete_trials = [t for t in study.trials if t.state == optuna.trial.TrialState.COMPLETE]\n",
    "\n",
    "print('  Number of finished trials: ', len(study.trials))\n",
    "print('  Number of pruned trials: ', len(pruned_trials))\n",
    "print('  Number of complete trials: ', len(complete_trials))"
   ]
  },
  {
   "cell_type": "markdown",
   "metadata": {
    "id": "9f2_uzzzckI6"
   },
   "source": [
    "Посмотрим параметры с которыми получили лучшие результаты"
   ]
  },
  {
   "cell_type": "code",
   "execution_count": null,
   "metadata": {
    "colab": {
     "base_uri": "https://localhost:8080/"
    },
    "id": "Kw6Wx5eDcgOd",
    "outputId": "06b5418e-ca30-49b2-cbe9-af6ba5b6f3ba"
   },
   "outputs": [
    {
     "data": {
      "text/plain": [
       "{'C': 0.1511216155188127, 'classifier': 'LogReg'}"
      ]
     },
     "execution_count": 28,
     "metadata": {
      "tags": []
     },
     "output_type": "execute_result"
    }
   ],
   "source": [
    "study.best_params"
   ]
  },
  {
   "cell_type": "markdown",
   "metadata": {
    "id": "z4aChUU5M6nX"
   },
   "source": [
    "На практике, небольшая доля параметров вносит значительный вклад в улучшение модели, остальные же параметры не важные.\n",
    "\n",
    "С добавлением нового параметра для оптимизации, вычислительная сложность возрастает экспоненциально. Поэтому очень важно знать, какие параметры не вносят вклад в увеличение качества модели и не использовать их при оптимизации.\n",
    "\n",
    "Можно получить список важности параметров, визуализировать их и проводить оптимизацию по самым важным, чтобы сократить вычисления."
   ]
  },
  {
   "cell_type": "code",
   "execution_count": null,
   "metadata": {
    "colab": {
     "base_uri": "https://localhost:8080/",
     "height": 542
    },
    "id": "Lf9LI5bQH8fl",
    "outputId": "b65555a6-4d30-4d20-ece8-314059b478c8"
   },
   "outputs": [
    {
     "data": {
      "text/html": [
       "<html>\n",
       "<head><meta charset=\"utf-8\" /></head>\n",
       "<body>\n",
       "    <div>\n",
       "            <script src=\"https://cdnjs.cloudflare.com/ajax/libs/mathjax/2.7.5/MathJax.js?config=TeX-AMS-MML_SVG\"></script><script type=\"text/javascript\">if (window.MathJax) {MathJax.Hub.Config({SVG: {font: \"STIX-Web\"}});}</script>\n",
       "                <script type=\"text/javascript\">window.PlotlyConfig = {MathJaxConfig: 'local'};</script>\n",
       "        <script src=\"https://cdn.plot.ly/plotly-latest.min.js\"></script>    \n",
       "            <div id=\"6db80b08-7afa-4497-b259-673eb6576701\" class=\"plotly-graph-div\" style=\"height:525px; width:100%;\"></div>\n",
       "            <script type=\"text/javascript\">\n",
       "                \n",
       "                    window.PLOTLYENV=window.PLOTLYENV || {};\n",
       "                    \n",
       "                if (document.getElementById(\"6db80b08-7afa-4497-b259-673eb6576701\")) {\n",
       "                    Plotly.newPlot(\n",
       "                        '6db80b08-7afa-4497-b259-673eb6576701',\n",
       "                        [{\"cliponaxis\": false, \"hovertemplate\": [\"classifier (CategoricalDistribution): 1.0<extra></extra>\"], \"marker\": {\"color\": [\"rgb(66,146,198)\"]}, \"orientation\": \"h\", \"text\": [\"1.0\"], \"textposition\": \"outside\", \"texttemplate\": \"%{text:.2f}\", \"type\": \"bar\", \"x\": [1.0], \"y\": [\"classifier\"]}],\n",
       "                        {\"showlegend\": false, \"template\": {\"data\": {\"bar\": [{\"error_x\": {\"color\": \"#2a3f5f\"}, \"error_y\": {\"color\": \"#2a3f5f\"}, \"marker\": {\"line\": {\"color\": \"#E5ECF6\", \"width\": 0.5}}, \"type\": \"bar\"}], \"barpolar\": [{\"marker\": {\"line\": {\"color\": \"#E5ECF6\", \"width\": 0.5}}, \"type\": \"barpolar\"}], \"carpet\": [{\"aaxis\": {\"endlinecolor\": \"#2a3f5f\", \"gridcolor\": \"white\", \"linecolor\": \"white\", \"minorgridcolor\": \"white\", \"startlinecolor\": \"#2a3f5f\"}, \"baxis\": {\"endlinecolor\": \"#2a3f5f\", \"gridcolor\": \"white\", \"linecolor\": \"white\", \"minorgridcolor\": \"white\", \"startlinecolor\": \"#2a3f5f\"}, \"type\": \"carpet\"}], \"choropleth\": [{\"colorbar\": {\"outlinewidth\": 0, \"ticks\": \"\"}, \"type\": \"choropleth\"}], \"contour\": [{\"colorbar\": {\"outlinewidth\": 0, \"ticks\": \"\"}, \"colorscale\": [[0.0, \"#0d0887\"], [0.1111111111111111, \"#46039f\"], [0.2222222222222222, \"#7201a8\"], [0.3333333333333333, \"#9c179e\"], [0.4444444444444444, \"#bd3786\"], [0.5555555555555556, \"#d8576b\"], [0.6666666666666666, \"#ed7953\"], [0.7777777777777778, \"#fb9f3a\"], [0.8888888888888888, \"#fdca26\"], [1.0, \"#f0f921\"]], \"type\": \"contour\"}], \"contourcarpet\": [{\"colorbar\": {\"outlinewidth\": 0, \"ticks\": \"\"}, \"type\": \"contourcarpet\"}], \"heatmap\": [{\"colorbar\": {\"outlinewidth\": 0, \"ticks\": \"\"}, \"colorscale\": [[0.0, \"#0d0887\"], [0.1111111111111111, \"#46039f\"], [0.2222222222222222, \"#7201a8\"], [0.3333333333333333, \"#9c179e\"], [0.4444444444444444, \"#bd3786\"], [0.5555555555555556, \"#d8576b\"], [0.6666666666666666, \"#ed7953\"], [0.7777777777777778, \"#fb9f3a\"], [0.8888888888888888, \"#fdca26\"], [1.0, \"#f0f921\"]], \"type\": \"heatmap\"}], \"heatmapgl\": [{\"colorbar\": {\"outlinewidth\": 0, \"ticks\": \"\"}, \"colorscale\": [[0.0, \"#0d0887\"], [0.1111111111111111, \"#46039f\"], [0.2222222222222222, \"#7201a8\"], [0.3333333333333333, \"#9c179e\"], [0.4444444444444444, \"#bd3786\"], [0.5555555555555556, \"#d8576b\"], [0.6666666666666666, \"#ed7953\"], [0.7777777777777778, \"#fb9f3a\"], [0.8888888888888888, \"#fdca26\"], [1.0, \"#f0f921\"]], \"type\": \"heatmapgl\"}], \"histogram\": [{\"marker\": {\"colorbar\": {\"outlinewidth\": 0, \"ticks\": \"\"}}, \"type\": \"histogram\"}], \"histogram2d\": [{\"colorbar\": {\"outlinewidth\": 0, \"ticks\": \"\"}, \"colorscale\": [[0.0, \"#0d0887\"], [0.1111111111111111, \"#46039f\"], [0.2222222222222222, \"#7201a8\"], [0.3333333333333333, \"#9c179e\"], [0.4444444444444444, \"#bd3786\"], [0.5555555555555556, \"#d8576b\"], [0.6666666666666666, \"#ed7953\"], [0.7777777777777778, \"#fb9f3a\"], [0.8888888888888888, \"#fdca26\"], [1.0, \"#f0f921\"]], \"type\": \"histogram2d\"}], \"histogram2dcontour\": [{\"colorbar\": {\"outlinewidth\": 0, \"ticks\": \"\"}, \"colorscale\": [[0.0, \"#0d0887\"], [0.1111111111111111, \"#46039f\"], [0.2222222222222222, \"#7201a8\"], [0.3333333333333333, \"#9c179e\"], [0.4444444444444444, \"#bd3786\"], [0.5555555555555556, \"#d8576b\"], [0.6666666666666666, \"#ed7953\"], [0.7777777777777778, \"#fb9f3a\"], [0.8888888888888888, \"#fdca26\"], [1.0, \"#f0f921\"]], \"type\": \"histogram2dcontour\"}], \"mesh3d\": [{\"colorbar\": {\"outlinewidth\": 0, \"ticks\": \"\"}, \"type\": \"mesh3d\"}], \"parcoords\": [{\"line\": {\"colorbar\": {\"outlinewidth\": 0, \"ticks\": \"\"}}, \"type\": \"parcoords\"}], \"pie\": [{\"automargin\": true, \"type\": \"pie\"}], \"scatter\": [{\"marker\": {\"colorbar\": {\"outlinewidth\": 0, \"ticks\": \"\"}}, \"type\": \"scatter\"}], \"scatter3d\": [{\"line\": {\"colorbar\": {\"outlinewidth\": 0, \"ticks\": \"\"}}, \"marker\": {\"colorbar\": {\"outlinewidth\": 0, \"ticks\": \"\"}}, \"type\": \"scatter3d\"}], \"scattercarpet\": [{\"marker\": {\"colorbar\": {\"outlinewidth\": 0, \"ticks\": \"\"}}, \"type\": \"scattercarpet\"}], \"scattergeo\": [{\"marker\": {\"colorbar\": {\"outlinewidth\": 0, \"ticks\": \"\"}}, \"type\": \"scattergeo\"}], \"scattergl\": [{\"marker\": {\"colorbar\": {\"outlinewidth\": 0, \"ticks\": \"\"}}, \"type\": \"scattergl\"}], \"scattermapbox\": [{\"marker\": {\"colorbar\": {\"outlinewidth\": 0, \"ticks\": \"\"}}, \"type\": \"scattermapbox\"}], \"scatterpolar\": [{\"marker\": {\"colorbar\": {\"outlinewidth\": 0, \"ticks\": \"\"}}, \"type\": \"scatterpolar\"}], \"scatterpolargl\": [{\"marker\": {\"colorbar\": {\"outlinewidth\": 0, \"ticks\": \"\"}}, \"type\": \"scatterpolargl\"}], \"scatterternary\": [{\"marker\": {\"colorbar\": {\"outlinewidth\": 0, \"ticks\": \"\"}}, \"type\": \"scatterternary\"}], \"surface\": [{\"colorbar\": {\"outlinewidth\": 0, \"ticks\": \"\"}, \"colorscale\": [[0.0, \"#0d0887\"], [0.1111111111111111, \"#46039f\"], [0.2222222222222222, \"#7201a8\"], [0.3333333333333333, \"#9c179e\"], [0.4444444444444444, \"#bd3786\"], [0.5555555555555556, \"#d8576b\"], [0.6666666666666666, \"#ed7953\"], [0.7777777777777778, \"#fb9f3a\"], [0.8888888888888888, \"#fdca26\"], [1.0, \"#f0f921\"]], \"type\": \"surface\"}], \"table\": [{\"cells\": {\"fill\": {\"color\": \"#EBF0F8\"}, \"line\": {\"color\": \"white\"}}, \"header\": {\"fill\": {\"color\": \"#C8D4E3\"}, \"line\": {\"color\": \"white\"}}, \"type\": \"table\"}]}, \"layout\": {\"annotationdefaults\": {\"arrowcolor\": \"#2a3f5f\", \"arrowhead\": 0, \"arrowwidth\": 1}, \"coloraxis\": {\"colorbar\": {\"outlinewidth\": 0, \"ticks\": \"\"}}, \"colorscale\": {\"diverging\": [[0, \"#8e0152\"], [0.1, \"#c51b7d\"], [0.2, \"#de77ae\"], [0.3, \"#f1b6da\"], [0.4, \"#fde0ef\"], [0.5, \"#f7f7f7\"], [0.6, \"#e6f5d0\"], [0.7, \"#b8e186\"], [0.8, \"#7fbc41\"], [0.9, \"#4d9221\"], [1, \"#276419\"]], \"sequential\": [[0.0, \"#0d0887\"], [0.1111111111111111, \"#46039f\"], [0.2222222222222222, \"#7201a8\"], [0.3333333333333333, \"#9c179e\"], [0.4444444444444444, \"#bd3786\"], [0.5555555555555556, \"#d8576b\"], [0.6666666666666666, \"#ed7953\"], [0.7777777777777778, \"#fb9f3a\"], [0.8888888888888888, \"#fdca26\"], [1.0, \"#f0f921\"]], \"sequentialminus\": [[0.0, \"#0d0887\"], [0.1111111111111111, \"#46039f\"], [0.2222222222222222, \"#7201a8\"], [0.3333333333333333, \"#9c179e\"], [0.4444444444444444, \"#bd3786\"], [0.5555555555555556, \"#d8576b\"], [0.6666666666666666, \"#ed7953\"], [0.7777777777777778, \"#fb9f3a\"], [0.8888888888888888, \"#fdca26\"], [1.0, \"#f0f921\"]]}, \"colorway\": [\"#636efa\", \"#EF553B\", \"#00cc96\", \"#ab63fa\", \"#FFA15A\", \"#19d3f3\", \"#FF6692\", \"#B6E880\", \"#FF97FF\", \"#FECB52\"], \"font\": {\"color\": \"#2a3f5f\"}, \"geo\": {\"bgcolor\": \"white\", \"lakecolor\": \"white\", \"landcolor\": \"#E5ECF6\", \"showlakes\": true, \"showland\": true, \"subunitcolor\": \"white\"}, \"hoverlabel\": {\"align\": \"left\"}, \"hovermode\": \"closest\", \"mapbox\": {\"style\": \"light\"}, \"paper_bgcolor\": \"white\", \"plot_bgcolor\": \"#E5ECF6\", \"polar\": {\"angularaxis\": {\"gridcolor\": \"white\", \"linecolor\": \"white\", \"ticks\": \"\"}, \"bgcolor\": \"#E5ECF6\", \"radialaxis\": {\"gridcolor\": \"white\", \"linecolor\": \"white\", \"ticks\": \"\"}}, \"scene\": {\"xaxis\": {\"backgroundcolor\": \"#E5ECF6\", \"gridcolor\": \"white\", \"gridwidth\": 2, \"linecolor\": \"white\", \"showbackground\": true, \"ticks\": \"\", \"zerolinecolor\": \"white\"}, \"yaxis\": {\"backgroundcolor\": \"#E5ECF6\", \"gridcolor\": \"white\", \"gridwidth\": 2, \"linecolor\": \"white\", \"showbackground\": true, \"ticks\": \"\", \"zerolinecolor\": \"white\"}, \"zaxis\": {\"backgroundcolor\": \"#E5ECF6\", \"gridcolor\": \"white\", \"gridwidth\": 2, \"linecolor\": \"white\", \"showbackground\": true, \"ticks\": \"\", \"zerolinecolor\": \"white\"}}, \"shapedefaults\": {\"line\": {\"color\": \"#2a3f5f\"}}, \"ternary\": {\"aaxis\": {\"gridcolor\": \"white\", \"linecolor\": \"white\", \"ticks\": \"\"}, \"baxis\": {\"gridcolor\": \"white\", \"linecolor\": \"white\", \"ticks\": \"\"}, \"bgcolor\": \"#E5ECF6\", \"caxis\": {\"gridcolor\": \"white\", \"linecolor\": \"white\", \"ticks\": \"\"}}, \"title\": {\"x\": 0.05}, \"xaxis\": {\"automargin\": true, \"gridcolor\": \"white\", \"linecolor\": \"white\", \"ticks\": \"\", \"title\": {\"standoff\": 15}, \"zerolinecolor\": \"white\", \"zerolinewidth\": 2}, \"yaxis\": {\"automargin\": true, \"gridcolor\": \"white\", \"linecolor\": \"white\", \"ticks\": \"\", \"title\": {\"standoff\": 15}, \"zerolinecolor\": \"white\", \"zerolinewidth\": 2}}}, \"title\": {\"text\": \"Hyperparameter Importances\"}, \"xaxis\": {\"title\": {\"text\": \"Importance\"}}, \"yaxis\": {\"title\": {\"text\": \"Hyperparameter\"}}},\n",
       "                        {\"responsive\": true}\n",
       "                    ).then(function(){\n",
       "                            \n",
       "var gd = document.getElementById('6db80b08-7afa-4497-b259-673eb6576701');\n",
       "var x = new MutationObserver(function (mutations, observer) {{\n",
       "        var display = window.getComputedStyle(gd).display;\n",
       "        if (!display || display === 'none') {{\n",
       "            console.log([gd, 'removed!']);\n",
       "            Plotly.purge(gd);\n",
       "            observer.disconnect();\n",
       "        }}\n",
       "}});\n",
       "\n",
       "// Listen for the removal of the full notebook cells\n",
       "var notebookContainer = gd.closest('#notebook-container');\n",
       "if (notebookContainer) {{\n",
       "    x.observe(notebookContainer, {childList: true});\n",
       "}}\n",
       "\n",
       "// Listen for the clearing of the current output cell\n",
       "var outputEl = gd.closest('.output');\n",
       "if (outputEl) {{\n",
       "    x.observe(outputEl, {childList: true});\n",
       "}}\n",
       "\n",
       "                        })\n",
       "                };\n",
       "                \n",
       "            </script>\n",
       "        </div>\n",
       "</body>\n",
       "</html>"
      ]
     },
     "metadata": {
      "tags": []
     },
     "output_type": "display_data"
    }
   ],
   "source": [
    "# получим список важности переменных\n",
    "importances = optuna.importance.get_param_importances(study)\n",
    "# визуализируем данные\n",
    "fig = optuna.visualization.plot_param_importances(study)\n",
    "fig.show()"
   ]
  },
  {
   "cell_type": "markdown",
   "metadata": {
    "id": "ziIdM0Mbxhvs"
   },
   "source": [
    "Как выглядит визуализация, когда параметров много. Все параметры в сумме дают единицу."
   ]
  },
  {
   "cell_type": "markdown",
   "metadata": {
    "id": "lG9Oh2FwwkrT"
   },
   "source": [
    "![](https://s8.hostingkartinok.com/uploads/images/2020/11/a5a6f7d549ff943e57cc7db15a91ec01.png)"
   ]
  },
  {
   "cell_type": "markdown",
   "metadata": {
    "id": "mPFxSrPYYsy1"
   },
   "source": [
    "### Интеграции"
   ]
  },
  {
   "cell_type": "markdown",
   "metadata": {
    "id": "AZripCjTYu0E"
   },
   "source": [
    "Optuna гибкая система, с её помощью можно оптимизировать любую функцию, любой алгоритм. Несмотря на это, данная библиотека плотно сотрудничает с другими библиотеками для машинного и глубокого обучения.\n",
    "\n",
    "Есть множество [интеграций](https://optuna.readthedocs.io/en/stable/reference/integration.html#), которые упрощают оптимизацию различных моделей. Простота заключается в том, что необходимо написать всего одну строчку кода, чтобы использовать оптимизатор из Optuna.\n",
    "\n",
    "Давайте рассмотрим на [примере библиотеки LightGBM](https://medium.com/optuna/lightgbm-tuner-new-optuna-integration-for-hyperparameter-optimization-8b7095e99258)."
   ]
  },
  {
   "cell_type": "code",
   "execution_count": null,
   "metadata": {
    "colab": {
     "base_uri": "https://localhost:8080/"
    },
    "id": "vlZYEVayaDqk",
    "outputId": "5cdb8cc6-662b-47f4-f9d6-52416b03f376"
   },
   "outputs": [
    {
     "name": "stderr",
     "output_type": "stream",
     "text": [
      "\u001b[32m[I 2020-12-01 18:20:34,341]\u001b[0m A new study created in memory with name: no-name-60936a11-f9df-439d-8e8d-82c1a60d62b7\u001b[0m\n",
      "feature_fraction, val_score: 0.144760:  14%|#4        | 1/7 [00:00<00:00,  6.00it/s]\u001b[32m[I 2020-12-01 18:20:34,518]\u001b[0m Trial 0 finished with value: 0.14476021063441186 and parameters: {'feature_fraction': 0.8999999999999999}. Best is trial 0 with value: 0.14476021063441186.\u001b[0m\n",
      "feature_fraction, val_score: 0.133620:  29%|##8       | 2/7 [00:00<00:00,  6.58it/s]\u001b[32m[I 2020-12-01 18:20:34,636]\u001b[0m Trial 1 finished with value: 0.13361984992560993 and parameters: {'feature_fraction': 0.5}. Best is trial 1 with value: 0.13361984992560993.\u001b[0m\n",
      "feature_fraction, val_score: 0.133620:  43%|####2     | 3/7 [00:00<00:00,  6.76it/s]\u001b[32m[I 2020-12-01 18:20:34,774]\u001b[0m Trial 2 finished with value: 0.14028065562900374 and parameters: {'feature_fraction': 0.7}. Best is trial 1 with value: 0.13361984992560993.\u001b[0m\n",
      "feature_fraction, val_score: 0.132544:  57%|#####7    | 4/7 [00:00<00:00,  7.02it/s]\u001b[32m[I 2020-12-01 18:20:34,903]\u001b[0m Trial 3 finished with value: 0.13254354456251824 and parameters: {'feature_fraction': 0.6}. Best is trial 3 with value: 0.13254354456251824.\u001b[0m\n",
      "feature_fraction, val_score: 0.132544:  71%|#######1  | 5/7 [00:00<00:00,  6.82it/s]\u001b[32m[I 2020-12-01 18:20:35,060]\u001b[0m Trial 4 finished with value: 0.14070475916954284 and parameters: {'feature_fraction': 0.8}. Best is trial 3 with value: 0.13254354456251824.\u001b[0m\n",
      "feature_fraction, val_score: 0.127807:  86%|########5 | 6/7 [00:00<00:00,  7.34it/s]\u001b[32m[I 2020-12-01 18:20:35,172]\u001b[0m Trial 5 finished with value: 0.1278066879523319 and parameters: {'feature_fraction': 0.4}. Best is trial 5 with value: 0.1278066879523319.\u001b[0m\n",
      "feature_fraction, val_score: 0.127807: 100%|##########| 7/7 [00:00<00:00,  6.89it/s]\u001b[32m[I 2020-12-01 18:20:35,338]\u001b[0m Trial 6 finished with value: 0.15224491051465278 and parameters: {'feature_fraction': 1.0}. Best is trial 5 with value: 0.1278066879523319.\u001b[0m\n",
      "feature_fraction, val_score: 0.127807: 100%|##########| 7/7 [00:00<00:00,  7.04it/s]\n",
      "num_leaves, val_score: 0.127807:   5%|5         | 1/20 [00:00<00:02,  8.82it/s]\u001b[32m[I 2020-12-01 18:20:35,466]\u001b[0m Trial 7 finished with value: 0.1278066879523319 and parameters: {'num_leaves': 127}. Best is trial 7 with value: 0.1278066879523319.\u001b[0m\n",
      "num_leaves, val_score: 0.127807:  10%|#         | 2/20 [00:00<00:01,  9.01it/s]\u001b[32m[I 2020-12-01 18:20:35,571]\u001b[0m Trial 8 finished with value: 0.13273323890863478 and parameters: {'num_leaves': 9}. Best is trial 7 with value: 0.1278066879523319.\u001b[0m\n",
      "num_leaves, val_score: 0.127807:  15%|#5        | 3/20 [00:00<00:01,  8.66it/s]\u001b[32m[I 2020-12-01 18:20:35,698]\u001b[0m Trial 9 finished with value: 0.1278066879523319 and parameters: {'num_leaves': 106}. Best is trial 7 with value: 0.1278066879523319.\u001b[0m\n",
      "num_leaves, val_score: 0.127807:  20%|##        | 4/20 [00:00<00:01,  8.32it/s]\u001b[32m[I 2020-12-01 18:20:35,828]\u001b[0m Trial 10 finished with value: 0.1278066879523319 and parameters: {'num_leaves': 238}. Best is trial 7 with value: 0.1278066879523319.\u001b[0m\n",
      "num_leaves, val_score: 0.127807:  25%|##5       | 5/20 [00:00<00:01,  8.39it/s]\u001b[32m[I 2020-12-01 18:20:35,945]\u001b[0m Trial 11 finished with value: 0.1278066879523319 and parameters: {'num_leaves': 154}. Best is trial 7 with value: 0.1278066879523319.\u001b[0m\n",
      "num_leaves, val_score: 0.127807:  30%|###       | 6/20 [00:00<00:01,  8.22it/s]\u001b[32m[I 2020-12-01 18:20:36,072]\u001b[0m Trial 12 finished with value: 0.1278066879523319 and parameters: {'num_leaves': 106}. Best is trial 7 with value: 0.1278066879523319.\u001b[0m\n",
      "num_leaves, val_score: 0.127807:  35%|###5      | 7/20 [00:00<00:01,  8.21it/s]\u001b[32m[I 2020-12-01 18:20:36,194]\u001b[0m Trial 13 finished with value: 0.1278066879523319 and parameters: {'num_leaves': 182}. Best is trial 7 with value: 0.1278066879523319.\u001b[0m\n",
      "num_leaves, val_score: 0.127807:  40%|####      | 8/20 [00:00<00:01,  8.38it/s]\u001b[32m[I 2020-12-01 18:20:36,308]\u001b[0m Trial 14 finished with value: 0.1278066879523319 and parameters: {'num_leaves': 27}. Best is trial 7 with value: 0.1278066879523319.\u001b[0m\n",
      "num_leaves, val_score: 0.127807:  45%|####5     | 9/20 [00:01<00:01,  8.35it/s]\u001b[32m[I 2020-12-01 18:20:36,429]\u001b[0m Trial 15 finished with value: 0.1278066879523319 and parameters: {'num_leaves': 72}. Best is trial 7 with value: 0.1278066879523319.\u001b[0m\n",
      "num_leaves, val_score: 0.127807:  50%|#####     | 10/20 [00:01<00:01,  8.33it/s]\u001b[32m[I 2020-12-01 18:20:36,550]\u001b[0m Trial 16 finished with value: 0.1278066879523319 and parameters: {'num_leaves': 203}. Best is trial 7 with value: 0.1278066879523319.\u001b[0m\n",
      "num_leaves, val_score: 0.127807:  55%|#####5    | 11/20 [00:01<00:01,  8.26it/s]\u001b[32m[I 2020-12-01 18:20:36,673]\u001b[0m Trial 17 finished with value: 0.1278066879523319 and parameters: {'num_leaves': 236}. Best is trial 7 with value: 0.1278066879523319.\u001b[0m\n",
      "num_leaves, val_score: 0.127807:  60%|######    | 12/20 [00:01<00:00,  8.41it/s]\u001b[32m[I 2020-12-01 18:20:36,787]\u001b[0m Trial 18 finished with value: 0.1278066879523319 and parameters: {'num_leaves': 62}. Best is trial 7 with value: 0.1278066879523319.\u001b[0m\n",
      "num_leaves, val_score: 0.127807:  65%|######5   | 13/20 [00:01<00:00,  8.42it/s]\u001b[32m[I 2020-12-01 18:20:36,905]\u001b[0m Trial 19 finished with value: 0.1278066879523319 and parameters: {'num_leaves': 196}. Best is trial 7 with value: 0.1278066879523319.\u001b[0m\n",
      "num_leaves, val_score: 0.127807:  70%|#######   | 14/20 [00:01<00:00,  7.97it/s]\u001b[32m[I 2020-12-01 18:20:37,046]\u001b[0m Trial 20 finished with value: 0.1278066879523319 and parameters: {'num_leaves': 256}. Best is trial 7 with value: 0.1278066879523319.\u001b[0m\n",
      "num_leaves, val_score: 0.127807:  75%|#######5  | 15/20 [00:01<00:00,  8.04it/s]\u001b[32m[I 2020-12-01 18:20:37,168]\u001b[0m Trial 21 finished with value: 0.1278066879523319 and parameters: {'num_leaves': 246}. Best is trial 7 with value: 0.1278066879523319.\u001b[0m\n",
      "num_leaves, val_score: 0.127807:  80%|########  | 16/20 [00:01<00:00,  8.06it/s]\u001b[32m[I 2020-12-01 18:20:37,291]\u001b[0m Trial 22 finished with value: 0.1278066879523319 and parameters: {'num_leaves': 213}. Best is trial 7 with value: 0.1278066879523319.\u001b[0m\n",
      "num_leaves, val_score: 0.127807:  85%|########5 | 17/20 [00:02<00:00,  8.24it/s]\u001b[32m[I 2020-12-01 18:20:37,406]\u001b[0m Trial 23 finished with value: 0.1278066879523319 and parameters: {'num_leaves': 166}. Best is trial 7 with value: 0.1278066879523319.\u001b[0m\n",
      "num_leaves, val_score: 0.127807:  90%|######### | 18/20 [00:02<00:00,  8.30it/s]\u001b[32m[I 2020-12-01 18:20:37,525]\u001b[0m Trial 24 finished with value: 0.1278066879523319 and parameters: {'num_leaves': 250}. Best is trial 7 with value: 0.1278066879523319.\u001b[0m\n",
      "num_leaves, val_score: 0.127807:  95%|#########5| 19/20 [00:02<00:00,  8.31it/s]\u001b[32m[I 2020-12-01 18:20:37,645]\u001b[0m Trial 25 finished with value: 0.1278066879523319 and parameters: {'num_leaves': 220}. Best is trial 7 with value: 0.1278066879523319.\u001b[0m\n",
      "num_leaves, val_score: 0.127807: 100%|##########| 20/20 [00:02<00:00,  8.33it/s]\u001b[32m[I 2020-12-01 18:20:37,765]\u001b[0m Trial 26 finished with value: 0.1278066879523319 and parameters: {'num_leaves': 163}. Best is trial 7 with value: 0.1278066879523319.\u001b[0m\n",
      "num_leaves, val_score: 0.127807: 100%|##########| 20/20 [00:02<00:00,  8.27it/s]\n",
      "bagging, val_score: 0.124662:   0%|          | 0/10 [00:00<?, ?it/s]\u001b[32m[I 2020-12-01 18:20:37,863]\u001b[0m Trial 27 finished with value: 0.12466212831341146 and parameters: {'bagging_fraction': 0.6265988129969505, 'bagging_freq': 4}. Best is trial 27 with value: 0.12466212831341146.\u001b[0m\n",
      "bagging, val_score: 0.119668:  20%|##        | 2/10 [00:00<00:00, 11.69it/s]\u001b[32m[I 2020-12-01 18:20:37,951]\u001b[0m Trial 28 finished with value: 0.11966789865893941 and parameters: {'bagging_fraction': 0.6069644374821755, 'bagging_freq': 4}. Best is trial 28 with value: 0.11966789865893941.\u001b[0m\n",
      "bagging, val_score: 0.119668:  30%|###       | 3/10 [00:00<00:00, 11.11it/s]\u001b[32m[I 2020-12-01 18:20:38,053]\u001b[0m Trial 29 finished with value: 0.1274332266441426 and parameters: {'bagging_fraction': 0.6082750336936741, 'bagging_freq': 4}. Best is trial 28 with value: 0.11966789865893941.\u001b[0m\n",
      "bagging, val_score: 0.119668:  30%|###       | 3/10 [00:00<00:00, 11.11it/s]\u001b[32m[I 2020-12-01 18:20:38,141]\u001b[0m Trial 30 finished with value: 0.1274332266441426 and parameters: {'bagging_fraction': 0.6081077695612807, 'bagging_freq': 4}. Best is trial 28 with value: 0.11966789865893941.\u001b[0m\n",
      "bagging, val_score: 0.119668:  50%|#####     | 5/10 [00:00<00:00, 11.04it/s]\u001b[32m[I 2020-12-01 18:20:38,235]\u001b[0m Trial 31 finished with value: 0.1278615682119412 and parameters: {'bagging_fraction': 0.6108689375628136, 'bagging_freq': 4}. Best is trial 28 with value: 0.11966789865893941.\u001b[0m\n",
      "bagging, val_score: 0.119668:  50%|#####     | 5/10 [00:00<00:00, 11.04it/s]\u001b[32m[I 2020-12-01 18:20:38,325]\u001b[0m Trial 32 finished with value: 0.11966789865893941 and parameters: {'bagging_fraction': 0.6059107088218213, 'bagging_freq': 4}. Best is trial 28 with value: 0.11966789865893941.\u001b[0m\n",
      "bagging, val_score: 0.119668:  70%|#######   | 7/10 [00:00<00:00, 10.93it/s]\u001b[32m[I 2020-12-01 18:20:38,424]\u001b[0m Trial 33 finished with value: 0.1274332266441426 and parameters: {'bagging_fraction': 0.6090172039257722, 'bagging_freq': 4}. Best is trial 28 with value: 0.11966789865893941.\u001b[0m\n",
      "bagging, val_score: 0.119668:  70%|#######   | 7/10 [00:00<00:00, 10.93it/s]\u001b[32m[I 2020-12-01 18:20:38,508]\u001b[0m Trial 34 finished with value: 0.12471675501852977 and parameters: {'bagging_fraction': 0.6197186858150712, 'bagging_freq': 4}. Best is trial 28 with value: 0.11966789865893941.\u001b[0m\n",
      "bagging, val_score: 0.119668:  90%|######### | 9/10 [00:00<00:00, 10.82it/s]\u001b[32m[I 2020-12-01 18:20:38,612]\u001b[0m Trial 35 finished with value: 0.13179981091020482 and parameters: {'bagging_fraction': 0.7790151763110527, 'bagging_freq': 3}. Best is trial 28 with value: 0.11966789865893941.\u001b[0m\n",
      "bagging, val_score: 0.119668: 100%|##########| 10/10 [00:00<00:00, 10.55it/s]\u001b[32m[I 2020-12-01 18:20:38,712]\u001b[0m Trial 36 finished with value: 0.13729630859789282 and parameters: {'bagging_fraction': 0.4081733225474329, 'bagging_freq': 7}. Best is trial 28 with value: 0.11966789865893941.\u001b[0m\n",
      "bagging, val_score: 0.119668: 100%|##########| 10/10 [00:00<00:00, 10.61it/s]\n",
      "feature_fraction_stage2, val_score: 0.119668:   0%|          | 0/3 [00:00<?, ?it/s]\u001b[32m[I 2020-12-01 18:20:38,810]\u001b[0m Trial 37 finished with value: 0.11966789865893941 and parameters: {'feature_fraction': 0.41600000000000004}. Best is trial 37 with value: 0.11966789865893941.\u001b[0m\n",
      "feature_fraction_stage2, val_score: 0.119668:  67%|######6   | 2/3 [00:00<00:00, 11.45it/s]\u001b[32m[I 2020-12-01 18:20:38,903]\u001b[0m Trial 38 finished with value: 0.1308608538888842 and parameters: {'feature_fraction': 0.48000000000000004}. Best is trial 37 with value: 0.11966789865893941.\u001b[0m\n",
      "feature_fraction_stage2, val_score: 0.119668:  67%|######6   | 2/3 [00:00<00:00, 11.45it/s]\u001b[32m[I 2020-12-01 18:20:38,992]\u001b[0m Trial 39 finished with value: 0.1352006233735516 and parameters: {'feature_fraction': 0.44800000000000006}. Best is trial 37 with value: 0.11966789865893941.\u001b[0m\n",
      "feature_fraction_stage2, val_score: 0.119668: 100%|##########| 3/3 [00:00<00:00, 11.03it/s]\n",
      "regularization_factors, val_score: 0.119668:   0%|          | 0/20 [00:00<?, ?it/s]\u001b[32m[I 2020-12-01 18:20:39,097]\u001b[0m Trial 40 finished with value: 0.12144545732008066 and parameters: {'lambda_l1': 1.1504724751537461e-05, 'lambda_l2': 0.0008071846593225916}. Best is trial 40 with value: 0.12144545732008066.\u001b[0m\n",
      "regularization_factors, val_score: 0.119668:  10%|#         | 2/20 [00:00<00:01, 11.34it/s]\u001b[32m[I 2020-12-01 18:20:39,181]\u001b[0m Trial 41 finished with value: 0.1217762572772059 and parameters: {'lambda_l1': 1.9740581764815202e-06, 'lambda_l2': 0.0004895282183421413}. Best is trial 40 with value: 0.12144545732008066.\u001b[0m\n",
      "regularization_factors, val_score: 0.119668:  10%|#         | 2/20 [00:00<00:01, 11.34it/s]\u001b[32m[I 2020-12-01 18:20:39,265]\u001b[0m Trial 42 finished with value: 0.12070166117950944 and parameters: {'lambda_l1': 4.30521841513615e-06, 'lambda_l2': 0.0005965353512205132}. Best is trial 42 with value: 0.12070166117950944.\u001b[0m\n",
      "regularization_factors, val_score: 0.119668:  20%|##        | 4/20 [00:00<00:01, 11.43it/s]\u001b[32m[I 2020-12-01 18:20:39,355]\u001b[0m Trial 43 finished with value: 0.12143390062205657 and parameters: {'lambda_l1': 1.0329591436897972e-05, 'lambda_l2': 0.0009158062954190835}. Best is trial 42 with value: 0.12070166117950944.\u001b[0m\n",
      "regularization_factors, val_score: 0.119668:  20%|##        | 4/20 [00:00<00:01, 11.43it/s]\u001b[32m[I 2020-12-01 18:20:39,433]\u001b[0m Trial 44 finished with value: 0.12390371558433774 and parameters: {'lambda_l1': 0.013215186073367568, 'lambda_l2': 0.75270703091506}. Best is trial 42 with value: 0.12070166117950944.\u001b[0m\n",
      "regularization_factors, val_score: 0.119667:  30%|###       | 6/20 [00:00<00:01, 11.49it/s]\u001b[32m[I 2020-12-01 18:20:39,528]\u001b[0m Trial 45 finished with value: 0.1196665170781524 and parameters: {'lambda_l1': 8.692954405946462e-08, 'lambda_l2': 2.6299296229982224e-07}. Best is trial 45 with value: 0.1196665170781524.\u001b[0m\n",
      "regularization_factors, val_score: 0.119667:  30%|###       | 6/20 [00:00<00:01, 11.49it/s]\u001b[32m[I 2020-12-01 18:20:39,618]\u001b[0m Trial 46 finished with value: 0.11966789742536964 and parameters: {'lambda_l1': 1.6501339418599364e-08, 'lambda_l2': 1.6204204728351207e-08}. Best is trial 45 with value: 0.1196665170781524.\u001b[0m\n",
      "regularization_factors, val_score: 0.119667:  40%|####      | 8/20 [00:00<00:01, 11.30it/s]\u001b[32m[I 2020-12-01 18:20:39,711]\u001b[0m Trial 47 finished with value: 0.11966789759413843 and parameters: {'lambda_l1': 1.292686009224167e-08, 'lambda_l2': 1.599452780309992e-08}. Best is trial 45 with value: 0.1196665170781524.\u001b[0m\n",
      "regularization_factors, val_score: 0.119667:  45%|####5     | 9/20 [00:00<00:01, 10.87it/s]\u001b[32m[I 2020-12-01 18:20:39,812]\u001b[0m Trial 48 finished with value: 0.11966719806099163 and parameters: {'lambda_l1': 1.336125849962527e-08, 'lambda_l2': 1.1390506299702672e-08}. Best is trial 45 with value: 0.1196665170781524.\u001b[0m\n",
      "regularization_factors, val_score: 0.119667:  45%|####5     | 9/20 [00:00<00:01, 10.87it/s]\u001b[32m[I 2020-12-01 18:20:39,903]\u001b[0m Trial 49 finished with value: 0.11966719784651811 and parameters: {'lambda_l1': 1.7791441473513373e-08, 'lambda_l2': 1.3909151378721365e-08}. Best is trial 45 with value: 0.1196665170781524.\u001b[0m\n",
      "regularization_factors, val_score: 0.119667:  55%|#####5    | 11/20 [00:00<00:00, 10.68it/s]\u001b[32m[I 2020-12-01 18:20:40,006]\u001b[0m Trial 50 finished with value: 0.11966719819308332 and parameters: {'lambda_l1': 1.2492967297883133e-08, 'lambda_l2': 1.0248955323484482e-08}. Best is trial 45 with value: 0.1196665170781524.\u001b[0m\n",
      "regularization_factors, val_score: 0.119667:  60%|######    | 12/20 [00:01<00:00, 10.22it/s]\u001b[32m[I 2020-12-01 18:20:40,114]\u001b[0m Trial 51 finished with value: 0.11966789799868911 and parameters: {'lambda_l1': 1.0424085031287076e-08, 'lambda_l2': 1.0105968602920576e-08}. Best is trial 45 with value: 0.1196665170781524.\u001b[0m\n",
      "regularization_factors, val_score: 0.119667:  60%|######    | 12/20 [00:01<00:00, 10.22it/s]\u001b[32m[I 2020-12-01 18:20:40,206]\u001b[0m Trial 52 finished with value: 0.11966789731828464 and parameters: {'lambda_l1': 1.3898218361097668e-08, 'lambda_l2': 2.3704994629945068e-08}. Best is trial 45 with value: 0.1196665170781524.\u001b[0m\n",
      "regularization_factors, val_score: 0.119667:  70%|#######   | 14/20 [00:01<00:00, 10.36it/s]\u001b[32m[I 2020-12-01 18:20:40,302]\u001b[0m Trial 53 finished with value: 0.11966789626574974 and parameters: {'lambda_l1': 1.1325360923885847e-08, 'lambda_l2': 5.5898366707430575e-08}. Best is trial 45 with value: 0.1196665170781524.\u001b[0m\n",
      "regularization_factors, val_score: 0.119667:  70%|#######   | 14/20 [00:01<00:00, 10.36it/s]\u001b[32m[I 2020-12-01 18:20:40,394]\u001b[0m Trial 54 finished with value: 0.11966651611974362 and parameters: {'lambda_l1': 1.6297022111279374e-08, 'lambda_l2': 3.8998343276873964e-07}. Best is trial 54 with value: 0.11966651611974362.\u001b[0m\n",
      "regularization_factors, val_score: 0.119663:  80%|########  | 16/20 [00:01<00:00, 10.30it/s]\u001b[32m[I 2020-12-01 18:20:40,497]\u001b[0m Trial 55 finished with value: 0.11966315346096076 and parameters: {'lambda_l1': 7.300759751868725e-08, 'lambda_l2': 8.454351522144862e-07}. Best is trial 55 with value: 0.11966315346096076.\u001b[0m\n",
      "regularization_factors, val_score: 0.119658:  80%|########  | 16/20 [00:01<00:00, 10.30it/s]\u001b[32m[I 2020-12-01 18:20:40,593]\u001b[0m Trial 56 finished with value: 0.11965802304806743 and parameters: {'lambda_l1': 2.099942822514516e-07, 'lambda_l2': 1.4690619001671335e-06}. Best is trial 56 with value: 0.11965802304806743.\u001b[0m\n",
      "regularization_factors, val_score: 0.119658:  90%|######### | 18/20 [00:01<00:00, 10.44it/s]\u001b[32m[I 2020-12-01 18:20:40,684]\u001b[0m Trial 57 finished with value: 0.11965908861937806 and parameters: {'lambda_l1': 2.4723769099531344e-07, 'lambda_l2': 1.7349796407158347e-06}. Best is trial 56 with value: 0.11965802304806743.\u001b[0m\n",
      "regularization_factors, val_score: 0.119658:  90%|######### | 18/20 [00:01<00:00, 10.44it/s]\u001b[32m[I 2020-12-01 18:20:40,771]\u001b[0m Trial 58 finished with value: 0.11965919541645305 and parameters: {'lambda_l1': 4.556321405958686e-07, 'lambda_l2': 1.651678436212675e-06}. Best is trial 56 with value: 0.11965802304806743.\u001b[0m\n",
      "regularization_factors, val_score: 0.119658: 100%|##########| 20/20 [00:01<00:00, 10.60it/s]\u001b[32m[I 2020-12-01 18:20:40,864]\u001b[0m Trial 59 finished with value: 0.1196591903601353 and parameters: {'lambda_l1': 4.0034747838193607e-07, 'lambda_l2': 1.969700696699672e-06}. Best is trial 56 with value: 0.11965802304806743.\u001b[0m\n",
      "regularization_factors, val_score: 0.119658: 100%|##########| 20/20 [00:01<00:00, 10.71it/s]\n",
      "min_data_in_leaf, val_score: 0.119198:  20%|##        | 1/5 [00:00<00:00,  7.85it/s]\u001b[32m[I 2020-12-01 18:20:41,007]\u001b[0m Trial 60 finished with value: 0.11919788137182728 and parameters: {'min_child_samples': 10}. Best is trial 60 with value: 0.11919788137182728.\u001b[0m\n",
      "min_data_in_leaf, val_score: 0.119198:  40%|####      | 2/5 [00:00<00:00,  7.50it/s]\u001b[32m[I 2020-12-01 18:20:41,154]\u001b[0m Trial 61 finished with value: 0.11951871637547579 and parameters: {'min_child_samples': 5}. Best is trial 60 with value: 0.11919788137182728.\u001b[0m\n",
      "min_data_in_leaf, val_score: 0.115758:  40%|####      | 2/5 [00:00<00:00,  7.50it/s]\u001b[32m[I 2020-12-01 18:20:41,222]\u001b[0m Trial 62 finished with value: 0.11575840796520848 and parameters: {'min_child_samples': 50}. Best is trial 62 with value: 0.11575840796520848.\u001b[0m\n",
      "min_data_in_leaf, val_score: 0.115758:  80%|########  | 4/5 [00:00<00:00,  8.66it/s]\u001b[32m[I 2020-12-01 18:20:41,298]\u001b[0m Trial 63 finished with value: 0.12890765497105894 and parameters: {'min_child_samples': 25}. Best is trial 62 with value: 0.11575840796520848.\u001b[0m\n",
      "min_data_in_leaf, val_score: 0.115758:  80%|########  | 4/5 [00:00<00:00,  8.66it/s]\u001b[32m[I 2020-12-01 18:20:41,368]\u001b[0m Trial 64 finished with value: 0.14695974922673807 and parameters: {'min_child_samples': 100}. Best is trial 62 with value: 0.11575840796520848.\u001b[0m\n",
      "min_data_in_leaf, val_score: 0.115758: 100%|##########| 5/5 [00:00<00:00,  9.97it/s]\n"
     ]
    }
   ],
   "source": [
    "import numpy as np\n",
    "import sklearn.datasets\n",
    "from sklearn.metrics import accuracy_score\n",
    "from sklearn.model_selection import train_test_split\n",
    "\n",
    "# всё, что нам нужно сделать, чтобы использовать LightGBM + Optuna, это импорт этого модуля\n",
    "import optuna.integration.lightgbm as lgb\n",
    "\n",
    "# загрузим данные\n",
    "data, target = sklearn.datasets.load_breast_cancer(return_X_y = True)\n",
    "# разделим на тестовую и обучающую выборку\n",
    "train_x, val_x, train_y, val_y = train_test_split(data, target, test_size=0.25)\n",
    "# сформируем данные для подачи в LightGBM\n",
    "dtrain, dval = lgb.Dataset(train_x, label=train_y, params={'verbose': -1}), lgb.Dataset(val_x, label=val_y, params={'verbose': -1})\n",
    "# зафиксируем параметры LightGBM, которые мы оптимизировать не хотим\n",
    "# параметры LightGBM https://lightgbm.readthedocs.io/en/latest/Parameters.html?highlight=verbosity#learning-control-parameters\n",
    "params = {\n",
    "          'objective': 'binary',\n",
    "          'metric': 'binary_logloss',\n",
    "          'verbosity': -1,\n",
    "          'verbose': -1,\n",
    "          'boosting_type': 'gbdt',\n",
    "}\n",
    "# инициализируем модель LightGBM | параметры lgb.train https://lightgbm.readthedocs.io/en/latest/pythonapi/lightgbm.train.html\n",
    "# все вычисления, которые видим в output, происходят здесь\n",
    "model = lgb.train(params,\n",
    "                  dtrain,\n",
    "                  valid_sets = [dtrain, dval],\n",
    "                  verbose_eval = False,\n",
    "                  early_stopping_rounds = 100)"
   ]
  },
  {
   "cell_type": "code",
   "execution_count": null,
   "metadata": {
    "colab": {
     "base_uri": "https://localhost:8080/"
    },
    "id": "SsDFF_ZUiJJd",
    "outputId": "9325e1ad-a01a-423c-c795-d0fbdc3e8384"
   },
   "outputs": [
    {
     "data": {
      "text/plain": [
       "0.972027972027972"
      ]
     },
     "execution_count": 32,
     "metadata": {
      "tags": []
     },
     "output_type": "execute_result"
    }
   ],
   "source": [
    "# получим предсказания модели\n",
    "# np.rint: округление до ближайшего целого числа\n",
    "prediction = np.rint(model.predict(val_x, num_iteration=model.best_iteration))\n",
    "# измерим долю правильных ответов\n",
    "accuracy = accuracy_score(val_y, prediction)\n",
    "accuracy"
   ]
  },
  {
   "cell_type": "markdown",
   "metadata": {
    "id": "GLh4v71WoSlA"
   },
   "source": [
    "Посмотрим лучшие параметры"
   ]
  },
  {
   "cell_type": "code",
   "execution_count": null,
   "metadata": {
    "colab": {
     "base_uri": "https://localhost:8080/"
    },
    "id": "-alPSZmMaDxZ",
    "outputId": "6c9e3991-e997-46a6-e367-1e7daf2744e2"
   },
   "outputs": [
    {
     "name": "stdout",
     "output_type": "stream",
     "text": [
      "Best params: {'objective': 'binary', 'metric': 'binary_logloss', 'verbosity': -1, 'verbose': -1, 'boosting_type': 'gbdt', 'feature_pre_filter': False, 'lambda_l1': 2.099942822514516e-07, 'lambda_l2': 1.4690619001671335e-06, 'num_leaves': 31, 'feature_fraction': 0.4, 'bagging_fraction': 0.6069644374821755, 'bagging_freq': 4, 'min_child_samples': 50}\n",
      "  Accuracy = 0.972027972027972\n",
      "  Params: \n",
      "    objective: binary\n",
      "    metric: binary_logloss\n",
      "    verbosity: -1\n",
      "    verbose: -1\n",
      "    boosting_type: gbdt\n",
      "    feature_pre_filter: False\n",
      "    lambda_l1: 2.099942822514516e-07\n",
      "    lambda_l2: 1.4690619001671335e-06\n",
      "    num_leaves: 31\n",
      "    feature_fraction: 0.4\n",
      "    bagging_fraction: 0.6069644374821755\n",
      "    bagging_freq: 4\n",
      "    min_child_samples: 50\n"
     ]
    }
   ],
   "source": [
    "best_params = model.params\n",
    "print(\"Best params:\", best_params)\n",
    "print(\"  Accuracy = {}\".format(accuracy))\n",
    "print(\"  Params: \")\n",
    "for key, value in best_params.items():\n",
    "    print(\"    {}: {}\".format(key, value))"
   ]
  },
  {
   "cell_type": "markdown",
   "metadata": {
    "id": "feI8JbOWS68Q"
   },
   "source": [
    "### Дополнительные материалы"
   ]
  },
  {
   "cell_type": "markdown",
   "metadata": {
    "id": "MLY1uKVNDbbL"
   },
   "source": [
    "Туториал по Optuna: https://www.kaggle.com/corochann/optuna-tutorial-for-hyperparameter-optimization\n",
    "\n",
    "Оптимизация Optuna + PyTorch: https://towardsdatascience.com/https-medium-com-perlitz-hyper-parameter-optimization-with-optuna-1c32785e7df\n",
    "\n",
    "Примеры реализаций: https://www.kaggle.com/search?q=optuna\n",
    "\n",
    "Библиотеки для оптимизации: https://docs.ray.io/en/master/tune/api_docs/suggestion.html#tune-search-alg\n",
    "\n",
    "Интеграция с Light: https://medium.com/optuna/lightgbm-tuner-new-optuna-integration-for-hyperparameter-optimization-8b7095e99258\n",
    "\n",
    "Обзор Optuna 2.0: https://medium.com/optuna/optuna-v2-3165e3f1fc2\n",
    "\n",
    "Объяснение работы алгоритма Hyperband для Pruning: https://medium.com/optuna/optuna-supports-hyperband-93b0cae1a137\n",
    "\n",
    "Сравнение алгоритмов оптимизации SHA и ASHA: https://blog.ml.cmu.edu/2018/12/12/massively-parallel-hyperparameter-optimization/\n",
    "\n",
    "Ссылка на библиотеку Optuna: https://optuna.readthedocs.io/en/stable/reference/index.html\n",
    "\n",
    "Документация LightGBM для Python: https://lightgbm.readthedocs.io/en/latest/Python-Intro.html\n",
    "\n",
    "Параметры LightGBM: https://lightgbm.readthedocs.io/en/latest/Parameters.html?highlight=verbosity#learning-control-parameters\n",
    "\n",
    "Параметры LightGBM train: https://lightgbm.readthedocs.io/en/latest/pythonapi/lightgbm.train.html\n",
    "\n",
    "Применение sklearn: https://towardsdatascience.com/how-to-make-your-model-awesome-with-optuna-b56d490368af"
   ]
  }
 ],
 "metadata": {
  "colab": {
   "collapsed_sections": [],
   "name": "optuna.ipynb",
   "provenance": [],
   "toc_visible": true
  },
  "kernelspec": {
   "display_name": "Python 3",
   "language": "python",
   "name": "python3"
  },
  "language_info": {
   "codemirror_mode": {
    "name": "ipython",
    "version": 3
   },
   "file_extension": ".py",
   "mimetype": "text/x-python",
   "name": "python",
   "nbconvert_exporter": "python",
   "pygments_lexer": "ipython3",
   "version": "3.8.6"
  }
 },
 "nbformat": 4,
 "nbformat_minor": 4
}
