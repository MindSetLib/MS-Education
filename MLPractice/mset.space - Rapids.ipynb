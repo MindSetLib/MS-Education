{
 "cells": [
  {
   "cell_type": "markdown",
   "metadata": {},
   "source": [
    "https://mset.space - платформа для проведения анализа данных, построения моделей и внедрения моделей в продукцию.\n",
    "\n",
    "\n",
    "https://mset.space - platform for data analysis, model building and implementation into production.\n",
    "\n",
    "\n",
    "Ноутбуки для платформы mset.space\n",
    "https://github.com/MindSetLib/MS-Education\n",
    "\n",
    "Low code ML - библиотека машинного обучения\n",
    "https://github.com/MindSetLib/Insolver\n",
    "\n",
    "\n",
    "Телеграм канал платформы\n",
    "https://t.me/msetspace\n",
    "\n",
    "Связь с разработчиками:\n",
    "telegram: @frankshikhaliev\n",
    "email: request@mind-set.ru"
   ]
  },
  {
   "cell_type": "markdown",
   "metadata": {
    "id": "oCWC_vcG85kC"
   },
   "source": [
    "![](https://developer.nvidia.com/sites/default/files/pictures/2018/rapids/rapids-logo.png)"
   ]
  },
  {
   "cell_type": "markdown",
   "metadata": {
    "id": "TjZ0PAPVA5XE"
   },
   "source": [
    "[Rapids](https://medium.com/dropout-analytics/installing-rapids-ai-in-google-colab-87c247f2c468) — набор программных библиотек, предназначенных для ускорения Data Science за счет использования графических процессоров. Он генерирует низкоуровневый код CUDA для быстрого выполнения алгоритмов, оптимизированных на GPU, и в то же время имеет простую реализацию на Python.\r\n",
    "\r\n",
    "Rapids использует несколько Python-библиотек:\r\n",
    "\r\n",
    "— [cuDF](https://github.com/rapidsai/cudf): dataframes для GPU. Поддерживает практически те же способы обработки данных, что и Pan\n",
    "\n",
    "— [cuPY](https://github.com/rapidsai/cupy): используем методы из Numpy, вычисляем на            das.\r\n",
    "\r\n",
    "— [cuML](https://github.com/rapidsai/cuml): библиотека для машинного обучения. Содержит множество алгоритмов ML, которые есть в Scikit-Learn.\r\n",
    "\r\n",
    "— [cuGraph](https://github.com/rapidsai/cugraph): обработка графов на GPU. Поддерживает много основных алгоритмов анализа графов, включая PageRank."
   ]
  },
  {
   "cell_type": "markdown",
   "metadata": {
    "id": "ieLCh86J88Dw"
   },
   "source": [
    "22.12.2020"
   ]
  },
  {
   "cell_type": "markdown",
   "metadata": {},
   "source": [
    "## Установка mset.space\n",
    "#### В терминале создаем новое окружение и устанавливаем RAPIDS:\n",
    "```shell\n",
    "conda create -n rapids-0.17 -c rapidsai -c nvidia -c conda-forge \\\n",
    "    -c defaults rapids-blazing=0.17 python=3.7 cudatoolkit=10.2\n",
    "```\n",
    "```shell\n",
    "conda install -c conda-forge nb_conda_kernels\n",
    "```\n",
    "\n",
    "#### conda и перезапускаем терминал:\n",
    "```\n",
    "conda init\n",
    "\n",
    "exit\n",
    "```\n",
    "\n",
    "#### активируем виртуальное окружение:\n",
    "```shell\n",
    "conda activate rapids-0.17\n",
    "```\n",
    "\n",
    "#### добавляем новый кернел в ноутбук:\n",
    "```shell\n",
    "conda install ipykernel\n",
    "\n",
    "ipython kernel install --user --name rapids --display-name=\"Python 3.7 RAPIDS\"\n",
    "```\n"
   ]
  },
  {
   "cell_type": "markdown",
   "metadata": {
    "id": "G7iZEQY-8_vC"
   },
   "source": [
    "Посмотрим к какой GPU подключились. "
   ]
  },
  {
   "cell_type": "code",
   "execution_count": 105,
   "metadata": {
    "colab": {
     "base_uri": "https://localhost:8080/"
    },
    "id": "J54lLWRdSTn6",
    "outputId": "3b9deae8-d634-41b7-e5b1-55070bdd5430"
   },
   "outputs": [
    {
     "name": "stdout",
     "output_type": "stream",
     "text": [
      "Tue Jan 12 16:56:01 2021       \n",
      "+-----------------------------------------------------------------------------+\n",
      "| NVIDIA-SMI 440.118.02   Driver Version: 440.118.02   CUDA Version: 10.2     |\n",
      "|-------------------------------+----------------------+----------------------+\n",
      "| GPU  Name        Persistence-M| Bus-Id        Disp.A | Volatile Uncorr. ECC |\n",
      "| Fan  Temp  Perf  Pwr:Usage/Cap|         Memory-Usage | GPU-Util  Compute M. |\n",
      "|===============================+======================+======================|\n",
      "|   0  GeForce GTX 108...  On   | 00000000:95:00.0 Off |                  N/A |\n",
      "|  0%   41C    P8     9W / 250W |   4979MiB / 11178MiB |      0%      Default |\n",
      "+-------------------------------+----------------------+----------------------+\n",
      "|   1  GeForce GTX 108...  On   | 00000000:CB:00.0 Off |                  N/A |\n",
      "|  0%   34C    P8    10W / 250W |    147MiB / 11178MiB |      0%      Default |\n",
      "+-------------------------------+----------------------+----------------------+\n",
      "                                                                               \n",
      "+-----------------------------------------------------------------------------+\n",
      "| Processes:                                                       GPU Memory |\n",
      "|  GPU       PID   Type   Process name                             Usage      |\n",
      "|=============================================================================|\n",
      "+-----------------------------------------------------------------------------+\n"
     ]
    }
   ],
   "source": [
    "!nvidia-smi"
   ]
  },
  {
   "cell_type": "markdown",
   "metadata": {},
   "source": [
    "Посмотрим, есть ли установленные библиотеки cuDF, cuMl и остальные."
   ]
  },
  {
   "cell_type": "code",
   "execution_count": 57,
   "metadata": {},
   "outputs": [
    {
     "name": "stdout",
     "output_type": "stream",
     "text": [
      "arrow-cpp                 1.0.1           py37h2318771_14_cuda    conda-forge\n",
      "arrow-cpp-proc            2.0.0                      cuda    conda-forge\n",
      "cudatoolkit               10.2.89              h6bb024c_0    nvidia\n",
      "cudf                      0.17.0          cuda_10.2_py37_gf56ef850e6_0    rapidsai\n",
      "cudf_kafka                0.17.0          py37_gf56ef850e6_0    rapidsai\n",
      "cudnn                     7.6.5.32             h01f27c4_1    conda-forge\n",
      "cugraph                   0.17.0          py37_gb58e49e8_0    rapidsai\n",
      "cuml                      0.17.0          cuda10.2_py37_ga48e0ffbf_0    rapidsai\n",
      "cupy                      8.3.0            py37h3e89ef8_0    conda-forge\n",
      "curl                      7.71.1               he644dc0_8    conda-forge\n",
      "cusignal                  0.17.0          py38_ge853242_0    rapidsai\n",
      "cuspatial                 0.17.0          py37_g897b304_0    rapidsai\n",
      "custreamz                 0.17.0          py37_gf56ef850e6_0    rapidsai\n",
      "cuxfilter                 0.17.0          py37_g340129d_0    rapidsai\n",
      "dask-cuda                 0.17.0                   py37_0    rapidsai\n",
      "dask-cudf                 0.17.0          py37_gf56ef850e6_0    rapidsai\n",
      "faiss-proc                1.0.0                      cuda    conda-forge\n",
      "icu                       64.2                 he1b5a44_1    conda-forge\n",
      "libcudf                   0.17.0          cuda10.2_gf56ef850e6_0    rapidsai\n",
      "libcudf_kafka             0.17.0            gf56ef850e6_0    rapidsai\n",
      "libcugraph                0.17.0          cuda10.2_gb58e49e8_0    rapidsai\n",
      "libcuml                   0.17.0          cuda10.2_ga48e0ffbf_0    rapidsai\n",
      "libcumlprims              0.17.0          cuda10.2_g8216947_0    nvidia\n",
      "libcurl                   7.71.1               hcdd3856_8    conda-forge\n",
      "libcuspatial              0.17.0          cuda10.2_g897b304_0    rapidsai\n",
      "libfaiss                  1.6.3           he61ee18_3_cuda    conda-forge\n",
      "librmm                    0.17.0          cuda10.2_gc4cc945_0    rapidsai\n",
      "libxgboost                1.3.0dev.rapidsai0.17      cuda10.2_0    rapidsai\n",
      "ncurses                   6.2                  h58526e2_4    conda-forge\n",
      "py-xgboost                1.3.0dev.rapidsai0.17  cuda10.2py37_0    rapidsai\n",
      "pyarrow                   1.0.1           py37hbeecfa9_14_cuda    conda-forge\n",
      "rapids                    0.17.0          cuda10.2_py37_g180f433_165    rapidsai\n",
      "rapids-blazing            0.17.0          cuda10.2_py37_g180f433_165    rapidsai\n",
      "rapids-xgboost            0.17.0          cuda10.2_py37_g180f433_165    rapidsai\n",
      "rmm                       0.17.0          cuda_10.2_py37_gc4cc945_0    rapidsai\n",
      "ucx                       1.8.1+g6b29558       cuda10.2_0    rapidsai\n",
      "xgboost                   1.3.0dev.rapidsai0.17  cuda10.2py37_0    rapidsai\n"
     ]
    }
   ],
   "source": [
    "import sys\n",
    "!conda list --prefix {sys.prefix} | grep cu"
   ]
  },
  {
   "cell_type": "markdown",
   "metadata": {
    "id": "CHnGJb2VhOwv"
   },
   "source": [
    "### Скачаем датасет с Kaggle"
   ]
  },
  {
   "cell_type": "code",
   "execution_count": 36,
   "metadata": {
    "id": "1d9PftYofRpp"
   },
   "outputs": [],
   "source": [
    "# установим библиотеку kaggle\n",
    "!pip install -U -q kaggle\n",
    "# создадим дирректорию, куда положим файл kaggle.json\n",
    "!mkdir -p ~/.kaggle"
   ]
  },
  {
   "cell_type": "code",
   "execution_count": 37,
   "metadata": {},
   "outputs": [],
   "source": [
    "# копируем в дирректорию, которую мы создали, файл kaggle.json\n",
    "!cp kaggle.json ~/.kaggle/"
   ]
  },
  {
   "cell_type": "code",
   "execution_count": 38,
   "metadata": {
    "colab": {
     "base_uri": "https://localhost:8080/"
    },
    "id": "6xl4QDq6fWcj",
    "outputId": "db91c102-5412-4503-c124-6f010b8f1621"
   },
   "outputs": [
    {
     "name": "stdout",
     "output_type": "stream",
     "text": [
      "kaggle.json\n"
     ]
    }
   ],
   "source": [
    "# посмотрим, скачался ли файл в созданную дирректорию\n",
    "!ls ~/.kaggle/"
   ]
  },
  {
   "cell_type": "code",
   "execution_count": 41,
   "metadata": {
    "id": "kFDVy0NdfWhd"
   },
   "outputs": [],
   "source": [
    "# без этого выходит ошибка\n",
    "# Warning: Your Kaggle API key is readable by other users on this system! To fix this, you can run 'chmod 600 /root/.kaggle/kaggle.json'\n",
    "!sudo chmod 600 ~/.kaggle/kaggle.json"
   ]
  },
  {
   "cell_type": "markdown",
   "metadata": {
    "id": "HNUqBx8mZJNk"
   },
   "source": [
    "Чтобы скачать dataset:\n",
    "* переходим на страницу датасета в Kaggle\n",
    "* ищем код для скачивания датасета"
   ]
  },
  {
   "cell_type": "markdown",
   "metadata": {},
   "source": [
    "![](https://s8.hostingkartinok.com/uploads/images/2021/01/97090108e4a6db2a86d1b002a6bab270.png)"
   ]
  },
  {
   "cell_type": "markdown",
   "metadata": {
    "id": "xTdjvjvssgql"
   },
   "source": [
    "Скачаем из Kaggle датасет [Riiid](https://www.kaggle.com/c/riiid-test-answer-prediction/data). Это данные онлайн школы, по которым необходимо предсказать, сможет ли учащийся ответить на следующий вопрос."
   ]
  },
  {
   "cell_type": "markdown",
   "metadata": {
    "id": "o8iNUpDQzbct"
   },
   "source": [
    "Мы возьмем данные из файла train.csv\r\n",
    "\r\n",
    "* `row_id`: (int64) ID code for the row.\r\n",
    "* `timestamp`: (int64) the time in milliseconds between this user interaction and the first event completion from that user.\r\n",
    "* `user_id`: (int32) ID code for the user.\r\n",
    "* `content_id`: (int16) ID code for the user interaction.\r\n",
    "* `content_type_id`: (bool) 0 if the event was a question being posed to the user, 1 if the event was the user watching a lecture.\r\n",
    "* `task_container_id`: (int16) ID code for the *batch of questions or lectures*. (eg. a user might see three questions in a row before seeing the explanations for any of them - those three would all share a task_container_id)\r\n",
    "* `user_answer`: (int8) the user's answer to the question, if any. Read -1 as null, for lectures.\r\n",
    "* `answered_correctly`: (int8) if the user responded correctly. Read -1 as null, for lectures.\r\n",
    "* `prior_question_elapsed_time`: (float32) The average time in milliseconds it took a user to answer each question in the previous question bundle, ignoring any lectures in between (is null for a user's first question bundle or lecture)\r\n",
    "* `prior_question_had_explanation`: (bool) Whether or not the user saw an explanation and the correct response(s) after answering the previous question bundle, ignoring any lectures in between. The value is shared across a single question bundle, and is null for a user's first question bundle or lecture. Typically the first several questions a user sees were part of an onboarding diagnostic test where they did not get any feedback."
   ]
  },
  {
   "cell_type": "code",
   "execution_count": 42,
   "metadata": {
    "colab": {
     "base_uri": "https://localhost:8080/"
    },
    "id": "uGMtk1jzhL9i",
    "outputId": "c9f4aff8-bf93-42d2-cefb-3bbbf274f177"
   },
   "outputs": [
    {
     "name": "stdout",
     "output_type": "stream",
     "text": [
      "Downloading riiid-test-answer-prediction.zip to /home/jovyan/work\n",
      "100%|██████████████████████████████████████| 1.29G/1.29G [02:08<00:00, 11.7MB/s]\n",
      "100%|██████████████████████████████████████| 1.29G/1.29G [02:08<00:00, 10.8MB/s]\n"
     ]
    }
   ],
   "source": [
    "!kaggle competitions download -c riiid-test-answer-prediction"
   ]
  },
  {
   "cell_type": "markdown",
   "metadata": {
    "id": "Xh9Na4TPtD_-"
   },
   "source": [
    "Воспользуемся библиотекой ZipFile, чтобы распаковать скачанный архив с данными."
   ]
  },
  {
   "cell_type": "code",
   "execution_count": 43,
   "metadata": {
    "id": "IiqzI0fxhLxM"
   },
   "outputs": [],
   "source": [
    "from zipfile import ZipFile\n",
    "zip_file = ZipFile('riiid-test-answer-prediction.zip')"
   ]
  },
  {
   "cell_type": "markdown",
   "metadata": {
    "id": "7vk9A-QqtBKH"
   },
   "source": [
    "Извлечем все файлы из архива."
   ]
  },
  {
   "cell_type": "code",
   "execution_count": 44,
   "metadata": {
    "id": "wRmQfhiHhLzz"
   },
   "outputs": [],
   "source": [
    "zip_file.extractall()"
   ]
  },
  {
   "cell_type": "markdown",
   "metadata": {
    "id": "4Dgqh9K6nebR"
   },
   "source": [
    "Посмотрим размер файла с данными"
   ]
  },
  {
   "cell_type": "code",
   "execution_count": 45,
   "metadata": {
    "colab": {
     "base_uri": "https://localhost:8080/"
    },
    "id": "71GqWvmZnzP8",
    "outputId": "cc2f6f0c-b341-4792-f30e-32ad4056947c"
   },
   "outputs": [
    {
     "name": "stdout",
     "output_type": "stream",
     "text": [
      "5.5G\ttrain.csv\n"
     ]
    }
   ],
   "source": [
    "!du -sh train.csv"
   ]
  },
  {
   "cell_type": "code",
   "execution_count": 46,
   "metadata": {},
   "outputs": [
    {
     "name": "stdout",
     "output_type": "stream",
     "text": [
      "Collecting package metadata (current_repodata.json): done\n",
      "Solving environment: done\n",
      "\n",
      "# All requested packages already installed.\n",
      "\n"
     ]
    }
   ],
   "source": [
    "# установка библиотеки через conda в текущий кернел\n",
    "\n",
    "import sys\n",
    "!conda install --yes --prefix {sys.prefix} seaborn"
   ]
  },
  {
   "cell_type": "markdown",
   "metadata": {
    "id": "vsKIfvjSFUqC"
   },
   "source": [
    "Импортируем библиотеки"
   ]
  },
  {
   "cell_type": "code",
   "execution_count": 50,
   "metadata": {},
   "outputs": [],
   "source": [
    "import cudf # pandas на GPU\n",
    "import cupy # numpy на GPU\n",
    "\n",
    "import pandas as pd\n",
    "import numpy as np\n",
    "\n",
    "import seaborn as sns\n",
    "import matplotlib.pyplot as plt\n",
    "\n",
    "# управление памятью на GPU: подробнее https://medium.com/rapids-ai/tackling-large-graphs-with-rapids-cugraph-and-unified-virtual-memory-b5b69a065d4\n",
    "import rmm\n",
    "rmm.reinitialize(managed_memory=True)\n",
    "assert(rmm.is_initialized())"
   ]
  },
  {
   "cell_type": "markdown",
   "metadata": {
    "id": "0kADRTQKCR90"
   },
   "source": [
    "### Сравнение методов загрузки"
   ]
  },
  {
   "cell_type": "markdown",
   "metadata": {
    "id": "0eN6vmO0l_bY"
   },
   "source": [
    "Посмотрим, сколько времени займёт загрузка данных, если будем использовать CPU?\r\n",
    "\r\n",
    "В итоге данные загрузили через 15 минутGB."
   ]
  },
  {
   "cell_type": "code",
   "execution_count": null,
   "metadata": {
    "id": "g76rwBarnJ7p"
   },
   "outputs": [],
   "source": [
    "#%%time\r",
    "#pandas_train = pd.read_csv('train.csv')"
   ]
  },
  {
   "cell_type": "code",
   "execution_count": null,
   "metadata": {},
   "outputs": [],
   "source": [
    "def memory_usage(data):\n",
    "  print( 'Занимаемая память:', np.round( data.memory_usage().sum() / 10**9, 2), 'GB' )"
   ]
  },
  {
   "cell_type": "code",
   "execution_count": 59,
   "metadata": {},
   "outputs": [
    {
     "name": "stdout",
     "output_type": "stream",
     "text": [
      "Занимаемая память: 8.1 GB\n"
     ]
    }
   ],
   "source": [
    "memory_usage(pandas_train)         "
   ]
  },
  {
   "cell_type": "markdown",
   "metadata": {
    "id": "RCrk8NMWpOGF"
   },
   "source": [
    "Посмотрим сколько времени займёт загрузка данных, используя cuDF.\r\n",
    "\r\n",
    "Вывод:\r\n",
    "\r\n",
    "*   время загрузки 2min 43s\r\n",
    "*   память 7.42 GB при размере файла 5.5 GB\r\n",
    "\r\n"
   ]
  },
  {
   "cell_type": "code",
   "execution_count": 103,
   "metadata": {
    "colab": {
     "base_uri": "https://localhost:8080/"
    },
    "id": "cLfN9lBFo1ek",
    "outputId": "7d546518-158c-4af2-875b-aa59689b55a5"
   },
   "outputs": [
    {
     "name": "stdout",
     "output_type": "stream",
     "text": [
      "CPU times: user 37 s, sys: 4.93 s, total: 41.9 s\n",
      "Wall time: 41.6 s\n"
     ]
    }
   ],
   "source": [
    "%%time\r\n",
    "rapids_train = cudf.read_csv('train.csv')"
   ]
  },
  {
   "cell_type": "markdown",
   "metadata": {
    "id": "KGOUGpZhXFCQ"
   },
   "source": [
    "Напишем функцию для отображение занимаемого объема памяти."
   ]
  },
  {
   "cell_type": "code",
   "execution_count": 66,
   "metadata": {
    "colab": {
     "base_uri": "https://localhost:8080/"
    },
    "id": "ew6IpqDCK1FV",
    "outputId": "74c259a6-2398-482c-8c91-9c2fefcab72c"
   },
   "outputs": [
    {
     "name": "stdout",
     "output_type": "stream",
     "text": [
      "Занимаемая память: 7.42 GB\n"
     ]
    }
   ],
   "source": [
    "memory_usage(rapids_train)"
   ]
  },
  {
   "cell_type": "code",
   "execution_count": null,
   "metadata": {},
   "outputs": [],
   "source": []
  },
  {
   "cell_type": "markdown",
   "metadata": {
    "id": "Y6UsPVizOMw6"
   },
   "source": [
    "Удалим данные из GPU."
   ]
  },
  {
   "cell_type": "code",
   "execution_count": 10,
   "metadata": {
    "id": "_Zt1_wmBK6No"
   },
   "outputs": [],
   "source": [
    "del rapids_train"
   ]
  },
  {
   "cell_type": "markdown",
   "metadata": {
    "id": "IZS2ZJ5Lpg8r"
   },
   "source": [
    "Если мы вручную определим тип данных, то мы значительно сэкономим память.\r\n",
    "\r\n",
    "[Посмотреть числовые типы данных](https://pyprog.pro/data_types.html) и какой диапазон чисел они в себе хранят."
   ]
  },
  {
   "cell_type": "markdown",
   "metadata": {
    "id": "0OLphNVwE0BT"
   },
   "source": [
    "Загрузим датасет используя Pandas.\r\n",
    "\r\n",
    "Вывод:\r\n",
    "\r\n",
    "*   время ззгру4ки 24in 39s\r\n",
    "*   память 3.64 GB\r\n",
    "*   тип данных **pandas.core.frame.DataFrame**\r\n",
    "\r\n"
   ]
  },
  {
   "cell_type": "code",
   "execution_count": 68,
   "metadata": {
    "colab": {
     "base_uri": "https://localhost:8080/"
    },
    "id": "T7QZ4SV4EzMb",
    "outputId": "d1eb98f4-584a-468a-8747-843df7989107"
   },
   "outputs": [
    {
     "name": "stdout",
     "output_type": "stream",
     "text": [
      "CPU times: user 4min 35s, sys: 14.3 s, total: 4min 49s\n",
      "Wall time: 4min 49s\n"
     ]
    }
   ],
   "source": [
    "%%time\r\n",
    "dtypes = {\r\n",
    "    \"row_id\": \"int32\",\r\n",
    "    \"timestamp\": \"int64\",\r\n",
    "    \"user_id\": \"int32\",\r\n",
    "    \"content_id\": \"int16\",\r\n",
    "    \"content_type_id\": \"boolean\",\r\n",
    "    \"task_container_id\": \"int16\",\r\n",
    "    \"user_answer\": \"int8\",\r\n",
    "    \"answered_correctly\": \"int8\",\r\n",
    "    \"prior_question_elapsed_time\": \"float32\", \r\n",
    "    \"prior_question_had_explanation\": \"int8\"\r\n",
    "}\r\n",
    "\r\n",
    "pandas_train = pd.read_csv('train.csv', dtype=dtypes)"
   ]
  },
  {
   "cell_type": "code",
   "execution_count": 69,
   "metadata": {
    "colab": {
     "base_uri": "https://localhost:8080/"
    },
    "id": "ClfIq9V3HqZx",
    "outputId": "f220a044-6b1e-433a-c38b-c0457cad42eb"
   },
   "outputs": [
    {
     "name": "stdout",
     "output_type": "stream",
     "text": [
      "Занимаемая память: 3.64 GB\n"
     ]
    }
   ],
   "source": [
    "memory_usage(pandas_train)"
   ]
  },
  {
   "cell_type": "code",
   "execution_count": 70,
   "metadata": {
    "colab": {
     "base_uri": "https://localhost:8080/"
    },
    "id": "CeTQsXYSKiYS",
    "outputId": "45378838-aa8d-45c6-91a1-6768bbabdbfa"
   },
   "outputs": [
    {
     "data": {
      "text/plain": [
       "pandas.core.frame.DataFrame"
      ]
     },
     "execution_count": 70,
     "metadata": {},
     "output_type": "execute_result"
    }
   ],
   "source": [
    "type(pandas_train)"
   ]
  },
  {
   "cell_type": "code",
   "execution_count": 14,
   "metadata": {
    "id": "QvkPjxZYGmdq"
   },
   "outputs": [],
   "source": [
    "del pandas_train"
   ]
  },
  {
   "cell_type": "markdown",
   "metadata": {
    "id": "1nC0u5CiFFHQ"
   },
   "source": [
    "Загрузим датасет используя Rapids.\r\n",
    "\r\n",
    "Вывод:\r\n",
    "\r\n",
    "*   время ззкиу1in 43s\r\n",
    "*   память 2.86 GB\r\n",
    "*   тип данных **cudf.core.dataframe.DataFrame**"
   ]
  },
  {
   "cell_type": "code",
   "execution_count": 71,
   "metadata": {
    "colab": {
     "base_uri": "https://localhost:8080/"
    },
    "id": "30b89d67QF2b",
    "outputId": "e115fb24-b15e-453c-c413-fe9e76cccec6"
   },
   "outputs": [
    {
     "name": "stdout",
     "output_type": "stream",
     "text": [
      "CPU times: user 11.3 s, sys: 1.95 s, total: 13.2 s\n",
      "Wall time: 13.3 s\n"
     ]
    }
   ],
   "source": [
    "%%time\n",
    "dtypes = {\n",
    "    \"row_id\": \"int32\",\n",
    "    \"timestamp\": \"int64\",\n",
    "    \"user_id\": \"int32\",\n",
    "    \"content_id\": \"int16\",\n",
    "    \"content_type_id\": \"boolean\",\n",
    "    \"task_container_id\": \"int16\",\n",
    "    \"user_answer\": \"int8\",\n",
    "    \"answered_correctly\": \"int8\",\n",
    "    \"prior_question_elapsed_time\": \"float32\", \n",
    "    \"prior_question_had_explanation\": \"int8\"\n",
    "}\n",
    "\n",
    "rapids_train = cudf.read_csv('train.csv', dtype=dtypes)"
   ]
  },
  {
   "cell_type": "code",
   "execution_count": 72,
   "metadata": {
    "colab": {
     "base_uri": "https://localhost:8080/"
    },
    "id": "ECfowun6KW7q",
    "outputId": "b111a793-e4e1-4f1a-d5bf-d4e53549cc78"
   },
   "outputs": [
    {
     "name": "stdout",
     "output_type": "stream",
     "text": [
      "Занимаемая память: 2.86 GB\n"
     ]
    }
   ],
   "source": [
    "memory_usage(rapids_train)"
   ]
  },
  {
   "cell_type": "markdown",
   "metadata": {
    "id": "ctob_Y9LEchA"
   },
   "source": [
    "Посмотрим какой тип данных имеет загруженный датасет."
   ]
  },
  {
   "cell_type": "code",
   "execution_count": 73,
   "metadata": {
    "colab": {
     "base_uri": "https://localhost:8080/"
    },
    "id": "-yubmg5WEMNs",
    "outputId": "595cc3dd-fc0b-4bc6-95a1-8f76a9b5e9d5"
   },
   "outputs": [
    {
     "data": {
      "text/plain": [
       "cudf.core.dataframe.DataFrame"
      ]
     },
     "execution_count": 73,
     "metadata": {},
     "output_type": "execute_result"
    }
   ],
   "source": [
    "type(rapids_train)"
   ]
  },
  {
   "cell_type": "markdown",
   "metadata": {
    "id": "S_ESSRSJdolR"
   },
   "source": [
    "Составим таблицу для наглядного сравнения."
   ]
  },
  {
   "cell_type": "code",
   "execution_count": 74,
   "metadata": {
    "colab": {
     "base_uri": "https://localhost:8080/",
     "height": 137
    },
    "id": "k-9ChOzFdqhH",
    "outputId": "21f905d2-08bd-4bb2-8582-ceffdb0bea61"
   },
   "outputs": [
    {
     "data": {
      "text/html": [
       "<div>\n",
       "<style scoped>\n",
       "    .dataframe tbody tr th:only-of-type {\n",
       "        vertical-align: middle;\n",
       "    }\n",
       "\n",
       "    .dataframe tbody tr th {\n",
       "        vertical-align: top;\n",
       "    }\n",
       "\n",
       "    .dataframe thead th {\n",
       "        text-align: right;\n",
       "    }\n",
       "</style>\n",
       "<table border=\"1\" class=\"dataframe\">\n",
       "  <thead>\n",
       "    <tr style=\"text-align: right;\">\n",
       "      <th></th>\n",
       "      <th>Характеристики</th>\n",
       "      <th>Pandas</th>\n",
       "      <th>Rapids</th>\n",
       "    </tr>\n",
       "  </thead>\n",
       "  <tbody>\n",
       "    <tr>\n",
       "      <th>0</th>\n",
       "      <td>время</td>\n",
       "      <td>4min 49 sec</td>\n",
       "      <td>13 sec</td>\n",
       "    </tr>\n",
       "    <tr>\n",
       "      <th>1</th>\n",
       "      <td>память</td>\n",
       "      <td>3.64 GB</td>\n",
       "      <td>2.86 GB</td>\n",
       "    </tr>\n",
       "    <tr>\n",
       "      <th>2</th>\n",
       "      <td>тип данных</td>\n",
       "      <td>pandas.core.frame.DataFrame</td>\n",
       "      <td>cudf.core.dataframe.DataFrame</td>\n",
       "    </tr>\n",
       "  </tbody>\n",
       "</table>\n",
       "</div>"
      ],
      "text/plain": [
       "  Характеристики                       Pandas                         Rapids\n",
       "0          время                  4min 49 sec                         13 sec\n",
       "1         память                      3.64 GB                        2.86 GB\n",
       "2     тип данных  pandas.core.frame.DataFrame  cudf.core.dataframe.DataFrame"
      ]
     },
     "execution_count": 74,
     "metadata": {},
     "output_type": "execute_result"
    }
   ],
   "source": [
    "pd.DataFrame({'Характеристики': ['время', 'память', 'тип данных'], 'Pandas': ['4min 49 sec', '3.64 GB', 'pandas.core.frame.DataFrame'], 'Rapids': ['13 sec', '2.86 GB', 'cudf.core.dataframe.DataFrame']})"
   ]
  },
  {
   "cell_type": "markdown",
   "metadata": {
    "id": "sHYhqDgOEUDQ"
   },
   "source": [
    "Посмотрим какие есть методы у данного типа данных."
   ]
  },
  {
   "cell_type": "code",
   "execution_count": null,
   "metadata": {
    "colab": {
     "base_uri": "https://localhost:8080/"
    },
    "id": "olPO6hAzDmDp",
    "outputId": "d5b563a0-bad9-4209-f67f-4b9bdbd356db"
   },
   "outputs": [],
   "source": [
    "dir(rapids_train)"
   ]
  },
  {
   "cell_type": "code",
   "execution_count": 76,
   "metadata": {
    "colab": {
     "base_uri": "https://localhost:8080/",
     "height": 419
    },
    "id": "R04BJQt3VM0D",
    "outputId": "968ec0a0-e725-48bb-8846-231658d7d8de"
   },
   "outputs": [
    {
     "data": {
      "text/html": [
       "<div>\n",
       "<style scoped>\n",
       "    .dataframe tbody tr th:only-of-type {\n",
       "        vertical-align: middle;\n",
       "    }\n",
       "\n",
       "    .dataframe tbody tr th {\n",
       "        vertical-align: top;\n",
       "    }\n",
       "\n",
       "    .dataframe thead th {\n",
       "        text-align: right;\n",
       "    }\n",
       "</style>\n",
       "<table border=\"1\" class=\"dataframe\">\n",
       "  <thead>\n",
       "    <tr style=\"text-align: right;\">\n",
       "      <th></th>\n",
       "      <th>row_id</th>\n",
       "      <th>timestamp</th>\n",
       "      <th>user_id</th>\n",
       "      <th>content_id</th>\n",
       "      <th>content_type_id</th>\n",
       "      <th>task_container_id</th>\n",
       "      <th>user_answer</th>\n",
       "      <th>answered_correctly</th>\n",
       "      <th>prior_question_elapsed_time</th>\n",
       "      <th>prior_question_had_explanation</th>\n",
       "    </tr>\n",
       "  </thead>\n",
       "  <tbody>\n",
       "    <tr>\n",
       "      <th>0</th>\n",
       "      <td>0</td>\n",
       "      <td>0</td>\n",
       "      <td>115</td>\n",
       "      <td>5692</td>\n",
       "      <td>False</td>\n",
       "      <td>1</td>\n",
       "      <td>3</td>\n",
       "      <td>1</td>\n",
       "      <td>&lt;NA&gt;</td>\n",
       "      <td>&lt;NA&gt;</td>\n",
       "    </tr>\n",
       "    <tr>\n",
       "      <th>1</th>\n",
       "      <td>1</td>\n",
       "      <td>56943</td>\n",
       "      <td>115</td>\n",
       "      <td>5716</td>\n",
       "      <td>False</td>\n",
       "      <td>2</td>\n",
       "      <td>2</td>\n",
       "      <td>1</td>\n",
       "      <td>37000.0</td>\n",
       "      <td>0</td>\n",
       "    </tr>\n",
       "    <tr>\n",
       "      <th>2</th>\n",
       "      <td>2</td>\n",
       "      <td>118363</td>\n",
       "      <td>115</td>\n",
       "      <td>128</td>\n",
       "      <td>False</td>\n",
       "      <td>0</td>\n",
       "      <td>0</td>\n",
       "      <td>1</td>\n",
       "      <td>55000.0</td>\n",
       "      <td>0</td>\n",
       "    </tr>\n",
       "    <tr>\n",
       "      <th>3</th>\n",
       "      <td>3</td>\n",
       "      <td>131167</td>\n",
       "      <td>115</td>\n",
       "      <td>7860</td>\n",
       "      <td>False</td>\n",
       "      <td>3</td>\n",
       "      <td>0</td>\n",
       "      <td>1</td>\n",
       "      <td>19000.0</td>\n",
       "      <td>0</td>\n",
       "    </tr>\n",
       "    <tr>\n",
       "      <th>4</th>\n",
       "      <td>4</td>\n",
       "      <td>137965</td>\n",
       "      <td>115</td>\n",
       "      <td>7922</td>\n",
       "      <td>False</td>\n",
       "      <td>4</td>\n",
       "      <td>1</td>\n",
       "      <td>1</td>\n",
       "      <td>11000.0</td>\n",
       "      <td>0</td>\n",
       "    </tr>\n",
       "    <tr>\n",
       "      <th>...</th>\n",
       "      <td>...</td>\n",
       "      <td>...</td>\n",
       "      <td>...</td>\n",
       "      <td>...</td>\n",
       "      <td>...</td>\n",
       "      <td>...</td>\n",
       "      <td>...</td>\n",
       "      <td>...</td>\n",
       "      <td>...</td>\n",
       "      <td>...</td>\n",
       "    </tr>\n",
       "    <tr>\n",
       "      <th>101230327</th>\n",
       "      <td>101230327</td>\n",
       "      <td>428564420</td>\n",
       "      <td>2147482888</td>\n",
       "      <td>3586</td>\n",
       "      <td>False</td>\n",
       "      <td>22</td>\n",
       "      <td>0</td>\n",
       "      <td>1</td>\n",
       "      <td>18000.0</td>\n",
       "      <td>1</td>\n",
       "    </tr>\n",
       "    <tr>\n",
       "      <th>101230328</th>\n",
       "      <td>101230328</td>\n",
       "      <td>428585000</td>\n",
       "      <td>2147482888</td>\n",
       "      <td>6341</td>\n",
       "      <td>False</td>\n",
       "      <td>23</td>\n",
       "      <td>3</td>\n",
       "      <td>1</td>\n",
       "      <td>14000.0</td>\n",
       "      <td>1</td>\n",
       "    </tr>\n",
       "    <tr>\n",
       "      <th>101230329</th>\n",
       "      <td>101230329</td>\n",
       "      <td>428613475</td>\n",
       "      <td>2147482888</td>\n",
       "      <td>4212</td>\n",
       "      <td>False</td>\n",
       "      <td>24</td>\n",
       "      <td>3</td>\n",
       "      <td>1</td>\n",
       "      <td>14000.0</td>\n",
       "      <td>1</td>\n",
       "    </tr>\n",
       "    <tr>\n",
       "      <th>101230330</th>\n",
       "      <td>101230330</td>\n",
       "      <td>428649406</td>\n",
       "      <td>2147482888</td>\n",
       "      <td>6343</td>\n",
       "      <td>False</td>\n",
       "      <td>25</td>\n",
       "      <td>1</td>\n",
       "      <td>0</td>\n",
       "      <td>22000.0</td>\n",
       "      <td>1</td>\n",
       "    </tr>\n",
       "    <tr>\n",
       "      <th>101230331</th>\n",
       "      <td>101230331</td>\n",
       "      <td>428692118</td>\n",
       "      <td>2147482888</td>\n",
       "      <td>7995</td>\n",
       "      <td>False</td>\n",
       "      <td>26</td>\n",
       "      <td>3</td>\n",
       "      <td>1</td>\n",
       "      <td>29000.0</td>\n",
       "      <td>1</td>\n",
       "    </tr>\n",
       "  </tbody>\n",
       "</table>\n",
       "<p>101230332 rows × 10 columns</p>\n",
       "</div>"
      ],
      "text/plain": [
       "              row_id  timestamp     user_id  content_id  content_type_id  \\\n",
       "0                  0          0         115        5692            False   \n",
       "1                  1      56943         115        5716            False   \n",
       "2                  2     118363         115         128            False   \n",
       "3                  3     131167         115        7860            False   \n",
       "4                  4     137965         115        7922            False   \n",
       "...              ...        ...         ...         ...              ...   \n",
       "101230327  101230327  428564420  2147482888        3586            False   \n",
       "101230328  101230328  428585000  2147482888        6341            False   \n",
       "101230329  101230329  428613475  2147482888        4212            False   \n",
       "101230330  101230330  428649406  2147482888        6343            False   \n",
       "101230331  101230331  428692118  2147482888        7995            False   \n",
       "\n",
       "           task_container_id  user_answer  answered_correctly  \\\n",
       "0                          1            3                   1   \n",
       "1                          2            2                   1   \n",
       "2                          0            0                   1   \n",
       "3                          3            0                   1   \n",
       "4                          4            1                   1   \n",
       "...                      ...          ...                 ...   \n",
       "101230327                 22            0                   1   \n",
       "101230328                 23            3                   1   \n",
       "101230329                 24            3                   1   \n",
       "101230330                 25            1                   0   \n",
       "101230331                 26            3                   1   \n",
       "\n",
       "          prior_question_elapsed_time prior_question_had_explanation  \n",
       "0                                <NA>                           <NA>  \n",
       "1                             37000.0                              0  \n",
       "2                             55000.0                              0  \n",
       "3                             19000.0                              0  \n",
       "4                             11000.0                              0  \n",
       "...                               ...                            ...  \n",
       "101230327                     18000.0                              1  \n",
       "101230328                     14000.0                              1  \n",
       "101230329                     14000.0                              1  \n",
       "101230330                     22000.0                              1  \n",
       "101230331                     29000.0                              1  \n",
       "\n",
       "[101230332 rows x 10 columns]"
      ]
     },
     "execution_count": 76,
     "metadata": {},
     "output_type": "execute_result"
    }
   ],
   "source": [
    "rapids_train"
   ]
  },
  {
   "cell_type": "markdown",
   "metadata": {
    "id": "22rLL1lUBgEH"
   },
   "source": [
    "Для данных `cudf.core.dataframe.DataFrame` доступны все методы используемые в Pandas. И они будут выполнятся на GPU."
   ]
  },
  {
   "cell_type": "markdown",
   "metadata": {
    "id": "WVsLpy46KtW7"
   },
   "source": [
    "Посмотрим, сколько пропущенных значений в каждом столбце."
   ]
  },
  {
   "cell_type": "code",
   "execution_count": 77,
   "metadata": {
    "colab": {
     "base_uri": "https://localhost:8080/"
    },
    "id": "KoKGYyLGVM6o",
    "outputId": "58ffb57d-8731-4019-d8b2-0abd6926255e"
   },
   "outputs": [
    {
     "data": {
      "text/plain": [
       "row_id                                  0\n",
       "timestamp                               0\n",
       "user_id                                 0\n",
       "content_id                              0\n",
       "content_type_id                         0\n",
       "task_container_id                       0\n",
       "user_answer                             0\n",
       "answered_correctly                      0\n",
       "prior_question_elapsed_time       2351538\n",
       "prior_question_had_explanation     392506\n",
       "dtype: uint64"
      ]
     },
     "execution_count": 77,
     "metadata": {},
     "output_type": "execute_result"
    }
   ],
   "source": [
    "rapids_train.isnull().sum()"
   ]
  },
  {
   "cell_type": "markdown",
   "metadata": {
    "id": "SF9LCjM0PAmF"
   },
   "source": [
    "#### Оптимальный формат хранения данных"
   ]
  },
  {
   "cell_type": "markdown",
   "metadata": {
    "id": "iuTfpKfjK0vO"
   },
   "source": [
    "Чтобы эффективнее хранить и загружать данные, предпочтительно хранить их в форматах: `parquet`, `pickle`, `feather`, `hdf5`, `jay`. Подробнее о всех можно посмотреть в конце [этого ноутбука](https://www.kaggle.com/rohanrao/tutorial-on-reading-large-datasets).\r\n",
    "\r\n",
    "Продемонстрируем тип данных `parquet`."
   ]
  },
  {
   "cell_type": "code",
   "execution_count": 78,
   "metadata": {
    "colab": {
     "base_uri": "https://localhost:8080/"
    },
    "id": "zq5CTKH7VM9V",
    "outputId": "86de4753-010e-4570-c791-2faead1fbbab"
   },
   "outputs": [
    {
     "name": "stdout",
     "output_type": "stream",
     "text": [
      "CPU times: user 6.21 s, sys: 2.56 s, total: 8.77 s\n",
      "Wall time: 8.77 s\n"
     ]
    }
   ],
   "source": [
    "%%time\r\n",
    "rapids_train.to_parquet('train.parquet')"
   ]
  },
  {
   "cell_type": "markdown",
   "metadata": {
    "id": "z-09lhFGL-j0"
   },
   "source": [
    "Как видим, данные в формате CSV весили 5.5 G, а в формате parquet 1.5 G"
   ]
  },
  {
   "cell_type": "code",
   "execution_count": 79,
   "metadata": {
    "colab": {
     "base_uri": "https://localhost:8080/"
    },
    "id": "VivWKp16LRVC",
    "outputId": "2fd6e9d7-416d-4000-b8be-51000ffb7f4f"
   },
   "outputs": [
    {
     "name": "stdout",
     "output_type": "stream",
     "text": [
      "1.5G\ttrain.parquet\n"
     ]
    }
   ],
   "source": [
    "!du -sh train.parquet"
   ]
  },
  {
   "cell_type": "markdown",
   "metadata": {
    "id": "XPBv3KO7MQ4g"
   },
   "source": [
    "А загрузка данных происходит всего за 5.17 секунд!"
   ]
  },
  {
   "cell_type": "code",
   "execution_count": 80,
   "metadata": {
    "colab": {
     "base_uri": "https://localhost:8080/"
    },
    "id": "Jx-r1cPAVNAU",
    "outputId": "f04ded02-267f-4d97-d5ab-d15de33d80bd"
   },
   "outputs": [
    {
     "name": "stdout",
     "output_type": "stream",
     "text": [
      "CPU times: user 28.3 s, sys: 1min 6s, total: 1min 34s\n",
      "Wall time: 5.17 s\n"
     ]
    }
   ],
   "source": [
    "%%time \r\n",
    "parquet_train = pd.read_parquet('train.parquet')"
   ]
  },
  {
   "cell_type": "code",
   "execution_count": 28,
   "metadata": {
    "colab": {
     "base_uri": "https://localhost:8080/"
    },
    "id": "rEPoXgWzPqfX",
    "outputId": "8aba64e6-7cc8-4779-ff0e-53a30749225d"
   },
   "outputs": [
    {
     "data": {
      "text/plain": [
       "pandas.core.frame.DataFrame"
      ]
     },
     "execution_count": 28,
     "metadata": {},
     "output_type": "execute_result"
    }
   ],
   "source": [
    "type(parquet_train)"
   ]
  },
  {
   "cell_type": "markdown",
   "metadata": {
    "id": "xzGORFGqMVn0"
   },
   "source": [
    "Данные мы загрузили на оперативную память, которая занимает 3.5 G"
   ]
  },
  {
   "cell_type": "code",
   "execution_count": 81,
   "metadata": {
    "colab": {
     "base_uri": "https://localhost:8080/"
    },
    "id": "fm0oiQVOVNCj",
    "outputId": "5a96de50-b8b5-4c1c-f7b5-978db232ab49"
   },
   "outputs": [
    {
     "name": "stdout",
     "output_type": "stream",
     "text": [
      "Занимаемая память: 3.54 GB\n"
     ]
    }
   ],
   "source": [
    "memory_usage(parquet_train)"
   ]
  },
  {
   "cell_type": "code",
   "execution_count": 82,
   "metadata": {
    "id": "KCvldoIYXcDT"
   },
   "outputs": [],
   "source": [
    "del parquet_train"
   ]
  },
  {
   "cell_type": "markdown",
   "metadata": {
    "id": "hlEOvN9KQjry"
   },
   "source": [
    "### Визуализация"
   ]
  },
  {
   "cell_type": "markdown",
   "metadata": {
    "id": "3XROYjc1DD-V"
   },
   "source": [
    "Построим график распределения фичи `timestamp`."
   ]
  },
  {
   "cell_type": "markdown",
   "metadata": {
    "id": "k1VKfkyyEAs1"
   },
   "source": [
    "Посмотрим какой тип данных имеют значения при применении метода `values`."
   ]
  },
  {
   "cell_type": "code",
   "execution_count": 83,
   "metadata": {
    "colab": {
     "base_uri": "https://localhost:8080/"
    },
    "id": "g8ASeMVtDuyo",
    "outputId": "2147f773-1d56-4e31-fc7f-b86f520c3e0a"
   },
   "outputs": [
    {
     "data": {
      "text/plain": [
       "cupy.core.core.ndarray"
      ]
     },
     "execution_count": 83,
     "metadata": {},
     "output_type": "execute_result"
    }
   ],
   "source": [
    "# посмотрим какой тип данных имеют значения столбца timestamp\r\n",
    "type(rapids_train['timestamp'].values)"
   ]
  },
  {
   "cell_type": "markdown",
   "metadata": {
    "id": "Okdadv4LQyhL"
   },
   "source": [
    "Чтобы строить графики используя стандартные методы библиотек `matplotlib`, `seaborn` и др., нам нужно изменить тип данных на numpy.ndarray для этого воспользуемся методом **cupy.asnumpy**"
   ]
  },
  {
   "cell_type": "code",
   "execution_count": 84,
   "metadata": {
    "colab": {
     "base_uri": "https://localhost:8080/"
    },
    "id": "tA3ilMUqQr8k",
    "outputId": "e909352f-5a7c-4bf5-9133-78450b59d96e"
   },
   "outputs": [
    {
     "data": {
      "text/plain": [
       "numpy.ndarray"
      ]
     },
     "execution_count": 84,
     "metadata": {},
     "output_type": "execute_result"
    }
   ],
   "source": [
    "type(cupy.asnumpy(rapids_train['timestamp'].values))"
   ]
  },
  {
   "cell_type": "markdown",
   "metadata": {
    "id": "5w6uN0XQRQ9s"
   },
   "source": [
    "Построим график"
   ]
  },
  {
   "cell_type": "code",
   "execution_count": 85,
   "metadata": {
    "colab": {
     "base_uri": "https://localhost:8080/",
     "height": 441
    },
    "id": "VlTW5yUEEJ9O",
    "outputId": "ad901f81-e7ad-46e4-d366-ac97d9906809"
   },
   "outputs": [
    {
     "data": {
      "image/png": "[encoded data removed]",
      "text/plain": [
       "<Figure size 864x432 with 1 Axes>"
      ]
     },
     "metadata": {
      "needs_background": "light"
     },
     "output_type": "display_data"
    }
   ],
   "source": [
    "values = cupy.asnumpy(rapids_train['timestamp'].values)\r\n",
    "\r\n",
    "# [::k] брать каждое k-ое значение из массива\r\n",
    "# height: высота графика\r\n",
    "# aspect: длина графика height * aspect\r\n",
    "sns.displot(values[::250000], kind = 'hist', height = 6, aspect = 2); "
   ]
  },
  {
   "cell_type": "markdown",
   "metadata": {
    "id": "bR-yElVnVbP8"
   },
   "source": [
    "### Сравнение скорости вычислений"
   ]
  },
  {
   "cell_type": "markdown",
   "metadata": {
    "id": "2GC6zUFNMQif"
   },
   "source": [
    "Используем метод `rolling`, который берет окно указанного размера и складывает значения из этого окна по столбцам. Используем этот метод для сравнения скорости обработки на CPU и GPU. "
   ]
  },
  {
   "cell_type": "markdown",
   "metadata": {
    "id": "eQ7YjDLdQ5Hf"
   },
   "source": [
    "![](https://s8.hostingkartinok.com/uploads/images/2020/12/7464fb4473a28f0e2d890dae40374928.png)"
   ]
  },
  {
   "cell_type": "markdown",
   "metadata": {
    "id": "95G-5iGBRONG"
   },
   "source": [
    "Произвести вычисления на всём датасете нельзя, ноутбук перезагружается т.к. не хватает RAM для этой операции. Поэтому произведем эту операцию на 1/4 данных. "
   ]
  },
  {
   "cell_type": "code",
   "execution_count": 86,
   "metadata": {
    "colab": {
     "base_uri": "https://localhost:8080/"
    },
    "id": "Ws98sm8EMBDO",
    "outputId": "76fe48d1-8238-46c3-84ea-f0eaea071e0e"
   },
   "outputs": [
    {
     "name": "stdout",
     "output_type": "stream",
     "text": [
      "CPU times: user 17.7 s, sys: 11.9 s, total: 29.6 s\n",
      "Wall time: 29.8 s\n"
     ]
    },
    {
     "data": {
      "text/html": [
       "<div>\n",
       "<style scoped>\n",
       "    .dataframe tbody tr th:only-of-type {\n",
       "        vertical-align: middle;\n",
       "    }\n",
       "\n",
       "    .dataframe tbody tr th {\n",
       "        vertical-align: top;\n",
       "    }\n",
       "\n",
       "    .dataframe thead th {\n",
       "        text-align: right;\n",
       "    }\n",
       "</style>\n",
       "<table border=\"1\" class=\"dataframe\">\n",
       "  <thead>\n",
       "    <tr style=\"text-align: right;\">\n",
       "      <th></th>\n",
       "      <th>row_id</th>\n",
       "      <th>timestamp</th>\n",
       "      <th>user_id</th>\n",
       "      <th>content_id</th>\n",
       "      <th>content_type_id</th>\n",
       "      <th>task_container_id</th>\n",
       "      <th>user_answer</th>\n",
       "      <th>answered_correctly</th>\n",
       "      <th>prior_question_elapsed_time</th>\n",
       "      <th>prior_question_had_explanation</th>\n",
       "    </tr>\n",
       "  </thead>\n",
       "  <tbody>\n",
       "    <tr>\n",
       "      <th>0</th>\n",
       "      <td>NaN</td>\n",
       "      <td>NaN</td>\n",
       "      <td>NaN</td>\n",
       "      <td>NaN</td>\n",
       "      <td>NaN</td>\n",
       "      <td>NaN</td>\n",
       "      <td>NaN</td>\n",
       "      <td>NaN</td>\n",
       "      <td>NaN</td>\n",
       "      <td>NaN</td>\n",
       "    </tr>\n",
       "    <tr>\n",
       "      <th>1</th>\n",
       "      <td>1.0</td>\n",
       "      <td>5.694300e+04</td>\n",
       "      <td>2.300000e+02</td>\n",
       "      <td>11408.0</td>\n",
       "      <td>0.0</td>\n",
       "      <td>3.0</td>\n",
       "      <td>5.0</td>\n",
       "      <td>2.0</td>\n",
       "      <td>NaN</td>\n",
       "      <td>1.0</td>\n",
       "    </tr>\n",
       "    <tr>\n",
       "      <th>2</th>\n",
       "      <td>3.0</td>\n",
       "      <td>1.753060e+05</td>\n",
       "      <td>2.300000e+02</td>\n",
       "      <td>5844.0</td>\n",
       "      <td>0.0</td>\n",
       "      <td>2.0</td>\n",
       "      <td>2.0</td>\n",
       "      <td>2.0</td>\n",
       "      <td>92000.0</td>\n",
       "      <td>0.0</td>\n",
       "    </tr>\n",
       "    <tr>\n",
       "      <th>3</th>\n",
       "      <td>5.0</td>\n",
       "      <td>2.495300e+05</td>\n",
       "      <td>2.300000e+02</td>\n",
       "      <td>7988.0</td>\n",
       "      <td>0.0</td>\n",
       "      <td>3.0</td>\n",
       "      <td>0.0</td>\n",
       "      <td>2.0</td>\n",
       "      <td>74000.0</td>\n",
       "      <td>0.0</td>\n",
       "    </tr>\n",
       "    <tr>\n",
       "      <th>4</th>\n",
       "      <td>7.0</td>\n",
       "      <td>2.691320e+05</td>\n",
       "      <td>2.300000e+02</td>\n",
       "      <td>15782.0</td>\n",
       "      <td>0.0</td>\n",
       "      <td>7.0</td>\n",
       "      <td>1.0</td>\n",
       "      <td>2.0</td>\n",
       "      <td>30000.0</td>\n",
       "      <td>0.0</td>\n",
       "    </tr>\n",
       "    <tr>\n",
       "      <th>...</th>\n",
       "      <td>...</td>\n",
       "      <td>...</td>\n",
       "      <td>...</td>\n",
       "      <td>...</td>\n",
       "      <td>...</td>\n",
       "      <td>...</td>\n",
       "      <td>...</td>\n",
       "      <td>...</td>\n",
       "      <td>...</td>\n",
       "      <td>...</td>\n",
       "    </tr>\n",
       "    <tr>\n",
       "      <th>25307578</th>\n",
       "      <td>50615155.0</td>\n",
       "      <td>1.001047e+09</td>\n",
       "      <td>1.081623e+09</td>\n",
       "      <td>10913.0</td>\n",
       "      <td>0.0</td>\n",
       "      <td>89.0</td>\n",
       "      <td>2.0</td>\n",
       "      <td>2.0</td>\n",
       "      <td>31000.0</td>\n",
       "      <td>2.0</td>\n",
       "    </tr>\n",
       "    <tr>\n",
       "      <th>25307579</th>\n",
       "      <td>50615157.0</td>\n",
       "      <td>1.394559e+10</td>\n",
       "      <td>1.081623e+09</td>\n",
       "      <td>10221.0</td>\n",
       "      <td>0.0</td>\n",
       "      <td>91.0</td>\n",
       "      <td>1.0</td>\n",
       "      <td>2.0</td>\n",
       "      <td>35000.0</td>\n",
       "      <td>2.0</td>\n",
       "    </tr>\n",
       "    <tr>\n",
       "      <th>25307580</th>\n",
       "      <td>50615159.0</td>\n",
       "      <td>2.689012e+10</td>\n",
       "      <td>1.081623e+09</td>\n",
       "      <td>9054.0</td>\n",
       "      <td>0.0</td>\n",
       "      <td>93.0</td>\n",
       "      <td>0.0</td>\n",
       "      <td>2.0</td>\n",
       "      <td>41000.0</td>\n",
       "      <td>2.0</td>\n",
       "    </tr>\n",
       "    <tr>\n",
       "      <th>25307581</th>\n",
       "      <td>50615161.0</td>\n",
       "      <td>2.689015e+10</td>\n",
       "      <td>1.081623e+09</td>\n",
       "      <td>14166.0</td>\n",
       "      <td>0.0</td>\n",
       "      <td>95.0</td>\n",
       "      <td>3.0</td>\n",
       "      <td>2.0</td>\n",
       "      <td>36000.0</td>\n",
       "      <td>2.0</td>\n",
       "    </tr>\n",
       "    <tr>\n",
       "      <th>25307582</th>\n",
       "      <td>50615163.0</td>\n",
       "      <td>2.689018e+10</td>\n",
       "      <td>1.081623e+09</td>\n",
       "      <td>15735.0</td>\n",
       "      <td>0.0</td>\n",
       "      <td>97.0</td>\n",
       "      <td>3.0</td>\n",
       "      <td>1.0</td>\n",
       "      <td>19000.0</td>\n",
       "      <td>2.0</td>\n",
       "    </tr>\n",
       "  </tbody>\n",
       "</table>\n",
       "<p>25307583 rows × 10 columns</p>\n",
       "</div>"
      ],
      "text/plain": [
       "              row_id     timestamp       user_id  content_id  content_type_id  \\\n",
       "0                NaN           NaN           NaN         NaN              NaN   \n",
       "1                1.0  5.694300e+04  2.300000e+02     11408.0              0.0   \n",
       "2                3.0  1.753060e+05  2.300000e+02      5844.0              0.0   \n",
       "3                5.0  2.495300e+05  2.300000e+02      7988.0              0.0   \n",
       "4                7.0  2.691320e+05  2.300000e+02     15782.0              0.0   \n",
       "...              ...           ...           ...         ...              ...   \n",
       "25307578  50615155.0  1.001047e+09  1.081623e+09     10913.0              0.0   \n",
       "25307579  50615157.0  1.394559e+10  1.081623e+09     10221.0              0.0   \n",
       "25307580  50615159.0  2.689012e+10  1.081623e+09      9054.0              0.0   \n",
       "25307581  50615161.0  2.689015e+10  1.081623e+09     14166.0              0.0   \n",
       "25307582  50615163.0  2.689018e+10  1.081623e+09     15735.0              0.0   \n",
       "\n",
       "          task_container_id  user_answer  answered_correctly  \\\n",
       "0                       NaN          NaN                 NaN   \n",
       "1                       3.0          5.0                 2.0   \n",
       "2                       2.0          2.0                 2.0   \n",
       "3                       3.0          0.0                 2.0   \n",
       "4                       7.0          1.0                 2.0   \n",
       "...                     ...          ...                 ...   \n",
       "25307578               89.0          2.0                 2.0   \n",
       "25307579               91.0          1.0                 2.0   \n",
       "25307580               93.0          0.0                 2.0   \n",
       "25307581               95.0          3.0                 2.0   \n",
       "25307582               97.0          3.0                 1.0   \n",
       "\n",
       "          prior_question_elapsed_time  prior_question_had_explanation  \n",
       "0                                 NaN                             NaN  \n",
       "1                                 NaN                             1.0  \n",
       "2                             92000.0                             0.0  \n",
       "3                             74000.0                             0.0  \n",
       "4                             30000.0                             0.0  \n",
       "...                               ...                             ...  \n",
       "25307578                      31000.0                             2.0  \n",
       "25307579                      35000.0                             2.0  \n",
       "25307580                      41000.0                             2.0  \n",
       "25307581                      36000.0                             2.0  \n",
       "25307582                      19000.0                             2.0  \n",
       "\n",
       "[25307583 rows x 10 columns]"
      ]
     },
     "execution_count": 86,
     "metadata": {},
     "output_type": "execute_result"
    }
   ],
   "source": [
    "%%time\r\n",
    "n = pandas_train.shape[0]\r\n",
    "pandas_train.iloc[: int(n * 0.25), : ].rolling(2).sum()"
   ]
  },
  {
   "cell_type": "markdown",
   "metadata": {
    "id": "vSIPg6Gacsgj"
   },
   "source": [
    "А для GPU возьмем все данные."
   ]
  },
  {
   "cell_type": "code",
   "execution_count": 102,
   "metadata": {
    "colab": {
     "base_uri": "https://localhost:8080/",
     "height": 453
    },
    "id": "inwHbri_Jo78",
    "outputId": "37bb8ee7-08ca-4f8d-e3cc-aadbd293bed4"
   },
   "outputs": [
    {
     "name": "stdout",
     "output_type": "stream",
     "text": [
      "CPU times: user 5.53 s, sys: 94.3 ms, total: 5.62 s\n",
      "Wall time: 5.61 s\n"
     ]
    },
    {
     "data": {
      "text/html": [
       "<div>\n",
       "<style scoped>\n",
       "    .dataframe tbody tr th:only-of-type {\n",
       "        vertical-align: middle;\n",
       "    }\n",
       "\n",
       "    .dataframe tbody tr th {\n",
       "        vertical-align: top;\n",
       "    }\n",
       "\n",
       "    .dataframe thead th {\n",
       "        text-align: right;\n",
       "    }\n",
       "</style>\n",
       "<table border=\"1\" class=\"dataframe\">\n",
       "  <thead>\n",
       "    <tr style=\"text-align: right;\">\n",
       "      <th></th>\n",
       "      <th>row_id</th>\n",
       "      <th>timestamp</th>\n",
       "      <th>user_id</th>\n",
       "      <th>content_id</th>\n",
       "      <th>content_type_id</th>\n",
       "      <th>task_container_id</th>\n",
       "      <th>user_answer</th>\n",
       "      <th>answered_correctly</th>\n",
       "      <th>prior_question_elapsed_time</th>\n",
       "      <th>prior_question_had_explanation</th>\n",
       "    </tr>\n",
       "  </thead>\n",
       "  <tbody>\n",
       "    <tr>\n",
       "      <th>0</th>\n",
       "      <td>&lt;NA&gt;</td>\n",
       "      <td>&lt;NA&gt;</td>\n",
       "      <td>&lt;NA&gt;</td>\n",
       "      <td>&lt;NA&gt;</td>\n",
       "      <td>&lt;NA&gt;</td>\n",
       "      <td>&lt;NA&gt;</td>\n",
       "      <td>&lt;NA&gt;</td>\n",
       "      <td>&lt;NA&gt;</td>\n",
       "      <td>&lt;NA&gt;</td>\n",
       "      <td>&lt;NA&gt;</td>\n",
       "    </tr>\n",
       "    <tr>\n",
       "      <th>1</th>\n",
       "      <td>1</td>\n",
       "      <td>56943</td>\n",
       "      <td>230</td>\n",
       "      <td>11408</td>\n",
       "      <td>0</td>\n",
       "      <td>3</td>\n",
       "      <td>5</td>\n",
       "      <td>2</td>\n",
       "      <td>&lt;NA&gt;</td>\n",
       "      <td>&lt;NA&gt;</td>\n",
       "    </tr>\n",
       "    <tr>\n",
       "      <th>2</th>\n",
       "      <td>3</td>\n",
       "      <td>175306</td>\n",
       "      <td>230</td>\n",
       "      <td>5844</td>\n",
       "      <td>0</td>\n",
       "      <td>2</td>\n",
       "      <td>2</td>\n",
       "      <td>2</td>\n",
       "      <td>92000.0</td>\n",
       "      <td>0</td>\n",
       "    </tr>\n",
       "    <tr>\n",
       "      <th>3</th>\n",
       "      <td>5</td>\n",
       "      <td>249530</td>\n",
       "      <td>230</td>\n",
       "      <td>7988</td>\n",
       "      <td>0</td>\n",
       "      <td>3</td>\n",
       "      <td>0</td>\n",
       "      <td>2</td>\n",
       "      <td>74000.0</td>\n",
       "      <td>0</td>\n",
       "    </tr>\n",
       "    <tr>\n",
       "      <th>4</th>\n",
       "      <td>7</td>\n",
       "      <td>269132</td>\n",
       "      <td>230</td>\n",
       "      <td>15782</td>\n",
       "      <td>0</td>\n",
       "      <td>7</td>\n",
       "      <td>1</td>\n",
       "      <td>2</td>\n",
       "      <td>30000.0</td>\n",
       "      <td>0</td>\n",
       "    </tr>\n",
       "    <tr>\n",
       "      <th>...</th>\n",
       "      <td>...</td>\n",
       "      <td>...</td>\n",
       "      <td>...</td>\n",
       "      <td>...</td>\n",
       "      <td>...</td>\n",
       "      <td>...</td>\n",
       "      <td>...</td>\n",
       "      <td>...</td>\n",
       "      <td>...</td>\n",
       "      <td>...</td>\n",
       "    </tr>\n",
       "    <tr>\n",
       "      <th>101230327</th>\n",
       "      <td>202460653</td>\n",
       "      <td>857107292</td>\n",
       "      <td>4294965776</td>\n",
       "      <td>9788</td>\n",
       "      <td>0</td>\n",
       "      <td>43</td>\n",
       "      <td>2</td>\n",
       "      <td>2</td>\n",
       "      <td>62000.0</td>\n",
       "      <td>2</td>\n",
       "    </tr>\n",
       "    <tr>\n",
       "      <th>101230328</th>\n",
       "      <td>202460655</td>\n",
       "      <td>857149420</td>\n",
       "      <td>4294965776</td>\n",
       "      <td>9927</td>\n",
       "      <td>0</td>\n",
       "      <td>45</td>\n",
       "      <td>3</td>\n",
       "      <td>2</td>\n",
       "      <td>32000.0</td>\n",
       "      <td>2</td>\n",
       "    </tr>\n",
       "    <tr>\n",
       "      <th>101230329</th>\n",
       "      <td>202460657</td>\n",
       "      <td>857198475</td>\n",
       "      <td>4294965776</td>\n",
       "      <td>10553</td>\n",
       "      <td>0</td>\n",
       "      <td>47</td>\n",
       "      <td>6</td>\n",
       "      <td>2</td>\n",
       "      <td>28000.0</td>\n",
       "      <td>2</td>\n",
       "    </tr>\n",
       "    <tr>\n",
       "      <th>101230330</th>\n",
       "      <td>202460659</td>\n",
       "      <td>857262881</td>\n",
       "      <td>4294965776</td>\n",
       "      <td>10555</td>\n",
       "      <td>0</td>\n",
       "      <td>49</td>\n",
       "      <td>4</td>\n",
       "      <td>1</td>\n",
       "      <td>36000.0</td>\n",
       "      <td>2</td>\n",
       "    </tr>\n",
       "    <tr>\n",
       "      <th>101230331</th>\n",
       "      <td>202460661</td>\n",
       "      <td>857341524</td>\n",
       "      <td>4294965776</td>\n",
       "      <td>14338</td>\n",
       "      <td>0</td>\n",
       "      <td>51</td>\n",
       "      <td>4</td>\n",
       "      <td>1</td>\n",
       "      <td>51000.0</td>\n",
       "      <td>2</td>\n",
       "    </tr>\n",
       "  </tbody>\n",
       "</table>\n",
       "<p>101230332 rows × 10 columns</p>\n",
       "</div>"
      ],
      "text/plain": [
       "              row_id  timestamp     user_id content_id content_type_id  \\\n",
       "0               <NA>       <NA>        <NA>       <NA>            <NA>   \n",
       "1                  1      56943         230      11408               0   \n",
       "2                  3     175306         230       5844               0   \n",
       "3                  5     249530         230       7988               0   \n",
       "4                  7     269132         230      15782               0   \n",
       "...              ...        ...         ...        ...             ...   \n",
       "101230327  202460653  857107292  4294965776       9788               0   \n",
       "101230328  202460655  857149420  4294965776       9927               0   \n",
       "101230329  202460657  857198475  4294965776      10553               0   \n",
       "101230330  202460659  857262881  4294965776      10555               0   \n",
       "101230331  202460661  857341524  4294965776      14338               0   \n",
       "\n",
       "          task_container_id user_answer answered_correctly  \\\n",
       "0                      <NA>        <NA>               <NA>   \n",
       "1                         3           5                  2   \n",
       "2                         2           2                  2   \n",
       "3                         3           0                  2   \n",
       "4                         7           1                  2   \n",
       "...                     ...         ...                ...   \n",
       "101230327                43           2                  2   \n",
       "101230328                45           3                  2   \n",
       "101230329                47           6                  2   \n",
       "101230330                49           4                  1   \n",
       "101230331                51           4                  1   \n",
       "\n",
       "          prior_question_elapsed_time prior_question_had_explanation  \n",
       "0                                <NA>                           <NA>  \n",
       "1                                <NA>                           <NA>  \n",
       "2                             92000.0                              0  \n",
       "3                             74000.0                              0  \n",
       "4                             30000.0                              0  \n",
       "...                               ...                            ...  \n",
       "101230327                     62000.0                              2  \n",
       "101230328                     32000.0                              2  \n",
       "101230329                     28000.0                              2  \n",
       "101230330                     36000.0                              2  \n",
       "101230331                     51000.0                              2  \n",
       "\n",
       "[101230332 rows x 10 columns]"
      ]
     },
     "execution_count": 102,
     "metadata": {},
     "output_type": "execute_result"
    }
   ],
   "source": [
    "%%time\r\n",
    "rapids_train.rolling(2).sum()"
   ]
  },
  {
   "cell_type": "markdown",
   "metadata": {
    "id": "pZ0GibUg_i14"
   },
   "source": [
    "### Пример использования моделей. Линейная регрессия."
   ]
  },
  {
   "cell_type": "markdown",
   "metadata": {
    "id": "fLWVRlu0UrWJ"
   },
   "source": [
    "Все доступные модели можно посмотреть в [документации](https://docs.rapids.ai/api/cuml/stable/api.html#)."
   ]
  },
  {
   "cell_type": "code",
   "execution_count": 88,
   "metadata": {
    "id": "uH34yuYd_qwe"
   },
   "outputs": [],
   "source": [
    "import cudf\r\n",
    "from cuml import make_regression, train_test_split\r\n",
    "from cuml.linear_model import LinearRegression as cuLinearRegression\r\n",
    "from cuml.metrics.regression import r2_score\r\n",
    "from sklearn.linear_model import LinearRegression as skLinearRegression"
   ]
  },
  {
   "cell_type": "markdown",
   "metadata": {
    "id": "-pn7RizSVDW-"
   },
   "source": [
    "Определим параметры"
   ]
  },
  {
   "cell_type": "code",
   "execution_count": 114,
   "metadata": {
    "id": "DCYjbtJ3UfBz"
   },
   "outputs": [],
   "source": [
    "n_samples = 2**19\r\n",
    "n_features = 399\r\n",
    "\r\n",
    "random_state = 23"
   ]
  },
  {
   "cell_type": "markdown",
   "metadata": {
    "id": "wcuYM3KPVF1A"
   },
   "source": [
    "Сгенерируем данные"
   ]
  },
  {
   "cell_type": "markdown",
   "metadata": {
    "id": "OeYQ_N_7fPK3"
   },
   "source": [
    "Можно воспользоваться готовыми генераторами датасетов из библиотеки cudf. И сгенерированные данные подавать напрямую в модель."
   ]
  },
  {
   "cell_type": "code",
   "execution_count": 90,
   "metadata": {
    "colab": {
     "base_uri": "https://localhost:8080/"
    },
    "id": "GKYPhBiHUjl6",
    "outputId": "4e47368d-81a6-4dfd-d66d-3112944a1187"
   },
   "outputs": [
    {
     "name": "stdout",
     "output_type": "stream",
     "text": [
      "Тип данных после применения make_regression:  <class 'cupy.core.core.ndarray'>\n",
      "CPU times: user 6.11 s, sys: 263 ms, total: 6.38 s\n",
      "Wall time: 6.34 s\n"
     ]
    }
   ],
   "source": [
    "%%time\r\n",
    "X, y = make_regression(n_samples=n_samples, n_features=n_features, random_state=random_state)\r\n",
    "print('Тип данных после применения make_regression: ', type(X))\r\n",
    "\r\n",
    "X_cudf, X_cudf_test, y_cudf, y_cudf_test = train_test_split(X, y, test_size = 0.2, random_state=random_state)"
   ]
  },
  {
   "cell_type": "markdown",
   "metadata": {
    "id": "eeRrs57ogVW_"
   },
   "source": [
    "Посмотрим размеры датасетов и убедимся, что разделение произошло."
   ]
  },
  {
   "cell_type": "code",
   "execution_count": 91,
   "metadata": {
    "colab": {
     "base_uri": "https://localhost:8080/"
    },
    "id": "ytj3vpncfHB2",
    "outputId": "74f5d046-8e84-4c6e-8d81-474edb98f2c9"
   },
   "outputs": [
    {
     "data": {
      "text/plain": [
       "((524288, 399), (419431, 399))"
      ]
     },
     "execution_count": 91,
     "metadata": {},
     "output_type": "execute_result"
    }
   ],
   "source": [
    "X.shape, X_cudf.shape"
   ]
  },
  {
   "cell_type": "markdown",
   "metadata": {
    "id": "RH0SjrUFgZp-"
   },
   "source": [
    "Отправим данные на обучение модели."
   ]
  },
  {
   "cell_type": "code",
   "execution_count": 93,
   "metadata": {
    "colab": {
     "base_uri": "https://localhost:8080/"
    },
    "id": "Xe8ES6cMffpA",
    "outputId": "984c9f88-c166-4b8a-ec6f-467844cf026b"
   },
   "outputs": [
    {
     "name": "stdout",
     "output_type": "stream",
     "text": [
      "CPU times: user 272 ms, sys: 56.6 ms, total: 328 ms\n",
      "Wall time: 326 ms\n"
     ]
    },
    {
     "data": {
      "text/plain": [
       "LinearRegression(algorithm='eig', fit_intercept=True, normalize=False, handle=<cuml.raft.common.handle.Handle object at 0x7f2bccafc110>, verbose=4, output_type='input')"
      ]
     },
     "execution_count": 93,
     "metadata": {},
     "output_type": "execute_result"
    }
   ],
   "source": [
    "%%time\n",
    "cudf_model = cuLinearRegression()\r\n",
    "cudf_model.fit(X_cudf, y_cudf)"
   ]
  },
  {
   "cell_type": "markdown",
   "metadata": {
    "id": "Tsww_r3-freo"
   },
   "source": [
    "Но нам интересно сравнить время обработки данных на CPU и GPU, поэтому вначале сформируем датасет используя библиотеку Sklearn, потом конвертируем в формат `cudf.core.dataframe.DataFrame`."
   ]
  },
  {
   "cell_type": "code",
   "execution_count": null,
   "metadata": {
    "id": "AaAka8gRdpKW"
   },
   "outputs": [],
   "source": [
    "from sklearn.datasets import make_regression\r\n",
    "from sklearn.model_selection import train_test_split\r\n",
    "\r\n",
    "X, y = make_regression(n_samples=n_samples, n_features=n_features, random_state=random_state)\r\n",
    "\r\n",
    "X = pd.DataFrame(X)\r\n",
    "y = pd.DataFrame(y)\r\n",
    "\r\n",
    "X_df_train, X_df_test, y_df_train, y_df_test = train_test_split(X, y, test_size = 0.2, random_state=random_state)"
   ]
  },
  {
   "cell_type": "markdown",
   "metadata": {
    "id": "gNky3JhMgfuE"
   },
   "source": [
    "Теперь форматируем данные в нужный нам формат для вычисления на GPU."
   ]
  },
  {
   "cell_type": "code",
   "execution_count": 95,
   "metadata": {
    "id": "v3REDE17elbj"
   },
   "outputs": [],
   "source": [
    "X_cudf_train = cudf.DataFrame.from_pandas(X_df_train)\r\n",
    "X_cudf_test = cudf.DataFrame.from_pandas(X_df_test)\r\n",
    "y_cudf_train = cudf.DataFrame.from_pandas(y_df_train)\r\n",
    "y_cudf_test = cudf.DataFrame.from_pandas(y_df_test)"
   ]
  },
  {
   "cell_type": "code",
   "execution_count": 96,
   "metadata": {
    "colab": {
     "base_uri": "https://localhost:8080/"
    },
    "id": "wGmlh_xde8cc",
    "outputId": "2736242b-5ad6-4acc-8dd1-37c26e946f2f"
   },
   "outputs": [
    {
     "name": "stdout",
     "output_type": "stream",
     "text": [
      "Тип данных после применения cudf.DataFrame.from_pandas:  <class 'cudf.core.dataframe.DataFrame'>\n"
     ]
    }
   ],
   "source": [
    "print('Тип данных после применения cudf.DataFrame.from_pandas: ', type(X_cudf_train))"
   ]
  },
  {
   "cell_type": "markdown",
   "metadata": {
    "id": "mToN_H1fj-eQ"
   },
   "source": [
    "Тренировка"
   ]
  },
  {
   "cell_type": "code",
   "execution_count": 98,
   "metadata": {
    "colab": {
     "base_uri": "https://localhost:8080/"
    },
    "id": "kIJ2_ILTkNOT",
    "outputId": "937106a8-6a5d-47cc-c49d-f50a88207a1e"
   },
   "outputs": [
    {
     "name": "stdout",
     "output_type": "stream",
     "text": [
      "CPU times: user 15min 38s, sys: 5min 58s, total: 21min 37s\n",
      "Wall time: 31.6 s\n"
     ]
    },
    {
     "data": {
      "text/plain": [
       "LinearRegression()"
      ]
     },
     "execution_count": 98,
     "metadata": {},
     "output_type": "execute_result"
    }
   ],
   "source": [
    "%%time\n",
    "# sklearn\r\n",
    "sklearn_model = skLinearRegression()\r\n",
    "sklearn_model.fit(X_df_train, y_df_train)"
   ]
  },
  {
   "cell_type": "code",
   "execution_count": 99,
   "metadata": {
    "colab": {
     "base_uri": "https://localhost:8080/"
    },
    "id": "W4gRoyzVcUOv",
    "outputId": "4b460e63-1bb0-478f-c311-a3712d2e2955"
   },
   "outputs": [
    {
     "name": "stdout",
     "output_type": "stream",
     "text": [
      "CPU times: user 2.08 s, sys: 179 ms, total: 2.26 s\n",
      "Wall time: 2.26 s\n"
     ]
    },
    {
     "data": {
      "text/plain": [
       "LinearRegression(algorithm='eig', fit_intercept=True, normalize=False, handle=<cuml.raft.common.handle.Handle object at 0x7f2bc40835b0>, verbose=4, output_type='input')"
      ]
     },
     "execution_count": 99,
     "metadata": {},
     "output_type": "execute_result"
    }
   ],
   "source": [
    "%%time\n",
    "# rapids\r\n",
    "cudf_model = cuLinearRegression()\r\n",
    "cudf_model.fit(X_cudf_train, y_cudf_train)"
   ]
  },
  {
   "cell_type": "markdown",
   "metadata": {
    "id": "I1A-AAeXkifs"
   },
   "source": [
    "Оценка"
   ]
  },
  {
   "cell_type": "code",
   "execution_count": 100,
   "metadata": {
    "colab": {
     "base_uri": "https://localhost:8080/"
    },
    "id": "yQmcGnVXknvH",
    "outputId": "6f22a1e2-c493-4401-f892-3844f3bed887"
   },
   "outputs": [
    {
     "name": "stdout",
     "output_type": "stream",
     "text": [
      "CPU times: user 7.45 s, sys: 2.01 s, total: 9.46 s\n",
      "Wall time: 3.69 s\n"
     ]
    },
    {
     "data": {
      "text/plain": [
       "1.0"
      ]
     },
     "execution_count": 100,
     "metadata": {},
     "output_type": "execute_result"
    }
   ],
   "source": [
    "%%time\n",
    "# sklearn\r\n",
    "sk_predict = sklearn_model.predict(X_df_test)\r\n",
    "r2_score(y_df_test, sk_predict)"
   ]
  },
  {
   "cell_type": "code",
   "execution_count": 101,
   "metadata": {
    "colab": {
     "base_uri": "https://localhost:8080/"
    },
    "id": "arvrfpTJUjv0",
    "outputId": "b110a30d-cfeb-4208-81b6-b6c5fbf7a380"
   },
   "outputs": [
    {
     "name": "stdout",
     "output_type": "stream",
     "text": [
      "CPU times: user 574 ms, sys: 337 ms, total: 912 ms\n",
      "Wall time: 861 ms\n"
     ]
    },
    {
     "data": {
      "text/plain": [
       "1.0"
      ]
     },
     "execution_count": 101,
     "metadata": {},
     "output_type": "execute_result"
    }
   ],
   "source": [
    "%%time\n",
    "# rapids\r\n",
    "cudf_predict = cudf_model.predict(X_cudf_test)\r\n",
    "r2_score(y_cudf_test, cudf_predict)"
   ]
  },
  {
   "cell_type": "code",
   "execution_count": 108,
   "metadata": {},
   "outputs": [
    {
     "data": {
      "text/plain": [
       "array([ 143.27340738,   48.26459335, -180.0854436 , ...,  324.38246265,\n",
       "        -85.79407958,   12.81769663])"
      ]
     },
     "execution_count": 108,
     "metadata": {},
     "output_type": "execute_result"
    }
   ],
   "source": [
    "cudf_model.predict(X_df_t)"
   ]
  },
  {
   "cell_type": "markdown",
   "metadata": {
    "id": "RTvZH5y0uP8h"
   },
   "source": [
    "Пример работы библиотеки RAPIDS: https://www.kaggle.com/andradaolteanu/answer-correctness-rapids-xgb-lgbm\r\n",
    "\r\n",
    "Туториалы по использованию библиотеки RAPIDS: https://github.com/rapidsai/noteboo\n",
    "\n",
    "Документация RAPIDS: https://docs.rapids.ai/api/cuml/stable/api.htmlks"
   ]
  },
  {
   "cell_type": "code",
   "execution_count": null,
   "metadata": {},
   "outputs": [],
   "source": []
  }
 ],
 "metadata": {
  "accelerator": "GPU",
  "colab": {
   "collapsed_sections": [],
   "name": "rapids.ipynb",
   "provenance": [],
   "toc_visible": true
  },
  "kernelspec": {
   "display_name": "Python 3",
   "language": "python",
   "name": "python3"
  },
  "language_info": {
   "codemirror_mode": {
    "name": "ipython",
    "version": 3
   },
   "file_extension": ".py",
   "mimetype": "text/x-python",
   "name": "python",
   "nbconvert_exporter": "python",
   "pygments_lexer": "ipython3",
   "version": "3.8.6"
  }
 },
 "nbformat": 4,
 "nbformat_minor": 4
}
